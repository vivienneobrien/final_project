{
  "nbformat": 4,
  "nbformat_minor": 0,
  "metadata": {
    "colab": {
      "name": "basic_regression_models.ipynb",
      "provenance": [],
      "collapsed_sections": [],
      "toc_visible": true
    },
    "kernelspec": {
      "display_name": "Python 3",
      "language": "python",
      "name": "python3"
    },
    "language_info": {
      "codemirror_mode": {
        "name": "ipython",
        "version": 3
      },
      "file_extension": ".py",
      "mimetype": "text/x-python",
      "name": "python",
      "nbconvert_exporter": "python",
      "pygments_lexer": "ipython3",
      "version": "3.6.9"
    }
  },
  "cells": [
    {
      "cell_type": "markdown",
      "metadata": {
        "id": "yC6FT5aHMCaG",
        "colab_type": "text"
      },
      "source": [
        "# Part 1A: Experimentation with Basic Models to Predict Forex Spot Price\n",
        "This code demonstrates how to view time series data with pandas and various methods of sampling plus using this type of sampling on the following basic models:\n",
        "\n",
        "*   Baseline\n",
        "*   Linear Regression\n",
        "*   Ridge Regression\n",
        "*   Gradient Boosting"
      ]
    },
    {
      "cell_type": "markdown",
      "metadata": {
        "colab_type": "text",
        "id": "3Kt64YXS43oZ"
      },
      "source": [
        "# Notes for user:\n",
        "*   This notebook will use the Foreign Exchange Spot Price of a currency pair to predict the Spot Price of that currency pair.\n",
        "\n",
        "*What to ask user before using this application:*\n",
        "*   What currency pair are you interested in? USD/GBP (This layout means that the base currency is USD)\n"
      ]
    },
    {
      "cell_type": "markdown",
      "metadata": {
        "id": "tTCv8Xn8Jg-F",
        "colab_type": "text"
      },
      "source": [
        "# Imports\n"
      ]
    },
    {
      "cell_type": "code",
      "metadata": {
        "colab_type": "code",
        "id": "I5kOTYIa0Y5b",
        "colab": {
          "base_uri": "https://localhost:8080/",
          "height": 297
        },
        "outputId": "cad7d3cc-21b4-45b7-d413-28ff32d66d97"
      },
      "source": [
        "!pip install git+https://github.com/tensorflow/docs\n",
        "\n",
        "import pathlib\n",
        "import numpy as np\n",
        "import pandas as pd\n",
        "import tensorflow as tf\n",
        "from tensorflow import keras\n",
        "from tensorflow.keras import layers\n",
        "print(tf.__version__)\n",
        "import tensorflow_docs as tfdocs\n",
        "import tensorflow_docs.plots\n",
        "import tensorflow_docs.modeling\n",
        "\n",
        "# Modelling\n",
        "from sklearn.linear_model import LinearRegression, Ridge, Lasso\n",
        "from sklearn import preprocessing\n",
        "from sklearn.model_selection import train_test_split\n",
        "from sklearn.ensemble import GradientBoostingRegressor\n",
        "from sklearn.ensemble import RandomForestRegressor\n",
        "\n",
        "# Graphs\n",
        "from datetime import datetime, timedelta\n",
        "from matplotlib import pyplot as plt\n",
        "from matplotlib import dates as mpl_dates\n",
        "plt.style.use('seaborn')\n",
        "from matplotlib import rcParams\n",
        "rcParams['figure.figsize'] = 15,6\n",
        "\n",
        "# Modeling metrics\n",
        "from sklearn import metrics\n",
        "\n"
      ],
      "execution_count": 83,
      "outputs": [
        {
          "output_type": "stream",
          "text": [
            "Collecting git+https://github.com/tensorflow/docs\n",
            "  Cloning https://github.com/tensorflow/docs to /tmp/pip-req-build-iwfhg447\n",
            "  Running command git clone -q https://github.com/tensorflow/docs /tmp/pip-req-build-iwfhg447\n",
            "Requirement already satisfied (use --upgrade to upgrade): tensorflow-docs===0.0.0f517a95ab079b1a994986d1cfe8a85357f6654f3- from git+https://github.com/tensorflow/docs in /usr/local/lib/python3.6/dist-packages\n",
            "Requirement already satisfied: astor in /usr/local/lib/python3.6/dist-packages (from tensorflow-docs===0.0.0f517a95ab079b1a994986d1cfe8a85357f6654f3-) (0.8.1)\n",
            "Requirement already satisfied: absl-py in /usr/local/lib/python3.6/dist-packages (from tensorflow-docs===0.0.0f517a95ab079b1a994986d1cfe8a85357f6654f3-) (0.9.0)\n",
            "Requirement already satisfied: protobuf in /usr/local/lib/python3.6/dist-packages (from tensorflow-docs===0.0.0f517a95ab079b1a994986d1cfe8a85357f6654f3-) (3.12.4)\n",
            "Requirement already satisfied: pyyaml in /usr/local/lib/python3.6/dist-packages (from tensorflow-docs===0.0.0f517a95ab079b1a994986d1cfe8a85357f6654f3-) (3.13)\n",
            "Requirement already satisfied: six in /usr/local/lib/python3.6/dist-packages (from absl-py->tensorflow-docs===0.0.0f517a95ab079b1a994986d1cfe8a85357f6654f3-) (1.15.0)\n",
            "Requirement already satisfied: setuptools in /usr/local/lib/python3.6/dist-packages (from protobuf->tensorflow-docs===0.0.0f517a95ab079b1a994986d1cfe8a85357f6654f3-) (49.2.0)\n",
            "Building wheels for collected packages: tensorflow-docs\n",
            "  Building wheel for tensorflow-docs (setup.py) ... \u001b[?25l\u001b[?25hdone\n",
            "  Created wheel for tensorflow-docs: filename=tensorflow_docs-0.0.0f517a95ab079b1a994986d1cfe8a85357f6654f3_-cp36-none-any.whl size=133174 sha256=bce8e44ca2f76461294c35a0c376e7540cf0980a8166d506f46ec0eea67370fb\n",
            "  Stored in directory: /tmp/pip-ephem-wheel-cache-d3m_zhx2/wheels/eb/1b/35/fce87697be00d2fc63e0b4b395b0d9c7e391a10e98d9a0d97f\n",
            "Successfully built tensorflow-docs\n",
            "2.3.0\n"
          ],
          "name": "stdout"
        }
      ]
    },
    {
      "cell_type": "markdown",
      "metadata": {
        "colab_type": "text",
        "id": "1p1pW4GyMKSo"
      },
      "source": [
        "# Data Collection"
      ]
    },
    {
      "cell_type": "code",
      "metadata": {
        "colab_type": "code",
        "id": "BtxjR9q40f6X",
        "colab": {
          "base_uri": "https://localhost:8080/",
          "height": 191
        },
        "outputId": "29ef7858-e18e-4a24-ff19-e7e6ab7a8172"
      },
      "source": [
        "dataset_data= pd.read_csv('GBP_USD.csv', na_values = \"?\", comment='\\t', skipinitialspace=True)\n",
        "dataset = dataset_data.copy()\n",
        "dataset = dataset.fillna(method='ffill')\n",
        "dataset.head()"
      ],
      "execution_count": 84,
      "outputs": [
        {
          "output_type": "execute_result",
          "data": {
            "text/html": [
              "<div>\n",
              "<style scoped>\n",
              "    .dataframe tbody tr th:only-of-type {\n",
              "        vertical-align: middle;\n",
              "    }\n",
              "\n",
              "    .dataframe tbody tr th {\n",
              "        vertical-align: top;\n",
              "    }\n",
              "\n",
              "    .dataframe thead th {\n",
              "        text-align: right;\n",
              "    }\n",
              "</style>\n",
              "<table border=\"1\" class=\"dataframe\">\n",
              "  <thead>\n",
              "    <tr style=\"text-align: right;\">\n",
              "      <th></th>\n",
              "      <th>Date</th>\n",
              "      <th>Price</th>\n",
              "      <th>Open</th>\n",
              "      <th>High</th>\n",
              "      <th>Low</th>\n",
              "      <th>Change %</th>\n",
              "    </tr>\n",
              "  </thead>\n",
              "  <tbody>\n",
              "    <tr>\n",
              "      <th>0</th>\n",
              "      <td>Jul 31, 2020</td>\n",
              "      <td>1.3090</td>\n",
              "      <td>1.3098</td>\n",
              "      <td>1.3171</td>\n",
              "      <td>1.3069</td>\n",
              "      <td>-0.04%</td>\n",
              "    </tr>\n",
              "    <tr>\n",
              "      <th>1</th>\n",
              "      <td>Jul 30, 2020</td>\n",
              "      <td>1.3095</td>\n",
              "      <td>1.2997</td>\n",
              "      <td>1.3103</td>\n",
              "      <td>1.2944</td>\n",
              "      <td>0.76%</td>\n",
              "    </tr>\n",
              "    <tr>\n",
              "      <th>2</th>\n",
              "      <td>Jul 29, 2020</td>\n",
              "      <td>1.2996</td>\n",
              "      <td>1.2932</td>\n",
              "      <td>1.3013</td>\n",
              "      <td>1.2911</td>\n",
              "      <td>0.49%</td>\n",
              "    </tr>\n",
              "    <tr>\n",
              "      <th>3</th>\n",
              "      <td>Jul 28, 2020</td>\n",
              "      <td>1.2932</td>\n",
              "      <td>1.2882</td>\n",
              "      <td>1.2953</td>\n",
              "      <td>1.2838</td>\n",
              "      <td>0.38%</td>\n",
              "    </tr>\n",
              "    <tr>\n",
              "      <th>4</th>\n",
              "      <td>Jul 27, 2020</td>\n",
              "      <td>1.2882</td>\n",
              "      <td>1.2786</td>\n",
              "      <td>1.2903</td>\n",
              "      <td>1.2780</td>\n",
              "      <td>0.72%</td>\n",
              "    </tr>\n",
              "  </tbody>\n",
              "</table>\n",
              "</div>"
            ],
            "text/plain": [
              "           Date   Price    Open    High     Low Change %\n",
              "0  Jul 31, 2020  1.3090  1.3098  1.3171  1.3069   -0.04%\n",
              "1  Jul 30, 2020  1.3095  1.2997  1.3103  1.2944    0.76%\n",
              "2  Jul 29, 2020  1.2996  1.2932  1.3013  1.2911    0.49%\n",
              "3  Jul 28, 2020  1.2932  1.2882  1.2953  1.2838    0.38%\n",
              "4  Jul 27, 2020  1.2882  1.2786  1.2903  1.2780    0.72%"
            ]
          },
          "metadata": {
            "tags": []
          },
          "execution_count": 84
        }
      ]
    },
    {
      "cell_type": "markdown",
      "metadata": {
        "colab_type": "text",
        "id": "FPIlGi7Y47Um"
      },
      "source": [
        "# Data Preprocessing / Data Cleaning & Collating"
      ]
    },
    {
      "cell_type": "code",
      "metadata": {
        "colab_type": "code",
        "id": "4wgQQegwi5xI",
        "colab": {
          "base_uri": "https://localhost:8080/",
          "height": 390
        },
        "outputId": "3000b25e-e14a-4e44-f2f9-0c5b5fcd58c6"
      },
      "source": [
        "rcParams['figure.figsize'] = 15,6\n",
        "dataset[\"Price\"].plot()"
      ],
      "execution_count": 85,
      "outputs": [
        {
          "output_type": "execute_result",
          "data": {
            "text/plain": [
              "<matplotlib.axes._subplots.AxesSubplot at 0x7f544c73d320>"
            ]
          },
          "metadata": {
            "tags": []
          },
          "execution_count": 85
        },
        {
          "output_type": "display_data",
          "data": {
            "image/png": "[encoded data removed]",
            "text/plain": [
              "<Figure size 1080x432 with 1 Axes>"
            ]
          },
          "metadata": {
            "tags": []
          }
        }
      ]
    },
    {
      "cell_type": "code",
      "metadata": {
        "id": "PVyNkGiqCshG",
        "colab_type": "code",
        "colab": {
          "base_uri": "https://localhost:8080/",
          "height": 33
        },
        "outputId": "00521be8-972a-4543-9b9c-67e1c756896e"
      },
      "source": [
        "# Confirm our merge matches n rows for both dataframes\n",
        "dataset.shape"
      ],
      "execution_count": 86,
      "outputs": [
        {
          "output_type": "execute_result",
          "data": {
            "text/plain": [
              "(214, 6)"
            ]
          },
          "metadata": {
            "tags": []
          },
          "execution_count": 86
        }
      ]
    },
    {
      "cell_type": "code",
      "metadata": {
        "id": "3csdsnwZM-Ce",
        "colab_type": "code",
        "colab": {
          "base_uri": "https://localhost:8080/",
          "height": 191
        },
        "outputId": "d5dabf78-390c-44ec-810b-0e418e29c32a"
      },
      "source": [
        "dataset = pd.DataFrame(dataset, columns = ['Date', 'Price']) \n",
        "dataset.head()"
      ],
      "execution_count": 87,
      "outputs": [
        {
          "output_type": "execute_result",
          "data": {
            "text/html": [
              "<div>\n",
              "<style scoped>\n",
              "    .dataframe tbody tr th:only-of-type {\n",
              "        vertical-align: middle;\n",
              "    }\n",
              "\n",
              "    .dataframe tbody tr th {\n",
              "        vertical-align: top;\n",
              "    }\n",
              "\n",
              "    .dataframe thead th {\n",
              "        text-align: right;\n",
              "    }\n",
              "</style>\n",
              "<table border=\"1\" class=\"dataframe\">\n",
              "  <thead>\n",
              "    <tr style=\"text-align: right;\">\n",
              "      <th></th>\n",
              "      <th>Date</th>\n",
              "      <th>Price</th>\n",
              "    </tr>\n",
              "  </thead>\n",
              "  <tbody>\n",
              "    <tr>\n",
              "      <th>0</th>\n",
              "      <td>Jul 31, 2020</td>\n",
              "      <td>1.3090</td>\n",
              "    </tr>\n",
              "    <tr>\n",
              "      <th>1</th>\n",
              "      <td>Jul 30, 2020</td>\n",
              "      <td>1.3095</td>\n",
              "    </tr>\n",
              "    <tr>\n",
              "      <th>2</th>\n",
              "      <td>Jul 29, 2020</td>\n",
              "      <td>1.2996</td>\n",
              "    </tr>\n",
              "    <tr>\n",
              "      <th>3</th>\n",
              "      <td>Jul 28, 2020</td>\n",
              "      <td>1.2932</td>\n",
              "    </tr>\n",
              "    <tr>\n",
              "      <th>4</th>\n",
              "      <td>Jul 27, 2020</td>\n",
              "      <td>1.2882</td>\n",
              "    </tr>\n",
              "  </tbody>\n",
              "</table>\n",
              "</div>"
            ],
            "text/plain": [
              "           Date   Price\n",
              "0  Jul 31, 2020  1.3090\n",
              "1  Jul 30, 2020  1.3095\n",
              "2  Jul 29, 2020  1.2996\n",
              "3  Jul 28, 2020  1.2932\n",
              "4  Jul 27, 2020  1.2882"
            ]
          },
          "metadata": {
            "tags": []
          },
          "execution_count": 87
        }
      ]
    },
    {
      "cell_type": "markdown",
      "metadata": {
        "colab_type": "text",
        "id": "gX_Z2YefK_b3"
      },
      "source": [
        "# Split train & test set\n"
      ]
    },
    {
      "cell_type": "code",
      "metadata": {
        "colab_type": "code",
        "id": "leiEwMP21QLr",
        "colab": {}
      },
      "source": [
        "# Look back leading up to the 7 days before the day we care about\n",
        "\n",
        "# X variables/ features that we care about\n",
        "# Y variable/ output/ what we want to predict\n",
        "look_back=7\n",
        "num_samples=len(dataset)-look_back\n",
        "\n",
        "# Get indices of access for the data\n",
        "indices=np.arange(num_samples).astype(np.int)[:,None]+np.arange(look_back+1).astype(np.int)\n",
        "\n",
        "data = dataset[\"Price\"].values[indices] # Create the 2D matrix of training samples\n",
        "x = data[:,:-1] # Each row represents 7 days in the past\n",
        "y = data[:,-1] # Each output value represents the 13rd day"
      ],
      "execution_count": 88,
      "outputs": []
    },
    {
      "cell_type": "code",
      "metadata": {
        "colab_type": "code",
        "id": "i4ZlMrW05oMb",
        "colab": {
          "base_uri": "https://localhost:8080/",
          "height": 131
        },
        "outputId": "7323fc93-d0ac-4161-a2d0-634143152072"
      },
      "source": [
        "# not data frame anymore now it is a list\n",
        "x"
      ],
      "execution_count": 89,
      "outputs": [
        {
          "output_type": "execute_result",
          "data": {
            "text/plain": [
              "array([[1.309 , 1.3095, 1.2996, ..., 1.2882, 1.2882, 1.2882],\n",
              "       [1.3095, 1.2996, 1.2932, ..., 1.2882, 1.2882, 1.2791],\n",
              "       [1.2996, 1.2932, 1.2882, ..., 1.2882, 1.2791, 1.2742],\n",
              "       ...,\n",
              "       [1.3067, 1.3098, 1.3125, ..., 1.3169, 1.3169, 1.3088],\n",
              "       [1.3098, 1.3125, 1.3169, ..., 1.3169, 1.3088, 1.3146],\n",
              "       [1.3125, 1.3169, 1.3169, ..., 1.3088, 1.3146, 1.3255]])"
            ]
          },
          "metadata": {
            "tags": []
          },
          "execution_count": 89
        }
      ]
    },
    {
      "cell_type": "code",
      "metadata": {
        "colab_type": "code",
        "id": "ELSLqRer6OhX",
        "colab": {
          "base_uri": "https://localhost:8080/",
          "height": 440
        },
        "outputId": "8b66aea3-4714-45cc-a58f-b43ad9fb9e22"
      },
      "source": [
        "y"
      ],
      "execution_count": 90,
      "outputs": [
        {
          "output_type": "execute_result",
          "data": {
            "text/plain": [
              "array([1.2791, 1.2742, 1.2734, 1.2731, 1.2662, 1.2662, 1.2662, 1.2567,\n",
              "       1.255 , 1.2582, 1.2551, 1.2554, 1.2554, 1.2554, 1.2622, 1.2607,\n",
              "       1.2611, 1.2542, 1.2493, 1.2493, 1.2493, 1.2485, 1.2467, 1.2474,\n",
              "       1.2401, 1.2299, 1.2299, 1.2299, 1.2335, 1.2418, 1.242 , 1.252 ,\n",
              "       1.2463, 1.2463, 1.2463, 1.2358, 1.2426, 1.2557, 1.2577, 1.2604,\n",
              "       1.2604, 1.2604, 1.2542, 1.2602, 1.2747, 1.2731, 1.2723, 1.2723,\n",
              "       1.2723, 1.2665, 1.2595, 1.2574, 1.255 , 1.2494, 1.2494, 1.2494,\n",
              "       1.2346, 1.232 , 1.2252, 1.2333, 1.219 , 1.219 , 1.219 , 1.2166,\n",
              "       1.2224, 1.2241, 1.2253, 1.2193, 1.2193, 1.2193, 1.2106, 1.2228,\n",
              "       1.223 , 1.2261, 1.2336, 1.2336, 1.2336, 1.2409, 1.2363, 1.2343,\n",
              "       1.2436, 1.2444, 1.2444, 1.2444, 1.2504, 1.2594, 1.2468, 1.2425,\n",
              "       1.2429, 1.2429, 1.2429, 1.2369, 1.2344, 1.2334, 1.2294, 1.2437,\n",
              "       1.2437, 1.2437, 1.2501, 1.2457, 1.2516, 1.2624, 1.2512, 1.2512,\n",
              "       1.2512, 1.2455, 1.2457, 1.2387, 1.2339, 1.223 , 1.223 , 1.223 ,\n",
              "       1.2262, 1.2394, 1.2378, 1.242 , 1.2418, 1.2418, 1.2418, 1.2457,\n",
              "       1.2203, 1.1887, 1.1759, 1.155 , 1.155 , 1.155 , 1.1643, 1.1487,\n",
              "       1.1608, 1.2052, 1.2268, 1.2268, 1.2268, 1.2277, 1.2573, 1.2822,\n",
              "       1.2908, 1.3133, 1.3133, 1.3133, 1.305 , 1.2955, 1.2872, 1.2812,\n",
              "       1.2752, 1.2752, 1.2752, 1.2821, 1.2886, 1.2905, 1.3006, 1.2929,\n",
              "       1.2929, 1.2929, 1.2971, 1.2881, 1.2921, 1.2999, 1.3009, 1.3009,\n",
              "       1.3009, 1.3047, 1.3047, 1.2961, 1.2953, 1.2915, 1.2915, 1.2915,\n",
              "       1.2893, 1.293 , 1.3002, 1.3031, 1.2995, 1.2995, 1.2995, 1.3201,\n",
              "       1.3095, 1.3021, 1.3028, 1.3055, 1.3055, 1.3055, 1.3077, 1.3123,\n",
              "       1.3142, 1.3051, 1.3011, 1.3011, 1.3011, 1.301 , 1.3079, 1.3038,\n",
              "       1.3018, 1.299 , 1.299 , 1.299 , 1.3061, 1.3067, 1.3098, 1.3125,\n",
              "       1.3169, 1.3169, 1.3169, 1.3088, 1.3146, 1.3255, 1.3261])"
            ]
          },
          "metadata": {
            "tags": []
          },
          "execution_count": 90
        }
      ]
    },
    {
      "cell_type": "markdown",
      "metadata": {
        "id": "__kugq_dN25E",
        "colab_type": "text"
      },
      "source": [
        "### Random State to Split"
      ]
    },
    {
      "cell_type": "code",
      "metadata": {
        "id": "O_jOBZFBCshX",
        "colab_type": "code",
        "colab": {}
      },
      "source": [
        "# Uncomment if wish to use this method instead\n",
        "# https://scikit-learn.org/stable/modules/generated/sklearn.model_selection.train_test_split.html\n",
        "# random_state helps maintain reproducibility\n",
        "# data is also shuffled and split in a stratified fashion with class labels, helps with more accurate metrics later on\n",
        "# x_train, x_test, y_train, y_test = train_test_split(x, y, test_size=0.20, random_state=42)"
      ],
      "execution_count": 91,
      "outputs": []
    },
    {
      "cell_type": "markdown",
      "metadata": {
        "id": "YQDTAG07N-z9",
        "colab_type": "text"
      },
      "source": [
        "### Manual Way to Split – Better"
      ]
    },
    {
      "cell_type": "code",
      "metadata": {
        "colab_type": "code",
        "id": "1HTBkWlE1yp5",
        "colab": {}
      },
      "source": [
        "# 80% of my data\n",
        "split_fraction=0.8\n",
        "ind_split=int(split_fraction*num_samples)"
      ],
      "execution_count": 92,
      "outputs": []
    },
    {
      "cell_type": "code",
      "metadata": {
        "colab_type": "code",
        "id": "-6sVH_Bx1zw3",
        "colab": {}
      },
      "source": [
        "# x features and y features\n",
        "# test and train\n",
        "x_train = x[:ind_split]\n",
        "y_train = y[:ind_split]\n",
        "x_test = x[ind_split:]\n",
        "y_test = y[ind_split:]"
      ],
      "execution_count": 93,
      "outputs": []
    },
    {
      "cell_type": "code",
      "metadata": {
        "colab_type": "code",
        "id": "dPXizeXk11xY",
        "colab": {
          "base_uri": "https://localhost:8080/",
          "height": 33
        },
        "outputId": "66280881-8676-4d5f-a495-9ad42728fa66"
      },
      "source": [
        "x_train.shape, x_test.shape"
      ],
      "execution_count": 94,
      "outputs": [
        {
          "output_type": "execute_result",
          "data": {
            "text/plain": [
              "((165, 7), (42, 7))"
            ]
          },
          "metadata": {
            "tags": []
          },
          "execution_count": 94
        }
      ]
    },
    {
      "cell_type": "code",
      "metadata": {
        "colab_type": "code",
        "id": "r2J7iiG06vyF",
        "colab": {
          "base_uri": "https://localhost:8080/",
          "height": 33
        },
        "outputId": "199e31a9-fc55-470b-a953-2d9a70a235a7"
      },
      "source": [
        "y_train.shape, y_test.shape"
      ],
      "execution_count": 95,
      "outputs": [
        {
          "output_type": "execute_result",
          "data": {
            "text/plain": [
              "((165,), (42,))"
            ]
          },
          "metadata": {
            "tags": []
          },
          "execution_count": 95
        }
      ]
    },
    {
      "cell_type": "markdown",
      "metadata": {
        "colab_type": "text",
        "id": "KRk3b4DV13r1"
      },
      "source": [
        "# Modelling\n",
        "\n",
        "*   Helper function to output the performance of the particular \n",
        "*   It helps streamline the evaluation part of this. \n",
        "*   Goal is to evaluate several different algorithms, so we start off on the most basic type of prediction that can make the most simple type of algorithm and then we will work out way up in complexity and gauge the performance uptake as you move up the spectrum of complexity.\n",
        "*   Reason for doing this: This is a cost of complexity\n",
        "*   In terms of the robustness of that particular model in real world environment and in terms of the interpretability in understanding what is driving the output of that particular model.\n",
        "*   According to readings, algorithms with higher complexity generally get better performance as you are training however the best model in training is not always going to be the best model in production/ real world environment. Therefore it is important to understand these trade-offs.\n",
        "*   If you want to do gradient boosting you should at least be rewarded for that additional complexity you are taking on."
      ]
    },
    {
      "cell_type": "code",
      "metadata": {
        "colab_type": "code",
        "id": "PI4q811O16Ky",
        "colab": {}
      },
      "source": [
        "# Evaluate the performance of the models we are using\n",
        "# Taking the predictions from a particular model run and its evaluating it against the y test score.\n",
        "# Take the mod_pred and evaluate it against the y_test\n",
        "\n",
        "def get_performance (model_pred):\n",
        "  #Function returns standard performance metrics\n",
        "  print('Mean Absolute Error:', metrics.mean_absolute_error(y_test, model_pred).round(4))  \n",
        "  print('Mean Squared Error:', metrics.mean_squared_error(y_test, model_pred).round(4))  \n",
        "  print('Root Mean Squared Error:', np.sqrt(metrics.mean_squared_error(y_test, model_pred)).round(4))\n",
        "  \n",
        "  \n",
        "# This method will plot out model and show us the accurarcy (predictions versus the actuals) \n",
        "def get_plot (model_pred):\n",
        "  plt.scatter(model_pred, y_test, color=\"gray\")\n",
        "  plt.plot(y_test, y_test, color='red', linewidth=2)"
      ],
      "execution_count": 96,
      "outputs": []
    },
    {
      "cell_type": "markdown",
      "metadata": {
        "colab_type": "text",
        "id": "FYoFtFd_2AfY"
      },
      "source": [
        "### Method #1 Baseline\n",
        "\n",
        "\n",
        "*   We begin with the model basic algorithm\n",
        "*   Rule of algorithm: Let your prediction be the most recent observation\n",
        "*   Example, if we are taking in 12 features and we want to predict 13, we look at the one day previous which is day 12. Idea: \"The prediction for tomorrow is going to be the most recent close today\".\n",
        "*   We run the preformance, we hope that any other model would be better than this however it is often that a simple rule is all you need instead of other algorithms of higher complexity\n",
        "*    We then plot the actuals versus predicted\n",
        "*    The red line is out perfect prediction\n",
        "*    A good model is going to output plots as close to the line as possible. If the plots fell on that line then you would be predicting with a high level of accuracy."
      ]
    },
    {
      "cell_type": "code",
      "metadata": {
        "colab_type": "code",
        "id": "sLHsHgTQ2DGn",
        "colab": {}
      },
      "source": [
        "# let your prediction be the most recent observation\n",
        "# looking at the one day previous \n",
        "# np.roll-> similar to shift for a dataframe\n",
        "y_pred_lag=np.roll(y_test,1)"
      ],
      "execution_count": 97,
      "outputs": []
    },
    {
      "cell_type": "code",
      "metadata": {
        "colab_type": "code",
        "id": "4Ir4-LloDb4P",
        "colab": {}
      },
      "source": [
        "# np.roll(y,1)"
      ],
      "execution_count": 98,
      "outputs": []
    },
    {
      "cell_type": "code",
      "metadata": {
        "colab_type": "code",
        "id": "_r_TITKw2Edb",
        "colab": {
          "base_uri": "https://localhost:8080/",
          "height": 66
        },
        "outputId": "5d7857f9-9073-48a3-c7a3-f7e4bdcc632f"
      },
      "source": [
        "# This is the performance reltive to this very simlpe approach\n",
        "# Sometimes a simple rule will suffice and this is all you need\n",
        "get_performance(y_pred_lag)"
      ],
      "execution_count": 99,
      "outputs": [
        {
          "output_type": "stream",
          "text": [
            "Mean Absolute Error: 0.0042\n",
            "Mean Squared Error: 0.0001\n",
            "Root Mean Squared Error: 0.0076\n"
          ],
          "name": "stdout"
        }
      ]
    },
    {
      "cell_type": "code",
      "metadata": {
        "colab_type": "code",
        "id": "2N_n_4PL2Gbo",
        "colab": {
          "base_uri": "https://localhost:8080/",
          "height": 418
        },
        "outputId": "e40f1d99-807f-4273-916c-994c3886aaf3"
      },
      "source": [
        "# Why cant I print dates on the bottom of my graph?\n",
        "# Error 3: your graph is using only the y values of USD/GBP price to Oil Prices, if you want dates you need to include these\n",
        "\n",
        "rcParams['figure.figsize'] = 15,6\n",
        "get_plot(y_pred_lag)\n",
        "plt.title('Baseline Model of USD/GBP & US Gas Prices')\n",
        "plt.xlabel('Date')\n",
        "plt.ylabel('Price of USD/GBP & Gas Prices')\n",
        "# plt.plot_date(dates,y_pred_gb, linestyle ='solid')"
      ],
      "execution_count": 100,
      "outputs": [
        {
          "output_type": "execute_result",
          "data": {
            "text/plain": [
              "Text(0, 0.5, 'Price of USD/GBP & Gas Prices')"
            ]
          },
          "metadata": {
            "tags": []
          },
          "execution_count": 100
        },
        {
          "output_type": "display_data",
          "data": {
            "image/png": "[encoded data removed]",
            "text/plain": [
              "<Figure size 1080x432 with 1 Axes>"
            ]
          },
          "metadata": {
            "tags": []
          }
        }
      ]
    },
    {
      "cell_type": "markdown",
      "metadata": {
        "colab_type": "text",
        "id": "RLVFl_uE2HOy"
      },
      "source": [
        "### Method #2 Linear Regression"
      ]
    },
    {
      "cell_type": "code",
      "metadata": {
        "colab_type": "code",
        "id": "3Jh_KT032JJF",
        "colab": {
          "base_uri": "https://localhost:8080/",
          "height": 33
        },
        "outputId": "a6ac824f-db77-4600-b2db-26067f9c2d24"
      },
      "source": [
        "# assigning the linear regression model\n",
        "model_lr=LinearRegression()\n",
        "# fitting the linear regression model to xtrain, xytrain\n",
        "model_lr.fit(x_train, y_train)"
      ],
      "execution_count": 101,
      "outputs": [
        {
          "output_type": "execute_result",
          "data": {
            "text/plain": [
              "LinearRegression(copy_X=True, fit_intercept=True, n_jobs=None, normalize=False)"
            ]
          },
          "metadata": {
            "tags": []
          },
          "execution_count": 101
        }
      ]
    },
    {
      "cell_type": "code",
      "metadata": {
        "colab_type": "code",
        "id": "p6wX8YGA_Bt0",
        "colab": {}
      },
      "source": [
        "#help\n",
        "# ?model_lr.fit()"
      ],
      "execution_count": 102,
      "outputs": []
    },
    {
      "cell_type": "code",
      "metadata": {
        "colab_type": "code",
        "id": "55kM7Tmt2Kxx",
        "colab": {}
      },
      "source": [
        "# x variable and predict the y \n",
        "y_pred_lr=model_lr.predict(x_test)"
      ],
      "execution_count": 103,
      "outputs": []
    },
    {
      "cell_type": "code",
      "metadata": {
        "colab_type": "code",
        "id": "q7RBFFWg2MNM",
        "colab": {
          "base_uri": "https://localhost:8080/",
          "height": 66
        },
        "outputId": "9e7ed25f-cf83-405f-9eb2-9bc45cdf63a7"
      },
      "source": [
        "# check how they compare to the baseline\n",
        "# not a big difference at all only in root mean\n",
        "# not great\n",
        "get_performance(y_pred_lr)"
      ],
      "execution_count": 104,
      "outputs": [
        {
          "output_type": "stream",
          "text": [
            "Mean Absolute Error: 0.0055\n",
            "Mean Squared Error: 0.0001\n",
            "Root Mean Squared Error: 0.0071\n"
          ],
          "name": "stdout"
        }
      ]
    },
    {
      "cell_type": "code",
      "metadata": {
        "colab_type": "code",
        "id": "1GCELg5O2NR4",
        "colab": {
          "base_uri": "https://localhost:8080/",
          "height": 418
        },
        "outputId": "79c539f1-e6ef-488c-e9bb-6a79a6e28cb9"
      },
      "source": [
        "# Why cant I print dates on the bottom of my graph?\n",
        "rcParams['figure.figsize'] = 15,6\n",
        "get_plot(y_pred_lr)\n",
        "# plt.plot(y_pred_gb)\n",
        "plt.title('Linear Regression Model USD/GBP & US Gas Prices')\n",
        "plt.xlabel('Date')\n",
        "plt.ylabel('Price')\n",
        "# dates = np.array(dateFormatting['Date'])\n",
        "# plt.plot_date(dates,y_pred_gb, linestyle ='solid')"
      ],
      "execution_count": 105,
      "outputs": [
        {
          "output_type": "execute_result",
          "data": {
            "text/plain": [
              "Text(0, 0.5, 'Price')"
            ]
          },
          "metadata": {
            "tags": []
          },
          "execution_count": 105
        },
        {
          "output_type": "display_data",
          "data": {
            "image/png": "[encoded data removed]",
            "text/plain": [
              "<Figure size 1080x432 with 1 Axes>"
            ]
          },
          "metadata": {
            "tags": []
          }
        }
      ]
    },
    {
      "cell_type": "code",
      "metadata": {
        "colab_type": "code",
        "id": "RuzwJ5xc2QPd",
        "colab": {
          "base_uri": "https://localhost:8080/",
          "height": 66
        },
        "outputId": "55b7f1cc-fe2f-4de9-ea4e-2738e9316f8d"
      },
      "source": [
        "get_performance(y_pred_lr)"
      ],
      "execution_count": 106,
      "outputs": [
        {
          "output_type": "stream",
          "text": [
            "Mean Absolute Error: 0.0055\n",
            "Mean Squared Error: 0.0001\n",
            "Root Mean Squared Error: 0.0071\n"
          ],
          "name": "stdout"
        }
      ]
    },
    {
      "cell_type": "code",
      "metadata": {
        "colab_type": "code",
        "id": "W3Vait_pBccT",
        "colab": {
          "base_uri": "https://localhost:8080/",
          "height": 50
        },
        "outputId": "37cc79ee-6249-4934-ce1c-9d2174c822c1"
      },
      "source": [
        "# this should list our 12 co-efficients for all of our variables\n",
        "# most recent day: 1.18024445\n",
        "# as you can see other values are - and small, this is why the baseline \n",
        "# is so good because the previous day is the msot important value\n",
        "# change is marginal\n",
        "# only focus on the the last one\n",
        "# problem: only print the last output\n",
        "model_lr.coef_"
      ],
      "execution_count": 107,
      "outputs": [
        {
          "output_type": "execute_result",
          "data": {
            "text/plain": [
              "array([ 0.03453129, -0.18003452,  0.17816105, -0.18252879,  0.12889993,\n",
              "       -0.31583507,  1.26848815])"
            ]
          },
          "metadata": {
            "tags": []
          },
          "execution_count": 107
        }
      ]
    },
    {
      "cell_type": "markdown",
      "metadata": {
        "colab_type": "text",
        "id": "Tm4d5DFB2OUa"
      },
      "source": [
        "\n",
        "\n",
        "```\n",
        "# This is formatted as code\n",
        "```\n",
        "### Method #4 Ridge Regression"
      ]
    },
    {
      "cell_type": "code",
      "metadata": {
        "colab_type": "code",
        "id": "hmgrOw2a2T7s",
        "colab": {}
      },
      "source": [
        "model_ridge = Ridge()\n",
        "model_ridge.fit(x_train, y_train)\n",
        "\n",
        "#generate predictions\n",
        "y_pred_ridge=model_ridge.predict(x_test)"
      ],
      "execution_count": 108,
      "outputs": []
    },
    {
      "cell_type": "code",
      "metadata": {
        "colab_type": "code",
        "id": "PJkjfnWs2VUR",
        "colab": {
          "base_uri": "https://localhost:8080/",
          "height": 66
        },
        "outputId": "1a1525b5-a2fd-446d-bae0-a71daa7e21d3"
      },
      "source": [
        "# look at difference in baseline and ridge regression\n",
        "# trying to figure out which one of the features is the most prominent\n",
        "get_performance(y_pred_ridge)"
      ],
      "execution_count": 109,
      "outputs": [
        {
          "output_type": "stream",
          "text": [
            "Mean Absolute Error: 0.0333\n",
            "Mean Squared Error: 0.0012\n",
            "Root Mean Squared Error: 0.0341\n"
          ],
          "name": "stdout"
        }
      ]
    },
    {
      "cell_type": "code",
      "metadata": {
        "colab_type": "code",
        "id": "rrRlsFSv2Wl3",
        "colab": {
          "base_uri": "https://localhost:8080/",
          "height": 418
        },
        "outputId": "fa4db02b-723a-4b62-a719-b1018c0054f0"
      },
      "source": [
        "# Why cant I print dates on the bottom of my graph?\n",
        "rcParams['figure.figsize'] = 15,6\n",
        "get_plot(y_pred_ridge)\n",
        "# plt.plot(y_pred_gb)\n",
        "plt.title('Ridge Regression Model of USD/GBP & US Gas Prices')\n",
        "plt.xlabel('Date')\n",
        "plt.ylabel('Price')\n",
        "# dates = np.array(dateFormatting['Date'])\n",
        "# plt.plot_date(dates,y_pred_gb, linestyle ='solid')"
      ],
      "execution_count": 110,
      "outputs": [
        {
          "output_type": "execute_result",
          "data": {
            "text/plain": [
              "Text(0, 0.5, 'Price')"
            ]
          },
          "metadata": {
            "tags": []
          },
          "execution_count": 110
        },
        {
          "output_type": "display_data",
          "data": {
            "image/png": "[encoded data removed]",
            "text/plain": [
              "<Figure size 1080x432 with 1 Axes>"
            ]
          },
          "metadata": {
            "tags": []
          }
        }
      ]
    },
    {
      "cell_type": "code",
      "metadata": {
        "colab_type": "code",
        "id": "xUa-kWfwAo3E",
        "colab": {
          "base_uri": "https://localhost:8080/",
          "height": 50
        },
        "outputId": "62fec1be-f5d2-4da3-ad8b-26ac077bfdbc"
      },
      "source": [
        "# this should list our 12 co-efficients for all of our variables\n",
        "# most recent day: 0.09432427\n",
        "# change is marginal\n",
        "# only focus on the the last one\n",
        "# problem: only print the last output\n",
        "# limit the number of days your looking back\n",
        "# what is the trend: higher/lower?\n",
        "# keep same features but apply different features\n",
        "# k folds cross validation? in terms of splitting the data\n",
        "model_ridge.coef_"
      ],
      "execution_count": 111,
      "outputs": [
        {
          "output_type": "execute_result",
          "data": {
            "text/plain": [
              "array([0.02628969, 0.03578102, 0.04660197, 0.05788469, 0.07053212,\n",
              "       0.08332592, 0.0961733 ])"
            ]
          },
          "metadata": {
            "tags": []
          },
          "execution_count": 111
        }
      ]
    },
    {
      "cell_type": "markdown",
      "metadata": {
        "id": "4gO0ToTBI9Hz",
        "colab_type": "text"
      },
      "source": [
        "### Method #4 Lasso Regression"
      ]
    },
    {
      "cell_type": "code",
      "metadata": {
        "id": "S5wZwrQTI1h8",
        "colab_type": "code",
        "colab": {}
      },
      "source": [
        "model_lasso = Lasso()\n",
        "model_lasso.fit(x_train, y_train)\n",
        "\n",
        "#generate predictions\n",
        "y_pred_lasso=model_lasso.predict(x_test)"
      ],
      "execution_count": 112,
      "outputs": []
    },
    {
      "cell_type": "code",
      "metadata": {
        "id": "T-4wXzxAJPmw",
        "colab_type": "code",
        "colab": {
          "base_uri": "https://localhost:8080/",
          "height": 66
        },
        "outputId": "ebe53bd3-5080-4f15-b551-375061fa8347"
      },
      "source": [
        "get_performance(y_pred_lasso)"
      ],
      "execution_count": 113,
      "outputs": [
        {
          "output_type": "stream",
          "text": [
            "Mean Absolute Error: 0.0561\n",
            "Mean Squared Error: 0.0032\n",
            "Root Mean Squared Error: 0.0568\n"
          ],
          "name": "stdout"
        }
      ]
    },
    {
      "cell_type": "code",
      "metadata": {
        "id": "H0R493aCJad0",
        "colab_type": "code",
        "colab": {
          "base_uri": "https://localhost:8080/",
          "height": 418
        },
        "outputId": "714dab28-79dc-4ce1-92fa-4c5f8c85c9aa"
      },
      "source": [
        "rcParams['figure.figsize'] = 15,6\n",
        "get_plot(y_pred_lasso)\n",
        "plt.title('Lasso Regression Model of USD/GBP & US Gas Prices')\n",
        "plt.xlabel('Date')\n",
        "plt.ylabel('Price')"
      ],
      "execution_count": 114,
      "outputs": [
        {
          "output_type": "execute_result",
          "data": {
            "text/plain": [
              "Text(0, 0.5, 'Price')"
            ]
          },
          "metadata": {
            "tags": []
          },
          "execution_count": 114
        },
        {
          "output_type": "display_data",
          "data": {
            "image/png": "[encoded data removed]",
            "text/plain": [
              "<Figure size 1080x432 with 1 Axes>"
            ]
          },
          "metadata": {
            "tags": []
          }
        }
      ]
    },
    {
      "cell_type": "code",
      "metadata": {
        "id": "5YAFuN0WJfzn",
        "colab_type": "code",
        "colab": {
          "base_uri": "https://localhost:8080/",
          "height": 33
        },
        "outputId": "b859946b-daa7-4199-c8e5-3b5f0532ce40"
      },
      "source": [
        "model_lasso.coef_"
      ],
      "execution_count": 115,
      "outputs": [
        {
          "output_type": "execute_result",
          "data": {
            "text/plain": [
              "array([0., 0., 0., 0., 0., 0., 0.])"
            ]
          },
          "metadata": {
            "tags": []
          },
          "execution_count": 115
        }
      ]
    },
    {
      "cell_type": "markdown",
      "metadata": {
        "id": "4a1PJV_iJlzs",
        "colab_type": "text"
      },
      "source": [
        "### Method #4 Random Forest"
      ]
    },
    {
      "cell_type": "code",
      "metadata": {
        "id": "Rgx2iFK-Jpzz",
        "colab_type": "code",
        "colab": {
          "base_uri": "https://localhost:8080/",
          "height": 131
        },
        "outputId": "906bb1a7-7c29-481b-f8c0-fdac1de370f2"
      },
      "source": [
        "#model_random_forest = RandomForestRegressor(max_depth=2, random_state=0)\n",
        "model_random_forest = RandomForestRegressor()\n",
        "model_random_forest.fit(x_train, y_train)"
      ],
      "execution_count": 116,
      "outputs": [
        {
          "output_type": "execute_result",
          "data": {
            "text/plain": [
              "RandomForestRegressor(bootstrap=True, ccp_alpha=0.0, criterion='mse',\n",
              "                      max_depth=None, max_features='auto', max_leaf_nodes=None,\n",
              "                      max_samples=None, min_impurity_decrease=0.0,\n",
              "                      min_impurity_split=None, min_samples_leaf=1,\n",
              "                      min_samples_split=2, min_weight_fraction_leaf=0.0,\n",
              "                      n_estimators=100, n_jobs=None, oob_score=False,\n",
              "                      random_state=None, verbose=0, warm_start=False)"
            ]
          },
          "metadata": {
            "tags": []
          },
          "execution_count": 116
        }
      ]
    },
    {
      "cell_type": "code",
      "metadata": {
        "id": "WmwfAr0eJ6w8",
        "colab_type": "code",
        "colab": {}
      },
      "source": [
        "y_pred_random_forest=model_random_forest.predict(x_test)"
      ],
      "execution_count": 117,
      "outputs": []
    },
    {
      "cell_type": "code",
      "metadata": {
        "id": "r_33aA0CJvMT",
        "colab_type": "code",
        "colab": {
          "base_uri": "https://localhost:8080/",
          "height": 66
        },
        "outputId": "c1144461-43c2-41b7-b989-5ffb3fd8ce44"
      },
      "source": [
        "get_performance(y_pred_random_forest)"
      ],
      "execution_count": 118,
      "outputs": [
        {
          "output_type": "stream",
          "text": [
            "Mean Absolute Error: 0.0088\n",
            "Mean Squared Error: 0.0001\n",
            "Root Mean Squared Error: 0.0113\n"
          ],
          "name": "stdout"
        }
      ]
    },
    {
      "cell_type": "code",
      "metadata": {
        "id": "ujkomo1IJ4ve",
        "colab_type": "code",
        "colab": {
          "base_uri": "https://localhost:8080/",
          "height": 418
        },
        "outputId": "43df03c6-42a2-49ed-9ada-f70e8046edc0"
      },
      "source": [
        "rcParams['figure.figsize'] = 15,6\n",
        "get_plot(y_pred_random_forest)\n",
        "plt.title('Random Forest Model of USD/GBP & US Gas Prices')\n",
        "plt.xlabel('Date')\n",
        "plt.ylabel('Price')"
      ],
      "execution_count": 119,
      "outputs": [
        {
          "output_type": "execute_result",
          "data": {
            "text/plain": [
              "Text(0, 0.5, 'Price')"
            ]
          },
          "metadata": {
            "tags": []
          },
          "execution_count": 119
        },
        {
          "output_type": "display_data",
          "data": {
            "image/png": "[encoded data removed]",
            "text/plain": [
              "<Figure size 1080x432 with 1 Axes>"
            ]
          },
          "metadata": {
            "tags": []
          }
        }
      ]
    },
    {
      "cell_type": "markdown",
      "metadata": {
        "colab_type": "text",
        "id": "Z0m3Q47Y2Y9t"
      },
      "source": [
        "### Method #5 Gradient Boosting Trees\n",
        "\n",
        "\n",
        "*   Tree shape not linear. Known for higher performance but more complex.\n",
        "*   Called a boosting/ sequential tree because the base model, we are adding decision trees sequentially. We are boosting on the base model sequentially. \n",
        "*   Outline of Gradient Boosting:\n",
        "\n",
        "1.   Step 1. Y hat: Bare Model. Get predictions. Computing the average values.\n",
        "2.   Step 2. R1(MSE): Performance comparison against MSE etc.\n",
        "3.   Step 3. R2(DT1): Construct decision tree which takes in fuel price, result of the MSE as a feature. We then pass through our features again to our tree instead of the MSE. \n",
        "4.   Prediction - DT1. If too close this is wrong as we should have a model that has low variance and low bias. Low bias but high variance. To prevent this, we will add a learning rate. Learning rate is always 0-1.\n",
        "5.   Step 4. DT2: We keep creating trees and the output will get smaller. This will reduce the error.\n"
      ]
    },
    {
      "cell_type": "markdown",
      "metadata": {
        "id": "X3ZBazPZEht7",
        "colab_type": "text"
      },
      "source": [
        "##### Math\n",
        "* Independent feature/Input: fuel_price \n",
        "* Dependent feature/ Output: usa/gbp dataset\n",
        "* Loss function: MSE\n",
        "* No. of trees you want in gradient boosting algorithm\n",
        "* Formula:"
      ]
    },
    {
      "cell_type": "code",
      "metadata": {
        "colab_type": "code",
        "id": "JbwyJMpR2aKT",
        "colab": {}
      },
      "source": [
        "# Model #2 - Gradient Boosting Trees\n",
        "# not linear, tree based\n",
        "model_gb = GradientBoostingRegressor()\n",
        "model_gb.fit(x_train, y_train)\n",
        "\n",
        "# Infer\n",
        "y_pred_gb = model_gb.predict(x_test)"
      ],
      "execution_count": 121,
      "outputs": []
    },
    {
      "cell_type": "code",
      "metadata": {
        "colab_type": "code",
        "id": "nTghilU72bjZ",
        "colab": {
          "base_uri": "https://localhost:8080/",
          "height": 66
        },
        "outputId": "4c7043c5-02dd-400e-e33e-60728060a9eb"
      },
      "source": [
        "get_performance(y_pred_gb)"
      ],
      "execution_count": 122,
      "outputs": [
        {
          "output_type": "stream",
          "text": [
            "Mean Absolute Error: 0.0091\n",
            "Mean Squared Error: 0.0001\n",
            "Root Mean Squared Error: 0.012\n"
          ],
          "name": "stdout"
        }
      ]
    },
    {
      "cell_type": "code",
      "metadata": {
        "colab_type": "code",
        "id": "o4vFtlSl2d5C",
        "colab": {
          "base_uri": "https://localhost:8080/",
          "height": 418
        },
        "outputId": "da178194-ac1a-41a1-c3b6-db38dcea5093"
      },
      "source": [
        "# Why cant I print dates on the bottom of my graph?\n",
        "rcParams['figure.figsize'] = 15,6\n",
        "get_plot(y_pred_gb)\n",
        "# plt.plot(y_pred_gb)\n",
        "plt.title('Gradient Boosting Model of USD/GBP & US Gas Prices')\n",
        "plt.xlabel('Date')\n",
        "plt.ylabel('Price')\n",
        "# dates = np.array(dateFormatting['Date'])\n",
        "# plt.plot_date(dates,y_pred_gb, linestyle ='solid')"
      ],
      "execution_count": 123,
      "outputs": [
        {
          "output_type": "execute_result",
          "data": {
            "text/plain": [
              "Text(0, 0.5, 'Price')"
            ]
          },
          "metadata": {
            "tags": []
          },
          "execution_count": 123
        },
        {
          "output_type": "display_data",
          "data": {
            "image/png": "[encoded data removed]",
            "text/plain": [
              "<Figure size 1080x432 with 1 Axes>"
            ]
          },
          "metadata": {
            "tags": []
          }
        }
      ]
    },
    {
      "cell_type": "markdown",
      "metadata": {
        "colab_type": "text",
        "id": "-Mu3mNPs2fPA"
      },
      "source": [
        "# Comparison\n",
        "\n",
        "*   Map the difference betwee the predicted and the actual value\n",
        "*   Shows the difference between the actual and the predicted for all the models\n",
        "*   I wanted to take the absolute value because I didnt want to have negatives and positives. \n",
        "*   If you see a pattern where your modelling is consistenty overestimating to the upside or you are conssitently underestimating to the downside and maybe other users would want to see that but what I want to do is view the overall error in terms of how much we miss in terms of dollars."
      ]
    },
    {
      "cell_type": "code",
      "metadata": {
        "colab_type": "code",
        "id": "TGewSgao2gh4",
        "colab": {}
      },
      "source": [
        "# We create a dataframe \n",
        "df_comp=pd.DataFrame({\"lag\":np.absolute(y_test-y_pred_lag), \n",
        "              \"lr\":np.absolute(y_test-y_pred_lr), \n",
        "              \"ridge\":np.absolute(y_test-y_pred_ridge),\n",
        "              \"lasso\":np.absolute(y_test-y_pred_lasso),\n",
        "              \"rf\":np.absolute(y_test-y_pred_random_forest),\n",
        "              \"gb\":np.absolute(y_test-y_pred_gb)})"
      ],
      "execution_count": 128,
      "outputs": []
    },
    {
      "cell_type": "code",
      "metadata": {
        "colab_type": "code",
        "id": "d91Ux-I6C9bZ",
        "colab": {
          "base_uri": "https://localhost:8080/",
          "height": 191
        },
        "outputId": "12eeaf71-040b-423f-ed37-33969acc82c9"
      },
      "source": [
        "df_comp.head()"
      ],
      "execution_count": 129,
      "outputs": [
        {
          "output_type": "execute_result",
          "data": {
            "text/html": [
              "<div>\n",
              "<style scoped>\n",
              "    .dataframe tbody tr th:only-of-type {\n",
              "        vertical-align: middle;\n",
              "    }\n",
              "\n",
              "    .dataframe tbody tr th {\n",
              "        vertical-align: top;\n",
              "    }\n",
              "\n",
              "    .dataframe thead th {\n",
              "        text-align: right;\n",
              "    }\n",
              "</style>\n",
              "<table border=\"1\" class=\"dataframe\">\n",
              "  <thead>\n",
              "    <tr style=\"text-align: right;\">\n",
              "      <th></th>\n",
              "      <th>lag</th>\n",
              "      <th>lr</th>\n",
              "      <th>ridge</th>\n",
              "      <th>lasso</th>\n",
              "      <th>rf</th>\n",
              "      <th>gb</th>\n",
              "    </tr>\n",
              "  </thead>\n",
              "  <tbody>\n",
              "    <tr>\n",
              "      <th>0</th>\n",
              "      <td>0.0346</td>\n",
              "      <td>0.000097</td>\n",
              "      <td>0.021128</td>\n",
              "      <td>0.042266</td>\n",
              "      <td>0.004089</td>\n",
              "      <td>0.002146</td>\n",
              "    </tr>\n",
              "    <tr>\n",
              "      <th>1</th>\n",
              "      <td>0.0000</td>\n",
              "      <td>0.004903</td>\n",
              "      <td>0.021990</td>\n",
              "      <td>0.042266</td>\n",
              "      <td>0.003881</td>\n",
              "      <td>0.001429</td>\n",
              "    </tr>\n",
              "    <tr>\n",
              "      <th>2</th>\n",
              "      <td>0.0000</td>\n",
              "      <td>0.002920</td>\n",
              "      <td>0.022725</td>\n",
              "      <td>0.042266</td>\n",
              "      <td>0.004145</td>\n",
              "      <td>0.000284</td>\n",
              "    </tr>\n",
              "    <tr>\n",
              "      <th>3</th>\n",
              "      <td>0.0022</td>\n",
              "      <td>0.002465</td>\n",
              "      <td>0.021140</td>\n",
              "      <td>0.040066</td>\n",
              "      <td>0.007344</td>\n",
              "      <td>0.005505</td>\n",
              "    </tr>\n",
              "    <tr>\n",
              "      <th>4</th>\n",
              "      <td>0.0037</td>\n",
              "      <td>0.006856</td>\n",
              "      <td>0.025616</td>\n",
              "      <td>0.043766</td>\n",
              "      <td>0.000486</td>\n",
              "      <td>0.003591</td>\n",
              "    </tr>\n",
              "  </tbody>\n",
              "</table>\n",
              "</div>"
            ],
            "text/plain": [
              "      lag        lr     ridge     lasso        rf        gb\n",
              "0  0.0346  0.000097  0.021128  0.042266  0.004089  0.002146\n",
              "1  0.0000  0.004903  0.021990  0.042266  0.003881  0.001429\n",
              "2  0.0000  0.002920  0.022725  0.042266  0.004145  0.000284\n",
              "3  0.0022  0.002465  0.021140  0.040066  0.007344  0.005505\n",
              "4  0.0037  0.006856  0.025616  0.043766  0.000486  0.003591"
            ]
          },
          "metadata": {
            "tags": []
          },
          "execution_count": 129
        }
      ]
    },
    {
      "cell_type": "code",
      "metadata": {
        "colab_type": "code",
        "id": "Gn5BAsRqDI_g",
        "colab": {
          "base_uri": "https://localhost:8080/",
          "height": 115
        },
        "outputId": "4ccd20c7-c9c0-4cc2-ebe9-cf8c80236576"
      },
      "source": [
        "# go over again 51:22\n",
        "y_pred_lag"
      ],
      "execution_count": 130,
      "outputs": [
        {
          "output_type": "execute_result",
          "data": {
            "text/plain": [
              "array([1.3261, 1.2915, 1.2915, 1.2915, 1.2893, 1.293 , 1.3002, 1.3031,\n",
              "       1.2995, 1.2995, 1.2995, 1.3201, 1.3095, 1.3021, 1.3028, 1.3055,\n",
              "       1.3055, 1.3055, 1.3077, 1.3123, 1.3142, 1.3051, 1.3011, 1.3011,\n",
              "       1.3011, 1.301 , 1.3079, 1.3038, 1.3018, 1.299 , 1.299 , 1.299 ,\n",
              "       1.3061, 1.3067, 1.3098, 1.3125, 1.3169, 1.3169, 1.3169, 1.3088,\n",
              "       1.3146, 1.3255])"
            ]
          },
          "metadata": {
            "tags": []
          },
          "execution_count": 130
        }
      ]
    },
    {
      "cell_type": "code",
      "metadata": {
        "colab_type": "code",
        "id": "Vw-2wFox2iEd",
        "colab": {
          "base_uri": "https://localhost:8080/",
          "height": 392
        },
        "outputId": "6f5f72ab-05e9-44e6-ca28-5182970502cf"
      },
      "source": [
        "df_comp.plot.bar(figsize=(15, 6))\n",
        "# show me days 0 to 10\n",
        "plt.xlim(11,20)\n",
        "# unsure why this line doesnt work\n",
        "#plt.ylim(0,10)"
      ],
      "execution_count": 131,
      "outputs": [
        {
          "output_type": "execute_result",
          "data": {
            "text/plain": [
              "(11.0, 20.0)"
            ]
          },
          "metadata": {
            "tags": []
          },
          "execution_count": 131
        },
        {
          "output_type": "display_data",
          "data": {
            "image/png": "[encoded data removed]",
            "text/plain": [
              "<Figure size 1080x432 with 1 Axes>"
            ]
          },
          "metadata": {
            "tags": []
          }
        }
      ]
    },
    {
      "cell_type": "markdown",
      "metadata": {
        "colab_type": "text",
        "id": "Amdw7fOJEroX"
      },
      "source": [
        "# Conclusion and next steps\n",
        "\n",
        "Explored 4 different algorithms, ranging from simple to complex:\n",
        "\n",
        "\n",
        "*   Lag (Previous day's price)\n",
        "*   Linear Regression \n",
        "*   Ridge Regression\n",
        "*   Gradient Boosting Trees\n",
        "\n",
        "In conclusion it seems that Linear Regression gives us the best performance with the least complexity. Next steps might include adding additional features such as trend and recent volatility (go over).\n",
        "\n",
        "\n"
      ]
    }
  ]
}