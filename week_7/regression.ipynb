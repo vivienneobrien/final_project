{
  "nbformat": 4,
  "nbformat_minor": 0,
  "metadata": {
    "colab": {
      "name": "regression.ipynb",
      "provenance": [],
      "collapsed_sections": []
    },
    "kernelspec": {
      "name": "python3",
      "display_name": "Python 3"
    },
    "accelerator": "GPU"
  },
  "cells": [
    {
      "cell_type": "code",
      "metadata": {
        "id": "0hR-zTSzJREn",
        "colab_type": "code",
        "colab": {
          "base_uri": "https://localhost:8080/",
          "height": 292
        },
        "outputId": "2aef3a48-b1a0-4aa0-adcc-339a833e7565"
      },
      "source": [
        "# Notes for user:\n",
        "# This notebook will use the dataset COVID-19 and forex to predict the forex spot price of a currency pair.\n",
        "# What to ask user before using this application:\n",
        "# What currency pair are you interested in? USD/GBP (This layout means that the base currency is USD)\n",
        "# The currency the user wants to look at is how much the USD is worth to the GBP.\n",
        "# Therefore, we look at the death rates in the US and the UK.\n",
        "\n",
        "\n",
        "# Use some functions from tensorflow_docs\n",
        "!pip install git+https://github.com/tensorflow/docs"
      ],
      "execution_count": 1001,
      "outputs": [
        {
          "output_type": "stream",
          "text": [
            "Collecting git+https://github.com/tensorflow/docs\n",
            "  Cloning https://github.com/tensorflow/docs to /tmp/pip-req-build-yjh7miyb\n",
            "  Running command git clone -q https://github.com/tensorflow/docs /tmp/pip-req-build-yjh7miyb\n",
            "Requirement already satisfied (use --upgrade to upgrade): tensorflow-docs===0.0.0d41eeb858e80108db8d13ba25867757d7de0fcf9- from git+https://github.com/tensorflow/docs in /usr/local/lib/python3.6/dist-packages\n",
            "Requirement already satisfied: astor in /usr/local/lib/python3.6/dist-packages (from tensorflow-docs===0.0.0d41eeb858e80108db8d13ba25867757d7de0fcf9-) (0.8.1)\n",
            "Requirement already satisfied: absl-py in /usr/local/lib/python3.6/dist-packages (from tensorflow-docs===0.0.0d41eeb858e80108db8d13ba25867757d7de0fcf9-) (0.9.0)\n",
            "Requirement already satisfied: protobuf in /usr/local/lib/python3.6/dist-packages (from tensorflow-docs===0.0.0d41eeb858e80108db8d13ba25867757d7de0fcf9-) (3.12.2)\n",
            "Requirement already satisfied: pyyaml in /usr/local/lib/python3.6/dist-packages (from tensorflow-docs===0.0.0d41eeb858e80108db8d13ba25867757d7de0fcf9-) (3.13)\n",
            "Requirement already satisfied: six in /usr/local/lib/python3.6/dist-packages (from absl-py->tensorflow-docs===0.0.0d41eeb858e80108db8d13ba25867757d7de0fcf9-) (1.12.0)\n",
            "Requirement already satisfied: setuptools in /usr/local/lib/python3.6/dist-packages (from protobuf->tensorflow-docs===0.0.0d41eeb858e80108db8d13ba25867757d7de0fcf9-) (49.1.0)\n",
            "Building wheels for collected packages: tensorflow-docs\n",
            "  Building wheel for tensorflow-docs (setup.py) ... \u001b[?25l\u001b[?25hdone\n",
            "  Created wheel for tensorflow-docs: filename=tensorflow_docs-0.0.0d41eeb858e80108db8d13ba25867757d7de0fcf9_-cp36-none-any.whl size=124709 sha256=74b38ebe38ef86d8adaa1b183039ba2b1c2da1baa4f7c33dc66906769439816d\n",
            "  Stored in directory: /tmp/pip-ephem-wheel-cache-zsa84iky/wheels/eb/1b/35/fce87697be00d2fc63e0b4b395b0d9c7e391a10e98d9a0d97f\n",
            "Successfully built tensorflow-docs\n"
          ],
          "name": "stdout"
        }
      ]
    },
    {
      "cell_type": "code",
      "metadata": {
        "id": "iJ6D0PrOJYeg",
        "colab_type": "code",
        "colab": {}
      },
      "source": [
        "import pathlib\n",
        "import matplotlib.pyplot as plt\n",
        "import numpy as np\n",
        "import pandas as pd"
      ],
      "execution_count": 1002,
      "outputs": []
    },
    {
      "cell_type": "code",
      "metadata": {
        "id": "AgIgQg1XJcP2",
        "colab_type": "code",
        "colab": {
          "base_uri": "https://localhost:8080/",
          "height": 34
        },
        "outputId": "c5a72bc3-9a74-44dd-81e9-aa22dd2029ea"
      },
      "source": [
        "import tensorflow as tf\n",
        "from tensorflow import keras\n",
        "from tensorflow.keras import layers\n",
        "print(tf.__version__)"
      ],
      "execution_count": 1003,
      "outputs": [
        {
          "output_type": "stream",
          "text": [
            "2.2.0\n"
          ],
          "name": "stdout"
        }
      ]
    },
    {
      "cell_type": "code",
      "metadata": {
        "id": "m_F-7tgZJe2m",
        "colab_type": "code",
        "colab": {}
      },
      "source": [
        "import tensorflow_docs as tfdocs\n",
        "import tensorflow_docs.plots\n",
        "import tensorflow_docs.modeling"
      ],
      "execution_count": 1004,
      "outputs": []
    },
    {
      "cell_type": "code",
      "metadata": {
        "id": "7GjIgZ7kJhjo",
        "colab_type": "code",
        "colab": {
          "base_uri": "https://localhost:8080/",
          "height": 309
        },
        "outputId": "9a349780-7148-4cae-ac8b-99d2648ffedf"
      },
      "source": [
        "# Importing covid_dataset using pandas. Droping null values.\n",
        "covid_dataset_data= pd.read_csv('covid.csv', na_values = \"?\", comment='\\t', skipinitialspace=True)\n",
        "covid_dataset = covid_dataset_data.copy()\n",
        "covid_dataset = covid_dataset.dropna()\n",
        "covid_dataset.head()"
      ],
      "execution_count": 1005,
      "outputs": [
        {
          "output_type": "execute_result",
          "data": {
            "text/html": [
              "<div>\n",
              "<style scoped>\n",
              "    .dataframe tbody tr th:only-of-type {\n",
              "        vertical-align: middle;\n",
              "    }\n",
              "\n",
              "    .dataframe tbody tr th {\n",
              "        vertical-align: top;\n",
              "    }\n",
              "\n",
              "    .dataframe thead th {\n",
              "        text-align: right;\n",
              "    }\n",
              "</style>\n",
              "<table border=\"1\" class=\"dataframe\">\n",
              "  <thead>\n",
              "    <tr style=\"text-align: right;\">\n",
              "      <th></th>\n",
              "      <th>iso_code</th>\n",
              "      <th>continent</th>\n",
              "      <th>location</th>\n",
              "      <th>date</th>\n",
              "      <th>total_cases</th>\n",
              "      <th>new_cases</th>\n",
              "      <th>total_deaths</th>\n",
              "      <th>new_deaths</th>\n",
              "      <th>total_cases_per_million</th>\n",
              "      <th>new_cases_per_million</th>\n",
              "      <th>total_deaths_per_million</th>\n",
              "      <th>new_deaths_per_million</th>\n",
              "      <th>total_tests</th>\n",
              "      <th>new_tests</th>\n",
              "      <th>total_tests_per_thousand</th>\n",
              "      <th>new_tests_per_thousand</th>\n",
              "      <th>new_tests_smoothed</th>\n",
              "      <th>new_tests_smoothed_per_thousand</th>\n",
              "      <th>tests_units</th>\n",
              "      <th>stringency_index</th>\n",
              "      <th>population</th>\n",
              "      <th>population_density</th>\n",
              "      <th>median_age</th>\n",
              "      <th>aged_65_older</th>\n",
              "      <th>aged_70_older</th>\n",
              "      <th>gdp_per_capita</th>\n",
              "      <th>extreme_poverty</th>\n",
              "      <th>cvd_death_rate</th>\n",
              "      <th>diabetes_prevalence</th>\n",
              "      <th>female_smokers</th>\n",
              "      <th>male_smokers</th>\n",
              "      <th>handwashing_facilities</th>\n",
              "      <th>hospital_beds_per_thousand</th>\n",
              "      <th>life_expectancy</th>\n",
              "    </tr>\n",
              "  </thead>\n",
              "  <tbody>\n",
              "    <tr>\n",
              "      <th>2164</th>\n",
              "      <td>BGD</td>\n",
              "      <td>Asia</td>\n",
              "      <td>Bangladesh</td>\n",
              "      <td>2020-03-15</td>\n",
              "      <td>3.0</td>\n",
              "      <td>0.0</td>\n",
              "      <td>0.0</td>\n",
              "      <td>0.0</td>\n",
              "      <td>0.018</td>\n",
              "      <td>0.000</td>\n",
              "      <td>0.0</td>\n",
              "      <td>0.0</td>\n",
              "      <td>268.0</td>\n",
              "      <td>27.0</td>\n",
              "      <td>0.002</td>\n",
              "      <td>0.0</td>\n",
              "      <td>20.0</td>\n",
              "      <td>0.0</td>\n",
              "      <td>samples tested</td>\n",
              "      <td>13.89</td>\n",
              "      <td>164689383.0</td>\n",
              "      <td>1265.036</td>\n",
              "      <td>27.5</td>\n",
              "      <td>5.098</td>\n",
              "      <td>3.262</td>\n",
              "      <td>3523.984</td>\n",
              "      <td>14.8</td>\n",
              "      <td>298.003</td>\n",
              "      <td>8.38</td>\n",
              "      <td>1.0</td>\n",
              "      <td>44.7</td>\n",
              "      <td>34.808</td>\n",
              "      <td>0.8</td>\n",
              "      <td>72.59</td>\n",
              "    </tr>\n",
              "    <tr>\n",
              "      <th>2166</th>\n",
              "      <td>BGD</td>\n",
              "      <td>Asia</td>\n",
              "      <td>Bangladesh</td>\n",
              "      <td>2020-03-17</td>\n",
              "      <td>5.0</td>\n",
              "      <td>2.0</td>\n",
              "      <td>0.0</td>\n",
              "      <td>0.0</td>\n",
              "      <td>0.030</td>\n",
              "      <td>0.012</td>\n",
              "      <td>0.0</td>\n",
              "      <td>0.0</td>\n",
              "      <td>342.0</td>\n",
              "      <td>49.0</td>\n",
              "      <td>0.002</td>\n",
              "      <td>0.0</td>\n",
              "      <td>28.0</td>\n",
              "      <td>0.0</td>\n",
              "      <td>samples tested</td>\n",
              "      <td>33.33</td>\n",
              "      <td>164689383.0</td>\n",
              "      <td>1265.036</td>\n",
              "      <td>27.5</td>\n",
              "      <td>5.098</td>\n",
              "      <td>3.262</td>\n",
              "      <td>3523.984</td>\n",
              "      <td>14.8</td>\n",
              "      <td>298.003</td>\n",
              "      <td>8.38</td>\n",
              "      <td>1.0</td>\n",
              "      <td>44.7</td>\n",
              "      <td>34.808</td>\n",
              "      <td>0.8</td>\n",
              "      <td>72.59</td>\n",
              "    </tr>\n",
              "    <tr>\n",
              "      <th>2167</th>\n",
              "      <td>BGD</td>\n",
              "      <td>Asia</td>\n",
              "      <td>Bangladesh</td>\n",
              "      <td>2020-03-18</td>\n",
              "      <td>8.0</td>\n",
              "      <td>3.0</td>\n",
              "      <td>0.0</td>\n",
              "      <td>0.0</td>\n",
              "      <td>0.049</td>\n",
              "      <td>0.018</td>\n",
              "      <td>0.0</td>\n",
              "      <td>0.0</td>\n",
              "      <td>381.0</td>\n",
              "      <td>39.0</td>\n",
              "      <td>0.002</td>\n",
              "      <td>0.0</td>\n",
              "      <td>31.0</td>\n",
              "      <td>0.0</td>\n",
              "      <td>samples tested</td>\n",
              "      <td>33.33</td>\n",
              "      <td>164689383.0</td>\n",
              "      <td>1265.036</td>\n",
              "      <td>27.5</td>\n",
              "      <td>5.098</td>\n",
              "      <td>3.262</td>\n",
              "      <td>3523.984</td>\n",
              "      <td>14.8</td>\n",
              "      <td>298.003</td>\n",
              "      <td>8.38</td>\n",
              "      <td>1.0</td>\n",
              "      <td>44.7</td>\n",
              "      <td>34.808</td>\n",
              "      <td>0.8</td>\n",
              "      <td>72.59</td>\n",
              "    </tr>\n",
              "    <tr>\n",
              "      <th>2168</th>\n",
              "      <td>BGD</td>\n",
              "      <td>Asia</td>\n",
              "      <td>Bangladesh</td>\n",
              "      <td>2020-03-19</td>\n",
              "      <td>10.0</td>\n",
              "      <td>2.0</td>\n",
              "      <td>0.0</td>\n",
              "      <td>0.0</td>\n",
              "      <td>0.061</td>\n",
              "      <td>0.012</td>\n",
              "      <td>0.0</td>\n",
              "      <td>0.0</td>\n",
              "      <td>427.0</td>\n",
              "      <td>46.0</td>\n",
              "      <td>0.003</td>\n",
              "      <td>0.0</td>\n",
              "      <td>34.0</td>\n",
              "      <td>0.0</td>\n",
              "      <td>samples tested</td>\n",
              "      <td>75.93</td>\n",
              "      <td>164689383.0</td>\n",
              "      <td>1265.036</td>\n",
              "      <td>27.5</td>\n",
              "      <td>5.098</td>\n",
              "      <td>3.262</td>\n",
              "      <td>3523.984</td>\n",
              "      <td>14.8</td>\n",
              "      <td>298.003</td>\n",
              "      <td>8.38</td>\n",
              "      <td>1.0</td>\n",
              "      <td>44.7</td>\n",
              "      <td>34.808</td>\n",
              "      <td>0.8</td>\n",
              "      <td>72.59</td>\n",
              "    </tr>\n",
              "    <tr>\n",
              "      <th>2169</th>\n",
              "      <td>BGD</td>\n",
              "      <td>Asia</td>\n",
              "      <td>Bangladesh</td>\n",
              "      <td>2020-03-20</td>\n",
              "      <td>10.0</td>\n",
              "      <td>0.0</td>\n",
              "      <td>0.0</td>\n",
              "      <td>0.0</td>\n",
              "      <td>0.061</td>\n",
              "      <td>0.000</td>\n",
              "      <td>0.0</td>\n",
              "      <td>0.0</td>\n",
              "      <td>463.0</td>\n",
              "      <td>36.0</td>\n",
              "      <td>0.003</td>\n",
              "      <td>0.0</td>\n",
              "      <td>36.0</td>\n",
              "      <td>0.0</td>\n",
              "      <td>samples tested</td>\n",
              "      <td>75.93</td>\n",
              "      <td>164689383.0</td>\n",
              "      <td>1265.036</td>\n",
              "      <td>27.5</td>\n",
              "      <td>5.098</td>\n",
              "      <td>3.262</td>\n",
              "      <td>3523.984</td>\n",
              "      <td>14.8</td>\n",
              "      <td>298.003</td>\n",
              "      <td>8.38</td>\n",
              "      <td>1.0</td>\n",
              "      <td>44.7</td>\n",
              "      <td>34.808</td>\n",
              "      <td>0.8</td>\n",
              "      <td>72.59</td>\n",
              "    </tr>\n",
              "  </tbody>\n",
              "</table>\n",
              "</div>"
            ],
            "text/plain": [
              "     iso_code continent  ... hospital_beds_per_thousand life_expectancy\n",
              "2164      BGD      Asia  ...                        0.8           72.59\n",
              "2166      BGD      Asia  ...                        0.8           72.59\n",
              "2167      BGD      Asia  ...                        0.8           72.59\n",
              "2168      BGD      Asia  ...                        0.8           72.59\n",
              "2169      BGD      Asia  ...                        0.8           72.59\n",
              "\n",
              "[5 rows x 34 columns]"
            ]
          },
          "metadata": {
            "tags": []
          },
          "execution_count": 1005
        }
      ]
    },
    {
      "cell_type": "code",
      "metadata": {
        "id": "aYBFYnKtiIkQ",
        "colab_type": "code",
        "colab": {
          "base_uri": "https://localhost:8080/",
          "height": 204
        },
        "outputId": "6c2426d0-7182-473d-8a05-15adc8a8fbbd"
      },
      "source": [
        "# Trying to isolate location/country based on currency in question\n",
        "# We are looking at pound and sterling therefore need to isolate 'United Kingdom' & 'United States' in location column\n",
        "# Problem: Informaiton prints up until 'Trinidad and Tobago' for some reason – can print 'Togo'. Therefore cannot print United Kingdom or United States\n",
        "uk_death_rates = covid_dataset.loc[covid_dataset.location=='Zimbabwe', ['location', 'date', 'total_deaths']]\n",
        "uk_death_rates.head()"
      ],
      "execution_count": 1006,
      "outputs": [
        {
          "output_type": "execute_result",
          "data": {
            "text/html": [
              "<div>\n",
              "<style scoped>\n",
              "    .dataframe tbody tr th:only-of-type {\n",
              "        vertical-align: middle;\n",
              "    }\n",
              "\n",
              "    .dataframe tbody tr th {\n",
              "        vertical-align: top;\n",
              "    }\n",
              "\n",
              "    .dataframe thead th {\n",
              "        text-align: right;\n",
              "    }\n",
              "</style>\n",
              "<table border=\"1\" class=\"dataframe\">\n",
              "  <thead>\n",
              "    <tr style=\"text-align: right;\">\n",
              "      <th></th>\n",
              "      <th>location</th>\n",
              "      <th>date</th>\n",
              "      <th>total_deaths</th>\n",
              "    </tr>\n",
              "  </thead>\n",
              "  <tbody>\n",
              "    <tr>\n",
              "      <th>27729</th>\n",
              "      <td>Zimbabwe</td>\n",
              "      <td>2020-05-13</td>\n",
              "      <td>4.0</td>\n",
              "    </tr>\n",
              "    <tr>\n",
              "      <th>27732</th>\n",
              "      <td>Zimbabwe</td>\n",
              "      <td>2020-05-16</td>\n",
              "      <td>4.0</td>\n",
              "    </tr>\n",
              "    <tr>\n",
              "      <th>27733</th>\n",
              "      <td>Zimbabwe</td>\n",
              "      <td>2020-05-17</td>\n",
              "      <td>4.0</td>\n",
              "    </tr>\n",
              "    <tr>\n",
              "      <th>27734</th>\n",
              "      <td>Zimbabwe</td>\n",
              "      <td>2020-05-18</td>\n",
              "      <td>4.0</td>\n",
              "    </tr>\n",
              "    <tr>\n",
              "      <th>27735</th>\n",
              "      <td>Zimbabwe</td>\n",
              "      <td>2020-05-19</td>\n",
              "      <td>4.0</td>\n",
              "    </tr>\n",
              "  </tbody>\n",
              "</table>\n",
              "</div>"
            ],
            "text/plain": [
              "       location        date  total_deaths\n",
              "27729  Zimbabwe  2020-05-13           4.0\n",
              "27732  Zimbabwe  2020-05-16           4.0\n",
              "27733  Zimbabwe  2020-05-17           4.0\n",
              "27734  Zimbabwe  2020-05-18           4.0\n",
              "27735  Zimbabwe  2020-05-19           4.0"
            ]
          },
          "metadata": {
            "tags": []
          },
          "execution_count": 1006
        }
      ]
    },
    {
      "cell_type": "code",
      "metadata": {
        "id": "Vx7J5w-LYvwb",
        "colab_type": "code",
        "colab": {
          "base_uri": "https://localhost:8080/",
          "height": 34
        },
        "outputId": "4ff6c29b-b351-4548-e429-50a77203c41b"
      },
      "source": [
        "uk_death_rates.shape"
      ],
      "execution_count": 1007,
      "outputs": [
        {
          "output_type": "execute_result",
          "data": {
            "text/plain": [
              "(37, 3)"
            ]
          },
          "metadata": {
            "tags": []
          },
          "execution_count": 1007
        }
      ]
    },
    {
      "cell_type": "code",
      "metadata": {
        "id": "285DiboRj7MW",
        "colab_type": "code",
        "colab": {
          "base_uri": "https://localhost:8080/",
          "height": 204
        },
        "outputId": "d7fa23da-ffed-42bb-a047-27084f2a3411"
      },
      "source": [
        "us_death_rates = covid_dataset.loc[covid_dataset.location=='Bangladesh', ['location', 'date', 'total_deaths']]\n",
        "us_death_rates.head()"
      ],
      "execution_count": 1008,
      "outputs": [
        {
          "output_type": "execute_result",
          "data": {
            "text/html": [
              "<div>\n",
              "<style scoped>\n",
              "    .dataframe tbody tr th:only-of-type {\n",
              "        vertical-align: middle;\n",
              "    }\n",
              "\n",
              "    .dataframe tbody tr th {\n",
              "        vertical-align: top;\n",
              "    }\n",
              "\n",
              "    .dataframe thead th {\n",
              "        text-align: right;\n",
              "    }\n",
              "</style>\n",
              "<table border=\"1\" class=\"dataframe\">\n",
              "  <thead>\n",
              "    <tr style=\"text-align: right;\">\n",
              "      <th></th>\n",
              "      <th>location</th>\n",
              "      <th>date</th>\n",
              "      <th>total_deaths</th>\n",
              "    </tr>\n",
              "  </thead>\n",
              "  <tbody>\n",
              "    <tr>\n",
              "      <th>2164</th>\n",
              "      <td>Bangladesh</td>\n",
              "      <td>2020-03-15</td>\n",
              "      <td>0.0</td>\n",
              "    </tr>\n",
              "    <tr>\n",
              "      <th>2166</th>\n",
              "      <td>Bangladesh</td>\n",
              "      <td>2020-03-17</td>\n",
              "      <td>0.0</td>\n",
              "    </tr>\n",
              "    <tr>\n",
              "      <th>2167</th>\n",
              "      <td>Bangladesh</td>\n",
              "      <td>2020-03-18</td>\n",
              "      <td>0.0</td>\n",
              "    </tr>\n",
              "    <tr>\n",
              "      <th>2168</th>\n",
              "      <td>Bangladesh</td>\n",
              "      <td>2020-03-19</td>\n",
              "      <td>0.0</td>\n",
              "    </tr>\n",
              "    <tr>\n",
              "      <th>2169</th>\n",
              "      <td>Bangladesh</td>\n",
              "      <td>2020-03-20</td>\n",
              "      <td>0.0</td>\n",
              "    </tr>\n",
              "  </tbody>\n",
              "</table>\n",
              "</div>"
            ],
            "text/plain": [
              "        location        date  total_deaths\n",
              "2164  Bangladesh  2020-03-15           0.0\n",
              "2166  Bangladesh  2020-03-17           0.0\n",
              "2167  Bangladesh  2020-03-18           0.0\n",
              "2168  Bangladesh  2020-03-19           0.0\n",
              "2169  Bangladesh  2020-03-20           0.0"
            ]
          },
          "metadata": {
            "tags": []
          },
          "execution_count": 1008
        }
      ]
    },
    {
      "cell_type": "code",
      "metadata": {
        "id": "F3wvK4d2kvti",
        "colab_type": "code",
        "colab": {
          "base_uri": "https://localhost:8080/",
          "height": 34
        },
        "outputId": "59a69321-d691-4dea-ca61-daca1627b4f4"
      },
      "source": [
        "us_death_rates.shape"
      ],
      "execution_count": 1009,
      "outputs": [
        {
          "output_type": "execute_result",
          "data": {
            "text/plain": [
              "(103, 3)"
            ]
          },
          "metadata": {
            "tags": []
          },
          "execution_count": 1009
        }
      ]
    },
    {
      "cell_type": "code",
      "metadata": {
        "id": "kIDXEXFDf4N5",
        "colab_type": "code",
        "colab": {
          "base_uri": "https://localhost:8080/",
          "height": 204
        },
        "outputId": "9abf3235-e7b2-4d65-dba4-1dddb7e62072"
      },
      "source": [
        "forex_dataset_data= pd.read_csv('GBP_USD.csv', na_values = \"?\", comment='\\t', skipinitialspace=True)\n",
        "forex_dataset = forex_dataset_data.copy()\n",
        "forex_dataset = forex_dataset_data.dropna()\n",
        "forex_dataset.tail()\n"
      ],
      "execution_count": 1010,
      "outputs": [
        {
          "output_type": "execute_result",
          "data": {
            "text/html": [
              "<div>\n",
              "<style scoped>\n",
              "    .dataframe tbody tr th:only-of-type {\n",
              "        vertical-align: middle;\n",
              "    }\n",
              "\n",
              "    .dataframe tbody tr th {\n",
              "        vertical-align: top;\n",
              "    }\n",
              "\n",
              "    .dataframe thead th {\n",
              "        text-align: right;\n",
              "    }\n",
              "</style>\n",
              "<table border=\"1\" class=\"dataframe\">\n",
              "  <thead>\n",
              "    <tr style=\"text-align: right;\">\n",
              "      <th></th>\n",
              "      <th>Date</th>\n",
              "      <th>Price</th>\n",
              "      <th>Open</th>\n",
              "      <th>High</th>\n",
              "      <th>Low</th>\n",
              "      <th>Change %</th>\n",
              "    </tr>\n",
              "  </thead>\n",
              "  <tbody>\n",
              "    <tr>\n",
              "      <th>150</th>\n",
              "      <td>Dec 06, 2019</td>\n",
              "      <td>1.3137</td>\n",
              "      <td>1.3157</td>\n",
              "      <td>1.3167</td>\n",
              "      <td>1.3100</td>\n",
              "      <td>-0.15%</td>\n",
              "    </tr>\n",
              "    <tr>\n",
              "      <th>151</th>\n",
              "      <td>Dec 05, 2019</td>\n",
              "      <td>1.3157</td>\n",
              "      <td>1.3105</td>\n",
              "      <td>1.3168</td>\n",
              "      <td>1.3102</td>\n",
              "      <td>0.40%</td>\n",
              "    </tr>\n",
              "    <tr>\n",
              "      <th>152</th>\n",
              "      <td>Dec 04, 2019</td>\n",
              "      <td>1.3104</td>\n",
              "      <td>1.2992</td>\n",
              "      <td>1.3121</td>\n",
              "      <td>1.2981</td>\n",
              "      <td>0.85%</td>\n",
              "    </tr>\n",
              "    <tr>\n",
              "      <th>153</th>\n",
              "      <td>Dec 03, 2019</td>\n",
              "      <td>1.2994</td>\n",
              "      <td>1.2938</td>\n",
              "      <td>1.3013</td>\n",
              "      <td>1.2930</td>\n",
              "      <td>0.44%</td>\n",
              "    </tr>\n",
              "    <tr>\n",
              "      <th>154</th>\n",
              "      <td>Dec 02, 2019</td>\n",
              "      <td>1.2937</td>\n",
              "      <td>1.2917</td>\n",
              "      <td>1.2951</td>\n",
              "      <td>1.2895</td>\n",
              "      <td>0.02%</td>\n",
              "    </tr>\n",
              "  </tbody>\n",
              "</table>\n",
              "</div>"
            ],
            "text/plain": [
              "             Date   Price    Open    High     Low Change %\n",
              "150  Dec 06, 2019  1.3137  1.3157  1.3167  1.3100   -0.15%\n",
              "151  Dec 05, 2019  1.3157  1.3105  1.3168  1.3102    0.40%\n",
              "152  Dec 04, 2019  1.3104  1.2992  1.3121  1.2981    0.85%\n",
              "153  Dec 03, 2019  1.2994  1.2938  1.3013  1.2930    0.44%\n",
              "154  Dec 02, 2019  1.2937  1.2917  1.2951  1.2895    0.02%"
            ]
          },
          "metadata": {
            "tags": []
          },
          "execution_count": 1010
        }
      ]
    },
    {
      "cell_type": "code",
      "metadata": {
        "id": "vrVetfeGgSm7",
        "colab_type": "code",
        "colab": {
          "base_uri": "https://localhost:8080/",
          "height": 649
        },
        "outputId": "77eb0f11-ac61-4329-a105-aa037a4bb37d"
      },
      "source": [
        "# Isolate covid_date\n",
        "import time \n",
        "covid_date = covid_dataset['date']\n",
        "new_covid_dates = [time.strptime(x.replace(\"-\",\" \"), '%Y %m %d')for x in covid_date]\n",
        "covid_dataset['date'] = new_covid_dates\n",
        "covid_dataset.tail()\n",
        "\n"
      ],
      "execution_count": 1011,
      "outputs": [
        {
          "output_type": "execute_result",
          "data": {
            "text/html": [
              "<div>\n",
              "<style scoped>\n",
              "    .dataframe tbody tr th:only-of-type {\n",
              "        vertical-align: middle;\n",
              "    }\n",
              "\n",
              "    .dataframe tbody tr th {\n",
              "        vertical-align: top;\n",
              "    }\n",
              "\n",
              "    .dataframe thead th {\n",
              "        text-align: right;\n",
              "    }\n",
              "</style>\n",
              "<table border=\"1\" class=\"dataframe\">\n",
              "  <thead>\n",
              "    <tr style=\"text-align: right;\">\n",
              "      <th></th>\n",
              "      <th>iso_code</th>\n",
              "      <th>continent</th>\n",
              "      <th>location</th>\n",
              "      <th>date</th>\n",
              "      <th>total_cases</th>\n",
              "      <th>new_cases</th>\n",
              "      <th>total_deaths</th>\n",
              "      <th>new_deaths</th>\n",
              "      <th>total_cases_per_million</th>\n",
              "      <th>new_cases_per_million</th>\n",
              "      <th>total_deaths_per_million</th>\n",
              "      <th>new_deaths_per_million</th>\n",
              "      <th>total_tests</th>\n",
              "      <th>new_tests</th>\n",
              "      <th>total_tests_per_thousand</th>\n",
              "      <th>new_tests_per_thousand</th>\n",
              "      <th>new_tests_smoothed</th>\n",
              "      <th>new_tests_smoothed_per_thousand</th>\n",
              "      <th>tests_units</th>\n",
              "      <th>stringency_index</th>\n",
              "      <th>population</th>\n",
              "      <th>population_density</th>\n",
              "      <th>median_age</th>\n",
              "      <th>aged_65_older</th>\n",
              "      <th>aged_70_older</th>\n",
              "      <th>gdp_per_capita</th>\n",
              "      <th>extreme_poverty</th>\n",
              "      <th>cvd_death_rate</th>\n",
              "      <th>diabetes_prevalence</th>\n",
              "      <th>female_smokers</th>\n",
              "      <th>male_smokers</th>\n",
              "      <th>handwashing_facilities</th>\n",
              "      <th>hospital_beds_per_thousand</th>\n",
              "      <th>life_expectancy</th>\n",
              "    </tr>\n",
              "  </thead>\n",
              "  <tbody>\n",
              "    <tr>\n",
              "      <th>27765</th>\n",
              "      <td>ZWE</td>\n",
              "      <td>Africa</td>\n",
              "      <td>Zimbabwe</td>\n",
              "      <td>(2020, 6, 18, 0, 0, 0, 3, 170, -1)</td>\n",
              "      <td>401.0</td>\n",
              "      <td>7.0</td>\n",
              "      <td>4.0</td>\n",
              "      <td>0.0</td>\n",
              "      <td>26.980</td>\n",
              "      <td>0.471</td>\n",
              "      <td>0.269</td>\n",
              "      <td>0.000</td>\n",
              "      <td>25815.0</td>\n",
              "      <td>524.0</td>\n",
              "      <td>1.737</td>\n",
              "      <td>0.035</td>\n",
              "      <td>392.0</td>\n",
              "      <td>0.026</td>\n",
              "      <td>tests performed</td>\n",
              "      <td>70.37</td>\n",
              "      <td>14862927.0</td>\n",
              "      <td>42.729</td>\n",
              "      <td>19.6</td>\n",
              "      <td>2.822</td>\n",
              "      <td>1.882</td>\n",
              "      <td>1899.775</td>\n",
              "      <td>21.4</td>\n",
              "      <td>307.846</td>\n",
              "      <td>1.82</td>\n",
              "      <td>1.6</td>\n",
              "      <td>30.7</td>\n",
              "      <td>36.791</td>\n",
              "      <td>1.7</td>\n",
              "      <td>61.49</td>\n",
              "    </tr>\n",
              "    <tr>\n",
              "      <th>27766</th>\n",
              "      <td>ZWE</td>\n",
              "      <td>Africa</td>\n",
              "      <td>Zimbabwe</td>\n",
              "      <td>(2020, 6, 19, 0, 0, 0, 4, 171, -1)</td>\n",
              "      <td>463.0</td>\n",
              "      <td>62.0</td>\n",
              "      <td>4.0</td>\n",
              "      <td>0.0</td>\n",
              "      <td>31.151</td>\n",
              "      <td>4.171</td>\n",
              "      <td>0.269</td>\n",
              "      <td>0.000</td>\n",
              "      <td>26117.0</td>\n",
              "      <td>302.0</td>\n",
              "      <td>1.757</td>\n",
              "      <td>0.020</td>\n",
              "      <td>369.0</td>\n",
              "      <td>0.025</td>\n",
              "      <td>tests performed</td>\n",
              "      <td>70.37</td>\n",
              "      <td>14862927.0</td>\n",
              "      <td>42.729</td>\n",
              "      <td>19.6</td>\n",
              "      <td>2.822</td>\n",
              "      <td>1.882</td>\n",
              "      <td>1899.775</td>\n",
              "      <td>21.4</td>\n",
              "      <td>307.846</td>\n",
              "      <td>1.82</td>\n",
              "      <td>1.6</td>\n",
              "      <td>30.7</td>\n",
              "      <td>36.791</td>\n",
              "      <td>1.7</td>\n",
              "      <td>61.49</td>\n",
              "    </tr>\n",
              "    <tr>\n",
              "      <th>27767</th>\n",
              "      <td>ZWE</td>\n",
              "      <td>Africa</td>\n",
              "      <td>Zimbabwe</td>\n",
              "      <td>(2020, 6, 20, 0, 0, 0, 5, 172, -1)</td>\n",
              "      <td>479.0</td>\n",
              "      <td>16.0</td>\n",
              "      <td>4.0</td>\n",
              "      <td>0.0</td>\n",
              "      <td>32.228</td>\n",
              "      <td>1.077</td>\n",
              "      <td>0.269</td>\n",
              "      <td>0.000</td>\n",
              "      <td>26451.0</td>\n",
              "      <td>334.0</td>\n",
              "      <td>1.780</td>\n",
              "      <td>0.022</td>\n",
              "      <td>349.0</td>\n",
              "      <td>0.023</td>\n",
              "      <td>tests performed</td>\n",
              "      <td>70.37</td>\n",
              "      <td>14862927.0</td>\n",
              "      <td>42.729</td>\n",
              "      <td>19.6</td>\n",
              "      <td>2.822</td>\n",
              "      <td>1.882</td>\n",
              "      <td>1899.775</td>\n",
              "      <td>21.4</td>\n",
              "      <td>307.846</td>\n",
              "      <td>1.82</td>\n",
              "      <td>1.6</td>\n",
              "      <td>30.7</td>\n",
              "      <td>36.791</td>\n",
              "      <td>1.7</td>\n",
              "      <td>61.49</td>\n",
              "    </tr>\n",
              "    <tr>\n",
              "      <th>27768</th>\n",
              "      <td>ZWE</td>\n",
              "      <td>Africa</td>\n",
              "      <td>Zimbabwe</td>\n",
              "      <td>(2020, 6, 21, 0, 0, 0, 6, 173, -1)</td>\n",
              "      <td>486.0</td>\n",
              "      <td>7.0</td>\n",
              "      <td>6.0</td>\n",
              "      <td>2.0</td>\n",
              "      <td>32.699</td>\n",
              "      <td>0.471</td>\n",
              "      <td>0.404</td>\n",
              "      <td>0.135</td>\n",
              "      <td>26857.0</td>\n",
              "      <td>406.0</td>\n",
              "      <td>1.807</td>\n",
              "      <td>0.027</td>\n",
              "      <td>393.0</td>\n",
              "      <td>0.026</td>\n",
              "      <td>tests performed</td>\n",
              "      <td>70.37</td>\n",
              "      <td>14862927.0</td>\n",
              "      <td>42.729</td>\n",
              "      <td>19.6</td>\n",
              "      <td>2.822</td>\n",
              "      <td>1.882</td>\n",
              "      <td>1899.775</td>\n",
              "      <td>21.4</td>\n",
              "      <td>307.846</td>\n",
              "      <td>1.82</td>\n",
              "      <td>1.6</td>\n",
              "      <td>30.7</td>\n",
              "      <td>36.791</td>\n",
              "      <td>1.7</td>\n",
              "      <td>61.49</td>\n",
              "    </tr>\n",
              "    <tr>\n",
              "      <th>27769</th>\n",
              "      <td>ZWE</td>\n",
              "      <td>Africa</td>\n",
              "      <td>Zimbabwe</td>\n",
              "      <td>(2020, 6, 22, 0, 0, 0, 0, 174, -1)</td>\n",
              "      <td>489.0</td>\n",
              "      <td>3.0</td>\n",
              "      <td>6.0</td>\n",
              "      <td>0.0</td>\n",
              "      <td>32.901</td>\n",
              "      <td>0.202</td>\n",
              "      <td>0.404</td>\n",
              "      <td>0.000</td>\n",
              "      <td>27221.0</td>\n",
              "      <td>364.0</td>\n",
              "      <td>1.831</td>\n",
              "      <td>0.024</td>\n",
              "      <td>373.0</td>\n",
              "      <td>0.025</td>\n",
              "      <td>tests performed</td>\n",
              "      <td>70.37</td>\n",
              "      <td>14862927.0</td>\n",
              "      <td>42.729</td>\n",
              "      <td>19.6</td>\n",
              "      <td>2.822</td>\n",
              "      <td>1.882</td>\n",
              "      <td>1899.775</td>\n",
              "      <td>21.4</td>\n",
              "      <td>307.846</td>\n",
              "      <td>1.82</td>\n",
              "      <td>1.6</td>\n",
              "      <td>30.7</td>\n",
              "      <td>36.791</td>\n",
              "      <td>1.7</td>\n",
              "      <td>61.49</td>\n",
              "    </tr>\n",
              "  </tbody>\n",
              "</table>\n",
              "</div>"
            ],
            "text/plain": [
              "      iso_code continent  ... hospital_beds_per_thousand life_expectancy\n",
              "27765      ZWE    Africa  ...                        1.7           61.49\n",
              "27766      ZWE    Africa  ...                        1.7           61.49\n",
              "27767      ZWE    Africa  ...                        1.7           61.49\n",
              "27768      ZWE    Africa  ...                        1.7           61.49\n",
              "27769      ZWE    Africa  ...                        1.7           61.49\n",
              "\n",
              "[5 rows x 34 columns]"
            ]
          },
          "metadata": {
            "tags": []
          },
          "execution_count": 1011
        }
      ]
    },
    {
      "cell_type": "code",
      "metadata": {
        "id": "IGR0p0YWh9jH",
        "colab_type": "code",
        "colab": {
          "base_uri": "https://localhost:8080/",
          "height": 241
        },
        "outputId": "50e6980b-8f11-4836-872f-47110f2ab4fa"
      },
      "source": [
        "# Isolate forex_date\n",
        "import time \n",
        "forex_date = forex_dataset['Date']\n",
        "new_forex_dates = [time.strptime(x.replace(',', \"\"), '%b %d %Y')for x in forex_date]\n",
        "print(new_forex_dates)\n",
        "forex_dataset['Date'] = new_forex_dates\n",
        "forex_dataset.tail()"
      ],
      "execution_count": 1012,
      "outputs": [
        {
          "output_type": "stream",
          "text": [
            "[time.struct_time(tm_year=2020, tm_mon=7, tm_mday=3, tm_hour=0, tm_min=0, tm_sec=0, tm_wday=4, tm_yday=185, tm_isdst=-1), time.struct_time(tm_year=2020, tm_mon=7, tm_mday=2, tm_hour=0, tm_min=0, tm_sec=0, tm_wday=3, tm_yday=184, tm_isdst=-1), time.struct_time(tm_year=2020, tm_mon=7, tm_mday=1, tm_hour=0, tm_min=0, tm_sec=0, tm_wday=2, tm_yday=183, tm_isdst=-1), time.struct_time(tm_year=2020, tm_mon=6, tm_mday=30, tm_hour=0, tm_min=0, tm_sec=0, tm_wday=1, tm_yday=182, tm_isdst=-1), time.struct_time(tm_year=2020, tm_mon=6, tm_mday=29, tm_hour=0, tm_min=0, tm_sec=0, tm_wday=0, tm_yday=181, tm_isdst=-1), time.struct_time(tm_year=2020, tm_mon=6, tm_mday=26, tm_hour=0, tm_min=0, tm_sec=0, tm_wday=4, tm_yday=178, tm_isdst=-1), time.struct_time(tm_year=2020, tm_mon=6, tm_mday=25, tm_hour=0, tm_min=0, tm_sec=0, tm_wday=3, tm_yday=177, tm_isdst=-1), time.struct_time(tm_year=2020, tm_mon=6, tm_mday=24, tm_hour=0, tm_min=0, tm_sec=0, tm_wday=2, tm_yday=176, tm_isdst=-1), time.struct_time(tm_year=2020, tm_mon=6, tm_mday=23, tm_hour=0, tm_min=0, tm_sec=0, tm_wday=1, tm_yday=175, tm_isdst=-1), time.struct_time(tm_year=2020, tm_mon=6, tm_mday=22, tm_hour=0, tm_min=0, tm_sec=0, tm_wday=0, tm_yday=174, tm_isdst=-1), time.struct_time(tm_year=2020, tm_mon=6, tm_mday=19, tm_hour=0, tm_min=0, tm_sec=0, tm_wday=4, tm_yday=171, tm_isdst=-1), time.struct_time(tm_year=2020, tm_mon=6, tm_mday=18, tm_hour=0, tm_min=0, tm_sec=0, tm_wday=3, tm_yday=170, tm_isdst=-1), time.struct_time(tm_year=2020, tm_mon=6, tm_mday=17, tm_hour=0, tm_min=0, tm_sec=0, tm_wday=2, tm_yday=169, tm_isdst=-1), time.struct_time(tm_year=2020, tm_mon=6, tm_mday=16, tm_hour=0, tm_min=0, tm_sec=0, tm_wday=1, tm_yday=168, tm_isdst=-1), time.struct_time(tm_year=2020, tm_mon=6, tm_mday=15, tm_hour=0, tm_min=0, tm_sec=0, tm_wday=0, tm_yday=167, tm_isdst=-1), time.struct_time(tm_year=2020, tm_mon=6, tm_mday=12, tm_hour=0, tm_min=0, tm_sec=0, tm_wday=4, tm_yday=164, tm_isdst=-1), time.struct_time(tm_year=2020, tm_mon=6, tm_mday=11, tm_hour=0, tm_min=0, tm_sec=0, tm_wday=3, tm_yday=163, tm_isdst=-1), time.struct_time(tm_year=2020, tm_mon=6, tm_mday=10, tm_hour=0, tm_min=0, tm_sec=0, tm_wday=2, tm_yday=162, tm_isdst=-1), time.struct_time(tm_year=2020, tm_mon=6, tm_mday=9, tm_hour=0, tm_min=0, tm_sec=0, tm_wday=1, tm_yday=161, tm_isdst=-1), time.struct_time(tm_year=2020, tm_mon=6, tm_mday=8, tm_hour=0, tm_min=0, tm_sec=0, tm_wday=0, tm_yday=160, tm_isdst=-1), time.struct_time(tm_year=2020, tm_mon=6, tm_mday=5, tm_hour=0, tm_min=0, tm_sec=0, tm_wday=4, tm_yday=157, tm_isdst=-1), time.struct_time(tm_year=2020, tm_mon=6, tm_mday=4, tm_hour=0, tm_min=0, tm_sec=0, tm_wday=3, tm_yday=156, tm_isdst=-1), time.struct_time(tm_year=2020, tm_mon=6, tm_mday=3, tm_hour=0, tm_min=0, tm_sec=0, tm_wday=2, tm_yday=155, tm_isdst=-1), time.struct_time(tm_year=2020, tm_mon=6, tm_mday=2, tm_hour=0, tm_min=0, tm_sec=0, tm_wday=1, tm_yday=154, tm_isdst=-1), time.struct_time(tm_year=2020, tm_mon=6, tm_mday=1, tm_hour=0, tm_min=0, tm_sec=0, tm_wday=0, tm_yday=153, tm_isdst=-1), time.struct_time(tm_year=2020, tm_mon=5, tm_mday=29, tm_hour=0, tm_min=0, tm_sec=0, tm_wday=4, tm_yday=150, tm_isdst=-1), time.struct_time(tm_year=2020, tm_mon=5, tm_mday=28, tm_hour=0, tm_min=0, tm_sec=0, tm_wday=3, tm_yday=149, tm_isdst=-1), time.struct_time(tm_year=2020, tm_mon=5, tm_mday=27, tm_hour=0, tm_min=0, tm_sec=0, tm_wday=2, tm_yday=148, tm_isdst=-1), time.struct_time(tm_year=2020, tm_mon=5, tm_mday=26, tm_hour=0, tm_min=0, tm_sec=0, tm_wday=1, tm_yday=147, tm_isdst=-1), time.struct_time(tm_year=2020, tm_mon=5, tm_mday=25, tm_hour=0, tm_min=0, tm_sec=0, tm_wday=0, tm_yday=146, tm_isdst=-1), time.struct_time(tm_year=2020, tm_mon=5, tm_mday=22, tm_hour=0, tm_min=0, tm_sec=0, tm_wday=4, tm_yday=143, tm_isdst=-1), time.struct_time(tm_year=2020, tm_mon=5, tm_mday=21, tm_hour=0, tm_min=0, tm_sec=0, tm_wday=3, tm_yday=142, tm_isdst=-1), time.struct_time(tm_year=2020, tm_mon=5, tm_mday=20, tm_hour=0, tm_min=0, tm_sec=0, tm_wday=2, tm_yday=141, tm_isdst=-1), time.struct_time(tm_year=2020, tm_mon=5, tm_mday=19, tm_hour=0, tm_min=0, tm_sec=0, tm_wday=1, tm_yday=140, tm_isdst=-1), time.struct_time(tm_year=2020, tm_mon=5, tm_mday=18, tm_hour=0, tm_min=0, tm_sec=0, tm_wday=0, tm_yday=139, tm_isdst=-1), time.struct_time(tm_year=2020, tm_mon=5, tm_mday=15, tm_hour=0, tm_min=0, tm_sec=0, tm_wday=4, tm_yday=136, tm_isdst=-1), time.struct_time(tm_year=2020, tm_mon=5, tm_mday=14, tm_hour=0, tm_min=0, tm_sec=0, tm_wday=3, tm_yday=135, tm_isdst=-1), time.struct_time(tm_year=2020, tm_mon=5, tm_mday=13, tm_hour=0, tm_min=0, tm_sec=0, tm_wday=2, tm_yday=134, tm_isdst=-1), time.struct_time(tm_year=2020, tm_mon=5, tm_mday=12, tm_hour=0, tm_min=0, tm_sec=0, tm_wday=1, tm_yday=133, tm_isdst=-1), time.struct_time(tm_year=2020, tm_mon=5, tm_mday=11, tm_hour=0, tm_min=0, tm_sec=0, tm_wday=0, tm_yday=132, tm_isdst=-1), time.struct_time(tm_year=2020, tm_mon=5, tm_mday=8, tm_hour=0, tm_min=0, tm_sec=0, tm_wday=4, tm_yday=129, tm_isdst=-1), time.struct_time(tm_year=2020, tm_mon=5, tm_mday=7, tm_hour=0, tm_min=0, tm_sec=0, tm_wday=3, tm_yday=128, tm_isdst=-1), time.struct_time(tm_year=2020, tm_mon=5, tm_mday=6, tm_hour=0, tm_min=0, tm_sec=0, tm_wday=2, tm_yday=127, tm_isdst=-1), time.struct_time(tm_year=2020, tm_mon=5, tm_mday=5, tm_hour=0, tm_min=0, tm_sec=0, tm_wday=1, tm_yday=126, tm_isdst=-1), time.struct_time(tm_year=2020, tm_mon=5, tm_mday=4, tm_hour=0, tm_min=0, tm_sec=0, tm_wday=0, tm_yday=125, tm_isdst=-1), time.struct_time(tm_year=2020, tm_mon=5, tm_mday=1, tm_hour=0, tm_min=0, tm_sec=0, tm_wday=4, tm_yday=122, tm_isdst=-1), time.struct_time(tm_year=2020, tm_mon=4, tm_mday=30, tm_hour=0, tm_min=0, tm_sec=0, tm_wday=3, tm_yday=121, tm_isdst=-1), time.struct_time(tm_year=2020, tm_mon=4, tm_mday=29, tm_hour=0, tm_min=0, tm_sec=0, tm_wday=2, tm_yday=120, tm_isdst=-1), time.struct_time(tm_year=2020, tm_mon=4, tm_mday=28, tm_hour=0, tm_min=0, tm_sec=0, tm_wday=1, tm_yday=119, tm_isdst=-1), time.struct_time(tm_year=2020, tm_mon=4, tm_mday=27, tm_hour=0, tm_min=0, tm_sec=0, tm_wday=0, tm_yday=118, tm_isdst=-1), time.struct_time(tm_year=2020, tm_mon=4, tm_mday=24, tm_hour=0, tm_min=0, tm_sec=0, tm_wday=4, tm_yday=115, tm_isdst=-1), time.struct_time(tm_year=2020, tm_mon=4, tm_mday=23, tm_hour=0, tm_min=0, tm_sec=0, tm_wday=3, tm_yday=114, tm_isdst=-1), time.struct_time(tm_year=2020, tm_mon=4, tm_mday=22, tm_hour=0, tm_min=0, tm_sec=0, tm_wday=2, tm_yday=113, tm_isdst=-1), time.struct_time(tm_year=2020, tm_mon=4, tm_mday=21, tm_hour=0, tm_min=0, tm_sec=0, tm_wday=1, tm_yday=112, tm_isdst=-1), time.struct_time(tm_year=2020, tm_mon=4, tm_mday=20, tm_hour=0, tm_min=0, tm_sec=0, tm_wday=0, tm_yday=111, tm_isdst=-1), time.struct_time(tm_year=2020, tm_mon=4, tm_mday=17, tm_hour=0, tm_min=0, tm_sec=0, tm_wday=4, tm_yday=108, tm_isdst=-1), time.struct_time(tm_year=2020, tm_mon=4, tm_mday=16, tm_hour=0, tm_min=0, tm_sec=0, tm_wday=3, tm_yday=107, tm_isdst=-1), time.struct_time(tm_year=2020, tm_mon=4, tm_mday=15, tm_hour=0, tm_min=0, tm_sec=0, tm_wday=2, tm_yday=106, tm_isdst=-1), time.struct_time(tm_year=2020, tm_mon=4, tm_mday=14, tm_hour=0, tm_min=0, tm_sec=0, tm_wday=1, tm_yday=105, tm_isdst=-1), time.struct_time(tm_year=2020, tm_mon=4, tm_mday=13, tm_hour=0, tm_min=0, tm_sec=0, tm_wday=0, tm_yday=104, tm_isdst=-1), time.struct_time(tm_year=2020, tm_mon=4, tm_mday=10, tm_hour=0, tm_min=0, tm_sec=0, tm_wday=4, tm_yday=101, tm_isdst=-1), time.struct_time(tm_year=2020, tm_mon=4, tm_mday=9, tm_hour=0, tm_min=0, tm_sec=0, tm_wday=3, tm_yday=100, tm_isdst=-1), time.struct_time(tm_year=2020, tm_mon=4, tm_mday=8, tm_hour=0, tm_min=0, tm_sec=0, tm_wday=2, tm_yday=99, tm_isdst=-1), time.struct_time(tm_year=2020, tm_mon=4, tm_mday=7, tm_hour=0, tm_min=0, tm_sec=0, tm_wday=1, tm_yday=98, tm_isdst=-1), time.struct_time(tm_year=2020, tm_mon=4, tm_mday=6, tm_hour=0, tm_min=0, tm_sec=0, tm_wday=0, tm_yday=97, tm_isdst=-1), time.struct_time(tm_year=2020, tm_mon=4, tm_mday=3, tm_hour=0, tm_min=0, tm_sec=0, tm_wday=4, tm_yday=94, tm_isdst=-1), time.struct_time(tm_year=2020, tm_mon=4, tm_mday=2, tm_hour=0, tm_min=0, tm_sec=0, tm_wday=3, tm_yday=93, tm_isdst=-1), time.struct_time(tm_year=2020, tm_mon=4, tm_mday=1, tm_hour=0, tm_min=0, tm_sec=0, tm_wday=2, tm_yday=92, tm_isdst=-1), time.struct_time(tm_year=2020, tm_mon=3, tm_mday=31, tm_hour=0, tm_min=0, tm_sec=0, tm_wday=1, tm_yday=91, tm_isdst=-1), time.struct_time(tm_year=2020, tm_mon=3, tm_mday=30, tm_hour=0, tm_min=0, tm_sec=0, tm_wday=0, tm_yday=90, tm_isdst=-1), time.struct_time(tm_year=2020, tm_mon=3, tm_mday=27, tm_hour=0, tm_min=0, tm_sec=0, tm_wday=4, tm_yday=87, tm_isdst=-1), time.struct_time(tm_year=2020, tm_mon=3, tm_mday=26, tm_hour=0, tm_min=0, tm_sec=0, tm_wday=3, tm_yday=86, tm_isdst=-1), time.struct_time(tm_year=2020, tm_mon=3, tm_mday=25, tm_hour=0, tm_min=0, tm_sec=0, tm_wday=2, tm_yday=85, tm_isdst=-1), time.struct_time(tm_year=2020, tm_mon=3, tm_mday=24, tm_hour=0, tm_min=0, tm_sec=0, tm_wday=1, tm_yday=84, tm_isdst=-1), time.struct_time(tm_year=2020, tm_mon=3, tm_mday=23, tm_hour=0, tm_min=0, tm_sec=0, tm_wday=0, tm_yday=83, tm_isdst=-1), time.struct_time(tm_year=2020, tm_mon=3, tm_mday=20, tm_hour=0, tm_min=0, tm_sec=0, tm_wday=4, tm_yday=80, tm_isdst=-1), time.struct_time(tm_year=2020, tm_mon=3, tm_mday=19, tm_hour=0, tm_min=0, tm_sec=0, tm_wday=3, tm_yday=79, tm_isdst=-1), time.struct_time(tm_year=2020, tm_mon=3, tm_mday=18, tm_hour=0, tm_min=0, tm_sec=0, tm_wday=2, tm_yday=78, tm_isdst=-1), time.struct_time(tm_year=2020, tm_mon=3, tm_mday=17, tm_hour=0, tm_min=0, tm_sec=0, tm_wday=1, tm_yday=77, tm_isdst=-1), time.struct_time(tm_year=2020, tm_mon=3, tm_mday=16, tm_hour=0, tm_min=0, tm_sec=0, tm_wday=0, tm_yday=76, tm_isdst=-1), time.struct_time(tm_year=2020, tm_mon=3, tm_mday=13, tm_hour=0, tm_min=0, tm_sec=0, tm_wday=4, tm_yday=73, tm_isdst=-1), time.struct_time(tm_year=2020, tm_mon=3, tm_mday=12, tm_hour=0, tm_min=0, tm_sec=0, tm_wday=3, tm_yday=72, tm_isdst=-1), time.struct_time(tm_year=2020, tm_mon=3, tm_mday=11, tm_hour=0, tm_min=0, tm_sec=0, tm_wday=2, tm_yday=71, tm_isdst=-1), time.struct_time(tm_year=2020, tm_mon=3, tm_mday=10, tm_hour=0, tm_min=0, tm_sec=0, tm_wday=1, tm_yday=70, tm_isdst=-1), time.struct_time(tm_year=2020, tm_mon=3, tm_mday=9, tm_hour=0, tm_min=0, tm_sec=0, tm_wday=0, tm_yday=69, tm_isdst=-1), time.struct_time(tm_year=2020, tm_mon=3, tm_mday=6, tm_hour=0, tm_min=0, tm_sec=0, tm_wday=4, tm_yday=66, tm_isdst=-1), time.struct_time(tm_year=2020, tm_mon=3, tm_mday=5, tm_hour=0, tm_min=0, tm_sec=0, tm_wday=3, tm_yday=65, tm_isdst=-1), time.struct_time(tm_year=2020, tm_mon=3, tm_mday=4, tm_hour=0, tm_min=0, tm_sec=0, tm_wday=2, tm_yday=64, tm_isdst=-1), time.struct_time(tm_year=2020, tm_mon=3, tm_mday=3, tm_hour=0, tm_min=0, tm_sec=0, tm_wday=1, tm_yday=63, tm_isdst=-1), time.struct_time(tm_year=2020, tm_mon=3, tm_mday=2, tm_hour=0, tm_min=0, tm_sec=0, tm_wday=0, tm_yday=62, tm_isdst=-1), time.struct_time(tm_year=2020, tm_mon=2, tm_mday=28, tm_hour=0, tm_min=0, tm_sec=0, tm_wday=4, tm_yday=59, tm_isdst=-1), time.struct_time(tm_year=2020, tm_mon=2, tm_mday=27, tm_hour=0, tm_min=0, tm_sec=0, tm_wday=3, tm_yday=58, tm_isdst=-1), time.struct_time(tm_year=2020, tm_mon=2, tm_mday=26, tm_hour=0, tm_min=0, tm_sec=0, tm_wday=2, tm_yday=57, tm_isdst=-1), time.struct_time(tm_year=2020, tm_mon=2, tm_mday=25, tm_hour=0, tm_min=0, tm_sec=0, tm_wday=1, tm_yday=56, tm_isdst=-1), time.struct_time(tm_year=2020, tm_mon=2, tm_mday=24, tm_hour=0, tm_min=0, tm_sec=0, tm_wday=0, tm_yday=55, tm_isdst=-1), time.struct_time(tm_year=2020, tm_mon=2, tm_mday=21, tm_hour=0, tm_min=0, tm_sec=0, tm_wday=4, tm_yday=52, tm_isdst=-1), time.struct_time(tm_year=2020, tm_mon=2, tm_mday=20, tm_hour=0, tm_min=0, tm_sec=0, tm_wday=3, tm_yday=51, tm_isdst=-1), time.struct_time(tm_year=2020, tm_mon=2, tm_mday=19, tm_hour=0, tm_min=0, tm_sec=0, tm_wday=2, tm_yday=50, tm_isdst=-1), time.struct_time(tm_year=2020, tm_mon=2, tm_mday=18, tm_hour=0, tm_min=0, tm_sec=0, tm_wday=1, tm_yday=49, tm_isdst=-1), time.struct_time(tm_year=2020, tm_mon=2, tm_mday=17, tm_hour=0, tm_min=0, tm_sec=0, tm_wday=0, tm_yday=48, tm_isdst=-1), time.struct_time(tm_year=2020, tm_mon=2, tm_mday=14, tm_hour=0, tm_min=0, tm_sec=0, tm_wday=4, tm_yday=45, tm_isdst=-1), time.struct_time(tm_year=2020, tm_mon=2, tm_mday=13, tm_hour=0, tm_min=0, tm_sec=0, tm_wday=3, tm_yday=44, tm_isdst=-1), time.struct_time(tm_year=2020, tm_mon=2, tm_mday=12, tm_hour=0, tm_min=0, tm_sec=0, tm_wday=2, tm_yday=43, tm_isdst=-1), time.struct_time(tm_year=2020, tm_mon=2, tm_mday=11, tm_hour=0, tm_min=0, tm_sec=0, tm_wday=1, tm_yday=42, tm_isdst=-1), time.struct_time(tm_year=2020, tm_mon=2, tm_mday=10, tm_hour=0, tm_min=0, tm_sec=0, tm_wday=0, tm_yday=41, tm_isdst=-1), time.struct_time(tm_year=2020, tm_mon=2, tm_mday=7, tm_hour=0, tm_min=0, tm_sec=0, tm_wday=4, tm_yday=38, tm_isdst=-1), time.struct_time(tm_year=2020, tm_mon=2, tm_mday=6, tm_hour=0, tm_min=0, tm_sec=0, tm_wday=3, tm_yday=37, tm_isdst=-1), time.struct_time(tm_year=2020, tm_mon=2, tm_mday=5, tm_hour=0, tm_min=0, tm_sec=0, tm_wday=2, tm_yday=36, tm_isdst=-1), time.struct_time(tm_year=2020, tm_mon=2, tm_mday=4, tm_hour=0, tm_min=0, tm_sec=0, tm_wday=1, tm_yday=35, tm_isdst=-1), time.struct_time(tm_year=2020, tm_mon=2, tm_mday=3, tm_hour=0, tm_min=0, tm_sec=0, tm_wday=0, tm_yday=34, tm_isdst=-1), time.struct_time(tm_year=2020, tm_mon=1, tm_mday=31, tm_hour=0, tm_min=0, tm_sec=0, tm_wday=4, tm_yday=31, tm_isdst=-1), time.struct_time(tm_year=2020, tm_mon=1, tm_mday=30, tm_hour=0, tm_min=0, tm_sec=0, tm_wday=3, tm_yday=30, tm_isdst=-1), time.struct_time(tm_year=2020, tm_mon=1, tm_mday=29, tm_hour=0, tm_min=0, tm_sec=0, tm_wday=2, tm_yday=29, tm_isdst=-1), time.struct_time(tm_year=2020, tm_mon=1, tm_mday=28, tm_hour=0, tm_min=0, tm_sec=0, tm_wday=1, tm_yday=28, tm_isdst=-1), time.struct_time(tm_year=2020, tm_mon=1, tm_mday=27, tm_hour=0, tm_min=0, tm_sec=0, tm_wday=0, tm_yday=27, tm_isdst=-1), time.struct_time(tm_year=2020, tm_mon=1, tm_mday=24, tm_hour=0, tm_min=0, tm_sec=0, tm_wday=4, tm_yday=24, tm_isdst=-1), time.struct_time(tm_year=2020, tm_mon=1, tm_mday=23, tm_hour=0, tm_min=0, tm_sec=0, tm_wday=3, tm_yday=23, tm_isdst=-1), time.struct_time(tm_year=2020, tm_mon=1, tm_mday=22, tm_hour=0, tm_min=0, tm_sec=0, tm_wday=2, tm_yday=22, tm_isdst=-1), time.struct_time(tm_year=2020, tm_mon=1, tm_mday=21, tm_hour=0, tm_min=0, tm_sec=0, tm_wday=1, tm_yday=21, tm_isdst=-1), time.struct_time(tm_year=2020, tm_mon=1, tm_mday=20, tm_hour=0, tm_min=0, tm_sec=0, tm_wday=0, tm_yday=20, tm_isdst=-1), time.struct_time(tm_year=2020, tm_mon=1, tm_mday=17, tm_hour=0, tm_min=0, tm_sec=0, tm_wday=4, tm_yday=17, tm_isdst=-1), time.struct_time(tm_year=2020, tm_mon=1, tm_mday=16, tm_hour=0, tm_min=0, tm_sec=0, tm_wday=3, tm_yday=16, tm_isdst=-1), time.struct_time(tm_year=2020, tm_mon=1, tm_mday=15, tm_hour=0, tm_min=0, tm_sec=0, tm_wday=2, tm_yday=15, tm_isdst=-1), time.struct_time(tm_year=2020, tm_mon=1, tm_mday=14, tm_hour=0, tm_min=0, tm_sec=0, tm_wday=1, tm_yday=14, tm_isdst=-1), time.struct_time(tm_year=2020, tm_mon=1, tm_mday=13, tm_hour=0, tm_min=0, tm_sec=0, tm_wday=0, tm_yday=13, tm_isdst=-1), time.struct_time(tm_year=2020, tm_mon=1, tm_mday=10, tm_hour=0, tm_min=0, tm_sec=0, tm_wday=4, tm_yday=10, tm_isdst=-1), time.struct_time(tm_year=2020, tm_mon=1, tm_mday=9, tm_hour=0, tm_min=0, tm_sec=0, tm_wday=3, tm_yday=9, tm_isdst=-1), time.struct_time(tm_year=2020, tm_mon=1, tm_mday=8, tm_hour=0, tm_min=0, tm_sec=0, tm_wday=2, tm_yday=8, tm_isdst=-1), time.struct_time(tm_year=2020, tm_mon=1, tm_mday=7, tm_hour=0, tm_min=0, tm_sec=0, tm_wday=1, tm_yday=7, tm_isdst=-1), time.struct_time(tm_year=2020, tm_mon=1, tm_mday=6, tm_hour=0, tm_min=0, tm_sec=0, tm_wday=0, tm_yday=6, tm_isdst=-1), time.struct_time(tm_year=2020, tm_mon=1, tm_mday=3, tm_hour=0, tm_min=0, tm_sec=0, tm_wday=4, tm_yday=3, tm_isdst=-1), time.struct_time(tm_year=2020, tm_mon=1, tm_mday=2, tm_hour=0, tm_min=0, tm_sec=0, tm_wday=3, tm_yday=2, tm_isdst=-1), time.struct_time(tm_year=2020, tm_mon=1, tm_mday=1, tm_hour=0, tm_min=0, tm_sec=0, tm_wday=2, tm_yday=1, tm_isdst=-1), time.struct_time(tm_year=2019, tm_mon=12, tm_mday=31, tm_hour=0, tm_min=0, tm_sec=0, tm_wday=1, tm_yday=365, tm_isdst=-1), time.struct_time(tm_year=2019, tm_mon=12, tm_mday=30, tm_hour=0, tm_min=0, tm_sec=0, tm_wday=0, tm_yday=364, tm_isdst=-1), time.struct_time(tm_year=2019, tm_mon=12, tm_mday=27, tm_hour=0, tm_min=0, tm_sec=0, tm_wday=4, tm_yday=361, tm_isdst=-1), time.struct_time(tm_year=2019, tm_mon=12, tm_mday=26, tm_hour=0, tm_min=0, tm_sec=0, tm_wday=3, tm_yday=360, tm_isdst=-1), time.struct_time(tm_year=2019, tm_mon=12, tm_mday=25, tm_hour=0, tm_min=0, tm_sec=0, tm_wday=2, tm_yday=359, tm_isdst=-1), time.struct_time(tm_year=2019, tm_mon=12, tm_mday=24, tm_hour=0, tm_min=0, tm_sec=0, tm_wday=1, tm_yday=358, tm_isdst=-1), time.struct_time(tm_year=2019, tm_mon=12, tm_mday=23, tm_hour=0, tm_min=0, tm_sec=0, tm_wday=0, tm_yday=357, tm_isdst=-1), time.struct_time(tm_year=2019, tm_mon=12, tm_mday=20, tm_hour=0, tm_min=0, tm_sec=0, tm_wday=4, tm_yday=354, tm_isdst=-1), time.struct_time(tm_year=2019, tm_mon=12, tm_mday=19, tm_hour=0, tm_min=0, tm_sec=0, tm_wday=3, tm_yday=353, tm_isdst=-1), time.struct_time(tm_year=2019, tm_mon=12, tm_mday=18, tm_hour=0, tm_min=0, tm_sec=0, tm_wday=2, tm_yday=352, tm_isdst=-1), time.struct_time(tm_year=2019, tm_mon=12, tm_mday=17, tm_hour=0, tm_min=0, tm_sec=0, tm_wday=1, tm_yday=351, tm_isdst=-1), time.struct_time(tm_year=2019, tm_mon=12, tm_mday=16, tm_hour=0, tm_min=0, tm_sec=0, tm_wday=0, tm_yday=350, tm_isdst=-1), time.struct_time(tm_year=2019, tm_mon=12, tm_mday=13, tm_hour=0, tm_min=0, tm_sec=0, tm_wday=4, tm_yday=347, tm_isdst=-1), time.struct_time(tm_year=2019, tm_mon=12, tm_mday=12, tm_hour=0, tm_min=0, tm_sec=0, tm_wday=3, tm_yday=346, tm_isdst=-1), time.struct_time(tm_year=2019, tm_mon=12, tm_mday=11, tm_hour=0, tm_min=0, tm_sec=0, tm_wday=2, tm_yday=345, tm_isdst=-1), time.struct_time(tm_year=2019, tm_mon=12, tm_mday=10, tm_hour=0, tm_min=0, tm_sec=0, tm_wday=1, tm_yday=344, tm_isdst=-1), time.struct_time(tm_year=2019, tm_mon=12, tm_mday=9, tm_hour=0, tm_min=0, tm_sec=0, tm_wday=0, tm_yday=343, tm_isdst=-1), time.struct_time(tm_year=2019, tm_mon=12, tm_mday=6, tm_hour=0, tm_min=0, tm_sec=0, tm_wday=4, tm_yday=340, tm_isdst=-1), time.struct_time(tm_year=2019, tm_mon=12, tm_mday=5, tm_hour=0, tm_min=0, tm_sec=0, tm_wday=3, tm_yday=339, tm_isdst=-1), time.struct_time(tm_year=2019, tm_mon=12, tm_mday=4, tm_hour=0, tm_min=0, tm_sec=0, tm_wday=2, tm_yday=338, tm_isdst=-1), time.struct_time(tm_year=2019, tm_mon=12, tm_mday=3, tm_hour=0, tm_min=0, tm_sec=0, tm_wday=1, tm_yday=337, tm_isdst=-1), time.struct_time(tm_year=2019, tm_mon=12, tm_mday=2, tm_hour=0, tm_min=0, tm_sec=0, tm_wday=0, tm_yday=336, tm_isdst=-1)]\n"
          ],
          "name": "stdout"
        },
        {
          "output_type": "execute_result",
          "data": {
            "text/html": [
              "<div>\n",
              "<style scoped>\n",
              "    .dataframe tbody tr th:only-of-type {\n",
              "        vertical-align: middle;\n",
              "    }\n",
              "\n",
              "    .dataframe tbody tr th {\n",
              "        vertical-align: top;\n",
              "    }\n",
              "\n",
              "    .dataframe thead th {\n",
              "        text-align: right;\n",
              "    }\n",
              "</style>\n",
              "<table border=\"1\" class=\"dataframe\">\n",
              "  <thead>\n",
              "    <tr style=\"text-align: right;\">\n",
              "      <th></th>\n",
              "      <th>Date</th>\n",
              "      <th>Price</th>\n",
              "      <th>Open</th>\n",
              "      <th>High</th>\n",
              "      <th>Low</th>\n",
              "      <th>Change %</th>\n",
              "    </tr>\n",
              "  </thead>\n",
              "  <tbody>\n",
              "    <tr>\n",
              "      <th>150</th>\n",
              "      <td>(2019, 12, 6, 0, 0, 0, 4, 340, -1)</td>\n",
              "      <td>1.3137</td>\n",
              "      <td>1.3157</td>\n",
              "      <td>1.3167</td>\n",
              "      <td>1.3100</td>\n",
              "      <td>-0.15%</td>\n",
              "    </tr>\n",
              "    <tr>\n",
              "      <th>151</th>\n",
              "      <td>(2019, 12, 5, 0, 0, 0, 3, 339, -1)</td>\n",
              "      <td>1.3157</td>\n",
              "      <td>1.3105</td>\n",
              "      <td>1.3168</td>\n",
              "      <td>1.3102</td>\n",
              "      <td>0.40%</td>\n",
              "    </tr>\n",
              "    <tr>\n",
              "      <th>152</th>\n",
              "      <td>(2019, 12, 4, 0, 0, 0, 2, 338, -1)</td>\n",
              "      <td>1.3104</td>\n",
              "      <td>1.2992</td>\n",
              "      <td>1.3121</td>\n",
              "      <td>1.2981</td>\n",
              "      <td>0.85%</td>\n",
              "    </tr>\n",
              "    <tr>\n",
              "      <th>153</th>\n",
              "      <td>(2019, 12, 3, 0, 0, 0, 1, 337, -1)</td>\n",
              "      <td>1.2994</td>\n",
              "      <td>1.2938</td>\n",
              "      <td>1.3013</td>\n",
              "      <td>1.2930</td>\n",
              "      <td>0.44%</td>\n",
              "    </tr>\n",
              "    <tr>\n",
              "      <th>154</th>\n",
              "      <td>(2019, 12, 2, 0, 0, 0, 0, 336, -1)</td>\n",
              "      <td>1.2937</td>\n",
              "      <td>1.2917</td>\n",
              "      <td>1.2951</td>\n",
              "      <td>1.2895</td>\n",
              "      <td>0.02%</td>\n",
              "    </tr>\n",
              "  </tbody>\n",
              "</table>\n",
              "</div>"
            ],
            "text/plain": [
              "                                   Date   Price  ...     Low  Change %\n",
              "150  (2019, 12, 6, 0, 0, 0, 4, 340, -1)  1.3137  ...  1.3100    -0.15%\n",
              "151  (2019, 12, 5, 0, 0, 0, 3, 339, -1)  1.3157  ...  1.3102     0.40%\n",
              "152  (2019, 12, 4, 0, 0, 0, 2, 338, -1)  1.3104  ...  1.2981     0.85%\n",
              "153  (2019, 12, 3, 0, 0, 0, 1, 337, -1)  1.2994  ...  1.2930     0.44%\n",
              "154  (2019, 12, 2, 0, 0, 0, 0, 336, -1)  1.2937  ...  1.2895     0.02%\n",
              "\n",
              "[5 rows x 6 columns]"
            ]
          },
          "metadata": {
            "tags": []
          },
          "execution_count": 1012
        }
      ]
    },
    {
      "cell_type": "code",
      "metadata": {
        "id": "OiFVDAF0ngrx",
        "colab_type": "code",
        "colab": {
          "base_uri": "https://localhost:8080/",
          "height": 204
        },
        "outputId": "9e6c9ce0-ae3d-43e7-ec1f-26bd209932c1"
      },
      "source": [
        "# Merging dates from two tables\n",
        "# Created us_death_rate table\n",
        "# Problem: United States did not work when == 'United States'\n",
        "# Shall use Zimbabwe as an example for now and will go back to figure why this is the case \n",
        "dataset = pd.merge(left=forex_dataset, left_on='Date',\n",
        "         right=covid_dataset, right_on='date')\n",
        "us_death_rates = dataset.loc[dataset.location=='Zimbabwe', ['location', 'date', 'total_deaths','Price']]\n",
        "us_death_rates.head()\n"
      ],
      "execution_count": 1013,
      "outputs": [
        {
          "output_type": "execute_result",
          "data": {
            "text/html": [
              "<div>\n",
              "<style scoped>\n",
              "    .dataframe tbody tr th:only-of-type {\n",
              "        vertical-align: middle;\n",
              "    }\n",
              "\n",
              "    .dataframe tbody tr th {\n",
              "        vertical-align: top;\n",
              "    }\n",
              "\n",
              "    .dataframe thead th {\n",
              "        text-align: right;\n",
              "    }\n",
              "</style>\n",
              "<table border=\"1\" class=\"dataframe\">\n",
              "  <thead>\n",
              "    <tr style=\"text-align: right;\">\n",
              "      <th></th>\n",
              "      <th>location</th>\n",
              "      <th>date</th>\n",
              "      <th>total_deaths</th>\n",
              "      <th>Price</th>\n",
              "    </tr>\n",
              "  </thead>\n",
              "  <tbody>\n",
              "    <tr>\n",
              "      <th>94</th>\n",
              "      <td>Zimbabwe</td>\n",
              "      <td>(2020, 6, 22, 0, 0, 0, 0, 174, -1)</td>\n",
              "      <td>6.0</td>\n",
              "      <td>1.2463</td>\n",
              "    </tr>\n",
              "    <tr>\n",
              "      <th>112</th>\n",
              "      <td>Zimbabwe</td>\n",
              "      <td>(2020, 6, 19, 0, 0, 0, 4, 171, -1)</td>\n",
              "      <td>4.0</td>\n",
              "      <td>1.2358</td>\n",
              "    </tr>\n",
              "    <tr>\n",
              "      <th>130</th>\n",
              "      <td>Zimbabwe</td>\n",
              "      <td>(2020, 6, 18, 0, 0, 0, 3, 170, -1)</td>\n",
              "      <td>4.0</td>\n",
              "      <td>1.2426</td>\n",
              "    </tr>\n",
              "    <tr>\n",
              "      <th>148</th>\n",
              "      <td>Zimbabwe</td>\n",
              "      <td>(2020, 6, 17, 0, 0, 0, 2, 169, -1)</td>\n",
              "      <td>4.0</td>\n",
              "      <td>1.2557</td>\n",
              "    </tr>\n",
              "    <tr>\n",
              "      <th>167</th>\n",
              "      <td>Zimbabwe</td>\n",
              "      <td>(2020, 6, 16, 0, 0, 0, 1, 168, -1)</td>\n",
              "      <td>4.0</td>\n",
              "      <td>1.2577</td>\n",
              "    </tr>\n",
              "  </tbody>\n",
              "</table>\n",
              "</div>"
            ],
            "text/plain": [
              "     location                                date  total_deaths   Price\n",
              "94   Zimbabwe  (2020, 6, 22, 0, 0, 0, 0, 174, -1)           6.0  1.2463\n",
              "112  Zimbabwe  (2020, 6, 19, 0, 0, 0, 4, 171, -1)           4.0  1.2358\n",
              "130  Zimbabwe  (2020, 6, 18, 0, 0, 0, 3, 170, -1)           4.0  1.2426\n",
              "148  Zimbabwe  (2020, 6, 17, 0, 0, 0, 2, 169, -1)           4.0  1.2557\n",
              "167  Zimbabwe  (2020, 6, 16, 0, 0, 0, 1, 168, -1)           4.0  1.2577"
            ]
          },
          "metadata": {
            "tags": []
          },
          "execution_count": 1013
        }
      ]
    },
    {
      "cell_type": "code",
      "metadata": {
        "id": "UJZS3-TEl_Ps",
        "colab_type": "code",
        "colab": {
          "base_uri": "https://localhost:8080/",
          "height": 204
        },
        "outputId": "fd61fabf-0e0e-4c21-855e-4233c6d5267b"
      },
      "source": [
        "# Created uk_death_rate table\n",
        "# Problem: United Kingdom did not work when == 'United Kingdom'\n",
        "# Shall use Bangladesh as an example for now and will go back to figure why this is the case \n",
        "uk_death_rates = dataset.loc[dataset.location=='Bangladesh', ['location', 'date', 'total_deaths','Price']]\n",
        "uk_death_rates.sum() # Clean the data – Unsure what this means exactly\n",
        "uk_death_rates.head()"
      ],
      "execution_count": 1014,
      "outputs": [
        {
          "output_type": "execute_result",
          "data": {
            "text/html": [
              "<div>\n",
              "<style scoped>\n",
              "    .dataframe tbody tr th:only-of-type {\n",
              "        vertical-align: middle;\n",
              "    }\n",
              "\n",
              "    .dataframe tbody tr th {\n",
              "        vertical-align: top;\n",
              "    }\n",
              "\n",
              "    .dataframe thead th {\n",
              "        text-align: right;\n",
              "    }\n",
              "</style>\n",
              "<table border=\"1\" class=\"dataframe\">\n",
              "  <thead>\n",
              "    <tr style=\"text-align: right;\">\n",
              "      <th></th>\n",
              "      <th>location</th>\n",
              "      <th>date</th>\n",
              "      <th>total_deaths</th>\n",
              "      <th>Price</th>\n",
              "    </tr>\n",
              "  </thead>\n",
              "  <tbody>\n",
              "    <tr>\n",
              "      <th>19</th>\n",
              "      <td>Bangladesh</td>\n",
              "      <td>(2020, 6, 26, 0, 0, 0, 4, 178, -1)</td>\n",
              "      <td>1621.0</td>\n",
              "      <td>1.2335</td>\n",
              "    </tr>\n",
              "    <tr>\n",
              "      <th>32</th>\n",
              "      <td>Bangladesh</td>\n",
              "      <td>(2020, 6, 25, 0, 0, 0, 3, 177, -1)</td>\n",
              "      <td>1582.0</td>\n",
              "      <td>1.2418</td>\n",
              "    </tr>\n",
              "    <tr>\n",
              "      <th>46</th>\n",
              "      <td>Bangladesh</td>\n",
              "      <td>(2020, 6, 24, 0, 0, 0, 2, 176, -1)</td>\n",
              "      <td>1545.0</td>\n",
              "      <td>1.2420</td>\n",
              "    </tr>\n",
              "    <tr>\n",
              "      <th>61</th>\n",
              "      <td>Bangladesh</td>\n",
              "      <td>(2020, 6, 23, 0, 0, 0, 1, 175, -1)</td>\n",
              "      <td>1502.0</td>\n",
              "      <td>1.2520</td>\n",
              "    </tr>\n",
              "    <tr>\n",
              "      <th>76</th>\n",
              "      <td>Bangladesh</td>\n",
              "      <td>(2020, 6, 22, 0, 0, 0, 0, 174, -1)</td>\n",
              "      <td>1464.0</td>\n",
              "      <td>1.2463</td>\n",
              "    </tr>\n",
              "  </tbody>\n",
              "</table>\n",
              "</div>"
            ],
            "text/plain": [
              "      location                                date  total_deaths   Price\n",
              "19  Bangladesh  (2020, 6, 26, 0, 0, 0, 4, 178, -1)        1621.0  1.2335\n",
              "32  Bangladesh  (2020, 6, 25, 0, 0, 0, 3, 177, -1)        1582.0  1.2418\n",
              "46  Bangladesh  (2020, 6, 24, 0, 0, 0, 2, 176, -1)        1545.0  1.2420\n",
              "61  Bangladesh  (2020, 6, 23, 0, 0, 0, 1, 175, -1)        1502.0  1.2520\n",
              "76  Bangladesh  (2020, 6, 22, 0, 0, 0, 0, 174, -1)        1464.0  1.2463"
            ]
          },
          "metadata": {
            "tags": []
          },
          "execution_count": 1014
        }
      ]
    },
    {
      "cell_type": "code",
      "metadata": {
        "id": "PwZNSCwDAJpy",
        "colab_type": "code",
        "colab": {
          "base_uri": "https://localhost:8080/",
          "height": 204
        },
        "outputId": "e5bbce08-dfa7-4a94-82dc-4cf75d407950"
      },
      "source": [
        "# Looking at US first\n",
        "# Split the data into train and test\n",
        "# We will use our test set in the final evaluation of our model\n",
        "train_dataset = us_death_rates.sample(frac=0.8,random_state=0)\n",
        "test_dataset = us_death_rates.drop(train_dataset.index)\n",
        "train_dataset.tail()\n",
        "test_dataset.tail()\n"
      ],
      "execution_count": 1015,
      "outputs": [
        {
          "output_type": "execute_result",
          "data": {
            "text/html": [
              "<div>\n",
              "<style scoped>\n",
              "    .dataframe tbody tr th:only-of-type {\n",
              "        vertical-align: middle;\n",
              "    }\n",
              "\n",
              "    .dataframe tbody tr th {\n",
              "        vertical-align: top;\n",
              "    }\n",
              "\n",
              "    .dataframe thead th {\n",
              "        text-align: right;\n",
              "    }\n",
              "</style>\n",
              "<table border=\"1\" class=\"dataframe\">\n",
              "  <thead>\n",
              "    <tr style=\"text-align: right;\">\n",
              "      <th></th>\n",
              "      <th>location</th>\n",
              "      <th>date</th>\n",
              "      <th>total_deaths</th>\n",
              "      <th>Price</th>\n",
              "    </tr>\n",
              "  </thead>\n",
              "  <tbody>\n",
              "    <tr>\n",
              "      <th>94</th>\n",
              "      <td>Zimbabwe</td>\n",
              "      <td>(2020, 6, 22, 0, 0, 0, 0, 174, -1)</td>\n",
              "      <td>6.0</td>\n",
              "      <td>1.2463</td>\n",
              "    </tr>\n",
              "    <tr>\n",
              "      <th>148</th>\n",
              "      <td>Zimbabwe</td>\n",
              "      <td>(2020, 6, 17, 0, 0, 0, 2, 169, -1)</td>\n",
              "      <td>4.0</td>\n",
              "      <td>1.2557</td>\n",
              "    </tr>\n",
              "    <tr>\n",
              "      <th>329</th>\n",
              "      <td>Zimbabwe</td>\n",
              "      <td>(2020, 6, 4, 0, 0, 0, 3, 156, -1)</td>\n",
              "      <td>4.0</td>\n",
              "      <td>1.2595</td>\n",
              "    </tr>\n",
              "    <tr>\n",
              "      <th>391</th>\n",
              "      <td>Zimbabwe</td>\n",
              "      <td>(2020, 6, 1, 0, 0, 0, 0, 153, -1)</td>\n",
              "      <td>4.0</td>\n",
              "      <td>1.2494</td>\n",
              "    </tr>\n",
              "    <tr>\n",
              "      <th>552</th>\n",
              "      <td>Zimbabwe</td>\n",
              "      <td>(2020, 5, 20, 0, 0, 0, 2, 141, -1)</td>\n",
              "      <td>4.0</td>\n",
              "      <td>1.2241</td>\n",
              "    </tr>\n",
              "  </tbody>\n",
              "</table>\n",
              "</div>"
            ],
            "text/plain": [
              "     location                                date  total_deaths   Price\n",
              "94   Zimbabwe  (2020, 6, 22, 0, 0, 0, 0, 174, -1)           6.0  1.2463\n",
              "148  Zimbabwe  (2020, 6, 17, 0, 0, 0, 2, 169, -1)           4.0  1.2557\n",
              "329  Zimbabwe   (2020, 6, 4, 0, 0, 0, 3, 156, -1)           4.0  1.2595\n",
              "391  Zimbabwe   (2020, 6, 1, 0, 0, 0, 0, 153, -1)           4.0  1.2494\n",
              "552  Zimbabwe  (2020, 5, 20, 0, 0, 0, 2, 141, -1)           4.0  1.2241"
            ]
          },
          "metadata": {
            "tags": []
          },
          "execution_count": 1015
        }
      ]
    },
    {
      "cell_type": "code",
      "metadata": {
        "id": "AKPMw6jUypAN",
        "colab_type": "code",
        "colab": {
          "base_uri": "https://localhost:8080/",
          "height": 102
        },
        "outputId": "d71ca668-cbf3-4af3-ba4f-8ae938eb91db"
      },
      "source": [
        "# Object means string\n",
        "us_death_rates.dtypes"
      ],
      "execution_count": 1016,
      "outputs": [
        {
          "output_type": "execute_result",
          "data": {
            "text/plain": [
              "location         object\n",
              "date             object\n",
              "total_deaths    float64\n",
              "Price           float64\n",
              "dtype: object"
            ]
          },
          "metadata": {
            "tags": []
          },
          "execution_count": 1016
        }
      ]
    },
    {
      "cell_type": "code",
      "metadata": {
        "id": "EJf66HjVAdFE",
        "colab_type": "code",
        "colab": {
          "base_uri": "https://localhost:8080/",
          "height": 265
        },
        "outputId": "f4ae9583-a01f-4ab5-8976-da173fcd681a"
      },
      "source": [
        "# Unsure what this graph does at the moment\n",
        "import matplotlib.pyplot as plt\n",
        "plt.plot([x for x in range(len(train_dataset[\"Price\"]))], train_dataset[\"Price\"],label=\"price\")\n",
        "plt.plot([x for x in range(len(train_dataset[\"total_deaths\"]))], train_dataset[\"total_deaths\"], label=\"us_death_rates\")\n",
        "plt.legend() \n",
        "plt.show()\n"
      ],
      "execution_count": 1017,
      "outputs": [
        {
          "output_type": "display_data",
          "data": {
            "image/png": "[encoded data removed]",
            "text/plain": [
              "<Figure size 1080x288 with 1 Axes>"
            ]
          },
          "metadata": {
            "tags": []
          }
        }
      ]
    },
    {
      "cell_type": "code",
      "metadata": {
        "id": "I9kHcA_4tAqL",
        "colab_type": "code",
        "colab": {
          "base_uri": "https://localhost:8080/",
          "height": 119
        },
        "outputId": "8590e2c9-586a-4767-a65b-6fe69b489e4a"
      },
      "source": [
        "# View what date looks like\n",
        "date = us_death_rates['date']\n",
        "date.head()"
      ],
      "execution_count": 1018,
      "outputs": [
        {
          "output_type": "execute_result",
          "data": {
            "text/plain": [
              "94     (2020, 6, 22, 0, 0, 0, 0, 174, -1)\n",
              "112    (2020, 6, 19, 0, 0, 0, 4, 171, -1)\n",
              "130    (2020, 6, 18, 0, 0, 0, 3, 170, -1)\n",
              "148    (2020, 6, 17, 0, 0, 0, 2, 169, -1)\n",
              "167    (2020, 6, 16, 0, 0, 0, 1, 168, -1)\n",
              "Name: date, dtype: object"
            ]
          },
          "metadata": {
            "tags": []
          },
          "execution_count": 1018
        }
      ]
    },
    {
      "cell_type": "code",
      "metadata": {
        "id": "0Nxcgc_K3ZDm",
        "colab_type": "code",
        "colab": {
          "base_uri": "https://localhost:8080/",
          "height": 459
        },
        "outputId": "0ce9f94b-e713-4e0d-e0e4-628eed66f7cc"
      },
      "source": [
        "# Splitting timestamp and isolating the date\n",
        "dateFormatting = pd.DataFrame({'my_timestamp': pd.date_range('2019-12-31 15:00', periods=len(date))})\n",
        "dateFormatting['new_date'] = [d.date() for d in dateFormatting['my_timestamp']]\n",
        "dateFormatting['new_time'] = [d.time() for d in dateFormatting['my_timestamp']]\n",
        "print(dateFormatting)\n"
      ],
      "execution_count": 1019,
      "outputs": [
        {
          "output_type": "stream",
          "text": [
            "          my_timestamp    new_date  new_time\n",
            "0  2019-12-31 15:00:00  2019-12-31  15:00:00\n",
            "1  2020-01-01 15:00:00  2020-01-01  15:00:00\n",
            "2  2020-01-02 15:00:00  2020-01-02  15:00:00\n",
            "3  2020-01-03 15:00:00  2020-01-03  15:00:00\n",
            "4  2020-01-04 15:00:00  2020-01-04  15:00:00\n",
            "5  2020-01-05 15:00:00  2020-01-05  15:00:00\n",
            "6  2020-01-06 15:00:00  2020-01-06  15:00:00\n",
            "7  2020-01-07 15:00:00  2020-01-07  15:00:00\n",
            "8  2020-01-08 15:00:00  2020-01-08  15:00:00\n",
            "9  2020-01-09 15:00:00  2020-01-09  15:00:00\n",
            "10 2020-01-10 15:00:00  2020-01-10  15:00:00\n",
            "11 2020-01-11 15:00:00  2020-01-11  15:00:00\n",
            "12 2020-01-12 15:00:00  2020-01-12  15:00:00\n",
            "13 2020-01-13 15:00:00  2020-01-13  15:00:00\n",
            "14 2020-01-14 15:00:00  2020-01-14  15:00:00\n",
            "15 2020-01-15 15:00:00  2020-01-15  15:00:00\n",
            "16 2020-01-16 15:00:00  2020-01-16  15:00:00\n",
            "17 2020-01-17 15:00:00  2020-01-17  15:00:00\n",
            "18 2020-01-18 15:00:00  2020-01-18  15:00:00\n",
            "19 2020-01-19 15:00:00  2020-01-19  15:00:00\n",
            "20 2020-01-20 15:00:00  2020-01-20  15:00:00\n",
            "21 2020-01-21 15:00:00  2020-01-21  15:00:00\n",
            "22 2020-01-22 15:00:00  2020-01-22  15:00:00\n",
            "23 2020-01-23 15:00:00  2020-01-23  15:00:00\n",
            "24 2020-01-24 15:00:00  2020-01-24  15:00:00\n"
          ],
          "name": "stdout"
        }
      ]
    },
    {
      "cell_type": "code",
      "metadata": {
        "id": "Tav3LALn4KN2",
        "colab_type": "code",
        "colab": {
          "base_uri": "https://localhost:8080/",
          "height": 54
        },
        "outputId": "eca57853-1191-400d-9012-5c81bac49209"
      },
      "source": [
        "# Convert date to list so that we can use the dates to plot on graph\n",
        "my_xticks = dateFormatting['new_date'].tolist()\n",
        "print(my_xticks)\n"
      ],
      "execution_count": 1020,
      "outputs": [
        {
          "output_type": "stream",
          "text": [
            "[datetime.date(2019, 12, 31), datetime.date(2020, 1, 1), datetime.date(2020, 1, 2), datetime.date(2020, 1, 3), datetime.date(2020, 1, 4), datetime.date(2020, 1, 5), datetime.date(2020, 1, 6), datetime.date(2020, 1, 7), datetime.date(2020, 1, 8), datetime.date(2020, 1, 9), datetime.date(2020, 1, 10), datetime.date(2020, 1, 11), datetime.date(2020, 1, 12), datetime.date(2020, 1, 13), datetime.date(2020, 1, 14), datetime.date(2020, 1, 15), datetime.date(2020, 1, 16), datetime.date(2020, 1, 17), datetime.date(2020, 1, 18), datetime.date(2020, 1, 19), datetime.date(2020, 1, 20), datetime.date(2020, 1, 21), datetime.date(2020, 1, 22), datetime.date(2020, 1, 23), datetime.date(2020, 1, 24)]\n"
          ],
          "name": "stdout"
        }
      ]
    },
    {
      "cell_type": "code",
      "metadata": {
        "id": "eDGMN3GG6wOL",
        "colab_type": "code",
        "colab": {
          "base_uri": "https://localhost:8080/",
          "height": 397
        },
        "outputId": "f24f8ff4-68d0-448c-93f2-340107822824"
      },
      "source": [
        "# Plotted prices and dates\n",
        "# Notice how the dates start and end\n",
        "\n",
        "from datetime import datetime, timedelta\n",
        "from matplotlib import pyplot as plt\n",
        "from matplotlib import dates as mpl_dates\n",
        "plt.style.use('seaborn')\n",
        "from matplotlib import rcParams\n",
        "rcParams['figure.figsize'] = 15,6\n",
        "\n",
        "dates = np.array(dateFormatting['new_date'])\n",
        "price = np.array(us_death_rates['Price'])\n",
        "plt.plot_date(dates,price, linestyle ='solid')\n",
        "plt.gcf().autofmt_xdate()\n",
        "date_format = mpl_dates.DateFormatter('%b,%d,%Y')\n",
        "plt.title('Price of USD compare to GBP')\n",
        "plt.xlabel('Date')\n",
        "plt.ylabel('Price')\n",
        "plt.gca().xaxis.set_major_formatter(date_format)"
      ],
      "execution_count": 1021,
      "outputs": [
        {
          "output_type": "display_data",
          "data": {
            "image/png": "[encoded data removed]",
            "text/plain": [
              "<Figure size 1080x432 with 1 Axes>"
            ]
          },
          "metadata": {
            "tags": []
          }
        }
      ]
    },
    {
      "cell_type": "code",
      "metadata": {
        "id": "T30FJ5ONMRsa",
        "colab_type": "code",
        "colab": {
          "base_uri": "https://localhost:8080/",
          "height": 34
        },
        "outputId": "24053b1f-6999-4e8f-c185-2c99903ad391"
      },
      "source": [
        "# Adds the accumulative deaths every day of a country\n",
        "total_us_deaths = uk_death_rates['total_deaths']\n",
        "total = total_us_deaths.tolist()\n",
        "day2 = total[0]+total[1]\n",
        "day3 = day2 + total[3]\n",
        "day4 = day3 + total[4]\n",
        "day5 = day4 + total[5]\n",
        "# ..\n",
        "accumulative_daily_total = [total[0], day2, day3, day4, day5]\n",
        "print(accumulative_daily_total)\n"
      ],
      "execution_count": 1022,
      "outputs": [
        {
          "output_type": "stream",
          "text": [
            "[1621.0, 3203.0, 4705.0, 6169.0, 7512.0]\n"
          ],
          "name": "stdout"
        }
      ]
    },
    {
      "cell_type": "code",
      "metadata": {
        "id": "oivvoebSMpRV",
        "colab_type": "code",
        "colab": {
          "base_uri": "https://localhost:8080/",
          "height": 446
        },
        "outputId": "8fa71ce7-01f0-46a3-8985-2eb7743e561c"
      },
      "source": [
        "# Plots the accumulative daily death rates of a country\n",
        "dates = np.array(['2019,12,31','2020,01,01','2020,01,31','2020,02,31', '2020,03,31']) \n",
        "print(dates)\n",
        "price = np.array(['1621.0', '3203.0', '4705.0', '6169.0', '7512.0'])\n",
        "print(price)\n",
        "plt.plot_date(dates,price, linestyle ='solid')\n",
        "plt.gcf().autofmt_xdate()\n",
        "date_format = mpl_dates.DateFormatter('%b,%d,%Y')\n",
        "plt.title('Time Series of Total Deaths of US')\n",
        "plt.xlabel('Date')\n",
        "plt.ylabel('Total Deaths')\n"
      ],
      "execution_count": 1045,
      "outputs": [
        {
          "output_type": "stream",
          "text": [
            "['2019,12,31' '2020,01,01' '2020,01,31' '2020,02,31' '2020,03,31']\n",
            "['1621.0' '3203.0' '4705.0' '6169.0' '7512.0']\n"
          ],
          "name": "stdout"
        },
        {
          "output_type": "execute_result",
          "data": {
            "text/plain": [
              "Text(0, 0.5, 'Total Deaths')"
            ]
          },
          "metadata": {
            "tags": []
          },
          "execution_count": 1045
        },
        {
          "output_type": "display_data",
          "data": {
            "image/png": "[encoded data removed]",
            "text/plain": [
              "<Figure size 1080x432 with 1 Axes>"
            ]
          },
          "metadata": {
            "tags": []
          }
        }
      ]
    },
    {
      "cell_type": "code",
      "metadata": {
        "id": "ZEpBap9iBUqT",
        "colab_type": "code",
        "colab": {
          "base_uri": "https://localhost:8080/",
          "height": 80
        },
        "outputId": "18595b0e-770b-4d0d-cf89-bf7e7375d665"
      },
      "source": [
        "# Overall statistics\n",
        "# Transpose: Row to collumn\n",
        "# Calculated automatically mean and std\n",
        "train_stats = train_dataset.describe()\n",
        "train_stats.pop(\"Price\")\n",
        "train_stats = train_stats.transpose()\n",
        "train_stats"
      ],
      "execution_count": 1024,
      "outputs": [
        {
          "output_type": "execute_result",
          "data": {
            "text/html": [
              "<div>\n",
              "<style scoped>\n",
              "    .dataframe tbody tr th:only-of-type {\n",
              "        vertical-align: middle;\n",
              "    }\n",
              "\n",
              "    .dataframe tbody tr th {\n",
              "        vertical-align: top;\n",
              "    }\n",
              "\n",
              "    .dataframe thead th {\n",
              "        text-align: right;\n",
              "    }\n",
              "</style>\n",
              "<table border=\"1\" class=\"dataframe\">\n",
              "  <thead>\n",
              "    <tr style=\"text-align: right;\">\n",
              "      <th></th>\n",
              "      <th>count</th>\n",
              "      <th>mean</th>\n",
              "      <th>std</th>\n",
              "      <th>min</th>\n",
              "      <th>25%</th>\n",
              "      <th>50%</th>\n",
              "      <th>75%</th>\n",
              "      <th>max</th>\n",
              "    </tr>\n",
              "  </thead>\n",
              "  <tbody>\n",
              "    <tr>\n",
              "      <th>total_deaths</th>\n",
              "      <td>20.0</td>\n",
              "      <td>4.0</td>\n",
              "      <td>0.0</td>\n",
              "      <td>4.0</td>\n",
              "      <td>4.0</td>\n",
              "      <td>4.0</td>\n",
              "      <td>4.0</td>\n",
              "      <td>4.0</td>\n",
              "    </tr>\n",
              "  </tbody>\n",
              "</table>\n",
              "</div>"
            ],
            "text/plain": [
              "              count  mean  std  min  25%  50%  75%  max\n",
              "total_deaths   20.0   4.0  0.0  4.0  4.0  4.0  4.0  4.0"
            ]
          },
          "metadata": {
            "tags": []
          },
          "execution_count": 1024
        }
      ]
    },
    {
      "cell_type": "code",
      "metadata": {
        "id": "VU41Sc9UXq_b",
        "colab_type": "code",
        "colab": {}
      },
      "source": [
        "train_labels = train_dataset.pop('Price')\n",
        "test_labels = test_dataset.pop('Price')"
      ],
      "execution_count": 1025,
      "outputs": []
    },
    {
      "cell_type": "code",
      "metadata": {
        "id": "sMYwlpQ4CfvE",
        "colab_type": "code",
        "colab": {
          "base_uri": "https://localhost:8080/",
          "height": 153
        },
        "outputId": "748839d7-e1b3-4e4f-fd73-19ee2f501d08"
      },
      "source": [
        "# It is good practice to normalize features that use different scales and ranges. \n",
        "# Although the model might converge without feature normalization, \n",
        "# it makes training more difficult, and it makes the resulting model dependent \n",
        "# on the choice of units used in the input. \n",
        "\n",
        "# Note: Although we intentionally generate these statistics from only the training dataset, \n",
        "# these statistics will also be used to normalize the test dataset. \n",
        "# We need to do that to project the test dataset into the same distribution that the model \n",
        "# has been trained on.\n",
        "# for each feature we are finding the mean giving a value between 0 and 1 (around)\n",
        "# normalising with respect to the price\n",
        "def norm(x, stats):\n",
        "  mean_diff = pd.DataFrame( stats['mean'].to_frame().transpose().values, columns=x.columns )\n",
        "  std_diff  = pd.DataFrame( x.values / stats['std'].to_frame().transpose().values, columns=x.columns )\n",
        "  return std_diff\n",
        "\n",
        "columns_to_remove = set( list( train_dataset.columns ) ) - set( \n",
        "    list( train_stats['mean'].to_frame().transpose().columns ) )\n",
        "for col in columns_to_remove : \n",
        "  train_dataset.pop( col ) \n",
        "  test_dataset.pop( col ) \n",
        "normed_train_data = norm(train_dataset, train_stats)\n",
        "normed_test_data = norm(test_dataset, train_stats)\n",
        "\n",
        "print(normed_test_data)\n"
      ],
      "execution_count": 1026,
      "outputs": [
        {
          "output_type": "stream",
          "text": [
            "   total_deaths\n",
            "0           inf\n",
            "1           inf\n",
            "2           inf\n",
            "3           inf\n",
            "4           inf\n"
          ],
          "name": "stdout"
        },
        {
          "output_type": "stream",
          "text": [
            "/usr/local/lib/python3.6/dist-packages/ipykernel_launcher.py:14: RuntimeWarning: divide by zero encountered in true_divide\n",
            "  \n"
          ],
          "name": "stderr"
        }
      ]
    },
    {
      "cell_type": "code",
      "metadata": {
        "id": "jFELmEGdDj0Y",
        "colab_type": "code",
        "colab": {}
      },
      "source": [
        "# Building a model\n",
        "# Let's build our model. Here, we'll use a Sequential model with \n",
        "# two densely connected hidden layers, and an output layer that \n",
        "# returns a single, continuous value. The model building steps are \n",
        "# wrapped in a function, build_model, since we'll create a \n",
        "# second model, later on.\n",
        "\n",
        "def build_model():\n",
        "  model = keras.Sequential([\n",
        "    layers.Dense(64, activation='relu', input_shape=[len(train_dataset.keys())]),\n",
        "    layers.Dense(64, activation='relu'),\n",
        "    layers.Dense(1)\n",
        "  ])\n",
        "# learning rate\n",
        "  optimizer = tf.keras.optimizers.RMSprop(0.001)\n",
        "  # WHAT IS THIS OPTIMIZER: https://www.tensorflow.org/api_docs/python/tf/keras/optimizers/RMSprop\n",
        "\n",
        "# I will try to use the MSE- Mean Square Error and Mean Average error to minimise my losss\n",
        "# \n",
        "  model.compile(loss='mse',\n",
        "                optimizer=optimizer,\n",
        "                metrics=['mae', 'mse'])\n",
        "  # note: you are using the mae and mse, if you wanted to use a different optimizer you could use adam\n",
        "  return model"
      ],
      "execution_count": 1027,
      "outputs": []
    },
    {
      "cell_type": "code",
      "metadata": {
        "id": "8Qun2DNADsjE",
        "colab_type": "code",
        "colab": {}
      },
      "source": [
        "model = build_model()"
      ],
      "execution_count": 1028,
      "outputs": []
    },
    {
      "cell_type": "code",
      "metadata": {
        "id": "kBw4VhAkDwmL",
        "colab_type": "code",
        "colab": {
          "base_uri": "https://localhost:8080/",
          "height": 255
        },
        "outputId": "bbca8658-26a0-428a-cab9-8be4a96900fb"
      },
      "source": [
        "# Inspect the model\n",
        "model.summary()"
      ],
      "execution_count": 1029,
      "outputs": [
        {
          "output_type": "stream",
          "text": [
            "Model: \"sequential_30\"\n",
            "_________________________________________________________________\n",
            "Layer (type)                 Output Shape              Param #   \n",
            "=================================================================\n",
            "dense_90 (Dense)             (None, 64)                128       \n",
            "_________________________________________________________________\n",
            "dense_91 (Dense)             (None, 64)                4160      \n",
            "_________________________________________________________________\n",
            "dense_92 (Dense)             (None, 1)                 65        \n",
            "=================================================================\n",
            "Total params: 4,353\n",
            "Trainable params: 4,353\n",
            "Non-trainable params: 0\n",
            "_________________________________________________________________\n"
          ],
          "name": "stdout"
        }
      ]
    },
    {
      "cell_type": "code",
      "metadata": {
        "id": "NFeK2bF1D0ri",
        "colab_type": "code",
        "colab": {
          "base_uri": "https://localhost:8080/",
          "height": 187
        },
        "outputId": "dcecdf5c-d6d9-44c6-8ffa-c71357067426"
      },
      "source": [
        "# Take a batch of 10 examples from the training data and call model to predict on it.\n",
        "# Does it produce a result of expected shape and type?\n",
        "# Question: How do we know the shape?\n",
        "example_batch = normed_train_data[:10]\n",
        "example_result = model.predict(example_batch)\n",
        "example_result"
      ],
      "execution_count": 1030,
      "outputs": [
        {
          "output_type": "execute_result",
          "data": {
            "text/plain": [
              "array([[0.],\n",
              "       [0.],\n",
              "       [0.],\n",
              "       [0.],\n",
              "       [0.],\n",
              "       [0.],\n",
              "       [0.],\n",
              "       [0.],\n",
              "       [0.],\n",
              "       [0.]], dtype=float32)"
            ]
          },
          "metadata": {
            "tags": []
          },
          "execution_count": 1030
        }
      ]
    },
    {
      "cell_type": "code",
      "metadata": {
        "id": "S88hddreD6a3",
        "colab_type": "code",
        "colab": {
          "base_uri": "https://localhost:8080/",
          "height": 374
        },
        "outputId": "53cc8fe3-37a4-470e-efb6-253988d3ff46"
      },
      "source": [
        "# Train the model:\n",
        "# Train the model for 1000 epochs, \n",
        "# and record the training and validation accuracy \n",
        "# in the `history` object.\n",
        "# Mean Square Error: Measures every square error of our machine learning predictions\n",
        "# Verbose = 0 will show you how you want to see the training process\n",
        "# Verbosity in keyword arguments usually means showing more 'wordy' information \n",
        "# for the task. In this case, for machine learning, by setting verbose to a \n",
        "# higher number ( 2 vs 1 ), you may see more information about the tree building process\n",
        "# validation_split is a parameter that gets passed in. It's a number that determines how \n",
        "# your data should be partitioned into training and validation sets. For example \n",
        "# if validation_split = 0.2 then 20% of your data will be used in the validation set \n",
        "# and 80% of your data will be used in the test set\n",
        "\n",
        "# Interesting notes: Since our MSE is close to 0 at 0.0015 we can say that our model is\n",
        "# really good\n",
        "\n",
        "# Meaning of this tabel:\n",
        "# val_loss is the value of cost function for your cross-validation data and loss \n",
        "# is the value of cost function for your training data.\n",
        "\n",
        "# val_loss: 0.0007 means that it is overfitting\n",
        "EPOCHS = 1000\n",
        "\n",
        "history = model.fit(\n",
        "  normed_train_data, train_labels,\n",
        "  epochs=EPOCHS, validation_split = 0.2, verbose=0,\n",
        "  callbacks=[tfdocs.modeling.EpochDots()])"
      ],
      "execution_count": 1031,
      "outputs": [
        {
          "output_type": "stream",
          "text": [
            "\n",
            "Epoch: 0, loss:1.5455,  mae:1.2430,  mse:1.5455,  val_loss:1.5633,  val_mae:1.2502,  val_mse:1.5633,  \n",
            "....................................................................................................\n",
            "Epoch: 100, loss:1.2877,  mae:1.1346,  mse:1.2877,  val_loss:1.3089,  val_mae:1.1439,  val_mse:1.3089,  \n",
            "....................................................................................................\n",
            "Epoch: 200, loss:1.0725,  mae:1.0354,  mse:1.0725,  val_loss:1.0918,  val_mae:1.0447,  val_mse:1.0918,  \n",
            "....................................................................................................\n",
            "Epoch: 300, loss:0.8771,  mae:0.9363,  mse:0.8771,  val_loss:0.8946,  val_mae:0.9456,  val_mse:0.8946,  \n",
            "....................................................................................................\n",
            "Epoch: 400, loss:0.7015,  mae:0.8373,  mse:0.7015,  val_loss:0.7171,  val_mae:0.8466,  val_mse:0.7171,  \n",
            "....................................................................................................\n",
            "Epoch: 500, loss:0.5457,  mae:0.7384,  mse:0.5457,  val_loss:0.5595,  val_mae:0.7478,  val_mse:0.5595,  \n",
            "....................................................................................................\n",
            "Epoch: 600, loss:0.4096,  mae:0.6397,  mse:0.4096,  val_loss:0.4216,  val_mae:0.6490,  val_mse:0.4216,  \n",
            "....................................................................................................\n",
            "Epoch: 700, loss:0.2933,  mae:0.5412,  mse:0.2933,  val_loss:0.3035,  val_mae:0.5505,  val_mse:0.3035,  \n",
            "....................................................................................................\n",
            "Epoch: 800, loss:0.1966,  mae:0.4430,  mse:0.1966,  val_loss:0.2050,  val_mae:0.4523,  val_mse:0.2050,  \n",
            "....................................................................................................\n",
            "Epoch: 900, loss:0.1196,  mae:0.3452,  mse:0.1196,  val_loss:0.1261,  val_mae:0.3546,  val_mse:0.1261,  \n",
            "...................................................................................................."
          ],
          "name": "stdout"
        }
      ]
    },
    {
      "cell_type": "code",
      "metadata": {
        "id": "W_qtzLYT43h7",
        "colab_type": "code",
        "colab": {
          "base_uri": "https://localhost:8080/",
          "height": 102
        },
        "outputId": "ac1995d0-82a4-4097-a867-65ce5b00202a"
      },
      "source": [
        "# Predicted output that we have\n",
        "# Tensorfow puts everything in tensors\n",
        "# Values are high due to normalisation\n",
        "# What im trying to predict | What its giv\n",
        "prediction = model.predict(test_dataset)\n",
        "print(prediction)\n"
      ],
      "execution_count": 1032,
      "outputs": [
        {
          "output_type": "stream",
          "text": [
            "[[0.99488884]\n",
            " [0.99488884]\n",
            " [0.99488884]\n",
            " [0.99488884]\n",
            " [0.99488884]]\n"
          ],
          "name": "stdout"
        }
      ]
    },
    {
      "cell_type": "code",
      "metadata": {
        "id": "lXdV208DuA5g",
        "colab_type": "code",
        "colab": {
          "base_uri": "https://localhost:8080/",
          "height": 34
        },
        "outputId": "78fea9bf-a4c5-4e40-c57a-b1b0dca95ef4"
      },
      "source": [
        "# What i should be predicting \n",
        "test_dataset.tail()\n",
        "testDataList = test_labels.tolist()\n",
        "# first number is index\n",
        "# :middle: how many steps we want to take between each value\n",
        "# end index. everything up until last 5 elements\n",
        "print(testDataList[len(testDataList)-5::])\n",
        "\n",
        "\n"
      ],
      "execution_count": 1033,
      "outputs": [
        {
          "output_type": "stream",
          "text": [
            "[1.2463, 1.2557, 1.2595, 1.2494, 1.2241]\n"
          ],
          "name": "stdout"
        }
      ]
    },
    {
      "cell_type": "code",
      "metadata": {
        "id": "GFUDqed82dv5",
        "colab_type": "code",
        "colab": {
          "base_uri": "https://localhost:8080/",
          "height": 102
        },
        "outputId": "73a8114d-5b62-4041-8f4a-64c08f9db005"
      },
      "source": [
        "# take away one from the other\n",
        "# lines up at index they are\n",
        "# extract as prediction and actual\n",
        "# then find the difference \n",
        "# take 0th number of that list\n",
        "# how far off we are off from our output\n",
        "# note: v different from what forex should look like\n",
        "for pred, actual in zip(prediction, testDataList):\n",
        "  difference = pred.tolist()[0] - actual\n",
        "  print(difference)"
      ],
      "execution_count": 1034,
      "outputs": [
        {
          "output_type": "stream",
          "text": [
            "-0.2514111578941345\n",
            "-0.26081115789413456\n",
            "-0.2646111578941346\n",
            "-0.2545111578941346\n",
            "-0.2292111578941345\n"
          ],
          "name": "stdout"
        }
      ]
    },
    {
      "cell_type": "code",
      "metadata": {
        "id": "QMQqrXae34Jm",
        "colab_type": "code",
        "colab": {
          "base_uri": "https://localhost:8080/",
          "height": 34
        },
        "outputId": "267e7901-54e4-4ccd-8697-266b31d55805"
      },
      "source": [
        "# example of what zip does\n",
        "l = [1,2,3,4]\n",
        "s = [2,3,4,5]\n",
        "print(list(zip(l,s)))"
      ],
      "execution_count": 1035,
      "outputs": [
        {
          "output_type": "stream",
          "text": [
            "[(1, 2), (2, 3), (3, 4), (4, 5)]\n"
          ],
          "name": "stdout"
        }
      ]
    },
    {
      "cell_type": "code",
      "metadata": {
        "id": "kWTamTUnD9g3",
        "colab_type": "code",
        "colab": {
          "base_uri": "https://localhost:8080/",
          "height": 204
        },
        "outputId": "d624d8dd-ed6a-426b-8aae-cc283f885cc0"
      },
      "source": [
        "# Visualize the model's training progress using the stats stored in the history object.\n",
        "hist = pd.DataFrame(history.history)\n",
        "hist['epoch'] = history.epoch\n",
        "hist.tail()"
      ],
      "execution_count": 1036,
      "outputs": [
        {
          "output_type": "execute_result",
          "data": {
            "text/html": [
              "<div>\n",
              "<style scoped>\n",
              "    .dataframe tbody tr th:only-of-type {\n",
              "        vertical-align: middle;\n",
              "    }\n",
              "\n",
              "    .dataframe tbody tr th {\n",
              "        vertical-align: top;\n",
              "    }\n",
              "\n",
              "    .dataframe thead th {\n",
              "        text-align: right;\n",
              "    }\n",
              "</style>\n",
              "<table border=\"1\" class=\"dataframe\">\n",
              "  <thead>\n",
              "    <tr style=\"text-align: right;\">\n",
              "      <th></th>\n",
              "      <th>loss</th>\n",
              "      <th>mae</th>\n",
              "      <th>mse</th>\n",
              "      <th>val_loss</th>\n",
              "      <th>val_mae</th>\n",
              "      <th>val_mse</th>\n",
              "      <th>epoch</th>\n",
              "    </tr>\n",
              "  </thead>\n",
              "  <tbody>\n",
              "    <tr>\n",
              "      <th>995</th>\n",
              "      <td>0.064375</td>\n",
              "      <td>0.252984</td>\n",
              "      <td>0.064375</td>\n",
              "      <td>0.069168</td>\n",
              "      <td>0.262324</td>\n",
              "      <td>0.069168</td>\n",
              "      <td>995</td>\n",
              "    </tr>\n",
              "    <tr>\n",
              "      <th>996</th>\n",
              "      <td>0.063887</td>\n",
              "      <td>0.252018</td>\n",
              "      <td>0.063887</td>\n",
              "      <td>0.068662</td>\n",
              "      <td>0.261358</td>\n",
              "      <td>0.068662</td>\n",
              "      <td>996</td>\n",
              "    </tr>\n",
              "    <tr>\n",
              "      <th>997</th>\n",
              "      <td>0.063401</td>\n",
              "      <td>0.251052</td>\n",
              "      <td>0.063401</td>\n",
              "      <td>0.068158</td>\n",
              "      <td>0.260393</td>\n",
              "      <td>0.068158</td>\n",
              "      <td>997</td>\n",
              "    </tr>\n",
              "    <tr>\n",
              "      <th>998</th>\n",
              "      <td>0.062917</td>\n",
              "      <td>0.250086</td>\n",
              "      <td>0.062917</td>\n",
              "      <td>0.067656</td>\n",
              "      <td>0.259427</td>\n",
              "      <td>0.067656</td>\n",
              "      <td>998</td>\n",
              "    </tr>\n",
              "    <tr>\n",
              "      <th>999</th>\n",
              "      <td>0.062435</td>\n",
              "      <td>0.249121</td>\n",
              "      <td>0.062435</td>\n",
              "      <td>0.067156</td>\n",
              "      <td>0.258461</td>\n",
              "      <td>0.067156</td>\n",
              "      <td>999</td>\n",
              "    </tr>\n",
              "  </tbody>\n",
              "</table>\n",
              "</div>"
            ],
            "text/plain": [
              "         loss       mae       mse  val_loss   val_mae   val_mse  epoch\n",
              "995  0.064375  0.252984  0.064375  0.069168  0.262324  0.069168    995\n",
              "996  0.063887  0.252018  0.063887  0.068662  0.261358  0.068662    996\n",
              "997  0.063401  0.251052  0.063401  0.068158  0.260393  0.068158    997\n",
              "998  0.062917  0.250086  0.062917  0.067656  0.259427  0.067656    998\n",
              "999  0.062435  0.249121  0.062435  0.067156  0.258461  0.067156    999"
            ]
          },
          "metadata": {
            "tags": []
          },
          "execution_count": 1036
        }
      ]
    },
    {
      "cell_type": "code",
      "metadata": {
        "id": "cBIPPVa-D_xm",
        "colab_type": "code",
        "colab": {}
      },
      "source": [
        "plotter = tfdocs.plots.HistoryPlotter(smoothing_std=2)"
      ],
      "execution_count": 1037,
      "outputs": []
    },
    {
      "cell_type": "code",
      "metadata": {
        "id": "JCaBd-JDEDKv",
        "colab_type": "code",
        "colab": {
          "base_uri": "https://localhost:8080/",
          "height": 409
        },
        "outputId": "d7e4ab23-1bd3-41cb-e786-b69be8496aa0"
      },
      "source": [
        "plotter.plot({'Basic': history}, metric = \"mae\")\n",
        "plt.ylim([0, 10])\n",
        "plt.ylabel('MAE [MPG]')"
      ],
      "execution_count": 1038,
      "outputs": [
        {
          "output_type": "execute_result",
          "data": {
            "text/plain": [
              "Text(0, 0.5, 'MAE [MPG]')"
            ]
          },
          "metadata": {
            "tags": []
          },
          "execution_count": 1038
        },
        {
          "output_type": "display_data",
          "data": {
            "image/png": "[encoded data removed]",
            "text/plain": [
              "<Figure size 1080x432 with 1 Axes>"
            ]
          },
          "metadata": {
            "tags": []
          }
        }
      ]
    },
    {
      "cell_type": "code",
      "metadata": {
        "id": "0Ue9f-JPEIF9",
        "colab_type": "code",
        "colab": {
          "base_uri": "https://localhost:8080/",
          "height": 409
        },
        "outputId": "65b028a2-3b92-4840-fdb0-e2ee1f4a75ce"
      },
      "source": [
        "plotter.plot({'Basic': history}, metric = \"mse\")\n",
        "plt.ylim([0, 20])\n",
        "plt.ylabel('MSE [MPG^2]')"
      ],
      "execution_count": 1039,
      "outputs": [
        {
          "output_type": "execute_result",
          "data": {
            "text/plain": [
              "Text(0, 0.5, 'MSE [MPG^2]')"
            ]
          },
          "metadata": {
            "tags": []
          },
          "execution_count": 1039
        },
        {
          "output_type": "display_data",
          "data": {
            "image/png": "[encoded data removed]",
            "text/plain": [
              "<Figure size 1080x432 with 1 Axes>"
            ]
          },
          "metadata": {
            "tags": []
          }
        }
      ]
    },
    {
      "cell_type": "code",
      "metadata": {
        "id": "UkEss5Y5ENBY",
        "colab_type": "code",
        "colab": {
          "base_uri": "https://localhost:8080/",
          "height": 374
        },
        "outputId": "571d85d1-a5b6-42fe-9352-004bb3ffc97c"
      },
      "source": [
        "# This graph shows little improvement, or even degradation in the validation \n",
        "# error after about 100 epochs. Let's update the model.fit call to automatically \n",
        "# stop training when the validation score doesn't improve. We'll use an \n",
        "# EarlyStopping callback that tests a training condition for every epoch. \n",
        "# If a set amount of epochs elapses without showing improvement, then \n",
        "# automatically stop the training.\n",
        "model = build_model()\n",
        "\n",
        "# The patience parameter is the amount of epochs to check for improvement\n",
        "early_stop = keras.callbacks.EarlyStopping(monitor='val_loss', patience=10)\n",
        "\n",
        "early_history = model.fit(normed_train_data, train_labels, \n",
        "                    epochs=EPOCHS, validation_split = 0.2, verbose=0, \n",
        "                    callbacks=[early_stop, tfdocs.modeling.EpochDots()])"
      ],
      "execution_count": 1040,
      "outputs": [
        {
          "output_type": "stream",
          "text": [
            "\n",
            "Epoch: 0, loss:1.5455,  mae:1.2430,  mse:1.5455,  val_loss:1.5633,  val_mae:1.2502,  val_mse:1.5633,  \n",
            "....................................................................................................\n",
            "Epoch: 100, loss:1.2877,  mae:1.1346,  mse:1.2877,  val_loss:1.3089,  val_mae:1.1439,  val_mse:1.3089,  \n",
            "....................................................................................................\n",
            "Epoch: 200, loss:1.0725,  mae:1.0354,  mse:1.0725,  val_loss:1.0918,  val_mae:1.0447,  val_mse:1.0918,  \n",
            "....................................................................................................\n",
            "Epoch: 300, loss:0.8771,  mae:0.9363,  mse:0.8771,  val_loss:0.8946,  val_mae:0.9456,  val_mse:0.8946,  \n",
            "....................................................................................................\n",
            "Epoch: 400, loss:0.7015,  mae:0.8373,  mse:0.7015,  val_loss:0.7171,  val_mae:0.8466,  val_mse:0.7171,  \n",
            "....................................................................................................\n",
            "Epoch: 500, loss:0.5457,  mae:0.7384,  mse:0.5457,  val_loss:0.5595,  val_mae:0.7478,  val_mse:0.5595,  \n",
            "....................................................................................................\n",
            "Epoch: 600, loss:0.4096,  mae:0.6397,  mse:0.4096,  val_loss:0.4216,  val_mae:0.6490,  val_mse:0.4216,  \n",
            "....................................................................................................\n",
            "Epoch: 700, loss:0.2933,  mae:0.5412,  mse:0.2933,  val_loss:0.3035,  val_mae:0.5505,  val_mse:0.3035,  \n",
            "....................................................................................................\n",
            "Epoch: 800, loss:0.1966,  mae:0.4430,  mse:0.1966,  val_loss:0.2050,  val_mae:0.4523,  val_mse:0.2050,  \n",
            "....................................................................................................\n",
            "Epoch: 900, loss:0.1196,  mae:0.3452,  mse:0.1196,  val_loss:0.1261,  val_mae:0.3546,  val_mse:0.1261,  \n",
            "...................................................................................................."
          ],
          "name": "stdout"
        }
      ]
    },
    {
      "cell_type": "code",
      "metadata": {
        "id": "4Dm9ofDCENs5",
        "colab_type": "code",
        "colab": {
          "base_uri": "https://localhost:8080/",
          "height": 409
        },
        "outputId": "0e7bbc5e-e11e-43d2-89ea-2967e8e36fa8"
      },
      "source": [
        "#\n",
        "plotter.plot({'Early Stopping': early_history}, metric = \"mae\")\n",
        "plt.ylim([0, 10])\n",
        "plt.ylabel('MAE [MPG]')"
      ],
      "execution_count": 1041,
      "outputs": [
        {
          "output_type": "execute_result",
          "data": {
            "text/plain": [
              "Text(0, 0.5, 'MAE [MPG]')"
            ]
          },
          "metadata": {
            "tags": []
          },
          "execution_count": 1041
        },
        {
          "output_type": "display_data",
          "data": {
            "image/png": "[encoded data removed]",
            "text/plain": [
              "<Figure size 1080x432 with 1 Axes>"
            ]
          },
          "metadata": {
            "tags": []
          }
        }
      ]
    },
    {
      "cell_type": "code",
      "metadata": {
        "id": "E8k4rx4BEX4B",
        "colab_type": "code",
        "colab": {
          "base_uri": "https://localhost:8080/",
          "height": 51
        },
        "outputId": "22b7d999-f611-49fe-fbcc-d5b8a6fdccc6"
      },
      "source": [
        "#\n",
        "loss, mae, mse = model.evaluate(normed_test_data, test_labels, verbose=2)\n",
        "\n",
        "print(\"Testing set Mean Abs Error: {:5.2f} MPG\".format(mae))"
      ],
      "execution_count": 1042,
      "outputs": [
        {
          "output_type": "stream",
          "text": [
            "1/1 - 0s - loss: 0.0637 - mae: 0.2521 - mse: 0.0637\n",
            "Testing set Mean Abs Error:  0.25 MPG\n"
          ],
          "name": "stdout"
        }
      ]
    },
    {
      "cell_type": "code",
      "metadata": {
        "id": "f4QhGVuIEbTY",
        "colab_type": "code",
        "colab": {
          "base_uri": "https://localhost:8080/",
          "height": 392
        },
        "outputId": "1fb87db5-967a-47aa-f57c-58518fab136d"
      },
      "source": [
        "# Make predictions\n",
        "test_predictions = model.predict(normed_test_data).flatten()\n",
        "\n",
        "a = plt.axes(aspect='equal')\n",
        "plt.scatter(test_labels, test_predictions)\n",
        "plt.xlabel('True Values [MPG]')\n",
        "plt.ylabel('Predictions [MPG]')\n",
        "lims = [0, 50]\n",
        "plt.xlim(lims)\n",
        "plt.ylim(lims)\n",
        "_ = plt.plot(lims, lims)"
      ],
      "execution_count": 1043,
      "outputs": [
        {
          "output_type": "display_data",
          "data": {
            "image/png": "[encoded data removed]",
            "text/plain": [
              "<Figure size 1080x432 with 1 Axes>"
            ]
          },
          "metadata": {
            "tags": []
          }
        }
      ]
    },
    {
      "cell_type": "code",
      "metadata": {
        "id": "Xjw6HtDfEfLP",
        "colab_type": "code",
        "colab": {
          "base_uri": "https://localhost:8080/",
          "height": 388
        },
        "outputId": "0f229d87-f851-42ab-abdb-4557c85f8160"
      },
      "source": [
        "#\n",
        "error = test_predictions - test_labels\n",
        "plt.hist(error, bins = 25)\n",
        "plt.xlabel(\"Prediction Error [MPG]\")\n",
        "_ = plt.ylabel(\"Count\")"
      ],
      "execution_count": 1044,
      "outputs": [
        {
          "output_type": "display_data",
          "data": {
            "image/png": "[encoded data removed]",
            "text/plain": [
              "<Figure size 1080x432 with 1 Axes>"
            ]
          },
          "metadata": {
            "tags": []
          }
        }
      ]
    },
    {
      "cell_type": "code",
      "metadata": {
        "id": "tqP-H0i74z4Q",
        "colab_type": "code",
        "colab": {}
      },
      "source": [
        ""
      ],
      "execution_count": 1044,
      "outputs": []
    }
  ]
}