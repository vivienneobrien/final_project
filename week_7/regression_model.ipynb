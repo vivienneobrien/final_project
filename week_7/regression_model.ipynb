{
  "nbformat": 4,
  "nbformat_minor": 0,
  "metadata": {
    "colab": {
      "name": "regression_model.ipynb",
      "provenance": [],
      "collapsed_sections": []
    },
    "kernelspec": {
      "name": "python3",
      "display_name": "Python 3"
    },
    "accelerator": "GPU"
  },
  "cells": [
    {
      "cell_type": "code",
      "metadata": {
        "id": "0hR-zTSzJREn",
        "colab_type": "code",
        "colab": {
          "base_uri": "https://localhost:8080/",
          "height": 292
        },
        "outputId": "fbe0e916-fa02-460c-ffb2-edbf9df66a71"
      },
      "source": [
        "# Notes for user:\n",
        "# This notebook will use the dataset COVID-19 and forex to predict the forex spot price of a currency pair.\n",
        "# What to ask user before using this application:\n",
        "# What currency pair are you interested in? USD/GBP (This layout means that the base currency is USD)\n",
        "# The currency the user wants to look at is how much the USD is worth to the GBP.\n",
        "# Therefore, we look at the death rates in the US and the UK.\n",
        "\n",
        "\n",
        "# Use some functions from tensorflow_docs\n",
        "!pip install git+https://github.com/tensorflow/docs"
      ],
      "execution_count": 586,
      "outputs": [
        {
          "output_type": "stream",
          "text": [
            "Collecting git+https://github.com/tensorflow/docs\n",
            "  Cloning https://github.com/tensorflow/docs to /tmp/pip-req-build-v2tw76c2\n",
            "  Running command git clone -q https://github.com/tensorflow/docs /tmp/pip-req-build-v2tw76c2\n",
            "Requirement already satisfied (use --upgrade to upgrade): tensorflow-docs===0.0.0a610a0dfdbc3aa8b6ede00aa698b20ede1bfbc6a- from git+https://github.com/tensorflow/docs in /usr/local/lib/python3.6/dist-packages\n",
            "Requirement already satisfied: astor in /usr/local/lib/python3.6/dist-packages (from tensorflow-docs===0.0.0a610a0dfdbc3aa8b6ede00aa698b20ede1bfbc6a-) (0.8.1)\n",
            "Requirement already satisfied: absl-py in /usr/local/lib/python3.6/dist-packages (from tensorflow-docs===0.0.0a610a0dfdbc3aa8b6ede00aa698b20ede1bfbc6a-) (0.9.0)\n",
            "Requirement already satisfied: protobuf in /usr/local/lib/python3.6/dist-packages (from tensorflow-docs===0.0.0a610a0dfdbc3aa8b6ede00aa698b20ede1bfbc6a-) (3.12.2)\n",
            "Requirement already satisfied: pyyaml in /usr/local/lib/python3.6/dist-packages (from tensorflow-docs===0.0.0a610a0dfdbc3aa8b6ede00aa698b20ede1bfbc6a-) (3.13)\n",
            "Requirement already satisfied: six in /usr/local/lib/python3.6/dist-packages (from absl-py->tensorflow-docs===0.0.0a610a0dfdbc3aa8b6ede00aa698b20ede1bfbc6a-) (1.12.0)\n",
            "Requirement already satisfied: setuptools in /usr/local/lib/python3.6/dist-packages (from protobuf->tensorflow-docs===0.0.0a610a0dfdbc3aa8b6ede00aa698b20ede1bfbc6a-) (49.1.0)\n",
            "Building wheels for collected packages: tensorflow-docs\n",
            "  Building wheel for tensorflow-docs (setup.py) ... \u001b[?25l\u001b[?25hdone\n",
            "  Created wheel for tensorflow-docs: filename=tensorflow_docs-0.0.0a610a0dfdbc3aa8b6ede00aa698b20ede1bfbc6a_-cp36-none-any.whl size=124951 sha256=2bfa479372b5e9734da4021e95ad9eddc1aaa2127328f2d79daa9dd134f9f8e8\n",
            "  Stored in directory: /tmp/pip-ephem-wheel-cache-vf508ri8/wheels/eb/1b/35/fce87697be00d2fc63e0b4b395b0d9c7e391a10e98d9a0d97f\n",
            "Successfully built tensorflow-docs\n"
          ],
          "name": "stdout"
        }
      ]
    },
    {
      "cell_type": "code",
      "metadata": {
        "id": "iJ6D0PrOJYeg",
        "colab_type": "code",
        "colab": {}
      },
      "source": [
        "import pathlib\n",
        "import matplotlib.pyplot as plt\n",
        "import numpy as np\n",
        "import pandas as pd"
      ],
      "execution_count": 587,
      "outputs": []
    },
    {
      "cell_type": "code",
      "metadata": {
        "id": "AgIgQg1XJcP2",
        "colab_type": "code",
        "colab": {
          "base_uri": "https://localhost:8080/",
          "height": 34
        },
        "outputId": "367dd708-7387-4869-fda5-12e1f7a7faa0"
      },
      "source": [
        "import tensorflow as tf\n",
        "from tensorflow import keras\n",
        "from tensorflow.keras import layers\n",
        "print(tf.__version__)"
      ],
      "execution_count": 588,
      "outputs": [
        {
          "output_type": "stream",
          "text": [
            "2.2.0\n"
          ],
          "name": "stdout"
        }
      ]
    },
    {
      "cell_type": "code",
      "metadata": {
        "id": "m_F-7tgZJe2m",
        "colab_type": "code",
        "colab": {}
      },
      "source": [
        "import tensorflow_docs as tfdocs\n",
        "import tensorflow_docs.plots\n",
        "import tensorflow_docs.modeling"
      ],
      "execution_count": 589,
      "outputs": []
    },
    {
      "cell_type": "code",
      "metadata": {
        "id": "7GjIgZ7kJhjo",
        "colab_type": "code",
        "colab": {
          "base_uri": "https://localhost:8080/",
          "height": 309
        },
        "outputId": "9d7c77da-c328-4676-b350-3c5095403965"
      },
      "source": [
        "# Importing covid_dataset using pandas. Droping null values.\n",
        "covid_dataset_data= pd.read_csv('covid.csv', na_values = \"?\", comment='\\t', skipinitialspace=True)\n",
        "covid_dataset = covid_dataset_data.copy()\n",
        "# covid_dataset = covid_dataset.dropna()\n",
        "covid_dataset.head()"
      ],
      "execution_count": 590,
      "outputs": [
        {
          "output_type": "execute_result",
          "data": {
            "text/html": [
              "<div>\n",
              "<style scoped>\n",
              "    .dataframe tbody tr th:only-of-type {\n",
              "        vertical-align: middle;\n",
              "    }\n",
              "\n",
              "    .dataframe tbody tr th {\n",
              "        vertical-align: top;\n",
              "    }\n",
              "\n",
              "    .dataframe thead th {\n",
              "        text-align: right;\n",
              "    }\n",
              "</style>\n",
              "<table border=\"1\" class=\"dataframe\">\n",
              "  <thead>\n",
              "    <tr style=\"text-align: right;\">\n",
              "      <th></th>\n",
              "      <th>iso_code</th>\n",
              "      <th>continent</th>\n",
              "      <th>location</th>\n",
              "      <th>date</th>\n",
              "      <th>total_cases</th>\n",
              "      <th>new_cases</th>\n",
              "      <th>total_deaths</th>\n",
              "      <th>new_deaths</th>\n",
              "      <th>total_cases_per_million</th>\n",
              "      <th>new_cases_per_million</th>\n",
              "      <th>total_deaths_per_million</th>\n",
              "      <th>new_deaths_per_million</th>\n",
              "      <th>total_tests</th>\n",
              "      <th>new_tests</th>\n",
              "      <th>total_tests_per_thousand</th>\n",
              "      <th>new_tests_per_thousand</th>\n",
              "      <th>new_tests_smoothed</th>\n",
              "      <th>new_tests_smoothed_per_thousand</th>\n",
              "      <th>tests_units</th>\n",
              "      <th>stringency_index</th>\n",
              "      <th>population</th>\n",
              "      <th>population_density</th>\n",
              "      <th>median_age</th>\n",
              "      <th>aged_65_older</th>\n",
              "      <th>aged_70_older</th>\n",
              "      <th>gdp_per_capita</th>\n",
              "      <th>extreme_poverty</th>\n",
              "      <th>cvd_death_rate</th>\n",
              "      <th>diabetes_prevalence</th>\n",
              "      <th>female_smokers</th>\n",
              "      <th>male_smokers</th>\n",
              "      <th>handwashing_facilities</th>\n",
              "      <th>hospital_beds_per_thousand</th>\n",
              "      <th>life_expectancy</th>\n",
              "    </tr>\n",
              "  </thead>\n",
              "  <tbody>\n",
              "    <tr>\n",
              "      <th>0</th>\n",
              "      <td>AFG</td>\n",
              "      <td>Asia</td>\n",
              "      <td>Afghanistan</td>\n",
              "      <td>2019-12-31</td>\n",
              "      <td>0.0</td>\n",
              "      <td>0.0</td>\n",
              "      <td>0.0</td>\n",
              "      <td>0.0</td>\n",
              "      <td>0.0</td>\n",
              "      <td>0.0</td>\n",
              "      <td>0.0</td>\n",
              "      <td>0.0</td>\n",
              "      <td>NaN</td>\n",
              "      <td>NaN</td>\n",
              "      <td>NaN</td>\n",
              "      <td>NaN</td>\n",
              "      <td>NaN</td>\n",
              "      <td>NaN</td>\n",
              "      <td>NaN</td>\n",
              "      <td>NaN</td>\n",
              "      <td>38928341.0</td>\n",
              "      <td>54.422</td>\n",
              "      <td>18.6</td>\n",
              "      <td>2.581</td>\n",
              "      <td>1.337</td>\n",
              "      <td>1803.987</td>\n",
              "      <td>NaN</td>\n",
              "      <td>597.029</td>\n",
              "      <td>9.59</td>\n",
              "      <td>NaN</td>\n",
              "      <td>NaN</td>\n",
              "      <td>37.746</td>\n",
              "      <td>0.5</td>\n",
              "      <td>64.83</td>\n",
              "    </tr>\n",
              "    <tr>\n",
              "      <th>1</th>\n",
              "      <td>AFG</td>\n",
              "      <td>Asia</td>\n",
              "      <td>Afghanistan</td>\n",
              "      <td>2020-01-01</td>\n",
              "      <td>0.0</td>\n",
              "      <td>0.0</td>\n",
              "      <td>0.0</td>\n",
              "      <td>0.0</td>\n",
              "      <td>0.0</td>\n",
              "      <td>0.0</td>\n",
              "      <td>0.0</td>\n",
              "      <td>0.0</td>\n",
              "      <td>NaN</td>\n",
              "      <td>NaN</td>\n",
              "      <td>NaN</td>\n",
              "      <td>NaN</td>\n",
              "      <td>NaN</td>\n",
              "      <td>NaN</td>\n",
              "      <td>NaN</td>\n",
              "      <td>0.0</td>\n",
              "      <td>38928341.0</td>\n",
              "      <td>54.422</td>\n",
              "      <td>18.6</td>\n",
              "      <td>2.581</td>\n",
              "      <td>1.337</td>\n",
              "      <td>1803.987</td>\n",
              "      <td>NaN</td>\n",
              "      <td>597.029</td>\n",
              "      <td>9.59</td>\n",
              "      <td>NaN</td>\n",
              "      <td>NaN</td>\n",
              "      <td>37.746</td>\n",
              "      <td>0.5</td>\n",
              "      <td>64.83</td>\n",
              "    </tr>\n",
              "    <tr>\n",
              "      <th>2</th>\n",
              "      <td>AFG</td>\n",
              "      <td>Asia</td>\n",
              "      <td>Afghanistan</td>\n",
              "      <td>2020-01-02</td>\n",
              "      <td>0.0</td>\n",
              "      <td>0.0</td>\n",
              "      <td>0.0</td>\n",
              "      <td>0.0</td>\n",
              "      <td>0.0</td>\n",
              "      <td>0.0</td>\n",
              "      <td>0.0</td>\n",
              "      <td>0.0</td>\n",
              "      <td>NaN</td>\n",
              "      <td>NaN</td>\n",
              "      <td>NaN</td>\n",
              "      <td>NaN</td>\n",
              "      <td>NaN</td>\n",
              "      <td>NaN</td>\n",
              "      <td>NaN</td>\n",
              "      <td>0.0</td>\n",
              "      <td>38928341.0</td>\n",
              "      <td>54.422</td>\n",
              "      <td>18.6</td>\n",
              "      <td>2.581</td>\n",
              "      <td>1.337</td>\n",
              "      <td>1803.987</td>\n",
              "      <td>NaN</td>\n",
              "      <td>597.029</td>\n",
              "      <td>9.59</td>\n",
              "      <td>NaN</td>\n",
              "      <td>NaN</td>\n",
              "      <td>37.746</td>\n",
              "      <td>0.5</td>\n",
              "      <td>64.83</td>\n",
              "    </tr>\n",
              "    <tr>\n",
              "      <th>3</th>\n",
              "      <td>AFG</td>\n",
              "      <td>Asia</td>\n",
              "      <td>Afghanistan</td>\n",
              "      <td>2020-01-03</td>\n",
              "      <td>0.0</td>\n",
              "      <td>0.0</td>\n",
              "      <td>0.0</td>\n",
              "      <td>0.0</td>\n",
              "      <td>0.0</td>\n",
              "      <td>0.0</td>\n",
              "      <td>0.0</td>\n",
              "      <td>0.0</td>\n",
              "      <td>NaN</td>\n",
              "      <td>NaN</td>\n",
              "      <td>NaN</td>\n",
              "      <td>NaN</td>\n",
              "      <td>NaN</td>\n",
              "      <td>NaN</td>\n",
              "      <td>NaN</td>\n",
              "      <td>0.0</td>\n",
              "      <td>38928341.0</td>\n",
              "      <td>54.422</td>\n",
              "      <td>18.6</td>\n",
              "      <td>2.581</td>\n",
              "      <td>1.337</td>\n",
              "      <td>1803.987</td>\n",
              "      <td>NaN</td>\n",
              "      <td>597.029</td>\n",
              "      <td>9.59</td>\n",
              "      <td>NaN</td>\n",
              "      <td>NaN</td>\n",
              "      <td>37.746</td>\n",
              "      <td>0.5</td>\n",
              "      <td>64.83</td>\n",
              "    </tr>\n",
              "    <tr>\n",
              "      <th>4</th>\n",
              "      <td>AFG</td>\n",
              "      <td>Asia</td>\n",
              "      <td>Afghanistan</td>\n",
              "      <td>2020-01-04</td>\n",
              "      <td>0.0</td>\n",
              "      <td>0.0</td>\n",
              "      <td>0.0</td>\n",
              "      <td>0.0</td>\n",
              "      <td>0.0</td>\n",
              "      <td>0.0</td>\n",
              "      <td>0.0</td>\n",
              "      <td>0.0</td>\n",
              "      <td>NaN</td>\n",
              "      <td>NaN</td>\n",
              "      <td>NaN</td>\n",
              "      <td>NaN</td>\n",
              "      <td>NaN</td>\n",
              "      <td>NaN</td>\n",
              "      <td>NaN</td>\n",
              "      <td>0.0</td>\n",
              "      <td>38928341.0</td>\n",
              "      <td>54.422</td>\n",
              "      <td>18.6</td>\n",
              "      <td>2.581</td>\n",
              "      <td>1.337</td>\n",
              "      <td>1803.987</td>\n",
              "      <td>NaN</td>\n",
              "      <td>597.029</td>\n",
              "      <td>9.59</td>\n",
              "      <td>NaN</td>\n",
              "      <td>NaN</td>\n",
              "      <td>37.746</td>\n",
              "      <td>0.5</td>\n",
              "      <td>64.83</td>\n",
              "    </tr>\n",
              "  </tbody>\n",
              "</table>\n",
              "</div>"
            ],
            "text/plain": [
              "  iso_code continent  ... hospital_beds_per_thousand life_expectancy\n",
              "0      AFG      Asia  ...                        0.5           64.83\n",
              "1      AFG      Asia  ...                        0.5           64.83\n",
              "2      AFG      Asia  ...                        0.5           64.83\n",
              "3      AFG      Asia  ...                        0.5           64.83\n",
              "4      AFG      Asia  ...                        0.5           64.83\n",
              "\n",
              "[5 rows x 34 columns]"
            ]
          },
          "metadata": {
            "tags": []
          },
          "execution_count": 590
        }
      ]
    },
    {
      "cell_type": "code",
      "metadata": {
        "id": "aYBFYnKtiIkQ",
        "colab_type": "code",
        "colab": {
          "base_uri": "https://localhost:8080/",
          "height": 204
        },
        "outputId": "dfc17ab9-6ece-48d4-a4a4-6c89e778f031"
      },
      "source": [
        "# Trying to isolate location/country based on currency in question\n",
        "# We are looking at pound and sterling therefore need to isolate 'United Kingdom' & 'United States' in location column\n",
        "# Problem: Informaiton prints up until 'Trinidad and Tobago' for some reason – can print 'Togo'. Therefore cannot print United Kingdom or United States\n",
        "us_death_rates = covid_dataset.loc[covid_dataset.location=='United States', ['location', 'date', 'total_deaths', 'total_cases', 'cvd_death_rate']]\n",
        "us_death_rates.head()"
      ],
      "execution_count": 591,
      "outputs": [
        {
          "output_type": "execute_result",
          "data": {
            "text/html": [
              "<div>\n",
              "<style scoped>\n",
              "    .dataframe tbody tr th:only-of-type {\n",
              "        vertical-align: middle;\n",
              "    }\n",
              "\n",
              "    .dataframe tbody tr th {\n",
              "        vertical-align: top;\n",
              "    }\n",
              "\n",
              "    .dataframe thead th {\n",
              "        text-align: right;\n",
              "    }\n",
              "</style>\n",
              "<table border=\"1\" class=\"dataframe\">\n",
              "  <thead>\n",
              "    <tr style=\"text-align: right;\">\n",
              "      <th></th>\n",
              "      <th>location</th>\n",
              "      <th>date</th>\n",
              "      <th>total_deaths</th>\n",
              "      <th>total_cases</th>\n",
              "      <th>cvd_death_rate</th>\n",
              "    </tr>\n",
              "  </thead>\n",
              "  <tbody>\n",
              "    <tr>\n",
              "      <th>26490</th>\n",
              "      <td>United States</td>\n",
              "      <td>2019-12-31</td>\n",
              "      <td>0.0</td>\n",
              "      <td>0.0</td>\n",
              "      <td>151.089</td>\n",
              "    </tr>\n",
              "    <tr>\n",
              "      <th>26491</th>\n",
              "      <td>United States</td>\n",
              "      <td>2020-01-01</td>\n",
              "      <td>0.0</td>\n",
              "      <td>0.0</td>\n",
              "      <td>151.089</td>\n",
              "    </tr>\n",
              "    <tr>\n",
              "      <th>26492</th>\n",
              "      <td>United States</td>\n",
              "      <td>2020-01-02</td>\n",
              "      <td>0.0</td>\n",
              "      <td>0.0</td>\n",
              "      <td>151.089</td>\n",
              "    </tr>\n",
              "    <tr>\n",
              "      <th>26493</th>\n",
              "      <td>United States</td>\n",
              "      <td>2020-01-03</td>\n",
              "      <td>0.0</td>\n",
              "      <td>0.0</td>\n",
              "      <td>151.089</td>\n",
              "    </tr>\n",
              "    <tr>\n",
              "      <th>26494</th>\n",
              "      <td>United States</td>\n",
              "      <td>2020-01-04</td>\n",
              "      <td>0.0</td>\n",
              "      <td>0.0</td>\n",
              "      <td>151.089</td>\n",
              "    </tr>\n",
              "  </tbody>\n",
              "</table>\n",
              "</div>"
            ],
            "text/plain": [
              "            location        date  total_deaths  total_cases  cvd_death_rate\n",
              "26490  United States  2019-12-31           0.0          0.0         151.089\n",
              "26491  United States  2020-01-01           0.0          0.0         151.089\n",
              "26492  United States  2020-01-02           0.0          0.0         151.089\n",
              "26493  United States  2020-01-03           0.0          0.0         151.089\n",
              "26494  United States  2020-01-04           0.0          0.0         151.089"
            ]
          },
          "metadata": {
            "tags": []
          },
          "execution_count": 591
        }
      ]
    },
    {
      "cell_type": "code",
      "metadata": {
        "id": "285DiboRj7MW",
        "colab_type": "code",
        "colab": {}
      },
      "source": [
        "# us_death_rates = covid_dataset.loc[covid_dataset.location=='Zimbabwe', ['location', 'date', 'total_deaths','total_cases','cvd_death_rate']]\n",
        "# us_death_rates.head()"
      ],
      "execution_count": 592,
      "outputs": []
    },
    {
      "cell_type": "code",
      "metadata": {
        "id": "F3wvK4d2kvti",
        "colab_type": "code",
        "colab": {
          "base_uri": "https://localhost:8080/",
          "height": 34
        },
        "outputId": "e360ca58-a12f-46a8-d589-57b2496459c3"
      },
      "source": [
        "us_death_rates.shape"
      ],
      "execution_count": 593,
      "outputs": [
        {
          "output_type": "execute_result",
          "data": {
            "text/plain": [
              "(187, 5)"
            ]
          },
          "metadata": {
            "tags": []
          },
          "execution_count": 593
        }
      ]
    },
    {
      "cell_type": "code",
      "metadata": {
        "id": "kIDXEXFDf4N5",
        "colab_type": "code",
        "colab": {
          "base_uri": "https://localhost:8080/",
          "height": 221
        },
        "outputId": "7dd6e1da-2b5b-4c06-ea8b-cd8073e77a55"
      },
      "source": [
        "# Import forex\n",
        "forex_dataset_data= pd.read_csv('GBP_USD.csv', na_values = \"?\", comment='\\t', skipinitialspace=True)\n",
        "forex_dataset = forex_dataset_data.copy()\n",
        "# forex_dataset = forex_dataset_data.dropna()\n",
        "# Filter dataset\n",
        "forex_dataset.pop('Open')\n",
        "forex_dataset.pop('High')\n",
        "forex_dataset.pop('Low')\n",
        "forex_dataset.pop('Change %')\n"
      ],
      "execution_count": 594,
      "outputs": [
        {
          "output_type": "execute_result",
          "data": {
            "text/plain": [
              "0       0.12%\n",
              "1      -0.05%\n",
              "2       0.59%\n",
              "3       0.83%\n",
              "4      -0.30%\n",
              "        ...  \n",
              "150    -0.15%\n",
              "151     0.40%\n",
              "152     0.85%\n",
              "153     0.44%\n",
              "154     0.02%\n",
              "Name: Change %, Length: 155, dtype: object"
            ]
          },
          "metadata": {
            "tags": []
          },
          "execution_count": 594
        }
      ]
    },
    {
      "cell_type": "code",
      "metadata": {
        "id": "oSzzjHJxi5D4",
        "colab_type": "code",
        "colab": {
          "base_uri": "https://localhost:8080/",
          "height": 204
        },
        "outputId": "cb7145f4-7121-403a-f87d-7bb0ae67c4ad"
      },
      "source": [
        "forex_dataset.tail()"
      ],
      "execution_count": 595,
      "outputs": [
        {
          "output_type": "execute_result",
          "data": {
            "text/html": [
              "<div>\n",
              "<style scoped>\n",
              "    .dataframe tbody tr th:only-of-type {\n",
              "        vertical-align: middle;\n",
              "    }\n",
              "\n",
              "    .dataframe tbody tr th {\n",
              "        vertical-align: top;\n",
              "    }\n",
              "\n",
              "    .dataframe thead th {\n",
              "        text-align: right;\n",
              "    }\n",
              "</style>\n",
              "<table border=\"1\" class=\"dataframe\">\n",
              "  <thead>\n",
              "    <tr style=\"text-align: right;\">\n",
              "      <th></th>\n",
              "      <th>Date</th>\n",
              "      <th>Price</th>\n",
              "    </tr>\n",
              "  </thead>\n",
              "  <tbody>\n",
              "    <tr>\n",
              "      <th>150</th>\n",
              "      <td>Dec 06, 2019</td>\n",
              "      <td>1.3137</td>\n",
              "    </tr>\n",
              "    <tr>\n",
              "      <th>151</th>\n",
              "      <td>Dec 05, 2019</td>\n",
              "      <td>1.3157</td>\n",
              "    </tr>\n",
              "    <tr>\n",
              "      <th>152</th>\n",
              "      <td>Dec 04, 2019</td>\n",
              "      <td>1.3104</td>\n",
              "    </tr>\n",
              "    <tr>\n",
              "      <th>153</th>\n",
              "      <td>Dec 03, 2019</td>\n",
              "      <td>1.2994</td>\n",
              "    </tr>\n",
              "    <tr>\n",
              "      <th>154</th>\n",
              "      <td>Dec 02, 2019</td>\n",
              "      <td>1.2937</td>\n",
              "    </tr>\n",
              "  </tbody>\n",
              "</table>\n",
              "</div>"
            ],
            "text/plain": [
              "             Date   Price\n",
              "150  Dec 06, 2019  1.3137\n",
              "151  Dec 05, 2019  1.3157\n",
              "152  Dec 04, 2019  1.3104\n",
              "153  Dec 03, 2019  1.2994\n",
              "154  Dec 02, 2019  1.2937"
            ]
          },
          "metadata": {
            "tags": []
          },
          "execution_count": 595
        }
      ]
    },
    {
      "cell_type": "code",
      "metadata": {
        "id": "vrVetfeGgSm7",
        "colab_type": "code",
        "colab": {
          "base_uri": "https://localhost:8080/",
          "height": 204
        },
        "outputId": "212a1c3b-f559-41b2-9ffa-5a30085bb5d2"
      },
      "source": [
        "# Isolate covid_date\n",
        "import time \n",
        "us_date = us_death_rates['date']\n",
        "new_us_dates = [time.strptime(x.replace(\"-\",\" \"), '%Y %m %d')for x in us_date]\n",
        "us_death_rates['date'] = new_us_dates\n",
        "us_death_rates.head()\n"
      ],
      "execution_count": 596,
      "outputs": [
        {
          "output_type": "execute_result",
          "data": {
            "text/html": [
              "<div>\n",
              "<style scoped>\n",
              "    .dataframe tbody tr th:only-of-type {\n",
              "        vertical-align: middle;\n",
              "    }\n",
              "\n",
              "    .dataframe tbody tr th {\n",
              "        vertical-align: top;\n",
              "    }\n",
              "\n",
              "    .dataframe thead th {\n",
              "        text-align: right;\n",
              "    }\n",
              "</style>\n",
              "<table border=\"1\" class=\"dataframe\">\n",
              "  <thead>\n",
              "    <tr style=\"text-align: right;\">\n",
              "      <th></th>\n",
              "      <th>location</th>\n",
              "      <th>date</th>\n",
              "      <th>total_deaths</th>\n",
              "      <th>total_cases</th>\n",
              "      <th>cvd_death_rate</th>\n",
              "    </tr>\n",
              "  </thead>\n",
              "  <tbody>\n",
              "    <tr>\n",
              "      <th>26490</th>\n",
              "      <td>United States</td>\n",
              "      <td>(2019, 12, 31, 0, 0, 0, 1, 365, -1)</td>\n",
              "      <td>0.0</td>\n",
              "      <td>0.0</td>\n",
              "      <td>151.089</td>\n",
              "    </tr>\n",
              "    <tr>\n",
              "      <th>26491</th>\n",
              "      <td>United States</td>\n",
              "      <td>(2020, 1, 1, 0, 0, 0, 2, 1, -1)</td>\n",
              "      <td>0.0</td>\n",
              "      <td>0.0</td>\n",
              "      <td>151.089</td>\n",
              "    </tr>\n",
              "    <tr>\n",
              "      <th>26492</th>\n",
              "      <td>United States</td>\n",
              "      <td>(2020, 1, 2, 0, 0, 0, 3, 2, -1)</td>\n",
              "      <td>0.0</td>\n",
              "      <td>0.0</td>\n",
              "      <td>151.089</td>\n",
              "    </tr>\n",
              "    <tr>\n",
              "      <th>26493</th>\n",
              "      <td>United States</td>\n",
              "      <td>(2020, 1, 3, 0, 0, 0, 4, 3, -1)</td>\n",
              "      <td>0.0</td>\n",
              "      <td>0.0</td>\n",
              "      <td>151.089</td>\n",
              "    </tr>\n",
              "    <tr>\n",
              "      <th>26494</th>\n",
              "      <td>United States</td>\n",
              "      <td>(2020, 1, 4, 0, 0, 0, 5, 4, -1)</td>\n",
              "      <td>0.0</td>\n",
              "      <td>0.0</td>\n",
              "      <td>151.089</td>\n",
              "    </tr>\n",
              "  </tbody>\n",
              "</table>\n",
              "</div>"
            ],
            "text/plain": [
              "            location  ... cvd_death_rate\n",
              "26490  United States  ...        151.089\n",
              "26491  United States  ...        151.089\n",
              "26492  United States  ...        151.089\n",
              "26493  United States  ...        151.089\n",
              "26494  United States  ...        151.089\n",
              "\n",
              "[5 rows x 5 columns]"
            ]
          },
          "metadata": {
            "tags": []
          },
          "execution_count": 596
        }
      ]
    },
    {
      "cell_type": "code",
      "metadata": {
        "id": "IGR0p0YWh9jH",
        "colab_type": "code",
        "colab": {
          "base_uri": "https://localhost:8080/",
          "height": 204
        },
        "outputId": "2760e611-728a-4f90-8df8-6ff43cb68848"
      },
      "source": [
        "# Isolate forex_date\n",
        "import time \n",
        "forex_date = forex_dataset['Date']\n",
        "new_forex_dates = [time.strptime(x.replace(',', \"\"), '%b %d %Y')for x in forex_date]\n",
        "forex_dataset['Date'] = new_forex_dates\n",
        "forex_dataset.tail()"
      ],
      "execution_count": 597,
      "outputs": [
        {
          "output_type": "execute_result",
          "data": {
            "text/html": [
              "<div>\n",
              "<style scoped>\n",
              "    .dataframe tbody tr th:only-of-type {\n",
              "        vertical-align: middle;\n",
              "    }\n",
              "\n",
              "    .dataframe tbody tr th {\n",
              "        vertical-align: top;\n",
              "    }\n",
              "\n",
              "    .dataframe thead th {\n",
              "        text-align: right;\n",
              "    }\n",
              "</style>\n",
              "<table border=\"1\" class=\"dataframe\">\n",
              "  <thead>\n",
              "    <tr style=\"text-align: right;\">\n",
              "      <th></th>\n",
              "      <th>Date</th>\n",
              "      <th>Price</th>\n",
              "    </tr>\n",
              "  </thead>\n",
              "  <tbody>\n",
              "    <tr>\n",
              "      <th>150</th>\n",
              "      <td>(2019, 12, 6, 0, 0, 0, 4, 340, -1)</td>\n",
              "      <td>1.3137</td>\n",
              "    </tr>\n",
              "    <tr>\n",
              "      <th>151</th>\n",
              "      <td>(2019, 12, 5, 0, 0, 0, 3, 339, -1)</td>\n",
              "      <td>1.3157</td>\n",
              "    </tr>\n",
              "    <tr>\n",
              "      <th>152</th>\n",
              "      <td>(2019, 12, 4, 0, 0, 0, 2, 338, -1)</td>\n",
              "      <td>1.3104</td>\n",
              "    </tr>\n",
              "    <tr>\n",
              "      <th>153</th>\n",
              "      <td>(2019, 12, 3, 0, 0, 0, 1, 337, -1)</td>\n",
              "      <td>1.2994</td>\n",
              "    </tr>\n",
              "    <tr>\n",
              "      <th>154</th>\n",
              "      <td>(2019, 12, 2, 0, 0, 0, 0, 336, -1)</td>\n",
              "      <td>1.2937</td>\n",
              "    </tr>\n",
              "  </tbody>\n",
              "</table>\n",
              "</div>"
            ],
            "text/plain": [
              "                                   Date   Price\n",
              "150  (2019, 12, 6, 0, 0, 0, 4, 340, -1)  1.3137\n",
              "151  (2019, 12, 5, 0, 0, 0, 3, 339, -1)  1.3157\n",
              "152  (2019, 12, 4, 0, 0, 0, 2, 338, -1)  1.3104\n",
              "153  (2019, 12, 3, 0, 0, 0, 1, 337, -1)  1.2994\n",
              "154  (2019, 12, 2, 0, 0, 0, 0, 336, -1)  1.2937"
            ]
          },
          "metadata": {
            "tags": []
          },
          "execution_count": 597
        }
      ]
    },
    {
      "cell_type": "code",
      "metadata": {
        "id": "OiFVDAF0ngrx",
        "colab_type": "code",
        "colab": {
          "base_uri": "https://localhost:8080/",
          "height": 289
        },
        "outputId": "24d49ecf-8452-40d9-946e-d65dab8870d8"
      },
      "source": [
        "# Merging dates from two tables\n",
        "dataset = pd.merge(left=forex_dataset, left_on='Date',\n",
        "         right=us_death_rates, right_on='date')\n",
        "dataset.tail()\n"
      ],
      "execution_count": 598,
      "outputs": [
        {
          "output_type": "execute_result",
          "data": {
            "text/html": [
              "<div>\n",
              "<style scoped>\n",
              "    .dataframe tbody tr th:only-of-type {\n",
              "        vertical-align: middle;\n",
              "    }\n",
              "\n",
              "    .dataframe tbody tr th {\n",
              "        vertical-align: top;\n",
              "    }\n",
              "\n",
              "    .dataframe thead th {\n",
              "        text-align: right;\n",
              "    }\n",
              "</style>\n",
              "<table border=\"1\" class=\"dataframe\">\n",
              "  <thead>\n",
              "    <tr style=\"text-align: right;\">\n",
              "      <th></th>\n",
              "      <th>Date</th>\n",
              "      <th>Price</th>\n",
              "      <th>location</th>\n",
              "      <th>date</th>\n",
              "      <th>total_deaths</th>\n",
              "      <th>total_cases</th>\n",
              "      <th>cvd_death_rate</th>\n",
              "    </tr>\n",
              "  </thead>\n",
              "  <tbody>\n",
              "    <tr>\n",
              "      <th>129</th>\n",
              "      <td>(2020, 1, 6, 0, 0, 0, 0, 6, -1)</td>\n",
              "      <td>1.3169</td>\n",
              "      <td>United States</td>\n",
              "      <td>(2020, 1, 6, 0, 0, 0, 0, 6, -1)</td>\n",
              "      <td>0.0</td>\n",
              "      <td>0.0</td>\n",
              "      <td>151.089</td>\n",
              "    </tr>\n",
              "    <tr>\n",
              "      <th>130</th>\n",
              "      <td>(2020, 1, 3, 0, 0, 0, 4, 3, -1)</td>\n",
              "      <td>1.3088</td>\n",
              "      <td>United States</td>\n",
              "      <td>(2020, 1, 3, 0, 0, 0, 4, 3, -1)</td>\n",
              "      <td>0.0</td>\n",
              "      <td>0.0</td>\n",
              "      <td>151.089</td>\n",
              "    </tr>\n",
              "    <tr>\n",
              "      <th>131</th>\n",
              "      <td>(2020, 1, 2, 0, 0, 0, 3, 2, -1)</td>\n",
              "      <td>1.3146</td>\n",
              "      <td>United States</td>\n",
              "      <td>(2020, 1, 2, 0, 0, 0, 3, 2, -1)</td>\n",
              "      <td>0.0</td>\n",
              "      <td>0.0</td>\n",
              "      <td>151.089</td>\n",
              "    </tr>\n",
              "    <tr>\n",
              "      <th>132</th>\n",
              "      <td>(2020, 1, 1, 0, 0, 0, 2, 1, -1)</td>\n",
              "      <td>1.3255</td>\n",
              "      <td>United States</td>\n",
              "      <td>(2020, 1, 1, 0, 0, 0, 2, 1, -1)</td>\n",
              "      <td>0.0</td>\n",
              "      <td>0.0</td>\n",
              "      <td>151.089</td>\n",
              "    </tr>\n",
              "    <tr>\n",
              "      <th>133</th>\n",
              "      <td>(2019, 12, 31, 0, 0, 0, 1, 365, -1)</td>\n",
              "      <td>1.3261</td>\n",
              "      <td>United States</td>\n",
              "      <td>(2019, 12, 31, 0, 0, 0, 1, 365, -1)</td>\n",
              "      <td>0.0</td>\n",
              "      <td>0.0</td>\n",
              "      <td>151.089</td>\n",
              "    </tr>\n",
              "  </tbody>\n",
              "</table>\n",
              "</div>"
            ],
            "text/plain": [
              "                                    Date   Price  ... total_cases cvd_death_rate\n",
              "129      (2020, 1, 6, 0, 0, 0, 0, 6, -1)  1.3169  ...         0.0        151.089\n",
              "130      (2020, 1, 3, 0, 0, 0, 4, 3, -1)  1.3088  ...         0.0        151.089\n",
              "131      (2020, 1, 2, 0, 0, 0, 3, 2, -1)  1.3146  ...         0.0        151.089\n",
              "132      (2020, 1, 1, 0, 0, 0, 2, 1, -1)  1.3255  ...         0.0        151.089\n",
              "133  (2019, 12, 31, 0, 0, 0, 1, 365, -1)  1.3261  ...         0.0        151.089\n",
              "\n",
              "[5 rows x 7 columns]"
            ]
          },
          "metadata": {
            "tags": []
          },
          "execution_count": 598
        }
      ]
    },
    {
      "cell_type": "code",
      "metadata": {
        "id": "a9A_G1s9ETvi",
        "colab_type": "code",
        "colab": {
          "base_uri": "https://localhost:8080/",
          "height": 221
        },
        "outputId": "8897762f-1453-4e07-d4ce-3d5ef746ac59"
      },
      "source": [
        "# We pop the 'date' from the covid_dataset because this column starts later than the forex column\n",
        "# We want to see the forex price before covid happened\n",
        "dataset.pop('date')"
      ],
      "execution_count": 599,
      "outputs": [
        {
          "output_type": "execute_result",
          "data": {
            "text/plain": [
              "0        (2020, 7, 3, 0, 0, 0, 4, 185, -1)\n",
              "1        (2020, 7, 2, 0, 0, 0, 3, 184, -1)\n",
              "2        (2020, 7, 1, 0, 0, 0, 2, 183, -1)\n",
              "3       (2020, 6, 30, 0, 0, 0, 1, 182, -1)\n",
              "4       (2020, 6, 29, 0, 0, 0, 0, 181, -1)\n",
              "                      ...                 \n",
              "129        (2020, 1, 6, 0, 0, 0, 0, 6, -1)\n",
              "130        (2020, 1, 3, 0, 0, 0, 4, 3, -1)\n",
              "131        (2020, 1, 2, 0, 0, 0, 3, 2, -1)\n",
              "132        (2020, 1, 1, 0, 0, 0, 2, 1, -1)\n",
              "133    (2019, 12, 31, 0, 0, 0, 1, 365, -1)\n",
              "Name: date, Length: 134, dtype: object"
            ]
          },
          "metadata": {
            "tags": []
          },
          "execution_count": 599
        }
      ]
    },
    {
      "cell_type": "code",
      "metadata": {
        "id": "Rz0-4V24EY65",
        "colab_type": "code",
        "colab": {
          "base_uri": "https://localhost:8080/",
          "height": 204
        },
        "outputId": "318d4f87-d432-47e0-8890-96b49a916730"
      },
      "source": [
        "# Problem: This still starts at 2019,12,13 when we want 2019,12,02\n",
        "# However this does not affect our data graph for some reason - scroll down\n",
        "dataset.tail()"
      ],
      "execution_count": 600,
      "outputs": [
        {
          "output_type": "execute_result",
          "data": {
            "text/html": [
              "<div>\n",
              "<style scoped>\n",
              "    .dataframe tbody tr th:only-of-type {\n",
              "        vertical-align: middle;\n",
              "    }\n",
              "\n",
              "    .dataframe tbody tr th {\n",
              "        vertical-align: top;\n",
              "    }\n",
              "\n",
              "    .dataframe thead th {\n",
              "        text-align: right;\n",
              "    }\n",
              "</style>\n",
              "<table border=\"1\" class=\"dataframe\">\n",
              "  <thead>\n",
              "    <tr style=\"text-align: right;\">\n",
              "      <th></th>\n",
              "      <th>Date</th>\n",
              "      <th>Price</th>\n",
              "      <th>location</th>\n",
              "      <th>total_deaths</th>\n",
              "      <th>total_cases</th>\n",
              "      <th>cvd_death_rate</th>\n",
              "    </tr>\n",
              "  </thead>\n",
              "  <tbody>\n",
              "    <tr>\n",
              "      <th>129</th>\n",
              "      <td>(2020, 1, 6, 0, 0, 0, 0, 6, -1)</td>\n",
              "      <td>1.3169</td>\n",
              "      <td>United States</td>\n",
              "      <td>0.0</td>\n",
              "      <td>0.0</td>\n",
              "      <td>151.089</td>\n",
              "    </tr>\n",
              "    <tr>\n",
              "      <th>130</th>\n",
              "      <td>(2020, 1, 3, 0, 0, 0, 4, 3, -1)</td>\n",
              "      <td>1.3088</td>\n",
              "      <td>United States</td>\n",
              "      <td>0.0</td>\n",
              "      <td>0.0</td>\n",
              "      <td>151.089</td>\n",
              "    </tr>\n",
              "    <tr>\n",
              "      <th>131</th>\n",
              "      <td>(2020, 1, 2, 0, 0, 0, 3, 2, -1)</td>\n",
              "      <td>1.3146</td>\n",
              "      <td>United States</td>\n",
              "      <td>0.0</td>\n",
              "      <td>0.0</td>\n",
              "      <td>151.089</td>\n",
              "    </tr>\n",
              "    <tr>\n",
              "      <th>132</th>\n",
              "      <td>(2020, 1, 1, 0, 0, 0, 2, 1, -1)</td>\n",
              "      <td>1.3255</td>\n",
              "      <td>United States</td>\n",
              "      <td>0.0</td>\n",
              "      <td>0.0</td>\n",
              "      <td>151.089</td>\n",
              "    </tr>\n",
              "    <tr>\n",
              "      <th>133</th>\n",
              "      <td>(2019, 12, 31, 0, 0, 0, 1, 365, -1)</td>\n",
              "      <td>1.3261</td>\n",
              "      <td>United States</td>\n",
              "      <td>0.0</td>\n",
              "      <td>0.0</td>\n",
              "      <td>151.089</td>\n",
              "    </tr>\n",
              "  </tbody>\n",
              "</table>\n",
              "</div>"
            ],
            "text/plain": [
              "                                    Date   Price  ... total_cases  cvd_death_rate\n",
              "129      (2020, 1, 6, 0, 0, 0, 0, 6, -1)  1.3169  ...         0.0         151.089\n",
              "130      (2020, 1, 3, 0, 0, 0, 4, 3, -1)  1.3088  ...         0.0         151.089\n",
              "131      (2020, 1, 2, 0, 0, 0, 3, 2, -1)  1.3146  ...         0.0         151.089\n",
              "132      (2020, 1, 1, 0, 0, 0, 2, 1, -1)  1.3255  ...         0.0         151.089\n",
              "133  (2019, 12, 31, 0, 0, 0, 1, 365, -1)  1.3261  ...         0.0         151.089\n",
              "\n",
              "[5 rows x 6 columns]"
            ]
          },
          "metadata": {
            "tags": []
          },
          "execution_count": 600
        }
      ]
    },
    {
      "cell_type": "code",
      "metadata": {
        "id": "AKPMw6jUypAN",
        "colab_type": "code",
        "colab": {
          "base_uri": "https://localhost:8080/",
          "height": 136
        },
        "outputId": "64633b9e-e039-49a5-a34e-259de9156138"
      },
      "source": [
        "# Object means string\n",
        "dataset.dtypes"
      ],
      "execution_count": 601,
      "outputs": [
        {
          "output_type": "execute_result",
          "data": {
            "text/plain": [
              "Date               object\n",
              "Price             float64\n",
              "location           object\n",
              "total_deaths      float64\n",
              "total_cases       float64\n",
              "cvd_death_rate    float64\n",
              "dtype: object"
            ]
          },
          "metadata": {
            "tags": []
          },
          "execution_count": 601
        }
      ]
    },
    {
      "cell_type": "code",
      "metadata": {
        "id": "I9kHcA_4tAqL",
        "colab_type": "code",
        "colab": {
          "base_uri": "https://localhost:8080/",
          "height": 119
        },
        "outputId": "1ddc05dc-2522-4e39-e630-edc566fde5fd"
      },
      "source": [
        "# View what date looks like\n",
        "date = dataset['Date']\n",
        "date.head()"
      ],
      "execution_count": 602,
      "outputs": [
        {
          "output_type": "execute_result",
          "data": {
            "text/plain": [
              "0     (2020, 7, 3, 0, 0, 0, 4, 185, -1)\n",
              "1     (2020, 7, 2, 0, 0, 0, 3, 184, -1)\n",
              "2     (2020, 7, 1, 0, 0, 0, 2, 183, -1)\n",
              "3    (2020, 6, 30, 0, 0, 0, 1, 182, -1)\n",
              "4    (2020, 6, 29, 0, 0, 0, 0, 181, -1)\n",
              "Name: Date, dtype: object"
            ]
          },
          "metadata": {
            "tags": []
          },
          "execution_count": 602
        }
      ]
    },
    {
      "cell_type": "code",
      "metadata": {
        "id": "0Nxcgc_K3ZDm",
        "colab_type": "code",
        "colab": {
          "base_uri": "https://localhost:8080/",
          "height": 255
        },
        "outputId": "47d46e5b-67b6-449d-eb86-0e8cefca6ff7"
      },
      "source": [
        "# Splitting timestamp and isolating the date\n",
        "dateFormatting = pd.DataFrame({'my_timestamp': pd.date_range('2019-12-02 15:00', periods=len(date))})\n",
        "dateFormatting['new_date'] = [d.date() for d in dateFormatting['my_timestamp']]\n",
        "dateFormatting['new_time'] = [d.time() for d in dateFormatting['my_timestamp']]\n",
        "print(dateFormatting)\n"
      ],
      "execution_count": 603,
      "outputs": [
        {
          "output_type": "stream",
          "text": [
            "           my_timestamp    new_date  new_time\n",
            "0   2019-12-02 15:00:00  2019-12-02  15:00:00\n",
            "1   2019-12-03 15:00:00  2019-12-03  15:00:00\n",
            "2   2019-12-04 15:00:00  2019-12-04  15:00:00\n",
            "3   2019-12-05 15:00:00  2019-12-05  15:00:00\n",
            "4   2019-12-06 15:00:00  2019-12-06  15:00:00\n",
            "..                  ...         ...       ...\n",
            "129 2020-04-09 15:00:00  2020-04-09  15:00:00\n",
            "130 2020-04-10 15:00:00  2020-04-10  15:00:00\n",
            "131 2020-04-11 15:00:00  2020-04-11  15:00:00\n",
            "132 2020-04-12 15:00:00  2020-04-12  15:00:00\n",
            "133 2020-04-13 15:00:00  2020-04-13  15:00:00\n",
            "\n",
            "[134 rows x 3 columns]\n"
          ],
          "name": "stdout"
        }
      ]
    },
    {
      "cell_type": "code",
      "metadata": {
        "id": "Tav3LALn4KN2",
        "colab_type": "code",
        "colab": {
          "base_uri": "https://localhost:8080/",
          "height": 54
        },
        "outputId": "871f2758-3786-4a6c-8ef5-34a06f8e6eb8"
      },
      "source": [
        "# Convert date to list so that we can use the dates to plot on graph\n",
        "my_xticks = dateFormatting['new_date'].tolist()\n",
        "print(my_xticks)"
      ],
      "execution_count": 604,
      "outputs": [
        {
          "output_type": "stream",
          "text": [
            "[datetime.date(2019, 12, 2), datetime.date(2019, 12, 3), datetime.date(2019, 12, 4), datetime.date(2019, 12, 5), datetime.date(2019, 12, 6), datetime.date(2019, 12, 7), datetime.date(2019, 12, 8), datetime.date(2019, 12, 9), datetime.date(2019, 12, 10), datetime.date(2019, 12, 11), datetime.date(2019, 12, 12), datetime.date(2019, 12, 13), datetime.date(2019, 12, 14), datetime.date(2019, 12, 15), datetime.date(2019, 12, 16), datetime.date(2019, 12, 17), datetime.date(2019, 12, 18), datetime.date(2019, 12, 19), datetime.date(2019, 12, 20), datetime.date(2019, 12, 21), datetime.date(2019, 12, 22), datetime.date(2019, 12, 23), datetime.date(2019, 12, 24), datetime.date(2019, 12, 25), datetime.date(2019, 12, 26), datetime.date(2019, 12, 27), datetime.date(2019, 12, 28), datetime.date(2019, 12, 29), datetime.date(2019, 12, 30), datetime.date(2019, 12, 31), datetime.date(2020, 1, 1), datetime.date(2020, 1, 2), datetime.date(2020, 1, 3), datetime.date(2020, 1, 4), datetime.date(2020, 1, 5), datetime.date(2020, 1, 6), datetime.date(2020, 1, 7), datetime.date(2020, 1, 8), datetime.date(2020, 1, 9), datetime.date(2020, 1, 10), datetime.date(2020, 1, 11), datetime.date(2020, 1, 12), datetime.date(2020, 1, 13), datetime.date(2020, 1, 14), datetime.date(2020, 1, 15), datetime.date(2020, 1, 16), datetime.date(2020, 1, 17), datetime.date(2020, 1, 18), datetime.date(2020, 1, 19), datetime.date(2020, 1, 20), datetime.date(2020, 1, 21), datetime.date(2020, 1, 22), datetime.date(2020, 1, 23), datetime.date(2020, 1, 24), datetime.date(2020, 1, 25), datetime.date(2020, 1, 26), datetime.date(2020, 1, 27), datetime.date(2020, 1, 28), datetime.date(2020, 1, 29), datetime.date(2020, 1, 30), datetime.date(2020, 1, 31), datetime.date(2020, 2, 1), datetime.date(2020, 2, 2), datetime.date(2020, 2, 3), datetime.date(2020, 2, 4), datetime.date(2020, 2, 5), datetime.date(2020, 2, 6), datetime.date(2020, 2, 7), datetime.date(2020, 2, 8), datetime.date(2020, 2, 9), datetime.date(2020, 2, 10), datetime.date(2020, 2, 11), datetime.date(2020, 2, 12), datetime.date(2020, 2, 13), datetime.date(2020, 2, 14), datetime.date(2020, 2, 15), datetime.date(2020, 2, 16), datetime.date(2020, 2, 17), datetime.date(2020, 2, 18), datetime.date(2020, 2, 19), datetime.date(2020, 2, 20), datetime.date(2020, 2, 21), datetime.date(2020, 2, 22), datetime.date(2020, 2, 23), datetime.date(2020, 2, 24), datetime.date(2020, 2, 25), datetime.date(2020, 2, 26), datetime.date(2020, 2, 27), datetime.date(2020, 2, 28), datetime.date(2020, 2, 29), datetime.date(2020, 3, 1), datetime.date(2020, 3, 2), datetime.date(2020, 3, 3), datetime.date(2020, 3, 4), datetime.date(2020, 3, 5), datetime.date(2020, 3, 6), datetime.date(2020, 3, 7), datetime.date(2020, 3, 8), datetime.date(2020, 3, 9), datetime.date(2020, 3, 10), datetime.date(2020, 3, 11), datetime.date(2020, 3, 12), datetime.date(2020, 3, 13), datetime.date(2020, 3, 14), datetime.date(2020, 3, 15), datetime.date(2020, 3, 16), datetime.date(2020, 3, 17), datetime.date(2020, 3, 18), datetime.date(2020, 3, 19), datetime.date(2020, 3, 20), datetime.date(2020, 3, 21), datetime.date(2020, 3, 22), datetime.date(2020, 3, 23), datetime.date(2020, 3, 24), datetime.date(2020, 3, 25), datetime.date(2020, 3, 26), datetime.date(2020, 3, 27), datetime.date(2020, 3, 28), datetime.date(2020, 3, 29), datetime.date(2020, 3, 30), datetime.date(2020, 3, 31), datetime.date(2020, 4, 1), datetime.date(2020, 4, 2), datetime.date(2020, 4, 3), datetime.date(2020, 4, 4), datetime.date(2020, 4, 5), datetime.date(2020, 4, 6), datetime.date(2020, 4, 7), datetime.date(2020, 4, 8), datetime.date(2020, 4, 9), datetime.date(2020, 4, 10), datetime.date(2020, 4, 11), datetime.date(2020, 4, 12), datetime.date(2020, 4, 13)]\n"
          ],
          "name": "stdout"
        }
      ]
    },
    {
      "cell_type": "code",
      "metadata": {
        "id": "eDGMN3GG6wOL",
        "colab_type": "code",
        "colab": {
          "base_uri": "https://localhost:8080/",
          "height": 375
        },
        "outputId": "e90cb710-a804-492c-91f3-d77b13bb9ffb"
      },
      "source": [
        "# Plotted prices and dates\n",
        "# Notice how the dates start and end\n",
        "\n",
        "from datetime import datetime, timedelta\n",
        "from matplotlib import pyplot as plt\n",
        "from matplotlib import dates as mpl_dates\n",
        "plt.style.use('seaborn')\n",
        "from matplotlib import rcParams\n",
        "rcParams['figure.figsize'] = 15,6\n",
        "\n",
        "dates = np.array(dateFormatting['new_date'])\n",
        "price = np.array(dataset['Price'])\n",
        "plt.plot_date(dates,price, linestyle ='solid')\n",
        "plt.gcf().autofmt_xdate()\n",
        "date_format = mpl_dates.DateFormatter('%b,%d,%Y')\n",
        "plt.title('Time Series Price of USD compare to GBP')\n",
        "plt.xlabel('Date')\n",
        "plt.ylabel('Price')\n",
        "plt.gca().xaxis.set_major_formatter(date_format)"
      ],
      "execution_count": 605,
      "outputs": [
        {
          "output_type": "display_data",
          "data": {
            "image/png": "[encoded data removed]",
            "text/plain": [
              "<Figure size 1080x432 with 1 Axes>"
            ]
          },
          "metadata": {
            "tags": []
          }
        }
      ]
    },
    {
      "cell_type": "code",
      "metadata": {
        "id": "Dqj88upVOPC9",
        "colab_type": "code",
        "colab": {
          "base_uri": "https://localhost:8080/",
          "height": 34
        },
        "outputId": "d5b8b22d-a6c7-45bb-f1a6-28565714706e"
      },
      "source": [
        "# print(price)\n",
        "test = np.array(dataset['total_deaths'])\n",
        "# print(test)\n",
        "price.shape\n",
        "# test.shape\n",
        "\n",
        "test = np.array(dataset['total_deaths'])\n",
        "list = np.array(test)\n",
        "reversed_arr = list[::-1]\n",
        "reversed_arr.shape\n",
        "price.shape"
      ],
      "execution_count": 606,
      "outputs": [
        {
          "output_type": "execute_result",
          "data": {
            "text/plain": [
              "(134,)"
            ]
          },
          "metadata": {
            "tags": []
          },
          "execution_count": 606
        }
      ]
    },
    {
      "cell_type": "code",
      "metadata": {
        "id": "T30FJ5ONMRsa",
        "colab_type": "code",
        "colab": {}
      },
      "source": [
        "# Adds the accumulative deaths every day of a country\n",
        "# Problem – This needs to be sorted from the end since the way out data is set up - can this be made more efficient?\n",
        "total_us_deaths = dataset['total_deaths']\n",
        "list = np.array(total_us_deaths)\n",
        "reversed_arr = list[::-1]\n",
        "newDay = 0\n",
        "day = []\n",
        "for currentday in reversed_arr:\n",
        "   newDay = currentday + newDay\n",
        "   day.append(newDay)\n"
      ],
      "execution_count": 607,
      "outputs": []
    },
    {
      "cell_type": "code",
      "metadata": {
        "id": "oivvoebSMpRV",
        "colab_type": "code",
        "colab": {
          "base_uri": "https://localhost:8080/",
          "height": 397
        },
        "outputId": "2da4f960-80a9-4d4a-86d7-58b95ce64a28"
      },
      "source": [
        "# Plots the accumulative daily death rates of a country\n",
        "dates = np.array(dateFormatting['new_date'])\n",
        "us_deaths = np.array(day)\n",
        "plt.plot_date(dates,us_deaths, linestyle ='solid')\n",
        "plt.gcf().autofmt_xdate()\n",
        "date_format = mpl_dates.DateFormatter('%b,%d,%Y')\n",
        "plt.title('Time Series of Total Deaths of US')\n",
        "plt.xlabel('Date')\n",
        "plt.ylabel('Total Deaths')\n"
      ],
      "execution_count": 608,
      "outputs": [
        {
          "output_type": "execute_result",
          "data": {
            "text/plain": [
              "Text(0, 0.5, 'Total Deaths')"
            ]
          },
          "metadata": {
            "tags": []
          },
          "execution_count": 608
        },
        {
          "output_type": "display_data",
          "data": {
            "image/png": "[encoded data removed]",
            "text/plain": [
              "<Figure size 1080x432 with 1 Axes>"
            ]
          },
          "metadata": {
            "tags": []
          }
        }
      ]
    },
    {
      "cell_type": "code",
      "metadata": {
        "id": "1dCKLM-XSXt_",
        "colab_type": "code",
        "colab": {
          "base_uri": "https://localhost:8080/",
          "height": 34
        },
        "outputId": "44a666bb-8a84-4a1d-b428-cd132e3d1393"
      },
      "source": [
        "test.shape"
      ],
      "execution_count": 609,
      "outputs": [
        {
          "output_type": "execute_result",
          "data": {
            "text/plain": [
              "(134,)"
            ]
          },
          "metadata": {
            "tags": []
          },
          "execution_count": 609
        }
      ]
    },
    {
      "cell_type": "code",
      "metadata": {
        "id": "aLvrpnjESZmR",
        "colab_type": "code",
        "colab": {
          "base_uri": "https://localhost:8080/",
          "height": 34
        },
        "outputId": "3bbf90cc-2718-4d14-90f2-c6f0c61b2e07"
      },
      "source": [
        "price.shape"
      ],
      "execution_count": 610,
      "outputs": [
        {
          "output_type": "execute_result",
          "data": {
            "text/plain": [
              "(134,)"
            ]
          },
          "metadata": {
            "tags": []
          },
          "execution_count": 610
        }
      ]
    },
    {
      "cell_type": "markdown",
      "metadata": {
        "id": "SWTJypnsv5R3",
        "colab_type": "text"
      },
      "source": [
        ""
      ]
    },
    {
      "cell_type": "code",
      "metadata": {
        "id": "v6NykB3TSJxe",
        "colab_type": "code",
        "colab": {
          "base_uri": "https://localhost:8080/",
          "height": 493
        },
        "outputId": "d1d1ae0e-6af6-4f13-83d8-84feabf73efe"
      },
      "source": [
        "price_frame = pd.DataFrame(np.concatenate([price]), columns= [\"Price\"])\n",
        "death_frame = pd.DataFrame(np.concatenate([day]), columns= [\"Total_Deaths_US\"])\n",
        "print(price_frame)\n",
        "print(death_frame)"
      ],
      "execution_count": 611,
      "outputs": [
        {
          "output_type": "stream",
          "text": [
            "      Price\n",
            "0    1.2482\n",
            "1    1.2467\n",
            "2    1.2474\n",
            "3    1.2401\n",
            "4    1.2299\n",
            "..      ...\n",
            "129  1.3169\n",
            "130  1.3088\n",
            "131  1.3146\n",
            "132  1.3255\n",
            "133  1.3261\n",
            "\n",
            "[134 rows x 1 columns]\n",
            "     Total_Deaths_US\n",
            "0                0.0\n",
            "1                0.0\n",
            "2                0.0\n",
            "3                0.0\n",
            "4                0.0\n",
            "..               ...\n",
            "129        4881974.0\n",
            "130        5008114.0\n",
            "131        5135524.0\n",
            "132        5263586.0\n",
            "133        5392326.0\n",
            "\n",
            "[134 rows x 1 columns]\n"
          ],
          "name": "stdout"
        }
      ]
    },
    {
      "cell_type": "code",
      "metadata": {
        "id": "GUr5EmIHITzq",
        "colab_type": "code",
        "colab": {
          "base_uri": "https://localhost:8080/",
          "height": 1000
        },
        "outputId": "15d5ac5c-cb03-42d1-9d5f-dbd4ece3fe4e"
      },
      "source": [
        "# Working Normalised method!!\n",
        "from sklearn.preprocessing import MinMaxScaler\n",
        "scaler = MinMaxScaler(feature_range=(0,1))\n",
        "normalisation_us_deaths = scaler.fit_transform(death_frame).reshape(-1,1)\n",
        "normalisation_price = scaler.fit_transform(price_frame).reshape(-1,1)\n",
        "print(normalisation_us_deaths)"
      ],
      "execution_count": 612,
      "outputs": [
        {
          "output_type": "stream",
          "text": [
            "[[0.00000000e+00]\n",
            " [0.00000000e+00]\n",
            " [0.00000000e+00]\n",
            " [0.00000000e+00]\n",
            " [0.00000000e+00]\n",
            " [0.00000000e+00]\n",
            " [0.00000000e+00]\n",
            " [0.00000000e+00]\n",
            " [0.00000000e+00]\n",
            " [0.00000000e+00]\n",
            " [0.00000000e+00]\n",
            " [0.00000000e+00]\n",
            " [0.00000000e+00]\n",
            " [0.00000000e+00]\n",
            " [0.00000000e+00]\n",
            " [0.00000000e+00]\n",
            " [0.00000000e+00]\n",
            " [0.00000000e+00]\n",
            " [0.00000000e+00]\n",
            " [0.00000000e+00]\n",
            " [0.00000000e+00]\n",
            " [0.00000000e+00]\n",
            " [0.00000000e+00]\n",
            " [0.00000000e+00]\n",
            " [0.00000000e+00]\n",
            " [0.00000000e+00]\n",
            " [0.00000000e+00]\n",
            " [0.00000000e+00]\n",
            " [0.00000000e+00]\n",
            " [0.00000000e+00]\n",
            " [0.00000000e+00]\n",
            " [0.00000000e+00]\n",
            " [0.00000000e+00]\n",
            " [0.00000000e+00]\n",
            " [0.00000000e+00]\n",
            " [0.00000000e+00]\n",
            " [0.00000000e+00]\n",
            " [0.00000000e+00]\n",
            " [0.00000000e+00]\n",
            " [0.00000000e+00]\n",
            " [0.00000000e+00]\n",
            " [0.00000000e+00]\n",
            " [0.00000000e+00]\n",
            " [0.00000000e+00]\n",
            " [3.70897457e-07]\n",
            " [1.48358983e-06]\n",
            " [3.15262838e-06]\n",
            " [5.19256440e-06]\n",
            " [7.41794914e-06]\n",
            " [1.13123724e-05]\n",
            " [1.61340394e-05]\n",
            " [2.13266038e-05]\n",
            " [2.68900656e-05]\n",
            " [3.43080148e-05]\n",
            " [4.71039770e-05]\n",
            " [6.28671189e-05]\n",
            " [8.28955816e-05]\n",
            " [1.10712891e-04]\n",
            " [1.38530200e-04]\n",
            " [2.25876551e-04]\n",
            " [3.35291301e-04]\n",
            " [4.83835732e-04]\n",
            " [6.78556897e-04]\n",
            " [9.18898449e-04]\n",
            " [1.38418931e-03]\n",
            " [1.97206178e-03]\n",
            " [2.72850714e-03]\n",
            " [3.68134271e-03]\n",
            " [4.80386386e-03]\n",
            " [6.59288774e-03]\n",
            " [8.63078382e-03]\n",
            " [1.10221452e-02]\n",
            " [1.37699390e-02]\n",
            " [1.68650783e-02]\n",
            " [2.09649787e-02]\n",
            " [2.53506557e-02]\n",
            " [3.01828932e-02]\n",
            " [3.59290221e-02]\n",
            " [4.21014976e-02]\n",
            " [4.96459227e-02]\n",
            " [5.75347262e-02]\n",
            " [6.58916023e-02]\n",
            " [7.45676356e-02]\n",
            " [8.38332104e-02]\n",
            " [9.40098948e-02]\n",
            " [1.04440459e-01]\n",
            " [1.15262319e-01]\n",
            " [1.26568386e-01]\n",
            " [1.38252769e-01]\n",
            " [1.50804310e-01]\n",
            " [1.63588032e-01]\n",
            " [1.76769357e-01]\n",
            " [1.90387043e-01]\n",
            " [2.04419948e-01]\n",
            " [2.19168314e-01]\n",
            " [2.34131060e-01]\n",
            " [2.49409624e-01]\n",
            " [2.65011982e-01]\n",
            " [2.80943140e-01]\n",
            " [2.97552299e-01]\n",
            " [3.14308148e-01]\n",
            " [3.31354781e-01]\n",
            " [3.48682925e-01]\n",
            " [3.66245290e-01]\n",
            " [3.84367340e-01]\n",
            " [4.02582114e-01]\n",
            " [4.20925960e-01]\n",
            " [4.39552802e-01]\n",
            " [4.58397545e-01]\n",
            " [4.77755240e-01]\n",
            " [4.97254617e-01]\n",
            " [5.16945748e-01]\n",
            " [5.36821216e-01]\n",
            " [5.56888808e-01]\n",
            " [5.77383489e-01]\n",
            " [5.97969596e-01]\n",
            " [6.18740966e-01]\n",
            " [6.39682579e-01]\n",
            " [6.60790353e-01]\n",
            " [6.82252705e-01]\n",
            " [7.03788310e-01]\n",
            " [7.25478949e-01]\n",
            " [7.47309417e-01]\n",
            " [7.69272852e-01]\n",
            " [7.91522063e-01]\n",
            " [8.13850461e-01]\n",
            " [8.36332039e-01]\n",
            " [8.58952890e-01]\n",
            " [8.82025679e-01]\n",
            " [9.05355871e-01]\n",
            " [9.28748373e-01]\n",
            " [9.52376396e-01]\n",
            " [9.76125331e-01]\n",
            " [1.00000000e+00]]\n"
          ],
          "name": "stdout"
        }
      ]
    },
    {
      "cell_type": "code",
      "metadata": {
        "id": "jG6Frxvpw_YL",
        "colab_type": "code",
        "colab": {
          "base_uri": "https://localhost:8080/",
          "height": 384
        },
        "outputId": "4af04163-7b8c-4e16-d141-e032e5b48e8e"
      },
      "source": [
        "# Inspect the data\n",
        "# Look at join distributions of afew pairs of collumns from the training set\n",
        "# Need to revise what this graph does\n",
        "import matplotlib.pyplot as plt\n",
        "plt.title('Time Series of Total Deaths of US & USD/GBP')\n",
        "plt.plot(normalisation_us_deaths,label=\"us_covid_death_rates\")\n",
        "plt.plot(normalisation_price, label=\"USD/GBP price\")\n",
        "plt.ylabel('Normalisation between 0 and 1')\n",
        "plt.xlabel('Date')\n",
        "plt.legend() \n",
        "plt.show()"
      ],
      "execution_count": 613,
      "outputs": [
        {
          "output_type": "display_data",
          "data": {
            "image/png": "[encoded data removed]",
            "text/plain": [
              "<Figure size 1080x432 with 1 Axes>"
            ]
          },
          "metadata": {
            "tags": []
          }
        }
      ]
    },
    {
      "cell_type": "code",
      "metadata": {
        "id": "Sx35yrWb1MIz",
        "colab_type": "code",
        "colab": {
          "base_uri": "https://localhost:8080/",
          "height": 1000
        },
        "outputId": "14353775-a6db-4bf6-a6a7-d3c5747a4493"
      },
      "source": [
        "# Test & Train split => Preprocessing the data \n",
        "# Splitting dataset into train and test split\n",
        "# 65% of the total length of my datadrame\n",
        "# 35% test size\n",
        "training_size = int(len(normalisation_us_deaths)*0.65)\n",
        "test_size = len(normalisation_us_deaths)-training_size\n",
        "train_data, test_data = normalisation_us_deaths[0:training_size,:], normalisation_us_deaths[training_size:len(normalisation_us_deaths),:1]\n",
        "print(normalisation_us_deaths)\n"
      ],
      "execution_count": 614,
      "outputs": [
        {
          "output_type": "stream",
          "text": [
            "[[0.00000000e+00]\n",
            " [0.00000000e+00]\n",
            " [0.00000000e+00]\n",
            " [0.00000000e+00]\n",
            " [0.00000000e+00]\n",
            " [0.00000000e+00]\n",
            " [0.00000000e+00]\n",
            " [0.00000000e+00]\n",
            " [0.00000000e+00]\n",
            " [0.00000000e+00]\n",
            " [0.00000000e+00]\n",
            " [0.00000000e+00]\n",
            " [0.00000000e+00]\n",
            " [0.00000000e+00]\n",
            " [0.00000000e+00]\n",
            " [0.00000000e+00]\n",
            " [0.00000000e+00]\n",
            " [0.00000000e+00]\n",
            " [0.00000000e+00]\n",
            " [0.00000000e+00]\n",
            " [0.00000000e+00]\n",
            " [0.00000000e+00]\n",
            " [0.00000000e+00]\n",
            " [0.00000000e+00]\n",
            " [0.00000000e+00]\n",
            " [0.00000000e+00]\n",
            " [0.00000000e+00]\n",
            " [0.00000000e+00]\n",
            " [0.00000000e+00]\n",
            " [0.00000000e+00]\n",
            " [0.00000000e+00]\n",
            " [0.00000000e+00]\n",
            " [0.00000000e+00]\n",
            " [0.00000000e+00]\n",
            " [0.00000000e+00]\n",
            " [0.00000000e+00]\n",
            " [0.00000000e+00]\n",
            " [0.00000000e+00]\n",
            " [0.00000000e+00]\n",
            " [0.00000000e+00]\n",
            " [0.00000000e+00]\n",
            " [0.00000000e+00]\n",
            " [0.00000000e+00]\n",
            " [0.00000000e+00]\n",
            " [3.70897457e-07]\n",
            " [1.48358983e-06]\n",
            " [3.15262838e-06]\n",
            " [5.19256440e-06]\n",
            " [7.41794914e-06]\n",
            " [1.13123724e-05]\n",
            " [1.61340394e-05]\n",
            " [2.13266038e-05]\n",
            " [2.68900656e-05]\n",
            " [3.43080148e-05]\n",
            " [4.71039770e-05]\n",
            " [6.28671189e-05]\n",
            " [8.28955816e-05]\n",
            " [1.10712891e-04]\n",
            " [1.38530200e-04]\n",
            " [2.25876551e-04]\n",
            " [3.35291301e-04]\n",
            " [4.83835732e-04]\n",
            " [6.78556897e-04]\n",
            " [9.18898449e-04]\n",
            " [1.38418931e-03]\n",
            " [1.97206178e-03]\n",
            " [2.72850714e-03]\n",
            " [3.68134271e-03]\n",
            " [4.80386386e-03]\n",
            " [6.59288774e-03]\n",
            " [8.63078382e-03]\n",
            " [1.10221452e-02]\n",
            " [1.37699390e-02]\n",
            " [1.68650783e-02]\n",
            " [2.09649787e-02]\n",
            " [2.53506557e-02]\n",
            " [3.01828932e-02]\n",
            " [3.59290221e-02]\n",
            " [4.21014976e-02]\n",
            " [4.96459227e-02]\n",
            " [5.75347262e-02]\n",
            " [6.58916023e-02]\n",
            " [7.45676356e-02]\n",
            " [8.38332104e-02]\n",
            " [9.40098948e-02]\n",
            " [1.04440459e-01]\n",
            " [1.15262319e-01]\n",
            " [1.26568386e-01]\n",
            " [1.38252769e-01]\n",
            " [1.50804310e-01]\n",
            " [1.63588032e-01]\n",
            " [1.76769357e-01]\n",
            " [1.90387043e-01]\n",
            " [2.04419948e-01]\n",
            " [2.19168314e-01]\n",
            " [2.34131060e-01]\n",
            " [2.49409624e-01]\n",
            " [2.65011982e-01]\n",
            " [2.80943140e-01]\n",
            " [2.97552299e-01]\n",
            " [3.14308148e-01]\n",
            " [3.31354781e-01]\n",
            " [3.48682925e-01]\n",
            " [3.66245290e-01]\n",
            " [3.84367340e-01]\n",
            " [4.02582114e-01]\n",
            " [4.20925960e-01]\n",
            " [4.39552802e-01]\n",
            " [4.58397545e-01]\n",
            " [4.77755240e-01]\n",
            " [4.97254617e-01]\n",
            " [5.16945748e-01]\n",
            " [5.36821216e-01]\n",
            " [5.56888808e-01]\n",
            " [5.77383489e-01]\n",
            " [5.97969596e-01]\n",
            " [6.18740966e-01]\n",
            " [6.39682579e-01]\n",
            " [6.60790353e-01]\n",
            " [6.82252705e-01]\n",
            " [7.03788310e-01]\n",
            " [7.25478949e-01]\n",
            " [7.47309417e-01]\n",
            " [7.69272852e-01]\n",
            " [7.91522063e-01]\n",
            " [8.13850461e-01]\n",
            " [8.36332039e-01]\n",
            " [8.58952890e-01]\n",
            " [8.82025679e-01]\n",
            " [9.05355871e-01]\n",
            " [9.28748373e-01]\n",
            " [9.52376396e-01]\n",
            " [9.76125331e-01]\n",
            " [1.00000000e+00]]\n"
          ],
          "name": "stdout"
        }
      ]
    },
    {
      "cell_type": "code",
      "metadata": {
        "id": "ldKERrxeA1sD",
        "colab_type": "code",
        "colab": {
          "base_uri": "https://localhost:8080/",
          "height": 34
        },
        "outputId": "dc44a418-d142-4203-9d76-6915e1d7154e"
      },
      "source": [
        "training_size, test_size"
      ],
      "execution_count": 615,
      "outputs": [
        {
          "output_type": "execute_result",
          "data": {
            "text/plain": [
              "(87, 47)"
            ]
          },
          "metadata": {
            "tags": []
          },
          "execution_count": 615
        }
      ]
    },
    {
      "cell_type": "code",
      "metadata": {
        "id": "llongsG7BHW7",
        "colab_type": "code",
        "colab": {
          "base_uri": "https://localhost:8080/",
          "height": 34
        },
        "outputId": "205efcd3-fae2-4619-9d2a-4b1080ce81b7"
      },
      "source": [
        "len(train_data), len(test_data)"
      ],
      "execution_count": 616,
      "outputs": [
        {
          "output_type": "execute_result",
          "data": {
            "text/plain": [
              "(87, 47)"
            ]
          },
          "metadata": {
            "tags": []
          },
          "execution_count": 616
        }
      ]
    },
    {
      "cell_type": "code",
      "metadata": {
        "id": "nc0pElKOBO-4",
        "colab_type": "code",
        "colab": {
          "base_uri": "https://localhost:8080/",
          "height": 1000
        },
        "outputId": "63218e4c-9222-49b2-853f-a1ef96c8fe83"
      },
      "source": [
        "train_data"
      ],
      "execution_count": 617,
      "outputs": [
        {
          "output_type": "execute_result",
          "data": {
            "text/plain": [
              "array([[0.00000000e+00],\n",
              "       [0.00000000e+00],\n",
              "       [0.00000000e+00],\n",
              "       [0.00000000e+00],\n",
              "       [0.00000000e+00],\n",
              "       [0.00000000e+00],\n",
              "       [0.00000000e+00],\n",
              "       [0.00000000e+00],\n",
              "       [0.00000000e+00],\n",
              "       [0.00000000e+00],\n",
              "       [0.00000000e+00],\n",
              "       [0.00000000e+00],\n",
              "       [0.00000000e+00],\n",
              "       [0.00000000e+00],\n",
              "       [0.00000000e+00],\n",
              "       [0.00000000e+00],\n",
              "       [0.00000000e+00],\n",
              "       [0.00000000e+00],\n",
              "       [0.00000000e+00],\n",
              "       [0.00000000e+00],\n",
              "       [0.00000000e+00],\n",
              "       [0.00000000e+00],\n",
              "       [0.00000000e+00],\n",
              "       [0.00000000e+00],\n",
              "       [0.00000000e+00],\n",
              "       [0.00000000e+00],\n",
              "       [0.00000000e+00],\n",
              "       [0.00000000e+00],\n",
              "       [0.00000000e+00],\n",
              "       [0.00000000e+00],\n",
              "       [0.00000000e+00],\n",
              "       [0.00000000e+00],\n",
              "       [0.00000000e+00],\n",
              "       [0.00000000e+00],\n",
              "       [0.00000000e+00],\n",
              "       [0.00000000e+00],\n",
              "       [0.00000000e+00],\n",
              "       [0.00000000e+00],\n",
              "       [0.00000000e+00],\n",
              "       [0.00000000e+00],\n",
              "       [0.00000000e+00],\n",
              "       [0.00000000e+00],\n",
              "       [0.00000000e+00],\n",
              "       [0.00000000e+00],\n",
              "       [3.70897457e-07],\n",
              "       [1.48358983e-06],\n",
              "       [3.15262838e-06],\n",
              "       [5.19256440e-06],\n",
              "       [7.41794914e-06],\n",
              "       [1.13123724e-05],\n",
              "       [1.61340394e-05],\n",
              "       [2.13266038e-05],\n",
              "       [2.68900656e-05],\n",
              "       [3.43080148e-05],\n",
              "       [4.71039770e-05],\n",
              "       [6.28671189e-05],\n",
              "       [8.28955816e-05],\n",
              "       [1.10712891e-04],\n",
              "       [1.38530200e-04],\n",
              "       [2.25876551e-04],\n",
              "       [3.35291301e-04],\n",
              "       [4.83835732e-04],\n",
              "       [6.78556897e-04],\n",
              "       [9.18898449e-04],\n",
              "       [1.38418931e-03],\n",
              "       [1.97206178e-03],\n",
              "       [2.72850714e-03],\n",
              "       [3.68134271e-03],\n",
              "       [4.80386386e-03],\n",
              "       [6.59288774e-03],\n",
              "       [8.63078382e-03],\n",
              "       [1.10221452e-02],\n",
              "       [1.37699390e-02],\n",
              "       [1.68650783e-02],\n",
              "       [2.09649787e-02],\n",
              "       [2.53506557e-02],\n",
              "       [3.01828932e-02],\n",
              "       [3.59290221e-02],\n",
              "       [4.21014976e-02],\n",
              "       [4.96459227e-02],\n",
              "       [5.75347262e-02],\n",
              "       [6.58916023e-02],\n",
              "       [7.45676356e-02],\n",
              "       [8.38332104e-02],\n",
              "       [9.40098948e-02],\n",
              "       [1.04440459e-01],\n",
              "       [1.15262319e-01]])"
            ]
          },
          "metadata": {
            "tags": []
          },
          "execution_count": 617
        }
      ]
    },
    {
      "cell_type": "code",
      "metadata": {
        "id": "7lcOjmoBARZm",
        "colab_type": "code",
        "colab": {}
      },
      "source": [
        "# Convert an array of values into a dataset matrix\n",
        "# time_step = how many previous days you have to consider before making a prediction\n",
        "# all data, need to split: [120,130,125,140,134,150,160,190,154,160,170]\n",
        "# timesteps = 3\n",
        "# train data = [120,130,125,140,134,150]\n",
        "# test data = [160,190,154,160,170]\n",
        "# X_train = f1,f2,f3\n",
        "# Y_train = o/p\n",
        "# f1  f2  f3  o/p\n",
        "# 120 130 125 140\n",
        "# 130 125 140 134\n",
        "# X_test = f1,f2,f3\n",
        "# Y_test = o/p\n",
        "# f1  f2  f3  o/p\n",
        "# 160 190 154 160\n",
        "# 190 154 160 170\n",
        "def create_dataset(dataset, time_step=1):\n",
        "  dataX, dataY = [],[]\n",
        "  # then we subtract e.g. timestep=3 : lendataset -3-3 so you are shifting\n",
        "  for i in range(len(dataset)-time_step-1):\n",
        "    a = dataset[i:(i+time_step),0]  # i=0, 0,1,2,3\n",
        "    dataX.append(a)\n",
        "    dataY.append(dataset[i + time_step, 0])\n",
        "  return np.array(dataX), np.array(dataY)"
      ],
      "execution_count": 618,
      "outputs": []
    },
    {
      "cell_type": "code",
      "metadata": {
        "id": "Xjbnyit_VZur",
        "colab_type": "code",
        "colab": {}
      },
      "source": [
        "# time_step is the number of days at the end\n",
        "# features: it takes in both the train and test and the number of days from the end\n",
        "time_step = 7\n",
        "X_train, Y_train = create_dataset(train_data, time_step)\n",
        "X_test, Y_test = create_dataset(test_data, time_step)"
      ],
      "execution_count": 619,
      "outputs": []
    },
    {
      "cell_type": "code",
      "metadata": {
        "id": "8y2Wyy-fWB_T",
        "colab_type": "code",
        "colab": {}
      },
      "source": [
        "# print(X_train)"
      ],
      "execution_count": 620,
      "outputs": []
    },
    {
      "cell_type": "code",
      "metadata": {
        "id": "7j3HCEW8TdGG",
        "colab_type": "code",
        "colab": {
          "base_uri": "https://localhost:8080/",
          "height": 68
        },
        "outputId": "42e9f27c-6e84-4f11-80b3-4cc5269aa6a1"
      },
      "source": [
        "# This should be ordered in respect to date – not cross validation or random seed\n",
        "# We are going to divide our data based on date because the next data is always dependent on the previous data\n",
        "# 7 features at a time f1,f2,f3,f4,f5,f6,f7\n",
        "print(X_train.shape), print(Y_train.shape)\n"
      ],
      "execution_count": 621,
      "outputs": [
        {
          "output_type": "stream",
          "text": [
            "(79, 7)\n",
            "(79,)\n"
          ],
          "name": "stdout"
        },
        {
          "output_type": "execute_result",
          "data": {
            "text/plain": [
              "(None, None)"
            ]
          },
          "metadata": {
            "tags": []
          },
          "execution_count": 621
        }
      ]
    },
    {
      "cell_type": "code",
      "metadata": {
        "id": "Bii3I74VfqRM",
        "colab_type": "code",
        "colab": {
          "base_uri": "https://localhost:8080/",
          "height": 68
        },
        "outputId": "250ef9db-8d36-44a0-c599-7e34da2b8883"
      },
      "source": [
        "print(X_test.shape), print(Y_test.shape)\n",
        "# Finished preprocessing the data"
      ],
      "execution_count": 622,
      "outputs": [
        {
          "output_type": "stream",
          "text": [
            "(39, 7)\n",
            "(39,)\n"
          ],
          "name": "stdout"
        },
        {
          "output_type": "execute_result",
          "data": {
            "text/plain": [
              "(None, None)"
            ]
          },
          "metadata": {
            "tags": []
          },
          "execution_count": 622
        }
      ]
    },
    {
      "cell_type": "code",
      "metadata": {
        "id": "TfKVJOPfCWw-",
        "colab_type": "code",
        "colab": {}
      },
      "source": [
        "# Need to convert this to a 3D \n",
        "# reshape input to be [samples, time_steps, features] which is required for lstm\n",
        "# therefore we add ,1 to convert to 3d\n",
        "# 7,1 will be the input to our LSTM\n",
        "# xtrain.shape = 79, 7, 1\n",
        "X_train = X_train.reshape(X_train.shape[0],X_train.shape[1], 1)\n",
        "X_test = X_test.reshape(X_test.shape[0], X_test.shape[1],1)"
      ],
      "execution_count": 623,
      "outputs": []
    },
    {
      "cell_type": "code",
      "metadata": {
        "id": "fuLjcvVwM7Sc",
        "colab_type": "code",
        "colab": {}
      },
      "source": [
        "# Create the stacked LSTM model\n",
        "# One LSTM after the other\n",
        "from tensorflow.keras.models import Sequential\n",
        "from tensorflow.keras.layers import Dense\n",
        "from tensorflow.keras.layers import LSTM\n",
        "\n",
        "model = Sequential()\n",
        "\n",
        "model.add(LSTM(3,return_sequences=True,input_shape=(7,1)))\n",
        "model.add(LSTM(3, return_sequences=True))\n",
        "model.add(LSTM(3))\n",
        "model.add(Dense(1))\n",
        "model.compile(loss = 'mean_squared_error', optimizer='adam')"
      ],
      "execution_count": 624,
      "outputs": []
    },
    {
      "cell_type": "code",
      "metadata": {
        "id": "L7MZYWw8NkzS",
        "colab_type": "code",
        "colab": {
          "base_uri": "https://localhost:8080/",
          "height": 289
        },
        "outputId": "2e3123f6-40b6-482b-d6e5-4c4e19222426"
      },
      "source": [
        "model.summary()"
      ],
      "execution_count": 625,
      "outputs": [
        {
          "output_type": "stream",
          "text": [
            "Model: \"sequential_13\"\n",
            "_________________________________________________________________\n",
            "Layer (type)                 Output Shape              Param #   \n",
            "=================================================================\n",
            "lstm_33 (LSTM)               (None, 7, 3)              60        \n",
            "_________________________________________________________________\n",
            "lstm_34 (LSTM)               (None, 7, 3)              84        \n",
            "_________________________________________________________________\n",
            "lstm_35 (LSTM)               (None, 3)                 84        \n",
            "_________________________________________________________________\n",
            "dense_17 (Dense)             (None, 1)                 4         \n",
            "=================================================================\n",
            "Total params: 232\n",
            "Trainable params: 232\n",
            "Non-trainable params: 0\n",
            "_________________________________________________________________\n"
          ],
          "name": "stdout"
        }
      ]
    },
    {
      "cell_type": "code",
      "metadata": {
        "id": "V-kYqq9ON2ij",
        "colab_type": "code",
        "colab": {
          "base_uri": "https://localhost:8080/",
          "height": 1000
        },
        "outputId": "008ce1f2-8202-4197-f5cd-c3bb131efe1a"
      },
      "source": [
        "# Main aim should be to minimise the loss\n",
        "model.fit(X_train, Y_train, validation_data=(X_test,Y_test), epochs=100,batch_size=64,verbose=1)"
      ],
      "execution_count": 626,
      "outputs": [
        {
          "output_type": "stream",
          "text": [
            "Epoch 1/100\n",
            "2/2 [==============================] - 1s 602ms/step - loss: 5.6657e-04 - val_loss: 0.3362\n",
            "Epoch 2/100\n",
            "2/2 [==============================] - 0s 26ms/step - loss: 5.0118e-04 - val_loss: 0.3299\n",
            "Epoch 3/100\n",
            "2/2 [==============================] - 0s 25ms/step - loss: 4.9056e-04 - val_loss: 0.3258\n",
            "Epoch 4/100\n",
            "2/2 [==============================] - 0s 26ms/step - loss: 5.0130e-04 - val_loss: 0.3241\n",
            "Epoch 5/100\n",
            "2/2 [==============================] - 0s 26ms/step - loss: 5.0596e-04 - val_loss: 0.3241\n",
            "Epoch 6/100\n",
            "2/2 [==============================] - 0s 25ms/step - loss: 4.9322e-04 - val_loss: 0.3259\n",
            "Epoch 7/100\n",
            "2/2 [==============================] - 0s 26ms/step - loss: 4.9084e-04 - val_loss: 0.3274\n",
            "Epoch 8/100\n",
            "2/2 [==============================] - 0s 27ms/step - loss: 4.8347e-04 - val_loss: 0.3273\n",
            "Epoch 9/100\n",
            "2/2 [==============================] - 0s 33ms/step - loss: 4.8351e-04 - val_loss: 0.3267\n",
            "Epoch 10/100\n",
            "2/2 [==============================] - 0s 26ms/step - loss: 4.8407e-04 - val_loss: 0.3259\n",
            "Epoch 11/100\n",
            "2/2 [==============================] - 0s 28ms/step - loss: 4.8393e-04 - val_loss: 0.3247\n",
            "Epoch 12/100\n",
            "2/2 [==============================] - 0s 25ms/step - loss: 4.8198e-04 - val_loss: 0.3232\n",
            "Epoch 13/100\n",
            "2/2 [==============================] - 0s 34ms/step - loss: 4.7953e-04 - val_loss: 0.3210\n",
            "Epoch 14/100\n",
            "2/2 [==============================] - 0s 31ms/step - loss: 4.7526e-04 - val_loss: 0.3189\n",
            "Epoch 15/100\n",
            "2/2 [==============================] - 0s 28ms/step - loss: 4.7461e-04 - val_loss: 0.3170\n",
            "Epoch 16/100\n",
            "2/2 [==============================] - 0s 25ms/step - loss: 4.7299e-04 - val_loss: 0.3155\n",
            "Epoch 17/100\n",
            "2/2 [==============================] - 0s 27ms/step - loss: 4.7189e-04 - val_loss: 0.3138\n",
            "Epoch 18/100\n",
            "2/2 [==============================] - 0s 25ms/step - loss: 4.7199e-04 - val_loss: 0.3124\n",
            "Epoch 19/100\n",
            "2/2 [==============================] - 0s 31ms/step - loss: 4.6951e-04 - val_loss: 0.3117\n",
            "Epoch 20/100\n",
            "2/2 [==============================] - 0s 26ms/step - loss: 4.6786e-04 - val_loss: 0.3104\n",
            "Epoch 21/100\n",
            "2/2 [==============================] - 0s 26ms/step - loss: 4.6419e-04 - val_loss: 0.3082\n",
            "Epoch 22/100\n",
            "2/2 [==============================] - 0s 25ms/step - loss: 4.6400e-04 - val_loss: 0.3060\n",
            "Epoch 23/100\n",
            "2/2 [==============================] - 0s 26ms/step - loss: 4.6231e-04 - val_loss: 0.3043\n",
            "Epoch 24/100\n",
            "2/2 [==============================] - 0s 30ms/step - loss: 4.5995e-04 - val_loss: 0.3021\n",
            "Epoch 25/100\n",
            "2/2 [==============================] - 0s 25ms/step - loss: 4.5889e-04 - val_loss: 0.2996\n",
            "Epoch 26/100\n",
            "2/2 [==============================] - 0s 26ms/step - loss: 4.5888e-04 - val_loss: 0.2969\n",
            "Epoch 27/100\n",
            "2/2 [==============================] - 0s 30ms/step - loss: 4.5985e-04 - val_loss: 0.2953\n",
            "Epoch 28/100\n",
            "2/2 [==============================] - 0s 30ms/step - loss: 4.5344e-04 - val_loss: 0.2949\n",
            "Epoch 29/100\n",
            "2/2 [==============================] - 0s 25ms/step - loss: 4.4668e-04 - val_loss: 0.2949\n",
            "Epoch 30/100\n",
            "2/2 [==============================] - 0s 25ms/step - loss: 4.4579e-04 - val_loss: 0.2945\n",
            "Epoch 31/100\n",
            "2/2 [==============================] - 0s 24ms/step - loss: 4.4861e-04 - val_loss: 0.2934\n",
            "Epoch 32/100\n",
            "2/2 [==============================] - 0s 25ms/step - loss: 4.5296e-04 - val_loss: 0.2916\n",
            "Epoch 33/100\n",
            "2/2 [==============================] - 0s 29ms/step - loss: 4.5102e-04 - val_loss: 0.2887\n",
            "Epoch 34/100\n",
            "2/2 [==============================] - 0s 30ms/step - loss: 4.4271e-04 - val_loss: 0.2852\n",
            "Epoch 35/100\n",
            "2/2 [==============================] - 0s 25ms/step - loss: 4.3407e-04 - val_loss: 0.2815\n",
            "Epoch 36/100\n",
            "2/2 [==============================] - 0s 28ms/step - loss: 4.2916e-04 - val_loss: 0.2776\n",
            "Epoch 37/100\n",
            "2/2 [==============================] - 0s 25ms/step - loss: 4.2885e-04 - val_loss: 0.2742\n",
            "Epoch 38/100\n",
            "2/2 [==============================] - 0s 31ms/step - loss: 4.2824e-04 - val_loss: 0.2714\n",
            "Epoch 39/100\n",
            "2/2 [==============================] - 0s 25ms/step - loss: 4.2474e-04 - val_loss: 0.2692\n",
            "Epoch 40/100\n",
            "2/2 [==============================] - 0s 25ms/step - loss: 4.1743e-04 - val_loss: 0.2676\n",
            "Epoch 41/100\n",
            "2/2 [==============================] - 0s 27ms/step - loss: 4.1727e-04 - val_loss: 0.2652\n",
            "Epoch 42/100\n",
            "2/2 [==============================] - 0s 29ms/step - loss: 4.1054e-04 - val_loss: 0.2614\n",
            "Epoch 43/100\n",
            "2/2 [==============================] - 0s 27ms/step - loss: 4.0522e-04 - val_loss: 0.2583\n",
            "Epoch 44/100\n",
            "2/2 [==============================] - 0s 26ms/step - loss: 4.0134e-04 - val_loss: 0.2554\n",
            "Epoch 45/100\n",
            "2/2 [==============================] - 0s 27ms/step - loss: 3.9810e-04 - val_loss: 0.2519\n",
            "Epoch 46/100\n",
            "2/2 [==============================] - 0s 27ms/step - loss: 3.9346e-04 - val_loss: 0.2480\n",
            "Epoch 47/100\n",
            "2/2 [==============================] - 0s 29ms/step - loss: 3.8789e-04 - val_loss: 0.2436\n",
            "Epoch 48/100\n",
            "2/2 [==============================] - 0s 29ms/step - loss: 3.8308e-04 - val_loss: 0.2394\n",
            "Epoch 49/100\n",
            "2/2 [==============================] - 0s 28ms/step - loss: 3.7736e-04 - val_loss: 0.2350\n",
            "Epoch 50/100\n",
            "2/2 [==============================] - 0s 25ms/step - loss: 3.7345e-04 - val_loss: 0.2300\n",
            "Epoch 51/100\n",
            "2/2 [==============================] - 0s 26ms/step - loss: 3.6943e-04 - val_loss: 0.2248\n",
            "Epoch 52/100\n",
            "2/2 [==============================] - 0s 25ms/step - loss: 3.6282e-04 - val_loss: 0.2185\n",
            "Epoch 53/100\n",
            "2/2 [==============================] - 0s 33ms/step - loss: 3.6457e-04 - val_loss: 0.2133\n",
            "Epoch 54/100\n",
            "2/2 [==============================] - 0s 26ms/step - loss: 3.5829e-04 - val_loss: 0.2090\n",
            "Epoch 55/100\n",
            "2/2 [==============================] - 0s 26ms/step - loss: 3.4400e-04 - val_loss: 0.2049\n",
            "Epoch 56/100\n",
            "2/2 [==============================] - 0s 29ms/step - loss: 3.3311e-04 - val_loss: 0.2008\n",
            "Epoch 57/100\n",
            "2/2 [==============================] - 0s 29ms/step - loss: 3.2684e-04 - val_loss: 0.1956\n",
            "Epoch 58/100\n",
            "2/2 [==============================] - 0s 27ms/step - loss: 3.2128e-04 - val_loss: 0.1889\n",
            "Epoch 59/100\n",
            "2/2 [==============================] - 0s 26ms/step - loss: 3.1025e-04 - val_loss: 0.1813\n",
            "Epoch 60/100\n",
            "2/2 [==============================] - 0s 27ms/step - loss: 2.9626e-04 - val_loss: 0.1729\n",
            "Epoch 61/100\n",
            "2/2 [==============================] - 0s 26ms/step - loss: 2.9677e-04 - val_loss: 0.1640\n",
            "Epoch 62/100\n",
            "2/2 [==============================] - 0s 26ms/step - loss: 3.0831e-04 - val_loss: 0.1574\n",
            "Epoch 63/100\n",
            "2/2 [==============================] - 0s 28ms/step - loss: 2.8715e-04 - val_loss: 0.1532\n",
            "Epoch 64/100\n",
            "2/2 [==============================] - 0s 26ms/step - loss: 2.6244e-04 - val_loss: 0.1496\n",
            "Epoch 65/100\n",
            "2/2 [==============================] - 0s 28ms/step - loss: 2.6890e-04 - val_loss: 0.1442\n",
            "Epoch 66/100\n",
            "2/2 [==============================] - 0s 25ms/step - loss: 2.7404e-04 - val_loss: 0.1373\n",
            "Epoch 67/100\n",
            "2/2 [==============================] - 0s 29ms/step - loss: 2.4765e-04 - val_loss: 0.1294\n",
            "Epoch 68/100\n",
            "2/2 [==============================] - 0s 32ms/step - loss: 2.2425e-04 - val_loss: 0.1210\n",
            "Epoch 69/100\n",
            "2/2 [==============================] - 0s 25ms/step - loss: 2.2713e-04 - val_loss: 0.1139\n",
            "Epoch 70/100\n",
            "2/2 [==============================] - 0s 24ms/step - loss: 2.2330e-04 - val_loss: 0.1086\n",
            "Epoch 71/100\n",
            "2/2 [==============================] - 0s 29ms/step - loss: 1.9818e-04 - val_loss: 0.1040\n",
            "Epoch 72/100\n",
            "2/2 [==============================] - 0s 24ms/step - loss: 1.8747e-04 - val_loss: 0.0989\n",
            "Epoch 73/100\n",
            "2/2 [==============================] - 0s 27ms/step - loss: 1.9390e-04 - val_loss: 0.0920\n",
            "Epoch 74/100\n",
            "2/2 [==============================] - 0s 24ms/step - loss: 1.6996e-04 - val_loss: 0.0834\n",
            "Epoch 75/100\n",
            "2/2 [==============================] - 0s 25ms/step - loss: 1.5278e-04 - val_loss: 0.0746\n",
            "Epoch 76/100\n",
            "2/2 [==============================] - 0s 28ms/step - loss: 1.7650e-04 - val_loss: 0.0680\n",
            "Epoch 77/100\n",
            "2/2 [==============================] - 0s 29ms/step - loss: 1.5309e-04 - val_loss: 0.0633\n",
            "Epoch 78/100\n",
            "2/2 [==============================] - 0s 27ms/step - loss: 1.1789e-04 - val_loss: 0.0588\n",
            "Epoch 79/100\n",
            "2/2 [==============================] - 0s 24ms/step - loss: 1.3847e-04 - val_loss: 0.0533\n",
            "Epoch 80/100\n",
            "2/2 [==============================] - 0s 24ms/step - loss: 1.2693e-04 - val_loss: 0.0467\n",
            "Epoch 81/100\n",
            "2/2 [==============================] - 0s 24ms/step - loss: 8.8829e-05 - val_loss: 0.0400\n",
            "Epoch 82/100\n",
            "2/2 [==============================] - 0s 27ms/step - loss: 1.0447e-04 - val_loss: 0.0350\n",
            "Epoch 83/100\n",
            "2/2 [==============================] - 0s 29ms/step - loss: 9.6115e-05 - val_loss: 0.0314\n",
            "Epoch 84/100\n",
            "2/2 [==============================] - 0s 25ms/step - loss: 6.1775e-05 - val_loss: 0.0278\n",
            "Epoch 85/100\n",
            "2/2 [==============================] - 0s 24ms/step - loss: 6.2808e-05 - val_loss: 0.0242\n",
            "Epoch 86/100\n",
            "2/2 [==============================] - 0s 32ms/step - loss: 5.3175e-05 - val_loss: 0.0207\n",
            "Epoch 87/100\n",
            "2/2 [==============================] - 0s 26ms/step - loss: 3.7453e-05 - val_loss: 0.0179\n",
            "Epoch 88/100\n",
            "2/2 [==============================] - 0s 24ms/step - loss: 4.5195e-05 - val_loss: 0.0160\n",
            "Epoch 89/100\n",
            "2/2 [==============================] - 0s 27ms/step - loss: 3.0533e-05 - val_loss: 0.0146\n",
            "Epoch 90/100\n",
            "2/2 [==============================] - 0s 23ms/step - loss: 2.3679e-05 - val_loss: 0.0134\n",
            "Epoch 91/100\n",
            "2/2 [==============================] - 0s 23ms/step - loss: 2.4705e-05 - val_loss: 0.0127\n",
            "Epoch 92/100\n",
            "2/2 [==============================] - 0s 23ms/step - loss: 1.4654e-05 - val_loss: 0.0124\n",
            "Epoch 93/100\n",
            "2/2 [==============================] - 0s 24ms/step - loss: 2.1835e-05 - val_loss: 0.0122\n",
            "Epoch 94/100\n",
            "2/2 [==============================] - 0s 28ms/step - loss: 1.4814e-05 - val_loss: 0.0121\n",
            "Epoch 95/100\n",
            "2/2 [==============================] - 0s 26ms/step - loss: 1.2599e-05 - val_loss: 0.0122\n",
            "Epoch 96/100\n",
            "2/2 [==============================] - 0s 33ms/step - loss: 1.4423e-05 - val_loss: 0.0126\n",
            "Epoch 97/100\n",
            "2/2 [==============================] - 0s 27ms/step - loss: 1.0523e-05 - val_loss: 0.0129\n",
            "Epoch 98/100\n",
            "2/2 [==============================] - 0s 27ms/step - loss: 1.1258e-05 - val_loss: 0.0130\n",
            "Epoch 99/100\n",
            "2/2 [==============================] - 0s 27ms/step - loss: 1.0128e-05 - val_loss: 0.0130\n",
            "Epoch 100/100\n",
            "2/2 [==============================] - 0s 25ms/step - loss: 1.2060e-05 - val_loss: 0.0130\n"
          ],
          "name": "stdout"
        },
        {
          "output_type": "execute_result",
          "data": {
            "text/plain": [
              "<tensorflow.python.keras.callbacks.History at 0x7fdfa1d97080>"
            ]
          },
          "metadata": {
            "tags": []
          },
          "execution_count": 626
        }
      ]
    },
    {
      "cell_type": "code",
      "metadata": {
        "id": "aBny6cUkO4xC",
        "colab_type": "code",
        "colab": {}
      },
      "source": [
        "# Prediction and check performance metric\n",
        "train_predict = model.predict(X_train)\n",
        "test_predict = model.predict(X_test)\n"
      ],
      "execution_count": 627,
      "outputs": []
    },
    {
      "cell_type": "code",
      "metadata": {
        "id": "b7ocuWlpPIEA",
        "colab_type": "code",
        "colab": {}
      },
      "source": [
        "# Transform back to original form\n",
        "train_predict=scaler.inverse_transform(train_predict)\n",
        "test_predict=scaler.inverse_transform(test_predict)"
      ],
      "execution_count": 628,
      "outputs": []
    },
    {
      "cell_type": "code",
      "metadata": {
        "id": "DHXXILzqPUHQ",
        "colab_type": "code",
        "colab": {
          "base_uri": "https://localhost:8080/",
          "height": 34
        },
        "outputId": "ffbe8338-eb67-45ad-abc9-736f939908c8"
      },
      "source": [
        "# Calculate the RMSE performance metrics\n",
        "# Output for the train dataset\n",
        "import math\n",
        "from sklearn.metrics import mean_squared_error\n",
        "math.sqrt(mean_squared_error(Y_train, train_predict))"
      ],
      "execution_count": 629,
      "outputs": [
        {
          "output_type": "execute_result",
          "data": {
            "text/plain": [
              "1.1407341551423842"
            ]
          },
          "metadata": {
            "tags": []
          },
          "execution_count": 629
        }
      ]
    },
    {
      "cell_type": "code",
      "metadata": {
        "id": "fFNm7l86Pt_7",
        "colab_type": "code",
        "colab": {
          "base_uri": "https://localhost:8080/",
          "height": 34
        },
        "outputId": "7efa9f23-36be-44e8-c2cb-3364c5e0f642"
      },
      "source": [
        "# Similarly for the test Data RMSE\n",
        "math.sqrt(mean_squared_error(Y_test, test_predict))"
      ],
      "execution_count": 630,
      "outputs": [
        {
          "output_type": "execute_result",
          "data": {
            "text/plain": [
              "0.714486580303917"
            ]
          },
          "metadata": {
            "tags": []
          },
          "execution_count": 630
        }
      ]
    },
    {
      "cell_type": "code",
      "metadata": {
        "id": "mmd6wXSwP7cQ",
        "colab_type": "code",
        "colab": {
          "base_uri": "https://localhost:8080/",
          "height": 379
        },
        "outputId": "c10b99d7-8f3f-40da-fd8e-e14488f37b2c"
      },
      "source": [
        "# Plotting\n",
        "# Shift train predictions for plotting\n",
        "look_back = 7\n",
        "trainPredictPlot = np.empty_like(normalisation_us_deaths)\n",
        "trainPredictPlot[:,:]= np.nan\n",
        "trainPredictPlot[look_back:len(train_predict)+look_back, :] = train_predict\n",
        "# Shift test predictions for plotting\n",
        "testPredictPlot = np.empty_like(normalisation_us_deaths)\n",
        "testPredictPlot[:,:]= np.nan\n",
        "testPredictPlot[len(train_predict)+(look_back*2)+1: len(normalisation_us_deaths)-1, :] = test_predict\n",
        "# Plot baseline and predictions\n",
        "plt.title('Analysis of train, test and actual')\n",
        "plt.plot(scaler.inverse_transform(normalisation_us_deaths), label=\"actual dataset\")\n",
        "plt.plot(trainPredictPlot, label=\"train_predict\")\n",
        "# as you can see th test data and train is divided because we want to test after a specific day\n",
        "plt.plot(testPredictPlot, label=\"test_predict\")\n",
        "plt.ylabel('Forex price')\n",
        "plt.xlabel('Date')\n",
        "plt.legend()\n",
        "plt.show()\n",
        "# We have predicted the future output\n",
        "# green is test_predict data\n",
        "# red is train_predict data\n"
      ],
      "execution_count": 631,
      "outputs": [
        {
          "output_type": "display_data",
          "data": {
            "image/png": "[encoded data removed]",
            "text/plain": [
              "<Figure size 1080x432 with 1 Axes>"
            ]
          },
          "metadata": {
            "tags": []
          }
        }
      ]
    },
    {
      "cell_type": "code",
      "metadata": {
        "id": "AUz1G_cESn6S",
        "colab_type": "code",
        "colab": {
          "base_uri": "https://localhost:8080/",
          "height": 34
        },
        "outputId": "830fdf85-cd6c-45e2-f1ab-4a0be9f36d19"
      },
      "source": [
        "# Predict the future 30 days\n",
        "# imagine in test data the last output was 23/may and you want to predict the 24/may\n",
        "len(test_data) "
      ],
      "execution_count": 632,
      "outputs": [
        {
          "output_type": "execute_result",
          "data": {
            "text/plain": [
              "47"
            ]
          },
          "metadata": {
            "tags": []
          },
          "execution_count": 632
        }
      ]
    },
    {
      "cell_type": "code",
      "metadata": {
        "id": "yws-gX7RTB3Z",
        "colab_type": "code",
        "colab": {
          "base_uri": "https://localhost:8080/",
          "height": 34
        },
        "outputId": "6d143547-16f5-4dfe-8d21-0cca45ce4421"
      },
      "source": [
        "X_input=test_data[40:].reshape(1,-1)\n",
        "X_input.shape"
      ],
      "execution_count": 633,
      "outputs": [
        {
          "output_type": "execute_result",
          "data": {
            "text/plain": [
              "(1, 7)"
            ]
          },
          "metadata": {
            "tags": []
          },
          "execution_count": 633
        }
      ]
    },
    {
      "cell_type": "code",
      "metadata": {
        "id": "y6srH5ffTW0s",
        "colab_type": "code",
        "colab": {
          "base_uri": "https://localhost:8080/",
          "height": 34
        },
        "outputId": "1d982cb9-3feb-49bc-f8c6-3e7a23599651"
      },
      "source": [
        "# temp_input=list(X_input)\n",
        "# temp_input=temp_input[0].tolist()\n",
        "# print(temp_input)\n",
        "# print(X_input)\n",
        "# should be: \n",
        "# [0.85895289 0.88202568 0.90535587 0.92874837 0.9523764  0.97612533\n",
        "#  1.        ]\n",
        "# error: 'numpy.ndarray' object is not callable\n",
        "# for not:\n",
        "temp_input = [0.85895289,0.88202568,0.90535587,0.92874837,0.9523764,0.97612533,1.]\n",
        "print(temp_input)"
      ],
      "execution_count": 634,
      "outputs": [
        {
          "output_type": "stream",
          "text": [
            "[0.85895289, 0.88202568, 0.90535587, 0.92874837, 0.9523764, 0.97612533, 1.0]\n"
          ],
          "name": "stdout"
        }
      ]
    },
    {
      "cell_type": "code",
      "metadata": {
        "id": "91jlvlCAUAaH",
        "colab_type": "code",
        "colab": {
          "base_uri": "https://localhost:8080/",
          "height": 34
        },
        "outputId": "d9d9da93-8e52-4be8-aaa1-c4f2233e2cf0"
      },
      "source": [
        "temp_input"
      ],
      "execution_count": 635,
      "outputs": [
        {
          "output_type": "execute_result",
          "data": {
            "text/plain": [
              "[0.85895289, 0.88202568, 0.90535587, 0.92874837, 0.9523764, 0.97612533, 1.0]"
            ]
          },
          "metadata": {
            "tags": []
          },
          "execution_count": 635
        }
      ]
    },
    {
      "cell_type": "code",
      "metadata": {
        "id": "CHAxzKyuTp5-",
        "colab_type": "code",
        "colab": {
          "base_uri": "https://localhost:8080/",
          "height": 34
        },
        "outputId": "62dd16b3-2415-4833-d38f-78c2ad8cdd02"
      },
      "source": [
        "# Demonstrate prediction for the next 4 days\n",
        "from numpy import array\n",
        "lst_output=[]\n",
        "n_steps=7\n",
        "i=0\n",
        "while(i<4):\n",
        "  if(len(temp_input)>7):\n",
        "    #print(temp_input)\n",
        "    # if length is more than 7, 1: shifting one position\n",
        "    X_input=np.array(temp_input[1:])\n",
        "    # --> print(\"{} day input {}\".format(i,X_input))\n",
        "    X_input=X_input.reshape(1,-1)\n",
        "    X_input=X_input.reshape((1,n_steps,1))\n",
        "    # print(x_input)\n",
        "    Y_hat = model.predict(X_input, verbose=0)\n",
        "    # --> print(\"{} day input {}\".format(i,Y_hat))\n",
        "    temp_input.extend(Y_hat[0].tolist())\n",
        "    temp_input=temp_input[1:]\n",
        "    #print(temp_input)\n",
        "    lst_output.extend(Y_hat.tolist())\n",
        "    i=i+1\n",
        "  else:\n",
        "    X_input = X_input.reshape((1,n_steps,1))\n",
        "    Y_hat = model.predict(X_input, verbose=0)\n",
        "    # print(Y_hat[0])\n",
        "    temp_input.extend(Y_hat[0].tolist())\n",
        "    # print(len(temp_input))\n",
        "    lst_output.extend(Y_hat.tolist())\n",
        "    i=i+1\n",
        "# print the predicted next 4 days \n",
        "print(lst_output)"
      ],
      "execution_count": 636,
      "outputs": [
        {
          "output_type": "stream",
          "text": [
            "[[0.7642930150032043], [0.7668303847312927], [0.7691534161567688], [0.7708065509796143]]\n"
          ],
          "name": "stdout"
        }
      ]
    },
    {
      "cell_type": "code",
      "metadata": {
        "id": "lJZWlqYqVytl",
        "colab_type": "code",
        "colab": {}
      },
      "source": [
        "# 8 because we are moving one ahead of 7\n",
        "day_new=np.arange(1,8)\n",
        "# 12 because want to predict the next 4 days\n",
        "day_pred=np.arange(8,12)"
      ],
      "execution_count": 637,
      "outputs": []
    },
    {
      "cell_type": "code",
      "metadata": {
        "id": "-pFZ-jy1V62-",
        "colab_type": "code",
        "colab": {
          "base_uri": "https://localhost:8080/",
          "height": 34
        },
        "outputId": "b7aefdf5-07f8-4cbe-a3d0-f6ea66c6a34e"
      },
      "source": [
        "len(normalisation_us_deaths)"
      ],
      "execution_count": 638,
      "outputs": [
        {
          "output_type": "execute_result",
          "data": {
            "text/plain": [
              "134"
            ]
          },
          "metadata": {
            "tags": []
          },
          "execution_count": 638
        }
      ]
    },
    {
      "cell_type": "code",
      "metadata": {
        "id": "IeOGd1UPV8jG",
        "colab_type": "code",
        "colab": {}
      },
      "source": [
        "df3=normalisation_us_deaths.tolist()\n",
        "df3.extend(lst_output)"
      ],
      "execution_count": 639,
      "outputs": []
    },
    {
      "cell_type": "code",
      "metadata": {
        "id": "9X1xZG9bWNx_",
        "colab_type": "code",
        "colab": {
          "base_uri": "https://localhost:8080/",
          "height": 376
        },
        "outputId": "1361cf88-3cbf-4a44-c8e9-f5e0ebcfc42f"
      },
      "source": [
        "# the reason or 127 is that you are taking 134-7\n",
        "plt.plot(day_new, scaler.inverse_transform(normalisation_us_deaths[127:]))\n",
        "# print the predicted next 4 days \n",
        "plt.plot(day_pred, scaler.inverse_transform(lst_output))"
      ],
      "execution_count": 640,
      "outputs": [
        {
          "output_type": "execute_result",
          "data": {
            "text/plain": [
              "[<matplotlib.lines.Line2D at 0x7fdf9e6bd828>]"
            ]
          },
          "metadata": {
            "tags": []
          },
          "execution_count": 640
        },
        {
          "output_type": "display_data",
          "data": {
            "image/png": "[encoded data removed]",
            "text/plain": [
              "<Figure size 1080x432 with 1 Axes>"
            ]
          },
          "metadata": {
            "tags": []
          }
        }
      ]
    },
    {
      "cell_type": "code",
      "metadata": {
        "id": "EnYiEAX6WwPd",
        "colab_type": "code",
        "colab": {
          "base_uri": "https://localhost:8080/",
          "height": 376
        },
        "outputId": "af6bd7d8-1dfe-4447-a330-2af31508b5d1"
      },
      "source": [
        "# Combine actual and prediction\n",
        "df3=normalisation_us_deaths.tolist()\n",
        "df3.extend(lst_output)\n",
        "plt.plot(df3[127:])"
      ],
      "execution_count": 644,
      "outputs": [
        {
          "output_type": "execute_result",
          "data": {
            "text/plain": [
              "[<matplotlib.lines.Line2D at 0x7fdf9f5d1c50>]"
            ]
          },
          "metadata": {
            "tags": []
          },
          "execution_count": 644
        },
        {
          "output_type": "display_data",
          "data": {
            "image/png": "[encoded data removed]",
            "text/plain": [
              "<Figure size 1080x432 with 1 Axes>"
            ]
          },
          "metadata": {
            "tags": []
          }
        }
      ]
    }
  ]
}