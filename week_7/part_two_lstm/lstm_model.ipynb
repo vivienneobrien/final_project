{
  "nbformat": 4,
  "nbformat_minor": 0,
  "metadata": {
    "colab": {
      "name": "lstm_model.ipynb",
      "provenance": [],
      "collapsed_sections": []
    },
    "kernelspec": {
      "name": "python3",
      "display_name": "Python 3"
    },
    "accelerator": "GPU"
  },
  "cells": [
    {
      "cell_type": "code",
      "metadata": {
        "id": "0hR-zTSzJREn",
        "colab_type": "code",
        "colab": {
          "base_uri": "https://localhost:8080/",
          "height": 292
        },
        "outputId": "c29d8743-f389-465b-97dc-6cfd55cd8f09"
      },
      "source": [
        "# Notes for user:\n",
        "# This notebook will use the dataset COVID-19 and forex to predict the forex spot price of a currency pair.\n",
        "# What to ask user before using this application:\n",
        "# What currency pair are you interested in? USD/GBP (This layout means that the base currency is USD)\n",
        "# The currency the user wants to look at is how much the USD is worth to the GBP.\n",
        "# Therefore, we look at the death rates in the US and the UK.\n",
        "\n",
        "# Before this commit, I was able to predict the covid-death rates now I am tryng to zip the forex and covid into one dataset\n",
        "# being a 2D [[death_rates [0], prices[0]], [deathrates[1], prices[1]]] so that i can have a 2D shape and input 2 features \n",
        "# into my model - unsure why this is not working. Look at: Preprocessing the Data - Train & Test for more details.\n",
        "\n",
        "\n",
        "# Use some functions from tensorflow_docs\n",
        "!pip install git+https://github.com/tensorflow/docs"
      ],
      "execution_count": 176,
      "outputs": [
        {
          "output_type": "stream",
          "text": [
            "Collecting git+https://github.com/tensorflow/docs\n",
            "  Cloning https://github.com/tensorflow/docs to /tmp/pip-req-build-s97t6a83\n",
            "  Running command git clone -q https://github.com/tensorflow/docs /tmp/pip-req-build-s97t6a83\n",
            "Requirement already satisfied (use --upgrade to upgrade): tensorflow-docs===0.0.028e526366a3d3620adc3c375287ab71cf412bac8- from git+https://github.com/tensorflow/docs in /usr/local/lib/python3.6/dist-packages\n",
            "Requirement already satisfied: astor in /usr/local/lib/python3.6/dist-packages (from tensorflow-docs===0.0.028e526366a3d3620adc3c375287ab71cf412bac8-) (0.8.1)\n",
            "Requirement already satisfied: absl-py in /usr/local/lib/python3.6/dist-packages (from tensorflow-docs===0.0.028e526366a3d3620adc3c375287ab71cf412bac8-) (0.9.0)\n",
            "Requirement already satisfied: protobuf in /usr/local/lib/python3.6/dist-packages (from tensorflow-docs===0.0.028e526366a3d3620adc3c375287ab71cf412bac8-) (3.12.2)\n",
            "Requirement already satisfied: pyyaml in /usr/local/lib/python3.6/dist-packages (from tensorflow-docs===0.0.028e526366a3d3620adc3c375287ab71cf412bac8-) (3.13)\n",
            "Requirement already satisfied: six in /usr/local/lib/python3.6/dist-packages (from absl-py->tensorflow-docs===0.0.028e526366a3d3620adc3c375287ab71cf412bac8-) (1.15.0)\n",
            "Requirement already satisfied: setuptools in /usr/local/lib/python3.6/dist-packages (from protobuf->tensorflow-docs===0.0.028e526366a3d3620adc3c375287ab71cf412bac8-) (49.1.0)\n",
            "Building wheels for collected packages: tensorflow-docs\n",
            "  Building wheel for tensorflow-docs (setup.py) ... \u001b[?25l\u001b[?25hdone\n",
            "  Created wheel for tensorflow-docs: filename=tensorflow_docs-0.0.028e526366a3d3620adc3c375287ab71cf412bac8_-cp36-none-any.whl size=124955 sha256=4ca7adb97df38e7383b06e866aa45ea5eebc69f90204aa0d5952faafc5a1175d\n",
            "  Stored in directory: /tmp/pip-ephem-wheel-cache-xu7wo32s/wheels/eb/1b/35/fce87697be00d2fc63e0b4b395b0d9c7e391a10e98d9a0d97f\n",
            "Successfully built tensorflow-docs\n"
          ],
          "name": "stdout"
        }
      ]
    },
    {
      "cell_type": "code",
      "metadata": {
        "id": "iJ6D0PrOJYeg",
        "colab_type": "code",
        "colab": {}
      },
      "source": [
        "import pathlib\n",
        "import matplotlib.pyplot as plt\n",
        "import numpy as np\n",
        "import pandas as pd"
      ],
      "execution_count": 177,
      "outputs": []
    },
    {
      "cell_type": "code",
      "metadata": {
        "id": "AgIgQg1XJcP2",
        "colab_type": "code",
        "colab": {
          "base_uri": "https://localhost:8080/",
          "height": 34
        },
        "outputId": "3cfb5392-f45d-4390-9134-8bf87c78f47f"
      },
      "source": [
        "import tensorflow as tf\n",
        "from tensorflow import keras\n",
        "from tensorflow.keras import layers\n",
        "print(tf.__version__)"
      ],
      "execution_count": 178,
      "outputs": [
        {
          "output_type": "stream",
          "text": [
            "2.2.0\n"
          ],
          "name": "stdout"
        }
      ]
    },
    {
      "cell_type": "code",
      "metadata": {
        "id": "m_F-7tgZJe2m",
        "colab_type": "code",
        "colab": {}
      },
      "source": [
        "import tensorflow_docs as tfdocs\n",
        "import tensorflow_docs.plots\n",
        "import tensorflow_docs.modeling"
      ],
      "execution_count": 179,
      "outputs": []
    },
    {
      "cell_type": "markdown",
      "metadata": {
        "id": "QzadtzC3Hniw",
        "colab_type": "text"
      },
      "source": [
        "# Data Collection\n"
      ]
    },
    {
      "cell_type": "code",
      "metadata": {
        "id": "7GjIgZ7kJhjo",
        "colab_type": "code",
        "colab": {
          "base_uri": "https://localhost:8080/",
          "height": 309
        },
        "outputId": "6ca2c744-5f01-415a-9f82-86247b6acf37"
      },
      "source": [
        "# Importing covid_dataset using pandas. Droping null values.\n",
        "covid_dataset_data= pd.read_csv('covid.csv', na_values = \"?\", comment='\\t', skipinitialspace=True)\n",
        "covid_dataset = covid_dataset_data.copy()\n",
        "# covid_dataset = covid_dataset.dropna()\n",
        "covid_dataset.head()"
      ],
      "execution_count": 180,
      "outputs": [
        {
          "output_type": "execute_result",
          "data": {
            "text/html": [
              "<div>\n",
              "<style scoped>\n",
              "    .dataframe tbody tr th:only-of-type {\n",
              "        vertical-align: middle;\n",
              "    }\n",
              "\n",
              "    .dataframe tbody tr th {\n",
              "        vertical-align: top;\n",
              "    }\n",
              "\n",
              "    .dataframe thead th {\n",
              "        text-align: right;\n",
              "    }\n",
              "</style>\n",
              "<table border=\"1\" class=\"dataframe\">\n",
              "  <thead>\n",
              "    <tr style=\"text-align: right;\">\n",
              "      <th></th>\n",
              "      <th>iso_code</th>\n",
              "      <th>continent</th>\n",
              "      <th>location</th>\n",
              "      <th>date</th>\n",
              "      <th>total_cases</th>\n",
              "      <th>new_cases</th>\n",
              "      <th>total_deaths</th>\n",
              "      <th>new_deaths</th>\n",
              "      <th>total_cases_per_million</th>\n",
              "      <th>new_cases_per_million</th>\n",
              "      <th>total_deaths_per_million</th>\n",
              "      <th>new_deaths_per_million</th>\n",
              "      <th>total_tests</th>\n",
              "      <th>new_tests</th>\n",
              "      <th>total_tests_per_thousand</th>\n",
              "      <th>new_tests_per_thousand</th>\n",
              "      <th>new_tests_smoothed</th>\n",
              "      <th>new_tests_smoothed_per_thousand</th>\n",
              "      <th>tests_units</th>\n",
              "      <th>stringency_index</th>\n",
              "      <th>population</th>\n",
              "      <th>population_density</th>\n",
              "      <th>median_age</th>\n",
              "      <th>aged_65_older</th>\n",
              "      <th>aged_70_older</th>\n",
              "      <th>gdp_per_capita</th>\n",
              "      <th>extreme_poverty</th>\n",
              "      <th>cvd_death_rate</th>\n",
              "      <th>diabetes_prevalence</th>\n",
              "      <th>female_smokers</th>\n",
              "      <th>male_smokers</th>\n",
              "      <th>handwashing_facilities</th>\n",
              "      <th>hospital_beds_per_thousand</th>\n",
              "      <th>life_expectancy</th>\n",
              "    </tr>\n",
              "  </thead>\n",
              "  <tbody>\n",
              "    <tr>\n",
              "      <th>0</th>\n",
              "      <td>AFG</td>\n",
              "      <td>Asia</td>\n",
              "      <td>Afghanistan</td>\n",
              "      <td>2019-12-31</td>\n",
              "      <td>0.0</td>\n",
              "      <td>0.0</td>\n",
              "      <td>0.0</td>\n",
              "      <td>0.0</td>\n",
              "      <td>0.0</td>\n",
              "      <td>0.0</td>\n",
              "      <td>0.0</td>\n",
              "      <td>0.0</td>\n",
              "      <td>NaN</td>\n",
              "      <td>NaN</td>\n",
              "      <td>NaN</td>\n",
              "      <td>NaN</td>\n",
              "      <td>NaN</td>\n",
              "      <td>NaN</td>\n",
              "      <td>NaN</td>\n",
              "      <td>NaN</td>\n",
              "      <td>38928341.0</td>\n",
              "      <td>54.422</td>\n",
              "      <td>18.6</td>\n",
              "      <td>2.581</td>\n",
              "      <td>1.337</td>\n",
              "      <td>1803.987</td>\n",
              "      <td>NaN</td>\n",
              "      <td>597.029</td>\n",
              "      <td>9.59</td>\n",
              "      <td>NaN</td>\n",
              "      <td>NaN</td>\n",
              "      <td>37.746</td>\n",
              "      <td>0.5</td>\n",
              "      <td>64.83</td>\n",
              "    </tr>\n",
              "    <tr>\n",
              "      <th>1</th>\n",
              "      <td>AFG</td>\n",
              "      <td>Asia</td>\n",
              "      <td>Afghanistan</td>\n",
              "      <td>2020-01-01</td>\n",
              "      <td>0.0</td>\n",
              "      <td>0.0</td>\n",
              "      <td>0.0</td>\n",
              "      <td>0.0</td>\n",
              "      <td>0.0</td>\n",
              "      <td>0.0</td>\n",
              "      <td>0.0</td>\n",
              "      <td>0.0</td>\n",
              "      <td>NaN</td>\n",
              "      <td>NaN</td>\n",
              "      <td>NaN</td>\n",
              "      <td>NaN</td>\n",
              "      <td>NaN</td>\n",
              "      <td>NaN</td>\n",
              "      <td>NaN</td>\n",
              "      <td>0.0</td>\n",
              "      <td>38928341.0</td>\n",
              "      <td>54.422</td>\n",
              "      <td>18.6</td>\n",
              "      <td>2.581</td>\n",
              "      <td>1.337</td>\n",
              "      <td>1803.987</td>\n",
              "      <td>NaN</td>\n",
              "      <td>597.029</td>\n",
              "      <td>9.59</td>\n",
              "      <td>NaN</td>\n",
              "      <td>NaN</td>\n",
              "      <td>37.746</td>\n",
              "      <td>0.5</td>\n",
              "      <td>64.83</td>\n",
              "    </tr>\n",
              "    <tr>\n",
              "      <th>2</th>\n",
              "      <td>AFG</td>\n",
              "      <td>Asia</td>\n",
              "      <td>Afghanistan</td>\n",
              "      <td>2020-01-02</td>\n",
              "      <td>0.0</td>\n",
              "      <td>0.0</td>\n",
              "      <td>0.0</td>\n",
              "      <td>0.0</td>\n",
              "      <td>0.0</td>\n",
              "      <td>0.0</td>\n",
              "      <td>0.0</td>\n",
              "      <td>0.0</td>\n",
              "      <td>NaN</td>\n",
              "      <td>NaN</td>\n",
              "      <td>NaN</td>\n",
              "      <td>NaN</td>\n",
              "      <td>NaN</td>\n",
              "      <td>NaN</td>\n",
              "      <td>NaN</td>\n",
              "      <td>0.0</td>\n",
              "      <td>38928341.0</td>\n",
              "      <td>54.422</td>\n",
              "      <td>18.6</td>\n",
              "      <td>2.581</td>\n",
              "      <td>1.337</td>\n",
              "      <td>1803.987</td>\n",
              "      <td>NaN</td>\n",
              "      <td>597.029</td>\n",
              "      <td>9.59</td>\n",
              "      <td>NaN</td>\n",
              "      <td>NaN</td>\n",
              "      <td>37.746</td>\n",
              "      <td>0.5</td>\n",
              "      <td>64.83</td>\n",
              "    </tr>\n",
              "    <tr>\n",
              "      <th>3</th>\n",
              "      <td>AFG</td>\n",
              "      <td>Asia</td>\n",
              "      <td>Afghanistan</td>\n",
              "      <td>2020-01-03</td>\n",
              "      <td>0.0</td>\n",
              "      <td>0.0</td>\n",
              "      <td>0.0</td>\n",
              "      <td>0.0</td>\n",
              "      <td>0.0</td>\n",
              "      <td>0.0</td>\n",
              "      <td>0.0</td>\n",
              "      <td>0.0</td>\n",
              "      <td>NaN</td>\n",
              "      <td>NaN</td>\n",
              "      <td>NaN</td>\n",
              "      <td>NaN</td>\n",
              "      <td>NaN</td>\n",
              "      <td>NaN</td>\n",
              "      <td>NaN</td>\n",
              "      <td>0.0</td>\n",
              "      <td>38928341.0</td>\n",
              "      <td>54.422</td>\n",
              "      <td>18.6</td>\n",
              "      <td>2.581</td>\n",
              "      <td>1.337</td>\n",
              "      <td>1803.987</td>\n",
              "      <td>NaN</td>\n",
              "      <td>597.029</td>\n",
              "      <td>9.59</td>\n",
              "      <td>NaN</td>\n",
              "      <td>NaN</td>\n",
              "      <td>37.746</td>\n",
              "      <td>0.5</td>\n",
              "      <td>64.83</td>\n",
              "    </tr>\n",
              "    <tr>\n",
              "      <th>4</th>\n",
              "      <td>AFG</td>\n",
              "      <td>Asia</td>\n",
              "      <td>Afghanistan</td>\n",
              "      <td>2020-01-04</td>\n",
              "      <td>0.0</td>\n",
              "      <td>0.0</td>\n",
              "      <td>0.0</td>\n",
              "      <td>0.0</td>\n",
              "      <td>0.0</td>\n",
              "      <td>0.0</td>\n",
              "      <td>0.0</td>\n",
              "      <td>0.0</td>\n",
              "      <td>NaN</td>\n",
              "      <td>NaN</td>\n",
              "      <td>NaN</td>\n",
              "      <td>NaN</td>\n",
              "      <td>NaN</td>\n",
              "      <td>NaN</td>\n",
              "      <td>NaN</td>\n",
              "      <td>0.0</td>\n",
              "      <td>38928341.0</td>\n",
              "      <td>54.422</td>\n",
              "      <td>18.6</td>\n",
              "      <td>2.581</td>\n",
              "      <td>1.337</td>\n",
              "      <td>1803.987</td>\n",
              "      <td>NaN</td>\n",
              "      <td>597.029</td>\n",
              "      <td>9.59</td>\n",
              "      <td>NaN</td>\n",
              "      <td>NaN</td>\n",
              "      <td>37.746</td>\n",
              "      <td>0.5</td>\n",
              "      <td>64.83</td>\n",
              "    </tr>\n",
              "  </tbody>\n",
              "</table>\n",
              "</div>"
            ],
            "text/plain": [
              "  iso_code continent  ... hospital_beds_per_thousand life_expectancy\n",
              "0      AFG      Asia  ...                        0.5           64.83\n",
              "1      AFG      Asia  ...                        0.5           64.83\n",
              "2      AFG      Asia  ...                        0.5           64.83\n",
              "3      AFG      Asia  ...                        0.5           64.83\n",
              "4      AFG      Asia  ...                        0.5           64.83\n",
              "\n",
              "[5 rows x 34 columns]"
            ]
          },
          "metadata": {
            "tags": []
          },
          "execution_count": 180
        }
      ]
    },
    {
      "cell_type": "code",
      "metadata": {
        "id": "aYBFYnKtiIkQ",
        "colab_type": "code",
        "colab": {
          "base_uri": "https://localhost:8080/",
          "height": 204
        },
        "outputId": "999e197f-f69d-4c18-c964-afdd82c1595d"
      },
      "source": [
        "# Trying to isolate location/country based on currency in question\n",
        "# We are looking at pound and sterling therefore need to isolate 'United Kingdom' & 'United States' in location column\n",
        "# Problem: Informaiton prints up until 'Trinidad and Tobago' for some reason – can print 'Togo'. Therefore cannot print United Kingdom or United States\n",
        "us_death_rates = covid_dataset.loc[covid_dataset.location=='United States', ['location', 'date', 'total_deaths', 'total_cases', 'cvd_death_rate']]\n",
        "us_death_rates.head()"
      ],
      "execution_count": 181,
      "outputs": [
        {
          "output_type": "execute_result",
          "data": {
            "text/html": [
              "<div>\n",
              "<style scoped>\n",
              "    .dataframe tbody tr th:only-of-type {\n",
              "        vertical-align: middle;\n",
              "    }\n",
              "\n",
              "    .dataframe tbody tr th {\n",
              "        vertical-align: top;\n",
              "    }\n",
              "\n",
              "    .dataframe thead th {\n",
              "        text-align: right;\n",
              "    }\n",
              "</style>\n",
              "<table border=\"1\" class=\"dataframe\">\n",
              "  <thead>\n",
              "    <tr style=\"text-align: right;\">\n",
              "      <th></th>\n",
              "      <th>location</th>\n",
              "      <th>date</th>\n",
              "      <th>total_deaths</th>\n",
              "      <th>total_cases</th>\n",
              "      <th>cvd_death_rate</th>\n",
              "    </tr>\n",
              "  </thead>\n",
              "  <tbody>\n",
              "    <tr>\n",
              "      <th>26490</th>\n",
              "      <td>United States</td>\n",
              "      <td>2019-12-31</td>\n",
              "      <td>0.0</td>\n",
              "      <td>0.0</td>\n",
              "      <td>151.089</td>\n",
              "    </tr>\n",
              "    <tr>\n",
              "      <th>26491</th>\n",
              "      <td>United States</td>\n",
              "      <td>2020-01-01</td>\n",
              "      <td>0.0</td>\n",
              "      <td>0.0</td>\n",
              "      <td>151.089</td>\n",
              "    </tr>\n",
              "    <tr>\n",
              "      <th>26492</th>\n",
              "      <td>United States</td>\n",
              "      <td>2020-01-02</td>\n",
              "      <td>0.0</td>\n",
              "      <td>0.0</td>\n",
              "      <td>151.089</td>\n",
              "    </tr>\n",
              "    <tr>\n",
              "      <th>26493</th>\n",
              "      <td>United States</td>\n",
              "      <td>2020-01-03</td>\n",
              "      <td>0.0</td>\n",
              "      <td>0.0</td>\n",
              "      <td>151.089</td>\n",
              "    </tr>\n",
              "    <tr>\n",
              "      <th>26494</th>\n",
              "      <td>United States</td>\n",
              "      <td>2020-01-04</td>\n",
              "      <td>0.0</td>\n",
              "      <td>0.0</td>\n",
              "      <td>151.089</td>\n",
              "    </tr>\n",
              "  </tbody>\n",
              "</table>\n",
              "</div>"
            ],
            "text/plain": [
              "            location        date  total_deaths  total_cases  cvd_death_rate\n",
              "26490  United States  2019-12-31           0.0          0.0         151.089\n",
              "26491  United States  2020-01-01           0.0          0.0         151.089\n",
              "26492  United States  2020-01-02           0.0          0.0         151.089\n",
              "26493  United States  2020-01-03           0.0          0.0         151.089\n",
              "26494  United States  2020-01-04           0.0          0.0         151.089"
            ]
          },
          "metadata": {
            "tags": []
          },
          "execution_count": 181
        }
      ]
    },
    {
      "cell_type": "code",
      "metadata": {
        "id": "285DiboRj7MW",
        "colab_type": "code",
        "colab": {}
      },
      "source": [
        "# us_death_rates = covid_dataset.loc[covid_dataset.location=='Zimbabwe', ['location', 'date', 'total_deaths','total_cases','cvd_death_rate']]\n",
        "# us_death_rates.head()"
      ],
      "execution_count": 182,
      "outputs": []
    },
    {
      "cell_type": "code",
      "metadata": {
        "id": "F3wvK4d2kvti",
        "colab_type": "code",
        "colab": {
          "base_uri": "https://localhost:8080/",
          "height": 34
        },
        "outputId": "20ad66ad-21cd-4ae2-a104-48643a0e486a"
      },
      "source": [
        "us_death_rates.shape"
      ],
      "execution_count": 183,
      "outputs": [
        {
          "output_type": "execute_result",
          "data": {
            "text/plain": [
              "(187, 5)"
            ]
          },
          "metadata": {
            "tags": []
          },
          "execution_count": 183
        }
      ]
    },
    {
      "cell_type": "code",
      "metadata": {
        "id": "kIDXEXFDf4N5",
        "colab_type": "code",
        "colab": {}
      },
      "source": [
        "# Import forex\n",
        "forex_dataset_data= pd.read_csv('GBP_USD.csv', na_values = \"?\", comment='\\t', skipinitialspace=True)\n",
        "forex_dataset = forex_dataset_data.copy()\n",
        "# forex_dataset = forex_dataset_data.dropna()\n"
      ],
      "execution_count": 184,
      "outputs": []
    },
    {
      "cell_type": "markdown",
      "metadata": {
        "id": "C53hVpItH0az",
        "colab_type": "text"
      },
      "source": [
        "# # Data Preprocessing / Data Cleaning & Collating"
      ]
    },
    {
      "cell_type": "code",
      "metadata": {
        "id": "jIpYbWz2HxyG",
        "colab_type": "code",
        "colab": {
          "base_uri": "https://localhost:8080/",
          "height": 221
        },
        "outputId": "fccf5af7-f2ec-444b-b871-933f97418c8d"
      },
      "source": [
        "# Filter dataset\n",
        "forex_dataset.pop('Open')\n",
        "forex_dataset.pop('High')\n",
        "forex_dataset.pop('Low')\n",
        "forex_dataset.pop('Change %')"
      ],
      "execution_count": 185,
      "outputs": [
        {
          "output_type": "execute_result",
          "data": {
            "text/plain": [
              "0       0.12%\n",
              "1      -0.05%\n",
              "2       0.59%\n",
              "3       0.83%\n",
              "4      -0.30%\n",
              "        ...  \n",
              "150    -0.15%\n",
              "151     0.40%\n",
              "152     0.85%\n",
              "153     0.44%\n",
              "154     0.02%\n",
              "Name: Change %, Length: 155, dtype: object"
            ]
          },
          "metadata": {
            "tags": []
          },
          "execution_count": 185
        }
      ]
    },
    {
      "cell_type": "code",
      "metadata": {
        "id": "oSzzjHJxi5D4",
        "colab_type": "code",
        "colab": {
          "base_uri": "https://localhost:8080/",
          "height": 204
        },
        "outputId": "6e4083aa-eb4e-4793-a87d-f4da7aac76c9"
      },
      "source": [
        "forex_dataset.tail()"
      ],
      "execution_count": 186,
      "outputs": [
        {
          "output_type": "execute_result",
          "data": {
            "text/html": [
              "<div>\n",
              "<style scoped>\n",
              "    .dataframe tbody tr th:only-of-type {\n",
              "        vertical-align: middle;\n",
              "    }\n",
              "\n",
              "    .dataframe tbody tr th {\n",
              "        vertical-align: top;\n",
              "    }\n",
              "\n",
              "    .dataframe thead th {\n",
              "        text-align: right;\n",
              "    }\n",
              "</style>\n",
              "<table border=\"1\" class=\"dataframe\">\n",
              "  <thead>\n",
              "    <tr style=\"text-align: right;\">\n",
              "      <th></th>\n",
              "      <th>Date</th>\n",
              "      <th>Price</th>\n",
              "    </tr>\n",
              "  </thead>\n",
              "  <tbody>\n",
              "    <tr>\n",
              "      <th>150</th>\n",
              "      <td>Dec 06, 2019</td>\n",
              "      <td>1.3137</td>\n",
              "    </tr>\n",
              "    <tr>\n",
              "      <th>151</th>\n",
              "      <td>Dec 05, 2019</td>\n",
              "      <td>1.3157</td>\n",
              "    </tr>\n",
              "    <tr>\n",
              "      <th>152</th>\n",
              "      <td>Dec 04, 2019</td>\n",
              "      <td>1.3104</td>\n",
              "    </tr>\n",
              "    <tr>\n",
              "      <th>153</th>\n",
              "      <td>Dec 03, 2019</td>\n",
              "      <td>1.2994</td>\n",
              "    </tr>\n",
              "    <tr>\n",
              "      <th>154</th>\n",
              "      <td>Dec 02, 2019</td>\n",
              "      <td>1.2937</td>\n",
              "    </tr>\n",
              "  </tbody>\n",
              "</table>\n",
              "</div>"
            ],
            "text/plain": [
              "             Date   Price\n",
              "150  Dec 06, 2019  1.3137\n",
              "151  Dec 05, 2019  1.3157\n",
              "152  Dec 04, 2019  1.3104\n",
              "153  Dec 03, 2019  1.2994\n",
              "154  Dec 02, 2019  1.2937"
            ]
          },
          "metadata": {
            "tags": []
          },
          "execution_count": 186
        }
      ]
    },
    {
      "cell_type": "code",
      "metadata": {
        "id": "vrVetfeGgSm7",
        "colab_type": "code",
        "colab": {
          "base_uri": "https://localhost:8080/",
          "height": 204
        },
        "outputId": "98258bea-a288-4f15-b92c-778687fa2e3f"
      },
      "source": [
        "# Isolate covid_date\n",
        "import time \n",
        "us_date = us_death_rates['date']\n",
        "new_us_dates = [time.strptime(x.replace(\"-\",\" \"), '%Y %m %d')for x in us_date]\n",
        "us_death_rates['date'] = new_us_dates\n",
        "us_death_rates.head()\n"
      ],
      "execution_count": 187,
      "outputs": [
        {
          "output_type": "execute_result",
          "data": {
            "text/html": [
              "<div>\n",
              "<style scoped>\n",
              "    .dataframe tbody tr th:only-of-type {\n",
              "        vertical-align: middle;\n",
              "    }\n",
              "\n",
              "    .dataframe tbody tr th {\n",
              "        vertical-align: top;\n",
              "    }\n",
              "\n",
              "    .dataframe thead th {\n",
              "        text-align: right;\n",
              "    }\n",
              "</style>\n",
              "<table border=\"1\" class=\"dataframe\">\n",
              "  <thead>\n",
              "    <tr style=\"text-align: right;\">\n",
              "      <th></th>\n",
              "      <th>location</th>\n",
              "      <th>date</th>\n",
              "      <th>total_deaths</th>\n",
              "      <th>total_cases</th>\n",
              "      <th>cvd_death_rate</th>\n",
              "    </tr>\n",
              "  </thead>\n",
              "  <tbody>\n",
              "    <tr>\n",
              "      <th>26490</th>\n",
              "      <td>United States</td>\n",
              "      <td>(2019, 12, 31, 0, 0, 0, 1, 365, -1)</td>\n",
              "      <td>0.0</td>\n",
              "      <td>0.0</td>\n",
              "      <td>151.089</td>\n",
              "    </tr>\n",
              "    <tr>\n",
              "      <th>26491</th>\n",
              "      <td>United States</td>\n",
              "      <td>(2020, 1, 1, 0, 0, 0, 2, 1, -1)</td>\n",
              "      <td>0.0</td>\n",
              "      <td>0.0</td>\n",
              "      <td>151.089</td>\n",
              "    </tr>\n",
              "    <tr>\n",
              "      <th>26492</th>\n",
              "      <td>United States</td>\n",
              "      <td>(2020, 1, 2, 0, 0, 0, 3, 2, -1)</td>\n",
              "      <td>0.0</td>\n",
              "      <td>0.0</td>\n",
              "      <td>151.089</td>\n",
              "    </tr>\n",
              "    <tr>\n",
              "      <th>26493</th>\n",
              "      <td>United States</td>\n",
              "      <td>(2020, 1, 3, 0, 0, 0, 4, 3, -1)</td>\n",
              "      <td>0.0</td>\n",
              "      <td>0.0</td>\n",
              "      <td>151.089</td>\n",
              "    </tr>\n",
              "    <tr>\n",
              "      <th>26494</th>\n",
              "      <td>United States</td>\n",
              "      <td>(2020, 1, 4, 0, 0, 0, 5, 4, -1)</td>\n",
              "      <td>0.0</td>\n",
              "      <td>0.0</td>\n",
              "      <td>151.089</td>\n",
              "    </tr>\n",
              "  </tbody>\n",
              "</table>\n",
              "</div>"
            ],
            "text/plain": [
              "            location  ... cvd_death_rate\n",
              "26490  United States  ...        151.089\n",
              "26491  United States  ...        151.089\n",
              "26492  United States  ...        151.089\n",
              "26493  United States  ...        151.089\n",
              "26494  United States  ...        151.089\n",
              "\n",
              "[5 rows x 5 columns]"
            ]
          },
          "metadata": {
            "tags": []
          },
          "execution_count": 187
        }
      ]
    },
    {
      "cell_type": "code",
      "metadata": {
        "id": "IGR0p0YWh9jH",
        "colab_type": "code",
        "colab": {
          "base_uri": "https://localhost:8080/",
          "height": 204
        },
        "outputId": "b573c1bd-01f7-4982-b127-5cca6c3101d7"
      },
      "source": [
        "# Isolate forex_date\n",
        "import time \n",
        "forex_date = forex_dataset['Date']\n",
        "new_forex_dates = [time.strptime(x.replace(',', \"\"), '%b %d %Y')for x in forex_date]\n",
        "forex_dataset['Date'] = new_forex_dates\n",
        "forex_dataset.tail()\n"
      ],
      "execution_count": 188,
      "outputs": [
        {
          "output_type": "execute_result",
          "data": {
            "text/html": [
              "<div>\n",
              "<style scoped>\n",
              "    .dataframe tbody tr th:only-of-type {\n",
              "        vertical-align: middle;\n",
              "    }\n",
              "\n",
              "    .dataframe tbody tr th {\n",
              "        vertical-align: top;\n",
              "    }\n",
              "\n",
              "    .dataframe thead th {\n",
              "        text-align: right;\n",
              "    }\n",
              "</style>\n",
              "<table border=\"1\" class=\"dataframe\">\n",
              "  <thead>\n",
              "    <tr style=\"text-align: right;\">\n",
              "      <th></th>\n",
              "      <th>Date</th>\n",
              "      <th>Price</th>\n",
              "    </tr>\n",
              "  </thead>\n",
              "  <tbody>\n",
              "    <tr>\n",
              "      <th>150</th>\n",
              "      <td>(2019, 12, 6, 0, 0, 0, 4, 340, -1)</td>\n",
              "      <td>1.3137</td>\n",
              "    </tr>\n",
              "    <tr>\n",
              "      <th>151</th>\n",
              "      <td>(2019, 12, 5, 0, 0, 0, 3, 339, -1)</td>\n",
              "      <td>1.3157</td>\n",
              "    </tr>\n",
              "    <tr>\n",
              "      <th>152</th>\n",
              "      <td>(2019, 12, 4, 0, 0, 0, 2, 338, -1)</td>\n",
              "      <td>1.3104</td>\n",
              "    </tr>\n",
              "    <tr>\n",
              "      <th>153</th>\n",
              "      <td>(2019, 12, 3, 0, 0, 0, 1, 337, -1)</td>\n",
              "      <td>1.2994</td>\n",
              "    </tr>\n",
              "    <tr>\n",
              "      <th>154</th>\n",
              "      <td>(2019, 12, 2, 0, 0, 0, 0, 336, -1)</td>\n",
              "      <td>1.2937</td>\n",
              "    </tr>\n",
              "  </tbody>\n",
              "</table>\n",
              "</div>"
            ],
            "text/plain": [
              "                                   Date   Price\n",
              "150  (2019, 12, 6, 0, 0, 0, 4, 340, -1)  1.3137\n",
              "151  (2019, 12, 5, 0, 0, 0, 3, 339, -1)  1.3157\n",
              "152  (2019, 12, 4, 0, 0, 0, 2, 338, -1)  1.3104\n",
              "153  (2019, 12, 3, 0, 0, 0, 1, 337, -1)  1.2994\n",
              "154  (2019, 12, 2, 0, 0, 0, 0, 336, -1)  1.2937"
            ]
          },
          "metadata": {
            "tags": []
          },
          "execution_count": 188
        }
      ]
    },
    {
      "cell_type": "code",
      "metadata": {
        "id": "7b16glGjiCLz",
        "colab_type": "code",
        "colab": {
          "base_uri": "https://localhost:8080/",
          "height": 34
        },
        "outputId": "a80f6dd7-ab96-43db-f804-5e9843ca4b80"
      },
      "source": [
        "print(len(forex_dataset))"
      ],
      "execution_count": 189,
      "outputs": [
        {
          "output_type": "stream",
          "text": [
            "155\n"
          ],
          "name": "stdout"
        }
      ]
    },
    {
      "cell_type": "code",
      "metadata": {
        "id": "OiFVDAF0ngrx",
        "colab_type": "code",
        "colab": {
          "base_uri": "https://localhost:8080/",
          "height": 34
        },
        "outputId": "48d0aef4-be5a-4bb3-a922-87ff238c862c"
      },
      "source": [
        "# Merging dates from two tables\n",
        "dataset = pd.merge(left=forex_dataset, left_on='Date',\n",
        "         right=us_death_rates, right_on='date')\n",
        "dataset.tail()\n",
        "len(dataset)\n"
      ],
      "execution_count": 190,
      "outputs": [
        {
          "output_type": "execute_result",
          "data": {
            "text/plain": [
              "134"
            ]
          },
          "metadata": {
            "tags": []
          },
          "execution_count": 190
        }
      ]
    },
    {
      "cell_type": "code",
      "metadata": {
        "id": "a9A_G1s9ETvi",
        "colab_type": "code",
        "colab": {
          "base_uri": "https://localhost:8080/",
          "height": 221
        },
        "outputId": "b27db2ce-6782-42d8-b3b0-ae08a99cc948"
      },
      "source": [
        "# We pop the 'date' from the covid_dataset because this column starts later than the forex column\n",
        "# We want to see the forex price before covid happened\n",
        "dataset.pop('date')"
      ],
      "execution_count": 191,
      "outputs": [
        {
          "output_type": "execute_result",
          "data": {
            "text/plain": [
              "0        (2020, 7, 3, 0, 0, 0, 4, 185, -1)\n",
              "1        (2020, 7, 2, 0, 0, 0, 3, 184, -1)\n",
              "2        (2020, 7, 1, 0, 0, 0, 2, 183, -1)\n",
              "3       (2020, 6, 30, 0, 0, 0, 1, 182, -1)\n",
              "4       (2020, 6, 29, 0, 0, 0, 0, 181, -1)\n",
              "                      ...                 \n",
              "129        (2020, 1, 6, 0, 0, 0, 0, 6, -1)\n",
              "130        (2020, 1, 3, 0, 0, 0, 4, 3, -1)\n",
              "131        (2020, 1, 2, 0, 0, 0, 3, 2, -1)\n",
              "132        (2020, 1, 1, 0, 0, 0, 2, 1, -1)\n",
              "133    (2019, 12, 31, 0, 0, 0, 1, 365, -1)\n",
              "Name: date, Length: 134, dtype: object"
            ]
          },
          "metadata": {
            "tags": []
          },
          "execution_count": 191
        }
      ]
    },
    {
      "cell_type": "code",
      "metadata": {
        "id": "Rz0-4V24EY65",
        "colab_type": "code",
        "colab": {
          "base_uri": "https://localhost:8080/",
          "height": 204
        },
        "outputId": "73fed816-b0fd-440d-f5ce-c855899cbe94"
      },
      "source": [
        "# Problem: This still starts at 2019,12,13 when we want 2019,12,02\n",
        "# However this does not affect our data graph for some reason - scroll down\n",
        "dataset.tail()"
      ],
      "execution_count": 192,
      "outputs": [
        {
          "output_type": "execute_result",
          "data": {
            "text/html": [
              "<div>\n",
              "<style scoped>\n",
              "    .dataframe tbody tr th:only-of-type {\n",
              "        vertical-align: middle;\n",
              "    }\n",
              "\n",
              "    .dataframe tbody tr th {\n",
              "        vertical-align: top;\n",
              "    }\n",
              "\n",
              "    .dataframe thead th {\n",
              "        text-align: right;\n",
              "    }\n",
              "</style>\n",
              "<table border=\"1\" class=\"dataframe\">\n",
              "  <thead>\n",
              "    <tr style=\"text-align: right;\">\n",
              "      <th></th>\n",
              "      <th>Date</th>\n",
              "      <th>Price</th>\n",
              "      <th>location</th>\n",
              "      <th>total_deaths</th>\n",
              "      <th>total_cases</th>\n",
              "      <th>cvd_death_rate</th>\n",
              "    </tr>\n",
              "  </thead>\n",
              "  <tbody>\n",
              "    <tr>\n",
              "      <th>129</th>\n",
              "      <td>(2020, 1, 6, 0, 0, 0, 0, 6, -1)</td>\n",
              "      <td>1.3169</td>\n",
              "      <td>United States</td>\n",
              "      <td>0.0</td>\n",
              "      <td>0.0</td>\n",
              "      <td>151.089</td>\n",
              "    </tr>\n",
              "    <tr>\n",
              "      <th>130</th>\n",
              "      <td>(2020, 1, 3, 0, 0, 0, 4, 3, -1)</td>\n",
              "      <td>1.3088</td>\n",
              "      <td>United States</td>\n",
              "      <td>0.0</td>\n",
              "      <td>0.0</td>\n",
              "      <td>151.089</td>\n",
              "    </tr>\n",
              "    <tr>\n",
              "      <th>131</th>\n",
              "      <td>(2020, 1, 2, 0, 0, 0, 3, 2, -1)</td>\n",
              "      <td>1.3146</td>\n",
              "      <td>United States</td>\n",
              "      <td>0.0</td>\n",
              "      <td>0.0</td>\n",
              "      <td>151.089</td>\n",
              "    </tr>\n",
              "    <tr>\n",
              "      <th>132</th>\n",
              "      <td>(2020, 1, 1, 0, 0, 0, 2, 1, -1)</td>\n",
              "      <td>1.3255</td>\n",
              "      <td>United States</td>\n",
              "      <td>0.0</td>\n",
              "      <td>0.0</td>\n",
              "      <td>151.089</td>\n",
              "    </tr>\n",
              "    <tr>\n",
              "      <th>133</th>\n",
              "      <td>(2019, 12, 31, 0, 0, 0, 1, 365, -1)</td>\n",
              "      <td>1.3261</td>\n",
              "      <td>United States</td>\n",
              "      <td>0.0</td>\n",
              "      <td>0.0</td>\n",
              "      <td>151.089</td>\n",
              "    </tr>\n",
              "  </tbody>\n",
              "</table>\n",
              "</div>"
            ],
            "text/plain": [
              "                                    Date   Price  ... total_cases  cvd_death_rate\n",
              "129      (2020, 1, 6, 0, 0, 0, 0, 6, -1)  1.3169  ...         0.0         151.089\n",
              "130      (2020, 1, 3, 0, 0, 0, 4, 3, -1)  1.3088  ...         0.0         151.089\n",
              "131      (2020, 1, 2, 0, 0, 0, 3, 2, -1)  1.3146  ...         0.0         151.089\n",
              "132      (2020, 1, 1, 0, 0, 0, 2, 1, -1)  1.3255  ...         0.0         151.089\n",
              "133  (2019, 12, 31, 0, 0, 0, 1, 365, -1)  1.3261  ...         0.0         151.089\n",
              "\n",
              "[5 rows x 6 columns]"
            ]
          },
          "metadata": {
            "tags": []
          },
          "execution_count": 192
        }
      ]
    },
    {
      "cell_type": "code",
      "metadata": {
        "id": "AKPMw6jUypAN",
        "colab_type": "code",
        "colab": {
          "base_uri": "https://localhost:8080/",
          "height": 221
        },
        "outputId": "e6bc92ad-dc93-48c5-f6b2-fc4dc85b67a2"
      },
      "source": [
        "# Object means string\n",
        "dataset['total_deaths']"
      ],
      "execution_count": 193,
      "outputs": [
        {
          "output_type": "execute_result",
          "data": {
            "text/plain": [
              "0      128740.0\n",
              "1      128062.0\n",
              "2      127410.0\n",
              "3      126140.0\n",
              "4      125804.0\n",
              "         ...   \n",
              "129         0.0\n",
              "130         0.0\n",
              "131         0.0\n",
              "132         0.0\n",
              "133         0.0\n",
              "Name: total_deaths, Length: 134, dtype: float64"
            ]
          },
          "metadata": {
            "tags": []
          },
          "execution_count": 193
        }
      ]
    },
    {
      "cell_type": "code",
      "metadata": {
        "id": "I9kHcA_4tAqL",
        "colab_type": "code",
        "colab": {
          "base_uri": "https://localhost:8080/",
          "height": 34
        },
        "outputId": "8b5a7a8f-5e0b-4e52-d45d-1e565265cdc5"
      },
      "source": [
        "# View what date looks like\n",
        "date = dataset['Date']\n",
        "date.head()\n",
        "len(date)"
      ],
      "execution_count": 194,
      "outputs": [
        {
          "output_type": "execute_result",
          "data": {
            "text/plain": [
              "134"
            ]
          },
          "metadata": {
            "tags": []
          },
          "execution_count": 194
        }
      ]
    },
    {
      "cell_type": "code",
      "metadata": {
        "id": "0Nxcgc_K3ZDm",
        "colab_type": "code",
        "colab": {
          "base_uri": "https://localhost:8080/",
          "height": 255
        },
        "outputId": "b6357858-a8aa-489a-edd8-8178be5430dc"
      },
      "source": [
        "# Splitting timestamp and isolating the date\n",
        "dateFormatting = pd.DataFrame({'new_date': pd.date_range('2019-12-31', periods=len(date))})\n",
        "# dateFormatting['new_date'] = [d.date() for d in dateFormatting['my_timestamp']]\n",
        "# dateFormatting['new_time'] = [d.time() for d in dateFormatting['my_timestamp']]\n",
        "print(dateFormatting)\n"
      ],
      "execution_count": 195,
      "outputs": [
        {
          "output_type": "stream",
          "text": [
            "      new_date\n",
            "0   2019-12-31\n",
            "1   2020-01-01\n",
            "2   2020-01-02\n",
            "3   2020-01-03\n",
            "4   2020-01-04\n",
            "..         ...\n",
            "129 2020-05-08\n",
            "130 2020-05-09\n",
            "131 2020-05-10\n",
            "132 2020-05-11\n",
            "133 2020-05-12\n",
            "\n",
            "[134 rows x 1 columns]\n"
          ],
          "name": "stdout"
        }
      ]
    },
    {
      "cell_type": "code",
      "metadata": {
        "id": "Tav3LALn4KN2",
        "colab_type": "code",
        "colab": {
          "base_uri": "https://localhost:8080/",
          "height": 54
        },
        "outputId": "fc29d6cb-16a9-4930-b798-6fb56d97208b"
      },
      "source": [
        "# Convert date to list so that we can use the dates to plot on graph\n",
        "my_xticks = dateFormatting['new_date'].tolist()\n",
        "print(my_xticks)"
      ],
      "execution_count": 196,
      "outputs": [
        {
          "output_type": "stream",
          "text": [
            "[Timestamp('2019-12-31 00:00:00'), Timestamp('2020-01-01 00:00:00'), Timestamp('2020-01-02 00:00:00'), Timestamp('2020-01-03 00:00:00'), Timestamp('2020-01-04 00:00:00'), Timestamp('2020-01-05 00:00:00'), Timestamp('2020-01-06 00:00:00'), Timestamp('2020-01-07 00:00:00'), Timestamp('2020-01-08 00:00:00'), Timestamp('2020-01-09 00:00:00'), Timestamp('2020-01-10 00:00:00'), Timestamp('2020-01-11 00:00:00'), Timestamp('2020-01-12 00:00:00'), Timestamp('2020-01-13 00:00:00'), Timestamp('2020-01-14 00:00:00'), Timestamp('2020-01-15 00:00:00'), Timestamp('2020-01-16 00:00:00'), Timestamp('2020-01-17 00:00:00'), Timestamp('2020-01-18 00:00:00'), Timestamp('2020-01-19 00:00:00'), Timestamp('2020-01-20 00:00:00'), Timestamp('2020-01-21 00:00:00'), Timestamp('2020-01-22 00:00:00'), Timestamp('2020-01-23 00:00:00'), Timestamp('2020-01-24 00:00:00'), Timestamp('2020-01-25 00:00:00'), Timestamp('2020-01-26 00:00:00'), Timestamp('2020-01-27 00:00:00'), Timestamp('2020-01-28 00:00:00'), Timestamp('2020-01-29 00:00:00'), Timestamp('2020-01-30 00:00:00'), Timestamp('2020-01-31 00:00:00'), Timestamp('2020-02-01 00:00:00'), Timestamp('2020-02-02 00:00:00'), Timestamp('2020-02-03 00:00:00'), Timestamp('2020-02-04 00:00:00'), Timestamp('2020-02-05 00:00:00'), Timestamp('2020-02-06 00:00:00'), Timestamp('2020-02-07 00:00:00'), Timestamp('2020-02-08 00:00:00'), Timestamp('2020-02-09 00:00:00'), Timestamp('2020-02-10 00:00:00'), Timestamp('2020-02-11 00:00:00'), Timestamp('2020-02-12 00:00:00'), Timestamp('2020-02-13 00:00:00'), Timestamp('2020-02-14 00:00:00'), Timestamp('2020-02-15 00:00:00'), Timestamp('2020-02-16 00:00:00'), Timestamp('2020-02-17 00:00:00'), Timestamp('2020-02-18 00:00:00'), Timestamp('2020-02-19 00:00:00'), Timestamp('2020-02-20 00:00:00'), Timestamp('2020-02-21 00:00:00'), Timestamp('2020-02-22 00:00:00'), Timestamp('2020-02-23 00:00:00'), Timestamp('2020-02-24 00:00:00'), Timestamp('2020-02-25 00:00:00'), Timestamp('2020-02-26 00:00:00'), Timestamp('2020-02-27 00:00:00'), Timestamp('2020-02-28 00:00:00'), Timestamp('2020-02-29 00:00:00'), Timestamp('2020-03-01 00:00:00'), Timestamp('2020-03-02 00:00:00'), Timestamp('2020-03-03 00:00:00'), Timestamp('2020-03-04 00:00:00'), Timestamp('2020-03-05 00:00:00'), Timestamp('2020-03-06 00:00:00'), Timestamp('2020-03-07 00:00:00'), Timestamp('2020-03-08 00:00:00'), Timestamp('2020-03-09 00:00:00'), Timestamp('2020-03-10 00:00:00'), Timestamp('2020-03-11 00:00:00'), Timestamp('2020-03-12 00:00:00'), Timestamp('2020-03-13 00:00:00'), Timestamp('2020-03-14 00:00:00'), Timestamp('2020-03-15 00:00:00'), Timestamp('2020-03-16 00:00:00'), Timestamp('2020-03-17 00:00:00'), Timestamp('2020-03-18 00:00:00'), Timestamp('2020-03-19 00:00:00'), Timestamp('2020-03-20 00:00:00'), Timestamp('2020-03-21 00:00:00'), Timestamp('2020-03-22 00:00:00'), Timestamp('2020-03-23 00:00:00'), Timestamp('2020-03-24 00:00:00'), Timestamp('2020-03-25 00:00:00'), Timestamp('2020-03-26 00:00:00'), Timestamp('2020-03-27 00:00:00'), Timestamp('2020-03-28 00:00:00'), Timestamp('2020-03-29 00:00:00'), Timestamp('2020-03-30 00:00:00'), Timestamp('2020-03-31 00:00:00'), Timestamp('2020-04-01 00:00:00'), Timestamp('2020-04-02 00:00:00'), Timestamp('2020-04-03 00:00:00'), Timestamp('2020-04-04 00:00:00'), Timestamp('2020-04-05 00:00:00'), Timestamp('2020-04-06 00:00:00'), Timestamp('2020-04-07 00:00:00'), Timestamp('2020-04-08 00:00:00'), Timestamp('2020-04-09 00:00:00'), Timestamp('2020-04-10 00:00:00'), Timestamp('2020-04-11 00:00:00'), Timestamp('2020-04-12 00:00:00'), Timestamp('2020-04-13 00:00:00'), Timestamp('2020-04-14 00:00:00'), Timestamp('2020-04-15 00:00:00'), Timestamp('2020-04-16 00:00:00'), Timestamp('2020-04-17 00:00:00'), Timestamp('2020-04-18 00:00:00'), Timestamp('2020-04-19 00:00:00'), Timestamp('2020-04-20 00:00:00'), Timestamp('2020-04-21 00:00:00'), Timestamp('2020-04-22 00:00:00'), Timestamp('2020-04-23 00:00:00'), Timestamp('2020-04-24 00:00:00'), Timestamp('2020-04-25 00:00:00'), Timestamp('2020-04-26 00:00:00'), Timestamp('2020-04-27 00:00:00'), Timestamp('2020-04-28 00:00:00'), Timestamp('2020-04-29 00:00:00'), Timestamp('2020-04-30 00:00:00'), Timestamp('2020-05-01 00:00:00'), Timestamp('2020-05-02 00:00:00'), Timestamp('2020-05-03 00:00:00'), Timestamp('2020-05-04 00:00:00'), Timestamp('2020-05-05 00:00:00'), Timestamp('2020-05-06 00:00:00'), Timestamp('2020-05-07 00:00:00'), Timestamp('2020-05-08 00:00:00'), Timestamp('2020-05-09 00:00:00'), Timestamp('2020-05-10 00:00:00'), Timestamp('2020-05-11 00:00:00'), Timestamp('2020-05-12 00:00:00')]\n"
          ],
          "name": "stdout"
        }
      ]
    },
    {
      "cell_type": "code",
      "metadata": {
        "id": "DeyD3C8dm1DM",
        "colab_type": "code",
        "colab": {
          "base_uri": "https://localhost:8080/",
          "height": 221
        },
        "outputId": "efffdb9d-bb0f-4051-a96b-a412adc00848"
      },
      "source": [
        "dataset['Date']"
      ],
      "execution_count": 197,
      "outputs": [
        {
          "output_type": "execute_result",
          "data": {
            "text/plain": [
              "0        (2020, 7, 3, 0, 0, 0, 4, 185, -1)\n",
              "1        (2020, 7, 2, 0, 0, 0, 3, 184, -1)\n",
              "2        (2020, 7, 1, 0, 0, 0, 2, 183, -1)\n",
              "3       (2020, 6, 30, 0, 0, 0, 1, 182, -1)\n",
              "4       (2020, 6, 29, 0, 0, 0, 0, 181, -1)\n",
              "                      ...                 \n",
              "129        (2020, 1, 6, 0, 0, 0, 0, 6, -1)\n",
              "130        (2020, 1, 3, 0, 0, 0, 4, 3, -1)\n",
              "131        (2020, 1, 2, 0, 0, 0, 3, 2, -1)\n",
              "132        (2020, 1, 1, 0, 0, 0, 2, 1, -1)\n",
              "133    (2019, 12, 31, 0, 0, 0, 1, 365, -1)\n",
              "Name: Date, Length: 134, dtype: object"
            ]
          },
          "metadata": {
            "tags": []
          },
          "execution_count": 197
        }
      ]
    },
    {
      "cell_type": "markdown",
      "metadata": {
        "id": "wvb8c8CBIOqM",
        "colab_type": "text"
      },
      "source": [
        "# Plotting Features before Normalisation"
      ]
    },
    {
      "cell_type": "code",
      "metadata": {
        "id": "eDGMN3GG6wOL",
        "colab_type": "code",
        "colab": {
          "base_uri": "https://localhost:8080/",
          "height": 348
        },
        "outputId": "adc25c8b-afcf-4806-bcad-35903a3aa1ef"
      },
      "source": [
        "# Plotted prices and dates\n",
        "# Notice how the dates start and end\n",
        "\n",
        "from datetime import datetime, timedelta\n",
        "from matplotlib import pyplot as plt\n",
        "from matplotlib import dates as mpl_dates\n",
        "plt.style.use('seaborn')\n",
        "from matplotlib import rcParams\n",
        "rcParams['figure.figsize'] = 15,6\n",
        "\n",
        "dates = np.array(dateFormatting['new_date'])\n",
        "price = np.array(dataset['Price'])\n",
        "plt.plot_date(dates,price, linestyle ='solid')\n",
        "plt.gcf().autofmt_xdate()\n",
        "date_format = mpl_dates.DateFormatter('%b,%d,%Y')\n",
        "plt.title('Time Series Price of USD compare to GBP')\n",
        "plt.xlabel('Date')\n",
        "plt.ylabel('Price')\n",
        "plt.gca().xaxis.set_major_formatter(date_format)"
      ],
      "execution_count": 198,
      "outputs": [
        {
          "output_type": "display_data",
          "data": {
            "image/png": "[encoded data removed]",
            "text/plain": [
              "<Figure size 1080x432 with 1 Axes>"
            ]
          },
          "metadata": {
            "tags": []
          }
        }
      ]
    },
    {
      "cell_type": "code",
      "metadata": {
        "id": "Dqj88upVOPC9",
        "colab_type": "code",
        "colab": {
          "base_uri": "https://localhost:8080/",
          "height": 34
        },
        "outputId": "f1b08751-4995-4257-c9c5-b3ee309c060a"
      },
      "source": [
        "# print(price)\n",
        "test = np.array(dataset['total_deaths'])\n",
        "# print(test)\n",
        "price.shape\n",
        "# test.shape\n",
        "test = np.array(dataset['total_deaths'])\n",
        "list_arr = np.array(test)\n",
        "reversed_arr = list_arr[::-1]\n",
        "reversed_arr.shape\n",
        "price.shape"
      ],
      "execution_count": 199,
      "outputs": [
        {
          "output_type": "execute_result",
          "data": {
            "text/plain": [
              "(134,)"
            ]
          },
          "metadata": {
            "tags": []
          },
          "execution_count": 199
        }
      ]
    },
    {
      "cell_type": "code",
      "metadata": {
        "id": "T30FJ5ONMRsa",
        "colab_type": "code",
        "colab": {}
      },
      "source": [
        "# Adds the accumulative deaths every day of a country\n",
        "# Problem – This needs to be sorted from the end since the way out data is set up - can this be made more efficient?\n",
        "total_us_deaths = dataset['total_deaths']\n",
        "list_arr = np.array(total_us_deaths)\n",
        "reversed_arr = list_arr[::-1]\n",
        "newDay = 0\n",
        "day = []\n",
        "for currentday in reversed_arr:\n",
        "   newDay = currentday + newDay\n",
        "   day.append(newDay)\n"
      ],
      "execution_count": 200,
      "outputs": []
    },
    {
      "cell_type": "code",
      "metadata": {
        "id": "oivvoebSMpRV",
        "colab_type": "code",
        "colab": {
          "base_uri": "https://localhost:8080/",
          "height": 370
        },
        "outputId": "4718ceb4-b84a-4fc7-d5e3-f981433ac213"
      },
      "source": [
        "# Plots the accumulative daily death rates of a country\n",
        "dates = np.array(dateFormatting['new_date'])\n",
        "us_deaths = np.array(day)\n",
        "plt.plot_date(dates,us_deaths, linestyle ='solid')\n",
        "plt.gcf().autofmt_xdate()\n",
        "date_format = mpl_dates.DateFormatter('%b,%d,%Y')\n",
        "plt.title('Time Series of Total Deaths of US')\n",
        "plt.xlabel('Date')\n",
        "plt.ylabel('Total Deaths')\n"
      ],
      "execution_count": 201,
      "outputs": [
        {
          "output_type": "execute_result",
          "data": {
            "text/plain": [
              "Text(0, 0.5, 'Total Deaths')"
            ]
          },
          "metadata": {
            "tags": []
          },
          "execution_count": 201
        },
        {
          "output_type": "display_data",
          "data": {
            "image/png": "[encoded data removed]",
            "text/plain": [
              "<Figure size 1080x432 with 1 Axes>"
            ]
          },
          "metadata": {
            "tags": []
          }
        }
      ]
    },
    {
      "cell_type": "code",
      "metadata": {
        "id": "1dCKLM-XSXt_",
        "colab_type": "code",
        "colab": {
          "base_uri": "https://localhost:8080/",
          "height": 34
        },
        "outputId": "45a4b53a-f159-4bd6-b38f-87248de9e0a5"
      },
      "source": [
        "test.shape"
      ],
      "execution_count": 202,
      "outputs": [
        {
          "output_type": "execute_result",
          "data": {
            "text/plain": [
              "(134,)"
            ]
          },
          "metadata": {
            "tags": []
          },
          "execution_count": 202
        }
      ]
    },
    {
      "cell_type": "code",
      "metadata": {
        "id": "aLvrpnjESZmR",
        "colab_type": "code",
        "colab": {
          "base_uri": "https://localhost:8080/",
          "height": 34
        },
        "outputId": "9726eacf-ee0f-4fc1-9750-cc390bfab1c2"
      },
      "source": [
        "price.shape"
      ],
      "execution_count": 203,
      "outputs": [
        {
          "output_type": "execute_result",
          "data": {
            "text/plain": [
              "(134,)"
            ]
          },
          "metadata": {
            "tags": []
          },
          "execution_count": 203
        }
      ]
    },
    {
      "cell_type": "markdown",
      "metadata": {
        "id": "SWTJypnsv5R3",
        "colab_type": "text"
      },
      "source": [
        ""
      ]
    },
    {
      "cell_type": "code",
      "metadata": {
        "id": "v6NykB3TSJxe",
        "colab_type": "code",
        "colab": {
          "base_uri": "https://localhost:8080/",
          "height": 419
        },
        "outputId": "87cc5f6b-c0db-4cf4-967c-2237f942e70f"
      },
      "source": [
        "price_frame = pd.DataFrame(np.concatenate([price]), columns= [\"Price\"])\n",
        "death_frame = pd.DataFrame(np.concatenate([day]), columns= [\"Total_Deaths_US\"])\n",
        "# print(price_frame)\n",
        "# print(death_frame)\n",
        "# problem: not correct\n",
        "price_frame.append(death_frame)"
      ],
      "execution_count": 204,
      "outputs": [
        {
          "output_type": "execute_result",
          "data": {
            "text/html": [
              "<div>\n",
              "<style scoped>\n",
              "    .dataframe tbody tr th:only-of-type {\n",
              "        vertical-align: middle;\n",
              "    }\n",
              "\n",
              "    .dataframe tbody tr th {\n",
              "        vertical-align: top;\n",
              "    }\n",
              "\n",
              "    .dataframe thead th {\n",
              "        text-align: right;\n",
              "    }\n",
              "</style>\n",
              "<table border=\"1\" class=\"dataframe\">\n",
              "  <thead>\n",
              "    <tr style=\"text-align: right;\">\n",
              "      <th></th>\n",
              "      <th>Price</th>\n",
              "      <th>Total_Deaths_US</th>\n",
              "    </tr>\n",
              "  </thead>\n",
              "  <tbody>\n",
              "    <tr>\n",
              "      <th>0</th>\n",
              "      <td>1.2482</td>\n",
              "      <td>NaN</td>\n",
              "    </tr>\n",
              "    <tr>\n",
              "      <th>1</th>\n",
              "      <td>1.2467</td>\n",
              "      <td>NaN</td>\n",
              "    </tr>\n",
              "    <tr>\n",
              "      <th>2</th>\n",
              "      <td>1.2474</td>\n",
              "      <td>NaN</td>\n",
              "    </tr>\n",
              "    <tr>\n",
              "      <th>3</th>\n",
              "      <td>1.2401</td>\n",
              "      <td>NaN</td>\n",
              "    </tr>\n",
              "    <tr>\n",
              "      <th>4</th>\n",
              "      <td>1.2299</td>\n",
              "      <td>NaN</td>\n",
              "    </tr>\n",
              "    <tr>\n",
              "      <th>...</th>\n",
              "      <td>...</td>\n",
              "      <td>...</td>\n",
              "    </tr>\n",
              "    <tr>\n",
              "      <th>129</th>\n",
              "      <td>NaN</td>\n",
              "      <td>4881974.0</td>\n",
              "    </tr>\n",
              "    <tr>\n",
              "      <th>130</th>\n",
              "      <td>NaN</td>\n",
              "      <td>5008114.0</td>\n",
              "    </tr>\n",
              "    <tr>\n",
              "      <th>131</th>\n",
              "      <td>NaN</td>\n",
              "      <td>5135524.0</td>\n",
              "    </tr>\n",
              "    <tr>\n",
              "      <th>132</th>\n",
              "      <td>NaN</td>\n",
              "      <td>5263586.0</td>\n",
              "    </tr>\n",
              "    <tr>\n",
              "      <th>133</th>\n",
              "      <td>NaN</td>\n",
              "      <td>5392326.0</td>\n",
              "    </tr>\n",
              "  </tbody>\n",
              "</table>\n",
              "<p>268 rows × 2 columns</p>\n",
              "</div>"
            ],
            "text/plain": [
              "      Price  Total_Deaths_US\n",
              "0    1.2482              NaN\n",
              "1    1.2467              NaN\n",
              "2    1.2474              NaN\n",
              "3    1.2401              NaN\n",
              "4    1.2299              NaN\n",
              "..      ...              ...\n",
              "129     NaN        4881974.0\n",
              "130     NaN        5008114.0\n",
              "131     NaN        5135524.0\n",
              "132     NaN        5263586.0\n",
              "133     NaN        5392326.0\n",
              "\n",
              "[268 rows x 2 columns]"
            ]
          },
          "metadata": {
            "tags": []
          },
          "execution_count": 204
        }
      ]
    },
    {
      "cell_type": "markdown",
      "metadata": {
        "id": "kkWFQ8HeIerS",
        "colab_type": "text"
      },
      "source": [
        "# Normalisation of Features"
      ]
    },
    {
      "cell_type": "code",
      "metadata": {
        "id": "GUr5EmIHITzq",
        "colab_type": "code",
        "colab": {
          "base_uri": "https://localhost:8080/",
          "height": 1000
        },
        "outputId": "eb8d929e-2441-49a4-d53e-aa6eed42d353"
      },
      "source": [
        "# Working Normalised method!!\n",
        "from sklearn.preprocessing import MinMaxScaler\n",
        "scaler = MinMaxScaler(feature_range=(0,1))\n",
        "# they are so small that is why\n",
        "normalisation_us_deaths = scaler.fit_transform(death_frame).reshape(-1,1)\n",
        "# loosing precision by converting to decimal but makes more readable\n",
        "# but when plotting it use normalisation_us_deaths\n",
        "normalisation_price = scaler.fit_transform(price_frame).reshape(-1,1)\n",
        "# 8 decimal: readable formate\n",
        "# val = [print(\"{:.8f}\".format(float(x)))for x in normalisation_us_deaths]\n",
        "# print(normalisation_price)\n",
        "# print(val)\n",
        "print(normalisation_price)"
      ],
      "execution_count": 205,
      "outputs": [
        {
          "output_type": "stream",
          "text": [
            "[[0.56087937]\n",
            " [0.5524239 ]\n",
            " [0.55636979]\n",
            " [0.51521984]\n",
            " [0.45772266]\n",
            " [0.47801578]\n",
            " [0.52480271]\n",
            " [0.5259301 ]\n",
            " [0.58229989]\n",
            " [0.55016911]\n",
            " [0.49098083]\n",
            " [0.52931229]\n",
            " [0.60315671]\n",
            " [0.61443067]\n",
            " [0.62965051]\n",
            " [0.59470124]\n",
            " [0.62852311]\n",
            " [0.7102593 ]\n",
            " [0.70124014]\n",
            " [0.69673055]\n",
            " [0.66403608]\n",
            " [0.62457723]\n",
            " [0.61273957]\n",
            " [0.59921082]\n",
            " [0.56764374]\n",
            " [0.48421646]\n",
            " [0.46956032]\n",
            " [0.43122886]\n",
            " [0.47688839]\n",
            " [0.39627959]\n",
            " [0.38275085]\n",
            " [0.41544532]\n",
            " [0.42502818]\n",
            " [0.43179256]\n",
            " [0.39797069]\n",
            " [0.34892897]\n",
            " [0.41770011]\n",
            " [0.41882751]\n",
            " [0.43630214]\n",
            " [0.47857948]\n",
            " [0.51972943]\n",
            " [0.49379932]\n",
            " [0.48252537]\n",
            " [0.53494927]\n",
            " [0.53945885]\n",
            " [0.57328072]\n",
            " [0.62401353]\n",
            " [0.5529876 ]\n",
            " [0.52874859]\n",
            " [0.53100338]\n",
            " [0.49718151]\n",
            " [0.48308906]\n",
            " [0.47745209]\n",
            " [0.45490417]\n",
            " [0.53551297]\n",
            " [0.57158963]\n",
            " [0.54678692]\n",
            " [0.5800451 ]\n",
            " [0.64092446]\n",
            " [0.5777903 ]\n",
            " [0.54565953]\n",
            " [0.54678692]\n",
            " [0.50732807]\n",
            " [0.48027057]\n",
            " [0.41882751]\n",
            " [0.43686584]\n",
            " [0.51127396]\n",
            " [0.50225479]\n",
            " [0.5259301 ]\n",
            " [0.52480271]\n",
            " [0.54678692]\n",
            " [0.40360767]\n",
            " [0.22547914]\n",
            " [0.15332582]\n",
            " [0.03551297]\n",
            " [0.08793687]\n",
            " [0.        ]\n",
            " [0.06820744]\n",
            " [0.31848929]\n",
            " [0.44024803]\n",
            " [0.44532131]\n",
            " [0.61217587]\n",
            " [0.75253664]\n",
            " [0.80101466]\n",
            " [0.92784667]\n",
            " [0.88105975]\n",
            " [0.82750846]\n",
            " [0.78072153]\n",
            " [0.74689966]\n",
            " [0.71307779]\n",
            " [0.75197294]\n",
            " [0.7886133 ]\n",
            " [0.79932356]\n",
            " [0.85625705]\n",
            " [0.81285231]\n",
            " [0.83652762]\n",
            " [0.78579481]\n",
            " [0.80834273]\n",
            " [0.85231116]\n",
            " [0.85794814]\n",
            " [0.87936866]\n",
            " [0.87936866]\n",
            " [0.83089064]\n",
            " [0.82638106]\n",
            " [0.80496054]\n",
            " [0.79255919]\n",
            " [0.81341601]\n",
            " [0.85400225]\n",
            " [0.87034949]\n",
            " [0.85005637]\n",
            " [0.96617813]\n",
            " [0.90642616]\n",
            " [0.86471251]\n",
            " [0.8686584 ]\n",
            " [0.88387824]\n",
            " [0.89627959]\n",
            " [0.9222097 ]\n",
            " [0.93291995]\n",
            " [0.88162345]\n",
            " [0.85907554]\n",
            " [0.85851184]\n",
            " [0.89740699]\n",
            " [0.87429538]\n",
            " [0.86302142]\n",
            " [0.84723788]\n",
            " [0.88726043]\n",
            " [0.89064262]\n",
            " [0.90811725]\n",
            " [0.92333709]\n",
            " [0.9481398 ]\n",
            " [0.90248027]\n",
            " [0.93517475]\n",
            " [0.99661781]\n",
            " [1.        ]]\n"
          ],
          "name": "stdout"
        }
      ]
    },
    {
      "cell_type": "code",
      "metadata": {
        "id": "jG6Frxvpw_YL",
        "colab_type": "code",
        "colab": {
          "base_uri": "https://localhost:8080/",
          "height": 357
        },
        "outputId": "b3db760a-6cb2-4154-8f2b-69e2141f412f"
      },
      "source": [
        "# Inspect the data\n",
        "# Look at join distributions of afew pairs of collumns from the training set\n",
        "# Need to revise what this graph does\n",
        "import matplotlib.pyplot as plt\n",
        "plt.title('Time Series of Total Deaths of US & USD/GBP')\n",
        "plt.plot(normalisation_us_deaths,label=\"us_covid_death_rates\")\n",
        "plt.plot(normalisation_price, label=\"USD/GBP price\")\n",
        "plt.ylabel('Normalisation between 0 and 1')\n",
        "plt.xlabel('Date')\n",
        "plt.legend() \n",
        "plt.show()"
      ],
      "execution_count": 206,
      "outputs": [
        {
          "output_type": "display_data",
          "data": {
            "image/png": "[encoded data removed]",
            "text/plain": [
              "<Figure size 1080x432 with 1 Axes>"
            ]
          },
          "metadata": {
            "tags": []
          }
        }
      ]
    },
    {
      "cell_type": "markdown",
      "metadata": {
        "id": "FrNnj6gGIkmf",
        "colab_type": "text"
      },
      "source": [
        "# Preprocessing the Data - Train & Test\n"
      ]
    },
    {
      "cell_type": "code",
      "metadata": {
        "id": "yJTAF3KWyKwR",
        "colab_type": "code",
        "colab": {
          "base_uri": "https://localhost:8080/",
          "height": 1000
        },
        "outputId": "2c0c7276-4759-4566-f9f5-e47c398634b0"
      },
      "source": [
        "new_dataset = np.hstack((normalisation_us_deaths,normalisation_price))\n",
        "print(new_dataset)"
      ],
      "execution_count": 246,
      "outputs": [
        {
          "output_type": "stream",
          "text": [
            "[[0.00000000e+00 5.60879369e-01]\n",
            " [0.00000000e+00 5.52423901e-01]\n",
            " [0.00000000e+00 5.56369786e-01]\n",
            " [0.00000000e+00 5.15219842e-01]\n",
            " [0.00000000e+00 4.57722661e-01]\n",
            " [0.00000000e+00 4.78015784e-01]\n",
            " [0.00000000e+00 5.24802706e-01]\n",
            " [0.00000000e+00 5.25930101e-01]\n",
            " [0.00000000e+00 5.82299887e-01]\n",
            " [0.00000000e+00 5.50169109e-01]\n",
            " [0.00000000e+00 4.90980834e-01]\n",
            " [0.00000000e+00 5.29312289e-01]\n",
            " [0.00000000e+00 6.03156708e-01]\n",
            " [0.00000000e+00 6.14430665e-01]\n",
            " [0.00000000e+00 6.29650507e-01]\n",
            " [0.00000000e+00 5.94701240e-01]\n",
            " [0.00000000e+00 6.28523112e-01]\n",
            " [0.00000000e+00 7.10259301e-01]\n",
            " [0.00000000e+00 7.01240135e-01]\n",
            " [0.00000000e+00 6.96730552e-01]\n",
            " [0.00000000e+00 6.64036077e-01]\n",
            " [0.00000000e+00 6.24577227e-01]\n",
            " [0.00000000e+00 6.12739572e-01]\n",
            " [0.00000000e+00 5.99210823e-01]\n",
            " [0.00000000e+00 5.67643743e-01]\n",
            " [0.00000000e+00 4.84216460e-01]\n",
            " [0.00000000e+00 4.69560316e-01]\n",
            " [0.00000000e+00 4.31228861e-01]\n",
            " [0.00000000e+00 4.76888388e-01]\n",
            " [0.00000000e+00 3.96279594e-01]\n",
            " [0.00000000e+00 3.82750846e-01]\n",
            " [0.00000000e+00 4.15445321e-01]\n",
            " [0.00000000e+00 4.25028185e-01]\n",
            " [0.00000000e+00 4.31792559e-01]\n",
            " [0.00000000e+00 3.97970688e-01]\n",
            " [0.00000000e+00 3.48928974e-01]\n",
            " [0.00000000e+00 4.17700113e-01]\n",
            " [0.00000000e+00 4.18827508e-01]\n",
            " [0.00000000e+00 4.36302142e-01]\n",
            " [0.00000000e+00 4.78579481e-01]\n",
            " [0.00000000e+00 5.19729425e-01]\n",
            " [0.00000000e+00 4.93799324e-01]\n",
            " [0.00000000e+00 4.82525366e-01]\n",
            " [0.00000000e+00 5.34949267e-01]\n",
            " [3.70897457e-07 5.39458850e-01]\n",
            " [1.48358983e-06 5.73280722e-01]\n",
            " [3.15262838e-06 6.24013529e-01]\n",
            " [5.19256440e-06 5.52987599e-01]\n",
            " [7.41794914e-06 5.28748591e-01]\n",
            " [1.13123724e-05 5.31003382e-01]\n",
            " [1.61340394e-05 4.97181511e-01]\n",
            " [2.13266038e-05 4.83089064e-01]\n",
            " [2.68900656e-05 4.77452086e-01]\n",
            " [3.43080148e-05 4.54904171e-01]\n",
            " [4.71039770e-05 5.35512965e-01]\n",
            " [6.28671189e-05 5.71589628e-01]\n",
            " [8.28955816e-05 5.46786922e-01]\n",
            " [1.10712891e-04 5.80045096e-01]\n",
            " [1.38530200e-04 6.40924464e-01]\n",
            " [2.25876551e-04 5.77790304e-01]\n",
            " [3.35291301e-04 5.45659526e-01]\n",
            " [4.83835732e-04 5.46786922e-01]\n",
            " [6.78556897e-04 5.07328072e-01]\n",
            " [9.18898449e-04 4.80270575e-01]\n",
            " [1.38418931e-03 4.18827508e-01]\n",
            " [1.97206178e-03 4.36865840e-01]\n",
            " [2.72850714e-03 5.11273957e-01]\n",
            " [3.68134271e-03 5.02254791e-01]\n",
            " [4.80386386e-03 5.25930101e-01]\n",
            " [6.59288774e-03 5.24802706e-01]\n",
            " [8.63078382e-03 5.46786922e-01]\n",
            " [1.10221452e-02 4.03607666e-01]\n",
            " [1.37699390e-02 2.25479143e-01]\n",
            " [1.68650783e-02 1.53325817e-01]\n",
            " [2.09649787e-02 3.55129651e-02]\n",
            " [2.53506557e-02 8.79368658e-02]\n",
            " [3.01828932e-02 0.00000000e+00]\n",
            " [3.59290221e-02 6.82074408e-02]\n",
            " [4.21014976e-02 3.18489290e-01]\n",
            " [4.96459227e-02 4.40248027e-01]\n",
            " [5.75347262e-02 4.45321308e-01]\n",
            " [6.58916023e-02 6.12175874e-01]\n",
            " [7.45676356e-02 7.52536640e-01]\n",
            " [8.38332104e-02 8.01014656e-01]\n",
            " [9.40098948e-02 9.27846674e-01]\n",
            " [1.04440459e-01 8.81059752e-01]\n",
            " [1.15262319e-01 8.27508455e-01]\n",
            " [1.26568386e-01 7.80721533e-01]\n",
            " [1.38252769e-01 7.46899662e-01]\n",
            " [1.50804310e-01 7.13077790e-01]\n",
            " [1.63588032e-01 7.51972943e-01]\n",
            " [1.76769357e-01 7.88613303e-01]\n",
            " [1.90387043e-01 7.99323563e-01]\n",
            " [2.04419948e-01 8.56257046e-01]\n",
            " [2.19168314e-01 8.12852311e-01]\n",
            " [2.34131060e-01 8.36527621e-01]\n",
            " [2.49409624e-01 7.85794814e-01]\n",
            " [2.65011982e-01 8.08342728e-01]\n",
            " [2.80943140e-01 8.52311161e-01]\n",
            " [2.97552299e-01 8.57948140e-01]\n",
            " [3.14308148e-01 8.79368658e-01]\n",
            " [3.31354781e-01 8.79368658e-01]\n",
            " [3.48682925e-01 8.30890643e-01]\n",
            " [3.66245290e-01 8.26381060e-01]\n",
            " [3.84367340e-01 8.04960541e-01]\n",
            " [4.02582114e-01 7.92559188e-01]\n",
            " [4.20925960e-01 8.13416009e-01]\n",
            " [4.39552802e-01 8.54002255e-01]\n",
            " [4.58397545e-01 8.70349493e-01]\n",
            " [4.77755240e-01 8.50056370e-01]\n",
            " [4.97254617e-01 9.66178129e-01]\n",
            " [5.16945748e-01 9.06426156e-01]\n",
            " [5.36821216e-01 8.64712514e-01]\n",
            " [5.56888808e-01 8.68658399e-01]\n",
            " [5.77383489e-01 8.83878241e-01]\n",
            " [5.97969596e-01 8.96279594e-01]\n",
            " [6.18740966e-01 9.22209696e-01]\n",
            " [6.39682579e-01 9.32919955e-01]\n",
            " [6.60790353e-01 8.81623450e-01]\n",
            " [6.82252705e-01 8.59075536e-01]\n",
            " [7.03788310e-01 8.58511838e-01]\n",
            " [7.25478949e-01 8.97406990e-01]\n",
            " [7.47309417e-01 8.74295378e-01]\n",
            " [7.69272852e-01 8.63021421e-01]\n",
            " [7.91522063e-01 8.47237880e-01]\n",
            " [8.13850461e-01 8.87260428e-01]\n",
            " [8.36332039e-01 8.90642616e-01]\n",
            " [8.58952890e-01 9.08117249e-01]\n",
            " [8.82025679e-01 9.23337091e-01]\n",
            " [9.05355871e-01 9.48139797e-01]\n",
            " [9.28748373e-01 9.02480271e-01]\n",
            " [9.52376396e-01 9.35174746e-01]\n",
            " [9.76125331e-01 9.96617813e-01]\n",
            " [1.00000000e+00 1.00000000e+00]]\n"
          ],
          "name": "stdout"
        }
      ]
    },
    {
      "cell_type": "code",
      "metadata": {
        "id": "Sx35yrWb1MIz",
        "colab_type": "code",
        "colab": {}
      },
      "source": [
        "# Test & Train split => Preprocessing the data \n",
        "# Splitting dataset into train and test split\n",
        "# 65% of the total length of my datadrame\n",
        "# 35% test size\n",
        "# input: new_dataset instead of normalisation_us_deaths\n",
        "training_size = int(len(new_dataset)*0.65)\n",
        "# iterate through both and get 0th element of both and add to a list\n",
        "test_size = len(new_dataset)-training_size\n",
        "train_data, test_data = new_dataset[0:training_size,:], new_dataset[training_size:len(new_dataset),:1]\n",
        "# print(new_dataset)\n"
      ],
      "execution_count": 247,
      "outputs": []
    },
    {
      "cell_type": "code",
      "metadata": {
        "id": "ldKERrxeA1sD",
        "colab_type": "code",
        "colab": {
          "base_uri": "https://localhost:8080/",
          "height": 34
        },
        "outputId": "98300696-5479-468d-eb2f-74f9986197eb"
      },
      "source": [
        "training_size, test_size"
      ],
      "execution_count": 248,
      "outputs": [
        {
          "output_type": "execute_result",
          "data": {
            "text/plain": [
              "(87, 47)"
            ]
          },
          "metadata": {
            "tags": []
          },
          "execution_count": 248
        }
      ]
    },
    {
      "cell_type": "code",
      "metadata": {
        "id": "llongsG7BHW7",
        "colab_type": "code",
        "colab": {
          "base_uri": "https://localhost:8080/",
          "height": 34
        },
        "outputId": "66a022a3-0ec2-4033-9f4e-6ebcc84c400c"
      },
      "source": [
        "len(train_data), len(test_data)"
      ],
      "execution_count": 210,
      "outputs": [
        {
          "output_type": "execute_result",
          "data": {
            "text/plain": [
              "(87, 47)"
            ]
          },
          "metadata": {
            "tags": []
          },
          "execution_count": 210
        }
      ]
    },
    {
      "cell_type": "code",
      "metadata": {
        "id": "nc0pElKOBO-4",
        "colab_type": "code",
        "colab": {}
      },
      "source": [
        "train_data"
      ],
      "execution_count": 211,
      "outputs": []
    },
    {
      "cell_type": "code",
      "metadata": {
        "id": "7lcOjmoBARZm",
        "colab_type": "code",
        "colab": {}
      },
      "source": [
        "# Convert an array of values into a dataset matrix\n",
        "# time_step = how many previous days you have to consider before making a prediction\n",
        "# all data, need to split: [120,130,125,140,134,150,160,190,154,160,170]\n",
        "# timesteps = 3\n",
        "# train data = [120,130,125,140,134,150]\n",
        "# test data = [160,190,154,160,170]\n",
        "# X_train = f1,f2,f3\n",
        "# Y_train = o/p\n",
        "# f1  f2  f3  o/p\n",
        "# 120 130 125 140\n",
        "# 130 125 140 134\n",
        "# X_test = f1,f2,f3\n",
        "# Y_test = o/p\n",
        "# f1  f2  f3  o/p\n",
        "# 160 190 154 160\n",
        "# 190 154 160 170\n",
        "def create_dataset(dataset, time_step=1):\n",
        "  dataX, dataY = [],[]\n",
        "  # then we subtract e.g. timestep=3 : lendataset -3-3 so you are shifting\n",
        "  for i in range(len(dataset)-time_step-1):\n",
        "    a = dataset[i:(i+time_step),0]  # i=0, 0,1,2,3\n",
        "    dataX.append(a)\n",
        "    dataY.append(dataset[i + time_step, 0])\n",
        "  return np.array(dataX), np.array(dataY)"
      ],
      "execution_count": 212,
      "outputs": []
    },
    {
      "cell_type": "code",
      "metadata": {
        "id": "Xjbnyit_VZur",
        "colab_type": "code",
        "colab": {}
      },
      "source": [
        "# time_step is the number of days at the end\n",
        "# features: it takes in both the train and test and the number of days from the end\n",
        "# look_back -> every week \n",
        "time_step = 7\n",
        "X_train, Y_train = create_dataset(train_data, time_step)\n",
        "X_test, Y_test = create_dataset(test_data, time_step)"
      ],
      "execution_count": 213,
      "outputs": []
    },
    {
      "cell_type": "code",
      "metadata": {
        "id": "8y2Wyy-fWB_T",
        "colab_type": "code",
        "colab": {}
      },
      "source": [
        "# print(X_train)"
      ],
      "execution_count": 214,
      "outputs": []
    },
    {
      "cell_type": "code",
      "metadata": {
        "id": "7j3HCEW8TdGG",
        "colab_type": "code",
        "colab": {
          "base_uri": "https://localhost:8080/",
          "height": 68
        },
        "outputId": "ff400f6c-4133-4dc9-b37c-5f782c58874c"
      },
      "source": [
        "# This should be ordered in respect to date – not cross validation or random seed\n",
        "# We are going to divide our data based on date because the next data is always dependent on the previous data\n",
        "# 7 features at a time f1,f2,f3,f4,f5,f6,f7\n",
        "print(X_train.shape), print(Y_train.shape)\n"
      ],
      "execution_count": 215,
      "outputs": [
        {
          "output_type": "stream",
          "text": [
            "(79, 7)\n",
            "(79,)\n"
          ],
          "name": "stdout"
        },
        {
          "output_type": "execute_result",
          "data": {
            "text/plain": [
              "(None, None)"
            ]
          },
          "metadata": {
            "tags": []
          },
          "execution_count": 215
        }
      ]
    },
    {
      "cell_type": "code",
      "metadata": {
        "id": "Bii3I74VfqRM",
        "colab_type": "code",
        "colab": {
          "base_uri": "https://localhost:8080/",
          "height": 68
        },
        "outputId": "9ef33675-10b5-4985-fe85-83066c9f480c"
      },
      "source": [
        "print(X_test.shape), print(Y_test.shape)\n",
        "# Finished preprocessing the data"
      ],
      "execution_count": 216,
      "outputs": [
        {
          "output_type": "stream",
          "text": [
            "(39, 7)\n",
            "(39,)\n"
          ],
          "name": "stdout"
        },
        {
          "output_type": "execute_result",
          "data": {
            "text/plain": [
              "(None, None)"
            ]
          },
          "metadata": {
            "tags": []
          },
          "execution_count": 216
        }
      ]
    },
    {
      "cell_type": "code",
      "metadata": {
        "id": "TfKVJOPfCWw-",
        "colab_type": "code",
        "colab": {}
      },
      "source": [
        "# Need to convert this to a 3D \n",
        "# reshape input to be [samples, time_steps, features] which is required for lstm\n",
        "# therefore we add ,1 to convert to 3d\n",
        "# 7,1 will be the input to our LSTM\n",
        "# xtrain.shape = 79, 7, 1\n",
        "X_train = X_train.reshape(X_train.shape[0],X_train.shape[1], 1)\n",
        "X_test = X_test.reshape(X_test.shape[0], X_test.shape[1],1)"
      ],
      "execution_count": 217,
      "outputs": []
    },
    {
      "cell_type": "markdown",
      "metadata": {
        "id": "rQxS8R3VI2bP",
        "colab_type": "text"
      },
      "source": [
        "# Stacked LSTM Model"
      ]
    },
    {
      "cell_type": "code",
      "metadata": {
        "id": "fuLjcvVwM7Sc",
        "colab_type": "code",
        "colab": {}
      },
      "source": [
        "# Create the stacked LSTM model\n",
        "# One LSTM after the other\n",
        "from tensorflow.keras.models import Sequential\n",
        "from tensorflow.keras.layers import Dense\n",
        "from tensorflow.keras.layers import LSTM\n",
        "from tensorflow.keras.layers import InputLayer\n",
        "model = Sequential()\n",
        "# list: one element is a list of price and covid\n",
        "# 1d with 2 values -> one can be price and covid\n",
        "# model wont except tupils\n",
        "# 2d input\n",
        "# [[3,4],[4,5]]\n",
        "\n",
        "# we want input_tensor to be a single data point\n",
        "model.add(InputLayer(input_shape=(7,1)))\n",
        "model.add(LSTM(5,return_sequences=True))\n",
        "model.add(LSTM(5, return_sequences=True))\n",
        "model.add(LSTM(5))\n",
        "model.add(Dense(1))\n",
        "model.compile(loss = 'mean_squared_error', optimizer='adam')\n",
        "\n",
        "\n"
      ],
      "execution_count": 218,
      "outputs": []
    },
    {
      "cell_type": "code",
      "metadata": {
        "id": "L7MZYWw8NkzS",
        "colab_type": "code",
        "colab": {
          "base_uri": "https://localhost:8080/",
          "height": 289
        },
        "outputId": "d95a5b1b-1250-4233-e33f-9f11284a7331"
      },
      "source": [
        "model.summary()"
      ],
      "execution_count": 219,
      "outputs": [
        {
          "output_type": "stream",
          "text": [
            "Model: \"sequential_18\"\n",
            "_________________________________________________________________\n",
            "Layer (type)                 Output Shape              Param #   \n",
            "=================================================================\n",
            "lstm_24 (LSTM)               (None, 7, 5)              140       \n",
            "_________________________________________________________________\n",
            "lstm_25 (LSTM)               (None, 7, 5)              220       \n",
            "_________________________________________________________________\n",
            "lstm_26 (LSTM)               (None, 5)                 220       \n",
            "_________________________________________________________________\n",
            "dense_12 (Dense)             (None, 1)                 6         \n",
            "=================================================================\n",
            "Total params: 586\n",
            "Trainable params: 586\n",
            "Non-trainable params: 0\n",
            "_________________________________________________________________\n"
          ],
          "name": "stdout"
        }
      ]
    },
    {
      "cell_type": "code",
      "metadata": {
        "id": "V-kYqq9ON2ij",
        "colab_type": "code",
        "colab": {
          "base_uri": "https://localhost:8080/",
          "height": 1000
        },
        "outputId": "fe304cba-570c-46e4-e928-baf106157b57"
      },
      "source": [
        "# Main aim should be to minimise the loss\n",
        "model.fit(X_train, Y_train, \n",
        "          validation_data=(X_test,Y_test), epochs=100,batch_size=64,verbose=1)"
      ],
      "execution_count": 220,
      "outputs": [
        {
          "output_type": "stream",
          "text": [
            "Epoch 1/100\n",
            "2/2 [==============================] - 1s 530ms/step - loss: 6.6950e-04 - val_loss: 0.4263\n",
            "Epoch 2/100\n",
            "2/2 [==============================] - 0s 25ms/step - loss: 5.8785e-04 - val_loss: 0.4180\n",
            "Epoch 3/100\n",
            "2/2 [==============================] - 0s 22ms/step - loss: 5.7385e-04 - val_loss: 0.4155\n",
            "Epoch 4/100\n",
            "2/2 [==============================] - 0s 23ms/step - loss: 5.6430e-04 - val_loss: 0.4148\n",
            "Epoch 5/100\n",
            "2/2 [==============================] - 0s 22ms/step - loss: 5.6519e-04 - val_loss: 0.4135\n",
            "Epoch 6/100\n",
            "2/2 [==============================] - 0s 26ms/step - loss: 5.6530e-04 - val_loss: 0.4100\n",
            "Epoch 7/100\n",
            "2/2 [==============================] - 0s 24ms/step - loss: 5.6117e-04 - val_loss: 0.4057\n",
            "Epoch 8/100\n",
            "2/2 [==============================] - 0s 28ms/step - loss: 5.5527e-04 - val_loss: 0.4012\n",
            "Epoch 9/100\n",
            "2/2 [==============================] - 0s 24ms/step - loss: 5.4886e-04 - val_loss: 0.3975\n",
            "Epoch 10/100\n",
            "2/2 [==============================] - 0s 23ms/step - loss: 5.4586e-04 - val_loss: 0.3945\n",
            "Epoch 11/100\n",
            "2/2 [==============================] - 0s 23ms/step - loss: 5.4265e-04 - val_loss: 0.3921\n",
            "Epoch 12/100\n",
            "2/2 [==============================] - 0s 29ms/step - loss: 5.4045e-04 - val_loss: 0.3901\n",
            "Epoch 13/100\n",
            "2/2 [==============================] - 0s 23ms/step - loss: 5.3731e-04 - val_loss: 0.3887\n",
            "Epoch 14/100\n",
            "2/2 [==============================] - 0s 23ms/step - loss: 5.3684e-04 - val_loss: 0.3870\n",
            "Epoch 15/100\n",
            "2/2 [==============================] - 0s 23ms/step - loss: 5.3624e-04 - val_loss: 0.3849\n",
            "Epoch 16/100\n",
            "2/2 [==============================] - 0s 23ms/step - loss: 5.3444e-04 - val_loss: 0.3828\n",
            "Epoch 17/100\n",
            "2/2 [==============================] - 0s 26ms/step - loss: 5.3327e-04 - val_loss: 0.3809\n",
            "Epoch 18/100\n",
            "2/2 [==============================] - 0s 24ms/step - loss: 5.3088e-04 - val_loss: 0.3787\n",
            "Epoch 19/100\n",
            "2/2 [==============================] - 0s 26ms/step - loss: 5.2807e-04 - val_loss: 0.3754\n",
            "Epoch 20/100\n",
            "2/2 [==============================] - 0s 25ms/step - loss: 5.2192e-04 - val_loss: 0.3723\n",
            "Epoch 21/100\n",
            "2/2 [==============================] - 0s 23ms/step - loss: 5.1890e-04 - val_loss: 0.3688\n",
            "Epoch 22/100\n",
            "2/2 [==============================] - 0s 25ms/step - loss: 5.1850e-04 - val_loss: 0.3653\n",
            "Epoch 23/100\n",
            "2/2 [==============================] - 0s 24ms/step - loss: 5.2144e-04 - val_loss: 0.3622\n",
            "Epoch 24/100\n",
            "2/2 [==============================] - 0s 25ms/step - loss: 5.2412e-04 - val_loss: 0.3604\n",
            "Epoch 25/100\n",
            "2/2 [==============================] - 0s 26ms/step - loss: 5.1579e-04 - val_loss: 0.3607\n",
            "Epoch 26/100\n",
            "2/2 [==============================] - 0s 25ms/step - loss: 5.1060e-04 - val_loss: 0.3614\n",
            "Epoch 27/100\n",
            "2/2 [==============================] - 0s 33ms/step - loss: 5.0828e-04 - val_loss: 0.3611\n",
            "Epoch 28/100\n",
            "2/2 [==============================] - 0s 25ms/step - loss: 5.1522e-04 - val_loss: 0.3601\n",
            "Epoch 29/100\n",
            "2/2 [==============================] - 0s 24ms/step - loss: 5.1998e-04 - val_loss: 0.3579\n",
            "Epoch 30/100\n",
            "2/2 [==============================] - 0s 25ms/step - loss: 5.1489e-04 - val_loss: 0.3544\n",
            "Epoch 31/100\n",
            "2/2 [==============================] - 0s 23ms/step - loss: 5.0749e-04 - val_loss: 0.3507\n",
            "Epoch 32/100\n",
            "2/2 [==============================] - 0s 25ms/step - loss: 4.9603e-04 - val_loss: 0.3477\n",
            "Epoch 33/100\n",
            "2/2 [==============================] - 0s 23ms/step - loss: 4.9198e-04 - val_loss: 0.3440\n",
            "Epoch 34/100\n",
            "2/2 [==============================] - 0s 22ms/step - loss: 4.9072e-04 - val_loss: 0.3400\n",
            "Epoch 35/100\n",
            "2/2 [==============================] - 0s 24ms/step - loss: 4.9584e-04 - val_loss: 0.3367\n",
            "Epoch 36/100\n",
            "2/2 [==============================] - 0s 29ms/step - loss: 4.9563e-04 - val_loss: 0.3346\n",
            "Epoch 37/100\n",
            "2/2 [==============================] - 0s 28ms/step - loss: 4.8928e-04 - val_loss: 0.3327\n",
            "Epoch 38/100\n",
            "2/2 [==============================] - 0s 22ms/step - loss: 4.8242e-04 - val_loss: 0.3302\n",
            "Epoch 39/100\n",
            "2/2 [==============================] - 0s 25ms/step - loss: 4.7612e-04 - val_loss: 0.3273\n",
            "Epoch 40/100\n",
            "2/2 [==============================] - 0s 24ms/step - loss: 4.7184e-04 - val_loss: 0.3247\n",
            "Epoch 41/100\n",
            "2/2 [==============================] - 0s 24ms/step - loss: 4.6833e-04 - val_loss: 0.3216\n",
            "Epoch 42/100\n",
            "2/2 [==============================] - 0s 28ms/step - loss: 4.6394e-04 - val_loss: 0.3174\n",
            "Epoch 43/100\n",
            "2/2 [==============================] - 0s 24ms/step - loss: 4.5957e-04 - val_loss: 0.3125\n",
            "Epoch 44/100\n",
            "2/2 [==============================] - 0s 23ms/step - loss: 4.5668e-04 - val_loss: 0.3079\n",
            "Epoch 45/100\n",
            "2/2 [==============================] - 0s 22ms/step - loss: 4.5299e-04 - val_loss: 0.3033\n",
            "Epoch 46/100\n",
            "2/2 [==============================] - 0s 30ms/step - loss: 4.4813e-04 - val_loss: 0.2978\n",
            "Epoch 47/100\n",
            "2/2 [==============================] - 0s 26ms/step - loss: 4.4768e-04 - val_loss: 0.2927\n",
            "Epoch 48/100\n",
            "2/2 [==============================] - 0s 24ms/step - loss: 4.3931e-04 - val_loss: 0.2894\n",
            "Epoch 49/100\n",
            "2/2 [==============================] - 0s 24ms/step - loss: 4.2853e-04 - val_loss: 0.2858\n",
            "Epoch 50/100\n",
            "2/2 [==============================] - 0s 22ms/step - loss: 4.2423e-04 - val_loss: 0.2815\n",
            "Epoch 51/100\n",
            "2/2 [==============================] - 0s 26ms/step - loss: 4.2358e-04 - val_loss: 0.2764\n",
            "Epoch 52/100\n",
            "2/2 [==============================] - 0s 26ms/step - loss: 4.1881e-04 - val_loss: 0.2696\n",
            "Epoch 53/100\n",
            "2/2 [==============================] - 0s 24ms/step - loss: 4.0360e-04 - val_loss: 0.2610\n",
            "Epoch 54/100\n",
            "2/2 [==============================] - 0s 26ms/step - loss: 4.0024e-04 - val_loss: 0.2526\n",
            "Epoch 55/100\n",
            "2/2 [==============================] - 0s 25ms/step - loss: 4.0354e-04 - val_loss: 0.2471\n",
            "Epoch 56/100\n",
            "2/2 [==============================] - 0s 26ms/step - loss: 3.9038e-04 - val_loss: 0.2428\n",
            "Epoch 57/100\n",
            "2/2 [==============================] - 0s 24ms/step - loss: 3.7393e-04 - val_loss: 0.2374\n",
            "Epoch 58/100\n",
            "2/2 [==============================] - 0s 31ms/step - loss: 3.7000e-04 - val_loss: 0.2324\n",
            "Epoch 59/100\n",
            "2/2 [==============================] - 0s 24ms/step - loss: 3.7788e-04 - val_loss: 0.2259\n",
            "Epoch 60/100\n",
            "2/2 [==============================] - 0s 23ms/step - loss: 3.7025e-04 - val_loss: 0.2171\n",
            "Epoch 61/100\n",
            "2/2 [==============================] - 0s 24ms/step - loss: 3.4663e-04 - val_loss: 0.2079\n",
            "Epoch 62/100\n",
            "2/2 [==============================] - 0s 23ms/step - loss: 3.3706e-04 - val_loss: 0.2002\n",
            "Epoch 63/100\n",
            "2/2 [==============================] - 0s 23ms/step - loss: 3.2989e-04 - val_loss: 0.1947\n",
            "Epoch 64/100\n",
            "2/2 [==============================] - 0s 26ms/step - loss: 3.2000e-04 - val_loss: 0.1890\n",
            "Epoch 65/100\n",
            "2/2 [==============================] - 0s 28ms/step - loss: 3.1258e-04 - val_loss: 0.1800\n",
            "Epoch 66/100\n",
            "2/2 [==============================] - 0s 25ms/step - loss: 2.9595e-04 - val_loss: 0.1690\n",
            "Epoch 67/100\n",
            "2/2 [==============================] - 0s 28ms/step - loss: 2.8726e-04 - val_loss: 0.1587\n",
            "Epoch 68/100\n",
            "2/2 [==============================] - 0s 23ms/step - loss: 2.8187e-04 - val_loss: 0.1498\n",
            "Epoch 69/100\n",
            "2/2 [==============================] - 0s 27ms/step - loss: 2.6367e-04 - val_loss: 0.1417\n",
            "Epoch 70/100\n",
            "2/2 [==============================] - 0s 24ms/step - loss: 2.4839e-04 - val_loss: 0.1330\n",
            "Epoch 71/100\n",
            "2/2 [==============================] - 0s 26ms/step - loss: 2.4021e-04 - val_loss: 0.1222\n",
            "Epoch 72/100\n",
            "2/2 [==============================] - 0s 24ms/step - loss: 2.2060e-04 - val_loss: 0.1117\n",
            "Epoch 73/100\n",
            "2/2 [==============================] - 0s 28ms/step - loss: 2.0475e-04 - val_loss: 0.1022\n",
            "Epoch 74/100\n",
            "2/2 [==============================] - 0s 25ms/step - loss: 1.9061e-04 - val_loss: 0.0925\n",
            "Epoch 75/100\n",
            "2/2 [==============================] - 0s 25ms/step - loss: 1.7574e-04 - val_loss: 0.0823\n",
            "Epoch 76/100\n",
            "2/2 [==============================] - 0s 23ms/step - loss: 1.6065e-04 - val_loss: 0.0725\n",
            "Epoch 77/100\n",
            "2/2 [==============================] - 0s 24ms/step - loss: 1.4922e-04 - val_loss: 0.0635\n",
            "Epoch 78/100\n",
            "2/2 [==============================] - 0s 23ms/step - loss: 1.3001e-04 - val_loss: 0.0557\n",
            "Epoch 79/100\n",
            "2/2 [==============================] - 0s 25ms/step - loss: 1.2064e-04 - val_loss: 0.0472\n",
            "Epoch 80/100\n",
            "2/2 [==============================] - 0s 26ms/step - loss: 1.0185e-04 - val_loss: 0.0395\n",
            "Epoch 81/100\n",
            "2/2 [==============================] - 0s 25ms/step - loss: 9.0439e-05 - val_loss: 0.0338\n",
            "Epoch 82/100\n",
            "2/2 [==============================] - 0s 27ms/step - loss: 7.6715e-05 - val_loss: 0.0288\n",
            "Epoch 83/100\n",
            "2/2 [==============================] - 0s 24ms/step - loss: 8.0245e-05 - val_loss: 0.0236\n",
            "Epoch 84/100\n",
            "2/2 [==============================] - 0s 28ms/step - loss: 5.1766e-05 - val_loss: 0.0191\n",
            "Epoch 85/100\n",
            "2/2 [==============================] - 0s 25ms/step - loss: 5.7271e-05 - val_loss: 0.0158\n",
            "Epoch 86/100\n",
            "2/2 [==============================] - 0s 23ms/step - loss: 3.4600e-05 - val_loss: 0.0133\n",
            "Epoch 87/100\n",
            "2/2 [==============================] - 0s 24ms/step - loss: 4.4155e-05 - val_loss: 0.0112\n",
            "Epoch 88/100\n",
            "2/2 [==============================] - 0s 25ms/step - loss: 2.2408e-05 - val_loss: 0.0099\n",
            "Epoch 89/100\n",
            "2/2 [==============================] - 0s 30ms/step - loss: 2.4228e-05 - val_loss: 0.0092\n",
            "Epoch 90/100\n",
            "2/2 [==============================] - 0s 28ms/step - loss: 1.5429e-05 - val_loss: 0.0088\n",
            "Epoch 91/100\n",
            "2/2 [==============================] - 0s 25ms/step - loss: 1.5232e-05 - val_loss: 0.0091\n",
            "Epoch 92/100\n",
            "2/2 [==============================] - 0s 26ms/step - loss: 1.1980e-05 - val_loss: 0.0093\n",
            "Epoch 93/100\n",
            "2/2 [==============================] - 0s 24ms/step - loss: 9.4781e-06 - val_loss: 0.0096\n",
            "Epoch 94/100\n",
            "2/2 [==============================] - 0s 28ms/step - loss: 1.1025e-05 - val_loss: 0.0102\n",
            "Epoch 95/100\n",
            "2/2 [==============================] - 0s 23ms/step - loss: 9.9678e-06 - val_loss: 0.0106\n",
            "Epoch 96/100\n",
            "2/2 [==============================] - 0s 23ms/step - loss: 9.1075e-06 - val_loss: 0.0108\n",
            "Epoch 97/100\n",
            "2/2 [==============================] - 0s 26ms/step - loss: 1.1249e-05 - val_loss: 0.0113\n",
            "Epoch 98/100\n",
            "2/2 [==============================] - 0s 24ms/step - loss: 1.1482e-05 - val_loss: 0.0113\n",
            "Epoch 99/100\n",
            "2/2 [==============================] - 0s 24ms/step - loss: 1.0067e-05 - val_loss: 0.0111\n",
            "Epoch 100/100\n",
            "2/2 [==============================] - 0s 25ms/step - loss: 1.0918e-05 - val_loss: 0.0113\n"
          ],
          "name": "stdout"
        },
        {
          "output_type": "execute_result",
          "data": {
            "text/plain": [
              "<tensorflow.python.keras.callbacks.History at 0x7fc54c556128>"
            ]
          },
          "metadata": {
            "tags": []
          },
          "execution_count": 220
        }
      ]
    },
    {
      "cell_type": "markdown",
      "metadata": {
        "id": "k4ocL2CLJLXg",
        "colab_type": "text"
      },
      "source": [
        "# Predicted the test data \n",
        "\n",
        "*   Must also plot the output\n",
        "\n"
      ]
    },
    {
      "cell_type": "code",
      "metadata": {
        "id": "aBny6cUkO4xC",
        "colab_type": "code",
        "colab": {}
      },
      "source": [
        "# Prediction and check performance metric\n",
        "train_predict = model.predict(X_train)\n",
        "test_predict = model.predict(X_test)\n"
      ],
      "execution_count": 221,
      "outputs": []
    },
    {
      "cell_type": "code",
      "metadata": {
        "id": "b7ocuWlpPIEA",
        "colab_type": "code",
        "colab": {}
      },
      "source": [
        "# Transform back to original form\n",
        "train_predict=scaler.inverse_transform(train_predict)\n",
        "test_predict=scaler.inverse_transform(test_predict)"
      ],
      "execution_count": 222,
      "outputs": []
    },
    {
      "cell_type": "code",
      "metadata": {
        "id": "DHXXILzqPUHQ",
        "colab_type": "code",
        "colab": {
          "base_uri": "https://localhost:8080/",
          "height": 34
        },
        "outputId": "e618aefd-2550-4726-d262-f04e02ee2cf5"
      },
      "source": [
        "# Calculate the RMSE performance metrics\n",
        "# Output for the train dataset\n",
        "import math\n",
        "from sklearn.metrics import mean_squared_error\n",
        "math.sqrt(mean_squared_error(Y_train, train_predict))"
      ],
      "execution_count": 223,
      "outputs": [
        {
          "output_type": "execute_result",
          "data": {
            "text/plain": [
              "1.1413131875773141"
            ]
          },
          "metadata": {
            "tags": []
          },
          "execution_count": 223
        }
      ]
    },
    {
      "cell_type": "code",
      "metadata": {
        "id": "fFNm7l86Pt_7",
        "colab_type": "code",
        "colab": {
          "base_uri": "https://localhost:8080/",
          "height": 34
        },
        "outputId": "0738fb53-261d-4530-be05-33edc771e132"
      },
      "source": [
        "# Similarly for the test Data RMSE\n",
        "math.sqrt(mean_squared_error(Y_test, test_predict))"
      ],
      "execution_count": 224,
      "outputs": [
        {
          "output_type": "execute_result",
          "data": {
            "text/plain": [
              "0.7169989668663206"
            ]
          },
          "metadata": {
            "tags": []
          },
          "execution_count": 224
        }
      ]
    },
    {
      "cell_type": "markdown",
      "metadata": {
        "id": "-nSW23ryI8RU",
        "colab_type": "text"
      },
      "source": [
        "# Predicted future 7 days and plotted the output"
      ]
    },
    {
      "cell_type": "code",
      "metadata": {
        "id": "wIaC4DB2UV6P",
        "colab_type": "code",
        "colab": {
          "base_uri": "https://localhost:8080/",
          "height": 353
        },
        "outputId": "dcae1e90-8359-41f3-abad-f80405b28bd6"
      },
      "source": [
        "# Plotting\n",
        "# Shift train predictions for plotting\n",
        "# every week\n",
        "look_back = 7\n",
        "trainPredictPlot = np.empty_like(new_dataset)\n",
        "trainPredictPlot[:,:]= np.nan\n",
        "trainPredictPlot[look_back:len(train_predict)+look_back, :] = train_predict\n",
        "# Shift test predictions for plotting\n",
        "testPredictPlot = np.empty_like(new_dataset)\n",
        "testPredictPlot[:,:]= np.nan\n",
        "testPredictPlot[len(train_predict)+(look_back*2)+1: len(new_dataset)-1, :] = test_predict\n",
        "# Plot baseline and predictions\n",
        "plt.title('Analysis of train, test and actual')\n",
        "plt.plot(scaler.inverse_transform(new_dataset), label=\"actual dataset\")\n",
        "plt.plot(trainPredictPlot, label=\"train_predict\")\n",
        "# as you can see th test data and train is divided because we want to test after a specific day\n",
        "plt.plot(testPredictPlot, label=\"test_predict\")\n",
        "plt.ylabel('Forex price & US Death Rates')\n",
        "plt.xlabel('Date')\n",
        "plt.legend()\n",
        "plt.show()\n",
        "# Printing 2 actual_dataset, train_predict, test_predict because 2 input layers"
      ],
      "execution_count": 225,
      "outputs": [
        {
          "output_type": "display_data",
          "data": {
            "image/png": "[encoded data removed]",
            "text/plain": [
              "<Figure size 1080x432 with 1 Axes>"
            ]
          },
          "metadata": {
            "tags": []
          }
        }
      ]
    },
    {
      "cell_type": "code",
      "metadata": {
        "id": "AUz1G_cESn6S",
        "colab_type": "code",
        "colab": {
          "base_uri": "https://localhost:8080/",
          "height": 34
        },
        "outputId": "8f15fe21-f034-48d1-bf00-60f6f9129585"
      },
      "source": [
        "# Predict the future 30 days\n",
        "# imagine in test data the last output was 23/may and you want to predict the 24/may\n",
        "len(test_data) "
      ],
      "execution_count": 226,
      "outputs": [
        {
          "output_type": "execute_result",
          "data": {
            "text/plain": [
              "47"
            ]
          },
          "metadata": {
            "tags": []
          },
          "execution_count": 226
        }
      ]
    },
    {
      "cell_type": "code",
      "metadata": {
        "id": "yws-gX7RTB3Z",
        "colab_type": "code",
        "colab": {
          "base_uri": "https://localhost:8080/",
          "height": 34
        },
        "outputId": "6e420ae3-7996-4815-bead-91d6d7ee9b05"
      },
      "source": [
        "X_input=test_data[40:].reshape(1,-1)\n",
        "X_input.shape"
      ],
      "execution_count": 227,
      "outputs": [
        {
          "output_type": "execute_result",
          "data": {
            "text/plain": [
              "(1, 7)"
            ]
          },
          "metadata": {
            "tags": []
          },
          "execution_count": 227
        }
      ]
    },
    {
      "cell_type": "code",
      "metadata": {
        "id": "y6srH5ffTW0s",
        "colab_type": "code",
        "colab": {
          "base_uri": "https://localhost:8080/",
          "height": 34
        },
        "outputId": "fa2d251e-b26d-45de-bd36-f7b0329c63e4"
      },
      "source": [
        "# temp_input=list_arr(X_input)\n",
        "# temp_input=temp_input[0].tolist()\n",
        "# print(temp_input)\n",
        "# print(X_input)\n",
        "# should be: \n",
        "# [0.85895289 0.88202568 0.90535587 0.92874837 0.9523764  0.97612533\n",
        "#  1.        ]\n",
        "# error: 'numpy.ndarray' object is not callable\n",
        "# for not:\n",
        "temp_input = [0.85895289,0.88202568,0.90535587,0.92874837,0.9523764,0.97612533,1.]\n",
        "print(temp_input)"
      ],
      "execution_count": 228,
      "outputs": [
        {
          "output_type": "stream",
          "text": [
            "[0.85895289, 0.88202568, 0.90535587, 0.92874837, 0.9523764, 0.97612533, 1.0]\n"
          ],
          "name": "stdout"
        }
      ]
    },
    {
      "cell_type": "code",
      "metadata": {
        "id": "91jlvlCAUAaH",
        "colab_type": "code",
        "colab": {
          "base_uri": "https://localhost:8080/",
          "height": 34
        },
        "outputId": "4a4b4c71-b81f-45d1-e7a7-b17b14e0a5ec"
      },
      "source": [
        "temp_input"
      ],
      "execution_count": 229,
      "outputs": [
        {
          "output_type": "execute_result",
          "data": {
            "text/plain": [
              "[0.85895289, 0.88202568, 0.90535587, 0.92874837, 0.9523764, 0.97612533, 1.0]"
            ]
          },
          "metadata": {
            "tags": []
          },
          "execution_count": 229
        }
      ]
    },
    {
      "cell_type": "code",
      "metadata": {
        "id": "CHAxzKyuTp5-",
        "colab_type": "code",
        "colab": {
          "base_uri": "https://localhost:8080/",
          "height": 34
        },
        "outputId": "51efdd99-2f81-4885-daee-ebe47781a8ec"
      },
      "source": [
        "# Demonstrate prediction for the next 4 days\n",
        "from numpy import array\n",
        "lst_output=[]\n",
        "n_steps=7\n",
        "i=0\n",
        "while(i<4):\n",
        "  if(len(temp_input)>7):\n",
        "    #print(temp_input)\n",
        "    # if length is more than 7, 1: shifting one position\n",
        "    X_input=np.array(temp_input[1:])\n",
        "    # --> print(\"{} day input {}\".format(i,X_input))\n",
        "    X_input=X_input.reshape(1,-1)\n",
        "    X_input=X_input.reshape((1,n_steps,1))\n",
        "    # print(x_input)\n",
        "    Y_hat = model.predict(X_input, verbose=0)\n",
        "    # --> print(\"{} day input {}\".format(i,Y_hat))\n",
        "    temp_input.extend(Y_hat[0].tolist())\n",
        "    temp_input=temp_input[1:]\n",
        "    #print(temp_input)\n",
        "    lst_output.extend(Y_hat.tolist())\n",
        "    i=i+1\n",
        "  else:\n",
        "    X_input = X_input.reshape((1,n_steps,1))\n",
        "    Y_hat = model.predict(X_input, verbose=0)\n",
        "    # print(Y_hat[0])\n",
        "    temp_input.extend(Y_hat[0].tolist())\n",
        "    # print(len(temp_input))\n",
        "    lst_output.extend(Y_hat.tolist())\n",
        "    i=i+1\n",
        "# print the predicted next 4 days \n",
        "print(lst_output)"
      ],
      "execution_count": 230,
      "outputs": [
        {
          "output_type": "stream",
          "text": [
            "[[0.8162774443626404], [0.8202468752861023], [0.8233087658882141], [0.8255537152290344]]\n"
          ],
          "name": "stdout"
        }
      ]
    },
    {
      "cell_type": "code",
      "metadata": {
        "id": "lJZWlqYqVytl",
        "colab_type": "code",
        "colab": {}
      },
      "source": [
        "# 8 because we are moving one ahead of 7\n",
        "day_new=np.arange(1,8)\n",
        "# 12 because want to predict the next 4 days\n",
        "day_pred=np.arange(8,12)"
      ],
      "execution_count": 231,
      "outputs": []
    },
    {
      "cell_type": "code",
      "metadata": {
        "id": "-pFZ-jy1V62-",
        "colab_type": "code",
        "colab": {
          "base_uri": "https://localhost:8080/",
          "height": 34
        },
        "outputId": "02e73f32-24bf-486a-aa8c-016f6e745343"
      },
      "source": [
        "len(new_dataset)"
      ],
      "execution_count": 232,
      "outputs": [
        {
          "output_type": "execute_result",
          "data": {
            "text/plain": [
              "134"
            ]
          },
          "metadata": {
            "tags": []
          },
          "execution_count": 232
        }
      ]
    },
    {
      "cell_type": "code",
      "metadata": {
        "id": "IeOGd1UPV8jG",
        "colab_type": "code",
        "colab": {}
      },
      "source": [
        "df3=new_dataset.tolist()\n",
        "df3.extend(lst_output)"
      ],
      "execution_count": 233,
      "outputs": []
    },
    {
      "cell_type": "code",
      "metadata": {
        "id": "9X1xZG9bWNx_",
        "colab_type": "code",
        "colab": {
          "base_uri": "https://localhost:8080/",
          "height": 349
        },
        "outputId": "413a9f0c-916c-459d-f2c1-c20630534ac9"
      },
      "source": [
        "# the reason for 127 is that you are taking 134-7\n",
        "plt.plot(day_new, scaler.inverse_transform(new_dataset[127:]))\n",
        "# print the predicted next 4 days \n",
        "plt.plot(day_pred, scaler.inverse_transform(lst_output))"
      ],
      "execution_count": 234,
      "outputs": [
        {
          "output_type": "execute_result",
          "data": {
            "text/plain": [
              "[<matplotlib.lines.Line2D at 0x7fc54a043a20>]"
            ]
          },
          "metadata": {
            "tags": []
          },
          "execution_count": 234
        },
        {
          "output_type": "display_data",
          "data": {
            "image/png": "[encoded data removed]",
            "text/plain": [
              "<Figure size 1080x432 with 1 Axes>"
            ]
          },
          "metadata": {
            "tags": []
          }
        }
      ]
    },
    {
      "cell_type": "code",
      "metadata": {
        "id": "EnYiEAX6WwPd",
        "colab_type": "code",
        "colab": {
          "base_uri": "https://localhost:8080/",
          "height": 349
        },
        "outputId": "dd1c47c8-9590-489d-dfe2-a8c1237e94ae"
      },
      "source": [
        "# Combine actual and prediction\n",
        "df3=normalisation_us_deaths.tolist()\n",
        "df3.extend(lst_output)\n",
        "plt.plot(df3[127:])\n",
        "\n",
        "# Unsure why this isnt working\n",
        "# Combine actual and prediction\n",
        "# df3=new_dataset.tolist()\n",
        "# df3.extend(lst_output)\n",
        "# plt.plot(df3[127:])\n",
        "# plt.plot(df3)"
      ],
      "execution_count": 245,
      "outputs": [
        {
          "output_type": "execute_result",
          "data": {
            "text/plain": [
              "[<matplotlib.lines.Line2D at 0x7fc549948320>]"
            ]
          },
          "metadata": {
            "tags": []
          },
          "execution_count": 245
        },
        {
          "output_type": "display_data",
          "data": {
            "image/png": "[encoded data removed]",
            "text/plain": [
              "<Figure size 1080x432 with 1 Axes>"
            ]
          },
          "metadata": {
            "tags": []
          }
        }
      ]
    },
    {
      "cell_type": "markdown",
      "metadata": {
        "id": "7o0GfssHMvIL",
        "colab_type": "text"
      },
      "source": [
        "# Conclusion and next steps\n",
        "We explored the LSTM algorithms:\n",
        "\n",
        "*   List item\n",
        "*   List item\n",
        "\n",
        "\n",
        "In conclusion it seems that .."
      ]
    }
  ]
}