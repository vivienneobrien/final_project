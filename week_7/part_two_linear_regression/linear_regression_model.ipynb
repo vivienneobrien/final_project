{
  "nbformat": 4,
  "nbformat_minor": 0,
  "metadata": {
    "colab": {
      "name": "linear_regression_model.ipynb",
      "provenance": [],
      "collapsed_sections": []
    },
    "kernelspec": {
      "name": "python3",
      "display_name": "Python 3"
    }
  },
  "cells": [
    {
      "cell_type": "code",
      "metadata": {
        "id": "6E-vJVfPLddW",
        "colab_type": "code",
        "colab": {}
      },
      "source": [
        "# Notes for user:\n",
        "# This notebook will use the US gasoline price API dataset and forex to predict the forex spot price of a currency pair.\n",
        "# What to ask user before using this application:\n",
        "# What currency pair are you interested in? USD/GBP (This layout means that the base currency is USD)\n",
        "# The currency the user wants to look at is how much the USD is worth to the GBP.\n",
        "# Therefore, we look at the price of gasoline of the US and the UK.\n",
        "# So far all that is inputted is the forex price so we can understand the model\n",
        "# We will need to organise US gasoline price dataset."
      ],
      "execution_count": 128,
      "outputs": []
    },
    {
      "cell_type": "code",
      "metadata": {
        "id": "P4D3PBSILe56",
        "colab_type": "code",
        "colab": {
          "base_uri": "https://localhost:8080/",
          "height": 292
        },
        "outputId": "e692b03a-f33e-4fff-fad9-fc705a18b077"
      },
      "source": [
        "!pip install git+https://github.com/tensorflow/docs"
      ],
      "execution_count": 129,
      "outputs": [
        {
          "output_type": "stream",
          "text": [
            "Collecting git+https://github.com/tensorflow/docs\n",
            "  Cloning https://github.com/tensorflow/docs to /tmp/pip-req-build-0wxjiyhg\n",
            "  Running command git clone -q https://github.com/tensorflow/docs /tmp/pip-req-build-0wxjiyhg\n",
            "Requirement already satisfied (use --upgrade to upgrade): tensorflow-docs===0.0.028e526366a3d3620adc3c375287ab71cf412bac8- from git+https://github.com/tensorflow/docs in /usr/local/lib/python3.6/dist-packages\n",
            "Requirement already satisfied: astor in /usr/local/lib/python3.6/dist-packages (from tensorflow-docs===0.0.028e526366a3d3620adc3c375287ab71cf412bac8-) (0.8.1)\n",
            "Requirement already satisfied: absl-py in /usr/local/lib/python3.6/dist-packages (from tensorflow-docs===0.0.028e526366a3d3620adc3c375287ab71cf412bac8-) (0.9.0)\n",
            "Requirement already satisfied: protobuf in /usr/local/lib/python3.6/dist-packages (from tensorflow-docs===0.0.028e526366a3d3620adc3c375287ab71cf412bac8-) (3.12.2)\n",
            "Requirement already satisfied: pyyaml in /usr/local/lib/python3.6/dist-packages (from tensorflow-docs===0.0.028e526366a3d3620adc3c375287ab71cf412bac8-) (3.13)\n",
            "Requirement already satisfied: six in /usr/local/lib/python3.6/dist-packages (from absl-py->tensorflow-docs===0.0.028e526366a3d3620adc3c375287ab71cf412bac8-) (1.15.0)\n",
            "Requirement already satisfied: setuptools in /usr/local/lib/python3.6/dist-packages (from protobuf->tensorflow-docs===0.0.028e526366a3d3620adc3c375287ab71cf412bac8-) (49.1.0)\n",
            "Building wheels for collected packages: tensorflow-docs\n",
            "  Building wheel for tensorflow-docs (setup.py) ... \u001b[?25l\u001b[?25hdone\n",
            "  Created wheel for tensorflow-docs: filename=tensorflow_docs-0.0.028e526366a3d3620adc3c375287ab71cf412bac8_-cp36-none-any.whl size=124955 sha256=5800da3cbe539fc159cea85a6ad38b675e22be5c4f7f90d5b2a5b5cdb1fe770d\n",
            "  Stored in directory: /tmp/pip-ephem-wheel-cache-nkfc78nx/wheels/eb/1b/35/fce87697be00d2fc63e0b4b395b0d9c7e391a10e98d9a0d97f\n",
            "Successfully built tensorflow-docs\n"
          ],
          "name": "stdout"
        }
      ]
    },
    {
      "cell_type": "code",
      "metadata": {
        "id": "I5kOTYIa0Y5b",
        "colab_type": "code",
        "colab": {
          "base_uri": "https://localhost:8080/",
          "height": 34
        },
        "outputId": "20bd7d46-038c-4cf0-b4f8-121ef84435ae"
      },
      "source": [
        "import pathlib\n",
        "import matplotlib.pyplot as plt\n",
        "import numpy as np\n",
        "import pandas as pd\n",
        "import tensorflow as tf\n",
        "from tensorflow import keras\n",
        "from tensorflow.keras import layers\n",
        "print(tf.__version__)\n",
        "import tensorflow_docs as tfdocs\n",
        "import tensorflow_docs.plots\n",
        "import tensorflow_docs.modeling\n",
        "# modelling\n",
        "from sklearn.linear_model import LinearRegression, Ridge, Lasso\n",
        "from sklearn import preprocessing\n",
        "from sklearn.model_selection import train_test_split\n",
        "from sklearn.ensemble import GradientBoostingRegressor\n",
        "\n",
        "#modeling metrics\n",
        "from sklearn import metrics"
      ],
      "execution_count": 130,
      "outputs": [
        {
          "output_type": "stream",
          "text": [
            "2.2.0\n"
          ],
          "name": "stdout"
        }
      ]
    },
    {
      "cell_type": "markdown",
      "metadata": {
        "id": "1p1pW4GyMKSo",
        "colab_type": "text"
      },
      "source": [
        "# Data Collection"
      ]
    },
    {
      "cell_type": "code",
      "metadata": {
        "id": "BtxjR9q40f6X",
        "colab_type": "code",
        "colab": {}
      },
      "source": [
        "# Import forex\n",
        "# Need to get the most recent dataset\n",
        "forex_dataset_data= pd.read_csv('GBP_USD.csv', na_values = \"?\", comment='\\t', skipinitialspace=True)\n",
        "forex_dataset = forex_dataset_data.copy()\n",
        "# forex_dataset = forex_dataset_data.dropna()\n",
        "# Filter dataset\n"
      ],
      "execution_count": 131,
      "outputs": []
    },
    {
      "cell_type": "code",
      "metadata": {
        "id": "OWvcgFdM0tPt",
        "colab_type": "code",
        "colab": {
          "base_uri": "https://localhost:8080/",
          "height": 34
        },
        "outputId": "0ef030cb-ae54-4c08-a6de-e4cd72c3b501"
      },
      "source": [
        "forex_dataset.shape"
      ],
      "execution_count": 132,
      "outputs": [
        {
          "output_type": "execute_result",
          "data": {
            "text/plain": [
              "(155, 6)"
            ]
          },
          "metadata": {
            "tags": []
          },
          "execution_count": 132
        }
      ]
    },
    {
      "cell_type": "code",
      "metadata": {
        "id": "7uGMTzdn0u4u",
        "colab_type": "code",
        "colab": {
          "base_uri": "https://localhost:8080/",
          "height": 204
        },
        "outputId": "f582288c-bedb-4503-b236-54420b41cc7a"
      },
      "source": [
        "forex_dataset.head() \n",
        "# head => starting from bottom\n",
        "# tail => starting from top"
      ],
      "execution_count": 133,
      "outputs": [
        {
          "output_type": "execute_result",
          "data": {
            "text/html": [
              "<div>\n",
              "<style scoped>\n",
              "    .dataframe tbody tr th:only-of-type {\n",
              "        vertical-align: middle;\n",
              "    }\n",
              "\n",
              "    .dataframe tbody tr th {\n",
              "        vertical-align: top;\n",
              "    }\n",
              "\n",
              "    .dataframe thead th {\n",
              "        text-align: right;\n",
              "    }\n",
              "</style>\n",
              "<table border=\"1\" class=\"dataframe\">\n",
              "  <thead>\n",
              "    <tr style=\"text-align: right;\">\n",
              "      <th></th>\n",
              "      <th>Date</th>\n",
              "      <th>Price</th>\n",
              "      <th>Open</th>\n",
              "      <th>High</th>\n",
              "      <th>Low</th>\n",
              "      <th>Change %</th>\n",
              "    </tr>\n",
              "  </thead>\n",
              "  <tbody>\n",
              "    <tr>\n",
              "      <th>0</th>\n",
              "      <td>Jul 03, 2020</td>\n",
              "      <td>1.2482</td>\n",
              "      <td>1.2466</td>\n",
              "      <td>1.2493</td>\n",
              "      <td>1.2439</td>\n",
              "      <td>0.12%</td>\n",
              "    </tr>\n",
              "    <tr>\n",
              "      <th>1</th>\n",
              "      <td>Jul 02, 2020</td>\n",
              "      <td>1.2467</td>\n",
              "      <td>1.2476</td>\n",
              "      <td>1.2531</td>\n",
              "      <td>1.2456</td>\n",
              "      <td>-0.05%</td>\n",
              "    </tr>\n",
              "    <tr>\n",
              "      <th>2</th>\n",
              "      <td>Jul 01, 2020</td>\n",
              "      <td>1.2474</td>\n",
              "      <td>1.2401</td>\n",
              "      <td>1.2492</td>\n",
              "      <td>1.2358</td>\n",
              "      <td>0.59%</td>\n",
              "    </tr>\n",
              "    <tr>\n",
              "      <th>3</th>\n",
              "      <td>Jun 30, 2020</td>\n",
              "      <td>1.2401</td>\n",
              "      <td>1.2298</td>\n",
              "      <td>1.2402</td>\n",
              "      <td>1.2257</td>\n",
              "      <td>0.83%</td>\n",
              "    </tr>\n",
              "    <tr>\n",
              "      <th>4</th>\n",
              "      <td>Jun 29, 2020</td>\n",
              "      <td>1.2299</td>\n",
              "      <td>1.2340</td>\n",
              "      <td>1.2391</td>\n",
              "      <td>1.2251</td>\n",
              "      <td>-0.30%</td>\n",
              "    </tr>\n",
              "  </tbody>\n",
              "</table>\n",
              "</div>"
            ],
            "text/plain": [
              "           Date   Price    Open    High     Low Change %\n",
              "0  Jul 03, 2020  1.2482  1.2466  1.2493  1.2439    0.12%\n",
              "1  Jul 02, 2020  1.2467  1.2476  1.2531  1.2456   -0.05%\n",
              "2  Jul 01, 2020  1.2474  1.2401  1.2492  1.2358    0.59%\n",
              "3  Jun 30, 2020  1.2401  1.2298  1.2402  1.2257    0.83%\n",
              "4  Jun 29, 2020  1.2299  1.2340  1.2391  1.2251   -0.30%"
            ]
          },
          "metadata": {
            "tags": []
          },
          "execution_count": 133
        }
      ]
    },
    {
      "cell_type": "code",
      "metadata": {
        "id": "l6e5Lxrs4viB",
        "colab_type": "code",
        "colab": {
          "base_uri": "https://localhost:8080/",
          "height": 348
        },
        "outputId": "bd4a5806-1e45-481b-bafd-dbd7e4993bba"
      },
      "source": [
        "forex_dataset[\"Open\"].plot()"
      ],
      "execution_count": 134,
      "outputs": [
        {
          "output_type": "execute_result",
          "data": {
            "text/plain": [
              "<matplotlib.axes._subplots.AxesSubplot at 0x7f8fcc950438>"
            ]
          },
          "metadata": {
            "tags": []
          },
          "execution_count": 134
        },
        {
          "output_type": "display_data",
          "data": {
            "image/png": "[encoded data removed]",
            "text/plain": [
              "<Figure size 1080x432 with 1 Axes>"
            ]
          },
          "metadata": {
            "tags": [],
            "needs_background": "light"
          }
        }
      ]
    },
    {
      "cell_type": "code",
      "metadata": {
        "id": "pXxW98ugCfaG",
        "colab_type": "code",
        "colab": {
          "base_uri": "https://localhost:8080/",
          "height": 34
        },
        "outputId": "284a0c59-f64f-461e-aa3e-b222e82b4c35"
      },
      "source": [
        "!pip install EIA_python"
      ],
      "execution_count": 135,
      "outputs": [
        {
          "output_type": "stream",
          "text": [
            "Requirement already satisfied: EIA_python in /usr/local/lib/python3.6/dist-packages (1.22)\n"
          ],
          "name": "stdout"
        }
      ]
    },
    {
      "cell_type": "code",
      "metadata": {
        "id": "c1pFG0nBCiER",
        "colab_type": "code",
        "colab": {
          "base_uri": "https://localhost:8080/",
          "height": 275
        },
        "outputId": "2de4c806-066a-49e2-ff01-bb2075a0842b"
      },
      "source": [
        "import eia\n",
        "import pandas as pd\n",
        "\n",
        "def retrieve_time_series(api, series_ID):\n",
        "    \"\"\"\n",
        "    Return the time series dataframe, based on API and unique Series ID\n",
        "    \"\"\"\n",
        "    #Retrieve Data By Series ID \n",
        "    series_search = api.data_by_series(series=series_ID)\n",
        "    ##Create a pandas dataframe from the retrieved time series\n",
        "    us_fuel_dataset = pd.DataFrame(series_search)\n",
        "    return us_fuel_dataset\n",
        "\n",
        "def main():\n",
        "    \"\"\"\n",
        "    Run main script\n",
        "    \"\"\"\n",
        "    #Create EIA API using your specific API key\n",
        "    api_key = \"a02f4b9f170de93fa421d806a4fdd23c\"\n",
        "    api = eia.API(api_key)\n",
        "    #Declare desired series ID\n",
        "    series_ID='PET.EMM_EPM0_PTE_NUS_DPG.W'\n",
        "    us_fuel_dataset=retrieve_time_series(api, series_ID)\n",
        "    #Print the returned dataframe us_fuel_dataset\n",
        "    print(us_fuel_dataset)\n",
        "    \n",
        "\n",
        "if __name__== \"__main__\":\n",
        "    main()\n"
      ],
      "execution_count": 136,
      "outputs": [
        {
          "output_type": "stream",
          "text": [
            "              U.S. All Grades All Formulations Retail Gasoline Prices, Weekly (Dollars per Gallon)\n",
            "1993 0405 05                                              1.068                                   \n",
            "1993 0412 12                                              1.079                                   \n",
            "1993 0419 19                                              1.079                                   \n",
            "1993 0426 26                                              1.086                                   \n",
            "1993 0503 03                                              1.086                                   \n",
            "...                                                         ...                                   \n",
            "2020 0622 22                                              2.216                                   \n",
            "2020 0629 29                                              2.260                                   \n",
            "2020 0706 06                                              2.265                                   \n",
            "2020 0713 13                                              2.283                                   \n",
            "2020 0720 20                                              2.275                                   \n",
            "\n",
            "[1425 rows x 1 columns]\n"
          ],
          "name": "stdout"
        }
      ]
    },
    {
      "cell_type": "code",
      "metadata": {
        "id": "tHRGer6LEHW3",
        "colab_type": "code",
        "colab": {
          "base_uri": "https://localhost:8080/",
          "height": 34
        },
        "outputId": "e6621799-6662-4163-cbf3-1b5076b229f0"
      },
      "source": [
        "# confused -> why is it giving me 06/07/20 when i have 20/07/20 up there ^\n",
        "us_fuel_dataset.shape"
      ],
      "execution_count": 137,
      "outputs": [
        {
          "output_type": "execute_result",
          "data": {
            "text/plain": [
              "(28, 1)"
            ]
          },
          "metadata": {
            "tags": []
          },
          "execution_count": 137
        }
      ]
    },
    {
      "cell_type": "code",
      "metadata": {
        "id": "Qvr71qX6I1Bg",
        "colab_type": "code",
        "colab": {
          "base_uri": "https://localhost:8080/",
          "height": 235
        },
        "outputId": "1b016a7a-e284-4ba1-cb8f-b62e7c3080a0"
      },
      "source": [
        "us_fuel_dataset.head() "
      ],
      "execution_count": 138,
      "outputs": [
        {
          "output_type": "execute_result",
          "data": {
            "text/html": [
              "<div>\n",
              "<style scoped>\n",
              "    .dataframe tbody tr th:only-of-type {\n",
              "        vertical-align: middle;\n",
              "    }\n",
              "\n",
              "    .dataframe tbody tr th {\n",
              "        vertical-align: top;\n",
              "    }\n",
              "\n",
              "    .dataframe thead th {\n",
              "        text-align: right;\n",
              "    }\n",
              "</style>\n",
              "<table border=\"1\" class=\"dataframe\">\n",
              "  <thead>\n",
              "    <tr style=\"text-align: right;\">\n",
              "      <th></th>\n",
              "      <th>dollars_per_gallon</th>\n",
              "    </tr>\n",
              "    <tr>\n",
              "      <th>week_of</th>\n",
              "      <th></th>\n",
              "    </tr>\n",
              "  </thead>\n",
              "  <tbody>\n",
              "    <tr>\n",
              "      <th>06/07/2020</th>\n",
              "      <td>2.265</td>\n",
              "    </tr>\n",
              "    <tr>\n",
              "      <th>29/06/2020</th>\n",
              "      <td>NaN</td>\n",
              "    </tr>\n",
              "    <tr>\n",
              "      <th>22/06/2020</th>\n",
              "      <td>2.216</td>\n",
              "    </tr>\n",
              "    <tr>\n",
              "      <th>15/06/2020</th>\n",
              "      <td>2.185</td>\n",
              "    </tr>\n",
              "    <tr>\n",
              "      <th>08/06/2020</th>\n",
              "      <td>2.123</td>\n",
              "    </tr>\n",
              "  </tbody>\n",
              "</table>\n",
              "</div>"
            ],
            "text/plain": [
              "            dollars_per_gallon\n",
              "week_of                       \n",
              "06/07/2020               2.265\n",
              "29/06/2020                 NaN\n",
              "22/06/2020               2.216\n",
              "15/06/2020               2.185\n",
              "08/06/2020               2.123"
            ]
          },
          "metadata": {
            "tags": []
          },
          "execution_count": 138
        }
      ]
    },
    {
      "cell_type": "code",
      "metadata": {
        "id": "HCB0_P7II9HR",
        "colab_type": "code",
        "colab": {
          "base_uri": "https://localhost:8080/",
          "height": 368
        },
        "outputId": "f97deaf3-3ff4-48f3-e97b-c4fcb683304b"
      },
      "source": [
        "us_fuel_dataset[\"dollars_per_gallon\"].plot()"
      ],
      "execution_count": 139,
      "outputs": [
        {
          "output_type": "execute_result",
          "data": {
            "text/plain": [
              "<matplotlib.axes._subplots.AxesSubplot at 0x7f8fcc8acf60>"
            ]
          },
          "metadata": {
            "tags": []
          },
          "execution_count": 139
        },
        {
          "output_type": "display_data",
          "data": {
            "image/png": "[encoded data removed]",
            "text/plain": [
              "<Figure size 1080x432 with 1 Axes>"
            ]
          },
          "metadata": {
            "tags": [],
            "needs_background": "light"
          }
        }
      ]
    },
    {
      "cell_type": "code",
      "metadata": {
        "id": "DrRfnJLMKbiF",
        "colab_type": "code",
        "colab": {}
      },
      "source": [
        "# filter the dates you want i.e.31.12.19 - 20.07.03\n",
        "# Be clear with dates so it doesnt update in the demo"
      ],
      "execution_count": 140,
      "outputs": []
    },
    {
      "cell_type": "markdown",
      "metadata": {
        "id": "FPIlGi7Y47Um",
        "colab_type": "text"
      },
      "source": [
        "# Data Preprocessing / Data Cleaning & Collating"
      ]
    },
    {
      "cell_type": "code",
      "metadata": {
        "id": "f_UViU9opJFE",
        "colab_type": "code",
        "colab": {}
      },
      "source": [
        "# us_fuel_dataset[\"dollars_per_gallon\"]"
      ],
      "execution_count": 152,
      "outputs": []
    },
    {
      "cell_type": "code",
      "metadata": {
        "id": "1hi9sElaqKXd",
        "colab_type": "code",
        "colab": {
          "base_uri": "https://localhost:8080/",
          "height": 527
        },
        "outputId": "110efe53-99a9-4240-8fda-f2e75353cd83"
      },
      "source": [
        "# Reset the index of dataframe\n",
        "modified_us_fuel = us_fuel_dataset.reset_index()\n",
        "print(\"Modified Dataframe : \")\n",
        "print(modified_us_fuel)"
      ],
      "execution_count": 157,
      "outputs": [
        {
          "output_type": "stream",
          "text": [
            "Modified Dataframe : \n",
            "       week_of  dollars_per_gallon\n",
            "0   06/07/2020               2.265\n",
            "1   29/06/2020                 NaN\n",
            "2   22/06/2020               2.216\n",
            "3   15/06/2020               2.185\n",
            "4   08/06/2020               2.123\n",
            "5   01/06/2020               2.064\n",
            "6   25/05/2020               2.049\n",
            "7   18/05/2020               1.969\n",
            "8   11/05/2020               1.941\n",
            "9   04/05/2020               1.883\n",
            "10  27/04/2020                 NaN\n",
            "11  20/04/2020                 NaN\n",
            "12  13/04/2020               1.951\n",
            "13  06/04/2020               2.022\n",
            "14  30/03/2020               2.103\n",
            "15  23/03/2020               2.217\n",
            "16  16/03/2020               2.343\n",
            "17  09/03/2020               2.468\n",
            "18  02/03/2020               2.514\n",
            "19  24/02/2020               2.555\n",
            "20  17/02/2020               2.518\n",
            "21  10/02/2020               2.511\n",
            "22  03/02/2020               2.546\n",
            "23  27/01/2020               2.595\n",
            "24  20/01/2020               2.625\n",
            "25  13/01/2020               2.657\n",
            "26  06/01/2020               2.665\n",
            "27  30/12/2019               2.658\n"
          ],
          "name": "stdout"
        }
      ]
    },
    {
      "cell_type": "code",
      "metadata": {
        "id": "Z-FL9UNH1Jgc",
        "colab_type": "code",
        "colab": {
          "base_uri": "https://localhost:8080/",
          "height": 595
        },
        "outputId": "54158aaa-03ea-436a-d21c-c740b94876ae"
      },
      "source": [
        "# Create a method that adds a new date to  us_fuel_dataset every week:\n",
        "# for every_week in us_fuel_dataset:\n",
        "#   create 6 new columns and rows under this row\n",
        "#   fill them with the values that is the date and fuel price\n",
        "# return new_us_fuel_date_dataframe"
      ],
      "execution_count": 164,
      "outputs": [
        {
          "output_type": "stream",
          "text": [
            "\n",
            "\n",
            "New row added to DataFrame\n",
            "--------------------------\n",
            "       week_of dollars_per_gallon\n",
            "0   06/07/2020              2.265\n",
            "1   29/06/2020                NaN\n",
            "2   22/06/2020              2.216\n",
            "3   15/06/2020              2.185\n",
            "4   08/06/2020              2.123\n",
            "5   01/06/2020              2.064\n",
            "6   25/05/2020              2.049\n",
            "7   18/05/2020              1.969\n",
            "8   11/05/2020              1.941\n",
            "9   04/05/2020              1.883\n",
            "10  27/04/2020                NaN\n",
            "11  20/04/2020                NaN\n",
            "12  13/04/2020              1.951\n",
            "13  06/04/2020              2.022\n",
            "14  30/03/2020              2.103\n",
            "15  23/03/2020              2.217\n",
            "16  16/03/2020              2.343\n",
            "17  09/03/2020              2.468\n",
            "18  02/03/2020              2.514\n",
            "19  24/02/2020              2.555\n",
            "20  17/02/2020              2.518\n",
            "21  10/02/2020              2.511\n",
            "22  03/02/2020              2.546\n",
            "23  27/01/2020              2.595\n",
            "24  20/01/2020              2.625\n",
            "25  13/01/2020              2.657\n",
            "26  06/01/2020              2.665\n",
            "27  30/12/2019              2.658\n",
            "28     new_day          new_price\n"
          ],
          "name": "stdout"
        }
      ]
    },
    {
      "cell_type": "code",
      "metadata": {
        "id": "dJg6PljoBys4",
        "colab_type": "code",
        "colab": {}
      },
      "source": [
        "#Able to insert at the end of dataframe\n",
        "\n",
        "#create dataframe\n",
        "df_marks = pd.DataFrame(modified_us_fuel)\n",
        "# print('Original DataFrame\\n------------------')\n",
        "# print(df_marks)\n",
        "\n",
        "new_row = {'week_of':'new_day','dollars_per_gallon':'new_price' }\n",
        "#append row to the dataframe\n",
        "df_marks = df_marks.append(new_row, ignore_index=True)\n",
        "\n",
        "print('\\n\\nNew row added to DataFrame\\n--------------------------')\n",
        "print(df_marks)"
      ],
      "execution_count": null,
      "outputs": []
    },
    {
      "cell_type": "code",
      "metadata": {
        "id": "FdGp6xYPsAJJ",
        "colab_type": "code",
        "colab": {
          "base_uri": "https://localhost:8080/",
          "height": 34
        },
        "outputId": "bbe26de5-92e3-4ed9-b8b5-55989b1db879"
      },
      "source": [
        "#modified_us_fuel.loc[-1] = ['06/07/2020', 2.265]  # adding a row\n",
        "#modified_us_fuel.index = modified_us_fuel.index + 1  # shifting index\n",
        "#modified_us_fuel = modified_us_fuel.sort_index()\n",
        "#modified_us_fuel\n",
        "\n",
        "price = modified_us_fuel['week_of'].values[0]\n",
        "print(price)"
      ],
      "execution_count": 185,
      "outputs": [
        {
          "output_type": "stream",
          "text": [
            "06/07/2020\n"
          ],
          "name": "stdout"
        }
      ]
    },
    {
      "cell_type": "code",
      "metadata": {
        "id": "bA9JPdH0ted6",
        "colab_type": "code",
        "colab": {
          "base_uri": "https://localhost:8080/",
          "height": 221
        },
        "outputId": "7990ecf3-ce85-4e81-ecff-3e2f7c6b295a"
      },
      "source": [
        "# need to change 2020-07-03 to fit closer to forex time \n",
        "# create a new table line up the prices with the new dates\n",
        "s = pd.date_range('2019-12-30', '2020-07-03', freq='D').to_series()\n",
        "s.dt.dayofweek"
      ],
      "execution_count": 183,
      "outputs": [
        {
          "output_type": "execute_result",
          "data": {
            "text/plain": [
              "2019-12-31    1\n",
              "2020-01-01    2\n",
              "2020-01-02    3\n",
              "2020-01-03    4\n",
              "2020-01-04    5\n",
              "             ..\n",
              "2020-06-29    0\n",
              "2020-06-30    1\n",
              "2020-07-01    2\n",
              "2020-07-02    3\n",
              "2020-07-03    4\n",
              "Freq: D, Length: 186, dtype: int64"
            ]
          },
          "metadata": {
            "tags": []
          },
          "execution_count": 183
        }
      ]
    },
    {
      "cell_type": "code",
      "metadata": {
        "id": "1by06juCJzCQ",
        "colab_type": "code",
        "colab": {
          "base_uri": "https://localhost:8080/",
          "height": 800
        },
        "outputId": "00ba2dc6-5880-49d4-f53a-93ca9e75c91b"
      },
      "source": [
        "# Isolate us_gas week_of collumn\n",
        "import time \n",
        "us_date = us_fuel_dataset['week_of']\n",
        "new_us_dates = [time.strptime(x.replace(\"-\",\" \"), '%d %m %Y')for x in us_date]\n",
        "us_fuel_dataset['week_of'] = new_us_dates\n",
        "us_death_rates.head()"
      ],
      "execution_count": 142,
      "outputs": [
        {
          "output_type": "error",
          "ename": "KeyError",
          "evalue": "ignored",
          "traceback": [
            "\u001b[0;31m---------------------------------------------------------------------------\u001b[0m",
            "\u001b[0;31mKeyError\u001b[0m                                  Traceback (most recent call last)",
            "\u001b[0;32m/usr/local/lib/python3.6/dist-packages/pandas/core/indexes/base.py\u001b[0m in \u001b[0;36mget_loc\u001b[0;34m(self, key, method, tolerance)\u001b[0m\n\u001b[1;32m   2645\u001b[0m             \u001b[0;32mtry\u001b[0m\u001b[0;34m:\u001b[0m\u001b[0;34m\u001b[0m\u001b[0;34m\u001b[0m\u001b[0m\n\u001b[0;32m-> 2646\u001b[0;31m                 \u001b[0;32mreturn\u001b[0m \u001b[0mself\u001b[0m\u001b[0;34m.\u001b[0m\u001b[0m_engine\u001b[0m\u001b[0;34m.\u001b[0m\u001b[0mget_loc\u001b[0m\u001b[0;34m(\u001b[0m\u001b[0mkey\u001b[0m\u001b[0;34m)\u001b[0m\u001b[0;34m\u001b[0m\u001b[0;34m\u001b[0m\u001b[0m\n\u001b[0m\u001b[1;32m   2647\u001b[0m             \u001b[0;32mexcept\u001b[0m \u001b[0mKeyError\u001b[0m\u001b[0;34m:\u001b[0m\u001b[0;34m\u001b[0m\u001b[0;34m\u001b[0m\u001b[0m\n",
            "\u001b[0;32mpandas/_libs/index.pyx\u001b[0m in \u001b[0;36mpandas._libs.index.IndexEngine.get_loc\u001b[0;34m()\u001b[0m\n",
            "\u001b[0;32mpandas/_libs/index.pyx\u001b[0m in \u001b[0;36mpandas._libs.index.IndexEngine.get_loc\u001b[0;34m()\u001b[0m\n",
            "\u001b[0;32mpandas/_libs/hashtable_class_helper.pxi\u001b[0m in \u001b[0;36mpandas._libs.hashtable.PyObjectHashTable.get_item\u001b[0;34m()\u001b[0m\n",
            "\u001b[0;32mpandas/_libs/hashtable_class_helper.pxi\u001b[0m in \u001b[0;36mpandas._libs.hashtable.PyObjectHashTable.get_item\u001b[0;34m()\u001b[0m\n",
            "\u001b[0;31mKeyError\u001b[0m: 'week_of'",
            "\nDuring handling of the above exception, another exception occurred:\n",
            "\u001b[0;31mKeyError\u001b[0m                                  Traceback (most recent call last)",
            "\u001b[0;32m<ipython-input-142-c62c4c46e0d4>\u001b[0m in \u001b[0;36m<module>\u001b[0;34m()\u001b[0m\n\u001b[1;32m      1\u001b[0m \u001b[0;31m# Isolate us_gas week_of collumn\u001b[0m\u001b[0;34m\u001b[0m\u001b[0;34m\u001b[0m\u001b[0;34m\u001b[0m\u001b[0m\n\u001b[1;32m      2\u001b[0m \u001b[0;32mimport\u001b[0m \u001b[0mtime\u001b[0m\u001b[0;34m\u001b[0m\u001b[0;34m\u001b[0m\u001b[0m\n\u001b[0;32m----> 3\u001b[0;31m \u001b[0mus_date\u001b[0m \u001b[0;34m=\u001b[0m \u001b[0mus_fuel_dataset\u001b[0m\u001b[0;34m[\u001b[0m\u001b[0;34m'week_of'\u001b[0m\u001b[0;34m]\u001b[0m\u001b[0;34m\u001b[0m\u001b[0;34m\u001b[0m\u001b[0m\n\u001b[0m\u001b[1;32m      4\u001b[0m \u001b[0mnew_us_dates\u001b[0m \u001b[0;34m=\u001b[0m \u001b[0;34m[\u001b[0m\u001b[0mtime\u001b[0m\u001b[0;34m.\u001b[0m\u001b[0mstrptime\u001b[0m\u001b[0;34m(\u001b[0m\u001b[0mx\u001b[0m\u001b[0;34m.\u001b[0m\u001b[0mreplace\u001b[0m\u001b[0;34m(\u001b[0m\u001b[0;34m\"-\"\u001b[0m\u001b[0;34m,\u001b[0m\u001b[0;34m\" \"\u001b[0m\u001b[0;34m)\u001b[0m\u001b[0;34m,\u001b[0m \u001b[0;34m'%Y %m %d'\u001b[0m\u001b[0;34m)\u001b[0m\u001b[0;32mfor\u001b[0m \u001b[0mx\u001b[0m \u001b[0;32min\u001b[0m \u001b[0mus_date\u001b[0m\u001b[0;34m]\u001b[0m\u001b[0;34m\u001b[0m\u001b[0;34m\u001b[0m\u001b[0m\n\u001b[1;32m      5\u001b[0m \u001b[0mus_fuel_dataset\u001b[0m\u001b[0;34m[\u001b[0m\u001b[0;34m'week_of'\u001b[0m\u001b[0;34m]\u001b[0m \u001b[0;34m=\u001b[0m \u001b[0mnew_us_dates\u001b[0m\u001b[0;34m\u001b[0m\u001b[0;34m\u001b[0m\u001b[0m\n",
            "\u001b[0;32m/usr/local/lib/python3.6/dist-packages/pandas/core/frame.py\u001b[0m in \u001b[0;36m__getitem__\u001b[0;34m(self, key)\u001b[0m\n\u001b[1;32m   2798\u001b[0m             \u001b[0;32mif\u001b[0m \u001b[0mself\u001b[0m\u001b[0;34m.\u001b[0m\u001b[0mcolumns\u001b[0m\u001b[0;34m.\u001b[0m\u001b[0mnlevels\u001b[0m \u001b[0;34m>\u001b[0m \u001b[0;36m1\u001b[0m\u001b[0;34m:\u001b[0m\u001b[0;34m\u001b[0m\u001b[0;34m\u001b[0m\u001b[0m\n\u001b[1;32m   2799\u001b[0m                 \u001b[0;32mreturn\u001b[0m \u001b[0mself\u001b[0m\u001b[0;34m.\u001b[0m\u001b[0m_getitem_multilevel\u001b[0m\u001b[0;34m(\u001b[0m\u001b[0mkey\u001b[0m\u001b[0;34m)\u001b[0m\u001b[0;34m\u001b[0m\u001b[0;34m\u001b[0m\u001b[0m\n\u001b[0;32m-> 2800\u001b[0;31m             \u001b[0mindexer\u001b[0m \u001b[0;34m=\u001b[0m \u001b[0mself\u001b[0m\u001b[0;34m.\u001b[0m\u001b[0mcolumns\u001b[0m\u001b[0;34m.\u001b[0m\u001b[0mget_loc\u001b[0m\u001b[0;34m(\u001b[0m\u001b[0mkey\u001b[0m\u001b[0;34m)\u001b[0m\u001b[0;34m\u001b[0m\u001b[0;34m\u001b[0m\u001b[0m\n\u001b[0m\u001b[1;32m   2801\u001b[0m             \u001b[0;32mif\u001b[0m \u001b[0mis_integer\u001b[0m\u001b[0;34m(\u001b[0m\u001b[0mindexer\u001b[0m\u001b[0;34m)\u001b[0m\u001b[0;34m:\u001b[0m\u001b[0;34m\u001b[0m\u001b[0;34m\u001b[0m\u001b[0m\n\u001b[1;32m   2802\u001b[0m                 \u001b[0mindexer\u001b[0m \u001b[0;34m=\u001b[0m \u001b[0;34m[\u001b[0m\u001b[0mindexer\u001b[0m\u001b[0;34m]\u001b[0m\u001b[0;34m\u001b[0m\u001b[0;34m\u001b[0m\u001b[0m\n",
            "\u001b[0;32m/usr/local/lib/python3.6/dist-packages/pandas/core/indexes/base.py\u001b[0m in \u001b[0;36mget_loc\u001b[0;34m(self, key, method, tolerance)\u001b[0m\n\u001b[1;32m   2646\u001b[0m                 \u001b[0;32mreturn\u001b[0m \u001b[0mself\u001b[0m\u001b[0;34m.\u001b[0m\u001b[0m_engine\u001b[0m\u001b[0;34m.\u001b[0m\u001b[0mget_loc\u001b[0m\u001b[0;34m(\u001b[0m\u001b[0mkey\u001b[0m\u001b[0;34m)\u001b[0m\u001b[0;34m\u001b[0m\u001b[0;34m\u001b[0m\u001b[0m\n\u001b[1;32m   2647\u001b[0m             \u001b[0;32mexcept\u001b[0m \u001b[0mKeyError\u001b[0m\u001b[0;34m:\u001b[0m\u001b[0;34m\u001b[0m\u001b[0;34m\u001b[0m\u001b[0m\n\u001b[0;32m-> 2648\u001b[0;31m                 \u001b[0;32mreturn\u001b[0m \u001b[0mself\u001b[0m\u001b[0;34m.\u001b[0m\u001b[0m_engine\u001b[0m\u001b[0;34m.\u001b[0m\u001b[0mget_loc\u001b[0m\u001b[0;34m(\u001b[0m\u001b[0mself\u001b[0m\u001b[0;34m.\u001b[0m\u001b[0m_maybe_cast_indexer\u001b[0m\u001b[0;34m(\u001b[0m\u001b[0mkey\u001b[0m\u001b[0;34m)\u001b[0m\u001b[0;34m)\u001b[0m\u001b[0;34m\u001b[0m\u001b[0;34m\u001b[0m\u001b[0m\n\u001b[0m\u001b[1;32m   2649\u001b[0m         \u001b[0mindexer\u001b[0m \u001b[0;34m=\u001b[0m \u001b[0mself\u001b[0m\u001b[0;34m.\u001b[0m\u001b[0mget_indexer\u001b[0m\u001b[0;34m(\u001b[0m\u001b[0;34m[\u001b[0m\u001b[0mkey\u001b[0m\u001b[0;34m]\u001b[0m\u001b[0;34m,\u001b[0m \u001b[0mmethod\u001b[0m\u001b[0;34m=\u001b[0m\u001b[0mmethod\u001b[0m\u001b[0;34m,\u001b[0m \u001b[0mtolerance\u001b[0m\u001b[0;34m=\u001b[0m\u001b[0mtolerance\u001b[0m\u001b[0;34m)\u001b[0m\u001b[0;34m\u001b[0m\u001b[0;34m\u001b[0m\u001b[0m\n\u001b[1;32m   2650\u001b[0m         \u001b[0;32mif\u001b[0m \u001b[0mindexer\u001b[0m\u001b[0;34m.\u001b[0m\u001b[0mndim\u001b[0m \u001b[0;34m>\u001b[0m \u001b[0;36m1\u001b[0m \u001b[0;32mor\u001b[0m \u001b[0mindexer\u001b[0m\u001b[0;34m.\u001b[0m\u001b[0msize\u001b[0m \u001b[0;34m>\u001b[0m \u001b[0;36m1\u001b[0m\u001b[0;34m:\u001b[0m\u001b[0;34m\u001b[0m\u001b[0;34m\u001b[0m\u001b[0m\n",
            "\u001b[0;32mpandas/_libs/index.pyx\u001b[0m in \u001b[0;36mpandas._libs.index.IndexEngine.get_loc\u001b[0;34m()\u001b[0m\n",
            "\u001b[0;32mpandas/_libs/index.pyx\u001b[0m in \u001b[0;36mpandas._libs.index.IndexEngine.get_loc\u001b[0;34m()\u001b[0m\n",
            "\u001b[0;32mpandas/_libs/hashtable_class_helper.pxi\u001b[0m in \u001b[0;36mpandas._libs.hashtable.PyObjectHashTable.get_item\u001b[0;34m()\u001b[0m\n",
            "\u001b[0;32mpandas/_libs/hashtable_class_helper.pxi\u001b[0m in \u001b[0;36mpandas._libs.hashtable.PyObjectHashTable.get_item\u001b[0;34m()\u001b[0m\n",
            "\u001b[0;31mKeyError\u001b[0m: 'week_of'"
          ]
        }
      ]
    },
    {
      "cell_type": "code",
      "metadata": {
        "id": "dsH-rS3TKAkM",
        "colab_type": "code",
        "colab": {}
      },
      "source": [
        "# Isolate forex_date\n",
        "import time \n",
        "forex_date = forex_dataset['Date']\n",
        "new_forex_dates = [time.strptime(x.replace(',', \"\"), '%b %d %Y')for x in forex_date]\n",
        "forex_dataset['Date'] = new_forex_dates\n",
        "forex_dataset.tail()"
      ],
      "execution_count": null,
      "outputs": []
    },
    {
      "cell_type": "code",
      "metadata": {
        "id": "dsaMny34KUC-",
        "colab_type": "code",
        "colab": {}
      },
      "source": [
        "print(len(forex_dataset))\n",
        "print(len(us_fuel_dataset))"
      ],
      "execution_count": null,
      "outputs": []
    },
    {
      "cell_type": "code",
      "metadata": {
        "id": "Cj_NckoAKrNC",
        "colab_type": "code",
        "colab": {}
      },
      "source": [
        "# Merging dates from two tables\n",
        "dataset = pd.merge(left=forex_dataset, left_on='Date',\n",
        "         right=us_death_rates, right_on='week_of')\n",
        "dataset.tail()\n",
        "len(dataset)"
      ],
      "execution_count": null,
      "outputs": []
    },
    {
      "cell_type": "code",
      "metadata": {
        "id": "UYkHLvFfK09E",
        "colab_type": "code",
        "colab": {}
      },
      "source": [
        "dataset.tail()"
      ],
      "execution_count": null,
      "outputs": []
    },
    {
      "cell_type": "markdown",
      "metadata": {
        "id": "gX_Z2YefK_b3",
        "colab_type": "text"
      },
      "source": [
        "# Sample Features - Go Over\n"
      ]
    },
    {
      "cell_type": "code",
      "metadata": {
        "id": "leiEwMP21QLr",
        "colab_type": "code",
        "colab": {}
      },
      "source": [
        "# Look back last 4 days\n",
        "# X variables/ features that we care about\n",
        "# Y variable/ output/ what we want to predict\n",
        "window_size=12\n",
        "num_samples=len(forex_dataset)-window_size\n",
        "\n",
        "# Get indices of access for the data\n",
        "indices=np.arange(num_samples).astype(np.int)[:,None]+np.arange(window_size+1).astype(np.int)\n",
        "\n",
        "data = forex_dataset[\"Open\"].values[indices] # Create the 2D matrix of training samples\n",
        "x = data[:,:-1] # Each row represents 12 days in the past\n",
        "y = data[:,-1] # Each output value represents the 13rd day"
      ],
      "execution_count": null,
      "outputs": []
    },
    {
      "cell_type": "code",
      "metadata": {
        "id": "i4ZlMrW05oMb",
        "colab_type": "code",
        "colab": {}
      },
      "source": [
        "# not data frame anymore now it is a list\n",
        "# forex_dataset.head() of it\n",
        "x"
      ],
      "execution_count": null,
      "outputs": []
    },
    {
      "cell_type": "code",
      "metadata": {
        "id": "ELSLqRer6OhX",
        "colab_type": "code",
        "colab": {}
      },
      "source": [
        "y"
      ],
      "execution_count": null,
      "outputs": []
    },
    {
      "cell_type": "code",
      "metadata": {
        "id": "1HTBkWlE1yp5",
        "colab_type": "code",
        "colab": {}
      },
      "source": [
        "# 80% of my data\n",
        "split_fraction=0.8\n",
        "ind_split=int(split_fraction*num_samples)"
      ],
      "execution_count": null,
      "outputs": []
    },
    {
      "cell_type": "code",
      "metadata": {
        "id": "-6sVH_Bx1zw3",
        "colab_type": "code",
        "colab": {}
      },
      "source": [
        "# x features and y features\n",
        "# test and train\n",
        "x_train = x[:ind_split]\n",
        "y_train = y[:ind_split]\n",
        "x_test = x[ind_split:]\n",
        "y_test = y[ind_split:]"
      ],
      "execution_count": null,
      "outputs": []
    },
    {
      "cell_type": "code",
      "metadata": {
        "id": "dPXizeXk11xY",
        "colab_type": "code",
        "colab": {}
      },
      "source": [
        "x_train.shape, x_test.shape"
      ],
      "execution_count": null,
      "outputs": []
    },
    {
      "cell_type": "code",
      "metadata": {
        "id": "r2J7iiG06vyF",
        "colab_type": "code",
        "colab": {}
      },
      "source": [
        "y_train.shape, y_test.shape"
      ],
      "execution_count": null,
      "outputs": []
    },
    {
      "cell_type": "markdown",
      "metadata": {
        "id": "KRk3b4DV13r1",
        "colab_type": "text"
      },
      "source": [
        "# Modelling"
      ]
    },
    {
      "cell_type": "code",
      "metadata": {
        "id": "PI4q811O16Ky",
        "colab_type": "code",
        "colab": {}
      },
      "source": [
        "# Help Functions\n",
        "# Need to consider the trade offs between the models you use\n",
        "def get_performance (model_pred):\n",
        "  #Function returns standard performance metrics\n",
        "  print('Mean Absolute Error:', metrics.mean_absolute_error(y_test, model_pred).round(4))  \n",
        "  print('Mean Squared Error:', metrics.mean_squared_error(y_test, model_pred).round(4))  \n",
        "  print('Root Mean Squared Error:', np.sqrt(metrics.mean_squared_error(y_test, model_pred)).round(4))\n",
        "  \n",
        "  \n",
        "  \n",
        "def get_plot (model_pred):\n",
        "  plt.scatter(model_pred, y_test, color=\"gray\")\n",
        "  plt.plot(y_test, y_test, color='red', linewidth=2)"
      ],
      "execution_count": null,
      "outputs": []
    },
    {
      "cell_type": "markdown",
      "metadata": {
        "id": "FYoFtFd_2AfY",
        "colab_type": "text"
      },
      "source": [
        "# Baseline"
      ]
    },
    {
      "cell_type": "code",
      "metadata": {
        "id": "sLHsHgTQ2DGn",
        "colab_type": "code",
        "colab": {}
      },
      "source": [
        "# let your prediction be the most recent observation\n",
        "# looking at the one day previous \n",
        "# np.roll-> similar to shift for a dataframe\n",
        "y_pred_lag=np.roll(y_test,1)"
      ],
      "execution_count": null,
      "outputs": []
    },
    {
      "cell_type": "code",
      "metadata": {
        "id": "4Ir4-LloDb4P",
        "colab_type": "code",
        "colab": {}
      },
      "source": [
        "# np.roll(y,1)"
      ],
      "execution_count": null,
      "outputs": []
    },
    {
      "cell_type": "code",
      "metadata": {
        "id": "_r_TITKw2Edb",
        "colab_type": "code",
        "colab": {}
      },
      "source": [
        "# any has to be better than this\n",
        "# performance reltive to that very simlpe approach\n",
        "get_performance(y_pred_lag)"
      ],
      "execution_count": null,
      "outputs": []
    },
    {
      "cell_type": "code",
      "metadata": {
        "id": "2N_n_4PL2Gbo",
        "colab_type": "code",
        "colab": {}
      },
      "source": [
        "# red line is the perfect prediction\n",
        "get_plot(y_pred_lag)"
      ],
      "execution_count": null,
      "outputs": []
    },
    {
      "cell_type": "markdown",
      "metadata": {
        "id": "RLVFl_uE2HOy",
        "colab_type": "text"
      },
      "source": [
        "# Linear Regression"
      ]
    },
    {
      "cell_type": "code",
      "metadata": {
        "id": "3Jh_KT032JJF",
        "colab_type": "code",
        "colab": {}
      },
      "source": [
        "# assigning the linear regression model\n",
        "model_lr=LinearRegression()\n",
        "# fitting the linear regression model to xtrain, xytrain\n",
        "model_lr.fit(x_train, y_train)"
      ],
      "execution_count": null,
      "outputs": []
    },
    {
      "cell_type": "code",
      "metadata": {
        "id": "p6wX8YGA_Bt0",
        "colab_type": "code",
        "colab": {}
      },
      "source": [
        "#help\n",
        "# ?model_lr.fit()"
      ],
      "execution_count": null,
      "outputs": []
    },
    {
      "cell_type": "code",
      "metadata": {
        "id": "55kM7Tmt2Kxx",
        "colab_type": "code",
        "colab": {}
      },
      "source": [
        "# x variable and predict the y \n",
        "y_pred_lr=model_lr.predict(x_test)"
      ],
      "execution_count": null,
      "outputs": []
    },
    {
      "cell_type": "code",
      "metadata": {
        "id": "q7RBFFWg2MNM",
        "colab_type": "code",
        "colab": {}
      },
      "source": [
        "# check how they compare to the baseline\n",
        "# not a big difference at all only in root mean\n",
        "# not great\n",
        "get_performance(y_pred_lr)"
      ],
      "execution_count": null,
      "outputs": []
    },
    {
      "cell_type": "code",
      "metadata": {
        "id": "1GCELg5O2NR4",
        "colab_type": "code",
        "colab": {}
      },
      "source": [
        "get_plot(y_pred_lr)"
      ],
      "execution_count": null,
      "outputs": []
    },
    {
      "cell_type": "code",
      "metadata": {
        "id": "RuzwJ5xc2QPd",
        "colab_type": "code",
        "colab": {}
      },
      "source": [
        "get_performance(y_pred_lr)"
      ],
      "execution_count": null,
      "outputs": []
    },
    {
      "cell_type": "code",
      "metadata": {
        "id": "W3Vait_pBccT",
        "colab_type": "code",
        "colab": {}
      },
      "source": [
        "# this should list our 12 co-efficients for all of our variables\n",
        "# most recent day: 1.18024445\n",
        "# as you can see other values are - and small, this is why the baseline \n",
        "# is so good because the previous day is the msot important value\n",
        "# change is marginal\n",
        "# only focus on the the last one\n",
        "# problem: only print the last output\n",
        "model_lr.coef_"
      ],
      "execution_count": null,
      "outputs": []
    },
    {
      "cell_type": "markdown",
      "metadata": {
        "id": "Tm4d5DFB2OUa",
        "colab_type": "text"
      },
      "source": [
        "# Method #1- Ridge Regression"
      ]
    },
    {
      "cell_type": "code",
      "metadata": {
        "id": "hmgrOw2a2T7s",
        "colab_type": "code",
        "colab": {}
      },
      "source": [
        "model_ridge = Ridge()\n",
        "model_ridge.fit(x_train, y_train)\n",
        "\n",
        "#generate predictions\n",
        "y_pred_ridge=model_ridge.predict(x_test)"
      ],
      "execution_count": null,
      "outputs": []
    },
    {
      "cell_type": "code",
      "metadata": {
        "id": "PJkjfnWs2VUR",
        "colab_type": "code",
        "colab": {}
      },
      "source": [
        "# look at difference in baseline and ridge regression\n",
        "# trying to figure out which one of the features is the most prominent\n",
        "get_performance(y_pred_ridge)"
      ],
      "execution_count": null,
      "outputs": []
    },
    {
      "cell_type": "code",
      "metadata": {
        "id": "rrRlsFSv2Wl3",
        "colab_type": "code",
        "colab": {}
      },
      "source": [
        "get_plot(y_pred_ridge)"
      ],
      "execution_count": null,
      "outputs": []
    },
    {
      "cell_type": "code",
      "metadata": {
        "id": "xUa-kWfwAo3E",
        "colab_type": "code",
        "colab": {}
      },
      "source": [
        "# this should list our 12 co-efficients for all of our variables\n",
        "# most recent day: 0.09432427\n",
        "# change is marginal\n",
        "# only focus on the the last one\n",
        "# problem: only print the last output\n",
        "# limit the number of days your looking back\n",
        "# what is the trend: higher/lower?\n",
        "# keep same features but apply different features\n",
        "# k folds cross validation? in terms of splitting the data\n",
        "model_ridge.coef_"
      ],
      "execution_count": null,
      "outputs": []
    },
    {
      "cell_type": "markdown",
      "metadata": {
        "id": "Z0m3Q47Y2Y9t",
        "colab_type": "text"
      },
      "source": [
        "# Gradient Boosting Trees"
      ]
    },
    {
      "cell_type": "code",
      "metadata": {
        "id": "JbwyJMpR2aKT",
        "colab_type": "code",
        "colab": {}
      },
      "source": [
        "# Model #2 - Gradient Boosting Trees\n",
        "# not linear, tree based\n",
        "model_gb = GradientBoostingRegressor()\n",
        "model_gb.fit(x_train, y_train)\n",
        "\n",
        "# Infer\n",
        "y_pred_gb = model_gb.predict(x_test)"
      ],
      "execution_count": null,
      "outputs": []
    },
    {
      "cell_type": "code",
      "metadata": {
        "id": "nTghilU72bjZ",
        "colab_type": "code",
        "colab": {}
      },
      "source": [
        "get_performance(y_pred_gb)"
      ],
      "execution_count": null,
      "outputs": []
    },
    {
      "cell_type": "code",
      "metadata": {
        "id": "o4vFtlSl2d5C",
        "colab_type": "code",
        "colab": {}
      },
      "source": [
        "# Why cant I print dates on the bottom of my graph?\n",
        "from datetime import datetime, timedelta\n",
        "from matplotlib import pyplot as plt\n",
        "from matplotlib import dates as mpl_dates\n",
        "plt.style.use('seaborn')\n",
        "from matplotlib import rcParams\n",
        "rcParams['figure.figsize'] = 15,6\n",
        "\n",
        "get_plot(y_pred_gb)\n",
        "# plt.plot(y_pred_gb)\n",
        "plt.title('Gradient Boosting Model of US & USD/GBP')\n",
        "plt.xlabel('Date')\n",
        "plt.ylabel('Price')\n",
        "# dates = np.array(dateFormatting['Date'])\n",
        "# plt.plot_date(dates,y_pred_gb, linestyle ='solid')"
      ],
      "execution_count": null,
      "outputs": []
    },
    {
      "cell_type": "markdown",
      "metadata": {
        "id": "-Mu3mNPs2fPA",
        "colab_type": "text"
      },
      "source": [
        "# Comparison"
      ]
    },
    {
      "cell_type": "code",
      "metadata": {
        "id": "TGewSgao2gh4",
        "colab_type": "code",
        "colab": {}
      },
      "source": [
        "# absolute -> only have positives\n",
        "df_comp=pd.DataFrame({\"lag\":np.absolute(y_test-y_pred_lag), \n",
        "              \"lr\":np.absolute(y_test-y_pred_lr), \n",
        "              \"ridge\":np.absolute(y_test-y_pred_ridge),\n",
        "              \"gb\":np.absolute(y_test-y_pred_gb)})"
      ],
      "execution_count": null,
      "outputs": []
    },
    {
      "cell_type": "code",
      "metadata": {
        "id": "d91Ux-I6C9bZ",
        "colab_type": "code",
        "colab": {}
      },
      "source": [
        "df_comp.head()"
      ],
      "execution_count": null,
      "outputs": []
    },
    {
      "cell_type": "code",
      "metadata": {
        "id": "Gn5BAsRqDI_g",
        "colab_type": "code",
        "colab": {}
      },
      "source": [
        "# go over again 51:22\n",
        "y_pred_lag"
      ],
      "execution_count": null,
      "outputs": []
    },
    {
      "cell_type": "code",
      "metadata": {
        "id": "Vw-2wFox2iEd",
        "colab_type": "code",
        "colab": {}
      },
      "source": [
        "#\n",
        "df_comp.plot.bar(figsize=(16, 6))\n",
        "# show me days 0 to 10\n",
        "plt.xlim(11,20)\n",
        "# unsure why this line doesnt work\n",
        "# plt.ylim(0,10)"
      ],
      "execution_count": null,
      "outputs": []
    },
    {
      "cell_type": "markdown",
      "metadata": {
        "id": "Amdw7fOJEroX",
        "colab_type": "text"
      },
      "source": [
        "# Conclusion and next steps\n",
        "\n",
        "Explored 4 different algorithms, ranging from simple to complex:\n",
        "\n",
        "\n",
        "*   Lag (Previous day's price)\n",
        "*   Linear Regression \n",
        "*   Ridge Regression\n",
        "*   Gradient Boosting Trees\n",
        "\n",
        "In conclusion it seems that Linear Regression gives us the best performance with the least complexity. Next steps might include adding additional features such as trend and recent volatility (go over).\n",
        "\n",
        "\n"
      ]
    }
  ]
}