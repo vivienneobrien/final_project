{
  "nbformat": 4,
  "nbformat_minor": 0,
  "metadata": {
    "colab": {
      "name": "linear_regression_model.ipynb",
      "provenance": [],
      "collapsed_sections": [],
      "toc_visible": true
    },
    "kernelspec": {
      "name": "python3",
      "display_name": "Python 3"
    }
  },
  "cells": [
    {
      "cell_type": "code",
      "metadata": {
        "id": "6E-vJVfPLddW",
        "colab_type": "code",
        "colab": {}
      },
      "source": [
        "# Notes for user:\n",
        "# This notebook will use the US gasoline price API dataset and forex to predict the forex spot price of a currency pair.\n",
        "# What to ask user before using this application:\n",
        "# What currency pair are you interested in? USD/GBP (This layout means that the base currency is USD)\n",
        "# The currency the user wants to look at is how much the USD is worth to the GBP.\n",
        "# Therefore, we look at the price of gasoline of the US and the UK.\n",
        "# So far all that is inputted is the forex price so we can understand the model\n",
        "# We will need to organise US gasoline price dataset."
      ],
      "execution_count": 111,
      "outputs": []
    },
    {
      "cell_type": "code",
      "metadata": {
        "id": "P4D3PBSILe56",
        "colab_type": "code",
        "colab": {
          "base_uri": "https://localhost:8080/",
          "height": 292
        },
        "outputId": "913a5021-c6e3-4d15-9d29-9f7aa937ef18"
      },
      "source": [
        "!pip install git+https://github.com/tensorflow/docs"
      ],
      "execution_count": 112,
      "outputs": [
        {
          "output_type": "stream",
          "text": [
            "Collecting git+https://github.com/tensorflow/docs\n",
            "  Cloning https://github.com/tensorflow/docs to /tmp/pip-req-build-9nmo059n\n",
            "  Running command git clone -q https://github.com/tensorflow/docs /tmp/pip-req-build-9nmo059n\n",
            "Requirement already satisfied (use --upgrade to upgrade): tensorflow-docs===0.0.028e526366a3d3620adc3c375287ab71cf412bac8- from git+https://github.com/tensorflow/docs in /usr/local/lib/python3.6/dist-packages\n",
            "Requirement already satisfied: astor in /usr/local/lib/python3.6/dist-packages (from tensorflow-docs===0.0.028e526366a3d3620adc3c375287ab71cf412bac8-) (0.8.1)\n",
            "Requirement already satisfied: absl-py in /usr/local/lib/python3.6/dist-packages (from tensorflow-docs===0.0.028e526366a3d3620adc3c375287ab71cf412bac8-) (0.9.0)\n",
            "Requirement already satisfied: protobuf in /usr/local/lib/python3.6/dist-packages (from tensorflow-docs===0.0.028e526366a3d3620adc3c375287ab71cf412bac8-) (3.12.2)\n",
            "Requirement already satisfied: pyyaml in /usr/local/lib/python3.6/dist-packages (from tensorflow-docs===0.0.028e526366a3d3620adc3c375287ab71cf412bac8-) (3.13)\n",
            "Requirement already satisfied: six in /usr/local/lib/python3.6/dist-packages (from absl-py->tensorflow-docs===0.0.028e526366a3d3620adc3c375287ab71cf412bac8-) (1.15.0)\n",
            "Requirement already satisfied: setuptools in /usr/local/lib/python3.6/dist-packages (from protobuf->tensorflow-docs===0.0.028e526366a3d3620adc3c375287ab71cf412bac8-) (49.1.0)\n",
            "Building wheels for collected packages: tensorflow-docs\n",
            "  Building wheel for tensorflow-docs (setup.py) ... \u001b[?25l\u001b[?25hdone\n",
            "  Created wheel for tensorflow-docs: filename=tensorflow_docs-0.0.028e526366a3d3620adc3c375287ab71cf412bac8_-cp36-none-any.whl size=124955 sha256=43c2cbfa36c1c3bc8e927ca637ac413a5042e102ca5a56beaf5481fbab7dea33\n",
            "  Stored in directory: /tmp/pip-ephem-wheel-cache-8is1vpi4/wheels/eb/1b/35/fce87697be00d2fc63e0b4b395b0d9c7e391a10e98d9a0d97f\n",
            "Successfully built tensorflow-docs\n"
          ],
          "name": "stdout"
        }
      ]
    },
    {
      "cell_type": "code",
      "metadata": {
        "id": "I5kOTYIa0Y5b",
        "colab_type": "code",
        "colab": {
          "base_uri": "https://localhost:8080/",
          "height": 34
        },
        "outputId": "66ea70b4-0f95-4a6b-bbf0-00c41633d475"
      },
      "source": [
        "import pathlib\n",
        "import matplotlib.pyplot as plt\n",
        "import numpy as np\n",
        "import pandas as pd\n",
        "import tensorflow as tf\n",
        "from tensorflow import keras\n",
        "from tensorflow.keras import layers\n",
        "print(tf.__version__)\n",
        "import tensorflow_docs as tfdocs\n",
        "import tensorflow_docs.plots\n",
        "import tensorflow_docs.modeling\n",
        "# modelling\n",
        "from sklearn.linear_model import LinearRegression, Ridge, Lasso\n",
        "from sklearn import preprocessing\n",
        "from sklearn.model_selection import train_test_split\n",
        "from sklearn.ensemble import GradientBoostingRegressor\n",
        "\n",
        "#modeling metrics\n",
        "from sklearn import metrics"
      ],
      "execution_count": 113,
      "outputs": [
        {
          "output_type": "stream",
          "text": [
            "2.2.0\n"
          ],
          "name": "stdout"
        }
      ]
    },
    {
      "cell_type": "markdown",
      "metadata": {
        "id": "1p1pW4GyMKSo",
        "colab_type": "text"
      },
      "source": [
        "# Data Collection"
      ]
    },
    {
      "cell_type": "code",
      "metadata": {
        "id": "BtxjR9q40f6X",
        "colab_type": "code",
        "colab": {}
      },
      "source": [
        "# Import forex\n",
        "# Need to get the most recent dataset\n",
        "forex_dataset_data= pd.read_csv('GBP_USD.csv', na_values = \"?\", comment='\\t', skipinitialspace=True)\n",
        "forex_dataset = forex_dataset_data.copy()\n",
        "# forex_dataset = forex_dataset_data.dropna()\n",
        "# Filter dataset\n"
      ],
      "execution_count": 114,
      "outputs": []
    },
    {
      "cell_type": "code",
      "metadata": {
        "id": "OWvcgFdM0tPt",
        "colab_type": "code",
        "colab": {
          "base_uri": "https://localhost:8080/",
          "height": 34
        },
        "outputId": "1f3e600d-41e8-43fc-d6c5-3ed576709a0d"
      },
      "source": [
        "forex_dataset.shape"
      ],
      "execution_count": 115,
      "outputs": [
        {
          "output_type": "execute_result",
          "data": {
            "text/plain": [
              "(155, 6)"
            ]
          },
          "metadata": {
            "tags": []
          },
          "execution_count": 115
        }
      ]
    },
    {
      "cell_type": "code",
      "metadata": {
        "id": "7uGMTzdn0u4u",
        "colab_type": "code",
        "colab": {
          "base_uri": "https://localhost:8080/",
          "height": 204
        },
        "outputId": "34ba69e7-375a-4f56-d2cd-f72cd80612db"
      },
      "source": [
        "forex_dataset.head() \n",
        "# head => starting from bottom\n",
        "# tail => starting from top"
      ],
      "execution_count": 116,
      "outputs": [
        {
          "output_type": "execute_result",
          "data": {
            "text/html": [
              "<div>\n",
              "<style scoped>\n",
              "    .dataframe tbody tr th:only-of-type {\n",
              "        vertical-align: middle;\n",
              "    }\n",
              "\n",
              "    .dataframe tbody tr th {\n",
              "        vertical-align: top;\n",
              "    }\n",
              "\n",
              "    .dataframe thead th {\n",
              "        text-align: right;\n",
              "    }\n",
              "</style>\n",
              "<table border=\"1\" class=\"dataframe\">\n",
              "  <thead>\n",
              "    <tr style=\"text-align: right;\">\n",
              "      <th></th>\n",
              "      <th>Date</th>\n",
              "      <th>Price</th>\n",
              "      <th>Open</th>\n",
              "      <th>High</th>\n",
              "      <th>Low</th>\n",
              "      <th>Change %</th>\n",
              "    </tr>\n",
              "  </thead>\n",
              "  <tbody>\n",
              "    <tr>\n",
              "      <th>0</th>\n",
              "      <td>Jul 03, 2020</td>\n",
              "      <td>1.2482</td>\n",
              "      <td>1.2466</td>\n",
              "      <td>1.2493</td>\n",
              "      <td>1.2439</td>\n",
              "      <td>0.12%</td>\n",
              "    </tr>\n",
              "    <tr>\n",
              "      <th>1</th>\n",
              "      <td>Jul 02, 2020</td>\n",
              "      <td>1.2467</td>\n",
              "      <td>1.2476</td>\n",
              "      <td>1.2531</td>\n",
              "      <td>1.2456</td>\n",
              "      <td>-0.05%</td>\n",
              "    </tr>\n",
              "    <tr>\n",
              "      <th>2</th>\n",
              "      <td>Jul 01, 2020</td>\n",
              "      <td>1.2474</td>\n",
              "      <td>1.2401</td>\n",
              "      <td>1.2492</td>\n",
              "      <td>1.2358</td>\n",
              "      <td>0.59%</td>\n",
              "    </tr>\n",
              "    <tr>\n",
              "      <th>3</th>\n",
              "      <td>Jun 30, 2020</td>\n",
              "      <td>1.2401</td>\n",
              "      <td>1.2298</td>\n",
              "      <td>1.2402</td>\n",
              "      <td>1.2257</td>\n",
              "      <td>0.83%</td>\n",
              "    </tr>\n",
              "    <tr>\n",
              "      <th>4</th>\n",
              "      <td>Jun 29, 2020</td>\n",
              "      <td>1.2299</td>\n",
              "      <td>1.2340</td>\n",
              "      <td>1.2391</td>\n",
              "      <td>1.2251</td>\n",
              "      <td>-0.30%</td>\n",
              "    </tr>\n",
              "  </tbody>\n",
              "</table>\n",
              "</div>"
            ],
            "text/plain": [
              "           Date   Price    Open    High     Low Change %\n",
              "0  Jul 03, 2020  1.2482  1.2466  1.2493  1.2439    0.12%\n",
              "1  Jul 02, 2020  1.2467  1.2476  1.2531  1.2456   -0.05%\n",
              "2  Jul 01, 2020  1.2474  1.2401  1.2492  1.2358    0.59%\n",
              "3  Jun 30, 2020  1.2401  1.2298  1.2402  1.2257    0.83%\n",
              "4  Jun 29, 2020  1.2299  1.2340  1.2391  1.2251   -0.30%"
            ]
          },
          "metadata": {
            "tags": []
          },
          "execution_count": 116
        }
      ]
    },
    {
      "cell_type": "code",
      "metadata": {
        "id": "pXxW98ugCfaG",
        "colab_type": "code",
        "colab": {
          "base_uri": "https://localhost:8080/",
          "height": 34
        },
        "outputId": "a4eeddbb-5294-45cc-de4a-58601e0df496"
      },
      "source": [
        "!pip install EIA_python"
      ],
      "execution_count": 117,
      "outputs": [
        {
          "output_type": "stream",
          "text": [
            "Requirement already satisfied: EIA_python in /usr/local/lib/python3.6/dist-packages (1.22)\n"
          ],
          "name": "stdout"
        }
      ]
    },
    {
      "cell_type": "code",
      "metadata": {
        "id": "tHRGer6LEHW3",
        "colab_type": "code",
        "colab": {}
      },
      "source": [
        "import eia\n",
        "import pandas as pd\n",
        "\n",
        "def retrieve_time_series(api, series_ID):\n",
        "    \"\"\"\n",
        "    Return the time series dataframe, based on API and unique Series ID\n",
        "    \"\"\"\n",
        "    #Retrieve Data By Series ID \n",
        "    series_search = api.data_by_series(series=series_ID)\n",
        "    ##Create a pandas dataframe from the retrieved time series\n",
        "    data = series_search['U.S. All Grades All Formulations Retail Gasoline Prices, Weekly (Dollars per Gallon)']\n",
        "    us_fuel_dataset = pd.DataFrame(list(data.items()), columns=[\"date\", \"price\"])\n",
        "    return us_fuel_dataset\n",
        "\n",
        "def get_us_fuel_dataset():\n",
        "    #Create EIA API using your specific API key\n",
        "    api_key = \"a02f4b9f170de93fa421d806a4fdd23c\"\n",
        "    api = eia.API(api_key)\n",
        "    #Declare desired series ID\n",
        "    series_ID='PET.EMM_EPM0_PTE_NUS_DPG.W'\n",
        "    us_fuel_dataset=retrieve_time_series(api, series_ID)\n",
        "    return us_fuel_dataset"
      ],
      "execution_count": 118,
      "outputs": []
    },
    {
      "cell_type": "code",
      "metadata": {
        "id": "Qvr71qX6I1Bg",
        "colab_type": "code",
        "colab": {
          "base_uri": "https://localhost:8080/",
          "height": 235
        },
        "outputId": "45ba94fa-a95d-4ac5-e326-14f4034191cb"
      },
      "source": [
        "us_fuel_dataset.head() "
      ],
      "execution_count": 119,
      "outputs": [
        {
          "output_type": "execute_result",
          "data": {
            "text/html": [
              "<div>\n",
              "<style scoped>\n",
              "    .dataframe tbody tr th:only-of-type {\n",
              "        vertical-align: middle;\n",
              "    }\n",
              "\n",
              "    .dataframe tbody tr th {\n",
              "        vertical-align: top;\n",
              "    }\n",
              "\n",
              "    .dataframe thead th {\n",
              "        text-align: right;\n",
              "    }\n",
              "</style>\n",
              "<table border=\"1\" class=\"dataframe\">\n",
              "  <thead>\n",
              "    <tr style=\"text-align: right;\">\n",
              "      <th></th>\n",
              "      <th>price</th>\n",
              "      <th>date</th>\n",
              "      <th>week</th>\n",
              "    </tr>\n",
              "    <tr>\n",
              "      <th>date</th>\n",
              "      <th></th>\n",
              "      <th></th>\n",
              "      <th></th>\n",
              "    </tr>\n",
              "  </thead>\n",
              "  <tbody>\n",
              "    <tr>\n",
              "      <th>2020-07-20</th>\n",
              "      <td>2.275</td>\n",
              "      <td>2020-07-20</td>\n",
              "      <td>2020-07-20/2020-07-26</td>\n",
              "    </tr>\n",
              "    <tr>\n",
              "      <th>2020-07-13</th>\n",
              "      <td>2.283</td>\n",
              "      <td>2020-07-13</td>\n",
              "      <td>2020-07-13/2020-07-19</td>\n",
              "    </tr>\n",
              "    <tr>\n",
              "      <th>2020-07-06</th>\n",
              "      <td>2.265</td>\n",
              "      <td>2020-07-06</td>\n",
              "      <td>2020-07-06/2020-07-12</td>\n",
              "    </tr>\n",
              "    <tr>\n",
              "      <th>2020-06-29</th>\n",
              "      <td>2.260</td>\n",
              "      <td>2020-06-29</td>\n",
              "      <td>2020-06-29/2020-07-05</td>\n",
              "    </tr>\n",
              "    <tr>\n",
              "      <th>2020-06-22</th>\n",
              "      <td>2.216</td>\n",
              "      <td>2020-06-22</td>\n",
              "      <td>2020-06-22/2020-06-28</td>\n",
              "    </tr>\n",
              "  </tbody>\n",
              "</table>\n",
              "</div>"
            ],
            "text/plain": [
              "            price       date                   week\n",
              "date                                               \n",
              "2020-07-20  2.275 2020-07-20  2020-07-20/2020-07-26\n",
              "2020-07-13  2.283 2020-07-13  2020-07-13/2020-07-19\n",
              "2020-07-06  2.265 2020-07-06  2020-07-06/2020-07-12\n",
              "2020-06-29  2.260 2020-06-29  2020-06-29/2020-07-05\n",
              "2020-06-22  2.216 2020-06-22  2020-06-22/2020-06-28"
            ]
          },
          "metadata": {
            "tags": []
          },
          "execution_count": 119
        }
      ]
    },
    {
      "cell_type": "code",
      "metadata": {
        "id": "HBkFszTu3ip9",
        "colab_type": "code",
        "colab": {
          "base_uri": "https://localhost:8080/",
          "height": 34
        },
        "outputId": "498b9158-3bc7-4dcd-b577-67b738b78745"
      },
      "source": [
        "us_fuel_dataset = get_us_fuel_dataset()\n",
        "us_fuel_dataset.shape"
      ],
      "execution_count": 120,
      "outputs": [
        {
          "output_type": "execute_result",
          "data": {
            "text/plain": [
              "(1425, 2)"
            ]
          },
          "metadata": {
            "tags": []
          },
          "execution_count": 120
        }
      ]
    },
    {
      "cell_type": "code",
      "metadata": {
        "id": "DrRfnJLMKbiF",
        "colab_type": "code",
        "colab": {
          "base_uri": "https://localhost:8080/",
          "height": 204
        },
        "outputId": "07c8b819-b345-4e27-cdf3-d33e0a994506"
      },
      "source": [
        "us_fuel_dataset.head()"
      ],
      "execution_count": 121,
      "outputs": [
        {
          "output_type": "execute_result",
          "data": {
            "text/html": [
              "<div>\n",
              "<style scoped>\n",
              "    .dataframe tbody tr th:only-of-type {\n",
              "        vertical-align: middle;\n",
              "    }\n",
              "\n",
              "    .dataframe tbody tr th {\n",
              "        vertical-align: top;\n",
              "    }\n",
              "\n",
              "    .dataframe thead th {\n",
              "        text-align: right;\n",
              "    }\n",
              "</style>\n",
              "<table border=\"1\" class=\"dataframe\">\n",
              "  <thead>\n",
              "    <tr style=\"text-align: right;\">\n",
              "      <th></th>\n",
              "      <th>date</th>\n",
              "      <th>price</th>\n",
              "    </tr>\n",
              "  </thead>\n",
              "  <tbody>\n",
              "    <tr>\n",
              "      <th>0</th>\n",
              "      <td>2020 0720 20</td>\n",
              "      <td>2.275</td>\n",
              "    </tr>\n",
              "    <tr>\n",
              "      <th>1</th>\n",
              "      <td>2020 0713 13</td>\n",
              "      <td>2.283</td>\n",
              "    </tr>\n",
              "    <tr>\n",
              "      <th>2</th>\n",
              "      <td>2020 0706 06</td>\n",
              "      <td>2.265</td>\n",
              "    </tr>\n",
              "    <tr>\n",
              "      <th>3</th>\n",
              "      <td>2020 0629 29</td>\n",
              "      <td>2.260</td>\n",
              "    </tr>\n",
              "    <tr>\n",
              "      <th>4</th>\n",
              "      <td>2020 0622 22</td>\n",
              "      <td>2.216</td>\n",
              "    </tr>\n",
              "  </tbody>\n",
              "</table>\n",
              "</div>"
            ],
            "text/plain": [
              "           date  price\n",
              "0  2020 0720 20  2.275\n",
              "1  2020 0713 13  2.283\n",
              "2  2020 0706 06  2.265\n",
              "3  2020 0629 29  2.260\n",
              "4  2020 0622 22  2.216"
            ]
          },
          "metadata": {
            "tags": []
          },
          "execution_count": 121
        }
      ]
    },
    {
      "cell_type": "markdown",
      "metadata": {
        "id": "FPIlGi7Y47Um",
        "colab_type": "text"
      },
      "source": [
        "# Data Preprocessing / Data Cleaning & Collating"
      ]
    },
    {
      "cell_type": "code",
      "metadata": {
        "id": "f_UViU9opJFE",
        "colab_type": "code",
        "colab": {}
      },
      "source": [
        "# Create Time series and price columns\n",
        "# First convert string type to datetime type for pandas series \"date\"\n",
        "# Then convert price to numeric type\n",
        "us_fuel_dataset['date'] = us_fuel_dataset['date'].apply(lambda x: pd.to_datetime(str(x.strip().replace(\" \", \"\")[0:8]), format='%Y%m%d'))\n",
        "us_fuel_dataset['price'] = pd.to_numeric(us_fuel_dataset['price'])\n",
        "forex_dataset[\"Date\"] = pd.to_datetime(forex_dataset[\"Date\"])"
      ],
      "execution_count": 122,
      "outputs": []
    },
    {
      "cell_type": "code",
      "metadata": {
        "id": "1hi9sElaqKXd",
        "colab_type": "code",
        "colab": {
          "base_uri": "https://localhost:8080/",
          "height": 68
        },
        "outputId": "e50cdc07-8060-4b00-f9e2-c16e82589129"
      },
      "source": [
        "# Our columns are converted correctly\n",
        "us_fuel_dataset.dtypes\n"
      ],
      "execution_count": 123,
      "outputs": [
        {
          "output_type": "execute_result",
          "data": {
            "text/plain": [
              "date     datetime64[ns]\n",
              "price           float64\n",
              "dtype: object"
            ]
          },
          "metadata": {
            "tags": []
          },
          "execution_count": 123
        }
      ]
    },
    {
      "cell_type": "code",
      "metadata": {
        "id": "-7SmIdyehaYJ",
        "colab_type": "code",
        "colab": {
          "base_uri": "https://localhost:8080/",
          "height": 136
        },
        "outputId": "979f340b-ed93-4151-8e4f-777a1c15d484"
      },
      "source": [
        "forex_dataset.dtypes"
      ],
      "execution_count": 124,
      "outputs": [
        {
          "output_type": "execute_result",
          "data": {
            "text/plain": [
              "Date        datetime64[ns]\n",
              "Price              float64\n",
              "Open               float64\n",
              "High               float64\n",
              "Low                float64\n",
              "Change %            object\n",
              "dtype: object"
            ]
          },
          "metadata": {
            "tags": []
          },
          "execution_count": 124
        }
      ]
    },
    {
      "cell_type": "code",
      "metadata": {
        "id": "4wgQQegwi5xI",
        "colab_type": "code",
        "colab": {
          "base_uri": "https://localhost:8080/",
          "height": 390
        },
        "outputId": "3768a0fa-2751-41fa-9c6e-9041ed15c906"
      },
      "source": [
        "us_fuel_dataset[\"price\"].plot()"
      ],
      "execution_count": 125,
      "outputs": [
        {
          "output_type": "execute_result",
          "data": {
            "text/plain": [
              "<matplotlib.axes._subplots.AxesSubplot at 0x7f279c8f5e80>"
            ]
          },
          "metadata": {
            "tags": []
          },
          "execution_count": 125
        },
        {
          "output_type": "display_data",
          "data": {
            "image/png": "[encoded data removed]",
            "text/plain": [
              "<Figure size 1080x432 with 1 Axes>"
            ]
          },
          "metadata": {
            "tags": []
          }
        }
      ]
    },
    {
      "cell_type": "code",
      "metadata": {
        "id": "Z-FL9UNH1Jgc",
        "colab_type": "code",
        "colab": {}
      },
      "source": [
        "forex_dataset.set_index(\"Date\", inplace=True)\n",
        "us_fuel_dataset.set_index(\"date\", inplace=True)\n",
        "forex_dataset[\"date\"] = forex_dataset.index\n",
        "us_fuel_dataset[\"date\"] = us_fuel_dataset.index"
      ],
      "execution_count": 126,
      "outputs": []
    },
    {
      "cell_type": "code",
      "metadata": {
        "id": "dJg6PljoBys4",
        "colab_type": "code",
        "colab": {}
      },
      "source": [
        "us_fuel_dataset[\"week\"] = us_fuel_dataset.index.to_period('W')\n",
        "forex_dataset[\"week\"] = forex_dataset.index.to_period('W')"
      ],
      "execution_count": 127,
      "outputs": []
    },
    {
      "cell_type": "code",
      "metadata": {
        "id": "FdGp6xYPsAJJ",
        "colab_type": "code",
        "colab": {
          "base_uri": "https://localhost:8080/",
          "height": 545
        },
        "outputId": "74250676-8942-4d01-e55b-2a80c107ca8a"
      },
      "source": [
        "forex_dataset.head(15)"
      ],
      "execution_count": 128,
      "outputs": [
        {
          "output_type": "execute_result",
          "data": {
            "text/html": [
              "<div>\n",
              "<style scoped>\n",
              "    .dataframe tbody tr th:only-of-type {\n",
              "        vertical-align: middle;\n",
              "    }\n",
              "\n",
              "    .dataframe tbody tr th {\n",
              "        vertical-align: top;\n",
              "    }\n",
              "\n",
              "    .dataframe thead th {\n",
              "        text-align: right;\n",
              "    }\n",
              "</style>\n",
              "<table border=\"1\" class=\"dataframe\">\n",
              "  <thead>\n",
              "    <tr style=\"text-align: right;\">\n",
              "      <th></th>\n",
              "      <th>Price</th>\n",
              "      <th>Open</th>\n",
              "      <th>High</th>\n",
              "      <th>Low</th>\n",
              "      <th>Change %</th>\n",
              "      <th>date</th>\n",
              "      <th>week</th>\n",
              "    </tr>\n",
              "    <tr>\n",
              "      <th>Date</th>\n",
              "      <th></th>\n",
              "      <th></th>\n",
              "      <th></th>\n",
              "      <th></th>\n",
              "      <th></th>\n",
              "      <th></th>\n",
              "      <th></th>\n",
              "    </tr>\n",
              "  </thead>\n",
              "  <tbody>\n",
              "    <tr>\n",
              "      <th>2020-07-03</th>\n",
              "      <td>1.2482</td>\n",
              "      <td>1.2466</td>\n",
              "      <td>1.2493</td>\n",
              "      <td>1.2439</td>\n",
              "      <td>0.12%</td>\n",
              "      <td>2020-07-03</td>\n",
              "      <td>2020-06-29/2020-07-05</td>\n",
              "    </tr>\n",
              "    <tr>\n",
              "      <th>2020-07-02</th>\n",
              "      <td>1.2467</td>\n",
              "      <td>1.2476</td>\n",
              "      <td>1.2531</td>\n",
              "      <td>1.2456</td>\n",
              "      <td>-0.05%</td>\n",
              "      <td>2020-07-02</td>\n",
              "      <td>2020-06-29/2020-07-05</td>\n",
              "    </tr>\n",
              "    <tr>\n",
              "      <th>2020-07-01</th>\n",
              "      <td>1.2474</td>\n",
              "      <td>1.2401</td>\n",
              "      <td>1.2492</td>\n",
              "      <td>1.2358</td>\n",
              "      <td>0.59%</td>\n",
              "      <td>2020-07-01</td>\n",
              "      <td>2020-06-29/2020-07-05</td>\n",
              "    </tr>\n",
              "    <tr>\n",
              "      <th>2020-06-30</th>\n",
              "      <td>1.2401</td>\n",
              "      <td>1.2298</td>\n",
              "      <td>1.2402</td>\n",
              "      <td>1.2257</td>\n",
              "      <td>0.83%</td>\n",
              "      <td>2020-06-30</td>\n",
              "      <td>2020-06-29/2020-07-05</td>\n",
              "    </tr>\n",
              "    <tr>\n",
              "      <th>2020-06-29</th>\n",
              "      <td>1.2299</td>\n",
              "      <td>1.2340</td>\n",
              "      <td>1.2391</td>\n",
              "      <td>1.2251</td>\n",
              "      <td>-0.30%</td>\n",
              "      <td>2020-06-29</td>\n",
              "      <td>2020-06-29/2020-07-05</td>\n",
              "    </tr>\n",
              "    <tr>\n",
              "      <th>2020-06-26</th>\n",
              "      <td>1.2335</td>\n",
              "      <td>1.2421</td>\n",
              "      <td>1.2438</td>\n",
              "      <td>1.2313</td>\n",
              "      <td>-0.66%</td>\n",
              "      <td>2020-06-26</td>\n",
              "      <td>2020-06-22/2020-06-28</td>\n",
              "    </tr>\n",
              "    <tr>\n",
              "      <th>2020-06-25</th>\n",
              "      <td>1.2418</td>\n",
              "      <td>1.2419</td>\n",
              "      <td>1.2465</td>\n",
              "      <td>1.2388</td>\n",
              "      <td>-0.02%</td>\n",
              "      <td>2020-06-25</td>\n",
              "      <td>2020-06-22/2020-06-28</td>\n",
              "    </tr>\n",
              "    <tr>\n",
              "      <th>2020-06-24</th>\n",
              "      <td>1.2420</td>\n",
              "      <td>1.2521</td>\n",
              "      <td>1.2543</td>\n",
              "      <td>1.2414</td>\n",
              "      <td>-0.79%</td>\n",
              "      <td>2020-06-24</td>\n",
              "      <td>2020-06-22/2020-06-28</td>\n",
              "    </tr>\n",
              "    <tr>\n",
              "      <th>2020-06-23</th>\n",
              "      <td>1.2520</td>\n",
              "      <td>1.2467</td>\n",
              "      <td>1.2533</td>\n",
              "      <td>1.2431</td>\n",
              "      <td>0.45%</td>\n",
              "      <td>2020-06-23</td>\n",
              "      <td>2020-06-22/2020-06-28</td>\n",
              "    </tr>\n",
              "    <tr>\n",
              "      <th>2020-06-22</th>\n",
              "      <td>1.2463</td>\n",
              "      <td>1.2356</td>\n",
              "      <td>1.2478</td>\n",
              "      <td>1.2335</td>\n",
              "      <td>0.85%</td>\n",
              "      <td>2020-06-22</td>\n",
              "      <td>2020-06-22/2020-06-28</td>\n",
              "    </tr>\n",
              "    <tr>\n",
              "      <th>2020-06-19</th>\n",
              "      <td>1.2358</td>\n",
              "      <td>1.2421</td>\n",
              "      <td>1.2457</td>\n",
              "      <td>1.2343</td>\n",
              "      <td>-0.55%</td>\n",
              "      <td>2020-06-19</td>\n",
              "      <td>2020-06-15/2020-06-21</td>\n",
              "    </tr>\n",
              "    <tr>\n",
              "      <th>2020-06-18</th>\n",
              "      <td>1.2426</td>\n",
              "      <td>1.2556</td>\n",
              "      <td>1.2568</td>\n",
              "      <td>1.2401</td>\n",
              "      <td>-1.04%</td>\n",
              "      <td>2020-06-18</td>\n",
              "      <td>2020-06-15/2020-06-21</td>\n",
              "    </tr>\n",
              "    <tr>\n",
              "      <th>2020-06-17</th>\n",
              "      <td>1.2557</td>\n",
              "      <td>1.2573</td>\n",
              "      <td>1.2589</td>\n",
              "      <td>1.2510</td>\n",
              "      <td>-0.16%</td>\n",
              "      <td>2020-06-17</td>\n",
              "      <td>2020-06-15/2020-06-21</td>\n",
              "    </tr>\n",
              "    <tr>\n",
              "      <th>2020-06-16</th>\n",
              "      <td>1.2577</td>\n",
              "      <td>1.2605</td>\n",
              "      <td>1.2688</td>\n",
              "      <td>1.2553</td>\n",
              "      <td>-0.21%</td>\n",
              "      <td>2020-06-16</td>\n",
              "      <td>2020-06-15/2020-06-21</td>\n",
              "    </tr>\n",
              "    <tr>\n",
              "      <th>2020-06-15</th>\n",
              "      <td>1.2604</td>\n",
              "      <td>1.2531</td>\n",
              "      <td>1.2608</td>\n",
              "      <td>1.2454</td>\n",
              "      <td>0.50%</td>\n",
              "      <td>2020-06-15</td>\n",
              "      <td>2020-06-15/2020-06-21</td>\n",
              "    </tr>\n",
              "  </tbody>\n",
              "</table>\n",
              "</div>"
            ],
            "text/plain": [
              "             Price    Open    High  ...  Change %       date                   week\n",
              "Date                                ...                                            \n",
              "2020-07-03  1.2482  1.2466  1.2493  ...     0.12% 2020-07-03  2020-06-29/2020-07-05\n",
              "2020-07-02  1.2467  1.2476  1.2531  ...    -0.05% 2020-07-02  2020-06-29/2020-07-05\n",
              "2020-07-01  1.2474  1.2401  1.2492  ...     0.59% 2020-07-01  2020-06-29/2020-07-05\n",
              "2020-06-30  1.2401  1.2298  1.2402  ...     0.83% 2020-06-30  2020-06-29/2020-07-05\n",
              "2020-06-29  1.2299  1.2340  1.2391  ...    -0.30% 2020-06-29  2020-06-29/2020-07-05\n",
              "2020-06-26  1.2335  1.2421  1.2438  ...    -0.66% 2020-06-26  2020-06-22/2020-06-28\n",
              "2020-06-25  1.2418  1.2419  1.2465  ...    -0.02% 2020-06-25  2020-06-22/2020-06-28\n",
              "2020-06-24  1.2420  1.2521  1.2543  ...    -0.79% 2020-06-24  2020-06-22/2020-06-28\n",
              "2020-06-23  1.2520  1.2467  1.2533  ...     0.45% 2020-06-23  2020-06-22/2020-06-28\n",
              "2020-06-22  1.2463  1.2356  1.2478  ...     0.85% 2020-06-22  2020-06-22/2020-06-28\n",
              "2020-06-19  1.2358  1.2421  1.2457  ...    -0.55% 2020-06-19  2020-06-15/2020-06-21\n",
              "2020-06-18  1.2426  1.2556  1.2568  ...    -1.04% 2020-06-18  2020-06-15/2020-06-21\n",
              "2020-06-17  1.2557  1.2573  1.2589  ...    -0.16% 2020-06-17  2020-06-15/2020-06-21\n",
              "2020-06-16  1.2577  1.2605  1.2688  ...    -0.21% 2020-06-16  2020-06-15/2020-06-21\n",
              "2020-06-15  1.2604  1.2531  1.2608  ...     0.50% 2020-06-15  2020-06-15/2020-06-21\n",
              "\n",
              "[15 rows x 7 columns]"
            ]
          },
          "metadata": {
            "tags": []
          },
          "execution_count": 128
        }
      ]
    },
    {
      "cell_type": "code",
      "metadata": {
        "id": "bA9JPdH0ted6",
        "colab_type": "code",
        "colab": {}
      },
      "source": [
        "dataset = pd.merge(\n",
        "    forex_dataset,\n",
        "    us_fuel_dataset,\n",
        "    left_on=\"week\",\n",
        "    right_on=\"week\",\n",
        "    how=\"left\"\n",
        ")"
      ],
      "execution_count": 129,
      "outputs": []
    },
    {
      "cell_type": "code",
      "metadata": {
        "id": "1by06juCJzCQ",
        "colab_type": "code",
        "colab": {
          "base_uri": "https://localhost:8080/",
          "height": 359
        },
        "outputId": "50d8eee5-a6be-4dd0-bfba-5278997d536d"
      },
      "source": [
        "dataset.head(10)"
      ],
      "execution_count": 130,
      "outputs": [
        {
          "output_type": "execute_result",
          "data": {
            "text/html": [
              "<div>\n",
              "<style scoped>\n",
              "    .dataframe tbody tr th:only-of-type {\n",
              "        vertical-align: middle;\n",
              "    }\n",
              "\n",
              "    .dataframe tbody tr th {\n",
              "        vertical-align: top;\n",
              "    }\n",
              "\n",
              "    .dataframe thead th {\n",
              "        text-align: right;\n",
              "    }\n",
              "</style>\n",
              "<table border=\"1\" class=\"dataframe\">\n",
              "  <thead>\n",
              "    <tr style=\"text-align: right;\">\n",
              "      <th></th>\n",
              "      <th>Price</th>\n",
              "      <th>Open</th>\n",
              "      <th>High</th>\n",
              "      <th>Low</th>\n",
              "      <th>Change %</th>\n",
              "      <th>date_x</th>\n",
              "      <th>week</th>\n",
              "      <th>price</th>\n",
              "      <th>date_y</th>\n",
              "    </tr>\n",
              "  </thead>\n",
              "  <tbody>\n",
              "    <tr>\n",
              "      <th>0</th>\n",
              "      <td>1.2482</td>\n",
              "      <td>1.2466</td>\n",
              "      <td>1.2493</td>\n",
              "      <td>1.2439</td>\n",
              "      <td>0.12%</td>\n",
              "      <td>2020-07-03</td>\n",
              "      <td>2020-06-29/2020-07-05</td>\n",
              "      <td>2.260</td>\n",
              "      <td>2020-06-29</td>\n",
              "    </tr>\n",
              "    <tr>\n",
              "      <th>1</th>\n",
              "      <td>1.2467</td>\n",
              "      <td>1.2476</td>\n",
              "      <td>1.2531</td>\n",
              "      <td>1.2456</td>\n",
              "      <td>-0.05%</td>\n",
              "      <td>2020-07-02</td>\n",
              "      <td>2020-06-29/2020-07-05</td>\n",
              "      <td>2.260</td>\n",
              "      <td>2020-06-29</td>\n",
              "    </tr>\n",
              "    <tr>\n",
              "      <th>2</th>\n",
              "      <td>1.2474</td>\n",
              "      <td>1.2401</td>\n",
              "      <td>1.2492</td>\n",
              "      <td>1.2358</td>\n",
              "      <td>0.59%</td>\n",
              "      <td>2020-07-01</td>\n",
              "      <td>2020-06-29/2020-07-05</td>\n",
              "      <td>2.260</td>\n",
              "      <td>2020-06-29</td>\n",
              "    </tr>\n",
              "    <tr>\n",
              "      <th>3</th>\n",
              "      <td>1.2401</td>\n",
              "      <td>1.2298</td>\n",
              "      <td>1.2402</td>\n",
              "      <td>1.2257</td>\n",
              "      <td>0.83%</td>\n",
              "      <td>2020-06-30</td>\n",
              "      <td>2020-06-29/2020-07-05</td>\n",
              "      <td>2.260</td>\n",
              "      <td>2020-06-29</td>\n",
              "    </tr>\n",
              "    <tr>\n",
              "      <th>4</th>\n",
              "      <td>1.2299</td>\n",
              "      <td>1.2340</td>\n",
              "      <td>1.2391</td>\n",
              "      <td>1.2251</td>\n",
              "      <td>-0.30%</td>\n",
              "      <td>2020-06-29</td>\n",
              "      <td>2020-06-29/2020-07-05</td>\n",
              "      <td>2.260</td>\n",
              "      <td>2020-06-29</td>\n",
              "    </tr>\n",
              "    <tr>\n",
              "      <th>5</th>\n",
              "      <td>1.2335</td>\n",
              "      <td>1.2421</td>\n",
              "      <td>1.2438</td>\n",
              "      <td>1.2313</td>\n",
              "      <td>-0.66%</td>\n",
              "      <td>2020-06-26</td>\n",
              "      <td>2020-06-22/2020-06-28</td>\n",
              "      <td>2.216</td>\n",
              "      <td>2020-06-22</td>\n",
              "    </tr>\n",
              "    <tr>\n",
              "      <th>6</th>\n",
              "      <td>1.2418</td>\n",
              "      <td>1.2419</td>\n",
              "      <td>1.2465</td>\n",
              "      <td>1.2388</td>\n",
              "      <td>-0.02%</td>\n",
              "      <td>2020-06-25</td>\n",
              "      <td>2020-06-22/2020-06-28</td>\n",
              "      <td>2.216</td>\n",
              "      <td>2020-06-22</td>\n",
              "    </tr>\n",
              "    <tr>\n",
              "      <th>7</th>\n",
              "      <td>1.2420</td>\n",
              "      <td>1.2521</td>\n",
              "      <td>1.2543</td>\n",
              "      <td>1.2414</td>\n",
              "      <td>-0.79%</td>\n",
              "      <td>2020-06-24</td>\n",
              "      <td>2020-06-22/2020-06-28</td>\n",
              "      <td>2.216</td>\n",
              "      <td>2020-06-22</td>\n",
              "    </tr>\n",
              "    <tr>\n",
              "      <th>8</th>\n",
              "      <td>1.2520</td>\n",
              "      <td>1.2467</td>\n",
              "      <td>1.2533</td>\n",
              "      <td>1.2431</td>\n",
              "      <td>0.45%</td>\n",
              "      <td>2020-06-23</td>\n",
              "      <td>2020-06-22/2020-06-28</td>\n",
              "      <td>2.216</td>\n",
              "      <td>2020-06-22</td>\n",
              "    </tr>\n",
              "    <tr>\n",
              "      <th>9</th>\n",
              "      <td>1.2463</td>\n",
              "      <td>1.2356</td>\n",
              "      <td>1.2478</td>\n",
              "      <td>1.2335</td>\n",
              "      <td>0.85%</td>\n",
              "      <td>2020-06-22</td>\n",
              "      <td>2020-06-22/2020-06-28</td>\n",
              "      <td>2.216</td>\n",
              "      <td>2020-06-22</td>\n",
              "    </tr>\n",
              "  </tbody>\n",
              "</table>\n",
              "</div>"
            ],
            "text/plain": [
              "    Price    Open    High  ...                   week  price     date_y\n",
              "0  1.2482  1.2466  1.2493  ...  2020-06-29/2020-07-05  2.260 2020-06-29\n",
              "1  1.2467  1.2476  1.2531  ...  2020-06-29/2020-07-05  2.260 2020-06-29\n",
              "2  1.2474  1.2401  1.2492  ...  2020-06-29/2020-07-05  2.260 2020-06-29\n",
              "3  1.2401  1.2298  1.2402  ...  2020-06-29/2020-07-05  2.260 2020-06-29\n",
              "4  1.2299  1.2340  1.2391  ...  2020-06-29/2020-07-05  2.260 2020-06-29\n",
              "5  1.2335  1.2421  1.2438  ...  2020-06-22/2020-06-28  2.216 2020-06-22\n",
              "6  1.2418  1.2419  1.2465  ...  2020-06-22/2020-06-28  2.216 2020-06-22\n",
              "7  1.2420  1.2521  1.2543  ...  2020-06-22/2020-06-28  2.216 2020-06-22\n",
              "8  1.2520  1.2467  1.2533  ...  2020-06-22/2020-06-28  2.216 2020-06-22\n",
              "9  1.2463  1.2356  1.2478  ...  2020-06-22/2020-06-28  2.216 2020-06-22\n",
              "\n",
              "[10 rows x 9 columns]"
            ]
          },
          "metadata": {
            "tags": []
          },
          "execution_count": 130
        }
      ]
    },
    {
      "cell_type": "markdown",
      "metadata": {
        "id": "gX_Z2YefK_b3",
        "colab_type": "text"
      },
      "source": [
        "# Sample Features - Go Over\n"
      ]
    },
    {
      "cell_type": "code",
      "metadata": {
        "id": "leiEwMP21QLr",
        "colab_type": "code",
        "colab": {}
      },
      "source": [
        "# Look back last 4 days\n",
        "# X variables/ features that we care about\n",
        "# Y variable/ output/ what we want to predict\n",
        "window_size=12\n",
        "num_samples=len(dataset)-window_size\n",
        "\n",
        "# Get indices of access for the data\n",
        "indices=np.arange(num_samples).astype(np.int)[:,None]+np.arange(window_size+1).astype(np.int)\n",
        "\n",
        "data = dataset[\"Price\"].values[indices] # Create the 2D matrix of training samples\n",
        "x = data[:,:-1] # Each row represents 12 days in the past\n",
        "y = data[:,-1] # Each output value represents the 13rd day"
      ],
      "execution_count": 131,
      "outputs": []
    },
    {
      "cell_type": "code",
      "metadata": {
        "id": "i4ZlMrW05oMb",
        "colab_type": "code",
        "colab": {
          "base_uri": "https://localhost:8080/",
          "height": 136
        },
        "outputId": "27653e86-f434-4181-bc7e-b69c5cd85d70"
      },
      "source": [
        "# not data frame anymore now it is a list\n",
        "# forex_dataset.head() of it\n",
        "x"
      ],
      "execution_count": 132,
      "outputs": [
        {
          "output_type": "execute_result",
          "data": {
            "text/plain": [
              "array([[1.2482, 1.2467, 1.2474, ..., 1.2463, 1.2358, 1.2426],\n",
              "       [1.2467, 1.2474, 1.2401, ..., 1.2358, 1.2426, 1.2557],\n",
              "       [1.2474, 1.2401, 1.2299, ..., 1.2426, 1.2557, 1.2577],\n",
              "       ...,\n",
              "       [1.3004, 1.3009, 1.3078, ..., 1.3145, 1.3137, 1.3157],\n",
              "       [1.3009, 1.3078, 1.313 , ..., 1.3137, 1.3157, 1.3104],\n",
              "       [1.3078, 1.313 , 1.3331, ..., 1.3157, 1.3104, 1.2994]])"
            ]
          },
          "metadata": {
            "tags": []
          },
          "execution_count": 132
        }
      ]
    },
    {
      "cell_type": "code",
      "metadata": {
        "id": "ELSLqRer6OhX",
        "colab_type": "code",
        "colab": {
          "base_uri": "https://localhost:8080/",
          "height": 323
        },
        "outputId": "924dd88f-ee11-4e74-994f-afd46b062d30"
      },
      "source": [
        "y"
      ],
      "execution_count": 133,
      "outputs": [
        {
          "output_type": "execute_result",
          "data": {
            "text/plain": [
              "array([1.2557, 1.2577, 1.2604, 1.2542, 1.2602, 1.2747, 1.2731, 1.2723,\n",
              "       1.2665, 1.2595, 1.2574, 1.255 , 1.2494, 1.2346, 1.232 , 1.2252,\n",
              "       1.2333, 1.219 , 1.2166, 1.2224, 1.2241, 1.2253, 1.2193, 1.2106,\n",
              "       1.2228, 1.223 , 1.2261, 1.2336, 1.2409, 1.2363, 1.2343, 1.2436,\n",
              "       1.2444, 1.2504, 1.2594, 1.2468, 1.2425, 1.2429, 1.2369, 1.2344,\n",
              "       1.2334, 1.2294, 1.2437, 1.2501, 1.2457, 1.2516, 1.2624, 1.2512,\n",
              "       1.2455, 1.2457, 1.2387, 1.2339, 1.223 , 1.2262, 1.2394, 1.2378,\n",
              "       1.242 , 1.2418, 1.2457, 1.2203, 1.1887, 1.1759, 1.155 , 1.1643,\n",
              "       1.1487, 1.1608, 1.2052, 1.2268, 1.2277, 1.2573, 1.2822, 1.2908,\n",
              "       1.3133, 1.305 , 1.2955, 1.2872, 1.2812, 1.2752, 1.2821, 1.2886,\n",
              "       1.2905, 1.3006, 1.2929, 1.2971, 1.2881, 1.2921, 1.2999, 1.3009,\n",
              "       1.3047, 1.3047, 1.2961, 1.2953, 1.2915, 1.2893, 1.293 , 1.3002,\n",
              "       1.3031, 1.2995, 1.3201, 1.3095, 1.3021, 1.3028, 1.3055, 1.3077,\n",
              "       1.3123, 1.3142, 1.3051, 1.3011, 1.301 , 1.3079, 1.3038, 1.3018,\n",
              "       1.299 , 1.3061, 1.3067, 1.3098, 1.3125, 1.3169, 1.3088, 1.3146,\n",
              "       1.3255, 1.3261, 1.3115, 1.3077, 1.2993, 1.2961, 1.2946, 1.2935,\n",
              "       1.3004, 1.3009, 1.3078, 1.313 , 1.3331, 1.3326, 1.3164, 1.3195,\n",
              "       1.3156, 1.3145, 1.3137, 1.3157, 1.3104, 1.2994, 1.2937])"
            ]
          },
          "metadata": {
            "tags": []
          },
          "execution_count": 133
        }
      ]
    },
    {
      "cell_type": "code",
      "metadata": {
        "id": "1HTBkWlE1yp5",
        "colab_type": "code",
        "colab": {}
      },
      "source": [
        "# 80% of my data\n",
        "split_fraction=0.8\n",
        "ind_split=int(split_fraction*num_samples)"
      ],
      "execution_count": 134,
      "outputs": []
    },
    {
      "cell_type": "code",
      "metadata": {
        "id": "-6sVH_Bx1zw3",
        "colab_type": "code",
        "colab": {}
      },
      "source": [
        "# x features and y features\n",
        "# test and train\n",
        "x_train = x[:ind_split]\n",
        "y_train = y[:ind_split]\n",
        "x_test = x[ind_split:]\n",
        "y_test = y[ind_split:]"
      ],
      "execution_count": 135,
      "outputs": []
    },
    {
      "cell_type": "code",
      "metadata": {
        "id": "dPXizeXk11xY",
        "colab_type": "code",
        "colab": {
          "base_uri": "https://localhost:8080/",
          "height": 34
        },
        "outputId": "0bf28111-53aa-48d4-d4b6-042af6b11353"
      },
      "source": [
        "x_train.shape, x_test.shape"
      ],
      "execution_count": 136,
      "outputs": [
        {
          "output_type": "execute_result",
          "data": {
            "text/plain": [
              "((114, 12), (29, 12))"
            ]
          },
          "metadata": {
            "tags": []
          },
          "execution_count": 136
        }
      ]
    },
    {
      "cell_type": "code",
      "metadata": {
        "id": "r2J7iiG06vyF",
        "colab_type": "code",
        "colab": {
          "base_uri": "https://localhost:8080/",
          "height": 34
        },
        "outputId": "f6b75402-ce85-4373-f066-63bffd662bee"
      },
      "source": [
        "y_train.shape, y_test.shape"
      ],
      "execution_count": 137,
      "outputs": [
        {
          "output_type": "execute_result",
          "data": {
            "text/plain": [
              "((114,), (29,))"
            ]
          },
          "metadata": {
            "tags": []
          },
          "execution_count": 137
        }
      ]
    },
    {
      "cell_type": "markdown",
      "metadata": {
        "id": "KRk3b4DV13r1",
        "colab_type": "text"
      },
      "source": [
        "# Modelling"
      ]
    },
    {
      "cell_type": "code",
      "metadata": {
        "id": "PI4q811O16Ky",
        "colab_type": "code",
        "colab": {}
      },
      "source": [
        "# Help Functions\n",
        "# Need to consider the trade offs between the models you use\n",
        "def get_performance (model_pred):\n",
        "  #Function returns standard performance metrics\n",
        "  print('Mean Absolute Error:', metrics.mean_absolute_error(y_test, model_pred).round(4))  \n",
        "  print('Mean Squared Error:', metrics.mean_squared_error(y_test, model_pred).round(4))  \n",
        "  print('Root Mean Squared Error:', np.sqrt(metrics.mean_squared_error(y_test, model_pred)).round(4))\n",
        "  \n",
        "  \n",
        "  \n",
        "def get_plot (model_pred):\n",
        "  plt.scatter(model_pred, y_test, color=\"gray\")\n",
        "  plt.plot(y_test, y_test, color='red', linewidth=2)"
      ],
      "execution_count": 138,
      "outputs": []
    },
    {
      "cell_type": "markdown",
      "metadata": {
        "id": "FYoFtFd_2AfY",
        "colab_type": "text"
      },
      "source": [
        "# Baseline"
      ]
    },
    {
      "cell_type": "code",
      "metadata": {
        "id": "sLHsHgTQ2DGn",
        "colab_type": "code",
        "colab": {}
      },
      "source": [
        "# let your prediction be the most recent observation\n",
        "# looking at the one day previous \n",
        "# np.roll-> similar to shift for a dataframe\n",
        "y_pred_lag=np.roll(y_test,1)"
      ],
      "execution_count": 139,
      "outputs": []
    },
    {
      "cell_type": "code",
      "metadata": {
        "id": "4Ir4-LloDb4P",
        "colab_type": "code",
        "colab": {}
      },
      "source": [
        "# np.roll(y,1)"
      ],
      "execution_count": 140,
      "outputs": []
    },
    {
      "cell_type": "code",
      "metadata": {
        "id": "_r_TITKw2Edb",
        "colab_type": "code",
        "colab": {
          "base_uri": "https://localhost:8080/",
          "height": 68
        },
        "outputId": "4bd6575a-91e3-47df-a063-28c4c674e8d5"
      },
      "source": [
        "# any has to be better than this\n",
        "# performance reltive to that very simlpe approach\n",
        "get_performance(y_pred_lag)"
      ],
      "execution_count": 141,
      "outputs": [
        {
          "output_type": "stream",
          "text": [
            "Mean Absolute Error: 0.0059\n",
            "Mean Squared Error: 0.0001\n",
            "Root Mean Squared Error: 0.0077\n"
          ],
          "name": "stdout"
        }
      ]
    },
    {
      "cell_type": "code",
      "metadata": {
        "id": "2N_n_4PL2Gbo",
        "colab_type": "code",
        "colab": {
          "base_uri": "https://localhost:8080/",
          "height": 404
        },
        "outputId": "eecc9efb-b3ea-4755-d35e-aabcf490fdc7"
      },
      "source": [
        "# Why cant I print dates on the bottom of my graph?\n",
        "from datetime import datetime, timedelta\n",
        "from matplotlib import pyplot as plt\n",
        "from matplotlib import dates as mpl_dates\n",
        "plt.style.use('seaborn')\n",
        "from matplotlib import rcParams\n",
        "rcParams['figure.figsize'] = 15,6\n",
        "\n",
        "get_plot(y_pred_lag)\n",
        "# plt.plot(y_pred_gb)\n",
        "plt.title('Baseline Model of USD/GBP & US Gas Prices')\n",
        "plt.xlabel('Date')\n",
        "plt.ylabel('Price of USD/GBP & Gas Prices')\n",
        "# dates = np.array(dateFormatting['Date'])\n",
        "# plt.plot_date(dates,y_pred_gb, linestyle ='solid')"
      ],
      "execution_count": 142,
      "outputs": [
        {
          "output_type": "execute_result",
          "data": {
            "text/plain": [
              "Text(0, 0.5, 'Price of USD/GBP & Gas Prices')"
            ]
          },
          "metadata": {
            "tags": []
          },
          "execution_count": 142
        },
        {
          "output_type": "display_data",
          "data": {
            "image/png": "[encoded data removed]",
            "text/plain": [
              "<Figure size 1080x432 with 1 Axes>"
            ]
          },
          "metadata": {
            "tags": []
          }
        }
      ]
    },
    {
      "cell_type": "markdown",
      "metadata": {
        "id": "RLVFl_uE2HOy",
        "colab_type": "text"
      },
      "source": [
        "# Linear Regression"
      ]
    },
    {
      "cell_type": "code",
      "metadata": {
        "id": "3Jh_KT032JJF",
        "colab_type": "code",
        "colab": {
          "base_uri": "https://localhost:8080/",
          "height": 34
        },
        "outputId": "99c49162-8a0d-4a06-8d2e-a62cdfd1672b"
      },
      "source": [
        "# assigning the linear regression model\n",
        "model_lr=LinearRegression()\n",
        "# fitting the linear regression model to xtrain, xytrain\n",
        "model_lr.fit(x_train, y_train)"
      ],
      "execution_count": 143,
      "outputs": [
        {
          "output_type": "execute_result",
          "data": {
            "text/plain": [
              "LinearRegression(copy_X=True, fit_intercept=True, n_jobs=None, normalize=False)"
            ]
          },
          "metadata": {
            "tags": []
          },
          "execution_count": 143
        }
      ]
    },
    {
      "cell_type": "code",
      "metadata": {
        "id": "p6wX8YGA_Bt0",
        "colab_type": "code",
        "colab": {}
      },
      "source": [
        "#help\n",
        "# ?model_lr.fit()"
      ],
      "execution_count": 144,
      "outputs": []
    },
    {
      "cell_type": "code",
      "metadata": {
        "id": "55kM7Tmt2Kxx",
        "colab_type": "code",
        "colab": {}
      },
      "source": [
        "# x variable and predict the y \n",
        "y_pred_lr=model_lr.predict(x_test)"
      ],
      "execution_count": 145,
      "outputs": []
    },
    {
      "cell_type": "code",
      "metadata": {
        "id": "q7RBFFWg2MNM",
        "colab_type": "code",
        "colab": {
          "base_uri": "https://localhost:8080/",
          "height": 68
        },
        "outputId": "f8f5bcd2-d289-4f5f-a56c-30494024ad54"
      },
      "source": [
        "# check how they compare to the baseline\n",
        "# not a big difference at all only in root mean\n",
        "# not great\n",
        "get_performance(y_pred_lr)"
      ],
      "execution_count": 146,
      "outputs": [
        {
          "output_type": "stream",
          "text": [
            "Mean Absolute Error: 0.0061\n",
            "Mean Squared Error: 0.0001\n",
            "Root Mean Squared Error: 0.0076\n"
          ],
          "name": "stdout"
        }
      ]
    },
    {
      "cell_type": "code",
      "metadata": {
        "id": "1GCELg5O2NR4",
        "colab_type": "code",
        "colab": {
          "base_uri": "https://localhost:8080/",
          "height": 408
        },
        "outputId": "c55c4959-9b3f-4422-bbf7-f4efaa579e7a"
      },
      "source": [
        "# Why cant I print dates on the bottom of my graph?\n",
        "from datetime import datetime, timedelta\n",
        "from matplotlib import pyplot as plt\n",
        "from matplotlib import dates as mpl_dates\n",
        "plt.style.use('seaborn')\n",
        "from matplotlib import rcParams\n",
        "rcParams['figure.figsize'] = 15,6\n",
        "\n",
        "get_plot(y_pred_lr)\n",
        "# plt.plot(y_pred_gb)\n",
        "plt.title('Linear Regression Model USD/GBP & US Gas Prices')\n",
        "plt.xlabel('Date')\n",
        "plt.ylabel('Price')\n",
        "# dates = np.array(dateFormatting['Date'])\n",
        "# plt.plot_date(dates,y_pred_gb, linestyle ='solid')"
      ],
      "execution_count": 147,
      "outputs": [
        {
          "output_type": "execute_result",
          "data": {
            "text/plain": [
              "Text(0, 0.5, 'Price')"
            ]
          },
          "metadata": {
            "tags": []
          },
          "execution_count": 147
        },
        {
          "output_type": "display_data",
          "data": {
            "image/png": "[encoded data removed]",
            "text/plain": [
              "<Figure size 1080x432 with 1 Axes>"
            ]
          },
          "metadata": {
            "tags": []
          }
        }
      ]
    },
    {
      "cell_type": "code",
      "metadata": {
        "id": "RuzwJ5xc2QPd",
        "colab_type": "code",
        "colab": {
          "base_uri": "https://localhost:8080/",
          "height": 68
        },
        "outputId": "ad080e25-db57-4050-ace7-f8ae4196fb2a"
      },
      "source": [
        "get_performance(y_pred_lr)"
      ],
      "execution_count": 148,
      "outputs": [
        {
          "output_type": "stream",
          "text": [
            "Mean Absolute Error: 0.0061\n",
            "Mean Squared Error: 0.0001\n",
            "Root Mean Squared Error: 0.0076\n"
          ],
          "name": "stdout"
        }
      ]
    },
    {
      "cell_type": "code",
      "metadata": {
        "id": "W3Vait_pBccT",
        "colab_type": "code",
        "colab": {
          "base_uri": "https://localhost:8080/",
          "height": 68
        },
        "outputId": "9a8a9958-2bcd-4c7c-db74-e66ef1c4dc9c"
      },
      "source": [
        "# this should list our 12 co-efficients for all of our variables\n",
        "# most recent day: 1.18024445\n",
        "# as you can see other values are - and small, this is why the baseline \n",
        "# is so good because the previous day is the msot important value\n",
        "# change is marginal\n",
        "# only focus on the the last one\n",
        "# problem: only print the last output\n",
        "model_lr.coef_"
      ],
      "execution_count": 149,
      "outputs": [
        {
          "output_type": "execute_result",
          "data": {
            "text/plain": [
              "array([-0.07226882,  0.21106539, -0.31282709,  0.25198096,  0.02830697,\n",
              "        0.02865182, -0.11006445, -0.00665859, -0.23915759,  0.1989493 ,\n",
              "       -0.25224128,  1.23650558])"
            ]
          },
          "metadata": {
            "tags": []
          },
          "execution_count": 149
        }
      ]
    },
    {
      "cell_type": "markdown",
      "metadata": {
        "id": "Tm4d5DFB2OUa",
        "colab_type": "text"
      },
      "source": [
        "\n",
        "\n",
        "```\n",
        "# This is formatted as code\n",
        "```\n",
        "\n",
        "# Ridge Regression"
      ]
    },
    {
      "cell_type": "code",
      "metadata": {
        "id": "hmgrOw2a2T7s",
        "colab_type": "code",
        "colab": {}
      },
      "source": [
        "model_ridge = Ridge()\n",
        "model_ridge.fit(x_train, y_train)\n",
        "\n",
        "#generate predictions\n",
        "y_pred_ridge=model_ridge.predict(x_test)"
      ],
      "execution_count": 150,
      "outputs": []
    },
    {
      "cell_type": "code",
      "metadata": {
        "id": "PJkjfnWs2VUR",
        "colab_type": "code",
        "colab": {
          "base_uri": "https://localhost:8080/",
          "height": 68
        },
        "outputId": "f502decb-62a5-4330-92a2-0634c6870e6b"
      },
      "source": [
        "# look at difference in baseline and ridge regression\n",
        "# trying to figure out which one of the features is the most prominent\n",
        "get_performance(y_pred_ridge)"
      ],
      "execution_count": 151,
      "outputs": [
        {
          "output_type": "stream",
          "text": [
            "Mean Absolute Error: 0.0252\n",
            "Mean Squared Error: 0.0007\n",
            "Root Mean Squared Error: 0.0273\n"
          ],
          "name": "stdout"
        }
      ]
    },
    {
      "cell_type": "code",
      "metadata": {
        "id": "rrRlsFSv2Wl3",
        "colab_type": "code",
        "colab": {
          "base_uri": "https://localhost:8080/",
          "height": 408
        },
        "outputId": "35a46b93-6718-4900-ea16-8661e348182e"
      },
      "source": [
        "# Why cant I print dates on the bottom of my graph?\n",
        "from datetime import datetime, timedelta\n",
        "from matplotlib import pyplot as plt\n",
        "from matplotlib import dates as mpl_dates\n",
        "plt.style.use('seaborn')\n",
        "from matplotlib import rcParams\n",
        "rcParams['figure.figsize'] = 15,6\n",
        "\n",
        "get_plot(y_pred_ridge)\n",
        "# plt.plot(y_pred_gb)\n",
        "plt.title('Ridge Regression Model of USD/GBP & US Gas Prices')\n",
        "plt.xlabel('Date')\n",
        "plt.ylabel('Price')\n",
        "# dates = np.array(dateFormatting['Date'])\n",
        "# plt.plot_date(dates,y_pred_gb, linestyle ='solid')"
      ],
      "execution_count": 152,
      "outputs": [
        {
          "output_type": "execute_result",
          "data": {
            "text/plain": [
              "Text(0, 0.5, 'Price')"
            ]
          },
          "metadata": {
            "tags": []
          },
          "execution_count": 152
        },
        {
          "output_type": "display_data",
          "data": {
            "image/png": "[encoded data removed]",
            "text/plain": [
              "<Figure size 1080x432 with 1 Axes>"
            ]
          },
          "metadata": {
            "tags": []
          }
        }
      ]
    },
    {
      "cell_type": "code",
      "metadata": {
        "id": "xUa-kWfwAo3E",
        "colab_type": "code",
        "colab": {
          "base_uri": "https://localhost:8080/",
          "height": 68
        },
        "outputId": "f53dbe17-d67c-4e5a-a250-587b6db9a680"
      },
      "source": [
        "# this should list our 12 co-efficients for all of our variables\n",
        "# most recent day: 0.09432427\n",
        "# change is marginal\n",
        "# only focus on the the last one\n",
        "# problem: only print the last output\n",
        "# limit the number of days your looking back\n",
        "# what is the trend: higher/lower?\n",
        "# keep same features but apply different features\n",
        "# k folds cross validation? in terms of splitting the data\n",
        "model_ridge.coef_"
      ],
      "execution_count": 153,
      "outputs": [
        {
          "output_type": "execute_result",
          "data": {
            "text/plain": [
              "array([0.02031357, 0.01914152, 0.01818677, 0.01932642, 0.02067214,\n",
              "       0.0242695 , 0.03147673, 0.04169279, 0.0545068 , 0.06866123,\n",
              "       0.08177461, 0.09457692])"
            ]
          },
          "metadata": {
            "tags": []
          },
          "execution_count": 153
        }
      ]
    },
    {
      "cell_type": "markdown",
      "metadata": {
        "id": "Z0m3Q47Y2Y9t",
        "colab_type": "text"
      },
      "source": [
        "# Gradient Boosting Trees"
      ]
    },
    {
      "cell_type": "code",
      "metadata": {
        "id": "JbwyJMpR2aKT",
        "colab_type": "code",
        "colab": {}
      },
      "source": [
        "# Model #2 - Gradient Boosting Trees\n",
        "# not linear, tree based\n",
        "model_gb = GradientBoostingRegressor()\n",
        "model_gb.fit(x_train, y_train)\n",
        "\n",
        "# Infer\n",
        "y_pred_gb = model_gb.predict(x_test)"
      ],
      "execution_count": 154,
      "outputs": []
    },
    {
      "cell_type": "code",
      "metadata": {
        "id": "nTghilU72bjZ",
        "colab_type": "code",
        "colab": {
          "base_uri": "https://localhost:8080/",
          "height": 68
        },
        "outputId": "8ae98b9a-fc01-42d3-f78d-699c262efd8b"
      },
      "source": [
        "get_performance(y_pred_gb)"
      ],
      "execution_count": 155,
      "outputs": [
        {
          "output_type": "stream",
          "text": [
            "Mean Absolute Error: 0.0083\n",
            "Mean Squared Error: 0.0001\n",
            "Root Mean Squared Error: 0.0107\n"
          ],
          "name": "stdout"
        }
      ]
    },
    {
      "cell_type": "code",
      "metadata": {
        "id": "o4vFtlSl2d5C",
        "colab_type": "code",
        "colab": {
          "base_uri": "https://localhost:8080/",
          "height": 404
        },
        "outputId": "bb3f17a8-f3bf-4301-cbf1-3f840f7a305f"
      },
      "source": [
        "# Why cant I print dates on the bottom of my graph?\n",
        "from datetime import datetime, timedelta\n",
        "from matplotlib import pyplot as plt\n",
        "from matplotlib import dates as mpl_dates\n",
        "plt.style.use('seaborn')\n",
        "from matplotlib import rcParams\n",
        "rcParams['figure.figsize'] = 15,6\n",
        "\n",
        "get_plot(y_pred_gb)\n",
        "# plt.plot(y_pred_gb)\n",
        "plt.title('Gradient Boosting Model of USD/GBP & US Gas Prices')\n",
        "plt.xlabel('Date')\n",
        "plt.ylabel('Price')\n",
        "# dates = np.array(dateFormatting['Date'])\n",
        "# plt.plot_date(dates,y_pred_gb, linestyle ='solid')"
      ],
      "execution_count": 156,
      "outputs": [
        {
          "output_type": "execute_result",
          "data": {
            "text/plain": [
              "Text(0, 0.5, 'Price')"
            ]
          },
          "metadata": {
            "tags": []
          },
          "execution_count": 156
        },
        {
          "output_type": "display_data",
          "data": {
            "image/png": "[encoded data removed]",
            "text/plain": [
              "<Figure size 1080x432 with 1 Axes>"
            ]
          },
          "metadata": {
            "tags": []
          }
        }
      ]
    },
    {
      "cell_type": "markdown",
      "metadata": {
        "id": "-Mu3mNPs2fPA",
        "colab_type": "text"
      },
      "source": [
        "# Comparison"
      ]
    },
    {
      "cell_type": "code",
      "metadata": {
        "id": "TGewSgao2gh4",
        "colab_type": "code",
        "colab": {}
      },
      "source": [
        "# absolute -> only have positives\n",
        "df_comp=pd.DataFrame({\"lag\":np.absolute(y_test-y_pred_lag), \n",
        "              \"lr\":np.absolute(y_test-y_pred_lr), \n",
        "              \"ridge\":np.absolute(y_test-y_pred_ridge),\n",
        "              \"gb\":np.absolute(y_test-y_pred_gb)})"
      ],
      "execution_count": 157,
      "outputs": []
    },
    {
      "cell_type": "code",
      "metadata": {
        "id": "d91Ux-I6C9bZ",
        "colab_type": "code",
        "colab": {
          "base_uri": "https://localhost:8080/",
          "height": 204
        },
        "outputId": "0d00e804-4aa8-45c7-eb6e-628ecc9919f6"
      },
      "source": [
        "df_comp.head()"
      ],
      "execution_count": 158,
      "outputs": [
        {
          "output_type": "execute_result",
          "data": {
            "text/html": [
              "<div>\n",
              "<style scoped>\n",
              "    .dataframe tbody tr th:only-of-type {\n",
              "        vertical-align: middle;\n",
              "    }\n",
              "\n",
              "    .dataframe tbody tr th {\n",
              "        vertical-align: top;\n",
              "    }\n",
              "\n",
              "    .dataframe thead th {\n",
              "        text-align: right;\n",
              "    }\n",
              "</style>\n",
              "<table border=\"1\" class=\"dataframe\">\n",
              "  <thead>\n",
              "    <tr style=\"text-align: right;\">\n",
              "      <th></th>\n",
              "      <th>lag</th>\n",
              "      <th>lr</th>\n",
              "      <th>ridge</th>\n",
              "      <th>gb</th>\n",
              "    </tr>\n",
              "  </thead>\n",
              "  <tbody>\n",
              "    <tr>\n",
              "      <th>0</th>\n",
              "      <td>0.0130</td>\n",
              "      <td>0.000406</td>\n",
              "      <td>0.024095</td>\n",
              "      <td>0.001338</td>\n",
              "    </tr>\n",
              "    <tr>\n",
              "      <th>1</th>\n",
              "      <td>0.0031</td>\n",
              "      <td>0.006745</td>\n",
              "      <td>0.026907</td>\n",
              "      <td>0.004501</td>\n",
              "    </tr>\n",
              "    <tr>\n",
              "      <th>2</th>\n",
              "      <td>0.0027</td>\n",
              "      <td>0.001114</td>\n",
              "      <td>0.029090</td>\n",
              "      <td>0.004229</td>\n",
              "    </tr>\n",
              "    <tr>\n",
              "      <th>3</th>\n",
              "      <td>0.0044</td>\n",
              "      <td>0.005052</td>\n",
              "      <td>0.032899</td>\n",
              "      <td>0.012472</td>\n",
              "    </tr>\n",
              "    <tr>\n",
              "      <th>4</th>\n",
              "      <td>0.0081</td>\n",
              "      <td>0.009952</td>\n",
              "      <td>0.023972</td>\n",
              "      <td>0.002657</td>\n",
              "    </tr>\n",
              "  </tbody>\n",
              "</table>\n",
              "</div>"
            ],
            "text/plain": [
              "      lag        lr     ridge        gb\n",
              "0  0.0130  0.000406  0.024095  0.001338\n",
              "1  0.0031  0.006745  0.026907  0.004501\n",
              "2  0.0027  0.001114  0.029090  0.004229\n",
              "3  0.0044  0.005052  0.032899  0.012472\n",
              "4  0.0081  0.009952  0.023972  0.002657"
            ]
          },
          "metadata": {
            "tags": []
          },
          "execution_count": 158
        }
      ]
    },
    {
      "cell_type": "code",
      "metadata": {
        "id": "Gn5BAsRqDI_g",
        "colab_type": "code",
        "colab": {
          "base_uri": "https://localhost:8080/",
          "height": 85
        },
        "outputId": "7dab47ea-fe1f-4237-a1f9-1a0efb950c77"
      },
      "source": [
        "# go over again 51:22\n",
        "y_pred_lag"
      ],
      "execution_count": 159,
      "outputs": [
        {
          "output_type": "execute_result",
          "data": {
            "text/plain": [
              "array([1.2937, 1.3067, 1.3098, 1.3125, 1.3169, 1.3088, 1.3146, 1.3255,\n",
              "       1.3261, 1.3115, 1.3077, 1.2993, 1.2961, 1.2946, 1.2935, 1.3004,\n",
              "       1.3009, 1.3078, 1.313 , 1.3331, 1.3326, 1.3164, 1.3195, 1.3156,\n",
              "       1.3145, 1.3137, 1.3157, 1.3104, 1.2994])"
            ]
          },
          "metadata": {
            "tags": []
          },
          "execution_count": 159
        }
      ]
    },
    {
      "cell_type": "code",
      "metadata": {
        "id": "Vw-2wFox2iEd",
        "colab_type": "code",
        "colab": {
          "base_uri": "https://localhost:8080/",
          "height": 366
        },
        "outputId": "3bc5f9a0-df80-44a9-dc18-61207929dc07"
      },
      "source": [
        "#\n",
        "df_comp.plot.bar(figsize=(16, 6))\n",
        "# show me days 0 to 10\n",
        "plt.xlim(11,20)\n",
        "# unsure why this line doesnt work\n",
        "# plt.ylim(0,10)"
      ],
      "execution_count": 160,
      "outputs": [
        {
          "output_type": "execute_result",
          "data": {
            "text/plain": [
              "(11.0, 20.0)"
            ]
          },
          "metadata": {
            "tags": []
          },
          "execution_count": 160
        },
        {
          "output_type": "display_data",
          "data": {
            "image/png": "[encoded data removed]",
            "text/plain": [
              "<Figure size 1152x432 with 1 Axes>"
            ]
          },
          "metadata": {
            "tags": []
          }
        }
      ]
    },
    {
      "cell_type": "markdown",
      "metadata": {
        "id": "Amdw7fOJEroX",
        "colab_type": "text"
      },
      "source": [
        "# Conclusion and next steps\n",
        "\n",
        "Explored 4 different algorithms, ranging from simple to complex:\n",
        "\n",
        "\n",
        "*   Lag (Previous day's price)\n",
        "*   Linear Regression \n",
        "*   Ridge Regression\n",
        "*   Gradient Boosting Trees\n",
        "\n",
        "In conclusion it seems that Linear Regression gives us the best performance with the least complexity. Next steps might include adding additional features such as trend and recent volatility (go over).\n",
        "\n",
        "\n"
      ]
    }
  ]
}