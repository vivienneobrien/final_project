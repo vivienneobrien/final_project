{
  "nbformat": 4,
  "nbformat_minor": 0,
  "metadata": {
    "colab": {
      "name": "Tfidfvectorizer.ipynb",
      "provenance": [],
      "collapsed_sections": []
    },
    "kernelspec": {
      "name": "python3",
      "display_name": "Python 3"
    },
    "accelerator": "GPU"
  },
  "cells": [
    {
      "cell_type": "markdown",
      "metadata": {
        "id": "QDwKjRxZeQnx",
        "colab_type": "text"
      },
      "source": [
        "# Notes for user:\n",
        "\n",
        "*   While ubiquitous, textual sources of information such as company reports, social media posts, etc. are hardly\n",
        "included in prediction algorithms for time series, despite the relevant information they may contain. \n",
        "*   In this model, daily news headlines and tweets filtering of USA, Britian and COVID-19 are leveraged to predict time series of USD/GBP with a single pipeline.\n",
        "*   Two methods of numerical representation of text are considered, namely traditional Term Frequency - \n",
        "Inverse Document Frequency (TF-IDF) and Count Vectorize.\n",
        "\n"
      ]
    },
    {
      "cell_type": "markdown",
      "metadata": {
        "id": "fjs4sLGCc8en",
        "colab_type": "text"
      },
      "source": [
        "# Importing News Headings API\n"
      ]
    },
    {
      "cell_type": "code",
      "metadata": {
        "id": "-nVdWwLpWO0D",
        "colab_type": "code",
        "colab": {
          "base_uri": "https://localhost:8080/",
          "height": 119
        },
        "outputId": "ea7a1572-d46b-424e-e5d4-a033ae857e2f"
      },
      "source": [
        "action = 'API_getOpenTextData'\n",
        "parameters = {\n",
        "    'token':'TOKEN HERE',\n",
        "    'consumption_confirmation':'on',\n",
        "    'date_filter':{\"start_date\":\"2020-01-01T06:00:00.000Z\", \n",
        "                   \"end_date\":\"2020-03-10T06:00:00.000Z\"},\n",
        "    'sources':[\n",
        "                # Wall Street Journal\n",
        "               {'id_dataset' : '5e2ef74e9516294390e810a9', \n",
        "                 'features' : ['text']},\n",
        "                # ABC News Headlines\n",
        "               {'id_dataset':\"5d8848e59516294231c59581\", \n",
        "                'features' : [\"headline\", \"title\"]},\n",
        "                # USA Today Twitter\n",
        "               {'id_dataset' : \"5e32fd289516291e346c1726\", \n",
        "                'features' : [\"text\"]},\n",
        "                # CNN News\n",
        "               {'id_dataset' : \"5d571b9e9516293a12ad4f5c\", \n",
        "                'features' : [\"headline\", \"title\"]}\n",
        "    ],\n",
        "    'aggregate_in_time_interval' : {\n",
        "              'time_interval_size' : 60 * 60 * 24\n",
        "    },\n",
        "    'text_filter_search':['covid', 'coronavirus', 'ncov', 'America', 'United States', 'USA', 'United States of America'],\n",
        "    'add_date' : 'date'    \n",
        "}\n",
        "covid_news_headlines = pd.read_json(json.dumps(OpenBlender.call(action, parameters)['sample']), convert_dates=False, convert_axes=False).sort_values('timestamp', ascending=False)\n",
        "covid_news_headlines.reset_index(drop=True, inplace=True)"
      ],
      "execution_count": 94,
      "outputs": [
        {
          "output_type": "stream",
          "text": [
            "Task ID: '5f1dce7e90eaa07497e356c6'.\n",
            "Total estimated consumption: 47617.04 processing units.\n",
            "Continue?  [y] yes \t [n] noy\n",
            "Task confirmed. Starting download..\n",
            "CSV will be stored in: 1595788928.969431.csv\n",
            "100.0 % completed.\n"
          ],
          "name": "stdout"
        }
      ]
    },
    {
      "cell_type": "code",
      "metadata": {
        "id": "gU403KDxWYWj",
        "colab_type": "code",
        "colab": {
          "base_uri": "https://localhost:8080/",
          "height": 204
        },
        "outputId": "9e0bdd0b-37eb-4130-d626-f8c44e40ecc1"
      },
      "source": [
        "covid_news_headlines.head()"
      ],
      "execution_count": 95,
      "outputs": [
        {
          "output_type": "execute_result",
          "data": {
            "text/html": [
              "<div>\n",
              "<style scoped>\n",
              "    .dataframe tbody tr th:only-of-type {\n",
              "        vertical-align: middle;\n",
              "    }\n",
              "\n",
              "    .dataframe tbody tr th {\n",
              "        vertical-align: top;\n",
              "    }\n",
              "\n",
              "    .dataframe thead th {\n",
              "        text-align: right;\n",
              "    }\n",
              "</style>\n",
              "<table border=\"1\" class=\"dataframe\">\n",
              "  <thead>\n",
              "    <tr style=\"text-align: right;\">\n",
              "      <th></th>\n",
              "      <th>source</th>\n",
              "      <th>timestamp.date</th>\n",
              "      <th>timestamp</th>\n",
              "      <th>source_lst</th>\n",
              "    </tr>\n",
              "  </thead>\n",
              "  <tbody>\n",
              "    <tr>\n",
              "      <th>0</th>\n",
              "      <td>were not rational  especially during times...</td>\n",
              "      <td>2020-03-10</td>\n",
              "      <td>1583798400</td>\n",
              "      <td>[we dont want those kids in our classrooms: pa...</td>\n",
              "    </tr>\n",
              "    <tr>\n",
              "      <th>1</th>\n",
              "      <td>twenty-three people remain trapped in the ...</td>\n",
              "      <td>2020-03-09</td>\n",
              "      <td>1583712000</td>\n",
              "      <td>[new york (cnn business)airline passenger traf...</td>\n",
              "    </tr>\n",
              "    <tr>\n",
              "      <th>2</th>\n",
              "      <td>\"the simple truth is none of us knew what w...</td>\n",
              "      <td>2020-03-08</td>\n",
              "      <td>1583625600</td>\n",
              "      <td>[countries in asia and europe are reporting ri...</td>\n",
              "    </tr>\n",
              "    <tr>\n",
              "      <th>3</th>\n",
              "      <td>the case of a seriously ill father with roo...</td>\n",
              "      <td>2020-03-07</td>\n",
              "      <td>1583539200</td>\n",
              "      <td>[coronavirus update: catch up on all fridays n...</td>\n",
              "    </tr>\n",
              "    <tr>\n",
              "      <th>4</th>\n",
              "      <td>a new york city public-school teacher showe...</td>\n",
              "      <td>2020-03-06</td>\n",
              "      <td>1583452800</td>\n",
              "      <td>[the package will replace the initial white ho...</td>\n",
              "    </tr>\n",
              "  </tbody>\n",
              "</table>\n",
              "</div>"
            ],
            "text/plain": [
              "                                              source  ...                                         source_lst\n",
              "0      were not rational  especially during times...  ...  [we dont want those kids in our classrooms: pa...\n",
              "1      twenty-three people remain trapped in the ...  ...  [new york (cnn business)airline passenger traf...\n",
              "2     \"the simple truth is none of us knew what w...  ...  [countries in asia and europe are reporting ri...\n",
              "3     the case of a seriously ill father with roo...  ...  [coronavirus update: catch up on all fridays n...\n",
              "4     a new york city public-school teacher showe...  ...  [the package will replace the initial white ho...\n",
              "\n",
              "[5 rows x 4 columns]"
            ]
          },
          "metadata": {
            "tags": []
          },
          "execution_count": 95
        }
      ]
    },
    {
      "cell_type": "code",
      "metadata": {
        "id": "YhRMVAwWWsxc",
        "colab_type": "code",
        "colab": {
          "base_uri": "https://localhost:8080/",
          "height": 204
        },
        "outputId": "fdf3e4fa-2ee9-4f14-96f6-a8faf9576c14"
      },
      "source": [
        "covid_news_headlines.tail()"
      ],
      "execution_count": 96,
      "outputs": [
        {
          "output_type": "execute_result",
          "data": {
            "text/html": [
              "<div>\n",
              "<style scoped>\n",
              "    .dataframe tbody tr th:only-of-type {\n",
              "        vertical-align: middle;\n",
              "    }\n",
              "\n",
              "    .dataframe tbody tr th {\n",
              "        vertical-align: top;\n",
              "    }\n",
              "\n",
              "    .dataframe thead th {\n",
              "        text-align: right;\n",
              "    }\n",
              "</style>\n",
              "<table border=\"1\" class=\"dataframe\">\n",
              "  <thead>\n",
              "    <tr style=\"text-align: right;\">\n",
              "      <th></th>\n",
              "      <th>source</th>\n",
              "      <th>timestamp.date</th>\n",
              "      <th>timestamp</th>\n",
              "      <th>source_lst</th>\n",
              "    </tr>\n",
              "  </thead>\n",
              "  <tbody>\n",
              "    <tr>\n",
              "      <th>65</th>\n",
              "      <td>the transformation of the american family d...</td>\n",
              "      <td>2020-01-05</td>\n",
              "      <td>1578182400</td>\n",
              "      <td>[thousands marched in baghdad in a funeral pro...</td>\n",
              "    </tr>\n",
              "    <tr>\n",
              "      <th>66</th>\n",
              "      <td>american airlines is negotiating with boe...</td>\n",
              "      <td>2020-01-04</td>\n",
              "      <td>1578096000</td>\n",
              "      <td>[motorcycle sales, particularly in the united ...</td>\n",
              "    </tr>\n",
              "    <tr>\n",
              "      <th>67</th>\n",
              "      <td>a sinking jakarta, already 40% below sea le...</td>\n",
              "      <td>2020-01-03</td>\n",
              "      <td>1578009600</td>\n",
              "      <td>[at 11 years running, the united states is exp...</td>\n",
              "    </tr>\n",
              "    <tr>\n",
              "      <th>68</th>\n",
              "      <td>an attempt by supporters of iran-backed mil...</td>\n",
              "      <td>2020-01-02</td>\n",
              "      <td>1577923200</td>\n",
              "      <td>[an attempt by supporters of iran-backed milit...</td>\n",
              "    </tr>\n",
              "    <tr>\n",
              "      <th>69</th>\n",
              "      <td>from wsjopinion the lesson from 2019 is tha...</td>\n",
              "      <td>2020-01-01</td>\n",
              "      <td>1577836800</td>\n",
              "      <td>[sen susan collins is one of the senators who ...</td>\n",
              "    </tr>\n",
              "  </tbody>\n",
              "</table>\n",
              "</div>"
            ],
            "text/plain": [
              "                                               source  ...                                         source_lst\n",
              "65     the transformation of the american family d...  ...  [thousands marched in baghdad in a funeral pro...\n",
              "66       american airlines is negotiating with boe...  ...  [motorcycle sales, particularly in the united ...\n",
              "67     a sinking jakarta, already 40% below sea le...  ...  [at 11 years running, the united states is exp...\n",
              "68     an attempt by supporters of iran-backed mil...  ...  [an attempt by supporters of iran-backed milit...\n",
              "69     from wsjopinion the lesson from 2019 is tha...  ...  [sen susan collins is one of the senators who ...\n",
              "\n",
              "[5 rows x 4 columns]"
            ]
          },
          "metadata": {
            "tags": []
          },
          "execution_count": 96
        }
      ]
    },
    {
      "cell_type": "code",
      "metadata": {
        "id": "QotWQvZRUdbS",
        "colab_type": "code",
        "colab": {
          "base_uri": "https://localhost:8080/",
          "height": 306
        },
        "outputId": "4eb02edd-c350-44ba-bd3e-2771f77b879b"
      },
      "source": [
        "import OpenBlender\n",
        "import pandas as pd\n",
        "import json\n",
        "\n",
        "\n",
        "action = 'API_getObservationsFromDataset'\n",
        "\n",
        "# ANCHOR: 'USD/GBP'\n",
        "\n",
        "        \n",
        "parameters = { \n",
        "  'token':'TOKEN HERE',\n",
        "\t'id_dataset':'5f1db9989516291eeabd3c71',\n",
        "\t'consumption_confirmation':'on',\n",
        "\t'blends':[] \n",
        "}\n",
        "        \n",
        "us_gbp = pd.read_json(json.dumps(OpenBlender.call(action, parameters)['sample']), convert_dates=False, convert_axes=False).sort_values('timestamp', ascending=False)\n",
        "us_gbp.reset_index(drop=True, inplace=True)\n",
        "us_gbp.head()\n",
        "us_gbp.tail()"
      ],
      "execution_count": 125,
      "outputs": [
        {
          "output_type": "stream",
          "text": [
            "Task ID: '5f1dd3c10895fafb4a9d8d4b'.\n",
            "Total estimated consumption: 20376.99 processing units.\n",
            "Continue?  [y] yes \t [n] noy\n",
            "Task confirmed. Starting download..\n",
            "CSV will be stored in: 1595790275.3442318.csv\n",
            "100.0 % completed.\n"
          ],
          "name": "stdout"
        },
        {
          "output_type": "execute_result",
          "data": {
            "text/html": [
              "<div>\n",
              "<style scoped>\n",
              "    .dataframe tbody tr th:only-of-type {\n",
              "        vertical-align: middle;\n",
              "    }\n",
              "\n",
              "    .dataframe tbody tr th {\n",
              "        vertical-align: top;\n",
              "    }\n",
              "\n",
              "    .dataframe thead th {\n",
              "        text-align: right;\n",
              "    }\n",
              "</style>\n",
              "<table border=\"1\" class=\"dataframe\">\n",
              "  <thead>\n",
              "    <tr style=\"text-align: right;\">\n",
              "      <th></th>\n",
              "      <th>timestamp</th>\n",
              "      <th>spot_price</th>\n",
              "    </tr>\n",
              "  </thead>\n",
              "  <tbody>\n",
              "    <tr>\n",
              "      <th>369</th>\n",
              "      <td>1549411200</td>\n",
              "      <td>1.2963</td>\n",
              "    </tr>\n",
              "    <tr>\n",
              "      <th>370</th>\n",
              "      <td>1549324800</td>\n",
              "      <td>1.2940</td>\n",
              "    </tr>\n",
              "    <tr>\n",
              "      <th>371</th>\n",
              "      <td>1549238400</td>\n",
              "      <td>1.3085</td>\n",
              "    </tr>\n",
              "    <tr>\n",
              "      <th>372</th>\n",
              "      <td>1548979200</td>\n",
              "      <td>1.3093</td>\n",
              "    </tr>\n",
              "    <tr>\n",
              "      <th>373</th>\n",
              "      <td>1548892800</td>\n",
              "      <td>1.3152</td>\n",
              "    </tr>\n",
              "  </tbody>\n",
              "</table>\n",
              "</div>"
            ],
            "text/plain": [
              "      timestamp  spot_price\n",
              "369  1549411200      1.2963\n",
              "370  1549324800      1.2940\n",
              "371  1549238400      1.3085\n",
              "372  1548979200      1.3093\n",
              "373  1548892800      1.3152"
            ]
          },
          "metadata": {
            "tags": []
          },
          "execution_count": 125
        }
      ]
    },
    {
      "cell_type": "markdown",
      "metadata": {
        "id": "a1yuRQOXdIMM",
        "colab_type": "text"
      },
      "source": [
        "# Cleaning & Collating Data"
      ]
    },
    {
      "cell_type": "code",
      "metadata": {
        "id": "9DRSOaYNYSme",
        "colab_type": "code",
        "colab": {
          "base_uri": "https://localhost:8080/",
          "height": 204
        },
        "outputId": "f97452bc-b0e0-4909-c3de-338151a4a2b2"
      },
      "source": [
        "# Merging timestamp from two tables\n",
        "dataset = pd.merge(left=covid_news_headlines, left_on='timestamp',\n",
        "         right=us_gbp, right_on='timestamp')\n",
        "dataset.tail()"
      ],
      "execution_count": 108,
      "outputs": [
        {
          "output_type": "execute_result",
          "data": {
            "text/html": [
              "<div>\n",
              "<style scoped>\n",
              "    .dataframe tbody tr th:only-of-type {\n",
              "        vertical-align: middle;\n",
              "    }\n",
              "\n",
              "    .dataframe tbody tr th {\n",
              "        vertical-align: top;\n",
              "    }\n",
              "\n",
              "    .dataframe thead th {\n",
              "        text-align: right;\n",
              "    }\n",
              "</style>\n",
              "<table border=\"1\" class=\"dataframe\">\n",
              "  <thead>\n",
              "    <tr style=\"text-align: right;\">\n",
              "      <th></th>\n",
              "      <th>source</th>\n",
              "      <th>timestamp.date</th>\n",
              "      <th>timestamp</th>\n",
              "      <th>source_lst</th>\n",
              "      <th>spot_price</th>\n",
              "    </tr>\n",
              "  </thead>\n",
              "  <tbody>\n",
              "    <tr>\n",
              "      <th>44</th>\n",
              "      <td>workers have access to thousands of educati...</td>\n",
              "      <td>2020-01-08</td>\n",
              "      <td>1578441600</td>\n",
              "      <td>[the commander in chief took out the worlds mo...</td>\n",
              "      <td>1.3099</td>\n",
              "    </tr>\n",
              "    <tr>\n",
              "      <th>45</th>\n",
              "      <td>us foreign policy does not exist to dispe...</td>\n",
              "      <td>2020-01-07</td>\n",
              "      <td>1578355200</td>\n",
              "      <td>[us foreign policy does not exist to dispense ...</td>\n",
              "      <td>1.3122</td>\n",
              "    </tr>\n",
              "    <tr>\n",
              "      <th>46</th>\n",
              "      <td>thousands gathered in baghdad as part of a ...</td>\n",
              "      <td>2020-01-06</td>\n",
              "      <td>1578268800</td>\n",
              "      <td>[the patriots dynasty, the dominance that is u...</td>\n",
              "      <td>1.3159</td>\n",
              "    </tr>\n",
              "    <tr>\n",
              "      <th>47</th>\n",
              "      <td>a sinking jakarta, already 40% below sea le...</td>\n",
              "      <td>2020-01-03</td>\n",
              "      <td>1578009600</td>\n",
              "      <td>[at 11 years running, the united states is exp...</td>\n",
              "      <td>1.3072</td>\n",
              "    </tr>\n",
              "    <tr>\n",
              "      <th>48</th>\n",
              "      <td>an attempt by supporters of iran-backed mil...</td>\n",
              "      <td>2020-01-02</td>\n",
              "      <td>1577923200</td>\n",
              "      <td>[an attempt by supporters of iran-backed milit...</td>\n",
              "      <td>1.3189</td>\n",
              "    </tr>\n",
              "  </tbody>\n",
              "</table>\n",
              "</div>"
            ],
            "text/plain": [
              "                                               source  ... spot_price\n",
              "44     workers have access to thousands of educati...  ...     1.3099\n",
              "45       us foreign policy does not exist to dispe...  ...     1.3122\n",
              "46     thousands gathered in baghdad as part of a ...  ...     1.3159\n",
              "47     a sinking jakarta, already 40% below sea le...  ...     1.3072\n",
              "48     an attempt by supporters of iran-backed mil...  ...     1.3189\n",
              "\n",
              "[5 rows x 5 columns]"
            ]
          },
          "metadata": {
            "tags": []
          },
          "execution_count": 108
        }
      ]
    },
    {
      "cell_type": "code",
      "metadata": {
        "id": "1bbetAsBZh3j",
        "colab_type": "code",
        "colab": {
          "base_uri": "https://localhost:8080/",
          "height": 88
        },
        "outputId": "72b7b82b-115d-47eb-900d-4c2e2a2181b3"
      },
      "source": [
        "# need to filter so that only america and covid are seen\n",
        "import numpy as np\n",
        "# stored as a 2d array\n",
        "news = np.array(dataset['source_lst'])\n",
        "print(news[0][0])\n",
        "print(news[1][5])\n",
        "print(news[48][0])\n"
      ],
      "execution_count": 111,
      "outputs": [
        {
          "output_type": "stream",
          "text": [
            "we dont want those kids in our classrooms: parents warned as coronavirus closes two schools\n",
            "coronavirus is officially declared a pandemic but health authorities in australia are calling for calm, reiterating that a runny nose or scratchy throat does not mean you have covid-19_\n",
            "an attempt by supporters of iran-backed militias to storm the u_s_ embassy in baghdad was called off, as protesters withdrew from the area after their leadership ordered the suspension of a violent challenge to american troop presence in iraq\n"
          ],
          "name": "stdout"
        }
      ]
    },
    {
      "cell_type": "markdown",
      "metadata": {
        "id": "mw_1tsOIdPPx",
        "colab_type": "text"
      },
      "source": [
        "# Count Vectorize Breakdown"
      ]
    },
    {
      "cell_type": "code",
      "metadata": {
        "id": "JZaLxc7bQX00",
        "colab_type": "code",
        "colab": {}
      },
      "source": [
        "from sklearn.feature_extraction.text import CountVectorizer\n",
        "from sklearn.feature_extraction.text import TfidfVectorizer \n",
        "from pandas import DataFrame"
      ],
      "execution_count": 112,
      "outputs": []
    },
    {
      "cell_type": "code",
      "metadata": {
        "id": "QeYHfVLLMuPj",
        "colab_type": "code",
        "colab": {}
      },
      "source": [
        "# Count Vectorize\n",
        "# Takes in multiple documents in form of a python list = message_list\n",
        "# Vectorizer converts from text to numbers\n",
        "def create_document_term_matrix(message_list, vectorizer):\n",
        "  # Transforms all messages into numbers\n",
        "  message_list=[message_list]\n",
        "  doc_term_matrix = vectorizer.fit_transform(message_list)\n",
        "  # Converts all into a matrix and return a dataframe\n",
        "  return DataFrame(doc_term_matrix.toarray(),\n",
        "                   columns=vectorizer.get_feature_names())"
      ],
      "execution_count": 114,
      "outputs": []
    },
    {
      "cell_type": "markdown",
      "metadata": {
        "id": "z4JyfECZdePm",
        "colab_type": "text"
      },
      "source": [
        "# Method #1 Count Vectorize "
      ]
    },
    {
      "cell_type": "code",
      "metadata": {
        "id": "olcADTZzMykL",
        "colab_type": "code",
        "colab": {}
      },
      "source": [
        "\n",
        "msg_1 = news[0][0]"
      ],
      "execution_count": 115,
      "outputs": []
    },
    {
      "cell_type": "code",
      "metadata": {
        "id": "-ACY2CRCru32",
        "colab_type": "code",
        "colab": {}
      },
      "source": [
        "# Bag of words approach where each word in document is separated into tokens\n",
        "count_vect = CountVectorizer()"
      ],
      "execution_count": 116,
      "outputs": []
    },
    {
      "cell_type": "code",
      "metadata": {
        "id": "7g9Cs5aRryVg",
        "colab_type": "code",
        "colab": {
          "base_uri": "https://localhost:8080/",
          "height": 80
        },
        "outputId": "6a1b368f-a043-442f-b187-c50f245e12c7"
      },
      "source": [
        "# As you can see vivienne has appeared only once in 0th document, matrix 1 occurs 0 did not occur\n",
        "# If using as classification task you can use this data as x train and y train data\n",
        "# Some words are not significant for a classification task such as is, to etc\n",
        "# Remove these unwanted words from corpus of words or give them a lower value compare to the important words\n",
        "# We do this by creating a TF – Term frequency and IDF - Indicator Data Frequency\n",
        "create_document_term_matrix(msg_1, count_vect)"
      ],
      "execution_count": 117,
      "outputs": [
        {
          "output_type": "execute_result",
          "data": {
            "text/html": [
              "<div>\n",
              "<style scoped>\n",
              "    .dataframe tbody tr th:only-of-type {\n",
              "        vertical-align: middle;\n",
              "    }\n",
              "\n",
              "    .dataframe tbody tr th {\n",
              "        vertical-align: top;\n",
              "    }\n",
              "\n",
              "    .dataframe thead th {\n",
              "        text-align: right;\n",
              "    }\n",
              "</style>\n",
              "<table border=\"1\" class=\"dataframe\">\n",
              "  <thead>\n",
              "    <tr style=\"text-align: right;\">\n",
              "      <th></th>\n",
              "      <th>as</th>\n",
              "      <th>classrooms</th>\n",
              "      <th>closes</th>\n",
              "      <th>coronavirus</th>\n",
              "      <th>dont</th>\n",
              "      <th>in</th>\n",
              "      <th>kids</th>\n",
              "      <th>our</th>\n",
              "      <th>parents</th>\n",
              "      <th>schools</th>\n",
              "      <th>those</th>\n",
              "      <th>two</th>\n",
              "      <th>want</th>\n",
              "      <th>warned</th>\n",
              "      <th>we</th>\n",
              "    </tr>\n",
              "  </thead>\n",
              "  <tbody>\n",
              "    <tr>\n",
              "      <th>0</th>\n",
              "      <td>1</td>\n",
              "      <td>1</td>\n",
              "      <td>1</td>\n",
              "      <td>1</td>\n",
              "      <td>1</td>\n",
              "      <td>1</td>\n",
              "      <td>1</td>\n",
              "      <td>1</td>\n",
              "      <td>1</td>\n",
              "      <td>1</td>\n",
              "      <td>1</td>\n",
              "      <td>1</td>\n",
              "      <td>1</td>\n",
              "      <td>1</td>\n",
              "      <td>1</td>\n",
              "    </tr>\n",
              "  </tbody>\n",
              "</table>\n",
              "</div>"
            ],
            "text/plain": [
              "   as  classrooms  closes  coronavirus  dont  ...  those  two  want  warned  we\n",
              "0   1           1       1            1     1  ...      1    1     1       1   1\n",
              "\n",
              "[1 rows x 15 columns]"
            ]
          },
          "metadata": {
            "tags": []
          },
          "execution_count": 117
        }
      ]
    },
    {
      "cell_type": "markdown",
      "metadata": {
        "id": "cWCq-Pk8dg59",
        "colab_type": "text"
      },
      "source": [
        "# Method #2 TF_IDF Vectorizer"
      ]
    },
    {
      "cell_type": "code",
      "metadata": {
        "id": "-tDsgYyBr2ag",
        "colab_type": "code",
        "colab": {
          "base_uri": "https://localhost:8080/",
          "height": 34
        },
        "outputId": "a51c530c-aeb2-42a2-fad7-1083c21d4a1e"
      },
      "source": [
        "# TF-IDF is how often a word occurs in a document. \n",
        "# If we have multiple occurances of one word we except this value of this word to rise.\n",
        "# Contains 2 documents \n",
        "msg_2 = news[0][0]\n",
        "print(msg_2)"
      ],
      "execution_count": 118,
      "outputs": [
        {
          "output_type": "stream",
          "text": [
            "we dont want those kids in our classrooms: parents warned as coronavirus closes two schools\n"
          ],
          "name": "stdout"
        }
      ]
    },
    {
      "cell_type": "code",
      "metadata": {
        "id": "jhJWELx3sLSu",
        "colab_type": "code",
        "colab": {}
      },
      "source": [
        "# We create an instance of the tfidf vectoriser\n",
        "tfidf_vect = TfidfVectorizer()\n"
      ],
      "execution_count": 119,
      "outputs": []
    },
    {
      "cell_type": "code",
      "metadata": {
        "id": "Kl-ateg9sPak",
        "colab_type": "code",
        "colab": {
          "base_uri": "https://localhost:8080/",
          "height": 100
        },
        "outputId": "4355eec0-89b2-4525-e03d-adf66d8107f4"
      },
      "source": [
        "\n",
        "create_document_term_matrix(msg_2, tfidf_vect)"
      ],
      "execution_count": 120,
      "outputs": [
        {
          "output_type": "execute_result",
          "data": {
            "text/html": [
              "<div>\n",
              "<style scoped>\n",
              "    .dataframe tbody tr th:only-of-type {\n",
              "        vertical-align: middle;\n",
              "    }\n",
              "\n",
              "    .dataframe tbody tr th {\n",
              "        vertical-align: top;\n",
              "    }\n",
              "\n",
              "    .dataframe thead th {\n",
              "        text-align: right;\n",
              "    }\n",
              "</style>\n",
              "<table border=\"1\" class=\"dataframe\">\n",
              "  <thead>\n",
              "    <tr style=\"text-align: right;\">\n",
              "      <th></th>\n",
              "      <th>as</th>\n",
              "      <th>classrooms</th>\n",
              "      <th>closes</th>\n",
              "      <th>coronavirus</th>\n",
              "      <th>dont</th>\n",
              "      <th>in</th>\n",
              "      <th>kids</th>\n",
              "      <th>our</th>\n",
              "      <th>parents</th>\n",
              "      <th>schools</th>\n",
              "      <th>those</th>\n",
              "      <th>two</th>\n",
              "      <th>want</th>\n",
              "      <th>warned</th>\n",
              "      <th>we</th>\n",
              "    </tr>\n",
              "  </thead>\n",
              "  <tbody>\n",
              "    <tr>\n",
              "      <th>0</th>\n",
              "      <td>0.258199</td>\n",
              "      <td>0.258199</td>\n",
              "      <td>0.258199</td>\n",
              "      <td>0.258199</td>\n",
              "      <td>0.258199</td>\n",
              "      <td>0.258199</td>\n",
              "      <td>0.258199</td>\n",
              "      <td>0.258199</td>\n",
              "      <td>0.258199</td>\n",
              "      <td>0.258199</td>\n",
              "      <td>0.258199</td>\n",
              "      <td>0.258199</td>\n",
              "      <td>0.258199</td>\n",
              "      <td>0.258199</td>\n",
              "      <td>0.258199</td>\n",
              "    </tr>\n",
              "  </tbody>\n",
              "</table>\n",
              "</div>"
            ],
            "text/plain": [
              "         as  classrooms    closes  ...      want    warned        we\n",
              "0  0.258199    0.258199  0.258199  ...  0.258199  0.258199  0.258199\n",
              "\n",
              "[1 rows x 15 columns]"
            ]
          },
          "metadata": {
            "tags": []
          },
          "execution_count": 120
        }
      ]
    },
    {
      "cell_type": "markdown",
      "metadata": {
        "id": "d2V_jI24d9_t",
        "colab_type": "text"
      },
      "source": [
        "# Method #3 TF_IDF Vectorizer"
      ]
    },
    {
      "cell_type": "code",
      "metadata": {
        "id": "hSC4iFhOsYWb",
        "colab_type": "code",
        "colab": {}
      },
      "source": [
        "msg_3 = news[0][2]"
      ],
      "execution_count": 121,
      "outputs": []
    },
    {
      "cell_type": "code",
      "metadata": {
        "id": "8LuE9CtUsjBQ",
        "colab_type": "code",
        "colab": {
          "base_uri": "https://localhost:8080/",
          "height": 80
        },
        "outputId": "90f832e7-0e8b-4be8-8602-e5b4c5add660"
      },
      "source": [
        "create_document_term_matrix(msg_3, tfidf_vect)"
      ],
      "execution_count": 122,
      "outputs": [
        {
          "output_type": "execute_result",
          "data": {
            "text/html": [
              "<div>\n",
              "<style scoped>\n",
              "    .dataframe tbody tr th:only-of-type {\n",
              "        vertical-align: middle;\n",
              "    }\n",
              "\n",
              "    .dataframe tbody tr th {\n",
              "        vertical-align: top;\n",
              "    }\n",
              "\n",
              "    .dataframe thead th {\n",
              "        text-align: right;\n",
              "    }\n",
              "</style>\n",
              "<table border=\"1\" class=\"dataframe\">\n",
              "  <thead>\n",
              "    <tr style=\"text-align: right;\">\n",
              "      <th></th>\n",
              "      <th>all</th>\n",
              "      <th>coronavirus</th>\n",
              "      <th>disrupts</th>\n",
              "      <th>everyday</th>\n",
              "      <th>for</th>\n",
              "      <th>italians</th>\n",
              "      <th>life</th>\n",
              "    </tr>\n",
              "  </thead>\n",
              "  <tbody>\n",
              "    <tr>\n",
              "      <th>0</th>\n",
              "      <td>0.377964</td>\n",
              "      <td>0.377964</td>\n",
              "      <td>0.377964</td>\n",
              "      <td>0.377964</td>\n",
              "      <td>0.377964</td>\n",
              "      <td>0.377964</td>\n",
              "      <td>0.377964</td>\n",
              "    </tr>\n",
              "  </tbody>\n",
              "</table>\n",
              "</div>"
            ],
            "text/plain": [
              "        all  coronavirus  disrupts  everyday       for  italians      life\n",
              "0  0.377964     0.377964  0.377964  0.377964  0.377964  0.377964  0.377964"
            ]
          },
          "metadata": {
            "tags": []
          },
          "execution_count": 122
        }
      ]
    },
    {
      "cell_type": "markdown",
      "metadata": {
        "id": "Tirgk8jyeAev",
        "colab_type": "text"
      },
      "source": [
        "# Method #4 TF_IDF Vectorizer"
      ]
    },
    {
      "cell_type": "code",
      "metadata": {
        "id": "Wug7t_Hvsm0t",
        "colab_type": "code",
        "colab": {}
      },
      "source": [
        "msg_4 = news[0][3]"
      ],
      "execution_count": 123,
      "outputs": []
    },
    {
      "cell_type": "code",
      "metadata": {
        "id": "dGnczuXJswfK",
        "colab_type": "code",
        "colab": {
          "base_uri": "https://localhost:8080/",
          "height": 100
        },
        "outputId": "c11bc286-0f59-4ec5-d571-818d4ebe2965"
      },
      "source": [
        "create_document_term_matrix(msg_4, tfidf_vect)"
      ],
      "execution_count": 124,
      "outputs": [
        {
          "output_type": "execute_result",
          "data": {
            "text/html": [
              "<div>\n",
              "<style scoped>\n",
              "    .dataframe tbody tr th:only-of-type {\n",
              "        vertical-align: middle;\n",
              "    }\n",
              "\n",
              "    .dataframe tbody tr th {\n",
              "        vertical-align: top;\n",
              "    }\n",
              "\n",
              "    .dataframe thead th {\n",
              "        text-align: right;\n",
              "    }\n",
              "</style>\n",
              "<table border=\"1\" class=\"dataframe\">\n",
              "  <thead>\n",
              "    <tr style=\"text-align: right;\">\n",
              "      <th></th>\n",
              "      <th>and</th>\n",
              "      <th>come</th>\n",
              "      <th>coronavirus</th>\n",
              "      <th>crisis</th>\n",
              "      <th>during</th>\n",
              "      <th>emergency</th>\n",
              "      <th>especially</th>\n",
              "      <th>frydenberg</th>\n",
              "      <th>grips</th>\n",
              "      <th>ian</th>\n",
              "      <th>josh</th>\n",
              "      <th>morrison</th>\n",
              "      <th>need</th>\n",
              "      <th>not</th>\n",
              "      <th>of</th>\n",
              "      <th>rational</th>\n",
              "      <th>response</th>\n",
              "      <th>scott</th>\n",
              "      <th>something</th>\n",
              "      <th>thats</th>\n",
              "      <th>the</th>\n",
              "      <th>they</th>\n",
              "      <th>times</th>\n",
              "      <th>to</th>\n",
              "      <th>unveil</th>\n",
              "      <th>verrender</th>\n",
              "      <th>were</th>\n",
              "      <th>when</th>\n",
              "      <th>with</th>\n",
              "      <th>writes</th>\n",
              "    </tr>\n",
              "  </thead>\n",
              "  <tbody>\n",
              "    <tr>\n",
              "      <th>0</th>\n",
              "      <td>0.174078</td>\n",
              "      <td>0.174078</td>\n",
              "      <td>0.174078</td>\n",
              "      <td>0.174078</td>\n",
              "      <td>0.174078</td>\n",
              "      <td>0.174078</td>\n",
              "      <td>0.174078</td>\n",
              "      <td>0.174078</td>\n",
              "      <td>0.174078</td>\n",
              "      <td>0.174078</td>\n",
              "      <td>0.174078</td>\n",
              "      <td>0.174078</td>\n",
              "      <td>0.174078</td>\n",
              "      <td>0.174078</td>\n",
              "      <td>0.174078</td>\n",
              "      <td>0.174078</td>\n",
              "      <td>0.174078</td>\n",
              "      <td>0.174078</td>\n",
              "      <td>0.174078</td>\n",
              "      <td>0.174078</td>\n",
              "      <td>0.174078</td>\n",
              "      <td>0.174078</td>\n",
              "      <td>0.174078</td>\n",
              "      <td>0.348155</td>\n",
              "      <td>0.174078</td>\n",
              "      <td>0.174078</td>\n",
              "      <td>0.174078</td>\n",
              "      <td>0.174078</td>\n",
              "      <td>0.174078</td>\n",
              "      <td>0.174078</td>\n",
              "    </tr>\n",
              "  </tbody>\n",
              "</table>\n",
              "</div>"
            ],
            "text/plain": [
              "        and      come  coronavirus  ...      when      with    writes\n",
              "0  0.174078  0.174078     0.174078  ...  0.174078  0.174078  0.174078\n",
              "\n",
              "[1 rows x 30 columns]"
            ]
          },
          "metadata": {
            "tags": []
          },
          "execution_count": 124
        }
      ]
    }
  ]
}