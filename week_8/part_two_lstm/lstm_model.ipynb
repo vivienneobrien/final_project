{
  "nbformat": 4,
  "nbformat_minor": 0,
  "metadata": {
    "colab": {
      "name": "lstm_model.ipynb",
      "provenance": [],
      "collapsed_sections": []
    },
    "kernelspec": {
      "name": "python3",
      "display_name": "Python 3"
    },
    "accelerator": "GPU"
  },
  "cells": [
    {
      "cell_type": "code",
      "metadata": {
        "id": "0hR-zTSzJREn",
        "colab_type": "code",
        "colab": {
          "base_uri": "https://localhost:8080/",
          "height": 281
        },
        "outputId": "658ba39e-2ccf-46b2-e74b-a5e9e0bdfae3"
      },
      "source": [
        "# Notes for user:\n",
        "# This notebook will use the dataset COVID-19 and forex to predict the forex spot price of a currency pair.\n",
        "# What to ask user before using this application:\n",
        "# What currency pair are you interested in? USD/GBP (This layout means that the base currency is USD)\n",
        "# The currency the user wants to look at is how much the USD is worth to the GBP.\n",
        "# Therefore, we look at the death rates in the US and the UK.\n",
        "\n",
        "# Before this commit, I was able to predict the covid-death rates now I am tryng to zip the forex and covid into one dataset\n",
        "# being a 2D [[death_rates [0], prices[0]], [deathrates[1], prices[1]]] so that i can have a 2D shape and input 2 features \n",
        "# into my model - unsure why this is not working. Look at: Preprocessing the Data - Train & Test for more details.\n",
        "\n",
        "\n",
        "# Use some functions from tensorflow_docs\n",
        "!pip install git+https://github.com/tensorflow/docs"
      ],
      "execution_count": 88,
      "outputs": [
        {
          "output_type": "stream",
          "text": [
            "Collecting git+https://github.com/tensorflow/docs\n",
            "  Cloning https://github.com/tensorflow/docs to /tmp/pip-req-build-filcxgj9\n",
            "  Running command git clone -q https://github.com/tensorflow/docs /tmp/pip-req-build-filcxgj9\n",
            "Requirement already satisfied (use --upgrade to upgrade): tensorflow-docs===0.0.0d2c4f9c3b9714236c19cc7a549b54f79bf44218c- from git+https://github.com/tensorflow/docs in /usr/local/lib/python3.6/dist-packages\n",
            "Requirement already satisfied: astor in /usr/local/lib/python3.6/dist-packages (from tensorflow-docs===0.0.0d2c4f9c3b9714236c19cc7a549b54f79bf44218c-) (0.8.1)\n",
            "Requirement already satisfied: absl-py in /usr/local/lib/python3.6/dist-packages (from tensorflow-docs===0.0.0d2c4f9c3b9714236c19cc7a549b54f79bf44218c-) (0.9.0)\n",
            "Requirement already satisfied: protobuf in /usr/local/lib/python3.6/dist-packages (from tensorflow-docs===0.0.0d2c4f9c3b9714236c19cc7a549b54f79bf44218c-) (3.12.2)\n",
            "Requirement already satisfied: pyyaml in /usr/local/lib/python3.6/dist-packages (from tensorflow-docs===0.0.0d2c4f9c3b9714236c19cc7a549b54f79bf44218c-) (3.13)\n",
            "Requirement already satisfied: six in /usr/local/lib/python3.6/dist-packages (from absl-py->tensorflow-docs===0.0.0d2c4f9c3b9714236c19cc7a549b54f79bf44218c-) (1.15.0)\n",
            "Requirement already satisfied: setuptools in /usr/local/lib/python3.6/dist-packages (from protobuf->tensorflow-docs===0.0.0d2c4f9c3b9714236c19cc7a549b54f79bf44218c-) (49.1.0)\n",
            "Building wheels for collected packages: tensorflow-docs\n",
            "  Building wheel for tensorflow-docs (setup.py) ... \u001b[?25l\u001b[?25hdone\n",
            "  Created wheel for tensorflow-docs: filename=tensorflow_docs-0.0.0d2c4f9c3b9714236c19cc7a549b54f79bf44218c_-cp36-none-any.whl size=126415 sha256=44e86c2876317975832d075b4dcdf5082eea8f191b54d73066c8b20c43413524\n",
            "  Stored in directory: /tmp/pip-ephem-wheel-cache-pzrksjo9/wheels/eb/1b/35/fce87697be00d2fc63e0b4b395b0d9c7e391a10e98d9a0d97f\n",
            "Successfully built tensorflow-docs\n"
          ],
          "name": "stdout"
        }
      ]
    },
    {
      "cell_type": "code",
      "metadata": {
        "id": "iJ6D0PrOJYeg",
        "colab_type": "code",
        "colab": {}
      },
      "source": [
        "import pathlib\n",
        "import matplotlib.pyplot as plt\n",
        "import numpy as np\n",
        "import pandas as pd"
      ],
      "execution_count": 89,
      "outputs": []
    },
    {
      "cell_type": "code",
      "metadata": {
        "id": "AgIgQg1XJcP2",
        "colab_type": "code",
        "colab": {
          "base_uri": "https://localhost:8080/",
          "height": 33
        },
        "outputId": "37bd80b4-482f-4ccf-fe66-35536576ee46"
      },
      "source": [
        "import tensorflow as tf\n",
        "from tensorflow import keras\n",
        "from tensorflow.keras import layers\n",
        "print(tf.__version__)"
      ],
      "execution_count": 90,
      "outputs": [
        {
          "output_type": "stream",
          "text": [
            "2.2.0\n"
          ],
          "name": "stdout"
        }
      ]
    },
    {
      "cell_type": "code",
      "metadata": {
        "id": "m_F-7tgZJe2m",
        "colab_type": "code",
        "colab": {}
      },
      "source": [
        "import tensorflow_docs as tfdocs\n",
        "import tensorflow_docs.plots\n",
        "import tensorflow_docs.modeling"
      ],
      "execution_count": 91,
      "outputs": []
    },
    {
      "cell_type": "markdown",
      "metadata": {
        "id": "QzadtzC3Hniw",
        "colab_type": "text"
      },
      "source": [
        "# Data Collection\n"
      ]
    },
    {
      "cell_type": "code",
      "metadata": {
        "id": "7GjIgZ7kJhjo",
        "colab_type": "code",
        "colab": {
          "base_uri": "https://localhost:8080/",
          "height": 292
        },
        "outputId": "5d7e71ca-06d9-43fd-8378-59f4be123e0c"
      },
      "source": [
        "# Importing covid_dataset using pandas. Droping null values.\n",
        "covid_dataset_data= pd.read_csv('covid.csv', na_values = \"?\", comment='\\t', skipinitialspace=True)\n",
        "covid_dataset = covid_dataset_data.copy()\n",
        "# covid_dataset = covid_dataset.dropna()\n",
        "covid_dataset.head()"
      ],
      "execution_count": 92,
      "outputs": [
        {
          "output_type": "execute_result",
          "data": {
            "text/html": [
              "<div>\n",
              "<style scoped>\n",
              "    .dataframe tbody tr th:only-of-type {\n",
              "        vertical-align: middle;\n",
              "    }\n",
              "\n",
              "    .dataframe tbody tr th {\n",
              "        vertical-align: top;\n",
              "    }\n",
              "\n",
              "    .dataframe thead th {\n",
              "        text-align: right;\n",
              "    }\n",
              "</style>\n",
              "<table border=\"1\" class=\"dataframe\">\n",
              "  <thead>\n",
              "    <tr style=\"text-align: right;\">\n",
              "      <th></th>\n",
              "      <th>iso_code</th>\n",
              "      <th>continent</th>\n",
              "      <th>location</th>\n",
              "      <th>date</th>\n",
              "      <th>total_cases</th>\n",
              "      <th>new_cases</th>\n",
              "      <th>total_deaths</th>\n",
              "      <th>new_deaths</th>\n",
              "      <th>total_cases_per_million</th>\n",
              "      <th>new_cases_per_million</th>\n",
              "      <th>total_deaths_per_million</th>\n",
              "      <th>new_deaths_per_million</th>\n",
              "      <th>total_tests</th>\n",
              "      <th>new_tests</th>\n",
              "      <th>total_tests_per_thousand</th>\n",
              "      <th>new_tests_per_thousand</th>\n",
              "      <th>new_tests_smoothed</th>\n",
              "      <th>new_tests_smoothed_per_thousand</th>\n",
              "      <th>tests_units</th>\n",
              "      <th>stringency_index</th>\n",
              "      <th>population</th>\n",
              "      <th>population_density</th>\n",
              "      <th>median_age</th>\n",
              "      <th>aged_65_older</th>\n",
              "      <th>aged_70_older</th>\n",
              "      <th>gdp_per_capita</th>\n",
              "      <th>extreme_poverty</th>\n",
              "      <th>cvd_death_rate</th>\n",
              "      <th>diabetes_prevalence</th>\n",
              "      <th>female_smokers</th>\n",
              "      <th>male_smokers</th>\n",
              "      <th>handwashing_facilities</th>\n",
              "      <th>hospital_beds_per_thousand</th>\n",
              "      <th>life_expectancy</th>\n",
              "    </tr>\n",
              "  </thead>\n",
              "  <tbody>\n",
              "    <tr>\n",
              "      <th>0</th>\n",
              "      <td>AFG</td>\n",
              "      <td>Asia</td>\n",
              "      <td>Afghanistan</td>\n",
              "      <td>2019-12-31</td>\n",
              "      <td>0.0</td>\n",
              "      <td>0.0</td>\n",
              "      <td>0.0</td>\n",
              "      <td>0.0</td>\n",
              "      <td>0.0</td>\n",
              "      <td>0.0</td>\n",
              "      <td>0.0</td>\n",
              "      <td>0.0</td>\n",
              "      <td>NaN</td>\n",
              "      <td>NaN</td>\n",
              "      <td>NaN</td>\n",
              "      <td>NaN</td>\n",
              "      <td>NaN</td>\n",
              "      <td>NaN</td>\n",
              "      <td>NaN</td>\n",
              "      <td>NaN</td>\n",
              "      <td>38928341.0</td>\n",
              "      <td>54.422</td>\n",
              "      <td>18.6</td>\n",
              "      <td>2.581</td>\n",
              "      <td>1.337</td>\n",
              "      <td>1803.987</td>\n",
              "      <td>NaN</td>\n",
              "      <td>597.029</td>\n",
              "      <td>9.59</td>\n",
              "      <td>NaN</td>\n",
              "      <td>NaN</td>\n",
              "      <td>37.746</td>\n",
              "      <td>0.5</td>\n",
              "      <td>64.83</td>\n",
              "    </tr>\n",
              "    <tr>\n",
              "      <th>1</th>\n",
              "      <td>AFG</td>\n",
              "      <td>Asia</td>\n",
              "      <td>Afghanistan</td>\n",
              "      <td>2020-01-01</td>\n",
              "      <td>0.0</td>\n",
              "      <td>0.0</td>\n",
              "      <td>0.0</td>\n",
              "      <td>0.0</td>\n",
              "      <td>0.0</td>\n",
              "      <td>0.0</td>\n",
              "      <td>0.0</td>\n",
              "      <td>0.0</td>\n",
              "      <td>NaN</td>\n",
              "      <td>NaN</td>\n",
              "      <td>NaN</td>\n",
              "      <td>NaN</td>\n",
              "      <td>NaN</td>\n",
              "      <td>NaN</td>\n",
              "      <td>NaN</td>\n",
              "      <td>0.0</td>\n",
              "      <td>38928341.0</td>\n",
              "      <td>54.422</td>\n",
              "      <td>18.6</td>\n",
              "      <td>2.581</td>\n",
              "      <td>1.337</td>\n",
              "      <td>1803.987</td>\n",
              "      <td>NaN</td>\n",
              "      <td>597.029</td>\n",
              "      <td>9.59</td>\n",
              "      <td>NaN</td>\n",
              "      <td>NaN</td>\n",
              "      <td>37.746</td>\n",
              "      <td>0.5</td>\n",
              "      <td>64.83</td>\n",
              "    </tr>\n",
              "    <tr>\n",
              "      <th>2</th>\n",
              "      <td>AFG</td>\n",
              "      <td>Asia</td>\n",
              "      <td>Afghanistan</td>\n",
              "      <td>2020-01-02</td>\n",
              "      <td>0.0</td>\n",
              "      <td>0.0</td>\n",
              "      <td>0.0</td>\n",
              "      <td>0.0</td>\n",
              "      <td>0.0</td>\n",
              "      <td>0.0</td>\n",
              "      <td>0.0</td>\n",
              "      <td>0.0</td>\n",
              "      <td>NaN</td>\n",
              "      <td>NaN</td>\n",
              "      <td>NaN</td>\n",
              "      <td>NaN</td>\n",
              "      <td>NaN</td>\n",
              "      <td>NaN</td>\n",
              "      <td>NaN</td>\n",
              "      <td>0.0</td>\n",
              "      <td>38928341.0</td>\n",
              "      <td>54.422</td>\n",
              "      <td>18.6</td>\n",
              "      <td>2.581</td>\n",
              "      <td>1.337</td>\n",
              "      <td>1803.987</td>\n",
              "      <td>NaN</td>\n",
              "      <td>597.029</td>\n",
              "      <td>9.59</td>\n",
              "      <td>NaN</td>\n",
              "      <td>NaN</td>\n",
              "      <td>37.746</td>\n",
              "      <td>0.5</td>\n",
              "      <td>64.83</td>\n",
              "    </tr>\n",
              "    <tr>\n",
              "      <th>3</th>\n",
              "      <td>AFG</td>\n",
              "      <td>Asia</td>\n",
              "      <td>Afghanistan</td>\n",
              "      <td>2020-01-03</td>\n",
              "      <td>0.0</td>\n",
              "      <td>0.0</td>\n",
              "      <td>0.0</td>\n",
              "      <td>0.0</td>\n",
              "      <td>0.0</td>\n",
              "      <td>0.0</td>\n",
              "      <td>0.0</td>\n",
              "      <td>0.0</td>\n",
              "      <td>NaN</td>\n",
              "      <td>NaN</td>\n",
              "      <td>NaN</td>\n",
              "      <td>NaN</td>\n",
              "      <td>NaN</td>\n",
              "      <td>NaN</td>\n",
              "      <td>NaN</td>\n",
              "      <td>0.0</td>\n",
              "      <td>38928341.0</td>\n",
              "      <td>54.422</td>\n",
              "      <td>18.6</td>\n",
              "      <td>2.581</td>\n",
              "      <td>1.337</td>\n",
              "      <td>1803.987</td>\n",
              "      <td>NaN</td>\n",
              "      <td>597.029</td>\n",
              "      <td>9.59</td>\n",
              "      <td>NaN</td>\n",
              "      <td>NaN</td>\n",
              "      <td>37.746</td>\n",
              "      <td>0.5</td>\n",
              "      <td>64.83</td>\n",
              "    </tr>\n",
              "    <tr>\n",
              "      <th>4</th>\n",
              "      <td>AFG</td>\n",
              "      <td>Asia</td>\n",
              "      <td>Afghanistan</td>\n",
              "      <td>2020-01-04</td>\n",
              "      <td>0.0</td>\n",
              "      <td>0.0</td>\n",
              "      <td>0.0</td>\n",
              "      <td>0.0</td>\n",
              "      <td>0.0</td>\n",
              "      <td>0.0</td>\n",
              "      <td>0.0</td>\n",
              "      <td>0.0</td>\n",
              "      <td>NaN</td>\n",
              "      <td>NaN</td>\n",
              "      <td>NaN</td>\n",
              "      <td>NaN</td>\n",
              "      <td>NaN</td>\n",
              "      <td>NaN</td>\n",
              "      <td>NaN</td>\n",
              "      <td>0.0</td>\n",
              "      <td>38928341.0</td>\n",
              "      <td>54.422</td>\n",
              "      <td>18.6</td>\n",
              "      <td>2.581</td>\n",
              "      <td>1.337</td>\n",
              "      <td>1803.987</td>\n",
              "      <td>NaN</td>\n",
              "      <td>597.029</td>\n",
              "      <td>9.59</td>\n",
              "      <td>NaN</td>\n",
              "      <td>NaN</td>\n",
              "      <td>37.746</td>\n",
              "      <td>0.5</td>\n",
              "      <td>64.83</td>\n",
              "    </tr>\n",
              "  </tbody>\n",
              "</table>\n",
              "</div>"
            ],
            "text/plain": [
              "  iso_code continent  ... hospital_beds_per_thousand life_expectancy\n",
              "0      AFG      Asia  ...                        0.5           64.83\n",
              "1      AFG      Asia  ...                        0.5           64.83\n",
              "2      AFG      Asia  ...                        0.5           64.83\n",
              "3      AFG      Asia  ...                        0.5           64.83\n",
              "4      AFG      Asia  ...                        0.5           64.83\n",
              "\n",
              "[5 rows x 34 columns]"
            ]
          },
          "metadata": {
            "tags": []
          },
          "execution_count": 92
        }
      ]
    },
    {
      "cell_type": "code",
      "metadata": {
        "id": "aYBFYnKtiIkQ",
        "colab_type": "code",
        "colab": {
          "base_uri": "https://localhost:8080/",
          "height": 191
        },
        "outputId": "7d8c2354-c681-4a42-9487-b0b9df114396"
      },
      "source": [
        "# Trying to isolate location/country based on currency in question\n",
        "# We are looking at pound and sterling therefore need to isolate 'United Kingdom' & 'United States' in location column\n",
        "# Problem: Informaiton prints up until 'Trinidad and Tobago' for some reason – can print 'Togo'. Therefore cannot print United Kingdom or United States\n",
        "us_death_rates = covid_dataset.loc[covid_dataset.location=='United States', ['location', 'date', 'total_deaths', 'total_cases', 'cvd_death_rate']]\n",
        "us_death_rates.head()"
      ],
      "execution_count": 93,
      "outputs": [
        {
          "output_type": "execute_result",
          "data": {
            "text/html": [
              "<div>\n",
              "<style scoped>\n",
              "    .dataframe tbody tr th:only-of-type {\n",
              "        vertical-align: middle;\n",
              "    }\n",
              "\n",
              "    .dataframe tbody tr th {\n",
              "        vertical-align: top;\n",
              "    }\n",
              "\n",
              "    .dataframe thead th {\n",
              "        text-align: right;\n",
              "    }\n",
              "</style>\n",
              "<table border=\"1\" class=\"dataframe\">\n",
              "  <thead>\n",
              "    <tr style=\"text-align: right;\">\n",
              "      <th></th>\n",
              "      <th>location</th>\n",
              "      <th>date</th>\n",
              "      <th>total_deaths</th>\n",
              "      <th>total_cases</th>\n",
              "      <th>cvd_death_rate</th>\n",
              "    </tr>\n",
              "  </thead>\n",
              "  <tbody>\n",
              "    <tr>\n",
              "      <th>26490</th>\n",
              "      <td>United States</td>\n",
              "      <td>2019-12-31</td>\n",
              "      <td>0.0</td>\n",
              "      <td>0.0</td>\n",
              "      <td>151.089</td>\n",
              "    </tr>\n",
              "    <tr>\n",
              "      <th>26491</th>\n",
              "      <td>United States</td>\n",
              "      <td>2020-01-01</td>\n",
              "      <td>0.0</td>\n",
              "      <td>0.0</td>\n",
              "      <td>151.089</td>\n",
              "    </tr>\n",
              "    <tr>\n",
              "      <th>26492</th>\n",
              "      <td>United States</td>\n",
              "      <td>2020-01-02</td>\n",
              "      <td>0.0</td>\n",
              "      <td>0.0</td>\n",
              "      <td>151.089</td>\n",
              "    </tr>\n",
              "    <tr>\n",
              "      <th>26493</th>\n",
              "      <td>United States</td>\n",
              "      <td>2020-01-03</td>\n",
              "      <td>0.0</td>\n",
              "      <td>0.0</td>\n",
              "      <td>151.089</td>\n",
              "    </tr>\n",
              "    <tr>\n",
              "      <th>26494</th>\n",
              "      <td>United States</td>\n",
              "      <td>2020-01-04</td>\n",
              "      <td>0.0</td>\n",
              "      <td>0.0</td>\n",
              "      <td>151.089</td>\n",
              "    </tr>\n",
              "  </tbody>\n",
              "</table>\n",
              "</div>"
            ],
            "text/plain": [
              "            location        date  total_deaths  total_cases  cvd_death_rate\n",
              "26490  United States  2019-12-31           0.0          0.0         151.089\n",
              "26491  United States  2020-01-01           0.0          0.0         151.089\n",
              "26492  United States  2020-01-02           0.0          0.0         151.089\n",
              "26493  United States  2020-01-03           0.0          0.0         151.089\n",
              "26494  United States  2020-01-04           0.0          0.0         151.089"
            ]
          },
          "metadata": {
            "tags": []
          },
          "execution_count": 93
        }
      ]
    },
    {
      "cell_type": "code",
      "metadata": {
        "id": "285DiboRj7MW",
        "colab_type": "code",
        "colab": {}
      },
      "source": [
        "# us_death_rates = covid_dataset.loc[covid_dataset.location=='Zimbabwe', ['location', 'date', 'total_deaths','total_cases','cvd_death_rate']]\n",
        "# us_death_rates.head()"
      ],
      "execution_count": 94,
      "outputs": []
    },
    {
      "cell_type": "code",
      "metadata": {
        "id": "F3wvK4d2kvti",
        "colab_type": "code",
        "colab": {
          "base_uri": "https://localhost:8080/",
          "height": 33
        },
        "outputId": "ba6157af-e1d0-4123-e5ea-36e1999767c5"
      },
      "source": [
        "us_death_rates.shape"
      ],
      "execution_count": 95,
      "outputs": [
        {
          "output_type": "execute_result",
          "data": {
            "text/plain": [
              "(187, 5)"
            ]
          },
          "metadata": {
            "tags": []
          },
          "execution_count": 95
        }
      ]
    },
    {
      "cell_type": "code",
      "metadata": {
        "id": "kIDXEXFDf4N5",
        "colab_type": "code",
        "colab": {}
      },
      "source": [
        "# Import forex\n",
        "forex_dataset_data= pd.read_csv('GBP_USD.csv', na_values = \"?\", comment='\\t', skipinitialspace=True)\n",
        "forex_dataset = forex_dataset_data.copy()\n",
        "# forex_dataset = forex_dataset_data.dropna()\n"
      ],
      "execution_count": 96,
      "outputs": []
    },
    {
      "cell_type": "markdown",
      "metadata": {
        "id": "C53hVpItH0az",
        "colab_type": "text"
      },
      "source": [
        "# # Data Preprocessing / Data Cleaning & Collating"
      ]
    },
    {
      "cell_type": "code",
      "metadata": {
        "id": "jIpYbWz2HxyG",
        "colab_type": "code",
        "colab": {
          "base_uri": "https://localhost:8080/",
          "height": 212
        },
        "outputId": "2c111189-f072-494a-d5db-7bf6a24f4adb"
      },
      "source": [
        "# Filter dataset\n",
        "forex_dataset.pop('Open')\n",
        "forex_dataset.pop('High')\n",
        "forex_dataset.pop('Low')\n",
        "forex_dataset.pop('Change %')"
      ],
      "execution_count": 97,
      "outputs": [
        {
          "output_type": "execute_result",
          "data": {
            "text/plain": [
              "0       0.12%\n",
              "1      -0.05%\n",
              "2       0.59%\n",
              "3       0.83%\n",
              "4      -0.30%\n",
              "        ...  \n",
              "150    -0.15%\n",
              "151     0.40%\n",
              "152     0.85%\n",
              "153     0.44%\n",
              "154     0.02%\n",
              "Name: Change %, Length: 155, dtype: object"
            ]
          },
          "metadata": {
            "tags": []
          },
          "execution_count": 97
        }
      ]
    },
    {
      "cell_type": "code",
      "metadata": {
        "id": "oSzzjHJxi5D4",
        "colab_type": "code",
        "colab": {
          "base_uri": "https://localhost:8080/",
          "height": 191
        },
        "outputId": "ddb5f256-2f3c-4b22-cbd2-a94ae21dc178"
      },
      "source": [
        "forex_dataset.tail()"
      ],
      "execution_count": 98,
      "outputs": [
        {
          "output_type": "execute_result",
          "data": {
            "text/html": [
              "<div>\n",
              "<style scoped>\n",
              "    .dataframe tbody tr th:only-of-type {\n",
              "        vertical-align: middle;\n",
              "    }\n",
              "\n",
              "    .dataframe tbody tr th {\n",
              "        vertical-align: top;\n",
              "    }\n",
              "\n",
              "    .dataframe thead th {\n",
              "        text-align: right;\n",
              "    }\n",
              "</style>\n",
              "<table border=\"1\" class=\"dataframe\">\n",
              "  <thead>\n",
              "    <tr style=\"text-align: right;\">\n",
              "      <th></th>\n",
              "      <th>Date</th>\n",
              "      <th>Price</th>\n",
              "    </tr>\n",
              "  </thead>\n",
              "  <tbody>\n",
              "    <tr>\n",
              "      <th>150</th>\n",
              "      <td>Dec 06, 2019</td>\n",
              "      <td>1.3137</td>\n",
              "    </tr>\n",
              "    <tr>\n",
              "      <th>151</th>\n",
              "      <td>Dec 05, 2019</td>\n",
              "      <td>1.3157</td>\n",
              "    </tr>\n",
              "    <tr>\n",
              "      <th>152</th>\n",
              "      <td>Dec 04, 2019</td>\n",
              "      <td>1.3104</td>\n",
              "    </tr>\n",
              "    <tr>\n",
              "      <th>153</th>\n",
              "      <td>Dec 03, 2019</td>\n",
              "      <td>1.2994</td>\n",
              "    </tr>\n",
              "    <tr>\n",
              "      <th>154</th>\n",
              "      <td>Dec 02, 2019</td>\n",
              "      <td>1.2937</td>\n",
              "    </tr>\n",
              "  </tbody>\n",
              "</table>\n",
              "</div>"
            ],
            "text/plain": [
              "             Date   Price\n",
              "150  Dec 06, 2019  1.3137\n",
              "151  Dec 05, 2019  1.3157\n",
              "152  Dec 04, 2019  1.3104\n",
              "153  Dec 03, 2019  1.2994\n",
              "154  Dec 02, 2019  1.2937"
            ]
          },
          "metadata": {
            "tags": []
          },
          "execution_count": 98
        }
      ]
    },
    {
      "cell_type": "code",
      "metadata": {
        "id": "vrVetfeGgSm7",
        "colab_type": "code",
        "colab": {
          "base_uri": "https://localhost:8080/",
          "height": 191
        },
        "outputId": "0af3500e-856b-4f9f-b9e1-40313830c2cf"
      },
      "source": [
        "# Isolate covid_date\n",
        "import time \n",
        "us_date = us_death_rates['date']\n",
        "new_us_dates = [time.strptime(x.replace(\"-\",\" \"), '%Y %m %d')for x in us_date]\n",
        "us_death_rates['date'] = new_us_dates\n",
        "us_death_rates.head()\n"
      ],
      "execution_count": 99,
      "outputs": [
        {
          "output_type": "execute_result",
          "data": {
            "text/html": [
              "<div>\n",
              "<style scoped>\n",
              "    .dataframe tbody tr th:only-of-type {\n",
              "        vertical-align: middle;\n",
              "    }\n",
              "\n",
              "    .dataframe tbody tr th {\n",
              "        vertical-align: top;\n",
              "    }\n",
              "\n",
              "    .dataframe thead th {\n",
              "        text-align: right;\n",
              "    }\n",
              "</style>\n",
              "<table border=\"1\" class=\"dataframe\">\n",
              "  <thead>\n",
              "    <tr style=\"text-align: right;\">\n",
              "      <th></th>\n",
              "      <th>location</th>\n",
              "      <th>date</th>\n",
              "      <th>total_deaths</th>\n",
              "      <th>total_cases</th>\n",
              "      <th>cvd_death_rate</th>\n",
              "    </tr>\n",
              "  </thead>\n",
              "  <tbody>\n",
              "    <tr>\n",
              "      <th>26490</th>\n",
              "      <td>United States</td>\n",
              "      <td>(2019, 12, 31, 0, 0, 0, 1, 365, -1)</td>\n",
              "      <td>0.0</td>\n",
              "      <td>0.0</td>\n",
              "      <td>151.089</td>\n",
              "    </tr>\n",
              "    <tr>\n",
              "      <th>26491</th>\n",
              "      <td>United States</td>\n",
              "      <td>(2020, 1, 1, 0, 0, 0, 2, 1, -1)</td>\n",
              "      <td>0.0</td>\n",
              "      <td>0.0</td>\n",
              "      <td>151.089</td>\n",
              "    </tr>\n",
              "    <tr>\n",
              "      <th>26492</th>\n",
              "      <td>United States</td>\n",
              "      <td>(2020, 1, 2, 0, 0, 0, 3, 2, -1)</td>\n",
              "      <td>0.0</td>\n",
              "      <td>0.0</td>\n",
              "      <td>151.089</td>\n",
              "    </tr>\n",
              "    <tr>\n",
              "      <th>26493</th>\n",
              "      <td>United States</td>\n",
              "      <td>(2020, 1, 3, 0, 0, 0, 4, 3, -1)</td>\n",
              "      <td>0.0</td>\n",
              "      <td>0.0</td>\n",
              "      <td>151.089</td>\n",
              "    </tr>\n",
              "    <tr>\n",
              "      <th>26494</th>\n",
              "      <td>United States</td>\n",
              "      <td>(2020, 1, 4, 0, 0, 0, 5, 4, -1)</td>\n",
              "      <td>0.0</td>\n",
              "      <td>0.0</td>\n",
              "      <td>151.089</td>\n",
              "    </tr>\n",
              "  </tbody>\n",
              "</table>\n",
              "</div>"
            ],
            "text/plain": [
              "            location  ... cvd_death_rate\n",
              "26490  United States  ...        151.089\n",
              "26491  United States  ...        151.089\n",
              "26492  United States  ...        151.089\n",
              "26493  United States  ...        151.089\n",
              "26494  United States  ...        151.089\n",
              "\n",
              "[5 rows x 5 columns]"
            ]
          },
          "metadata": {
            "tags": []
          },
          "execution_count": 99
        }
      ]
    },
    {
      "cell_type": "code",
      "metadata": {
        "id": "IGR0p0YWh9jH",
        "colab_type": "code",
        "colab": {
          "base_uri": "https://localhost:8080/",
          "height": 191
        },
        "outputId": "27dc67a5-2333-4ac8-dc18-bc74ae99e960"
      },
      "source": [
        "# Isolate forex_date\n",
        "import time \n",
        "forex_date = forex_dataset['Date']\n",
        "new_forex_dates = [time.strptime(x.replace(',', \"\"), '%b %d %Y')for x in forex_date]\n",
        "forex_dataset['Date'] = new_forex_dates\n",
        "forex_dataset.tail()\n"
      ],
      "execution_count": 100,
      "outputs": [
        {
          "output_type": "execute_result",
          "data": {
            "text/html": [
              "<div>\n",
              "<style scoped>\n",
              "    .dataframe tbody tr th:only-of-type {\n",
              "        vertical-align: middle;\n",
              "    }\n",
              "\n",
              "    .dataframe tbody tr th {\n",
              "        vertical-align: top;\n",
              "    }\n",
              "\n",
              "    .dataframe thead th {\n",
              "        text-align: right;\n",
              "    }\n",
              "</style>\n",
              "<table border=\"1\" class=\"dataframe\">\n",
              "  <thead>\n",
              "    <tr style=\"text-align: right;\">\n",
              "      <th></th>\n",
              "      <th>Date</th>\n",
              "      <th>Price</th>\n",
              "    </tr>\n",
              "  </thead>\n",
              "  <tbody>\n",
              "    <tr>\n",
              "      <th>150</th>\n",
              "      <td>(2019, 12, 6, 0, 0, 0, 4, 340, -1)</td>\n",
              "      <td>1.3137</td>\n",
              "    </tr>\n",
              "    <tr>\n",
              "      <th>151</th>\n",
              "      <td>(2019, 12, 5, 0, 0, 0, 3, 339, -1)</td>\n",
              "      <td>1.3157</td>\n",
              "    </tr>\n",
              "    <tr>\n",
              "      <th>152</th>\n",
              "      <td>(2019, 12, 4, 0, 0, 0, 2, 338, -1)</td>\n",
              "      <td>1.3104</td>\n",
              "    </tr>\n",
              "    <tr>\n",
              "      <th>153</th>\n",
              "      <td>(2019, 12, 3, 0, 0, 0, 1, 337, -1)</td>\n",
              "      <td>1.2994</td>\n",
              "    </tr>\n",
              "    <tr>\n",
              "      <th>154</th>\n",
              "      <td>(2019, 12, 2, 0, 0, 0, 0, 336, -1)</td>\n",
              "      <td>1.2937</td>\n",
              "    </tr>\n",
              "  </tbody>\n",
              "</table>\n",
              "</div>"
            ],
            "text/plain": [
              "                                   Date   Price\n",
              "150  (2019, 12, 6, 0, 0, 0, 4, 340, -1)  1.3137\n",
              "151  (2019, 12, 5, 0, 0, 0, 3, 339, -1)  1.3157\n",
              "152  (2019, 12, 4, 0, 0, 0, 2, 338, -1)  1.3104\n",
              "153  (2019, 12, 3, 0, 0, 0, 1, 337, -1)  1.2994\n",
              "154  (2019, 12, 2, 0, 0, 0, 0, 336, -1)  1.2937"
            ]
          },
          "metadata": {
            "tags": []
          },
          "execution_count": 100
        }
      ]
    },
    {
      "cell_type": "code",
      "metadata": {
        "id": "7b16glGjiCLz",
        "colab_type": "code",
        "colab": {
          "base_uri": "https://localhost:8080/",
          "height": 33
        },
        "outputId": "6c3b8311-ac0b-45cd-dfac-757add4f0aed"
      },
      "source": [
        "print(len(forex_dataset))"
      ],
      "execution_count": 101,
      "outputs": [
        {
          "output_type": "stream",
          "text": [
            "155\n"
          ],
          "name": "stdout"
        }
      ]
    },
    {
      "cell_type": "code",
      "metadata": {
        "id": "OiFVDAF0ngrx",
        "colab_type": "code",
        "colab": {
          "base_uri": "https://localhost:8080/",
          "height": 33
        },
        "outputId": "e7caff96-7aff-49fd-fa2e-046d1ce48b7e"
      },
      "source": [
        "# Merging dates from two tables\n",
        "dataset = pd.merge(left=forex_dataset, left_on='Date',\n",
        "         right=us_death_rates, right_on='date')\n",
        "dataset.tail()\n",
        "len(dataset)\n"
      ],
      "execution_count": 102,
      "outputs": [
        {
          "output_type": "execute_result",
          "data": {
            "text/plain": [
              "134"
            ]
          },
          "metadata": {
            "tags": []
          },
          "execution_count": 102
        }
      ]
    },
    {
      "cell_type": "code",
      "metadata": {
        "id": "a9A_G1s9ETvi",
        "colab_type": "code",
        "colab": {
          "base_uri": "https://localhost:8080/",
          "height": 212
        },
        "outputId": "9cb21a38-0765-439d-9d14-32d6510bfa7f"
      },
      "source": [
        "# We pop the 'date' from the covid_dataset because this column starts later than the forex column\n",
        "# We want to see the forex price before covid happened\n",
        "dataset.pop('date')"
      ],
      "execution_count": 103,
      "outputs": [
        {
          "output_type": "execute_result",
          "data": {
            "text/plain": [
              "0        (2020, 7, 3, 0, 0, 0, 4, 185, -1)\n",
              "1        (2020, 7, 2, 0, 0, 0, 3, 184, -1)\n",
              "2        (2020, 7, 1, 0, 0, 0, 2, 183, -1)\n",
              "3       (2020, 6, 30, 0, 0, 0, 1, 182, -1)\n",
              "4       (2020, 6, 29, 0, 0, 0, 0, 181, -1)\n",
              "                      ...                 \n",
              "129        (2020, 1, 6, 0, 0, 0, 0, 6, -1)\n",
              "130        (2020, 1, 3, 0, 0, 0, 4, 3, -1)\n",
              "131        (2020, 1, 2, 0, 0, 0, 3, 2, -1)\n",
              "132        (2020, 1, 1, 0, 0, 0, 2, 1, -1)\n",
              "133    (2019, 12, 31, 0, 0, 0, 1, 365, -1)\n",
              "Name: date, Length: 134, dtype: object"
            ]
          },
          "metadata": {
            "tags": []
          },
          "execution_count": 103
        }
      ]
    },
    {
      "cell_type": "code",
      "metadata": {
        "id": "Rz0-4V24EY65",
        "colab_type": "code",
        "colab": {
          "base_uri": "https://localhost:8080/",
          "height": 191
        },
        "outputId": "d8cc93dd-d1e6-4077-c62b-54cc4d12c574"
      },
      "source": [
        "# Problem: This still starts at 2019,12,13 when we want 2019,12,02\n",
        "# However this does not affect our data graph for some reason - scroll down\n",
        "dataset.tail()"
      ],
      "execution_count": 104,
      "outputs": [
        {
          "output_type": "execute_result",
          "data": {
            "text/html": [
              "<div>\n",
              "<style scoped>\n",
              "    .dataframe tbody tr th:only-of-type {\n",
              "        vertical-align: middle;\n",
              "    }\n",
              "\n",
              "    .dataframe tbody tr th {\n",
              "        vertical-align: top;\n",
              "    }\n",
              "\n",
              "    .dataframe thead th {\n",
              "        text-align: right;\n",
              "    }\n",
              "</style>\n",
              "<table border=\"1\" class=\"dataframe\">\n",
              "  <thead>\n",
              "    <tr style=\"text-align: right;\">\n",
              "      <th></th>\n",
              "      <th>Date</th>\n",
              "      <th>Price</th>\n",
              "      <th>location</th>\n",
              "      <th>total_deaths</th>\n",
              "      <th>total_cases</th>\n",
              "      <th>cvd_death_rate</th>\n",
              "    </tr>\n",
              "  </thead>\n",
              "  <tbody>\n",
              "    <tr>\n",
              "      <th>129</th>\n",
              "      <td>(2020, 1, 6, 0, 0, 0, 0, 6, -1)</td>\n",
              "      <td>1.3169</td>\n",
              "      <td>United States</td>\n",
              "      <td>0.0</td>\n",
              "      <td>0.0</td>\n",
              "      <td>151.089</td>\n",
              "    </tr>\n",
              "    <tr>\n",
              "      <th>130</th>\n",
              "      <td>(2020, 1, 3, 0, 0, 0, 4, 3, -1)</td>\n",
              "      <td>1.3088</td>\n",
              "      <td>United States</td>\n",
              "      <td>0.0</td>\n",
              "      <td>0.0</td>\n",
              "      <td>151.089</td>\n",
              "    </tr>\n",
              "    <tr>\n",
              "      <th>131</th>\n",
              "      <td>(2020, 1, 2, 0, 0, 0, 3, 2, -1)</td>\n",
              "      <td>1.3146</td>\n",
              "      <td>United States</td>\n",
              "      <td>0.0</td>\n",
              "      <td>0.0</td>\n",
              "      <td>151.089</td>\n",
              "    </tr>\n",
              "    <tr>\n",
              "      <th>132</th>\n",
              "      <td>(2020, 1, 1, 0, 0, 0, 2, 1, -1)</td>\n",
              "      <td>1.3255</td>\n",
              "      <td>United States</td>\n",
              "      <td>0.0</td>\n",
              "      <td>0.0</td>\n",
              "      <td>151.089</td>\n",
              "    </tr>\n",
              "    <tr>\n",
              "      <th>133</th>\n",
              "      <td>(2019, 12, 31, 0, 0, 0, 1, 365, -1)</td>\n",
              "      <td>1.3261</td>\n",
              "      <td>United States</td>\n",
              "      <td>0.0</td>\n",
              "      <td>0.0</td>\n",
              "      <td>151.089</td>\n",
              "    </tr>\n",
              "  </tbody>\n",
              "</table>\n",
              "</div>"
            ],
            "text/plain": [
              "                                    Date   Price  ... total_cases  cvd_death_rate\n",
              "129      (2020, 1, 6, 0, 0, 0, 0, 6, -1)  1.3169  ...         0.0         151.089\n",
              "130      (2020, 1, 3, 0, 0, 0, 4, 3, -1)  1.3088  ...         0.0         151.089\n",
              "131      (2020, 1, 2, 0, 0, 0, 3, 2, -1)  1.3146  ...         0.0         151.089\n",
              "132      (2020, 1, 1, 0, 0, 0, 2, 1, -1)  1.3255  ...         0.0         151.089\n",
              "133  (2019, 12, 31, 0, 0, 0, 1, 365, -1)  1.3261  ...         0.0         151.089\n",
              "\n",
              "[5 rows x 6 columns]"
            ]
          },
          "metadata": {
            "tags": []
          },
          "execution_count": 104
        }
      ]
    },
    {
      "cell_type": "code",
      "metadata": {
        "id": "AKPMw6jUypAN",
        "colab_type": "code",
        "colab": {
          "base_uri": "https://localhost:8080/",
          "height": 212
        },
        "outputId": "537afce6-c670-40ea-b955-cbd33ffc68c6"
      },
      "source": [
        "# Object means string\n",
        "dataset['total_deaths']"
      ],
      "execution_count": 105,
      "outputs": [
        {
          "output_type": "execute_result",
          "data": {
            "text/plain": [
              "0      128740.0\n",
              "1      128062.0\n",
              "2      127410.0\n",
              "3      126140.0\n",
              "4      125804.0\n",
              "         ...   \n",
              "129         0.0\n",
              "130         0.0\n",
              "131         0.0\n",
              "132         0.0\n",
              "133         0.0\n",
              "Name: total_deaths, Length: 134, dtype: float64"
            ]
          },
          "metadata": {
            "tags": []
          },
          "execution_count": 105
        }
      ]
    },
    {
      "cell_type": "code",
      "metadata": {
        "id": "I9kHcA_4tAqL",
        "colab_type": "code",
        "colab": {
          "base_uri": "https://localhost:8080/",
          "height": 33
        },
        "outputId": "fa1282f4-26d8-44fe-bb34-b72755810d79"
      },
      "source": [
        "# View what date looks like\n",
        "date = dataset['Date']\n",
        "date.head()\n",
        "len(date)"
      ],
      "execution_count": 106,
      "outputs": [
        {
          "output_type": "execute_result",
          "data": {
            "text/plain": [
              "134"
            ]
          },
          "metadata": {
            "tags": []
          },
          "execution_count": 106
        }
      ]
    },
    {
      "cell_type": "code",
      "metadata": {
        "id": "0Nxcgc_K3ZDm",
        "colab_type": "code",
        "colab": {
          "base_uri": "https://localhost:8080/",
          "height": 245
        },
        "outputId": "cc2a1d6b-a6e5-4113-9cd0-ad46f26062f6"
      },
      "source": [
        "# Splitting timestamp and isolating the date\n",
        "dateFormatting = pd.DataFrame({'new_date': pd.date_range('2019-12-31', periods=len(date))})\n",
        "# dateFormatting['new_date'] = [d.date() for d in dateFormatting['my_timestamp']]\n",
        "# dateFormatting['new_time'] = [d.time() for d in dateFormatting['my_timestamp']]\n",
        "print(dateFormatting)\n"
      ],
      "execution_count": 107,
      "outputs": [
        {
          "output_type": "stream",
          "text": [
            "      new_date\n",
            "0   2019-12-31\n",
            "1   2020-01-01\n",
            "2   2020-01-02\n",
            "3   2020-01-03\n",
            "4   2020-01-04\n",
            "..         ...\n",
            "129 2020-05-08\n",
            "130 2020-05-09\n",
            "131 2020-05-10\n",
            "132 2020-05-11\n",
            "133 2020-05-12\n",
            "\n",
            "[134 rows x 1 columns]\n"
          ],
          "name": "stdout"
        }
      ]
    },
    {
      "cell_type": "code",
      "metadata": {
        "id": "Tav3LALn4KN2",
        "colab_type": "code",
        "colab": {
          "base_uri": "https://localhost:8080/",
          "height": 53
        },
        "outputId": "4edf5294-51af-4862-bfb8-fdaf471cc58a"
      },
      "source": [
        "# Convert date to list so that we can use the dates to plot on graph\n",
        "my_xticks = dateFormatting['new_date'].tolist()\n",
        "print(my_xticks)"
      ],
      "execution_count": 108,
      "outputs": [
        {
          "output_type": "stream",
          "text": [
            "[Timestamp('2019-12-31 00:00:00'), Timestamp('2020-01-01 00:00:00'), Timestamp('2020-01-02 00:00:00'), Timestamp('2020-01-03 00:00:00'), Timestamp('2020-01-04 00:00:00'), Timestamp('2020-01-05 00:00:00'), Timestamp('2020-01-06 00:00:00'), Timestamp('2020-01-07 00:00:00'), Timestamp('2020-01-08 00:00:00'), Timestamp('2020-01-09 00:00:00'), Timestamp('2020-01-10 00:00:00'), Timestamp('2020-01-11 00:00:00'), Timestamp('2020-01-12 00:00:00'), Timestamp('2020-01-13 00:00:00'), Timestamp('2020-01-14 00:00:00'), Timestamp('2020-01-15 00:00:00'), Timestamp('2020-01-16 00:00:00'), Timestamp('2020-01-17 00:00:00'), Timestamp('2020-01-18 00:00:00'), Timestamp('2020-01-19 00:00:00'), Timestamp('2020-01-20 00:00:00'), Timestamp('2020-01-21 00:00:00'), Timestamp('2020-01-22 00:00:00'), Timestamp('2020-01-23 00:00:00'), Timestamp('2020-01-24 00:00:00'), Timestamp('2020-01-25 00:00:00'), Timestamp('2020-01-26 00:00:00'), Timestamp('2020-01-27 00:00:00'), Timestamp('2020-01-28 00:00:00'), Timestamp('2020-01-29 00:00:00'), Timestamp('2020-01-30 00:00:00'), Timestamp('2020-01-31 00:00:00'), Timestamp('2020-02-01 00:00:00'), Timestamp('2020-02-02 00:00:00'), Timestamp('2020-02-03 00:00:00'), Timestamp('2020-02-04 00:00:00'), Timestamp('2020-02-05 00:00:00'), Timestamp('2020-02-06 00:00:00'), Timestamp('2020-02-07 00:00:00'), Timestamp('2020-02-08 00:00:00'), Timestamp('2020-02-09 00:00:00'), Timestamp('2020-02-10 00:00:00'), Timestamp('2020-02-11 00:00:00'), Timestamp('2020-02-12 00:00:00'), Timestamp('2020-02-13 00:00:00'), Timestamp('2020-02-14 00:00:00'), Timestamp('2020-02-15 00:00:00'), Timestamp('2020-02-16 00:00:00'), Timestamp('2020-02-17 00:00:00'), Timestamp('2020-02-18 00:00:00'), Timestamp('2020-02-19 00:00:00'), Timestamp('2020-02-20 00:00:00'), Timestamp('2020-02-21 00:00:00'), Timestamp('2020-02-22 00:00:00'), Timestamp('2020-02-23 00:00:00'), Timestamp('2020-02-24 00:00:00'), Timestamp('2020-02-25 00:00:00'), Timestamp('2020-02-26 00:00:00'), Timestamp('2020-02-27 00:00:00'), Timestamp('2020-02-28 00:00:00'), Timestamp('2020-02-29 00:00:00'), Timestamp('2020-03-01 00:00:00'), Timestamp('2020-03-02 00:00:00'), Timestamp('2020-03-03 00:00:00'), Timestamp('2020-03-04 00:00:00'), Timestamp('2020-03-05 00:00:00'), Timestamp('2020-03-06 00:00:00'), Timestamp('2020-03-07 00:00:00'), Timestamp('2020-03-08 00:00:00'), Timestamp('2020-03-09 00:00:00'), Timestamp('2020-03-10 00:00:00'), Timestamp('2020-03-11 00:00:00'), Timestamp('2020-03-12 00:00:00'), Timestamp('2020-03-13 00:00:00'), Timestamp('2020-03-14 00:00:00'), Timestamp('2020-03-15 00:00:00'), Timestamp('2020-03-16 00:00:00'), Timestamp('2020-03-17 00:00:00'), Timestamp('2020-03-18 00:00:00'), Timestamp('2020-03-19 00:00:00'), Timestamp('2020-03-20 00:00:00'), Timestamp('2020-03-21 00:00:00'), Timestamp('2020-03-22 00:00:00'), Timestamp('2020-03-23 00:00:00'), Timestamp('2020-03-24 00:00:00'), Timestamp('2020-03-25 00:00:00'), Timestamp('2020-03-26 00:00:00'), Timestamp('2020-03-27 00:00:00'), Timestamp('2020-03-28 00:00:00'), Timestamp('2020-03-29 00:00:00'), Timestamp('2020-03-30 00:00:00'), Timestamp('2020-03-31 00:00:00'), Timestamp('2020-04-01 00:00:00'), Timestamp('2020-04-02 00:00:00'), Timestamp('2020-04-03 00:00:00'), Timestamp('2020-04-04 00:00:00'), Timestamp('2020-04-05 00:00:00'), Timestamp('2020-04-06 00:00:00'), Timestamp('2020-04-07 00:00:00'), Timestamp('2020-04-08 00:00:00'), Timestamp('2020-04-09 00:00:00'), Timestamp('2020-04-10 00:00:00'), Timestamp('2020-04-11 00:00:00'), Timestamp('2020-04-12 00:00:00'), Timestamp('2020-04-13 00:00:00'), Timestamp('2020-04-14 00:00:00'), Timestamp('2020-04-15 00:00:00'), Timestamp('2020-04-16 00:00:00'), Timestamp('2020-04-17 00:00:00'), Timestamp('2020-04-18 00:00:00'), Timestamp('2020-04-19 00:00:00'), Timestamp('2020-04-20 00:00:00'), Timestamp('2020-04-21 00:00:00'), Timestamp('2020-04-22 00:00:00'), Timestamp('2020-04-23 00:00:00'), Timestamp('2020-04-24 00:00:00'), Timestamp('2020-04-25 00:00:00'), Timestamp('2020-04-26 00:00:00'), Timestamp('2020-04-27 00:00:00'), Timestamp('2020-04-28 00:00:00'), Timestamp('2020-04-29 00:00:00'), Timestamp('2020-04-30 00:00:00'), Timestamp('2020-05-01 00:00:00'), Timestamp('2020-05-02 00:00:00'), Timestamp('2020-05-03 00:00:00'), Timestamp('2020-05-04 00:00:00'), Timestamp('2020-05-05 00:00:00'), Timestamp('2020-05-06 00:00:00'), Timestamp('2020-05-07 00:00:00'), Timestamp('2020-05-08 00:00:00'), Timestamp('2020-05-09 00:00:00'), Timestamp('2020-05-10 00:00:00'), Timestamp('2020-05-11 00:00:00'), Timestamp('2020-05-12 00:00:00')]\n"
          ],
          "name": "stdout"
        }
      ]
    },
    {
      "cell_type": "code",
      "metadata": {
        "id": "DeyD3C8dm1DM",
        "colab_type": "code",
        "colab": {
          "base_uri": "https://localhost:8080/",
          "height": 212
        },
        "outputId": "7d3f9ada-479c-4081-9b4c-756d486932d1"
      },
      "source": [
        "dataset['Date']"
      ],
      "execution_count": 109,
      "outputs": [
        {
          "output_type": "execute_result",
          "data": {
            "text/plain": [
              "0        (2020, 7, 3, 0, 0, 0, 4, 185, -1)\n",
              "1        (2020, 7, 2, 0, 0, 0, 3, 184, -1)\n",
              "2        (2020, 7, 1, 0, 0, 0, 2, 183, -1)\n",
              "3       (2020, 6, 30, 0, 0, 0, 1, 182, -1)\n",
              "4       (2020, 6, 29, 0, 0, 0, 0, 181, -1)\n",
              "                      ...                 \n",
              "129        (2020, 1, 6, 0, 0, 0, 0, 6, -1)\n",
              "130        (2020, 1, 3, 0, 0, 0, 4, 3, -1)\n",
              "131        (2020, 1, 2, 0, 0, 0, 3, 2, -1)\n",
              "132        (2020, 1, 1, 0, 0, 0, 2, 1, -1)\n",
              "133    (2019, 12, 31, 0, 0, 0, 1, 365, -1)\n",
              "Name: Date, Length: 134, dtype: object"
            ]
          },
          "metadata": {
            "tags": []
          },
          "execution_count": 109
        }
      ]
    },
    {
      "cell_type": "markdown",
      "metadata": {
        "id": "wvb8c8CBIOqM",
        "colab_type": "text"
      },
      "source": [
        "# Plotting Features before Normalisation"
      ]
    },
    {
      "cell_type": "code",
      "metadata": {
        "id": "eDGMN3GG6wOL",
        "colab_type": "code",
        "colab": {
          "base_uri": "https://localhost:8080/",
          "height": 397
        },
        "outputId": "4f0058a8-51d0-4e4d-e0e9-30f15409a6c5"
      },
      "source": [
        "# Plotted prices and dates\n",
        "# Notice how the dates start and end\n",
        "\n",
        "from datetime import datetime, timedelta\n",
        "from matplotlib import pyplot as plt\n",
        "from matplotlib import dates as mpl_dates\n",
        "plt.style.use('seaborn')\n",
        "from matplotlib import rcParams\n",
        "rcParams['figure.figsize'] = 15,6\n",
        "\n",
        "dates = np.array(dateFormatting['new_date'])\n",
        "price = np.array(dataset['Price'])\n",
        "plt.plot_date(dates,price, linestyle ='solid')\n",
        "plt.gcf().autofmt_xdate()\n",
        "date_format = mpl_dates.DateFormatter('%b,%d,%Y')\n",
        "plt.title('Time Series Price of USD compare to GBP')\n",
        "plt.xlabel('Date')\n",
        "plt.ylabel('Price')\n",
        "plt.gca().xaxis.set_major_formatter(date_format)"
      ],
      "execution_count": 110,
      "outputs": [
        {
          "output_type": "display_data",
          "data": {
            "image/png": "[encoded data removed]",
            "text/plain": [
              "<Figure size 1080x432 with 1 Axes>"
            ]
          },
          "metadata": {
            "tags": []
          }
        }
      ]
    },
    {
      "cell_type": "code",
      "metadata": {
        "id": "Dqj88upVOPC9",
        "colab_type": "code",
        "colab": {
          "base_uri": "https://localhost:8080/",
          "height": 33
        },
        "outputId": "0e79ca8f-67cd-4028-cb23-db2287fd8d49"
      },
      "source": [
        "# print(price)\n",
        "test = np.array(dataset['total_deaths'])\n",
        "# print(test)\n",
        "price.shape\n",
        "# test.shape\n",
        "test = np.array(dataset['total_deaths'])\n",
        "list_arr = np.array(test)\n",
        "reversed_arr = list_arr[::-1]\n",
        "reversed_arr.shape\n",
        "price.shape"
      ],
      "execution_count": 111,
      "outputs": [
        {
          "output_type": "execute_result",
          "data": {
            "text/plain": [
              "(134,)"
            ]
          },
          "metadata": {
            "tags": []
          },
          "execution_count": 111
        }
      ]
    },
    {
      "cell_type": "code",
      "metadata": {
        "id": "T30FJ5ONMRsa",
        "colab_type": "code",
        "colab": {}
      },
      "source": [
        "# Adds the accumulative deaths every day of a country\n",
        "# Problem – This needs to be sorted from the end since the way out data is set up - can this be made more efficient?\n",
        "total_us_deaths = dataset['total_deaths']\n",
        "list_arr = np.array(total_us_deaths)\n",
        "reversed_arr = list_arr[::-1]\n",
        "newDay = 0\n",
        "day = []\n",
        "for currentday in reversed_arr:\n",
        "   newDay = currentday + newDay\n",
        "   day.append(newDay)\n"
      ],
      "execution_count": 112,
      "outputs": []
    },
    {
      "cell_type": "code",
      "metadata": {
        "id": "oivvoebSMpRV",
        "colab_type": "code",
        "colab": {
          "base_uri": "https://localhost:8080/",
          "height": 411
        },
        "outputId": "e3bebda4-b028-4ea8-d8b3-1e29a83644ea"
      },
      "source": [
        "# Plots the accumulative daily death rates of a country\n",
        "dates = np.array(dateFormatting['new_date'])\n",
        "us_deaths = np.array(day)\n",
        "plt.plot_date(dates,us_deaths, linestyle ='solid')\n",
        "plt.gcf().autofmt_xdate()\n",
        "date_format = mpl_dates.DateFormatter('%b,%d,%Y')\n",
        "plt.title('Time Series of Total Deaths of US')\n",
        "plt.xlabel('Date')\n",
        "plt.ylabel('Total Deaths')\n"
      ],
      "execution_count": 113,
      "outputs": [
        {
          "output_type": "execute_result",
          "data": {
            "text/plain": [
              "Text(0, 0.5, 'Total Deaths')"
            ]
          },
          "metadata": {
            "tags": []
          },
          "execution_count": 113
        },
        {
          "output_type": "display_data",
          "data": {
            "image/png": "[encoded data removed]",
            "text/plain": [
              "<Figure size 1080x432 with 1 Axes>"
            ]
          },
          "metadata": {
            "tags": []
          }
        }
      ]
    },
    {
      "cell_type": "code",
      "metadata": {
        "id": "1dCKLM-XSXt_",
        "colab_type": "code",
        "colab": {
          "base_uri": "https://localhost:8080/",
          "height": 33
        },
        "outputId": "de96b516-127c-4037-c71b-24609ab2aacd"
      },
      "source": [
        "test.shape"
      ],
      "execution_count": 114,
      "outputs": [
        {
          "output_type": "execute_result",
          "data": {
            "text/plain": [
              "(134,)"
            ]
          },
          "metadata": {
            "tags": []
          },
          "execution_count": 114
        }
      ]
    },
    {
      "cell_type": "code",
      "metadata": {
        "id": "aLvrpnjESZmR",
        "colab_type": "code",
        "colab": {
          "base_uri": "https://localhost:8080/",
          "height": 33
        },
        "outputId": "0a23944e-6cd9-4bf5-9fd6-1c5c4e79aca8"
      },
      "source": [
        "price.shape"
      ],
      "execution_count": 115,
      "outputs": [
        {
          "output_type": "execute_result",
          "data": {
            "text/plain": [
              "(134,)"
            ]
          },
          "metadata": {
            "tags": []
          },
          "execution_count": 115
        }
      ]
    },
    {
      "cell_type": "markdown",
      "metadata": {
        "id": "SWTJypnsv5R3",
        "colab_type": "text"
      },
      "source": [
        ""
      ]
    },
    {
      "cell_type": "code",
      "metadata": {
        "id": "v6NykB3TSJxe",
        "colab_type": "code",
        "colab": {
          "base_uri": "https://localhost:8080/",
          "height": 391
        },
        "outputId": "c27f3cf8-c6d4-463b-b98f-194660dfc4cf"
      },
      "source": [
        "price_frame = pd.DataFrame(np.concatenate([price]), columns= [\"Price\"])\n",
        "death_frame = pd.DataFrame(np.concatenate([day]), columns= [\"Total_Deaths_US\"])\n",
        "# print(price_frame)\n",
        "# print(death_frame)\n",
        "# problem: not correct\n",
        "price_frame.append(death_frame)"
      ],
      "execution_count": 116,
      "outputs": [
        {
          "output_type": "execute_result",
          "data": {
            "text/html": [
              "<div>\n",
              "<style scoped>\n",
              "    .dataframe tbody tr th:only-of-type {\n",
              "        vertical-align: middle;\n",
              "    }\n",
              "\n",
              "    .dataframe tbody tr th {\n",
              "        vertical-align: top;\n",
              "    }\n",
              "\n",
              "    .dataframe thead th {\n",
              "        text-align: right;\n",
              "    }\n",
              "</style>\n",
              "<table border=\"1\" class=\"dataframe\">\n",
              "  <thead>\n",
              "    <tr style=\"text-align: right;\">\n",
              "      <th></th>\n",
              "      <th>Price</th>\n",
              "      <th>Total_Deaths_US</th>\n",
              "    </tr>\n",
              "  </thead>\n",
              "  <tbody>\n",
              "    <tr>\n",
              "      <th>0</th>\n",
              "      <td>1.2482</td>\n",
              "      <td>NaN</td>\n",
              "    </tr>\n",
              "    <tr>\n",
              "      <th>1</th>\n",
              "      <td>1.2467</td>\n",
              "      <td>NaN</td>\n",
              "    </tr>\n",
              "    <tr>\n",
              "      <th>2</th>\n",
              "      <td>1.2474</td>\n",
              "      <td>NaN</td>\n",
              "    </tr>\n",
              "    <tr>\n",
              "      <th>3</th>\n",
              "      <td>1.2401</td>\n",
              "      <td>NaN</td>\n",
              "    </tr>\n",
              "    <tr>\n",
              "      <th>4</th>\n",
              "      <td>1.2299</td>\n",
              "      <td>NaN</td>\n",
              "    </tr>\n",
              "    <tr>\n",
              "      <th>...</th>\n",
              "      <td>...</td>\n",
              "      <td>...</td>\n",
              "    </tr>\n",
              "    <tr>\n",
              "      <th>129</th>\n",
              "      <td>NaN</td>\n",
              "      <td>4881974.0</td>\n",
              "    </tr>\n",
              "    <tr>\n",
              "      <th>130</th>\n",
              "      <td>NaN</td>\n",
              "      <td>5008114.0</td>\n",
              "    </tr>\n",
              "    <tr>\n",
              "      <th>131</th>\n",
              "      <td>NaN</td>\n",
              "      <td>5135524.0</td>\n",
              "    </tr>\n",
              "    <tr>\n",
              "      <th>132</th>\n",
              "      <td>NaN</td>\n",
              "      <td>5263586.0</td>\n",
              "    </tr>\n",
              "    <tr>\n",
              "      <th>133</th>\n",
              "      <td>NaN</td>\n",
              "      <td>5392326.0</td>\n",
              "    </tr>\n",
              "  </tbody>\n",
              "</table>\n",
              "<p>268 rows × 2 columns</p>\n",
              "</div>"
            ],
            "text/plain": [
              "      Price  Total_Deaths_US\n",
              "0    1.2482              NaN\n",
              "1    1.2467              NaN\n",
              "2    1.2474              NaN\n",
              "3    1.2401              NaN\n",
              "4    1.2299              NaN\n",
              "..      ...              ...\n",
              "129     NaN        4881974.0\n",
              "130     NaN        5008114.0\n",
              "131     NaN        5135524.0\n",
              "132     NaN        5263586.0\n",
              "133     NaN        5392326.0\n",
              "\n",
              "[268 rows x 2 columns]"
            ]
          },
          "metadata": {
            "tags": []
          },
          "execution_count": 116
        }
      ]
    },
    {
      "cell_type": "markdown",
      "metadata": {
        "id": "kkWFQ8HeIerS",
        "colab_type": "text"
      },
      "source": [
        "# Normalisation of Features"
      ]
    },
    {
      "cell_type": "code",
      "metadata": {
        "id": "GUr5EmIHITzq",
        "colab_type": "code",
        "colab": {
          "base_uri": "https://localhost:8080/",
          "height": 1000
        },
        "outputId": "264587bc-7bbb-4683-f367-61c28f3d19da"
      },
      "source": [
        "# Working Normalised method!!\n",
        "from sklearn.preprocessing import MinMaxScaler\n",
        "scaler = MinMaxScaler(feature_range=(0,1))\n",
        "# they are so small that is why\n",
        "normalisation_us_deaths = scaler.fit_transform(death_frame).reshape(-1,1)\n",
        "# loosing precision by converting to decimal but makes more readable\n",
        "# but when plotting it use normalisation_us_deaths\n",
        "normalisation_price = scaler.fit_transform(price_frame).reshape(-1,1)\n",
        "# 8 decimal: readable formate\n",
        "# val = [print(\"{:.8f}\".format(float(x)))for x in normalisation_us_deaths]\n",
        "# print(normalisation_price)\n",
        "# print(val)\n",
        "print(normalisation_price)"
      ],
      "execution_count": 117,
      "outputs": [
        {
          "output_type": "stream",
          "text": [
            "[[0.56087937]\n",
            " [0.5524239 ]\n",
            " [0.55636979]\n",
            " [0.51521984]\n",
            " [0.45772266]\n",
            " [0.47801578]\n",
            " [0.52480271]\n",
            " [0.5259301 ]\n",
            " [0.58229989]\n",
            " [0.55016911]\n",
            " [0.49098083]\n",
            " [0.52931229]\n",
            " [0.60315671]\n",
            " [0.61443067]\n",
            " [0.62965051]\n",
            " [0.59470124]\n",
            " [0.62852311]\n",
            " [0.7102593 ]\n",
            " [0.70124014]\n",
            " [0.69673055]\n",
            " [0.66403608]\n",
            " [0.62457723]\n",
            " [0.61273957]\n",
            " [0.59921082]\n",
            " [0.56764374]\n",
            " [0.48421646]\n",
            " [0.46956032]\n",
            " [0.43122886]\n",
            " [0.47688839]\n",
            " [0.39627959]\n",
            " [0.38275085]\n",
            " [0.41544532]\n",
            " [0.42502818]\n",
            " [0.43179256]\n",
            " [0.39797069]\n",
            " [0.34892897]\n",
            " [0.41770011]\n",
            " [0.41882751]\n",
            " [0.43630214]\n",
            " [0.47857948]\n",
            " [0.51972943]\n",
            " [0.49379932]\n",
            " [0.48252537]\n",
            " [0.53494927]\n",
            " [0.53945885]\n",
            " [0.57328072]\n",
            " [0.62401353]\n",
            " [0.5529876 ]\n",
            " [0.52874859]\n",
            " [0.53100338]\n",
            " [0.49718151]\n",
            " [0.48308906]\n",
            " [0.47745209]\n",
            " [0.45490417]\n",
            " [0.53551297]\n",
            " [0.57158963]\n",
            " [0.54678692]\n",
            " [0.5800451 ]\n",
            " [0.64092446]\n",
            " [0.5777903 ]\n",
            " [0.54565953]\n",
            " [0.54678692]\n",
            " [0.50732807]\n",
            " [0.48027057]\n",
            " [0.41882751]\n",
            " [0.43686584]\n",
            " [0.51127396]\n",
            " [0.50225479]\n",
            " [0.5259301 ]\n",
            " [0.52480271]\n",
            " [0.54678692]\n",
            " [0.40360767]\n",
            " [0.22547914]\n",
            " [0.15332582]\n",
            " [0.03551297]\n",
            " [0.08793687]\n",
            " [0.        ]\n",
            " [0.06820744]\n",
            " [0.31848929]\n",
            " [0.44024803]\n",
            " [0.44532131]\n",
            " [0.61217587]\n",
            " [0.75253664]\n",
            " [0.80101466]\n",
            " [0.92784667]\n",
            " [0.88105975]\n",
            " [0.82750846]\n",
            " [0.78072153]\n",
            " [0.74689966]\n",
            " [0.71307779]\n",
            " [0.75197294]\n",
            " [0.7886133 ]\n",
            " [0.79932356]\n",
            " [0.85625705]\n",
            " [0.81285231]\n",
            " [0.83652762]\n",
            " [0.78579481]\n",
            " [0.80834273]\n",
            " [0.85231116]\n",
            " [0.85794814]\n",
            " [0.87936866]\n",
            " [0.87936866]\n",
            " [0.83089064]\n",
            " [0.82638106]\n",
            " [0.80496054]\n",
            " [0.79255919]\n",
            " [0.81341601]\n",
            " [0.85400225]\n",
            " [0.87034949]\n",
            " [0.85005637]\n",
            " [0.96617813]\n",
            " [0.90642616]\n",
            " [0.86471251]\n",
            " [0.8686584 ]\n",
            " [0.88387824]\n",
            " [0.89627959]\n",
            " [0.9222097 ]\n",
            " [0.93291995]\n",
            " [0.88162345]\n",
            " [0.85907554]\n",
            " [0.85851184]\n",
            " [0.89740699]\n",
            " [0.87429538]\n",
            " [0.86302142]\n",
            " [0.84723788]\n",
            " [0.88726043]\n",
            " [0.89064262]\n",
            " [0.90811725]\n",
            " [0.92333709]\n",
            " [0.9481398 ]\n",
            " [0.90248027]\n",
            " [0.93517475]\n",
            " [0.99661781]\n",
            " [1.        ]]\n"
          ],
          "name": "stdout"
        }
      ]
    },
    {
      "cell_type": "code",
      "metadata": {
        "id": "jG6Frxvpw_YL",
        "colab_type": "code",
        "colab": {
          "base_uri": "https://localhost:8080/",
          "height": 402
        },
        "outputId": "4f5b0c85-fbbb-4111-c49b-5666a001e74a"
      },
      "source": [
        "# Inspect the data\n",
        "# Look at join distributions of afew pairs of collumns from the training set\n",
        "# Need to revise what this graph does\n",
        "import matplotlib.pyplot as plt\n",
        "plt.title('Time Series of Total Deaths of US & USD/GBP')\n",
        "plt.plot(normalisation_us_deaths,label=\"us_covid_death_rates\")\n",
        "plt.plot(normalisation_price, label=\"USD/GBP price\")\n",
        "plt.ylabel('Normalisation between 0 and 1')\n",
        "plt.xlabel('Date')\n",
        "plt.legend() \n",
        "plt.show()"
      ],
      "execution_count": 118,
      "outputs": [
        {
          "output_type": "display_data",
          "data": {
            "image/png": "[encoded data removed]",
            "text/plain": [
              "<Figure size 1080x432 with 1 Axes>"
            ]
          },
          "metadata": {
            "tags": []
          }
        }
      ]
    },
    {
      "cell_type": "markdown",
      "metadata": {
        "id": "FrNnj6gGIkmf",
        "colab_type": "text"
      },
      "source": [
        "# Preprocessing the Data - Train & Test\n"
      ]
    },
    {
      "cell_type": "code",
      "metadata": {
        "id": "yJTAF3KWyKwR",
        "colab_type": "code",
        "colab": {
          "base_uri": "https://localhost:8080/",
          "height": 1000
        },
        "outputId": "e891591f-a7a3-4f53-d784-e8eb1c2c70ae"
      },
      "source": [
        "new_dataset = np.hstack((normalisation_us_deaths,normalisation_price))\n",
        "print(new_dataset)"
      ],
      "execution_count": 119,
      "outputs": [
        {
          "output_type": "stream",
          "text": [
            "[[0.00000000e+00 5.60879369e-01]\n",
            " [0.00000000e+00 5.52423901e-01]\n",
            " [0.00000000e+00 5.56369786e-01]\n",
            " [0.00000000e+00 5.15219842e-01]\n",
            " [0.00000000e+00 4.57722661e-01]\n",
            " [0.00000000e+00 4.78015784e-01]\n",
            " [0.00000000e+00 5.24802706e-01]\n",
            " [0.00000000e+00 5.25930101e-01]\n",
            " [0.00000000e+00 5.82299887e-01]\n",
            " [0.00000000e+00 5.50169109e-01]\n",
            " [0.00000000e+00 4.90980834e-01]\n",
            " [0.00000000e+00 5.29312289e-01]\n",
            " [0.00000000e+00 6.03156708e-01]\n",
            " [0.00000000e+00 6.14430665e-01]\n",
            " [0.00000000e+00 6.29650507e-01]\n",
            " [0.00000000e+00 5.94701240e-01]\n",
            " [0.00000000e+00 6.28523112e-01]\n",
            " [0.00000000e+00 7.10259301e-01]\n",
            " [0.00000000e+00 7.01240135e-01]\n",
            " [0.00000000e+00 6.96730552e-01]\n",
            " [0.00000000e+00 6.64036077e-01]\n",
            " [0.00000000e+00 6.24577227e-01]\n",
            " [0.00000000e+00 6.12739572e-01]\n",
            " [0.00000000e+00 5.99210823e-01]\n",
            " [0.00000000e+00 5.67643743e-01]\n",
            " [0.00000000e+00 4.84216460e-01]\n",
            " [0.00000000e+00 4.69560316e-01]\n",
            " [0.00000000e+00 4.31228861e-01]\n",
            " [0.00000000e+00 4.76888388e-01]\n",
            " [0.00000000e+00 3.96279594e-01]\n",
            " [0.00000000e+00 3.82750846e-01]\n",
            " [0.00000000e+00 4.15445321e-01]\n",
            " [0.00000000e+00 4.25028185e-01]\n",
            " [0.00000000e+00 4.31792559e-01]\n",
            " [0.00000000e+00 3.97970688e-01]\n",
            " [0.00000000e+00 3.48928974e-01]\n",
            " [0.00000000e+00 4.17700113e-01]\n",
            " [0.00000000e+00 4.18827508e-01]\n",
            " [0.00000000e+00 4.36302142e-01]\n",
            " [0.00000000e+00 4.78579481e-01]\n",
            " [0.00000000e+00 5.19729425e-01]\n",
            " [0.00000000e+00 4.93799324e-01]\n",
            " [0.00000000e+00 4.82525366e-01]\n",
            " [0.00000000e+00 5.34949267e-01]\n",
            " [3.70897457e-07 5.39458850e-01]\n",
            " [1.48358983e-06 5.73280722e-01]\n",
            " [3.15262838e-06 6.24013529e-01]\n",
            " [5.19256440e-06 5.52987599e-01]\n",
            " [7.41794914e-06 5.28748591e-01]\n",
            " [1.13123724e-05 5.31003382e-01]\n",
            " [1.61340394e-05 4.97181511e-01]\n",
            " [2.13266038e-05 4.83089064e-01]\n",
            " [2.68900656e-05 4.77452086e-01]\n",
            " [3.43080148e-05 4.54904171e-01]\n",
            " [4.71039770e-05 5.35512965e-01]\n",
            " [6.28671189e-05 5.71589628e-01]\n",
            " [8.28955816e-05 5.46786922e-01]\n",
            " [1.10712891e-04 5.80045096e-01]\n",
            " [1.38530200e-04 6.40924464e-01]\n",
            " [2.25876551e-04 5.77790304e-01]\n",
            " [3.35291301e-04 5.45659526e-01]\n",
            " [4.83835732e-04 5.46786922e-01]\n",
            " [6.78556897e-04 5.07328072e-01]\n",
            " [9.18898449e-04 4.80270575e-01]\n",
            " [1.38418931e-03 4.18827508e-01]\n",
            " [1.97206178e-03 4.36865840e-01]\n",
            " [2.72850714e-03 5.11273957e-01]\n",
            " [3.68134271e-03 5.02254791e-01]\n",
            " [4.80386386e-03 5.25930101e-01]\n",
            " [6.59288774e-03 5.24802706e-01]\n",
            " [8.63078382e-03 5.46786922e-01]\n",
            " [1.10221452e-02 4.03607666e-01]\n",
            " [1.37699390e-02 2.25479143e-01]\n",
            " [1.68650783e-02 1.53325817e-01]\n",
            " [2.09649787e-02 3.55129651e-02]\n",
            " [2.53506557e-02 8.79368658e-02]\n",
            " [3.01828932e-02 0.00000000e+00]\n",
            " [3.59290221e-02 6.82074408e-02]\n",
            " [4.21014976e-02 3.18489290e-01]\n",
            " [4.96459227e-02 4.40248027e-01]\n",
            " [5.75347262e-02 4.45321308e-01]\n",
            " [6.58916023e-02 6.12175874e-01]\n",
            " [7.45676356e-02 7.52536640e-01]\n",
            " [8.38332104e-02 8.01014656e-01]\n",
            " [9.40098948e-02 9.27846674e-01]\n",
            " [1.04440459e-01 8.81059752e-01]\n",
            " [1.15262319e-01 8.27508455e-01]\n",
            " [1.26568386e-01 7.80721533e-01]\n",
            " [1.38252769e-01 7.46899662e-01]\n",
            " [1.50804310e-01 7.13077790e-01]\n",
            " [1.63588032e-01 7.51972943e-01]\n",
            " [1.76769357e-01 7.88613303e-01]\n",
            " [1.90387043e-01 7.99323563e-01]\n",
            " [2.04419948e-01 8.56257046e-01]\n",
            " [2.19168314e-01 8.12852311e-01]\n",
            " [2.34131060e-01 8.36527621e-01]\n",
            " [2.49409624e-01 7.85794814e-01]\n",
            " [2.65011982e-01 8.08342728e-01]\n",
            " [2.80943140e-01 8.52311161e-01]\n",
            " [2.97552299e-01 8.57948140e-01]\n",
            " [3.14308148e-01 8.79368658e-01]\n",
            " [3.31354781e-01 8.79368658e-01]\n",
            " [3.48682925e-01 8.30890643e-01]\n",
            " [3.66245290e-01 8.26381060e-01]\n",
            " [3.84367340e-01 8.04960541e-01]\n",
            " [4.02582114e-01 7.92559188e-01]\n",
            " [4.20925960e-01 8.13416009e-01]\n",
            " [4.39552802e-01 8.54002255e-01]\n",
            " [4.58397545e-01 8.70349493e-01]\n",
            " [4.77755240e-01 8.50056370e-01]\n",
            " [4.97254617e-01 9.66178129e-01]\n",
            " [5.16945748e-01 9.06426156e-01]\n",
            " [5.36821216e-01 8.64712514e-01]\n",
            " [5.56888808e-01 8.68658399e-01]\n",
            " [5.77383489e-01 8.83878241e-01]\n",
            " [5.97969596e-01 8.96279594e-01]\n",
            " [6.18740966e-01 9.22209696e-01]\n",
            " [6.39682579e-01 9.32919955e-01]\n",
            " [6.60790353e-01 8.81623450e-01]\n",
            " [6.82252705e-01 8.59075536e-01]\n",
            " [7.03788310e-01 8.58511838e-01]\n",
            " [7.25478949e-01 8.97406990e-01]\n",
            " [7.47309417e-01 8.74295378e-01]\n",
            " [7.69272852e-01 8.63021421e-01]\n",
            " [7.91522063e-01 8.47237880e-01]\n",
            " [8.13850461e-01 8.87260428e-01]\n",
            " [8.36332039e-01 8.90642616e-01]\n",
            " [8.58952890e-01 9.08117249e-01]\n",
            " [8.82025679e-01 9.23337091e-01]\n",
            " [9.05355871e-01 9.48139797e-01]\n",
            " [9.28748373e-01 9.02480271e-01]\n",
            " [9.52376396e-01 9.35174746e-01]\n",
            " [9.76125331e-01 9.96617813e-01]\n",
            " [1.00000000e+00 1.00000000e+00]]\n"
          ],
          "name": "stdout"
        }
      ]
    },
    {
      "cell_type": "code",
      "metadata": {
        "id": "Sx35yrWb1MIz",
        "colab_type": "code",
        "colab": {}
      },
      "source": [
        "# Test & Train split => Preprocessing the data \n",
        "# Splitting dataset into train and test split\n",
        "# 65% of the total length of my datadrame\n",
        "# 35% test size\n",
        "# input: new_dataset instead of normalisation_us_deaths\n",
        "training_size = int(len(new_dataset)*0.65)\n",
        "# iterate through both and get 0th element of both and add to a list\n",
        "test_size = len(new_dataset)-training_size\n",
        "train_data, test_data = new_dataset[0:training_size,:], new_dataset[training_size:len(new_dataset)]\n",
        "# print(new_dataset)\n"
      ],
      "execution_count": 120,
      "outputs": []
    },
    {
      "cell_type": "code",
      "metadata": {
        "id": "ldKERrxeA1sD",
        "colab_type": "code",
        "colab": {
          "base_uri": "https://localhost:8080/",
          "height": 33
        },
        "outputId": "a0ea54d7-a520-407c-91bc-da4ef5fac094"
      },
      "source": [
        "training_size, test_size"
      ],
      "execution_count": 121,
      "outputs": [
        {
          "output_type": "execute_result",
          "data": {
            "text/plain": [
              "(87, 47)"
            ]
          },
          "metadata": {
            "tags": []
          },
          "execution_count": 121
        }
      ]
    },
    {
      "cell_type": "code",
      "metadata": {
        "id": "llongsG7BHW7",
        "colab_type": "code",
        "colab": {
          "base_uri": "https://localhost:8080/",
          "height": 33
        },
        "outputId": "a8b19404-9ce5-45d2-f916-d3f3d59a6bf4"
      },
      "source": [
        "len(train_data), len(test_data)"
      ],
      "execution_count": 122,
      "outputs": [
        {
          "output_type": "execute_result",
          "data": {
            "text/plain": [
              "(87, 47)"
            ]
          },
          "metadata": {
            "tags": []
          },
          "execution_count": 122
        }
      ]
    },
    {
      "cell_type": "code",
      "metadata": {
        "id": "nc0pElKOBO-4",
        "colab_type": "code",
        "colab": {}
      },
      "source": [
        "# train_data"
      ],
      "execution_count": 123,
      "outputs": []
    },
    {
      "cell_type": "code",
      "metadata": {
        "id": "7lcOjmoBARZm",
        "colab_type": "code",
        "colab": {}
      },
      "source": [
        "# Convert an array of values into a dataset matrix\n",
        "# time_step = how many previous days you have to consider before making a prediction\n",
        "# all data, need to split: [120,130,125,140,134,150,160,190,154,160,170]\n",
        "# timesteps = 3\n",
        "# train data = [120,130,125,140,134,150]\n",
        "# test data = [160,190,154,160,170]\n",
        "# X_train = f1,f2,f3\n",
        "f1 = [ [0.0000, 77777],  [0.0000,888] , [111, 9999]]\n",
        "# Y_train = o/p\n",
        "# f1  f2  o/p\n",
        "# 120 130 125 \n",
        "# 130 125 140 \n",
        "# X_test = f1,f2,f3\n",
        "# Y_test = o/p\n",
        "# f1  f2  f3  o/p\n",
        "# 160 190 154 160\n",
        "# 190 154 160 170\n",
        "\n",
        "# PROBLEM HERE: why is one out of bounds?\n",
        "\n",
        "def create_dataset(dataset, time_step=1):\n",
        "  dataX, dataY = [],[]\n",
        "  # then we subtract e.g. timestep=3 : lendataset -3-3 so you are shifting\n",
        "  for i in range(len(dataset)-time_step-1):\n",
        "    a = dataset[i:(i+time_step)]  # i=0, 0,1,2,3\n",
        "    # print(a)\n",
        "    dataX.append(a)\n",
        "    y = dataset[i + time_step][1] \n",
        "    dataY.append(y)\n",
        "  return np.array(dataX), np.array(dataY)"
      ],
      "execution_count": 124,
      "outputs": []
    },
    {
      "cell_type": "code",
      "metadata": {
        "id": "Xjbnyit_VZur",
        "colab_type": "code",
        "colab": {}
      },
      "source": [
        "# time_step is the number of days at the end\n",
        "# features: it takes in both the train and test and the number of days from the end\n",
        "# look_back -> every week \n",
        "time_step = 7\n",
        "X_train, Y_train = create_dataset(train_data, time_step)\n",
        "X_test, Y_test = create_dataset(test_data, time_step)"
      ],
      "execution_count": 125,
      "outputs": []
    },
    {
      "cell_type": "code",
      "metadata": {
        "id": "8y2Wyy-fWB_T",
        "colab_type": "code",
        "colab": {}
      },
      "source": [
        "# print(X_train)"
      ],
      "execution_count": 126,
      "outputs": []
    },
    {
      "cell_type": "code",
      "metadata": {
        "id": "7j3HCEW8TdGG",
        "colab_type": "code",
        "colab": {
          "base_uri": "https://localhost:8080/",
          "height": 66
        },
        "outputId": "3afee64a-a539-4483-9611-31400211fa6d"
      },
      "source": [
        "# This should be ordered in respect to date – not cross validation or random seed\n",
        "# We are going to divide our data based on date because the next data is always dependent on the previous data\n",
        "# 7 features at a time f1,f2,f3,f4,f5,f6,f7\n",
        "print(X_train.shape), print(Y_train.shape)\n"
      ],
      "execution_count": 127,
      "outputs": [
        {
          "output_type": "stream",
          "text": [
            "(79, 7, 2)\n",
            "(79,)\n"
          ],
          "name": "stdout"
        },
        {
          "output_type": "execute_result",
          "data": {
            "text/plain": [
              "(None, None)"
            ]
          },
          "metadata": {
            "tags": []
          },
          "execution_count": 127
        }
      ]
    },
    {
      "cell_type": "code",
      "metadata": {
        "id": "Bii3I74VfqRM",
        "colab_type": "code",
        "colab": {
          "base_uri": "https://localhost:8080/",
          "height": 66
        },
        "outputId": "c8d08147-6a53-47e8-9130-8e9c5ba12d0c"
      },
      "source": [
        "print(X_test.shape), print(Y_test.shape)\n",
        "# Finished preprocessing the data"
      ],
      "execution_count": 128,
      "outputs": [
        {
          "output_type": "stream",
          "text": [
            "(39, 7, 2)\n",
            "(39,)\n"
          ],
          "name": "stdout"
        },
        {
          "output_type": "execute_result",
          "data": {
            "text/plain": [
              "(None, None)"
            ]
          },
          "metadata": {
            "tags": []
          },
          "execution_count": 128
        }
      ]
    },
    {
      "cell_type": "code",
      "metadata": {
        "id": "TfKVJOPfCWw-",
        "colab_type": "code",
        "colab": {}
      },
      "source": [
        "# Need to convert this to a 3D \n",
        "# reshape input to be [samples, time_steps, features] which is required for lstm\n",
        "# therefore we add ,1 to convert to 3d\n",
        "# 7,1 will be the input to our LSTM\n",
        "# xtrain.shape = 79, 7, 1\n",
        "# X_train = X_train.reshape(X_train.shape[0],X_train.shape[1], 1)\n",
        "# print(\"hi\")\n",
        "# X_test = X_test.reshape(X_test.shape[0], X_test.shape[1],1)"
      ],
      "execution_count": 136,
      "outputs": []
    },
    {
      "cell_type": "markdown",
      "metadata": {
        "id": "rQxS8R3VI2bP",
        "colab_type": "text"
      },
      "source": [
        "# Stacked LSTM Model"
      ]
    },
    {
      "cell_type": "code",
      "metadata": {
        "id": "fuLjcvVwM7Sc",
        "colab_type": "code",
        "colab": {}
      },
      "source": [
        "# Create the stacked LSTM model\n",
        "# One LSTM after the other\n",
        "from tensorflow.keras.models import Sequential\n",
        "from tensorflow.keras.layers import Dense\n",
        "from tensorflow.keras.layers import LSTM\n",
        "from tensorflow.keras.layers import InputLayer\n",
        "model = Sequential()\n",
        "# list: one element is a list of price and covid\n",
        "# 1d with 2 values -> one can be price and covid\n",
        "# model wont except tupils\n",
        "# 2d input\n",
        "# [[3,4],[4,5]]\n",
        "\n",
        "# we want input_tensor to be a single data point\n",
        "model.add(InputLayer(input_shape=(7,2)))\n",
        "model.add(LSTM(5,return_sequences=True))\n",
        "model.add(LSTM(5, return_sequences=True))\n",
        "model.add(LSTM(5))\n",
        "model.add(Dense(1))\n",
        "model.compile(loss = 'mean_squared_error', optimizer='adam')\n",
        "\n",
        "\n"
      ],
      "execution_count": 138,
      "outputs": []
    },
    {
      "cell_type": "code",
      "metadata": {
        "id": "L7MZYWw8NkzS",
        "colab_type": "code",
        "colab": {
          "base_uri": "https://localhost:8080/",
          "height": 277
        },
        "outputId": "fb20e668-23f6-41ba-ba39-66a54f6168de"
      },
      "source": [
        "model.summary()"
      ],
      "execution_count": 139,
      "outputs": [
        {
          "output_type": "stream",
          "text": [
            "Model: \"sequential_1\"\n",
            "_________________________________________________________________\n",
            "Layer (type)                 Output Shape              Param #   \n",
            "=================================================================\n",
            "lstm_3 (LSTM)                (None, 7, 5)              160       \n",
            "_________________________________________________________________\n",
            "lstm_4 (LSTM)                (None, 7, 5)              220       \n",
            "_________________________________________________________________\n",
            "lstm_5 (LSTM)                (None, 5)                 220       \n",
            "_________________________________________________________________\n",
            "dense_1 (Dense)              (None, 1)                 6         \n",
            "=================================================================\n",
            "Total params: 606\n",
            "Trainable params: 606\n",
            "Non-trainable params: 0\n",
            "_________________________________________________________________\n"
          ],
          "name": "stdout"
        }
      ]
    },
    {
      "cell_type": "code",
      "metadata": {
        "id": "V-kYqq9ON2ij",
        "colab_type": "code",
        "colab": {
          "base_uri": "https://localhost:8080/",
          "height": 1000
        },
        "outputId": "8dab76d4-6252-49cb-a4b1-c4b6e98c03bc"
      },
      "source": [
        "# Main aim should be to minimise the loss\n",
        "\n",
        "model.fit(X_train, Y_train, \n",
        "          validation_data=\n",
        "          # last. no of values that may be used to valida\n",
        "          # time series validation series\n",
        "          # assign some validation data aside from test data you cant\n",
        "          (X_test,Y_test), epochs=100,batch_size=64,verbose=1)"
      ],
      "execution_count": 140,
      "outputs": [
        {
          "output_type": "stream",
          "text": [
            "Epoch 1/100\n",
            "2/2 [==============================] - 1s 628ms/step - loss: 0.3307 - val_loss: 0.9501\n",
            "Epoch 2/100\n",
            "2/2 [==============================] - 0s 24ms/step - loss: 0.3080 - val_loss: 0.9069\n",
            "Epoch 3/100\n",
            "2/2 [==============================] - 0s 23ms/step - loss: 0.2871 - val_loss: 0.8663\n",
            "Epoch 4/100\n",
            "2/2 [==============================] - 0s 24ms/step - loss: 0.2671 - val_loss: 0.8282\n",
            "Epoch 5/100\n",
            "2/2 [==============================] - 0s 25ms/step - loss: 0.2493 - val_loss: 0.7919\n",
            "Epoch 6/100\n",
            "2/2 [==============================] - 0s 28ms/step - loss: 0.2313 - val_loss: 0.7573\n",
            "Epoch 7/100\n",
            "2/2 [==============================] - 0s 26ms/step - loss: 0.2148 - val_loss: 0.7234\n",
            "Epoch 8/100\n",
            "2/2 [==============================] - 0s 24ms/step - loss: 0.1987 - val_loss: 0.6902\n",
            "Epoch 9/100\n",
            "2/2 [==============================] - 0s 24ms/step - loss: 0.1827 - val_loss: 0.6574\n",
            "Epoch 10/100\n",
            "2/2 [==============================] - 0s 23ms/step - loss: 0.1672 - val_loss: 0.6245\n",
            "Epoch 11/100\n",
            "2/2 [==============================] - 0s 23ms/step - loss: 0.1524 - val_loss: 0.5916\n",
            "Epoch 12/100\n",
            "2/2 [==============================] - 0s 22ms/step - loss: 0.1376 - val_loss: 0.5588\n",
            "Epoch 13/100\n",
            "2/2 [==============================] - 0s 23ms/step - loss: 0.1233 - val_loss: 0.5257\n",
            "Epoch 14/100\n",
            "2/2 [==============================] - 0s 28ms/step - loss: 0.1100 - val_loss: 0.4927\n",
            "Epoch 15/100\n",
            "2/2 [==============================] - 0s 23ms/step - loss: 0.0968 - val_loss: 0.4599\n",
            "Epoch 16/100\n",
            "2/2 [==============================] - 0s 29ms/step - loss: 0.0844 - val_loss: 0.4272\n",
            "Epoch 17/100\n",
            "2/2 [==============================] - 0s 24ms/step - loss: 0.0733 - val_loss: 0.3949\n",
            "Epoch 18/100\n",
            "2/2 [==============================] - 0s 23ms/step - loss: 0.0631 - val_loss: 0.3637\n",
            "Epoch 19/100\n",
            "2/2 [==============================] - 0s 23ms/step - loss: 0.0537 - val_loss: 0.3339\n",
            "Epoch 20/100\n",
            "2/2 [==============================] - 0s 23ms/step - loss: 0.0459 - val_loss: 0.3054\n",
            "Epoch 21/100\n",
            "2/2 [==============================] - 0s 24ms/step - loss: 0.0392 - val_loss: 0.2784\n",
            "Epoch 22/100\n",
            "2/2 [==============================] - 0s 24ms/step - loss: 0.0338 - val_loss: 0.2530\n",
            "Epoch 23/100\n",
            "2/2 [==============================] - 0s 28ms/step - loss: 0.0298 - val_loss: 0.2291\n",
            "Epoch 24/100\n",
            "2/2 [==============================] - 0s 25ms/step - loss: 0.0272 - val_loss: 0.2072\n",
            "Epoch 25/100\n",
            "2/2 [==============================] - 0s 24ms/step - loss: 0.0258 - val_loss: 0.1878\n",
            "Epoch 26/100\n",
            "2/2 [==============================] - 0s 26ms/step - loss: 0.0253 - val_loss: 0.1715\n",
            "Epoch 27/100\n",
            "2/2 [==============================] - 0s 23ms/step - loss: 0.0258 - val_loss: 0.1584\n",
            "Epoch 28/100\n",
            "2/2 [==============================] - 0s 23ms/step - loss: 0.0267 - val_loss: 0.1493\n",
            "Epoch 29/100\n",
            "2/2 [==============================] - 0s 23ms/step - loss: 0.0274 - val_loss: 0.1440\n",
            "Epoch 30/100\n",
            "2/2 [==============================] - 0s 29ms/step - loss: 0.0279 - val_loss: 0.1415\n",
            "Epoch 31/100\n",
            "2/2 [==============================] - 0s 25ms/step - loss: 0.0280 - val_loss: 0.1423\n",
            "Epoch 32/100\n",
            "2/2 [==============================] - 0s 26ms/step - loss: 0.0277 - val_loss: 0.1456\n",
            "Epoch 33/100\n",
            "2/2 [==============================] - 0s 25ms/step - loss: 0.0271 - val_loss: 0.1498\n",
            "Epoch 34/100\n",
            "2/2 [==============================] - 0s 23ms/step - loss: 0.0266 - val_loss: 0.1547\n",
            "Epoch 35/100\n",
            "2/2 [==============================] - 0s 26ms/step - loss: 0.0261 - val_loss: 0.1595\n",
            "Epoch 36/100\n",
            "2/2 [==============================] - 0s 24ms/step - loss: 0.0257 - val_loss: 0.1644\n",
            "Epoch 37/100\n",
            "2/2 [==============================] - 0s 24ms/step - loss: 0.0255 - val_loss: 0.1693\n",
            "Epoch 38/100\n",
            "2/2 [==============================] - 0s 27ms/step - loss: 0.0254 - val_loss: 0.1732\n",
            "Epoch 39/100\n",
            "2/2 [==============================] - 0s 24ms/step - loss: 0.0253 - val_loss: 0.1763\n",
            "Epoch 40/100\n",
            "2/2 [==============================] - 0s 24ms/step - loss: 0.0254 - val_loss: 0.1790\n",
            "Epoch 41/100\n",
            "2/2 [==============================] - 0s 24ms/step - loss: 0.0255 - val_loss: 0.1809\n",
            "Epoch 42/100\n",
            "2/2 [==============================] - 0s 23ms/step - loss: 0.0256 - val_loss: 0.1817\n",
            "Epoch 43/100\n",
            "2/2 [==============================] - 0s 27ms/step - loss: 0.0256 - val_loss: 0.1810\n",
            "Epoch 44/100\n",
            "2/2 [==============================] - 0s 23ms/step - loss: 0.0256 - val_loss: 0.1791\n",
            "Epoch 45/100\n",
            "2/2 [==============================] - 0s 25ms/step - loss: 0.0256 - val_loss: 0.1765\n",
            "Epoch 46/100\n",
            "2/2 [==============================] - 0s 28ms/step - loss: 0.0255 - val_loss: 0.1737\n",
            "Epoch 47/100\n",
            "2/2 [==============================] - 0s 23ms/step - loss: 0.0255 - val_loss: 0.1711\n",
            "Epoch 48/100\n",
            "2/2 [==============================] - 0s 24ms/step - loss: 0.0254 - val_loss: 0.1690\n",
            "Epoch 49/100\n",
            "2/2 [==============================] - 0s 23ms/step - loss: 0.0254 - val_loss: 0.1663\n",
            "Epoch 50/100\n",
            "2/2 [==============================] - 0s 23ms/step - loss: 0.0254 - val_loss: 0.1630\n",
            "Epoch 51/100\n",
            "2/2 [==============================] - 0s 23ms/step - loss: 0.0253 - val_loss: 0.1598\n",
            "Epoch 52/100\n",
            "2/2 [==============================] - 0s 23ms/step - loss: 0.0253 - val_loss: 0.1569\n",
            "Epoch 53/100\n",
            "2/2 [==============================] - 0s 23ms/step - loss: 0.0253 - val_loss: 0.1543\n",
            "Epoch 54/100\n",
            "2/2 [==============================] - 0s 24ms/step - loss: 0.0253 - val_loss: 0.1520\n",
            "Epoch 55/100\n",
            "2/2 [==============================] - 0s 29ms/step - loss: 0.0253 - val_loss: 0.1498\n",
            "Epoch 56/100\n",
            "2/2 [==============================] - 0s 23ms/step - loss: 0.0254 - val_loss: 0.1476\n",
            "Epoch 57/100\n",
            "2/2 [==============================] - 0s 24ms/step - loss: 0.0254 - val_loss: 0.1462\n",
            "Epoch 58/100\n",
            "2/2 [==============================] - 0s 24ms/step - loss: 0.0254 - val_loss: 0.1459\n",
            "Epoch 59/100\n",
            "2/2 [==============================] - 0s 23ms/step - loss: 0.0254 - val_loss: 0.1459\n",
            "Epoch 60/100\n",
            "2/2 [==============================] - 0s 22ms/step - loss: 0.0253 - val_loss: 0.1460\n",
            "Epoch 61/100\n",
            "2/2 [==============================] - 0s 26ms/step - loss: 0.0253 - val_loss: 0.1469\n",
            "Epoch 62/100\n",
            "2/2 [==============================] - 0s 29ms/step - loss: 0.0253 - val_loss: 0.1481\n",
            "Epoch 63/100\n",
            "2/2 [==============================] - 0s 24ms/step - loss: 0.0253 - val_loss: 0.1493\n",
            "Epoch 64/100\n",
            "2/2 [==============================] - 0s 27ms/step - loss: 0.0253 - val_loss: 0.1501\n",
            "Epoch 65/100\n",
            "2/2 [==============================] - 0s 24ms/step - loss: 0.0253 - val_loss: 0.1503\n",
            "Epoch 66/100\n",
            "2/2 [==============================] - 0s 24ms/step - loss: 0.0253 - val_loss: 0.1500\n",
            "Epoch 67/100\n",
            "2/2 [==============================] - 0s 26ms/step - loss: 0.0253 - val_loss: 0.1495\n",
            "Epoch 68/100\n",
            "2/2 [==============================] - 0s 25ms/step - loss: 0.0253 - val_loss: 0.1490\n",
            "Epoch 69/100\n",
            "2/2 [==============================] - 0s 28ms/step - loss: 0.0253 - val_loss: 0.1475\n",
            "Epoch 70/100\n",
            "2/2 [==============================] - 0s 27ms/step - loss: 0.0253 - val_loss: 0.1459\n",
            "Epoch 71/100\n",
            "2/2 [==============================] - 0s 23ms/step - loss: 0.0252 - val_loss: 0.1442\n",
            "Epoch 72/100\n",
            "2/2 [==============================] - 0s 23ms/step - loss: 0.0252 - val_loss: 0.1422\n",
            "Epoch 73/100\n",
            "2/2 [==============================] - 0s 23ms/step - loss: 0.0252 - val_loss: 0.1407\n",
            "Epoch 74/100\n",
            "2/2 [==============================] - 0s 38ms/step - loss: 0.0252 - val_loss: 0.1392\n",
            "Epoch 75/100\n",
            "2/2 [==============================] - 0s 24ms/step - loss: 0.0252 - val_loss: 0.1370\n",
            "Epoch 76/100\n",
            "2/2 [==============================] - 0s 24ms/step - loss: 0.0252 - val_loss: 0.1353\n",
            "Epoch 77/100\n",
            "2/2 [==============================] - 0s 26ms/step - loss: 0.0252 - val_loss: 0.1338\n",
            "Epoch 78/100\n",
            "2/2 [==============================] - 0s 28ms/step - loss: 0.0252 - val_loss: 0.1327\n",
            "Epoch 79/100\n",
            "2/2 [==============================] - 0s 29ms/step - loss: 0.0252 - val_loss: 0.1319\n",
            "Epoch 80/100\n",
            "2/2 [==============================] - 0s 27ms/step - loss: 0.0252 - val_loss: 0.1307\n",
            "Epoch 81/100\n",
            "2/2 [==============================] - 0s 27ms/step - loss: 0.0251 - val_loss: 0.1285\n",
            "Epoch 82/100\n",
            "2/2 [==============================] - 0s 28ms/step - loss: 0.0252 - val_loss: 0.1262\n",
            "Epoch 83/100\n",
            "2/2 [==============================] - 0s 27ms/step - loss: 0.0251 - val_loss: 0.1248\n",
            "Epoch 84/100\n",
            "2/2 [==============================] - 0s 24ms/step - loss: 0.0251 - val_loss: 0.1235\n",
            "Epoch 85/100\n",
            "2/2 [==============================] - 0s 25ms/step - loss: 0.0251 - val_loss: 0.1221\n",
            "Epoch 86/100\n",
            "2/2 [==============================] - 0s 24ms/step - loss: 0.0251 - val_loss: 0.1202\n",
            "Epoch 87/100\n",
            "2/2 [==============================] - 0s 27ms/step - loss: 0.0252 - val_loss: 0.1187\n",
            "Epoch 88/100\n",
            "2/2 [==============================] - 0s 24ms/step - loss: 0.0251 - val_loss: 0.1184\n",
            "Epoch 89/100\n",
            "2/2 [==============================] - 0s 25ms/step - loss: 0.0251 - val_loss: 0.1183\n",
            "Epoch 90/100\n",
            "2/2 [==============================] - 0s 28ms/step - loss: 0.0251 - val_loss: 0.1175\n",
            "Epoch 91/100\n",
            "2/2 [==============================] - 0s 28ms/step - loss: 0.0251 - val_loss: 0.1167\n",
            "Epoch 92/100\n",
            "2/2 [==============================] - 0s 27ms/step - loss: 0.0251 - val_loss: 0.1162\n",
            "Epoch 93/100\n",
            "2/2 [==============================] - 0s 28ms/step - loss: 0.0251 - val_loss: 0.1156\n",
            "Epoch 94/100\n",
            "2/2 [==============================] - 0s 27ms/step - loss: 0.0251 - val_loss: 0.1146\n",
            "Epoch 95/100\n",
            "2/2 [==============================] - 0s 23ms/step - loss: 0.0251 - val_loss: 0.1130\n",
            "Epoch 96/100\n",
            "2/2 [==============================] - 0s 23ms/step - loss: 0.0250 - val_loss: 0.1116\n",
            "Epoch 97/100\n",
            "2/2 [==============================] - 0s 27ms/step - loss: 0.0250 - val_loss: 0.1106\n",
            "Epoch 98/100\n",
            "2/2 [==============================] - 0s 24ms/step - loss: 0.0250 - val_loss: 0.1108\n",
            "Epoch 99/100\n",
            "2/2 [==============================] - 0s 24ms/step - loss: 0.0250 - val_loss: 0.1113\n",
            "Epoch 100/100\n",
            "2/2 [==============================] - 0s 24ms/step - loss: 0.0250 - val_loss: 0.1114\n"
          ],
          "name": "stdout"
        },
        {
          "output_type": "execute_result",
          "data": {
            "text/plain": [
              "<tensorflow.python.keras.callbacks.History at 0x7f18000d60f0>"
            ]
          },
          "metadata": {
            "tags": []
          },
          "execution_count": 140
        }
      ]
    },
    {
      "cell_type": "markdown",
      "metadata": {
        "id": "k4ocL2CLJLXg",
        "colab_type": "text"
      },
      "source": [
        "# Predicted the test data \n",
        "\n",
        "*   Must also plot the output\n",
        "\n"
      ]
    },
    {
      "cell_type": "code",
      "metadata": {
        "id": "aBny6cUkO4xC",
        "colab_type": "code",
        "colab": {}
      },
      "source": [
        "# Prediction and check performance metric\n",
        "train_predict = model.predict(X_train)\n",
        "test_predict = model.predict(X_test)\n"
      ],
      "execution_count": 141,
      "outputs": []
    },
    {
      "cell_type": "code",
      "metadata": {
        "id": "b7ocuWlpPIEA",
        "colab_type": "code",
        "colab": {}
      },
      "source": [
        "# Transform back to original form\n",
        "train_predict=scaler.inverse_transform(train_predict)\n",
        "test_predict=scaler.inverse_transform(test_predict)"
      ],
      "execution_count": 142,
      "outputs": []
    },
    {
      "cell_type": "code",
      "metadata": {
        "id": "DHXXILzqPUHQ",
        "colab_type": "code",
        "colab": {
          "base_uri": "https://localhost:8080/",
          "height": 33
        },
        "outputId": "e47378ec-af1f-4b37-e832-b334f602b9ce"
      },
      "source": [
        "# Calculate the RMSE performance metrics\n",
        "# Output for the train dataset\n",
        "import math\n",
        "from sklearn.metrics import mean_squared_error\n",
        "math.sqrt(mean_squared_error(Y_train, train_predict))"
      ],
      "execution_count": 143,
      "outputs": [
        {
          "output_type": "execute_result",
          "data": {
            "text/plain": [
              "0.7513009483151856"
            ]
          },
          "metadata": {
            "tags": []
          },
          "execution_count": 143
        }
      ]
    },
    {
      "cell_type": "code",
      "metadata": {
        "id": "fFNm7l86Pt_7",
        "colab_type": "code",
        "colab": {
          "base_uri": "https://localhost:8080/",
          "height": 33
        },
        "outputId": "584ceff8-8443-4adf-bfcc-cf510de9ac31"
      },
      "source": [
        "# Similarly for the test Data RMSE\n",
        "math.sqrt(mean_squared_error(Y_test, test_predict))"
      ],
      "execution_count": 144,
      "outputs": [
        {
          "output_type": "execute_result",
          "data": {
            "text/plain": [
              "0.3743171085551662"
            ]
          },
          "metadata": {
            "tags": []
          },
          "execution_count": 144
        }
      ]
    },
    {
      "cell_type": "markdown",
      "metadata": {
        "id": "-nSW23ryI8RU",
        "colab_type": "text"
      },
      "source": [
        "# Predicted future 7 days and plotted the output"
      ]
    },
    {
      "cell_type": "code",
      "metadata": {
        "id": "wIaC4DB2UV6P",
        "colab_type": "code",
        "colab": {
          "base_uri": "https://localhost:8080/",
          "height": 402
        },
        "outputId": "d454a2f2-d966-4096-b6b2-6393bd550857"
      },
      "source": [
        "# Plotting\n",
        "# Shift train predictions for plotting\n",
        "# every week\n",
        "look_back = 7\n",
        "\n",
        "trainPredictPlot = np.empty_like(new_dataset)\n",
        "trainPredictPlot[:,:]= np.nan\n",
        "trainPredictPlot[look_back:len(train_predict)+look_back, :] = train_predict\n",
        "# Shift test predictions for plotting\n",
        "testPredictPlot = np.empty_like(new_dataset)\n",
        "testPredictPlot[:,:]= np.nan\n",
        "testPredictPlot[len(train_predict)+(look_back*2)+1: len(new_dataset)-1, :] = test_predict\n",
        "\n",
        "# Plot baseline and predictions\n",
        "plt.title('Analysis of train, test and actual')\n",
        "plt.plot(scaler.inverse_transform(new_dataset), label=\"actual dataset\")\n",
        "plt.plot(trainPredictPlot, label=\"train_predict\")\n",
        "# as you can see th test data and train is divided because we want to test after a specific day\n",
        "plt.plot(testPredictPlot, label=\"test_predict\")\n",
        "plt.ylabel('Forex price & US Death Rates')\n",
        "plt.xlabel('Date')\n",
        "plt.legend()\n",
        "plt.show()\n",
        "# Printing 2 actual_dataset, train_predict, test_predict because 2 input layers"
      ],
      "execution_count": 145,
      "outputs": [
        {
          "output_type": "display_data",
          "data": {
            "image/png": "[encoded data removed]",
            "text/plain": [
              "<Figure size 1080x432 with 1 Axes>"
            ]
          },
          "metadata": {
            "tags": []
          }
        }
      ]
    },
    {
      "cell_type": "code",
      "metadata": {
        "id": "AUz1G_cESn6S",
        "colab_type": "code",
        "colab": {
          "base_uri": "https://localhost:8080/",
          "height": 33
        },
        "outputId": "b7a734d1-8b63-4c78-e2e0-5a5f25edd5cb"
      },
      "source": [
        "# Predict the future 30 days\n",
        "# imagine in test data the last output was 23/may and you want to predict the 24/may\n",
        "len(test_data) "
      ],
      "execution_count": 146,
      "outputs": [
        {
          "output_type": "execute_result",
          "data": {
            "text/plain": [
              "47"
            ]
          },
          "metadata": {
            "tags": []
          },
          "execution_count": 146
        }
      ]
    },
    {
      "cell_type": "code",
      "metadata": {
        "id": "yws-gX7RTB3Z",
        "colab_type": "code",
        "colab": {
          "base_uri": "https://localhost:8080/",
          "height": 33
        },
        "outputId": "f32cc0bc-103b-4eb6-abb7-9a0f999003ac"
      },
      "source": [
        "X_input=test_data[40:].reshape(1,-1)\n",
        "X_input.shape"
      ],
      "execution_count": 147,
      "outputs": [
        {
          "output_type": "execute_result",
          "data": {
            "text/plain": [
              "(1, 14)"
            ]
          },
          "metadata": {
            "tags": []
          },
          "execution_count": 147
        }
      ]
    },
    {
      "cell_type": "code",
      "metadata": {
        "id": "y6srH5ffTW0s",
        "colab_type": "code",
        "colab": {
          "base_uri": "https://localhost:8080/",
          "height": 33
        },
        "outputId": "9e12dfbb-22f1-48d8-c459-1017b69b37da"
      },
      "source": [
        "# temp_input=list_arr(X_input)\n",
        "# temp_input=temp_input[0].tolist()\n",
        "# print(temp_input)\n",
        "# print(X_input)\n",
        "# should be: \n",
        "# [0.85895289 0.88202568 0.90535587 0.92874837 0.9523764  0.97612533\n",
        "#  1.        ]\n",
        "# error: 'numpy.ndarray' object is not callable\n",
        "# for not:\n",
        "temp_input = [0.85895289,0.88202568,0.90535587,0.92874837,0.9523764,0.97612533,1.]\n",
        "print(temp_input)"
      ],
      "execution_count": 148,
      "outputs": [
        {
          "output_type": "stream",
          "text": [
            "[0.85895289, 0.88202568, 0.90535587, 0.92874837, 0.9523764, 0.97612533, 1.0]\n"
          ],
          "name": "stdout"
        }
      ]
    },
    {
      "cell_type": "code",
      "metadata": {
        "id": "91jlvlCAUAaH",
        "colab_type": "code",
        "colab": {
          "base_uri": "https://localhost:8080/",
          "height": 33
        },
        "outputId": "2e753c3f-494a-43b1-c69c-877abe8c40cc"
      },
      "source": [
        "temp_input"
      ],
      "execution_count": 149,
      "outputs": [
        {
          "output_type": "execute_result",
          "data": {
            "text/plain": [
              "[0.85895289, 0.88202568, 0.90535587, 0.92874837, 0.9523764, 0.97612533, 1.0]"
            ]
          },
          "metadata": {
            "tags": []
          },
          "execution_count": 149
        }
      ]
    },
    {
      "cell_type": "code",
      "metadata": {
        "id": "CHAxzKyuTp5-",
        "colab_type": "code",
        "colab": {
          "base_uri": "https://localhost:8080/",
          "height": 223
        },
        "outputId": "8a89eedb-803d-4a08-87dc-368ad6a59ce1"
      },
      "source": [
        "# Demonstrate prediction for the next 4 days\n",
        "from numpy import array\n",
        "lst_output=[]\n",
        "n_steps=7\n",
        "i=0\n",
        "while(i<4):\n",
        "  if(len(temp_input)>7):\n",
        "    #print(temp_input)\n",
        "    # if length is more than 7, 1: shifting one position\n",
        "    X_input=np.array(temp_input[1:])\n",
        "    # --> print(\"{} day input {}\".format(i,X_input))\n",
        "    X_input=X_input.reshape(1,-1)\n",
        "    X_input=X_input.reshape((1,n_steps,1))\n",
        "    # print(x_input)\n",
        "    Y_hat = model.predict(X_input, verbose=0)\n",
        "    # --> print(\"{} day input {}\".format(i,Y_hat))\n",
        "    temp_input.extend(Y_hat[0].tolist())\n",
        "    temp_input=temp_input[1:]\n",
        "    #print(temp_input)\n",
        "    lst_output.extend(Y_hat.tolist())\n",
        "    i=i+1\n",
        "  else:\n",
        "    X_input = X_input.reshape((1,n_steps,1))\n",
        "    Y_hat = model.predict(X_input, verbose=0)\n",
        "    # print(Y_hat[0])\n",
        "    temp_input.extend(Y_hat[0].tolist())\n",
        "    # print(len(temp_input))\n",
        "    lst_output.extend(Y_hat.tolist())\n",
        "    i=i+1\n",
        "# print the predicted next 4 days \n",
        "print(lst_output)"
      ],
      "execution_count": 150,
      "outputs": [
        {
          "output_type": "error",
          "ename": "ValueError",
          "evalue": "ignored",
          "traceback": [
            "\u001b[0;31m---------------------------------------------------------------------------\u001b[0m",
            "\u001b[0;31mValueError\u001b[0m                                Traceback (most recent call last)",
            "\u001b[0;32m<ipython-input-150-572423e46b2b>\u001b[0m in \u001b[0;36m<module>\u001b[0;34m()\u001b[0m\n\u001b[1;32m     21\u001b[0m     \u001b[0mi\u001b[0m\u001b[0;34m=\u001b[0m\u001b[0mi\u001b[0m\u001b[0;34m+\u001b[0m\u001b[0;36m1\u001b[0m\u001b[0;34m\u001b[0m\u001b[0;34m\u001b[0m\u001b[0m\n\u001b[1;32m     22\u001b[0m   \u001b[0;32melse\u001b[0m\u001b[0;34m:\u001b[0m\u001b[0;34m\u001b[0m\u001b[0;34m\u001b[0m\u001b[0m\n\u001b[0;32m---> 23\u001b[0;31m     \u001b[0mX_input\u001b[0m \u001b[0;34m=\u001b[0m \u001b[0mX_input\u001b[0m\u001b[0;34m.\u001b[0m\u001b[0mreshape\u001b[0m\u001b[0;34m(\u001b[0m\u001b[0;34m(\u001b[0m\u001b[0;36m1\u001b[0m\u001b[0;34m,\u001b[0m\u001b[0mn_steps\u001b[0m\u001b[0;34m,\u001b[0m\u001b[0;36m1\u001b[0m\u001b[0;34m)\u001b[0m\u001b[0;34m)\u001b[0m\u001b[0;34m\u001b[0m\u001b[0;34m\u001b[0m\u001b[0m\n\u001b[0m\u001b[1;32m     24\u001b[0m     \u001b[0mY_hat\u001b[0m \u001b[0;34m=\u001b[0m \u001b[0mmodel\u001b[0m\u001b[0;34m.\u001b[0m\u001b[0mpredict\u001b[0m\u001b[0;34m(\u001b[0m\u001b[0mX_input\u001b[0m\u001b[0;34m,\u001b[0m \u001b[0mverbose\u001b[0m\u001b[0;34m=\u001b[0m\u001b[0;36m0\u001b[0m\u001b[0;34m)\u001b[0m\u001b[0;34m\u001b[0m\u001b[0;34m\u001b[0m\u001b[0m\n\u001b[1;32m     25\u001b[0m     \u001b[0;31m# print(Y_hat[0])\u001b[0m\u001b[0;34m\u001b[0m\u001b[0;34m\u001b[0m\u001b[0;34m\u001b[0m\u001b[0m\n",
            "\u001b[0;31mValueError\u001b[0m: cannot reshape array of size 14 into shape (1,7,1)"
          ]
        }
      ]
    },
    {
      "cell_type": "code",
      "metadata": {
        "id": "lJZWlqYqVytl",
        "colab_type": "code",
        "colab": {}
      },
      "source": [
        "# 8 because we are moving one ahead of 7\n",
        "day_new=np.arange(1,8)\n",
        "# 12 because want to predict the next 4 days\n",
        "day_pred=np.arange(8,12)"
      ],
      "execution_count": null,
      "outputs": []
    },
    {
      "cell_type": "code",
      "metadata": {
        "id": "-pFZ-jy1V62-",
        "colab_type": "code",
        "colab": {}
      },
      "source": [
        "len(new_dataset)"
      ],
      "execution_count": null,
      "outputs": []
    },
    {
      "cell_type": "code",
      "metadata": {
        "id": "IeOGd1UPV8jG",
        "colab_type": "code",
        "colab": {}
      },
      "source": [
        "df3=new_dataset.tolist()\n",
        "df3.extend(lst_output)"
      ],
      "execution_count": null,
      "outputs": []
    },
    {
      "cell_type": "code",
      "metadata": {
        "id": "9X1xZG9bWNx_",
        "colab_type": "code",
        "colab": {}
      },
      "source": [
        "# the reason for 127 is that you are taking 134-7\n",
        "plt.plot(day_new, scaler.inverse_transform(new_dataset[127:]))\n",
        "# print the predicted next 4 days \n",
        "plt.plot(day_pred, scaler.inverse_transform(lst_output))"
      ],
      "execution_count": null,
      "outputs": []
    },
    {
      "cell_type": "code",
      "metadata": {
        "id": "EnYiEAX6WwPd",
        "colab_type": "code",
        "colab": {}
      },
      "source": [
        "# Combine actual and prediction\n",
        "df3=normalisation_us_deaths.tolist()\n",
        "df3.extend(lst_output)\n",
        "plt.plot(df3[127:])\n",
        "\n",
        "# Unsure why this isnt working\n",
        "# Combine actual and prediction\n",
        "# df3=new_dataset.tolist()\n",
        "# df3.extend(lst_output)\n",
        "# plt.plot(df3[127:])\n",
        "# plt.plot(df3)"
      ],
      "execution_count": null,
      "outputs": []
    },
    {
      "cell_type": "markdown",
      "metadata": {
        "id": "7o0GfssHMvIL",
        "colab_type": "text"
      },
      "source": [
        "# Conclusion and next steps\n",
        "We explored the LSTM algorithms:\n",
        "\n",
        "*   List item\n",
        "*   List item\n",
        "\n",
        "\n",
        "In conclusion it seems that .."
      ]
    }
  ]
}