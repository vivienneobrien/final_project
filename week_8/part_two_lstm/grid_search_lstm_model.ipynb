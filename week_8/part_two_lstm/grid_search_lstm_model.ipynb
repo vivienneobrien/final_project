{
  "nbformat": 4,
  "nbformat_minor": 0,
  "metadata": {
    "colab": {
      "name": "grid_search_lstm_model.ipynb",
      "provenance": [],
      "collapsed_sections": [],
      "toc_visible": true
    },
    "kernelspec": {
      "name": "python3",
      "display_name": "Python 3"
    },
    "accelerator": "GPU"
  },
  "cells": [
    {
      "cell_type": "markdown",
      "metadata": {
        "id": "NpLCBrS0DoTl",
        "colab_type": "text"
      },
      "source": [
        "# Notes for user:\n",
        "\n",
        "*   This notebook will use the dataset COVID-19 and forex to predict the forex spot price of a currency pair.\n",
        "*   What to ask user before using this application:\n",
        "*   What currency pair are you interested in? USD/GBP (This layout means that the base currency is USD)\n",
        "*   The currency the user wants to look at is how much the USD is worth to the GBP.\n",
        "*   Therefore, we look at the death rates in the US and the UK.\n",
        "*   To do: x_train and validation dataset\n"
      ]
    },
    {
      "cell_type": "code",
      "metadata": {
        "id": "GDBxlQkCD7Mj",
        "colab_type": "code",
        "colab": {
          "base_uri": "https://localhost:8080/",
          "height": 325
        },
        "outputId": "e15273e1-fc9c-4d2d-dbf2-c122cb52c37a"
      },
      "source": [
        "# Use some functions from tensorflow_docs\n",
        "!pip install git+https://github.com/tensorflow/docs"
      ],
      "execution_count": 2,
      "outputs": [
        {
          "output_type": "stream",
          "text": [
            "Collecting git+https://github.com/tensorflow/docs\n",
            "  Cloning https://github.com/tensorflow/docs to /tmp/pip-req-build-yl1ngidi\n",
            "  Running command git clone -q https://github.com/tensorflow/docs /tmp/pip-req-build-yl1ngidi\n",
            "Requirement already satisfied: astor in /usr/local/lib/python3.6/dist-packages (from tensorflow-docs===0.0.0c324052667ff024223f2b8099f0eb89eca4e4077-) (0.8.1)\n",
            "Requirement already satisfied: absl-py in /usr/local/lib/python3.6/dist-packages (from tensorflow-docs===0.0.0c324052667ff024223f2b8099f0eb89eca4e4077-) (0.9.0)\n",
            "Requirement already satisfied: protobuf in /usr/local/lib/python3.6/dist-packages (from tensorflow-docs===0.0.0c324052667ff024223f2b8099f0eb89eca4e4077-) (3.12.2)\n",
            "Requirement already satisfied: pyyaml in /usr/local/lib/python3.6/dist-packages (from tensorflow-docs===0.0.0c324052667ff024223f2b8099f0eb89eca4e4077-) (3.13)\n",
            "Requirement already satisfied: six in /usr/local/lib/python3.6/dist-packages (from absl-py->tensorflow-docs===0.0.0c324052667ff024223f2b8099f0eb89eca4e4077-) (1.15.0)\n",
            "Requirement already satisfied: setuptools in /usr/local/lib/python3.6/dist-packages (from protobuf->tensorflow-docs===0.0.0c324052667ff024223f2b8099f0eb89eca4e4077-) (49.2.0)\n",
            "Building wheels for collected packages: tensorflow-docs\n",
            "  Building wheel for tensorflow-docs (setup.py) ... \u001b[?25l\u001b[?25hdone\n",
            "  Created wheel for tensorflow-docs: filename=tensorflow_docs-0.0.0c324052667ff024223f2b8099f0eb89eca4e4077_-cp36-none-any.whl size=126415 sha256=caa58138170eeddbf519b0a33d0994e29cbf085cf47d6166b9fd77c8586a47ba\n",
            "  Stored in directory: /tmp/pip-ephem-wheel-cache-4z5dc_9u/wheels/eb/1b/35/fce87697be00d2fc63e0b4b395b0d9c7e391a10e98d9a0d97f\n",
            "Successfully built tensorflow-docs\n",
            "Installing collected packages: tensorflow-docs\n",
            "Successfully installed tensorflow-docs-0.0.0c324052667ff024223f2b8099f0eb89eca4e4077-\n"
          ],
          "name": "stdout"
        }
      ]
    },
    {
      "cell_type": "code",
      "metadata": {
        "id": "iJ6D0PrOJYeg",
        "colab_type": "code",
        "colab": {}
      },
      "source": [
        "import pathlib\n",
        "import matplotlib.pyplot as plt\n",
        "import numpy as np\n",
        "import pandas as pd"
      ],
      "execution_count": 3,
      "outputs": []
    },
    {
      "cell_type": "code",
      "metadata": {
        "id": "AgIgQg1XJcP2",
        "colab_type": "code",
        "colab": {
          "base_uri": "https://localhost:8080/",
          "height": 35
        },
        "outputId": "9fbd7b79-9011-4e48-fbd1-4fef9c478c20"
      },
      "source": [
        "import tensorflow as tf\n",
        "from tensorflow import keras\n",
        "from tensorflow.keras import layers\n",
        "print(tf.__version__)"
      ],
      "execution_count": 4,
      "outputs": [
        {
          "output_type": "stream",
          "text": [
            "2.2.0\n"
          ],
          "name": "stdout"
        }
      ]
    },
    {
      "cell_type": "code",
      "metadata": {
        "id": "m_F-7tgZJe2m",
        "colab_type": "code",
        "colab": {}
      },
      "source": [
        "import tensorflow_docs as tfdocs\n",
        "import tensorflow_docs.plots\n",
        "import tensorflow_docs.modeling"
      ],
      "execution_count": 5,
      "outputs": []
    },
    {
      "cell_type": "markdown",
      "metadata": {
        "id": "QzadtzC3Hniw",
        "colab_type": "text"
      },
      "source": [
        "# Data Collection\n"
      ]
    },
    {
      "cell_type": "code",
      "metadata": {
        "id": "7GjIgZ7kJhjo",
        "colab_type": "code",
        "colab": {
          "base_uri": "https://localhost:8080/",
          "height": 309
        },
        "outputId": "4597c4b6-17c7-462c-8659-596830f681d5"
      },
      "source": [
        "# Importing covid_dataset using pandas. Droping null values.\n",
        "covid_dataset_data= pd.read_csv('covid.csv', na_values = \"?\", comment='\\t', skipinitialspace=True)\n",
        "covid_dataset = covid_dataset_data.copy()\n",
        "# covid_dataset = covid_dataset.dropna()\n",
        "covid_dataset.head()"
      ],
      "execution_count": 6,
      "outputs": [
        {
          "output_type": "execute_result",
          "data": {
            "text/html": [
              "<div>\n",
              "<style scoped>\n",
              "    .dataframe tbody tr th:only-of-type {\n",
              "        vertical-align: middle;\n",
              "    }\n",
              "\n",
              "    .dataframe tbody tr th {\n",
              "        vertical-align: top;\n",
              "    }\n",
              "\n",
              "    .dataframe thead th {\n",
              "        text-align: right;\n",
              "    }\n",
              "</style>\n",
              "<table border=\"1\" class=\"dataframe\">\n",
              "  <thead>\n",
              "    <tr style=\"text-align: right;\">\n",
              "      <th></th>\n",
              "      <th>iso_code</th>\n",
              "      <th>continent</th>\n",
              "      <th>location</th>\n",
              "      <th>date</th>\n",
              "      <th>total_cases</th>\n",
              "      <th>new_cases</th>\n",
              "      <th>total_deaths</th>\n",
              "      <th>new_deaths</th>\n",
              "      <th>total_cases_per_million</th>\n",
              "      <th>new_cases_per_million</th>\n",
              "      <th>total_deaths_per_million</th>\n",
              "      <th>new_deaths_per_million</th>\n",
              "      <th>total_tests</th>\n",
              "      <th>new_tests</th>\n",
              "      <th>total_tests_per_thousand</th>\n",
              "      <th>new_tests_per_thousand</th>\n",
              "      <th>new_tests_smoothed</th>\n",
              "      <th>new_tests_smoothed_per_thousand</th>\n",
              "      <th>tests_units</th>\n",
              "      <th>stringency_index</th>\n",
              "      <th>population</th>\n",
              "      <th>population_density</th>\n",
              "      <th>median_age</th>\n",
              "      <th>aged_65_older</th>\n",
              "      <th>aged_70_older</th>\n",
              "      <th>gdp_per_capita</th>\n",
              "      <th>extreme_poverty</th>\n",
              "      <th>cvd_death_rate</th>\n",
              "      <th>diabetes_prevalence</th>\n",
              "      <th>female_smokers</th>\n",
              "      <th>male_smokers</th>\n",
              "      <th>handwashing_facilities</th>\n",
              "      <th>hospital_beds_per_thousand</th>\n",
              "      <th>life_expectancy</th>\n",
              "    </tr>\n",
              "  </thead>\n",
              "  <tbody>\n",
              "    <tr>\n",
              "      <th>0</th>\n",
              "      <td>AFG</td>\n",
              "      <td>Asia</td>\n",
              "      <td>Afghanistan</td>\n",
              "      <td>2019-12-31</td>\n",
              "      <td>0.0</td>\n",
              "      <td>0.0</td>\n",
              "      <td>0.0</td>\n",
              "      <td>0.0</td>\n",
              "      <td>0.0</td>\n",
              "      <td>0.0</td>\n",
              "      <td>0.0</td>\n",
              "      <td>0.0</td>\n",
              "      <td>NaN</td>\n",
              "      <td>NaN</td>\n",
              "      <td>NaN</td>\n",
              "      <td>NaN</td>\n",
              "      <td>NaN</td>\n",
              "      <td>NaN</td>\n",
              "      <td>NaN</td>\n",
              "      <td>NaN</td>\n",
              "      <td>38928341.0</td>\n",
              "      <td>54.422</td>\n",
              "      <td>18.6</td>\n",
              "      <td>2.581</td>\n",
              "      <td>1.337</td>\n",
              "      <td>1803.987</td>\n",
              "      <td>NaN</td>\n",
              "      <td>597.029</td>\n",
              "      <td>9.59</td>\n",
              "      <td>NaN</td>\n",
              "      <td>NaN</td>\n",
              "      <td>37.746</td>\n",
              "      <td>0.5</td>\n",
              "      <td>64.83</td>\n",
              "    </tr>\n",
              "    <tr>\n",
              "      <th>1</th>\n",
              "      <td>AFG</td>\n",
              "      <td>Asia</td>\n",
              "      <td>Afghanistan</td>\n",
              "      <td>2020-01-01</td>\n",
              "      <td>0.0</td>\n",
              "      <td>0.0</td>\n",
              "      <td>0.0</td>\n",
              "      <td>0.0</td>\n",
              "      <td>0.0</td>\n",
              "      <td>0.0</td>\n",
              "      <td>0.0</td>\n",
              "      <td>0.0</td>\n",
              "      <td>NaN</td>\n",
              "      <td>NaN</td>\n",
              "      <td>NaN</td>\n",
              "      <td>NaN</td>\n",
              "      <td>NaN</td>\n",
              "      <td>NaN</td>\n",
              "      <td>NaN</td>\n",
              "      <td>0.0</td>\n",
              "      <td>38928341.0</td>\n",
              "      <td>54.422</td>\n",
              "      <td>18.6</td>\n",
              "      <td>2.581</td>\n",
              "      <td>1.337</td>\n",
              "      <td>1803.987</td>\n",
              "      <td>NaN</td>\n",
              "      <td>597.029</td>\n",
              "      <td>9.59</td>\n",
              "      <td>NaN</td>\n",
              "      <td>NaN</td>\n",
              "      <td>37.746</td>\n",
              "      <td>0.5</td>\n",
              "      <td>64.83</td>\n",
              "    </tr>\n",
              "    <tr>\n",
              "      <th>2</th>\n",
              "      <td>AFG</td>\n",
              "      <td>Asia</td>\n",
              "      <td>Afghanistan</td>\n",
              "      <td>2020-01-02</td>\n",
              "      <td>0.0</td>\n",
              "      <td>0.0</td>\n",
              "      <td>0.0</td>\n",
              "      <td>0.0</td>\n",
              "      <td>0.0</td>\n",
              "      <td>0.0</td>\n",
              "      <td>0.0</td>\n",
              "      <td>0.0</td>\n",
              "      <td>NaN</td>\n",
              "      <td>NaN</td>\n",
              "      <td>NaN</td>\n",
              "      <td>NaN</td>\n",
              "      <td>NaN</td>\n",
              "      <td>NaN</td>\n",
              "      <td>NaN</td>\n",
              "      <td>0.0</td>\n",
              "      <td>38928341.0</td>\n",
              "      <td>54.422</td>\n",
              "      <td>18.6</td>\n",
              "      <td>2.581</td>\n",
              "      <td>1.337</td>\n",
              "      <td>1803.987</td>\n",
              "      <td>NaN</td>\n",
              "      <td>597.029</td>\n",
              "      <td>9.59</td>\n",
              "      <td>NaN</td>\n",
              "      <td>NaN</td>\n",
              "      <td>37.746</td>\n",
              "      <td>0.5</td>\n",
              "      <td>64.83</td>\n",
              "    </tr>\n",
              "    <tr>\n",
              "      <th>3</th>\n",
              "      <td>AFG</td>\n",
              "      <td>Asia</td>\n",
              "      <td>Afghanistan</td>\n",
              "      <td>2020-01-03</td>\n",
              "      <td>0.0</td>\n",
              "      <td>0.0</td>\n",
              "      <td>0.0</td>\n",
              "      <td>0.0</td>\n",
              "      <td>0.0</td>\n",
              "      <td>0.0</td>\n",
              "      <td>0.0</td>\n",
              "      <td>0.0</td>\n",
              "      <td>NaN</td>\n",
              "      <td>NaN</td>\n",
              "      <td>NaN</td>\n",
              "      <td>NaN</td>\n",
              "      <td>NaN</td>\n",
              "      <td>NaN</td>\n",
              "      <td>NaN</td>\n",
              "      <td>0.0</td>\n",
              "      <td>38928341.0</td>\n",
              "      <td>54.422</td>\n",
              "      <td>18.6</td>\n",
              "      <td>2.581</td>\n",
              "      <td>1.337</td>\n",
              "      <td>1803.987</td>\n",
              "      <td>NaN</td>\n",
              "      <td>597.029</td>\n",
              "      <td>9.59</td>\n",
              "      <td>NaN</td>\n",
              "      <td>NaN</td>\n",
              "      <td>37.746</td>\n",
              "      <td>0.5</td>\n",
              "      <td>64.83</td>\n",
              "    </tr>\n",
              "    <tr>\n",
              "      <th>4</th>\n",
              "      <td>AFG</td>\n",
              "      <td>Asia</td>\n",
              "      <td>Afghanistan</td>\n",
              "      <td>2020-01-04</td>\n",
              "      <td>0.0</td>\n",
              "      <td>0.0</td>\n",
              "      <td>0.0</td>\n",
              "      <td>0.0</td>\n",
              "      <td>0.0</td>\n",
              "      <td>0.0</td>\n",
              "      <td>0.0</td>\n",
              "      <td>0.0</td>\n",
              "      <td>NaN</td>\n",
              "      <td>NaN</td>\n",
              "      <td>NaN</td>\n",
              "      <td>NaN</td>\n",
              "      <td>NaN</td>\n",
              "      <td>NaN</td>\n",
              "      <td>NaN</td>\n",
              "      <td>0.0</td>\n",
              "      <td>38928341.0</td>\n",
              "      <td>54.422</td>\n",
              "      <td>18.6</td>\n",
              "      <td>2.581</td>\n",
              "      <td>1.337</td>\n",
              "      <td>1803.987</td>\n",
              "      <td>NaN</td>\n",
              "      <td>597.029</td>\n",
              "      <td>9.59</td>\n",
              "      <td>NaN</td>\n",
              "      <td>NaN</td>\n",
              "      <td>37.746</td>\n",
              "      <td>0.5</td>\n",
              "      <td>64.83</td>\n",
              "    </tr>\n",
              "  </tbody>\n",
              "</table>\n",
              "</div>"
            ],
            "text/plain": [
              "  iso_code continent  ... hospital_beds_per_thousand life_expectancy\n",
              "0      AFG      Asia  ...                        0.5           64.83\n",
              "1      AFG      Asia  ...                        0.5           64.83\n",
              "2      AFG      Asia  ...                        0.5           64.83\n",
              "3      AFG      Asia  ...                        0.5           64.83\n",
              "4      AFG      Asia  ...                        0.5           64.83\n",
              "\n",
              "[5 rows x 34 columns]"
            ]
          },
          "metadata": {
            "tags": []
          },
          "execution_count": 6
        }
      ]
    },
    {
      "cell_type": "code",
      "metadata": {
        "id": "aYBFYnKtiIkQ",
        "colab_type": "code",
        "colab": {
          "base_uri": "https://localhost:8080/",
          "height": 204
        },
        "outputId": "caee0e7e-c4ae-4033-acc8-3993ceebf004"
      },
      "source": [
        "# Trying to isolate location/country based on currency in question\n",
        "# We are looking at pound and sterling therefore need to isolate 'United Kingdom' & 'United States' in location column\n",
        "# Problem: Informaiton prints up until 'Trinidad and Tobago' for some reason – can print 'Togo'. Therefore cannot print United Kingdom or United States\n",
        "us_death_rates = covid_dataset.loc[covid_dataset.location=='United States', ['location', 'date', 'total_deaths', 'total_cases', 'cvd_death_rate']]\n",
        "us_death_rates.head()"
      ],
      "execution_count": 7,
      "outputs": [
        {
          "output_type": "execute_result",
          "data": {
            "text/html": [
              "<div>\n",
              "<style scoped>\n",
              "    .dataframe tbody tr th:only-of-type {\n",
              "        vertical-align: middle;\n",
              "    }\n",
              "\n",
              "    .dataframe tbody tr th {\n",
              "        vertical-align: top;\n",
              "    }\n",
              "\n",
              "    .dataframe thead th {\n",
              "        text-align: right;\n",
              "    }\n",
              "</style>\n",
              "<table border=\"1\" class=\"dataframe\">\n",
              "  <thead>\n",
              "    <tr style=\"text-align: right;\">\n",
              "      <th></th>\n",
              "      <th>location</th>\n",
              "      <th>date</th>\n",
              "      <th>total_deaths</th>\n",
              "      <th>total_cases</th>\n",
              "      <th>cvd_death_rate</th>\n",
              "    </tr>\n",
              "  </thead>\n",
              "  <tbody>\n",
              "    <tr>\n",
              "      <th>26490</th>\n",
              "      <td>United States</td>\n",
              "      <td>2019-12-31</td>\n",
              "      <td>0.0</td>\n",
              "      <td>0.0</td>\n",
              "      <td>151.089</td>\n",
              "    </tr>\n",
              "    <tr>\n",
              "      <th>26491</th>\n",
              "      <td>United States</td>\n",
              "      <td>2020-01-01</td>\n",
              "      <td>0.0</td>\n",
              "      <td>0.0</td>\n",
              "      <td>151.089</td>\n",
              "    </tr>\n",
              "    <tr>\n",
              "      <th>26492</th>\n",
              "      <td>United States</td>\n",
              "      <td>2020-01-02</td>\n",
              "      <td>0.0</td>\n",
              "      <td>0.0</td>\n",
              "      <td>151.089</td>\n",
              "    </tr>\n",
              "    <tr>\n",
              "      <th>26493</th>\n",
              "      <td>United States</td>\n",
              "      <td>2020-01-03</td>\n",
              "      <td>0.0</td>\n",
              "      <td>0.0</td>\n",
              "      <td>151.089</td>\n",
              "    </tr>\n",
              "    <tr>\n",
              "      <th>26494</th>\n",
              "      <td>United States</td>\n",
              "      <td>2020-01-04</td>\n",
              "      <td>0.0</td>\n",
              "      <td>0.0</td>\n",
              "      <td>151.089</td>\n",
              "    </tr>\n",
              "  </tbody>\n",
              "</table>\n",
              "</div>"
            ],
            "text/plain": [
              "            location        date  total_deaths  total_cases  cvd_death_rate\n",
              "26490  United States  2019-12-31           0.0          0.0         151.089\n",
              "26491  United States  2020-01-01           0.0          0.0         151.089\n",
              "26492  United States  2020-01-02           0.0          0.0         151.089\n",
              "26493  United States  2020-01-03           0.0          0.0         151.089\n",
              "26494  United States  2020-01-04           0.0          0.0         151.089"
            ]
          },
          "metadata": {
            "tags": []
          },
          "execution_count": 7
        }
      ]
    },
    {
      "cell_type": "code",
      "metadata": {
        "id": "285DiboRj7MW",
        "colab_type": "code",
        "colab": {}
      },
      "source": [
        "# us_death_rates = covid_dataset.loc[covid_dataset.location=='Zimbabwe', ['location', 'date', 'total_deaths','total_cases','cvd_death_rate']]\n",
        "# us_death_rates.head()"
      ],
      "execution_count": 8,
      "outputs": []
    },
    {
      "cell_type": "code",
      "metadata": {
        "id": "F3wvK4d2kvti",
        "colab_type": "code",
        "colab": {
          "base_uri": "https://localhost:8080/",
          "height": 35
        },
        "outputId": "c54d91cd-d5d0-4d20-86ed-d5f335206df7"
      },
      "source": [
        "us_death_rates.shape"
      ],
      "execution_count": 9,
      "outputs": [
        {
          "output_type": "execute_result",
          "data": {
            "text/plain": [
              "(187, 5)"
            ]
          },
          "metadata": {
            "tags": []
          },
          "execution_count": 9
        }
      ]
    },
    {
      "cell_type": "code",
      "metadata": {
        "id": "kIDXEXFDf4N5",
        "colab_type": "code",
        "colab": {}
      },
      "source": [
        "# Import forex\n",
        "forex_dataset_data= pd.read_csv('GBP_USD.csv', na_values = \"?\", comment='\\t', skipinitialspace=True)\n",
        "forex_dataset = forex_dataset_data.copy()\n",
        "# forex_dataset = forex_dataset_data.dropna()\n"
      ],
      "execution_count": 10,
      "outputs": []
    },
    {
      "cell_type": "markdown",
      "metadata": {
        "id": "C53hVpItH0az",
        "colab_type": "text"
      },
      "source": [
        "# Data Preprocessing / Data Cleaning & Collating"
      ]
    },
    {
      "cell_type": "code",
      "metadata": {
        "id": "jIpYbWz2HxyG",
        "colab_type": "code",
        "colab": {
          "base_uri": "https://localhost:8080/",
          "height": 233
        },
        "outputId": "79e06f13-6b7f-4423-a7b1-cdae262eec17"
      },
      "source": [
        "# Filter dataset\n",
        "forex_dataset.pop('Open')\n",
        "forex_dataset.pop('High')\n",
        "forex_dataset.pop('Low')\n",
        "forex_dataset.pop('Change %')"
      ],
      "execution_count": 11,
      "outputs": [
        {
          "output_type": "execute_result",
          "data": {
            "text/plain": [
              "0       0.12%\n",
              "1      -0.05%\n",
              "2       0.59%\n",
              "3       0.83%\n",
              "4      -0.30%\n",
              "        ...  \n",
              "150    -0.15%\n",
              "151     0.40%\n",
              "152     0.85%\n",
              "153     0.44%\n",
              "154     0.02%\n",
              "Name: Change %, Length: 155, dtype: object"
            ]
          },
          "metadata": {
            "tags": []
          },
          "execution_count": 11
        }
      ]
    },
    {
      "cell_type": "code",
      "metadata": {
        "id": "oSzzjHJxi5D4",
        "colab_type": "code",
        "colab": {
          "base_uri": "https://localhost:8080/",
          "height": 204
        },
        "outputId": "2e3a8f2a-87de-4d0b-d683-0700c2bad41f"
      },
      "source": [
        "forex_dataset.tail()"
      ],
      "execution_count": 12,
      "outputs": [
        {
          "output_type": "execute_result",
          "data": {
            "text/html": [
              "<div>\n",
              "<style scoped>\n",
              "    .dataframe tbody tr th:only-of-type {\n",
              "        vertical-align: middle;\n",
              "    }\n",
              "\n",
              "    .dataframe tbody tr th {\n",
              "        vertical-align: top;\n",
              "    }\n",
              "\n",
              "    .dataframe thead th {\n",
              "        text-align: right;\n",
              "    }\n",
              "</style>\n",
              "<table border=\"1\" class=\"dataframe\">\n",
              "  <thead>\n",
              "    <tr style=\"text-align: right;\">\n",
              "      <th></th>\n",
              "      <th>Date</th>\n",
              "      <th>Price</th>\n",
              "    </tr>\n",
              "  </thead>\n",
              "  <tbody>\n",
              "    <tr>\n",
              "      <th>150</th>\n",
              "      <td>Dec 06, 2019</td>\n",
              "      <td>1.3137</td>\n",
              "    </tr>\n",
              "    <tr>\n",
              "      <th>151</th>\n",
              "      <td>Dec 05, 2019</td>\n",
              "      <td>1.3157</td>\n",
              "    </tr>\n",
              "    <tr>\n",
              "      <th>152</th>\n",
              "      <td>Dec 04, 2019</td>\n",
              "      <td>1.3104</td>\n",
              "    </tr>\n",
              "    <tr>\n",
              "      <th>153</th>\n",
              "      <td>Dec 03, 2019</td>\n",
              "      <td>1.2994</td>\n",
              "    </tr>\n",
              "    <tr>\n",
              "      <th>154</th>\n",
              "      <td>Dec 02, 2019</td>\n",
              "      <td>1.2937</td>\n",
              "    </tr>\n",
              "  </tbody>\n",
              "</table>\n",
              "</div>"
            ],
            "text/plain": [
              "             Date   Price\n",
              "150  Dec 06, 2019  1.3137\n",
              "151  Dec 05, 2019  1.3157\n",
              "152  Dec 04, 2019  1.3104\n",
              "153  Dec 03, 2019  1.2994\n",
              "154  Dec 02, 2019  1.2937"
            ]
          },
          "metadata": {
            "tags": []
          },
          "execution_count": 12
        }
      ]
    },
    {
      "cell_type": "code",
      "metadata": {
        "id": "vrVetfeGgSm7",
        "colab_type": "code",
        "colab": {
          "base_uri": "https://localhost:8080/",
          "height": 204
        },
        "outputId": "0b64048f-19eb-47a9-b5b4-482df59d102d"
      },
      "source": [
        "# Isolate covid_date\n",
        "import time \n",
        "us_date = us_death_rates['date']\n",
        "new_us_dates = [time.strptime(x.replace(\"-\",\" \"), '%Y %m %d')for x in us_date]\n",
        "us_death_rates['date'] = new_us_dates\n",
        "us_death_rates.head()\n"
      ],
      "execution_count": 13,
      "outputs": [
        {
          "output_type": "execute_result",
          "data": {
            "text/html": [
              "<div>\n",
              "<style scoped>\n",
              "    .dataframe tbody tr th:only-of-type {\n",
              "        vertical-align: middle;\n",
              "    }\n",
              "\n",
              "    .dataframe tbody tr th {\n",
              "        vertical-align: top;\n",
              "    }\n",
              "\n",
              "    .dataframe thead th {\n",
              "        text-align: right;\n",
              "    }\n",
              "</style>\n",
              "<table border=\"1\" class=\"dataframe\">\n",
              "  <thead>\n",
              "    <tr style=\"text-align: right;\">\n",
              "      <th></th>\n",
              "      <th>location</th>\n",
              "      <th>date</th>\n",
              "      <th>total_deaths</th>\n",
              "      <th>total_cases</th>\n",
              "      <th>cvd_death_rate</th>\n",
              "    </tr>\n",
              "  </thead>\n",
              "  <tbody>\n",
              "    <tr>\n",
              "      <th>26490</th>\n",
              "      <td>United States</td>\n",
              "      <td>(2019, 12, 31, 0, 0, 0, 1, 365, -1)</td>\n",
              "      <td>0.0</td>\n",
              "      <td>0.0</td>\n",
              "      <td>151.089</td>\n",
              "    </tr>\n",
              "    <tr>\n",
              "      <th>26491</th>\n",
              "      <td>United States</td>\n",
              "      <td>(2020, 1, 1, 0, 0, 0, 2, 1, -1)</td>\n",
              "      <td>0.0</td>\n",
              "      <td>0.0</td>\n",
              "      <td>151.089</td>\n",
              "    </tr>\n",
              "    <tr>\n",
              "      <th>26492</th>\n",
              "      <td>United States</td>\n",
              "      <td>(2020, 1, 2, 0, 0, 0, 3, 2, -1)</td>\n",
              "      <td>0.0</td>\n",
              "      <td>0.0</td>\n",
              "      <td>151.089</td>\n",
              "    </tr>\n",
              "    <tr>\n",
              "      <th>26493</th>\n",
              "      <td>United States</td>\n",
              "      <td>(2020, 1, 3, 0, 0, 0, 4, 3, -1)</td>\n",
              "      <td>0.0</td>\n",
              "      <td>0.0</td>\n",
              "      <td>151.089</td>\n",
              "    </tr>\n",
              "    <tr>\n",
              "      <th>26494</th>\n",
              "      <td>United States</td>\n",
              "      <td>(2020, 1, 4, 0, 0, 0, 5, 4, -1)</td>\n",
              "      <td>0.0</td>\n",
              "      <td>0.0</td>\n",
              "      <td>151.089</td>\n",
              "    </tr>\n",
              "  </tbody>\n",
              "</table>\n",
              "</div>"
            ],
            "text/plain": [
              "            location  ... cvd_death_rate\n",
              "26490  United States  ...        151.089\n",
              "26491  United States  ...        151.089\n",
              "26492  United States  ...        151.089\n",
              "26493  United States  ...        151.089\n",
              "26494  United States  ...        151.089\n",
              "\n",
              "[5 rows x 5 columns]"
            ]
          },
          "metadata": {
            "tags": []
          },
          "execution_count": 13
        }
      ]
    },
    {
      "cell_type": "code",
      "metadata": {
        "id": "IGR0p0YWh9jH",
        "colab_type": "code",
        "colab": {
          "base_uri": "https://localhost:8080/",
          "height": 204
        },
        "outputId": "514380e1-5fd2-43ff-9733-b8a270036611"
      },
      "source": [
        "# Isolate forex_date\n",
        "import time \n",
        "forex_date = forex_dataset['Date']\n",
        "new_forex_dates = [time.strptime(x.replace(',', \"\"), '%b %d %Y')for x in forex_date]\n",
        "forex_dataset['Date'] = new_forex_dates\n",
        "forex_dataset.tail()\n"
      ],
      "execution_count": 14,
      "outputs": [
        {
          "output_type": "execute_result",
          "data": {
            "text/html": [
              "<div>\n",
              "<style scoped>\n",
              "    .dataframe tbody tr th:only-of-type {\n",
              "        vertical-align: middle;\n",
              "    }\n",
              "\n",
              "    .dataframe tbody tr th {\n",
              "        vertical-align: top;\n",
              "    }\n",
              "\n",
              "    .dataframe thead th {\n",
              "        text-align: right;\n",
              "    }\n",
              "</style>\n",
              "<table border=\"1\" class=\"dataframe\">\n",
              "  <thead>\n",
              "    <tr style=\"text-align: right;\">\n",
              "      <th></th>\n",
              "      <th>Date</th>\n",
              "      <th>Price</th>\n",
              "    </tr>\n",
              "  </thead>\n",
              "  <tbody>\n",
              "    <tr>\n",
              "      <th>150</th>\n",
              "      <td>(2019, 12, 6, 0, 0, 0, 4, 340, -1)</td>\n",
              "      <td>1.3137</td>\n",
              "    </tr>\n",
              "    <tr>\n",
              "      <th>151</th>\n",
              "      <td>(2019, 12, 5, 0, 0, 0, 3, 339, -1)</td>\n",
              "      <td>1.3157</td>\n",
              "    </tr>\n",
              "    <tr>\n",
              "      <th>152</th>\n",
              "      <td>(2019, 12, 4, 0, 0, 0, 2, 338, -1)</td>\n",
              "      <td>1.3104</td>\n",
              "    </tr>\n",
              "    <tr>\n",
              "      <th>153</th>\n",
              "      <td>(2019, 12, 3, 0, 0, 0, 1, 337, -1)</td>\n",
              "      <td>1.2994</td>\n",
              "    </tr>\n",
              "    <tr>\n",
              "      <th>154</th>\n",
              "      <td>(2019, 12, 2, 0, 0, 0, 0, 336, -1)</td>\n",
              "      <td>1.2937</td>\n",
              "    </tr>\n",
              "  </tbody>\n",
              "</table>\n",
              "</div>"
            ],
            "text/plain": [
              "                                   Date   Price\n",
              "150  (2019, 12, 6, 0, 0, 0, 4, 340, -1)  1.3137\n",
              "151  (2019, 12, 5, 0, 0, 0, 3, 339, -1)  1.3157\n",
              "152  (2019, 12, 4, 0, 0, 0, 2, 338, -1)  1.3104\n",
              "153  (2019, 12, 3, 0, 0, 0, 1, 337, -1)  1.2994\n",
              "154  (2019, 12, 2, 0, 0, 0, 0, 336, -1)  1.2937"
            ]
          },
          "metadata": {
            "tags": []
          },
          "execution_count": 14
        }
      ]
    },
    {
      "cell_type": "code",
      "metadata": {
        "id": "7b16glGjiCLz",
        "colab_type": "code",
        "colab": {
          "base_uri": "https://localhost:8080/",
          "height": 35
        },
        "outputId": "486940fb-4f99-4d3b-c5b3-4199909f3db3"
      },
      "source": [
        "print(len(forex_dataset))"
      ],
      "execution_count": 15,
      "outputs": [
        {
          "output_type": "stream",
          "text": [
            "155\n"
          ],
          "name": "stdout"
        }
      ]
    },
    {
      "cell_type": "code",
      "metadata": {
        "id": "OiFVDAF0ngrx",
        "colab_type": "code",
        "colab": {
          "base_uri": "https://localhost:8080/",
          "height": 35
        },
        "outputId": "e54b50b8-e762-4c79-df3d-9fe76dd22018"
      },
      "source": [
        "# Merging dates from two tables\n",
        "dataset = pd.merge(left=forex_dataset, left_on='Date',\n",
        "         right=us_death_rates, right_on='date')\n",
        "dataset.tail()\n",
        "len(dataset)\n"
      ],
      "execution_count": 16,
      "outputs": [
        {
          "output_type": "execute_result",
          "data": {
            "text/plain": [
              "134"
            ]
          },
          "metadata": {
            "tags": []
          },
          "execution_count": 16
        }
      ]
    },
    {
      "cell_type": "code",
      "metadata": {
        "id": "a9A_G1s9ETvi",
        "colab_type": "code",
        "colab": {
          "base_uri": "https://localhost:8080/",
          "height": 233
        },
        "outputId": "519c8783-eeac-45a6-e780-4e68e0d93e93"
      },
      "source": [
        "# We pop the 'date' from the covid_dataset because this column starts later than the forex column\n",
        "# We want to see the forex price before covid happened\n",
        "dataset.pop('date')"
      ],
      "execution_count": 17,
      "outputs": [
        {
          "output_type": "execute_result",
          "data": {
            "text/plain": [
              "0        (2020, 7, 3, 0, 0, 0, 4, 185, -1)\n",
              "1        (2020, 7, 2, 0, 0, 0, 3, 184, -1)\n",
              "2        (2020, 7, 1, 0, 0, 0, 2, 183, -1)\n",
              "3       (2020, 6, 30, 0, 0, 0, 1, 182, -1)\n",
              "4       (2020, 6, 29, 0, 0, 0, 0, 181, -1)\n",
              "                      ...                 \n",
              "129        (2020, 1, 6, 0, 0, 0, 0, 6, -1)\n",
              "130        (2020, 1, 3, 0, 0, 0, 4, 3, -1)\n",
              "131        (2020, 1, 2, 0, 0, 0, 3, 2, -1)\n",
              "132        (2020, 1, 1, 0, 0, 0, 2, 1, -1)\n",
              "133    (2019, 12, 31, 0, 0, 0, 1, 365, -1)\n",
              "Name: date, Length: 134, dtype: object"
            ]
          },
          "metadata": {
            "tags": []
          },
          "execution_count": 17
        }
      ]
    },
    {
      "cell_type": "code",
      "metadata": {
        "id": "Rz0-4V24EY65",
        "colab_type": "code",
        "colab": {
          "base_uri": "https://localhost:8080/",
          "height": 204
        },
        "outputId": "1757b92c-4c19-4d1a-8571-b1902071fa12"
      },
      "source": [
        "# Problem: This still starts at 2019,12,13 when we want 2019,12,02\n",
        "# However this does not affect our data graph for some reason - scroll down\n",
        "dataset.tail()"
      ],
      "execution_count": 18,
      "outputs": [
        {
          "output_type": "execute_result",
          "data": {
            "text/html": [
              "<div>\n",
              "<style scoped>\n",
              "    .dataframe tbody tr th:only-of-type {\n",
              "        vertical-align: middle;\n",
              "    }\n",
              "\n",
              "    .dataframe tbody tr th {\n",
              "        vertical-align: top;\n",
              "    }\n",
              "\n",
              "    .dataframe thead th {\n",
              "        text-align: right;\n",
              "    }\n",
              "</style>\n",
              "<table border=\"1\" class=\"dataframe\">\n",
              "  <thead>\n",
              "    <tr style=\"text-align: right;\">\n",
              "      <th></th>\n",
              "      <th>Date</th>\n",
              "      <th>Price</th>\n",
              "      <th>location</th>\n",
              "      <th>total_deaths</th>\n",
              "      <th>total_cases</th>\n",
              "      <th>cvd_death_rate</th>\n",
              "    </tr>\n",
              "  </thead>\n",
              "  <tbody>\n",
              "    <tr>\n",
              "      <th>129</th>\n",
              "      <td>(2020, 1, 6, 0, 0, 0, 0, 6, -1)</td>\n",
              "      <td>1.3169</td>\n",
              "      <td>United States</td>\n",
              "      <td>0.0</td>\n",
              "      <td>0.0</td>\n",
              "      <td>151.089</td>\n",
              "    </tr>\n",
              "    <tr>\n",
              "      <th>130</th>\n",
              "      <td>(2020, 1, 3, 0, 0, 0, 4, 3, -1)</td>\n",
              "      <td>1.3088</td>\n",
              "      <td>United States</td>\n",
              "      <td>0.0</td>\n",
              "      <td>0.0</td>\n",
              "      <td>151.089</td>\n",
              "    </tr>\n",
              "    <tr>\n",
              "      <th>131</th>\n",
              "      <td>(2020, 1, 2, 0, 0, 0, 3, 2, -1)</td>\n",
              "      <td>1.3146</td>\n",
              "      <td>United States</td>\n",
              "      <td>0.0</td>\n",
              "      <td>0.0</td>\n",
              "      <td>151.089</td>\n",
              "    </tr>\n",
              "    <tr>\n",
              "      <th>132</th>\n",
              "      <td>(2020, 1, 1, 0, 0, 0, 2, 1, -1)</td>\n",
              "      <td>1.3255</td>\n",
              "      <td>United States</td>\n",
              "      <td>0.0</td>\n",
              "      <td>0.0</td>\n",
              "      <td>151.089</td>\n",
              "    </tr>\n",
              "    <tr>\n",
              "      <th>133</th>\n",
              "      <td>(2019, 12, 31, 0, 0, 0, 1, 365, -1)</td>\n",
              "      <td>1.3261</td>\n",
              "      <td>United States</td>\n",
              "      <td>0.0</td>\n",
              "      <td>0.0</td>\n",
              "      <td>151.089</td>\n",
              "    </tr>\n",
              "  </tbody>\n",
              "</table>\n",
              "</div>"
            ],
            "text/plain": [
              "                                    Date   Price  ... total_cases  cvd_death_rate\n",
              "129      (2020, 1, 6, 0, 0, 0, 0, 6, -1)  1.3169  ...         0.0         151.089\n",
              "130      (2020, 1, 3, 0, 0, 0, 4, 3, -1)  1.3088  ...         0.0         151.089\n",
              "131      (2020, 1, 2, 0, 0, 0, 3, 2, -1)  1.3146  ...         0.0         151.089\n",
              "132      (2020, 1, 1, 0, 0, 0, 2, 1, -1)  1.3255  ...         0.0         151.089\n",
              "133  (2019, 12, 31, 0, 0, 0, 1, 365, -1)  1.3261  ...         0.0         151.089\n",
              "\n",
              "[5 rows x 6 columns]"
            ]
          },
          "metadata": {
            "tags": []
          },
          "execution_count": 18
        }
      ]
    },
    {
      "cell_type": "code",
      "metadata": {
        "id": "AKPMw6jUypAN",
        "colab_type": "code",
        "colab": {
          "base_uri": "https://localhost:8080/",
          "height": 233
        },
        "outputId": "6b3a6039-5cc2-4566-e853-9d3852369b12"
      },
      "source": [
        "# Object means string\n",
        "dataset['total_deaths']"
      ],
      "execution_count": 19,
      "outputs": [
        {
          "output_type": "execute_result",
          "data": {
            "text/plain": [
              "0      128740.0\n",
              "1      128062.0\n",
              "2      127410.0\n",
              "3      126140.0\n",
              "4      125804.0\n",
              "         ...   \n",
              "129         0.0\n",
              "130         0.0\n",
              "131         0.0\n",
              "132         0.0\n",
              "133         0.0\n",
              "Name: total_deaths, Length: 134, dtype: float64"
            ]
          },
          "metadata": {
            "tags": []
          },
          "execution_count": 19
        }
      ]
    },
    {
      "cell_type": "code",
      "metadata": {
        "id": "I9kHcA_4tAqL",
        "colab_type": "code",
        "colab": {
          "base_uri": "https://localhost:8080/",
          "height": 35
        },
        "outputId": "28fd5c24-4521-4d8a-e346-38322c552c2a"
      },
      "source": [
        "# View what date looks like\n",
        "date = dataset['Date']\n",
        "date.head()\n",
        "len(date)"
      ],
      "execution_count": 20,
      "outputs": [
        {
          "output_type": "execute_result",
          "data": {
            "text/plain": [
              "134"
            ]
          },
          "metadata": {
            "tags": []
          },
          "execution_count": 20
        }
      ]
    },
    {
      "cell_type": "code",
      "metadata": {
        "id": "0Nxcgc_K3ZDm",
        "colab_type": "code",
        "colab": {
          "base_uri": "https://localhost:8080/",
          "height": 269
        },
        "outputId": "ecc95a34-371c-4d8b-ceb2-64055058b0af"
      },
      "source": [
        "# Splitting timestamp and isolating the date\n",
        "dateFormatting = pd.DataFrame({'new_date': pd.date_range('2019-12-31', periods=len(date))})\n",
        "# dateFormatting['new_date'] = [d.date() for d in dateFormatting['my_timestamp']]\n",
        "# dateFormatting['new_time'] = [d.time() for d in dateFormatting['my_timestamp']]\n",
        "print(dateFormatting)\n"
      ],
      "execution_count": 21,
      "outputs": [
        {
          "output_type": "stream",
          "text": [
            "      new_date\n",
            "0   2019-12-31\n",
            "1   2020-01-01\n",
            "2   2020-01-02\n",
            "3   2020-01-03\n",
            "4   2020-01-04\n",
            "..         ...\n",
            "129 2020-05-08\n",
            "130 2020-05-09\n",
            "131 2020-05-10\n",
            "132 2020-05-11\n",
            "133 2020-05-12\n",
            "\n",
            "[134 rows x 1 columns]\n"
          ],
          "name": "stdout"
        }
      ]
    },
    {
      "cell_type": "code",
      "metadata": {
        "id": "Tav3LALn4KN2",
        "colab_type": "code",
        "colab": {
          "base_uri": "https://localhost:8080/",
          "height": 55
        },
        "outputId": "ff4ce5e7-f64f-4b11-f409-65049cae2c40"
      },
      "source": [
        "# Convert date to list so that we can use the dates to plot on graph\n",
        "my_xticks = dateFormatting['new_date'].tolist()\n",
        "print(my_xticks)"
      ],
      "execution_count": 22,
      "outputs": [
        {
          "output_type": "stream",
          "text": [
            "[Timestamp('2019-12-31 00:00:00'), Timestamp('2020-01-01 00:00:00'), Timestamp('2020-01-02 00:00:00'), Timestamp('2020-01-03 00:00:00'), Timestamp('2020-01-04 00:00:00'), Timestamp('2020-01-05 00:00:00'), Timestamp('2020-01-06 00:00:00'), Timestamp('2020-01-07 00:00:00'), Timestamp('2020-01-08 00:00:00'), Timestamp('2020-01-09 00:00:00'), Timestamp('2020-01-10 00:00:00'), Timestamp('2020-01-11 00:00:00'), Timestamp('2020-01-12 00:00:00'), Timestamp('2020-01-13 00:00:00'), Timestamp('2020-01-14 00:00:00'), Timestamp('2020-01-15 00:00:00'), Timestamp('2020-01-16 00:00:00'), Timestamp('2020-01-17 00:00:00'), Timestamp('2020-01-18 00:00:00'), Timestamp('2020-01-19 00:00:00'), Timestamp('2020-01-20 00:00:00'), Timestamp('2020-01-21 00:00:00'), Timestamp('2020-01-22 00:00:00'), Timestamp('2020-01-23 00:00:00'), Timestamp('2020-01-24 00:00:00'), Timestamp('2020-01-25 00:00:00'), Timestamp('2020-01-26 00:00:00'), Timestamp('2020-01-27 00:00:00'), Timestamp('2020-01-28 00:00:00'), Timestamp('2020-01-29 00:00:00'), Timestamp('2020-01-30 00:00:00'), Timestamp('2020-01-31 00:00:00'), Timestamp('2020-02-01 00:00:00'), Timestamp('2020-02-02 00:00:00'), Timestamp('2020-02-03 00:00:00'), Timestamp('2020-02-04 00:00:00'), Timestamp('2020-02-05 00:00:00'), Timestamp('2020-02-06 00:00:00'), Timestamp('2020-02-07 00:00:00'), Timestamp('2020-02-08 00:00:00'), Timestamp('2020-02-09 00:00:00'), Timestamp('2020-02-10 00:00:00'), Timestamp('2020-02-11 00:00:00'), Timestamp('2020-02-12 00:00:00'), Timestamp('2020-02-13 00:00:00'), Timestamp('2020-02-14 00:00:00'), Timestamp('2020-02-15 00:00:00'), Timestamp('2020-02-16 00:00:00'), Timestamp('2020-02-17 00:00:00'), Timestamp('2020-02-18 00:00:00'), Timestamp('2020-02-19 00:00:00'), Timestamp('2020-02-20 00:00:00'), Timestamp('2020-02-21 00:00:00'), Timestamp('2020-02-22 00:00:00'), Timestamp('2020-02-23 00:00:00'), Timestamp('2020-02-24 00:00:00'), Timestamp('2020-02-25 00:00:00'), Timestamp('2020-02-26 00:00:00'), Timestamp('2020-02-27 00:00:00'), Timestamp('2020-02-28 00:00:00'), Timestamp('2020-02-29 00:00:00'), Timestamp('2020-03-01 00:00:00'), Timestamp('2020-03-02 00:00:00'), Timestamp('2020-03-03 00:00:00'), Timestamp('2020-03-04 00:00:00'), Timestamp('2020-03-05 00:00:00'), Timestamp('2020-03-06 00:00:00'), Timestamp('2020-03-07 00:00:00'), Timestamp('2020-03-08 00:00:00'), Timestamp('2020-03-09 00:00:00'), Timestamp('2020-03-10 00:00:00'), Timestamp('2020-03-11 00:00:00'), Timestamp('2020-03-12 00:00:00'), Timestamp('2020-03-13 00:00:00'), Timestamp('2020-03-14 00:00:00'), Timestamp('2020-03-15 00:00:00'), Timestamp('2020-03-16 00:00:00'), Timestamp('2020-03-17 00:00:00'), Timestamp('2020-03-18 00:00:00'), Timestamp('2020-03-19 00:00:00'), Timestamp('2020-03-20 00:00:00'), Timestamp('2020-03-21 00:00:00'), Timestamp('2020-03-22 00:00:00'), Timestamp('2020-03-23 00:00:00'), Timestamp('2020-03-24 00:00:00'), Timestamp('2020-03-25 00:00:00'), Timestamp('2020-03-26 00:00:00'), Timestamp('2020-03-27 00:00:00'), Timestamp('2020-03-28 00:00:00'), Timestamp('2020-03-29 00:00:00'), Timestamp('2020-03-30 00:00:00'), Timestamp('2020-03-31 00:00:00'), Timestamp('2020-04-01 00:00:00'), Timestamp('2020-04-02 00:00:00'), Timestamp('2020-04-03 00:00:00'), Timestamp('2020-04-04 00:00:00'), Timestamp('2020-04-05 00:00:00'), Timestamp('2020-04-06 00:00:00'), Timestamp('2020-04-07 00:00:00'), Timestamp('2020-04-08 00:00:00'), Timestamp('2020-04-09 00:00:00'), Timestamp('2020-04-10 00:00:00'), Timestamp('2020-04-11 00:00:00'), Timestamp('2020-04-12 00:00:00'), Timestamp('2020-04-13 00:00:00'), Timestamp('2020-04-14 00:00:00'), Timestamp('2020-04-15 00:00:00'), Timestamp('2020-04-16 00:00:00'), Timestamp('2020-04-17 00:00:00'), Timestamp('2020-04-18 00:00:00'), Timestamp('2020-04-19 00:00:00'), Timestamp('2020-04-20 00:00:00'), Timestamp('2020-04-21 00:00:00'), Timestamp('2020-04-22 00:00:00'), Timestamp('2020-04-23 00:00:00'), Timestamp('2020-04-24 00:00:00'), Timestamp('2020-04-25 00:00:00'), Timestamp('2020-04-26 00:00:00'), Timestamp('2020-04-27 00:00:00'), Timestamp('2020-04-28 00:00:00'), Timestamp('2020-04-29 00:00:00'), Timestamp('2020-04-30 00:00:00'), Timestamp('2020-05-01 00:00:00'), Timestamp('2020-05-02 00:00:00'), Timestamp('2020-05-03 00:00:00'), Timestamp('2020-05-04 00:00:00'), Timestamp('2020-05-05 00:00:00'), Timestamp('2020-05-06 00:00:00'), Timestamp('2020-05-07 00:00:00'), Timestamp('2020-05-08 00:00:00'), Timestamp('2020-05-09 00:00:00'), Timestamp('2020-05-10 00:00:00'), Timestamp('2020-05-11 00:00:00'), Timestamp('2020-05-12 00:00:00')]\n"
          ],
          "name": "stdout"
        }
      ]
    },
    {
      "cell_type": "code",
      "metadata": {
        "id": "DeyD3C8dm1DM",
        "colab_type": "code",
        "colab": {
          "base_uri": "https://localhost:8080/",
          "height": 233
        },
        "outputId": "22f9398e-b017-4228-aa88-816f1a336198"
      },
      "source": [
        "dataset['Date']"
      ],
      "execution_count": 23,
      "outputs": [
        {
          "output_type": "execute_result",
          "data": {
            "text/plain": [
              "0        (2020, 7, 3, 0, 0, 0, 4, 185, -1)\n",
              "1        (2020, 7, 2, 0, 0, 0, 3, 184, -1)\n",
              "2        (2020, 7, 1, 0, 0, 0, 2, 183, -1)\n",
              "3       (2020, 6, 30, 0, 0, 0, 1, 182, -1)\n",
              "4       (2020, 6, 29, 0, 0, 0, 0, 181, -1)\n",
              "                      ...                 \n",
              "129        (2020, 1, 6, 0, 0, 0, 0, 6, -1)\n",
              "130        (2020, 1, 3, 0, 0, 0, 4, 3, -1)\n",
              "131        (2020, 1, 2, 0, 0, 0, 3, 2, -1)\n",
              "132        (2020, 1, 1, 0, 0, 0, 2, 1, -1)\n",
              "133    (2019, 12, 31, 0, 0, 0, 1, 365, -1)\n",
              "Name: Date, Length: 134, dtype: object"
            ]
          },
          "metadata": {
            "tags": []
          },
          "execution_count": 23
        }
      ]
    },
    {
      "cell_type": "markdown",
      "metadata": {
        "id": "wvb8c8CBIOqM",
        "colab_type": "text"
      },
      "source": [
        "# Plotting Features before Normalisation"
      ]
    },
    {
      "cell_type": "code",
      "metadata": {
        "id": "eDGMN3GG6wOL",
        "colab_type": "code",
        "colab": {
          "base_uri": "https://localhost:8080/",
          "height": 398
        },
        "outputId": "0a9b61ea-4b24-4360-8967-cea0f0db5cb0"
      },
      "source": [
        "# Plotted prices and dates\n",
        "# Notice how the dates start and end\n",
        "\n",
        "from datetime import datetime, timedelta\n",
        "from matplotlib import pyplot as plt\n",
        "from matplotlib import dates as mpl_dates\n",
        "plt.style.use('seaborn')\n",
        "from matplotlib import rcParams\n",
        "rcParams['figure.figsize'] = 15,6\n",
        "\n",
        "dates = np.array(dateFormatting['new_date'])\n",
        "price = np.array(dataset['Price'])\n",
        "plt.plot_date(dates,price, linestyle ='solid')\n",
        "plt.gcf().autofmt_xdate()\n",
        "date_format = mpl_dates.DateFormatter('%b,%d,%Y')\n",
        "plt.title('Time Series Price of USD compare to GBP')\n",
        "plt.xlabel('Date')\n",
        "plt.ylabel('Price')\n",
        "plt.gca().xaxis.set_major_formatter(date_format)"
      ],
      "execution_count": 24,
      "outputs": [
        {
          "output_type": "display_data",
          "data": {
            "image/png": "[encoded data removed]",
            "text/plain": [
              "<Figure size 1080x432 with 1 Axes>"
            ]
          },
          "metadata": {
            "tags": []
          }
        }
      ]
    },
    {
      "cell_type": "code",
      "metadata": {
        "id": "Dqj88upVOPC9",
        "colab_type": "code",
        "colab": {
          "base_uri": "https://localhost:8080/",
          "height": 35
        },
        "outputId": "24c7b63d-7490-494f-e7e9-aad3db45bd9b"
      },
      "source": [
        "# print(price)\n",
        "test = np.array(dataset['total_deaths'])\n",
        "# print(test)\n",
        "price.shape\n",
        "# test.shape\n",
        "test = np.array(dataset['total_deaths'])\n",
        "list_arr = np.array(test)\n",
        "reversed_arr = list_arr[::-1]\n",
        "reversed_arr.shape\n",
        "price.shape"
      ],
      "execution_count": 25,
      "outputs": [
        {
          "output_type": "execute_result",
          "data": {
            "text/plain": [
              "(134,)"
            ]
          },
          "metadata": {
            "tags": []
          },
          "execution_count": 25
        }
      ]
    },
    {
      "cell_type": "code",
      "metadata": {
        "id": "T30FJ5ONMRsa",
        "colab_type": "code",
        "colab": {}
      },
      "source": [
        "# Adds the accumulative deaths every day of a country\n",
        "# Problem – This needs to be sorted from the end since the way out data is set up - can this be made more efficient?\n",
        "total_us_deaths = dataset['total_deaths']\n",
        "list_arr = np.array(total_us_deaths)\n",
        "reversed_arr = list_arr[::-1]\n",
        "newDay = 0\n",
        "day = []\n",
        "for currentday in reversed_arr:\n",
        "   newDay = currentday + newDay\n",
        "   day.append(newDay)\n"
      ],
      "execution_count": 26,
      "outputs": []
    },
    {
      "cell_type": "code",
      "metadata": {
        "id": "oivvoebSMpRV",
        "colab_type": "code",
        "colab": {
          "base_uri": "https://localhost:8080/",
          "height": 413
        },
        "outputId": "8cf26675-1a1a-4ea8-9fdc-0603ac219183"
      },
      "source": [
        "# Plots the accumulative daily death rates of a country\n",
        "dates = np.array(dateFormatting['new_date'])\n",
        "us_deaths = np.array(day)\n",
        "plt.plot_date(dates,us_deaths, linestyle ='solid')\n",
        "plt.gcf().autofmt_xdate()\n",
        "date_format = mpl_dates.DateFormatter('%b,%d,%Y')\n",
        "plt.title('Time Series of Total Deaths of US')\n",
        "plt.xlabel('Date')\n",
        "plt.ylabel('Total Deaths')\n"
      ],
      "execution_count": 27,
      "outputs": [
        {
          "output_type": "execute_result",
          "data": {
            "text/plain": [
              "Text(0, 0.5, 'Total Deaths')"
            ]
          },
          "metadata": {
            "tags": []
          },
          "execution_count": 27
        },
        {
          "output_type": "display_data",
          "data": {
            "image/png": "[encoded data removed]",
            "text/plain": [
              "<Figure size 1080x432 with 1 Axes>"
            ]
          },
          "metadata": {
            "tags": []
          }
        }
      ]
    },
    {
      "cell_type": "code",
      "metadata": {
        "id": "1dCKLM-XSXt_",
        "colab_type": "code",
        "colab": {
          "base_uri": "https://localhost:8080/",
          "height": 35
        },
        "outputId": "a99f1ba2-fdfb-4c54-a4ce-97d79eb4d0fd"
      },
      "source": [
        "test.shape"
      ],
      "execution_count": 28,
      "outputs": [
        {
          "output_type": "execute_result",
          "data": {
            "text/plain": [
              "(134,)"
            ]
          },
          "metadata": {
            "tags": []
          },
          "execution_count": 28
        }
      ]
    },
    {
      "cell_type": "code",
      "metadata": {
        "id": "aLvrpnjESZmR",
        "colab_type": "code",
        "colab": {
          "base_uri": "https://localhost:8080/",
          "height": 35
        },
        "outputId": "7696c88a-cb8c-407c-b90d-b7d3c81175f5"
      },
      "source": [
        "price.shape"
      ],
      "execution_count": 29,
      "outputs": [
        {
          "output_type": "execute_result",
          "data": {
            "text/plain": [
              "(134,)"
            ]
          },
          "metadata": {
            "tags": []
          },
          "execution_count": 29
        }
      ]
    },
    {
      "cell_type": "markdown",
      "metadata": {
        "id": "SWTJypnsv5R3",
        "colab_type": "text"
      },
      "source": [
        ""
      ]
    },
    {
      "cell_type": "code",
      "metadata": {
        "id": "v6NykB3TSJxe",
        "colab_type": "code",
        "colab": {
          "base_uri": "https://localhost:8080/",
          "height": 419
        },
        "outputId": "f0d35a44-418b-4af0-c305-3bcf0aaca26d"
      },
      "source": [
        "price_frame = pd.DataFrame(np.concatenate([price]), columns= [\"Price\"])\n",
        "death_frame = pd.DataFrame(np.concatenate([day]), columns= [\"Total_Deaths_US\"])\n",
        "price_frame.append(death_frame)"
      ],
      "execution_count": 30,
      "outputs": [
        {
          "output_type": "execute_result",
          "data": {
            "text/html": [
              "<div>\n",
              "<style scoped>\n",
              "    .dataframe tbody tr th:only-of-type {\n",
              "        vertical-align: middle;\n",
              "    }\n",
              "\n",
              "    .dataframe tbody tr th {\n",
              "        vertical-align: top;\n",
              "    }\n",
              "\n",
              "    .dataframe thead th {\n",
              "        text-align: right;\n",
              "    }\n",
              "</style>\n",
              "<table border=\"1\" class=\"dataframe\">\n",
              "  <thead>\n",
              "    <tr style=\"text-align: right;\">\n",
              "      <th></th>\n",
              "      <th>Price</th>\n",
              "      <th>Total_Deaths_US</th>\n",
              "    </tr>\n",
              "  </thead>\n",
              "  <tbody>\n",
              "    <tr>\n",
              "      <th>0</th>\n",
              "      <td>1.2482</td>\n",
              "      <td>NaN</td>\n",
              "    </tr>\n",
              "    <tr>\n",
              "      <th>1</th>\n",
              "      <td>1.2467</td>\n",
              "      <td>NaN</td>\n",
              "    </tr>\n",
              "    <tr>\n",
              "      <th>2</th>\n",
              "      <td>1.2474</td>\n",
              "      <td>NaN</td>\n",
              "    </tr>\n",
              "    <tr>\n",
              "      <th>3</th>\n",
              "      <td>1.2401</td>\n",
              "      <td>NaN</td>\n",
              "    </tr>\n",
              "    <tr>\n",
              "      <th>4</th>\n",
              "      <td>1.2299</td>\n",
              "      <td>NaN</td>\n",
              "    </tr>\n",
              "    <tr>\n",
              "      <th>...</th>\n",
              "      <td>...</td>\n",
              "      <td>...</td>\n",
              "    </tr>\n",
              "    <tr>\n",
              "      <th>129</th>\n",
              "      <td>NaN</td>\n",
              "      <td>4881974.0</td>\n",
              "    </tr>\n",
              "    <tr>\n",
              "      <th>130</th>\n",
              "      <td>NaN</td>\n",
              "      <td>5008114.0</td>\n",
              "    </tr>\n",
              "    <tr>\n",
              "      <th>131</th>\n",
              "      <td>NaN</td>\n",
              "      <td>5135524.0</td>\n",
              "    </tr>\n",
              "    <tr>\n",
              "      <th>132</th>\n",
              "      <td>NaN</td>\n",
              "      <td>5263586.0</td>\n",
              "    </tr>\n",
              "    <tr>\n",
              "      <th>133</th>\n",
              "      <td>NaN</td>\n",
              "      <td>5392326.0</td>\n",
              "    </tr>\n",
              "  </tbody>\n",
              "</table>\n",
              "<p>268 rows × 2 columns</p>\n",
              "</div>"
            ],
            "text/plain": [
              "      Price  Total_Deaths_US\n",
              "0    1.2482              NaN\n",
              "1    1.2467              NaN\n",
              "2    1.2474              NaN\n",
              "3    1.2401              NaN\n",
              "4    1.2299              NaN\n",
              "..      ...              ...\n",
              "129     NaN        4881974.0\n",
              "130     NaN        5008114.0\n",
              "131     NaN        5135524.0\n",
              "132     NaN        5263586.0\n",
              "133     NaN        5392326.0\n",
              "\n",
              "[268 rows x 2 columns]"
            ]
          },
          "metadata": {
            "tags": []
          },
          "execution_count": 30
        }
      ]
    },
    {
      "cell_type": "markdown",
      "metadata": {
        "id": "kkWFQ8HeIerS",
        "colab_type": "text"
      },
      "source": [
        "# Normalisation of Features"
      ]
    },
    {
      "cell_type": "code",
      "metadata": {
        "id": "GUr5EmIHITzq",
        "colab_type": "code",
        "colab": {}
      },
      "source": [
        "# Working Normalised method!!\n",
        "from sklearn.preprocessing import MinMaxScaler\n",
        "scaler = MinMaxScaler(feature_range=(0,1))\n",
        "# they are so small that is why\n",
        "normalisation_us_deaths = scaler.fit_transform(death_frame).reshape(-1,1)\n",
        "# loosing precision by converting to decimal but makes more readable\n",
        "# but when plotting it use normalisation_us_deaths\n",
        "normalisation_price = scaler.fit_transform(price_frame).reshape(-1,1)\n",
        "# 8 decimal: readable formate\n",
        "# val = [print(\"{:.8f}\".format(float(x)))for x in normalisation_us_deaths]\n",
        "# print(normalisation_price)\n",
        "# print(val)\n",
        "# print(normalisation_price)"
      ],
      "execution_count": 31,
      "outputs": []
    },
    {
      "cell_type": "code",
      "metadata": {
        "id": "jG6Frxvpw_YL",
        "colab_type": "code",
        "colab": {
          "base_uri": "https://localhost:8080/",
          "height": 403
        },
        "outputId": "a0ada38d-f113-4bc9-e227-49f359248796"
      },
      "source": [
        "# Inspect the data\n",
        "# Look at join distributions of afew pairs of collumns from the training set\n",
        "# Need to revise what this graph does\n",
        "import matplotlib.pyplot as plt\n",
        "plt.title('Time Series of Total Deaths of US & USD/GBP')\n",
        "plt.plot(normalisation_us_deaths,label=\"us_covid_death_rates\")\n",
        "plt.plot(normalisation_price, label=\"USD/GBP price\")\n",
        "plt.ylabel('Normalisation between 0 and 1')\n",
        "plt.xlabel('Date')\n",
        "plt.legend() \n",
        "plt.show()"
      ],
      "execution_count": 32,
      "outputs": [
        {
          "output_type": "display_data",
          "data": {
            "image/png": "[encoded data removed]",
            "text/plain": [
              "<Figure size 1080x432 with 1 Axes>"
            ]
          },
          "metadata": {
            "tags": []
          }
        }
      ]
    },
    {
      "cell_type": "markdown",
      "metadata": {
        "id": "FrNnj6gGIkmf",
        "colab_type": "text"
      },
      "source": [
        "# Preprocessing the Data - Train, Validation & Test\n"
      ]
    },
    {
      "cell_type": "code",
      "metadata": {
        "id": "yJTAF3KWyKwR",
        "colab_type": "code",
        "colab": {}
      },
      "source": [
        "new_dataset = np.hstack((normalisation_us_deaths,normalisation_price))\n",
        "# new_dataset"
      ],
      "execution_count": 33,
      "outputs": []
    },
    {
      "cell_type": "code",
      "metadata": {
        "id": "Sx35yrWb1MIz",
        "colab_type": "code",
        "colab": {
          "base_uri": "https://localhost:8080/",
          "height": 71
        },
        "outputId": "401f8279-283b-4cb4-b104-a2d69b3b36dd"
      },
      "source": [
        "# Test, Validation, Train \n",
        "# This should be ordered in respect to date – not cross validation or random seed\n",
        "# We are going to divide our data based on date because the next data is always dependent on the previous data\n",
        "# 65% of the total length of my datadrame\n",
        "# 35% test size/ validation\n",
        "training_size = int(len(new_dataset)*0.65)\n",
        "test_size = (len(new_dataset)-training_size)//2 # // Rounds down\n",
        "train_data, valset_data, test_data = new_dataset[0:training_size], new_dataset[training_size:(training_size + test_size)],new_dataset[(training_size + test_size):]\n",
        "print(train_data.shape)\n",
        "print(valset_data.shape)\n",
        "print(test_data.shape)"
      ],
      "execution_count": 34,
      "outputs": [
        {
          "output_type": "stream",
          "text": [
            "(87, 2)\n",
            "(23, 2)\n",
            "(24, 2)\n"
          ],
          "name": "stdout"
        }
      ]
    },
    {
      "cell_type": "code",
      "metadata": {
        "id": "P1CkWzUfVwxO",
        "colab_type": "code",
        "colab": {
          "base_uri": "https://localhost:8080/",
          "height": 89
        },
        "outputId": "9c939e0c-47c4-40a8-973f-1af12463f957"
      },
      "source": [
        "print(valset_data[:4])"
      ],
      "execution_count": 35,
      "outputs": [
        {
          "output_type": "stream",
          "text": [
            "[[0.12656839 0.78072153]\n",
            " [0.13825277 0.74689966]\n",
            " [0.15080431 0.71307779]\n",
            " [0.16358803 0.75197294]]\n"
          ],
          "name": "stdout"
        }
      ]
    },
    {
      "cell_type": "code",
      "metadata": {
        "id": "ldKERrxeA1sD",
        "colab_type": "code",
        "colab": {
          "base_uri": "https://localhost:8080/",
          "height": 35
        },
        "outputId": "d449f105-23ea-4d2c-ae77-555eab46d45a"
      },
      "source": [
        "training_size, test_size"
      ],
      "execution_count": 36,
      "outputs": [
        {
          "output_type": "execute_result",
          "data": {
            "text/plain": [
              "(87, 23)"
            ]
          },
          "metadata": {
            "tags": []
          },
          "execution_count": 36
        }
      ]
    },
    {
      "cell_type": "code",
      "metadata": {
        "id": "llongsG7BHW7",
        "colab_type": "code",
        "colab": {
          "base_uri": "https://localhost:8080/",
          "height": 35
        },
        "outputId": "0afe9eb4-8398-48e2-c67d-148cb909d72a"
      },
      "source": [
        "len(train_data), len(test_data)"
      ],
      "execution_count": 37,
      "outputs": [
        {
          "output_type": "execute_result",
          "data": {
            "text/plain": [
              "(87, 24)"
            ]
          },
          "metadata": {
            "tags": []
          },
          "execution_count": 37
        }
      ]
    },
    {
      "cell_type": "code",
      "metadata": {
        "id": "nc0pElKOBO-4",
        "colab_type": "code",
        "colab": {}
      },
      "source": [
        "# train_data"
      ],
      "execution_count": 38,
      "outputs": []
    },
    {
      "cell_type": "code",
      "metadata": {
        "id": "7lcOjmoBARZm",
        "colab_type": "code",
        "colab": {}
      },
      "source": [
        "# Convert an array of values into a dataset matrix\n",
        "# Go over what this method does\n",
        "# time_step = how many previous days you have to consider before making a prediction\n",
        "def create_dataset(dataset, time_step=1):\n",
        "  dataX, dataY = [],[]\n",
        "  # then we subtract e.g. timestep=3 : lendataset -3-3 so you are shifting\n",
        "  # iterates from \n",
        "  # -1: guarentees 8th datapoint \n",
        "  # 100 - 1 = 99-1 =5 -> 8th\n",
        "  # i is the starting point of dataset\n",
        "  for i in range(len(dataset)-time_step-1):\n",
        "    a = dataset[i:(i+time_step)]  # i=0, 0,1,2,3\n",
        "    # print(a)\n",
        "    dataX.append(a)\n",
        "    y = dataset[i + time_step][1] \n",
        "    dataY.append(y)\n",
        "  return np.array(dataX), np.array(dataY)"
      ],
      "execution_count": 39,
      "outputs": []
    },
    {
      "cell_type": "code",
      "metadata": {
        "id": "Xjbnyit_VZur",
        "colab_type": "code",
        "colab": {}
      },
      "source": [
        "# weekly_timestep means taking in 7 days of features at a time \n",
        "# whats the point of writing 7 when it is assigned to 1?\n",
        "weekly_timestep = 7\n",
        "X_train, Y_train = create_dataset(train_data, weekly_timestep)\n",
        "X_val, Y_val = create_dataset(valset_data, weekly_timestep)\n",
        "X_test, Y_test = create_dataset(test_data, weekly_timestep)\n",
        "\n"
      ],
      "execution_count": 40,
      "outputs": []
    },
    {
      "cell_type": "code",
      "metadata": {
        "id": "Bii3I74VfqRM",
        "colab_type": "code",
        "colab": {
          "base_uri": "https://localhost:8080/",
          "height": 71
        },
        "outputId": "06235cf7-5011-4ea4-be65-0cbe23f2a172"
      },
      "source": [
        "print(X_test.shape), print(Y_test.shape)\n",
        "# Finished preprocessing the data"
      ],
      "execution_count": 41,
      "outputs": [
        {
          "output_type": "stream",
          "text": [
            "(16, 7, 2)\n",
            "(16,)\n"
          ],
          "name": "stdout"
        },
        {
          "output_type": "execute_result",
          "data": {
            "text/plain": [
              "(None, None)"
            ]
          },
          "metadata": {
            "tags": []
          },
          "execution_count": 41
        }
      ]
    },
    {
      "cell_type": "markdown",
      "metadata": {
        "id": "rQxS8R3VI2bP",
        "colab_type": "text"
      },
      "source": [
        "# Stacked LSTM Model"
      ]
    },
    {
      "cell_type": "code",
      "metadata": {
        "id": "fuLjcvVwM7Sc",
        "colab_type": "code",
        "colab": {}
      },
      "source": [
        "# Create the stacked LSTM model\n",
        "# One LSTM after the other\n",
        "from tensorflow.keras.models import Sequential\n",
        "from tensorflow.keras.layers import Dense\n",
        "from tensorflow.keras.layers import LSTM\n",
        "from tensorflow.keras.layers import InputLayer\n",
        "model = Sequential()\n",
        "\n",
        "model.add(InputLayer(input_shape=(7,2)))\n",
        "model.add(LSTM(5,return_sequences=True))\n",
        "model.add(LSTM(5, return_sequences=True))\n",
        "model.add(LSTM(5))\n",
        "model.add(Dense(1))\n",
        "model.compile(loss = 'mean_squared_error', optimizer='adam')"
      ],
      "execution_count": 42,
      "outputs": []
    },
    {
      "cell_type": "code",
      "metadata": {
        "id": "L7MZYWw8NkzS",
        "colab_type": "code",
        "colab": {
          "base_uri": "https://localhost:8080/",
          "height": 305
        },
        "outputId": "1320cab4-9ee8-46c4-e998-63d965579747"
      },
      "source": [
        "model.summary()"
      ],
      "execution_count": 43,
      "outputs": [
        {
          "output_type": "stream",
          "text": [
            "Model: \"sequential\"\n",
            "_________________________________________________________________\n",
            "Layer (type)                 Output Shape              Param #   \n",
            "=================================================================\n",
            "lstm (LSTM)                  (None, 7, 5)              160       \n",
            "_________________________________________________________________\n",
            "lstm_1 (LSTM)                (None, 7, 5)              220       \n",
            "_________________________________________________________________\n",
            "lstm_2 (LSTM)                (None, 5)                 220       \n",
            "_________________________________________________________________\n",
            "dense (Dense)                (None, 1)                 6         \n",
            "=================================================================\n",
            "Total params: 606\n",
            "Trainable params: 606\n",
            "Non-trainable params: 0\n",
            "_________________________________________________________________\n"
          ],
          "name": "stdout"
        }
      ]
    },
    {
      "cell_type": "code",
      "metadata": {
        "id": "V-kYqq9ON2ij",
        "colab_type": "code",
        "colab": {
          "base_uri": "https://localhost:8080/",
          "height": 1000
        },
        "outputId": "28ea117a-b347-466a-e4e2-b9bf1a178d98"
      },
      "source": [
        "# Main aim should be to minimise the loss\n",
        "\n",
        "model.fit(X_train, Y_train, \n",
        "          validation_data= (X_val, Y_val), \n",
        "          epochs=100,batch_size=64,verbose=1)"
      ],
      "execution_count": 44,
      "outputs": [
        {
          "output_type": "stream",
          "text": [
            "Epoch 1/100\n",
            "2/2 [==============================] - 1s 447ms/step - loss: 0.2696 - val_loss: 0.6814\n",
            "Epoch 2/100\n",
            "2/2 [==============================] - 0s 18ms/step - loss: 0.2580 - val_loss: 0.6595\n",
            "Epoch 3/100\n",
            "2/2 [==============================] - 0s 19ms/step - loss: 0.2465 - val_loss: 0.6377\n",
            "Epoch 4/100\n",
            "2/2 [==============================] - 0s 19ms/step - loss: 0.2351 - val_loss: 0.6159\n",
            "Epoch 5/100\n",
            "2/2 [==============================] - 0s 17ms/step - loss: 0.2241 - val_loss: 0.5940\n",
            "Epoch 6/100\n",
            "2/2 [==============================] - 0s 19ms/step - loss: 0.2129 - val_loss: 0.5719\n",
            "Epoch 7/100\n",
            "2/2 [==============================] - 0s 18ms/step - loss: 0.2021 - val_loss: 0.5499\n",
            "Epoch 8/100\n",
            "2/2 [==============================] - 0s 17ms/step - loss: 0.1912 - val_loss: 0.5278\n",
            "Epoch 9/100\n",
            "2/2 [==============================] - 0s 18ms/step - loss: 0.1801 - val_loss: 0.5057\n",
            "Epoch 10/100\n",
            "2/2 [==============================] - 0s 18ms/step - loss: 0.1693 - val_loss: 0.4831\n",
            "Epoch 11/100\n",
            "2/2 [==============================] - 0s 18ms/step - loss: 0.1583 - val_loss: 0.4601\n",
            "Epoch 12/100\n",
            "2/2 [==============================] - 0s 24ms/step - loss: 0.1474 - val_loss: 0.4365\n",
            "Epoch 13/100\n",
            "2/2 [==============================] - 0s 18ms/step - loss: 0.1367 - val_loss: 0.4125\n",
            "Epoch 14/100\n",
            "2/2 [==============================] - 0s 17ms/step - loss: 0.1258 - val_loss: 0.3883\n",
            "Epoch 15/100\n",
            "2/2 [==============================] - 0s 20ms/step - loss: 0.1148 - val_loss: 0.3637\n",
            "Epoch 16/100\n",
            "2/2 [==============================] - 0s 19ms/step - loss: 0.1043 - val_loss: 0.3387\n",
            "Epoch 17/100\n",
            "2/2 [==============================] - 0s 21ms/step - loss: 0.0938 - val_loss: 0.3134\n",
            "Epoch 18/100\n",
            "2/2 [==============================] - 0s 17ms/step - loss: 0.0838 - val_loss: 0.2881\n",
            "Epoch 19/100\n",
            "2/2 [==============================] - 0s 20ms/step - loss: 0.0739 - val_loss: 0.2628\n",
            "Epoch 20/100\n",
            "2/2 [==============================] - 0s 18ms/step - loss: 0.0650 - val_loss: 0.2377\n",
            "Epoch 21/100\n",
            "2/2 [==============================] - 0s 19ms/step - loss: 0.0561 - val_loss: 0.2130\n",
            "Epoch 22/100\n",
            "2/2 [==============================] - 0s 21ms/step - loss: 0.0486 - val_loss: 0.1890\n",
            "Epoch 23/100\n",
            "2/2 [==============================] - 0s 19ms/step - loss: 0.0414 - val_loss: 0.1658\n",
            "Epoch 24/100\n",
            "2/2 [==============================] - 0s 21ms/step - loss: 0.0363 - val_loss: 0.1440\n",
            "Epoch 25/100\n",
            "2/2 [==============================] - 0s 20ms/step - loss: 0.0317 - val_loss: 0.1243\n",
            "Epoch 26/100\n",
            "2/2 [==============================] - 0s 19ms/step - loss: 0.0282 - val_loss: 0.1068\n",
            "Epoch 27/100\n",
            "2/2 [==============================] - 0s 18ms/step - loss: 0.0264 - val_loss: 0.0914\n",
            "Epoch 28/100\n",
            "2/2 [==============================] - 0s 17ms/step - loss: 0.0256 - val_loss: 0.0787\n",
            "Epoch 29/100\n",
            "2/2 [==============================] - 0s 20ms/step - loss: 0.0258 - val_loss: 0.0688\n",
            "Epoch 30/100\n",
            "2/2 [==============================] - 0s 19ms/step - loss: 0.0264 - val_loss: 0.0621\n",
            "Epoch 31/100\n",
            "2/2 [==============================] - 0s 22ms/step - loss: 0.0272 - val_loss: 0.0584\n",
            "Epoch 32/100\n",
            "2/2 [==============================] - 0s 20ms/step - loss: 0.0276 - val_loss: 0.0574\n",
            "Epoch 33/100\n",
            "2/2 [==============================] - 0s 22ms/step - loss: 0.0277 - val_loss: 0.0579\n",
            "Epoch 34/100\n",
            "2/2 [==============================] - 0s 19ms/step - loss: 0.0276 - val_loss: 0.0597\n",
            "Epoch 35/100\n",
            "2/2 [==============================] - 0s 18ms/step - loss: 0.0272 - val_loss: 0.0625\n",
            "Epoch 36/100\n",
            "2/2 [==============================] - 0s 20ms/step - loss: 0.0267 - val_loss: 0.0665\n",
            "Epoch 37/100\n",
            "2/2 [==============================] - 0s 21ms/step - loss: 0.0262 - val_loss: 0.0717\n",
            "Epoch 38/100\n",
            "2/2 [==============================] - 0s 19ms/step - loss: 0.0259 - val_loss: 0.0767\n",
            "Epoch 39/100\n",
            "2/2 [==============================] - 0s 18ms/step - loss: 0.0256 - val_loss: 0.0807\n",
            "Epoch 40/100\n",
            "2/2 [==============================] - 0s 19ms/step - loss: 0.0255 - val_loss: 0.0840\n",
            "Epoch 41/100\n",
            "2/2 [==============================] - 0s 23ms/step - loss: 0.0255 - val_loss: 0.0864\n",
            "Epoch 42/100\n",
            "2/2 [==============================] - 0s 19ms/step - loss: 0.0256 - val_loss: 0.0875\n",
            "Epoch 43/100\n",
            "2/2 [==============================] - 0s 19ms/step - loss: 0.0255 - val_loss: 0.0875\n",
            "Epoch 44/100\n",
            "2/2 [==============================] - 0s 18ms/step - loss: 0.0255 - val_loss: 0.0875\n",
            "Epoch 45/100\n",
            "2/2 [==============================] - 0s 18ms/step - loss: 0.0255 - val_loss: 0.0874\n",
            "Epoch 46/100\n",
            "2/2 [==============================] - 0s 19ms/step - loss: 0.0255 - val_loss: 0.0866\n",
            "Epoch 47/100\n",
            "2/2 [==============================] - 0s 17ms/step - loss: 0.0255 - val_loss: 0.0850\n",
            "Epoch 48/100\n",
            "2/2 [==============================] - 0s 18ms/step - loss: 0.0255 - val_loss: 0.0837\n",
            "Epoch 49/100\n",
            "2/2 [==============================] - 0s 18ms/step - loss: 0.0254 - val_loss: 0.0827\n",
            "Epoch 50/100\n",
            "2/2 [==============================] - 0s 18ms/step - loss: 0.0254 - val_loss: 0.0821\n",
            "Epoch 51/100\n",
            "2/2 [==============================] - 0s 22ms/step - loss: 0.0254 - val_loss: 0.0816\n",
            "Epoch 52/100\n",
            "2/2 [==============================] - 0s 17ms/step - loss: 0.0254 - val_loss: 0.0805\n",
            "Epoch 53/100\n",
            "2/2 [==============================] - 0s 23ms/step - loss: 0.0254 - val_loss: 0.0793\n",
            "Epoch 54/100\n",
            "2/2 [==============================] - 0s 18ms/step - loss: 0.0254 - val_loss: 0.0782\n",
            "Epoch 55/100\n",
            "2/2 [==============================] - 0s 17ms/step - loss: 0.0254 - val_loss: 0.0775\n",
            "Epoch 56/100\n",
            "2/2 [==============================] - 0s 19ms/step - loss: 0.0254 - val_loss: 0.0773\n",
            "Epoch 57/100\n",
            "2/2 [==============================] - 0s 16ms/step - loss: 0.0254 - val_loss: 0.0772\n",
            "Epoch 58/100\n",
            "2/2 [==============================] - 0s 21ms/step - loss: 0.0254 - val_loss: 0.0772\n",
            "Epoch 59/100\n",
            "2/2 [==============================] - 0s 18ms/step - loss: 0.0254 - val_loss: 0.0774\n",
            "Epoch 60/100\n",
            "2/2 [==============================] - 0s 20ms/step - loss: 0.0254 - val_loss: 0.0780\n",
            "Epoch 61/100\n",
            "2/2 [==============================] - 0s 18ms/step - loss: 0.0253 - val_loss: 0.0782\n",
            "Epoch 62/100\n",
            "2/2 [==============================] - 0s 19ms/step - loss: 0.0253 - val_loss: 0.0781\n",
            "Epoch 63/100\n",
            "2/2 [==============================] - 0s 18ms/step - loss: 0.0253 - val_loss: 0.0779\n",
            "Epoch 64/100\n",
            "2/2 [==============================] - 0s 18ms/step - loss: 0.0253 - val_loss: 0.0776\n",
            "Epoch 65/100\n",
            "2/2 [==============================] - 0s 17ms/step - loss: 0.0253 - val_loss: 0.0768\n",
            "Epoch 66/100\n",
            "2/2 [==============================] - 0s 19ms/step - loss: 0.0253 - val_loss: 0.0761\n",
            "Epoch 67/100\n",
            "2/2 [==============================] - 0s 18ms/step - loss: 0.0253 - val_loss: 0.0753\n",
            "Epoch 68/100\n",
            "2/2 [==============================] - 0s 18ms/step - loss: 0.0253 - val_loss: 0.0747\n",
            "Epoch 69/100\n",
            "2/2 [==============================] - 0s 17ms/step - loss: 0.0253 - val_loss: 0.0746\n",
            "Epoch 70/100\n",
            "2/2 [==============================] - 0s 20ms/step - loss: 0.0253 - val_loss: 0.0743\n",
            "Epoch 71/100\n",
            "2/2 [==============================] - 0s 18ms/step - loss: 0.0253 - val_loss: 0.0742\n",
            "Epoch 72/100\n",
            "2/2 [==============================] - 0s 16ms/step - loss: 0.0253 - val_loss: 0.0740\n",
            "Epoch 73/100\n",
            "2/2 [==============================] - 0s 17ms/step - loss: 0.0253 - val_loss: 0.0735\n",
            "Epoch 74/100\n",
            "2/2 [==============================] - 0s 19ms/step - loss: 0.0252 - val_loss: 0.0724\n",
            "Epoch 75/100\n",
            "2/2 [==============================] - 0s 20ms/step - loss: 0.0253 - val_loss: 0.0711\n",
            "Epoch 76/100\n",
            "2/2 [==============================] - 0s 18ms/step - loss: 0.0253 - val_loss: 0.0706\n",
            "Epoch 77/100\n",
            "2/2 [==============================] - 0s 19ms/step - loss: 0.0253 - val_loss: 0.0706\n",
            "Epoch 78/100\n",
            "2/2 [==============================] - 0s 16ms/step - loss: 0.0252 - val_loss: 0.0711\n",
            "Epoch 79/100\n",
            "2/2 [==============================] - 0s 20ms/step - loss: 0.0252 - val_loss: 0.0719\n",
            "Epoch 80/100\n",
            "2/2 [==============================] - 0s 20ms/step - loss: 0.0252 - val_loss: 0.0732\n",
            "Epoch 81/100\n",
            "2/2 [==============================] - 0s 18ms/step - loss: 0.0252 - val_loss: 0.0743\n",
            "Epoch 82/100\n",
            "2/2 [==============================] - 0s 17ms/step - loss: 0.0252 - val_loss: 0.0748\n",
            "Epoch 83/100\n",
            "2/2 [==============================] - 0s 17ms/step - loss: 0.0252 - val_loss: 0.0746\n",
            "Epoch 84/100\n",
            "2/2 [==============================] - 0s 17ms/step - loss: 0.0252 - val_loss: 0.0747\n",
            "Epoch 85/100\n",
            "2/2 [==============================] - 0s 19ms/step - loss: 0.0252 - val_loss: 0.0749\n",
            "Epoch 86/100\n",
            "2/2 [==============================] - 0s 17ms/step - loss: 0.0252 - val_loss: 0.0743\n",
            "Epoch 87/100\n",
            "2/2 [==============================] - 0s 16ms/step - loss: 0.0252 - val_loss: 0.0731\n",
            "Epoch 88/100\n",
            "2/2 [==============================] - 0s 17ms/step - loss: 0.0252 - val_loss: 0.0717\n",
            "Epoch 89/100\n",
            "2/2 [==============================] - 0s 21ms/step - loss: 0.0252 - val_loss: 0.0706\n",
            "Epoch 90/100\n",
            "2/2 [==============================] - 0s 17ms/step - loss: 0.0251 - val_loss: 0.0707\n",
            "Epoch 91/100\n",
            "2/2 [==============================] - 0s 17ms/step - loss: 0.0251 - val_loss: 0.0718\n",
            "Epoch 92/100\n",
            "2/2 [==============================] - 0s 17ms/step - loss: 0.0251 - val_loss: 0.0727\n",
            "Epoch 93/100\n",
            "2/2 [==============================] - 0s 16ms/step - loss: 0.0252 - val_loss: 0.0726\n",
            "Epoch 94/100\n",
            "2/2 [==============================] - 0s 18ms/step - loss: 0.0251 - val_loss: 0.0719\n",
            "Epoch 95/100\n",
            "2/2 [==============================] - 0s 17ms/step - loss: 0.0251 - val_loss: 0.0716\n",
            "Epoch 96/100\n",
            "2/2 [==============================] - 0s 16ms/step - loss: 0.0251 - val_loss: 0.0703\n",
            "Epoch 97/100\n",
            "2/2 [==============================] - 0s 18ms/step - loss: 0.0251 - val_loss: 0.0686\n",
            "Epoch 98/100\n",
            "2/2 [==============================] - 0s 17ms/step - loss: 0.0251 - val_loss: 0.0669\n",
            "Epoch 99/100\n",
            "2/2 [==============================] - 0s 22ms/step - loss: 0.0251 - val_loss: 0.0651\n",
            "Epoch 100/100\n",
            "2/2 [==============================] - 0s 17ms/step - loss: 0.0251 - val_loss: 0.0635\n"
          ],
          "name": "stdout"
        },
        {
          "output_type": "execute_result",
          "data": {
            "text/plain": [
              "<tensorflow.python.keras.callbacks.History at 0x7f5d67e14550>"
            ]
          },
          "metadata": {
            "tags": []
          },
          "execution_count": 44
        }
      ]
    },
    {
      "cell_type": "markdown",
      "metadata": {
        "id": "k4ocL2CLJLXg",
        "colab_type": "text"
      },
      "source": [
        "# Predicted the test data \n",
        "\n",
        "*   Must also plot the output\n",
        "\n"
      ]
    },
    {
      "cell_type": "code",
      "metadata": {
        "id": "aBny6cUkO4xC",
        "colab_type": "code",
        "colab": {
          "base_uri": "https://localhost:8080/",
          "height": 35
        },
        "outputId": "b006f326-7e90-4caa-bdb1-eff79b9998e9"
      },
      "source": [
        "# Prediction and check performance metric\n",
        "train_predict = model.predict(X_train)\n",
        "test_predict = model.predict(X_test)\n",
        "train_predict.shape\n",
        "test_predict.shape"
      ],
      "execution_count": 45,
      "outputs": [
        {
          "output_type": "execute_result",
          "data": {
            "text/plain": [
              "(16, 1)"
            ]
          },
          "metadata": {
            "tags": []
          },
          "execution_count": 45
        }
      ]
    },
    {
      "cell_type": "code",
      "metadata": {
        "id": "b7ocuWlpPIEA",
        "colab_type": "code",
        "colab": {
          "base_uri": "https://localhost:8080/",
          "height": 35
        },
        "outputId": "ea1d3e23-3f79-4bd5-a40b-b03bb0f2f9bb"
      },
      "source": [
        "# Transform back to original form\n",
        "train_predict=scaler.inverse_transform(train_predict)\n",
        "test_predict=scaler.inverse_transform(test_predict)\n",
        "train_predict.shape"
      ],
      "execution_count": 46,
      "outputs": [
        {
          "output_type": "execute_result",
          "data": {
            "text/plain": [
              "(79, 1)"
            ]
          },
          "metadata": {
            "tags": []
          },
          "execution_count": 46
        }
      ]
    },
    {
      "cell_type": "code",
      "metadata": {
        "id": "DHXXILzqPUHQ",
        "colab_type": "code",
        "colab": {
          "base_uri": "https://localhost:8080/",
          "height": 35
        },
        "outputId": "3e944d74-287a-4676-fe92-354d74aca359"
      },
      "source": [
        "# Calculate the RMSE performance metrics\n",
        "# Output for the train dataset\n",
        "import math\n",
        "from sklearn.metrics import mean_squared_error\n",
        "math.sqrt(mean_squared_error(Y_train, train_predict))"
      ],
      "execution_count": 47,
      "outputs": [
        {
          "output_type": "execute_result",
          "data": {
            "text/plain": [
              "0.7526478197194026"
            ]
          },
          "metadata": {
            "tags": []
          },
          "execution_count": 47
        }
      ]
    },
    {
      "cell_type": "code",
      "metadata": {
        "id": "fFNm7l86Pt_7",
        "colab_type": "code",
        "colab": {
          "base_uri": "https://localhost:8080/",
          "height": 35
        },
        "outputId": "bdcd97e0-e6da-45eb-8658-30584aa432a3"
      },
      "source": [
        "# Similarly for the test Data RMSE\n",
        "math.sqrt(mean_squared_error(Y_test, test_predict))"
      ],
      "execution_count": 48,
      "outputs": [
        {
          "output_type": "execute_result",
          "data": {
            "text/plain": [
              "0.3542122651407643"
            ]
          },
          "metadata": {
            "tags": []
          },
          "execution_count": 48
        }
      ]
    },
    {
      "cell_type": "markdown",
      "metadata": {
        "id": "-nSW23ryI8RU",
        "colab_type": "text"
      },
      "source": [
        "# Predicted future 7 days and plotted the output"
      ]
    },
    {
      "cell_type": "code",
      "metadata": {
        "id": "wIaC4DB2UV6P",
        "colab_type": "code",
        "colab": {
          "base_uri": "https://localhost:8080/",
          "height": 439
        },
        "outputId": "b95da982-d32d-4b44-90b1-043e5aa8ffc5"
      },
      "source": [
        "# Plotting\n",
        "# Find out what all of this means?\n",
        "\n",
        "look_back = 7\n",
        "\n",
        "# empty_like: Return a new array with the same shape and type as a given array.\n",
        "# np.nan: Replect all with nan? What does this mean?\n",
        "# What does this do?? 7: predict.length() + 7, :\n",
        "\n",
        "trainPredictPlot = np.empty_like(new_dataset)\n",
        "trainPredictPlot[:,:]= np.nan\n",
        "trainPredictPlot[look_back:len(train_predict)+look_back, :] = train_predict\n",
        "print(trainPredictPlot.shape)\n",
        "\n",
        "# empty_like: Return a new array with the same shape and type as a given array.\n",
        "# np.nan: Replect all with nan? What does this mean?\n",
        "# Dont understand what this is doing\n",
        "# What does this do?? predict.length() + (7*2) +2 :(training_size + test_size)] = test_predict\n",
        "\n",
        "testPredictPlot = np.empty_like(new_dataset)\n",
        "testPredictPlot[:,:]= np.nan\n",
        "testPredictPlot[len(train_predict)+(look_back*2)+1: (training_size + test_size)] = test_predict\n",
        "# new_dataset[training_size:(training_size + test_size)]\n",
        "print(testPredictPlot.shape)\n",
        "\n",
        "# Plot baseline and predictions\n",
        "plt.title('Analysis of train, test and actual')\n",
        "plt.plot(scaler.inverse_transform(new_dataset), label=\"actual dataset\")\n",
        "\n",
        "# plt.plot(train_predict)\n",
        "# plt.plot(test_predict)\n",
        "\n",
        "trainPredictPlot = [item[1] for item in trainPredictPlot] \n",
        "plt.plot(trainPredictPlot, label=\"train_predict\")\n",
        "testPredictPlot = [item[1] for item in testPredictPlot] \n",
        "plt.plot(testPredictPlot, label=\"test_predict\")\n",
        "\n",
        "# as you can see th test data and train is divided because we want to test after a specific day\n",
        "# plt.plot(testPredictPlot, label=\"test_predict\")\n",
        "plt.ylabel('Forex price & US Death Rates')\n",
        "plt.xlabel('Date')\n",
        "plt.legend()\n",
        "plt.show()\n",
        "# Printing 2 actual_dataset, train_predict, test_predict because 2 input layers"
      ],
      "execution_count": 49,
      "outputs": [
        {
          "output_type": "stream",
          "text": [
            "(134, 2)\n",
            "(134, 2)\n"
          ],
          "name": "stdout"
        },
        {
          "output_type": "display_data",
          "data": {
            "image/png": "[encoded data removed]",
            "text/plain": [
              "<Figure size 1080x432 with 1 Axes>"
            ]
          },
          "metadata": {
            "tags": []
          }
        }
      ]
    },
    {
      "cell_type": "markdown",
      "metadata": {
        "id": "Fc6YFJvQjBGu",
        "colab_type": "text"
      },
      "source": [
        "# Custom 4 day predictiom\n",
        "\n",
        "\n",
        "*   Training train data to predict future days and evaluating the accuracy on validation data.\n",
        "*   Training train data to predict future days, no way of evaluating however this can tell us what is likely to occur.\n",
        "\n"
      ]
    },
    {
      "cell_type": "markdown",
      "metadata": {
        "id": "BqOPOF02jlRd",
        "colab_type": "text"
      },
      "source": [
        "### Using last 7 days of training data to predict the future custom days(4). "
      ]
    },
    {
      "cell_type": "code",
      "metadata": {
        "id": "yws-gX7RTB3Z",
        "colab_type": "code",
        "colab": {
          "base_uri": "https://localhost:8080/",
          "height": 143
        },
        "outputId": "287f3a72-0fae-41b2-94ac-b556f7758256"
      },
      "source": [
        "# What does this do?\n",
        "X_input=test_data[40:].reshape(1,-1)\n",
        "X_input.shape\n",
        "temp_input = train_data[-7:]\n",
        "temp_input\n"
      ],
      "execution_count": 50,
      "outputs": [
        {
          "output_type": "execute_result",
          "data": {
            "text/plain": [
              "array([[0.05753473, 0.44532131],\n",
              "       [0.0658916 , 0.61217587],\n",
              "       [0.07456764, 0.75253664],\n",
              "       [0.08383321, 0.80101466],\n",
              "       [0.09400989, 0.92784667],\n",
              "       [0.10444046, 0.88105975],\n",
              "       [0.11526232, 0.82750846]])"
            ]
          },
          "metadata": {
            "tags": []
          },
          "execution_count": 50
        }
      ]
    },
    {
      "cell_type": "code",
      "metadata": {
        "id": "CHAxzKyuTp5-",
        "colab_type": "code",
        "colab": {
          "base_uri": "https://localhost:8080/",
          "height": 35
        },
        "outputId": "769d8668-6eeb-402d-be7e-baaf1c04035d"
      },
      "source": [
        "# Demonstrate prediction for the next 4 days:\n",
        "\n",
        "# Step 1. 7 days of feature = temp_input taken from the last 7 days of the training set\n",
        "# Step 2  i is the day you are on and we want to predict 4 days: 0,1,2,3 (4 days)\n",
        "# Step 3. Predict the 8th day on each of the 7 days,\n",
        "# Step 4. Add this new predicted day to the list\n",
        "# Step 5. Because we are now taking in the last 7 days + the new predicted value, the list is now size 8  \n",
        "# Step 6. In order to take in 7 days at a time, we shift 1 to the right.\n",
        "# Step 7. We reassign the X_train to the new 7 days\n",
        "# Step 8. We predict the 8th day of the 7 days and continue the process\n",
        "# Step 9. We then add the 8th day to the output list\n",
        "# Step 10. We keep track of the 4 days by incrementing by i at the end-> i = i+1\n",
        "# Step 11. Once we have predicted the 4 days, we return the list of 4 day values.\n",
        "\n",
        "from numpy import array\n",
        "custom_day = 4\n",
        "lst_output=[]\n",
        "n_steps=7\n",
        "i=0\n",
        "X_input = temp_input\n",
        "while(i<custom_day):\n",
        "  if(len(temp_input)>7):\n",
        "    # print(temp_input)  \n",
        "    X_input=array(temp_input[1:])\n",
        "    # print(\"{} day input {}\".format(i,X_input))\n",
        "    # Correct input shape (1,7,2)\n",
        "    X_input=X_input.reshape((1,n_steps,2))\n",
        "    # Prediction of X_input\n",
        "    Y_hat = model.predict(X_input)\n",
        "    temp_input = np.append(temp_input, Y_hat)\n",
        "    temp_input=temp_input[1:]\n",
        "    lst_output.append(Y_hat[0][0])\n",
        "    i=i+1\n",
        "  else:\n",
        "    X_input=X_input.reshape((1,n_steps,2))\n",
        "    Y_hat = model.predict(X_input, verbose=0)\n",
        "    temp_input = np.append(temp_input, Y_hat)\n",
        "    lst_output.append(Y_hat[0][0])\n",
        "    i=i+1\n",
        "\n",
        "# Print the predicted forex price for the next 4 days \n",
        "print(lst_output)"
      ],
      "execution_count": 51,
      "outputs": [
        {
          "output_type": "stream",
          "text": [
            "[0.55538696, 0.39739, 0.57212806, 0.40664804]\n"
          ],
          "name": "stdout"
        }
      ]
    },
    {
      "cell_type": "markdown",
      "metadata": {
        "id": "-0DCdCn2jwxO",
        "colab_type": "text"
      },
      "source": [
        "### Plotting evaluation on graph. Training output versus first 4 days of the validation data."
      ]
    },
    {
      "cell_type": "code",
      "metadata": {
        "id": "z_5opaqHfcZt",
        "colab_type": "code",
        "colab": {
          "base_uri": "https://localhost:8080/",
          "height": 439
        },
        "outputId": "3cb812e0-bd24-474f-e199-b69e4bb7363f"
      },
      "source": [
        "# Custom day plotted\n",
        "day_new = custom_day-1\n",
        "\n",
        "# Predicted 4 days from training\n",
        "# Plot and label\n",
        "# Transform back to original value before normalised\n",
        "custom_day_prediction = np.array(lst_output)\n",
        "print(custom_day_prediction)\n",
        "plt.plot(custom_day_prediction, label=\"Predicted\")\n",
        "plt.plot(day_new, scaler.inverse_transform([custom_day_prediction]))\n",
        "\n",
        "# Actual 4 days from validation\n",
        "# Plot and label\n",
        "# Transform back to original value before normalised\n",
        "val_data = [item[1] for item in valset_data] \n",
        "custom_day_validation = val_data[:custom_day]\n",
        "print(custom_day_validation)\n",
        "plt.plot(custom_day_validation, label=\"Actual\")\n",
        "plt.plot(day_new, scaler.inverse_transform([custom_day_validation]))\n",
        "\n",
        "# Information\n",
        "plt.title('Predicted custom day from training data versus actual custom day from validation data')\n",
        "plt.xlabel('Number of custom days')\n",
        "plt.ylabel('Price')\n",
        "plt.legend()\n",
        "plt.show()"
      ],
      "execution_count": 52,
      "outputs": [
        {
          "output_type": "stream",
          "text": [
            "[0.55538696 0.39739    0.57212806 0.40664804]\n",
            "[0.7807215332581725, 0.746899661781284, 0.7130777903043954, 0.7519729425028183]\n"
          ],
          "name": "stdout"
        },
        {
          "output_type": "display_data",
          "data": {
            "image/png": "[encoded data removed]",
            "text/plain": [
              "<Figure size 1080x432 with 1 Axes>"
            ]
          },
          "metadata": {
            "tags": []
          }
        }
      ]
    },
    {
      "cell_type": "markdown",
      "metadata": {
        "id": "7yeUnymrkAP-",
        "colab_type": "text"
      },
      "source": [
        "### Using last 7 days of test data to predict the future custom days(4). "
      ]
    },
    {
      "cell_type": "code",
      "metadata": {
        "id": "mbCJkfBQX-wU",
        "colab_type": "code",
        "colab": {}
      },
      "source": [
        "# Create a method that predicts the number of days after the training data\n",
        "\n",
        "def custom_day_create_dataset(dataset, time_step):\n",
        "  dataX, dataY = [],[]\n",
        "  for i in range(len(dataset)-time_step-1):\n",
        "    a = dataset[i:(i+time_step)]  # i=0, 0,1,2,3\n",
        "    # print(a)\n",
        "    dataX.append(a)\n",
        "    y = dataset[i + time_step][1] \n",
        "    dataY.append(y)\n",
        "    i = i+1\n",
        "  return np.array(dataX), np.array(dataY)"
      ],
      "execution_count": 53,
      "outputs": []
    },
    {
      "cell_type": "code",
      "metadata": {
        "id": "sHxptiQoYCa4",
        "colab_type": "code",
        "colab": {
          "base_uri": "https://localhost:8080/",
          "height": 71
        },
        "outputId": "f60a6357-61cb-4216-c90e-0d617297a771"
      },
      "source": [
        "X_test_custom_day, X_test_custom_day = custom_day_create_dataset(valset_data, custom_day)\n",
        "print(X_test_custom_day)"
      ],
      "execution_count": 54,
      "outputs": [
        {
          "output_type": "stream",
          "text": [
            "[0.7886133  0.79932356 0.85625705 0.81285231 0.83652762 0.78579481\n",
            " 0.80834273 0.85231116 0.85794814 0.87936866 0.87936866 0.83089064\n",
            " 0.82638106 0.80496054 0.79255919 0.81341601 0.85400225 0.87034949]\n"
          ],
          "name": "stdout"
        }
      ]
    },
    {
      "cell_type": "code",
      "metadata": {
        "id": "IeOGd1UPV8jG",
        "colab_type": "code",
        "colab": {}
      },
      "source": [
        "# What we have:\n",
        "# day_new=np.arange(1,8)\n",
        "# print(day_new)\n",
        "# What we want to predict:\n",
        "# day_pred=np.arange(8,12)\n",
        "# print(day_pred)"
      ],
      "execution_count": 55,
      "outputs": []
    },
    {
      "cell_type": "code",
      "metadata": {
        "id": "9X1xZG9bWNx_",
        "colab_type": "code",
        "colab": {
          "base_uri": "https://localhost:8080/",
          "height": 421
        },
        "outputId": "29752e6a-a301-48aa-80f5-24094b17c223"
      },
      "source": [
        "# Custom day plotted\n",
        "day_new = custom_day-1\n",
        "\n",
        "# Predicted 4 days from training\n",
        "# Plot and label\n",
        "# Transform back to original value before normalised\n",
        "custom_day_prediction = np.array(lst_output)\n",
        "print(custom_day_prediction)\n",
        "plt.plot(custom_day_prediction, label=\"Predicted\")\n",
        "plt.plot(day_new, scaler.inverse_transform([custom_day_prediction]))\n",
        "\n",
        "# Actual 4 days from validation\n",
        "# Plot and label\n",
        "# Transform back to original value before normalised\n",
        "# Start on 4 instead\n",
        "val_data = [item[1] for item in valset_data] \n",
        "custom_day_validation = val_data[custom_day:]\n",
        "plt.plot(custom_day_validation, label=\"Actual\")\n",
        "plt.plot(day_new, scaler.inverse_transform([custom_day_validation]))\n",
        "\n",
        "# Information\n",
        "plt.title('Predicted custom day from training data versus actual custom day from validation data')\n",
        "plt.xlabel('Number of custom days')\n",
        "plt.ylabel('Price')\n",
        "plt.legend()\n",
        "plt.show()\n",
        "\n"
      ],
      "execution_count": 56,
      "outputs": [
        {
          "output_type": "stream",
          "text": [
            "[0.55538696 0.39739    0.57212806 0.40664804]\n"
          ],
          "name": "stdout"
        },
        {
          "output_type": "display_data",
          "data": {
            "image/png": "[encoded data removed]",
            "text/plain": [
              "<Figure size 1080x432 with 1 Axes>"
            ]
          },
          "metadata": {
            "tags": []
          }
        }
      ]
    },
    {
      "cell_type": "markdown",
      "metadata": {
        "id": "e0ToGKGckolv",
        "colab_type": "text"
      },
      "source": [
        "# Hyperparameter Tuning Implementation\n",
        "\n",
        "Now we have the basic framework in place: we will use cross validation to determine the performance of model hyperparameters and early stopping with the GBM so we do not have to tune the number of estimators. The basic strategy for both grid and random search is simple: for each hyperparameter value combination, evaluate the cross validation score and record the results along with the hyperparameters. Then, at the end of searching, choose the hyperparameters that yielded the highest cross-validation score, train the model on all the training data, and make predictions on the test data.\n",
        "*   Gradient Boosting Machine (GBM)\n",
        "*   Grid Search\n",
        "*   Random Search\n",
        "*   Checkpoint\n",
        "\n",
        "To \"test\" the tuning results, we will save some of the training data, 6000 rows, as a separate testing set. When we do hyperparameter tuning, it's crucial to not tune the hyperparameters on the testing data. We can only use the testing data a single time when we evaluate the final model that has been tuned on the validation data. To actually test our methods from this notebook, we would need to train the best model on all of the training data, make predictions on the actual testing data, and then submit our answers to the competition.\n"
      ]
    },
    {
      "cell_type": "markdown",
      "metadata": {
        "id": "Q4MjbJvWmd3A",
        "colab_type": "text"
      },
      "source": [
        "## Four parts of Hyperparameter tuning\n",
        "It's helpful to think of hyperparameter tuning as having four parts:\n",
        "\n",
        "1.   Objective function: a function that takes in hyperparameters and returns a score we are trying to minimize or maximize\n",
        "2.   Domain: the set of hyperparameter values over which we want to search.\n",
        "3.   Algorithm: method for selecting the next set of hyperparameters to evaluate in the objective function.\n",
        "Results history: data structure containing each set of hyperparameters and the resulting score from the objective function.\n",
        "4.   Switching from grid to random search to Bayesian optimization will only require making minor modifications to these four parts."
      ]
    },
    {
      "cell_type": "code",
      "metadata": {
        "id": "Mv49e3RwueGR",
        "colab_type": "code",
        "colab": {}
      },
      "source": [
        "# Modeling\n",
        "import lightgbm as lgb\n",
        "\n",
        "N_FOLDS = 5\n",
        "MAX_EVALS = 5"
      ],
      "execution_count": 60,
      "outputs": []
    },
    {
      "cell_type": "markdown",
      "metadata": {
        "id": "yUKe934Gu88q",
        "colab_type": "text"
      },
      "source": [
        "## Early stopping for now"
      ]
    },
    {
      "cell_type": "code",
      "metadata": {
        "id": "0dn0gZPtu8OQ",
        "colab_type": "code",
        "colab": {
          "base_uri": "https://localhost:8080/",
          "height": 370
        },
        "outputId": "12e359b7-2790-42b1-af5c-7b6aa3261da0"
      },
      "source": [
        "# Get default hyperparameters\n",
        "model = lgb.LGBMClassifier()\n",
        "default_params = model.get_params()\n",
        "\n",
        "# Remove the number of estimators because we set this to 10000 in the cv call\n",
        "del default_params['n_estimators']\n",
        "\n",
        "# Cross validation with early stopping\n",
        "cv_results = lgb.cv(default_params, train_data, num_boost_round = 10000, early_stopping_rounds = 100, metrics = 'auc', nfold = N_FOLDS, seed = 42)"
      ],
      "execution_count": 61,
      "outputs": [
        {
          "output_type": "error",
          "ename": "TypeError",
          "evalue": "ignored",
          "traceback": [
            "\u001b[0;31m---------------------------------------------------------------------------\u001b[0m",
            "\u001b[0;31mTypeError\u001b[0m                                 Traceback (most recent call last)",
            "\u001b[0;32m<ipython-input-61-85c0b9ac2989>\u001b[0m in \u001b[0;36m<module>\u001b[0;34m()\u001b[0m\n\u001b[1;32m      8\u001b[0m \u001b[0;31m# Cross validation with early stopping\u001b[0m\u001b[0;34m\u001b[0m\u001b[0;34m\u001b[0m\u001b[0;34m\u001b[0m\u001b[0m\n\u001b[1;32m      9\u001b[0m cv_results = lgb.cv(default_params, train_data, num_boost_round = 10000, early_stopping_rounds = 100, \n\u001b[0;32m---> 10\u001b[0;31m                     metrics = 'auc', nfold = N_FOLDS, seed = 42)\n\u001b[0m",
            "\u001b[0;32m/usr/local/lib/python3.6/dist-packages/lightgbm/engine.py\u001b[0m in \u001b[0;36mcv\u001b[0;34m(params, train_set, num_boost_round, folds, nfold, stratified, shuffle, metrics, fobj, feval, init_model, feature_name, categorical_feature, early_stopping_rounds, fpreproc, verbose_eval, show_stdv, seed, callbacks)\u001b[0m\n\u001b[1;32m    420\u001b[0m     \"\"\"\n\u001b[1;32m    421\u001b[0m     \u001b[0;32mif\u001b[0m \u001b[0;32mnot\u001b[0m \u001b[0misinstance\u001b[0m\u001b[0;34m(\u001b[0m\u001b[0mtrain_set\u001b[0m\u001b[0;34m,\u001b[0m \u001b[0mDataset\u001b[0m\u001b[0;34m)\u001b[0m\u001b[0;34m:\u001b[0m\u001b[0;34m\u001b[0m\u001b[0;34m\u001b[0m\u001b[0m\n\u001b[0;32m--> 422\u001b[0;31m         \u001b[0;32mraise\u001b[0m \u001b[0mTypeError\u001b[0m\u001b[0;34m(\u001b[0m\u001b[0;34m\"Traninig only accepts Dataset object\"\u001b[0m\u001b[0;34m)\u001b[0m\u001b[0;34m\u001b[0m\u001b[0;34m\u001b[0m\u001b[0m\n\u001b[0m\u001b[1;32m    423\u001b[0m \u001b[0;34m\u001b[0m\u001b[0m\n\u001b[1;32m    424\u001b[0m     \u001b[0mparams\u001b[0m \u001b[0;34m=\u001b[0m \u001b[0mcopy\u001b[0m\u001b[0;34m.\u001b[0m\u001b[0mdeepcopy\u001b[0m\u001b[0;34m(\u001b[0m\u001b[0mparams\u001b[0m\u001b[0;34m)\u001b[0m\u001b[0;34m\u001b[0m\u001b[0;34m\u001b[0m\u001b[0m\n",
            "\u001b[0;31mTypeError\u001b[0m: Traninig only accepts Dataset object"
          ]
        }
      ]
    },
    {
      "cell_type": "markdown",
      "metadata": {
        "id": "TAcXOb6iv-In",
        "colab_type": "text"
      },
      "source": [
        ""
      ]
    },
    {
      "cell_type": "code",
      "metadata": {
        "id": "YcDsngNhv-Ot",
        "colab_type": "code",
        "colab": {}
      },
      "source": [
        "print('The maximum validation ROC AUC was: {:.5f} with a standard deviation of {:.5f}.'.format(cv_results['auc-mean'][-1], cv_results['auc-stdv'][-1]))\n",
        "print('The optimal number of boosting rounds (estimators) was {}.'.format(len(cv_results['auc-mean'])))"
      ],
      "execution_count": null,
      "outputs": []
    },
    {
      "cell_type": "markdown",
      "metadata": {
        "id": "9OAbxpdnkwt9",
        "colab_type": "text"
      },
      "source": [
        "## # Method 1: Grid Seach\n",
        "\n",
        "\n",
        "*   We try every combination of a preset list of values of the hyper-parameters and evaluate the model for each combination\n",
        "*   All values are placed in the form of a matrix\n",
        "*   Each set of parameters is taken into consideration ad the accuracy is noted.\n",
        "*   Once all combinations are evaluated, the model with the set of parameters which give the top accuracy is considered the best.\n",
        "\n"
      ]
    },
    {
      "cell_type": "code",
      "metadata": {
        "id": "74NTSbChm-ff",
        "colab_type": "code",
        "colab": {}
      },
      "source": [
        "def objective(hyperparameters, iteration):\n",
        "    \"\"\"Objective function for grid and random search. Returns\n",
        "       the cross validation score from a set of hyperparameters.\"\"\"\n",
        "    \n",
        "    # Number of estimators will be found using early stopping\n",
        "    if 'n_estimators' in hyperparameters.keys():\n",
        "        del hyperparameters['n_estimators']\n",
        "    \n",
        "     # Perform n_folds cross validation\n",
        "    cv_results = lgb.cv(hyperparameters, train_set, num_boost_round = 10000, nfold = N_FOLDS, \n",
        "                        early_stopping_rounds = 100, metrics = 'auc', seed = 42)\n",
        "    \n",
        "    # results to retun\n",
        "    score = cv_results['auc-mean'][-1]\n",
        "    estimators = len(cv_results['auc-mean'])\n",
        "    hyperparameters['n_estimators'] = estimators \n",
        "    \n",
        "    return [score, hyperparameters, iteration]"
      ],
      "execution_count": 58,
      "outputs": []
    },
    {
      "cell_type": "code",
      "metadata": {
        "id": "S5fVCI9bm31L",
        "colab_type": "code",
        "colab": {
          "base_uri": "https://localhost:8080/",
          "height": 226
        },
        "outputId": "583332d1-0699-457f-d7ee-92cbfe02a583"
      },
      "source": [
        "com = 1\n",
        "for x in param_grid.values():\n",
        "    com *= len(x)\n",
        "print('There are {} combinations'.format(com))"
      ],
      "execution_count": 59,
      "outputs": [
        {
          "output_type": "error",
          "ename": "NameError",
          "evalue": "ignored",
          "traceback": [
            "\u001b[0;31m---------------------------------------------------------------------------\u001b[0m",
            "\u001b[0;31mNameError\u001b[0m                                 Traceback (most recent call last)",
            "\u001b[0;32m<ipython-input-59-7d669f0c14df>\u001b[0m in \u001b[0;36m<module>\u001b[0;34m()\u001b[0m\n\u001b[1;32m      1\u001b[0m \u001b[0mcom\u001b[0m \u001b[0;34m=\u001b[0m \u001b[0;36m1\u001b[0m\u001b[0;34m\u001b[0m\u001b[0;34m\u001b[0m\u001b[0m\n\u001b[0;32m----> 2\u001b[0;31m \u001b[0;32mfor\u001b[0m \u001b[0mx\u001b[0m \u001b[0;32min\u001b[0m \u001b[0mparam_grid\u001b[0m\u001b[0;34m.\u001b[0m\u001b[0mvalues\u001b[0m\u001b[0;34m(\u001b[0m\u001b[0;34m)\u001b[0m\u001b[0;34m:\u001b[0m\u001b[0;34m\u001b[0m\u001b[0;34m\u001b[0m\u001b[0m\n\u001b[0m\u001b[1;32m      3\u001b[0m     \u001b[0mcom\u001b[0m \u001b[0;34m*=\u001b[0m \u001b[0mlen\u001b[0m\u001b[0;34m(\u001b[0m\u001b[0mx\u001b[0m\u001b[0;34m)\u001b[0m\u001b[0;34m\u001b[0m\u001b[0;34m\u001b[0m\u001b[0m\n\u001b[1;32m      4\u001b[0m \u001b[0mprint\u001b[0m\u001b[0;34m(\u001b[0m\u001b[0;34m'There are {} combinations'\u001b[0m\u001b[0;34m.\u001b[0m\u001b[0mformat\u001b[0m\u001b[0;34m(\u001b[0m\u001b[0mcom\u001b[0m\u001b[0;34m)\u001b[0m\u001b[0;34m)\u001b[0m\u001b[0;34m\u001b[0m\u001b[0;34m\u001b[0m\u001b[0m\n",
            "\u001b[0;31mNameError\u001b[0m: name 'param_grid' is not defined"
          ]
        }
      ]
    },
    {
      "cell_type": "markdown",
      "metadata": {
        "id": "6vW3FMGFlUoo",
        "colab_type": "text"
      },
      "source": [
        "## #Method 2: Random Search\n",
        "\n",
        "\n",
        "*   Random Search is a technique where random combinations of the hyperparameters are used to find the best solution for the model. It tried random combinations of range of values. \n",
        "*   To optimise with random search, the function is evaluated at some number of random configurations in the parameter space.\n",
        "\n"
      ]
    },
    {
      "cell_type": "markdown",
      "metadata": {
        "id": "7o0GfssHMvIL",
        "colab_type": "text"
      },
      "source": [
        "# Conclusion and next steps\n",
        "We explored the LSTM algorithms:\n",
        "\n",
        "*   List item\n",
        "*   List item\n",
        "\n",
        "\n",
        "In conclusion it seems that .."
      ]
    }
  ]
}