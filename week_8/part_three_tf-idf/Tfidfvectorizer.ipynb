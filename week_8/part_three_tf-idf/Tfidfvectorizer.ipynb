{
  "nbformat": 4,
  "nbformat_minor": 0,
  "metadata": {
    "colab": {
      "name": "Tfidfvectorizer.ipynb",
      "provenance": [],
      "collapsed_sections": [],
      "toc_visible": true
    },
    "kernelspec": {
      "name": "python3",
      "display_name": "Python 3"
    },
    "accelerator": "GPU"
  },
  "cells": [
    {
      "cell_type": "markdown",
      "metadata": {
        "id": "QDwKjRxZeQnx",
        "colab_type": "text"
      },
      "source": [
        "# Notes for user:\n",
        "\n",
        "*   While ubiquitous, textual sources of information such as company reports, social media posts, etc. are hardly\n",
        "included in prediction algorithms for time series, despite the relevant information they may contain. \n",
        "*   In this model, daily news headlines and tweets filtering of USA, Britian and COVID-19 are leveraged to predict time series of USD/GBP with a single pipeline.\n",
        "*   Two methods of numerical representation of text are considered, namely traditional Term Frequency - \n",
        "Inverse Document Frequency (TF-IDF) and Count Vectorize.\n",
        "*   Corpus: Collection of documents\n",
        "\n"
      ]
    },
    {
      "cell_type": "markdown",
      "metadata": {
        "id": "fjs4sLGCc8en",
        "colab_type": "text"
      },
      "source": [
        "# Importing News Headings API\n"
      ]
    },
    {
      "cell_type": "code",
      "metadata": {
        "id": "NiVE1yQZI6oe",
        "colab_type": "code",
        "colab": {
          "base_uri": "https://localhost:8080/",
          "height": 377
        },
        "outputId": "5509caec-1302-4024-ccb5-93d44097eab7"
      },
      "source": [
        "!pip install pandas OpenBlender matplotlib wordcloud"
      ],
      "execution_count": null,
      "outputs": [
        {
          "output_type": "stream",
          "text": [
            "Requirement already satisfied: pandas in /usr/local/lib/python3.6/dist-packages (1.0.5)\n",
            "Requirement already satisfied: OpenBlender in /usr/local/lib/python3.6/dist-packages (1.16)\n",
            "Requirement already satisfied: matplotlib in /usr/local/lib/python3.6/dist-packages (3.2.2)\n",
            "Requirement already satisfied: wordcloud in /usr/local/lib/python3.6/dist-packages (1.5.0)\n",
            "Requirement already satisfied: pytz>=2017.2 in /usr/local/lib/python3.6/dist-packages (from pandas) (2018.9)\n",
            "Requirement already satisfied: python-dateutil>=2.6.1 in /usr/local/lib/python3.6/dist-packages (from pandas) (2.8.1)\n",
            "Requirement already satisfied: numpy>=1.13.3 in /usr/local/lib/python3.6/dist-packages (from pandas) (1.18.5)\n",
            "Requirement already satisfied: requests in /usr/local/lib/python3.6/dist-packages (from OpenBlender) (2.23.0)\n",
            "Requirement already satisfied: datetime in /usr/local/lib/python3.6/dist-packages (from OpenBlender) (4.3)\n",
            "Requirement already satisfied: pyparsing!=2.0.4,!=2.1.2,!=2.1.6,>=2.0.1 in /usr/local/lib/python3.6/dist-packages (from matplotlib) (2.4.7)\n",
            "Requirement already satisfied: kiwisolver>=1.0.1 in /usr/local/lib/python3.6/dist-packages (from matplotlib) (1.2.0)\n",
            "Requirement already satisfied: cycler>=0.10 in /usr/local/lib/python3.6/dist-packages (from matplotlib) (0.10.0)\n",
            "Requirement already satisfied: pillow in /usr/local/lib/python3.6/dist-packages (from wordcloud) (7.0.0)\n",
            "Requirement already satisfied: six>=1.5 in /usr/local/lib/python3.6/dist-packages (from python-dateutil>=2.6.1->pandas) (1.15.0)\n",
            "Requirement already satisfied: chardet<4,>=3.0.2 in /usr/local/lib/python3.6/dist-packages (from requests->OpenBlender) (3.0.4)\n",
            "Requirement already satisfied: idna<3,>=2.5 in /usr/local/lib/python3.6/dist-packages (from requests->OpenBlender) (2.10)\n",
            "Requirement already satisfied: certifi>=2017.4.17 in /usr/local/lib/python3.6/dist-packages (from requests->OpenBlender) (2020.6.20)\n",
            "Requirement already satisfied: urllib3!=1.25.0,!=1.25.1,<1.26,>=1.21.1 in /usr/local/lib/python3.6/dist-packages (from requests->OpenBlender) (1.24.3)\n",
            "Requirement already satisfied: zope.interface in /usr/local/lib/python3.6/dist-packages (from datetime->OpenBlender) (5.1.0)\n",
            "Requirement already satisfied: setuptools in /usr/local/lib/python3.6/dist-packages (from zope.interface->datetime->OpenBlender) (49.1.0)\n"
          ],
          "name": "stdout"
        }
      ]
    },
    {
      "cell_type": "code",
      "metadata": {
        "id": "zFAGMlu2Jy_d",
        "colab_type": "code",
        "colab": {
          "base_uri": "https://localhost:8080/",
          "height": 306
        },
        "outputId": "1f797ad3-6e8f-4b6d-b893-237f1cd4fac8"
      },
      "source": [
        "import OpenBlender\n",
        "import pandas as pd\n",
        "import json\n",
        "\n",
        "action = 'API_getObservationsFromDataset'\n",
        "\n",
        "# ANCHOR: 'USD/GBP'\n",
        "\n",
        "parameters = { \n",
        "  'token':'YOUR TOKEN',\n",
        "\t'id_dataset':'5f1db9989516291eeabd3c71',\n",
        "\t'consumption_confirmation':'on',\n",
        "\t'blends':[] \n",
        "}\n",
        "        \n",
        "us_gbp = pd.read_json(json.dumps(OpenBlender.call(action, parameters)['sample']), convert_dates=False, convert_axes=False).sort_values('timestamp', ascending=False)\n",
        "us_gbp.reset_index(drop=True, inplace=True)\n",
        "us_gbp.head()\n",
        "us_gbp.tail()"
      ],
      "execution_count": null,
      "outputs": [
        {
          "output_type": "stream",
          "text": [
            "Task ID: '5f1ef08d0895fafb4a9d8d4b'.\n",
            "Total estimated consumption: 20376.99 processing units.\n",
            "Continue?  [y] yes \t [n] noy\n",
            "Task confirmed. Starting download..\n",
            "CSV will be stored in: 1595863184.3663752.csv\n",
            "100.0 % completed.\n"
          ],
          "name": "stdout"
        },
        {
          "output_type": "execute_result",
          "data": {
            "text/html": [
              "<div>\n",
              "<style scoped>\n",
              "    .dataframe tbody tr th:only-of-type {\n",
              "        vertical-align: middle;\n",
              "    }\n",
              "\n",
              "    .dataframe tbody tr th {\n",
              "        vertical-align: top;\n",
              "    }\n",
              "\n",
              "    .dataframe thead th {\n",
              "        text-align: right;\n",
              "    }\n",
              "</style>\n",
              "<table border=\"1\" class=\"dataframe\">\n",
              "  <thead>\n",
              "    <tr style=\"text-align: right;\">\n",
              "      <th></th>\n",
              "      <th>timestamp</th>\n",
              "      <th>spot_price</th>\n",
              "    </tr>\n",
              "  </thead>\n",
              "  <tbody>\n",
              "    <tr>\n",
              "      <th>369</th>\n",
              "      <td>1549411200</td>\n",
              "      <td>1.2963</td>\n",
              "    </tr>\n",
              "    <tr>\n",
              "      <th>370</th>\n",
              "      <td>1549324800</td>\n",
              "      <td>1.2940</td>\n",
              "    </tr>\n",
              "    <tr>\n",
              "      <th>371</th>\n",
              "      <td>1549238400</td>\n",
              "      <td>1.3085</td>\n",
              "    </tr>\n",
              "    <tr>\n",
              "      <th>372</th>\n",
              "      <td>1548979200</td>\n",
              "      <td>1.3093</td>\n",
              "    </tr>\n",
              "    <tr>\n",
              "      <th>373</th>\n",
              "      <td>1548892800</td>\n",
              "      <td>1.3152</td>\n",
              "    </tr>\n",
              "  </tbody>\n",
              "</table>\n",
              "</div>"
            ],
            "text/plain": [
              "      timestamp  spot_price\n",
              "369  1549411200      1.2963\n",
              "370  1549324800      1.2940\n",
              "371  1549238400      1.3085\n",
              "372  1548979200      1.3093\n",
              "373  1548892800      1.3152"
            ]
          },
          "metadata": {
            "tags": []
          },
          "execution_count": 13
        }
      ]
    },
    {
      "cell_type": "code",
      "metadata": {
        "id": "-nVdWwLpWO0D",
        "colab_type": "code",
        "colab": {
          "base_uri": "https://localhost:8080/",
          "height": 119
        },
        "outputId": "aeef98f6-36e9-4c40-fc50-5235d93346f0"
      },
      "source": [
        "import OpenBlender\n",
        "import pandas as pd\n",
        "import json\n",
        "\n",
        "action = 'API_getOpenTextData'\n",
        "parameters = {\n",
        "    'token':'YOUR TOKEN',\n",
        "    'consumption_confirmation':'on',\n",
        "    'date_filter':{\"start_date\":\"2019-12-31T06:00:00.000Z\", \n",
        "                   \"end_date\":\"2020-06-30T06:00:00.000Z\"},\n",
        "    'sources':[\n",
        "                # Wall Street Journal\n",
        "               {'id_dataset' : '5e2ef74e9516294390e810a9', \n",
        "                 'features' : ['text']},\n",
        "                # ABC News Headlines\n",
        "               {'id_dataset':\"5d8848e59516294231c59581\", \n",
        "                'features' : [\"headline\", \"title\"]},\n",
        "                # USA Today Twitter\n",
        "               {'id_dataset' : \"5e32fd289516291e346c1726\", \n",
        "                'features' : [\"text\"]},\n",
        "                # CNN News\n",
        "               {'id_dataset' : \"5d571b9e9516293a12ad4f5c\", \n",
        "                'features' : [\"headline\", \"title\"]}\n",
        "    ],\n",
        "    'aggregate_in_time_interval' : {\n",
        "              'time_interval_size' : 60 * 60 * 24\n",
        "    },\n",
        "    'text_filter_search':['covid', 'coronavirus', 'ncov'],\n",
        "    'add_date' : 'date'    \n",
        "}\n",
        "covid_news_headlines = pd.read_json(json.dumps(OpenBlender.call(action, parameters)['sample']), convert_dates=False, convert_axes=False).sort_values('timestamp', ascending=False)\n",
        "covid_news_headlines.reset_index(drop=True, inplace=True)"
      ],
      "execution_count": null,
      "outputs": [
        {
          "output_type": "stream",
          "text": [
            "Task ID: '5f1ef09190eaa07497e356c6'.\n",
            "Total estimated consumption: 48234.87 processing units.\n",
            "Continue?  [y] yes \t [n] noy\n",
            "Task confirmed. Starting download..\n",
            "CSV will be stored in: 1595863188.2930484.csv\n",
            "100.0 % completed.\n"
          ],
          "name": "stdout"
        }
      ]
    },
    {
      "cell_type": "code",
      "metadata": {
        "id": "gU403KDxWYWj",
        "colab_type": "code",
        "colab": {
          "base_uri": "https://localhost:8080/",
          "height": 289
        },
        "outputId": "87ef1a9e-51f9-4f88-cac6-cf29f5459eb3"
      },
      "source": [
        "covid_news_headlines.head()"
      ],
      "execution_count": null,
      "outputs": [
        {
          "output_type": "execute_result",
          "data": {
            "text/html": [
              "<div>\n",
              "<style scoped>\n",
              "    .dataframe tbody tr th:only-of-type {\n",
              "        vertical-align: middle;\n",
              "    }\n",
              "\n",
              "    .dataframe tbody tr th {\n",
              "        vertical-align: top;\n",
              "    }\n",
              "\n",
              "    .dataframe thead th {\n",
              "        text-align: right;\n",
              "    }\n",
              "</style>\n",
              "<table border=\"1\" class=\"dataframe\">\n",
              "  <thead>\n",
              "    <tr style=\"text-align: right;\">\n",
              "      <th></th>\n",
              "      <th>source</th>\n",
              "      <th>timestamp.date</th>\n",
              "      <th>timestamp</th>\n",
              "      <th>source_lst</th>\n",
              "    </tr>\n",
              "  </thead>\n",
              "  <tbody>\n",
              "    <tr>\n",
              "      <th>0</th>\n",
              "      <td>bars have emerged as problem spots in a sur...</td>\n",
              "      <td>2020-06-30</td>\n",
              "      <td>1593475200</td>\n",
              "      <td>[stocks climbed, with the dow up more than 550...</td>\n",
              "    </tr>\n",
              "    <tr>\n",
              "      <th>1</th>\n",
              "      <td>students across much of the world have retu...</td>\n",
              "      <td>2020-06-29</td>\n",
              "      <td>1593388800</td>\n",
              "      <td>[record hospitalizations for covid-19 are prom...</td>\n",
              "    </tr>\n",
              "    <tr>\n",
              "      <th>2</th>\n",
              "      <td>weve gotta get her through this a boston su...</td>\n",
              "      <td>2020-06-28</td>\n",
              "      <td>1593302400</td>\n",
              "      <td>[the claim doctors warn covid19 may trigger di...</td>\n",
              "    </tr>\n",
              "    <tr>\n",
              "      <th>3</th>\n",
              "      <td>at a japanese host club you can get up clos...</td>\n",
              "      <td>2020-06-27</td>\n",
              "      <td>1593216000</td>\n",
              "      <td>[adriana rice-leiva had one child and another ...</td>\n",
              "    </tr>\n",
              "    <tr>\n",
              "      <th>4</th>\n",
              "      <td>from wsjopinion new zealands strategy towar...</td>\n",
              "      <td>2020-06-26</td>\n",
              "      <td>1593129600</td>\n",
              "      <td>[it turns out the covid-19 pandemic has meant ...</td>\n",
              "    </tr>\n",
              "  </tbody>\n",
              "</table>\n",
              "</div>"
            ],
            "text/plain": [
              "                                              source  ...                                         source_lst\n",
              "0     bars have emerged as problem spots in a sur...  ...  [stocks climbed, with the dow up more than 550...\n",
              "1     students across much of the world have retu...  ...  [record hospitalizations for covid-19 are prom...\n",
              "2     weve gotta get her through this a boston su...  ...  [the claim doctors warn covid19 may trigger di...\n",
              "3     at a japanese host club you can get up clos...  ...  [adriana rice-leiva had one child and another ...\n",
              "4     from wsjopinion new zealands strategy towar...  ...  [it turns out the covid-19 pandemic has meant ...\n",
              "\n",
              "[5 rows x 4 columns]"
            ]
          },
          "metadata": {
            "tags": []
          },
          "execution_count": 15
        }
      ]
    },
    {
      "cell_type": "code",
      "metadata": {
        "id": "YhRMVAwWWsxc",
        "colab_type": "code",
        "colab": {
          "base_uri": "https://localhost:8080/",
          "height": 204
        },
        "outputId": "998aae83-b819-4ef0-b681-77bd8c42090e"
      },
      "source": [
        "covid_news_headlines.tail()"
      ],
      "execution_count": null,
      "outputs": [
        {
          "output_type": "execute_result",
          "data": {
            "text/html": [
              "<div>\n",
              "<style scoped>\n",
              "    .dataframe tbody tr th:only-of-type {\n",
              "        vertical-align: middle;\n",
              "    }\n",
              "\n",
              "    .dataframe tbody tr th {\n",
              "        vertical-align: top;\n",
              "    }\n",
              "\n",
              "    .dataframe thead th {\n",
              "        text-align: right;\n",
              "    }\n",
              "</style>\n",
              "<table border=\"1\" class=\"dataframe\">\n",
              "  <thead>\n",
              "    <tr style=\"text-align: right;\">\n",
              "      <th></th>\n",
              "      <th>source</th>\n",
              "      <th>timestamp.date</th>\n",
              "      <th>timestamp</th>\n",
              "      <th>source_lst</th>\n",
              "    </tr>\n",
              "  </thead>\n",
              "  <tbody>\n",
              "    <tr>\n",
              "      <th>178</th>\n",
              "      <td></td>\n",
              "      <td>2020-01-04</td>\n",
              "      <td>1578096000</td>\n",
              "      <td>[]</td>\n",
              "    </tr>\n",
              "    <tr>\n",
              "      <th>179</th>\n",
              "      <td></td>\n",
              "      <td>2020-01-03</td>\n",
              "      <td>1578009600</td>\n",
              "      <td>[]</td>\n",
              "    </tr>\n",
              "    <tr>\n",
              "      <th>180</th>\n",
              "      <td></td>\n",
              "      <td>2020-01-02</td>\n",
              "      <td>1577923200</td>\n",
              "      <td>[]</td>\n",
              "    </tr>\n",
              "    <tr>\n",
              "      <th>181</th>\n",
              "      <td></td>\n",
              "      <td>2020-01-01</td>\n",
              "      <td>1577836800</td>\n",
              "      <td>[]</td>\n",
              "    </tr>\n",
              "    <tr>\n",
              "      <th>182</th>\n",
              "      <td></td>\n",
              "      <td>2019-12-31</td>\n",
              "      <td>1577750400</td>\n",
              "      <td>[]</td>\n",
              "    </tr>\n",
              "  </tbody>\n",
              "</table>\n",
              "</div>"
            ],
            "text/plain": [
              "    source timestamp.date   timestamp source_lst\n",
              "178            2020-01-04  1578096000         []\n",
              "179            2020-01-03  1578009600         []\n",
              "180            2020-01-02  1577923200         []\n",
              "181            2020-01-01  1577836800         []\n",
              "182            2019-12-31  1577750400         []"
            ]
          },
          "metadata": {
            "tags": []
          },
          "execution_count": 16
        }
      ]
    },
    {
      "cell_type": "code",
      "metadata": {
        "id": "wJg_uUJKLPoV",
        "colab_type": "code",
        "colab": {
          "base_uri": "https://localhost:8080/",
          "height": 373
        },
        "outputId": "b97dec72-8a9a-4e8d-91d4-8231b98b6f91"
      },
      "source": [
        "# Mention count for some countries of interest.\n",
        "# interest_countries = ['USA', 'China', 'UK','Italy', 'Brazil']\n",
        "interest_countries = ['USA', 'UK']\n",
        "for country in interest_countries:\n",
        "    covid_news_headlines['count_news_' + country] = [len([text for text in daily_lst if country.lower() in text]) for daily_lst in covid_news_headlines['source_lst']]\n",
        "covid_news_headlines.reindex(index=covid_news_headlines.index[::-1]).plot(x = 'timestamp', y = [col for col in covid_news_headlines.columns if 'count' in col], figsize=(17,7), kind='area')"
      ],
      "execution_count": null,
      "outputs": [
        {
          "output_type": "execute_result",
          "data": {
            "text/plain": [
              "<matplotlib.axes._subplots.AxesSubplot at 0x7f21b77d3390>"
            ]
          },
          "metadata": {
            "tags": []
          },
          "execution_count": 17
        },
        {
          "output_type": "display_data",
          "data": {
            "image/png": "[encoded data removed]",
            "text/plain": [
              "<Figure size 1224x504 with 1 Axes>"
            ]
          },
          "metadata": {
            "tags": [],
            "needs_background": "light"
          }
        }
      ]
    },
    {
      "cell_type": "code",
      "metadata": {
        "id": "N6dR91iy1K7C",
        "colab_type": "code",
        "colab": {
          "base_uri": "https://localhost:8080/",
          "height": 379
        },
        "outputId": "42a9e60d-69bb-4414-da89-93a4870d00ea"
      },
      "source": [
        "# word cloud from the last 20 days of news\n",
        "from matplotlib import pyplot as plt\n",
        "from os import path\n",
        "from PIL import Image\n",
        "from wordcloud import WordCloud, STOPWORDS, ImageColorGenerator\n",
        "\n",
        "plt.figure()\n",
        "plt.imshow(WordCloud(max_font_size=50, max_words=80, background_color=\"white\").generate(' '.join([val for val in covid_news_headlines['source'][0: 20]])), interpolation=\"bilinear\")\n",
        "plt.axis(\"off\")\n",
        "plt.show()\n",
        "plt.figure()\n",
        "plt.imshow(WordCloud(max_font_size=50, max_words=80, background_color=\"white\").generate(' '.join([val for val in covid_news_headlines['source'][0: 20]])), interpolation=\"bilinear\")\n",
        "plt.axis(\"off\")\n",
        "plt.show()"
      ],
      "execution_count": null,
      "outputs": [
        {
          "output_type": "display_data",
          "data": {
            "image/png": "[encoded data removed]",
            "text/plain": [
              "<Figure size 432x288 with 1 Axes>"
            ]
          },
          "metadata": {
            "tags": [],
            "needs_background": "light"
          }
        },
        {
          "output_type": "display_data",
          "data": {
            "image/png": "[encoded data removed]",
            "text/plain": [
              "<Figure size 432x288 with 1 Axes>"
            ]
          },
          "metadata": {
            "tags": [],
            "needs_background": "light"
          }
        }
      ]
    },
    {
      "cell_type": "markdown",
      "metadata": {
        "id": "a1yuRQOXdIMM",
        "colab_type": "text"
      },
      "source": [
        "# Cleaning & Collating Data"
      ]
    },
    {
      "cell_type": "code",
      "metadata": {
        "id": "9DRSOaYNYSme",
        "colab_type": "code",
        "colab": {
          "base_uri": "https://localhost:8080/",
          "height": 632
        },
        "outputId": "9bb3cd6e-8d97-43b3-cdd3-979a3cd38da3"
      },
      "source": [
        "# Merging timestamp from two tables\n",
        "dataset = pd.merge(left=covid_news_headlines, left_on='timestamp',\n",
        "         right=us_gbp, right_on='timestamp')\n",
        "dataset.head()"
      ],
      "execution_count": null,
      "outputs": [
        {
          "output_type": "execute_result",
          "data": {
            "text/html": [
              "<div>\n",
              "<style scoped>\n",
              "    .dataframe tbody tr th:only-of-type {\n",
              "        vertical-align: middle;\n",
              "    }\n",
              "\n",
              "    .dataframe tbody tr th {\n",
              "        vertical-align: top;\n",
              "    }\n",
              "\n",
              "    .dataframe thead th {\n",
              "        text-align: right;\n",
              "    }\n",
              "</style>\n",
              "<table border=\"1\" class=\"dataframe\">\n",
              "  <thead>\n",
              "    <tr style=\"text-align: right;\">\n",
              "      <th></th>\n",
              "      <th>source</th>\n",
              "      <th>timestamp.date</th>\n",
              "      <th>timestamp</th>\n",
              "      <th>source_lst</th>\n",
              "      <th>count_news_USA</th>\n",
              "      <th>count_news_UK</th>\n",
              "      <th>spot_price</th>\n",
              "    </tr>\n",
              "  </thead>\n",
              "  <tbody>\n",
              "    <tr>\n",
              "      <th>0</th>\n",
              "      <td>bars have emerged as problem spots in a sur...</td>\n",
              "      <td>2020-06-30</td>\n",
              "      <td>1593475200</td>\n",
              "      <td>[stocks climbed, with the dow up more than 550...</td>\n",
              "      <td>2</td>\n",
              "      <td>0</td>\n",
              "      <td>1.2359</td>\n",
              "    </tr>\n",
              "    <tr>\n",
              "      <th>1</th>\n",
              "      <td>students across much of the world have retu...</td>\n",
              "      <td>2020-06-29</td>\n",
              "      <td>1593388800</td>\n",
              "      <td>[record hospitalizations for covid-19 are prom...</td>\n",
              "      <td>0</td>\n",
              "      <td>0</td>\n",
              "      <td>1.2268</td>\n",
              "    </tr>\n",
              "    <tr>\n",
              "      <th>2</th>\n",
              "      <td>from wsjopinion new zealands strategy towar...</td>\n",
              "      <td>2020-06-26</td>\n",
              "      <td>1593129600</td>\n",
              "      <td>[it turns out the covid-19 pandemic has meant ...</td>\n",
              "      <td>0</td>\n",
              "      <td>0</td>\n",
              "      <td>1.2320</td>\n",
              "    </tr>\n",
              "    <tr>\n",
              "      <th>3</th>\n",
              "      <td>plexiglass artisan stefano antonelli has be...</td>\n",
              "      <td>2020-06-25</td>\n",
              "      <td>1593043200</td>\n",
              "      <td>[companies and academic labs are racing to cre...</td>\n",
              "      <td>1</td>\n",
              "      <td>0</td>\n",
              "      <td>1.2406</td>\n",
              "    </tr>\n",
              "    <tr>\n",
              "      <th>4</th>\n",
              "      <td>six players and four staff members on the n...</td>\n",
              "      <td>2020-06-24</td>\n",
              "      <td>1592956800</td>\n",
              "      <td>[dr fauci contradicts president trumps covid19...</td>\n",
              "      <td>0</td>\n",
              "      <td>0</td>\n",
              "      <td>1.2450</td>\n",
              "    </tr>\n",
              "  </tbody>\n",
              "</table>\n",
              "</div>"
            ],
            "text/plain": [
              "                                              source  ... spot_price\n",
              "0     bars have emerged as problem spots in a sur...  ...     1.2359\n",
              "1     students across much of the world have retu...  ...     1.2268\n",
              "2     from wsjopinion new zealands strategy towar...  ...     1.2320\n",
              "3     plexiglass artisan stefano antonelli has be...  ...     1.2406\n",
              "4     six players and four staff members on the n...  ...     1.2450\n",
              "\n",
              "[5 rows x 7 columns]"
            ]
          },
          "metadata": {
            "tags": []
          },
          "execution_count": 19
        }
      ]
    },
    {
      "cell_type": "code",
      "metadata": {
        "id": "1bbetAsBZh3j",
        "colab_type": "code",
        "colab": {
          "base_uri": "https://localhost:8080/",
          "height": 88
        },
        "outputId": "0e52841f-b36e-464b-a8c6-ae7f7ec18e27"
      },
      "source": [
        "# Need to filter so that only america and covid are seen\n",
        "import numpy as np\n",
        "# stored as a 2d array\n",
        "news = np.array(dataset['source_lst'])\n",
        "print(news[0][0])\n",
        "print(news[1][5])\n",
        "# print(news[48][0]) out of range?\n",
        "print(news[45][0])\n"
      ],
      "execution_count": null,
      "outputs": [
        {
          "output_type": "stream",
          "text": [
            "stocks climbed, with the dow up more than 550 points, as investors weighed a rise in coronavirus cases with hopes for more stimulus from central banks\n",
            "a new study has found further evidence of a correlation between severe cases of covid19 andbrain complications but researchers say they still arent sure whether those complications are directly caused by the disease\n",
            "a lawsuit alleges cal-maine foods has sold eggs at over 300% of their normal cost during the coronavirus pandemic\n"
          ],
          "name": "stdout"
        }
      ]
    },
    {
      "cell_type": "code",
      "metadata": {
        "id": "cK56BPLx3pVN",
        "colab_type": "code",
        "colab": {}
      },
      "source": [
        "# 2D array\n",
        "# Look for first array\n",
        "# Go through every sentense in the first array, if ['USA'] comes up then save if not disgard\n",
        "# Go through every sentense in the first array, if ['UK'] comes up then save if not disgard"
      ],
      "execution_count": null,
      "outputs": []
    },
    {
      "cell_type": "markdown",
      "metadata": {
        "id": "i5pxTEbC5dAQ",
        "colab_type": "text"
      },
      "source": [
        "# Tokenizing\n",
        "\n",
        "\n",
        "*   When we work on text, we can use the 'Bag of Words' model to represent a document.\n",
        "*   In the BOW model, each document can be thought of as a bag of words\n",
        "*   Splitting a document into the component words like this is called 'tokenizing'.\n",
        "*   So the documents are now tokenized, but how do we convert a tokenized BOW into numbers?\n",
        "*   There are afew strategies, one simple strategy could be to create a vector of all possible words and for each document count how many times each word appears\n",
        "\n"
      ]
    },
    {
      "cell_type": "code",
      "metadata": {
        "id": "zLF8o5Mx5067",
        "colab_type": "code",
        "colab": {}
      },
      "source": [
        "msg_1a = news[0][0]\n",
        "msg_1b = news[0][1]"
      ],
      "execution_count": null,
      "outputs": []
    },
    {
      "cell_type": "code",
      "metadata": {
        "id": "inr4Z1BB52Ct",
        "colab_type": "code",
        "colab": {}
      },
      "source": [
        "# words tokenized (no weird characters)\n",
        "msg_1a = msg_1a.split(\" \")\n",
        "msg_1b = msg_1b.split(\" \")"
      ],
      "execution_count": null,
      "outputs": []
    },
    {
      "cell_type": "code",
      "metadata": {
        "id": "NjtZP_jq6Gyq",
        "colab_type": "code",
        "colab": {
          "base_uri": "https://localhost:8080/",
          "height": 187
        },
        "outputId": "6cd41451-5611-4140-f95b-355f6916a23c"
      },
      "source": [
        "msg_1b"
      ],
      "execution_count": null,
      "outputs": [
        {
          "output_type": "execute_result",
          "data": {
            "text/plain": [
              "['new',\n",
              " 'coronavirus',\n",
              " 'test',\n",
              " 'introduced',\n",
              " 'as',\n",
              " 'spike',\n",
              " 'in',\n",
              " 'victorian',\n",
              " 'cases',\n",
              " 'worsens']"
            ]
          },
          "metadata": {
            "tags": []
          },
          "execution_count": 35
        }
      ]
    },
    {
      "cell_type": "markdown",
      "metadata": {
        "id": "n-Dt3xrb60dT",
        "colab_type": "text"
      },
      "source": [
        "# Creating vector of all possible words in document"
      ]
    },
    {
      "cell_type": "code",
      "metadata": {
        "id": "l2-t6n-F66_z",
        "colab_type": "code",
        "colab": {}
      },
      "source": [
        "# Sets elminated duplicates\n",
        "wordSet = set(msg_1a).union(set(msg_1b))"
      ],
      "execution_count": null,
      "outputs": []
    },
    {
      "cell_type": "code",
      "metadata": {
        "id": "ACNfd0c_7CQR",
        "colab_type": "code",
        "colab": {
          "base_uri": "https://localhost:8080/",
          "height": 527
        },
        "outputId": "4274159c-526e-49ca-da5a-89427902d50d"
      },
      "source": [
        "# All words in all bags/documents\n",
        "# List of all unique words in corpus\n",
        "wordSet"
      ],
      "execution_count": null,
      "outputs": [
        {
          "output_type": "execute_result",
          "data": {
            "text/plain": [
              "{'550',\n",
              " 'a',\n",
              " 'as',\n",
              " 'banks',\n",
              " 'cases',\n",
              " 'central',\n",
              " 'climbed,',\n",
              " 'coronavirus',\n",
              " 'dow',\n",
              " 'for',\n",
              " 'from',\n",
              " 'hopes',\n",
              " 'in',\n",
              " 'introduced',\n",
              " 'investors',\n",
              " 'more',\n",
              " 'new',\n",
              " 'points,',\n",
              " 'rise',\n",
              " 'spike',\n",
              " 'stimulus',\n",
              " 'stocks',\n",
              " 'test',\n",
              " 'than',\n",
              " 'the',\n",
              " 'up',\n",
              " 'victorian',\n",
              " 'weighed',\n",
              " 'with',\n",
              " 'worsens'}"
            ]
          },
          "metadata": {
            "tags": []
          },
          "execution_count": 37
        }
      ]
    },
    {
      "cell_type": "code",
      "metadata": {
        "id": "UoDVXFik7FHG",
        "colab_type": "code",
        "colab": {}
      },
      "source": [
        "# I'll create dictionaries to keep my word counts\n",
        "wordDictA = dict.fromkeys(wordSet,0)\n",
        "wordDictB = dict.fromkeys(wordSet,0)"
      ],
      "execution_count": null,
      "outputs": []
    },
    {
      "cell_type": "code",
      "metadata": {
        "id": "PULLnknX7WK9",
        "colab_type": "code",
        "colab": {
          "base_uri": "https://localhost:8080/",
          "height": 527
        },
        "outputId": "9de6fa17-fa5f-41b9-9f7c-ee9e3d926209"
      },
      "source": [
        "\n",
        "wordDictA"
      ],
      "execution_count": null,
      "outputs": [
        {
          "output_type": "execute_result",
          "data": {
            "text/plain": [
              "{'550': 0,\n",
              " 'a': 0,\n",
              " 'as': 0,\n",
              " 'banks': 0,\n",
              " 'cases': 0,\n",
              " 'central': 0,\n",
              " 'climbed,': 0,\n",
              " 'coronavirus': 0,\n",
              " 'dow': 0,\n",
              " 'for': 0,\n",
              " 'from': 0,\n",
              " 'hopes': 0,\n",
              " 'in': 0,\n",
              " 'introduced': 0,\n",
              " 'investors': 0,\n",
              " 'more': 0,\n",
              " 'new': 0,\n",
              " 'points,': 0,\n",
              " 'rise': 0,\n",
              " 'spike': 0,\n",
              " 'stimulus': 0,\n",
              " 'stocks': 0,\n",
              " 'test': 0,\n",
              " 'than': 0,\n",
              " 'the': 0,\n",
              " 'up': 0,\n",
              " 'victorian': 0,\n",
              " 'weighed': 0,\n",
              " 'with': 0,\n",
              " 'worsens': 0}"
            ]
          },
          "metadata": {
            "tags": []
          },
          "execution_count": 40
        }
      ]
    },
    {
      "cell_type": "code",
      "metadata": {
        "id": "b-7x3q8z7rFq",
        "colab_type": "code",
        "colab": {}
      },
      "source": [
        "# Count the words in my bags\n",
        "for word in msg_1a:\n",
        "  wordDictA[word]+=1\n",
        "for word in msg_1b:\n",
        "  wordDictB[word]+=1"
      ],
      "execution_count": null,
      "outputs": []
    },
    {
      "cell_type": "code",
      "metadata": {
        "id": "lNOLfDgZ728E",
        "colab_type": "code",
        "colab": {
          "base_uri": "https://localhost:8080/",
          "height": 527
        },
        "outputId": "cd7f8e55-2ea7-4dff-cd64-f01ce53008b0"
      },
      "source": [
        "wordDictA"
      ],
      "execution_count": null,
      "outputs": [
        {
          "output_type": "execute_result",
          "data": {
            "text/plain": [
              "{'550': 1,\n",
              " 'a': 1,\n",
              " 'as': 1,\n",
              " 'banks': 1,\n",
              " 'cases': 1,\n",
              " 'central': 1,\n",
              " 'climbed,': 1,\n",
              " 'coronavirus': 1,\n",
              " 'dow': 1,\n",
              " 'for': 1,\n",
              " 'from': 1,\n",
              " 'hopes': 1,\n",
              " 'in': 1,\n",
              " 'introduced': 0,\n",
              " 'investors': 1,\n",
              " 'more': 2,\n",
              " 'new': 0,\n",
              " 'points,': 1,\n",
              " 'rise': 1,\n",
              " 'spike': 0,\n",
              " 'stimulus': 1,\n",
              " 'stocks': 1,\n",
              " 'test': 0,\n",
              " 'than': 1,\n",
              " 'the': 1,\n",
              " 'up': 1,\n",
              " 'victorian': 0,\n",
              " 'weighed': 1,\n",
              " 'with': 2,\n",
              " 'worsens': 0}"
            ]
          },
          "metadata": {
            "tags": []
          },
          "execution_count": 44
        }
      ]
    },
    {
      "cell_type": "code",
      "metadata": {
        "id": "PCPel3YH8I2K",
        "colab_type": "code",
        "colab": {
          "base_uri": "https://localhost:8080/",
          "height": 131
        },
        "outputId": "cdd4320a-c50a-438f-b2dd-85af1a8c8fa2"
      },
      "source": [
        "# View as matrix\n",
        "import pandas as pd\n",
        "pd.DataFrame([wordDictA, wordDictB])"
      ],
      "execution_count": null,
      "outputs": [
        {
          "output_type": "execute_result",
          "data": {
            "text/html": [
              "<div>\n",
              "<style scoped>\n",
              "    .dataframe tbody tr th:only-of-type {\n",
              "        vertical-align: middle;\n",
              "    }\n",
              "\n",
              "    .dataframe tbody tr th {\n",
              "        vertical-align: top;\n",
              "    }\n",
              "\n",
              "    .dataframe thead th {\n",
              "        text-align: right;\n",
              "    }\n",
              "</style>\n",
              "<table border=\"1\" class=\"dataframe\">\n",
              "  <thead>\n",
              "    <tr style=\"text-align: right;\">\n",
              "      <th></th>\n",
              "      <th>550</th>\n",
              "      <th>victorian</th>\n",
              "      <th>as</th>\n",
              "      <th>from</th>\n",
              "      <th>worsens</th>\n",
              "      <th>a</th>\n",
              "      <th>more</th>\n",
              "      <th>investors</th>\n",
              "      <th>stocks</th>\n",
              "      <th>points,</th>\n",
              "      <th>hopes</th>\n",
              "      <th>coronavirus</th>\n",
              "      <th>rise</th>\n",
              "      <th>climbed,</th>\n",
              "      <th>new</th>\n",
              "      <th>stimulus</th>\n",
              "      <th>in</th>\n",
              "      <th>up</th>\n",
              "      <th>the</th>\n",
              "      <th>with</th>\n",
              "      <th>introduced</th>\n",
              "      <th>dow</th>\n",
              "      <th>test</th>\n",
              "      <th>banks</th>\n",
              "      <th>spike</th>\n",
              "      <th>weighed</th>\n",
              "      <th>than</th>\n",
              "      <th>cases</th>\n",
              "      <th>for</th>\n",
              "      <th>central</th>\n",
              "    </tr>\n",
              "  </thead>\n",
              "  <tbody>\n",
              "    <tr>\n",
              "      <th>0</th>\n",
              "      <td>1</td>\n",
              "      <td>0</td>\n",
              "      <td>1</td>\n",
              "      <td>1</td>\n",
              "      <td>0</td>\n",
              "      <td>1</td>\n",
              "      <td>2</td>\n",
              "      <td>1</td>\n",
              "      <td>1</td>\n",
              "      <td>1</td>\n",
              "      <td>1</td>\n",
              "      <td>1</td>\n",
              "      <td>1</td>\n",
              "      <td>1</td>\n",
              "      <td>0</td>\n",
              "      <td>1</td>\n",
              "      <td>1</td>\n",
              "      <td>1</td>\n",
              "      <td>1</td>\n",
              "      <td>2</td>\n",
              "      <td>0</td>\n",
              "      <td>1</td>\n",
              "      <td>0</td>\n",
              "      <td>1</td>\n",
              "      <td>0</td>\n",
              "      <td>1</td>\n",
              "      <td>1</td>\n",
              "      <td>1</td>\n",
              "      <td>1</td>\n",
              "      <td>1</td>\n",
              "    </tr>\n",
              "    <tr>\n",
              "      <th>1</th>\n",
              "      <td>0</td>\n",
              "      <td>1</td>\n",
              "      <td>1</td>\n",
              "      <td>0</td>\n",
              "      <td>1</td>\n",
              "      <td>0</td>\n",
              "      <td>0</td>\n",
              "      <td>0</td>\n",
              "      <td>0</td>\n",
              "      <td>0</td>\n",
              "      <td>0</td>\n",
              "      <td>1</td>\n",
              "      <td>0</td>\n",
              "      <td>0</td>\n",
              "      <td>1</td>\n",
              "      <td>0</td>\n",
              "      <td>1</td>\n",
              "      <td>0</td>\n",
              "      <td>0</td>\n",
              "      <td>0</td>\n",
              "      <td>1</td>\n",
              "      <td>0</td>\n",
              "      <td>1</td>\n",
              "      <td>0</td>\n",
              "      <td>1</td>\n",
              "      <td>0</td>\n",
              "      <td>0</td>\n",
              "      <td>1</td>\n",
              "      <td>0</td>\n",
              "      <td>0</td>\n",
              "    </tr>\n",
              "  </tbody>\n",
              "</table>\n",
              "</div>"
            ],
            "text/plain": [
              "   550  victorian  as  from  worsens  ...  weighed  than  cases  for  central\n",
              "0    1          0   1     1        0  ...        1     1      1    1        1\n",
              "1    0          1   1     0        1  ...        0     0      1    0        0\n",
              "\n",
              "[2 rows x 30 columns]"
            ]
          },
          "metadata": {
            "tags": []
          },
          "execution_count": 45
        }
      ]
    },
    {
      "cell_type": "markdown",
      "metadata": {
        "id": "mw_1tsOIdPPx",
        "colab_type": "text"
      },
      "source": [
        "# Count Vectorize Breakdown"
      ]
    },
    {
      "cell_type": "code",
      "metadata": {
        "id": "JZaLxc7bQX00",
        "colab_type": "code",
        "colab": {}
      },
      "source": [
        "from sklearn.feature_extraction.text import CountVectorizer\n",
        "from sklearn.feature_extraction.text import TfidfVectorizer \n",
        "from pandas import DataFrame"
      ],
      "execution_count": null,
      "outputs": []
    },
    {
      "cell_type": "code",
      "metadata": {
        "id": "QeYHfVLLMuPj",
        "colab_type": "code",
        "colab": {}
      },
      "source": [
        "# Count Vectorize\n",
        "# Takes in multiple documents in form of a python list = message_list\n",
        "# Vectorizer converts from text to numbers\n",
        "def create_document_term_matrix(message_list, vectorizer):\n",
        "  # Transforms all messages into numbers\n",
        "  message_list=[message_list]\n",
        "  doc_term_matrix = vectorizer.fit_transform(message_list)\n",
        "  # Converts all into a matrix and return a dataframe\n",
        "  return DataFrame(doc_term_matrix.toarray(),\n",
        "                   columns=vectorizer.get_feature_names())"
      ],
      "execution_count": null,
      "outputs": []
    },
    {
      "cell_type": "markdown",
      "metadata": {
        "id": "z4JyfECZdePm",
        "colab_type": "text"
      },
      "source": [
        "# Method #1 Count Vectorize "
      ]
    },
    {
      "cell_type": "code",
      "metadata": {
        "id": "olcADTZzMykL",
        "colab_type": "code",
        "colab": {}
      },
      "source": [
        "\n",
        "msg_1 = news[0][0]"
      ],
      "execution_count": null,
      "outputs": []
    },
    {
      "cell_type": "code",
      "metadata": {
        "id": "-ACY2CRCru32",
        "colab_type": "code",
        "colab": {}
      },
      "source": [
        "# Bag of words approach where each word in document is separated into tokens\n",
        "count_vect = CountVectorizer()"
      ],
      "execution_count": null,
      "outputs": []
    },
    {
      "cell_type": "code",
      "metadata": {
        "id": "7g9Cs5aRryVg",
        "colab_type": "code",
        "colab": {
          "base_uri": "https://localhost:8080/",
          "height": 100
        },
        "outputId": "460ba4e0-28a8-4e6b-b4de-5fca534659c2"
      },
      "source": [
        "# As you can see vivienne has appeared only once in 0th document, matrix 1 occurs 0 did not occur\n",
        "# If using as classification task you can use this data as x train and y train data\n",
        "# Some words are not significant for a classification task such as is, to etc\n",
        "# Remove these unwanted words from corpus of words or give them a lower value compare to the important words\n",
        "# We do this by creating a TF – Term frequency and IDF - Indicator Data Frequency\n",
        "create_document_term_matrix(msg_1, count_vect)"
      ],
      "execution_count": null,
      "outputs": [
        {
          "output_type": "execute_result",
          "data": {
            "text/html": [
              "<div>\n",
              "<style scoped>\n",
              "    .dataframe tbody tr th:only-of-type {\n",
              "        vertical-align: middle;\n",
              "    }\n",
              "\n",
              "    .dataframe tbody tr th {\n",
              "        vertical-align: top;\n",
              "    }\n",
              "\n",
              "    .dataframe thead th {\n",
              "        text-align: right;\n",
              "    }\n",
              "</style>\n",
              "<table border=\"1\" class=\"dataframe\">\n",
              "  <thead>\n",
              "    <tr style=\"text-align: right;\">\n",
              "      <th></th>\n",
              "      <th>550</th>\n",
              "      <th>as</th>\n",
              "      <th>banks</th>\n",
              "      <th>cases</th>\n",
              "      <th>central</th>\n",
              "      <th>climbed</th>\n",
              "      <th>coronavirus</th>\n",
              "      <th>dow</th>\n",
              "      <th>for</th>\n",
              "      <th>from</th>\n",
              "      <th>hopes</th>\n",
              "      <th>in</th>\n",
              "      <th>investors</th>\n",
              "      <th>more</th>\n",
              "      <th>points</th>\n",
              "      <th>rise</th>\n",
              "      <th>stimulus</th>\n",
              "      <th>stocks</th>\n",
              "      <th>than</th>\n",
              "      <th>the</th>\n",
              "      <th>up</th>\n",
              "      <th>weighed</th>\n",
              "      <th>with</th>\n",
              "    </tr>\n",
              "  </thead>\n",
              "  <tbody>\n",
              "    <tr>\n",
              "      <th>0</th>\n",
              "      <td>1</td>\n",
              "      <td>1</td>\n",
              "      <td>1</td>\n",
              "      <td>1</td>\n",
              "      <td>1</td>\n",
              "      <td>1</td>\n",
              "      <td>1</td>\n",
              "      <td>1</td>\n",
              "      <td>1</td>\n",
              "      <td>1</td>\n",
              "      <td>1</td>\n",
              "      <td>1</td>\n",
              "      <td>1</td>\n",
              "      <td>2</td>\n",
              "      <td>1</td>\n",
              "      <td>1</td>\n",
              "      <td>1</td>\n",
              "      <td>1</td>\n",
              "      <td>1</td>\n",
              "      <td>1</td>\n",
              "      <td>1</td>\n",
              "      <td>1</td>\n",
              "      <td>2</td>\n",
              "    </tr>\n",
              "  </tbody>\n",
              "</table>\n",
              "</div>"
            ],
            "text/plain": [
              "   550  as  banks  cases  central  ...  than  the  up  weighed  with\n",
              "0    1   1      1      1        1  ...     1    1   1        1     2\n",
              "\n",
              "[1 rows x 23 columns]"
            ]
          },
          "metadata": {
            "tags": []
          },
          "execution_count": 25
        }
      ]
    },
    {
      "cell_type": "markdown",
      "metadata": {
        "id": "cWCq-Pk8dg59",
        "colab_type": "text"
      },
      "source": [
        "# Method #2 TF_IDF Vectorizer\n",
        "\n",
        "\n",
        "*   A method used to rank words with values of importance\n",
        "*   The TF-IDF score is going to be: formula\n",
        "\n"
      ]
    },
    {
      "cell_type": "code",
      "metadata": {
        "id": "-tDsgYyBr2ag",
        "colab_type": "code",
        "colab": {
          "base_uri": "https://localhost:8080/",
          "height": 54
        },
        "outputId": "dc1b1e93-27c8-488a-ba78-d8e5259975f7"
      },
      "source": [
        "# TF-IDF is how often a word occurs in a document. \n",
        "# If we have multiple occurances of one word we except this value of this word to rise.\n",
        "# Contains 2 documents \n",
        "msg_2 = news[0][0]\n",
        "print(msg_2)"
      ],
      "execution_count": null,
      "outputs": [
        {
          "output_type": "stream",
          "text": [
            "stocks climbed, with the dow up more than 550 points, as investors weighed a rise in coronavirus cases with hopes for more stimulus from central banks\n"
          ],
          "name": "stdout"
        }
      ]
    },
    {
      "cell_type": "code",
      "metadata": {
        "id": "jhJWELx3sLSu",
        "colab_type": "code",
        "colab": {}
      },
      "source": [
        "# We create an instance of the tfidf vectoriser\n",
        "tfidf_vect = TfidfVectorizer()\n"
      ],
      "execution_count": null,
      "outputs": []
    },
    {
      "cell_type": "code",
      "metadata": {
        "id": "Kl-ateg9sPak",
        "colab_type": "code",
        "colab": {
          "base_uri": "https://localhost:8080/",
          "height": 100
        },
        "outputId": "2f6ebd9e-c1fc-4732-e002-61e181abb87f"
      },
      "source": [
        "\n",
        "create_document_term_matrix(msg_2, tfidf_vect)"
      ],
      "execution_count": null,
      "outputs": [
        {
          "output_type": "execute_result",
          "data": {
            "text/html": [
              "<div>\n",
              "<style scoped>\n",
              "    .dataframe tbody tr th:only-of-type {\n",
              "        vertical-align: middle;\n",
              "    }\n",
              "\n",
              "    .dataframe tbody tr th {\n",
              "        vertical-align: top;\n",
              "    }\n",
              "\n",
              "    .dataframe thead th {\n",
              "        text-align: right;\n",
              "    }\n",
              "</style>\n",
              "<table border=\"1\" class=\"dataframe\">\n",
              "  <thead>\n",
              "    <tr style=\"text-align: right;\">\n",
              "      <th></th>\n",
              "      <th>550</th>\n",
              "      <th>as</th>\n",
              "      <th>banks</th>\n",
              "      <th>cases</th>\n",
              "      <th>central</th>\n",
              "      <th>climbed</th>\n",
              "      <th>coronavirus</th>\n",
              "      <th>dow</th>\n",
              "      <th>for</th>\n",
              "      <th>from</th>\n",
              "      <th>hopes</th>\n",
              "      <th>in</th>\n",
              "      <th>investors</th>\n",
              "      <th>more</th>\n",
              "      <th>points</th>\n",
              "      <th>rise</th>\n",
              "      <th>stimulus</th>\n",
              "      <th>stocks</th>\n",
              "      <th>than</th>\n",
              "      <th>the</th>\n",
              "      <th>up</th>\n",
              "      <th>weighed</th>\n",
              "      <th>with</th>\n",
              "    </tr>\n",
              "  </thead>\n",
              "  <tbody>\n",
              "    <tr>\n",
              "      <th>0</th>\n",
              "      <td>0.185695</td>\n",
              "      <td>0.185695</td>\n",
              "      <td>0.185695</td>\n",
              "      <td>0.185695</td>\n",
              "      <td>0.185695</td>\n",
              "      <td>0.185695</td>\n",
              "      <td>0.185695</td>\n",
              "      <td>0.185695</td>\n",
              "      <td>0.185695</td>\n",
              "      <td>0.185695</td>\n",
              "      <td>0.185695</td>\n",
              "      <td>0.185695</td>\n",
              "      <td>0.185695</td>\n",
              "      <td>0.371391</td>\n",
              "      <td>0.185695</td>\n",
              "      <td>0.185695</td>\n",
              "      <td>0.185695</td>\n",
              "      <td>0.185695</td>\n",
              "      <td>0.185695</td>\n",
              "      <td>0.185695</td>\n",
              "      <td>0.185695</td>\n",
              "      <td>0.185695</td>\n",
              "      <td>0.371391</td>\n",
              "    </tr>\n",
              "  </tbody>\n",
              "</table>\n",
              "</div>"
            ],
            "text/plain": [
              "        550        as     banks  ...        up   weighed      with\n",
              "0  0.185695  0.185695  0.185695  ...  0.185695  0.185695  0.371391\n",
              "\n",
              "[1 rows x 23 columns]"
            ]
          },
          "metadata": {
            "tags": []
          },
          "execution_count": 28
        }
      ]
    },
    {
      "cell_type": "markdown",
      "metadata": {
        "id": "d2V_jI24d9_t",
        "colab_type": "text"
      },
      "source": [
        "# Method #3 TF_IDF Vectorizer"
      ]
    },
    {
      "cell_type": "code",
      "metadata": {
        "id": "hSC4iFhOsYWb",
        "colab_type": "code",
        "colab": {}
      },
      "source": [
        "msg_3 = news[0][2]"
      ],
      "execution_count": null,
      "outputs": []
    },
    {
      "cell_type": "code",
      "metadata": {
        "id": "8LuE9CtUsjBQ",
        "colab_type": "code",
        "colab": {
          "base_uri": "https://localhost:8080/",
          "height": 100
        },
        "outputId": "6b701900-13fc-49a9-9e03-5c9c4f12b0fa"
      },
      "source": [
        "create_document_term_matrix(msg_3, tfidf_vect)"
      ],
      "execution_count": null,
      "outputs": [
        {
          "output_type": "execute_result",
          "data": {
            "text/html": [
              "<div>\n",
              "<style scoped>\n",
              "    .dataframe tbody tr th:only-of-type {\n",
              "        vertical-align: middle;\n",
              "    }\n",
              "\n",
              "    .dataframe tbody tr th {\n",
              "        vertical-align: top;\n",
              "    }\n",
              "\n",
              "    .dataframe thead th {\n",
              "        text-align: right;\n",
              "    }\n",
              "</style>\n",
              "<table border=\"1\" class=\"dataframe\">\n",
              "  <thead>\n",
              "    <tr style=\"text-align: right;\">\n",
              "      <th></th>\n",
              "      <th>alarming</th>\n",
              "      <th>and</th>\n",
              "      <th>arizona</th>\n",
              "      <th>businesses</th>\n",
              "      <th>cases</th>\n",
              "      <th>covid19</th>\n",
              "      <th>for</th>\n",
              "      <th>hoping</th>\n",
              "      <th>in</th>\n",
              "      <th>its</th>\n",
              "      <th>like</th>\n",
              "      <th>not</th>\n",
              "      <th>of</th>\n",
              "      <th>reopening</th>\n",
              "      <th>reported</th>\n",
              "      <th>seeing</th>\n",
              "      <th>states</th>\n",
              "      <th>surges</th>\n",
              "      <th>texas</th>\n",
              "      <th>the</th>\n",
              "      <th>were</th>\n",
              "      <th>with</th>\n",
              "    </tr>\n",
              "  </thead>\n",
              "  <tbody>\n",
              "    <tr>\n",
              "      <th>0</th>\n",
              "      <td>0.213201</td>\n",
              "      <td>0.213201</td>\n",
              "      <td>0.213201</td>\n",
              "      <td>0.213201</td>\n",
              "      <td>0.213201</td>\n",
              "      <td>0.213201</td>\n",
              "      <td>0.213201</td>\n",
              "      <td>0.213201</td>\n",
              "      <td>0.213201</td>\n",
              "      <td>0.213201</td>\n",
              "      <td>0.213201</td>\n",
              "      <td>0.213201</td>\n",
              "      <td>0.213201</td>\n",
              "      <td>0.213201</td>\n",
              "      <td>0.213201</td>\n",
              "      <td>0.213201</td>\n",
              "      <td>0.213201</td>\n",
              "      <td>0.213201</td>\n",
              "      <td>0.213201</td>\n",
              "      <td>0.213201</td>\n",
              "      <td>0.213201</td>\n",
              "      <td>0.213201</td>\n",
              "    </tr>\n",
              "  </tbody>\n",
              "</table>\n",
              "</div>"
            ],
            "text/plain": [
              "   alarming       and   arizona  ...       the      were      with\n",
              "0  0.213201  0.213201  0.213201  ...  0.213201  0.213201  0.213201\n",
              "\n",
              "[1 rows x 22 columns]"
            ]
          },
          "metadata": {
            "tags": []
          },
          "execution_count": 30
        }
      ]
    },
    {
      "cell_type": "markdown",
      "metadata": {
        "id": "Tirgk8jyeAev",
        "colab_type": "text"
      },
      "source": [
        "# Method #4 TF_IDF Vectorizer"
      ]
    },
    {
      "cell_type": "code",
      "metadata": {
        "id": "Wug7t_Hvsm0t",
        "colab_type": "code",
        "colab": {}
      },
      "source": [
        "msg_4 = news[0][3]"
      ],
      "execution_count": null,
      "outputs": []
    },
    {
      "cell_type": "code",
      "metadata": {
        "id": "dGnczuXJswfK",
        "colab_type": "code",
        "colab": {
          "base_uri": "https://localhost:8080/",
          "height": 100
        },
        "outputId": "c6f0171c-93c5-45e6-c4fe-60fc0e7c7c84"
      },
      "source": [
        "create_document_term_matrix(msg_4, tfidf_vect)"
      ],
      "execution_count": null,
      "outputs": [
        {
          "output_type": "execute_result",
          "data": {
            "text/html": [
              "<div>\n",
              "<style scoped>\n",
              "    .dataframe tbody tr th:only-of-type {\n",
              "        vertical-align: middle;\n",
              "    }\n",
              "\n",
              "    .dataframe tbody tr th {\n",
              "        vertical-align: top;\n",
              "    }\n",
              "\n",
              "    .dataframe thead th {\n",
              "        text-align: right;\n",
              "    }\n",
              "</style>\n",
              "<table border=\"1\" class=\"dataframe\">\n",
              "  <thead>\n",
              "    <tr style=\"text-align: right;\">\n",
              "      <th></th>\n",
              "      <th>breakfast</th>\n",
              "      <th>chief</th>\n",
              "      <th>conversation</th>\n",
              "      <th>coronavirus</th>\n",
              "      <th>correspondent</th>\n",
              "      <th>discuss</th>\n",
              "      <th>grattan</th>\n",
              "      <th>in</th>\n",
              "      <th>joins</th>\n",
              "      <th>michelle</th>\n",
              "      <th>outbreak</th>\n",
              "      <th>political</th>\n",
              "      <th>recent</th>\n",
              "      <th>rn</th>\n",
              "      <th>the</th>\n",
              "      <th>to</th>\n",
              "      <th>victoria_</th>\n",
              "      <th>with</th>\n",
              "    </tr>\n",
              "  </thead>\n",
              "  <tbody>\n",
              "    <tr>\n",
              "      <th>0</th>\n",
              "      <td>0.218218</td>\n",
              "      <td>0.218218</td>\n",
              "      <td>0.218218</td>\n",
              "      <td>0.218218</td>\n",
              "      <td>0.218218</td>\n",
              "      <td>0.218218</td>\n",
              "      <td>0.218218</td>\n",
              "      <td>0.218218</td>\n",
              "      <td>0.218218</td>\n",
              "      <td>0.218218</td>\n",
              "      <td>0.218218</td>\n",
              "      <td>0.218218</td>\n",
              "      <td>0.218218</td>\n",
              "      <td>0.218218</td>\n",
              "      <td>0.436436</td>\n",
              "      <td>0.218218</td>\n",
              "      <td>0.218218</td>\n",
              "      <td>0.218218</td>\n",
              "    </tr>\n",
              "  </tbody>\n",
              "</table>\n",
              "</div>"
            ],
            "text/plain": [
              "   breakfast     chief  conversation  ...        to  victoria_      with\n",
              "0   0.218218  0.218218      0.218218  ...  0.218218   0.218218  0.218218\n",
              "\n",
              "[1 rows x 18 columns]"
            ]
          },
          "metadata": {
            "tags": []
          },
          "execution_count": 49
        }
      ]
    },
    {
      "cell_type": "markdown",
      "metadata": {
        "id": "cvyu5OdA3fyO",
        "colab_type": "text"
      },
      "source": [
        "# Conclusions\n",
        "\n",
        "\n",
        "*   Problem with \"Creating vector of all possible words in document\" is that we use alot of words commonly that dont mean much e.g. the, an, as. The distribution of words in language is a power law distribution, which is the basis for Zipf's law. So if we construct out document matrix out of counts, we end up with numbers that dont contain much information, unless out goal is to se who uses 'the' most often.\n",
        "*   List item\n",
        "\n"
      ]
    }
  ]
}