{
  "nbformat": 4,
  "nbformat_minor": 0,
  "metadata": {
    "colab": {
      "name": "lstm_model.ipynb",
      "provenance": [],
      "collapsed_sections": []
    },
    "kernelspec": {
      "name": "python3",
      "display_name": "Python 3"
    },
    "accelerator": "GPU"
  },
  "cells": [
    {
      "cell_type": "markdown",
      "metadata": {
        "id": "NpLCBrS0DoTl",
        "colab_type": "text"
      },
      "source": [
        "# Notes for user:\n",
        "\n",
        "*   This notebook will use the dataset COVID-19 and forex to predict the forex spot price of a currency pair.\n",
        "*   What to ask user before using this application:\n",
        "*   What currency pair are you interested in? USD/GBP (This layout means that the base currency is USD)\n",
        "*   The currency the user wants to look at is how much the USD is worth to the GBP.\n",
        "*   Therefore, we look at the death rates in the US and the UK.\n",
        "*   To do: x_train and validation dataset\n"
      ]
    },
    {
      "cell_type": "code",
      "metadata": {
        "id": "GDBxlQkCD7Mj",
        "colab_type": "code",
        "colab": {
          "base_uri": "https://localhost:8080/",
          "height": 307
        },
        "outputId": "a4b4bf99-a531-4684-a4fd-ddc16b62e82e"
      },
      "source": [
        "# Use some functions from tensorflow_docs\n",
        "!pip install git+https://github.com/tensorflow/docs"
      ],
      "execution_count": null,
      "outputs": [
        {
          "output_type": "stream",
          "text": [
            "Collecting git+https://github.com/tensorflow/docs\n",
            "  Cloning https://github.com/tensorflow/docs to /tmp/pip-req-build-opisbl4r\n",
            "  Running command git clone -q https://github.com/tensorflow/docs /tmp/pip-req-build-opisbl4r\n",
            "Requirement already satisfied (use --upgrade to upgrade): tensorflow-docs===0.0.0adae1941b3a1b3c0b781b94d96f4476892a44620- from git+https://github.com/tensorflow/docs in /usr/local/lib/python3.6/dist-packages\n",
            "Requirement already satisfied: astor in /usr/local/lib/python3.6/dist-packages (from tensorflow-docs===0.0.0adae1941b3a1b3c0b781b94d96f4476892a44620-) (0.8.1)\n",
            "Requirement already satisfied: absl-py in /usr/local/lib/python3.6/dist-packages (from tensorflow-docs===0.0.0adae1941b3a1b3c0b781b94d96f4476892a44620-) (0.9.0)\n",
            "Requirement already satisfied: protobuf in /usr/local/lib/python3.6/dist-packages (from tensorflow-docs===0.0.0adae1941b3a1b3c0b781b94d96f4476892a44620-) (3.12.2)\n",
            "Requirement already satisfied: pyyaml in /usr/local/lib/python3.6/dist-packages (from tensorflow-docs===0.0.0adae1941b3a1b3c0b781b94d96f4476892a44620-) (3.13)\n",
            "Requirement already satisfied: six in /usr/local/lib/python3.6/dist-packages (from absl-py->tensorflow-docs===0.0.0adae1941b3a1b3c0b781b94d96f4476892a44620-) (1.15.0)\n",
            "Requirement already satisfied: setuptools in /usr/local/lib/python3.6/dist-packages (from protobuf->tensorflow-docs===0.0.0adae1941b3a1b3c0b781b94d96f4476892a44620-) (49.2.0)\n",
            "Building wheels for collected packages: tensorflow-docs\n",
            "  Building wheel for tensorflow-docs (setup.py) ... \u001b[?25l\u001b[?25hdone\n",
            "  Created wheel for tensorflow-docs: filename=tensorflow_docs-0.0.0adae1941b3a1b3c0b781b94d96f4476892a44620_-cp36-none-any.whl size=126412 sha256=5ed412bb7cb9acca55143e939074ef7889186a835dd02c129b88c5f854eccb8d\n",
            "  Stored in directory: /tmp/pip-ephem-wheel-cache-d5jlz0jg/wheels/eb/1b/35/fce87697be00d2fc63e0b4b395b0d9c7e391a10e98d9a0d97f\n",
            "Successfully built tensorflow-docs\n"
          ],
          "name": "stdout"
        }
      ]
    },
    {
      "cell_type": "code",
      "metadata": {
        "id": "iJ6D0PrOJYeg",
        "colab_type": "code",
        "colab": {}
      },
      "source": [
        "import pathlib\n",
        "import matplotlib.pyplot as plt\n",
        "import numpy as np\n",
        "import pandas as pd"
      ],
      "execution_count": null,
      "outputs": []
    },
    {
      "cell_type": "code",
      "metadata": {
        "id": "AgIgQg1XJcP2",
        "colab_type": "code",
        "colab": {
          "base_uri": "https://localhost:8080/",
          "height": 35
        },
        "outputId": "32aa03d5-b2bb-40d0-d30f-233b6ac1c705"
      },
      "source": [
        "import tensorflow as tf\n",
        "from tensorflow import keras\n",
        "from tensorflow.keras import layers\n",
        "print(tf.__version__)"
      ],
      "execution_count": null,
      "outputs": [
        {
          "output_type": "stream",
          "text": [
            "2.2.0\n"
          ],
          "name": "stdout"
        }
      ]
    },
    {
      "cell_type": "code",
      "metadata": {
        "id": "m_F-7tgZJe2m",
        "colab_type": "code",
        "colab": {}
      },
      "source": [
        "import tensorflow_docs as tfdocs\n",
        "import tensorflow_docs.plots\n",
        "import tensorflow_docs.modeling"
      ],
      "execution_count": null,
      "outputs": []
    },
    {
      "cell_type": "markdown",
      "metadata": {
        "id": "QzadtzC3Hniw",
        "colab_type": "text"
      },
      "source": [
        "# Data Collection\n"
      ]
    },
    {
      "cell_type": "code",
      "metadata": {
        "id": "7GjIgZ7kJhjo",
        "colab_type": "code",
        "colab": {
          "base_uri": "https://localhost:8080/",
          "height": 309
        },
        "outputId": "904fb847-8045-4ddb-eb40-00bb13de5807"
      },
      "source": [
        "# Importing covid_dataset using pandas. Droping null values.\n",
        "covid_dataset_data= pd.read_csv('covid.csv', na_values = \"?\", comment='\\t', skipinitialspace=True)\n",
        "covid_dataset = covid_dataset_data.copy()\n",
        "# covid_dataset = covid_dataset.dropna()\n",
        "covid_dataset.head()"
      ],
      "execution_count": null,
      "outputs": [
        {
          "output_type": "execute_result",
          "data": {
            "text/html": [
              "<div>\n",
              "<style scoped>\n",
              "    .dataframe tbody tr th:only-of-type {\n",
              "        vertical-align: middle;\n",
              "    }\n",
              "\n",
              "    .dataframe tbody tr th {\n",
              "        vertical-align: top;\n",
              "    }\n",
              "\n",
              "    .dataframe thead th {\n",
              "        text-align: right;\n",
              "    }\n",
              "</style>\n",
              "<table border=\"1\" class=\"dataframe\">\n",
              "  <thead>\n",
              "    <tr style=\"text-align: right;\">\n",
              "      <th></th>\n",
              "      <th>iso_code</th>\n",
              "      <th>continent</th>\n",
              "      <th>location</th>\n",
              "      <th>date</th>\n",
              "      <th>total_cases</th>\n",
              "      <th>new_cases</th>\n",
              "      <th>total_deaths</th>\n",
              "      <th>new_deaths</th>\n",
              "      <th>total_cases_per_million</th>\n",
              "      <th>new_cases_per_million</th>\n",
              "      <th>total_deaths_per_million</th>\n",
              "      <th>new_deaths_per_million</th>\n",
              "      <th>total_tests</th>\n",
              "      <th>new_tests</th>\n",
              "      <th>total_tests_per_thousand</th>\n",
              "      <th>new_tests_per_thousand</th>\n",
              "      <th>new_tests_smoothed</th>\n",
              "      <th>new_tests_smoothed_per_thousand</th>\n",
              "      <th>tests_units</th>\n",
              "      <th>stringency_index</th>\n",
              "      <th>population</th>\n",
              "      <th>population_density</th>\n",
              "      <th>median_age</th>\n",
              "      <th>aged_65_older</th>\n",
              "      <th>aged_70_older</th>\n",
              "      <th>gdp_per_capita</th>\n",
              "      <th>extreme_poverty</th>\n",
              "      <th>cvd_death_rate</th>\n",
              "      <th>diabetes_prevalence</th>\n",
              "      <th>female_smokers</th>\n",
              "      <th>male_smokers</th>\n",
              "      <th>handwashing_facilities</th>\n",
              "      <th>hospital_beds_per_thousand</th>\n",
              "      <th>life_expectancy</th>\n",
              "    </tr>\n",
              "  </thead>\n",
              "  <tbody>\n",
              "    <tr>\n",
              "      <th>0</th>\n",
              "      <td>AFG</td>\n",
              "      <td>Asia</td>\n",
              "      <td>Afghanistan</td>\n",
              "      <td>2019-12-31</td>\n",
              "      <td>0.0</td>\n",
              "      <td>0.0</td>\n",
              "      <td>0.0</td>\n",
              "      <td>0.0</td>\n",
              "      <td>0.0</td>\n",
              "      <td>0.0</td>\n",
              "      <td>0.0</td>\n",
              "      <td>0.0</td>\n",
              "      <td>NaN</td>\n",
              "      <td>NaN</td>\n",
              "      <td>NaN</td>\n",
              "      <td>NaN</td>\n",
              "      <td>NaN</td>\n",
              "      <td>NaN</td>\n",
              "      <td>NaN</td>\n",
              "      <td>NaN</td>\n",
              "      <td>38928341.0</td>\n",
              "      <td>54.422</td>\n",
              "      <td>18.6</td>\n",
              "      <td>2.581</td>\n",
              "      <td>1.337</td>\n",
              "      <td>1803.987</td>\n",
              "      <td>NaN</td>\n",
              "      <td>597.029</td>\n",
              "      <td>9.59</td>\n",
              "      <td>NaN</td>\n",
              "      <td>NaN</td>\n",
              "      <td>37.746</td>\n",
              "      <td>0.5</td>\n",
              "      <td>64.83</td>\n",
              "    </tr>\n",
              "    <tr>\n",
              "      <th>1</th>\n",
              "      <td>AFG</td>\n",
              "      <td>Asia</td>\n",
              "      <td>Afghanistan</td>\n",
              "      <td>2020-01-01</td>\n",
              "      <td>0.0</td>\n",
              "      <td>0.0</td>\n",
              "      <td>0.0</td>\n",
              "      <td>0.0</td>\n",
              "      <td>0.0</td>\n",
              "      <td>0.0</td>\n",
              "      <td>0.0</td>\n",
              "      <td>0.0</td>\n",
              "      <td>NaN</td>\n",
              "      <td>NaN</td>\n",
              "      <td>NaN</td>\n",
              "      <td>NaN</td>\n",
              "      <td>NaN</td>\n",
              "      <td>NaN</td>\n",
              "      <td>NaN</td>\n",
              "      <td>0.0</td>\n",
              "      <td>38928341.0</td>\n",
              "      <td>54.422</td>\n",
              "      <td>18.6</td>\n",
              "      <td>2.581</td>\n",
              "      <td>1.337</td>\n",
              "      <td>1803.987</td>\n",
              "      <td>NaN</td>\n",
              "      <td>597.029</td>\n",
              "      <td>9.59</td>\n",
              "      <td>NaN</td>\n",
              "      <td>NaN</td>\n",
              "      <td>37.746</td>\n",
              "      <td>0.5</td>\n",
              "      <td>64.83</td>\n",
              "    </tr>\n",
              "    <tr>\n",
              "      <th>2</th>\n",
              "      <td>AFG</td>\n",
              "      <td>Asia</td>\n",
              "      <td>Afghanistan</td>\n",
              "      <td>2020-01-02</td>\n",
              "      <td>0.0</td>\n",
              "      <td>0.0</td>\n",
              "      <td>0.0</td>\n",
              "      <td>0.0</td>\n",
              "      <td>0.0</td>\n",
              "      <td>0.0</td>\n",
              "      <td>0.0</td>\n",
              "      <td>0.0</td>\n",
              "      <td>NaN</td>\n",
              "      <td>NaN</td>\n",
              "      <td>NaN</td>\n",
              "      <td>NaN</td>\n",
              "      <td>NaN</td>\n",
              "      <td>NaN</td>\n",
              "      <td>NaN</td>\n",
              "      <td>0.0</td>\n",
              "      <td>38928341.0</td>\n",
              "      <td>54.422</td>\n",
              "      <td>18.6</td>\n",
              "      <td>2.581</td>\n",
              "      <td>1.337</td>\n",
              "      <td>1803.987</td>\n",
              "      <td>NaN</td>\n",
              "      <td>597.029</td>\n",
              "      <td>9.59</td>\n",
              "      <td>NaN</td>\n",
              "      <td>NaN</td>\n",
              "      <td>37.746</td>\n",
              "      <td>0.5</td>\n",
              "      <td>64.83</td>\n",
              "    </tr>\n",
              "    <tr>\n",
              "      <th>3</th>\n",
              "      <td>AFG</td>\n",
              "      <td>Asia</td>\n",
              "      <td>Afghanistan</td>\n",
              "      <td>2020-01-03</td>\n",
              "      <td>0.0</td>\n",
              "      <td>0.0</td>\n",
              "      <td>0.0</td>\n",
              "      <td>0.0</td>\n",
              "      <td>0.0</td>\n",
              "      <td>0.0</td>\n",
              "      <td>0.0</td>\n",
              "      <td>0.0</td>\n",
              "      <td>NaN</td>\n",
              "      <td>NaN</td>\n",
              "      <td>NaN</td>\n",
              "      <td>NaN</td>\n",
              "      <td>NaN</td>\n",
              "      <td>NaN</td>\n",
              "      <td>NaN</td>\n",
              "      <td>0.0</td>\n",
              "      <td>38928341.0</td>\n",
              "      <td>54.422</td>\n",
              "      <td>18.6</td>\n",
              "      <td>2.581</td>\n",
              "      <td>1.337</td>\n",
              "      <td>1803.987</td>\n",
              "      <td>NaN</td>\n",
              "      <td>597.029</td>\n",
              "      <td>9.59</td>\n",
              "      <td>NaN</td>\n",
              "      <td>NaN</td>\n",
              "      <td>37.746</td>\n",
              "      <td>0.5</td>\n",
              "      <td>64.83</td>\n",
              "    </tr>\n",
              "    <tr>\n",
              "      <th>4</th>\n",
              "      <td>AFG</td>\n",
              "      <td>Asia</td>\n",
              "      <td>Afghanistan</td>\n",
              "      <td>2020-01-04</td>\n",
              "      <td>0.0</td>\n",
              "      <td>0.0</td>\n",
              "      <td>0.0</td>\n",
              "      <td>0.0</td>\n",
              "      <td>0.0</td>\n",
              "      <td>0.0</td>\n",
              "      <td>0.0</td>\n",
              "      <td>0.0</td>\n",
              "      <td>NaN</td>\n",
              "      <td>NaN</td>\n",
              "      <td>NaN</td>\n",
              "      <td>NaN</td>\n",
              "      <td>NaN</td>\n",
              "      <td>NaN</td>\n",
              "      <td>NaN</td>\n",
              "      <td>0.0</td>\n",
              "      <td>38928341.0</td>\n",
              "      <td>54.422</td>\n",
              "      <td>18.6</td>\n",
              "      <td>2.581</td>\n",
              "      <td>1.337</td>\n",
              "      <td>1803.987</td>\n",
              "      <td>NaN</td>\n",
              "      <td>597.029</td>\n",
              "      <td>9.59</td>\n",
              "      <td>NaN</td>\n",
              "      <td>NaN</td>\n",
              "      <td>37.746</td>\n",
              "      <td>0.5</td>\n",
              "      <td>64.83</td>\n",
              "    </tr>\n",
              "  </tbody>\n",
              "</table>\n",
              "</div>"
            ],
            "text/plain": [
              "  iso_code continent  ... hospital_beds_per_thousand life_expectancy\n",
              "0      AFG      Asia  ...                        0.5           64.83\n",
              "1      AFG      Asia  ...                        0.5           64.83\n",
              "2      AFG      Asia  ...                        0.5           64.83\n",
              "3      AFG      Asia  ...                        0.5           64.83\n",
              "4      AFG      Asia  ...                        0.5           64.83\n",
              "\n",
              "[5 rows x 34 columns]"
            ]
          },
          "metadata": {
            "tags": []
          },
          "execution_count": 49
        }
      ]
    },
    {
      "cell_type": "code",
      "metadata": {
        "id": "aYBFYnKtiIkQ",
        "colab_type": "code",
        "colab": {
          "base_uri": "https://localhost:8080/",
          "height": 204
        },
        "outputId": "e59ab132-8dfb-4dd9-9521-fb6dd5a1d2f5"
      },
      "source": [
        "# Trying to isolate location/country based on currency in question\n",
        "# We are looking at pound and sterling therefore need to isolate 'United Kingdom' & 'United States' in location column\n",
        "# Problem: Informaiton prints up until 'Trinidad and Tobago' for some reason – can print 'Togo'. Therefore cannot print United Kingdom or United States\n",
        "us_death_rates = covid_dataset.loc[covid_dataset.location=='United States', ['location', 'date', 'total_deaths', 'total_cases', 'cvd_death_rate']]\n",
        "us_death_rates.head()"
      ],
      "execution_count": null,
      "outputs": [
        {
          "output_type": "execute_result",
          "data": {
            "text/html": [
              "<div>\n",
              "<style scoped>\n",
              "    .dataframe tbody tr th:only-of-type {\n",
              "        vertical-align: middle;\n",
              "    }\n",
              "\n",
              "    .dataframe tbody tr th {\n",
              "        vertical-align: top;\n",
              "    }\n",
              "\n",
              "    .dataframe thead th {\n",
              "        text-align: right;\n",
              "    }\n",
              "</style>\n",
              "<table border=\"1\" class=\"dataframe\">\n",
              "  <thead>\n",
              "    <tr style=\"text-align: right;\">\n",
              "      <th></th>\n",
              "      <th>location</th>\n",
              "      <th>date</th>\n",
              "      <th>total_deaths</th>\n",
              "      <th>total_cases</th>\n",
              "      <th>cvd_death_rate</th>\n",
              "    </tr>\n",
              "  </thead>\n",
              "  <tbody>\n",
              "    <tr>\n",
              "      <th>26490</th>\n",
              "      <td>United States</td>\n",
              "      <td>2019-12-31</td>\n",
              "      <td>0.0</td>\n",
              "      <td>0.0</td>\n",
              "      <td>151.089</td>\n",
              "    </tr>\n",
              "    <tr>\n",
              "      <th>26491</th>\n",
              "      <td>United States</td>\n",
              "      <td>2020-01-01</td>\n",
              "      <td>0.0</td>\n",
              "      <td>0.0</td>\n",
              "      <td>151.089</td>\n",
              "    </tr>\n",
              "    <tr>\n",
              "      <th>26492</th>\n",
              "      <td>United States</td>\n",
              "      <td>2020-01-02</td>\n",
              "      <td>0.0</td>\n",
              "      <td>0.0</td>\n",
              "      <td>151.089</td>\n",
              "    </tr>\n",
              "    <tr>\n",
              "      <th>26493</th>\n",
              "      <td>United States</td>\n",
              "      <td>2020-01-03</td>\n",
              "      <td>0.0</td>\n",
              "      <td>0.0</td>\n",
              "      <td>151.089</td>\n",
              "    </tr>\n",
              "    <tr>\n",
              "      <th>26494</th>\n",
              "      <td>United States</td>\n",
              "      <td>2020-01-04</td>\n",
              "      <td>0.0</td>\n",
              "      <td>0.0</td>\n",
              "      <td>151.089</td>\n",
              "    </tr>\n",
              "  </tbody>\n",
              "</table>\n",
              "</div>"
            ],
            "text/plain": [
              "            location        date  total_deaths  total_cases  cvd_death_rate\n",
              "26490  United States  2019-12-31           0.0          0.0         151.089\n",
              "26491  United States  2020-01-01           0.0          0.0         151.089\n",
              "26492  United States  2020-01-02           0.0          0.0         151.089\n",
              "26493  United States  2020-01-03           0.0          0.0         151.089\n",
              "26494  United States  2020-01-04           0.0          0.0         151.089"
            ]
          },
          "metadata": {
            "tags": []
          },
          "execution_count": 50
        }
      ]
    },
    {
      "cell_type": "code",
      "metadata": {
        "id": "285DiboRj7MW",
        "colab_type": "code",
        "colab": {}
      },
      "source": [
        "# us_death_rates = covid_dataset.loc[covid_dataset.location=='Zimbabwe', ['location', 'date', 'total_deaths','total_cases','cvd_death_rate']]\n",
        "# us_death_rates.head()"
      ],
      "execution_count": null,
      "outputs": []
    },
    {
      "cell_type": "code",
      "metadata": {
        "id": "F3wvK4d2kvti",
        "colab_type": "code",
        "colab": {
          "base_uri": "https://localhost:8080/",
          "height": 35
        },
        "outputId": "5e61c71a-92a8-4869-b274-71ea62b764c7"
      },
      "source": [
        "us_death_rates.shape"
      ],
      "execution_count": null,
      "outputs": [
        {
          "output_type": "execute_result",
          "data": {
            "text/plain": [
              "(187, 5)"
            ]
          },
          "metadata": {
            "tags": []
          },
          "execution_count": 52
        }
      ]
    },
    {
      "cell_type": "code",
      "metadata": {
        "id": "kIDXEXFDf4N5",
        "colab_type": "code",
        "colab": {}
      },
      "source": [
        "# Import forex\n",
        "forex_dataset_data= pd.read_csv('GBP_USD.csv', na_values = \"?\", comment='\\t', skipinitialspace=True)\n",
        "forex_dataset = forex_dataset_data.copy()\n",
        "# forex_dataset = forex_dataset_data.dropna()\n"
      ],
      "execution_count": null,
      "outputs": []
    },
    {
      "cell_type": "markdown",
      "metadata": {
        "id": "C53hVpItH0az",
        "colab_type": "text"
      },
      "source": [
        "# Data Preprocessing / Data Cleaning & Collating"
      ]
    },
    {
      "cell_type": "code",
      "metadata": {
        "id": "jIpYbWz2HxyG",
        "colab_type": "code",
        "colab": {
          "base_uri": "https://localhost:8080/",
          "height": 233
        },
        "outputId": "a31b8306-a5b1-4c57-e5a7-8776c3b1bb9c"
      },
      "source": [
        "# Filter dataset\n",
        "forex_dataset.pop('Open')\n",
        "forex_dataset.pop('High')\n",
        "forex_dataset.pop('Low')\n",
        "forex_dataset.pop('Change %')"
      ],
      "execution_count": null,
      "outputs": [
        {
          "output_type": "execute_result",
          "data": {
            "text/plain": [
              "0       0.12%\n",
              "1      -0.05%\n",
              "2       0.59%\n",
              "3       0.83%\n",
              "4      -0.30%\n",
              "        ...  \n",
              "150    -0.15%\n",
              "151     0.40%\n",
              "152     0.85%\n",
              "153     0.44%\n",
              "154     0.02%\n",
              "Name: Change %, Length: 155, dtype: object"
            ]
          },
          "metadata": {
            "tags": []
          },
          "execution_count": 54
        }
      ]
    },
    {
      "cell_type": "code",
      "metadata": {
        "id": "oSzzjHJxi5D4",
        "colab_type": "code",
        "colab": {
          "base_uri": "https://localhost:8080/",
          "height": 204
        },
        "outputId": "b308a17e-177d-4ef6-b9f5-00c89a6234c8"
      },
      "source": [
        "forex_dataset.tail()"
      ],
      "execution_count": null,
      "outputs": [
        {
          "output_type": "execute_result",
          "data": {
            "text/html": [
              "<div>\n",
              "<style scoped>\n",
              "    .dataframe tbody tr th:only-of-type {\n",
              "        vertical-align: middle;\n",
              "    }\n",
              "\n",
              "    .dataframe tbody tr th {\n",
              "        vertical-align: top;\n",
              "    }\n",
              "\n",
              "    .dataframe thead th {\n",
              "        text-align: right;\n",
              "    }\n",
              "</style>\n",
              "<table border=\"1\" class=\"dataframe\">\n",
              "  <thead>\n",
              "    <tr style=\"text-align: right;\">\n",
              "      <th></th>\n",
              "      <th>Date</th>\n",
              "      <th>Price</th>\n",
              "    </tr>\n",
              "  </thead>\n",
              "  <tbody>\n",
              "    <tr>\n",
              "      <th>150</th>\n",
              "      <td>Dec 06, 2019</td>\n",
              "      <td>1.3137</td>\n",
              "    </tr>\n",
              "    <tr>\n",
              "      <th>151</th>\n",
              "      <td>Dec 05, 2019</td>\n",
              "      <td>1.3157</td>\n",
              "    </tr>\n",
              "    <tr>\n",
              "      <th>152</th>\n",
              "      <td>Dec 04, 2019</td>\n",
              "      <td>1.3104</td>\n",
              "    </tr>\n",
              "    <tr>\n",
              "      <th>153</th>\n",
              "      <td>Dec 03, 2019</td>\n",
              "      <td>1.2994</td>\n",
              "    </tr>\n",
              "    <tr>\n",
              "      <th>154</th>\n",
              "      <td>Dec 02, 2019</td>\n",
              "      <td>1.2937</td>\n",
              "    </tr>\n",
              "  </tbody>\n",
              "</table>\n",
              "</div>"
            ],
            "text/plain": [
              "             Date   Price\n",
              "150  Dec 06, 2019  1.3137\n",
              "151  Dec 05, 2019  1.3157\n",
              "152  Dec 04, 2019  1.3104\n",
              "153  Dec 03, 2019  1.2994\n",
              "154  Dec 02, 2019  1.2937"
            ]
          },
          "metadata": {
            "tags": []
          },
          "execution_count": 55
        }
      ]
    },
    {
      "cell_type": "code",
      "metadata": {
        "id": "vrVetfeGgSm7",
        "colab_type": "code",
        "colab": {
          "base_uri": "https://localhost:8080/",
          "height": 204
        },
        "outputId": "267fb695-d791-49fa-8000-1b977a313d43"
      },
      "source": [
        "# Isolate covid_date\n",
        "import time \n",
        "us_date = us_death_rates['date']\n",
        "new_us_dates = [time.strptime(x.replace(\"-\",\" \"), '%Y %m %d')for x in us_date]\n",
        "us_death_rates['date'] = new_us_dates\n",
        "us_death_rates.head()\n"
      ],
      "execution_count": null,
      "outputs": [
        {
          "output_type": "execute_result",
          "data": {
            "text/html": [
              "<div>\n",
              "<style scoped>\n",
              "    .dataframe tbody tr th:only-of-type {\n",
              "        vertical-align: middle;\n",
              "    }\n",
              "\n",
              "    .dataframe tbody tr th {\n",
              "        vertical-align: top;\n",
              "    }\n",
              "\n",
              "    .dataframe thead th {\n",
              "        text-align: right;\n",
              "    }\n",
              "</style>\n",
              "<table border=\"1\" class=\"dataframe\">\n",
              "  <thead>\n",
              "    <tr style=\"text-align: right;\">\n",
              "      <th></th>\n",
              "      <th>location</th>\n",
              "      <th>date</th>\n",
              "      <th>total_deaths</th>\n",
              "      <th>total_cases</th>\n",
              "      <th>cvd_death_rate</th>\n",
              "    </tr>\n",
              "  </thead>\n",
              "  <tbody>\n",
              "    <tr>\n",
              "      <th>26490</th>\n",
              "      <td>United States</td>\n",
              "      <td>(2019, 12, 31, 0, 0, 0, 1, 365, -1)</td>\n",
              "      <td>0.0</td>\n",
              "      <td>0.0</td>\n",
              "      <td>151.089</td>\n",
              "    </tr>\n",
              "    <tr>\n",
              "      <th>26491</th>\n",
              "      <td>United States</td>\n",
              "      <td>(2020, 1, 1, 0, 0, 0, 2, 1, -1)</td>\n",
              "      <td>0.0</td>\n",
              "      <td>0.0</td>\n",
              "      <td>151.089</td>\n",
              "    </tr>\n",
              "    <tr>\n",
              "      <th>26492</th>\n",
              "      <td>United States</td>\n",
              "      <td>(2020, 1, 2, 0, 0, 0, 3, 2, -1)</td>\n",
              "      <td>0.0</td>\n",
              "      <td>0.0</td>\n",
              "      <td>151.089</td>\n",
              "    </tr>\n",
              "    <tr>\n",
              "      <th>26493</th>\n",
              "      <td>United States</td>\n",
              "      <td>(2020, 1, 3, 0, 0, 0, 4, 3, -1)</td>\n",
              "      <td>0.0</td>\n",
              "      <td>0.0</td>\n",
              "      <td>151.089</td>\n",
              "    </tr>\n",
              "    <tr>\n",
              "      <th>26494</th>\n",
              "      <td>United States</td>\n",
              "      <td>(2020, 1, 4, 0, 0, 0, 5, 4, -1)</td>\n",
              "      <td>0.0</td>\n",
              "      <td>0.0</td>\n",
              "      <td>151.089</td>\n",
              "    </tr>\n",
              "  </tbody>\n",
              "</table>\n",
              "</div>"
            ],
            "text/plain": [
              "            location  ... cvd_death_rate\n",
              "26490  United States  ...        151.089\n",
              "26491  United States  ...        151.089\n",
              "26492  United States  ...        151.089\n",
              "26493  United States  ...        151.089\n",
              "26494  United States  ...        151.089\n",
              "\n",
              "[5 rows x 5 columns]"
            ]
          },
          "metadata": {
            "tags": []
          },
          "execution_count": 56
        }
      ]
    },
    {
      "cell_type": "code",
      "metadata": {
        "id": "IGR0p0YWh9jH",
        "colab_type": "code",
        "colab": {
          "base_uri": "https://localhost:8080/",
          "height": 204
        },
        "outputId": "14b9532c-f386-4cb2-a137-90959f0b0011"
      },
      "source": [
        "# Isolate forex_date\n",
        "import time \n",
        "forex_date = forex_dataset['Date']\n",
        "new_forex_dates = [time.strptime(x.replace(',', \"\"), '%b %d %Y')for x in forex_date]\n",
        "forex_dataset['Date'] = new_forex_dates\n",
        "forex_dataset.tail()\n"
      ],
      "execution_count": null,
      "outputs": [
        {
          "output_type": "execute_result",
          "data": {
            "text/html": [
              "<div>\n",
              "<style scoped>\n",
              "    .dataframe tbody tr th:only-of-type {\n",
              "        vertical-align: middle;\n",
              "    }\n",
              "\n",
              "    .dataframe tbody tr th {\n",
              "        vertical-align: top;\n",
              "    }\n",
              "\n",
              "    .dataframe thead th {\n",
              "        text-align: right;\n",
              "    }\n",
              "</style>\n",
              "<table border=\"1\" class=\"dataframe\">\n",
              "  <thead>\n",
              "    <tr style=\"text-align: right;\">\n",
              "      <th></th>\n",
              "      <th>Date</th>\n",
              "      <th>Price</th>\n",
              "    </tr>\n",
              "  </thead>\n",
              "  <tbody>\n",
              "    <tr>\n",
              "      <th>150</th>\n",
              "      <td>(2019, 12, 6, 0, 0, 0, 4, 340, -1)</td>\n",
              "      <td>1.3137</td>\n",
              "    </tr>\n",
              "    <tr>\n",
              "      <th>151</th>\n",
              "      <td>(2019, 12, 5, 0, 0, 0, 3, 339, -1)</td>\n",
              "      <td>1.3157</td>\n",
              "    </tr>\n",
              "    <tr>\n",
              "      <th>152</th>\n",
              "      <td>(2019, 12, 4, 0, 0, 0, 2, 338, -1)</td>\n",
              "      <td>1.3104</td>\n",
              "    </tr>\n",
              "    <tr>\n",
              "      <th>153</th>\n",
              "      <td>(2019, 12, 3, 0, 0, 0, 1, 337, -1)</td>\n",
              "      <td>1.2994</td>\n",
              "    </tr>\n",
              "    <tr>\n",
              "      <th>154</th>\n",
              "      <td>(2019, 12, 2, 0, 0, 0, 0, 336, -1)</td>\n",
              "      <td>1.2937</td>\n",
              "    </tr>\n",
              "  </tbody>\n",
              "</table>\n",
              "</div>"
            ],
            "text/plain": [
              "                                   Date   Price\n",
              "150  (2019, 12, 6, 0, 0, 0, 4, 340, -1)  1.3137\n",
              "151  (2019, 12, 5, 0, 0, 0, 3, 339, -1)  1.3157\n",
              "152  (2019, 12, 4, 0, 0, 0, 2, 338, -1)  1.3104\n",
              "153  (2019, 12, 3, 0, 0, 0, 1, 337, -1)  1.2994\n",
              "154  (2019, 12, 2, 0, 0, 0, 0, 336, -1)  1.2937"
            ]
          },
          "metadata": {
            "tags": []
          },
          "execution_count": 57
        }
      ]
    },
    {
      "cell_type": "code",
      "metadata": {
        "id": "7b16glGjiCLz",
        "colab_type": "code",
        "colab": {
          "base_uri": "https://localhost:8080/",
          "height": 35
        },
        "outputId": "7fcbb364-30bb-4a02-f480-9cab506a4e61"
      },
      "source": [
        "print(len(forex_dataset))"
      ],
      "execution_count": null,
      "outputs": [
        {
          "output_type": "stream",
          "text": [
            "155\n"
          ],
          "name": "stdout"
        }
      ]
    },
    {
      "cell_type": "code",
      "metadata": {
        "id": "OiFVDAF0ngrx",
        "colab_type": "code",
        "colab": {
          "base_uri": "https://localhost:8080/",
          "height": 35
        },
        "outputId": "9f2f5785-6cad-4c2a-d2c8-84c30acffb37"
      },
      "source": [
        "# Merging dates from two tables\n",
        "dataset = pd.merge(left=forex_dataset, left_on='Date',\n",
        "         right=us_death_rates, right_on='date')\n",
        "dataset.tail()\n",
        "len(dataset)\n"
      ],
      "execution_count": null,
      "outputs": [
        {
          "output_type": "execute_result",
          "data": {
            "text/plain": [
              "134"
            ]
          },
          "metadata": {
            "tags": []
          },
          "execution_count": 59
        }
      ]
    },
    {
      "cell_type": "code",
      "metadata": {
        "id": "a9A_G1s9ETvi",
        "colab_type": "code",
        "colab": {
          "base_uri": "https://localhost:8080/",
          "height": 233
        },
        "outputId": "588a5bec-38b5-471e-bf78-efa3d80676b9"
      },
      "source": [
        "# We pop the 'date' from the covid_dataset because this column starts later than the forex column\n",
        "# We want to see the forex price before covid happened\n",
        "dataset.pop('date')"
      ],
      "execution_count": null,
      "outputs": [
        {
          "output_type": "execute_result",
          "data": {
            "text/plain": [
              "0        (2020, 7, 3, 0, 0, 0, 4, 185, -1)\n",
              "1        (2020, 7, 2, 0, 0, 0, 3, 184, -1)\n",
              "2        (2020, 7, 1, 0, 0, 0, 2, 183, -1)\n",
              "3       (2020, 6, 30, 0, 0, 0, 1, 182, -1)\n",
              "4       (2020, 6, 29, 0, 0, 0, 0, 181, -1)\n",
              "                      ...                 \n",
              "129        (2020, 1, 6, 0, 0, 0, 0, 6, -1)\n",
              "130        (2020, 1, 3, 0, 0, 0, 4, 3, -1)\n",
              "131        (2020, 1, 2, 0, 0, 0, 3, 2, -1)\n",
              "132        (2020, 1, 1, 0, 0, 0, 2, 1, -1)\n",
              "133    (2019, 12, 31, 0, 0, 0, 1, 365, -1)\n",
              "Name: date, Length: 134, dtype: object"
            ]
          },
          "metadata": {
            "tags": []
          },
          "execution_count": 60
        }
      ]
    },
    {
      "cell_type": "code",
      "metadata": {
        "id": "Rz0-4V24EY65",
        "colab_type": "code",
        "colab": {
          "base_uri": "https://localhost:8080/",
          "height": 204
        },
        "outputId": "9e3f28ca-d251-466b-bd64-933d40cf8f91"
      },
      "source": [
        "# Problem: This still starts at 2019,12,13 when we want 2019,12,02\n",
        "# However this does not affect our data graph for some reason - scroll down\n",
        "dataset.tail()"
      ],
      "execution_count": null,
      "outputs": [
        {
          "output_type": "execute_result",
          "data": {
            "text/html": [
              "<div>\n",
              "<style scoped>\n",
              "    .dataframe tbody tr th:only-of-type {\n",
              "        vertical-align: middle;\n",
              "    }\n",
              "\n",
              "    .dataframe tbody tr th {\n",
              "        vertical-align: top;\n",
              "    }\n",
              "\n",
              "    .dataframe thead th {\n",
              "        text-align: right;\n",
              "    }\n",
              "</style>\n",
              "<table border=\"1\" class=\"dataframe\">\n",
              "  <thead>\n",
              "    <tr style=\"text-align: right;\">\n",
              "      <th></th>\n",
              "      <th>Date</th>\n",
              "      <th>Price</th>\n",
              "      <th>location</th>\n",
              "      <th>total_deaths</th>\n",
              "      <th>total_cases</th>\n",
              "      <th>cvd_death_rate</th>\n",
              "    </tr>\n",
              "  </thead>\n",
              "  <tbody>\n",
              "    <tr>\n",
              "      <th>129</th>\n",
              "      <td>(2020, 1, 6, 0, 0, 0, 0, 6, -1)</td>\n",
              "      <td>1.3169</td>\n",
              "      <td>United States</td>\n",
              "      <td>0.0</td>\n",
              "      <td>0.0</td>\n",
              "      <td>151.089</td>\n",
              "    </tr>\n",
              "    <tr>\n",
              "      <th>130</th>\n",
              "      <td>(2020, 1, 3, 0, 0, 0, 4, 3, -1)</td>\n",
              "      <td>1.3088</td>\n",
              "      <td>United States</td>\n",
              "      <td>0.0</td>\n",
              "      <td>0.0</td>\n",
              "      <td>151.089</td>\n",
              "    </tr>\n",
              "    <tr>\n",
              "      <th>131</th>\n",
              "      <td>(2020, 1, 2, 0, 0, 0, 3, 2, -1)</td>\n",
              "      <td>1.3146</td>\n",
              "      <td>United States</td>\n",
              "      <td>0.0</td>\n",
              "      <td>0.0</td>\n",
              "      <td>151.089</td>\n",
              "    </tr>\n",
              "    <tr>\n",
              "      <th>132</th>\n",
              "      <td>(2020, 1, 1, 0, 0, 0, 2, 1, -1)</td>\n",
              "      <td>1.3255</td>\n",
              "      <td>United States</td>\n",
              "      <td>0.0</td>\n",
              "      <td>0.0</td>\n",
              "      <td>151.089</td>\n",
              "    </tr>\n",
              "    <tr>\n",
              "      <th>133</th>\n",
              "      <td>(2019, 12, 31, 0, 0, 0, 1, 365, -1)</td>\n",
              "      <td>1.3261</td>\n",
              "      <td>United States</td>\n",
              "      <td>0.0</td>\n",
              "      <td>0.0</td>\n",
              "      <td>151.089</td>\n",
              "    </tr>\n",
              "  </tbody>\n",
              "</table>\n",
              "</div>"
            ],
            "text/plain": [
              "                                    Date   Price  ... total_cases  cvd_death_rate\n",
              "129      (2020, 1, 6, 0, 0, 0, 0, 6, -1)  1.3169  ...         0.0         151.089\n",
              "130      (2020, 1, 3, 0, 0, 0, 4, 3, -1)  1.3088  ...         0.0         151.089\n",
              "131      (2020, 1, 2, 0, 0, 0, 3, 2, -1)  1.3146  ...         0.0         151.089\n",
              "132      (2020, 1, 1, 0, 0, 0, 2, 1, -1)  1.3255  ...         0.0         151.089\n",
              "133  (2019, 12, 31, 0, 0, 0, 1, 365, -1)  1.3261  ...         0.0         151.089\n",
              "\n",
              "[5 rows x 6 columns]"
            ]
          },
          "metadata": {
            "tags": []
          },
          "execution_count": 61
        }
      ]
    },
    {
      "cell_type": "code",
      "metadata": {
        "id": "AKPMw6jUypAN",
        "colab_type": "code",
        "colab": {
          "base_uri": "https://localhost:8080/",
          "height": 233
        },
        "outputId": "b6f12a46-b0ee-4a81-e9a8-f406394e7d62"
      },
      "source": [
        "# Object means string\n",
        "dataset['total_deaths']"
      ],
      "execution_count": null,
      "outputs": [
        {
          "output_type": "execute_result",
          "data": {
            "text/plain": [
              "0      128740.0\n",
              "1      128062.0\n",
              "2      127410.0\n",
              "3      126140.0\n",
              "4      125804.0\n",
              "         ...   \n",
              "129         0.0\n",
              "130         0.0\n",
              "131         0.0\n",
              "132         0.0\n",
              "133         0.0\n",
              "Name: total_deaths, Length: 134, dtype: float64"
            ]
          },
          "metadata": {
            "tags": []
          },
          "execution_count": 62
        }
      ]
    },
    {
      "cell_type": "code",
      "metadata": {
        "id": "I9kHcA_4tAqL",
        "colab_type": "code",
        "colab": {
          "base_uri": "https://localhost:8080/",
          "height": 35
        },
        "outputId": "aef4345a-fe09-4417-fb91-3219e3830e2b"
      },
      "source": [
        "# View what date looks like\n",
        "date = dataset['Date']\n",
        "date.head()\n",
        "len(date)"
      ],
      "execution_count": null,
      "outputs": [
        {
          "output_type": "execute_result",
          "data": {
            "text/plain": [
              "134"
            ]
          },
          "metadata": {
            "tags": []
          },
          "execution_count": 63
        }
      ]
    },
    {
      "cell_type": "code",
      "metadata": {
        "id": "0Nxcgc_K3ZDm",
        "colab_type": "code",
        "colab": {
          "base_uri": "https://localhost:8080/",
          "height": 269
        },
        "outputId": "bcc640bc-f6cf-45ae-f8cb-1617c50e7bd7"
      },
      "source": [
        "# Splitting timestamp and isolating the date\n",
        "dateFormatting = pd.DataFrame({'new_date': pd.date_range('2019-12-31', periods=len(date))})\n",
        "# dateFormatting['new_date'] = [d.date() for d in dateFormatting['my_timestamp']]\n",
        "# dateFormatting['new_time'] = [d.time() for d in dateFormatting['my_timestamp']]\n",
        "print(dateFormatting)\n"
      ],
      "execution_count": null,
      "outputs": [
        {
          "output_type": "stream",
          "text": [
            "      new_date\n",
            "0   2019-12-31\n",
            "1   2020-01-01\n",
            "2   2020-01-02\n",
            "3   2020-01-03\n",
            "4   2020-01-04\n",
            "..         ...\n",
            "129 2020-05-08\n",
            "130 2020-05-09\n",
            "131 2020-05-10\n",
            "132 2020-05-11\n",
            "133 2020-05-12\n",
            "\n",
            "[134 rows x 1 columns]\n"
          ],
          "name": "stdout"
        }
      ]
    },
    {
      "cell_type": "code",
      "metadata": {
        "id": "Tav3LALn4KN2",
        "colab_type": "code",
        "colab": {
          "base_uri": "https://localhost:8080/",
          "height": 55
        },
        "outputId": "9be8caf8-7f52-436b-9c52-2fdf94b452e4"
      },
      "source": [
        "# Convert date to list so that we can use the dates to plot on graph\n",
        "my_xticks = dateFormatting['new_date'].tolist()\n",
        "print(my_xticks)"
      ],
      "execution_count": null,
      "outputs": [
        {
          "output_type": "stream",
          "text": [
            "[Timestamp('2019-12-31 00:00:00'), Timestamp('2020-01-01 00:00:00'), Timestamp('2020-01-02 00:00:00'), Timestamp('2020-01-03 00:00:00'), Timestamp('2020-01-04 00:00:00'), Timestamp('2020-01-05 00:00:00'), Timestamp('2020-01-06 00:00:00'), Timestamp('2020-01-07 00:00:00'), Timestamp('2020-01-08 00:00:00'), Timestamp('2020-01-09 00:00:00'), Timestamp('2020-01-10 00:00:00'), Timestamp('2020-01-11 00:00:00'), Timestamp('2020-01-12 00:00:00'), Timestamp('2020-01-13 00:00:00'), Timestamp('2020-01-14 00:00:00'), Timestamp('2020-01-15 00:00:00'), Timestamp('2020-01-16 00:00:00'), Timestamp('2020-01-17 00:00:00'), Timestamp('2020-01-18 00:00:00'), Timestamp('2020-01-19 00:00:00'), Timestamp('2020-01-20 00:00:00'), Timestamp('2020-01-21 00:00:00'), Timestamp('2020-01-22 00:00:00'), Timestamp('2020-01-23 00:00:00'), Timestamp('2020-01-24 00:00:00'), Timestamp('2020-01-25 00:00:00'), Timestamp('2020-01-26 00:00:00'), Timestamp('2020-01-27 00:00:00'), Timestamp('2020-01-28 00:00:00'), Timestamp('2020-01-29 00:00:00'), Timestamp('2020-01-30 00:00:00'), Timestamp('2020-01-31 00:00:00'), Timestamp('2020-02-01 00:00:00'), Timestamp('2020-02-02 00:00:00'), Timestamp('2020-02-03 00:00:00'), Timestamp('2020-02-04 00:00:00'), Timestamp('2020-02-05 00:00:00'), Timestamp('2020-02-06 00:00:00'), Timestamp('2020-02-07 00:00:00'), Timestamp('2020-02-08 00:00:00'), Timestamp('2020-02-09 00:00:00'), Timestamp('2020-02-10 00:00:00'), Timestamp('2020-02-11 00:00:00'), Timestamp('2020-02-12 00:00:00'), Timestamp('2020-02-13 00:00:00'), Timestamp('2020-02-14 00:00:00'), Timestamp('2020-02-15 00:00:00'), Timestamp('2020-02-16 00:00:00'), Timestamp('2020-02-17 00:00:00'), Timestamp('2020-02-18 00:00:00'), Timestamp('2020-02-19 00:00:00'), Timestamp('2020-02-20 00:00:00'), Timestamp('2020-02-21 00:00:00'), Timestamp('2020-02-22 00:00:00'), Timestamp('2020-02-23 00:00:00'), Timestamp('2020-02-24 00:00:00'), Timestamp('2020-02-25 00:00:00'), Timestamp('2020-02-26 00:00:00'), Timestamp('2020-02-27 00:00:00'), Timestamp('2020-02-28 00:00:00'), Timestamp('2020-02-29 00:00:00'), Timestamp('2020-03-01 00:00:00'), Timestamp('2020-03-02 00:00:00'), Timestamp('2020-03-03 00:00:00'), Timestamp('2020-03-04 00:00:00'), Timestamp('2020-03-05 00:00:00'), Timestamp('2020-03-06 00:00:00'), Timestamp('2020-03-07 00:00:00'), Timestamp('2020-03-08 00:00:00'), Timestamp('2020-03-09 00:00:00'), Timestamp('2020-03-10 00:00:00'), Timestamp('2020-03-11 00:00:00'), Timestamp('2020-03-12 00:00:00'), Timestamp('2020-03-13 00:00:00'), Timestamp('2020-03-14 00:00:00'), Timestamp('2020-03-15 00:00:00'), Timestamp('2020-03-16 00:00:00'), Timestamp('2020-03-17 00:00:00'), Timestamp('2020-03-18 00:00:00'), Timestamp('2020-03-19 00:00:00'), Timestamp('2020-03-20 00:00:00'), Timestamp('2020-03-21 00:00:00'), Timestamp('2020-03-22 00:00:00'), Timestamp('2020-03-23 00:00:00'), Timestamp('2020-03-24 00:00:00'), Timestamp('2020-03-25 00:00:00'), Timestamp('2020-03-26 00:00:00'), Timestamp('2020-03-27 00:00:00'), Timestamp('2020-03-28 00:00:00'), Timestamp('2020-03-29 00:00:00'), Timestamp('2020-03-30 00:00:00'), Timestamp('2020-03-31 00:00:00'), Timestamp('2020-04-01 00:00:00'), Timestamp('2020-04-02 00:00:00'), Timestamp('2020-04-03 00:00:00'), Timestamp('2020-04-04 00:00:00'), Timestamp('2020-04-05 00:00:00'), Timestamp('2020-04-06 00:00:00'), Timestamp('2020-04-07 00:00:00'), Timestamp('2020-04-08 00:00:00'), Timestamp('2020-04-09 00:00:00'), Timestamp('2020-04-10 00:00:00'), Timestamp('2020-04-11 00:00:00'), Timestamp('2020-04-12 00:00:00'), Timestamp('2020-04-13 00:00:00'), Timestamp('2020-04-14 00:00:00'), Timestamp('2020-04-15 00:00:00'), Timestamp('2020-04-16 00:00:00'), Timestamp('2020-04-17 00:00:00'), Timestamp('2020-04-18 00:00:00'), Timestamp('2020-04-19 00:00:00'), Timestamp('2020-04-20 00:00:00'), Timestamp('2020-04-21 00:00:00'), Timestamp('2020-04-22 00:00:00'), Timestamp('2020-04-23 00:00:00'), Timestamp('2020-04-24 00:00:00'), Timestamp('2020-04-25 00:00:00'), Timestamp('2020-04-26 00:00:00'), Timestamp('2020-04-27 00:00:00'), Timestamp('2020-04-28 00:00:00'), Timestamp('2020-04-29 00:00:00'), Timestamp('2020-04-30 00:00:00'), Timestamp('2020-05-01 00:00:00'), Timestamp('2020-05-02 00:00:00'), Timestamp('2020-05-03 00:00:00'), Timestamp('2020-05-04 00:00:00'), Timestamp('2020-05-05 00:00:00'), Timestamp('2020-05-06 00:00:00'), Timestamp('2020-05-07 00:00:00'), Timestamp('2020-05-08 00:00:00'), Timestamp('2020-05-09 00:00:00'), Timestamp('2020-05-10 00:00:00'), Timestamp('2020-05-11 00:00:00'), Timestamp('2020-05-12 00:00:00')]\n"
          ],
          "name": "stdout"
        }
      ]
    },
    {
      "cell_type": "code",
      "metadata": {
        "id": "DeyD3C8dm1DM",
        "colab_type": "code",
        "colab": {
          "base_uri": "https://localhost:8080/",
          "height": 233
        },
        "outputId": "46ef3089-2d23-4cd0-cb14-75662dbc622a"
      },
      "source": [
        "dataset['Date']"
      ],
      "execution_count": null,
      "outputs": [
        {
          "output_type": "execute_result",
          "data": {
            "text/plain": [
              "0        (2020, 7, 3, 0, 0, 0, 4, 185, -1)\n",
              "1        (2020, 7, 2, 0, 0, 0, 3, 184, -1)\n",
              "2        (2020, 7, 1, 0, 0, 0, 2, 183, -1)\n",
              "3       (2020, 6, 30, 0, 0, 0, 1, 182, -1)\n",
              "4       (2020, 6, 29, 0, 0, 0, 0, 181, -1)\n",
              "                      ...                 \n",
              "129        (2020, 1, 6, 0, 0, 0, 0, 6, -1)\n",
              "130        (2020, 1, 3, 0, 0, 0, 4, 3, -1)\n",
              "131        (2020, 1, 2, 0, 0, 0, 3, 2, -1)\n",
              "132        (2020, 1, 1, 0, 0, 0, 2, 1, -1)\n",
              "133    (2019, 12, 31, 0, 0, 0, 1, 365, -1)\n",
              "Name: Date, Length: 134, dtype: object"
            ]
          },
          "metadata": {
            "tags": []
          },
          "execution_count": 66
        }
      ]
    },
    {
      "cell_type": "markdown",
      "metadata": {
        "id": "wvb8c8CBIOqM",
        "colab_type": "text"
      },
      "source": [
        "# Plotting Features before Normalisation"
      ]
    },
    {
      "cell_type": "code",
      "metadata": {
        "id": "eDGMN3GG6wOL",
        "colab_type": "code",
        "colab": {
          "base_uri": "https://localhost:8080/",
          "height": 398
        },
        "outputId": "490ef240-9c35-4f50-ced7-c498c1a49bf4"
      },
      "source": [
        "# Plotted prices and dates\n",
        "# Notice how the dates start and end\n",
        "\n",
        "from datetime import datetime, timedelta\n",
        "from matplotlib import pyplot as plt\n",
        "from matplotlib import dates as mpl_dates\n",
        "plt.style.use('seaborn')\n",
        "from matplotlib import rcParams\n",
        "rcParams['figure.figsize'] = 15,6\n",
        "\n",
        "dates = np.array(dateFormatting['new_date'])\n",
        "price = np.array(dataset['Price'])\n",
        "plt.plot_date(dates,price, linestyle ='solid')\n",
        "plt.gcf().autofmt_xdate()\n",
        "date_format = mpl_dates.DateFormatter('%b,%d,%Y')\n",
        "plt.title('Time Series Price of USD compare to GBP')\n",
        "plt.xlabel('Date')\n",
        "plt.ylabel('Price')\n",
        "plt.gca().xaxis.set_major_formatter(date_format)"
      ],
      "execution_count": null,
      "outputs": [
        {
          "output_type": "display_data",
          "data": {
            "image/png": "[encoded data removed]",
            "text/plain": [
              "<Figure size 1080x432 with 1 Axes>"
            ]
          },
          "metadata": {
            "tags": []
          }
        }
      ]
    },
    {
      "cell_type": "code",
      "metadata": {
        "id": "Dqj88upVOPC9",
        "colab_type": "code",
        "colab": {
          "base_uri": "https://localhost:8080/",
          "height": 35
        },
        "outputId": "37e01717-730c-43ab-af56-d2683b91de79"
      },
      "source": [
        "# print(price)\n",
        "test = np.array(dataset['total_deaths'])\n",
        "# print(test)\n",
        "price.shape\n",
        "# test.shape\n",
        "test = np.array(dataset['total_deaths'])\n",
        "list_arr = np.array(test)\n",
        "reversed_arr = list_arr[::-1]\n",
        "reversed_arr.shape\n",
        "price.shape"
      ],
      "execution_count": null,
      "outputs": [
        {
          "output_type": "execute_result",
          "data": {
            "text/plain": [
              "(134,)"
            ]
          },
          "metadata": {
            "tags": []
          },
          "execution_count": 68
        }
      ]
    },
    {
      "cell_type": "code",
      "metadata": {
        "id": "T30FJ5ONMRsa",
        "colab_type": "code",
        "colab": {}
      },
      "source": [
        "# Adds the accumulative deaths every day of a country\n",
        "# Problem – This needs to be sorted from the end since the way out data is set up - can this be made more efficient?\n",
        "total_us_deaths = dataset['total_deaths']\n",
        "list_arr = np.array(total_us_deaths)\n",
        "reversed_arr = list_arr[::-1]\n",
        "newDay = 0\n",
        "day = []\n",
        "for currentday in reversed_arr:\n",
        "   newDay = currentday + newDay\n",
        "   day.append(newDay)\n"
      ],
      "execution_count": null,
      "outputs": []
    },
    {
      "cell_type": "code",
      "metadata": {
        "id": "oivvoebSMpRV",
        "colab_type": "code",
        "colab": {
          "base_uri": "https://localhost:8080/",
          "height": 413
        },
        "outputId": "8c31ac14-6115-4ac3-caa2-fd254cde789c"
      },
      "source": [
        "# Plots the accumulative daily death rates of a country\n",
        "dates = np.array(dateFormatting['new_date'])\n",
        "us_deaths = np.array(day)\n",
        "plt.plot_date(dates,us_deaths, linestyle ='solid')\n",
        "plt.gcf().autofmt_xdate()\n",
        "date_format = mpl_dates.DateFormatter('%b,%d,%Y')\n",
        "plt.title('Time Series of Total Deaths of US')\n",
        "plt.xlabel('Date')\n",
        "plt.ylabel('Total Deaths')\n"
      ],
      "execution_count": null,
      "outputs": [
        {
          "output_type": "execute_result",
          "data": {
            "text/plain": [
              "Text(0, 0.5, 'Total Deaths')"
            ]
          },
          "metadata": {
            "tags": []
          },
          "execution_count": 70
        },
        {
          "output_type": "display_data",
          "data": {
            "image/png": "[encoded data removed]",
            "text/plain": [
              "<Figure size 1080x432 with 1 Axes>"
            ]
          },
          "metadata": {
            "tags": []
          }
        }
      ]
    },
    {
      "cell_type": "code",
      "metadata": {
        "id": "1dCKLM-XSXt_",
        "colab_type": "code",
        "colab": {
          "base_uri": "https://localhost:8080/",
          "height": 35
        },
        "outputId": "4ed40fed-9a1d-4c76-f959-e9fc5cad62a5"
      },
      "source": [
        "test.shape"
      ],
      "execution_count": null,
      "outputs": [
        {
          "output_type": "execute_result",
          "data": {
            "text/plain": [
              "(134,)"
            ]
          },
          "metadata": {
            "tags": []
          },
          "execution_count": 71
        }
      ]
    },
    {
      "cell_type": "code",
      "metadata": {
        "id": "aLvrpnjESZmR",
        "colab_type": "code",
        "colab": {
          "base_uri": "https://localhost:8080/",
          "height": 35
        },
        "outputId": "30a8e0ff-439c-4a92-a5f4-bc1747151462"
      },
      "source": [
        "price.shape"
      ],
      "execution_count": null,
      "outputs": [
        {
          "output_type": "execute_result",
          "data": {
            "text/plain": [
              "(134,)"
            ]
          },
          "metadata": {
            "tags": []
          },
          "execution_count": 72
        }
      ]
    },
    {
      "cell_type": "markdown",
      "metadata": {
        "id": "SWTJypnsv5R3",
        "colab_type": "text"
      },
      "source": [
        ""
      ]
    },
    {
      "cell_type": "code",
      "metadata": {
        "id": "v6NykB3TSJxe",
        "colab_type": "code",
        "colab": {
          "base_uri": "https://localhost:8080/",
          "height": 419
        },
        "outputId": "81e9aea5-3134-4760-d78b-7d9b3be184a0"
      },
      "source": [
        "price_frame = pd.DataFrame(np.concatenate([price]), columns= [\"Price\"])\n",
        "death_frame = pd.DataFrame(np.concatenate([day]), columns= [\"Total_Deaths_US\"])\n",
        "price_frame.append(death_frame)"
      ],
      "execution_count": null,
      "outputs": [
        {
          "output_type": "execute_result",
          "data": {
            "text/html": [
              "<div>\n",
              "<style scoped>\n",
              "    .dataframe tbody tr th:only-of-type {\n",
              "        vertical-align: middle;\n",
              "    }\n",
              "\n",
              "    .dataframe tbody tr th {\n",
              "        vertical-align: top;\n",
              "    }\n",
              "\n",
              "    .dataframe thead th {\n",
              "        text-align: right;\n",
              "    }\n",
              "</style>\n",
              "<table border=\"1\" class=\"dataframe\">\n",
              "  <thead>\n",
              "    <tr style=\"text-align: right;\">\n",
              "      <th></th>\n",
              "      <th>Price</th>\n",
              "      <th>Total_Deaths_US</th>\n",
              "    </tr>\n",
              "  </thead>\n",
              "  <tbody>\n",
              "    <tr>\n",
              "      <th>0</th>\n",
              "      <td>1.2482</td>\n",
              "      <td>NaN</td>\n",
              "    </tr>\n",
              "    <tr>\n",
              "      <th>1</th>\n",
              "      <td>1.2467</td>\n",
              "      <td>NaN</td>\n",
              "    </tr>\n",
              "    <tr>\n",
              "      <th>2</th>\n",
              "      <td>1.2474</td>\n",
              "      <td>NaN</td>\n",
              "    </tr>\n",
              "    <tr>\n",
              "      <th>3</th>\n",
              "      <td>1.2401</td>\n",
              "      <td>NaN</td>\n",
              "    </tr>\n",
              "    <tr>\n",
              "      <th>4</th>\n",
              "      <td>1.2299</td>\n",
              "      <td>NaN</td>\n",
              "    </tr>\n",
              "    <tr>\n",
              "      <th>...</th>\n",
              "      <td>...</td>\n",
              "      <td>...</td>\n",
              "    </tr>\n",
              "    <tr>\n",
              "      <th>129</th>\n",
              "      <td>NaN</td>\n",
              "      <td>4881974.0</td>\n",
              "    </tr>\n",
              "    <tr>\n",
              "      <th>130</th>\n",
              "      <td>NaN</td>\n",
              "      <td>5008114.0</td>\n",
              "    </tr>\n",
              "    <tr>\n",
              "      <th>131</th>\n",
              "      <td>NaN</td>\n",
              "      <td>5135524.0</td>\n",
              "    </tr>\n",
              "    <tr>\n",
              "      <th>132</th>\n",
              "      <td>NaN</td>\n",
              "      <td>5263586.0</td>\n",
              "    </tr>\n",
              "    <tr>\n",
              "      <th>133</th>\n",
              "      <td>NaN</td>\n",
              "      <td>5392326.0</td>\n",
              "    </tr>\n",
              "  </tbody>\n",
              "</table>\n",
              "<p>268 rows × 2 columns</p>\n",
              "</div>"
            ],
            "text/plain": [
              "      Price  Total_Deaths_US\n",
              "0    1.2482              NaN\n",
              "1    1.2467              NaN\n",
              "2    1.2474              NaN\n",
              "3    1.2401              NaN\n",
              "4    1.2299              NaN\n",
              "..      ...              ...\n",
              "129     NaN        4881974.0\n",
              "130     NaN        5008114.0\n",
              "131     NaN        5135524.0\n",
              "132     NaN        5263586.0\n",
              "133     NaN        5392326.0\n",
              "\n",
              "[268 rows x 2 columns]"
            ]
          },
          "metadata": {
            "tags": []
          },
          "execution_count": 73
        }
      ]
    },
    {
      "cell_type": "markdown",
      "metadata": {
        "id": "kkWFQ8HeIerS",
        "colab_type": "text"
      },
      "source": [
        "# Normalisation of Features"
      ]
    },
    {
      "cell_type": "code",
      "metadata": {
        "id": "GUr5EmIHITzq",
        "colab_type": "code",
        "colab": {}
      },
      "source": [
        "# Working Normalised method!!\n",
        "from sklearn.preprocessing import MinMaxScaler\n",
        "scaler = MinMaxScaler(feature_range=(0,1))\n",
        "# they are so small that is why\n",
        "normalisation_us_deaths = scaler.fit_transform(death_frame).reshape(-1,1)\n",
        "# loosing precision by converting to decimal but makes more readable\n",
        "# but when plotting it use normalisation_us_deaths\n",
        "normalisation_price = scaler.fit_transform(price_frame).reshape(-1,1)\n",
        "# 8 decimal: readable formate\n",
        "# val = [print(\"{:.8f}\".format(float(x)))for x in normalisation_us_deaths]\n",
        "# print(normalisation_price)\n",
        "# print(val)\n",
        "# print(normalisation_price)"
      ],
      "execution_count": null,
      "outputs": []
    },
    {
      "cell_type": "code",
      "metadata": {
        "id": "jG6Frxvpw_YL",
        "colab_type": "code",
        "colab": {
          "base_uri": "https://localhost:8080/",
          "height": 403
        },
        "outputId": "a2ccb9e2-2ded-4440-c4f6-3b328f20dc0e"
      },
      "source": [
        "# Inspect the data\n",
        "# Look at join distributions of afew pairs of collumns from the training set\n",
        "# Need to revise what this graph does\n",
        "import matplotlib.pyplot as plt\n",
        "plt.title('Time Series of Total Deaths of US & USD/GBP')\n",
        "plt.plot(normalisation_us_deaths,label=\"us_covid_death_rates\")\n",
        "plt.plot(normalisation_price, label=\"USD/GBP price\")\n",
        "plt.ylabel('Normalisation between 0 and 1')\n",
        "plt.xlabel('Date')\n",
        "plt.legend() \n",
        "plt.show()"
      ],
      "execution_count": null,
      "outputs": [
        {
          "output_type": "display_data",
          "data": {
            "image/png": "[encoded data removed]",
            "text/plain": [
              "<Figure size 1080x432 with 1 Axes>"
            ]
          },
          "metadata": {
            "tags": []
          }
        }
      ]
    },
    {
      "cell_type": "markdown",
      "metadata": {
        "id": "FrNnj6gGIkmf",
        "colab_type": "text"
      },
      "source": [
        "# Preprocessing the Data - Train, Validation & Test\n"
      ]
    },
    {
      "cell_type": "code",
      "metadata": {
        "id": "yJTAF3KWyKwR",
        "colab_type": "code",
        "colab": {
          "base_uri": "https://localhost:8080/",
          "height": 1000
        },
        "outputId": "164f145f-2fed-4758-b74a-a693f4bcfdeb"
      },
      "source": [
        "new_dataset = np.hstack((normalisation_us_deaths,normalisation_price))\n",
        "new_dataset"
      ],
      "execution_count": null,
      "outputs": [
        {
          "output_type": "execute_result",
          "data": {
            "text/plain": [
              "array([[0.00000000e+00, 5.60879369e-01],\n",
              "       [0.00000000e+00, 5.52423901e-01],\n",
              "       [0.00000000e+00, 5.56369786e-01],\n",
              "       [0.00000000e+00, 5.15219842e-01],\n",
              "       [0.00000000e+00, 4.57722661e-01],\n",
              "       [0.00000000e+00, 4.78015784e-01],\n",
              "       [0.00000000e+00, 5.24802706e-01],\n",
              "       [0.00000000e+00, 5.25930101e-01],\n",
              "       [0.00000000e+00, 5.82299887e-01],\n",
              "       [0.00000000e+00, 5.50169109e-01],\n",
              "       [0.00000000e+00, 4.90980834e-01],\n",
              "       [0.00000000e+00, 5.29312289e-01],\n",
              "       [0.00000000e+00, 6.03156708e-01],\n",
              "       [0.00000000e+00, 6.14430665e-01],\n",
              "       [0.00000000e+00, 6.29650507e-01],\n",
              "       [0.00000000e+00, 5.94701240e-01],\n",
              "       [0.00000000e+00, 6.28523112e-01],\n",
              "       [0.00000000e+00, 7.10259301e-01],\n",
              "       [0.00000000e+00, 7.01240135e-01],\n",
              "       [0.00000000e+00, 6.96730552e-01],\n",
              "       [0.00000000e+00, 6.64036077e-01],\n",
              "       [0.00000000e+00, 6.24577227e-01],\n",
              "       [0.00000000e+00, 6.12739572e-01],\n",
              "       [0.00000000e+00, 5.99210823e-01],\n",
              "       [0.00000000e+00, 5.67643743e-01],\n",
              "       [0.00000000e+00, 4.84216460e-01],\n",
              "       [0.00000000e+00, 4.69560316e-01],\n",
              "       [0.00000000e+00, 4.31228861e-01],\n",
              "       [0.00000000e+00, 4.76888388e-01],\n",
              "       [0.00000000e+00, 3.96279594e-01],\n",
              "       [0.00000000e+00, 3.82750846e-01],\n",
              "       [0.00000000e+00, 4.15445321e-01],\n",
              "       [0.00000000e+00, 4.25028185e-01],\n",
              "       [0.00000000e+00, 4.31792559e-01],\n",
              "       [0.00000000e+00, 3.97970688e-01],\n",
              "       [0.00000000e+00, 3.48928974e-01],\n",
              "       [0.00000000e+00, 4.17700113e-01],\n",
              "       [0.00000000e+00, 4.18827508e-01],\n",
              "       [0.00000000e+00, 4.36302142e-01],\n",
              "       [0.00000000e+00, 4.78579481e-01],\n",
              "       [0.00000000e+00, 5.19729425e-01],\n",
              "       [0.00000000e+00, 4.93799324e-01],\n",
              "       [0.00000000e+00, 4.82525366e-01],\n",
              "       [0.00000000e+00, 5.34949267e-01],\n",
              "       [3.70897457e-07, 5.39458850e-01],\n",
              "       [1.48358983e-06, 5.73280722e-01],\n",
              "       [3.15262838e-06, 6.24013529e-01],\n",
              "       [5.19256440e-06, 5.52987599e-01],\n",
              "       [7.41794914e-06, 5.28748591e-01],\n",
              "       [1.13123724e-05, 5.31003382e-01],\n",
              "       [1.61340394e-05, 4.97181511e-01],\n",
              "       [2.13266038e-05, 4.83089064e-01],\n",
              "       [2.68900656e-05, 4.77452086e-01],\n",
              "       [3.43080148e-05, 4.54904171e-01],\n",
              "       [4.71039770e-05, 5.35512965e-01],\n",
              "       [6.28671189e-05, 5.71589628e-01],\n",
              "       [8.28955816e-05, 5.46786922e-01],\n",
              "       [1.10712891e-04, 5.80045096e-01],\n",
              "       [1.38530200e-04, 6.40924464e-01],\n",
              "       [2.25876551e-04, 5.77790304e-01],\n",
              "       [3.35291301e-04, 5.45659526e-01],\n",
              "       [4.83835732e-04, 5.46786922e-01],\n",
              "       [6.78556897e-04, 5.07328072e-01],\n",
              "       [9.18898449e-04, 4.80270575e-01],\n",
              "       [1.38418931e-03, 4.18827508e-01],\n",
              "       [1.97206178e-03, 4.36865840e-01],\n",
              "       [2.72850714e-03, 5.11273957e-01],\n",
              "       [3.68134271e-03, 5.02254791e-01],\n",
              "       [4.80386386e-03, 5.25930101e-01],\n",
              "       [6.59288774e-03, 5.24802706e-01],\n",
              "       [8.63078382e-03, 5.46786922e-01],\n",
              "       [1.10221452e-02, 4.03607666e-01],\n",
              "       [1.37699390e-02, 2.25479143e-01],\n",
              "       [1.68650783e-02, 1.53325817e-01],\n",
              "       [2.09649787e-02, 3.55129651e-02],\n",
              "       [2.53506557e-02, 8.79368658e-02],\n",
              "       [3.01828932e-02, 0.00000000e+00],\n",
              "       [3.59290221e-02, 6.82074408e-02],\n",
              "       [4.21014976e-02, 3.18489290e-01],\n",
              "       [4.96459227e-02, 4.40248027e-01],\n",
              "       [5.75347262e-02, 4.45321308e-01],\n",
              "       [6.58916023e-02, 6.12175874e-01],\n",
              "       [7.45676356e-02, 7.52536640e-01],\n",
              "       [8.38332104e-02, 8.01014656e-01],\n",
              "       [9.40098948e-02, 9.27846674e-01],\n",
              "       [1.04440459e-01, 8.81059752e-01],\n",
              "       [1.15262319e-01, 8.27508455e-01],\n",
              "       [1.26568386e-01, 7.80721533e-01],\n",
              "       [1.38252769e-01, 7.46899662e-01],\n",
              "       [1.50804310e-01, 7.13077790e-01],\n",
              "       [1.63588032e-01, 7.51972943e-01],\n",
              "       [1.76769357e-01, 7.88613303e-01],\n",
              "       [1.90387043e-01, 7.99323563e-01],\n",
              "       [2.04419948e-01, 8.56257046e-01],\n",
              "       [2.19168314e-01, 8.12852311e-01],\n",
              "       [2.34131060e-01, 8.36527621e-01],\n",
              "       [2.49409624e-01, 7.85794814e-01],\n",
              "       [2.65011982e-01, 8.08342728e-01],\n",
              "       [2.80943140e-01, 8.52311161e-01],\n",
              "       [2.97552299e-01, 8.57948140e-01],\n",
              "       [3.14308148e-01, 8.79368658e-01],\n",
              "       [3.31354781e-01, 8.79368658e-01],\n",
              "       [3.48682925e-01, 8.30890643e-01],\n",
              "       [3.66245290e-01, 8.26381060e-01],\n",
              "       [3.84367340e-01, 8.04960541e-01],\n",
              "       [4.02582114e-01, 7.92559188e-01],\n",
              "       [4.20925960e-01, 8.13416009e-01],\n",
              "       [4.39552802e-01, 8.54002255e-01],\n",
              "       [4.58397545e-01, 8.70349493e-01],\n",
              "       [4.77755240e-01, 8.50056370e-01],\n",
              "       [4.97254617e-01, 9.66178129e-01],\n",
              "       [5.16945748e-01, 9.06426156e-01],\n",
              "       [5.36821216e-01, 8.64712514e-01],\n",
              "       [5.56888808e-01, 8.68658399e-01],\n",
              "       [5.77383489e-01, 8.83878241e-01],\n",
              "       [5.97969596e-01, 8.96279594e-01],\n",
              "       [6.18740966e-01, 9.22209696e-01],\n",
              "       [6.39682579e-01, 9.32919955e-01],\n",
              "       [6.60790353e-01, 8.81623450e-01],\n",
              "       [6.82252705e-01, 8.59075536e-01],\n",
              "       [7.03788310e-01, 8.58511838e-01],\n",
              "       [7.25478949e-01, 8.97406990e-01],\n",
              "       [7.47309417e-01, 8.74295378e-01],\n",
              "       [7.69272852e-01, 8.63021421e-01],\n",
              "       [7.91522063e-01, 8.47237880e-01],\n",
              "       [8.13850461e-01, 8.87260428e-01],\n",
              "       [8.36332039e-01, 8.90642616e-01],\n",
              "       [8.58952890e-01, 9.08117249e-01],\n",
              "       [8.82025679e-01, 9.23337091e-01],\n",
              "       [9.05355871e-01, 9.48139797e-01],\n",
              "       [9.28748373e-01, 9.02480271e-01],\n",
              "       [9.52376396e-01, 9.35174746e-01],\n",
              "       [9.76125331e-01, 9.96617813e-01],\n",
              "       [1.00000000e+00, 1.00000000e+00]])"
            ]
          },
          "metadata": {
            "tags": []
          },
          "execution_count": 76
        }
      ]
    },
    {
      "cell_type": "code",
      "metadata": {
        "id": "Sx35yrWb1MIz",
        "colab_type": "code",
        "colab": {
          "base_uri": "https://localhost:8080/",
          "height": 71
        },
        "outputId": "81f9f1d8-33d0-4b7e-a739-150534b9ef93"
      },
      "source": [
        "# Test, Validation, Train \n",
        "# This should be ordered in respect to date – not cross validation or random seed\n",
        "# We are going to divide our data based on date because the next data is always dependent on the previous data\n",
        "# 65% of the total length of my datadrame\n",
        "# 35% test size/ validation\n",
        "training_size = int(len(new_dataset)*0.65)\n",
        "test_size = (len(new_dataset)-training_size)//2 # // Rounds down\n",
        "train_data, valset_data, test_data = new_dataset[0:training_size], new_dataset[training_size:(training_size + test_size)],new_dataset[(training_size + test_size):]\n",
        "print(train_data.shape)\n",
        "print(valset_data.shape)\n",
        "print(test_data.shape)"
      ],
      "execution_count": null,
      "outputs": [
        {
          "output_type": "stream",
          "text": [
            "(87, 2)\n",
            "(23, 2)\n",
            "(24, 2)\n"
          ],
          "name": "stdout"
        }
      ]
    },
    {
      "cell_type": "code",
      "metadata": {
        "id": "P1CkWzUfVwxO",
        "colab_type": "code",
        "colab": {
          "base_uri": "https://localhost:8080/",
          "height": 89
        },
        "outputId": "dbed898d-6e24-4739-fbde-0a46987e76a8"
      },
      "source": [
        "print(valset_data[:4])"
      ],
      "execution_count": null,
      "outputs": [
        {
          "output_type": "stream",
          "text": [
            "[[0.12656839 0.78072153]\n",
            " [0.13825277 0.74689966]\n",
            " [0.15080431 0.71307779]\n",
            " [0.16358803 0.75197294]]\n"
          ],
          "name": "stdout"
        }
      ]
    },
    {
      "cell_type": "code",
      "metadata": {
        "id": "ldKERrxeA1sD",
        "colab_type": "code",
        "colab": {
          "base_uri": "https://localhost:8080/",
          "height": 35
        },
        "outputId": "9660a6ab-e2e0-4c86-ebb2-12953dca8ed6"
      },
      "source": [
        "training_size, test_size"
      ],
      "execution_count": null,
      "outputs": [
        {
          "output_type": "execute_result",
          "data": {
            "text/plain": [
              "(87, 23)"
            ]
          },
          "metadata": {
            "tags": []
          },
          "execution_count": 79
        }
      ]
    },
    {
      "cell_type": "code",
      "metadata": {
        "id": "llongsG7BHW7",
        "colab_type": "code",
        "colab": {
          "base_uri": "https://localhost:8080/",
          "height": 35
        },
        "outputId": "58597d50-0126-4d09-b1cf-2037b157f76c"
      },
      "source": [
        "len(train_data), len(test_data)"
      ],
      "execution_count": null,
      "outputs": [
        {
          "output_type": "execute_result",
          "data": {
            "text/plain": [
              "(87, 24)"
            ]
          },
          "metadata": {
            "tags": []
          },
          "execution_count": 80
        }
      ]
    },
    {
      "cell_type": "code",
      "metadata": {
        "id": "nc0pElKOBO-4",
        "colab_type": "code",
        "colab": {}
      },
      "source": [
        "# train_data"
      ],
      "execution_count": null,
      "outputs": []
    },
    {
      "cell_type": "code",
      "metadata": {
        "id": "7lcOjmoBARZm",
        "colab_type": "code",
        "colab": {}
      },
      "source": [
        "# Convert an array of values into a dataset matrix\n",
        "# Go over what this method does\n",
        "# time_step = how many previous days you have to consider before making a prediction\n",
        "def create_dataset(dataset, time_step=1):\n",
        "  dataX, dataY = [],[]\n",
        "  # then we subtract e.g. timestep=3 : lendataset -3-3 so you are shifting\n",
        "  # iterates from \n",
        "  # -1: guarentees 8th datapoint \n",
        "  # 100 - 1 = 99-1 =5 -> 8th\n",
        "  # i is the starting point of dataset\n",
        "  for i in range(len(dataset)-time_step-1):\n",
        "    a = dataset[i:(i+time_step)]  # i=0, 0,1,2,3\n",
        "    # print(a)\n",
        "    dataX.append(a)\n",
        "    y = dataset[i + time_step][1] \n",
        "    dataY.append(y)\n",
        "  return np.array(dataX), np.array(dataY)"
      ],
      "execution_count": null,
      "outputs": []
    },
    {
      "cell_type": "code",
      "metadata": {
        "id": "Xjbnyit_VZur",
        "colab_type": "code",
        "colab": {}
      },
      "source": [
        "# weekly_timestep means taking in 7 days of features at a time \n",
        "# whats the point of writing 7 when it is assigned to 1?\n",
        "weekly_timestep = 7\n",
        "X_train, Y_train = create_dataset(train_data, weekly_timestep)\n",
        "X_val, Y_val = create_dataset(valset_data, weekly_timestep)\n",
        "X_test, Y_test = create_dataset(test_data, weekly_timestep)\n",
        "\n"
      ],
      "execution_count": null,
      "outputs": []
    },
    {
      "cell_type": "code",
      "metadata": {
        "id": "Bii3I74VfqRM",
        "colab_type": "code",
        "colab": {
          "base_uri": "https://localhost:8080/",
          "height": 71
        },
        "outputId": "7c2d0eac-f82a-4aed-dfdc-af32991b0034"
      },
      "source": [
        "print(X_test.shape), print(Y_test.shape)\n",
        "# Finished preprocessing the data"
      ],
      "execution_count": null,
      "outputs": [
        {
          "output_type": "stream",
          "text": [
            "(16, 7, 2)\n",
            "(16,)\n"
          ],
          "name": "stdout"
        },
        {
          "output_type": "execute_result",
          "data": {
            "text/plain": [
              "(None, None)"
            ]
          },
          "metadata": {
            "tags": []
          },
          "execution_count": 84
        }
      ]
    },
    {
      "cell_type": "markdown",
      "metadata": {
        "id": "rQxS8R3VI2bP",
        "colab_type": "text"
      },
      "source": [
        "# Stacked LSTM Model"
      ]
    },
    {
      "cell_type": "code",
      "metadata": {
        "id": "fuLjcvVwM7Sc",
        "colab_type": "code",
        "colab": {}
      },
      "source": [
        "# Create the stacked LSTM model\n",
        "# One LSTM after the other\n",
        "from tensorflow.keras.models import Sequential\n",
        "from tensorflow.keras.layers import Dense\n",
        "from tensorflow.keras.layers import LSTM\n",
        "from tensorflow.keras.layers import InputLayer\n",
        "# 5, \n",
        "def lstm_model(hidden_layer, optimizer):\n",
        "  model = Sequential()\n",
        "  model.add(InputLayer(input_shape=(7,2)))\n",
        "  model.add(LSTM(hidden_layer,return_sequences=True))\n",
        "  model.add(LSTM(hidden_layer, return_sequences=True))\n",
        "  model.add(LSTM(hidden_layer))\n",
        "  model.add(Dense(1))\n",
        "  model.compile(loss = 'mean_squared_error', optimizer=optimizer)\n",
        "  return model"
      ],
      "execution_count": null,
      "outputs": []
    },
    {
      "cell_type": "markdown",
      "metadata": {
        "id": "tkkElpH-cy_h",
        "colab_type": "text"
      },
      "source": [
        "## Hyperparameter Tuning\n",
        "\n",
        "\n",
        "*   Optimizers:\n",
        "[Overview of different Optimizers for neural networks](https://medium.com/datadriveninvestor/overview-of-different-optimizers-for-neural-networks-e0ed119440c3#:~:text=Adagrad%20eliminates%20the%20need%20to,is%20no%20longer%20able%20learning.)\n",
        "\n",
        "\n",
        "\n"
      ]
    },
    {
      "cell_type": "code",
      "metadata": {
        "id": "D35lHOqI_7l7",
        "colab_type": "code",
        "colab": {
          "base_uri": "https://localhost:8080/",
          "height": 1000
        },
        "outputId": "f1f16ad7-492b-4a9f-9458-3486ba0e4938"
      },
      "source": [
        "# Grid Search\n",
        "# Candidates for good hidden layers and optimiser\n",
        "# tests 5 adam optimizer, 6 otimizer systemtically for each one\n",
        "# Random does some of all\n",
        "# Random search: does single for loop with no of samples for each, and randomly select one from each list\n",
        "# testing each hyperpara against every other hyper\n",
        "\n",
        "# Choose the number of hidden layers.\n",
        "hidden_layer = [5, 6, 2, 1, 4, 5, 4, 7]\n",
        "# Choose the optimizers you want to use.\n",
        "optimizers = ['SGD', 'RMSprop','adam','adagrad', 'adadelta', 'adamax','nadam', 'ftrl']\n",
        "# Consider changing batch size: slower the batch_size better training, because small dataset\n",
        "for every_point in hidden_layer:\n",
        "  for every_hidden_layer_value in optimizers:\n",
        "    model_testing = lstm_model(every_point, every_hidden_layer_value)\n",
        "    model_testing.fit(X_train, Y_train, \n",
        "          validation_data= (X_val, Y_val), \n",
        "          epochs=5,batch_size=32,verbose=1,\n",
        "           callbacks=[tf.keras.callbacks.EarlyStopping(patience=3, restore_best_weights=True)])\n",
        "                      \n",
        "  ## restore best weights is going to give u best model \n",
        "  # make graph that against loss\n",
        "  # learning rate as optimizer???? inidivual number of hidden layers for random search\n",
        "  "
      ],
      "execution_count": 86,
      "outputs": [
        {
          "output_type": "stream",
          "text": [
            "Epoch 1/5\n",
            "3/3 [==============================] - 1s 276ms/step - loss: 0.2982 - val_loss: 0.7141\n",
            "Epoch 2/5\n",
            "3/3 [==============================] - 0s 14ms/step - loss: 0.2139 - val_loss: 0.5901\n",
            "Epoch 3/5\n",
            "3/3 [==============================] - 0s 15ms/step - loss: 0.1561 - val_loss: 0.4967\n",
            "Epoch 4/5\n",
            "3/3 [==============================] - 0s 15ms/step - loss: 0.1161 - val_loss: 0.4215\n",
            "Epoch 5/5\n",
            "3/3 [==============================] - 0s 14ms/step - loss: 0.0875 - val_loss: 0.3655\n",
            "Epoch 1/5\n",
            "3/3 [==============================] - 1s 283ms/step - loss: 0.2564 - val_loss: 0.5731\n",
            "Epoch 2/5\n",
            "3/3 [==============================] - 0s 17ms/step - loss: 0.2221 - val_loss: 0.5187\n",
            "Epoch 3/5\n",
            "3/3 [==============================] - 0s 15ms/step - loss: 0.1965 - val_loss: 0.4684\n",
            "Epoch 4/5\n",
            "3/3 [==============================] - 0s 15ms/step - loss: 0.1729 - val_loss: 0.4188\n",
            "Epoch 5/5\n",
            "3/3 [==============================] - 0s 16ms/step - loss: 0.1502 - val_loss: 0.3685\n",
            "Epoch 1/5\n",
            "3/3 [==============================] - 1s 284ms/step - loss: 0.3010 - val_loss: 0.7015\n",
            "Epoch 2/5\n",
            "3/3 [==============================] - 0s 17ms/step - loss: 0.2839 - val_loss: 0.6726\n",
            "Epoch 3/5\n",
            "3/3 [==============================] - 0s 14ms/step - loss: 0.2675 - val_loss: 0.6452\n",
            "Epoch 4/5\n",
            "3/3 [==============================] - 0s 15ms/step - loss: 0.2523 - val_loss: 0.6188\n",
            "Epoch 5/5\n",
            "3/3 [==============================] - 0s 15ms/step - loss: 0.2376 - val_loss: 0.5932\n",
            "Epoch 1/5\n",
            "3/3 [==============================] - 1s 270ms/step - loss: 0.2770 - val_loss: 0.6813\n",
            "Epoch 2/5\n",
            "3/3 [==============================] - 0s 14ms/step - loss: 0.2677 - val_loss: 0.6677\n",
            "Epoch 3/5\n",
            "3/3 [==============================] - 0s 13ms/step - loss: 0.2616 - val_loss: 0.6574\n",
            "Epoch 4/5\n",
            "3/3 [==============================] - 0s 14ms/step - loss: 0.2569 - val_loss: 0.6486\n",
            "Epoch 5/5\n",
            "3/3 [==============================] - 0s 14ms/step - loss: 0.2528 - val_loss: 0.6405\n",
            "Epoch 1/5\n",
            "3/3 [==============================] - 1s 272ms/step - loss: 0.2960 - val_loss: 0.7373\n",
            "Epoch 2/5\n",
            "3/3 [==============================] - 0s 17ms/step - loss: 0.2960 - val_loss: 0.7372\n",
            "Epoch 3/5\n",
            "3/3 [==============================] - 0s 15ms/step - loss: 0.2959 - val_loss: 0.7372\n",
            "Epoch 4/5\n",
            "3/3 [==============================] - 0s 15ms/step - loss: 0.2959 - val_loss: 0.7371\n",
            "Epoch 5/5\n",
            "3/3 [==============================] - 0s 14ms/step - loss: 0.2959 - val_loss: 0.7371\n",
            "Epoch 1/5\n",
            "3/3 [==============================] - 1s 283ms/step - loss: 0.3243 - val_loss: 0.7727\n",
            "Epoch 2/5\n",
            "3/3 [==============================] - 0s 15ms/step - loss: 0.3021 - val_loss: 0.7332\n",
            "Epoch 3/5\n",
            "3/3 [==============================] - 0s 14ms/step - loss: 0.2821 - val_loss: 0.6979\n",
            "Epoch 4/5\n",
            "3/3 [==============================] - 0s 14ms/step - loss: 0.2642 - val_loss: 0.6656\n",
            "Epoch 5/5\n",
            "3/3 [==============================] - 0s 14ms/step - loss: 0.2477 - val_loss: 0.6356\n",
            "Epoch 1/5\n",
            "3/3 [==============================] - 1s 283ms/step - loss: 0.2442 - val_loss: 0.5765\n",
            "Epoch 2/5\n",
            "3/3 [==============================] - 0s 17ms/step - loss: 0.2309 - val_loss: 0.5503\n",
            "Epoch 3/5\n",
            "3/3 [==============================] - 0s 15ms/step - loss: 0.2174 - val_loss: 0.5216\n",
            "Epoch 4/5\n",
            "3/3 [==============================] - 0s 16ms/step - loss: 0.2027 - val_loss: 0.4894\n",
            "Epoch 5/5\n",
            "3/3 [==============================] - 0s 16ms/step - loss: 0.1870 - val_loss: 0.4555\n",
            "Epoch 1/5\n",
            "3/3 [==============================] - 1s 277ms/step - loss: 0.2887 - val_loss: 0.6922\n",
            "Epoch 2/5\n",
            "3/3 [==============================] - 0s 16ms/step - loss: 0.2765 - val_loss: 0.6899\n",
            "Epoch 3/5\n",
            "3/3 [==============================] - 0s 14ms/step - loss: 0.2753 - val_loss: 0.6882\n",
            "Epoch 4/5\n",
            "3/3 [==============================] - 0s 14ms/step - loss: 0.2743 - val_loss: 0.6867\n",
            "Epoch 5/5\n",
            "3/3 [==============================] - 0s 15ms/step - loss: 0.2734 - val_loss: 0.6855\n",
            "Epoch 1/5\n",
            "3/3 [==============================] - 1s 264ms/step - loss: 0.2666 - val_loss: 0.6186\n",
            "Epoch 2/5\n",
            "3/3 [==============================] - 0s 16ms/step - loss: 0.2318 - val_loss: 0.5657\n",
            "Epoch 3/5\n",
            "3/3 [==============================] - 0s 14ms/step - loss: 0.2022 - val_loss: 0.5173\n",
            "Epoch 4/5\n",
            "3/3 [==============================] - 0s 15ms/step - loss: 0.1764 - val_loss: 0.4760\n",
            "Epoch 5/5\n",
            "3/3 [==============================] - 0s 14ms/step - loss: 0.1548 - val_loss: 0.4388\n",
            "Epoch 1/5\n",
            "3/3 [==============================] - 1s 279ms/step - loss: 0.1923 - val_loss: 0.4154\n",
            "Epoch 2/5\n",
            "3/3 [==============================] - 0s 17ms/step - loss: 0.1327 - val_loss: 0.3167\n",
            "Epoch 3/5\n",
            "3/3 [==============================] - 0s 15ms/step - loss: 0.0935 - val_loss: 0.2460\n",
            "Epoch 4/5\n",
            "3/3 [==============================] - 0s 15ms/step - loss: 0.0673 - val_loss: 0.1890\n",
            "Epoch 5/5\n",
            "3/3 [==============================] - 0s 15ms/step - loss: 0.0491 - val_loss: 0.1441\n",
            "Epoch 1/5\n",
            "3/3 [==============================] - 1s 275ms/step - loss: 0.3094 - val_loss: 0.7485\n",
            "Epoch 2/5\n",
            "3/3 [==============================] - 0s 17ms/step - loss: 0.2907 - val_loss: 0.7132\n",
            "Epoch 3/5\n",
            "3/3 [==============================] - 0s 14ms/step - loss: 0.2727 - val_loss: 0.6799\n",
            "Epoch 4/5\n",
            "3/3 [==============================] - 0s 15ms/step - loss: 0.2562 - val_loss: 0.6479\n",
            "Epoch 5/5\n",
            "3/3 [==============================] - 0s 14ms/step - loss: 0.2401 - val_loss: 0.6166\n",
            "Epoch 1/5\n",
            "3/3 [==============================] - 1s 263ms/step - loss: 0.2996 - val_loss: 0.7214\n",
            "Epoch 2/5\n",
            "3/3 [==============================] - 0s 16ms/step - loss: 0.2885 - val_loss: 0.7077\n",
            "Epoch 3/5\n",
            "3/3 [==============================] - 0s 14ms/step - loss: 0.2817 - val_loss: 0.6972\n",
            "Epoch 4/5\n",
            "3/3 [==============================] - 0s 14ms/step - loss: 0.2763 - val_loss: 0.6884\n",
            "Epoch 5/5\n",
            "3/3 [==============================] - 0s 14ms/step - loss: 0.2716 - val_loss: 0.6804\n",
            "Epoch 1/5\n",
            "3/3 [==============================] - 1s 274ms/step - loss: 0.2917 - val_loss: 0.7239\n",
            "Epoch 2/5\n",
            "3/3 [==============================] - 0s 16ms/step - loss: 0.2917 - val_loss: 0.7239\n",
            "Epoch 3/5\n",
            "3/3 [==============================] - 0s 16ms/step - loss: 0.2916 - val_loss: 0.7239\n",
            "Epoch 4/5\n",
            "3/3 [==============================] - 0s 14ms/step - loss: 0.2916 - val_loss: 0.7238\n",
            "Epoch 5/5\n",
            "3/3 [==============================] - 0s 14ms/step - loss: 0.2916 - val_loss: 0.7238\n",
            "Epoch 1/5\n",
            "3/3 [==============================] - 1s 273ms/step - loss: 0.2607 - val_loss: 0.6258\n",
            "Epoch 2/5\n",
            "3/3 [==============================] - 0s 14ms/step - loss: 0.2463 - val_loss: 0.6001\n",
            "Epoch 3/5\n",
            "3/3 [==============================] - 0s 13ms/step - loss: 0.2325 - val_loss: 0.5746\n",
            "Epoch 4/5\n",
            "3/3 [==============================] - 0s 14ms/step - loss: 0.2189 - val_loss: 0.5488\n",
            "Epoch 5/5\n",
            "3/3 [==============================] - 0s 13ms/step - loss: 0.2055 - val_loss: 0.5226\n",
            "Epoch 1/5\n",
            "3/3 [==============================] - 1s 276ms/step - loss: 0.2860 - val_loss: 0.7204\n",
            "Epoch 2/5\n",
            "3/3 [==============================] - 0s 17ms/step - loss: 0.2684 - val_loss: 0.6903\n",
            "Epoch 3/5\n",
            "3/3 [==============================] - 0s 15ms/step - loss: 0.2523 - val_loss: 0.6595\n",
            "Epoch 4/5\n",
            "3/3 [==============================] - 0s 15ms/step - loss: 0.2354 - val_loss: 0.6271\n",
            "Epoch 5/5\n",
            "3/3 [==============================] - 0s 16ms/step - loss: 0.2174 - val_loss: 0.5920\n",
            "Epoch 1/5\n",
            "3/3 [==============================] - 1s 272ms/step - loss: 0.2972 - val_loss: 0.6923\n",
            "Epoch 2/5\n",
            "3/3 [==============================] - 0s 14ms/step - loss: 0.2766 - val_loss: 0.6901\n",
            "Epoch 3/5\n",
            "3/3 [==============================] - 0s 14ms/step - loss: 0.2754 - val_loss: 0.6884\n",
            "Epoch 4/5\n",
            "3/3 [==============================] - 0s 14ms/step - loss: 0.2744 - val_loss: 0.6869\n",
            "Epoch 5/5\n",
            "3/3 [==============================] - 0s 15ms/step - loss: 0.2735 - val_loss: 0.6856\n",
            "Epoch 1/5\n",
            "3/3 [==============================] - 1s 266ms/step - loss: 0.3060 - val_loss: 0.7206\n",
            "Epoch 2/5\n",
            "3/3 [==============================] - 0s 14ms/step - loss: 0.2451 - val_loss: 0.6268\n",
            "Epoch 3/5\n",
            "3/3 [==============================] - 0s 14ms/step - loss: 0.1960 - val_loss: 0.5516\n",
            "Epoch 4/5\n",
            "3/3 [==============================] - 0s 14ms/step - loss: 0.1586 - val_loss: 0.4875\n",
            "Epoch 5/5\n",
            "3/3 [==============================] - 0s 13ms/step - loss: 0.1288 - val_loss: 0.4341\n",
            "Epoch 1/5\n",
            "3/3 [==============================] - 1s 278ms/step - loss: 0.3113 - val_loss: 0.6608\n",
            "Epoch 2/5\n",
            "3/3 [==============================] - 0s 18ms/step - loss: 0.2785 - val_loss: 0.6242\n",
            "Epoch 3/5\n",
            "3/3 [==============================] - 0s 14ms/step - loss: 0.2577 - val_loss: 0.5951\n",
            "Epoch 4/5\n",
            "3/3 [==============================] - 0s 14ms/step - loss: 0.2406 - val_loss: 0.5683\n",
            "Epoch 5/5\n",
            "3/3 [==============================] - 0s 17ms/step - loss: 0.2252 - val_loss: 0.5438\n",
            "Epoch 1/5\n",
            "3/3 [==============================] - 1s 273ms/step - loss: 0.2815 - val_loss: 0.7023\n",
            "Epoch 2/5\n",
            "3/3 [==============================] - 0s 16ms/step - loss: 0.2749 - val_loss: 0.6905\n",
            "Epoch 3/5\n",
            "3/3 [==============================] - 0s 14ms/step - loss: 0.2684 - val_loss: 0.6790\n",
            "Epoch 4/5\n",
            "3/3 [==============================] - 0s 14ms/step - loss: 0.2621 - val_loss: 0.6675\n",
            "Epoch 5/5\n",
            "3/3 [==============================] - 0s 14ms/step - loss: 0.2557 - val_loss: 0.6562\n",
            "Epoch 1/5\n",
            "3/3 [==============================] - 1s 266ms/step - loss: 0.2757 - val_loss: 0.6816\n",
            "Epoch 2/5\n",
            "3/3 [==============================] - 0s 16ms/step - loss: 0.2694 - val_loss: 0.6740\n",
            "Epoch 3/5\n",
            "3/3 [==============================] - 0s 14ms/step - loss: 0.2653 - val_loss: 0.6677\n",
            "Epoch 4/5\n",
            "3/3 [==============================] - 0s 14ms/step - loss: 0.2618 - val_loss: 0.6623\n",
            "Epoch 5/5\n",
            "3/3 [==============================] - 0s 13ms/step - loss: 0.2588 - val_loss: 0.6575\n",
            "Epoch 1/5\n",
            "3/3 [==============================] - 1s 268ms/step - loss: 0.3005 - val_loss: 0.7516\n",
            "Epoch 2/5\n",
            "3/3 [==============================] - 0s 15ms/step - loss: 0.3005 - val_loss: 0.7516\n",
            "Epoch 3/5\n",
            "3/3 [==============================] - 0s 14ms/step - loss: 0.3005 - val_loss: 0.7516\n",
            "Epoch 4/5\n",
            "3/3 [==============================] - 0s 17ms/step - loss: 0.3005 - val_loss: 0.7516\n",
            "Epoch 5/5\n",
            "3/3 [==============================] - 0s 14ms/step - loss: 0.3005 - val_loss: 0.7516\n",
            "Epoch 1/5\n",
            "3/3 [==============================] - 1s 275ms/step - loss: 0.2779 - val_loss: 0.6881\n",
            "Epoch 2/5\n",
            "3/3 [==============================] - 0s 14ms/step - loss: 0.2733 - val_loss: 0.6806\n",
            "Epoch 3/5\n",
            "3/3 [==============================] - 0s 15ms/step - loss: 0.2687 - val_loss: 0.6730\n",
            "Epoch 4/5\n",
            "3/3 [==============================] - 0s 16ms/step - loss: 0.2642 - val_loss: 0.6655\n",
            "Epoch 5/5\n",
            "3/3 [==============================] - 0s 16ms/step - loss: 0.2598 - val_loss: 0.6580\n",
            "Epoch 1/5\n",
            "3/3 [==============================] - 1s 277ms/step - loss: 0.1554 - val_loss: 0.3992\n",
            "Epoch 2/5\n",
            "3/3 [==============================] - 0s 16ms/step - loss: 0.1434 - val_loss: 0.3767\n",
            "Epoch 3/5\n",
            "3/3 [==============================] - 0s 15ms/step - loss: 0.1323 - val_loss: 0.3532\n",
            "Epoch 4/5\n",
            "3/3 [==============================] - 0s 15ms/step - loss: 0.1208 - val_loss: 0.3279\n",
            "Epoch 5/5\n",
            "3/3 [==============================] - 0s 17ms/step - loss: 0.1089 - val_loss: 0.3023\n",
            "Epoch 1/5\n",
            "3/3 [==============================] - 1s 270ms/step - loss: 0.2933 - val_loss: 0.6922\n",
            "Epoch 2/5\n",
            "3/3 [==============================] - 0s 16ms/step - loss: 0.2766 - val_loss: 0.6901\n",
            "Epoch 3/5\n",
            "3/3 [==============================] - 0s 14ms/step - loss: 0.2754 - val_loss: 0.6883\n",
            "Epoch 4/5\n",
            "3/3 [==============================] - 0s 14ms/step - loss: 0.2744 - val_loss: 0.6868\n",
            "Epoch 5/5\n",
            "3/3 [==============================] - 0s 13ms/step - loss: 0.2735 - val_loss: 0.6855\n",
            "Epoch 1/5\n",
            "3/3 [==============================] - 1s 265ms/step - loss: 0.2749 - val_loss: 0.6684\n",
            "Epoch 2/5\n",
            "3/3 [==============================] - 0s 14ms/step - loss: 0.2334 - val_loss: 0.6047\n",
            "Epoch 3/5\n",
            "3/3 [==============================] - 0s 13ms/step - loss: 0.1999 - val_loss: 0.5483\n",
            "Epoch 4/5\n",
            "3/3 [==============================] - 0s 13ms/step - loss: 0.1717 - val_loss: 0.5007\n",
            "Epoch 5/5\n",
            "3/3 [==============================] - 0s 13ms/step - loss: 0.1484 - val_loss: 0.4565\n",
            "Epoch 1/5\n",
            "3/3 [==============================] - 1s 269ms/step - loss: 0.2531 - val_loss: 0.6132\n",
            "Epoch 2/5\n",
            "3/3 [==============================] - 0s 18ms/step - loss: 0.2346 - val_loss: 0.5876\n",
            "Epoch 3/5\n",
            "3/3 [==============================] - 0s 14ms/step - loss: 0.2211 - val_loss: 0.5669\n",
            "Epoch 4/5\n",
            "3/3 [==============================] - 0s 13ms/step - loss: 0.2099 - val_loss: 0.5483\n",
            "Epoch 5/5\n",
            "3/3 [==============================] - 0s 14ms/step - loss: 0.1999 - val_loss: 0.5309\n",
            "Epoch 1/5\n",
            "3/3 [==============================] - 1s 273ms/step - loss: 0.2773 - val_loss: 0.6898\n",
            "Epoch 2/5\n",
            "3/3 [==============================] - 0s 14ms/step - loss: 0.2726 - val_loss: 0.6820\n",
            "Epoch 3/5\n",
            "3/3 [==============================] - 0s 13ms/step - loss: 0.2679 - val_loss: 0.6742\n",
            "Epoch 4/5\n",
            "3/3 [==============================] - 0s 14ms/step - loss: 0.2631 - val_loss: 0.6663\n",
            "Epoch 5/5\n",
            "3/3 [==============================] - 0s 13ms/step - loss: 0.2584 - val_loss: 0.6584\n",
            "Epoch 1/5\n",
            "3/3 [==============================] - 1s 279ms/step - loss: 0.2805 - val_loss: 0.6961\n",
            "Epoch 2/5\n",
            "3/3 [==============================] - 0s 14ms/step - loss: 0.2775 - val_loss: 0.6926\n",
            "Epoch 3/5\n",
            "3/3 [==============================] - 0s 14ms/step - loss: 0.2756 - val_loss: 0.6898\n",
            "Epoch 4/5\n",
            "3/3 [==============================] - 0s 13ms/step - loss: 0.2740 - val_loss: 0.6875\n",
            "Epoch 5/5\n",
            "3/3 [==============================] - 0s 13ms/step - loss: 0.2726 - val_loss: 0.6855\n",
            "Epoch 1/5\n",
            "3/3 [==============================] - 1s 261ms/step - loss: 0.2816 - val_loss: 0.7005\n",
            "Epoch 2/5\n",
            "3/3 [==============================] - 0s 16ms/step - loss: 0.2816 - val_loss: 0.7005\n",
            "Epoch 3/5\n",
            "3/3 [==============================] - 0s 14ms/step - loss: 0.2816 - val_loss: 0.7005\n",
            "Epoch 4/5\n",
            "3/3 [==============================] - 0s 15ms/step - loss: 0.2816 - val_loss: 0.7005\n",
            "Epoch 5/5\n",
            "3/3 [==============================] - 0s 14ms/step - loss: 0.2816 - val_loss: 0.7005\n",
            "Epoch 1/5\n",
            "3/3 [==============================] - 1s 265ms/step - loss: 0.2763 - val_loss: 0.6812\n",
            "Epoch 2/5\n",
            "3/3 [==============================] - 0s 14ms/step - loss: 0.2706 - val_loss: 0.6717\n",
            "Epoch 3/5\n",
            "3/3 [==============================] - 0s 13ms/step - loss: 0.2650 - val_loss: 0.6620\n",
            "Epoch 4/5\n",
            "3/3 [==============================] - 0s 13ms/step - loss: 0.2594 - val_loss: 0.6524\n",
            "Epoch 5/5\n",
            "3/3 [==============================] - 0s 13ms/step - loss: 0.2538 - val_loss: 0.6428\n",
            "Epoch 1/5\n",
            "3/3 [==============================] - 1s 271ms/step - loss: 0.2816 - val_loss: 0.6855\n",
            "Epoch 2/5\n",
            "3/3 [==============================] - 0s 15ms/step - loss: 0.2778 - val_loss: 0.6797\n",
            "Epoch 3/5\n",
            "3/3 [==============================] - 0s 14ms/step - loss: 0.2741 - val_loss: 0.6736\n",
            "Epoch 4/5\n",
            "3/3 [==============================] - 0s 14ms/step - loss: 0.2703 - val_loss: 0.6670\n",
            "Epoch 5/5\n",
            "3/3 [==============================] - 0s 16ms/step - loss: 0.2663 - val_loss: 0.6601\n",
            "Epoch 1/5\n",
            "3/3 [==============================] - 1s 266ms/step - loss: 0.2740 - val_loss: 0.6921\n",
            "Epoch 2/5\n",
            "3/3 [==============================] - 0s 14ms/step - loss: 0.2765 - val_loss: 0.6899\n",
            "Epoch 3/5\n",
            "3/3 [==============================] - 0s 14ms/step - loss: 0.2753 - val_loss: 0.6882\n",
            "Epoch 4/5\n",
            "3/3 [==============================] - 0s 14ms/step - loss: 0.2743 - val_loss: 0.6867\n",
            "Epoch 5/5\n",
            "3/3 [==============================] - 0s 14ms/step - loss: 0.2734 - val_loss: 0.6854\n",
            "Epoch 1/5\n",
            "3/3 [==============================] - 1s 262ms/step - loss: 0.2499 - val_loss: 0.6108\n",
            "Epoch 2/5\n",
            "3/3 [==============================] - 0s 15ms/step - loss: 0.2040 - val_loss: 0.5427\n",
            "Epoch 3/5\n",
            "3/3 [==============================] - 0s 14ms/step - loss: 0.1692 - val_loss: 0.4832\n",
            "Epoch 4/5\n",
            "3/3 [==============================] - 0s 14ms/step - loss: 0.1407 - val_loss: 0.4354\n",
            "Epoch 5/5\n",
            "3/3 [==============================] - 0s 13ms/step - loss: 0.1187 - val_loss: 0.3933\n",
            "Epoch 1/5\n",
            "3/3 [==============================] - 1s 258ms/step - loss: 0.2721 - val_loss: 0.6477\n",
            "Epoch 2/5\n",
            "3/3 [==============================] - 0s 15ms/step - loss: 0.2464 - val_loss: 0.6113\n",
            "Epoch 3/5\n",
            "3/3 [==============================] - 0s 15ms/step - loss: 0.2278 - val_loss: 0.5802\n",
            "Epoch 4/5\n",
            "3/3 [==============================] - 0s 14ms/step - loss: 0.2120 - val_loss: 0.5524\n",
            "Epoch 5/5\n",
            "3/3 [==============================] - 0s 14ms/step - loss: 0.1979 - val_loss: 0.5267\n",
            "Epoch 1/5\n",
            "3/3 [==============================] - 1s 257ms/step - loss: 0.3611 - val_loss: 0.9249\n",
            "Epoch 2/5\n",
            "3/3 [==============================] - 0s 14ms/step - loss: 0.3383 - val_loss: 0.8791\n",
            "Epoch 3/5\n",
            "3/3 [==============================] - 0s 15ms/step - loss: 0.3169 - val_loss: 0.8363\n",
            "Epoch 4/5\n",
            "3/3 [==============================] - 0s 15ms/step - loss: 0.2977 - val_loss: 0.7965\n",
            "Epoch 5/5\n",
            "3/3 [==============================] - 0s 16ms/step - loss: 0.2794 - val_loss: 0.7595\n",
            "Epoch 1/5\n",
            "3/3 [==============================] - 1s 262ms/step - loss: 0.1948 - val_loss: 0.4557\n",
            "Epoch 2/5\n",
            "3/3 [==============================] - 0s 15ms/step - loss: 0.1844 - val_loss: 0.4404\n",
            "Epoch 3/5\n",
            "3/3 [==============================] - 0s 13ms/step - loss: 0.1774 - val_loss: 0.4285\n",
            "Epoch 4/5\n",
            "3/3 [==============================] - 0s 16ms/step - loss: 0.1718 - val_loss: 0.4184\n",
            "Epoch 5/5\n",
            "3/3 [==============================] - 0s 14ms/step - loss: 0.1670 - val_loss: 0.4093\n",
            "Epoch 1/5\n",
            "3/3 [==============================] - 1s 265ms/step - loss: 0.3147 - val_loss: 0.7663\n",
            "Epoch 2/5\n",
            "3/3 [==============================] - 0s 15ms/step - loss: 0.3146 - val_loss: 0.7662\n",
            "Epoch 3/5\n",
            "3/3 [==============================] - 0s 15ms/step - loss: 0.3146 - val_loss: 0.7662\n",
            "Epoch 4/5\n",
            "3/3 [==============================] - 0s 14ms/step - loss: 0.3146 - val_loss: 0.7662\n",
            "Epoch 5/5\n",
            "3/3 [==============================] - 0s 13ms/step - loss: 0.3146 - val_loss: 0.7661\n",
            "Epoch 1/5\n",
            "3/3 [==============================] - 1s 261ms/step - loss: 0.2594 - val_loss: 0.6411\n",
            "Epoch 2/5\n",
            "3/3 [==============================] - 0s 14ms/step - loss: 0.2422 - val_loss: 0.6119\n",
            "Epoch 3/5\n",
            "3/3 [==============================] - 0s 13ms/step - loss: 0.2261 - val_loss: 0.5832\n",
            "Epoch 4/5\n",
            "3/3 [==============================] - 0s 13ms/step - loss: 0.2103 - val_loss: 0.5551\n",
            "Epoch 5/5\n",
            "3/3 [==============================] - 0s 14ms/step - loss: 0.1949 - val_loss: 0.5273\n",
            "Epoch 1/5\n",
            "3/3 [==============================] - 1s 267ms/step - loss: 0.3010 - val_loss: 0.7447\n",
            "Epoch 2/5\n",
            "3/3 [==============================] - 0s 16ms/step - loss: 0.2879 - val_loss: 0.7198\n",
            "Epoch 3/5\n",
            "3/3 [==============================] - 0s 15ms/step - loss: 0.2755 - val_loss: 0.6940\n",
            "Epoch 4/5\n",
            "3/3 [==============================] - 0s 15ms/step - loss: 0.2626 - val_loss: 0.6673\n",
            "Epoch 5/5\n",
            "3/3 [==============================] - 0s 15ms/step - loss: 0.2496 - val_loss: 0.6407\n",
            "Epoch 1/5\n",
            "3/3 [==============================] - 1s 253ms/step - loss: 0.2868 - val_loss: 0.6924\n",
            "Epoch 2/5\n",
            "3/3 [==============================] - 0s 14ms/step - loss: 0.2767 - val_loss: 0.6901\n",
            "Epoch 3/5\n",
            "3/3 [==============================] - 0s 13ms/step - loss: 0.2754 - val_loss: 0.6884\n",
            "Epoch 4/5\n",
            "3/3 [==============================] - 0s 13ms/step - loss: 0.2744 - val_loss: 0.6869\n",
            "Epoch 5/5\n",
            "3/3 [==============================] - 0s 14ms/step - loss: 0.2735 - val_loss: 0.6856\n",
            "Epoch 1/5\n",
            "3/3 [==============================] - 1s 263ms/step - loss: 0.2650 - val_loss: 0.5744\n",
            "Epoch 2/5\n",
            "3/3 [==============================] - 0s 15ms/step - loss: 0.1924 - val_loss: 0.4757\n",
            "Epoch 3/5\n",
            "3/3 [==============================] - 0s 14ms/step - loss: 0.1432 - val_loss: 0.3998\n",
            "Epoch 4/5\n",
            "3/3 [==============================] - 0s 13ms/step - loss: 0.1084 - val_loss: 0.3412\n",
            "Epoch 5/5\n",
            "3/3 [==============================] - 0s 13ms/step - loss: 0.0839 - val_loss: 0.2950\n",
            "Epoch 1/5\n",
            "3/3 [==============================] - 1s 265ms/step - loss: 0.2475 - val_loss: 0.5518\n",
            "Epoch 2/5\n",
            "3/3 [==============================] - 0s 15ms/step - loss: 0.2127 - val_loss: 0.5015\n",
            "Epoch 3/5\n",
            "3/3 [==============================] - 0s 14ms/step - loss: 0.1885 - val_loss: 0.4565\n",
            "Epoch 4/5\n",
            "3/3 [==============================] - 0s 15ms/step - loss: 0.1671 - val_loss: 0.4143\n",
            "Epoch 5/5\n",
            "3/3 [==============================] - 0s 13ms/step - loss: 0.1475 - val_loss: 0.3754\n",
            "Epoch 1/5\n",
            "3/3 [==============================] - 1s 266ms/step - loss: 0.2810 - val_loss: 0.6810\n",
            "Epoch 2/5\n",
            "3/3 [==============================] - 0s 15ms/step - loss: 0.2665 - val_loss: 0.6550\n",
            "Epoch 3/5\n",
            "3/3 [==============================] - 0s 14ms/step - loss: 0.2522 - val_loss: 0.6290\n",
            "Epoch 4/5\n",
            "3/3 [==============================] - 0s 13ms/step - loss: 0.2382 - val_loss: 0.6025\n",
            "Epoch 5/5\n",
            "3/3 [==============================] - 0s 13ms/step - loss: 0.2239 - val_loss: 0.5754\n",
            "Epoch 1/5\n",
            "3/3 [==============================] - 1s 256ms/step - loss: 0.2933 - val_loss: 0.7161\n",
            "Epoch 2/5\n",
            "3/3 [==============================] - 0s 14ms/step - loss: 0.2830 - val_loss: 0.7039\n",
            "Epoch 3/5\n",
            "3/3 [==============================] - 0s 13ms/step - loss: 0.2766 - val_loss: 0.6941\n",
            "Epoch 4/5\n",
            "3/3 [==============================] - 0s 13ms/step - loss: 0.2715 - val_loss: 0.6861\n",
            "Epoch 5/5\n",
            "3/3 [==============================] - 0s 13ms/step - loss: 0.2672 - val_loss: 0.6788\n",
            "Epoch 1/5\n",
            "3/3 [==============================] - 1s 263ms/step - loss: 0.2729 - val_loss: 0.7088\n",
            "Epoch 2/5\n",
            "3/3 [==============================] - 0s 14ms/step - loss: 0.2729 - val_loss: 0.7088\n",
            "Epoch 3/5\n",
            "3/3 [==============================] - 0s 14ms/step - loss: 0.2729 - val_loss: 0.7087\n",
            "Epoch 4/5\n",
            "3/3 [==============================] - 0s 14ms/step - loss: 0.2729 - val_loss: 0.7087\n",
            "Epoch 5/5\n",
            "3/3 [==============================] - 0s 15ms/step - loss: 0.2728 - val_loss: 0.7086\n",
            "Epoch 1/5\n",
            "3/3 [==============================] - 1s 266ms/step - loss: 0.2923 - val_loss: 0.7281\n",
            "Epoch 2/5\n",
            "3/3 [==============================] - 0s 17ms/step - loss: 0.2750 - val_loss: 0.6946\n",
            "Epoch 3/5\n",
            "3/3 [==============================] - 0s 16ms/step - loss: 0.2593 - val_loss: 0.6625\n",
            "Epoch 4/5\n",
            "3/3 [==============================] - 0s 17ms/step - loss: 0.2440 - val_loss: 0.6316\n",
            "Epoch 5/5\n",
            "3/3 [==============================] - 0s 14ms/step - loss: 0.2295 - val_loss: 0.6012\n",
            "Epoch 1/5\n",
            "3/3 [==============================] - 1s 277ms/step - loss: 0.2694 - val_loss: 0.6751\n",
            "Epoch 2/5\n",
            "3/3 [==============================] - 0s 16ms/step - loss: 0.2561 - val_loss: 0.6540\n",
            "Epoch 3/5\n",
            "3/3 [==============================] - 0s 16ms/step - loss: 0.2435 - val_loss: 0.6309\n",
            "Epoch 4/5\n",
            "3/3 [==============================] - 0s 16ms/step - loss: 0.2299 - val_loss: 0.6060\n",
            "Epoch 5/5\n",
            "3/3 [==============================] - 0s 16ms/step - loss: 0.2156 - val_loss: 0.5799\n",
            "Epoch 1/5\n",
            "3/3 [==============================] - 1s 267ms/step - loss: 0.2651 - val_loss: 0.6922\n",
            "Epoch 2/5\n",
            "3/3 [==============================] - 0s 15ms/step - loss: 0.2766 - val_loss: 0.6899\n",
            "Epoch 3/5\n",
            "3/3 [==============================] - 0s 14ms/step - loss: 0.2753 - val_loss: 0.6881\n",
            "Epoch 4/5\n",
            "3/3 [==============================] - 0s 14ms/step - loss: 0.2742 - val_loss: 0.6866\n",
            "Epoch 5/5\n",
            "3/3 [==============================] - 0s 14ms/step - loss: 0.2734 - val_loss: 0.6853\n",
            "Epoch 1/5\n",
            "3/3 [==============================] - 1s 263ms/step - loss: 0.2029 - val_loss: 0.4213\n",
            "Epoch 2/5\n",
            "3/3 [==============================] - 0s 15ms/step - loss: 0.1334 - val_loss: 0.3326\n",
            "Epoch 3/5\n",
            "3/3 [==============================] - 0s 13ms/step - loss: 0.0926 - val_loss: 0.2731\n",
            "Epoch 4/5\n",
            "3/3 [==============================] - 0s 14ms/step - loss: 0.0684 - val_loss: 0.2323\n",
            "Epoch 5/5\n",
            "3/3 [==============================] - 0s 14ms/step - loss: 0.0537 - val_loss: 0.2026\n",
            "Epoch 1/5\n",
            "3/3 [==============================] - 1s 261ms/step - loss: 0.2627 - val_loss: 0.6394\n",
            "Epoch 2/5\n",
            "3/3 [==============================] - 0s 15ms/step - loss: 0.2433 - val_loss: 0.6119\n",
            "Epoch 3/5\n",
            "3/3 [==============================] - 0s 16ms/step - loss: 0.2284 - val_loss: 0.5866\n",
            "Epoch 4/5\n",
            "3/3 [==============================] - 0s 15ms/step - loss: 0.2146 - val_loss: 0.5613\n",
            "Epoch 5/5\n",
            "3/3 [==============================] - 0s 15ms/step - loss: 0.2012 - val_loss: 0.5359\n",
            "Epoch 1/5\n",
            "3/3 [==============================] - 1s 257ms/step - loss: 0.2749 - val_loss: 0.6800\n",
            "Epoch 2/5\n",
            "3/3 [==============================] - 0s 17ms/step - loss: 0.2621 - val_loss: 0.6559\n",
            "Epoch 3/5\n",
            "3/3 [==============================] - 0s 15ms/step - loss: 0.2492 - val_loss: 0.6321\n",
            "Epoch 4/5\n",
            "3/3 [==============================] - 0s 14ms/step - loss: 0.2369 - val_loss: 0.6082\n",
            "Epoch 5/5\n",
            "3/3 [==============================] - 0s 16ms/step - loss: 0.2246 - val_loss: 0.5840\n",
            "Epoch 1/5\n",
            "3/3 [==============================] - 1s 267ms/step - loss: 0.2693 - val_loss: 0.6632\n",
            "Epoch 2/5\n",
            "3/3 [==============================] - 0s 17ms/step - loss: 0.2617 - val_loss: 0.6541\n",
            "Epoch 3/5\n",
            "3/3 [==============================] - 0s 13ms/step - loss: 0.2569 - val_loss: 0.6464\n",
            "Epoch 4/5\n",
            "3/3 [==============================] - 0s 14ms/step - loss: 0.2529 - val_loss: 0.6398\n",
            "Epoch 5/5\n",
            "3/3 [==============================] - 0s 13ms/step - loss: 0.2493 - val_loss: 0.6337\n",
            "Epoch 1/5\n",
            "3/3 [==============================] - 1s 267ms/step - loss: 0.2930 - val_loss: 0.7171\n",
            "Epoch 2/5\n",
            "3/3 [==============================] - 0s 14ms/step - loss: 0.2930 - val_loss: 0.7170\n",
            "Epoch 3/5\n",
            "3/3 [==============================] - 0s 14ms/step - loss: 0.2930 - val_loss: 0.7170\n",
            "Epoch 4/5\n",
            "3/3 [==============================] - 0s 14ms/step - loss: 0.2929 - val_loss: 0.7169\n",
            "Epoch 5/5\n",
            "3/3 [==============================] - 0s 15ms/step - loss: 0.2929 - val_loss: 0.7169\n",
            "Epoch 1/5\n",
            "3/3 [==============================] - 1s 262ms/step - loss: 0.2883 - val_loss: 0.7126\n",
            "Epoch 2/5\n",
            "3/3 [==============================] - 0s 15ms/step - loss: 0.2804 - val_loss: 0.6995\n",
            "Epoch 3/5\n",
            "3/3 [==============================] - 0s 14ms/step - loss: 0.2735 - val_loss: 0.6874\n",
            "Epoch 4/5\n",
            "3/3 [==============================] - 0s 13ms/step - loss: 0.2670 - val_loss: 0.6757\n",
            "Epoch 5/5\n",
            "3/3 [==============================] - 0s 16ms/step - loss: 0.2606 - val_loss: 0.6645\n",
            "Epoch 1/5\n",
            "3/3 [==============================] - 1s 292ms/step - loss: 0.2662 - val_loss: 0.6579\n",
            "Epoch 2/5\n",
            "3/3 [==============================] - 0s 17ms/step - loss: 0.2563 - val_loss: 0.6392\n",
            "Epoch 3/5\n",
            "3/3 [==============================] - 0s 16ms/step - loss: 0.2466 - val_loss: 0.6188\n",
            "Epoch 4/5\n",
            "3/3 [==============================] - 0s 15ms/step - loss: 0.2361 - val_loss: 0.5969\n",
            "Epoch 5/5\n",
            "3/3 [==============================] - 0s 17ms/step - loss: 0.2252 - val_loss: 0.5746\n",
            "Epoch 1/5\n",
            "3/3 [==============================] - 1s 260ms/step - loss: 0.2805 - val_loss: 0.6922\n",
            "Epoch 2/5\n",
            "3/3 [==============================] - 0s 15ms/step - loss: 0.2766 - val_loss: 0.6900\n",
            "Epoch 3/5\n",
            "3/3 [==============================] - 0s 15ms/step - loss: 0.2753 - val_loss: 0.6882\n",
            "Epoch 4/5\n",
            "3/3 [==============================] - 0s 14ms/step - loss: 0.2743 - val_loss: 0.6868\n",
            "Epoch 5/5\n",
            "3/3 [==============================] - 0s 14ms/step - loss: 0.2735 - val_loss: 0.6855\n",
            "Epoch 1/5\n",
            "3/3 [==============================] - 1s 269ms/step - loss: 0.2177 - val_loss: 0.5145\n",
            "Epoch 2/5\n",
            "3/3 [==============================] - 0s 15ms/step - loss: 0.1669 - val_loss: 0.4373\n",
            "Epoch 3/5\n",
            "3/3 [==============================] - 0s 14ms/step - loss: 0.1287 - val_loss: 0.3741\n",
            "Epoch 4/5\n",
            "3/3 [==============================] - 0s 14ms/step - loss: 0.1002 - val_loss: 0.3264\n",
            "Epoch 5/5\n",
            "3/3 [==============================] - 0s 14ms/step - loss: 0.0801 - val_loss: 0.2868\n",
            "Epoch 1/5\n",
            "3/3 [==============================] - 1s 273ms/step - loss: 0.2282 - val_loss: 0.4635\n",
            "Epoch 2/5\n",
            "3/3 [==============================] - 0s 15ms/step - loss: 0.1717 - val_loss: 0.3712\n",
            "Epoch 3/5\n",
            "3/3 [==============================] - 0s 14ms/step - loss: 0.1312 - val_loss: 0.2955\n",
            "Epoch 4/5\n",
            "3/3 [==============================] - 0s 14ms/step - loss: 0.0996 - val_loss: 0.2319\n",
            "Epoch 5/5\n",
            "3/3 [==============================] - 0s 14ms/step - loss: 0.0743 - val_loss: 0.1734\n",
            "Epoch 1/5\n",
            "3/3 [==============================] - 1s 264ms/step - loss: 0.2815 - val_loss: 0.6892\n",
            "Epoch 2/5\n",
            "3/3 [==============================] - 0s 15ms/step - loss: 0.2617 - val_loss: 0.6522\n",
            "Epoch 3/5\n",
            "3/3 [==============================] - 0s 15ms/step - loss: 0.2430 - val_loss: 0.6152\n",
            "Epoch 4/5\n",
            "3/3 [==============================] - 0s 14ms/step - loss: 0.2241 - val_loss: 0.5778\n",
            "Epoch 5/5\n",
            "3/3 [==============================] - 0s 15ms/step - loss: 0.2052 - val_loss: 0.5397\n",
            "Epoch 1/5\n",
            "3/3 [==============================] - 1s 251ms/step - loss: 0.2544 - val_loss: 0.6331\n",
            "Epoch 2/5\n",
            "3/3 [==============================] - 0s 14ms/step - loss: 0.2428 - val_loss: 0.6182\n",
            "Epoch 3/5\n",
            "3/3 [==============================] - 0s 13ms/step - loss: 0.2351 - val_loss: 0.6065\n",
            "Epoch 4/5\n",
            "3/3 [==============================] - 0s 14ms/step - loss: 0.2288 - val_loss: 0.5961\n",
            "Epoch 5/5\n",
            "3/3 [==============================] - 0s 14ms/step - loss: 0.2232 - val_loss: 0.5867\n",
            "Epoch 1/5\n",
            "3/3 [==============================] - 1s 259ms/step - loss: 0.2597 - val_loss: 0.6582\n",
            "Epoch 2/5\n",
            "3/3 [==============================] - 0s 15ms/step - loss: 0.2597 - val_loss: 0.6582\n",
            "Epoch 3/5\n",
            "3/3 [==============================] - 0s 16ms/step - loss: 0.2596 - val_loss: 0.6582\n",
            "Epoch 4/5\n",
            "3/3 [==============================] - 0s 14ms/step - loss: 0.2596 - val_loss: 0.6581\n",
            "Epoch 5/5\n",
            "3/3 [==============================] - 0s 14ms/step - loss: 0.2596 - val_loss: 0.6581\n",
            "Epoch 1/5\n",
            "3/3 [==============================] - 1s 258ms/step - loss: 0.2769 - val_loss: 0.6716\n",
            "Epoch 2/5\n",
            "3/3 [==============================] - 0s 15ms/step - loss: 0.2645 - val_loss: 0.6499\n",
            "Epoch 3/5\n",
            "3/3 [==============================] - 0s 14ms/step - loss: 0.2528 - val_loss: 0.6284\n",
            "Epoch 4/5\n",
            "3/3 [==============================] - 0s 16ms/step - loss: 0.2412 - val_loss: 0.6074\n",
            "Epoch 5/5\n",
            "3/3 [==============================] - 0s 14ms/step - loss: 0.2305 - val_loss: 0.5863\n",
            "Epoch 1/5\n",
            "3/3 [==============================] - 1s 267ms/step - loss: 0.2851 - val_loss: 0.6925\n",
            "Epoch 2/5\n",
            "3/3 [==============================] - 0s 15ms/step - loss: 0.2709 - val_loss: 0.6689\n",
            "Epoch 3/5\n",
            "3/3 [==============================] - 0s 15ms/step - loss: 0.2574 - val_loss: 0.6432\n",
            "Epoch 4/5\n",
            "3/3 [==============================] - 0s 15ms/step - loss: 0.2430 - val_loss: 0.6153\n",
            "Epoch 5/5\n",
            "3/3 [==============================] - 0s 16ms/step - loss: 0.2273 - val_loss: 0.5842\n",
            "Epoch 1/5\n",
            "3/3 [==============================] - 1s 261ms/step - loss: 0.2694 - val_loss: 0.6922\n",
            "Epoch 2/5\n",
            "3/3 [==============================] - 0s 14ms/step - loss: 0.2765 - val_loss: 0.6899\n",
            "Epoch 3/5\n",
            "3/3 [==============================] - 0s 14ms/step - loss: 0.2753 - val_loss: 0.6882\n",
            "Epoch 4/5\n",
            "3/3 [==============================] - 0s 13ms/step - loss: 0.2743 - val_loss: 0.6867\n",
            "Epoch 5/5\n",
            "3/3 [==============================] - 0s 13ms/step - loss: 0.2734 - val_loss: 0.6854\n"
          ],
          "name": "stdout"
        }
      ]
    },
    {
      "cell_type": "markdown",
      "metadata": {
        "id": "k4ocL2CLJLXg",
        "colab_type": "text"
      },
      "source": [
        "# Predicted the test data \n",
        "\n",
        "*   Must also plot the output\n",
        "\n"
      ]
    },
    {
      "cell_type": "code",
      "metadata": {
        "id": "aBny6cUkO4xC",
        "colab_type": "code",
        "colab": {
          "base_uri": "https://localhost:8080/",
          "height": 33
        },
        "outputId": "e7c63213-0ff4-49c5-c7b9-af2ebc547d15"
      },
      "source": [
        "# Prediction and check performance metric\n",
        "train_predict = model_testing.predict(X_train)\n",
        "test_predict = model_testing.predict(X_test)\n",
        "train_predict.shape\n",
        "test_predict.shape"
      ],
      "execution_count": 87,
      "outputs": [
        {
          "output_type": "execute_result",
          "data": {
            "text/plain": [
              "(16, 1)"
            ]
          },
          "metadata": {
            "tags": []
          },
          "execution_count": 87
        }
      ]
    },
    {
      "cell_type": "code",
      "metadata": {
        "id": "b7ocuWlpPIEA",
        "colab_type": "code",
        "colab": {
          "base_uri": "https://localhost:8080/",
          "height": 33
        },
        "outputId": "1bc36e2c-a314-4ea1-8ace-4f65c70040ab"
      },
      "source": [
        "# Transform back to original form\n",
        "train_predict=scaler.inverse_transform(train_predict)\n",
        "test_predict=scaler.inverse_transform(test_predict)\n",
        "train_predict.shape"
      ],
      "execution_count": 88,
      "outputs": [
        {
          "output_type": "execute_result",
          "data": {
            "text/plain": [
              "(79, 1)"
            ]
          },
          "metadata": {
            "tags": []
          },
          "execution_count": 88
        }
      ]
    },
    {
      "cell_type": "code",
      "metadata": {
        "id": "DHXXILzqPUHQ",
        "colab_type": "code",
        "colab": {
          "base_uri": "https://localhost:8080/",
          "height": 33
        },
        "outputId": "79d81dae-e2be-4700-80a2-7a1ca40a6895"
      },
      "source": [
        "# Calculate the RMSE performance metrics\n",
        "# Output for the train dataset\n",
        "import math\n",
        "from sklearn.metrics import mean_squared_error\n",
        "math.sqrt(mean_squared_error(Y_train, train_predict))"
      ],
      "execution_count": 89,
      "outputs": [
        {
          "output_type": "execute_result",
          "data": {
            "text/plain": [
              "0.665752998759376"
            ]
          },
          "metadata": {
            "tags": []
          },
          "execution_count": 89
        }
      ]
    },
    {
      "cell_type": "code",
      "metadata": {
        "id": "fFNm7l86Pt_7",
        "colab_type": "code",
        "colab": {
          "base_uri": "https://localhost:8080/",
          "height": 33
        },
        "outputId": "d8d1f035-5545-4d27-a124-66d9355713e4"
      },
      "source": [
        "# Similarly for the test Data RMSE\n",
        "math.sqrt(mean_squared_error(Y_test, test_predict))"
      ],
      "execution_count": 90,
      "outputs": [
        {
          "output_type": "execute_result",
          "data": {
            "text/plain": [
              "0.25237193083372994"
            ]
          },
          "metadata": {
            "tags": []
          },
          "execution_count": 90
        }
      ]
    },
    {
      "cell_type": "code",
      "metadata": {
        "id": "gZc_4QJmZugn",
        "colab_type": "code",
        "colab": {}
      },
      "source": [
        "# Evaluating: How well is model performing \n",
        "# Probability distribution rather than time series\n",
        "# Tensorflow??\n",
        "# KL Divergence\n",
        "# Consider this for evaluation: https://www.tensorflow.org/api_docs/python/tf/keras/losses/KLDivergence\n",
        "# kl divergence measures difference between 2 probability distributions, \n",
        "# measure of what i am predicting and what should have been predicting"
      ],
      "execution_count": 91,
      "outputs": []
    },
    {
      "cell_type": "markdown",
      "metadata": {
        "id": "-nSW23ryI8RU",
        "colab_type": "text"
      },
      "source": [
        "# Predicted future 7 days and plotted the output"
      ]
    },
    {
      "cell_type": "code",
      "metadata": {
        "id": "wIaC4DB2UV6P",
        "colab_type": "code",
        "colab": {
          "base_uri": "https://localhost:8080/",
          "height": 435
        },
        "outputId": "1edb8078-c830-4f9b-b9e4-ea02d885092c"
      },
      "source": [
        "# What does this mean exactly??\n",
        "\n",
        "look_back = 7\n",
        "\n",
        "# empty_like: Return a new array with the same shape and type as a given array.\n",
        "# np.nan: Replect all with nan? What does this mean?\n",
        "# What does this do?? 7: predict.length() + 7, :\n",
        "\n",
        "trainPredictPlot = np.empty_like(new_dataset)\n",
        "trainPredictPlot[:,:]= np.nan\n",
        "trainPredictPlot[look_back:len(train_predict)+look_back, :] = train_predict\n",
        "print(trainPredictPlot.shape)\n",
        "\n",
        "# empty_like: Return a new array with the same shape and type as a given array.\n",
        "# np.nan: Replect all with nan? What does this mean?\n",
        "# Dont understand what this is doing\n",
        "# What does this do?? predict.length() + (7*2) +2 :(training_size + test_size)] = test_predict\n",
        "\n",
        "testPredictPlot = np.empty_like(new_dataset)\n",
        "testPredictPlot[:,:]= np.nan\n",
        "testPredictPlot[len(train_predict)+(look_back*2)+1: (training_size + test_size)] = test_predict\n",
        "# new_dataset[training_size:(training_size + test_size)]\n",
        "print(testPredictPlot.shape)\n",
        "\n",
        "# Plot baseline and predictions\n",
        "plt.title('Analysis of train, test and actual')\n",
        "plt.plot(scaler.inverse_transform(new_dataset), label=\"actual dataset\")\n",
        "\n",
        "# plt.plot(train_predict)\n",
        "# plt.plot(test_predict)\n",
        "\n",
        "trainPredictPlot = [item[1] for item in trainPredictPlot] \n",
        "plt.plot(trainPredictPlot, label=\"train_predict\")\n",
        "testPredictPlot = [item[1] for item in testPredictPlot] \n",
        "plt.plot(testPredictPlot, label=\"test_predict\")\n",
        "\n",
        "# as you can see th test data and train is divided because we want to test after a specific day\n",
        "# plt.plot(testPredictPlot, label=\"test_predict\")\n",
        "plt.ylabel('Forex price & US Death Rates')\n",
        "plt.xlabel('Date')\n",
        "plt.legend()\n",
        "plt.show()\n",
        "# Printing 2 actual_dataset, train_predict, test_predict because 2 input layers"
      ],
      "execution_count": 92,
      "outputs": [
        {
          "output_type": "stream",
          "text": [
            "(134, 2)\n",
            "(134, 2)\n"
          ],
          "name": "stdout"
        },
        {
          "output_type": "display_data",
          "data": {
            "image/png": "[encoded data removed]",
            "text/plain": [
              "<Figure size 1080x432 with 1 Axes>"
            ]
          },
          "metadata": {
            "tags": []
          }
        }
      ]
    },
    {
      "cell_type": "markdown",
      "metadata": {
        "id": "Fc6YFJvQjBGu",
        "colab_type": "text"
      },
      "source": [
        "# Custom 4 day predictiom\n",
        "\n",
        "\n",
        "*   Training train data to predict future days and evaluating the accuracy on validation data.\n",
        "*   Training train data to predict future days, no way of evaluating however this can tell us what is likely to occur.\n",
        "\n"
      ]
    },
    {
      "cell_type": "markdown",
      "metadata": {
        "id": "BqOPOF02jlRd",
        "colab_type": "text"
      },
      "source": [
        "### Using last 7 days of training data to predict the future custom days(4). "
      ]
    },
    {
      "cell_type": "code",
      "metadata": {
        "id": "yws-gX7RTB3Z",
        "colab_type": "code",
        "colab": {
          "base_uri": "https://localhost:8080/",
          "height": 131
        },
        "outputId": "596929f6-0486-4d4c-b310-cca4314c4747"
      },
      "source": [
        "# What does this do?\n",
        "X_input=test_data[40:].reshape(1,-1)\n",
        "X_input.shape\n",
        "temp_input = train_data[-7:]\n",
        "temp_input\n"
      ],
      "execution_count": 93,
      "outputs": [
        {
          "output_type": "execute_result",
          "data": {
            "text/plain": [
              "array([[0.05753473, 0.44532131],\n",
              "       [0.0658916 , 0.61217587],\n",
              "       [0.07456764, 0.75253664],\n",
              "       [0.08383321, 0.80101466],\n",
              "       [0.09400989, 0.92784667],\n",
              "       [0.10444046, 0.88105975],\n",
              "       [0.11526232, 0.82750846]])"
            ]
          },
          "metadata": {
            "tags": []
          },
          "execution_count": 93
        }
      ]
    },
    {
      "cell_type": "code",
      "metadata": {
        "id": "CHAxzKyuTp5-",
        "colab_type": "code",
        "colab": {
          "base_uri": "https://localhost:8080/",
          "height": 33
        },
        "outputId": "f8703412-991b-43b3-aba8-da2ea715ba3e"
      },
      "source": [
        "# Demonstrate prediction for the next 4 days:\n",
        "\n",
        "# Step 1. 7 days of feature = temp_input taken from the last 7 days of the training set\n",
        "# Step 2  i is the day you are on and we want to predict 4 days: 0,1,2,3 (4 days)\n",
        "# Step 3. Predict the 8th day on each of the 7 days,\n",
        "# Step 4. Add this new predicted day to the list\n",
        "# Step 5. Because we are now taking in the last 7 days + the new predicted value, the list is now size 8  \n",
        "# Step 6. In order to take in 7 days at a time, we shift 1 to the right.\n",
        "# Step 7. We reassign the X_train to the new 7 days\n",
        "# Step 8. We predict the 8th day of the 7 days and continue the process\n",
        "# Step 9. We then add the 8th day to the output list\n",
        "# Step 10. We keep track of the 4 days by incrementing by i at the end-> i = i+1\n",
        "# Step 11. Once we have predicted the 4 days, we return the list of 4 day values.\n",
        "\n",
        "from numpy import array\n",
        "custom_day = 4\n",
        "lst_output=[]\n",
        "n_steps=7\n",
        "i=0\n",
        "X_input = temp_input\n",
        "while(i<custom_day):\n",
        "  if(len(temp_input)>7):\n",
        "    # print(temp_input)  \n",
        "    X_input=array(temp_input[1:])\n",
        "    # print(\"{} day input {}\".format(i,X_input))\n",
        "    # Correct input shape (1,7,2)\n",
        "    X_input=X_input.reshape((1,n_steps,2))\n",
        "    # Prediction of X_input\n",
        "    Y_hat = model_testing.predict(X_input)\n",
        "    temp_input = np.append(temp_input, Y_hat)\n",
        "    temp_input=temp_input[1:]\n",
        "    lst_output.append(Y_hat[0][0])\n",
        "    i=i+1\n",
        "  else:\n",
        "    X_input=X_input.reshape((1,n_steps,2))\n",
        "    Y_hat = model_testing.predict(X_input, verbose=0)\n",
        "    temp_input = np.append(temp_input, Y_hat)\n",
        "    lst_output.append(Y_hat[0][0])\n",
        "    i=i+1\n",
        "\n",
        "# Print the predicted forex price for the next 4 days \n",
        "print(lst_output)"
      ],
      "execution_count": 95,
      "outputs": [
        {
          "output_type": "stream",
          "text": [
            "[0.006342962, 0.006342962, 0.006342962, 0.006342962]\n"
          ],
          "name": "stdout"
        }
      ]
    },
    {
      "cell_type": "markdown",
      "metadata": {
        "id": "-0DCdCn2jwxO",
        "colab_type": "text"
      },
      "source": [
        "### Plotting evaluation on graph. Training output versus first 4 days of the validation data."
      ]
    },
    {
      "cell_type": "code",
      "metadata": {
        "id": "z_5opaqHfcZt",
        "colab_type": "code",
        "colab": {
          "base_uri": "https://localhost:8080/",
          "height": 435
        },
        "outputId": "bb8664d7-d548-4cd8-81bc-7ec808c940d8"
      },
      "source": [
        "# Custom day plotted\n",
        "day_new = custom_day-1\n",
        "\n",
        "# Predicted 4 days from training\n",
        "# Plot and label\n",
        "# Transform back to original value before normalised\n",
        "custom_day_prediction = np.array(lst_output)\n",
        "print(custom_day_prediction)\n",
        "plt.plot(custom_day_prediction, label=\"Predicted\")\n",
        "# plt.plot(day_new, scaler.inverse_transform([custom_day_prediction]))\n",
        "\n",
        "# Actual 4 days from validation\n",
        "# Plot and label\n",
        "# Transform back to original value before normalised\n",
        "val_data = [item[1] for item in valset_data] \n",
        "custom_day_validation = val_data[:custom_day]\n",
        "print(custom_day_validation)\n",
        "plt.plot(custom_day_validation, label=\"Actual\")\n",
        "# plt.plot(day_new, scaler.inverse_transform([custom_day_validation]))\n",
        "\n",
        "# Information\n",
        "plt.title('Predicted custom day from training data versus actual custom day from validation data')\n",
        "plt.xlabel('Number of custom days')\n",
        "plt.ylabel('Price')\n",
        "plt.legend()\n",
        "plt.show()"
      ],
      "execution_count": 96,
      "outputs": [
        {
          "output_type": "stream",
          "text": [
            "[0.00634296 0.00634296 0.00634296 0.00634296]\n",
            "[0.7807215332581725, 0.746899661781284, 0.7130777903043954, 0.7519729425028183]\n"
          ],
          "name": "stdout"
        },
        {
          "output_type": "display_data",
          "data": {
            "image/png": "[encoded data removed]",
            "text/plain": [
              "<Figure size 1080x432 with 1 Axes>"
            ]
          },
          "metadata": {
            "tags": []
          }
        }
      ]
    },
    {
      "cell_type": "code",
      "metadata": {
        "id": "9X1xZG9bWNx_",
        "colab_type": "code",
        "colab": {
          "base_uri": "https://localhost:8080/",
          "height": 418
        },
        "outputId": "72675d66-0001-4ac6-e392-7034ebe5e892"
      },
      "source": [
        "# Connect what we got as a result to the future\n",
        "day_new = custom_day-1\n",
        "\n",
        "# Predicted 4 days from training\n",
        "# Plot and label\n",
        "# Transform back to original value before normalised\n",
        "custom_day_prediction = np.array(lst_output)\n",
        "print(custom_day_prediction)\n",
        "plt.plot(custom_day_prediction, label=\"Predicted\")\n",
        "plt.plot(day_new, scaler.inverse_transform([custom_day_prediction]))\n",
        "\n",
        "# Actual 4 days from validation\n",
        "# Plot and label\n",
        "# Transform back to original value before normalised\n",
        "# Start on 4 instead\n",
        "val_data = [item[1] for item in valset_data] \n",
        "custom_day_validation = val_data[custom_day:]\n",
        "plt.plot(custom_day_validation, label=\"Actual\")\n",
        "plt.plot(day_new, scaler.inverse_transform([custom_day_validation]))\n",
        "\n",
        "# Information\n",
        "plt.title('Predicted custom day from training data versus actual custom day from validation data')\n",
        "plt.xlabel('Number of custom days')\n",
        "plt.ylabel('Price')\n",
        "plt.legend()\n",
        "plt.show()\n",
        "\n"
      ],
      "execution_count": 97,
      "outputs": [
        {
          "output_type": "stream",
          "text": [
            "[0.00634296 0.00634296 0.00634296 0.00634296]\n"
          ],
          "name": "stdout"
        },
        {
          "output_type": "display_data",
          "data": {
            "image/png": "[encoded data removed]",
            "text/plain": [
              "<Figure size 1080x432 with 1 Axes>"
            ]
          },
          "metadata": {
            "tags": []
          }
        }
      ]
    },
    {
      "cell_type": "code",
      "metadata": {
        "id": "IeOGd1UPV8jG",
        "colab_type": "code",
        "colab": {}
      },
      "source": [
        "# What we have:\n",
        "# day_new=np.arange(1,8)\n",
        "# print(day_new)\n",
        "# What we want to predict:\n",
        "# day_pred=np.arange(8,12)\n",
        "# print(day_pred)"
      ],
      "execution_count": null,
      "outputs": []
    },
    {
      "cell_type": "code",
      "metadata": {
        "id": "8mfkMMBk-rFY",
        "colab_type": "code",
        "colab": {}
      },
      "source": [
        "# Grid Search\n",
        "# Every hyperpara combination we have"
      ],
      "execution_count": null,
      "outputs": []
    },
    {
      "cell_type": "markdown",
      "metadata": {
        "id": "7o0GfssHMvIL",
        "colab_type": "text"
      },
      "source": [
        "# Conclusion and next steps\n",
        "We explored the LSTM algorithms:\n",
        "\n",
        "*   List item\n",
        "*   List item\n",
        "\n",
        "\n",
        "In conclusion it seems that .."
      ]
    }
  ]
}