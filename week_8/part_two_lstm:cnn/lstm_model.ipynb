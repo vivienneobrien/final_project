{
  "nbformat": 4,
  "nbformat_minor": 0,
  "metadata": {
    "colab": {
      "name": "lstm_model.ipynb",
      "provenance": [],
      "collapsed_sections": [],
      "toc_visible": true
    },
    "kernelspec": {
      "name": "python3",
      "display_name": "Python 3"
    },
    "accelerator": "GPU"
  },
  "cells": [
    {
      "cell_type": "markdown",
      "metadata": {
        "id": "NpLCBrS0DoTl",
        "colab_type": "text"
      },
      "source": [
        "# Notes for user:\n",
        "\n",
        "*   This notebook will use the dataset COVID-19 and forex to predict the forex spot price of a currency pair.\n",
        "*   What to ask user before using this application:\n",
        "*   What currency pair are you interested in? USD/GBP (This layout means that the base currency is USD)\n",
        "*   The currency the user wants to look at is how much the USD is worth to the GBP.\n",
        "*   Therefore, we look at the death rates in the US and the UK.\n",
        "*   LSTMs are good at looking at changed over time. We need to also consider that what happen more recently is a better judgement than what happened a long time ago. This is why CNNs might be interesting to explore.\n"
      ]
    },
    {
      "cell_type": "code",
      "metadata": {
        "id": "GDBxlQkCD7Mj",
        "colab_type": "code",
        "colab": {
          "base_uri": "https://localhost:8080/",
          "height": 281
        },
        "outputId": "cc7c67a1-2e4d-46d3-cac8-ba67d79197fe"
      },
      "source": [
        "# Use some functions from tensorflow_docs\n",
        "!pip install git+https://github.com/tensorflow/docs"
      ],
      "execution_count": 765,
      "outputs": [
        {
          "output_type": "stream",
          "text": [
            "Collecting git+https://github.com/tensorflow/docs\n",
            "  Cloning https://github.com/tensorflow/docs to /tmp/pip-req-build-j_6f_4th\n",
            "  Running command git clone -q https://github.com/tensorflow/docs /tmp/pip-req-build-j_6f_4th\n",
            "Requirement already satisfied (use --upgrade to upgrade): tensorflow-docs===0.0.0adae1941b3a1b3c0b781b94d96f4476892a44620- from git+https://github.com/tensorflow/docs in /usr/local/lib/python3.6/dist-packages\n",
            "Requirement already satisfied: astor in /usr/local/lib/python3.6/dist-packages (from tensorflow-docs===0.0.0adae1941b3a1b3c0b781b94d96f4476892a44620-) (0.8.1)\n",
            "Requirement already satisfied: absl-py in /usr/local/lib/python3.6/dist-packages (from tensorflow-docs===0.0.0adae1941b3a1b3c0b781b94d96f4476892a44620-) (0.9.0)\n",
            "Requirement already satisfied: protobuf in /usr/local/lib/python3.6/dist-packages (from tensorflow-docs===0.0.0adae1941b3a1b3c0b781b94d96f4476892a44620-) (3.12.2)\n",
            "Requirement already satisfied: pyyaml in /usr/local/lib/python3.6/dist-packages (from tensorflow-docs===0.0.0adae1941b3a1b3c0b781b94d96f4476892a44620-) (3.13)\n",
            "Requirement already satisfied: six in /usr/local/lib/python3.6/dist-packages (from absl-py->tensorflow-docs===0.0.0adae1941b3a1b3c0b781b94d96f4476892a44620-) (1.15.0)\n",
            "Requirement already satisfied: setuptools in /usr/local/lib/python3.6/dist-packages (from protobuf->tensorflow-docs===0.0.0adae1941b3a1b3c0b781b94d96f4476892a44620-) (49.2.0)\n",
            "Building wheels for collected packages: tensorflow-docs\n",
            "  Building wheel for tensorflow-docs (setup.py) ... \u001b[?25l\u001b[?25hdone\n",
            "  Created wheel for tensorflow-docs: filename=tensorflow_docs-0.0.0adae1941b3a1b3c0b781b94d96f4476892a44620_-cp36-none-any.whl size=126412 sha256=434cc982b5704845cdf8c80d39112831fb4d1662aaded4827030a5d8798f8823\n",
            "  Stored in directory: /tmp/pip-ephem-wheel-cache-td0y3c3x/wheels/eb/1b/35/fce87697be00d2fc63e0b4b395b0d9c7e391a10e98d9a0d97f\n",
            "Successfully built tensorflow-docs\n"
          ],
          "name": "stdout"
        }
      ]
    },
    {
      "cell_type": "code",
      "metadata": {
        "id": "iJ6D0PrOJYeg",
        "colab_type": "code",
        "colab": {}
      },
      "source": [
        "import pathlib\n",
        "import matplotlib.pyplot as plt\n",
        "import numpy as np\n",
        "import pandas as pd"
      ],
      "execution_count": 766,
      "outputs": []
    },
    {
      "cell_type": "code",
      "metadata": {
        "id": "AgIgQg1XJcP2",
        "colab_type": "code",
        "colab": {
          "base_uri": "https://localhost:8080/",
          "height": 33
        },
        "outputId": "d39ff883-8623-4386-8c1c-b3a13c14c610"
      },
      "source": [
        "import tensorflow as tf\n",
        "from tensorflow import keras\n",
        "from tensorflow.keras import layers\n",
        "print(tf.__version__)"
      ],
      "execution_count": 767,
      "outputs": [
        {
          "output_type": "stream",
          "text": [
            "2.2.0\n"
          ],
          "name": "stdout"
        }
      ]
    },
    {
      "cell_type": "code",
      "metadata": {
        "id": "m_F-7tgZJe2m",
        "colab_type": "code",
        "colab": {}
      },
      "source": [
        "import tensorflow_docs as tfdocs\n",
        "import tensorflow_docs.plots\n",
        "import tensorflow_docs.modeling"
      ],
      "execution_count": 768,
      "outputs": []
    },
    {
      "cell_type": "markdown",
      "metadata": {
        "id": "QzadtzC3Hniw",
        "colab_type": "text"
      },
      "source": [
        "# Data Collection\n"
      ]
    },
    {
      "cell_type": "code",
      "metadata": {
        "id": "7GjIgZ7kJhjo",
        "colab_type": "code",
        "colab": {
          "base_uri": "https://localhost:8080/",
          "height": 292
        },
        "outputId": "504b4e5b-f901-4669-9f1e-724b986766eb"
      },
      "source": [
        "# Importing covid_dataset using pandas. Droping null values.\n",
        "covid_dataset_data= pd.read_csv('covid.csv', na_values = \"?\", comment='\\t', skipinitialspace=True)\n",
        "covid_dataset = covid_dataset_data.copy()\n",
        "# covid_dataset = covid_dataset.dropna()\n",
        "covid_dataset.head()"
      ],
      "execution_count": 769,
      "outputs": [
        {
          "output_type": "execute_result",
          "data": {
            "text/html": [
              "<div>\n",
              "<style scoped>\n",
              "    .dataframe tbody tr th:only-of-type {\n",
              "        vertical-align: middle;\n",
              "    }\n",
              "\n",
              "    .dataframe tbody tr th {\n",
              "        vertical-align: top;\n",
              "    }\n",
              "\n",
              "    .dataframe thead th {\n",
              "        text-align: right;\n",
              "    }\n",
              "</style>\n",
              "<table border=\"1\" class=\"dataframe\">\n",
              "  <thead>\n",
              "    <tr style=\"text-align: right;\">\n",
              "      <th></th>\n",
              "      <th>iso_code</th>\n",
              "      <th>continent</th>\n",
              "      <th>location</th>\n",
              "      <th>date</th>\n",
              "      <th>total_cases</th>\n",
              "      <th>new_cases</th>\n",
              "      <th>total_deaths</th>\n",
              "      <th>new_deaths</th>\n",
              "      <th>total_cases_per_million</th>\n",
              "      <th>new_cases_per_million</th>\n",
              "      <th>total_deaths_per_million</th>\n",
              "      <th>new_deaths_per_million</th>\n",
              "      <th>total_tests</th>\n",
              "      <th>new_tests</th>\n",
              "      <th>total_tests_per_thousand</th>\n",
              "      <th>new_tests_per_thousand</th>\n",
              "      <th>new_tests_smoothed</th>\n",
              "      <th>new_tests_smoothed_per_thousand</th>\n",
              "      <th>tests_units</th>\n",
              "      <th>stringency_index</th>\n",
              "      <th>population</th>\n",
              "      <th>population_density</th>\n",
              "      <th>median_age</th>\n",
              "      <th>aged_65_older</th>\n",
              "      <th>aged_70_older</th>\n",
              "      <th>gdp_per_capita</th>\n",
              "      <th>extreme_poverty</th>\n",
              "      <th>cvd_death_rate</th>\n",
              "      <th>diabetes_prevalence</th>\n",
              "      <th>female_smokers</th>\n",
              "      <th>male_smokers</th>\n",
              "      <th>handwashing_facilities</th>\n",
              "      <th>hospital_beds_per_thousand</th>\n",
              "      <th>life_expectancy</th>\n",
              "    </tr>\n",
              "  </thead>\n",
              "  <tbody>\n",
              "    <tr>\n",
              "      <th>0</th>\n",
              "      <td>AFG</td>\n",
              "      <td>Asia</td>\n",
              "      <td>Afghanistan</td>\n",
              "      <td>2019-12-31</td>\n",
              "      <td>0.0</td>\n",
              "      <td>0.0</td>\n",
              "      <td>0.0</td>\n",
              "      <td>0.0</td>\n",
              "      <td>0.0</td>\n",
              "      <td>0.0</td>\n",
              "      <td>0.0</td>\n",
              "      <td>0.0</td>\n",
              "      <td>NaN</td>\n",
              "      <td>NaN</td>\n",
              "      <td>NaN</td>\n",
              "      <td>NaN</td>\n",
              "      <td>NaN</td>\n",
              "      <td>NaN</td>\n",
              "      <td>NaN</td>\n",
              "      <td>NaN</td>\n",
              "      <td>38928341.0</td>\n",
              "      <td>54.422</td>\n",
              "      <td>18.6</td>\n",
              "      <td>2.581</td>\n",
              "      <td>1.337</td>\n",
              "      <td>1803.987</td>\n",
              "      <td>NaN</td>\n",
              "      <td>597.029</td>\n",
              "      <td>9.59</td>\n",
              "      <td>NaN</td>\n",
              "      <td>NaN</td>\n",
              "      <td>37.746</td>\n",
              "      <td>0.5</td>\n",
              "      <td>64.83</td>\n",
              "    </tr>\n",
              "    <tr>\n",
              "      <th>1</th>\n",
              "      <td>AFG</td>\n",
              "      <td>Asia</td>\n",
              "      <td>Afghanistan</td>\n",
              "      <td>2020-01-01</td>\n",
              "      <td>0.0</td>\n",
              "      <td>0.0</td>\n",
              "      <td>0.0</td>\n",
              "      <td>0.0</td>\n",
              "      <td>0.0</td>\n",
              "      <td>0.0</td>\n",
              "      <td>0.0</td>\n",
              "      <td>0.0</td>\n",
              "      <td>NaN</td>\n",
              "      <td>NaN</td>\n",
              "      <td>NaN</td>\n",
              "      <td>NaN</td>\n",
              "      <td>NaN</td>\n",
              "      <td>NaN</td>\n",
              "      <td>NaN</td>\n",
              "      <td>0.0</td>\n",
              "      <td>38928341.0</td>\n",
              "      <td>54.422</td>\n",
              "      <td>18.6</td>\n",
              "      <td>2.581</td>\n",
              "      <td>1.337</td>\n",
              "      <td>1803.987</td>\n",
              "      <td>NaN</td>\n",
              "      <td>597.029</td>\n",
              "      <td>9.59</td>\n",
              "      <td>NaN</td>\n",
              "      <td>NaN</td>\n",
              "      <td>37.746</td>\n",
              "      <td>0.5</td>\n",
              "      <td>64.83</td>\n",
              "    </tr>\n",
              "    <tr>\n",
              "      <th>2</th>\n",
              "      <td>AFG</td>\n",
              "      <td>Asia</td>\n",
              "      <td>Afghanistan</td>\n",
              "      <td>2020-01-02</td>\n",
              "      <td>0.0</td>\n",
              "      <td>0.0</td>\n",
              "      <td>0.0</td>\n",
              "      <td>0.0</td>\n",
              "      <td>0.0</td>\n",
              "      <td>0.0</td>\n",
              "      <td>0.0</td>\n",
              "      <td>0.0</td>\n",
              "      <td>NaN</td>\n",
              "      <td>NaN</td>\n",
              "      <td>NaN</td>\n",
              "      <td>NaN</td>\n",
              "      <td>NaN</td>\n",
              "      <td>NaN</td>\n",
              "      <td>NaN</td>\n",
              "      <td>0.0</td>\n",
              "      <td>38928341.0</td>\n",
              "      <td>54.422</td>\n",
              "      <td>18.6</td>\n",
              "      <td>2.581</td>\n",
              "      <td>1.337</td>\n",
              "      <td>1803.987</td>\n",
              "      <td>NaN</td>\n",
              "      <td>597.029</td>\n",
              "      <td>9.59</td>\n",
              "      <td>NaN</td>\n",
              "      <td>NaN</td>\n",
              "      <td>37.746</td>\n",
              "      <td>0.5</td>\n",
              "      <td>64.83</td>\n",
              "    </tr>\n",
              "    <tr>\n",
              "      <th>3</th>\n",
              "      <td>AFG</td>\n",
              "      <td>Asia</td>\n",
              "      <td>Afghanistan</td>\n",
              "      <td>2020-01-03</td>\n",
              "      <td>0.0</td>\n",
              "      <td>0.0</td>\n",
              "      <td>0.0</td>\n",
              "      <td>0.0</td>\n",
              "      <td>0.0</td>\n",
              "      <td>0.0</td>\n",
              "      <td>0.0</td>\n",
              "      <td>0.0</td>\n",
              "      <td>NaN</td>\n",
              "      <td>NaN</td>\n",
              "      <td>NaN</td>\n",
              "      <td>NaN</td>\n",
              "      <td>NaN</td>\n",
              "      <td>NaN</td>\n",
              "      <td>NaN</td>\n",
              "      <td>0.0</td>\n",
              "      <td>38928341.0</td>\n",
              "      <td>54.422</td>\n",
              "      <td>18.6</td>\n",
              "      <td>2.581</td>\n",
              "      <td>1.337</td>\n",
              "      <td>1803.987</td>\n",
              "      <td>NaN</td>\n",
              "      <td>597.029</td>\n",
              "      <td>9.59</td>\n",
              "      <td>NaN</td>\n",
              "      <td>NaN</td>\n",
              "      <td>37.746</td>\n",
              "      <td>0.5</td>\n",
              "      <td>64.83</td>\n",
              "    </tr>\n",
              "    <tr>\n",
              "      <th>4</th>\n",
              "      <td>AFG</td>\n",
              "      <td>Asia</td>\n",
              "      <td>Afghanistan</td>\n",
              "      <td>2020-01-04</td>\n",
              "      <td>0.0</td>\n",
              "      <td>0.0</td>\n",
              "      <td>0.0</td>\n",
              "      <td>0.0</td>\n",
              "      <td>0.0</td>\n",
              "      <td>0.0</td>\n",
              "      <td>0.0</td>\n",
              "      <td>0.0</td>\n",
              "      <td>NaN</td>\n",
              "      <td>NaN</td>\n",
              "      <td>NaN</td>\n",
              "      <td>NaN</td>\n",
              "      <td>NaN</td>\n",
              "      <td>NaN</td>\n",
              "      <td>NaN</td>\n",
              "      <td>0.0</td>\n",
              "      <td>38928341.0</td>\n",
              "      <td>54.422</td>\n",
              "      <td>18.6</td>\n",
              "      <td>2.581</td>\n",
              "      <td>1.337</td>\n",
              "      <td>1803.987</td>\n",
              "      <td>NaN</td>\n",
              "      <td>597.029</td>\n",
              "      <td>9.59</td>\n",
              "      <td>NaN</td>\n",
              "      <td>NaN</td>\n",
              "      <td>37.746</td>\n",
              "      <td>0.5</td>\n",
              "      <td>64.83</td>\n",
              "    </tr>\n",
              "  </tbody>\n",
              "</table>\n",
              "</div>"
            ],
            "text/plain": [
              "  iso_code continent  ... hospital_beds_per_thousand life_expectancy\n",
              "0      AFG      Asia  ...                        0.5           64.83\n",
              "1      AFG      Asia  ...                        0.5           64.83\n",
              "2      AFG      Asia  ...                        0.5           64.83\n",
              "3      AFG      Asia  ...                        0.5           64.83\n",
              "4      AFG      Asia  ...                        0.5           64.83\n",
              "\n",
              "[5 rows x 34 columns]"
            ]
          },
          "metadata": {
            "tags": []
          },
          "execution_count": 769
        }
      ]
    },
    {
      "cell_type": "code",
      "metadata": {
        "id": "aYBFYnKtiIkQ",
        "colab_type": "code",
        "colab": {
          "base_uri": "https://localhost:8080/",
          "height": 191
        },
        "outputId": "15e11f08-514f-43f1-f500-56bba91b80cb"
      },
      "source": [
        "# Trying to isolate location/country based on currency in question\n",
        "# We are looking at pound and sterling therefore need to isolate 'United Kingdom' & 'United States' in location column\n",
        "# Problem: Informaiton prints up until 'Trinidad and Tobago' for some reason – can print 'Togo'. Therefore cannot print United Kingdom or United States\n",
        "us_death_rates = covid_dataset.loc[covid_dataset.location=='United States', ['location', 'date', 'total_deaths', 'total_cases', 'cvd_death_rate']]\n",
        "us_death_rates.head()"
      ],
      "execution_count": 770,
      "outputs": [
        {
          "output_type": "execute_result",
          "data": {
            "text/html": [
              "<div>\n",
              "<style scoped>\n",
              "    .dataframe tbody tr th:only-of-type {\n",
              "        vertical-align: middle;\n",
              "    }\n",
              "\n",
              "    .dataframe tbody tr th {\n",
              "        vertical-align: top;\n",
              "    }\n",
              "\n",
              "    .dataframe thead th {\n",
              "        text-align: right;\n",
              "    }\n",
              "</style>\n",
              "<table border=\"1\" class=\"dataframe\">\n",
              "  <thead>\n",
              "    <tr style=\"text-align: right;\">\n",
              "      <th></th>\n",
              "      <th>location</th>\n",
              "      <th>date</th>\n",
              "      <th>total_deaths</th>\n",
              "      <th>total_cases</th>\n",
              "      <th>cvd_death_rate</th>\n",
              "    </tr>\n",
              "  </thead>\n",
              "  <tbody>\n",
              "    <tr>\n",
              "      <th>26490</th>\n",
              "      <td>United States</td>\n",
              "      <td>2019-12-31</td>\n",
              "      <td>0.0</td>\n",
              "      <td>0.0</td>\n",
              "      <td>151.089</td>\n",
              "    </tr>\n",
              "    <tr>\n",
              "      <th>26491</th>\n",
              "      <td>United States</td>\n",
              "      <td>2020-01-01</td>\n",
              "      <td>0.0</td>\n",
              "      <td>0.0</td>\n",
              "      <td>151.089</td>\n",
              "    </tr>\n",
              "    <tr>\n",
              "      <th>26492</th>\n",
              "      <td>United States</td>\n",
              "      <td>2020-01-02</td>\n",
              "      <td>0.0</td>\n",
              "      <td>0.0</td>\n",
              "      <td>151.089</td>\n",
              "    </tr>\n",
              "    <tr>\n",
              "      <th>26493</th>\n",
              "      <td>United States</td>\n",
              "      <td>2020-01-03</td>\n",
              "      <td>0.0</td>\n",
              "      <td>0.0</td>\n",
              "      <td>151.089</td>\n",
              "    </tr>\n",
              "    <tr>\n",
              "      <th>26494</th>\n",
              "      <td>United States</td>\n",
              "      <td>2020-01-04</td>\n",
              "      <td>0.0</td>\n",
              "      <td>0.0</td>\n",
              "      <td>151.089</td>\n",
              "    </tr>\n",
              "  </tbody>\n",
              "</table>\n",
              "</div>"
            ],
            "text/plain": [
              "            location        date  total_deaths  total_cases  cvd_death_rate\n",
              "26490  United States  2019-12-31           0.0          0.0         151.089\n",
              "26491  United States  2020-01-01           0.0          0.0         151.089\n",
              "26492  United States  2020-01-02           0.0          0.0         151.089\n",
              "26493  United States  2020-01-03           0.0          0.0         151.089\n",
              "26494  United States  2020-01-04           0.0          0.0         151.089"
            ]
          },
          "metadata": {
            "tags": []
          },
          "execution_count": 770
        }
      ]
    },
    {
      "cell_type": "code",
      "metadata": {
        "id": "285DiboRj7MW",
        "colab_type": "code",
        "colab": {}
      },
      "source": [
        "# us_death_rates = covid_dataset.loc[covid_dataset.location=='Zimbabwe', ['location', 'date', 'total_deaths','total_cases','cvd_death_rate']]\n",
        "# us_death_rates.head()"
      ],
      "execution_count": 771,
      "outputs": []
    },
    {
      "cell_type": "code",
      "metadata": {
        "id": "F3wvK4d2kvti",
        "colab_type": "code",
        "colab": {
          "base_uri": "https://localhost:8080/",
          "height": 33
        },
        "outputId": "4d06fca0-322c-44d7-c3e0-f879aae47724"
      },
      "source": [
        "us_death_rates.shape"
      ],
      "execution_count": 772,
      "outputs": [
        {
          "output_type": "execute_result",
          "data": {
            "text/plain": [
              "(187, 5)"
            ]
          },
          "metadata": {
            "tags": []
          },
          "execution_count": 772
        }
      ]
    },
    {
      "cell_type": "code",
      "metadata": {
        "id": "kIDXEXFDf4N5",
        "colab_type": "code",
        "colab": {}
      },
      "source": [
        "# Import forex\n",
        "forex_dataset_data= pd.read_csv('GBP_USD.csv', na_values = \"?\", comment='\\t', skipinitialspace=True)\n",
        "forex_dataset = forex_dataset_data.copy()\n",
        "# forex_dataset = forex_dataset_data.dropna()\n"
      ],
      "execution_count": 773,
      "outputs": []
    },
    {
      "cell_type": "markdown",
      "metadata": {
        "id": "C53hVpItH0az",
        "colab_type": "text"
      },
      "source": [
        "# Data Preprocessing / Data Cleaning & Collating"
      ]
    },
    {
      "cell_type": "code",
      "metadata": {
        "id": "jIpYbWz2HxyG",
        "colab_type": "code",
        "colab": {
          "base_uri": "https://localhost:8080/",
          "height": 212
        },
        "outputId": "5923a70c-b534-4bb4-abec-30abf1ce8c2c"
      },
      "source": [
        "# Filter dataset\n",
        "forex_dataset.pop('Open')\n",
        "forex_dataset.pop('High')\n",
        "forex_dataset.pop('Low')\n",
        "forex_dataset.pop('Change %')"
      ],
      "execution_count": 774,
      "outputs": [
        {
          "output_type": "execute_result",
          "data": {
            "text/plain": [
              "0       0.12%\n",
              "1      -0.05%\n",
              "2       0.59%\n",
              "3       0.83%\n",
              "4      -0.30%\n",
              "        ...  \n",
              "150    -0.15%\n",
              "151     0.40%\n",
              "152     0.85%\n",
              "153     0.44%\n",
              "154     0.02%\n",
              "Name: Change %, Length: 155, dtype: object"
            ]
          },
          "metadata": {
            "tags": []
          },
          "execution_count": 774
        }
      ]
    },
    {
      "cell_type": "code",
      "metadata": {
        "id": "oSzzjHJxi5D4",
        "colab_type": "code",
        "colab": {
          "base_uri": "https://localhost:8080/",
          "height": 191
        },
        "outputId": "ff4622b3-05f8-4c6f-a5ee-6e9f3d87883c"
      },
      "source": [
        "forex_dataset.tail()"
      ],
      "execution_count": 775,
      "outputs": [
        {
          "output_type": "execute_result",
          "data": {
            "text/html": [
              "<div>\n",
              "<style scoped>\n",
              "    .dataframe tbody tr th:only-of-type {\n",
              "        vertical-align: middle;\n",
              "    }\n",
              "\n",
              "    .dataframe tbody tr th {\n",
              "        vertical-align: top;\n",
              "    }\n",
              "\n",
              "    .dataframe thead th {\n",
              "        text-align: right;\n",
              "    }\n",
              "</style>\n",
              "<table border=\"1\" class=\"dataframe\">\n",
              "  <thead>\n",
              "    <tr style=\"text-align: right;\">\n",
              "      <th></th>\n",
              "      <th>Date</th>\n",
              "      <th>Price</th>\n",
              "    </tr>\n",
              "  </thead>\n",
              "  <tbody>\n",
              "    <tr>\n",
              "      <th>150</th>\n",
              "      <td>Dec 06, 2019</td>\n",
              "      <td>1.3137</td>\n",
              "    </tr>\n",
              "    <tr>\n",
              "      <th>151</th>\n",
              "      <td>Dec 05, 2019</td>\n",
              "      <td>1.3157</td>\n",
              "    </tr>\n",
              "    <tr>\n",
              "      <th>152</th>\n",
              "      <td>Dec 04, 2019</td>\n",
              "      <td>1.3104</td>\n",
              "    </tr>\n",
              "    <tr>\n",
              "      <th>153</th>\n",
              "      <td>Dec 03, 2019</td>\n",
              "      <td>1.2994</td>\n",
              "    </tr>\n",
              "    <tr>\n",
              "      <th>154</th>\n",
              "      <td>Dec 02, 2019</td>\n",
              "      <td>1.2937</td>\n",
              "    </tr>\n",
              "  </tbody>\n",
              "</table>\n",
              "</div>"
            ],
            "text/plain": [
              "             Date   Price\n",
              "150  Dec 06, 2019  1.3137\n",
              "151  Dec 05, 2019  1.3157\n",
              "152  Dec 04, 2019  1.3104\n",
              "153  Dec 03, 2019  1.2994\n",
              "154  Dec 02, 2019  1.2937"
            ]
          },
          "metadata": {
            "tags": []
          },
          "execution_count": 775
        }
      ]
    },
    {
      "cell_type": "code",
      "metadata": {
        "id": "vrVetfeGgSm7",
        "colab_type": "code",
        "colab": {
          "base_uri": "https://localhost:8080/",
          "height": 191
        },
        "outputId": "a8f28f10-0027-475c-dc71-62c1087af8e6"
      },
      "source": [
        "# Isolate covid_date\n",
        "import time \n",
        "us_date = us_death_rates['date']\n",
        "new_us_dates = [time.strptime(x.replace(\"-\",\" \"), '%Y %m %d')for x in us_date]\n",
        "us_death_rates['date'] = new_us_dates\n",
        "us_death_rates.head()\n"
      ],
      "execution_count": 776,
      "outputs": [
        {
          "output_type": "execute_result",
          "data": {
            "text/html": [
              "<div>\n",
              "<style scoped>\n",
              "    .dataframe tbody tr th:only-of-type {\n",
              "        vertical-align: middle;\n",
              "    }\n",
              "\n",
              "    .dataframe tbody tr th {\n",
              "        vertical-align: top;\n",
              "    }\n",
              "\n",
              "    .dataframe thead th {\n",
              "        text-align: right;\n",
              "    }\n",
              "</style>\n",
              "<table border=\"1\" class=\"dataframe\">\n",
              "  <thead>\n",
              "    <tr style=\"text-align: right;\">\n",
              "      <th></th>\n",
              "      <th>location</th>\n",
              "      <th>date</th>\n",
              "      <th>total_deaths</th>\n",
              "      <th>total_cases</th>\n",
              "      <th>cvd_death_rate</th>\n",
              "    </tr>\n",
              "  </thead>\n",
              "  <tbody>\n",
              "    <tr>\n",
              "      <th>26490</th>\n",
              "      <td>United States</td>\n",
              "      <td>(2019, 12, 31, 0, 0, 0, 1, 365, -1)</td>\n",
              "      <td>0.0</td>\n",
              "      <td>0.0</td>\n",
              "      <td>151.089</td>\n",
              "    </tr>\n",
              "    <tr>\n",
              "      <th>26491</th>\n",
              "      <td>United States</td>\n",
              "      <td>(2020, 1, 1, 0, 0, 0, 2, 1, -1)</td>\n",
              "      <td>0.0</td>\n",
              "      <td>0.0</td>\n",
              "      <td>151.089</td>\n",
              "    </tr>\n",
              "    <tr>\n",
              "      <th>26492</th>\n",
              "      <td>United States</td>\n",
              "      <td>(2020, 1, 2, 0, 0, 0, 3, 2, -1)</td>\n",
              "      <td>0.0</td>\n",
              "      <td>0.0</td>\n",
              "      <td>151.089</td>\n",
              "    </tr>\n",
              "    <tr>\n",
              "      <th>26493</th>\n",
              "      <td>United States</td>\n",
              "      <td>(2020, 1, 3, 0, 0, 0, 4, 3, -1)</td>\n",
              "      <td>0.0</td>\n",
              "      <td>0.0</td>\n",
              "      <td>151.089</td>\n",
              "    </tr>\n",
              "    <tr>\n",
              "      <th>26494</th>\n",
              "      <td>United States</td>\n",
              "      <td>(2020, 1, 4, 0, 0, 0, 5, 4, -1)</td>\n",
              "      <td>0.0</td>\n",
              "      <td>0.0</td>\n",
              "      <td>151.089</td>\n",
              "    </tr>\n",
              "  </tbody>\n",
              "</table>\n",
              "</div>"
            ],
            "text/plain": [
              "            location  ... cvd_death_rate\n",
              "26490  United States  ...        151.089\n",
              "26491  United States  ...        151.089\n",
              "26492  United States  ...        151.089\n",
              "26493  United States  ...        151.089\n",
              "26494  United States  ...        151.089\n",
              "\n",
              "[5 rows x 5 columns]"
            ]
          },
          "metadata": {
            "tags": []
          },
          "execution_count": 776
        }
      ]
    },
    {
      "cell_type": "code",
      "metadata": {
        "id": "IGR0p0YWh9jH",
        "colab_type": "code",
        "colab": {
          "base_uri": "https://localhost:8080/",
          "height": 191
        },
        "outputId": "aecf4a7e-22a4-4e4a-c63e-a1704c201a8e"
      },
      "source": [
        "# Isolate forex_date\n",
        "import time \n",
        "forex_date = forex_dataset['Date']\n",
        "new_forex_dates = [time.strptime(x.replace(',', \"\"), '%b %d %Y')for x in forex_date]\n",
        "forex_dataset['Date'] = new_forex_dates\n",
        "forex_dataset.tail()\n"
      ],
      "execution_count": 777,
      "outputs": [
        {
          "output_type": "execute_result",
          "data": {
            "text/html": [
              "<div>\n",
              "<style scoped>\n",
              "    .dataframe tbody tr th:only-of-type {\n",
              "        vertical-align: middle;\n",
              "    }\n",
              "\n",
              "    .dataframe tbody tr th {\n",
              "        vertical-align: top;\n",
              "    }\n",
              "\n",
              "    .dataframe thead th {\n",
              "        text-align: right;\n",
              "    }\n",
              "</style>\n",
              "<table border=\"1\" class=\"dataframe\">\n",
              "  <thead>\n",
              "    <tr style=\"text-align: right;\">\n",
              "      <th></th>\n",
              "      <th>Date</th>\n",
              "      <th>Price</th>\n",
              "    </tr>\n",
              "  </thead>\n",
              "  <tbody>\n",
              "    <tr>\n",
              "      <th>150</th>\n",
              "      <td>(2019, 12, 6, 0, 0, 0, 4, 340, -1)</td>\n",
              "      <td>1.3137</td>\n",
              "    </tr>\n",
              "    <tr>\n",
              "      <th>151</th>\n",
              "      <td>(2019, 12, 5, 0, 0, 0, 3, 339, -1)</td>\n",
              "      <td>1.3157</td>\n",
              "    </tr>\n",
              "    <tr>\n",
              "      <th>152</th>\n",
              "      <td>(2019, 12, 4, 0, 0, 0, 2, 338, -1)</td>\n",
              "      <td>1.3104</td>\n",
              "    </tr>\n",
              "    <tr>\n",
              "      <th>153</th>\n",
              "      <td>(2019, 12, 3, 0, 0, 0, 1, 337, -1)</td>\n",
              "      <td>1.2994</td>\n",
              "    </tr>\n",
              "    <tr>\n",
              "      <th>154</th>\n",
              "      <td>(2019, 12, 2, 0, 0, 0, 0, 336, -1)</td>\n",
              "      <td>1.2937</td>\n",
              "    </tr>\n",
              "  </tbody>\n",
              "</table>\n",
              "</div>"
            ],
            "text/plain": [
              "                                   Date   Price\n",
              "150  (2019, 12, 6, 0, 0, 0, 4, 340, -1)  1.3137\n",
              "151  (2019, 12, 5, 0, 0, 0, 3, 339, -1)  1.3157\n",
              "152  (2019, 12, 4, 0, 0, 0, 2, 338, -1)  1.3104\n",
              "153  (2019, 12, 3, 0, 0, 0, 1, 337, -1)  1.2994\n",
              "154  (2019, 12, 2, 0, 0, 0, 0, 336, -1)  1.2937"
            ]
          },
          "metadata": {
            "tags": []
          },
          "execution_count": 777
        }
      ]
    },
    {
      "cell_type": "code",
      "metadata": {
        "id": "7b16glGjiCLz",
        "colab_type": "code",
        "colab": {
          "base_uri": "https://localhost:8080/",
          "height": 33
        },
        "outputId": "7c283e60-e885-4370-f9a5-f9884db11fd6"
      },
      "source": [
        "print(len(forex_dataset))"
      ],
      "execution_count": 778,
      "outputs": [
        {
          "output_type": "stream",
          "text": [
            "155\n"
          ],
          "name": "stdout"
        }
      ]
    },
    {
      "cell_type": "code",
      "metadata": {
        "id": "OiFVDAF0ngrx",
        "colab_type": "code",
        "colab": {
          "base_uri": "https://localhost:8080/",
          "height": 33
        },
        "outputId": "e80d47f1-39bf-4d17-d32d-2d545acc5127"
      },
      "source": [
        "# Merging dates from two tables\n",
        "dataset = pd.merge(left=forex_dataset, left_on='Date',\n",
        "         right=us_death_rates, right_on='date')\n",
        "dataset.tail()\n",
        "len(dataset)\n"
      ],
      "execution_count": 779,
      "outputs": [
        {
          "output_type": "execute_result",
          "data": {
            "text/plain": [
              "134"
            ]
          },
          "metadata": {
            "tags": []
          },
          "execution_count": 779
        }
      ]
    },
    {
      "cell_type": "code",
      "metadata": {
        "id": "a9A_G1s9ETvi",
        "colab_type": "code",
        "colab": {
          "base_uri": "https://localhost:8080/",
          "height": 212
        },
        "outputId": "dd9e1a01-3c2b-45de-b1ef-5b952fe6aaee"
      },
      "source": [
        "# We pop the 'date' from the covid_dataset because this column starts later than the forex column\n",
        "# We want to see the forex price before covid happened\n",
        "dataset.pop('date')"
      ],
      "execution_count": 780,
      "outputs": [
        {
          "output_type": "execute_result",
          "data": {
            "text/plain": [
              "0        (2020, 7, 3, 0, 0, 0, 4, 185, -1)\n",
              "1        (2020, 7, 2, 0, 0, 0, 3, 184, -1)\n",
              "2        (2020, 7, 1, 0, 0, 0, 2, 183, -1)\n",
              "3       (2020, 6, 30, 0, 0, 0, 1, 182, -1)\n",
              "4       (2020, 6, 29, 0, 0, 0, 0, 181, -1)\n",
              "                      ...                 \n",
              "129        (2020, 1, 6, 0, 0, 0, 0, 6, -1)\n",
              "130        (2020, 1, 3, 0, 0, 0, 4, 3, -1)\n",
              "131        (2020, 1, 2, 0, 0, 0, 3, 2, -1)\n",
              "132        (2020, 1, 1, 0, 0, 0, 2, 1, -1)\n",
              "133    (2019, 12, 31, 0, 0, 0, 1, 365, -1)\n",
              "Name: date, Length: 134, dtype: object"
            ]
          },
          "metadata": {
            "tags": []
          },
          "execution_count": 780
        }
      ]
    },
    {
      "cell_type": "code",
      "metadata": {
        "id": "Rz0-4V24EY65",
        "colab_type": "code",
        "colab": {
          "base_uri": "https://localhost:8080/",
          "height": 191
        },
        "outputId": "356d3100-b613-49ac-f3c2-7219d435eb86"
      },
      "source": [
        "# Problem: This still starts at 2019,12,13 when we want 2019,12,02\n",
        "# However this does not affect our data graph for some reason - scroll down\n",
        "dataset.tail()"
      ],
      "execution_count": 781,
      "outputs": [
        {
          "output_type": "execute_result",
          "data": {
            "text/html": [
              "<div>\n",
              "<style scoped>\n",
              "    .dataframe tbody tr th:only-of-type {\n",
              "        vertical-align: middle;\n",
              "    }\n",
              "\n",
              "    .dataframe tbody tr th {\n",
              "        vertical-align: top;\n",
              "    }\n",
              "\n",
              "    .dataframe thead th {\n",
              "        text-align: right;\n",
              "    }\n",
              "</style>\n",
              "<table border=\"1\" class=\"dataframe\">\n",
              "  <thead>\n",
              "    <tr style=\"text-align: right;\">\n",
              "      <th></th>\n",
              "      <th>Date</th>\n",
              "      <th>Price</th>\n",
              "      <th>location</th>\n",
              "      <th>total_deaths</th>\n",
              "      <th>total_cases</th>\n",
              "      <th>cvd_death_rate</th>\n",
              "    </tr>\n",
              "  </thead>\n",
              "  <tbody>\n",
              "    <tr>\n",
              "      <th>129</th>\n",
              "      <td>(2020, 1, 6, 0, 0, 0, 0, 6, -1)</td>\n",
              "      <td>1.3169</td>\n",
              "      <td>United States</td>\n",
              "      <td>0.0</td>\n",
              "      <td>0.0</td>\n",
              "      <td>151.089</td>\n",
              "    </tr>\n",
              "    <tr>\n",
              "      <th>130</th>\n",
              "      <td>(2020, 1, 3, 0, 0, 0, 4, 3, -1)</td>\n",
              "      <td>1.3088</td>\n",
              "      <td>United States</td>\n",
              "      <td>0.0</td>\n",
              "      <td>0.0</td>\n",
              "      <td>151.089</td>\n",
              "    </tr>\n",
              "    <tr>\n",
              "      <th>131</th>\n",
              "      <td>(2020, 1, 2, 0, 0, 0, 3, 2, -1)</td>\n",
              "      <td>1.3146</td>\n",
              "      <td>United States</td>\n",
              "      <td>0.0</td>\n",
              "      <td>0.0</td>\n",
              "      <td>151.089</td>\n",
              "    </tr>\n",
              "    <tr>\n",
              "      <th>132</th>\n",
              "      <td>(2020, 1, 1, 0, 0, 0, 2, 1, -1)</td>\n",
              "      <td>1.3255</td>\n",
              "      <td>United States</td>\n",
              "      <td>0.0</td>\n",
              "      <td>0.0</td>\n",
              "      <td>151.089</td>\n",
              "    </tr>\n",
              "    <tr>\n",
              "      <th>133</th>\n",
              "      <td>(2019, 12, 31, 0, 0, 0, 1, 365, -1)</td>\n",
              "      <td>1.3261</td>\n",
              "      <td>United States</td>\n",
              "      <td>0.0</td>\n",
              "      <td>0.0</td>\n",
              "      <td>151.089</td>\n",
              "    </tr>\n",
              "  </tbody>\n",
              "</table>\n",
              "</div>"
            ],
            "text/plain": [
              "                                    Date   Price  ... total_cases  cvd_death_rate\n",
              "129      (2020, 1, 6, 0, 0, 0, 0, 6, -1)  1.3169  ...         0.0         151.089\n",
              "130      (2020, 1, 3, 0, 0, 0, 4, 3, -1)  1.3088  ...         0.0         151.089\n",
              "131      (2020, 1, 2, 0, 0, 0, 3, 2, -1)  1.3146  ...         0.0         151.089\n",
              "132      (2020, 1, 1, 0, 0, 0, 2, 1, -1)  1.3255  ...         0.0         151.089\n",
              "133  (2019, 12, 31, 0, 0, 0, 1, 365, -1)  1.3261  ...         0.0         151.089\n",
              "\n",
              "[5 rows x 6 columns]"
            ]
          },
          "metadata": {
            "tags": []
          },
          "execution_count": 781
        }
      ]
    },
    {
      "cell_type": "code",
      "metadata": {
        "id": "AKPMw6jUypAN",
        "colab_type": "code",
        "colab": {
          "base_uri": "https://localhost:8080/",
          "height": 212
        },
        "outputId": "9bd7d2a6-0039-4481-ed7f-c6e54c8cf2fc"
      },
      "source": [
        "# Object means string\n",
        "dataset['total_deaths']"
      ],
      "execution_count": 782,
      "outputs": [
        {
          "output_type": "execute_result",
          "data": {
            "text/plain": [
              "0      128740.0\n",
              "1      128062.0\n",
              "2      127410.0\n",
              "3      126140.0\n",
              "4      125804.0\n",
              "         ...   \n",
              "129         0.0\n",
              "130         0.0\n",
              "131         0.0\n",
              "132         0.0\n",
              "133         0.0\n",
              "Name: total_deaths, Length: 134, dtype: float64"
            ]
          },
          "metadata": {
            "tags": []
          },
          "execution_count": 782
        }
      ]
    },
    {
      "cell_type": "code",
      "metadata": {
        "id": "I9kHcA_4tAqL",
        "colab_type": "code",
        "colab": {
          "base_uri": "https://localhost:8080/",
          "height": 33
        },
        "outputId": "efe1ac2d-7dfb-4fc3-d3b2-a898082493e7"
      },
      "source": [
        "# View what date looks like\n",
        "date = dataset['Date']\n",
        "date.head()\n",
        "len(date)"
      ],
      "execution_count": 783,
      "outputs": [
        {
          "output_type": "execute_result",
          "data": {
            "text/plain": [
              "134"
            ]
          },
          "metadata": {
            "tags": []
          },
          "execution_count": 783
        }
      ]
    },
    {
      "cell_type": "code",
      "metadata": {
        "id": "0Nxcgc_K3ZDm",
        "colab_type": "code",
        "colab": {
          "base_uri": "https://localhost:8080/",
          "height": 245
        },
        "outputId": "834fdd52-e8d6-4f1c-9e92-4ce1b1594597"
      },
      "source": [
        "# Splitting timestamp and isolating the date\n",
        "dateFormatting = pd.DataFrame({'new_date': pd.date_range('2019-12-31', periods=len(date))})\n",
        "# dateFormatting['new_date'] = [d.date() for d in dateFormatting['my_timestamp']]\n",
        "# dateFormatting['new_time'] = [d.time() for d in dateFormatting['my_timestamp']]\n",
        "print(dateFormatting)\n"
      ],
      "execution_count": 784,
      "outputs": [
        {
          "output_type": "stream",
          "text": [
            "      new_date\n",
            "0   2019-12-31\n",
            "1   2020-01-01\n",
            "2   2020-01-02\n",
            "3   2020-01-03\n",
            "4   2020-01-04\n",
            "..         ...\n",
            "129 2020-05-08\n",
            "130 2020-05-09\n",
            "131 2020-05-10\n",
            "132 2020-05-11\n",
            "133 2020-05-12\n",
            "\n",
            "[134 rows x 1 columns]\n"
          ],
          "name": "stdout"
        }
      ]
    },
    {
      "cell_type": "code",
      "metadata": {
        "id": "Tav3LALn4KN2",
        "colab_type": "code",
        "colab": {
          "base_uri": "https://localhost:8080/",
          "height": 53
        },
        "outputId": "56f84b8d-228f-4ebc-9afe-97ee80cfb461"
      },
      "source": [
        "# Convert date to list so that we can use the dates to plot on graph\n",
        "my_xticks = dateFormatting['new_date'].tolist()\n",
        "print(my_xticks)"
      ],
      "execution_count": 785,
      "outputs": [
        {
          "output_type": "stream",
          "text": [
            "[Timestamp('2019-12-31 00:00:00'), Timestamp('2020-01-01 00:00:00'), Timestamp('2020-01-02 00:00:00'), Timestamp('2020-01-03 00:00:00'), Timestamp('2020-01-04 00:00:00'), Timestamp('2020-01-05 00:00:00'), Timestamp('2020-01-06 00:00:00'), Timestamp('2020-01-07 00:00:00'), Timestamp('2020-01-08 00:00:00'), Timestamp('2020-01-09 00:00:00'), Timestamp('2020-01-10 00:00:00'), Timestamp('2020-01-11 00:00:00'), Timestamp('2020-01-12 00:00:00'), Timestamp('2020-01-13 00:00:00'), Timestamp('2020-01-14 00:00:00'), Timestamp('2020-01-15 00:00:00'), Timestamp('2020-01-16 00:00:00'), Timestamp('2020-01-17 00:00:00'), Timestamp('2020-01-18 00:00:00'), Timestamp('2020-01-19 00:00:00'), Timestamp('2020-01-20 00:00:00'), Timestamp('2020-01-21 00:00:00'), Timestamp('2020-01-22 00:00:00'), Timestamp('2020-01-23 00:00:00'), Timestamp('2020-01-24 00:00:00'), Timestamp('2020-01-25 00:00:00'), Timestamp('2020-01-26 00:00:00'), Timestamp('2020-01-27 00:00:00'), Timestamp('2020-01-28 00:00:00'), Timestamp('2020-01-29 00:00:00'), Timestamp('2020-01-30 00:00:00'), Timestamp('2020-01-31 00:00:00'), Timestamp('2020-02-01 00:00:00'), Timestamp('2020-02-02 00:00:00'), Timestamp('2020-02-03 00:00:00'), Timestamp('2020-02-04 00:00:00'), Timestamp('2020-02-05 00:00:00'), Timestamp('2020-02-06 00:00:00'), Timestamp('2020-02-07 00:00:00'), Timestamp('2020-02-08 00:00:00'), Timestamp('2020-02-09 00:00:00'), Timestamp('2020-02-10 00:00:00'), Timestamp('2020-02-11 00:00:00'), Timestamp('2020-02-12 00:00:00'), Timestamp('2020-02-13 00:00:00'), Timestamp('2020-02-14 00:00:00'), Timestamp('2020-02-15 00:00:00'), Timestamp('2020-02-16 00:00:00'), Timestamp('2020-02-17 00:00:00'), Timestamp('2020-02-18 00:00:00'), Timestamp('2020-02-19 00:00:00'), Timestamp('2020-02-20 00:00:00'), Timestamp('2020-02-21 00:00:00'), Timestamp('2020-02-22 00:00:00'), Timestamp('2020-02-23 00:00:00'), Timestamp('2020-02-24 00:00:00'), Timestamp('2020-02-25 00:00:00'), Timestamp('2020-02-26 00:00:00'), Timestamp('2020-02-27 00:00:00'), Timestamp('2020-02-28 00:00:00'), Timestamp('2020-02-29 00:00:00'), Timestamp('2020-03-01 00:00:00'), Timestamp('2020-03-02 00:00:00'), Timestamp('2020-03-03 00:00:00'), Timestamp('2020-03-04 00:00:00'), Timestamp('2020-03-05 00:00:00'), Timestamp('2020-03-06 00:00:00'), Timestamp('2020-03-07 00:00:00'), Timestamp('2020-03-08 00:00:00'), Timestamp('2020-03-09 00:00:00'), Timestamp('2020-03-10 00:00:00'), Timestamp('2020-03-11 00:00:00'), Timestamp('2020-03-12 00:00:00'), Timestamp('2020-03-13 00:00:00'), Timestamp('2020-03-14 00:00:00'), Timestamp('2020-03-15 00:00:00'), Timestamp('2020-03-16 00:00:00'), Timestamp('2020-03-17 00:00:00'), Timestamp('2020-03-18 00:00:00'), Timestamp('2020-03-19 00:00:00'), Timestamp('2020-03-20 00:00:00'), Timestamp('2020-03-21 00:00:00'), Timestamp('2020-03-22 00:00:00'), Timestamp('2020-03-23 00:00:00'), Timestamp('2020-03-24 00:00:00'), Timestamp('2020-03-25 00:00:00'), Timestamp('2020-03-26 00:00:00'), Timestamp('2020-03-27 00:00:00'), Timestamp('2020-03-28 00:00:00'), Timestamp('2020-03-29 00:00:00'), Timestamp('2020-03-30 00:00:00'), Timestamp('2020-03-31 00:00:00'), Timestamp('2020-04-01 00:00:00'), Timestamp('2020-04-02 00:00:00'), Timestamp('2020-04-03 00:00:00'), Timestamp('2020-04-04 00:00:00'), Timestamp('2020-04-05 00:00:00'), Timestamp('2020-04-06 00:00:00'), Timestamp('2020-04-07 00:00:00'), Timestamp('2020-04-08 00:00:00'), Timestamp('2020-04-09 00:00:00'), Timestamp('2020-04-10 00:00:00'), Timestamp('2020-04-11 00:00:00'), Timestamp('2020-04-12 00:00:00'), Timestamp('2020-04-13 00:00:00'), Timestamp('2020-04-14 00:00:00'), Timestamp('2020-04-15 00:00:00'), Timestamp('2020-04-16 00:00:00'), Timestamp('2020-04-17 00:00:00'), Timestamp('2020-04-18 00:00:00'), Timestamp('2020-04-19 00:00:00'), Timestamp('2020-04-20 00:00:00'), Timestamp('2020-04-21 00:00:00'), Timestamp('2020-04-22 00:00:00'), Timestamp('2020-04-23 00:00:00'), Timestamp('2020-04-24 00:00:00'), Timestamp('2020-04-25 00:00:00'), Timestamp('2020-04-26 00:00:00'), Timestamp('2020-04-27 00:00:00'), Timestamp('2020-04-28 00:00:00'), Timestamp('2020-04-29 00:00:00'), Timestamp('2020-04-30 00:00:00'), Timestamp('2020-05-01 00:00:00'), Timestamp('2020-05-02 00:00:00'), Timestamp('2020-05-03 00:00:00'), Timestamp('2020-05-04 00:00:00'), Timestamp('2020-05-05 00:00:00'), Timestamp('2020-05-06 00:00:00'), Timestamp('2020-05-07 00:00:00'), Timestamp('2020-05-08 00:00:00'), Timestamp('2020-05-09 00:00:00'), Timestamp('2020-05-10 00:00:00'), Timestamp('2020-05-11 00:00:00'), Timestamp('2020-05-12 00:00:00')]\n"
          ],
          "name": "stdout"
        }
      ]
    },
    {
      "cell_type": "code",
      "metadata": {
        "id": "DeyD3C8dm1DM",
        "colab_type": "code",
        "colab": {
          "base_uri": "https://localhost:8080/",
          "height": 212
        },
        "outputId": "10dcc12b-df37-4d9b-da74-90ea83a1af7d"
      },
      "source": [
        "dataset['Date']"
      ],
      "execution_count": 786,
      "outputs": [
        {
          "output_type": "execute_result",
          "data": {
            "text/plain": [
              "0        (2020, 7, 3, 0, 0, 0, 4, 185, -1)\n",
              "1        (2020, 7, 2, 0, 0, 0, 3, 184, -1)\n",
              "2        (2020, 7, 1, 0, 0, 0, 2, 183, -1)\n",
              "3       (2020, 6, 30, 0, 0, 0, 1, 182, -1)\n",
              "4       (2020, 6, 29, 0, 0, 0, 0, 181, -1)\n",
              "                      ...                 \n",
              "129        (2020, 1, 6, 0, 0, 0, 0, 6, -1)\n",
              "130        (2020, 1, 3, 0, 0, 0, 4, 3, -1)\n",
              "131        (2020, 1, 2, 0, 0, 0, 3, 2, -1)\n",
              "132        (2020, 1, 1, 0, 0, 0, 2, 1, -1)\n",
              "133    (2019, 12, 31, 0, 0, 0, 1, 365, -1)\n",
              "Name: Date, Length: 134, dtype: object"
            ]
          },
          "metadata": {
            "tags": []
          },
          "execution_count": 786
        }
      ]
    },
    {
      "cell_type": "markdown",
      "metadata": {
        "id": "wvb8c8CBIOqM",
        "colab_type": "text"
      },
      "source": [
        "# Plotting Features before Normalisation"
      ]
    },
    {
      "cell_type": "code",
      "metadata": {
        "id": "eDGMN3GG6wOL",
        "colab_type": "code",
        "colab": {
          "base_uri": "https://localhost:8080/",
          "height": 397
        },
        "outputId": "878a6432-592b-4b3b-e5db-09b0baeade9d"
      },
      "source": [
        "# Plotted prices and dates\n",
        "# Notice how the dates start and end\n",
        "\n",
        "from datetime import datetime, timedelta\n",
        "from matplotlib import pyplot as plt\n",
        "from matplotlib import dates as mpl_dates\n",
        "plt.style.use('seaborn')\n",
        "from matplotlib import rcParams\n",
        "rcParams['figure.figsize'] = 15,6\n",
        "\n",
        "dates = np.array(dateFormatting['new_date'])\n",
        "price = np.array(dataset['Price'])\n",
        "plt.plot_date(dates,price, linestyle ='solid')\n",
        "plt.gcf().autofmt_xdate()\n",
        "date_format = mpl_dates.DateFormatter('%b,%d,%Y')\n",
        "plt.title('Time Series Price of USD compare to GBP')\n",
        "plt.xlabel('Date')\n",
        "plt.ylabel('Price')\n",
        "plt.gca().xaxis.set_major_formatter(date_format)"
      ],
      "execution_count": 787,
      "outputs": [
        {
          "output_type": "display_data",
          "data": {
            "image/png": "[encoded data removed]",
            "text/plain": [
              "<Figure size 1080x432 with 1 Axes>"
            ]
          },
          "metadata": {
            "tags": []
          }
        }
      ]
    },
    {
      "cell_type": "code",
      "metadata": {
        "id": "Dqj88upVOPC9",
        "colab_type": "code",
        "colab": {
          "base_uri": "https://localhost:8080/",
          "height": 33
        },
        "outputId": "782639b6-77fb-48a9-8e0d-dd2c452de95c"
      },
      "source": [
        "# print(price)\n",
        "test = np.array(dataset['total_deaths'])\n",
        "# print(test)\n",
        "price.shape\n",
        "# test.shape\n",
        "test = np.array(dataset['total_deaths'])\n",
        "list_arr = np.array(test)\n",
        "reversed_arr = list_arr[::-1]\n",
        "reversed_arr.shape\n",
        "price.shape"
      ],
      "execution_count": 788,
      "outputs": [
        {
          "output_type": "execute_result",
          "data": {
            "text/plain": [
              "(134,)"
            ]
          },
          "metadata": {
            "tags": []
          },
          "execution_count": 788
        }
      ]
    },
    {
      "cell_type": "code",
      "metadata": {
        "id": "T30FJ5ONMRsa",
        "colab_type": "code",
        "colab": {}
      },
      "source": [
        "# Adds the accumulative deaths every day of a country\n",
        "# Problem – This needs to be sorted from the end since the way out data is set up - can this be made more efficient?\n",
        "total_us_deaths = dataset['total_deaths']\n",
        "list_arr = np.array(total_us_deaths)\n",
        "reversed_arr = list_arr[::-1]\n",
        "newDay = 0\n",
        "day = []\n",
        "for currentday in reversed_arr:\n",
        "   newDay = currentday + newDay\n",
        "   day.append(newDay)\n"
      ],
      "execution_count": 789,
      "outputs": []
    },
    {
      "cell_type": "code",
      "metadata": {
        "id": "oivvoebSMpRV",
        "colab_type": "code",
        "colab": {
          "base_uri": "https://localhost:8080/",
          "height": 411
        },
        "outputId": "615e4e4e-1017-45b1-940b-e058f7a26205"
      },
      "source": [
        "# Plots the accumulative daily death rates of a country\n",
        "dates = np.array(dateFormatting['new_date'])\n",
        "us_deaths = np.array(day)\n",
        "plt.plot_date(dates,us_deaths, linestyle ='solid')\n",
        "plt.gcf().autofmt_xdate()\n",
        "date_format = mpl_dates.DateFormatter('%b,%d,%Y')\n",
        "plt.title('Time Series of Total Deaths of US')\n",
        "plt.xlabel('Date')\n",
        "plt.ylabel('Total Deaths')\n"
      ],
      "execution_count": 790,
      "outputs": [
        {
          "output_type": "execute_result",
          "data": {
            "text/plain": [
              "Text(0, 0.5, 'Total Deaths')"
            ]
          },
          "metadata": {
            "tags": []
          },
          "execution_count": 790
        },
        {
          "output_type": "display_data",
          "data": {
            "image/png": "[encoded data removed]",
            "text/plain": [
              "<Figure size 1080x432 with 1 Axes>"
            ]
          },
          "metadata": {
            "tags": []
          }
        }
      ]
    },
    {
      "cell_type": "code",
      "metadata": {
        "id": "1dCKLM-XSXt_",
        "colab_type": "code",
        "colab": {
          "base_uri": "https://localhost:8080/",
          "height": 33
        },
        "outputId": "e78ec66a-d01c-4c1f-f2fe-84c2ed68bce8"
      },
      "source": [
        "test.shape"
      ],
      "execution_count": 791,
      "outputs": [
        {
          "output_type": "execute_result",
          "data": {
            "text/plain": [
              "(134,)"
            ]
          },
          "metadata": {
            "tags": []
          },
          "execution_count": 791
        }
      ]
    },
    {
      "cell_type": "code",
      "metadata": {
        "id": "aLvrpnjESZmR",
        "colab_type": "code",
        "colab": {
          "base_uri": "https://localhost:8080/",
          "height": 33
        },
        "outputId": "440d0ca8-6b6d-4b4c-910a-11e33a507d4b"
      },
      "source": [
        "price.shape"
      ],
      "execution_count": 792,
      "outputs": [
        {
          "output_type": "execute_result",
          "data": {
            "text/plain": [
              "(134,)"
            ]
          },
          "metadata": {
            "tags": []
          },
          "execution_count": 792
        }
      ]
    },
    {
      "cell_type": "markdown",
      "metadata": {
        "id": "SWTJypnsv5R3",
        "colab_type": "text"
      },
      "source": [
        ""
      ]
    },
    {
      "cell_type": "code",
      "metadata": {
        "id": "v6NykB3TSJxe",
        "colab_type": "code",
        "colab": {
          "base_uri": "https://localhost:8080/",
          "height": 391
        },
        "outputId": "9a5addcc-7de9-4640-dcc1-ca5a721d6116"
      },
      "source": [
        "price_frame = pd.DataFrame(np.concatenate([price]), columns= [\"Price\"])\n",
        "death_frame = pd.DataFrame(np.concatenate([day]), columns= [\"Total_Deaths_US\"])\n",
        "price_frame.append(death_frame)"
      ],
      "execution_count": 793,
      "outputs": [
        {
          "output_type": "execute_result",
          "data": {
            "text/html": [
              "<div>\n",
              "<style scoped>\n",
              "    .dataframe tbody tr th:only-of-type {\n",
              "        vertical-align: middle;\n",
              "    }\n",
              "\n",
              "    .dataframe tbody tr th {\n",
              "        vertical-align: top;\n",
              "    }\n",
              "\n",
              "    .dataframe thead th {\n",
              "        text-align: right;\n",
              "    }\n",
              "</style>\n",
              "<table border=\"1\" class=\"dataframe\">\n",
              "  <thead>\n",
              "    <tr style=\"text-align: right;\">\n",
              "      <th></th>\n",
              "      <th>Price</th>\n",
              "      <th>Total_Deaths_US</th>\n",
              "    </tr>\n",
              "  </thead>\n",
              "  <tbody>\n",
              "    <tr>\n",
              "      <th>0</th>\n",
              "      <td>1.2482</td>\n",
              "      <td>NaN</td>\n",
              "    </tr>\n",
              "    <tr>\n",
              "      <th>1</th>\n",
              "      <td>1.2467</td>\n",
              "      <td>NaN</td>\n",
              "    </tr>\n",
              "    <tr>\n",
              "      <th>2</th>\n",
              "      <td>1.2474</td>\n",
              "      <td>NaN</td>\n",
              "    </tr>\n",
              "    <tr>\n",
              "      <th>3</th>\n",
              "      <td>1.2401</td>\n",
              "      <td>NaN</td>\n",
              "    </tr>\n",
              "    <tr>\n",
              "      <th>4</th>\n",
              "      <td>1.2299</td>\n",
              "      <td>NaN</td>\n",
              "    </tr>\n",
              "    <tr>\n",
              "      <th>...</th>\n",
              "      <td>...</td>\n",
              "      <td>...</td>\n",
              "    </tr>\n",
              "    <tr>\n",
              "      <th>129</th>\n",
              "      <td>NaN</td>\n",
              "      <td>4881974.0</td>\n",
              "    </tr>\n",
              "    <tr>\n",
              "      <th>130</th>\n",
              "      <td>NaN</td>\n",
              "      <td>5008114.0</td>\n",
              "    </tr>\n",
              "    <tr>\n",
              "      <th>131</th>\n",
              "      <td>NaN</td>\n",
              "      <td>5135524.0</td>\n",
              "    </tr>\n",
              "    <tr>\n",
              "      <th>132</th>\n",
              "      <td>NaN</td>\n",
              "      <td>5263586.0</td>\n",
              "    </tr>\n",
              "    <tr>\n",
              "      <th>133</th>\n",
              "      <td>NaN</td>\n",
              "      <td>5392326.0</td>\n",
              "    </tr>\n",
              "  </tbody>\n",
              "</table>\n",
              "<p>268 rows × 2 columns</p>\n",
              "</div>"
            ],
            "text/plain": [
              "      Price  Total_Deaths_US\n",
              "0    1.2482              NaN\n",
              "1    1.2467              NaN\n",
              "2    1.2474              NaN\n",
              "3    1.2401              NaN\n",
              "4    1.2299              NaN\n",
              "..      ...              ...\n",
              "129     NaN        4881974.0\n",
              "130     NaN        5008114.0\n",
              "131     NaN        5135524.0\n",
              "132     NaN        5263586.0\n",
              "133     NaN        5392326.0\n",
              "\n",
              "[268 rows x 2 columns]"
            ]
          },
          "metadata": {
            "tags": []
          },
          "execution_count": 793
        }
      ]
    },
    {
      "cell_type": "markdown",
      "metadata": {
        "id": "kkWFQ8HeIerS",
        "colab_type": "text"
      },
      "source": [
        "# Normalisation of Features"
      ]
    },
    {
      "cell_type": "code",
      "metadata": {
        "id": "GUr5EmIHITzq",
        "colab_type": "code",
        "colab": {}
      },
      "source": [
        "# Working Normalised method!!\n",
        "from sklearn.preprocessing import MinMaxScaler\n",
        "scaler = MinMaxScaler(feature_range=(0,1))\n",
        "# they are so small that is why\n",
        "normalisation_us_deaths = scaler.fit_transform(death_frame).reshape(-1,1)\n",
        "# loosing precision by converting to decimal but makes more readable\n",
        "# but when plotting it use normalisation_us_deaths\n",
        "normalisation_price = scaler.fit_transform(price_frame).reshape(-1,1)\n",
        "# 8 decimal: readable formate\n",
        "# val = [print(\"{:.8f}\".format(float(x)))for x in normalisation_us_deaths]\n",
        "# print(normalisation_price)\n",
        "# print(val)\n",
        "# print(normalisation_price)"
      ],
      "execution_count": 794,
      "outputs": []
    },
    {
      "cell_type": "code",
      "metadata": {
        "id": "jG6Frxvpw_YL",
        "colab_type": "code",
        "colab": {
          "base_uri": "https://localhost:8080/",
          "height": 402
        },
        "outputId": "faed1f83-6755-4e75-9886-7791b47dc358"
      },
      "source": [
        "# Inspect the data\n",
        "# Look at join distributions of afew pairs of collumns from the training set\n",
        "# Need to revise what this graph does\n",
        "import matplotlib.pyplot as plt\n",
        "plt.title('Time Series of Total Deaths of US & USD/GBP')\n",
        "plt.plot(normalisation_us_deaths,label=\"us_covid_death_rates\")\n",
        "plt.plot(normalisation_price, label=\"USD/GBP price\")\n",
        "plt.ylabel('Normalisation between 0 and 1')\n",
        "plt.xlabel('Date')\n",
        "plt.legend() \n",
        "plt.show()"
      ],
      "execution_count": 795,
      "outputs": [
        {
          "output_type": "display_data",
          "data": {
            "image/png": "[encoded data removed]",
            "text/plain": [
              "<Figure size 1080x432 with 1 Axes>"
            ]
          },
          "metadata": {
            "tags": []
          }
        }
      ]
    },
    {
      "cell_type": "markdown",
      "metadata": {
        "id": "FrNnj6gGIkmf",
        "colab_type": "text"
      },
      "source": [
        "# Preprocessing the Data - Train, Validation & Test\n"
      ]
    },
    {
      "cell_type": "code",
      "metadata": {
        "id": "yJTAF3KWyKwR",
        "colab_type": "code",
        "colab": {
          "base_uri": "https://localhost:8080/",
          "height": 1000
        },
        "outputId": "cf104173-a792-438f-975c-178387661b0d"
      },
      "source": [
        "new_dataset = np.hstack((normalisation_us_deaths,normalisation_price))\n",
        "new_dataset"
      ],
      "execution_count": 796,
      "outputs": [
        {
          "output_type": "execute_result",
          "data": {
            "text/plain": [
              "array([[0.00000000e+00, 5.60879369e-01],\n",
              "       [0.00000000e+00, 5.52423901e-01],\n",
              "       [0.00000000e+00, 5.56369786e-01],\n",
              "       [0.00000000e+00, 5.15219842e-01],\n",
              "       [0.00000000e+00, 4.57722661e-01],\n",
              "       [0.00000000e+00, 4.78015784e-01],\n",
              "       [0.00000000e+00, 5.24802706e-01],\n",
              "       [0.00000000e+00, 5.25930101e-01],\n",
              "       [0.00000000e+00, 5.82299887e-01],\n",
              "       [0.00000000e+00, 5.50169109e-01],\n",
              "       [0.00000000e+00, 4.90980834e-01],\n",
              "       [0.00000000e+00, 5.29312289e-01],\n",
              "       [0.00000000e+00, 6.03156708e-01],\n",
              "       [0.00000000e+00, 6.14430665e-01],\n",
              "       [0.00000000e+00, 6.29650507e-01],\n",
              "       [0.00000000e+00, 5.94701240e-01],\n",
              "       [0.00000000e+00, 6.28523112e-01],\n",
              "       [0.00000000e+00, 7.10259301e-01],\n",
              "       [0.00000000e+00, 7.01240135e-01],\n",
              "       [0.00000000e+00, 6.96730552e-01],\n",
              "       [0.00000000e+00, 6.64036077e-01],\n",
              "       [0.00000000e+00, 6.24577227e-01],\n",
              "       [0.00000000e+00, 6.12739572e-01],\n",
              "       [0.00000000e+00, 5.99210823e-01],\n",
              "       [0.00000000e+00, 5.67643743e-01],\n",
              "       [0.00000000e+00, 4.84216460e-01],\n",
              "       [0.00000000e+00, 4.69560316e-01],\n",
              "       [0.00000000e+00, 4.31228861e-01],\n",
              "       [0.00000000e+00, 4.76888388e-01],\n",
              "       [0.00000000e+00, 3.96279594e-01],\n",
              "       [0.00000000e+00, 3.82750846e-01],\n",
              "       [0.00000000e+00, 4.15445321e-01],\n",
              "       [0.00000000e+00, 4.25028185e-01],\n",
              "       [0.00000000e+00, 4.31792559e-01],\n",
              "       [0.00000000e+00, 3.97970688e-01],\n",
              "       [0.00000000e+00, 3.48928974e-01],\n",
              "       [0.00000000e+00, 4.17700113e-01],\n",
              "       [0.00000000e+00, 4.18827508e-01],\n",
              "       [0.00000000e+00, 4.36302142e-01],\n",
              "       [0.00000000e+00, 4.78579481e-01],\n",
              "       [0.00000000e+00, 5.19729425e-01],\n",
              "       [0.00000000e+00, 4.93799324e-01],\n",
              "       [0.00000000e+00, 4.82525366e-01],\n",
              "       [0.00000000e+00, 5.34949267e-01],\n",
              "       [3.70897457e-07, 5.39458850e-01],\n",
              "       [1.48358983e-06, 5.73280722e-01],\n",
              "       [3.15262838e-06, 6.24013529e-01],\n",
              "       [5.19256440e-06, 5.52987599e-01],\n",
              "       [7.41794914e-06, 5.28748591e-01],\n",
              "       [1.13123724e-05, 5.31003382e-01],\n",
              "       [1.61340394e-05, 4.97181511e-01],\n",
              "       [2.13266038e-05, 4.83089064e-01],\n",
              "       [2.68900656e-05, 4.77452086e-01],\n",
              "       [3.43080148e-05, 4.54904171e-01],\n",
              "       [4.71039770e-05, 5.35512965e-01],\n",
              "       [6.28671189e-05, 5.71589628e-01],\n",
              "       [8.28955816e-05, 5.46786922e-01],\n",
              "       [1.10712891e-04, 5.80045096e-01],\n",
              "       [1.38530200e-04, 6.40924464e-01],\n",
              "       [2.25876551e-04, 5.77790304e-01],\n",
              "       [3.35291301e-04, 5.45659526e-01],\n",
              "       [4.83835732e-04, 5.46786922e-01],\n",
              "       [6.78556897e-04, 5.07328072e-01],\n",
              "       [9.18898449e-04, 4.80270575e-01],\n",
              "       [1.38418931e-03, 4.18827508e-01],\n",
              "       [1.97206178e-03, 4.36865840e-01],\n",
              "       [2.72850714e-03, 5.11273957e-01],\n",
              "       [3.68134271e-03, 5.02254791e-01],\n",
              "       [4.80386386e-03, 5.25930101e-01],\n",
              "       [6.59288774e-03, 5.24802706e-01],\n",
              "       [8.63078382e-03, 5.46786922e-01],\n",
              "       [1.10221452e-02, 4.03607666e-01],\n",
              "       [1.37699390e-02, 2.25479143e-01],\n",
              "       [1.68650783e-02, 1.53325817e-01],\n",
              "       [2.09649787e-02, 3.55129651e-02],\n",
              "       [2.53506557e-02, 8.79368658e-02],\n",
              "       [3.01828932e-02, 0.00000000e+00],\n",
              "       [3.59290221e-02, 6.82074408e-02],\n",
              "       [4.21014976e-02, 3.18489290e-01],\n",
              "       [4.96459227e-02, 4.40248027e-01],\n",
              "       [5.75347262e-02, 4.45321308e-01],\n",
              "       [6.58916023e-02, 6.12175874e-01],\n",
              "       [7.45676356e-02, 7.52536640e-01],\n",
              "       [8.38332104e-02, 8.01014656e-01],\n",
              "       [9.40098948e-02, 9.27846674e-01],\n",
              "       [1.04440459e-01, 8.81059752e-01],\n",
              "       [1.15262319e-01, 8.27508455e-01],\n",
              "       [1.26568386e-01, 7.80721533e-01],\n",
              "       [1.38252769e-01, 7.46899662e-01],\n",
              "       [1.50804310e-01, 7.13077790e-01],\n",
              "       [1.63588032e-01, 7.51972943e-01],\n",
              "       [1.76769357e-01, 7.88613303e-01],\n",
              "       [1.90387043e-01, 7.99323563e-01],\n",
              "       [2.04419948e-01, 8.56257046e-01],\n",
              "       [2.19168314e-01, 8.12852311e-01],\n",
              "       [2.34131060e-01, 8.36527621e-01],\n",
              "       [2.49409624e-01, 7.85794814e-01],\n",
              "       [2.65011982e-01, 8.08342728e-01],\n",
              "       [2.80943140e-01, 8.52311161e-01],\n",
              "       [2.97552299e-01, 8.57948140e-01],\n",
              "       [3.14308148e-01, 8.79368658e-01],\n",
              "       [3.31354781e-01, 8.79368658e-01],\n",
              "       [3.48682925e-01, 8.30890643e-01],\n",
              "       [3.66245290e-01, 8.26381060e-01],\n",
              "       [3.84367340e-01, 8.04960541e-01],\n",
              "       [4.02582114e-01, 7.92559188e-01],\n",
              "       [4.20925960e-01, 8.13416009e-01],\n",
              "       [4.39552802e-01, 8.54002255e-01],\n",
              "       [4.58397545e-01, 8.70349493e-01],\n",
              "       [4.77755240e-01, 8.50056370e-01],\n",
              "       [4.97254617e-01, 9.66178129e-01],\n",
              "       [5.16945748e-01, 9.06426156e-01],\n",
              "       [5.36821216e-01, 8.64712514e-01],\n",
              "       [5.56888808e-01, 8.68658399e-01],\n",
              "       [5.77383489e-01, 8.83878241e-01],\n",
              "       [5.97969596e-01, 8.96279594e-01],\n",
              "       [6.18740966e-01, 9.22209696e-01],\n",
              "       [6.39682579e-01, 9.32919955e-01],\n",
              "       [6.60790353e-01, 8.81623450e-01],\n",
              "       [6.82252705e-01, 8.59075536e-01],\n",
              "       [7.03788310e-01, 8.58511838e-01],\n",
              "       [7.25478949e-01, 8.97406990e-01],\n",
              "       [7.47309417e-01, 8.74295378e-01],\n",
              "       [7.69272852e-01, 8.63021421e-01],\n",
              "       [7.91522063e-01, 8.47237880e-01],\n",
              "       [8.13850461e-01, 8.87260428e-01],\n",
              "       [8.36332039e-01, 8.90642616e-01],\n",
              "       [8.58952890e-01, 9.08117249e-01],\n",
              "       [8.82025679e-01, 9.23337091e-01],\n",
              "       [9.05355871e-01, 9.48139797e-01],\n",
              "       [9.28748373e-01, 9.02480271e-01],\n",
              "       [9.52376396e-01, 9.35174746e-01],\n",
              "       [9.76125331e-01, 9.96617813e-01],\n",
              "       [1.00000000e+00, 1.00000000e+00]])"
            ]
          },
          "metadata": {
            "tags": []
          },
          "execution_count": 796
        }
      ]
    },
    {
      "cell_type": "code",
      "metadata": {
        "id": "Sx35yrWb1MIz",
        "colab_type": "code",
        "colab": {
          "base_uri": "https://localhost:8080/",
          "height": 66
        },
        "outputId": "6544cab7-1d33-478e-83d9-34251a4cd1d1"
      },
      "source": [
        "# Test, Validation, Train \n",
        "# This should be ordered in respect to date – not cross validation or random seed\n",
        "# We are going to divide our data based on date because the next data is always dependent on the previous data\n",
        "# 65% of the total length of my datadrame\n",
        "# 35% test size/ validation\n",
        "training_size = int(len(new_dataset)*0.65)\n",
        "test_size = (len(new_dataset)-training_size)//2 # // Rounds down\n",
        "train_data, valset_data, test_data = new_dataset[0:training_size], new_dataset[training_size:(training_size + test_size)],new_dataset[(training_size + test_size):]\n",
        "print(train_data.shape)\n",
        "print(valset_data.shape)\n",
        "print(test_data.shape)"
      ],
      "execution_count": 797,
      "outputs": [
        {
          "output_type": "stream",
          "text": [
            "(87, 2)\n",
            "(23, 2)\n",
            "(24, 2)\n"
          ],
          "name": "stdout"
        }
      ]
    },
    {
      "cell_type": "code",
      "metadata": {
        "id": "P1CkWzUfVwxO",
        "colab_type": "code",
        "colab": {
          "base_uri": "https://localhost:8080/",
          "height": 82
        },
        "outputId": "e6ca6a0d-6159-4ffb-91c2-e118b5b04727"
      },
      "source": [
        "print(valset_data[:4])"
      ],
      "execution_count": 798,
      "outputs": [
        {
          "output_type": "stream",
          "text": [
            "[[0.12656839 0.78072153]\n",
            " [0.13825277 0.74689966]\n",
            " [0.15080431 0.71307779]\n",
            " [0.16358803 0.75197294]]\n"
          ],
          "name": "stdout"
        }
      ]
    },
    {
      "cell_type": "code",
      "metadata": {
        "id": "ldKERrxeA1sD",
        "colab_type": "code",
        "colab": {
          "base_uri": "https://localhost:8080/",
          "height": 33
        },
        "outputId": "9ef586e6-7d4c-4c24-874c-b88c41230965"
      },
      "source": [
        "training_size, test_size"
      ],
      "execution_count": 799,
      "outputs": [
        {
          "output_type": "execute_result",
          "data": {
            "text/plain": [
              "(87, 23)"
            ]
          },
          "metadata": {
            "tags": []
          },
          "execution_count": 799
        }
      ]
    },
    {
      "cell_type": "code",
      "metadata": {
        "id": "llongsG7BHW7",
        "colab_type": "code",
        "colab": {
          "base_uri": "https://localhost:8080/",
          "height": 33
        },
        "outputId": "076a3e9f-308e-4893-bff6-63451492520c"
      },
      "source": [
        "len(train_data), len(test_data)"
      ],
      "execution_count": 800,
      "outputs": [
        {
          "output_type": "execute_result",
          "data": {
            "text/plain": [
              "(87, 24)"
            ]
          },
          "metadata": {
            "tags": []
          },
          "execution_count": 800
        }
      ]
    },
    {
      "cell_type": "code",
      "metadata": {
        "id": "nc0pElKOBO-4",
        "colab_type": "code",
        "colab": {}
      },
      "source": [
        "# train_data"
      ],
      "execution_count": 801,
      "outputs": []
    },
    {
      "cell_type": "code",
      "metadata": {
        "id": "7lcOjmoBARZm",
        "colab_type": "code",
        "colab": {}
      },
      "source": [
        "# Convert an array of values into a dataset matrix\n",
        "# Go over what this method does\n",
        "# time_step = how many previous days you have to consider before making a prediction\n",
        "def create_dataset(dataset, time_step=1):\n",
        "  dataX, dataY = [],[]\n",
        "  # then we subtract e.g. timestep=3 : lendataset -3-3 so you are shifting\n",
        "  # iterates from \n",
        "  # -1: guarentees 8th datapoint \n",
        "  # 100 - 1 = 99-1 =5 -> 8th\n",
        "  # i is the starting point of dataset\n",
        "  for i in range(len(dataset)-time_step-1):\n",
        "    a = dataset[i:(i+time_step)]  # i=0, 0,1,2,3\n",
        "    # print(a)\n",
        "    dataX.append(a)\n",
        "    y = dataset[i + time_step][1] \n",
        "    dataY.append(y)\n",
        "  return np.array(dataX), np.array(dataY)"
      ],
      "execution_count": 802,
      "outputs": []
    },
    {
      "cell_type": "code",
      "metadata": {
        "id": "Xjbnyit_VZur",
        "colab_type": "code",
        "colab": {}
      },
      "source": [
        "# weekly_timestep means taking in 7 days of features at a time \n",
        "# whats the point of writing 7 when it is assigned to 1?\n",
        "weekly_timestep = 7\n",
        "X_train, Y_train = create_dataset(train_data, weekly_timestep)\n",
        "X_val, Y_val = create_dataset(valset_data, weekly_timestep)\n",
        "X_test, Y_test = create_dataset(test_data, weekly_timestep)\n",
        "\n"
      ],
      "execution_count": 803,
      "outputs": []
    },
    {
      "cell_type": "code",
      "metadata": {
        "id": "Bii3I74VfqRM",
        "colab_type": "code",
        "colab": {
          "base_uri": "https://localhost:8080/",
          "height": 66
        },
        "outputId": "6ac96ac6-ad62-4a3d-884d-2b20365f34f3"
      },
      "source": [
        "print(X_test.shape), print(Y_test.shape)\n",
        "# Finished preprocessing the data"
      ],
      "execution_count": 804,
      "outputs": [
        {
          "output_type": "stream",
          "text": [
            "(16, 7, 2)\n",
            "(16,)\n"
          ],
          "name": "stdout"
        },
        {
          "output_type": "execute_result",
          "data": {
            "text/plain": [
              "(None, None)"
            ]
          },
          "metadata": {
            "tags": []
          },
          "execution_count": 804
        }
      ]
    },
    {
      "cell_type": "markdown",
      "metadata": {
        "id": "rQxS8R3VI2bP",
        "colab_type": "text"
      },
      "source": [
        "# Stacked LSTM Model"
      ]
    },
    {
      "cell_type": "code",
      "metadata": {
        "id": "fuLjcvVwM7Sc",
        "colab_type": "code",
        "colab": {}
      },
      "source": [
        "# Create the stacked LSTM model\n",
        "# One LSTM after the other\n",
        "from tensorflow.keras.models import Sequential\n",
        "from tensorflow.keras.layers import InputLayer\n",
        "from tensorflow.keras.layers import LSTM\n",
        "from tensorflow.keras.layers import Dense\n",
        "\n",
        "\n",
        "def lstm_model(lr_rate, hidden_layer, optimizer):\n",
        "  model = Sequential()\n",
        "  opt = None\n",
        "  if optimizer == 'adam':\n",
        "   opt = keras.optimizers.Adam(learning_rate=lr_rate)\n",
        "  elif optimizer == 'adagrad':\n",
        "   opt = keras.optimizers.Adagrad(learning_rate=lr_rate)\n",
        "  else:\n",
        "    opt = keras.optimizers.Adadelta(learning_rate=lr_rate)\n",
        "\n",
        "  model.add(InputLayer(input_shape=(7,2)))\n",
        "  model.add(LSTM(hidden_layer,return_sequences=True))\n",
        "  model.add(LSTM(hidden_layer, return_sequences=True))\n",
        "  model.add(LSTM(hidden_layer))\n",
        "  model.add(Dense(1))\n",
        "  model.compile(loss = 'mean_squared_error', optimizer=opt)\n",
        "  return model"
      ],
      "execution_count": 805,
      "outputs": []
    },
    {
      "cell_type": "markdown",
      "metadata": {
        "id": "tkkElpH-cy_h",
        "colab_type": "text"
      },
      "source": [
        "## Hyperparameter Tuning\n",
        "\n",
        "\n",
        "*   Optimizers:\n",
        "[Overview of different Optimizers for neural networks](https://medium.com/datadriveninvestor/overview-of-different-optimizers-for-neural-networks-e0ed119440c3#:~:text=Adagrad%20eliminates%20the%20need%20to,is%20no%20longer%20able%20learning.)\n",
        "\n",
        "![Grid Search & Random Search](https://miro.medium.com/max/1200/1*ZTlQm_WRcrNqL-nLnx6GJA.png)\n",
        "\n",
        "![Grid & Ranom](\n",
        "https://miro.medium.com/max/3192/1*Q3GY243UjUA7r-pLudRFTQ.png))"
      ]
    },
    {
      "cell_type": "markdown",
      "metadata": {
        "id": "VDbgWWCHLcdm",
        "colab_type": "text"
      },
      "source": [
        "## Grid Search\n",
        "\n",
        "*   We must choose candidates for good hidden layers and optimizers. Then plot a comparison.\n",
        "*   List of optimizers: \n",
        "*   optimizers = ['SGD', 'RMSprop','adam','adagrad', 'adadelta', 'adamax','nadam', 'ftrl']\n",
        "*   Callbacks: Restores best weights that is going to give u best model \n",
        "*   Consider changing batch size: slower the batch_size better training, because small dataset\n",
        "\n",
        "\n"
      ]
    },
    {
      "cell_type": "code",
      "metadata": {
        "id": "D35lHOqI_7l7",
        "colab_type": "code",
        "colab": {
          "base_uri": "https://localhost:8080/",
          "height": 1000
        },
        "outputId": "2793ef59-e683-4662-ee81-e634b155543f"
      },
      "source": [
        "# Problem: Getting different results every time?\n",
        "# 0.0028813171666115522 0.01 adam 10\n",
        "# 0.0024543721228837967 0.01 adam 10\n",
        "# 0.09795219451189041 0.02 adam 10\n",
        "# 0.0019352396484464407 0.02 adam 5\n",
        "\n",
        "# Choose the number of hidden layers.\n",
        "hidden_layer = [1, 5, 10]\n",
        "best_hidden_layer = 1\n",
        "\n",
        "# Choose the optimizers you want to use.\n",
        "optimizers = ['adam','adagrad', 'adadelta']\n",
        "best_optimizer = 'adam'\n",
        "\n",
        "# Put in \n",
        "# Choose a learning rate\n",
        "learning_rate = [0.01, 0.02, 0.03]\n",
        "best_learning_rate = 0.01\n",
        "\n",
        "# Least lost\n",
        "least_loss = 1\n",
        "\n",
        "# Run hyperparas through model, record the best result as you go.\n",
        "for no_hidden_layer in hidden_layer:\n",
        "  for value_hidden_layer in optimizers:\n",
        "    for lr_rate in learning_rate:\n",
        "      model_testing = lstm_model(lr_rate, no_hidden_layer, value_hidden_layer)\n",
        "      model_testing.fit(X_train, Y_train, validation_data= (X_val, Y_val), epochs=10,batch_size=22,verbose=2,\n",
        "         callbacks=[tf.keras.callbacks.EarlyStopping(patience=3, restore_best_weights=True)])\n",
        "      loss = model_testing.evaluate(X_test, Y_test) # all results from dictionary\n",
        "      if loss < least_loss:\n",
        "        least_loss = loss\n",
        "        best_learning_rate = lr_rate\n",
        "        best_optimizer = value_hidden_layer\n",
        "        best_hidden_layer = no_hidden_layer\n",
        "print(least_loss, best_learning_rate, best_optimizer, best_hidden_layer)"
      ],
      "execution_count": 809,
      "outputs": [
        {
          "output_type": "stream",
          "text": [
            "Epoch 1/10\n",
            "4/4 - 1s - loss: 0.1880 - val_loss: 0.3516\n",
            "Epoch 2/10\n",
            "4/4 - 0s - loss: 0.0846 - val_loss: 0.1655\n",
            "Epoch 3/10\n",
            "4/4 - 0s - loss: 0.0302 - val_loss: 0.0596\n",
            "Epoch 4/10\n",
            "4/4 - 0s - loss: 0.0345 - val_loss: 0.0328\n",
            "Epoch 5/10\n",
            "4/4 - 0s - loss: 0.0415 - val_loss: 0.0438\n",
            "Epoch 6/10\n",
            "4/4 - 0s - loss: 0.0336 - val_loss: 0.0727\n",
            "Epoch 7/10\n",
            "4/4 - 0s - loss: 0.0261 - val_loss: 0.1041\n",
            "1/1 [==============================] - 0s 849us/step - loss: 0.0634\n",
            "Epoch 1/10\n",
            "4/4 - 1s - loss: 0.2440 - val_loss: 0.4766\n",
            "Epoch 2/10\n",
            "4/4 - 0s - loss: 0.1191 - val_loss: 0.2757\n",
            "Epoch 3/10\n",
            "4/4 - 0s - loss: 0.0462 - val_loss: 0.1307\n",
            "Epoch 4/10\n",
            "4/4 - 0s - loss: 0.0290 - val_loss: 0.0586\n",
            "Epoch 5/10\n",
            "4/4 - 0s - loss: 0.0370 - val_loss: 0.0467\n",
            "Epoch 6/10\n",
            "4/4 - 0s - loss: 0.0371 - val_loss: 0.0629\n",
            "Epoch 7/10\n",
            "4/4 - 0s - loss: 0.0297 - val_loss: 0.0947\n",
            "Epoch 8/10\n",
            "4/4 - 0s - loss: 0.0264 - val_loss: 0.1257\n",
            "1/1 [==============================] - 0s 770us/step - loss: 0.0800\n",
            "Epoch 1/10\n",
            "4/4 - 1s - loss: 0.1673 - val_loss: 0.1581\n",
            "Epoch 2/10\n",
            "4/4 - 0s - loss: 0.0337 - val_loss: 0.0280\n",
            "Epoch 3/10\n",
            "4/4 - 0s - loss: 0.0474 - val_loss: 0.0695\n",
            "Epoch 4/10\n",
            "4/4 - 0s - loss: 0.0290 - val_loss: 0.1397\n",
            "Epoch 5/10\n",
            "4/4 - 0s - loss: 0.0299 - val_loss: 0.1653\n",
            "1/1 [==============================] - 0s 735us/step - loss: 0.0629\n",
            "Epoch 1/10\n",
            "4/4 - 1s - loss: 0.2674 - val_loss: 0.6440\n",
            "Epoch 2/10\n",
            "4/4 - 0s - loss: 0.2419 - val_loss: 0.6134\n",
            "Epoch 3/10\n",
            "4/4 - 0s - loss: 0.2257 - val_loss: 0.5899\n",
            "Epoch 4/10\n",
            "4/4 - 0s - loss: 0.2131 - val_loss: 0.5702\n",
            "Epoch 5/10\n",
            "4/4 - 0s - loss: 0.2025 - val_loss: 0.5531\n",
            "Epoch 6/10\n",
            "4/4 - 0s - loss: 0.1934 - val_loss: 0.5383\n",
            "Epoch 7/10\n",
            "4/4 - 0s - loss: 0.1855 - val_loss: 0.5248\n",
            "Epoch 8/10\n",
            "4/4 - 0s - loss: 0.1783 - val_loss: 0.5122\n",
            "Epoch 9/10\n",
            "4/4 - 0s - loss: 0.1716 - val_loss: 0.5006\n",
            "Epoch 10/10\n",
            "4/4 - 0s - loss: 0.1656 - val_loss: 0.4899\n",
            "1/1 [==============================] - 0s 860us/step - loss: 0.5906\n",
            "Epoch 1/10\n",
            "4/4 - 1s - loss: 0.2493 - val_loss: 0.5780\n",
            "Epoch 2/10\n",
            "4/4 - 0s - loss: 0.1996 - val_loss: 0.5215\n",
            "Epoch 3/10\n",
            "4/4 - 0s - loss: 0.1716 - val_loss: 0.4782\n",
            "Epoch 4/10\n",
            "4/4 - 0s - loss: 0.1503 - val_loss: 0.4433\n",
            "Epoch 5/10\n",
            "4/4 - 0s - loss: 0.1336 - val_loss: 0.4136\n",
            "Epoch 6/10\n",
            "4/4 - 0s - loss: 0.1197 - val_loss: 0.3884\n",
            "Epoch 7/10\n",
            "4/4 - 0s - loss: 0.1083 - val_loss: 0.3666\n",
            "Epoch 8/10\n",
            "4/4 - 0s - loss: 0.0986 - val_loss: 0.3466\n",
            "Epoch 9/10\n",
            "4/4 - 0s - loss: 0.0900 - val_loss: 0.3276\n",
            "Epoch 10/10\n",
            "4/4 - 0s - loss: 0.0821 - val_loss: 0.3107\n",
            "1/1 [==============================] - 0s 971us/step - loss: 0.3900\n",
            "Epoch 1/10\n",
            "4/4 - 1s - loss: 0.2280 - val_loss: 0.4861\n",
            "Epoch 2/10\n",
            "4/4 - 0s - loss: 0.1430 - val_loss: 0.3930\n",
            "Epoch 3/10\n",
            "4/4 - 0s - loss: 0.1032 - val_loss: 0.3307\n",
            "Epoch 4/10\n",
            "4/4 - 0s - loss: 0.0786 - val_loss: 0.2842\n",
            "Epoch 5/10\n",
            "4/4 - 0s - loss: 0.0620 - val_loss: 0.2491\n",
            "Epoch 6/10\n",
            "4/4 - 0s - loss: 0.0509 - val_loss: 0.2219\n",
            "Epoch 7/10\n",
            "4/4 - 0s - loss: 0.0430 - val_loss: 0.1986\n",
            "Epoch 8/10\n",
            "4/4 - 0s - loss: 0.0373 - val_loss: 0.1815\n",
            "Epoch 9/10\n",
            "4/4 - 0s - loss: 0.0336 - val_loss: 0.1667\n",
            "Epoch 10/10\n",
            "4/4 - 0s - loss: 0.0310 - val_loss: 0.1573\n",
            "1/1 [==============================] - 0s 698us/step - loss: 0.2160\n",
            "Epoch 1/10\n",
            "4/4 - 1s - loss: 0.2768 - val_loss: 0.6878\n",
            "Epoch 2/10\n",
            "4/4 - 0s - loss: 0.2767 - val_loss: 0.6876\n",
            "Epoch 3/10\n",
            "4/4 - 0s - loss: 0.2766 - val_loss: 0.6875\n",
            "Epoch 4/10\n",
            "4/4 - 0s - loss: 0.2766 - val_loss: 0.6873\n",
            "Epoch 5/10\n",
            "4/4 - 0s - loss: 0.2765 - val_loss: 0.6872\n",
            "Epoch 6/10\n",
            "4/4 - 0s - loss: 0.2764 - val_loss: 0.6870\n",
            "Epoch 7/10\n",
            "4/4 - 0s - loss: 0.2763 - val_loss: 0.6869\n",
            "Epoch 8/10\n",
            "4/4 - 0s - loss: 0.2762 - val_loss: 0.6867\n",
            "Epoch 9/10\n",
            "4/4 - 0s - loss: 0.2761 - val_loss: 0.6866\n",
            "Epoch 10/10\n",
            "4/4 - 0s - loss: 0.2760 - val_loss: 0.6864\n",
            "1/1 [==============================] - 0s 637us/step - loss: 0.7975\n",
            "Epoch 1/10\n",
            "4/4 - 1s - loss: 0.2000 - val_loss: 0.4987\n",
            "Epoch 2/10\n",
            "4/4 - 0s - loss: 0.1996 - val_loss: 0.4980\n",
            "Epoch 3/10\n",
            "4/4 - 0s - loss: 0.1992 - val_loss: 0.4973\n",
            "Epoch 4/10\n",
            "4/4 - 0s - loss: 0.1988 - val_loss: 0.4966\n",
            "Epoch 5/10\n",
            "4/4 - 0s - loss: 0.1984 - val_loss: 0.4958\n",
            "Epoch 6/10\n",
            "4/4 - 0s - loss: 0.1980 - val_loss: 0.4951\n",
            "Epoch 7/10\n",
            "4/4 - 0s - loss: 0.1975 - val_loss: 0.4944\n",
            "Epoch 8/10\n",
            "4/4 - 0s - loss: 0.1971 - val_loss: 0.4937\n",
            "Epoch 9/10\n",
            "4/4 - 0s - loss: 0.1967 - val_loss: 0.4929\n",
            "Epoch 10/10\n",
            "4/4 - 0s - loss: 0.1963 - val_loss: 0.4922\n",
            "1/1 [==============================] - 0s 678us/step - loss: 0.5798\n",
            "Epoch 1/10\n",
            "4/4 - 1s - loss: 0.2831 - val_loss: 0.7100\n",
            "Epoch 2/10\n",
            "4/4 - 0s - loss: 0.2828 - val_loss: 0.7094\n",
            "Epoch 3/10\n",
            "4/4 - 0s - loss: 0.2824 - val_loss: 0.7089\n",
            "Epoch 4/10\n",
            "4/4 - 0s - loss: 0.2821 - val_loss: 0.7083\n",
            "Epoch 5/10\n",
            "4/4 - 0s - loss: 0.2818 - val_loss: 0.7078\n",
            "Epoch 6/10\n",
            "4/4 - 0s - loss: 0.2815 - val_loss: 0.7072\n",
            "Epoch 7/10\n",
            "4/4 - 0s - loss: 0.2811 - val_loss: 0.7066\n",
            "Epoch 8/10\n",
            "4/4 - 0s - loss: 0.2808 - val_loss: 0.7061\n",
            "Epoch 9/10\n",
            "4/4 - 0s - loss: 0.2805 - val_loss: 0.7055\n",
            "Epoch 10/10\n",
            "4/4 - 0s - loss: 0.2801 - val_loss: 0.7049\n",
            "1/1 [==============================] - 0s 658us/step - loss: 0.8287\n",
            "Epoch 1/10\n",
            "4/4 - 1s - loss: 0.2119 - val_loss: 0.2890\n",
            "Epoch 2/10\n",
            "4/4 - 0s - loss: 0.0520 - val_loss: 0.0157\n",
            "Epoch 3/10\n",
            "4/4 - 0s - loss: 0.0502 - val_loss: 0.0300\n",
            "Epoch 4/10\n",
            "4/4 - 0s - loss: 0.0290 - val_loss: 0.1117\n",
            "Epoch 5/10\n",
            "4/4 - 0s - loss: 0.0289 - val_loss: 0.1483\n",
            "1/1 [==============================] - 0s 758us/step - loss: 0.0271\n",
            "Epoch 1/10\n",
            "4/4 - 1s - loss: 0.1387 - val_loss: 9.2797e-04\n",
            "Epoch 2/10\n",
            "4/4 - 0s - loss: 0.0514 - val_loss: 0.1114\n",
            "Epoch 3/10\n",
            "4/4 - 0s - loss: 0.0370 - val_loss: 0.1598\n",
            "Epoch 4/10\n",
            "4/4 - 0s - loss: 0.0310 - val_loss: 0.0667\n",
            "1/1 [==============================] - 0s 989us/step - loss: 0.0019\n",
            "Epoch 1/10\n",
            "4/4 - 1s - loss: 0.1017 - val_loss: 0.0057\n",
            "Epoch 2/10\n",
            "4/4 - 0s - loss: 0.0422 - val_loss: 0.1807\n",
            "Epoch 3/10\n",
            "4/4 - 0s - loss: 0.0335 - val_loss: 0.0783\n",
            "Epoch 4/10\n",
            "4/4 - 0s - loss: 0.0266 - val_loss: 0.0546\n",
            "1/1 [==============================] - 0s 694us/step - loss: 0.0192\n",
            "Epoch 1/10\n",
            "4/4 - 1s - loss: 0.2052 - val_loss: 0.4555\n",
            "Epoch 2/10\n",
            "4/4 - 0s - loss: 0.1218 - val_loss: 0.3552\n",
            "Epoch 3/10\n",
            "4/4 - 0s - loss: 0.0836 - val_loss: 0.2938\n",
            "Epoch 4/10\n",
            "4/4 - 0s - loss: 0.0624 - val_loss: 0.2490\n",
            "Epoch 5/10\n",
            "4/4 - 0s - loss: 0.0487 - val_loss: 0.2164\n",
            "Epoch 6/10\n",
            "4/4 - 0s - loss: 0.0403 - val_loss: 0.1932\n",
            "Epoch 7/10\n",
            "4/4 - 0s - loss: 0.0349 - val_loss: 0.1745\n",
            "Epoch 8/10\n",
            "4/4 - 0s - loss: 0.0314 - val_loss: 0.1603\n",
            "Epoch 9/10\n",
            "4/4 - 0s - loss: 0.0292 - val_loss: 0.1503\n",
            "Epoch 10/10\n",
            "4/4 - 0s - loss: 0.0278 - val_loss: 0.1420\n",
            "1/1 [==============================] - 0s 745us/step - loss: 0.2299\n",
            "Epoch 1/10\n",
            "4/4 - 1s - loss: 0.2322 - val_loss: 0.4927\n",
            "Epoch 2/10\n",
            "4/4 - 0s - loss: 0.1478 - val_loss: 0.3931\n",
            "Epoch 3/10\n",
            "4/4 - 0s - loss: 0.1054 - val_loss: 0.3257\n",
            "Epoch 4/10\n",
            "4/4 - 0s - loss: 0.0785 - val_loss: 0.2729\n",
            "Epoch 5/10\n",
            "4/4 - 0s - loss: 0.0601 - val_loss: 0.2341\n",
            "Epoch 6/10\n",
            "4/4 - 0s - loss: 0.0479 - val_loss: 0.2042\n",
            "Epoch 7/10\n",
            "4/4 - 0s - loss: 0.0399 - val_loss: 0.1813\n",
            "Epoch 8/10\n",
            "4/4 - 0s - loss: 0.0347 - val_loss: 0.1638\n",
            "Epoch 9/10\n",
            "4/4 - 0s - loss: 0.0312 - val_loss: 0.1491\n",
            "Epoch 10/10\n",
            "4/4 - 0s - loss: 0.0289 - val_loss: 0.1387\n",
            "1/1 [==============================] - 0s 712us/step - loss: 0.1891\n",
            "Epoch 1/10\n",
            "4/4 - 1s - loss: 0.1272 - val_loss: 0.1977\n",
            "Epoch 2/10\n",
            "4/4 - 0s - loss: 0.0402 - val_loss: 0.1290\n",
            "Epoch 3/10\n",
            "4/4 - 0s - loss: 0.0283 - val_loss: 0.1054\n",
            "Epoch 4/10\n",
            "4/4 - 0s - loss: 0.0257 - val_loss: 0.0940\n",
            "Epoch 5/10\n",
            "4/4 - 0s - loss: 0.0255 - val_loss: 0.0878\n",
            "Epoch 6/10\n",
            "4/4 - 0s - loss: 0.0252 - val_loss: 0.0833\n",
            "Epoch 7/10\n",
            "4/4 - 0s - loss: 0.0251 - val_loss: 0.0857\n",
            "Epoch 8/10\n",
            "4/4 - 0s - loss: 0.0256 - val_loss: 0.0820\n",
            "Epoch 9/10\n",
            "4/4 - 0s - loss: 0.0251 - val_loss: 0.0843\n",
            "Epoch 10/10\n",
            "4/4 - 0s - loss: 0.0252 - val_loss: 0.0844\n",
            "1/1 [==============================] - 0s 757us/step - loss: 0.1192\n",
            "Epoch 1/10\n",
            "4/4 - 1s - loss: 0.3501 - val_loss: 0.9012\n",
            "Epoch 2/10\n",
            "4/4 - 0s - loss: 0.3495 - val_loss: 0.9000\n",
            "Epoch 3/10\n",
            "4/4 - 0s - loss: 0.3490 - val_loss: 0.8989\n",
            "Epoch 4/10\n",
            "4/4 - 0s - loss: 0.3484 - val_loss: 0.8977\n",
            "Epoch 5/10\n",
            "4/4 - 0s - loss: 0.3478 - val_loss: 0.8965\n",
            "Epoch 6/10\n",
            "4/4 - 0s - loss: 0.3472 - val_loss: 0.8954\n",
            "Epoch 7/10\n",
            "4/4 - 0s - loss: 0.3467 - val_loss: 0.8942\n",
            "Epoch 8/10\n",
            "4/4 - 0s - loss: 0.3461 - val_loss: 0.8930\n",
            "Epoch 9/10\n",
            "4/4 - 0s - loss: 0.3455 - val_loss: 0.8919\n",
            "Epoch 10/10\n",
            "4/4 - 0s - loss: 0.3449 - val_loss: 0.8907\n",
            "1/1 [==============================] - 0s 794us/step - loss: 1.0625\n",
            "Epoch 1/10\n",
            "4/4 - 1s - loss: 0.2183 - val_loss: 0.5613\n",
            "Epoch 2/10\n",
            "4/4 - 0s - loss: 0.2176 - val_loss: 0.5598\n",
            "Epoch 3/10\n",
            "4/4 - 0s - loss: 0.2169 - val_loss: 0.5584\n",
            "Epoch 4/10\n",
            "4/4 - 0s - loss: 0.2162 - val_loss: 0.5569\n",
            "Epoch 5/10\n",
            "4/4 - 0s - loss: 0.2154 - val_loss: 0.5554\n",
            "Epoch 6/10\n",
            "4/4 - 0s - loss: 0.2147 - val_loss: 0.5539\n",
            "Epoch 7/10\n",
            "4/4 - 0s - loss: 0.2140 - val_loss: 0.5524\n",
            "Epoch 8/10\n",
            "4/4 - 0s - loss: 0.2132 - val_loss: 0.5509\n",
            "Epoch 9/10\n",
            "4/4 - 0s - loss: 0.2125 - val_loss: 0.5494\n",
            "Epoch 10/10\n",
            "4/4 - 0s - loss: 0.2117 - val_loss: 0.5479\n",
            "1/1 [==============================] - 0s 802us/step - loss: 0.6656\n",
            "Epoch 1/10\n",
            "4/4 - 1s - loss: 0.2812 - val_loss: 0.7055\n",
            "Epoch 2/10\n",
            "4/4 - 0s - loss: 0.2806 - val_loss: 0.7042\n",
            "Epoch 3/10\n",
            "4/4 - 0s - loss: 0.2799 - val_loss: 0.7030\n",
            "Epoch 4/10\n",
            "4/4 - 0s - loss: 0.2792 - val_loss: 0.7017\n",
            "Epoch 5/10\n",
            "4/4 - 0s - loss: 0.2785 - val_loss: 0.7005\n",
            "Epoch 6/10\n",
            "4/4 - 0s - loss: 0.2778 - val_loss: 0.6992\n",
            "Epoch 7/10\n",
            "4/4 - 0s - loss: 0.2771 - val_loss: 0.6979\n",
            "Epoch 8/10\n",
            "4/4 - 0s - loss: 0.2764 - val_loss: 0.6966\n",
            "Epoch 9/10\n",
            "4/4 - 0s - loss: 0.2757 - val_loss: 0.6953\n",
            "Epoch 10/10\n",
            "4/4 - 0s - loss: 0.2750 - val_loss: 0.6940\n",
            "1/1 [==============================] - 0s 751us/step - loss: 0.8135\n",
            "Epoch 1/10\n",
            "4/4 - 1s - loss: 0.1248 - val_loss: 9.8894e-04\n",
            "Epoch 2/10\n",
            "4/4 - 0s - loss: 0.0369 - val_loss: 0.0931\n",
            "Epoch 3/10\n",
            "4/4 - 0s - loss: 0.0342 - val_loss: 0.1190\n",
            "Epoch 4/10\n",
            "4/4 - 0s - loss: 0.0281 - val_loss: 0.0514\n",
            "1/1 [==============================] - 0s 802us/step - loss: 0.0025\n",
            "Epoch 1/10\n",
            "4/4 - 1s - loss: 0.1443 - val_loss: 0.0065\n",
            "Epoch 2/10\n",
            "4/4 - 0s - loss: 0.0401 - val_loss: 0.1923\n",
            "Epoch 3/10\n",
            "4/4 - 0s - loss: 0.0359 - val_loss: 0.1198\n",
            "Epoch 4/10\n",
            "4/4 - 0s - loss: 0.0264 - val_loss: 0.0607\n",
            "1/1 [==============================] - 0s 752us/step - loss: 0.0342\n",
            "Epoch 1/10\n",
            "4/4 - 1s - loss: 0.1379 - val_loss: 0.1111\n",
            "Epoch 2/10\n",
            "4/4 - 0s - loss: 0.0406 - val_loss: 0.1590\n",
            "Epoch 3/10\n",
            "4/4 - 0s - loss: 0.0286 - val_loss: 0.0533\n",
            "Epoch 4/10\n",
            "4/4 - 0s - loss: 0.0313 - val_loss: 0.0939\n",
            "Epoch 5/10\n",
            "4/4 - 0s - loss: 0.0262 - val_loss: 0.1355\n",
            "Epoch 6/10\n",
            "4/4 - 0s - loss: 0.0275 - val_loss: 0.1175\n",
            "1/1 [==============================] - 0s 693us/step - loss: 0.0810\n",
            "Epoch 1/10\n",
            "4/4 - 1s - loss: 0.2472 - val_loss: 0.5087\n",
            "Epoch 2/10\n",
            "4/4 - 0s - loss: 0.1346 - val_loss: 0.3800\n",
            "Epoch 3/10\n",
            "4/4 - 0s - loss: 0.0860 - val_loss: 0.3032\n",
            "Epoch 4/10\n",
            "4/4 - 0s - loss: 0.0604 - val_loss: 0.2477\n",
            "Epoch 5/10\n",
            "4/4 - 0s - loss: 0.0450 - val_loss: 0.2117\n",
            "Epoch 6/10\n",
            "4/4 - 0s - loss: 0.0367 - val_loss: 0.1857\n",
            "Epoch 7/10\n",
            "4/4 - 0s - loss: 0.0320 - val_loss: 0.1681\n",
            "Epoch 8/10\n",
            "4/4 - 0s - loss: 0.0294 - val_loss: 0.1522\n",
            "Epoch 9/10\n",
            "4/4 - 0s - loss: 0.0277 - val_loss: 0.1431\n",
            "Epoch 10/10\n",
            "4/4 - 0s - loss: 0.0270 - val_loss: 0.1373\n",
            "1/1 [==============================] - 0s 751us/step - loss: 0.1962\n",
            "Epoch 1/10\n",
            "4/4 - 1s - loss: 0.1968 - val_loss: 0.3503\n",
            "Epoch 2/10\n",
            "4/4 - 0s - loss: 0.0743 - val_loss: 0.2285\n",
            "Epoch 3/10\n",
            "4/4 - 0s - loss: 0.0415 - val_loss: 0.1705\n",
            "Epoch 4/10\n",
            "4/4 - 0s - loss: 0.0306 - val_loss: 0.1371\n",
            "Epoch 5/10\n",
            "4/4 - 0s - loss: 0.0268 - val_loss: 0.1182\n",
            "Epoch 6/10\n",
            "4/4 - 0s - loss: 0.0258 - val_loss: 0.1109\n",
            "Epoch 7/10\n",
            "4/4 - 0s - loss: 0.0257 - val_loss: 0.1110\n",
            "Epoch 8/10\n",
            "4/4 - 0s - loss: 0.0258 - val_loss: 0.1079\n",
            "Epoch 9/10\n",
            "4/4 - 0s - loss: 0.0259 - val_loss: 0.1088\n",
            "Epoch 10/10\n",
            "4/4 - 0s - loss: 0.0255 - val_loss: 0.1057\n",
            "1/1 [==============================] - 0s 748us/step - loss: 0.1583\n",
            "Epoch 1/10\n",
            "4/4 - 1s - loss: 0.1418 - val_loss: 0.2094\n",
            "Epoch 2/10\n",
            "4/4 - 0s - loss: 0.0347 - val_loss: 0.1231\n",
            "Epoch 3/10\n",
            "4/4 - 0s - loss: 0.0258 - val_loss: 0.1034\n",
            "Epoch 4/10\n",
            "4/4 - 0s - loss: 0.0253 - val_loss: 0.1032\n",
            "Epoch 5/10\n",
            "4/4 - 0s - loss: 0.0253 - val_loss: 0.1014\n",
            "Epoch 6/10\n",
            "4/4 - 0s - loss: 0.0255 - val_loss: 0.1124\n",
            "Epoch 7/10\n",
            "4/4 - 0s - loss: 0.0253 - val_loss: 0.1113\n",
            "Epoch 8/10\n",
            "4/4 - 0s - loss: 0.0255 - val_loss: 0.1145\n",
            "1/1 [==============================] - 0s 757us/step - loss: 0.1608\n",
            "Epoch 1/10\n",
            "4/4 - 1s - loss: 0.2935 - val_loss: 0.7294\n",
            "Epoch 2/10\n",
            "4/4 - 0s - loss: 0.2931 - val_loss: 0.7286\n",
            "Epoch 3/10\n",
            "4/4 - 0s - loss: 0.2926 - val_loss: 0.7278\n",
            "Epoch 4/10\n",
            "4/4 - 0s - loss: 0.2922 - val_loss: 0.7269\n",
            "Epoch 5/10\n",
            "4/4 - 0s - loss: 0.2918 - val_loss: 0.7261\n",
            "Epoch 6/10\n",
            "4/4 - 0s - loss: 0.2914 - val_loss: 0.7252\n",
            "Epoch 7/10\n",
            "4/4 - 0s - loss: 0.2910 - val_loss: 0.7244\n",
            "Epoch 8/10\n",
            "4/4 - 0s - loss: 0.2905 - val_loss: 0.7235\n",
            "Epoch 9/10\n",
            "4/4 - 0s - loss: 0.2901 - val_loss: 0.7226\n",
            "Epoch 10/10\n",
            "4/4 - 0s - loss: 0.2897 - val_loss: 0.7218\n",
            "1/1 [==============================] - 0s 807us/step - loss: 0.8284\n",
            "Epoch 1/10\n",
            "4/4 - 1s - loss: 0.2424 - val_loss: 0.5815\n",
            "Epoch 2/10\n",
            "4/4 - 0s - loss: 0.2413 - val_loss: 0.5794\n",
            "Epoch 3/10\n",
            "4/4 - 0s - loss: 0.2402 - val_loss: 0.5773\n",
            "Epoch 4/10\n",
            "4/4 - 0s - loss: 0.2391 - val_loss: 0.5751\n",
            "Epoch 5/10\n",
            "4/4 - 0s - loss: 0.2380 - val_loss: 0.5729\n",
            "Epoch 6/10\n",
            "4/4 - 0s - loss: 0.2369 - val_loss: 0.5707\n",
            "Epoch 7/10\n",
            "4/4 - 0s - loss: 0.2358 - val_loss: 0.5684\n",
            "Epoch 8/10\n",
            "4/4 - 0s - loss: 0.2346 - val_loss: 0.5661\n",
            "Epoch 9/10\n",
            "4/4 - 0s - loss: 0.2335 - val_loss: 0.5639\n",
            "Epoch 10/10\n",
            "4/4 - 0s - loss: 0.2324 - val_loss: 0.5617\n",
            "1/1 [==============================] - 0s 987us/step - loss: 0.6346\n",
            "Epoch 1/10\n",
            "4/4 - 1s - loss: 0.2579 - val_loss: 0.6509\n",
            "Epoch 2/10\n",
            "4/4 - 0s - loss: 0.2567 - val_loss: 0.6485\n",
            "Epoch 3/10\n",
            "4/4 - 0s - loss: 0.2555 - val_loss: 0.6462\n",
            "Epoch 4/10\n",
            "4/4 - 0s - loss: 0.2543 - val_loss: 0.6438\n",
            "Epoch 5/10\n",
            "4/4 - 0s - loss: 0.2530 - val_loss: 0.6414\n",
            "Epoch 6/10\n",
            "4/4 - 0s - loss: 0.2518 - val_loss: 0.6390\n",
            "Epoch 7/10\n",
            "4/4 - 0s - loss: 0.2506 - val_loss: 0.6365\n",
            "Epoch 8/10\n",
            "4/4 - 0s - loss: 0.2493 - val_loss: 0.6341\n",
            "Epoch 9/10\n",
            "4/4 - 0s - loss: 0.2481 - val_loss: 0.6317\n",
            "Epoch 10/10\n",
            "4/4 - 0s - loss: 0.2468 - val_loss: 0.6292\n",
            "1/1 [==============================] - 0s 807us/step - loss: 0.7529\n",
            "0.0019352396484464407 0.02 adam 5\n"
          ],
          "name": "stdout"
        }
      ]
    },
    {
      "cell_type": "markdown",
      "metadata": {
        "id": "z1lhXoUDL7N-",
        "colab_type": "text"
      },
      "source": [
        "## Random Search\n",
        "\n",
        "*   Problem: Do we not always get the same values but we just put a random variable instead of sequentally going through all the data like grid search?\n",
        "*   Does single for loop with no of samples for each, and randomly select one from each list\n",
        "testing each hyperpara against every other hyper\n",
        "\n",
        "\n",
        "\n"
      ]
    },
    {
      "cell_type": "code",
      "metadata": {
        "id": "HZ1sGGMfcqPB",
        "colab_type": "code",
        "colab": {}
      },
      "source": [
        "hidden_layer = []\n",
        "for i in range(5, 11):\n",
        "  hidden_layer.append(i)"
      ],
      "execution_count": 810,
      "outputs": []
    },
    {
      "cell_type": "code",
      "metadata": {
        "id": "Nfv_VmTmTenU",
        "colab_type": "code",
        "colab": {
          "base_uri": "https://localhost:8080/",
          "height": 50
        },
        "outputId": "905ed02e-34a5-438e-8215-7648f374be30"
      },
      "source": [
        "# Shuffle hidden_layer list\n",
        "from random import seed\n",
        "from random import shuffle\n",
        "# seed random number generator\n",
        "seed(len(hidden_layer))\n",
        "# prepare a sequence\n",
        "hl_sequence = hidden_layer\n",
        "print(hl_sequence)\n",
        "# randomly shuffle the sequence\n",
        "shuffle(hl_sequence)\n",
        "print(hl_sequence)\n"
      ],
      "execution_count": 811,
      "outputs": [
        {
          "output_type": "stream",
          "text": [
            "[5, 6, 7, 8, 9, 10]\n",
            "[7, 10, 6, 8, 5, 9]\n"
          ],
          "name": "stdout"
        }
      ]
    },
    {
      "cell_type": "code",
      "metadata": {
        "id": "h3y6Ck1pUloP",
        "colab_type": "code",
        "colab": {
          "base_uri": "https://localhost:8080/",
          "height": 50
        },
        "outputId": "2e62724b-42d2-4ba8-eb89-77136f7dc0af"
      },
      "source": [
        "# Shuffling optimizers\n",
        "# seed random number generator\n",
        "seed(len(hl_sequence))\n",
        "# prepare a sequence\n",
        "op_sequence = optimizers\n",
        "print(op_sequence)\n",
        "# randomly shuffle the sequence\n",
        "shuffle(op_sequence)\n",
        "print(op_sequence)\n"
      ],
      "execution_count": 812,
      "outputs": [
        {
          "output_type": "stream",
          "text": [
            "['adam', 'adagrad', 'adadelta']\n",
            "['adagrad', 'adam', 'adadelta']\n"
          ],
          "name": "stdout"
        }
      ]
    },
    {
      "cell_type": "code",
      "metadata": {
        "id": "LVW2lB53TDcG",
        "colab_type": "code",
        "colab": {}
      },
      "source": [
        "# Input final of random search compare"
      ],
      "execution_count": 813,
      "outputs": []
    },
    {
      "cell_type": "markdown",
      "metadata": {
        "id": "wn9UPx2ZMI_x",
        "colab_type": "text"
      },
      "source": [
        "###  Graph model against loss\n",
        "\n"
      ]
    },
    {
      "cell_type": "code",
      "metadata": {
        "id": "z5xmm7LRTCGG",
        "colab_type": "code",
        "colab": {}
      },
      "source": [
        ""
      ],
      "execution_count": 813,
      "outputs": []
    },
    {
      "cell_type": "markdown",
      "metadata": {
        "id": "SfuWNSwLaZ-R",
        "colab_type": "text"
      },
      "source": [
        "## Comparison Grid Search Vrs Random Search\n",
        "\n",
        "\n",
        "*   Question: Why are we getting similar results?\n",
        "\n"
      ]
    },
    {
      "cell_type": "markdown",
      "metadata": {
        "id": "k4ocL2CLJLXg",
        "colab_type": "text"
      },
      "source": [
        "# Predicted the test data \n",
        "\n",
        "*   Must also plot the output\n",
        "\n"
      ]
    },
    {
      "cell_type": "code",
      "metadata": {
        "id": "yBxAVM4I3NJ2",
        "colab_type": "code",
        "colab": {}
      },
      "source": [
        "best_param_model = lstm_model(best_learning_rate, best_hidden_layer, best_optimizer)\n"
      ],
      "execution_count": 814,
      "outputs": []
    },
    {
      "cell_type": "code",
      "metadata": {
        "id": "aBny6cUkO4xC",
        "colab_type": "code",
        "colab": {
          "base_uri": "https://localhost:8080/",
          "height": 33
        },
        "outputId": "0d33a4c6-9719-4899-e17f-25315074144b"
      },
      "source": [
        "# Prediction and check performance metric\n",
        "train_predict = best_param_model.predict(X_train)\n",
        "test_predict = best_param_model.predict(X_test)\n",
        "train_predict.shape\n",
        "train_predict.shape"
      ],
      "execution_count": 815,
      "outputs": [
        {
          "output_type": "execute_result",
          "data": {
            "text/plain": [
              "(79, 1)"
            ]
          },
          "metadata": {
            "tags": []
          },
          "execution_count": 815
        }
      ]
    },
    {
      "cell_type": "code",
      "metadata": {
        "id": "b7ocuWlpPIEA",
        "colab_type": "code",
        "colab": {
          "base_uri": "https://localhost:8080/",
          "height": 33
        },
        "outputId": "a897fad4-eaaf-46bc-d8a7-356a1acf0410"
      },
      "source": [
        "# Transform back to original form\n",
        "train_predict=scaler.inverse_transform(train_predict)\n",
        "test_predict=scaler.inverse_transform(test_predict)\n",
        "train_predict.shape"
      ],
      "execution_count": 816,
      "outputs": [
        {
          "output_type": "execute_result",
          "data": {
            "text/plain": [
              "(79, 1)"
            ]
          },
          "metadata": {
            "tags": []
          },
          "execution_count": 816
        }
      ]
    },
    {
      "cell_type": "code",
      "metadata": {
        "id": "DHXXILzqPUHQ",
        "colab_type": "code",
        "colab": {
          "base_uri": "https://localhost:8080/",
          "height": 33
        },
        "outputId": "3a63b707-beb3-4076-f710-8be11294203b"
      },
      "source": [
        "# Calculate the RMSE performance metrics\n",
        "# Output for the train dataset\n",
        "import math\n",
        "from sklearn.metrics import mean_squared_error\n",
        "math.sqrt(mean_squared_error(Y_train, train_predict))"
      ],
      "execution_count": 817,
      "outputs": [
        {
          "output_type": "execute_result",
          "data": {
            "text/plain": [
              "0.666470511225213"
            ]
          },
          "metadata": {
            "tags": []
          },
          "execution_count": 817
        }
      ]
    },
    {
      "cell_type": "code",
      "metadata": {
        "id": "fFNm7l86Pt_7",
        "colab_type": "code",
        "colab": {
          "base_uri": "https://localhost:8080/",
          "height": 33
        },
        "outputId": "b1e3be43-4e6e-4bf2-b6ec-12e44c071ac1"
      },
      "source": [
        "# Similarly for the test Data RMSE\n",
        "math.sqrt(mean_squared_error(Y_test, test_predict))"
      ],
      "execution_count": 818,
      "outputs": [
        {
          "output_type": "execute_result",
          "data": {
            "text/plain": [
              "0.25859913610418456"
            ]
          },
          "metadata": {
            "tags": []
          },
          "execution_count": 818
        }
      ]
    },
    {
      "cell_type": "code",
      "metadata": {
        "id": "gZc_4QJmZugn",
        "colab_type": "code",
        "colab": {}
      },
      "source": [
        "# Evaluating: How well is model performing \n",
        "# Probability distribution rather than time series\n",
        "# Tensorflow??\n",
        "# KL Divergence\n",
        "# Consider this for evaluation: https://www.tensorflow.org/api_docs/python/tf/keras/losses/KLDivergence\n",
        "# kl divergence measures difference between 2 probability distributions, \n",
        "# measure of what i am predicting and what should have been predicting"
      ],
      "execution_count": 819,
      "outputs": []
    },
    {
      "cell_type": "markdown",
      "metadata": {
        "id": "-nSW23ryI8RU",
        "colab_type": "text"
      },
      "source": [
        "# Predicted future 7 days and plotted the output"
      ]
    },
    {
      "cell_type": "code",
      "metadata": {
        "id": "wIaC4DB2UV6P",
        "colab_type": "code",
        "colab": {
          "base_uri": "https://localhost:8080/",
          "height": 435
        },
        "outputId": "230c8168-fd8d-437d-d8a2-532c5a36e125"
      },
      "source": [
        "# What does this mean exactly??\n",
        "\n",
        "look_back = 7\n",
        "\n",
        "# empty_like: Return a new array with the same shape and type as a given array.\n",
        "# np.nan: Replect all with nan? What does this mean?\n",
        "# What does this do?? 7: predict.length() + 7, :\n",
        "\n",
        "trainPredictPlot = np.empty_like(new_dataset)\n",
        "trainPredictPlot[:,:]= np.nan\n",
        "trainPredictPlot[look_back:len(train_predict)+look_back, :] = train_predict\n",
        "print(trainPredictPlot.shape)\n",
        "\n",
        "# empty_like: Return a new array with the same shape and type as a given array.\n",
        "# np.nan: Replect all with nan? What does this mean?\n",
        "# Dont understand what this is doing\n",
        "# What does this do?? predict.length() + (7*2) +2 :(training_size + test_size)] = test_predict\n",
        "\n",
        "testPredictPlot = np.empty_like(new_dataset)\n",
        "testPredictPlot[:,:]= np.nan\n",
        "testPredictPlot[len(train_predict)+(look_back*2)+1: (training_size + test_size)] = test_predict\n",
        "# new_dataset[training_size:(training_size + test_size)]\n",
        "print(testPredictPlot.shape)\n",
        "\n",
        "# Plot baseline and predictions\n",
        "plt.title('Analysis of train, test and actual')\n",
        "plt.plot(scaler.inverse_transform(new_dataset), label=\"actual dataset\")\n",
        "\n",
        "trainPredictPlot = [item[1] for item in trainPredictPlot] \n",
        "plt.plot(trainPredictPlot, label=\"train_predict\")\n",
        "testPredictPlot = [item[1] for item in testPredictPlot] \n",
        "plt.plot(testPredictPlot, label=\"test_predict\")\n",
        "\n",
        "# as you can see th test data and train is divided because we want to test after a specific day\n",
        "plt.ylabel('Forex price & US Death Rates')\n",
        "plt.xlabel('Date')\n",
        "plt.legend()\n",
        "plt.show()\n",
        "# Printing 2 actual_dataset, train_predict, test_predict because 2 input layers"
      ],
      "execution_count": 820,
      "outputs": [
        {
          "output_type": "stream",
          "text": [
            "(134, 2)\n",
            "(134, 2)\n"
          ],
          "name": "stdout"
        },
        {
          "output_type": "display_data",
          "data": {
            "image/png": "[encoded data removed]",
            "text/plain": [
              "<Figure size 1080x432 with 1 Axes>"
            ]
          },
          "metadata": {
            "tags": []
          }
        }
      ]
    },
    {
      "cell_type": "markdown",
      "metadata": {
        "id": "Fc6YFJvQjBGu",
        "colab_type": "text"
      },
      "source": [
        "# Custom 4 day prediction\n",
        "\n",
        "*   Training train data to predict future days and evaluating the accuracy on validation data.\n",
        "*   Training train data to predict future days, no way of evaluating however this can tell us what is likely to occur.\n",
        "\n"
      ]
    },
    {
      "cell_type": "markdown",
      "metadata": {
        "id": "BqOPOF02jlRd",
        "colab_type": "text"
      },
      "source": [
        "### Using last 7 days of training data to predict the future custom days(4). "
      ]
    },
    {
      "cell_type": "code",
      "metadata": {
        "id": "yws-gX7RTB3Z",
        "colab_type": "code",
        "colab": {
          "base_uri": "https://localhost:8080/",
          "height": 147
        },
        "outputId": "a781a65a-be2f-4401-ad2b-bc76471c523f"
      },
      "source": [
        "# Taking the last \n",
        "# print(test_data[80:])\n",
        "X_input=test_data[80:].reshape(1,-1)\n",
        "print(X_input)\n",
        "X_input.shape\n",
        "\n",
        "temp_input = train_data[-7:]\n",
        "temp_input\n",
        "\n"
      ],
      "execution_count": 821,
      "outputs": [
        {
          "output_type": "stream",
          "text": [
            "[]\n"
          ],
          "name": "stdout"
        },
        {
          "output_type": "execute_result",
          "data": {
            "text/plain": [
              "array([[0.05753473, 0.44532131],\n",
              "       [0.0658916 , 0.61217587],\n",
              "       [0.07456764, 0.75253664],\n",
              "       [0.08383321, 0.80101466],\n",
              "       [0.09400989, 0.92784667],\n",
              "       [0.10444046, 0.88105975],\n",
              "       [0.11526232, 0.82750846]])"
            ]
          },
          "metadata": {
            "tags": []
          },
          "execution_count": 821
        }
      ]
    },
    {
      "cell_type": "code",
      "metadata": {
        "id": "CHAxzKyuTp5-",
        "colab_type": "code",
        "colab": {
          "base_uri": "https://localhost:8080/",
          "height": 488
        },
        "outputId": "531dae73-c3bb-4b67-af05-da5097e6a451"
      },
      "source": [
        "# Demonstrate prediction for the next 4 days:\n",
        "\n",
        "# Step 1. 7 days of feature = temp_input taken from the last 7 days of the training set\n",
        "# Step 2  i is the day you are on and we want to predict 4 days: 0,1,2,3 (4 days)\n",
        "# Step 3. Predict the 8th day on each of the 7 days,\n",
        "# Step 4. Add this new predicted day to the list\n",
        "# Step 5. Because we are now taking in the last 7 days + the new predicted value, the list is now size 8  \n",
        "# Step 6. In order to take in 7 days at a time, we shift 1 to the right.\n",
        "# Step 7. We reassign the X_train to the new 7 days\n",
        "# Step 8. We predict the 8th day of the 7 days and continue the process\n",
        "# Step 9. We then add the 8th day to the output list\n",
        "# Step 10. We keep track of the 4 days by incrementing by i at the end-> i = i+1\n",
        "# Step 11. Once we have predicted the 4 days, we return the list of 4 day values.\n",
        "\n",
        "from numpy import array\n",
        "custom_day = 4\n",
        "lst_output=[]\n",
        "n_steps=7\n",
        "i=0\n",
        "X_input = temp_input\n",
        "# print(X_input)\n",
        "while(i<custom_day):\n",
        "  if(len(temp_input)>7):\n",
        "    # print(temp_input)  \n",
        "    X_input=array(temp_input[1:])\n",
        "    # print(\"{} day input {}\".format(i,X_input))\n",
        "    # Correct input shape (1,7,2)\n",
        "    X_input=X_input.reshape((1,n_steps,2))\n",
        "    # Prediction of X_input\n",
        "    print(X_input)\n",
        "    Y_hat = best_param_model.predict(X_input)\n",
        "    # print(Y_hat)\n",
        "    temp_input = np.append(temp_input, Y_hat)\n",
        "    temp_input=temp_input[1:]\n",
        "    lst_output.append(Y_hat[0][0])\n",
        "    i=i+1\n",
        "  else:\n",
        "    X_input=X_input.reshape((1,n_steps,2))\n",
        "    print(X_input)\n",
        "    Y_hat = best_param_model.predict(X_input, verbose=0)\n",
        "    # print(Y_hat)\n",
        "    temp_input = np.append(temp_input, Y_hat)\n",
        "    lst_output.append(Y_hat[0][0])\n",
        "    i=i+1\n",
        "# [0.039997526, 0.035484765, 0.029113937, 0.025276443]\n",
        "# Print the predicted forex price for the next 4 days \n",
        "print(lst_output)"
      ],
      "execution_count": 822,
      "outputs": [
        {
          "output_type": "stream",
          "text": [
            "[[[0.05753473 0.44532131]\n",
            "  [0.0658916  0.61217587]\n",
            "  [0.07456764 0.75253664]\n",
            "  [0.08383321 0.80101466]\n",
            "  [0.09400989 0.92784667]\n",
            "  [0.10444046 0.88105975]\n",
            "  [0.11526232 0.82750846]]]\n",
            "[[[0.44532131 0.0658916 ]\n",
            "  [0.61217587 0.07456764]\n",
            "  [0.75253664 0.08383321]\n",
            "  [0.80101466 0.09400989]\n",
            "  [0.92784667 0.10444046]\n",
            "  [0.88105975 0.11526232]\n",
            "  [0.82750846 0.01420095]]]\n",
            "[[[0.0658916  0.61217587]\n",
            "  [0.07456764 0.75253664]\n",
            "  [0.08383321 0.80101466]\n",
            "  [0.09400989 0.92784667]\n",
            "  [0.10444046 0.88105975]\n",
            "  [0.11526232 0.82750846]\n",
            "  [0.01420095 0.03573854]]]\n",
            "[[[0.61217587 0.07456764]\n",
            "  [0.75253664 0.08383321]\n",
            "  [0.80101466 0.09400989]\n",
            "  [0.92784667 0.10444046]\n",
            "  [0.88105975 0.11526232]\n",
            "  [0.82750846 0.01420095]\n",
            "  [0.03573854 0.01573836]]]\n",
            "[0.014200946, 0.035738543, 0.01573836, 0.037951466]\n"
          ],
          "name": "stdout"
        }
      ]
    },
    {
      "cell_type": "markdown",
      "metadata": {
        "id": "-0DCdCn2jwxO",
        "colab_type": "text"
      },
      "source": [
        "### Plotting evaluation on graph. Training output versus first 4 days of the validation data."
      ]
    },
    {
      "cell_type": "code",
      "metadata": {
        "id": "z_5opaqHfcZt",
        "colab_type": "code",
        "colab": {
          "base_uri": "https://localhost:8080/",
          "height": 435
        },
        "outputId": "53ce9cb2-5e20-4578-9312-defe19e730e0"
      },
      "source": [
        "# Custom day plotted\n",
        "day_new = custom_day-1\n",
        "\n",
        "# Predicted 4 days from training\n",
        "# Plot and label\n",
        "# Transform back to original value before normalised\n",
        "custom_day_prediction = np.array(lst_output)\n",
        "print(custom_day_prediction)\n",
        "plt.plot(custom_day_prediction, label=\"Predicted\")\n",
        "# plt.plot(day_new, scaler.inverse_transform([custom_day_prediction]))\n",
        "\n",
        "# Actual 4 days from validation\n",
        "# Plot and label\n",
        "# Transform back to original value before normalised\n",
        "val_data = [item[1] for item in valset_data] \n",
        "custom_day_validation = val_data[:custom_day]\n",
        "print(custom_day_validation)\n",
        "plt.plot(custom_day_validation, label=\"Actual\")\n",
        "# plt.plot(day_new, scaler.inverse_transform([custom_day_validation]))\n",
        "\n",
        "# Information\n",
        "plt.title('Predicted custom day from training data versus actual custom day from validation data')\n",
        "plt.xlabel('Number of custom days')\n",
        "plt.ylabel('Price')\n",
        "plt.legend()\n",
        "plt.show()"
      ],
      "execution_count": 823,
      "outputs": [
        {
          "output_type": "stream",
          "text": [
            "[0.01420095 0.03573854 0.01573836 0.03795147]\n",
            "[0.7807215332581725, 0.746899661781284, 0.7130777903043954, 0.7519729425028183]\n"
          ],
          "name": "stdout"
        },
        {
          "output_type": "display_data",
          "data": {
            "image/png": "[encoded data removed]",
            "text/plain": [
              "<Figure size 1080x432 with 1 Axes>"
            ]
          },
          "metadata": {
            "tags": []
          }
        }
      ]
    },
    {
      "cell_type": "code",
      "metadata": {
        "id": "9X1xZG9bWNx_",
        "colab_type": "code",
        "colab": {
          "base_uri": "https://localhost:8080/",
          "height": 418
        },
        "outputId": "98cde091-9234-475f-88ab-60d62ab0a09c"
      },
      "source": [
        "# Connect what we got as a result to the future\n",
        "day_new = custom_day-1\n",
        "\n",
        "# Predicted 4 days from training\n",
        "# Plot and label\n",
        "# Transform back to original value before normalised\n",
        "custom_day_prediction = np.array(lst_output)\n",
        "print(custom_day_prediction)\n",
        "plt.plot(custom_day_prediction, label=\"Predicted\")\n",
        "plt.plot(day_new, scaler.inverse_transform([custom_day_prediction]))\n",
        "\n",
        "# Actual 4 days from validation\n",
        "# Plot and label\n",
        "# Transform back to original value before normalised\n",
        "# Start on 4 instead\n",
        "val_data = [item[1] for item in valset_data] \n",
        "custom_day_validation = val_data[custom_day:]\n",
        "plt.plot(custom_day_validation, label=\"Actual\")\n",
        "plt.plot(day_new, scaler.inverse_transform([custom_day_validation]))\n",
        "\n",
        "# Information\n",
        "plt.title('Predicted custom day from training data versus actual custom day from validation data')\n",
        "plt.xlabel('Number of custom days')\n",
        "plt.ylabel('Price')\n",
        "plt.legend()\n",
        "plt.show()\n",
        "\n"
      ],
      "execution_count": 824,
      "outputs": [
        {
          "output_type": "stream",
          "text": [
            "[0.01420095 0.03573854 0.01573836 0.03795147]\n"
          ],
          "name": "stdout"
        },
        {
          "output_type": "display_data",
          "data": {
            "image/png": "[encoded data removed]",
            "text/plain": [
              "<Figure size 1080x432 with 1 Axes>"
            ]
          },
          "metadata": {
            "tags": []
          }
        }
      ]
    },
    {
      "cell_type": "code",
      "metadata": {
        "id": "IeOGd1UPV8jG",
        "colab_type": "code",
        "colab": {}
      },
      "source": [
        "# What we have:\n",
        "# day_new=np.arange(1,8)\n",
        "# print(day_new)\n",
        "# What we want to predict:\n",
        "# day_pred=np.arange(8,12)\n",
        "# print(day_pred)"
      ],
      "execution_count": 825,
      "outputs": []
    },
    {
      "cell_type": "markdown",
      "metadata": {
        "id": "7o0GfssHMvIL",
        "colab_type": "text"
      },
      "source": [
        "# Conclusion and next steps\n",
        "We explored the LSTM algorithms:\n",
        "\n",
        "*   List item\n",
        "*   List item\n",
        "\n",
        "\n",
        "In conclusion it seems that .."
      ]
    }
  ]
}