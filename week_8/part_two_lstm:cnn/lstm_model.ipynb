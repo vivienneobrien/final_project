{
  "nbformat": 4,
  "nbformat_minor": 0,
  "metadata": {
    "colab": {
      "name": "lstm_model.ipynb",
      "provenance": [],
      "collapsed_sections": [],
      "toc_visible": true
    },
    "kernelspec": {
      "name": "python3",
      "display_name": "Python 3"
    },
    "accelerator": "GPU"
  },
  "cells": [
    {
      "cell_type": "markdown",
      "metadata": {
        "id": "NpLCBrS0DoTl",
        "colab_type": "text"
      },
      "source": [
        "# Notes for user:\n",
        "\n",
        "*   This notebook will use the dataset COVID-19 and forex to predict the forex spot price of a currency pair.\n",
        "*   What to ask user before using this application:\n",
        "*   What currency pair are you interested in? USD/GBP (This layout means that the base currency is USD)\n",
        "*   The currency the user wants to look at is how much the USD is worth to the GBP.\n",
        "*   Therefore, we look at the death rates in the US and the UK.\n",
        "*   LSTMs are good at looking at changed over time. We need to also consider that what happen more recently is a better judgement than what happened a long time ago. This is why CNNs might be interesting to explore.\n"
      ]
    },
    {
      "cell_type": "code",
      "metadata": {
        "id": "GDBxlQkCD7Mj",
        "colab_type": "code",
        "colab": {
          "base_uri": "https://localhost:8080/",
          "height": 307
        },
        "outputId": "28a3fc9e-1047-4905-d280-ccc6ee5abf2b"
      },
      "source": [
        "# Use some functions from tensorflow_docs\n",
        "!pip install git+https://github.com/tensorflow/docs"
      ],
      "execution_count": null,
      "outputs": [
        {
          "output_type": "stream",
          "text": [
            "Collecting git+https://github.com/tensorflow/docs\n",
            "  Cloning https://github.com/tensorflow/docs to /tmp/pip-req-build-sst3i5qx\n",
            "  Running command git clone -q https://github.com/tensorflow/docs /tmp/pip-req-build-sst3i5qx\n",
            "Requirement already satisfied (use --upgrade to upgrade): tensorflow-docs===0.0.0adae1941b3a1b3c0b781b94d96f4476892a44620- from git+https://github.com/tensorflow/docs in /usr/local/lib/python3.6/dist-packages\n",
            "Requirement already satisfied: astor in /usr/local/lib/python3.6/dist-packages (from tensorflow-docs===0.0.0adae1941b3a1b3c0b781b94d96f4476892a44620-) (0.8.1)\n",
            "Requirement already satisfied: absl-py in /usr/local/lib/python3.6/dist-packages (from tensorflow-docs===0.0.0adae1941b3a1b3c0b781b94d96f4476892a44620-) (0.9.0)\n",
            "Requirement already satisfied: protobuf in /usr/local/lib/python3.6/dist-packages (from tensorflow-docs===0.0.0adae1941b3a1b3c0b781b94d96f4476892a44620-) (3.12.2)\n",
            "Requirement already satisfied: pyyaml in /usr/local/lib/python3.6/dist-packages (from tensorflow-docs===0.0.0adae1941b3a1b3c0b781b94d96f4476892a44620-) (3.13)\n",
            "Requirement already satisfied: six in /usr/local/lib/python3.6/dist-packages (from absl-py->tensorflow-docs===0.0.0adae1941b3a1b3c0b781b94d96f4476892a44620-) (1.15.0)\n",
            "Requirement already satisfied: setuptools in /usr/local/lib/python3.6/dist-packages (from protobuf->tensorflow-docs===0.0.0adae1941b3a1b3c0b781b94d96f4476892a44620-) (49.2.0)\n",
            "Building wheels for collected packages: tensorflow-docs\n",
            "  Building wheel for tensorflow-docs (setup.py) ... \u001b[?25l\u001b[?25hdone\n",
            "  Created wheel for tensorflow-docs: filename=tensorflow_docs-0.0.0adae1941b3a1b3c0b781b94d96f4476892a44620_-cp36-none-any.whl size=126412 sha256=9707aef31a07e194792c90bd50699b7b6e9721aab0d7abf31d8014320ec978c2\n",
            "  Stored in directory: /tmp/pip-ephem-wheel-cache-mfmga4tj/wheels/eb/1b/35/fce87697be00d2fc63e0b4b395b0d9c7e391a10e98d9a0d97f\n",
            "Successfully built tensorflow-docs\n"
          ],
          "name": "stdout"
        }
      ]
    },
    {
      "cell_type": "code",
      "metadata": {
        "id": "iJ6D0PrOJYeg",
        "colab_type": "code",
        "colab": {}
      },
      "source": [
        "import pathlib\n",
        "import matplotlib.pyplot as plt\n",
        "import numpy as np\n",
        "import pandas as pd"
      ],
      "execution_count": null,
      "outputs": []
    },
    {
      "cell_type": "code",
      "metadata": {
        "id": "AgIgQg1XJcP2",
        "colab_type": "code",
        "colab": {
          "base_uri": "https://localhost:8080/",
          "height": 35
        },
        "outputId": "4fdec390-34b6-4768-98e4-2e9f0df61ad0"
      },
      "source": [
        "import tensorflow as tf\n",
        "from tensorflow import keras\n",
        "from tensorflow.keras import layers\n",
        "print(tf.__version__)"
      ],
      "execution_count": null,
      "outputs": [
        {
          "output_type": "stream",
          "text": [
            "2.2.0\n"
          ],
          "name": "stdout"
        }
      ]
    },
    {
      "cell_type": "code",
      "metadata": {
        "id": "m_F-7tgZJe2m",
        "colab_type": "code",
        "colab": {}
      },
      "source": [
        "import tensorflow_docs as tfdocs\n",
        "import tensorflow_docs.plots\n",
        "import tensorflow_docs.modeling"
      ],
      "execution_count": null,
      "outputs": []
    },
    {
      "cell_type": "markdown",
      "metadata": {
        "id": "QzadtzC3Hniw",
        "colab_type": "text"
      },
      "source": [
        "# Data Collection\n"
      ]
    },
    {
      "cell_type": "code",
      "metadata": {
        "id": "7GjIgZ7kJhjo",
        "colab_type": "code",
        "colab": {
          "base_uri": "https://localhost:8080/",
          "height": 309
        },
        "outputId": "3e9bc64c-234b-4a78-cbb1-26ccb6e2d899"
      },
      "source": [
        "# Importing covid_dataset using pandas. Droping null values.\n",
        "covid_dataset_data= pd.read_csv('covid.csv', na_values = \"?\", comment='\\t', skipinitialspace=True)\n",
        "covid_dataset = covid_dataset_data.copy()\n",
        "# covid_dataset = covid_dataset.dropna()\n",
        "covid_dataset.head()"
      ],
      "execution_count": null,
      "outputs": [
        {
          "output_type": "execute_result",
          "data": {
            "text/html": [
              "<div>\n",
              "<style scoped>\n",
              "    .dataframe tbody tr th:only-of-type {\n",
              "        vertical-align: middle;\n",
              "    }\n",
              "\n",
              "    .dataframe tbody tr th {\n",
              "        vertical-align: top;\n",
              "    }\n",
              "\n",
              "    .dataframe thead th {\n",
              "        text-align: right;\n",
              "    }\n",
              "</style>\n",
              "<table border=\"1\" class=\"dataframe\">\n",
              "  <thead>\n",
              "    <tr style=\"text-align: right;\">\n",
              "      <th></th>\n",
              "      <th>iso_code</th>\n",
              "      <th>continent</th>\n",
              "      <th>location</th>\n",
              "      <th>date</th>\n",
              "      <th>total_cases</th>\n",
              "      <th>new_cases</th>\n",
              "      <th>total_deaths</th>\n",
              "      <th>new_deaths</th>\n",
              "      <th>total_cases_per_million</th>\n",
              "      <th>new_cases_per_million</th>\n",
              "      <th>total_deaths_per_million</th>\n",
              "      <th>new_deaths_per_million</th>\n",
              "      <th>total_tests</th>\n",
              "      <th>new_tests</th>\n",
              "      <th>total_tests_per_thousand</th>\n",
              "      <th>new_tests_per_thousand</th>\n",
              "      <th>new_tests_smoothed</th>\n",
              "      <th>new_tests_smoothed_per_thousand</th>\n",
              "      <th>tests_units</th>\n",
              "      <th>stringency_index</th>\n",
              "      <th>population</th>\n",
              "      <th>population_density</th>\n",
              "      <th>median_age</th>\n",
              "      <th>aged_65_older</th>\n",
              "      <th>aged_70_older</th>\n",
              "      <th>gdp_per_capita</th>\n",
              "      <th>extreme_poverty</th>\n",
              "      <th>cvd_death_rate</th>\n",
              "      <th>diabetes_prevalence</th>\n",
              "      <th>female_smokers</th>\n",
              "      <th>male_smokers</th>\n",
              "      <th>handwashing_facilities</th>\n",
              "      <th>hospital_beds_per_thousand</th>\n",
              "      <th>life_expectancy</th>\n",
              "    </tr>\n",
              "  </thead>\n",
              "  <tbody>\n",
              "    <tr>\n",
              "      <th>0</th>\n",
              "      <td>AFG</td>\n",
              "      <td>Asia</td>\n",
              "      <td>Afghanistan</td>\n",
              "      <td>2019-12-31</td>\n",
              "      <td>0.0</td>\n",
              "      <td>0.0</td>\n",
              "      <td>0.0</td>\n",
              "      <td>0.0</td>\n",
              "      <td>0.0</td>\n",
              "      <td>0.0</td>\n",
              "      <td>0.0</td>\n",
              "      <td>0.0</td>\n",
              "      <td>NaN</td>\n",
              "      <td>NaN</td>\n",
              "      <td>NaN</td>\n",
              "      <td>NaN</td>\n",
              "      <td>NaN</td>\n",
              "      <td>NaN</td>\n",
              "      <td>NaN</td>\n",
              "      <td>NaN</td>\n",
              "      <td>38928341.0</td>\n",
              "      <td>54.422</td>\n",
              "      <td>18.6</td>\n",
              "      <td>2.581</td>\n",
              "      <td>1.337</td>\n",
              "      <td>1803.987</td>\n",
              "      <td>NaN</td>\n",
              "      <td>597.029</td>\n",
              "      <td>9.59</td>\n",
              "      <td>NaN</td>\n",
              "      <td>NaN</td>\n",
              "      <td>37.746</td>\n",
              "      <td>0.5</td>\n",
              "      <td>64.83</td>\n",
              "    </tr>\n",
              "    <tr>\n",
              "      <th>1</th>\n",
              "      <td>AFG</td>\n",
              "      <td>Asia</td>\n",
              "      <td>Afghanistan</td>\n",
              "      <td>2020-01-01</td>\n",
              "      <td>0.0</td>\n",
              "      <td>0.0</td>\n",
              "      <td>0.0</td>\n",
              "      <td>0.0</td>\n",
              "      <td>0.0</td>\n",
              "      <td>0.0</td>\n",
              "      <td>0.0</td>\n",
              "      <td>0.0</td>\n",
              "      <td>NaN</td>\n",
              "      <td>NaN</td>\n",
              "      <td>NaN</td>\n",
              "      <td>NaN</td>\n",
              "      <td>NaN</td>\n",
              "      <td>NaN</td>\n",
              "      <td>NaN</td>\n",
              "      <td>0.0</td>\n",
              "      <td>38928341.0</td>\n",
              "      <td>54.422</td>\n",
              "      <td>18.6</td>\n",
              "      <td>2.581</td>\n",
              "      <td>1.337</td>\n",
              "      <td>1803.987</td>\n",
              "      <td>NaN</td>\n",
              "      <td>597.029</td>\n",
              "      <td>9.59</td>\n",
              "      <td>NaN</td>\n",
              "      <td>NaN</td>\n",
              "      <td>37.746</td>\n",
              "      <td>0.5</td>\n",
              "      <td>64.83</td>\n",
              "    </tr>\n",
              "    <tr>\n",
              "      <th>2</th>\n",
              "      <td>AFG</td>\n",
              "      <td>Asia</td>\n",
              "      <td>Afghanistan</td>\n",
              "      <td>2020-01-02</td>\n",
              "      <td>0.0</td>\n",
              "      <td>0.0</td>\n",
              "      <td>0.0</td>\n",
              "      <td>0.0</td>\n",
              "      <td>0.0</td>\n",
              "      <td>0.0</td>\n",
              "      <td>0.0</td>\n",
              "      <td>0.0</td>\n",
              "      <td>NaN</td>\n",
              "      <td>NaN</td>\n",
              "      <td>NaN</td>\n",
              "      <td>NaN</td>\n",
              "      <td>NaN</td>\n",
              "      <td>NaN</td>\n",
              "      <td>NaN</td>\n",
              "      <td>0.0</td>\n",
              "      <td>38928341.0</td>\n",
              "      <td>54.422</td>\n",
              "      <td>18.6</td>\n",
              "      <td>2.581</td>\n",
              "      <td>1.337</td>\n",
              "      <td>1803.987</td>\n",
              "      <td>NaN</td>\n",
              "      <td>597.029</td>\n",
              "      <td>9.59</td>\n",
              "      <td>NaN</td>\n",
              "      <td>NaN</td>\n",
              "      <td>37.746</td>\n",
              "      <td>0.5</td>\n",
              "      <td>64.83</td>\n",
              "    </tr>\n",
              "    <tr>\n",
              "      <th>3</th>\n",
              "      <td>AFG</td>\n",
              "      <td>Asia</td>\n",
              "      <td>Afghanistan</td>\n",
              "      <td>2020-01-03</td>\n",
              "      <td>0.0</td>\n",
              "      <td>0.0</td>\n",
              "      <td>0.0</td>\n",
              "      <td>0.0</td>\n",
              "      <td>0.0</td>\n",
              "      <td>0.0</td>\n",
              "      <td>0.0</td>\n",
              "      <td>0.0</td>\n",
              "      <td>NaN</td>\n",
              "      <td>NaN</td>\n",
              "      <td>NaN</td>\n",
              "      <td>NaN</td>\n",
              "      <td>NaN</td>\n",
              "      <td>NaN</td>\n",
              "      <td>NaN</td>\n",
              "      <td>0.0</td>\n",
              "      <td>38928341.0</td>\n",
              "      <td>54.422</td>\n",
              "      <td>18.6</td>\n",
              "      <td>2.581</td>\n",
              "      <td>1.337</td>\n",
              "      <td>1803.987</td>\n",
              "      <td>NaN</td>\n",
              "      <td>597.029</td>\n",
              "      <td>9.59</td>\n",
              "      <td>NaN</td>\n",
              "      <td>NaN</td>\n",
              "      <td>37.746</td>\n",
              "      <td>0.5</td>\n",
              "      <td>64.83</td>\n",
              "    </tr>\n",
              "    <tr>\n",
              "      <th>4</th>\n",
              "      <td>AFG</td>\n",
              "      <td>Asia</td>\n",
              "      <td>Afghanistan</td>\n",
              "      <td>2020-01-04</td>\n",
              "      <td>0.0</td>\n",
              "      <td>0.0</td>\n",
              "      <td>0.0</td>\n",
              "      <td>0.0</td>\n",
              "      <td>0.0</td>\n",
              "      <td>0.0</td>\n",
              "      <td>0.0</td>\n",
              "      <td>0.0</td>\n",
              "      <td>NaN</td>\n",
              "      <td>NaN</td>\n",
              "      <td>NaN</td>\n",
              "      <td>NaN</td>\n",
              "      <td>NaN</td>\n",
              "      <td>NaN</td>\n",
              "      <td>NaN</td>\n",
              "      <td>0.0</td>\n",
              "      <td>38928341.0</td>\n",
              "      <td>54.422</td>\n",
              "      <td>18.6</td>\n",
              "      <td>2.581</td>\n",
              "      <td>1.337</td>\n",
              "      <td>1803.987</td>\n",
              "      <td>NaN</td>\n",
              "      <td>597.029</td>\n",
              "      <td>9.59</td>\n",
              "      <td>NaN</td>\n",
              "      <td>NaN</td>\n",
              "      <td>37.746</td>\n",
              "      <td>0.5</td>\n",
              "      <td>64.83</td>\n",
              "    </tr>\n",
              "  </tbody>\n",
              "</table>\n",
              "</div>"
            ],
            "text/plain": [
              "  iso_code continent  ... hospital_beds_per_thousand life_expectancy\n",
              "0      AFG      Asia  ...                        0.5           64.83\n",
              "1      AFG      Asia  ...                        0.5           64.83\n",
              "2      AFG      Asia  ...                        0.5           64.83\n",
              "3      AFG      Asia  ...                        0.5           64.83\n",
              "4      AFG      Asia  ...                        0.5           64.83\n",
              "\n",
              "[5 rows x 34 columns]"
            ]
          },
          "metadata": {
            "tags": []
          },
          "execution_count": 189
        }
      ]
    },
    {
      "cell_type": "code",
      "metadata": {
        "id": "aYBFYnKtiIkQ",
        "colab_type": "code",
        "colab": {
          "base_uri": "https://localhost:8080/",
          "height": 204
        },
        "outputId": "6ad3ac16-a040-434c-f3e2-4cc25c0f5de5"
      },
      "source": [
        "# Trying to isolate location/country based on currency in question\n",
        "# We are looking at pound and sterling therefore need to isolate 'United Kingdom' & 'United States' in location column\n",
        "# Problem: Informaiton prints up until 'Trinidad and Tobago' for some reason – can print 'Togo'. Therefore cannot print United Kingdom or United States\n",
        "us_death_rates = covid_dataset.loc[covid_dataset.location=='United States', ['location', 'date', 'total_deaths', 'total_cases', 'cvd_death_rate']]\n",
        "us_death_rates.head()"
      ],
      "execution_count": null,
      "outputs": [
        {
          "output_type": "execute_result",
          "data": {
            "text/html": [
              "<div>\n",
              "<style scoped>\n",
              "    .dataframe tbody tr th:only-of-type {\n",
              "        vertical-align: middle;\n",
              "    }\n",
              "\n",
              "    .dataframe tbody tr th {\n",
              "        vertical-align: top;\n",
              "    }\n",
              "\n",
              "    .dataframe thead th {\n",
              "        text-align: right;\n",
              "    }\n",
              "</style>\n",
              "<table border=\"1\" class=\"dataframe\">\n",
              "  <thead>\n",
              "    <tr style=\"text-align: right;\">\n",
              "      <th></th>\n",
              "      <th>location</th>\n",
              "      <th>date</th>\n",
              "      <th>total_deaths</th>\n",
              "      <th>total_cases</th>\n",
              "      <th>cvd_death_rate</th>\n",
              "    </tr>\n",
              "  </thead>\n",
              "  <tbody>\n",
              "    <tr>\n",
              "      <th>26490</th>\n",
              "      <td>United States</td>\n",
              "      <td>2019-12-31</td>\n",
              "      <td>0.0</td>\n",
              "      <td>0.0</td>\n",
              "      <td>151.089</td>\n",
              "    </tr>\n",
              "    <tr>\n",
              "      <th>26491</th>\n",
              "      <td>United States</td>\n",
              "      <td>2020-01-01</td>\n",
              "      <td>0.0</td>\n",
              "      <td>0.0</td>\n",
              "      <td>151.089</td>\n",
              "    </tr>\n",
              "    <tr>\n",
              "      <th>26492</th>\n",
              "      <td>United States</td>\n",
              "      <td>2020-01-02</td>\n",
              "      <td>0.0</td>\n",
              "      <td>0.0</td>\n",
              "      <td>151.089</td>\n",
              "    </tr>\n",
              "    <tr>\n",
              "      <th>26493</th>\n",
              "      <td>United States</td>\n",
              "      <td>2020-01-03</td>\n",
              "      <td>0.0</td>\n",
              "      <td>0.0</td>\n",
              "      <td>151.089</td>\n",
              "    </tr>\n",
              "    <tr>\n",
              "      <th>26494</th>\n",
              "      <td>United States</td>\n",
              "      <td>2020-01-04</td>\n",
              "      <td>0.0</td>\n",
              "      <td>0.0</td>\n",
              "      <td>151.089</td>\n",
              "    </tr>\n",
              "  </tbody>\n",
              "</table>\n",
              "</div>"
            ],
            "text/plain": [
              "            location        date  total_deaths  total_cases  cvd_death_rate\n",
              "26490  United States  2019-12-31           0.0          0.0         151.089\n",
              "26491  United States  2020-01-01           0.0          0.0         151.089\n",
              "26492  United States  2020-01-02           0.0          0.0         151.089\n",
              "26493  United States  2020-01-03           0.0          0.0         151.089\n",
              "26494  United States  2020-01-04           0.0          0.0         151.089"
            ]
          },
          "metadata": {
            "tags": []
          },
          "execution_count": 190
        }
      ]
    },
    {
      "cell_type": "code",
      "metadata": {
        "id": "285DiboRj7MW",
        "colab_type": "code",
        "colab": {}
      },
      "source": [
        "# us_death_rates = covid_dataset.loc[covid_dataset.location=='Zimbabwe', ['location', 'date', 'total_deaths','total_cases','cvd_death_rate']]\n",
        "# us_death_rates.head()"
      ],
      "execution_count": null,
      "outputs": []
    },
    {
      "cell_type": "code",
      "metadata": {
        "id": "F3wvK4d2kvti",
        "colab_type": "code",
        "colab": {
          "base_uri": "https://localhost:8080/",
          "height": 35
        },
        "outputId": "3da8339b-f4d9-4d3f-ec08-241351db152e"
      },
      "source": [
        "us_death_rates.shape"
      ],
      "execution_count": null,
      "outputs": [
        {
          "output_type": "execute_result",
          "data": {
            "text/plain": [
              "(187, 5)"
            ]
          },
          "metadata": {
            "tags": []
          },
          "execution_count": 192
        }
      ]
    },
    {
      "cell_type": "code",
      "metadata": {
        "id": "kIDXEXFDf4N5",
        "colab_type": "code",
        "colab": {}
      },
      "source": [
        "# Import forex\n",
        "forex_dataset_data= pd.read_csv('GBP_USD.csv', na_values = \"?\", comment='\\t', skipinitialspace=True)\n",
        "forex_dataset = forex_dataset_data.copy()\n",
        "# forex_dataset = forex_dataset_data.dropna()\n"
      ],
      "execution_count": null,
      "outputs": []
    },
    {
      "cell_type": "markdown",
      "metadata": {
        "id": "C53hVpItH0az",
        "colab_type": "text"
      },
      "source": [
        "# Data Preprocessing / Data Cleaning & Collating"
      ]
    },
    {
      "cell_type": "code",
      "metadata": {
        "id": "jIpYbWz2HxyG",
        "colab_type": "code",
        "colab": {
          "base_uri": "https://localhost:8080/",
          "height": 233
        },
        "outputId": "75371b9e-3f40-4ce8-994d-2271f788b93e"
      },
      "source": [
        "# Filter dataset\n",
        "forex_dataset.pop('Open')\n",
        "forex_dataset.pop('High')\n",
        "forex_dataset.pop('Low')\n",
        "forex_dataset.pop('Change %')"
      ],
      "execution_count": null,
      "outputs": [
        {
          "output_type": "execute_result",
          "data": {
            "text/plain": [
              "0       0.12%\n",
              "1      -0.05%\n",
              "2       0.59%\n",
              "3       0.83%\n",
              "4      -0.30%\n",
              "        ...  \n",
              "150    -0.15%\n",
              "151     0.40%\n",
              "152     0.85%\n",
              "153     0.44%\n",
              "154     0.02%\n",
              "Name: Change %, Length: 155, dtype: object"
            ]
          },
          "metadata": {
            "tags": []
          },
          "execution_count": 194
        }
      ]
    },
    {
      "cell_type": "code",
      "metadata": {
        "id": "oSzzjHJxi5D4",
        "colab_type": "code",
        "colab": {
          "base_uri": "https://localhost:8080/",
          "height": 204
        },
        "outputId": "ee8c8a33-65ee-4419-e780-e817e0b0c4ee"
      },
      "source": [
        "forex_dataset.tail()"
      ],
      "execution_count": null,
      "outputs": [
        {
          "output_type": "execute_result",
          "data": {
            "text/html": [
              "<div>\n",
              "<style scoped>\n",
              "    .dataframe tbody tr th:only-of-type {\n",
              "        vertical-align: middle;\n",
              "    }\n",
              "\n",
              "    .dataframe tbody tr th {\n",
              "        vertical-align: top;\n",
              "    }\n",
              "\n",
              "    .dataframe thead th {\n",
              "        text-align: right;\n",
              "    }\n",
              "</style>\n",
              "<table border=\"1\" class=\"dataframe\">\n",
              "  <thead>\n",
              "    <tr style=\"text-align: right;\">\n",
              "      <th></th>\n",
              "      <th>Date</th>\n",
              "      <th>Price</th>\n",
              "    </tr>\n",
              "  </thead>\n",
              "  <tbody>\n",
              "    <tr>\n",
              "      <th>150</th>\n",
              "      <td>Dec 06, 2019</td>\n",
              "      <td>1.3137</td>\n",
              "    </tr>\n",
              "    <tr>\n",
              "      <th>151</th>\n",
              "      <td>Dec 05, 2019</td>\n",
              "      <td>1.3157</td>\n",
              "    </tr>\n",
              "    <tr>\n",
              "      <th>152</th>\n",
              "      <td>Dec 04, 2019</td>\n",
              "      <td>1.3104</td>\n",
              "    </tr>\n",
              "    <tr>\n",
              "      <th>153</th>\n",
              "      <td>Dec 03, 2019</td>\n",
              "      <td>1.2994</td>\n",
              "    </tr>\n",
              "    <tr>\n",
              "      <th>154</th>\n",
              "      <td>Dec 02, 2019</td>\n",
              "      <td>1.2937</td>\n",
              "    </tr>\n",
              "  </tbody>\n",
              "</table>\n",
              "</div>"
            ],
            "text/plain": [
              "             Date   Price\n",
              "150  Dec 06, 2019  1.3137\n",
              "151  Dec 05, 2019  1.3157\n",
              "152  Dec 04, 2019  1.3104\n",
              "153  Dec 03, 2019  1.2994\n",
              "154  Dec 02, 2019  1.2937"
            ]
          },
          "metadata": {
            "tags": []
          },
          "execution_count": 195
        }
      ]
    },
    {
      "cell_type": "code",
      "metadata": {
        "id": "vrVetfeGgSm7",
        "colab_type": "code",
        "colab": {
          "base_uri": "https://localhost:8080/",
          "height": 204
        },
        "outputId": "0c563f7f-20ab-495f-c78c-7c7a068c9a97"
      },
      "source": [
        "# Isolate covid_date\n",
        "import time \n",
        "us_date = us_death_rates['date']\n",
        "new_us_dates = [time.strptime(x.replace(\"-\",\" \"), '%Y %m %d')for x in us_date]\n",
        "us_death_rates['date'] = new_us_dates\n",
        "us_death_rates.head()\n"
      ],
      "execution_count": null,
      "outputs": [
        {
          "output_type": "execute_result",
          "data": {
            "text/html": [
              "<div>\n",
              "<style scoped>\n",
              "    .dataframe tbody tr th:only-of-type {\n",
              "        vertical-align: middle;\n",
              "    }\n",
              "\n",
              "    .dataframe tbody tr th {\n",
              "        vertical-align: top;\n",
              "    }\n",
              "\n",
              "    .dataframe thead th {\n",
              "        text-align: right;\n",
              "    }\n",
              "</style>\n",
              "<table border=\"1\" class=\"dataframe\">\n",
              "  <thead>\n",
              "    <tr style=\"text-align: right;\">\n",
              "      <th></th>\n",
              "      <th>location</th>\n",
              "      <th>date</th>\n",
              "      <th>total_deaths</th>\n",
              "      <th>total_cases</th>\n",
              "      <th>cvd_death_rate</th>\n",
              "    </tr>\n",
              "  </thead>\n",
              "  <tbody>\n",
              "    <tr>\n",
              "      <th>26490</th>\n",
              "      <td>United States</td>\n",
              "      <td>(2019, 12, 31, 0, 0, 0, 1, 365, -1)</td>\n",
              "      <td>0.0</td>\n",
              "      <td>0.0</td>\n",
              "      <td>151.089</td>\n",
              "    </tr>\n",
              "    <tr>\n",
              "      <th>26491</th>\n",
              "      <td>United States</td>\n",
              "      <td>(2020, 1, 1, 0, 0, 0, 2, 1, -1)</td>\n",
              "      <td>0.0</td>\n",
              "      <td>0.0</td>\n",
              "      <td>151.089</td>\n",
              "    </tr>\n",
              "    <tr>\n",
              "      <th>26492</th>\n",
              "      <td>United States</td>\n",
              "      <td>(2020, 1, 2, 0, 0, 0, 3, 2, -1)</td>\n",
              "      <td>0.0</td>\n",
              "      <td>0.0</td>\n",
              "      <td>151.089</td>\n",
              "    </tr>\n",
              "    <tr>\n",
              "      <th>26493</th>\n",
              "      <td>United States</td>\n",
              "      <td>(2020, 1, 3, 0, 0, 0, 4, 3, -1)</td>\n",
              "      <td>0.0</td>\n",
              "      <td>0.0</td>\n",
              "      <td>151.089</td>\n",
              "    </tr>\n",
              "    <tr>\n",
              "      <th>26494</th>\n",
              "      <td>United States</td>\n",
              "      <td>(2020, 1, 4, 0, 0, 0, 5, 4, -1)</td>\n",
              "      <td>0.0</td>\n",
              "      <td>0.0</td>\n",
              "      <td>151.089</td>\n",
              "    </tr>\n",
              "  </tbody>\n",
              "</table>\n",
              "</div>"
            ],
            "text/plain": [
              "            location  ... cvd_death_rate\n",
              "26490  United States  ...        151.089\n",
              "26491  United States  ...        151.089\n",
              "26492  United States  ...        151.089\n",
              "26493  United States  ...        151.089\n",
              "26494  United States  ...        151.089\n",
              "\n",
              "[5 rows x 5 columns]"
            ]
          },
          "metadata": {
            "tags": []
          },
          "execution_count": 196
        }
      ]
    },
    {
      "cell_type": "code",
      "metadata": {
        "id": "IGR0p0YWh9jH",
        "colab_type": "code",
        "colab": {
          "base_uri": "https://localhost:8080/",
          "height": 204
        },
        "outputId": "8f6be334-2c3a-4e0a-9ca1-caba9a294eae"
      },
      "source": [
        "# Isolate forex_date\n",
        "import time \n",
        "forex_date = forex_dataset['Date']\n",
        "new_forex_dates = [time.strptime(x.replace(',', \"\"), '%b %d %Y')for x in forex_date]\n",
        "forex_dataset['Date'] = new_forex_dates\n",
        "forex_dataset.tail()\n"
      ],
      "execution_count": null,
      "outputs": [
        {
          "output_type": "execute_result",
          "data": {
            "text/html": [
              "<div>\n",
              "<style scoped>\n",
              "    .dataframe tbody tr th:only-of-type {\n",
              "        vertical-align: middle;\n",
              "    }\n",
              "\n",
              "    .dataframe tbody tr th {\n",
              "        vertical-align: top;\n",
              "    }\n",
              "\n",
              "    .dataframe thead th {\n",
              "        text-align: right;\n",
              "    }\n",
              "</style>\n",
              "<table border=\"1\" class=\"dataframe\">\n",
              "  <thead>\n",
              "    <tr style=\"text-align: right;\">\n",
              "      <th></th>\n",
              "      <th>Date</th>\n",
              "      <th>Price</th>\n",
              "    </tr>\n",
              "  </thead>\n",
              "  <tbody>\n",
              "    <tr>\n",
              "      <th>150</th>\n",
              "      <td>(2019, 12, 6, 0, 0, 0, 4, 340, -1)</td>\n",
              "      <td>1.3137</td>\n",
              "    </tr>\n",
              "    <tr>\n",
              "      <th>151</th>\n",
              "      <td>(2019, 12, 5, 0, 0, 0, 3, 339, -1)</td>\n",
              "      <td>1.3157</td>\n",
              "    </tr>\n",
              "    <tr>\n",
              "      <th>152</th>\n",
              "      <td>(2019, 12, 4, 0, 0, 0, 2, 338, -1)</td>\n",
              "      <td>1.3104</td>\n",
              "    </tr>\n",
              "    <tr>\n",
              "      <th>153</th>\n",
              "      <td>(2019, 12, 3, 0, 0, 0, 1, 337, -1)</td>\n",
              "      <td>1.2994</td>\n",
              "    </tr>\n",
              "    <tr>\n",
              "      <th>154</th>\n",
              "      <td>(2019, 12, 2, 0, 0, 0, 0, 336, -1)</td>\n",
              "      <td>1.2937</td>\n",
              "    </tr>\n",
              "  </tbody>\n",
              "</table>\n",
              "</div>"
            ],
            "text/plain": [
              "                                   Date   Price\n",
              "150  (2019, 12, 6, 0, 0, 0, 4, 340, -1)  1.3137\n",
              "151  (2019, 12, 5, 0, 0, 0, 3, 339, -1)  1.3157\n",
              "152  (2019, 12, 4, 0, 0, 0, 2, 338, -1)  1.3104\n",
              "153  (2019, 12, 3, 0, 0, 0, 1, 337, -1)  1.2994\n",
              "154  (2019, 12, 2, 0, 0, 0, 0, 336, -1)  1.2937"
            ]
          },
          "metadata": {
            "tags": []
          },
          "execution_count": 197
        }
      ]
    },
    {
      "cell_type": "code",
      "metadata": {
        "id": "7b16glGjiCLz",
        "colab_type": "code",
        "colab": {
          "base_uri": "https://localhost:8080/",
          "height": 35
        },
        "outputId": "8dfd24d1-5739-4cc8-8247-8a9494c45ed4"
      },
      "source": [
        "print(len(forex_dataset))"
      ],
      "execution_count": null,
      "outputs": [
        {
          "output_type": "stream",
          "text": [
            "155\n"
          ],
          "name": "stdout"
        }
      ]
    },
    {
      "cell_type": "code",
      "metadata": {
        "id": "OiFVDAF0ngrx",
        "colab_type": "code",
        "colab": {
          "base_uri": "https://localhost:8080/",
          "height": 35
        },
        "outputId": "392e5846-281b-4e32-a718-36aa0fc92e19"
      },
      "source": [
        "# Merging dates from two tables\n",
        "dataset = pd.merge(left=forex_dataset, left_on='Date',\n",
        "         right=us_death_rates, right_on='date')\n",
        "dataset.tail()\n",
        "len(dataset)\n"
      ],
      "execution_count": null,
      "outputs": [
        {
          "output_type": "execute_result",
          "data": {
            "text/plain": [
              "134"
            ]
          },
          "metadata": {
            "tags": []
          },
          "execution_count": 199
        }
      ]
    },
    {
      "cell_type": "code",
      "metadata": {
        "id": "a9A_G1s9ETvi",
        "colab_type": "code",
        "colab": {
          "base_uri": "https://localhost:8080/",
          "height": 233
        },
        "outputId": "97e96524-6cef-481a-ea20-6af18043ea42"
      },
      "source": [
        "# We pop the 'date' from the covid_dataset because this column starts later than the forex column\n",
        "# We want to see the forex price before covid happened\n",
        "dataset.pop('date')"
      ],
      "execution_count": null,
      "outputs": [
        {
          "output_type": "execute_result",
          "data": {
            "text/plain": [
              "0        (2020, 7, 3, 0, 0, 0, 4, 185, -1)\n",
              "1        (2020, 7, 2, 0, 0, 0, 3, 184, -1)\n",
              "2        (2020, 7, 1, 0, 0, 0, 2, 183, -1)\n",
              "3       (2020, 6, 30, 0, 0, 0, 1, 182, -1)\n",
              "4       (2020, 6, 29, 0, 0, 0, 0, 181, -1)\n",
              "                      ...                 \n",
              "129        (2020, 1, 6, 0, 0, 0, 0, 6, -1)\n",
              "130        (2020, 1, 3, 0, 0, 0, 4, 3, -1)\n",
              "131        (2020, 1, 2, 0, 0, 0, 3, 2, -1)\n",
              "132        (2020, 1, 1, 0, 0, 0, 2, 1, -1)\n",
              "133    (2019, 12, 31, 0, 0, 0, 1, 365, -1)\n",
              "Name: date, Length: 134, dtype: object"
            ]
          },
          "metadata": {
            "tags": []
          },
          "execution_count": 200
        }
      ]
    },
    {
      "cell_type": "code",
      "metadata": {
        "id": "Rz0-4V24EY65",
        "colab_type": "code",
        "colab": {
          "base_uri": "https://localhost:8080/",
          "height": 204
        },
        "outputId": "8bb1d974-4176-4ee8-c473-8f69fe010155"
      },
      "source": [
        "# Problem: This still starts at 2019,12,13 when we want 2019,12,02\n",
        "# However this does not affect our data graph for some reason - scroll down\n",
        "dataset.tail()"
      ],
      "execution_count": null,
      "outputs": [
        {
          "output_type": "execute_result",
          "data": {
            "text/html": [
              "<div>\n",
              "<style scoped>\n",
              "    .dataframe tbody tr th:only-of-type {\n",
              "        vertical-align: middle;\n",
              "    }\n",
              "\n",
              "    .dataframe tbody tr th {\n",
              "        vertical-align: top;\n",
              "    }\n",
              "\n",
              "    .dataframe thead th {\n",
              "        text-align: right;\n",
              "    }\n",
              "</style>\n",
              "<table border=\"1\" class=\"dataframe\">\n",
              "  <thead>\n",
              "    <tr style=\"text-align: right;\">\n",
              "      <th></th>\n",
              "      <th>Date</th>\n",
              "      <th>Price</th>\n",
              "      <th>location</th>\n",
              "      <th>total_deaths</th>\n",
              "      <th>total_cases</th>\n",
              "      <th>cvd_death_rate</th>\n",
              "    </tr>\n",
              "  </thead>\n",
              "  <tbody>\n",
              "    <tr>\n",
              "      <th>129</th>\n",
              "      <td>(2020, 1, 6, 0, 0, 0, 0, 6, -1)</td>\n",
              "      <td>1.3169</td>\n",
              "      <td>United States</td>\n",
              "      <td>0.0</td>\n",
              "      <td>0.0</td>\n",
              "      <td>151.089</td>\n",
              "    </tr>\n",
              "    <tr>\n",
              "      <th>130</th>\n",
              "      <td>(2020, 1, 3, 0, 0, 0, 4, 3, -1)</td>\n",
              "      <td>1.3088</td>\n",
              "      <td>United States</td>\n",
              "      <td>0.0</td>\n",
              "      <td>0.0</td>\n",
              "      <td>151.089</td>\n",
              "    </tr>\n",
              "    <tr>\n",
              "      <th>131</th>\n",
              "      <td>(2020, 1, 2, 0, 0, 0, 3, 2, -1)</td>\n",
              "      <td>1.3146</td>\n",
              "      <td>United States</td>\n",
              "      <td>0.0</td>\n",
              "      <td>0.0</td>\n",
              "      <td>151.089</td>\n",
              "    </tr>\n",
              "    <tr>\n",
              "      <th>132</th>\n",
              "      <td>(2020, 1, 1, 0, 0, 0, 2, 1, -1)</td>\n",
              "      <td>1.3255</td>\n",
              "      <td>United States</td>\n",
              "      <td>0.0</td>\n",
              "      <td>0.0</td>\n",
              "      <td>151.089</td>\n",
              "    </tr>\n",
              "    <tr>\n",
              "      <th>133</th>\n",
              "      <td>(2019, 12, 31, 0, 0, 0, 1, 365, -1)</td>\n",
              "      <td>1.3261</td>\n",
              "      <td>United States</td>\n",
              "      <td>0.0</td>\n",
              "      <td>0.0</td>\n",
              "      <td>151.089</td>\n",
              "    </tr>\n",
              "  </tbody>\n",
              "</table>\n",
              "</div>"
            ],
            "text/plain": [
              "                                    Date   Price  ... total_cases  cvd_death_rate\n",
              "129      (2020, 1, 6, 0, 0, 0, 0, 6, -1)  1.3169  ...         0.0         151.089\n",
              "130      (2020, 1, 3, 0, 0, 0, 4, 3, -1)  1.3088  ...         0.0         151.089\n",
              "131      (2020, 1, 2, 0, 0, 0, 3, 2, -1)  1.3146  ...         0.0         151.089\n",
              "132      (2020, 1, 1, 0, 0, 0, 2, 1, -1)  1.3255  ...         0.0         151.089\n",
              "133  (2019, 12, 31, 0, 0, 0, 1, 365, -1)  1.3261  ...         0.0         151.089\n",
              "\n",
              "[5 rows x 6 columns]"
            ]
          },
          "metadata": {
            "tags": []
          },
          "execution_count": 201
        }
      ]
    },
    {
      "cell_type": "code",
      "metadata": {
        "id": "AKPMw6jUypAN",
        "colab_type": "code",
        "colab": {
          "base_uri": "https://localhost:8080/",
          "height": 233
        },
        "outputId": "3a453970-3c89-4f87-e595-229a1294e7e3"
      },
      "source": [
        "# Object means string\n",
        "dataset['total_deaths']"
      ],
      "execution_count": null,
      "outputs": [
        {
          "output_type": "execute_result",
          "data": {
            "text/plain": [
              "0      128740.0\n",
              "1      128062.0\n",
              "2      127410.0\n",
              "3      126140.0\n",
              "4      125804.0\n",
              "         ...   \n",
              "129         0.0\n",
              "130         0.0\n",
              "131         0.0\n",
              "132         0.0\n",
              "133         0.0\n",
              "Name: total_deaths, Length: 134, dtype: float64"
            ]
          },
          "metadata": {
            "tags": []
          },
          "execution_count": 202
        }
      ]
    },
    {
      "cell_type": "code",
      "metadata": {
        "id": "I9kHcA_4tAqL",
        "colab_type": "code",
        "colab": {
          "base_uri": "https://localhost:8080/",
          "height": 35
        },
        "outputId": "cad576f8-a8cd-4857-a87a-2b241531d73f"
      },
      "source": [
        "# View what date looks like\n",
        "date = dataset['Date']\n",
        "date.head()\n",
        "len(date)"
      ],
      "execution_count": null,
      "outputs": [
        {
          "output_type": "execute_result",
          "data": {
            "text/plain": [
              "134"
            ]
          },
          "metadata": {
            "tags": []
          },
          "execution_count": 203
        }
      ]
    },
    {
      "cell_type": "code",
      "metadata": {
        "id": "0Nxcgc_K3ZDm",
        "colab_type": "code",
        "colab": {
          "base_uri": "https://localhost:8080/",
          "height": 269
        },
        "outputId": "e35faf67-0f01-4672-cab4-6b4ea518ff83"
      },
      "source": [
        "# Splitting timestamp and isolating the date\n",
        "dateFormatting = pd.DataFrame({'new_date': pd.date_range('2019-12-31', periods=len(date))})\n",
        "# dateFormatting['new_date'] = [d.date() for d in dateFormatting['my_timestamp']]\n",
        "# dateFormatting['new_time'] = [d.time() for d in dateFormatting['my_timestamp']]\n",
        "print(dateFormatting)\n"
      ],
      "execution_count": null,
      "outputs": [
        {
          "output_type": "stream",
          "text": [
            "      new_date\n",
            "0   2019-12-31\n",
            "1   2020-01-01\n",
            "2   2020-01-02\n",
            "3   2020-01-03\n",
            "4   2020-01-04\n",
            "..         ...\n",
            "129 2020-05-08\n",
            "130 2020-05-09\n",
            "131 2020-05-10\n",
            "132 2020-05-11\n",
            "133 2020-05-12\n",
            "\n",
            "[134 rows x 1 columns]\n"
          ],
          "name": "stdout"
        }
      ]
    },
    {
      "cell_type": "code",
      "metadata": {
        "id": "Tav3LALn4KN2",
        "colab_type": "code",
        "colab": {
          "base_uri": "https://localhost:8080/",
          "height": 55
        },
        "outputId": "0dea9088-e7f1-47f9-f798-6aae913c8a98"
      },
      "source": [
        "# Convert date to list so that we can use the dates to plot on graph\n",
        "my_xticks = dateFormatting['new_date'].tolist()\n",
        "print(my_xticks)"
      ],
      "execution_count": null,
      "outputs": [
        {
          "output_type": "stream",
          "text": [
            "[Timestamp('2019-12-31 00:00:00'), Timestamp('2020-01-01 00:00:00'), Timestamp('2020-01-02 00:00:00'), Timestamp('2020-01-03 00:00:00'), Timestamp('2020-01-04 00:00:00'), Timestamp('2020-01-05 00:00:00'), Timestamp('2020-01-06 00:00:00'), Timestamp('2020-01-07 00:00:00'), Timestamp('2020-01-08 00:00:00'), Timestamp('2020-01-09 00:00:00'), Timestamp('2020-01-10 00:00:00'), Timestamp('2020-01-11 00:00:00'), Timestamp('2020-01-12 00:00:00'), Timestamp('2020-01-13 00:00:00'), Timestamp('2020-01-14 00:00:00'), Timestamp('2020-01-15 00:00:00'), Timestamp('2020-01-16 00:00:00'), Timestamp('2020-01-17 00:00:00'), Timestamp('2020-01-18 00:00:00'), Timestamp('2020-01-19 00:00:00'), Timestamp('2020-01-20 00:00:00'), Timestamp('2020-01-21 00:00:00'), Timestamp('2020-01-22 00:00:00'), Timestamp('2020-01-23 00:00:00'), Timestamp('2020-01-24 00:00:00'), Timestamp('2020-01-25 00:00:00'), Timestamp('2020-01-26 00:00:00'), Timestamp('2020-01-27 00:00:00'), Timestamp('2020-01-28 00:00:00'), Timestamp('2020-01-29 00:00:00'), Timestamp('2020-01-30 00:00:00'), Timestamp('2020-01-31 00:00:00'), Timestamp('2020-02-01 00:00:00'), Timestamp('2020-02-02 00:00:00'), Timestamp('2020-02-03 00:00:00'), Timestamp('2020-02-04 00:00:00'), Timestamp('2020-02-05 00:00:00'), Timestamp('2020-02-06 00:00:00'), Timestamp('2020-02-07 00:00:00'), Timestamp('2020-02-08 00:00:00'), Timestamp('2020-02-09 00:00:00'), Timestamp('2020-02-10 00:00:00'), Timestamp('2020-02-11 00:00:00'), Timestamp('2020-02-12 00:00:00'), Timestamp('2020-02-13 00:00:00'), Timestamp('2020-02-14 00:00:00'), Timestamp('2020-02-15 00:00:00'), Timestamp('2020-02-16 00:00:00'), Timestamp('2020-02-17 00:00:00'), Timestamp('2020-02-18 00:00:00'), Timestamp('2020-02-19 00:00:00'), Timestamp('2020-02-20 00:00:00'), Timestamp('2020-02-21 00:00:00'), Timestamp('2020-02-22 00:00:00'), Timestamp('2020-02-23 00:00:00'), Timestamp('2020-02-24 00:00:00'), Timestamp('2020-02-25 00:00:00'), Timestamp('2020-02-26 00:00:00'), Timestamp('2020-02-27 00:00:00'), Timestamp('2020-02-28 00:00:00'), Timestamp('2020-02-29 00:00:00'), Timestamp('2020-03-01 00:00:00'), Timestamp('2020-03-02 00:00:00'), Timestamp('2020-03-03 00:00:00'), Timestamp('2020-03-04 00:00:00'), Timestamp('2020-03-05 00:00:00'), Timestamp('2020-03-06 00:00:00'), Timestamp('2020-03-07 00:00:00'), Timestamp('2020-03-08 00:00:00'), Timestamp('2020-03-09 00:00:00'), Timestamp('2020-03-10 00:00:00'), Timestamp('2020-03-11 00:00:00'), Timestamp('2020-03-12 00:00:00'), Timestamp('2020-03-13 00:00:00'), Timestamp('2020-03-14 00:00:00'), Timestamp('2020-03-15 00:00:00'), Timestamp('2020-03-16 00:00:00'), Timestamp('2020-03-17 00:00:00'), Timestamp('2020-03-18 00:00:00'), Timestamp('2020-03-19 00:00:00'), Timestamp('2020-03-20 00:00:00'), Timestamp('2020-03-21 00:00:00'), Timestamp('2020-03-22 00:00:00'), Timestamp('2020-03-23 00:00:00'), Timestamp('2020-03-24 00:00:00'), Timestamp('2020-03-25 00:00:00'), Timestamp('2020-03-26 00:00:00'), Timestamp('2020-03-27 00:00:00'), Timestamp('2020-03-28 00:00:00'), Timestamp('2020-03-29 00:00:00'), Timestamp('2020-03-30 00:00:00'), Timestamp('2020-03-31 00:00:00'), Timestamp('2020-04-01 00:00:00'), Timestamp('2020-04-02 00:00:00'), Timestamp('2020-04-03 00:00:00'), Timestamp('2020-04-04 00:00:00'), Timestamp('2020-04-05 00:00:00'), Timestamp('2020-04-06 00:00:00'), Timestamp('2020-04-07 00:00:00'), Timestamp('2020-04-08 00:00:00'), Timestamp('2020-04-09 00:00:00'), Timestamp('2020-04-10 00:00:00'), Timestamp('2020-04-11 00:00:00'), Timestamp('2020-04-12 00:00:00'), Timestamp('2020-04-13 00:00:00'), Timestamp('2020-04-14 00:00:00'), Timestamp('2020-04-15 00:00:00'), Timestamp('2020-04-16 00:00:00'), Timestamp('2020-04-17 00:00:00'), Timestamp('2020-04-18 00:00:00'), Timestamp('2020-04-19 00:00:00'), Timestamp('2020-04-20 00:00:00'), Timestamp('2020-04-21 00:00:00'), Timestamp('2020-04-22 00:00:00'), Timestamp('2020-04-23 00:00:00'), Timestamp('2020-04-24 00:00:00'), Timestamp('2020-04-25 00:00:00'), Timestamp('2020-04-26 00:00:00'), Timestamp('2020-04-27 00:00:00'), Timestamp('2020-04-28 00:00:00'), Timestamp('2020-04-29 00:00:00'), Timestamp('2020-04-30 00:00:00'), Timestamp('2020-05-01 00:00:00'), Timestamp('2020-05-02 00:00:00'), Timestamp('2020-05-03 00:00:00'), Timestamp('2020-05-04 00:00:00'), Timestamp('2020-05-05 00:00:00'), Timestamp('2020-05-06 00:00:00'), Timestamp('2020-05-07 00:00:00'), Timestamp('2020-05-08 00:00:00'), Timestamp('2020-05-09 00:00:00'), Timestamp('2020-05-10 00:00:00'), Timestamp('2020-05-11 00:00:00'), Timestamp('2020-05-12 00:00:00')]\n"
          ],
          "name": "stdout"
        }
      ]
    },
    {
      "cell_type": "code",
      "metadata": {
        "id": "DeyD3C8dm1DM",
        "colab_type": "code",
        "colab": {
          "base_uri": "https://localhost:8080/",
          "height": 233
        },
        "outputId": "8174d6e7-6a0f-4628-fc76-e0e7aedb5342"
      },
      "source": [
        "dataset['Date']"
      ],
      "execution_count": null,
      "outputs": [
        {
          "output_type": "execute_result",
          "data": {
            "text/plain": [
              "0        (2020, 7, 3, 0, 0, 0, 4, 185, -1)\n",
              "1        (2020, 7, 2, 0, 0, 0, 3, 184, -1)\n",
              "2        (2020, 7, 1, 0, 0, 0, 2, 183, -1)\n",
              "3       (2020, 6, 30, 0, 0, 0, 1, 182, -1)\n",
              "4       (2020, 6, 29, 0, 0, 0, 0, 181, -1)\n",
              "                      ...                 \n",
              "129        (2020, 1, 6, 0, 0, 0, 0, 6, -1)\n",
              "130        (2020, 1, 3, 0, 0, 0, 4, 3, -1)\n",
              "131        (2020, 1, 2, 0, 0, 0, 3, 2, -1)\n",
              "132        (2020, 1, 1, 0, 0, 0, 2, 1, -1)\n",
              "133    (2019, 12, 31, 0, 0, 0, 1, 365, -1)\n",
              "Name: Date, Length: 134, dtype: object"
            ]
          },
          "metadata": {
            "tags": []
          },
          "execution_count": 206
        }
      ]
    },
    {
      "cell_type": "markdown",
      "metadata": {
        "id": "wvb8c8CBIOqM",
        "colab_type": "text"
      },
      "source": [
        "# Plotting Features before Normalisation"
      ]
    },
    {
      "cell_type": "code",
      "metadata": {
        "id": "eDGMN3GG6wOL",
        "colab_type": "code",
        "colab": {
          "base_uri": "https://localhost:8080/",
          "height": 398
        },
        "outputId": "ae985bea-4634-48a5-df2c-9e713ab540ec"
      },
      "source": [
        "# Plotted prices and dates\n",
        "# Notice how the dates start and end\n",
        "\n",
        "from datetime import datetime, timedelta\n",
        "from matplotlib import pyplot as plt\n",
        "from matplotlib import dates as mpl_dates\n",
        "plt.style.use('seaborn')\n",
        "from matplotlib import rcParams\n",
        "rcParams['figure.figsize'] = 15,6\n",
        "\n",
        "dates = np.array(dateFormatting['new_date'])\n",
        "price = np.array(dataset['Price'])\n",
        "plt.plot_date(dates,price, linestyle ='solid')\n",
        "plt.gcf().autofmt_xdate()\n",
        "date_format = mpl_dates.DateFormatter('%b,%d,%Y')\n",
        "plt.title('Time Series Price of USD compare to GBP')\n",
        "plt.xlabel('Date')\n",
        "plt.ylabel('Price')\n",
        "plt.gca().xaxis.set_major_formatter(date_format)"
      ],
      "execution_count": null,
      "outputs": [
        {
          "output_type": "display_data",
          "data": {
            "image/png": "[encoded data removed]",
            "text/plain": [
              "<Figure size 1080x432 with 1 Axes>"
            ]
          },
          "metadata": {
            "tags": []
          }
        }
      ]
    },
    {
      "cell_type": "code",
      "metadata": {
        "id": "Dqj88upVOPC9",
        "colab_type": "code",
        "colab": {
          "base_uri": "https://localhost:8080/",
          "height": 35
        },
        "outputId": "1d534053-c898-469a-c948-9566f63d752a"
      },
      "source": [
        "# print(price)\n",
        "test = np.array(dataset['total_deaths'])\n",
        "# print(test)\n",
        "price.shape\n",
        "# test.shape\n",
        "test = np.array(dataset['total_deaths'])\n",
        "list_arr = np.array(test)\n",
        "reversed_arr = list_arr[::-1]\n",
        "reversed_arr.shape\n",
        "price.shape"
      ],
      "execution_count": null,
      "outputs": [
        {
          "output_type": "execute_result",
          "data": {
            "text/plain": [
              "(134,)"
            ]
          },
          "metadata": {
            "tags": []
          },
          "execution_count": 208
        }
      ]
    },
    {
      "cell_type": "code",
      "metadata": {
        "id": "T30FJ5ONMRsa",
        "colab_type": "code",
        "colab": {}
      },
      "source": [
        "# Adds the accumulative deaths every day of a country\n",
        "# Problem – This needs to be sorted from the end since the way out data is set up - can this be made more efficient?\n",
        "total_us_deaths = dataset['total_deaths']\n",
        "list_arr = np.array(total_us_deaths)\n",
        "reversed_arr = list_arr[::-1]\n",
        "newDay = 0\n",
        "day = []\n",
        "for currentday in reversed_arr:\n",
        "   newDay = currentday + newDay\n",
        "   day.append(newDay)\n"
      ],
      "execution_count": null,
      "outputs": []
    },
    {
      "cell_type": "code",
      "metadata": {
        "id": "oivvoebSMpRV",
        "colab_type": "code",
        "colab": {
          "base_uri": "https://localhost:8080/",
          "height": 413
        },
        "outputId": "23b081f9-3aeb-4c3a-ade1-c5fdf93c180e"
      },
      "source": [
        "# Plots the accumulative daily death rates of a country\n",
        "dates = np.array(dateFormatting['new_date'])\n",
        "us_deaths = np.array(day)\n",
        "plt.plot_date(dates,us_deaths, linestyle ='solid')\n",
        "plt.gcf().autofmt_xdate()\n",
        "date_format = mpl_dates.DateFormatter('%b,%d,%Y')\n",
        "plt.title('Time Series of Total Deaths of US')\n",
        "plt.xlabel('Date')\n",
        "plt.ylabel('Total Deaths')\n"
      ],
      "execution_count": null,
      "outputs": [
        {
          "output_type": "execute_result",
          "data": {
            "text/plain": [
              "Text(0, 0.5, 'Total Deaths')"
            ]
          },
          "metadata": {
            "tags": []
          },
          "execution_count": 210
        },
        {
          "output_type": "display_data",
          "data": {
            "image/png": "[encoded data removed]",
            "text/plain": [
              "<Figure size 1080x432 with 1 Axes>"
            ]
          },
          "metadata": {
            "tags": []
          }
        }
      ]
    },
    {
      "cell_type": "code",
      "metadata": {
        "id": "1dCKLM-XSXt_",
        "colab_type": "code",
        "colab": {
          "base_uri": "https://localhost:8080/",
          "height": 35
        },
        "outputId": "bbb80f89-82ea-4f9b-c31b-2afb12d93b1c"
      },
      "source": [
        "test.shape"
      ],
      "execution_count": null,
      "outputs": [
        {
          "output_type": "execute_result",
          "data": {
            "text/plain": [
              "(134,)"
            ]
          },
          "metadata": {
            "tags": []
          },
          "execution_count": 211
        }
      ]
    },
    {
      "cell_type": "code",
      "metadata": {
        "id": "aLvrpnjESZmR",
        "colab_type": "code",
        "colab": {
          "base_uri": "https://localhost:8080/",
          "height": 35
        },
        "outputId": "7f75a24c-faab-40d2-899c-028c59105f49"
      },
      "source": [
        "price.shape"
      ],
      "execution_count": null,
      "outputs": [
        {
          "output_type": "execute_result",
          "data": {
            "text/plain": [
              "(134,)"
            ]
          },
          "metadata": {
            "tags": []
          },
          "execution_count": 212
        }
      ]
    },
    {
      "cell_type": "markdown",
      "metadata": {
        "id": "SWTJypnsv5R3",
        "colab_type": "text"
      },
      "source": [
        ""
      ]
    },
    {
      "cell_type": "code",
      "metadata": {
        "id": "v6NykB3TSJxe",
        "colab_type": "code",
        "colab": {
          "base_uri": "https://localhost:8080/",
          "height": 419
        },
        "outputId": "bb0feead-075b-45cd-be09-da64bd921ccc"
      },
      "source": [
        "price_frame = pd.DataFrame(np.concatenate([price]), columns= [\"Price\"])\n",
        "death_frame = pd.DataFrame(np.concatenate([day]), columns= [\"Total_Deaths_US\"])\n",
        "price_frame.append(death_frame)"
      ],
      "execution_count": null,
      "outputs": [
        {
          "output_type": "execute_result",
          "data": {
            "text/html": [
              "<div>\n",
              "<style scoped>\n",
              "    .dataframe tbody tr th:only-of-type {\n",
              "        vertical-align: middle;\n",
              "    }\n",
              "\n",
              "    .dataframe tbody tr th {\n",
              "        vertical-align: top;\n",
              "    }\n",
              "\n",
              "    .dataframe thead th {\n",
              "        text-align: right;\n",
              "    }\n",
              "</style>\n",
              "<table border=\"1\" class=\"dataframe\">\n",
              "  <thead>\n",
              "    <tr style=\"text-align: right;\">\n",
              "      <th></th>\n",
              "      <th>Price</th>\n",
              "      <th>Total_Deaths_US</th>\n",
              "    </tr>\n",
              "  </thead>\n",
              "  <tbody>\n",
              "    <tr>\n",
              "      <th>0</th>\n",
              "      <td>1.2482</td>\n",
              "      <td>NaN</td>\n",
              "    </tr>\n",
              "    <tr>\n",
              "      <th>1</th>\n",
              "      <td>1.2467</td>\n",
              "      <td>NaN</td>\n",
              "    </tr>\n",
              "    <tr>\n",
              "      <th>2</th>\n",
              "      <td>1.2474</td>\n",
              "      <td>NaN</td>\n",
              "    </tr>\n",
              "    <tr>\n",
              "      <th>3</th>\n",
              "      <td>1.2401</td>\n",
              "      <td>NaN</td>\n",
              "    </tr>\n",
              "    <tr>\n",
              "      <th>4</th>\n",
              "      <td>1.2299</td>\n",
              "      <td>NaN</td>\n",
              "    </tr>\n",
              "    <tr>\n",
              "      <th>...</th>\n",
              "      <td>...</td>\n",
              "      <td>...</td>\n",
              "    </tr>\n",
              "    <tr>\n",
              "      <th>129</th>\n",
              "      <td>NaN</td>\n",
              "      <td>4881974.0</td>\n",
              "    </tr>\n",
              "    <tr>\n",
              "      <th>130</th>\n",
              "      <td>NaN</td>\n",
              "      <td>5008114.0</td>\n",
              "    </tr>\n",
              "    <tr>\n",
              "      <th>131</th>\n",
              "      <td>NaN</td>\n",
              "      <td>5135524.0</td>\n",
              "    </tr>\n",
              "    <tr>\n",
              "      <th>132</th>\n",
              "      <td>NaN</td>\n",
              "      <td>5263586.0</td>\n",
              "    </tr>\n",
              "    <tr>\n",
              "      <th>133</th>\n",
              "      <td>NaN</td>\n",
              "      <td>5392326.0</td>\n",
              "    </tr>\n",
              "  </tbody>\n",
              "</table>\n",
              "<p>268 rows × 2 columns</p>\n",
              "</div>"
            ],
            "text/plain": [
              "      Price  Total_Deaths_US\n",
              "0    1.2482              NaN\n",
              "1    1.2467              NaN\n",
              "2    1.2474              NaN\n",
              "3    1.2401              NaN\n",
              "4    1.2299              NaN\n",
              "..      ...              ...\n",
              "129     NaN        4881974.0\n",
              "130     NaN        5008114.0\n",
              "131     NaN        5135524.0\n",
              "132     NaN        5263586.0\n",
              "133     NaN        5392326.0\n",
              "\n",
              "[268 rows x 2 columns]"
            ]
          },
          "metadata": {
            "tags": []
          },
          "execution_count": 213
        }
      ]
    },
    {
      "cell_type": "markdown",
      "metadata": {
        "id": "kkWFQ8HeIerS",
        "colab_type": "text"
      },
      "source": [
        "# Normalisation of Features"
      ]
    },
    {
      "cell_type": "code",
      "metadata": {
        "id": "GUr5EmIHITzq",
        "colab_type": "code",
        "colab": {}
      },
      "source": [
        "# Working Normalised method!!\n",
        "from sklearn.preprocessing import MinMaxScaler\n",
        "scaler = MinMaxScaler(feature_range=(0,1))\n",
        "# they are so small that is why\n",
        "normalisation_us_deaths = scaler.fit_transform(death_frame).reshape(-1,1)\n",
        "# loosing precision by converting to decimal but makes more readable\n",
        "# but when plotting it use normalisation_us_deaths\n",
        "normalisation_price = scaler.fit_transform(price_frame).reshape(-1,1)\n",
        "# 8 decimal: readable formate\n",
        "# val = [print(\"{:.8f}\".format(float(x)))for x in normalisation_us_deaths]\n",
        "# print(normalisation_price)\n",
        "# print(val)\n",
        "# print(normalisation_price)"
      ],
      "execution_count": null,
      "outputs": []
    },
    {
      "cell_type": "code",
      "metadata": {
        "id": "jG6Frxvpw_YL",
        "colab_type": "code",
        "colab": {
          "base_uri": "https://localhost:8080/",
          "height": 403
        },
        "outputId": "565c99ba-67f4-40a0-fec4-2bd957845b7f"
      },
      "source": [
        "# Inspect the data\n",
        "# Look at join distributions of afew pairs of collumns from the training set\n",
        "# Need to revise what this graph does\n",
        "import matplotlib.pyplot as plt\n",
        "plt.title('Time Series of Total Deaths of US & USD/GBP')\n",
        "plt.plot(normalisation_us_deaths,label=\"us_covid_death_rates\")\n",
        "plt.plot(normalisation_price, label=\"USD/GBP price\")\n",
        "plt.ylabel('Normalisation between 0 and 1')\n",
        "plt.xlabel('Date')\n",
        "plt.legend() \n",
        "plt.show()"
      ],
      "execution_count": null,
      "outputs": [
        {
          "output_type": "display_data",
          "data": {
            "image/png": "[encoded data removed]",
            "text/plain": [
              "<Figure size 1080x432 with 1 Axes>"
            ]
          },
          "metadata": {
            "tags": []
          }
        }
      ]
    },
    {
      "cell_type": "markdown",
      "metadata": {
        "id": "FrNnj6gGIkmf",
        "colab_type": "text"
      },
      "source": [
        "# Preprocessing the Data - Train, Validation & Test\n"
      ]
    },
    {
      "cell_type": "code",
      "metadata": {
        "id": "yJTAF3KWyKwR",
        "colab_type": "code",
        "colab": {
          "base_uri": "https://localhost:8080/",
          "height": 1000
        },
        "outputId": "a0f7438e-2cac-427e-b6e6-3a24ee45e05f"
      },
      "source": [
        "new_dataset = np.hstack((normalisation_us_deaths,normalisation_price))\n",
        "new_dataset"
      ],
      "execution_count": null,
      "outputs": [
        {
          "output_type": "execute_result",
          "data": {
            "text/plain": [
              "array([[0.00000000e+00, 5.60879369e-01],\n",
              "       [0.00000000e+00, 5.52423901e-01],\n",
              "       [0.00000000e+00, 5.56369786e-01],\n",
              "       [0.00000000e+00, 5.15219842e-01],\n",
              "       [0.00000000e+00, 4.57722661e-01],\n",
              "       [0.00000000e+00, 4.78015784e-01],\n",
              "       [0.00000000e+00, 5.24802706e-01],\n",
              "       [0.00000000e+00, 5.25930101e-01],\n",
              "       [0.00000000e+00, 5.82299887e-01],\n",
              "       [0.00000000e+00, 5.50169109e-01],\n",
              "       [0.00000000e+00, 4.90980834e-01],\n",
              "       [0.00000000e+00, 5.29312289e-01],\n",
              "       [0.00000000e+00, 6.03156708e-01],\n",
              "       [0.00000000e+00, 6.14430665e-01],\n",
              "       [0.00000000e+00, 6.29650507e-01],\n",
              "       [0.00000000e+00, 5.94701240e-01],\n",
              "       [0.00000000e+00, 6.28523112e-01],\n",
              "       [0.00000000e+00, 7.10259301e-01],\n",
              "       [0.00000000e+00, 7.01240135e-01],\n",
              "       [0.00000000e+00, 6.96730552e-01],\n",
              "       [0.00000000e+00, 6.64036077e-01],\n",
              "       [0.00000000e+00, 6.24577227e-01],\n",
              "       [0.00000000e+00, 6.12739572e-01],\n",
              "       [0.00000000e+00, 5.99210823e-01],\n",
              "       [0.00000000e+00, 5.67643743e-01],\n",
              "       [0.00000000e+00, 4.84216460e-01],\n",
              "       [0.00000000e+00, 4.69560316e-01],\n",
              "       [0.00000000e+00, 4.31228861e-01],\n",
              "       [0.00000000e+00, 4.76888388e-01],\n",
              "       [0.00000000e+00, 3.96279594e-01],\n",
              "       [0.00000000e+00, 3.82750846e-01],\n",
              "       [0.00000000e+00, 4.15445321e-01],\n",
              "       [0.00000000e+00, 4.25028185e-01],\n",
              "       [0.00000000e+00, 4.31792559e-01],\n",
              "       [0.00000000e+00, 3.97970688e-01],\n",
              "       [0.00000000e+00, 3.48928974e-01],\n",
              "       [0.00000000e+00, 4.17700113e-01],\n",
              "       [0.00000000e+00, 4.18827508e-01],\n",
              "       [0.00000000e+00, 4.36302142e-01],\n",
              "       [0.00000000e+00, 4.78579481e-01],\n",
              "       [0.00000000e+00, 5.19729425e-01],\n",
              "       [0.00000000e+00, 4.93799324e-01],\n",
              "       [0.00000000e+00, 4.82525366e-01],\n",
              "       [0.00000000e+00, 5.34949267e-01],\n",
              "       [3.70897457e-07, 5.39458850e-01],\n",
              "       [1.48358983e-06, 5.73280722e-01],\n",
              "       [3.15262838e-06, 6.24013529e-01],\n",
              "       [5.19256440e-06, 5.52987599e-01],\n",
              "       [7.41794914e-06, 5.28748591e-01],\n",
              "       [1.13123724e-05, 5.31003382e-01],\n",
              "       [1.61340394e-05, 4.97181511e-01],\n",
              "       [2.13266038e-05, 4.83089064e-01],\n",
              "       [2.68900656e-05, 4.77452086e-01],\n",
              "       [3.43080148e-05, 4.54904171e-01],\n",
              "       [4.71039770e-05, 5.35512965e-01],\n",
              "       [6.28671189e-05, 5.71589628e-01],\n",
              "       [8.28955816e-05, 5.46786922e-01],\n",
              "       [1.10712891e-04, 5.80045096e-01],\n",
              "       [1.38530200e-04, 6.40924464e-01],\n",
              "       [2.25876551e-04, 5.77790304e-01],\n",
              "       [3.35291301e-04, 5.45659526e-01],\n",
              "       [4.83835732e-04, 5.46786922e-01],\n",
              "       [6.78556897e-04, 5.07328072e-01],\n",
              "       [9.18898449e-04, 4.80270575e-01],\n",
              "       [1.38418931e-03, 4.18827508e-01],\n",
              "       [1.97206178e-03, 4.36865840e-01],\n",
              "       [2.72850714e-03, 5.11273957e-01],\n",
              "       [3.68134271e-03, 5.02254791e-01],\n",
              "       [4.80386386e-03, 5.25930101e-01],\n",
              "       [6.59288774e-03, 5.24802706e-01],\n",
              "       [8.63078382e-03, 5.46786922e-01],\n",
              "       [1.10221452e-02, 4.03607666e-01],\n",
              "       [1.37699390e-02, 2.25479143e-01],\n",
              "       [1.68650783e-02, 1.53325817e-01],\n",
              "       [2.09649787e-02, 3.55129651e-02],\n",
              "       [2.53506557e-02, 8.79368658e-02],\n",
              "       [3.01828932e-02, 0.00000000e+00],\n",
              "       [3.59290221e-02, 6.82074408e-02],\n",
              "       [4.21014976e-02, 3.18489290e-01],\n",
              "       [4.96459227e-02, 4.40248027e-01],\n",
              "       [5.75347262e-02, 4.45321308e-01],\n",
              "       [6.58916023e-02, 6.12175874e-01],\n",
              "       [7.45676356e-02, 7.52536640e-01],\n",
              "       [8.38332104e-02, 8.01014656e-01],\n",
              "       [9.40098948e-02, 9.27846674e-01],\n",
              "       [1.04440459e-01, 8.81059752e-01],\n",
              "       [1.15262319e-01, 8.27508455e-01],\n",
              "       [1.26568386e-01, 7.80721533e-01],\n",
              "       [1.38252769e-01, 7.46899662e-01],\n",
              "       [1.50804310e-01, 7.13077790e-01],\n",
              "       [1.63588032e-01, 7.51972943e-01],\n",
              "       [1.76769357e-01, 7.88613303e-01],\n",
              "       [1.90387043e-01, 7.99323563e-01],\n",
              "       [2.04419948e-01, 8.56257046e-01],\n",
              "       [2.19168314e-01, 8.12852311e-01],\n",
              "       [2.34131060e-01, 8.36527621e-01],\n",
              "       [2.49409624e-01, 7.85794814e-01],\n",
              "       [2.65011982e-01, 8.08342728e-01],\n",
              "       [2.80943140e-01, 8.52311161e-01],\n",
              "       [2.97552299e-01, 8.57948140e-01],\n",
              "       [3.14308148e-01, 8.79368658e-01],\n",
              "       [3.31354781e-01, 8.79368658e-01],\n",
              "       [3.48682925e-01, 8.30890643e-01],\n",
              "       [3.66245290e-01, 8.26381060e-01],\n",
              "       [3.84367340e-01, 8.04960541e-01],\n",
              "       [4.02582114e-01, 7.92559188e-01],\n",
              "       [4.20925960e-01, 8.13416009e-01],\n",
              "       [4.39552802e-01, 8.54002255e-01],\n",
              "       [4.58397545e-01, 8.70349493e-01],\n",
              "       [4.77755240e-01, 8.50056370e-01],\n",
              "       [4.97254617e-01, 9.66178129e-01],\n",
              "       [5.16945748e-01, 9.06426156e-01],\n",
              "       [5.36821216e-01, 8.64712514e-01],\n",
              "       [5.56888808e-01, 8.68658399e-01],\n",
              "       [5.77383489e-01, 8.83878241e-01],\n",
              "       [5.97969596e-01, 8.96279594e-01],\n",
              "       [6.18740966e-01, 9.22209696e-01],\n",
              "       [6.39682579e-01, 9.32919955e-01],\n",
              "       [6.60790353e-01, 8.81623450e-01],\n",
              "       [6.82252705e-01, 8.59075536e-01],\n",
              "       [7.03788310e-01, 8.58511838e-01],\n",
              "       [7.25478949e-01, 8.97406990e-01],\n",
              "       [7.47309417e-01, 8.74295378e-01],\n",
              "       [7.69272852e-01, 8.63021421e-01],\n",
              "       [7.91522063e-01, 8.47237880e-01],\n",
              "       [8.13850461e-01, 8.87260428e-01],\n",
              "       [8.36332039e-01, 8.90642616e-01],\n",
              "       [8.58952890e-01, 9.08117249e-01],\n",
              "       [8.82025679e-01, 9.23337091e-01],\n",
              "       [9.05355871e-01, 9.48139797e-01],\n",
              "       [9.28748373e-01, 9.02480271e-01],\n",
              "       [9.52376396e-01, 9.35174746e-01],\n",
              "       [9.76125331e-01, 9.96617813e-01],\n",
              "       [1.00000000e+00, 1.00000000e+00]])"
            ]
          },
          "metadata": {
            "tags": []
          },
          "execution_count": 216
        }
      ]
    },
    {
      "cell_type": "code",
      "metadata": {
        "id": "Sx35yrWb1MIz",
        "colab_type": "code",
        "colab": {
          "base_uri": "https://localhost:8080/",
          "height": 71
        },
        "outputId": "f7b6c09f-408a-46a0-fb79-1c7da26dc57e"
      },
      "source": [
        "# Test, Validation, Train \n",
        "# This should be ordered in respect to date – not cross validation or random seed\n",
        "# We are going to divide our data based on date because the next data is always dependent on the previous data\n",
        "# 65% of the total length of my datadrame\n",
        "# 35% test size/ validation\n",
        "training_size = int(len(new_dataset)*0.65)\n",
        "test_size = (len(new_dataset)-training_size)//2 # // Rounds down\n",
        "train_data, valset_data, test_data = new_dataset[0:training_size], new_dataset[training_size:(training_size + test_size)],new_dataset[(training_size + test_size):]\n",
        "print(train_data.shape)\n",
        "print(valset_data.shape)\n",
        "print(test_data.shape)"
      ],
      "execution_count": null,
      "outputs": [
        {
          "output_type": "stream",
          "text": [
            "(87, 2)\n",
            "(23, 2)\n",
            "(24, 2)\n"
          ],
          "name": "stdout"
        }
      ]
    },
    {
      "cell_type": "code",
      "metadata": {
        "id": "P1CkWzUfVwxO",
        "colab_type": "code",
        "colab": {
          "base_uri": "https://localhost:8080/",
          "height": 89
        },
        "outputId": "c85f348f-4707-4b88-b406-cef6df5fbd82"
      },
      "source": [
        "print(valset_data[:4])"
      ],
      "execution_count": null,
      "outputs": [
        {
          "output_type": "stream",
          "text": [
            "[[0.12656839 0.78072153]\n",
            " [0.13825277 0.74689966]\n",
            " [0.15080431 0.71307779]\n",
            " [0.16358803 0.75197294]]\n"
          ],
          "name": "stdout"
        }
      ]
    },
    {
      "cell_type": "code",
      "metadata": {
        "id": "ldKERrxeA1sD",
        "colab_type": "code",
        "colab": {
          "base_uri": "https://localhost:8080/",
          "height": 35
        },
        "outputId": "a810bb00-b742-41c8-de56-bdf58964c94e"
      },
      "source": [
        "training_size, test_size"
      ],
      "execution_count": null,
      "outputs": [
        {
          "output_type": "execute_result",
          "data": {
            "text/plain": [
              "(87, 23)"
            ]
          },
          "metadata": {
            "tags": []
          },
          "execution_count": 219
        }
      ]
    },
    {
      "cell_type": "code",
      "metadata": {
        "id": "llongsG7BHW7",
        "colab_type": "code",
        "colab": {
          "base_uri": "https://localhost:8080/",
          "height": 35
        },
        "outputId": "f06229bc-7840-4631-b853-36d5f014b82e"
      },
      "source": [
        "len(train_data), len(test_data)"
      ],
      "execution_count": null,
      "outputs": [
        {
          "output_type": "execute_result",
          "data": {
            "text/plain": [
              "(87, 24)"
            ]
          },
          "metadata": {
            "tags": []
          },
          "execution_count": 220
        }
      ]
    },
    {
      "cell_type": "code",
      "metadata": {
        "id": "nc0pElKOBO-4",
        "colab_type": "code",
        "colab": {}
      },
      "source": [
        "# train_data"
      ],
      "execution_count": null,
      "outputs": []
    },
    {
      "cell_type": "code",
      "metadata": {
        "id": "7lcOjmoBARZm",
        "colab_type": "code",
        "colab": {}
      },
      "source": [
        "# Convert an array of values into a dataset matrix\n",
        "# Go over what this method does\n",
        "# time_step = how many previous days you have to consider before making a prediction\n",
        "def create_dataset(dataset, time_step=1):\n",
        "  dataX, dataY = [],[]\n",
        "  # then we subtract e.g. timestep=3 : lendataset -3-3 so you are shifting\n",
        "  # iterates from \n",
        "  # -1: guarentees 8th datapoint \n",
        "  # 100 - 1 = 99-1 =5 -> 8th\n",
        "  # i is the starting point of dataset\n",
        "  for i in range(len(dataset)-time_step-1):\n",
        "    a = dataset[i:(i+time_step)]  # i=0, 0,1,2,3\n",
        "    # print(a)\n",
        "    dataX.append(a)\n",
        "    y = dataset[i + time_step][1] \n",
        "    dataY.append(y)\n",
        "  return np.array(dataX), np.array(dataY)"
      ],
      "execution_count": null,
      "outputs": []
    },
    {
      "cell_type": "code",
      "metadata": {
        "id": "Xjbnyit_VZur",
        "colab_type": "code",
        "colab": {}
      },
      "source": [
        "# weekly_timestep means taking in 7 days of features at a time \n",
        "# whats the point of writing 7 when it is assigned to 1?\n",
        "weekly_timestep = 7\n",
        "X_train, Y_train = create_dataset(train_data, weekly_timestep)\n",
        "X_val, Y_val = create_dataset(valset_data, weekly_timestep)\n",
        "X_test, Y_test = create_dataset(test_data, weekly_timestep)\n",
        "\n"
      ],
      "execution_count": null,
      "outputs": []
    },
    {
      "cell_type": "code",
      "metadata": {
        "id": "Bii3I74VfqRM",
        "colab_type": "code",
        "colab": {
          "base_uri": "https://localhost:8080/",
          "height": 71
        },
        "outputId": "7a2ecb91-2269-418e-db16-e3d0e825da85"
      },
      "source": [
        "print(X_test.shape), print(Y_test.shape)\n",
        "# Finished preprocessing the data"
      ],
      "execution_count": null,
      "outputs": [
        {
          "output_type": "stream",
          "text": [
            "(16, 7, 2)\n",
            "(16,)\n"
          ],
          "name": "stdout"
        },
        {
          "output_type": "execute_result",
          "data": {
            "text/plain": [
              "(None, None)"
            ]
          },
          "metadata": {
            "tags": []
          },
          "execution_count": 224
        }
      ]
    },
    {
      "cell_type": "markdown",
      "metadata": {
        "id": "rQxS8R3VI2bP",
        "colab_type": "text"
      },
      "source": [
        "# Stacked LSTM Model"
      ]
    },
    {
      "cell_type": "code",
      "metadata": {
        "id": "fuLjcvVwM7Sc",
        "colab_type": "code",
        "colab": {}
      },
      "source": [
        "# Create the stacked LSTM model\n",
        "# One LSTM after the other\n",
        "from tensorflow.keras.models import Sequential\n",
        "from tensorflow.keras.layers import InputLayer\n",
        "from tensorflow.keras.layers import LSTM\n",
        "from tensorflow.keras.layers import Dense\n",
        "\n",
        "\n",
        "def lstm_model(lr_rate, hidden_layer, optimizer):\n",
        "  model = Sequential()\n",
        "  opt = None\n",
        "  if optimizer == 'adam':\n",
        "   opt = keras.optimizers.Adam(learning_rate=lr_rate)\n",
        "  elif optimizer == 'adagrad':\n",
        "   opt = keras.optimizers.Adagrad(learning_rate=lr_rate)\n",
        "  else:\n",
        "    opt = keras.optimizers.Adadelta(learning_rate=lr_rate)\n",
        "\n",
        "  model.add(InputLayer(input_shape=(7,2)))\n",
        "  model.add(LSTM(hidden_layer,return_sequences=True))\n",
        "  #  model.add(Dropout(0.2))?\n",
        "  model.add(LSTM(hidden_layer, return_sequences=True))\n",
        "  model.add(LSTM(hidden_layer))\n",
        "  model.add(Dense(1))\n",
        "  model.compile(loss = 'mean_squared_error', optimizer=opt)\n",
        "  return model"
      ],
      "execution_count": null,
      "outputs": []
    },
    {
      "cell_type": "markdown",
      "metadata": {
        "id": "tkkElpH-cy_h",
        "colab_type": "text"
      },
      "source": [
        "## Hyperparameter Tuning\n",
        "\n",
        "\n",
        "*   Optimizers:\n",
        "[Overview of different Optimizers for neural networks](https://medium.com/datadriveninvestor/overview-of-different-optimizers-for-neural-networks-e0ed119440c3#:~:text=Adagrad%20eliminates%20the%20need%20to,is%20no%20longer%20able%20learning.)\n",
        "*   [Conceptual Guide for HP Tuning](https://medium.com/@jackstalfort/hyperparameter-tuning-using-grid-search-and-random-search-f8750a464b35)\n",
        "*   [Consider this for Grid Search & Random Search](https://scikit-learn.org/stable/auto_examples/model_selection/plot_randomized_search.html)\n",
        "*   [And this](https://stackoverflow.com/questions/58137140/randomizedsearchcv-with-keras-lstm-regression)\n",
        "![Grid Search & Random Search](https://miro.medium.com/max/1200/1*ZTlQm_WRcrNqL-nLnx6GJA.png)\n",
        "\n"
      ]
    },
    {
      "cell_type": "markdown",
      "metadata": {
        "id": "VDbgWWCHLcdm",
        "colab_type": "text"
      },
      "source": [
        "## Grid Search\n",
        "\n",
        "*   We must choose candidates for good hidden layers and optimizers. Then plot a comparison.\n",
        "*   List of optimizers: \n",
        "*   optimizers = ['SGD', 'RMSprop','adam','adagrad', 'adadelta', 'adamax','nadam', 'ftrl']\n",
        "*   Callbacks: Restores best weights that is going to give u best model \n",
        "*   Consider changing batch size: slower the batch_size better training, because small dataset\n",
        "\n",
        "\n"
      ]
    },
    {
      "cell_type": "code",
      "metadata": {
        "id": "D35lHOqI_7l7",
        "colab_type": "code",
        "colab": {
          "base_uri": "https://localhost:8080/",
          "height": 1000
        },
        "outputId": "4075e3a7-42dd-4a42-d6e2-9bc7216ec6d4"
      },
      "source": [
        "# Problem: Getting different results every time?\n",
        "# 0.0028813171666115522 0.01 adam 10\n",
        "# 0.0024543721228837967 0.01 adam 10\n",
        "# 0.09795219451189041 0.02 adam 10\n",
        "# 0.0019352396484464407 0.02 adam 5\n",
        "\n",
        "# Choose the number of hidden layers.\n",
        "hidden_layer = [5, 60, 100]\n",
        "best_hidden_layer = 1\n",
        "\n",
        "# Choose the optimizers you want to use.\n",
        "optimizers = ['adam','adagrad', 'adadelta']\n",
        "best_optimizer = 'adam'\n",
        "\n",
        "# Choose a learning rate\n",
        "learning_rate = [1e-3, 1e-4, 1e-5]\n",
        "best_learning_rate = 0.01\n",
        "\n",
        "# Choose best epoch\n",
        "# epochs = [10, 100, 150]\n",
        "# best_epoch = 10\n",
        "\n",
        "# Choose best batch size\n",
        "batch = [10, 15, 22]\n",
        "best_batch_size = 10\n",
        "\n",
        "# Least lost\n",
        "least_loss = 1 # 1 is the worst\n",
        "\n",
        "# Run hyperparas through model, record the best result as you go.\n",
        "for no_hidden_layer in hidden_layer:\n",
        "  for value_hidden_layer in optimizers:\n",
        "    for lr_rate in learning_rate:\n",
        "      model_testing = lstm_model(lr_rate, no_hidden_layer, value_hidden_layer)\n",
        "      # 7 Batch sizes at a time\n",
        "      model_testing.fit(X_train, Y_train, validation_data= (X_val, Y_val), epochs=10,batch_size=7,verbose=2,\n",
        "         callbacks=[tf.keras.callbacks.EarlyStopping(patience=3, restore_best_weights=True)])\n",
        "      loss = model_testing.evaluate(X_test, Y_test) # all results from dictionary\n",
        "      if loss < least_loss:\n",
        "        least_loss = loss\n",
        "        best_learning_rate = lr_rate\n",
        "        best_optimizer = value_hidden_layer\n",
        "        best_hidden_layer = no_hidden_layer\n",
        "print(least_loss, best_learning_rate, best_optimizer, best_hidden_layer)"
      ],
      "execution_count": null,
      "outputs": [
        {
          "output_type": "stream",
          "text": [
            "Epoch 1/10\n",
            "12/12 - 1s - loss: 0.2672 - val_loss: 0.6393\n",
            "Epoch 2/10\n",
            "12/12 - 0s - loss: 0.2232 - val_loss: 0.5537\n",
            "Epoch 3/10\n",
            "12/12 - 0s - loss: 0.1773 - val_loss: 0.4518\n",
            "Epoch 4/10\n",
            "12/12 - 0s - loss: 0.1255 - val_loss: 0.3332\n",
            "Epoch 5/10\n",
            "12/12 - 0s - loss: 0.0741 - val_loss: 0.2072\n",
            "Epoch 6/10\n",
            "12/12 - 0s - loss: 0.0377 - val_loss: 0.1045\n",
            "Epoch 7/10\n",
            "12/12 - 0s - loss: 0.0257 - val_loss: 0.0628\n",
            "Epoch 8/10\n",
            "12/12 - 0s - loss: 0.0263 - val_loss: 0.0693\n",
            "Epoch 9/10\n",
            "12/12 - 0s - loss: 0.0257 - val_loss: 0.0759\n",
            "Epoch 10/10\n",
            "12/12 - 0s - loss: 0.0259 - val_loss: 0.0822\n",
            "1/1 [==============================] - 0s 798us/step - loss: 0.0868\n",
            "Epoch 1/10\n",
            "12/12 - 1s - loss: 0.2960 - val_loss: 0.7684\n",
            "Epoch 2/10\n",
            "12/12 - 0s - loss: 0.2882 - val_loss: 0.7534\n",
            "Epoch 3/10\n",
            "12/12 - 0s - loss: 0.2806 - val_loss: 0.7388\n",
            "Epoch 4/10\n",
            "12/12 - 0s - loss: 0.2731 - val_loss: 0.7247\n",
            "Epoch 5/10\n",
            "12/12 - 0s - loss: 0.2658 - val_loss: 0.7107\n",
            "Epoch 6/10\n",
            "12/12 - 0s - loss: 0.2585 - val_loss: 0.6970\n",
            "Epoch 7/10\n",
            "12/12 - 0s - loss: 0.2513 - val_loss: 0.6831\n",
            "Epoch 8/10\n",
            "12/12 - 0s - loss: 0.2439 - val_loss: 0.6693\n",
            "Epoch 9/10\n",
            "12/12 - 0s - loss: 0.2368 - val_loss: 0.6551\n",
            "Epoch 10/10\n",
            "12/12 - 0s - loss: 0.2293 - val_loss: 0.6411\n",
            "1/1 [==============================] - 0s 707us/step - loss: 0.8052\n",
            "Epoch 1/10\n",
            "12/12 - 1s - loss: 0.2754 - val_loss: 0.6856\n",
            "Epoch 2/10\n",
            "12/12 - 0s - loss: 0.2748 - val_loss: 0.6845\n",
            "Epoch 3/10\n",
            "12/12 - 0s - loss: 0.2742 - val_loss: 0.6834\n",
            "Epoch 4/10\n",
            "12/12 - 0s - loss: 0.2736 - val_loss: 0.6823\n",
            "Epoch 5/10\n",
            "12/12 - 0s - loss: 0.2730 - val_loss: 0.6813\n",
            "Epoch 6/10\n",
            "12/12 - 0s - loss: 0.2724 - val_loss: 0.6802\n",
            "Epoch 7/10\n",
            "12/12 - 0s - loss: 0.2718 - val_loss: 0.6791\n",
            "Epoch 8/10\n",
            "12/12 - 0s - loss: 0.2712 - val_loss: 0.6781\n",
            "Epoch 9/10\n",
            "12/12 - 0s - loss: 0.2706 - val_loss: 0.6770\n",
            "Epoch 10/10\n",
            "12/12 - 0s - loss: 0.2700 - val_loss: 0.6759\n",
            "1/1 [==============================] - 0s 826us/step - loss: 0.7923\n",
            "Epoch 1/10\n",
            "12/12 - 1s - loss: 0.2830 - val_loss: 0.7040\n",
            "Epoch 2/10\n",
            "12/12 - 0s - loss: 0.2733 - val_loss: 0.6916\n",
            "Epoch 3/10\n",
            "12/12 - 0s - loss: 0.2668 - val_loss: 0.6819\n",
            "Epoch 4/10\n",
            "12/12 - 0s - loss: 0.2615 - val_loss: 0.6735\n",
            "Epoch 5/10\n",
            "12/12 - 0s - loss: 0.2569 - val_loss: 0.6662\n",
            "Epoch 6/10\n",
            "12/12 - 0s - loss: 0.2528 - val_loss: 0.6596\n",
            "Epoch 7/10\n",
            "12/12 - 0s - loss: 0.2491 - val_loss: 0.6536\n",
            "Epoch 8/10\n",
            "12/12 - 0s - loss: 0.2458 - val_loss: 0.6479\n",
            "Epoch 9/10\n",
            "12/12 - 0s - loss: 0.2426 - val_loss: 0.6425\n",
            "Epoch 10/10\n",
            "12/12 - 0s - loss: 0.2396 - val_loss: 0.6375\n",
            "1/1 [==============================] - 0s 690us/step - loss: 0.7506\n",
            "Epoch 1/10\n",
            "12/12 - 1s - loss: 0.2474 - val_loss: 0.6291\n",
            "Epoch 2/10\n",
            "12/12 - 0s - loss: 0.2454 - val_loss: 0.6266\n",
            "Epoch 3/10\n",
            "12/12 - 0s - loss: 0.2440 - val_loss: 0.6245\n",
            "Epoch 4/10\n",
            "12/12 - 0s - loss: 0.2430 - val_loss: 0.6228\n",
            "Epoch 5/10\n",
            "12/12 - 0s - loss: 0.2420 - val_loss: 0.6213\n",
            "Epoch 6/10\n",
            "12/12 - 0s - loss: 0.2412 - val_loss: 0.6199\n",
            "Epoch 7/10\n",
            "12/12 - 0s - loss: 0.2404 - val_loss: 0.6186\n",
            "Epoch 8/10\n",
            "12/12 - 0s - loss: 0.2397 - val_loss: 0.6174\n",
            "Epoch 9/10\n",
            "12/12 - 0s - loss: 0.2390 - val_loss: 0.6162\n",
            "Epoch 10/10\n",
            "12/12 - 0s - loss: 0.2383 - val_loss: 0.6151\n",
            "1/1 [==============================] - 0s 737us/step - loss: 0.7735\n",
            "Epoch 1/10\n",
            "12/12 - 1s - loss: 0.2436 - val_loss: 0.6186\n",
            "Epoch 2/10\n",
            "12/12 - 0s - loss: 0.2434 - val_loss: 0.6184\n",
            "Epoch 3/10\n",
            "12/12 - 0s - loss: 0.2433 - val_loss: 0.6182\n",
            "Epoch 4/10\n",
            "12/12 - 0s - loss: 0.2432 - val_loss: 0.6181\n",
            "Epoch 5/10\n",
            "12/12 - 0s - loss: 0.2431 - val_loss: 0.6179\n",
            "Epoch 6/10\n",
            "12/12 - 0s - loss: 0.2431 - val_loss: 0.6178\n",
            "Epoch 7/10\n",
            "12/12 - 0s - loss: 0.2430 - val_loss: 0.6177\n",
            "Epoch 8/10\n",
            "12/12 - 0s - loss: 0.2429 - val_loss: 0.6176\n",
            "Epoch 9/10\n",
            "12/12 - 0s - loss: 0.2429 - val_loss: 0.6175\n",
            "Epoch 10/10\n",
            "12/12 - 0s - loss: 0.2428 - val_loss: 0.6174\n",
            "1/1 [==============================] - 0s 918us/step - loss: 0.7299\n",
            "Epoch 1/10\n",
            "12/12 - 1s - loss: 0.2955 - val_loss: 0.7330\n",
            "Epoch 2/10\n",
            "12/12 - 0s - loss: 0.2954 - val_loss: 0.7328\n",
            "Epoch 3/10\n",
            "12/12 - 0s - loss: 0.2953 - val_loss: 0.7327\n",
            "Epoch 4/10\n",
            "12/12 - 0s - loss: 0.2952 - val_loss: 0.7325\n",
            "Epoch 5/10\n",
            "12/12 - 0s - loss: 0.2951 - val_loss: 0.7323\n",
            "Epoch 6/10\n",
            "12/12 - 0s - loss: 0.2950 - val_loss: 0.7322\n",
            "Epoch 7/10\n",
            "12/12 - 0s - loss: 0.2949 - val_loss: 0.7320\n",
            "Epoch 8/10\n",
            "12/12 - 0s - loss: 0.2948 - val_loss: 0.7318\n",
            "Epoch 9/10\n",
            "12/12 - 0s - loss: 0.2947 - val_loss: 0.7316\n",
            "Epoch 10/10\n",
            "12/12 - 0s - loss: 0.2946 - val_loss: 0.7315\n",
            "1/1 [==============================] - 0s 684us/step - loss: 0.8407\n",
            "Epoch 1/10\n",
            "12/12 - 1s - loss: 0.3070 - val_loss: 0.7510\n",
            "Epoch 2/10\n",
            "12/12 - 0s - loss: 0.3070 - val_loss: 0.7510\n",
            "Epoch 3/10\n",
            "12/12 - 0s - loss: 0.3070 - val_loss: 0.7510\n",
            "Epoch 4/10\n",
            "12/12 - 0s - loss: 0.3070 - val_loss: 0.7510\n",
            "Epoch 5/10\n",
            "12/12 - 0s - loss: 0.3070 - val_loss: 0.7510\n",
            "Epoch 6/10\n",
            "12/12 - 0s - loss: 0.3070 - val_loss: 0.7509\n",
            "Epoch 7/10\n",
            "12/12 - 0s - loss: 0.3070 - val_loss: 0.7509\n",
            "Epoch 8/10\n",
            "12/12 - 0s - loss: 0.3070 - val_loss: 0.7509\n",
            "Epoch 9/10\n",
            "12/12 - 0s - loss: 0.3069 - val_loss: 0.7509\n",
            "Epoch 10/10\n",
            "12/12 - 0s - loss: 0.3069 - val_loss: 0.7509\n",
            "1/1 [==============================] - 0s 918us/step - loss: 0.8434\n",
            "Epoch 1/10\n",
            "12/12 - 1s - loss: 0.2396 - val_loss: 0.5953\n",
            "Epoch 2/10\n",
            "12/12 - 0s - loss: 0.2396 - val_loss: 0.5953\n",
            "Epoch 3/10\n",
            "12/12 - 0s - loss: 0.2396 - val_loss: 0.5953\n",
            "Epoch 4/10\n",
            "12/12 - 0s - loss: 0.2396 - val_loss: 0.5953\n",
            "Epoch 5/10\n",
            "12/12 - 0s - loss: 0.2396 - val_loss: 0.5953\n",
            "Epoch 6/10\n",
            "12/12 - 0s - loss: 0.2396 - val_loss: 0.5953\n",
            "Epoch 7/10\n",
            "12/12 - 0s - loss: 0.2396 - val_loss: 0.5953\n",
            "Epoch 8/10\n",
            "12/12 - 0s - loss: 0.2396 - val_loss: 0.5953\n",
            "Epoch 9/10\n",
            "12/12 - 0s - loss: 0.2396 - val_loss: 0.5953\n",
            "Epoch 10/10\n",
            "12/12 - 0s - loss: 0.2396 - val_loss: 0.5953\n",
            "1/1 [==============================] - 0s 690us/step - loss: 0.6868\n",
            "Epoch 1/10\n",
            "12/12 - 1s - loss: 0.1221 - val_loss: 0.0108\n",
            "Epoch 2/10\n",
            "12/12 - 0s - loss: 0.0323 - val_loss: 0.0699\n",
            "Epoch 3/10\n",
            "12/12 - 0s - loss: 0.0297 - val_loss: 0.0100\n",
            "Epoch 4/10\n",
            "12/12 - 0s - loss: 0.0280 - val_loss: 0.0379\n",
            "Epoch 5/10\n",
            "12/12 - 0s - loss: 0.0258 - val_loss: 0.0172\n",
            "Epoch 6/10\n",
            "12/12 - 0s - loss: 0.0264 - val_loss: 0.0442\n",
            "1/1 [==============================] - 0s 771us/step - loss: 0.0052\n",
            "Epoch 1/10\n",
            "12/12 - 1s - loss: 0.2598 - val_loss: 0.6011\n",
            "Epoch 2/10\n",
            "12/12 - 0s - loss: 0.2266 - val_loss: 0.5249\n",
            "Epoch 3/10\n",
            "12/12 - 0s - loss: 0.1918 - val_loss: 0.4372\n",
            "Epoch 4/10\n",
            "12/12 - 0s - loss: 0.1513 - val_loss: 0.3320\n",
            "Epoch 5/10\n",
            "12/12 - 0s - loss: 0.1079 - val_loss: 0.2071\n",
            "Epoch 6/10\n",
            "12/12 - 0s - loss: 0.0637 - val_loss: 0.0872\n",
            "Epoch 7/10\n",
            "12/12 - 0s - loss: 0.0332 - val_loss: 0.0179\n",
            "Epoch 8/10\n",
            "12/12 - 0s - loss: 0.0276 - val_loss: 0.0058\n",
            "Epoch 9/10\n",
            "12/12 - 0s - loss: 0.0292 - val_loss: 0.0100\n",
            "Epoch 10/10\n",
            "12/12 - 0s - loss: 0.0279 - val_loss: 0.0172\n",
            "1/1 [==============================] - 0s 670us/step - loss: 0.0156\n",
            "Epoch 1/10\n",
            "12/12 - 1s - loss: 0.2855 - val_loss: 0.7211\n",
            "Epoch 2/10\n",
            "12/12 - 0s - loss: 0.2822 - val_loss: 0.7138\n",
            "Epoch 3/10\n",
            "12/12 - 0s - loss: 0.2789 - val_loss: 0.7066\n",
            "Epoch 4/10\n",
            "12/12 - 0s - loss: 0.2756 - val_loss: 0.6993\n",
            "Epoch 5/10\n",
            "12/12 - 0s - loss: 0.2724 - val_loss: 0.6921\n",
            "Epoch 6/10\n",
            "12/12 - 0s - loss: 0.2691 - val_loss: 0.6851\n",
            "Epoch 7/10\n",
            "12/12 - 0s - loss: 0.2659 - val_loss: 0.6779\n",
            "Epoch 8/10\n",
            "12/12 - 0s - loss: 0.2625 - val_loss: 0.6707\n",
            "Epoch 9/10\n",
            "12/12 - 0s - loss: 0.2593 - val_loss: 0.6634\n",
            "Epoch 10/10\n",
            "12/12 - 0s - loss: 0.2559 - val_loss: 0.6560\n",
            "1/1 [==============================] - 0s 824us/step - loss: 0.7899\n",
            "Epoch 1/10\n",
            "12/12 - 1s - loss: 0.2642 - val_loss: 0.6534\n",
            "Epoch 2/10\n",
            "12/12 - 0s - loss: 0.2327 - val_loss: 0.6088\n",
            "Epoch 3/10\n",
            "12/12 - 0s - loss: 0.2108 - val_loss: 0.5739\n",
            "Epoch 4/10\n",
            "12/12 - 0s - loss: 0.1933 - val_loss: 0.5451\n",
            "Epoch 5/10\n",
            "12/12 - 0s - loss: 0.1790 - val_loss: 0.5194\n",
            "Epoch 6/10\n",
            "12/12 - 0s - loss: 0.1664 - val_loss: 0.4966\n",
            "Epoch 7/10\n",
            "12/12 - 0s - loss: 0.1553 - val_loss: 0.4758\n",
            "Epoch 8/10\n",
            "12/12 - 0s - loss: 0.1454 - val_loss: 0.4567\n",
            "Epoch 9/10\n",
            "12/12 - 0s - loss: 0.1364 - val_loss: 0.4391\n",
            "Epoch 10/10\n",
            "12/12 - 0s - loss: 0.1282 - val_loss: 0.4230\n",
            "1/1 [==============================] - 0s 946us/step - loss: 0.5347\n",
            "Epoch 1/10\n",
            "12/12 - 1s - loss: 0.2669 - val_loss: 0.6682\n",
            "Epoch 2/10\n",
            "12/12 - 0s - loss: 0.2624 - val_loss: 0.6622\n",
            "Epoch 3/10\n",
            "12/12 - 0s - loss: 0.2592 - val_loss: 0.6570\n",
            "Epoch 4/10\n",
            "12/12 - 0s - loss: 0.2565 - val_loss: 0.6525\n",
            "Epoch 5/10\n",
            "12/12 - 0s - loss: 0.2541 - val_loss: 0.6483\n",
            "Epoch 6/10\n",
            "12/12 - 0s - loss: 0.2519 - val_loss: 0.6447\n",
            "Epoch 7/10\n",
            "12/12 - 0s - loss: 0.2499 - val_loss: 0.6413\n",
            "Epoch 8/10\n",
            "12/12 - 0s - loss: 0.2481 - val_loss: 0.6379\n",
            "Epoch 9/10\n",
            "12/12 - 0s - loss: 0.2462 - val_loss: 0.6347\n",
            "Epoch 10/10\n",
            "12/12 - 0s - loss: 0.2445 - val_loss: 0.6317\n",
            "1/1 [==============================] - 0s 1ms/step - loss: 0.7550\n",
            "Epoch 1/10\n",
            "12/12 - 1s - loss: 0.2752 - val_loss: 0.6916\n",
            "Epoch 2/10\n",
            "12/12 - 0s - loss: 0.2748 - val_loss: 0.6910\n",
            "Epoch 3/10\n",
            "12/12 - 0s - loss: 0.2745 - val_loss: 0.6906\n",
            "Epoch 4/10\n",
            "12/12 - 0s - loss: 0.2743 - val_loss: 0.6902\n",
            "Epoch 5/10\n",
            "12/12 - 0s - loss: 0.2740 - val_loss: 0.6898\n",
            "Epoch 6/10\n",
            "12/12 - 0s - loss: 0.2738 - val_loss: 0.6895\n",
            "Epoch 7/10\n",
            "12/12 - 0s - loss: 0.2737 - val_loss: 0.6892\n",
            "Epoch 8/10\n",
            "12/12 - 0s - loss: 0.2735 - val_loss: 0.6889\n",
            "Epoch 9/10\n",
            "12/12 - 0s - loss: 0.2733 - val_loss: 0.6886\n",
            "Epoch 10/10\n",
            "12/12 - 0s - loss: 0.2732 - val_loss: 0.6884\n",
            "1/1 [==============================] - 0s 786us/step - loss: 0.8143\n",
            "Epoch 1/10\n",
            "12/12 - 1s - loss: 0.2777 - val_loss: 0.6762\n",
            "Epoch 2/10\n",
            "12/12 - 0s - loss: 0.2772 - val_loss: 0.6753\n",
            "Epoch 3/10\n",
            "12/12 - 0s - loss: 0.2768 - val_loss: 0.6744\n",
            "Epoch 4/10\n",
            "12/12 - 0s - loss: 0.2764 - val_loss: 0.6736\n",
            "Epoch 5/10\n",
            "12/12 - 0s - loss: 0.2759 - val_loss: 0.6727\n",
            "Epoch 6/10\n",
            "12/12 - 0s - loss: 0.2755 - val_loss: 0.6718\n",
            "Epoch 7/10\n",
            "12/12 - 0s - loss: 0.2751 - val_loss: 0.6709\n",
            "Epoch 8/10\n",
            "12/12 - 0s - loss: 0.2746 - val_loss: 0.6700\n",
            "Epoch 9/10\n",
            "12/12 - 0s - loss: 0.2742 - val_loss: 0.6691\n",
            "Epoch 10/10\n",
            "12/12 - 0s - loss: 0.2737 - val_loss: 0.6682\n",
            "1/1 [==============================] - 0s 727us/step - loss: 0.7527\n",
            "Epoch 1/10\n",
            "12/12 - 1s - loss: 0.2694 - val_loss: 0.6615\n",
            "Epoch 2/10\n",
            "12/12 - 0s - loss: 0.2694 - val_loss: 0.6614\n",
            "Epoch 3/10\n",
            "12/12 - 0s - loss: 0.2693 - val_loss: 0.6613\n",
            "Epoch 4/10\n",
            "12/12 - 0s - loss: 0.2693 - val_loss: 0.6612\n",
            "Epoch 5/10\n",
            "12/12 - 0s - loss: 0.2692 - val_loss: 0.6611\n",
            "Epoch 6/10\n",
            "12/12 - 0s - loss: 0.2692 - val_loss: 0.6610\n",
            "Epoch 7/10\n",
            "12/12 - 0s - loss: 0.2691 - val_loss: 0.6609\n",
            "Epoch 8/10\n",
            "12/12 - 0s - loss: 0.2691 - val_loss: 0.6609\n",
            "Epoch 9/10\n",
            "12/12 - 0s - loss: 0.2690 - val_loss: 0.6608\n",
            "Epoch 10/10\n",
            "12/12 - 0s - loss: 0.2690 - val_loss: 0.6606\n",
            "1/1 [==============================] - 0s 844us/step - loss: 0.7560\n",
            "Epoch 1/10\n",
            "12/12 - 1s - loss: 0.2780 - val_loss: 0.7003\n",
            "Epoch 2/10\n",
            "12/12 - 0s - loss: 0.2780 - val_loss: 0.7003\n",
            "Epoch 3/10\n",
            "12/12 - 0s - loss: 0.2780 - val_loss: 0.7003\n",
            "Epoch 4/10\n",
            "12/12 - 0s - loss: 0.2780 - val_loss: 0.7003\n",
            "Epoch 5/10\n",
            "12/12 - 0s - loss: 0.2780 - val_loss: 0.7003\n",
            "Epoch 6/10\n",
            "12/12 - 0s - loss: 0.2780 - val_loss: 0.7003\n",
            "Epoch 7/10\n",
            "12/12 - 0s - loss: 0.2780 - val_loss: 0.7003\n",
            "Epoch 8/10\n",
            "12/12 - 0s - loss: 0.2780 - val_loss: 0.7003\n",
            "Epoch 9/10\n",
            "12/12 - 0s - loss: 0.2780 - val_loss: 0.7002\n",
            "Epoch 10/10\n",
            "12/12 - 0s - loss: 0.2780 - val_loss: 0.7002\n",
            "1/1 [==============================] - 0s 765us/step - loss: 0.8293\n",
            "Epoch 1/10\n",
            "12/12 - 1s - loss: 0.1112 - val_loss: 0.0057\n",
            "Epoch 2/10\n",
            "12/12 - 0s - loss: 0.0300 - val_loss: 0.0193\n",
            "Epoch 3/10\n",
            "12/12 - 0s - loss: 0.0270 - val_loss: 0.0225\n",
            "Epoch 4/10\n",
            "12/12 - 0s - loss: 0.0261 - val_loss: 0.0140\n",
            "1/1 [==============================] - 0s 691us/step - loss: 0.0068\n",
            "Epoch 1/10\n",
            "12/12 - 1s - loss: 0.2557 - val_loss: 0.5776\n",
            "Epoch 2/10\n",
            "12/12 - 0s - loss: 0.2061 - val_loss: 0.4489\n",
            "Epoch 3/10\n",
            "12/12 - 0s - loss: 0.1476 - val_loss: 0.2904\n",
            "Epoch 4/10\n",
            "12/12 - 0s - loss: 0.0857 - val_loss: 0.1108\n",
            "Epoch 5/10\n",
            "12/12 - 0s - loss: 0.0356 - val_loss: 0.0093\n",
            "Epoch 6/10\n",
            "12/12 - 0s - loss: 0.0295 - val_loss: 0.0029\n",
            "Epoch 7/10\n",
            "12/12 - 0s - loss: 0.0295 - val_loss: 0.0154\n",
            "Epoch 8/10\n",
            "12/12 - 0s - loss: 0.0282 - val_loss: 0.0156\n",
            "Epoch 9/10\n",
            "12/12 - 0s - loss: 0.0280 - val_loss: 0.0176\n",
            "1/1 [==============================] - 0s 759us/step - loss: 0.0013\n",
            "Epoch 1/10\n",
            "12/12 - 1s - loss: 0.2706 - val_loss: 0.6568\n",
            "Epoch 2/10\n",
            "12/12 - 0s - loss: 0.2659 - val_loss: 0.6456\n",
            "Epoch 3/10\n",
            "12/12 - 0s - loss: 0.2613 - val_loss: 0.6343\n",
            "Epoch 4/10\n",
            "12/12 - 0s - loss: 0.2566 - val_loss: 0.6229\n",
            "Epoch 5/10\n",
            "12/12 - 0s - loss: 0.2519 - val_loss: 0.6114\n",
            "Epoch 6/10\n",
            "12/12 - 0s - loss: 0.2472 - val_loss: 0.5994\n",
            "Epoch 7/10\n",
            "12/12 - 0s - loss: 0.2422 - val_loss: 0.5870\n",
            "Epoch 8/10\n",
            "12/12 - 0s - loss: 0.2371 - val_loss: 0.5745\n",
            "Epoch 9/10\n",
            "12/12 - 0s - loss: 0.2319 - val_loss: 0.5613\n",
            "Epoch 10/10\n",
            "12/12 - 0s - loss: 0.2267 - val_loss: 0.5476\n",
            "1/1 [==============================] - 0s 867us/step - loss: 0.6151\n",
            "Epoch 1/10\n",
            "12/12 - 1s - loss: 0.2570 - val_loss: 0.6248\n",
            "Epoch 2/10\n",
            "12/12 - 0s - loss: 0.2228 - val_loss: 0.5747\n",
            "Epoch 3/10\n",
            "12/12 - 0s - loss: 0.1980 - val_loss: 0.5356\n",
            "Epoch 4/10\n",
            "12/12 - 0s - loss: 0.1787 - val_loss: 0.5027\n",
            "Epoch 5/10\n",
            "12/12 - 0s - loss: 0.1625 - val_loss: 0.4738\n",
            "Epoch 6/10\n",
            "12/12 - 0s - loss: 0.1486 - val_loss: 0.4476\n",
            "Epoch 7/10\n",
            "12/12 - 0s - loss: 0.1363 - val_loss: 0.4240\n",
            "Epoch 8/10\n",
            "12/12 - 0s - loss: 0.1254 - val_loss: 0.4026\n",
            "Epoch 9/10\n",
            "12/12 - 0s - loss: 0.1157 - val_loss: 0.3824\n",
            "Epoch 10/10\n",
            "12/12 - 0s - loss: 0.1069 - val_loss: 0.3642\n",
            "1/1 [==============================] - 0s 802us/step - loss: 0.4534\n",
            "Epoch 1/10\n",
            "12/12 - 1s - loss: 0.2888 - val_loss: 0.7300\n",
            "Epoch 2/10\n",
            "12/12 - 0s - loss: 0.2842 - val_loss: 0.7233\n",
            "Epoch 3/10\n",
            "12/12 - 0s - loss: 0.2807 - val_loss: 0.7177\n",
            "Epoch 4/10\n",
            "12/12 - 0s - loss: 0.2776 - val_loss: 0.7129\n",
            "Epoch 5/10\n",
            "12/12 - 0s - loss: 0.2750 - val_loss: 0.7085\n",
            "Epoch 6/10\n",
            "12/12 - 0s - loss: 0.2726 - val_loss: 0.7044\n",
            "Epoch 7/10\n",
            "12/12 - 0s - loss: 0.2704 - val_loss: 0.7006\n",
            "Epoch 8/10\n",
            "12/12 - 0s - loss: 0.2683 - val_loss: 0.6971\n",
            "Epoch 9/10\n",
            "12/12 - 0s - loss: 0.2663 - val_loss: 0.6937\n",
            "Epoch 10/10\n",
            "12/12 - 0s - loss: 0.2645 - val_loss: 0.6906\n",
            "1/1 [==============================] - 0s 3ms/step - loss: 0.8277\n",
            "Epoch 1/10\n",
            "12/12 - 1s - loss: 0.2688 - val_loss: 0.6555\n",
            "Epoch 2/10\n",
            "12/12 - 0s - loss: 0.2683 - val_loss: 0.6549\n",
            "Epoch 3/10\n",
            "12/12 - 0s - loss: 0.2680 - val_loss: 0.6544\n",
            "Epoch 4/10\n",
            "12/12 - 0s - loss: 0.2677 - val_loss: 0.6540\n",
            "Epoch 5/10\n",
            "12/12 - 0s - loss: 0.2674 - val_loss: 0.6535\n",
            "Epoch 6/10\n",
            "12/12 - 0s - loss: 0.2672 - val_loss: 0.6531\n",
            "Epoch 7/10\n",
            "12/12 - 0s - loss: 0.2670 - val_loss: 0.6528\n",
            "Epoch 8/10\n",
            "12/12 - 0s - loss: 0.2668 - val_loss: 0.6524\n",
            "Epoch 9/10\n",
            "12/12 - 0s - loss: 0.2666 - val_loss: 0.6521\n",
            "Epoch 10/10\n",
            "12/12 - 0s - loss: 0.2664 - val_loss: 0.6517\n",
            "1/1 [==============================] - 0s 790us/step - loss: 0.7393\n",
            "Epoch 1/10\n",
            "12/12 - 1s - loss: 0.2750 - val_loss: 0.6917\n",
            "Epoch 2/10\n",
            "12/12 - 0s - loss: 0.2745 - val_loss: 0.6905\n",
            "Epoch 3/10\n",
            "12/12 - 0s - loss: 0.2740 - val_loss: 0.6894\n",
            "Epoch 4/10\n",
            "12/12 - 0s - loss: 0.2734 - val_loss: 0.6883\n",
            "Epoch 5/10\n",
            "12/12 - 0s - loss: 0.2729 - val_loss: 0.6871\n",
            "Epoch 6/10\n",
            "12/12 - 0s - loss: 0.2723 - val_loss: 0.6860\n",
            "Epoch 7/10\n",
            "12/12 - 0s - loss: 0.2718 - val_loss: 0.6848\n",
            "Epoch 8/10\n",
            "12/12 - 0s - loss: 0.2712 - val_loss: 0.6836\n",
            "Epoch 9/10\n",
            "12/12 - 0s - loss: 0.2706 - val_loss: 0.6824\n",
            "Epoch 10/10\n",
            "12/12 - 0s - loss: 0.2701 - val_loss: 0.6812\n",
            "1/1 [==============================] - 0s 698us/step - loss: 0.8090\n",
            "Epoch 1/10\n",
            "12/12 - 1s - loss: 0.2781 - val_loss: 0.6817\n",
            "Epoch 2/10\n",
            "12/12 - 0s - loss: 0.2780 - val_loss: 0.6816\n",
            "Epoch 3/10\n",
            "12/12 - 0s - loss: 0.2780 - val_loss: 0.6815\n",
            "Epoch 4/10\n",
            "12/12 - 0s - loss: 0.2779 - val_loss: 0.6814\n",
            "Epoch 5/10\n",
            "12/12 - 0s - loss: 0.2779 - val_loss: 0.6813\n",
            "Epoch 6/10\n",
            "12/12 - 0s - loss: 0.2778 - val_loss: 0.6811\n",
            "Epoch 7/10\n",
            "12/12 - 0s - loss: 0.2778 - val_loss: 0.6810\n",
            "Epoch 8/10\n",
            "12/12 - 0s - loss: 0.2777 - val_loss: 0.6809\n",
            "Epoch 9/10\n",
            "12/12 - 0s - loss: 0.2777 - val_loss: 0.6808\n",
            "Epoch 10/10\n",
            "12/12 - 0s - loss: 0.2776 - val_loss: 0.6807\n",
            "1/1 [==============================] - 0s 659us/step - loss: 0.7738\n",
            "Epoch 1/10\n",
            "12/12 - 1s - loss: 0.2773 - val_loss: 0.6910\n",
            "Epoch 2/10\n",
            "12/12 - 0s - loss: 0.2773 - val_loss: 0.6910\n",
            "Epoch 3/10\n",
            "12/12 - 0s - loss: 0.2773 - val_loss: 0.6910\n",
            "Epoch 4/10\n",
            "12/12 - 0s - loss: 0.2773 - val_loss: 0.6910\n",
            "Epoch 5/10\n",
            "12/12 - 0s - loss: 0.2772 - val_loss: 0.6910\n",
            "Epoch 6/10\n",
            "12/12 - 0s - loss: 0.2772 - val_loss: 0.6910\n",
            "Epoch 7/10\n",
            "12/12 - 0s - loss: 0.2772 - val_loss: 0.6909\n",
            "Epoch 8/10\n",
            "12/12 - 0s - loss: 0.2772 - val_loss: 0.6909\n",
            "Epoch 9/10\n",
            "12/12 - 0s - loss: 0.2772 - val_loss: 0.6909\n",
            "Epoch 10/10\n",
            "12/12 - 0s - loss: 0.2772 - val_loss: 0.6909\n",
            "1/1 [==============================] - 0s 2ms/step - loss: 0.8071\n",
            "0.0013270692434161901 0.0001 adam 100\n"
          ],
          "name": "stdout"
        }
      ]
    },
    {
      "cell_type": "code",
      "metadata": {
        "id": "z5xmm7LRTCGG",
        "colab_type": "code",
        "colab": {}
      },
      "source": [
        ""
      ],
      "execution_count": null,
      "outputs": []
    },
    {
      "cell_type": "markdown",
      "metadata": {
        "id": "ne1FGIRhCBx3",
        "colab_type": "text"
      },
      "source": [
        "# Best Model Prediction"
      ]
    },
    {
      "cell_type": "code",
      "metadata": {
        "id": "yBxAVM4I3NJ2",
        "colab_type": "code",
        "colab": {}
      },
      "source": [
        "best_param_model = lstm_model(best_learning_rate, best_hidden_layer, best_optimizer)\n"
      ],
      "execution_count": null,
      "outputs": []
    },
    {
      "cell_type": "code",
      "metadata": {
        "id": "aBny6cUkO4xC",
        "colab_type": "code",
        "colab": {
          "base_uri": "https://localhost:8080/",
          "height": 35
        },
        "outputId": "69341c71-4f28-41de-f7a0-5268168c8d13"
      },
      "source": [
        "# Prediction and check performance metric\n",
        "train_predict = best_param_model.predict(X_train)\n",
        "test_predict = best_param_model.predict(X_test)\n",
        "train_predict.shape\n",
        "train_predict.shape"
      ],
      "execution_count": null,
      "outputs": [
        {
          "output_type": "execute_result",
          "data": {
            "text/plain": [
              "(79, 1)"
            ]
          },
          "metadata": {
            "tags": []
          },
          "execution_count": 228
        }
      ]
    },
    {
      "cell_type": "code",
      "metadata": {
        "id": "b7ocuWlpPIEA",
        "colab_type": "code",
        "colab": {}
      },
      "source": [
        "# Transform back to original form\n",
        "train_predict=scaler.inverse_transform(train_predict)\n",
        "test_predict=scaler.inverse_transform(test_predict)\n",
        "# print(train_predict, test_predict)"
      ],
      "execution_count": null,
      "outputs": []
    },
    {
      "cell_type": "markdown",
      "metadata": {
        "id": "k4ocL2CLJLXg",
        "colab_type": "text"
      },
      "source": [
        "# Performance Metric\n",
        "\n",
        "\n"
      ]
    },
    {
      "cell_type": "code",
      "metadata": {
        "id": "DHXXILzqPUHQ",
        "colab_type": "code",
        "colab": {
          "base_uri": "https://localhost:8080/",
          "height": 35
        },
        "outputId": "87416142-06ad-4634-de91-0a367f61b743"
      },
      "source": [
        "# Calculate the RMSE performance metrics\n",
        "# Output for the train dataset\n",
        "import math\n",
        "from sklearn.metrics import mean_squared_error\n",
        "math.sqrt(mean_squared_error(Y_train, train_predict))"
      ],
      "execution_count": null,
      "outputs": [
        {
          "output_type": "execute_result",
          "data": {
            "text/plain": [
              "0.6646599730203268"
            ]
          },
          "metadata": {
            "tags": []
          },
          "execution_count": 241
        }
      ]
    },
    {
      "cell_type": "code",
      "metadata": {
        "id": "fFNm7l86Pt_7",
        "colab_type": "code",
        "colab": {
          "base_uri": "https://localhost:8080/",
          "height": 35
        },
        "outputId": "0dc8d37b-b3b4-43a2-c0eb-6fa35a5e5579"
      },
      "source": [
        "# Use testing\n",
        "math.sqrt(mean_squared_error(Y_test, test_predict))"
      ],
      "execution_count": null,
      "outputs": [
        {
          "output_type": "execute_result",
          "data": {
            "text/plain": [
              "0.25183883348970815"
            ]
          },
          "metadata": {
            "tags": []
          },
          "execution_count": 242
        }
      ]
    },
    {
      "cell_type": "code",
      "metadata": {
        "id": "gZc_4QJmZugn",
        "colab_type": "code",
        "colab": {}
      },
      "source": [
        "# Evaluating: How well is model performing \n",
        "# Probability distribution rather than time series\n",
        "# Tensorflow??\n",
        "# KL Divergence\n",
        "# Consider this for evaluation: https://www.tensorflow.org/api_docs/python/tf/keras/losses/KLDivergence\n",
        "# kl divergence measures difference between 2 probability distributions, \n",
        "# measure of what i am predicting and what should have been predicting"
      ],
      "execution_count": null,
      "outputs": []
    },
    {
      "cell_type": "markdown",
      "metadata": {
        "id": "-nSW23ryI8RU",
        "colab_type": "text"
      },
      "source": [
        "# Actual Data, Train Prediction & Test Prediction data"
      ]
    },
    {
      "cell_type": "code",
      "metadata": {
        "id": "wIaC4DB2UV6P",
        "colab_type": "code",
        "colab": {
          "base_uri": "https://localhost:8080/",
          "height": 439
        },
        "outputId": "de337a1a-f4e1-42e7-9d16-df3fdc7ed0f8"
      },
      "source": [
        "# Taking in the 7 \n",
        "\n",
        "look_back = 7\n",
        "\n",
        "# empty_like: Return a new array with the same shape and type as a given array.\n",
        "# np.nan: Replect all with nan? What does this mean?\n",
        "# What does this do?? 7: predict.length() + 7, :\n",
        "\n",
        "trainPredictPlot = np.empty_like(new_dataset)\n",
        "trainPredictPlot[:,:]= np.nan\n",
        "trainPredictPlot[look_back:len(train_predict)+look_back, :] = train_predict\n",
        "print(trainPredictPlot.shape)\n",
        "\n",
        "# empty_like: Return a new array with the same shape and type as a given array.\n",
        "# np.nan: Replect all with nan? What does this mean?\n",
        "# Dont understand what this is doing\n",
        "# What does this do?? predict.length() + (7*2) +2 :(training_size + test_size)] = test_predict\n",
        "\n",
        "testPredictPlot = np.empty_like(new_dataset)\n",
        "testPredictPlot[:,:]= np.nan\n",
        "testPredictPlot[len(train_predict)+(look_back*2)+1: (training_size + test_size)] = test_predict\n",
        "# new_dataset[training_size:(training_size + test_size)]\n",
        "print(testPredictPlot.shape)\n",
        "\n",
        "# Plot baseline and predictions\n",
        "plt.title('Analysis of train, test and actual')\n",
        "plt.plot(scaler.inverse_transform(new_dataset), label=\"actual dataset\")\n",
        "\n",
        "trainPredictPlot = [item[1] for item in trainPredictPlot] \n",
        "plt.plot(trainPredictPlot, label=\"train_predict\")\n",
        "\n",
        "testPredictPlot = [item[1] for item in testPredictPlot] \n",
        "plt.plot(testPredictPlot, label=\"test_predict\")\n",
        "\n",
        "# as you can see th test data and train is divided because we want to test after a specific day\n",
        "plt.ylabel('Forex price & US Death Rates')\n",
        "plt.xlabel('Date')\n",
        "plt.legend()\n",
        "plt.show()\n",
        "# Printing 2 actual_dataset, train_predict, test_predict because 2 input layers"
      ],
      "execution_count": null,
      "outputs": [
        {
          "output_type": "stream",
          "text": [
            "(134, 2)\n",
            "(134, 2)\n"
          ],
          "name": "stdout"
        },
        {
          "output_type": "display_data",
          "data": {
            "image/png": "[encoded data removed]",
            "text/plain": [
              "<Figure size 1080x432 with 1 Axes>"
            ]
          },
          "metadata": {
            "tags": []
          }
        }
      ]
    },
    {
      "cell_type": "markdown",
      "metadata": {
        "id": "Fc6YFJvQjBGu",
        "colab_type": "text"
      },
      "source": [
        "# Custom 4 day prediction\n",
        "\n",
        "*   Training train data to predict future days and evaluating the accuracy on validation data.\n",
        "*   Training train data to predict future days, no way of evaluating however this can tell us what is likely to occur.\n",
        "*   Using last 7 days of training data to predict the future custom days(4). \n",
        "\n"
      ]
    },
    {
      "cell_type": "code",
      "metadata": {
        "id": "yws-gX7RTB3Z",
        "colab_type": "code",
        "colab": {
          "base_uri": "https://localhost:8080/",
          "height": 161
        },
        "outputId": "66abb114-6664-435b-fc3e-f216129f9474"
      },
      "source": [
        "# Taking the last 7 days of test\n",
        "# print(test_data[80:])\n",
        "# is this supposed to be test or train_data\n",
        "X_input=test_data[40:].reshape(1,-1)\n",
        "print(X_input)\n",
        "X_input.shape\n",
        "\n",
        "temp_input = train_data[-7:]\n",
        "temp_input\n",
        "\n"
      ],
      "execution_count": null,
      "outputs": [
        {
          "output_type": "stream",
          "text": [
            "[]\n"
          ],
          "name": "stdout"
        },
        {
          "output_type": "execute_result",
          "data": {
            "text/plain": [
              "array([[0.05753473, 0.44532131],\n",
              "       [0.0658916 , 0.61217587],\n",
              "       [0.07456764, 0.75253664],\n",
              "       [0.08383321, 0.80101466],\n",
              "       [0.09400989, 0.92784667],\n",
              "       [0.10444046, 0.88105975],\n",
              "       [0.11526232, 0.82750846]])"
            ]
          },
          "metadata": {
            "tags": []
          },
          "execution_count": 234
        }
      ]
    },
    {
      "cell_type": "code",
      "metadata": {
        "id": "CHAxzKyuTp5-",
        "colab_type": "code",
        "colab": {
          "base_uri": "https://localhost:8080/",
          "height": 539
        },
        "outputId": "e4025ac6-b532-4ca7-9170-e02e12407b20"
      },
      "source": [
        "# Demonstrate prediction for the next 4 days:\n",
        "\n",
        "# Step 1. 7 days of feature = temp_input taken from the last 7 days of the training set\n",
        "# Step 2  i is the day you are on and we want to predict 4 days: 0,1,2,3 (4 days)\n",
        "# Step 3. Predict the 8th day on each of the 7 days,\n",
        "# Step 4. Add this new predicted day to the list\n",
        "# Step 5. Because we are now taking in the last 7 days + the new predicted value, the list is now size 8  \n",
        "# Step 6. In order to take in 7 days at a time, we shift 1 to the right.\n",
        "# Step 7. We reassign the X_train to the new 7 days\n",
        "# Step 8. We predict the 8th day of the 7 days and continue the process\n",
        "# Step 9. We then add the 8th day to the output list\n",
        "# Step 10. We keep track of the 4 days by incrementing by i at the end-> i = i+1\n",
        "# Step 11. Once we have predicted the 4 days, we return the list of 4 day values.\n",
        "\n",
        "from numpy import array\n",
        "custom_day = 4\n",
        "lst_output=[]\n",
        "n_steps=7\n",
        "i=0\n",
        "X_input = temp_input\n",
        "# print(X_input)\n",
        "while(i<custom_day):\n",
        "  if(len(temp_input)>7):\n",
        "    # print(temp_input)  \n",
        "    X_input=array(temp_input[1:])\n",
        "    # print(\"{} day input {}\".format(i,X_input))\n",
        "    # Correct input shape (1,7,2)\n",
        "    X_input=X_input.reshape((1,n_steps,2))\n",
        "    # Prediction of X_input\n",
        "    print(X_input)\n",
        "    Y_hat = best_param_model.predict(X_input)\n",
        "    # print(Y_hat)\n",
        "    temp_input = np.append(temp_input, Y_hat)\n",
        "    temp_input=temp_input[1:]\n",
        "    lst_output.append(Y_hat[0][0])\n",
        "    i=i+1\n",
        "  else:\n",
        "    X_input=X_input.reshape((1,n_steps,2))\n",
        "    print(X_input)\n",
        "    Y_hat = best_param_model.predict(X_input, verbose=0)\n",
        "    # print(Y_hat)\n",
        "    temp_input = np.append(temp_input, Y_hat)\n",
        "    lst_output.append(Y_hat[0][0])\n",
        "    i=i+1\n",
        "# [0.039997526, 0.035484765, 0.029113937, 0.025276443]\n",
        "# Print the predicted forex price for the next 4 days \n",
        "print(lst_output)"
      ],
      "execution_count": null,
      "outputs": [
        {
          "output_type": "stream",
          "text": [
            "[[[0.05753473 0.44532131]\n",
            "  [0.0658916  0.61217587]\n",
            "  [0.07456764 0.75253664]\n",
            "  [0.08383321 0.80101466]\n",
            "  [0.09400989 0.92784667]\n",
            "  [0.10444046 0.88105975]\n",
            "  [0.11526232 0.82750846]]]\n",
            "[[[4.45321308e-01 6.58916023e-02]\n",
            "  [6.12175874e-01 7.45676356e-02]\n",
            "  [7.52536640e-01 8.38332104e-02]\n",
            "  [8.01014656e-01 9.40098948e-02]\n",
            "  [9.27846674e-01 1.04440459e-01]\n",
            "  [8.81059752e-01 1.15262319e-01]\n",
            "  [8.27508455e-01 6.94530027e-04]]]\n",
            "[[[6.58916023e-02 6.12175874e-01]\n",
            "  [7.45676356e-02 7.52536640e-01]\n",
            "  [8.38332104e-02 8.01014656e-01]\n",
            "  [9.40098948e-02 9.27846674e-01]\n",
            "  [1.04440459e-01 8.81059752e-01]\n",
            "  [1.15262319e-01 8.27508455e-01]\n",
            "  [6.94530027e-04 3.21219931e-03]]]\n",
            "[[[6.12175874e-01 7.45676356e-02]\n",
            "  [7.52536640e-01 8.38332104e-02]\n",
            "  [8.01014656e-01 9.40098948e-02]\n",
            "  [9.27846674e-01 1.04440459e-01]\n",
            "  [8.81059752e-01 1.15262319e-01]\n",
            "  [8.27508455e-01 6.94530027e-04]\n",
            "  [3.21219931e-03 5.41221350e-04]]]\n",
            "[0.00069453, 0.0032121993, 0.00054122135, 0.003116924]\n"
          ],
          "name": "stdout"
        }
      ]
    },
    {
      "cell_type": "markdown",
      "metadata": {
        "id": "-0DCdCn2jwxO",
        "colab_type": "text"
      },
      "source": [
        "### Plotting evaluation on graph. Training output versus first 4 days of the validation data."
      ]
    },
    {
      "cell_type": "code",
      "metadata": {
        "id": "z_5opaqHfcZt",
        "colab_type": "code",
        "colab": {
          "base_uri": "https://localhost:8080/",
          "height": 439
        },
        "outputId": "32e1b03d-cc89-4eda-9cb6-8f2c074a822a"
      },
      "source": [
        "# Custom day plotted\n",
        "day_new = custom_day-1\n",
        "\n",
        "# Predicted 4 days from training\n",
        "# Plot and label\n",
        "# Transform back to original value before normalised\n",
        "custom_day_prediction = np.array(lst_output)\n",
        "print(custom_day_prediction)\n",
        "plt.plot(custom_day_prediction, label=\"Predicted\")\n",
        "# plt.plot(day_new, scaler.inverse_transform([custom_day_prediction]))\n",
        "\n",
        "# Actual 4 days from validation\n",
        "# Plot and label\n",
        "# Transform back to original value before normalised\n",
        "val_data = [item[1] for item in valset_data] \n",
        "custom_day_validation = val_data[:custom_day]\n",
        "print(custom_day_validation)\n",
        "plt.plot(custom_day_validation, label=\"Actual\")\n",
        "# plt.plot(day_new, scaler.inverse_transform([custom_day_validation]))\n",
        "\n",
        "# Information\n",
        "plt.title('Predicted custom day from training data versus actual custom day from validation data')\n",
        "plt.xlabel('Number of custom days')\n",
        "plt.ylabel('Price')\n",
        "plt.legend()\n",
        "plt.show()"
      ],
      "execution_count": null,
      "outputs": [
        {
          "output_type": "stream",
          "text": [
            "[0.00069453 0.0032122  0.00054122 0.00311692]\n",
            "[0.7807215332581725, 0.746899661781284, 0.7130777903043954, 0.7519729425028183]\n"
          ],
          "name": "stdout"
        },
        {
          "output_type": "display_data",
          "data": {
            "image/png": "[encoded data removed]",
            "text/plain": [
              "<Figure size 1080x432 with 1 Axes>"
            ]
          },
          "metadata": {
            "tags": []
          }
        }
      ]
    },
    {
      "cell_type": "code",
      "metadata": {
        "id": "9X1xZG9bWNx_",
        "colab_type": "code",
        "colab": {
          "base_uri": "https://localhost:8080/",
          "height": 421
        },
        "outputId": "cdbc7a50-2260-4453-a523-e0d24dd76868"
      },
      "source": [
        "# Connect what we got as a result to the future\n",
        "day_new = custom_day-1\n",
        "\n",
        "# Predicted 4 days from training\n",
        "# Plot and label\n",
        "# Transform back to original value before normalised\n",
        "custom_day_prediction = np.array(lst_output)\n",
        "print(custom_day_prediction)\n",
        "plt.plot(custom_day_prediction, label=\"Predicted\")\n",
        "plt.plot(day_new, scaler.inverse_transform([custom_day_prediction]))\n",
        "\n",
        "# Actual 4 days from validation\n",
        "# Plot and label\n",
        "# Transform back to original value before normalised\n",
        "# Start on 4 instead\n",
        "val_data = [item[1] for item in valset_data] \n",
        "custom_day_validation = val_data[custom_day:]\n",
        "plt.plot(custom_day_validation, label=\"Actual\")\n",
        "plt.plot(day_new, scaler.inverse_transform([custom_day_validation]))\n",
        "\n",
        "# Information\n",
        "plt.title('Predicted custom day from training data versus actual custom day from validation data')\n",
        "plt.xlabel('Number of custom days')\n",
        "plt.ylabel('Price')\n",
        "plt.legend()\n",
        "plt.show()\n",
        "\n"
      ],
      "execution_count": null,
      "outputs": [
        {
          "output_type": "stream",
          "text": [
            "[0.00069453 0.0032122  0.00054122 0.00311692]\n"
          ],
          "name": "stdout"
        },
        {
          "output_type": "display_data",
          "data": {
            "image/png": "[encoded data removed]",
            "text/plain": [
              "<Figure size 1080x432 with 1 Axes>"
            ]
          },
          "metadata": {
            "tags": []
          }
        }
      ]
    },
    {
      "cell_type": "code",
      "metadata": {
        "id": "IeOGd1UPV8jG",
        "colab_type": "code",
        "colab": {}
      },
      "source": [
        "# What we have:\n",
        "# day_new=np.arange(1,8)\n",
        "# print(day_new)\n",
        "# What we want to predict:\n",
        "# day_pred=np.arange(8,12)\n",
        "# print(day_pred)"
      ],
      "execution_count": null,
      "outputs": []
    },
    {
      "cell_type": "markdown",
      "metadata": {
        "id": "7o0GfssHMvIL",
        "colab_type": "text"
      },
      "source": [
        "# Conclusion and next steps\n",
        "We explored the LSTM algorithms:\n",
        "\n",
        "*   List item\n",
        "*   List item\n",
        "\n",
        "\n",
        "In conclusion it seems that .."
      ]
    }
  ]
}