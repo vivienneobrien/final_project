{
  "nbformat": 4,
  "nbformat_minor": 0,
  "metadata": {
    "colab": {
      "name": "fake_data_linear_regression_model.ipynb",
      "provenance": [],
      "collapsed_sections": [],
      "toc_visible": true
    },
    "kernelspec": {
      "name": "python3",
      "display_name": "Python 3"
    }
  },
  "cells": [
    {
      "cell_type": "markdown",
      "metadata": {
        "id": "3Kt64YXS43oZ",
        "colab_type": "text"
      },
      "source": [
        "# Notes for user:\n",
        "*   This notebook will use the US gasoline price API dataset and forex to predict the forex spot price of a currency pair.\n",
        "*   What to ask user before using this application:\n",
        "1.   What currency pair are you interested in? USD/GBP (This layout means that the base currency is USD)\n",
        "2.   The currency the user wants to look at is how much the USD is worth to the GBP. Therefore, we look at the price of gasoline of the US and the UK.\n",
        "*   To do: We will need to organise US gasoline price dataset/ merge the datasets."
      ]
    },
    {
      "cell_type": "code",
      "metadata": {
        "id": "P4D3PBSILe56",
        "colab_type": "code",
        "colab": {
          "base_uri": "https://localhost:8080/",
          "height": 307
        },
        "outputId": "be8d258a-3fdb-4f9d-dc17-427a4ceff3fc"
      },
      "source": [
        "!pip install git+https://github.com/tensorflow/docs"
      ],
      "execution_count": 1,
      "outputs": [
        {
          "output_type": "stream",
          "text": [
            "Collecting git+https://github.com/tensorflow/docs\n",
            "  Cloning https://github.com/tensorflow/docs to /tmp/pip-req-build-xk1xvf7i\n",
            "  Running command git clone -q https://github.com/tensorflow/docs /tmp/pip-req-build-xk1xvf7i\n",
            "Requirement already satisfied (use --upgrade to upgrade): tensorflow-docs===0.0.0f84004a0ede6e4cb87f98edbf46f6c2784b002bd- from git+https://github.com/tensorflow/docs in /usr/local/lib/python3.6/dist-packages\n",
            "Requirement already satisfied: astor in /usr/local/lib/python3.6/dist-packages (from tensorflow-docs===0.0.0f84004a0ede6e4cb87f98edbf46f6c2784b002bd-) (0.8.1)\n",
            "Requirement already satisfied: absl-py in /usr/local/lib/python3.6/dist-packages (from tensorflow-docs===0.0.0f84004a0ede6e4cb87f98edbf46f6c2784b002bd-) (0.9.0)\n",
            "Requirement already satisfied: protobuf in /usr/local/lib/python3.6/dist-packages (from tensorflow-docs===0.0.0f84004a0ede6e4cb87f98edbf46f6c2784b002bd-) (3.12.2)\n",
            "Requirement already satisfied: pyyaml in /usr/local/lib/python3.6/dist-packages (from tensorflow-docs===0.0.0f84004a0ede6e4cb87f98edbf46f6c2784b002bd-) (3.13)\n",
            "Requirement already satisfied: six in /usr/local/lib/python3.6/dist-packages (from absl-py->tensorflow-docs===0.0.0f84004a0ede6e4cb87f98edbf46f6c2784b002bd-) (1.15.0)\n",
            "Requirement already satisfied: setuptools in /usr/local/lib/python3.6/dist-packages (from protobuf->tensorflow-docs===0.0.0f84004a0ede6e4cb87f98edbf46f6c2784b002bd-) (49.1.0)\n",
            "Building wheels for collected packages: tensorflow-docs\n",
            "  Building wheel for tensorflow-docs (setup.py) ... \u001b[?25l\u001b[?25hdone\n",
            "  Created wheel for tensorflow-docs: filename=tensorflow_docs-0.0.0f84004a0ede6e4cb87f98edbf46f6c2784b002bd_-cp36-none-any.whl size=126412 sha256=57d89fa7f04269eb64d469f9344f7befd4dabe89278db3ad43bed870712a4f9c\n",
            "  Stored in directory: /tmp/pip-ephem-wheel-cache-_yjc0vqi/wheels/eb/1b/35/fce87697be00d2fc63e0b4b395b0d9c7e391a10e98d9a0d97f\n",
            "Successfully built tensorflow-docs\n"
          ],
          "name": "stdout"
        }
      ]
    },
    {
      "cell_type": "code",
      "metadata": {
        "id": "I5kOTYIa0Y5b",
        "colab_type": "code",
        "colab": {
          "base_uri": "https://localhost:8080/",
          "height": 35
        },
        "outputId": "9d7c4484-48d0-4f74-fa29-9dcaf651e710"
      },
      "source": [
        "import pathlib\n",
        "import matplotlib.pyplot as plt\n",
        "import numpy as np\n",
        "import pandas as pd\n",
        "import tensorflow as tf\n",
        "from tensorflow import keras\n",
        "from tensorflow.keras import layers\n",
        "print(tf.__version__)\n",
        "import tensorflow_docs as tfdocs\n",
        "import tensorflow_docs.plots\n",
        "import tensorflow_docs.modeling\n",
        "# modelling\n",
        "from sklearn.linear_model import LinearRegression, Ridge, Lasso\n",
        "from sklearn import preprocessing\n",
        "from sklearn.model_selection import train_test_split\n",
        "from sklearn.ensemble import GradientBoostingRegressor\n",
        "\n",
        "#modeling metrics\n",
        "from sklearn import metrics"
      ],
      "execution_count": 2,
      "outputs": [
        {
          "output_type": "stream",
          "text": [
            "2.2.0\n"
          ],
          "name": "stdout"
        }
      ]
    },
    {
      "cell_type": "markdown",
      "metadata": {
        "id": "1p1pW4GyMKSo",
        "colab_type": "text"
      },
      "source": [
        "# Data Collection"
      ]
    },
    {
      "cell_type": "code",
      "metadata": {
        "id": "BtxjR9q40f6X",
        "colab_type": "code",
        "colab": {}
      },
      "source": [
        "# Import forex\n",
        "# Need to get the most recent dataset\n",
        "forex_dataset_data= pd.read_csv('GBP_USD.csv', na_values = \"?\", comment='\\t', skipinitialspace=True)\n",
        "forex_dataset = forex_dataset_data.copy()\n",
        "# forex_dataset = forex_dataset_data.dropna()\n",
        "# Filter dataset\n"
      ],
      "execution_count": 3,
      "outputs": []
    },
    {
      "cell_type": "code",
      "metadata": {
        "id": "OWvcgFdM0tPt",
        "colab_type": "code",
        "colab": {
          "base_uri": "https://localhost:8080/",
          "height": 35
        },
        "outputId": "4a2c945c-178c-4f40-8b6b-5bf423038c42"
      },
      "source": [
        "forex_dataset.shape"
      ],
      "execution_count": 4,
      "outputs": [
        {
          "output_type": "execute_result",
          "data": {
            "text/plain": [
              "(155, 6)"
            ]
          },
          "metadata": {
            "tags": []
          },
          "execution_count": 4
        }
      ]
    },
    {
      "cell_type": "code",
      "metadata": {
        "id": "7uGMTzdn0u4u",
        "colab_type": "code",
        "colab": {
          "base_uri": "https://localhost:8080/",
          "height": 204
        },
        "outputId": "8b856438-2610-4ff5-d62d-a87764b172a3"
      },
      "source": [
        "forex_dataset.head() "
      ],
      "execution_count": 5,
      "outputs": [
        {
          "output_type": "execute_result",
          "data": {
            "text/html": [
              "<div>\n",
              "<style scoped>\n",
              "    .dataframe tbody tr th:only-of-type {\n",
              "        vertical-align: middle;\n",
              "    }\n",
              "\n",
              "    .dataframe tbody tr th {\n",
              "        vertical-align: top;\n",
              "    }\n",
              "\n",
              "    .dataframe thead th {\n",
              "        text-align: right;\n",
              "    }\n",
              "</style>\n",
              "<table border=\"1\" class=\"dataframe\">\n",
              "  <thead>\n",
              "    <tr style=\"text-align: right;\">\n",
              "      <th></th>\n",
              "      <th>Date</th>\n",
              "      <th>Price</th>\n",
              "      <th>Open</th>\n",
              "      <th>High</th>\n",
              "      <th>Low</th>\n",
              "      <th>Change %</th>\n",
              "    </tr>\n",
              "  </thead>\n",
              "  <tbody>\n",
              "    <tr>\n",
              "      <th>0</th>\n",
              "      <td>Jul 03, 2020</td>\n",
              "      <td>1.2482</td>\n",
              "      <td>1.2466</td>\n",
              "      <td>1.2493</td>\n",
              "      <td>1.2439</td>\n",
              "      <td>0.12%</td>\n",
              "    </tr>\n",
              "    <tr>\n",
              "      <th>1</th>\n",
              "      <td>Jul 02, 2020</td>\n",
              "      <td>1.2467</td>\n",
              "      <td>1.2476</td>\n",
              "      <td>1.2531</td>\n",
              "      <td>1.2456</td>\n",
              "      <td>-0.05%</td>\n",
              "    </tr>\n",
              "    <tr>\n",
              "      <th>2</th>\n",
              "      <td>Jul 01, 2020</td>\n",
              "      <td>1.2474</td>\n",
              "      <td>1.2401</td>\n",
              "      <td>1.2492</td>\n",
              "      <td>1.2358</td>\n",
              "      <td>0.59%</td>\n",
              "    </tr>\n",
              "    <tr>\n",
              "      <th>3</th>\n",
              "      <td>Jun 30, 2020</td>\n",
              "      <td>1.2401</td>\n",
              "      <td>1.2298</td>\n",
              "      <td>1.2402</td>\n",
              "      <td>1.2257</td>\n",
              "      <td>0.83%</td>\n",
              "    </tr>\n",
              "    <tr>\n",
              "      <th>4</th>\n",
              "      <td>Jun 29, 2020</td>\n",
              "      <td>1.2299</td>\n",
              "      <td>1.2340</td>\n",
              "      <td>1.2391</td>\n",
              "      <td>1.2251</td>\n",
              "      <td>-0.30%</td>\n",
              "    </tr>\n",
              "  </tbody>\n",
              "</table>\n",
              "</div>"
            ],
            "text/plain": [
              "           Date   Price    Open    High     Low Change %\n",
              "0  Jul 03, 2020  1.2482  1.2466  1.2493  1.2439    0.12%\n",
              "1  Jul 02, 2020  1.2467  1.2476  1.2531  1.2456   -0.05%\n",
              "2  Jul 01, 2020  1.2474  1.2401  1.2492  1.2358    0.59%\n",
              "3  Jun 30, 2020  1.2401  1.2298  1.2402  1.2257    0.83%\n",
              "4  Jun 29, 2020  1.2299  1.2340  1.2391  1.2251   -0.30%"
            ]
          },
          "metadata": {
            "tags": []
          },
          "execution_count": 5
        }
      ]
    },
    {
      "cell_type": "code",
      "metadata": {
        "id": "DHuFRRLg3bcm",
        "colab_type": "code",
        "colab": {
          "base_uri": "https://localhost:8080/",
          "height": 445
        },
        "outputId": "cecbf9e7-a9cd-4ea6-da2f-e8537b7d7125"
      },
      "source": [
        "# testing uk_fuel_prices as us_fuel_prices\n",
        "us_fuel_dataset = pd.read_csv('uk_fuel_prices.csv', encoding= 'unicode_escape')\n",
        "us_fuel_dataset.head()"
      ],
      "execution_count": 6,
      "outputs": [
        {
          "output_type": "execute_result",
          "data": {
            "text/html": [
              "<div>\n",
              "<style scoped>\n",
              "    .dataframe tbody tr th:only-of-type {\n",
              "        vertical-align: middle;\n",
              "    }\n",
              "\n",
              "    .dataframe tbody tr th {\n",
              "        vertical-align: top;\n",
              "    }\n",
              "\n",
              "    .dataframe thead th {\n",
              "        text-align: right;\n",
              "    }\n",
              "</style>\n",
              "<table border=\"1\" class=\"dataframe\">\n",
              "  <thead>\n",
              "    <tr style=\"text-align: right;\">\n",
              "      <th></th>\n",
              "      <th>Date</th>\n",
              "      <th>ULSP</th>\n",
              "      <th>ULSD</th>\n",
              "      <th>ULSP.1</th>\n",
              "      <th>ULSD.1</th>\n",
              "      <th>ULSP.2</th>\n",
              "      <th>ULSD.2</th>\n",
              "      <th>Unnamed: 7</th>\n",
              "      <th>Unnamed: 8</th>\n",
              "      <th>Unnamed: 9</th>\n",
              "      <th>Unnamed: 10</th>\n",
              "      <th>Unnamed: 11</th>\n",
              "      <th>Unnamed: 12</th>\n",
              "      <th>Unnamed: 13</th>\n",
              "    </tr>\n",
              "  </thead>\n",
              "  <tbody>\n",
              "    <tr>\n",
              "      <th>0</th>\n",
              "      <td>09/06/2003</td>\n",
              "      <td>74.59</td>\n",
              "      <td>76.77</td>\n",
              "      <td>45.82</td>\n",
              "      <td>45.82</td>\n",
              "      <td>17.5</td>\n",
              "      <td>17.5</td>\n",
              "      <td>NaN</td>\n",
              "      <td>ULSP = Ultra low sulpur unleaded petrol</td>\n",
              "      <td>NaN</td>\n",
              "      <td>NaN</td>\n",
              "      <td>NaN</td>\n",
              "      <td>NaN</td>\n",
              "      <td>NaN</td>\n",
              "    </tr>\n",
              "    <tr>\n",
              "      <th>1</th>\n",
              "      <td>16/06/2003</td>\n",
              "      <td>74.47</td>\n",
              "      <td>76.69</td>\n",
              "      <td>45.82</td>\n",
              "      <td>45.82</td>\n",
              "      <td>17.5</td>\n",
              "      <td>17.5</td>\n",
              "      <td>NaN</td>\n",
              "      <td>ULSD = Ultra low sulphur diesel</td>\n",
              "      <td>NaN</td>\n",
              "      <td>NaN</td>\n",
              "      <td>NaN</td>\n",
              "      <td>NaN</td>\n",
              "      <td>NaN</td>\n",
              "    </tr>\n",
              "    <tr>\n",
              "      <th>2</th>\n",
              "      <td>23/06/2003</td>\n",
              "      <td>74.42</td>\n",
              "      <td>76.62</td>\n",
              "      <td>45.82</td>\n",
              "      <td>45.82</td>\n",
              "      <td>17.5</td>\n",
              "      <td>17.5</td>\n",
              "      <td>NaN</td>\n",
              "      <td>NaN</td>\n",
              "      <td>NaN</td>\n",
              "      <td>NaN</td>\n",
              "      <td>NaN</td>\n",
              "      <td>NaN</td>\n",
              "      <td>NaN</td>\n",
              "    </tr>\n",
              "    <tr>\n",
              "      <th>3</th>\n",
              "      <td>30/06/2003</td>\n",
              "      <td>74.35</td>\n",
              "      <td>76.51</td>\n",
              "      <td>45.82</td>\n",
              "      <td>45.82</td>\n",
              "      <td>17.5</td>\n",
              "      <td>17.5</td>\n",
              "      <td>NaN</td>\n",
              "      <td>ULSP  and ULSD</td>\n",
              "      <td>NaN</td>\n",
              "      <td>NaN</td>\n",
              "      <td>NaN</td>\n",
              "      <td>NaN</td>\n",
              "      <td>NaN</td>\n",
              "    </tr>\n",
              "    <tr>\n",
              "      <th>4</th>\n",
              "      <td>07/07/2003</td>\n",
              "      <td>74.28</td>\n",
              "      <td>76.46</td>\n",
              "      <td>45.82</td>\n",
              "      <td>45.82</td>\n",
              "      <td>17.5</td>\n",
              "      <td>17.5</td>\n",
              "      <td>NaN</td>\n",
              "      <td>Duty rate per litre (£) from 7 March 2001</td>\n",
              "      <td>NaN</td>\n",
              "      <td>NaN</td>\n",
              "      <td>NaN</td>\n",
              "      <td>NaN</td>\n",
              "      <td>0.4582</td>\n",
              "    </tr>\n",
              "  </tbody>\n",
              "</table>\n",
              "</div>"
            ],
            "text/plain": [
              "         Date   ULSP   ULSD  ...  Unnamed: 11  Unnamed: 12  Unnamed: 13\n",
              "0  09/06/2003  74.59  76.77  ...          NaN          NaN          NaN\n",
              "1  16/06/2003  74.47  76.69  ...          NaN          NaN          NaN\n",
              "2  23/06/2003  74.42  76.62  ...          NaN          NaN          NaN\n",
              "3  30/06/2003  74.35  76.51  ...          NaN          NaN          NaN\n",
              "4  07/07/2003  74.28  76.46  ...          NaN          NaN       0.4582\n",
              "\n",
              "[5 rows x 14 columns]"
            ]
          },
          "metadata": {
            "tags": []
          },
          "execution_count": 6
        }
      ]
    },
    {
      "cell_type": "code",
      "metadata": {
        "id": "HBkFszTu3ip9",
        "colab_type": "code",
        "colab": {}
      },
      "source": [
        ""
      ],
      "execution_count": 6,
      "outputs": []
    },
    {
      "cell_type": "code",
      "metadata": {
        "id": "Qvr71qX6I1Bg",
        "colab_type": "code",
        "colab": {}
      },
      "source": [
        "def retrieve_time_series(api, series_ID):\n",
        "    \"\"\"\n",
        "    Return the time series dataframe, based on table and unique Series ID\n",
        "    \"\"\"\n",
        "    #Retrieve Data By Series ID \n",
        "    series_search = us_fuel_dataset.data_by_series(series=series_ID)\n",
        "    ##Create a pandas dataframe from the retrieved time series\n",
        "    data = series_search['ULSP, Date']\n",
        "    us_fuel_dataset = pd.DataFrame(list(data.items()), columns=[\"Date\", \"ULSP\"])\n",
        "    return us_fuel_dataset\n",
        "    \n",
        "def get_us_fuel_dataset():\n",
        "  \n",
        "    #Declare desired series ID\n",
        "    series_ID='PET.EMM_EPM0_PTE_NUS_DPG.W'\n",
        "    us_fuel=retrieve_time_series(us_fuel_dataset, series_ID)\n",
        "    return us_fuel"
      ],
      "execution_count": 7,
      "outputs": []
    },
    {
      "cell_type": "code",
      "metadata": {
        "id": "DrRfnJLMKbiF",
        "colab_type": "code",
        "colab": {
          "base_uri": "https://localhost:8080/",
          "height": 340
        },
        "outputId": "772a474c-6907-4b2b-ce8a-fa4178447a15"
      },
      "source": [
        "us_fuel_dataset = get_us_fuel_dataset()\n",
        "us_fuel_dataset.shape\n"
      ],
      "execution_count": 8,
      "outputs": [
        {
          "output_type": "error",
          "ename": "UnboundLocalError",
          "evalue": "ignored",
          "traceback": [
            "\u001b[0;31m---------------------------------------------------------------------------\u001b[0m",
            "\u001b[0;31mUnboundLocalError\u001b[0m                         Traceback (most recent call last)",
            "\u001b[0;32m<ipython-input-8-24d94dfe256f>\u001b[0m in \u001b[0;36m<module>\u001b[0;34m()\u001b[0m\n\u001b[0;32m----> 1\u001b[0;31m \u001b[0mus_fuel_dataset\u001b[0m \u001b[0;34m=\u001b[0m \u001b[0mget_us_fuel_dataset\u001b[0m\u001b[0;34m(\u001b[0m\u001b[0;34m)\u001b[0m\u001b[0;34m\u001b[0m\u001b[0;34m\u001b[0m\u001b[0m\n\u001b[0m\u001b[1;32m      2\u001b[0m \u001b[0mus_fuel_dataset\u001b[0m\u001b[0;34m.\u001b[0m\u001b[0mshape\u001b[0m\u001b[0;34m\u001b[0m\u001b[0;34m\u001b[0m\u001b[0m\n",
            "\u001b[0;32m<ipython-input-7-914e87070eed>\u001b[0m in \u001b[0;36mget_us_fuel_dataset\u001b[0;34m()\u001b[0m\n\u001b[1;32m     14\u001b[0m     \u001b[0;31m#Declare desired series ID\u001b[0m\u001b[0;34m\u001b[0m\u001b[0;34m\u001b[0m\u001b[0;34m\u001b[0m\u001b[0m\n\u001b[1;32m     15\u001b[0m     \u001b[0mseries_ID\u001b[0m\u001b[0;34m=\u001b[0m\u001b[0;34m'PET.EMM_EPM0_PTE_NUS_DPG.W'\u001b[0m\u001b[0;34m\u001b[0m\u001b[0;34m\u001b[0m\u001b[0m\n\u001b[0;32m---> 16\u001b[0;31m     \u001b[0mus_fuel\u001b[0m\u001b[0;34m=\u001b[0m\u001b[0mretrieve_time_series\u001b[0m\u001b[0;34m(\u001b[0m\u001b[0mus_fuel_dataset\u001b[0m\u001b[0;34m,\u001b[0m \u001b[0mseries_ID\u001b[0m\u001b[0;34m)\u001b[0m\u001b[0;34m\u001b[0m\u001b[0;34m\u001b[0m\u001b[0m\n\u001b[0m\u001b[1;32m     17\u001b[0m     \u001b[0;32mreturn\u001b[0m \u001b[0mus_fuel\u001b[0m\u001b[0;34m\u001b[0m\u001b[0;34m\u001b[0m\u001b[0m\n",
            "\u001b[0;32m<ipython-input-7-914e87070eed>\u001b[0m in \u001b[0;36mretrieve_time_series\u001b[0;34m(api, series_ID)\u001b[0m\n\u001b[1;32m      4\u001b[0m     \"\"\"\n\u001b[1;32m      5\u001b[0m     \u001b[0;31m#Retrieve Data By Series ID\u001b[0m\u001b[0;34m\u001b[0m\u001b[0;34m\u001b[0m\u001b[0;34m\u001b[0m\u001b[0m\n\u001b[0;32m----> 6\u001b[0;31m     \u001b[0mseries_search\u001b[0m \u001b[0;34m=\u001b[0m \u001b[0mus_fuel_dataset\u001b[0m\u001b[0;34m.\u001b[0m\u001b[0mdata_by_series\u001b[0m\u001b[0;34m(\u001b[0m\u001b[0mseries\u001b[0m\u001b[0;34m=\u001b[0m\u001b[0mseries_ID\u001b[0m\u001b[0;34m)\u001b[0m\u001b[0;34m\u001b[0m\u001b[0;34m\u001b[0m\u001b[0m\n\u001b[0m\u001b[1;32m      7\u001b[0m     \u001b[0;31m##Create a pandas dataframe from the retrieved time series\u001b[0m\u001b[0;34m\u001b[0m\u001b[0;34m\u001b[0m\u001b[0;34m\u001b[0m\u001b[0m\n\u001b[1;32m      8\u001b[0m     \u001b[0mdata\u001b[0m \u001b[0;34m=\u001b[0m \u001b[0mseries_search\u001b[0m\u001b[0;34m[\u001b[0m\u001b[0;34m'ULSP, Date'\u001b[0m\u001b[0;34m]\u001b[0m\u001b[0;34m\u001b[0m\u001b[0;34m\u001b[0m\u001b[0m\n",
            "\u001b[0;31mUnboundLocalError\u001b[0m: local variable 'us_fuel_dataset' referenced before assignment"
          ]
        }
      ]
    },
    {
      "cell_type": "code",
      "metadata": {
        "id": "usP6hfEX3tCV",
        "colab_type": "code",
        "colab": {}
      },
      "source": [
        "us_fuel_dataset.head()"
      ],
      "execution_count": null,
      "outputs": []
    },
    {
      "cell_type": "markdown",
      "metadata": {
        "id": "FPIlGi7Y47Um",
        "colab_type": "text"
      },
      "source": [
        "# Data Preprocessing / Data Cleaning & Collating"
      ]
    },
    {
      "cell_type": "code",
      "metadata": {
        "id": "f_UViU9opJFE",
        "colab_type": "code",
        "colab": {}
      },
      "source": [
        "# Create Time series and price columns\n",
        "# First convert string type to datetime type for pandas series \"date\"\n",
        "# Then convert price to numeric type\n",
        "us_fuel_dataset['Date'] = us_fuel_dataset['Date'].apply(lambda x: pd.to_datetime(str(x.strip().replace(\" \", \"\")[0:8]), format='%d%m%Y'))\n",
        "us_fuel_dataset['ULSP'] = pd.to_numeric(us_fuel_dataset['ULSP'])\n",
        "forex_dataset[\"Date\"] = pd.to_datetime(forex_dataset[\"Date\"])"
      ],
      "execution_count": null,
      "outputs": []
    },
    {
      "cell_type": "code",
      "metadata": {
        "id": "1hi9sElaqKXd",
        "colab_type": "code",
        "colab": {}
      },
      "source": [
        "# Our columns are converted correctly\n",
        "us_fuel_dataset.dtypes\n"
      ],
      "execution_count": null,
      "outputs": []
    },
    {
      "cell_type": "code",
      "metadata": {
        "id": "-7SmIdyehaYJ",
        "colab_type": "code",
        "colab": {}
      },
      "source": [
        "forex_dataset.dtypes"
      ],
      "execution_count": null,
      "outputs": []
    },
    {
      "cell_type": "code",
      "metadata": {
        "id": "4wgQQegwi5xI",
        "colab_type": "code",
        "colab": {}
      },
      "source": [
        "us_fuel_dataset[\"ULSP\"].plot()"
      ],
      "execution_count": null,
      "outputs": []
    },
    {
      "cell_type": "code",
      "metadata": {
        "id": "Z-FL9UNH1Jgc",
        "colab_type": "code",
        "colab": {}
      },
      "source": [
        "forex_dataset.set_index(\"Date\", inplace=True)\n",
        "us_fuel_dataset.set_index(\"Date\", inplace=True)\n",
        "forex_dataset[\"date\"] = forex_dataset.index\n",
        "us_fuel_dataset[\"Date\"] = us_fuel_dataset.index"
      ],
      "execution_count": null,
      "outputs": []
    },
    {
      "cell_type": "code",
      "metadata": {
        "id": "dJg6PljoBys4",
        "colab_type": "code",
        "colab": {}
      },
      "source": [
        "us_fuel_dataset[\"week\"] = us_fuel_dataset.index.to_period('W')\n",
        "forex_dataset[\"week\"] = forex_dataset.index.to_period('W')"
      ],
      "execution_count": null,
      "outputs": []
    },
    {
      "cell_type": "code",
      "metadata": {
        "id": "FdGp6xYPsAJJ",
        "colab_type": "code",
        "colab": {}
      },
      "source": [
        "forex_dataset.head(15)"
      ],
      "execution_count": null,
      "outputs": []
    },
    {
      "cell_type": "code",
      "metadata": {
        "id": "bA9JPdH0ted6",
        "colab_type": "code",
        "colab": {}
      },
      "source": [
        "dataset = pd.merge(\n",
        "    forex_dataset,\n",
        "    us_fuel_dataset,\n",
        "    left_on=\"week\",\n",
        "    right_on=\"week\",\n",
        "    how=\"left\"\n",
        ")"
      ],
      "execution_count": null,
      "outputs": []
    },
    {
      "cell_type": "code",
      "metadata": {
        "id": "1by06juCJzCQ",
        "colab_type": "code",
        "colab": {}
      },
      "source": [
        "dataset.head(10)"
      ],
      "execution_count": null,
      "outputs": []
    },
    {
      "cell_type": "markdown",
      "metadata": {
        "id": "gX_Z2YefK_b3",
        "colab_type": "text"
      },
      "source": [
        "# Sample Features - Go Over\n"
      ]
    },
    {
      "cell_type": "code",
      "metadata": {
        "id": "leiEwMP21QLr",
        "colab_type": "code",
        "colab": {}
      },
      "source": [
        "# Look back last 4 days\n",
        "# X variables/ features that we care about\n",
        "# Y variable/ output/ what we want to predict\n",
        "window_size=12\n",
        "num_samples=len(dataset)-window_size\n",
        "\n",
        "# Get indices of access for the data\n",
        "indices=np.arange(num_samples).astype(np.int)[:,None]+np.arange(window_size+1).astype(np.int)\n",
        "\n",
        "data = dataset[\"Price\"].values[indices] # Create the 2D matrix of training samples\n",
        "x = data[:,:-1] # Each row represents 12 days in the past\n",
        "y = data[:,-1] # Each output value represents the 13rd day"
      ],
      "execution_count": null,
      "outputs": []
    },
    {
      "cell_type": "code",
      "metadata": {
        "id": "i4ZlMrW05oMb",
        "colab_type": "code",
        "colab": {}
      },
      "source": [
        "# not data frame anymore now it is a list\n",
        "# forex_dataset.head() of it\n",
        "x"
      ],
      "execution_count": null,
      "outputs": []
    },
    {
      "cell_type": "code",
      "metadata": {
        "id": "ELSLqRer6OhX",
        "colab_type": "code",
        "colab": {}
      },
      "source": [
        "y"
      ],
      "execution_count": null,
      "outputs": []
    },
    {
      "cell_type": "code",
      "metadata": {
        "id": "1HTBkWlE1yp5",
        "colab_type": "code",
        "colab": {}
      },
      "source": [
        "# 80% of my data\n",
        "split_fraction=0.8\n",
        "ind_split=int(split_fraction*num_samples)"
      ],
      "execution_count": null,
      "outputs": []
    },
    {
      "cell_type": "code",
      "metadata": {
        "id": "-6sVH_Bx1zw3",
        "colab_type": "code",
        "colab": {}
      },
      "source": [
        "# x features and y features\n",
        "# test and train\n",
        "x_train = x[:ind_split]\n",
        "y_train = y[:ind_split]\n",
        "x_test = x[ind_split:]\n",
        "y_test = y[ind_split:]"
      ],
      "execution_count": null,
      "outputs": []
    },
    {
      "cell_type": "code",
      "metadata": {
        "id": "dPXizeXk11xY",
        "colab_type": "code",
        "colab": {}
      },
      "source": [
        "x_train.shape, x_test.shape"
      ],
      "execution_count": null,
      "outputs": []
    },
    {
      "cell_type": "code",
      "metadata": {
        "id": "r2J7iiG06vyF",
        "colab_type": "code",
        "colab": {}
      },
      "source": [
        "y_train.shape, y_test.shape"
      ],
      "execution_count": null,
      "outputs": []
    },
    {
      "cell_type": "markdown",
      "metadata": {
        "id": "KRk3b4DV13r1",
        "colab_type": "text"
      },
      "source": [
        "# Modelling"
      ]
    },
    {
      "cell_type": "code",
      "metadata": {
        "id": "PI4q811O16Ky",
        "colab_type": "code",
        "colab": {}
      },
      "source": [
        "# Help Functions\n",
        "# Need to consider the trade offs between the models you use\n",
        "def get_performance (model_pred):\n",
        "  #Function returns standard performance metrics\n",
        "  print('Mean Absolute Error:', metrics.mean_absolute_error(y_test, model_pred).round(4))  \n",
        "  print('Mean Squared Error:', metrics.mean_squared_error(y_test, model_pred).round(4))  \n",
        "  print('Root Mean Squared Error:', np.sqrt(metrics.mean_squared_error(y_test, model_pred)).round(4))\n",
        "  \n",
        "  \n",
        "  \n",
        "def get_plot (model_pred):\n",
        "  plt.scatter(model_pred, y_test, color=\"gray\")\n",
        "  plt.plot(y_test, y_test, color='red', linewidth=2)"
      ],
      "execution_count": null,
      "outputs": []
    },
    {
      "cell_type": "markdown",
      "metadata": {
        "id": "FYoFtFd_2AfY",
        "colab_type": "text"
      },
      "source": [
        "# Baseline"
      ]
    },
    {
      "cell_type": "code",
      "metadata": {
        "id": "sLHsHgTQ2DGn",
        "colab_type": "code",
        "colab": {}
      },
      "source": [
        "# let your prediction be the most recent observation\n",
        "# looking at the one day previous \n",
        "# np.roll-> similar to shift for a dataframe\n",
        "y_pred_lag=np.roll(y_test,1)"
      ],
      "execution_count": null,
      "outputs": []
    },
    {
      "cell_type": "code",
      "metadata": {
        "id": "4Ir4-LloDb4P",
        "colab_type": "code",
        "colab": {}
      },
      "source": [
        "# np.roll(y,1)"
      ],
      "execution_count": null,
      "outputs": []
    },
    {
      "cell_type": "code",
      "metadata": {
        "id": "_r_TITKw2Edb",
        "colab_type": "code",
        "colab": {}
      },
      "source": [
        "# any has to be better than this\n",
        "# performance reltive to that very simlpe approach\n",
        "get_performance(y_pred_lag)"
      ],
      "execution_count": null,
      "outputs": []
    },
    {
      "cell_type": "code",
      "metadata": {
        "id": "2N_n_4PL2Gbo",
        "colab_type": "code",
        "colab": {}
      },
      "source": [
        "# Why cant I print dates on the bottom of my graph?\n",
        "from datetime import datetime, timedelta\n",
        "from matplotlib import pyplot as plt\n",
        "from matplotlib import dates as mpl_dates\n",
        "plt.style.use('seaborn')\n",
        "from matplotlib import rcParams\n",
        "rcParams['figure.figsize'] = 15,6\n",
        "\n",
        "get_plot(y_pred_lag)\n",
        "# plt.plot(y_pred_gb)\n",
        "plt.title('Baseline Model of USD/GBP & US Gas Prices')\n",
        "plt.xlabel('Date')\n",
        "plt.ylabel('Price of USD/GBP & Gas Prices')\n",
        "# dates = np.array(dateFormatting['Date'])\n",
        "# plt.plot_date(dates,y_pred_gb, linestyle ='solid')"
      ],
      "execution_count": null,
      "outputs": []
    },
    {
      "cell_type": "markdown",
      "metadata": {
        "id": "RLVFl_uE2HOy",
        "colab_type": "text"
      },
      "source": [
        "# Linear Regression"
      ]
    },
    {
      "cell_type": "code",
      "metadata": {
        "id": "3Jh_KT032JJF",
        "colab_type": "code",
        "colab": {}
      },
      "source": [
        "# assigning the linear regression model\n",
        "model_lr=LinearRegression()\n",
        "# fitting the linear regression model to xtrain, xytrain\n",
        "model_lr.fit(x_train, y_train)"
      ],
      "execution_count": null,
      "outputs": []
    },
    {
      "cell_type": "code",
      "metadata": {
        "id": "p6wX8YGA_Bt0",
        "colab_type": "code",
        "colab": {}
      },
      "source": [
        "#help\n",
        "# ?model_lr.fit()"
      ],
      "execution_count": null,
      "outputs": []
    },
    {
      "cell_type": "code",
      "metadata": {
        "id": "55kM7Tmt2Kxx",
        "colab_type": "code",
        "colab": {}
      },
      "source": [
        "# x variable and predict the y \n",
        "y_pred_lr=model_lr.predict(x_test)"
      ],
      "execution_count": null,
      "outputs": []
    },
    {
      "cell_type": "code",
      "metadata": {
        "id": "q7RBFFWg2MNM",
        "colab_type": "code",
        "colab": {}
      },
      "source": [
        "# check how they compare to the baseline\n",
        "# not a big difference at all only in root mean\n",
        "# not great\n",
        "get_performance(y_pred_lr)"
      ],
      "execution_count": null,
      "outputs": []
    },
    {
      "cell_type": "code",
      "metadata": {
        "id": "1GCELg5O2NR4",
        "colab_type": "code",
        "colab": {}
      },
      "source": [
        "# Why cant I print dates on the bottom of my graph?\n",
        "from datetime import datetime, timedelta\n",
        "from matplotlib import pyplot as plt\n",
        "from matplotlib import dates as mpl_dates\n",
        "plt.style.use('seaborn')\n",
        "from matplotlib import rcParams\n",
        "rcParams['figure.figsize'] = 15,6\n",
        "\n",
        "get_plot(y_pred_lr)\n",
        "# plt.plot(y_pred_gb)\n",
        "plt.title('Linear Regression Model USD/GBP & US Gas Prices')\n",
        "plt.xlabel('Date')\n",
        "plt.ylabel('Price')\n",
        "# dates = np.array(dateFormatting['Date'])\n",
        "# plt.plot_date(dates,y_pred_gb, linestyle ='solid')"
      ],
      "execution_count": null,
      "outputs": []
    },
    {
      "cell_type": "code",
      "metadata": {
        "id": "RuzwJ5xc2QPd",
        "colab_type": "code",
        "colab": {}
      },
      "source": [
        "get_performance(y_pred_lr)"
      ],
      "execution_count": null,
      "outputs": []
    },
    {
      "cell_type": "code",
      "metadata": {
        "id": "W3Vait_pBccT",
        "colab_type": "code",
        "colab": {}
      },
      "source": [
        "# this should list our 12 co-efficients for all of our variables\n",
        "# most recent day: 1.18024445\n",
        "# as you can see other values are - and small, this is why the baseline \n",
        "# is so good because the previous day is the msot important value\n",
        "# change is marginal\n",
        "# only focus on the the last one\n",
        "# problem: only print the last output\n",
        "model_lr.coef_"
      ],
      "execution_count": null,
      "outputs": []
    },
    {
      "cell_type": "markdown",
      "metadata": {
        "id": "Tm4d5DFB2OUa",
        "colab_type": "text"
      },
      "source": [
        "\n",
        "\n",
        "```\n",
        "# This is formatted as code\n",
        "```\n",
        "\n",
        "# Ridge Regression"
      ]
    },
    {
      "cell_type": "code",
      "metadata": {
        "id": "hmgrOw2a2T7s",
        "colab_type": "code",
        "colab": {}
      },
      "source": [
        "model_ridge = Ridge()\n",
        "model_ridge.fit(x_train, y_train)\n",
        "\n",
        "#generate predictions\n",
        "y_pred_ridge=model_ridge.predict(x_test)"
      ],
      "execution_count": null,
      "outputs": []
    },
    {
      "cell_type": "code",
      "metadata": {
        "id": "PJkjfnWs2VUR",
        "colab_type": "code",
        "colab": {}
      },
      "source": [
        "# look at difference in baseline and ridge regression\n",
        "# trying to figure out which one of the features is the most prominent\n",
        "get_performance(y_pred_ridge)"
      ],
      "execution_count": null,
      "outputs": []
    },
    {
      "cell_type": "code",
      "metadata": {
        "id": "rrRlsFSv2Wl3",
        "colab_type": "code",
        "colab": {}
      },
      "source": [
        "# Why cant I print dates on the bottom of my graph?\n",
        "from datetime import datetime, timedelta\n",
        "from matplotlib import pyplot as plt\n",
        "from matplotlib import dates as mpl_dates\n",
        "plt.style.use('seaborn')\n",
        "from matplotlib import rcParams\n",
        "rcParams['figure.figsize'] = 15,6\n",
        "\n",
        "get_plot(y_pred_ridge)\n",
        "# plt.plot(y_pred_gb)\n",
        "plt.title('Ridge Regression Model of USD/GBP & US Gas Prices')\n",
        "plt.xlabel('Date')\n",
        "plt.ylabel('Price')\n",
        "# dates = np.array(dateFormatting['Date'])\n",
        "# plt.plot_date(dates,y_pred_gb, linestyle ='solid')"
      ],
      "execution_count": null,
      "outputs": []
    },
    {
      "cell_type": "code",
      "metadata": {
        "id": "xUa-kWfwAo3E",
        "colab_type": "code",
        "colab": {}
      },
      "source": [
        "# this should list our 12 co-efficients for all of our variables\n",
        "# most recent day: 0.09432427\n",
        "# change is marginal\n",
        "# only focus on the the last one\n",
        "# problem: only print the last output\n",
        "# limit the number of days your looking back\n",
        "# what is the trend: higher/lower?\n",
        "# keep same features but apply different features\n",
        "# k folds cross validation? in terms of splitting the data\n",
        "model_ridge.coef_"
      ],
      "execution_count": null,
      "outputs": []
    },
    {
      "cell_type": "markdown",
      "metadata": {
        "id": "Z0m3Q47Y2Y9t",
        "colab_type": "text"
      },
      "source": [
        "# Gradient Boosting Trees"
      ]
    },
    {
      "cell_type": "code",
      "metadata": {
        "id": "JbwyJMpR2aKT",
        "colab_type": "code",
        "colab": {}
      },
      "source": [
        "# Model #2 - Gradient Boosting Trees\n",
        "# not linear, tree based\n",
        "model_gb = GradientBoostingRegressor()\n",
        "model_gb.fit(x_train, y_train)\n",
        "\n",
        "# Infer\n",
        "y_pred_gb = model_gb.predict(x_test)"
      ],
      "execution_count": null,
      "outputs": []
    },
    {
      "cell_type": "code",
      "metadata": {
        "id": "nTghilU72bjZ",
        "colab_type": "code",
        "colab": {}
      },
      "source": [
        "get_performance(y_pred_gb)"
      ],
      "execution_count": null,
      "outputs": []
    },
    {
      "cell_type": "code",
      "metadata": {
        "id": "o4vFtlSl2d5C",
        "colab_type": "code",
        "colab": {}
      },
      "source": [
        "# Why cant I print dates on the bottom of my graph?\n",
        "from datetime import datetime, timedelta\n",
        "from matplotlib import pyplot as plt\n",
        "from matplotlib import dates as mpl_dates\n",
        "plt.style.use('seaborn')\n",
        "from matplotlib import rcParams\n",
        "rcParams['figure.figsize'] = 15,6\n",
        "\n",
        "get_plot(y_pred_gb)\n",
        "# plt.plot(y_pred_gb)\n",
        "plt.title('Gradient Boosting Model of USD/GBP & US Gas Prices')\n",
        "plt.xlabel('Date')\n",
        "plt.ylabel('Price')\n",
        "# dates = np.array(dateFormatting['Date'])\n",
        "# plt.plot_date(dates,y_pred_gb, linestyle ='solid')"
      ],
      "execution_count": null,
      "outputs": []
    },
    {
      "cell_type": "markdown",
      "metadata": {
        "id": "-Mu3mNPs2fPA",
        "colab_type": "text"
      },
      "source": [
        "# Comparison"
      ]
    },
    {
      "cell_type": "code",
      "metadata": {
        "id": "TGewSgao2gh4",
        "colab_type": "code",
        "colab": {}
      },
      "source": [
        "# absolute -> only have positives\n",
        "df_comp=pd.DataFrame({\"lag\":np.absolute(y_test-y_pred_lag), \n",
        "              \"lr\":np.absolute(y_test-y_pred_lr), \n",
        "              \"ridge\":np.absolute(y_test-y_pred_ridge),\n",
        "              \"gb\":np.absolute(y_test-y_pred_gb)})"
      ],
      "execution_count": null,
      "outputs": []
    },
    {
      "cell_type": "code",
      "metadata": {
        "id": "d91Ux-I6C9bZ",
        "colab_type": "code",
        "colab": {}
      },
      "source": [
        "df_comp.head()"
      ],
      "execution_count": null,
      "outputs": []
    },
    {
      "cell_type": "code",
      "metadata": {
        "id": "Gn5BAsRqDI_g",
        "colab_type": "code",
        "colab": {}
      },
      "source": [
        "# go over again 51:22\n",
        "y_pred_lag"
      ],
      "execution_count": null,
      "outputs": []
    },
    {
      "cell_type": "code",
      "metadata": {
        "id": "Vw-2wFox2iEd",
        "colab_type": "code",
        "colab": {}
      },
      "source": [
        "#\n",
        "df_comp.plot.bar(figsize=(16, 6))\n",
        "# show me days 0 to 10\n",
        "plt.xlim(11,20)\n",
        "# unsure why this line doesnt work\n",
        "# plt.ylim(0,10)"
      ],
      "execution_count": null,
      "outputs": []
    },
    {
      "cell_type": "markdown",
      "metadata": {
        "id": "Amdw7fOJEroX",
        "colab_type": "text"
      },
      "source": [
        "# Conclusion and next steps\n",
        "\n",
        "Explored 4 different algorithms, ranging from simple to complex:\n",
        "\n",
        "\n",
        "*   Lag (Previous day's price)\n",
        "*   Linear Regression \n",
        "*   Ridge Regression\n",
        "*   Gradient Boosting Trees\n",
        "\n",
        "In conclusion it seems that Linear Regression gives us the best performance with the least complexity. Next steps might include adding additional features such as trend and recent volatility (go over).\n",
        "\n",
        "\n"
      ]
    }
  ]
}