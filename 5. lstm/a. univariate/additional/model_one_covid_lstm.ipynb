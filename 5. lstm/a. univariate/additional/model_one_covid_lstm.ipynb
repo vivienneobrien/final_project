{
  "nbformat": 4,
  "nbformat_minor": 0,
  "metadata": {
    "colab": {
      "name": "model_one_covid_lstm.ipynb",
      "provenance": [],
      "collapsed_sections": []
    },
    "kernelspec": {
      "name": "python3",
      "display_name": "Python 3"
    },
    "accelerator": "GPU"
  },
  "cells": [
    {
      "cell_type": "markdown",
      "metadata": {
        "id": "JgdK1L0bjQsY",
        "colab_type": "text"
      },
      "source": [
        "# Model #1 Univariate LSTM (Covid Deaths)\n",
        "\n",
        "* Import owid_covid_dataset.csv\n",
        "* Using COVID-19 Total Daily Deaths as input into an LSTM model to predict COVID-19 Total Daily Deaths."
      ]
    },
    {
      "cell_type": "markdown",
      "metadata": {
        "id": "hj06VW8PjHI3",
        "colab_type": "text"
      },
      "source": [
        "# Imports"
      ]
    },
    {
      "cell_type": "code",
      "metadata": {
        "id": "GDBxlQkCD7Mj",
        "colab_type": "code",
        "colab": {
          "base_uri": "https://localhost:8080/",
          "height": 326
        },
        "outputId": "4d04d5fb-fe78-40ea-8033-39fc0aa87db6"
      },
      "source": [
        "# Imports\n",
        "!pip install git+https://github.com/tensorflow/docs\n",
        "import tensorflow as tf\n",
        "print(tf.__version__)\n",
        "\n",
        "# Libraries\n",
        "import pathlib\n",
        "import numpy as np\n",
        "import pandas as pd\n",
        "from numpy import array\n",
        "\n",
        "# Plotting\n",
        "from datetime import datetime, timedelta\n",
        "from matplotlib import pyplot as plt\n",
        "from matplotlib import dates as mpl_dates\n",
        "plt.style.use('seaborn')\n",
        "from matplotlib import rcParams\n",
        "\n",
        "# Model\n",
        "from sklearn.preprocessing import MinMaxScaler\n",
        "from tensorflow import keras\n",
        "from tensorflow.keras.models import Sequential\n",
        "from tensorflow.keras.layers import Dense\n",
        "from tensorflow.keras.layers import InputLayer, Dense, LSTM, Dropout\n",
        "from numpy.random import seed\n",
        "from random import shuffle\n",
        "\n",
        "# Metric\n",
        "from sklearn import metrics\n",
        "from sklearn.metrics import mean_absolute_error\n",
        "from sklearn.metrics import mean_squared_error\n",
        "from sklearn.metrics import r2_score\n",
        "from math import sqrt\n"
      ],
      "execution_count": 1,
      "outputs": [
        {
          "output_type": "stream",
          "text": [
            "Collecting git+https://github.com/tensorflow/docs\n",
            "  Cloning https://github.com/tensorflow/docs to /tmp/pip-req-build-34ig2xi6\n",
            "  Running command git clone -q https://github.com/tensorflow/docs /tmp/pip-req-build-34ig2xi6\n",
            "Requirement already satisfied: astor in /usr/local/lib/python3.6/dist-packages (from tensorflow-docs===0.0.0b6c19867d6ef4ef69f6ed5688eaf92c4a3145b79-) (0.8.1)\n",
            "Requirement already satisfied: absl-py in /usr/local/lib/python3.6/dist-packages (from tensorflow-docs===0.0.0b6c19867d6ef4ef69f6ed5688eaf92c4a3145b79-) (0.8.1)\n",
            "Requirement already satisfied: protobuf in /usr/local/lib/python3.6/dist-packages (from tensorflow-docs===0.0.0b6c19867d6ef4ef69f6ed5688eaf92c4a3145b79-) (3.12.4)\n",
            "Requirement already satisfied: pyyaml in /usr/local/lib/python3.6/dist-packages (from tensorflow-docs===0.0.0b6c19867d6ef4ef69f6ed5688eaf92c4a3145b79-) (3.13)\n",
            "Requirement already satisfied: six in /usr/local/lib/python3.6/dist-packages (from absl-py->tensorflow-docs===0.0.0b6c19867d6ef4ef69f6ed5688eaf92c4a3145b79-) (1.15.0)\n",
            "Requirement already satisfied: setuptools in /usr/local/lib/python3.6/dist-packages (from protobuf->tensorflow-docs===0.0.0b6c19867d6ef4ef69f6ed5688eaf92c4a3145b79-) (49.6.0)\n",
            "Building wheels for collected packages: tensorflow-docs\n",
            "  Building wheel for tensorflow-docs (setup.py) ... \u001b[?25l\u001b[?25hdone\n",
            "  Created wheel for tensorflow-docs: filename=tensorflow_docs-0.0.0b6c19867d6ef4ef69f6ed5688eaf92c4a3145b79_-cp36-none-any.whl size=139117 sha256=542c55652c630e57e80b8cd9880550cfb71996d3024e9856949356e0f2c9e798\n",
            "  Stored in directory: /tmp/pip-ephem-wheel-cache-dhj_r51h/wheels/eb/1b/35/fce87697be00d2fc63e0b4b395b0d9c7e391a10e98d9a0d97f\n",
            "Successfully built tensorflow-docs\n",
            "Installing collected packages: tensorflow-docs\n",
            "Successfully installed tensorflow-docs-0.0.0b6c19867d6ef4ef69f6ed5688eaf92c4a3145b79-\n",
            "2.3.0\n"
          ],
          "name": "stdout"
        }
      ]
    },
    {
      "cell_type": "code",
      "metadata": {
        "id": "U7zLL7tQm3eq",
        "colab_type": "code",
        "colab": {}
      },
      "source": [
        "seed(1)\n",
        "tf.random.set_seed(2)"
      ],
      "execution_count": 2,
      "outputs": []
    },
    {
      "cell_type": "markdown",
      "metadata": {
        "id": "QzadtzC3Hniw",
        "colab_type": "text"
      },
      "source": [
        "# Data Collection\n"
      ]
    },
    {
      "cell_type": "code",
      "metadata": {
        "id": "kIDXEXFDf4N5",
        "colab_type": "code",
        "colab": {
          "base_uri": "https://localhost:8080/",
          "height": 204
        },
        "outputId": "88b4c0ca-f5ca-4155-96ab-2bc07652073a"
      },
      "source": [
        "# Importing covid_dataset\n",
        "covid_dataset_data= pd.read_csv('owid_covid_data.csv', na_values = \"?\", comment='\\t', skipinitialspace=True)\n",
        "covid_dataset = covid_dataset_data.copy()\n",
        "dataset = covid_dataset.loc[covid_dataset.location=='United States', ['date', 'total_cases', 'total_deaths']]\n",
        "dataset.head()"
      ],
      "execution_count": 6,
      "outputs": [
        {
          "output_type": "execute_result",
          "data": {
            "text/html": [
              "<div>\n",
              "<style scoped>\n",
              "    .dataframe tbody tr th:only-of-type {\n",
              "        vertical-align: middle;\n",
              "    }\n",
              "\n",
              "    .dataframe tbody tr th {\n",
              "        vertical-align: top;\n",
              "    }\n",
              "\n",
              "    .dataframe thead th {\n",
              "        text-align: right;\n",
              "    }\n",
              "</style>\n",
              "<table border=\"1\" class=\"dataframe\">\n",
              "  <thead>\n",
              "    <tr style=\"text-align: right;\">\n",
              "      <th></th>\n",
              "      <th>date</th>\n",
              "      <th>total_cases</th>\n",
              "      <th>total_deaths</th>\n",
              "    </tr>\n",
              "  </thead>\n",
              "  <tbody>\n",
              "    <tr>\n",
              "      <th>32403</th>\n",
              "      <td>2019-12-31</td>\n",
              "      <td>0.0</td>\n",
              "      <td>0.0</td>\n",
              "    </tr>\n",
              "    <tr>\n",
              "      <th>32404</th>\n",
              "      <td>2020-01-01</td>\n",
              "      <td>0.0</td>\n",
              "      <td>0.0</td>\n",
              "    </tr>\n",
              "    <tr>\n",
              "      <th>32405</th>\n",
              "      <td>2020-01-02</td>\n",
              "      <td>0.0</td>\n",
              "      <td>0.0</td>\n",
              "    </tr>\n",
              "    <tr>\n",
              "      <th>32406</th>\n",
              "      <td>2020-01-03</td>\n",
              "      <td>0.0</td>\n",
              "      <td>0.0</td>\n",
              "    </tr>\n",
              "    <tr>\n",
              "      <th>32407</th>\n",
              "      <td>2020-01-04</td>\n",
              "      <td>0.0</td>\n",
              "      <td>0.0</td>\n",
              "    </tr>\n",
              "  </tbody>\n",
              "</table>\n",
              "</div>"
            ],
            "text/plain": [
              "             date  total_cases  total_deaths\n",
              "32403  2019-12-31          0.0           0.0\n",
              "32404  2020-01-01          0.0           0.0\n",
              "32405  2020-01-02          0.0           0.0\n",
              "32406  2020-01-03          0.0           0.0\n",
              "32407  2020-01-04          0.0           0.0"
            ]
          },
          "metadata": {
            "tags": []
          },
          "execution_count": 6
        }
      ]
    },
    {
      "cell_type": "markdown",
      "metadata": {
        "id": "jSj8rJl-b-N4",
        "colab_type": "text"
      },
      "source": [
        "### Plotting Accumulative Daily Deaths before Normalisation\n"
      ]
    },
    {
      "cell_type": "code",
      "metadata": {
        "id": "O7oUSoarSoq5",
        "colab_type": "code",
        "colab": {}
      },
      "source": [
        "date = dataset['date']\n",
        "dateFormatting = pd.DataFrame({'new_date': pd.date_range('2019-12-31', '2020-07-31', periods=len(date))})\n",
        "my_xticks = dateFormatting['new_date'].tolist()"
      ],
      "execution_count": 9,
      "outputs": []
    },
    {
      "cell_type": "code",
      "metadata": {
        "id": "eDGMN3GG6wOL",
        "colab_type": "code",
        "colab": {}
      },
      "source": [
        "# Adds the accumulative deaths every day of a country\n",
        "total_deaths = dataset['total_deaths']\n",
        "newDayDeaths = 0\n",
        "daily_total_deaths = []\n",
        "for dailyDeaths in total_deaths:\n",
        "  newDayDeaths = dailyDeaths + newDayDeaths\n",
        "  daily_total_deaths.append(newDayDeaths)\n",
        "\n"
      ],
      "execution_count": 10,
      "outputs": []
    },
    {
      "cell_type": "code",
      "metadata": {
        "id": "j25WZIJfePSb",
        "colab_type": "code",
        "colab": {
          "base_uri": "https://localhost:8080/",
          "height": 346
        },
        "outputId": "c98373f0-1ea6-407d-f820-3f836269a266"
      },
      "source": [
        "# Plots the accumulative daily death rates of a country\n",
        "rcParams['figure.figsize'] = 15,6\n",
        "dates = np.array(dateFormatting['new_date'])\n",
        "deaths = np.array(daily_total_deaths)\n",
        "plt.plot_date(dates, deaths, linestyle ='solid')\n",
        "plt.gcf().autofmt_xdate()\n",
        "date_format = mpl_dates.DateFormatter('%b,%d,%Y')\n",
        "plt.title('Time Series of Total Deaths Daily of Country', size = 20)\n",
        "plt.xlabel('Date')\n",
        "plt.ylabel('Total Deaths')\n",
        "plt.gca().xaxis.set_major_formatter(date_format)\n"
      ],
      "execution_count": 40,
      "outputs": [
        {
          "output_type": "display_data",
          "data": {
            "image/png": "[encoded data removed]",
            "text/plain": [
              "<Figure size 1080x432 with 1 Axes>"
            ]
          },
          "metadata": {
            "tags": [],
            "needs_background": "light"
          }
        }
      ]
    },
    {
      "cell_type": "markdown",
      "metadata": {
        "id": "kkWFQ8HeIerS",
        "colab_type": "text"
      },
      "source": [
        "### Plotting Features after Normalisation"
      ]
    },
    {
      "cell_type": "code",
      "metadata": {
        "id": "v6NykB3TSJxe",
        "colab_type": "code",
        "colab": {}
      },
      "source": [
        "deaths_frame = pd.DataFrame(np.concatenate([deaths]), columns= [\"total_deaths\"])\n",
        "scaler = MinMaxScaler(feature_range=(0,1))\n",
        "normalisation_deaths= scaler.fit_transform(deaths_frame).reshape(-1,1)"
      ],
      "execution_count": 12,
      "outputs": []
    },
    {
      "cell_type": "code",
      "metadata": {
        "id": "jG6Frxvpw_YL",
        "colab_type": "code",
        "colab": {
          "base_uri": "https://localhost:8080/",
          "height": 346
        },
        "outputId": "952b2465-7b6f-460a-f180-21ea44fb3185"
      },
      "source": [
        "rcParams['figure.figsize'] = 15,6\n",
        "dates = np.array(dateFormatting['new_date'])\n",
        "plt.plot_date(dates, normalisation_deaths, linestyle ='solid')\n",
        "plt.gcf().autofmt_xdate()\n",
        "date_format = mpl_dates.DateFormatter('%b,%d,%Y')\n",
        "plt.gca().xaxis.set_major_formatter(date_format)\n",
        "plt.title('Time Series of Total Deaths Daily of Country', size = 20)\n",
        "plt.ylabel('Normalisation between 0 and 1')\n",
        "plt.xlabel('Date')\n",
        "plt.show()\n"
      ],
      "execution_count": 41,
      "outputs": [
        {
          "output_type": "display_data",
          "data": {
            "image/png": "[encoded data removed]",
            "text/plain": [
              "<Figure size 1080x432 with 1 Axes>"
            ]
          },
          "metadata": {
            "tags": [],
            "needs_background": "light"
          }
        }
      ]
    },
    {
      "cell_type": "markdown",
      "metadata": {
        "id": "FrNnj6gGIkmf",
        "colab_type": "text"
      },
      "source": [
        "# Splitting Data into Train, Validation & Test\n"
      ]
    },
    {
      "cell_type": "code",
      "metadata": {
        "id": "ohrplNEGeLIQ",
        "colab_type": "code",
        "colab": {}
      },
      "source": [
        "new_dataset = normalisation_deaths"
      ],
      "execution_count": 14,
      "outputs": []
    },
    {
      "cell_type": "code",
      "metadata": {
        "id": "Sx35yrWb1MIz",
        "colab_type": "code",
        "colab": {
          "base_uri": "https://localhost:8080/",
          "height": 68
        },
        "outputId": "c391e229-89aa-4430-ae9d-6cc70bca986d"
      },
      "source": [
        "# Test, Validation, Train \n",
        "training_size = int(len(new_dataset)*0.80)\n",
        "test_size = (len(new_dataset)-training_size)//2 # // Rounds down\n",
        "train_data, valset_data, test_data = new_dataset[0:training_size], new_dataset[training_size:(training_size + test_size)],new_dataset[(training_size + test_size):]\n",
        "print(train_data.shape)\n",
        "print(valset_data.shape)\n",
        "print(test_data.shape)"
      ],
      "execution_count": 15,
      "outputs": [
        {
          "output_type": "stream",
          "text": [
            "(174, 1)\n",
            "(22, 1)\n",
            "(22, 1)\n"
          ],
          "name": "stdout"
        }
      ]
    },
    {
      "cell_type": "code",
      "metadata": {
        "id": "nMI0whYYecFN",
        "colab_type": "code",
        "colab": {
          "base_uri": "https://localhost:8080/",
          "height": 350
        },
        "outputId": "e97bdaae-760a-488c-8f8b-50cb95d2ea12"
      },
      "source": [
        "# Start – Train\n",
        "rcParams['figure.figsize'] = 15,6\n",
        "plt.plot(train_data, label=\"Actual Train Dataset\")\n",
        "plt.title('Normalised Train Dataset', size = 20)\n",
        "plt.ylabel('Normalised Data')\n",
        "plt.xlabel('Days')\n",
        "plt.legend()\n",
        "plt.show()"
      ],
      "execution_count": 16,
      "outputs": [
        {
          "output_type": "display_data",
          "data": {
            "image/png": "[encoded data removed]",
            "text/plain": [
              "<Figure size 1080x432 with 1 Axes>"
            ]
          },
          "metadata": {
            "tags": [],
            "needs_background": "light"
          }
        }
      ]
    },
    {
      "cell_type": "code",
      "metadata": {
        "id": "cOveayzhiTAX",
        "colab_type": "code",
        "colab": {
          "base_uri": "https://localhost:8080/",
          "height": 348
        },
        "outputId": "2ed9158f-3f27-491c-94c6-353d9d7f863a"
      },
      "source": [
        "# Middle – Validation\n",
        "rcParams['figure.figsize'] = 15,6\n",
        "plt.plot(valset_data, label=\"Actual Validation Dataset\")\n",
        "plt.title('Normalised Validation Dataset', size = 20)\n",
        "plt.ylabel('Normalised Data')\n",
        "plt.xlabel('Days')\n",
        "plt.legend()\n",
        "plt.show()"
      ],
      "execution_count": 17,
      "outputs": [
        {
          "output_type": "display_data",
          "data": {
            "image/png": "[encoded data removed]",
            "text/plain": [
              "<Figure size 1080x432 with 1 Axes>"
            ]
          },
          "metadata": {
            "tags": [],
            "needs_background": "light"
          }
        }
      ]
    },
    {
      "cell_type": "code",
      "metadata": {
        "id": "q8kVa9tIiVrN",
        "colab_type": "code",
        "colab": {
          "base_uri": "https://localhost:8080/",
          "height": 348
        },
        "outputId": "5a2d74db-031c-41a0-a920-44bd703fa242"
      },
      "source": [
        "# End - Test\n",
        "rcParams['figure.figsize'] = 15,6\n",
        "plt.plot(test_data, label=\"Actual Test Dataset\")\n",
        "plt.title('Normalised Test Data', size =20)\n",
        "plt.ylabel('Normalised Data')\n",
        "plt.xlabel('Days')\n",
        "plt.legend()\n",
        "plt.show()"
      ],
      "execution_count": 18,
      "outputs": [
        {
          "output_type": "display_data",
          "data": {
            "image/png": "[encoded data removed]",
            "text/plain": [
              "<Figure size 1080x432 with 1 Axes>"
            ]
          },
          "metadata": {
            "tags": [],
            "needs_background": "light"
          }
        }
      ]
    },
    {
      "cell_type": "markdown",
      "metadata": {
        "id": "MYg8cy2X5opG",
        "colab_type": "text"
      },
      "source": [
        "# X_train, Y_train, X_test, Y_test\n",
        "\n",
        "*   time_step: previous days to consider before making prediction\n",
        "\n"
      ]
    },
    {
      "cell_type": "code",
      "metadata": {
        "id": "9-ztULPocZwz",
        "colab_type": "code",
        "colab": {}
      },
      "source": [
        "# Convert an array of values into a dataset matrix\n",
        "def create_dataset(dataset, time_step):\n",
        "  dataX, dataY = [],[]\n",
        "  # range: is the days in dataset - the days we need to consider - the 8th day\n",
        "  for i in range(len(dataset)-time_step-1):\n",
        "    a = dataset[i:(i+time_step)]  # from i -> 6th day\n",
        "    dataX.append(a) \n",
        "    y = dataset[i + time_step] # 7th day\n",
        "    dataY.append(y)\n",
        "  return np.array(dataX), np.array(dataY)"
      ],
      "execution_count": 19,
      "outputs": []
    },
    {
      "cell_type": "code",
      "metadata": {
        "id": "Px9IGCSscc0H",
        "colab_type": "code",
        "colab": {}
      },
      "source": [
        "# Weekly_timestep means taking in 7 days of features at a time \n",
        "weekly_timestep = 7\n",
        "X_train, Y_train = create_dataset(train_data, weekly_timestep)\n",
        "X_val, Y_val = create_dataset(valset_data, weekly_timestep)\n",
        "X_test, Y_test = create_dataset(test_data, weekly_timestep)"
      ],
      "execution_count": 20,
      "outputs": []
    },
    {
      "cell_type": "markdown",
      "metadata": {
        "id": "rQxS8R3VI2bP",
        "colab_type": "text"
      },
      "source": [
        "# Stacked LSTM Model"
      ]
    },
    {
      "cell_type": "code",
      "metadata": {
        "id": "fuLjcvVwM7Sc",
        "colab_type": "code",
        "colab": {}
      },
      "source": [
        "def lstm_model(lr_rate, neuron_layer, optimizer_one):\n",
        "  model = Sequential()\n",
        "  opt = None\n",
        "  if optimizer_one == 'adam':\n",
        "   opt = keras.optimizers.Adam(learning_rate=lr_rate)\n",
        "  elif optimizer_one == 'sgd':\n",
        "   opt = keras.optimizers.SGD(learning_rate=lr_rate)\n",
        "  else:\n",
        "   opt = keras.optimizers.Adamax(learning_rate=lr_rate)\n",
        "  model.add(InputLayer(input_shape=(7,1)))\n",
        "  model.add(LSTM(neuron_layer, return_sequences=True))\n",
        "  model.add(Dense(10))\n",
        "  model.add(LSTM(neuron_layer))\n",
        "  model.add(Dense(1))\n",
        "  model.compile(loss = 'mean_squared_error', optimizer=opt)\n",
        "  return model\n",
        "\n",
        "\n",
        "  \n",
        "\n",
        "  "
      ],
      "execution_count": 21,
      "outputs": []
    },
    {
      "cell_type": "markdown",
      "metadata": {
        "id": "tkkElpH-cy_h",
        "colab_type": "text"
      },
      "source": [
        "### Hyperparameter Tuning\n",
        "![Grid Search & Random Search](https://miro.medium.com/max/1200/1*ZTlQm_WRcrNqL-nLnx6GJA.png)\n",
        "\n",
        "\n"
      ]
    },
    {
      "cell_type": "code",
      "metadata": {
        "id": "m_qE17TCQfOg",
        "colab_type": "code",
        "colab": {}
      },
      "source": [
        "# Function to create the best model for hyperparameters method\n",
        "def bestModel(least_loss, learning_rate_list, optimizer_list, neuron_list):\n",
        "  for each_neuron in neuron_list:\n",
        "    for each_optimizer in optimizer_list:\n",
        "      for each_learning_rate in learning_rate_list:\n",
        "        our_model = lstm_model(each_learning_rate, each_neuron, each_optimizer)\n",
        "        our_model.fit(X_train, Y_train, \n",
        "                validation_data= \n",
        "                (X_val, Y_val)\n",
        "                , epochs=100,batch_size=10,verbose=1,\n",
        "                callbacks=[tf.keras.callbacks.EarlyStopping(patience=3, restore_best_weights=True)])\n",
        "        loss = our_model.evaluate(X_test, Y_test)\n",
        "        if loss < least_loss:\n",
        "          least_loss = loss\n",
        "          best_learning_rate = each_learning_rate\n",
        "          best_optimizer = each_optimizer\n",
        "          best_neuron = each_neuron\n",
        "    return least_loss, best_learning_rate, best_optimizer, best_neuron"
      ],
      "execution_count": 22,
      "outputs": []
    },
    {
      "cell_type": "markdown",
      "metadata": {
        "id": "VDbgWWCHLcdm",
        "colab_type": "text"
      },
      "source": [
        "#### Grid Search\n",
        "\n"
      ]
    },
    {
      "cell_type": "code",
      "metadata": {
        "id": "eA11PFS2lemX",
        "colab_type": "code",
        "colab": {
          "base_uri": "https://localhost:8080/",
          "height": 1000
        },
        "outputId": "7c31c4bb-876e-4968-d436-4081e32a8952"
      },
      "source": [
        "neuron_list = [15,30,10]\n",
        "optimizer_list = ['adam', 'adamax']\n",
        "learning_rate_list = [3e-3,3e-4]\n",
        "least_loss_grid_search = 1\n",
        "\n",
        "best_grid_search_model = bestModel(least_loss_grid_search, learning_rate_list, optimizer_list, neuron_list)\n",
        "print(best_grid_search_model)\n"
      ],
      "execution_count": 23,
      "outputs": [
        {
          "output_type": "stream",
          "text": [
            "Epoch 1/100\n",
            "17/17 [==============================] - 1s 40ms/step - loss: 0.0072 - val_loss: 0.0105\n",
            "Epoch 2/100\n",
            "17/17 [==============================] - 0s 6ms/step - loss: 0.0017 - val_loss: 4.4639e-04\n",
            "Epoch 3/100\n",
            "17/17 [==============================] - 0s 6ms/step - loss: 4.2340e-04 - val_loss: 0.0044\n",
            "Epoch 4/100\n",
            "17/17 [==============================] - 0s 6ms/step - loss: 1.1793e-04 - val_loss: 1.0972e-05\n",
            "Epoch 5/100\n",
            "17/17 [==============================] - 0s 5ms/step - loss: 8.4892e-05 - val_loss: 3.4932e-04\n",
            "Epoch 6/100\n",
            "17/17 [==============================] - 0s 5ms/step - loss: 6.0658e-05 - val_loss: 1.1951e-05\n",
            "Epoch 7/100\n",
            "17/17 [==============================] - 0s 6ms/step - loss: 6.8642e-05 - val_loss: 2.2578e-04\n",
            "1/1 [==============================] - 0s 978us/step - loss: 0.0012\n",
            "Epoch 1/100\n",
            "17/17 [==============================] - 1s 37ms/step - loss: 0.0259 - val_loss: 0.3879\n",
            "Epoch 2/100\n",
            "17/17 [==============================] - 0s 6ms/step - loss: 0.0197 - val_loss: 0.3153\n",
            "Epoch 3/100\n",
            "17/17 [==============================] - 0s 6ms/step - loss: 0.0166 - val_loss: 0.2589\n",
            "Epoch 4/100\n",
            "17/17 [==============================] - 0s 6ms/step - loss: 0.0144 - val_loss: 0.2185\n",
            "Epoch 5/100\n",
            "17/17 [==============================] - 0s 5ms/step - loss: 0.0125 - val_loss: 0.1758\n",
            "Epoch 6/100\n",
            "17/17 [==============================] - 0s 5ms/step - loss: 0.0103 - val_loss: 0.1406\n",
            "Epoch 7/100\n",
            "17/17 [==============================] - 0s 5ms/step - loss: 0.0080 - val_loss: 0.0953\n",
            "Epoch 8/100\n",
            "17/17 [==============================] - 0s 6ms/step - loss: 0.0055 - val_loss: 0.0558\n",
            "Epoch 9/100\n",
            "17/17 [==============================] - 0s 6ms/step - loss: 0.0033 - val_loss: 0.0219\n",
            "Epoch 10/100\n",
            "17/17 [==============================] - 0s 5ms/step - loss: 0.0015 - val_loss: 0.0029\n",
            "Epoch 11/100\n",
            "17/17 [==============================] - 0s 6ms/step - loss: 4.8875e-04 - val_loss: 5.8694e-05\n",
            "Epoch 12/100\n",
            "17/17 [==============================] - 0s 7ms/step - loss: 1.5594e-04 - val_loss: 0.0023\n",
            "Epoch 13/100\n",
            "17/17 [==============================] - 0s 6ms/step - loss: 1.2302e-04 - val_loss: 0.0024\n",
            "Epoch 14/100\n",
            "17/17 [==============================] - 0s 6ms/step - loss: 1.2247e-04 - val_loss: 0.0026\n",
            "1/1 [==============================] - 0s 1ms/step - loss: 2.7793e-04\n",
            "Epoch 1/100\n",
            "17/17 [==============================] - 1s 38ms/step - loss: 0.0166 - val_loss: 0.1557\n",
            "Epoch 2/100\n",
            "17/17 [==============================] - 0s 5ms/step - loss: 0.0070 - val_loss: 0.0259\n",
            "Epoch 3/100\n",
            "17/17 [==============================] - 0s 6ms/step - loss: 7.2520e-04 - val_loss: 0.0216\n",
            "Epoch 4/100\n",
            "17/17 [==============================] - 0s 6ms/step - loss: 3.0344e-04 - val_loss: 7.0961e-04\n",
            "Epoch 5/100\n",
            "17/17 [==============================] - 0s 5ms/step - loss: 1.1108e-04 - val_loss: 0.0012\n",
            "Epoch 6/100\n",
            "17/17 [==============================] - 0s 5ms/step - loss: 8.9948e-05 - val_loss: 0.0019\n",
            "Epoch 7/100\n",
            "17/17 [==============================] - 0s 6ms/step - loss: 8.2141e-05 - val_loss: 9.7221e-04\n",
            "1/1 [==============================] - 0s 3ms/step - loss: 0.0010\n",
            "Epoch 1/100\n",
            "17/17 [==============================] - 1s 41ms/step - loss: 0.0247 - val_loss: 0.3812\n",
            "Epoch 2/100\n",
            "17/17 [==============================] - 0s 6ms/step - loss: 0.0204 - val_loss: 0.3399\n",
            "Epoch 3/100\n",
            "17/17 [==============================] - 0s 6ms/step - loss: 0.0182 - val_loss: 0.3056\n",
            "Epoch 4/100\n",
            "17/17 [==============================] - 0s 6ms/step - loss: 0.0165 - val_loss: 0.2777\n",
            "Epoch 5/100\n",
            "17/17 [==============================] - 0s 6ms/step - loss: 0.0152 - val_loss: 0.2510\n",
            "Epoch 6/100\n",
            "17/17 [==============================] - 0s 6ms/step - loss: 0.0142 - val_loss: 0.2309\n",
            "Epoch 7/100\n",
            "17/17 [==============================] - 0s 5ms/step - loss: 0.0133 - val_loss: 0.2094\n",
            "Epoch 8/100\n",
            "17/17 [==============================] - 0s 6ms/step - loss: 0.0123 - val_loss: 0.1910\n",
            "Epoch 9/100\n",
            "17/17 [==============================] - 0s 5ms/step - loss: 0.0113 - val_loss: 0.1720\n",
            "Epoch 10/100\n",
            "17/17 [==============================] - 0s 6ms/step - loss: 0.0102 - val_loss: 0.1493\n",
            "Epoch 11/100\n",
            "17/17 [==============================] - 0s 6ms/step - loss: 0.0091 - val_loss: 0.1332\n",
            "Epoch 12/100\n",
            "17/17 [==============================] - 0s 6ms/step - loss: 0.0079 - val_loss: 0.1128\n",
            "Epoch 13/100\n",
            "17/17 [==============================] - 0s 5ms/step - loss: 0.0069 - val_loss: 0.0943\n",
            "Epoch 14/100\n",
            "17/17 [==============================] - 0s 5ms/step - loss: 0.0058 - val_loss: 0.0798\n",
            "Epoch 15/100\n",
            "17/17 [==============================] - 0s 6ms/step - loss: 0.0048 - val_loss: 0.0629\n",
            "Epoch 16/100\n",
            "17/17 [==============================] - 0s 6ms/step - loss: 0.0039 - val_loss: 0.0492\n",
            "Epoch 17/100\n",
            "17/17 [==============================] - 0s 6ms/step - loss: 0.0030 - val_loss: 0.0345\n",
            "Epoch 18/100\n",
            "17/17 [==============================] - 0s 5ms/step - loss: 0.0022 - val_loss: 0.0246\n",
            "Epoch 19/100\n",
            "17/17 [==============================] - 0s 6ms/step - loss: 0.0016 - val_loss: 0.0154\n",
            "Epoch 20/100\n",
            "17/17 [==============================] - 0s 5ms/step - loss: 0.0010 - val_loss: 0.0085\n",
            "Epoch 21/100\n",
            "17/17 [==============================] - 0s 6ms/step - loss: 6.6179e-04 - val_loss: 0.0044\n",
            "Epoch 22/100\n",
            "17/17 [==============================] - 0s 5ms/step - loss: 4.0621e-04 - val_loss: 0.0017\n",
            "Epoch 23/100\n",
            "17/17 [==============================] - 0s 5ms/step - loss: 2.4685e-04 - val_loss: 4.0213e-04\n",
            "Epoch 24/100\n",
            "17/17 [==============================] - 0s 5ms/step - loss: 1.5133e-04 - val_loss: 7.1857e-05\n",
            "Epoch 25/100\n",
            "17/17 [==============================] - 0s 6ms/step - loss: 1.0591e-04 - val_loss: 2.2280e-05\n",
            "Epoch 26/100\n",
            "17/17 [==============================] - 0s 6ms/step - loss: 8.0197e-05 - val_loss: 9.8114e-05\n",
            "Epoch 27/100\n",
            "17/17 [==============================] - 0s 5ms/step - loss: 7.0886e-05 - val_loss: 2.3154e-04\n",
            "Epoch 28/100\n",
            "17/17 [==============================] - 0s 6ms/step - loss: 6.6135e-05 - val_loss: 3.2087e-04\n",
            "1/1 [==============================] - 0s 983us/step - loss: 0.0010\n",
            "(0.0002779261558316648, 0.0003, 'adam', 15)\n"
          ],
          "name": "stdout"
        }
      ]
    },
    {
      "cell_type": "markdown",
      "metadata": {
        "id": "pxhrP1uEaTkz",
        "colab_type": "text"
      },
      "source": [
        "#### Random Search\n"
      ]
    },
    {
      "cell_type": "code",
      "metadata": {
        "id": "F9Dr3sg7PyVO",
        "colab_type": "code",
        "colab": {
          "base_uri": "https://localhost:8080/",
          "height": 51
        },
        "outputId": "ecd7e63a-285c-4579-8ca7-5ff927b3c8b1"
      },
      "source": [
        "# Shuffling neuron layers\n",
        "neuron_list = [15,30,10]\n",
        "# Seed random number generator\n",
        "seed(len(neuron_list))\n",
        "# Prepare a sequence\n",
        "neuron_sequence = neuron_list\n",
        "print(neuron_sequence) # Before Shuffle\n",
        "# Randomly shuffle the sequence hidden layers\n",
        "shuffle(neuron_sequence) \n",
        "print(neuron_sequence) # After Shuffle"
      ],
      "execution_count": 24,
      "outputs": [
        {
          "output_type": "stream",
          "text": [
            "[15, 30, 10]\n",
            "[30, 10, 15]\n"
          ],
          "name": "stdout"
        }
      ]
    },
    {
      "cell_type": "code",
      "metadata": {
        "id": "MdFXgBqgP0uj",
        "colab_type": "code",
        "colab": {
          "base_uri": "https://localhost:8080/",
          "height": 51
        },
        "outputId": "9ae3fe1b-6b8b-4113-97bb-519a51debdb5"
      },
      "source": [
        "# Shuffling optimizers\n",
        "\n",
        "optimizer_list = ['adam', 'adamax']\n",
        "# Seed random number generator\n",
        "seed(len(neuron_sequence))\n",
        "# Prepare a sequence\n",
        "op_sequence = optimizer_list\n",
        "print(op_sequence) # Before Shuffle\n",
        "# Randomly shuffle the sequence\n",
        "shuffle(op_sequence)\n",
        "print(op_sequence) # After Shuffle"
      ],
      "execution_count": 25,
      "outputs": [
        {
          "output_type": "stream",
          "text": [
            "['adam', 'adamax']\n",
            "['adamax', 'adam']\n"
          ],
          "name": "stdout"
        }
      ]
    },
    {
      "cell_type": "code",
      "metadata": {
        "id": "sj-ccR8Ek_rb",
        "colab_type": "code",
        "colab": {
          "base_uri": "https://localhost:8080/",
          "height": 51
        },
        "outputId": "7bec5920-b67a-4b01-ef95-4651d49abd44"
      },
      "source": [
        "# Shuffling learning rate\n",
        "\n",
        "learning_rate_list = [3e-3,3e-4]\n",
        "# Seed random number generator\n",
        "seed(len(neuron_sequence))\n",
        "# Prepare a sequence\n",
        "lr_sequence = learning_rate_list\n",
        "print(lr_sequence) # Before Shuffle\n",
        "# Randomly shuffle the sequence\n",
        "shuffle(lr_sequence)\n",
        "print(lr_sequence) # After Shuffle\n"
      ],
      "execution_count": 26,
      "outputs": [
        {
          "output_type": "stream",
          "text": [
            "[0.003, 0.0003]\n",
            "[0.003, 0.0003]\n"
          ],
          "name": "stdout"
        }
      ]
    },
    {
      "cell_type": "code",
      "metadata": {
        "id": "32hmzQdzP36o",
        "colab_type": "code",
        "colab": {}
      },
      "source": [
        "# Assigning least_loss\n",
        "least_loss_random_search = 1"
      ],
      "execution_count": 27,
      "outputs": []
    },
    {
      "cell_type": "code",
      "metadata": {
        "id": "o2MhAg2eP6xo",
        "colab_type": "code",
        "colab": {
          "base_uri": "https://localhost:8080/",
          "height": 1000
        },
        "outputId": "ba41823b-240a-4362-fbcc-3c436165b19d"
      },
      "source": [
        "best_random_grid_model = bestModel(least_loss_random_search, lr_sequence, op_sequence, neuron_sequence)\n",
        "print(best_random_grid_model)"
      ],
      "execution_count": 28,
      "outputs": [
        {
          "output_type": "stream",
          "text": [
            "Epoch 1/100\n",
            "17/17 [==============================] - 1s 39ms/step - loss: 0.0127 - val_loss: 0.0408\n",
            "Epoch 2/100\n",
            "17/17 [==============================] - 0s 7ms/step - loss: 0.0012 - val_loss: 0.0118\n",
            "Epoch 3/100\n",
            "17/17 [==============================] - 0s 5ms/step - loss: 2.9847e-04 - val_loss: 8.4965e-04\n",
            "Epoch 4/100\n",
            "17/17 [==============================] - 0s 6ms/step - loss: 1.3840e-04 - val_loss: 0.0052\n",
            "Epoch 5/100\n",
            "17/17 [==============================] - 0s 6ms/step - loss: 9.1871e-05 - val_loss: 0.0034\n",
            "Epoch 6/100\n",
            "17/17 [==============================] - 0s 7ms/step - loss: 8.6862e-05 - val_loss: 0.0028\n",
            "1/1 [==============================] - 0s 1ms/step - loss: 0.0043\n",
            "Epoch 1/100\n",
            "17/17 [==============================] - 1s 54ms/step - loss: 0.0237 - val_loss: 0.3579\n",
            "Epoch 2/100\n",
            "17/17 [==============================] - 0s 6ms/step - loss: 0.0191 - val_loss: 0.3121\n",
            "Epoch 3/100\n",
            "17/17 [==============================] - 0s 5ms/step - loss: 0.0169 - val_loss: 0.2736\n",
            "Epoch 4/100\n",
            "17/17 [==============================] - 0s 5ms/step - loss: 0.0151 - val_loss: 0.2424\n",
            "Epoch 5/100\n",
            "17/17 [==============================] - 0s 5ms/step - loss: 0.0139 - val_loss: 0.2122\n",
            "Epoch 6/100\n",
            "17/17 [==============================] - 0s 5ms/step - loss: 0.0127 - val_loss: 0.1899\n",
            "Epoch 7/100\n",
            "17/17 [==============================] - 0s 5ms/step - loss: 0.0115 - val_loss: 0.1637\n",
            "Epoch 8/100\n",
            "17/17 [==============================] - 0s 6ms/step - loss: 0.0102 - val_loss: 0.1400\n",
            "Epoch 9/100\n",
            "17/17 [==============================] - 0s 6ms/step - loss: 0.0088 - val_loss: 0.1138\n",
            "Epoch 10/100\n",
            "17/17 [==============================] - 0s 6ms/step - loss: 0.0073 - val_loss: 0.0825\n",
            "Epoch 11/100\n",
            "17/17 [==============================] - 0s 6ms/step - loss: 0.0057 - val_loss: 0.0608\n",
            "Epoch 12/100\n",
            "17/17 [==============================] - 0s 6ms/step - loss: 0.0041 - val_loss: 0.0353\n",
            "Epoch 13/100\n",
            "17/17 [==============================] - 0s 6ms/step - loss: 0.0027 - val_loss: 0.0164\n",
            "Epoch 14/100\n",
            "17/17 [==============================] - 0s 6ms/step - loss: 0.0016 - val_loss: 0.0062\n",
            "Epoch 15/100\n",
            "17/17 [==============================] - 0s 6ms/step - loss: 8.4033e-04 - val_loss: 5.4666e-04\n",
            "Epoch 16/100\n",
            "17/17 [==============================] - 0s 6ms/step - loss: 3.8812e-04 - val_loss: 2.0299e-04\n",
            "Epoch 17/100\n",
            "17/17 [==============================] - 0s 5ms/step - loss: 2.0346e-04 - val_loss: 0.0018\n",
            "Epoch 18/100\n",
            "17/17 [==============================] - 0s 6ms/step - loss: 1.3789e-04 - val_loss: 0.0033\n",
            "Epoch 19/100\n",
            "17/17 [==============================] - 0s 6ms/step - loss: 1.2416e-04 - val_loss: 0.0040\n",
            "1/1 [==============================] - 0s 2ms/step - loss: 9.8287e-04\n",
            "Epoch 1/100\n",
            "17/17 [==============================] - 1s 39ms/step - loss: 0.0092 - val_loss: 0.1002\n",
            "Epoch 2/100\n",
            "17/17 [==============================] - 0s 6ms/step - loss: 0.0026 - val_loss: 0.0056\n",
            "Epoch 3/100\n",
            "17/17 [==============================] - 0s 6ms/step - loss: 9.4850e-04 - val_loss: 0.0107\n",
            "Epoch 4/100\n",
            "17/17 [==============================] - 0s 6ms/step - loss: 1.4639e-04 - val_loss: 2.7097e-05\n",
            "Epoch 5/100\n",
            "17/17 [==============================] - 0s 6ms/step - loss: 6.7664e-05 - val_loss: 2.4900e-04\n",
            "Epoch 6/100\n",
            "17/17 [==============================] - 0s 6ms/step - loss: 5.2846e-05 - val_loss: 1.8792e-05\n",
            "Epoch 7/100\n",
            "17/17 [==============================] - 0s 5ms/step - loss: 5.5428e-05 - val_loss: 2.2935e-04\n",
            "Epoch 8/100\n",
            "17/17 [==============================] - 0s 6ms/step - loss: 4.0081e-05 - val_loss: 6.5363e-05\n",
            "Epoch 9/100\n",
            "17/17 [==============================] - 0s 6ms/step - loss: 3.7414e-05 - val_loss: 3.7011e-05\n",
            "1/1 [==============================] - 0s 905us/step - loss: 9.3198e-04\n",
            "Epoch 1/100\n",
            "17/17 [==============================] - 1s 41ms/step - loss: 0.0234 - val_loss: 0.3471\n",
            "Epoch 2/100\n",
            "17/17 [==============================] - 0s 6ms/step - loss: 0.0175 - val_loss: 0.2698\n",
            "Epoch 3/100\n",
            "17/17 [==============================] - 0s 6ms/step - loss: 0.0146 - val_loss: 0.2076\n",
            "Epoch 4/100\n",
            "17/17 [==============================] - 0s 6ms/step - loss: 0.0120 - val_loss: 0.1616\n",
            "Epoch 5/100\n",
            "17/17 [==============================] - 0s 5ms/step - loss: 0.0090 - val_loss: 0.0944\n",
            "Epoch 6/100\n",
            "17/17 [==============================] - 0s 6ms/step - loss: 0.0052 - val_loss: 0.0364\n",
            "Epoch 7/100\n",
            "17/17 [==============================] - 0s 6ms/step - loss: 0.0018 - val_loss: 2.1812e-04\n",
            "Epoch 8/100\n",
            "17/17 [==============================] - 0s 5ms/step - loss: 2.4515e-04 - val_loss: 0.0084\n",
            "Epoch 9/100\n",
            "17/17 [==============================] - 0s 6ms/step - loss: 1.4838e-04 - val_loss: 0.0076\n",
            "Epoch 10/100\n",
            "17/17 [==============================] - 0s 6ms/step - loss: 1.2302e-04 - val_loss: 0.0039\n",
            "1/1 [==============================] - 0s 1ms/step - loss: 1.1304e-05\n",
            "(1.1303651263006032e-05, 0.0003, 'adam', 30)\n"
          ],
          "name": "stdout"
        }
      ]
    },
    {
      "cell_type": "markdown",
      "metadata": {
        "id": "BhkCrZCSQBOw",
        "colab_type": "text"
      },
      "source": [
        "#### Deciding on best hyperparameter results"
      ]
    },
    {
      "cell_type": "code",
      "metadata": {
        "id": "mm_AqgpTO9EQ",
        "colab_type": "code",
        "colab": {
          "base_uri": "https://localhost:8080/",
          "height": 68
        },
        "outputId": "1c54a126-b079-453c-ff1a-8684aea35235"
      },
      "source": [
        "# We want the smallest loss\n",
        "# Therefore if random_search least loss is greater than grid search, make grid search best model the best model.\n",
        "# 0 = least loss, 1 = learning rate, 2 = optimizer, 3 = neurons\n",
        "if best_grid_search_model[0] > best_random_grid_model[0]:\n",
        "  best_learning_rate = best_random_grid_model[1]\n",
        "  best_optimizer = best_random_grid_model[2]\n",
        "  best_neuron = best_random_grid_model[3]\n",
        "else:\n",
        "  best_learning_rate = best_grid_search_model[1]\n",
        "  best_optimizer = best_grid_search_model[2]\n",
        "  best_neuron = best_grid_search_model[3]\n",
        "print(best_learning_rate)\n",
        "print(best_optimizer)\n",
        "print(best_neuron)"
      ],
      "execution_count": 29,
      "outputs": [
        {
          "output_type": "stream",
          "text": [
            "0.0003\n",
            "adam\n",
            "30\n"
          ],
          "name": "stdout"
        }
      ]
    },
    {
      "cell_type": "markdown",
      "metadata": {
        "id": "ne1FGIRhCBx3",
        "colab_type": "text"
      },
      "source": [
        "# Best Model Prediction"
      ]
    },
    {
      "cell_type": "code",
      "metadata": {
        "id": "yBxAVM4I3NJ2",
        "colab_type": "code",
        "colab": {
          "base_uri": "https://localhost:8080/",
          "height": 1000
        },
        "outputId": "f1bb8c33-1373-436b-8563-627f2ee16dbc"
      },
      "source": [
        "best_param_model = lstm_model(best_learning_rate, best_neuron, best_optimizer)\n",
        "best_param_model.fit(X_train, Y_train, epochs=150,batch_size=10,verbose=1)\n",
        "loss = best_param_model.evaluate(X_test, Y_test) "
      ],
      "execution_count": 30,
      "outputs": [
        {
          "output_type": "stream",
          "text": [
            "Epoch 1/150\n",
            "17/17 [==============================] - 0s 5ms/step - loss: 0.0217\n",
            "Epoch 2/150\n",
            "17/17 [==============================] - 0s 4ms/step - loss: 0.0153\n",
            "Epoch 3/150\n",
            "17/17 [==============================] - 0s 5ms/step - loss: 0.0127\n",
            "Epoch 4/150\n",
            "17/17 [==============================] - 0s 5ms/step - loss: 0.0098\n",
            "Epoch 5/150\n",
            "17/17 [==============================] - 0s 4ms/step - loss: 0.0066\n",
            "Epoch 6/150\n",
            "17/17 [==============================] - 0s 5ms/step - loss: 0.0032\n",
            "Epoch 7/150\n",
            "17/17 [==============================] - 0s 5ms/step - loss: 8.9251e-04\n",
            "Epoch 8/150\n",
            "17/17 [==============================] - 0s 6ms/step - loss: 2.0198e-04\n",
            "Epoch 9/150\n",
            "17/17 [==============================] - 0s 5ms/step - loss: 1.7194e-04\n",
            "Epoch 10/150\n",
            "17/17 [==============================] - 0s 6ms/step - loss: 1.5879e-04\n",
            "Epoch 11/150\n",
            "17/17 [==============================] - 0s 5ms/step - loss: 1.5623e-04\n",
            "Epoch 12/150\n",
            "17/17 [==============================] - 0s 4ms/step - loss: 1.4965e-04\n",
            "Epoch 13/150\n",
            "17/17 [==============================] - 0s 6ms/step - loss: 1.4708e-04\n",
            "Epoch 14/150\n",
            "17/17 [==============================] - 0s 5ms/step - loss: 1.4142e-04\n",
            "Epoch 15/150\n",
            "17/17 [==============================] - 0s 5ms/step - loss: 1.3575e-04\n",
            "Epoch 16/150\n",
            "17/17 [==============================] - 0s 4ms/step - loss: 1.3743e-04\n",
            "Epoch 17/150\n",
            "17/17 [==============================] - 0s 5ms/step - loss: 1.3305e-04\n",
            "Epoch 18/150\n",
            "17/17 [==============================] - 0s 4ms/step - loss: 1.2383e-04\n",
            "Epoch 19/150\n",
            "17/17 [==============================] - 0s 5ms/step - loss: 1.2593e-04\n",
            "Epoch 20/150\n",
            "17/17 [==============================] - 0s 4ms/step - loss: 1.2042e-04\n",
            "Epoch 21/150\n",
            "17/17 [==============================] - 0s 4ms/step - loss: 1.1819e-04\n",
            "Epoch 22/150\n",
            "17/17 [==============================] - 0s 5ms/step - loss: 1.0791e-04\n",
            "Epoch 23/150\n",
            "17/17 [==============================] - 0s 4ms/step - loss: 1.0585e-04\n",
            "Epoch 24/150\n",
            "17/17 [==============================] - 0s 4ms/step - loss: 1.0418e-04\n",
            "Epoch 25/150\n",
            "17/17 [==============================] - 0s 4ms/step - loss: 9.7294e-05\n",
            "Epoch 26/150\n",
            "17/17 [==============================] - 0s 4ms/step - loss: 9.8707e-05\n",
            "Epoch 27/150\n",
            "17/17 [==============================] - 0s 5ms/step - loss: 9.6970e-05\n",
            "Epoch 28/150\n",
            "17/17 [==============================] - 0s 5ms/step - loss: 8.6476e-05\n",
            "Epoch 29/150\n",
            "17/17 [==============================] - 0s 4ms/step - loss: 8.3528e-05\n",
            "Epoch 30/150\n",
            "17/17 [==============================] - 0s 5ms/step - loss: 8.1520e-05\n",
            "Epoch 31/150\n",
            "17/17 [==============================] - 0s 6ms/step - loss: 7.5533e-05\n",
            "Epoch 32/150\n",
            "17/17 [==============================] - 0s 5ms/step - loss: 7.7906e-05\n",
            "Epoch 33/150\n",
            "17/17 [==============================] - 0s 6ms/step - loss: 7.5266e-05\n",
            "Epoch 34/150\n",
            "17/17 [==============================] - 0s 5ms/step - loss: 6.7402e-05\n",
            "Epoch 35/150\n",
            "17/17 [==============================] - 0s 6ms/step - loss: 6.5276e-05\n",
            "Epoch 36/150\n",
            "17/17 [==============================] - 0s 6ms/step - loss: 6.6668e-05\n",
            "Epoch 37/150\n",
            "17/17 [==============================] - 0s 5ms/step - loss: 6.0847e-05\n",
            "Epoch 38/150\n",
            "17/17 [==============================] - 0s 4ms/step - loss: 6.3243e-05\n",
            "Epoch 39/150\n",
            "17/17 [==============================] - 0s 4ms/step - loss: 5.3194e-05\n",
            "Epoch 40/150\n",
            "17/17 [==============================] - 0s 5ms/step - loss: 5.0743e-05\n",
            "Epoch 41/150\n",
            "17/17 [==============================] - 0s 5ms/step - loss: 5.1920e-05\n",
            "Epoch 42/150\n",
            "17/17 [==============================] - 0s 4ms/step - loss: 4.7751e-05\n",
            "Epoch 43/150\n",
            "17/17 [==============================] - 0s 5ms/step - loss: 4.4975e-05\n",
            "Epoch 44/150\n",
            "17/17 [==============================] - 0s 5ms/step - loss: 4.4660e-05\n",
            "Epoch 45/150\n",
            "17/17 [==============================] - 0s 4ms/step - loss: 4.4817e-05\n",
            "Epoch 46/150\n",
            "17/17 [==============================] - 0s 4ms/step - loss: 3.9527e-05\n",
            "Epoch 47/150\n",
            "17/17 [==============================] - 0s 5ms/step - loss: 3.8086e-05\n",
            "Epoch 48/150\n",
            "17/17 [==============================] - 0s 4ms/step - loss: 3.5780e-05\n",
            "Epoch 49/150\n",
            "17/17 [==============================] - 0s 4ms/step - loss: 3.4740e-05\n",
            "Epoch 50/150\n",
            "17/17 [==============================] - 0s 4ms/step - loss: 3.4636e-05\n",
            "Epoch 51/150\n",
            "17/17 [==============================] - 0s 4ms/step - loss: 3.2488e-05\n",
            "Epoch 52/150\n",
            "17/17 [==============================] - 0s 4ms/step - loss: 3.1616e-05\n",
            "Epoch 53/150\n",
            "17/17 [==============================] - 0s 5ms/step - loss: 3.0357e-05\n",
            "Epoch 54/150\n",
            "17/17 [==============================] - 0s 4ms/step - loss: 2.6543e-05\n",
            "Epoch 55/150\n",
            "17/17 [==============================] - 0s 4ms/step - loss: 2.5837e-05\n",
            "Epoch 56/150\n",
            "17/17 [==============================] - 0s 5ms/step - loss: 2.5915e-05\n",
            "Epoch 57/150\n",
            "17/17 [==============================] - 0s 5ms/step - loss: 2.3394e-05\n",
            "Epoch 58/150\n",
            "17/17 [==============================] - 0s 4ms/step - loss: 2.2542e-05\n",
            "Epoch 59/150\n",
            "17/17 [==============================] - 0s 4ms/step - loss: 2.4209e-05\n",
            "Epoch 60/150\n",
            "17/17 [==============================] - 0s 4ms/step - loss: 2.1568e-05\n",
            "Epoch 61/150\n",
            "17/17 [==============================] - 0s 4ms/step - loss: 2.0044e-05\n",
            "Epoch 62/150\n",
            "17/17 [==============================] - 0s 5ms/step - loss: 2.0362e-05\n",
            "Epoch 63/150\n",
            "17/17 [==============================] - 0s 4ms/step - loss: 1.9502e-05\n",
            "Epoch 64/150\n",
            "17/17 [==============================] - 0s 5ms/step - loss: 1.8986e-05\n",
            "Epoch 65/150\n",
            "17/17 [==============================] - 0s 5ms/step - loss: 1.9535e-05\n",
            "Epoch 66/150\n",
            "17/17 [==============================] - 0s 4ms/step - loss: 1.8342e-05\n",
            "Epoch 67/150\n",
            "17/17 [==============================] - 0s 4ms/step - loss: 1.6790e-05\n",
            "Epoch 68/150\n",
            "17/17 [==============================] - 0s 5ms/step - loss: 1.6398e-05\n",
            "Epoch 69/150\n",
            "17/17 [==============================] - 0s 5ms/step - loss: 1.6074e-05\n",
            "Epoch 70/150\n",
            "17/17 [==============================] - 0s 5ms/step - loss: 1.5267e-05\n",
            "Epoch 71/150\n",
            "17/17 [==============================] - 0s 4ms/step - loss: 1.5981e-05\n",
            "Epoch 72/150\n",
            "17/17 [==============================] - 0s 4ms/step - loss: 1.6563e-05\n",
            "Epoch 73/150\n",
            "17/17 [==============================] - 0s 4ms/step - loss: 1.5336e-05\n",
            "Epoch 74/150\n",
            "17/17 [==============================] - 0s 4ms/step - loss: 1.4242e-05\n",
            "Epoch 75/150\n",
            "17/17 [==============================] - 0s 5ms/step - loss: 1.4883e-05\n",
            "Epoch 76/150\n",
            "17/17 [==============================] - 0s 5ms/step - loss: 1.5403e-05\n",
            "Epoch 77/150\n",
            "17/17 [==============================] - 0s 5ms/step - loss: 1.5006e-05\n",
            "Epoch 78/150\n",
            "17/17 [==============================] - 0s 4ms/step - loss: 1.3559e-05\n",
            "Epoch 79/150\n",
            "17/17 [==============================] - 0s 5ms/step - loss: 1.3196e-05\n",
            "Epoch 80/150\n",
            "17/17 [==============================] - 0s 5ms/step - loss: 1.2941e-05\n",
            "Epoch 81/150\n",
            "17/17 [==============================] - 0s 5ms/step - loss: 1.3528e-05\n",
            "Epoch 82/150\n",
            "17/17 [==============================] - 0s 6ms/step - loss: 1.2934e-05\n",
            "Epoch 83/150\n",
            "17/17 [==============================] - 0s 6ms/step - loss: 1.2850e-05\n",
            "Epoch 84/150\n",
            "17/17 [==============================] - 0s 5ms/step - loss: 1.4056e-05\n",
            "Epoch 85/150\n",
            "17/17 [==============================] - 0s 5ms/step - loss: 1.2690e-05\n",
            "Epoch 86/150\n",
            "17/17 [==============================] - 0s 5ms/step - loss: 1.3779e-05\n",
            "Epoch 87/150\n",
            "17/17 [==============================] - 0s 6ms/step - loss: 1.3065e-05\n",
            "Epoch 88/150\n",
            "17/17 [==============================] - 0s 5ms/step - loss: 1.2985e-05\n",
            "Epoch 89/150\n",
            "17/17 [==============================] - 0s 5ms/step - loss: 1.4518e-05\n",
            "Epoch 90/150\n",
            "17/17 [==============================] - 0s 6ms/step - loss: 1.3349e-05\n",
            "Epoch 91/150\n",
            "17/17 [==============================] - 0s 4ms/step - loss: 1.3984e-05\n",
            "Epoch 92/150\n",
            "17/17 [==============================] - 0s 4ms/step - loss: 1.2652e-05\n",
            "Epoch 93/150\n",
            "17/17 [==============================] - 0s 5ms/step - loss: 1.2533e-05\n",
            "Epoch 94/150\n",
            "17/17 [==============================] - 0s 4ms/step - loss: 1.3624e-05\n",
            "Epoch 95/150\n",
            "17/17 [==============================] - 0s 5ms/step - loss: 1.2047e-05\n",
            "Epoch 96/150\n",
            "17/17 [==============================] - 0s 6ms/step - loss: 1.2937e-05\n",
            "Epoch 97/150\n",
            "17/17 [==============================] - 0s 5ms/step - loss: 1.2033e-05\n",
            "Epoch 98/150\n",
            "17/17 [==============================] - 0s 6ms/step - loss: 1.4106e-05\n",
            "Epoch 99/150\n",
            "17/17 [==============================] - 0s 6ms/step - loss: 1.4122e-05\n",
            "Epoch 100/150\n",
            "17/17 [==============================] - 0s 6ms/step - loss: 1.2069e-05\n",
            "Epoch 101/150\n",
            "17/17 [==============================] - 0s 5ms/step - loss: 1.2428e-05\n",
            "Epoch 102/150\n",
            "17/17 [==============================] - 0s 4ms/step - loss: 1.2407e-05\n",
            "Epoch 103/150\n",
            "17/17 [==============================] - 0s 4ms/step - loss: 1.3759e-05\n",
            "Epoch 104/150\n",
            "17/17 [==============================] - 0s 5ms/step - loss: 1.2113e-05\n",
            "Epoch 105/150\n",
            "17/17 [==============================] - 0s 5ms/step - loss: 1.3653e-05\n",
            "Epoch 106/150\n",
            "17/17 [==============================] - 0s 5ms/step - loss: 1.2812e-05\n",
            "Epoch 107/150\n",
            "17/17 [==============================] - 0s 5ms/step - loss: 1.2235e-05\n",
            "Epoch 108/150\n",
            "17/17 [==============================] - 0s 6ms/step - loss: 1.2430e-05\n",
            "Epoch 109/150\n",
            "17/17 [==============================] - 0s 5ms/step - loss: 1.3593e-05\n",
            "Epoch 110/150\n",
            "17/17 [==============================] - 0s 5ms/step - loss: 1.5233e-05\n",
            "Epoch 111/150\n",
            "17/17 [==============================] - 0s 5ms/step - loss: 1.2627e-05\n",
            "Epoch 112/150\n",
            "17/17 [==============================] - 0s 4ms/step - loss: 1.2457e-05\n",
            "Epoch 113/150\n",
            "17/17 [==============================] - 0s 4ms/step - loss: 1.2525e-05\n",
            "Epoch 114/150\n",
            "17/17 [==============================] - 0s 5ms/step - loss: 1.2870e-05\n",
            "Epoch 115/150\n",
            "17/17 [==============================] - 0s 5ms/step - loss: 1.3824e-05\n",
            "Epoch 116/150\n",
            "17/17 [==============================] - 0s 5ms/step - loss: 1.5194e-05\n",
            "Epoch 117/150\n",
            "17/17 [==============================] - 0s 4ms/step - loss: 1.5428e-05\n",
            "Epoch 118/150\n",
            "17/17 [==============================] - 0s 5ms/step - loss: 1.2266e-05\n",
            "Epoch 119/150\n",
            "17/17 [==============================] - 0s 4ms/step - loss: 1.3039e-05\n",
            "Epoch 120/150\n",
            "17/17 [==============================] - 0s 5ms/step - loss: 1.2792e-05\n",
            "Epoch 121/150\n",
            "17/17 [==============================] - 0s 4ms/step - loss: 1.1821e-05\n",
            "Epoch 122/150\n",
            "17/17 [==============================] - 0s 4ms/step - loss: 1.6231e-05\n",
            "Epoch 123/150\n",
            "17/17 [==============================] - 0s 5ms/step - loss: 1.3168e-05\n",
            "Epoch 124/150\n",
            "17/17 [==============================] - 0s 4ms/step - loss: 1.2166e-05\n",
            "Epoch 125/150\n",
            "17/17 [==============================] - 0s 4ms/step - loss: 1.2717e-05\n",
            "Epoch 126/150\n",
            "17/17 [==============================] - 0s 5ms/step - loss: 1.4493e-05\n",
            "Epoch 127/150\n",
            "17/17 [==============================] - 0s 5ms/step - loss: 1.2466e-05\n",
            "Epoch 128/150\n",
            "17/17 [==============================] - 0s 5ms/step - loss: 1.2628e-05\n",
            "Epoch 129/150\n",
            "17/17 [==============================] - 0s 5ms/step - loss: 1.3370e-05\n",
            "Epoch 130/150\n",
            "17/17 [==============================] - 0s 4ms/step - loss: 1.1499e-05\n",
            "Epoch 131/150\n",
            "17/17 [==============================] - 0s 4ms/step - loss: 1.2139e-05\n",
            "Epoch 132/150\n",
            "17/17 [==============================] - 0s 5ms/step - loss: 1.3158e-05\n",
            "Epoch 133/150\n",
            "17/17 [==============================] - 0s 5ms/step - loss: 1.4131e-05\n",
            "Epoch 134/150\n",
            "17/17 [==============================] - 0s 5ms/step - loss: 1.2915e-05\n",
            "Epoch 135/150\n",
            "17/17 [==============================] - 0s 5ms/step - loss: 1.2652e-05\n",
            "Epoch 136/150\n",
            "17/17 [==============================] - 0s 4ms/step - loss: 1.2533e-05\n",
            "Epoch 137/150\n",
            "17/17 [==============================] - 0s 4ms/step - loss: 1.4405e-05\n",
            "Epoch 138/150\n",
            "17/17 [==============================] - 0s 4ms/step - loss: 1.2153e-05\n",
            "Epoch 139/150\n",
            "17/17 [==============================] - 0s 5ms/step - loss: 1.5232e-05\n",
            "Epoch 140/150\n",
            "17/17 [==============================] - 0s 4ms/step - loss: 1.6638e-05\n",
            "Epoch 141/150\n",
            "17/17 [==============================] - 0s 4ms/step - loss: 1.2396e-05\n",
            "Epoch 142/150\n",
            "17/17 [==============================] - 0s 4ms/step - loss: 1.2889e-05\n",
            "Epoch 143/150\n",
            "17/17 [==============================] - 0s 5ms/step - loss: 1.3764e-05\n",
            "Epoch 144/150\n",
            "17/17 [==============================] - 0s 5ms/step - loss: 1.3433e-05\n",
            "Epoch 145/150\n",
            "17/17 [==============================] - 0s 4ms/step - loss: 1.2170e-05\n",
            "Epoch 146/150\n",
            "17/17 [==============================] - 0s 5ms/step - loss: 1.2973e-05\n",
            "Epoch 147/150\n",
            "17/17 [==============================] - 0s 5ms/step - loss: 1.1725e-05\n",
            "Epoch 148/150\n",
            "17/17 [==============================] - 0s 5ms/step - loss: 1.2233e-05\n",
            "Epoch 149/150\n",
            "17/17 [==============================] - 0s 4ms/step - loss: 1.1959e-05\n",
            "Epoch 150/150\n",
            "17/17 [==============================] - 0s 4ms/step - loss: 1.3895e-05\n",
            "1/1 [==============================] - 0s 1ms/step - loss: 0.0191\n"
          ],
          "name": "stdout"
        }
      ]
    },
    {
      "cell_type": "markdown",
      "metadata": {
        "id": "Y9PSkVSA50OG",
        "colab_type": "text"
      },
      "source": [
        "# Using best model to predict on X_train & X_test"
      ]
    },
    {
      "cell_type": "code",
      "metadata": {
        "id": "aBny6cUkO4xC",
        "colab_type": "code",
        "colab": {
          "base_uri": "https://localhost:8080/",
          "height": 51
        },
        "outputId": "1285bbd4-4abf-4907-a569-5966fe39d7ee"
      },
      "source": [
        "# Prediction and check performance metric\n",
        "train_predict = best_param_model.predict(X_train)\n",
        "test_predict = best_param_model.predict(X_test)\n",
        "print(train_predict.shape)\n",
        "print(test_predict.shape)"
      ],
      "execution_count": 31,
      "outputs": [
        {
          "output_type": "stream",
          "text": [
            "(166, 1)\n",
            "(14, 1)\n"
          ],
          "name": "stdout"
        }
      ]
    },
    {
      "cell_type": "markdown",
      "metadata": {
        "id": "k4ocL2CLJLXg",
        "colab_type": "text"
      },
      "source": [
        "# Performance Metric\n",
        "\n",
        "\n",
        "\n"
      ]
    },
    {
      "cell_type": "code",
      "metadata": {
        "id": "DHXXILzqPUHQ",
        "colab_type": "code",
        "colab": {
          "base_uri": "https://localhost:8080/",
          "height": 51
        },
        "outputId": "f71fa119-e5cd-4e1a-bb2f-ecd2b670d6ba"
      },
      "source": [
        "print(mean_absolute_error(Y_train, train_predict))\n",
        "print(mean_absolute_error(Y_test, test_predict))"
      ],
      "execution_count": 32,
      "outputs": [
        {
          "output_type": "stream",
          "text": [
            "0.002607261755964325\n",
            "0.1363788696307011\n"
          ],
          "name": "stdout"
        }
      ]
    },
    {
      "cell_type": "code",
      "metadata": {
        "id": "fFNm7l86Pt_7",
        "colab_type": "code",
        "colab": {
          "base_uri": "https://localhost:8080/",
          "height": 51
        },
        "outputId": "903ae469-28bd-4b64-e633-97f6437c85ee"
      },
      "source": [
        "print(mean_squared_error(Y_train, train_predict))\n",
        "print(mean_squared_error(Y_test, test_predict))"
      ],
      "execution_count": 33,
      "outputs": [
        {
          "output_type": "stream",
          "text": [
            "1.5253175011011852e-05\n",
            "0.019118121928430282\n"
          ],
          "name": "stdout"
        }
      ]
    },
    {
      "cell_type": "markdown",
      "metadata": {
        "id": "-nSW23ryI8RU",
        "colab_type": "text"
      },
      "source": [
        "# Plotting Train Prediction, Validation & Test Prediction Versus Actual Data"
      ]
    },
    {
      "cell_type": "code",
      "metadata": {
        "id": "WBscxGKwZVET",
        "colab_type": "code",
        "colab": {}
      },
      "source": [
        "# Transform back to original form\n",
        "train_predict=scaler.inverse_transform(train_predict)\n",
        "test_predict =scaler.inverse_transform(test_predict)\n"
      ],
      "execution_count": 34,
      "outputs": []
    },
    {
      "cell_type": "markdown",
      "metadata": {
        "id": "BfZWLp_hwblV",
        "colab_type": "text"
      },
      "source": [
        "### Train Predicted"
      ]
    },
    {
      "cell_type": "code",
      "metadata": {
        "id": "d0Q71RT9waLL",
        "colab_type": "code",
        "colab": {
          "base_uri": "https://localhost:8080/",
          "height": 353
        },
        "outputId": "3a1d9817-7e2f-4393-8f49-f6a3616c1f4c"
      },
      "source": [
        "look_back = 7\n",
        "\n",
        "trainPredictPlot = np.empty_like(new_dataset) # shape\n",
        "trainPredictPlot[:,:]= np.nan # values at 0\n",
        "trainPredictPlot[look_back:len(train_predict)+look_back] = train_predict # Populates: 7 -> 162 + 7 = 169\n",
        "\n",
        "trainPredictPlot = [item[0] for item in trainPredictPlot] \n",
        "plt.plot(trainPredictPlot, label=\"train_predict_price\")\n",
        "\n",
        "train_panda = pd.DataFrame(train_data)\n",
        "plt.plot(scaler.inverse_transform(train_panda), label=\"actual_price\")\n",
        "\n",
        "rcParams['figure.figsize'] = 15,6\n",
        "plt.title('Analysis of train and actual', size = 20)\n",
        "plt.ylabel('Price')\n",
        "plt.xlabel('Days')\n",
        "plt.legend()\n",
        "plt.show()"
      ],
      "execution_count": 35,
      "outputs": [
        {
          "output_type": "display_data",
          "data": {
            "image/png": "[encoded data removed]",
            "text/plain": [
              "<Figure size 1080x432 with 1 Axes>"
            ]
          },
          "metadata": {
            "tags": [],
            "needs_background": "light"
          }
        }
      ]
    },
    {
      "cell_type": "markdown",
      "metadata": {
        "id": "Fc6YFJvQjBGu",
        "colab_type": "text"
      },
      "source": [
        "## Using last 7 days of training data to predict validation data. \n",
        "\n"
      ]
    },
    {
      "cell_type": "code",
      "metadata": {
        "id": "yws-gX7RTB3Z",
        "colab_type": "code",
        "colab": {
          "base_uri": "https://localhost:8080/",
          "height": 136
        },
        "outputId": "9dd9bdaf-5e07-48b9-fc21-58c43381f6a2"
      },
      "source": [
        "temp_input = train_data[-7:]\n",
        "temp_input"
      ],
      "execution_count": 36,
      "outputs": [
        {
          "output_type": "execute_result",
          "data": {
            "text/plain": [
              "array([[0.43777049],\n",
              "       [0.44748836],\n",
              "       [0.4572762 ],\n",
              "       [0.46712712],\n",
              "       [0.47703805],\n",
              "       [0.48700572],\n",
              "       [0.49702419]])"
            ]
          },
          "metadata": {
            "tags": []
          },
          "execution_count": 36
        }
      ]
    },
    {
      "cell_type": "code",
      "metadata": {
        "id": "CHAxzKyuTp5-",
        "colab_type": "code",
        "colab": {
          "base_uri": "https://localhost:8080/",
          "height": 54
        },
        "outputId": "945a8712-990d-48f0-8212-b177e5ec813b"
      },
      "source": [
        "# Demonstrate prediction for the next 4 as an example(but 21) days:\n",
        "\n",
        "# Step 1. 7 days of feature = temp_input taken from the last 7 days of the training set\n",
        "# Step 2  i is the day you are on and we want to predict 4 days: 0,1,2,3 (4 days)\n",
        "# Step 3. Predict the 8th day on each of the 7 days,\n",
        "# Step 4. Add this new predicted day to the list\n",
        "# Step 5. Because we are now taking in the last 7 days + the new predicted value, the list is now size 8  \n",
        "# Step 6. In order to take in 7 days at a time, we shift 1 to the right.\n",
        "# Step 7. We reassign the X_train to the new 7 days\n",
        "# Step 8. We predict the 8th day of the 7 days and continue the process\n",
        "# Step 9. We then add the 8th day to the output list\n",
        "# Step 10. We keep track of the 4 days by incrementing by i at the end-> i = i+1\n",
        "# Step 11. Once we have predicted the 4 days, we return the list of 4 day values.\n",
        "\n",
        "custom_day = len(valset_data)\n",
        "lst_output=[]\n",
        "n_steps=7\n",
        "i=0\n",
        "X_input = temp_input\n",
        "# print(X_input)\n",
        "while(i<custom_day):\n",
        "  if(len(temp_input)>7):\n",
        "    # print(temp_input)  \n",
        "    X_input=array(temp_input[1:])\n",
        "    # print(\"{} day input {}\".format(i,X_input))\n",
        "    # Correct input shape (1,7,3)\n",
        "    X_input=X_input.reshape((1,n_steps,1))\n",
        "    # Prediction of X_input\n",
        "    # print(X_input)\n",
        "    Y_hat = best_param_model.predict(X_input)\n",
        "    # print(Y_hat)\n",
        "    temp_input = np.append(temp_input, Y_hat)\n",
        "    temp_input=temp_input[1:]\n",
        "    lst_output.append(Y_hat[0][0])\n",
        "    i=i+1\n",
        "  else:\n",
        "    X_input=X_input.reshape((1,n_steps,1))\n",
        "    Y_hat = best_param_model.predict(X_input, verbose=0)\n",
        "    # print(Y_hat)\n",
        "    temp_input = np.append(temp_input, Y_hat)\n",
        "    lst_output.append(Y_hat[0][0])\n",
        "    i=i+1\n",
        "print(lst_output)"
      ],
      "execution_count": 37,
      "outputs": [
        {
          "output_type": "stream",
          "text": [
            "[0.4957659, 0.50386554, 0.5114715, 0.51853985, 0.5250228, 0.5308639, 0.535994, 0.54033035, 0.5459683, 0.5511458, 0.5559116, 0.560321, 0.5644378, 0.5683373, 0.57211214, 0.57587576, 0.5793619, 0.5826169, 0.5856793, 0.5885801, 0.59134066, 0.5939708]\n"
          ],
          "name": "stdout"
        }
      ]
    },
    {
      "cell_type": "markdown",
      "metadata": {
        "id": "-0DCdCn2jwxO",
        "colab_type": "text"
      },
      "source": [
        "## Plotting evaluation: Training Prediction of Validation Data"
      ]
    },
    {
      "cell_type": "code",
      "metadata": {
        "id": "z_5opaqHfcZt",
        "colab_type": "code",
        "colab": {
          "base_uri": "https://localhost:8080/",
          "height": 348
        },
        "outputId": "1ac65288-5ae4-4d27-8566-c55e64876fbc"
      },
      "source": [
        "# Custom day plotted\n",
        "day_new = custom_day-1\n",
        "\n",
        "# Transform back to original value before normalised\n",
        "custom_day_prediction = np.array(lst_output)\n",
        "# print(\"Predicted validation:\")\n",
        "# print(custom_day_prediction)\n",
        "plt.plot(custom_day_prediction, label=\"Predicted Validation Data\")\n",
        "\n",
        "# Transform back to original value before normalised\n",
        "val_data = [item[0] for item in valset_data] \n",
        "custom_day_validation = val_data[:custom_day]\n",
        "# print(\"Actual validation:\")\n",
        "# print(custom_day_validation)\n",
        "plt.plot(custom_day_validation, label=\"Actual Validation Data\")\n",
        "\n",
        "rcParams['figure.figsize'] = 15,6\n",
        "plt.title('Training Prediction of Validation Data', size = 20)\n",
        "plt.xlabel('Days')\n",
        "plt.ylabel('Price')\n",
        "plt.legend()\n",
        "plt.show()\n"
      ],
      "execution_count": 38,
      "outputs": [
        {
          "output_type": "display_data",
          "data": {
            "image/png": "[encoded data removed]",
            "text/plain": [
              "<Figure size 1080x432 with 1 Axes>"
            ]
          },
          "metadata": {
            "tags": [],
            "needs_background": "light"
          }
        }
      ]
    },
    {
      "cell_type": "markdown",
      "metadata": {
        "id": "DWChpu5Lxk4T",
        "colab_type": "text"
      },
      "source": [
        "## Test Plot"
      ]
    },
    {
      "cell_type": "code",
      "metadata": {
        "id": "u9R3pohwxoIH",
        "colab_type": "code",
        "colab": {
          "base_uri": "https://localhost:8080/",
          "height": 348
        },
        "outputId": "8a18d0eb-b541-4432-dde7-8a1d802ad0bc"
      },
      "source": [
        "look_back = 7\n",
        "\n",
        "testPredictPlot = np.empty_like(new_dataset)\n",
        "testPredictPlot[:,:]= np.nan\n",
        "testPredictPlot[look_back:len(test_predict)+look_back] = test_predict\n",
        "# 14 + (7*2) + 1 : 163 + 14 = test_predict\n",
        "# 22:177 = test predict\n",
        "\n",
        "testPredictPlot = [item[0] for item in testPredictPlot] \n",
        "plt.plot(testPredictPlot, label=\"test_predict\")\n",
        "\n",
        "test_panda = pd.DataFrame(test_data)\n",
        "plt.plot(scaler.inverse_transform(test_panda), label=\"actual_price\")\n",
        "\n",
        "rcParams['figure.figsize'] = 15,6\n",
        "plt.title('Analysis of train, test and actual', size = 20)\n",
        "plt.ylabel('Price')\n",
        "plt.xlabel('Days')\n",
        "plt.legend()\n",
        "plt.show()\n"
      ],
      "execution_count": 39,
      "outputs": [
        {
          "output_type": "display_data",
          "data": {
            "image/png": "[encoded data removed]",
            "text/plain": [
              "<Figure size 1080x432 with 1 Axes>"
            ]
          },
          "metadata": {
            "tags": [],
            "needs_background": "light"
          }
        }
      ]
    }
  ]
}