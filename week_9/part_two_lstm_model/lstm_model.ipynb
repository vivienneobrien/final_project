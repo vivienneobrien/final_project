{
  "nbformat": 4,
  "nbformat_minor": 0,
  "metadata": {
    "colab": {
      "name": "go_back_lstm_model.ipynb",
      "provenance": [],
      "collapsed_sections": []
    },
    "kernelspec": {
      "name": "python3",
      "display_name": "Python 3"
    },
    "accelerator": "GPU"
  },
  "cells": [
    {
      "cell_type": "markdown",
      "metadata": {
        "id": "NpLCBrS0DoTl",
        "colab_type": "text"
      },
      "source": [
        "# Notes for user:\n",
        "\n",
        "*   This notebook will use the dataset COVID-19 and forex to predict the forex spot price of a currency pair.\n",
        "*   What to ask user before using this application:\n",
        "*   What currency pair are you interested in? GBP/USD (This layout means that the base currency is USD)\n",
        "*   The currency the user wants to look at is how much the USD is worth to the GBP.\n",
        "*   Therefore, we look at the death rates in the US and the UK.\n",
        "*   LSTMs are good at looking at changed over time. We need to also consider that what happen more recently is a better judgement than what happened a long time ago. This is why CNNs might be interesting to explore.\n"
      ]
    },
    {
      "cell_type": "code",
      "metadata": {
        "id": "GDBxlQkCD7Mj",
        "colab_type": "code",
        "colab": {
          "base_uri": "https://localhost:8080/",
          "height": 281
        },
        "outputId": "32e12255-6eb6-4ecf-e49e-28446eeabc98"
      },
      "source": [
        "# Use some functions from tensorflow_docs\n",
        "!pip install git+https://github.com/tensorflow/docs"
      ],
      "execution_count": 270,
      "outputs": [
        {
          "output_type": "stream",
          "text": [
            "Collecting git+https://github.com/tensorflow/docs\n",
            "  Cloning https://github.com/tensorflow/docs to /tmp/pip-req-build-8_805zx2\n",
            "  Running command git clone -q https://github.com/tensorflow/docs /tmp/pip-req-build-8_805zx2\n",
            "Requirement already satisfied (use --upgrade to upgrade): tensorflow-docs===0.0.0670b7525ad6102d455fb36f49c819d83edd49f5c- from git+https://github.com/tensorflow/docs in /usr/local/lib/python3.6/dist-packages\n",
            "Requirement already satisfied: astor in /usr/local/lib/python3.6/dist-packages (from tensorflow-docs===0.0.0670b7525ad6102d455fb36f49c819d83edd49f5c-) (0.8.1)\n",
            "Requirement already satisfied: absl-py in /usr/local/lib/python3.6/dist-packages (from tensorflow-docs===0.0.0670b7525ad6102d455fb36f49c819d83edd49f5c-) (0.9.0)\n",
            "Requirement already satisfied: protobuf in /usr/local/lib/python3.6/dist-packages (from tensorflow-docs===0.0.0670b7525ad6102d455fb36f49c819d83edd49f5c-) (3.12.4)\n",
            "Requirement already satisfied: pyyaml in /usr/local/lib/python3.6/dist-packages (from tensorflow-docs===0.0.0670b7525ad6102d455fb36f49c819d83edd49f5c-) (3.13)\n",
            "Requirement already satisfied: six in /usr/local/lib/python3.6/dist-packages (from absl-py->tensorflow-docs===0.0.0670b7525ad6102d455fb36f49c819d83edd49f5c-) (1.15.0)\n",
            "Requirement already satisfied: setuptools in /usr/local/lib/python3.6/dist-packages (from protobuf->tensorflow-docs===0.0.0670b7525ad6102d455fb36f49c819d83edd49f5c-) (49.2.0)\n",
            "Building wheels for collected packages: tensorflow-docs\n",
            "  Building wheel for tensorflow-docs (setup.py) ... \u001b[?25l\u001b[?25hdone\n",
            "  Created wheel for tensorflow-docs: filename=tensorflow_docs-0.0.0670b7525ad6102d455fb36f49c819d83edd49f5c_-cp36-none-any.whl size=126665 sha256=2e6659caaf8b01ebd30a1d3f3deeea939dbc3eea899e59d2bf45c32f865be13a\n",
            "  Stored in directory: /tmp/pip-ephem-wheel-cache-6sywhtf8/wheels/eb/1b/35/fce87697be00d2fc63e0b4b395b0d9c7e391a10e98d9a0d97f\n",
            "Successfully built tensorflow-docs\n"
          ],
          "name": "stdout"
        }
      ]
    },
    {
      "cell_type": "code",
      "metadata": {
        "id": "iJ6D0PrOJYeg",
        "colab_type": "code",
        "colab": {}
      },
      "source": [
        "import pathlib\n",
        "import matplotlib.pyplot as plt\n",
        "import numpy as np\n",
        "import pandas as pd"
      ],
      "execution_count": 271,
      "outputs": []
    },
    {
      "cell_type": "code",
      "metadata": {
        "id": "AgIgQg1XJcP2",
        "colab_type": "code",
        "colab": {
          "base_uri": "https://localhost:8080/",
          "height": 33
        },
        "outputId": "d1ea2190-3109-45be-c14b-dbebf568cc6e"
      },
      "source": [
        "import tensorflow as tf\n",
        "from tensorflow import keras\n",
        "from tensorflow.keras import layers\n",
        "print(tf.__version__)"
      ],
      "execution_count": 272,
      "outputs": [
        {
          "output_type": "stream",
          "text": [
            "2.3.0\n"
          ],
          "name": "stdout"
        }
      ]
    },
    {
      "cell_type": "code",
      "metadata": {
        "id": "m_F-7tgZJe2m",
        "colab_type": "code",
        "colab": {}
      },
      "source": [
        "import tensorflow_docs as tfdocs\n",
        "import tensorflow_docs.plots\n",
        "import tensorflow_docs.modeling\n",
        "\n"
      ],
      "execution_count": 273,
      "outputs": []
    },
    {
      "cell_type": "code",
      "metadata": {
        "id": "U7zLL7tQm3eq",
        "colab_type": "code",
        "colab": {}
      },
      "source": [
        "from numpy.random import seed\n",
        "seed(1)\n",
        "tf.random.set_seed(2)"
      ],
      "execution_count": 274,
      "outputs": []
    },
    {
      "cell_type": "markdown",
      "metadata": {
        "id": "QzadtzC3Hniw",
        "colab_type": "text"
      },
      "source": [
        "# Data Collection\n"
      ]
    },
    {
      "cell_type": "code",
      "metadata": {
        "id": "7GjIgZ7kJhjo",
        "colab_type": "code",
        "colab": {
          "base_uri": "https://localhost:8080/",
          "height": 292
        },
        "outputId": "d9b2ba17-2f23-4954-f18c-76a1c50eba9a"
      },
      "source": [
        "# Importing covid_dataset using pandas. Droping null values.\n",
        "covid_dataset_data= pd.read_csv('owid_covid_data.csv', na_values = \"?\", comment='\\t', skipinitialspace=True)\n",
        "covid_dataset = covid_dataset_data.copy()\n",
        "# covid_dataset = covid_dataset.dropna()\n",
        "covid_dataset.head()"
      ],
      "execution_count": 275,
      "outputs": [
        {
          "output_type": "execute_result",
          "data": {
            "text/html": [
              "<div>\n",
              "<style scoped>\n",
              "    .dataframe tbody tr th:only-of-type {\n",
              "        vertical-align: middle;\n",
              "    }\n",
              "\n",
              "    .dataframe tbody tr th {\n",
              "        vertical-align: top;\n",
              "    }\n",
              "\n",
              "    .dataframe thead th {\n",
              "        text-align: right;\n",
              "    }\n",
              "</style>\n",
              "<table border=\"1\" class=\"dataframe\">\n",
              "  <thead>\n",
              "    <tr style=\"text-align: right;\">\n",
              "      <th></th>\n",
              "      <th>iso_code</th>\n",
              "      <th>continent</th>\n",
              "      <th>location</th>\n",
              "      <th>date</th>\n",
              "      <th>total_cases</th>\n",
              "      <th>new_cases</th>\n",
              "      <th>total_deaths</th>\n",
              "      <th>new_deaths</th>\n",
              "      <th>total_cases_per_million</th>\n",
              "      <th>new_cases_per_million</th>\n",
              "      <th>total_deaths_per_million</th>\n",
              "      <th>new_deaths_per_million</th>\n",
              "      <th>new_tests</th>\n",
              "      <th>total_tests</th>\n",
              "      <th>total_tests_per_thousand</th>\n",
              "      <th>new_tests_per_thousand</th>\n",
              "      <th>new_tests_smoothed</th>\n",
              "      <th>new_tests_smoothed_per_thousand</th>\n",
              "      <th>tests_per_case</th>\n",
              "      <th>positive_rate</th>\n",
              "      <th>tests_units</th>\n",
              "      <th>stringency_index</th>\n",
              "      <th>population</th>\n",
              "      <th>population_density</th>\n",
              "      <th>median_age</th>\n",
              "      <th>aged_65_older</th>\n",
              "      <th>aged_70_older</th>\n",
              "      <th>gdp_per_capita</th>\n",
              "      <th>extreme_poverty</th>\n",
              "      <th>cardiovasc_death_rate</th>\n",
              "      <th>diabetes_prevalence</th>\n",
              "      <th>female_smokers</th>\n",
              "      <th>male_smokers</th>\n",
              "      <th>handwashing_facilities</th>\n",
              "      <th>hospital_beds_per_thousand</th>\n",
              "      <th>life_expectancy</th>\n",
              "    </tr>\n",
              "  </thead>\n",
              "  <tbody>\n",
              "    <tr>\n",
              "      <th>0</th>\n",
              "      <td>ABW</td>\n",
              "      <td>North America</td>\n",
              "      <td>Aruba</td>\n",
              "      <td>2020-03-13</td>\n",
              "      <td>2.0</td>\n",
              "      <td>2.0</td>\n",
              "      <td>0.0</td>\n",
              "      <td>0.0</td>\n",
              "      <td>18.733</td>\n",
              "      <td>18.733</td>\n",
              "      <td>0.0</td>\n",
              "      <td>0.0</td>\n",
              "      <td>NaN</td>\n",
              "      <td>NaN</td>\n",
              "      <td>NaN</td>\n",
              "      <td>NaN</td>\n",
              "      <td>NaN</td>\n",
              "      <td>NaN</td>\n",
              "      <td>NaN</td>\n",
              "      <td>NaN</td>\n",
              "      <td>NaN</td>\n",
              "      <td>0.00</td>\n",
              "      <td>106766.0</td>\n",
              "      <td>584.8</td>\n",
              "      <td>41.2</td>\n",
              "      <td>13.085</td>\n",
              "      <td>7.452</td>\n",
              "      <td>35973.781</td>\n",
              "      <td>NaN</td>\n",
              "      <td>NaN</td>\n",
              "      <td>11.62</td>\n",
              "      <td>NaN</td>\n",
              "      <td>NaN</td>\n",
              "      <td>NaN</td>\n",
              "      <td>NaN</td>\n",
              "      <td>76.29</td>\n",
              "    </tr>\n",
              "    <tr>\n",
              "      <th>1</th>\n",
              "      <td>ABW</td>\n",
              "      <td>North America</td>\n",
              "      <td>Aruba</td>\n",
              "      <td>2020-03-20</td>\n",
              "      <td>4.0</td>\n",
              "      <td>2.0</td>\n",
              "      <td>0.0</td>\n",
              "      <td>0.0</td>\n",
              "      <td>37.465</td>\n",
              "      <td>18.733</td>\n",
              "      <td>0.0</td>\n",
              "      <td>0.0</td>\n",
              "      <td>NaN</td>\n",
              "      <td>NaN</td>\n",
              "      <td>NaN</td>\n",
              "      <td>NaN</td>\n",
              "      <td>NaN</td>\n",
              "      <td>NaN</td>\n",
              "      <td>NaN</td>\n",
              "      <td>NaN</td>\n",
              "      <td>NaN</td>\n",
              "      <td>33.33</td>\n",
              "      <td>106766.0</td>\n",
              "      <td>584.8</td>\n",
              "      <td>41.2</td>\n",
              "      <td>13.085</td>\n",
              "      <td>7.452</td>\n",
              "      <td>35973.781</td>\n",
              "      <td>NaN</td>\n",
              "      <td>NaN</td>\n",
              "      <td>11.62</td>\n",
              "      <td>NaN</td>\n",
              "      <td>NaN</td>\n",
              "      <td>NaN</td>\n",
              "      <td>NaN</td>\n",
              "      <td>76.29</td>\n",
              "    </tr>\n",
              "    <tr>\n",
              "      <th>2</th>\n",
              "      <td>ABW</td>\n",
              "      <td>North America</td>\n",
              "      <td>Aruba</td>\n",
              "      <td>2020-03-24</td>\n",
              "      <td>12.0</td>\n",
              "      <td>8.0</td>\n",
              "      <td>0.0</td>\n",
              "      <td>0.0</td>\n",
              "      <td>112.395</td>\n",
              "      <td>74.930</td>\n",
              "      <td>0.0</td>\n",
              "      <td>0.0</td>\n",
              "      <td>NaN</td>\n",
              "      <td>NaN</td>\n",
              "      <td>NaN</td>\n",
              "      <td>NaN</td>\n",
              "      <td>NaN</td>\n",
              "      <td>NaN</td>\n",
              "      <td>NaN</td>\n",
              "      <td>NaN</td>\n",
              "      <td>NaN</td>\n",
              "      <td>44.44</td>\n",
              "      <td>106766.0</td>\n",
              "      <td>584.8</td>\n",
              "      <td>41.2</td>\n",
              "      <td>13.085</td>\n",
              "      <td>7.452</td>\n",
              "      <td>35973.781</td>\n",
              "      <td>NaN</td>\n",
              "      <td>NaN</td>\n",
              "      <td>11.62</td>\n",
              "      <td>NaN</td>\n",
              "      <td>NaN</td>\n",
              "      <td>NaN</td>\n",
              "      <td>NaN</td>\n",
              "      <td>76.29</td>\n",
              "    </tr>\n",
              "    <tr>\n",
              "      <th>3</th>\n",
              "      <td>ABW</td>\n",
              "      <td>North America</td>\n",
              "      <td>Aruba</td>\n",
              "      <td>2020-03-25</td>\n",
              "      <td>17.0</td>\n",
              "      <td>5.0</td>\n",
              "      <td>0.0</td>\n",
              "      <td>0.0</td>\n",
              "      <td>159.227</td>\n",
              "      <td>46.831</td>\n",
              "      <td>0.0</td>\n",
              "      <td>0.0</td>\n",
              "      <td>NaN</td>\n",
              "      <td>NaN</td>\n",
              "      <td>NaN</td>\n",
              "      <td>NaN</td>\n",
              "      <td>NaN</td>\n",
              "      <td>NaN</td>\n",
              "      <td>NaN</td>\n",
              "      <td>NaN</td>\n",
              "      <td>NaN</td>\n",
              "      <td>44.44</td>\n",
              "      <td>106766.0</td>\n",
              "      <td>584.8</td>\n",
              "      <td>41.2</td>\n",
              "      <td>13.085</td>\n",
              "      <td>7.452</td>\n",
              "      <td>35973.781</td>\n",
              "      <td>NaN</td>\n",
              "      <td>NaN</td>\n",
              "      <td>11.62</td>\n",
              "      <td>NaN</td>\n",
              "      <td>NaN</td>\n",
              "      <td>NaN</td>\n",
              "      <td>NaN</td>\n",
              "      <td>76.29</td>\n",
              "    </tr>\n",
              "    <tr>\n",
              "      <th>4</th>\n",
              "      <td>ABW</td>\n",
              "      <td>North America</td>\n",
              "      <td>Aruba</td>\n",
              "      <td>2020-03-26</td>\n",
              "      <td>19.0</td>\n",
              "      <td>2.0</td>\n",
              "      <td>0.0</td>\n",
              "      <td>0.0</td>\n",
              "      <td>177.959</td>\n",
              "      <td>18.733</td>\n",
              "      <td>0.0</td>\n",
              "      <td>0.0</td>\n",
              "      <td>NaN</td>\n",
              "      <td>NaN</td>\n",
              "      <td>NaN</td>\n",
              "      <td>NaN</td>\n",
              "      <td>NaN</td>\n",
              "      <td>NaN</td>\n",
              "      <td>NaN</td>\n",
              "      <td>NaN</td>\n",
              "      <td>NaN</td>\n",
              "      <td>44.44</td>\n",
              "      <td>106766.0</td>\n",
              "      <td>584.8</td>\n",
              "      <td>41.2</td>\n",
              "      <td>13.085</td>\n",
              "      <td>7.452</td>\n",
              "      <td>35973.781</td>\n",
              "      <td>NaN</td>\n",
              "      <td>NaN</td>\n",
              "      <td>11.62</td>\n",
              "      <td>NaN</td>\n",
              "      <td>NaN</td>\n",
              "      <td>NaN</td>\n",
              "      <td>NaN</td>\n",
              "      <td>76.29</td>\n",
              "    </tr>\n",
              "  </tbody>\n",
              "</table>\n",
              "</div>"
            ],
            "text/plain": [
              "  iso_code      continent  ... hospital_beds_per_thousand life_expectancy\n",
              "0      ABW  North America  ...                        NaN           76.29\n",
              "1      ABW  North America  ...                        NaN           76.29\n",
              "2      ABW  North America  ...                        NaN           76.29\n",
              "3      ABW  North America  ...                        NaN           76.29\n",
              "4      ABW  North America  ...                        NaN           76.29\n",
              "\n",
              "[5 rows x 36 columns]"
            ]
          },
          "metadata": {
            "tags": []
          },
          "execution_count": 275
        }
      ]
    },
    {
      "cell_type": "code",
      "metadata": {
        "id": "aYBFYnKtiIkQ",
        "colab_type": "code",
        "colab": {
          "base_uri": "https://localhost:8080/",
          "height": 191
        },
        "outputId": "d8549023-aaf2-4d1e-de02-d7ba0dd86429"
      },
      "source": [
        "# Trying to isolate location/country based on currency in question\n",
        "# We are looking at pound and sterling therefore need to isolate 'United Kingdom' & 'United States' in location column\n",
        "us_death_rates = covid_dataset.loc[covid_dataset.location=='United States', ['location', 'date', 'total_cases', 'total_deaths']]\n",
        "us_death_rates.head()"
      ],
      "execution_count": 276,
      "outputs": [
        {
          "output_type": "execute_result",
          "data": {
            "text/html": [
              "<div>\n",
              "<style scoped>\n",
              "    .dataframe tbody tr th:only-of-type {\n",
              "        vertical-align: middle;\n",
              "    }\n",
              "\n",
              "    .dataframe tbody tr th {\n",
              "        vertical-align: top;\n",
              "    }\n",
              "\n",
              "    .dataframe thead th {\n",
              "        text-align: right;\n",
              "    }\n",
              "</style>\n",
              "<table border=\"1\" class=\"dataframe\">\n",
              "  <thead>\n",
              "    <tr style=\"text-align: right;\">\n",
              "      <th></th>\n",
              "      <th>location</th>\n",
              "      <th>date</th>\n",
              "      <th>total_cases</th>\n",
              "      <th>total_deaths</th>\n",
              "    </tr>\n",
              "  </thead>\n",
              "  <tbody>\n",
              "    <tr>\n",
              "      <th>32403</th>\n",
              "      <td>United States</td>\n",
              "      <td>2019-12-31</td>\n",
              "      <td>0.0</td>\n",
              "      <td>0.0</td>\n",
              "    </tr>\n",
              "    <tr>\n",
              "      <th>32404</th>\n",
              "      <td>United States</td>\n",
              "      <td>2020-01-01</td>\n",
              "      <td>0.0</td>\n",
              "      <td>0.0</td>\n",
              "    </tr>\n",
              "    <tr>\n",
              "      <th>32405</th>\n",
              "      <td>United States</td>\n",
              "      <td>2020-01-02</td>\n",
              "      <td>0.0</td>\n",
              "      <td>0.0</td>\n",
              "    </tr>\n",
              "    <tr>\n",
              "      <th>32406</th>\n",
              "      <td>United States</td>\n",
              "      <td>2020-01-03</td>\n",
              "      <td>0.0</td>\n",
              "      <td>0.0</td>\n",
              "    </tr>\n",
              "    <tr>\n",
              "      <th>32407</th>\n",
              "      <td>United States</td>\n",
              "      <td>2020-01-04</td>\n",
              "      <td>0.0</td>\n",
              "      <td>0.0</td>\n",
              "    </tr>\n",
              "  </tbody>\n",
              "</table>\n",
              "</div>"
            ],
            "text/plain": [
              "            location        date  total_cases  total_deaths\n",
              "32403  United States  2019-12-31          0.0           0.0\n",
              "32404  United States  2020-01-01          0.0           0.0\n",
              "32405  United States  2020-01-02          0.0           0.0\n",
              "32406  United States  2020-01-03          0.0           0.0\n",
              "32407  United States  2020-01-04          0.0           0.0"
            ]
          },
          "metadata": {
            "tags": []
          },
          "execution_count": 276
        }
      ]
    },
    {
      "cell_type": "code",
      "metadata": {
        "id": "285DiboRj7MW",
        "colab_type": "code",
        "colab": {}
      },
      "source": [
        "# us_death_rates = covid_dataset.loc[covid_dataset.location=='Zimbabwe', ['location', 'date', 'total_deaths','total_cases','cvd_death_rate']]\n",
        "# us_death_rates.head()"
      ],
      "execution_count": 277,
      "outputs": []
    },
    {
      "cell_type": "code",
      "metadata": {
        "id": "F3wvK4d2kvti",
        "colab_type": "code",
        "colab": {
          "base_uri": "https://localhost:8080/",
          "height": 33
        },
        "outputId": "f5bd9cf4-5003-414b-b4f9-b46fd54b5bcb"
      },
      "source": [
        "us_death_rates.shape"
      ],
      "execution_count": 278,
      "outputs": [
        {
          "output_type": "execute_result",
          "data": {
            "text/plain": [
              "(218, 4)"
            ]
          },
          "metadata": {
            "tags": []
          },
          "execution_count": 278
        }
      ]
    },
    {
      "cell_type": "code",
      "metadata": {
        "id": "kIDXEXFDf4N5",
        "colab_type": "code",
        "colab": {}
      },
      "source": [
        "# Import forex\n",
        "forex_dataset_data= pd.read_csv('investing.com.csv', na_values = \"?\", comment='\\t', skipinitialspace=True)\n",
        "forex_dataset = forex_dataset_data.copy()\n",
        "# forex_dataset = forex_dataset_data.dropna()\n"
      ],
      "execution_count": 279,
      "outputs": []
    },
    {
      "cell_type": "markdown",
      "metadata": {
        "id": "C53hVpItH0az",
        "colab_type": "text"
      },
      "source": [
        "# Data Preprocessing / Data Cleaning & Collating"
      ]
    },
    {
      "cell_type": "code",
      "metadata": {
        "id": "jIpYbWz2HxyG",
        "colab_type": "code",
        "colab": {
          "base_uri": "https://localhost:8080/",
          "height": 212
        },
        "outputId": "0e4e3de7-f0c7-4043-ff98-48866c5e33e0"
      },
      "source": [
        "# Filter dataset\n",
        "forex_dataset.pop('Open')\n",
        "forex_dataset.pop('High')\n",
        "forex_dataset.pop('Low')\n",
        "forex_dataset.pop('Change %')"
      ],
      "execution_count": 280,
      "outputs": [
        {
          "output_type": "execute_result",
          "data": {
            "text/plain": [
              "0      -0.04%\n",
              "1       0.76%\n",
              "2       0.49%\n",
              "3       0.38%\n",
              "4       0.72%\n",
              "        ...  \n",
              "149     0.62%\n",
              "150    -0.44%\n",
              "151    -0.82%\n",
              "152    -0.05%\n",
              "153     1.11%\n",
              "Name: Change %, Length: 154, dtype: object"
            ]
          },
          "metadata": {
            "tags": []
          },
          "execution_count": 280
        }
      ]
    },
    {
      "cell_type": "code",
      "metadata": {
        "id": "oSzzjHJxi5D4",
        "colab_type": "code",
        "colab": {
          "base_uri": "https://localhost:8080/",
          "height": 191
        },
        "outputId": "39475a5a-8613-443b-d6ba-f014eb1fd0c6"
      },
      "source": [
        "forex_dataset.tail()"
      ],
      "execution_count": 281,
      "outputs": [
        {
          "output_type": "execute_result",
          "data": {
            "text/html": [
              "<div>\n",
              "<style scoped>\n",
              "    .dataframe tbody tr th:only-of-type {\n",
              "        vertical-align: middle;\n",
              "    }\n",
              "\n",
              "    .dataframe tbody tr th {\n",
              "        vertical-align: top;\n",
              "    }\n",
              "\n",
              "    .dataframe thead th {\n",
              "        text-align: right;\n",
              "    }\n",
              "</style>\n",
              "<table border=\"1\" class=\"dataframe\">\n",
              "  <thead>\n",
              "    <tr style=\"text-align: right;\">\n",
              "      <th></th>\n",
              "      <th>Date</th>\n",
              "      <th>Price</th>\n",
              "    </tr>\n",
              "  </thead>\n",
              "  <tbody>\n",
              "    <tr>\n",
              "      <th>149</th>\n",
              "      <td>Jan 06, 2020</td>\n",
              "      <td>1.3169</td>\n",
              "    </tr>\n",
              "    <tr>\n",
              "      <th>150</th>\n",
              "      <td>Jan 03, 2020</td>\n",
              "      <td>1.3088</td>\n",
              "    </tr>\n",
              "    <tr>\n",
              "      <th>151</th>\n",
              "      <td>Jan 02, 2020</td>\n",
              "      <td>1.3146</td>\n",
              "    </tr>\n",
              "    <tr>\n",
              "      <th>152</th>\n",
              "      <td>Jan 01, 2020</td>\n",
              "      <td>1.3255</td>\n",
              "    </tr>\n",
              "    <tr>\n",
              "      <th>153</th>\n",
              "      <td>Dec 31, 2019</td>\n",
              "      <td>1.3261</td>\n",
              "    </tr>\n",
              "  </tbody>\n",
              "</table>\n",
              "</div>"
            ],
            "text/plain": [
              "             Date   Price\n",
              "149  Jan 06, 2020  1.3169\n",
              "150  Jan 03, 2020  1.3088\n",
              "151  Jan 02, 2020  1.3146\n",
              "152  Jan 01, 2020  1.3255\n",
              "153  Dec 31, 2019  1.3261"
            ]
          },
          "metadata": {
            "tags": []
          },
          "execution_count": 281
        }
      ]
    },
    {
      "cell_type": "code",
      "metadata": {
        "id": "vrVetfeGgSm7",
        "colab_type": "code",
        "colab": {
          "base_uri": "https://localhost:8080/",
          "height": 191
        },
        "outputId": "c90f5b77-1b14-4177-e076-cd09d1c61567"
      },
      "source": [
        "# Isolate covid_date\n",
        "import time \n",
        "us_date = us_death_rates['date']\n",
        "new_us_dates = [time.strptime(x.replace(\"-\",\" \"), '%Y %m %d')for x in us_date]\n",
        "us_death_rates['date'] = new_us_dates\n",
        "us_death_rates.head()\n"
      ],
      "execution_count": 282,
      "outputs": [
        {
          "output_type": "execute_result",
          "data": {
            "text/html": [
              "<div>\n",
              "<style scoped>\n",
              "    .dataframe tbody tr th:only-of-type {\n",
              "        vertical-align: middle;\n",
              "    }\n",
              "\n",
              "    .dataframe tbody tr th {\n",
              "        vertical-align: top;\n",
              "    }\n",
              "\n",
              "    .dataframe thead th {\n",
              "        text-align: right;\n",
              "    }\n",
              "</style>\n",
              "<table border=\"1\" class=\"dataframe\">\n",
              "  <thead>\n",
              "    <tr style=\"text-align: right;\">\n",
              "      <th></th>\n",
              "      <th>location</th>\n",
              "      <th>date</th>\n",
              "      <th>total_cases</th>\n",
              "      <th>total_deaths</th>\n",
              "    </tr>\n",
              "  </thead>\n",
              "  <tbody>\n",
              "    <tr>\n",
              "      <th>32403</th>\n",
              "      <td>United States</td>\n",
              "      <td>(2019, 12, 31, 0, 0, 0, 1, 365, -1)</td>\n",
              "      <td>0.0</td>\n",
              "      <td>0.0</td>\n",
              "    </tr>\n",
              "    <tr>\n",
              "      <th>32404</th>\n",
              "      <td>United States</td>\n",
              "      <td>(2020, 1, 1, 0, 0, 0, 2, 1, -1)</td>\n",
              "      <td>0.0</td>\n",
              "      <td>0.0</td>\n",
              "    </tr>\n",
              "    <tr>\n",
              "      <th>32405</th>\n",
              "      <td>United States</td>\n",
              "      <td>(2020, 1, 2, 0, 0, 0, 3, 2, -1)</td>\n",
              "      <td>0.0</td>\n",
              "      <td>0.0</td>\n",
              "    </tr>\n",
              "    <tr>\n",
              "      <th>32406</th>\n",
              "      <td>United States</td>\n",
              "      <td>(2020, 1, 3, 0, 0, 0, 4, 3, -1)</td>\n",
              "      <td>0.0</td>\n",
              "      <td>0.0</td>\n",
              "    </tr>\n",
              "    <tr>\n",
              "      <th>32407</th>\n",
              "      <td>United States</td>\n",
              "      <td>(2020, 1, 4, 0, 0, 0, 5, 4, -1)</td>\n",
              "      <td>0.0</td>\n",
              "      <td>0.0</td>\n",
              "    </tr>\n",
              "  </tbody>\n",
              "</table>\n",
              "</div>"
            ],
            "text/plain": [
              "            location  ... total_deaths\n",
              "32403  United States  ...          0.0\n",
              "32404  United States  ...          0.0\n",
              "32405  United States  ...          0.0\n",
              "32406  United States  ...          0.0\n",
              "32407  United States  ...          0.0\n",
              "\n",
              "[5 rows x 4 columns]"
            ]
          },
          "metadata": {
            "tags": []
          },
          "execution_count": 282
        }
      ]
    },
    {
      "cell_type": "code",
      "metadata": {
        "id": "IGR0p0YWh9jH",
        "colab_type": "code",
        "colab": {
          "base_uri": "https://localhost:8080/",
          "height": 191
        },
        "outputId": "ecd34928-a09c-4cb3-dca3-768668ba2c40"
      },
      "source": [
        "# Isolate forex_date\n",
        "import time \n",
        "forex_date = forex_dataset['Date']\n",
        "new_forex_dates = [time.strptime(x.replace(',', \"\"), '%b %d %Y')for x in forex_date]\n",
        "forex_dataset['Date'] = new_forex_dates\n",
        "forex_dataset.tail()\n"
      ],
      "execution_count": 283,
      "outputs": [
        {
          "output_type": "execute_result",
          "data": {
            "text/html": [
              "<div>\n",
              "<style scoped>\n",
              "    .dataframe tbody tr th:only-of-type {\n",
              "        vertical-align: middle;\n",
              "    }\n",
              "\n",
              "    .dataframe tbody tr th {\n",
              "        vertical-align: top;\n",
              "    }\n",
              "\n",
              "    .dataframe thead th {\n",
              "        text-align: right;\n",
              "    }\n",
              "</style>\n",
              "<table border=\"1\" class=\"dataframe\">\n",
              "  <thead>\n",
              "    <tr style=\"text-align: right;\">\n",
              "      <th></th>\n",
              "      <th>Date</th>\n",
              "      <th>Price</th>\n",
              "    </tr>\n",
              "  </thead>\n",
              "  <tbody>\n",
              "    <tr>\n",
              "      <th>149</th>\n",
              "      <td>(2020, 1, 6, 0, 0, 0, 0, 6, -1)</td>\n",
              "      <td>1.3169</td>\n",
              "    </tr>\n",
              "    <tr>\n",
              "      <th>150</th>\n",
              "      <td>(2020, 1, 3, 0, 0, 0, 4, 3, -1)</td>\n",
              "      <td>1.3088</td>\n",
              "    </tr>\n",
              "    <tr>\n",
              "      <th>151</th>\n",
              "      <td>(2020, 1, 2, 0, 0, 0, 3, 2, -1)</td>\n",
              "      <td>1.3146</td>\n",
              "    </tr>\n",
              "    <tr>\n",
              "      <th>152</th>\n",
              "      <td>(2020, 1, 1, 0, 0, 0, 2, 1, -1)</td>\n",
              "      <td>1.3255</td>\n",
              "    </tr>\n",
              "    <tr>\n",
              "      <th>153</th>\n",
              "      <td>(2019, 12, 31, 0, 0, 0, 1, 365, -1)</td>\n",
              "      <td>1.3261</td>\n",
              "    </tr>\n",
              "  </tbody>\n",
              "</table>\n",
              "</div>"
            ],
            "text/plain": [
              "                                    Date   Price\n",
              "149      (2020, 1, 6, 0, 0, 0, 0, 6, -1)  1.3169\n",
              "150      (2020, 1, 3, 0, 0, 0, 4, 3, -1)  1.3088\n",
              "151      (2020, 1, 2, 0, 0, 0, 3, 2, -1)  1.3146\n",
              "152      (2020, 1, 1, 0, 0, 0, 2, 1, -1)  1.3255\n",
              "153  (2019, 12, 31, 0, 0, 0, 1, 365, -1)  1.3261"
            ]
          },
          "metadata": {
            "tags": []
          },
          "execution_count": 283
        }
      ]
    },
    {
      "cell_type": "code",
      "metadata": {
        "id": "7b16glGjiCLz",
        "colab_type": "code",
        "colab": {
          "base_uri": "https://localhost:8080/",
          "height": 33
        },
        "outputId": "ee61f79c-12cc-4458-b238-10a9a5a04191"
      },
      "source": [
        "print(len(forex_dataset))"
      ],
      "execution_count": 284,
      "outputs": [
        {
          "output_type": "stream",
          "text": [
            "154\n"
          ],
          "name": "stdout"
        }
      ]
    },
    {
      "cell_type": "code",
      "metadata": {
        "id": "OiFVDAF0ngrx",
        "colab_type": "code",
        "colab": {
          "base_uri": "https://localhost:8080/",
          "height": 33
        },
        "outputId": "0708965f-3e07-406e-943f-c15734ff5e92"
      },
      "source": [
        "# Merging dates from two tables\n",
        "dataset = pd.merge(left=forex_dataset, left_on='Date',\n",
        "         right=us_death_rates, right_on='date')\n",
        "dataset.tail()\n",
        "len(dataset)\n"
      ],
      "execution_count": 285,
      "outputs": [
        {
          "output_type": "execute_result",
          "data": {
            "text/plain": [
              "154"
            ]
          },
          "metadata": {
            "tags": []
          },
          "execution_count": 285
        }
      ]
    },
    {
      "cell_type": "code",
      "metadata": {
        "id": "a9A_G1s9ETvi",
        "colab_type": "code",
        "colab": {
          "base_uri": "https://localhost:8080/",
          "height": 212
        },
        "outputId": "b9116a44-89e9-431c-d4d8-dc9053e8eecd"
      },
      "source": [
        "# We pop the 'date' from the covid_dataset because this column starts later than the forex column\n",
        "# We want to see the forex price before covid happened\n",
        "dataset.pop('date')"
      ],
      "execution_count": 286,
      "outputs": [
        {
          "output_type": "execute_result",
          "data": {
            "text/plain": [
              "0       (2020, 7, 31, 0, 0, 0, 4, 213, -1)\n",
              "1       (2020, 7, 30, 0, 0, 0, 3, 212, -1)\n",
              "2       (2020, 7, 29, 0, 0, 0, 2, 211, -1)\n",
              "3       (2020, 7, 28, 0, 0, 0, 1, 210, -1)\n",
              "4       (2020, 7, 27, 0, 0, 0, 0, 209, -1)\n",
              "                      ...                 \n",
              "149        (2020, 1, 6, 0, 0, 0, 0, 6, -1)\n",
              "150        (2020, 1, 3, 0, 0, 0, 4, 3, -1)\n",
              "151        (2020, 1, 2, 0, 0, 0, 3, 2, -1)\n",
              "152        (2020, 1, 1, 0, 0, 0, 2, 1, -1)\n",
              "153    (2019, 12, 31, 0, 0, 0, 1, 365, -1)\n",
              "Name: date, Length: 154, dtype: object"
            ]
          },
          "metadata": {
            "tags": []
          },
          "execution_count": 286
        }
      ]
    },
    {
      "cell_type": "code",
      "metadata": {
        "id": "Rz0-4V24EY65",
        "colab_type": "code",
        "colab": {
          "base_uri": "https://localhost:8080/",
          "height": 191
        },
        "outputId": "f0fb664b-6c31-4897-f46d-7036a71c41b1"
      },
      "source": [
        "# Problem: \t(2020, 7, 31) when head\n",
        "dataset.head()"
      ],
      "execution_count": 287,
      "outputs": [
        {
          "output_type": "execute_result",
          "data": {
            "text/html": [
              "<div>\n",
              "<style scoped>\n",
              "    .dataframe tbody tr th:only-of-type {\n",
              "        vertical-align: middle;\n",
              "    }\n",
              "\n",
              "    .dataframe tbody tr th {\n",
              "        vertical-align: top;\n",
              "    }\n",
              "\n",
              "    .dataframe thead th {\n",
              "        text-align: right;\n",
              "    }\n",
              "</style>\n",
              "<table border=\"1\" class=\"dataframe\">\n",
              "  <thead>\n",
              "    <tr style=\"text-align: right;\">\n",
              "      <th></th>\n",
              "      <th>Date</th>\n",
              "      <th>Price</th>\n",
              "      <th>location</th>\n",
              "      <th>total_cases</th>\n",
              "      <th>total_deaths</th>\n",
              "    </tr>\n",
              "  </thead>\n",
              "  <tbody>\n",
              "    <tr>\n",
              "      <th>0</th>\n",
              "      <td>(2020, 7, 31, 0, 0, 0, 4, 213, -1)</td>\n",
              "      <td>1.3090</td>\n",
              "      <td>United States</td>\n",
              "      <td>4495014.0</td>\n",
              "      <td>152070.0</td>\n",
              "    </tr>\n",
              "    <tr>\n",
              "      <th>1</th>\n",
              "      <td>(2020, 7, 30, 0, 0, 0, 3, 212, -1)</td>\n",
              "      <td>1.3095</td>\n",
              "      <td>United States</td>\n",
              "      <td>4426982.0</td>\n",
              "      <td>150713.0</td>\n",
              "    </tr>\n",
              "    <tr>\n",
              "      <th>2</th>\n",
              "      <td>(2020, 7, 29, 0, 0, 0, 2, 211, -1)</td>\n",
              "      <td>1.2996</td>\n",
              "      <td>United States</td>\n",
              "      <td>4351997.0</td>\n",
              "      <td>149256.0</td>\n",
              "    </tr>\n",
              "    <tr>\n",
              "      <th>3</th>\n",
              "      <td>(2020, 7, 28, 0, 0, 0, 1, 210, -1)</td>\n",
              "      <td>1.2932</td>\n",
              "      <td>United States</td>\n",
              "      <td>4290263.0</td>\n",
              "      <td>148011.0</td>\n",
              "    </tr>\n",
              "    <tr>\n",
              "      <th>4</th>\n",
              "      <td>(2020, 7, 27, 0, 0, 0, 0, 209, -1)</td>\n",
              "      <td>1.2882</td>\n",
              "      <td>United States</td>\n",
              "      <td>4234020.0</td>\n",
              "      <td>146935.0</td>\n",
              "    </tr>\n",
              "  </tbody>\n",
              "</table>\n",
              "</div>"
            ],
            "text/plain": [
              "                                 Date   Price  ... total_cases  total_deaths\n",
              "0  (2020, 7, 31, 0, 0, 0, 4, 213, -1)  1.3090  ...   4495014.0      152070.0\n",
              "1  (2020, 7, 30, 0, 0, 0, 3, 212, -1)  1.3095  ...   4426982.0      150713.0\n",
              "2  (2020, 7, 29, 0, 0, 0, 2, 211, -1)  1.2996  ...   4351997.0      149256.0\n",
              "3  (2020, 7, 28, 0, 0, 0, 1, 210, -1)  1.2932  ...   4290263.0      148011.0\n",
              "4  (2020, 7, 27, 0, 0, 0, 0, 209, -1)  1.2882  ...   4234020.0      146935.0\n",
              "\n",
              "[5 rows x 5 columns]"
            ]
          },
          "metadata": {
            "tags": []
          },
          "execution_count": 287
        }
      ]
    },
    {
      "cell_type": "code",
      "metadata": {
        "id": "IQww6-B7ZfX0",
        "colab_type": "code",
        "colab": {
          "base_uri": "https://localhost:8080/",
          "height": 191
        },
        "outputId": "f0e81840-396f-48e1-bafd-e55436df9e7d"
      },
      "source": [
        "dataset.tail()"
      ],
      "execution_count": 288,
      "outputs": [
        {
          "output_type": "execute_result",
          "data": {
            "text/html": [
              "<div>\n",
              "<style scoped>\n",
              "    .dataframe tbody tr th:only-of-type {\n",
              "        vertical-align: middle;\n",
              "    }\n",
              "\n",
              "    .dataframe tbody tr th {\n",
              "        vertical-align: top;\n",
              "    }\n",
              "\n",
              "    .dataframe thead th {\n",
              "        text-align: right;\n",
              "    }\n",
              "</style>\n",
              "<table border=\"1\" class=\"dataframe\">\n",
              "  <thead>\n",
              "    <tr style=\"text-align: right;\">\n",
              "      <th></th>\n",
              "      <th>Date</th>\n",
              "      <th>Price</th>\n",
              "      <th>location</th>\n",
              "      <th>total_cases</th>\n",
              "      <th>total_deaths</th>\n",
              "    </tr>\n",
              "  </thead>\n",
              "  <tbody>\n",
              "    <tr>\n",
              "      <th>149</th>\n",
              "      <td>(2020, 1, 6, 0, 0, 0, 0, 6, -1)</td>\n",
              "      <td>1.3169</td>\n",
              "      <td>United States</td>\n",
              "      <td>0.0</td>\n",
              "      <td>0.0</td>\n",
              "    </tr>\n",
              "    <tr>\n",
              "      <th>150</th>\n",
              "      <td>(2020, 1, 3, 0, 0, 0, 4, 3, -1)</td>\n",
              "      <td>1.3088</td>\n",
              "      <td>United States</td>\n",
              "      <td>0.0</td>\n",
              "      <td>0.0</td>\n",
              "    </tr>\n",
              "    <tr>\n",
              "      <th>151</th>\n",
              "      <td>(2020, 1, 2, 0, 0, 0, 3, 2, -1)</td>\n",
              "      <td>1.3146</td>\n",
              "      <td>United States</td>\n",
              "      <td>0.0</td>\n",
              "      <td>0.0</td>\n",
              "    </tr>\n",
              "    <tr>\n",
              "      <th>152</th>\n",
              "      <td>(2020, 1, 1, 0, 0, 0, 2, 1, -1)</td>\n",
              "      <td>1.3255</td>\n",
              "      <td>United States</td>\n",
              "      <td>0.0</td>\n",
              "      <td>0.0</td>\n",
              "    </tr>\n",
              "    <tr>\n",
              "      <th>153</th>\n",
              "      <td>(2019, 12, 31, 0, 0, 0, 1, 365, -1)</td>\n",
              "      <td>1.3261</td>\n",
              "      <td>United States</td>\n",
              "      <td>0.0</td>\n",
              "      <td>0.0</td>\n",
              "    </tr>\n",
              "  </tbody>\n",
              "</table>\n",
              "</div>"
            ],
            "text/plain": [
              "                                    Date   Price  ... total_cases  total_deaths\n",
              "149      (2020, 1, 6, 0, 0, 0, 0, 6, -1)  1.3169  ...         0.0           0.0\n",
              "150      (2020, 1, 3, 0, 0, 0, 4, 3, -1)  1.3088  ...         0.0           0.0\n",
              "151      (2020, 1, 2, 0, 0, 0, 3, 2, -1)  1.3146  ...         0.0           0.0\n",
              "152      (2020, 1, 1, 0, 0, 0, 2, 1, -1)  1.3255  ...         0.0           0.0\n",
              "153  (2019, 12, 31, 0, 0, 0, 1, 365, -1)  1.3261  ...         0.0           0.0\n",
              "\n",
              "[5 rows x 5 columns]"
            ]
          },
          "metadata": {
            "tags": []
          },
          "execution_count": 288
        }
      ]
    },
    {
      "cell_type": "code",
      "metadata": {
        "id": "I9kHcA_4tAqL",
        "colab_type": "code",
        "colab": {
          "base_uri": "https://localhost:8080/",
          "height": 115
        },
        "outputId": "d6ca9937-6e49-45d4-d896-651eff37f8d0"
      },
      "source": [
        "# View what date looks like\n",
        "date = dataset['Date']\n",
        "date.head()"
      ],
      "execution_count": 289,
      "outputs": [
        {
          "output_type": "execute_result",
          "data": {
            "text/plain": [
              "0    (2020, 7, 31, 0, 0, 0, 4, 213, -1)\n",
              "1    (2020, 7, 30, 0, 0, 0, 3, 212, -1)\n",
              "2    (2020, 7, 29, 0, 0, 0, 2, 211, -1)\n",
              "3    (2020, 7, 28, 0, 0, 0, 1, 210, -1)\n",
              "4    (2020, 7, 27, 0, 0, 0, 0, 209, -1)\n",
              "Name: Date, dtype: object"
            ]
          },
          "metadata": {
            "tags": []
          },
          "execution_count": 289
        }
      ]
    },
    {
      "cell_type": "code",
      "metadata": {
        "id": "uDcfZ05jYR2l",
        "colab_type": "code",
        "colab": {
          "base_uri": "https://localhost:8080/",
          "height": 245
        },
        "outputId": "ddc7c570-38c1-4eef-9e94-a4094c63e348"
      },
      "source": [
        "# Splitting timestamp and isolating the date\n",
        "dateFormatting = pd.DataFrame({'new_date': pd.date_range('2019-12-31', '2020-07-31', periods=len(date))})\n",
        "print(dateFormatting)\n"
      ],
      "execution_count": 290,
      "outputs": [
        {
          "output_type": "stream",
          "text": [
            "                         new_date\n",
            "0   2019-12-31 00:00:00.000000000\n",
            "1   2020-01-01 09:24:42.352941176\n",
            "2   2020-01-02 18:49:24.705882352\n",
            "3   2020-01-04 04:14:07.058823529\n",
            "4   2020-01-05 13:38:49.411764705\n",
            "..                            ...\n",
            "149 2020-07-25 10:21:10.588235294\n",
            "150 2020-07-26 19:45:52.941176472\n",
            "151 2020-07-28 05:10:35.294117648\n",
            "152 2020-07-29 14:35:17.647058824\n",
            "153 2020-07-31 00:00:00.000000000\n",
            "\n",
            "[154 rows x 1 columns]\n"
          ],
          "name": "stdout"
        }
      ]
    },
    {
      "cell_type": "code",
      "metadata": {
        "id": "Tav3LALn4KN2",
        "colab_type": "code",
        "colab": {
          "base_uri": "https://localhost:8080/",
          "height": 53
        },
        "outputId": "1060c8f8-550f-4dd8-d59d-de42aae6aada"
      },
      "source": [
        "# Convert date to list so that we can use the dates to plot on graph\n",
        "my_xticks = dateFormatting['new_date'].tolist()\n",
        "print(my_xticks)"
      ],
      "execution_count": 291,
      "outputs": [
        {
          "output_type": "stream",
          "text": [
            "[Timestamp('2019-12-31 00:00:00'), Timestamp('2020-01-01 09:24:42.352941176'), Timestamp('2020-01-02 18:49:24.705882352'), Timestamp('2020-01-04 04:14:07.058823529'), Timestamp('2020-01-05 13:38:49.411764705'), Timestamp('2020-01-06 23:03:31.764705882'), Timestamp('2020-01-08 08:28:14.117647058'), Timestamp('2020-01-09 17:52:56.470588235'), Timestamp('2020-01-11 03:17:38.823529411'), Timestamp('2020-01-12 12:42:21.176470588'), Timestamp('2020-01-13 22:07:03.529411764'), Timestamp('2020-01-15 07:31:45.882352941'), Timestamp('2020-01-16 16:56:28.235294117'), Timestamp('2020-01-18 02:21:10.588235294'), Timestamp('2020-01-19 11:45:52.941176470'), Timestamp('2020-01-20 21:10:35.294117647'), Timestamp('2020-01-22 06:35:17.647058823'), Timestamp('2020-01-23 16:00:00'), Timestamp('2020-01-25 01:24:42.352941176'), Timestamp('2020-01-26 10:49:24.705882353'), Timestamp('2020-01-27 20:14:07.058823529'), Timestamp('2020-01-29 05:38:49.411764706'), Timestamp('2020-01-30 15:03:31.764705882'), Timestamp('2020-02-01 00:28:14.117647059'), Timestamp('2020-02-02 09:52:56.470588235'), Timestamp('2020-02-03 19:17:38.823529411'), Timestamp('2020-02-05 04:42:21.176470588'), Timestamp('2020-02-06 14:07:03.529411764'), Timestamp('2020-02-07 23:31:45.882352941'), Timestamp('2020-02-09 08:56:28.235294117'), Timestamp('2020-02-10 18:21:10.588235294'), Timestamp('2020-02-12 03:45:52.941176470'), Timestamp('2020-02-13 13:10:35.294117647'), Timestamp('2020-02-14 22:35:17.647058823'), Timestamp('2020-02-16 08:00:00'), Timestamp('2020-02-17 17:24:42.352941176'), Timestamp('2020-02-19 02:49:24.705882353'), Timestamp('2020-02-20 12:14:07.058823529'), Timestamp('2020-02-21 21:38:49.411764706'), Timestamp('2020-02-23 07:03:31.764705882'), Timestamp('2020-02-24 16:28:14.117647059'), Timestamp('2020-02-26 01:52:56.470588235'), Timestamp('2020-02-27 11:17:38.823529412'), Timestamp('2020-02-28 20:42:21.176470588'), Timestamp('2020-03-01 06:07:03.529411765'), Timestamp('2020-03-02 15:31:45.882352941'), Timestamp('2020-03-04 00:56:28.235294118'), Timestamp('2020-03-05 10:21:10.588235294'), Timestamp('2020-03-06 19:45:52.941176470'), Timestamp('2020-03-08 05:10:35.294117647'), Timestamp('2020-03-09 14:35:17.647058823'), Timestamp('2020-03-11 00:00:00'), Timestamp('2020-03-12 09:24:42.352941176'), Timestamp('2020-03-13 18:49:24.705882353'), Timestamp('2020-03-15 04:14:07.058823529'), Timestamp('2020-03-16 13:38:49.411764706'), Timestamp('2020-03-17 23:03:31.764705882'), Timestamp('2020-03-19 08:28:14.117647059'), Timestamp('2020-03-20 17:52:56.470588235'), Timestamp('2020-03-22 03:17:38.823529412'), Timestamp('2020-03-23 12:42:21.176470588'), Timestamp('2020-03-24 22:07:03.529411765'), Timestamp('2020-03-26 07:31:45.882352941'), Timestamp('2020-03-27 16:56:28.235294118'), Timestamp('2020-03-29 02:21:10.588235294'), Timestamp('2020-03-30 11:45:52.941176470'), Timestamp('2020-03-31 21:10:35.294117647'), Timestamp('2020-04-02 06:35:17.647058823'), Timestamp('2020-04-03 16:00:00'), Timestamp('2020-04-05 01:24:42.352941176'), Timestamp('2020-04-06 10:49:24.705882353'), Timestamp('2020-04-07 20:14:07.058823529'), Timestamp('2020-04-09 05:38:49.411764706'), Timestamp('2020-04-10 15:03:31.764705882'), Timestamp('2020-04-12 00:28:14.117647059'), Timestamp('2020-04-13 09:52:56.470588236'), Timestamp('2020-04-14 19:17:38.823529412'), Timestamp('2020-04-16 04:42:21.176470588'), Timestamp('2020-04-17 14:07:03.529411764'), Timestamp('2020-04-18 23:31:45.882352942'), Timestamp('2020-04-20 08:56:28.235294118'), Timestamp('2020-04-21 18:21:10.588235294'), Timestamp('2020-04-23 03:45:52.941176470'), Timestamp('2020-04-24 13:10:35.294117646'), Timestamp('2020-04-25 22:35:17.647058824'), Timestamp('2020-04-27 08:00:00'), Timestamp('2020-04-28 17:24:42.352941176'), Timestamp('2020-04-30 02:49:24.705882352'), Timestamp('2020-05-01 12:14:07.058823530'), Timestamp('2020-05-02 21:38:49.411764706'), Timestamp('2020-05-04 07:03:31.764705882'), Timestamp('2020-05-05 16:28:14.117647058'), Timestamp('2020-05-07 01:52:56.470588236'), Timestamp('2020-05-08 11:17:38.823529412'), Timestamp('2020-05-09 20:42:21.176470588'), Timestamp('2020-05-11 06:07:03.529411764'), Timestamp('2020-05-12 15:31:45.882352940'), Timestamp('2020-05-14 00:56:28.235294118'), Timestamp('2020-05-15 10:21:10.588235294'), Timestamp('2020-05-16 19:45:52.941176470'), Timestamp('2020-05-18 05:10:35.294117646'), Timestamp('2020-05-19 14:35:17.647058824'), Timestamp('2020-05-21 00:00:00'), Timestamp('2020-05-22 09:24:42.352941176'), Timestamp('2020-05-23 18:49:24.705882352'), Timestamp('2020-05-25 04:14:07.058823530'), Timestamp('2020-05-26 13:38:49.411764706'), Timestamp('2020-05-27 23:03:31.764705882'), Timestamp('2020-05-29 08:28:14.117647058'), Timestamp('2020-05-30 17:52:56.470588236'), Timestamp('2020-06-01 03:17:38.823529412'), Timestamp('2020-06-02 12:42:21.176470588'), Timestamp('2020-06-03 22:07:03.529411764'), Timestamp('2020-06-05 07:31:45.882352940'), Timestamp('2020-06-06 16:56:28.235294118'), Timestamp('2020-06-08 02:21:10.588235294'), Timestamp('2020-06-09 11:45:52.941176470'), Timestamp('2020-06-10 21:10:35.294117646'), Timestamp('2020-06-12 06:35:17.647058824'), Timestamp('2020-06-13 16:00:00'), Timestamp('2020-06-15 01:24:42.352941176'), Timestamp('2020-06-16 10:49:24.705882352'), Timestamp('2020-06-17 20:14:07.058823530'), Timestamp('2020-06-19 05:38:49.411764706'), Timestamp('2020-06-20 15:03:31.764705882'), Timestamp('2020-06-22 00:28:14.117647058'), Timestamp('2020-06-23 09:52:56.470588236'), Timestamp('2020-06-24 19:17:38.823529412'), Timestamp('2020-06-26 04:42:21.176470588'), Timestamp('2020-06-27 14:07:03.529411764'), Timestamp('2020-06-28 23:31:45.882352940'), Timestamp('2020-06-30 08:56:28.235294118'), Timestamp('2020-07-01 18:21:10.588235294'), Timestamp('2020-07-03 03:45:52.941176470'), Timestamp('2020-07-04 13:10:35.294117646'), Timestamp('2020-07-05 22:35:17.647058824'), Timestamp('2020-07-07 08:00:00'), Timestamp('2020-07-08 17:24:42.352941176'), Timestamp('2020-07-10 02:49:24.705882352'), Timestamp('2020-07-11 12:14:07.058823530'), Timestamp('2020-07-12 21:38:49.411764706'), Timestamp('2020-07-14 07:03:31.764705882'), Timestamp('2020-07-15 16:28:14.117647058'), Timestamp('2020-07-17 01:52:56.470588236'), Timestamp('2020-07-18 11:17:38.823529412'), Timestamp('2020-07-19 20:42:21.176470588'), Timestamp('2020-07-21 06:07:03.529411764'), Timestamp('2020-07-22 15:31:45.882352940'), Timestamp('2020-07-24 00:56:28.235294118'), Timestamp('2020-07-25 10:21:10.588235294'), Timestamp('2020-07-26 19:45:52.941176472'), Timestamp('2020-07-28 05:10:35.294117648'), Timestamp('2020-07-29 14:35:17.647058824'), Timestamp('2020-07-31 00:00:00')]\n"
          ],
          "name": "stdout"
        }
      ]
    },
    {
      "cell_type": "code",
      "metadata": {
        "id": "DeyD3C8dm1DM",
        "colab_type": "code",
        "colab": {
          "base_uri": "https://localhost:8080/",
          "height": 212
        },
        "outputId": "ebfdfb2c-00ae-4d29-c7a6-b677d8d1a7ba"
      },
      "source": [
        "dataset['Date'] # 2020, 7, 31"
      ],
      "execution_count": 292,
      "outputs": [
        {
          "output_type": "execute_result",
          "data": {
            "text/plain": [
              "0       (2020, 7, 31, 0, 0, 0, 4, 213, -1)\n",
              "1       (2020, 7, 30, 0, 0, 0, 3, 212, -1)\n",
              "2       (2020, 7, 29, 0, 0, 0, 2, 211, -1)\n",
              "3       (2020, 7, 28, 0, 0, 0, 1, 210, -1)\n",
              "4       (2020, 7, 27, 0, 0, 0, 0, 209, -1)\n",
              "                      ...                 \n",
              "149        (2020, 1, 6, 0, 0, 0, 0, 6, -1)\n",
              "150        (2020, 1, 3, 0, 0, 0, 4, 3, -1)\n",
              "151        (2020, 1, 2, 0, 0, 0, 3, 2, -1)\n",
              "152        (2020, 1, 1, 0, 0, 0, 2, 1, -1)\n",
              "153    (2019, 12, 31, 0, 0, 0, 1, 365, -1)\n",
              "Name: Date, Length: 154, dtype: object"
            ]
          },
          "metadata": {
            "tags": []
          },
          "execution_count": 292
        }
      ]
    },
    {
      "cell_type": "markdown",
      "metadata": {
        "id": "wvb8c8CBIOqM",
        "colab_type": "text"
      },
      "source": [
        "# Plotting Features before Normalisation"
      ]
    },
    {
      "cell_type": "code",
      "metadata": {
        "id": "eDGMN3GG6wOL",
        "colab_type": "code",
        "colab": {
          "base_uri": "https://localhost:8080/",
          "height": 397
        },
        "outputId": "619e4bd0-08f8-4d01-ac58-a98307ea81e4"
      },
      "source": [
        "# Plotted prices and dates\n",
        "# Notice how the dates start and end\n",
        "\n",
        "from datetime import datetime, timedelta\n",
        "from matplotlib import pyplot as plt\n",
        "from matplotlib import dates as mpl_dates\n",
        "plt.style.use('seaborn')\n",
        "from matplotlib import rcParams\n",
        "rcParams['figure.figsize'] = 15,6\n",
        "\n",
        "dates = np.array(dateFormatting['new_date'])\n",
        "price = np.array(dataset['Price'])\n",
        "plt.plot_date(dates,price, linestyle ='solid')\n",
        "plt.gcf().autofmt_xdate()\n",
        "date_format = mpl_dates.DateFormatter('%b,%d,%Y')\n",
        "plt.title('Time Series Price of USD compare to GBP')\n",
        "plt.xlabel('Date')\n",
        "plt.ylabel('Price')\n",
        "plt.gca().xaxis.set_major_formatter(date_format)"
      ],
      "execution_count": 293,
      "outputs": [
        {
          "output_type": "display_data",
          "data": {
            "image/png": "[encoded data removed]",
            "text/plain": [
              "<Figure size 1080x432 with 1 Axes>"
            ]
          },
          "metadata": {
            "tags": []
          }
        }
      ]
    },
    {
      "cell_type": "code",
      "metadata": {
        "id": "Dqj88upVOPC9",
        "colab_type": "code",
        "colab": {
          "base_uri": "https://localhost:8080/",
          "height": 33
        },
        "outputId": "180a8822-c8d0-49be-d362-ccf7d2719e5c"
      },
      "source": [
        "# print(price)\n",
        "test = np.array(dataset['total_deaths'])\n",
        "# print(test)\n",
        "price.shape\n",
        "# test.shape\n",
        "test = np.array(dataset['total_deaths'])\n",
        "list_arr = np.array(test)\n",
        "reversed_arr = list_arr[::-1]\n",
        "reversed_arr.shape\n",
        "price.shape"
      ],
      "execution_count": 294,
      "outputs": [
        {
          "output_type": "execute_result",
          "data": {
            "text/plain": [
              "(154,)"
            ]
          },
          "metadata": {
            "tags": []
          },
          "execution_count": 294
        }
      ]
    },
    {
      "cell_type": "code",
      "metadata": {
        "id": "T30FJ5ONMRsa",
        "colab_type": "code",
        "colab": {}
      },
      "source": [
        "# Adds the accumulative deaths every day of a country\n",
        "# Problem – This needs to be sorted from the end since the way out data is set up - can this be made more efficient?\n",
        "total_us_deaths = dataset['total_deaths']\n",
        "list_arr = np.array(total_us_deaths)\n",
        "reversed_arr = list_arr[::-1]\n",
        "newDay = 0\n",
        "day = []\n",
        "for currentday in reversed_arr:\n",
        "   newDay = currentday + newDay\n",
        "   day.append(newDay)\n"
      ],
      "execution_count": 295,
      "outputs": []
    },
    {
      "cell_type": "code",
      "metadata": {
        "id": "oivvoebSMpRV",
        "colab_type": "code",
        "colab": {
          "base_uri": "https://localhost:8080/",
          "height": 397
        },
        "outputId": "0ff97fd8-6620-4824-e103-7dd8a8f06cc6"
      },
      "source": [
        "# Plots the accumulative daily death rates of a country\n",
        "dates = np.array(dateFormatting['new_date'])\n",
        "us_deaths = np.array(day)\n",
        "plt.plot_date(dates,us_deaths, linestyle ='solid')\n",
        "plt.gcf().autofmt_xdate()\n",
        "date_format = mpl_dates.DateFormatter('%b,%d,%Y')\n",
        "plt.title('Time Series of Total Deaths of US')\n",
        "plt.xlabel('Date')\n",
        "plt.ylabel('Total Deaths')\n",
        "plt.gca().xaxis.set_major_formatter(date_format)\n",
        "\n"
      ],
      "execution_count": 296,
      "outputs": [
        {
          "output_type": "display_data",
          "data": {
            "image/png": "[encoded data removed]",
            "text/plain": [
              "<Figure size 1080x432 with 1 Axes>"
            ]
          },
          "metadata": {
            "tags": []
          }
        }
      ]
    },
    {
      "cell_type": "code",
      "metadata": {
        "id": "1dCKLM-XSXt_",
        "colab_type": "code",
        "colab": {
          "base_uri": "https://localhost:8080/",
          "height": 33
        },
        "outputId": "1843e1be-1fad-47a3-a369-aeaf48ed0fc6"
      },
      "source": [
        "test.shape"
      ],
      "execution_count": 297,
      "outputs": [
        {
          "output_type": "execute_result",
          "data": {
            "text/plain": [
              "(154,)"
            ]
          },
          "metadata": {
            "tags": []
          },
          "execution_count": 297
        }
      ]
    },
    {
      "cell_type": "code",
      "metadata": {
        "id": "aLvrpnjESZmR",
        "colab_type": "code",
        "colab": {
          "base_uri": "https://localhost:8080/",
          "height": 33
        },
        "outputId": "51089a9a-79cc-436a-f578-6f67a3a74a5f"
      },
      "source": [
        "price.shape"
      ],
      "execution_count": 298,
      "outputs": [
        {
          "output_type": "execute_result",
          "data": {
            "text/plain": [
              "(154,)"
            ]
          },
          "metadata": {
            "tags": []
          },
          "execution_count": 298
        }
      ]
    },
    {
      "cell_type": "markdown",
      "metadata": {
        "id": "SWTJypnsv5R3",
        "colab_type": "text"
      },
      "source": [
        ""
      ]
    },
    {
      "cell_type": "code",
      "metadata": {
        "id": "v6NykB3TSJxe",
        "colab_type": "code",
        "colab": {
          "base_uri": "https://localhost:8080/",
          "height": 391
        },
        "outputId": "df29703e-8e1a-4a93-c6b4-6e12d2079ef1"
      },
      "source": [
        "# Problem: Why is it showing up NAN in index 149,150,151?\n",
        "price_frame = pd.DataFrame(np.concatenate([price]), columns= [\"Price\"])\n",
        "death_frame = pd.DataFrame(np.concatenate([day]), columns= [\"Total_Deaths_US\"])\n",
        "\n",
        "price_frame.append(death_frame)"
      ],
      "execution_count": 299,
      "outputs": [
        {
          "output_type": "execute_result",
          "data": {
            "text/html": [
              "<div>\n",
              "<style scoped>\n",
              "    .dataframe tbody tr th:only-of-type {\n",
              "        vertical-align: middle;\n",
              "    }\n",
              "\n",
              "    .dataframe tbody tr th {\n",
              "        vertical-align: top;\n",
              "    }\n",
              "\n",
              "    .dataframe thead th {\n",
              "        text-align: right;\n",
              "    }\n",
              "</style>\n",
              "<table border=\"1\" class=\"dataframe\">\n",
              "  <thead>\n",
              "    <tr style=\"text-align: right;\">\n",
              "      <th></th>\n",
              "      <th>Price</th>\n",
              "      <th>Total_Deaths_US</th>\n",
              "    </tr>\n",
              "  </thead>\n",
              "  <tbody>\n",
              "    <tr>\n",
              "      <th>0</th>\n",
              "      <td>1.3090</td>\n",
              "      <td>NaN</td>\n",
              "    </tr>\n",
              "    <tr>\n",
              "      <th>1</th>\n",
              "      <td>1.3095</td>\n",
              "      <td>NaN</td>\n",
              "    </tr>\n",
              "    <tr>\n",
              "      <th>2</th>\n",
              "      <td>1.2996</td>\n",
              "      <td>NaN</td>\n",
              "    </tr>\n",
              "    <tr>\n",
              "      <th>3</th>\n",
              "      <td>1.2932</td>\n",
              "      <td>NaN</td>\n",
              "    </tr>\n",
              "    <tr>\n",
              "      <th>4</th>\n",
              "      <td>1.2882</td>\n",
              "      <td>NaN</td>\n",
              "    </tr>\n",
              "    <tr>\n",
              "      <th>...</th>\n",
              "      <td>...</td>\n",
              "      <td>...</td>\n",
              "    </tr>\n",
              "    <tr>\n",
              "      <th>149</th>\n",
              "      <td>NaN</td>\n",
              "      <td>7590585.0</td>\n",
              "    </tr>\n",
              "    <tr>\n",
              "      <th>150</th>\n",
              "      <td>NaN</td>\n",
              "      <td>7738596.0</td>\n",
              "    </tr>\n",
              "    <tr>\n",
              "      <th>151</th>\n",
              "      <td>NaN</td>\n",
              "      <td>7887852.0</td>\n",
              "    </tr>\n",
              "    <tr>\n",
              "      <th>152</th>\n",
              "      <td>NaN</td>\n",
              "      <td>8038565.0</td>\n",
              "    </tr>\n",
              "    <tr>\n",
              "      <th>153</th>\n",
              "      <td>NaN</td>\n",
              "      <td>8190635.0</td>\n",
              "    </tr>\n",
              "  </tbody>\n",
              "</table>\n",
              "<p>308 rows × 2 columns</p>\n",
              "</div>"
            ],
            "text/plain": [
              "      Price  Total_Deaths_US\n",
              "0    1.3090              NaN\n",
              "1    1.3095              NaN\n",
              "2    1.2996              NaN\n",
              "3    1.2932              NaN\n",
              "4    1.2882              NaN\n",
              "..      ...              ...\n",
              "149     NaN        7590585.0\n",
              "150     NaN        7738596.0\n",
              "151     NaN        7887852.0\n",
              "152     NaN        8038565.0\n",
              "153     NaN        8190635.0\n",
              "\n",
              "[308 rows x 2 columns]"
            ]
          },
          "metadata": {
            "tags": []
          },
          "execution_count": 299
        }
      ]
    },
    {
      "cell_type": "markdown",
      "metadata": {
        "id": "kkWFQ8HeIerS",
        "colab_type": "text"
      },
      "source": [
        "# Normalisation of Features"
      ]
    },
    {
      "cell_type": "code",
      "metadata": {
        "id": "GUr5EmIHITzq",
        "colab_type": "code",
        "colab": {}
      },
      "source": [
        "# Working Normalised method!!\n",
        "from sklearn.preprocessing import MinMaxScaler\n",
        "scaler = MinMaxScaler(feature_range=(0,1))\n",
        "normalisation_us_deaths = scaler.fit_transform(death_frame).reshape(-1,1)\n",
        "normalisation_price = scaler.fit_transform(price_frame).reshape(-1,1)\n",
        "# 8 decimal: readable formate:\n",
        "# val = [print(\"{:.8f}\".format(float(x)))for x in normalisation_us_deaths]"
      ],
      "execution_count": 300,
      "outputs": []
    },
    {
      "cell_type": "code",
      "metadata": {
        "id": "jG6Frxvpw_YL",
        "colab_type": "code",
        "colab": {
          "base_uri": "https://localhost:8080/",
          "height": 402
        },
        "outputId": "f9458423-a326-4de5-ce3f-e1636bcbb7c4"
      },
      "source": [
        "import matplotlib.pyplot as plt\n",
        "plt.title('Time Series of Total Deaths of US & USD/GBP')\n",
        "plt.plot(normalisation_us_deaths,label=\"US Covid Death Rates\")\n",
        "plt.plot(normalisation_price, label=\"Price of Dollar\")\n",
        "plt.ylabel('Normalisation between 0 and 1')\n",
        "plt.xlabel('Date')\n",
        "plt.legend() \n",
        "plt.show()"
      ],
      "execution_count": 301,
      "outputs": [
        {
          "output_type": "display_data",
          "data": {
            "image/png": "[encoded data removed]",
            "text/plain": [
              "<Figure size 1080x432 with 1 Axes>"
            ]
          },
          "metadata": {
            "tags": []
          }
        }
      ]
    },
    {
      "cell_type": "markdown",
      "metadata": {
        "id": "FrNnj6gGIkmf",
        "colab_type": "text"
      },
      "source": [
        "# Preprocessing the Data - Train, Validation & Test\n"
      ]
    },
    {
      "cell_type": "code",
      "metadata": {
        "id": "yJTAF3KWyKwR",
        "colab_type": "code",
        "colab": {}
      },
      "source": [
        "# Death Rates | Price of dollar\n",
        "new_dataset = np.hstack((normalisation_us_deaths,normalisation_price))"
      ],
      "execution_count": 302,
      "outputs": []
    },
    {
      "cell_type": "code",
      "metadata": {
        "id": "Sx35yrWb1MIz",
        "colab_type": "code",
        "colab": {
          "base_uri": "https://localhost:8080/",
          "height": 66
        },
        "outputId": "159da47d-ff06-45c9-d8f3-ee305065d723"
      },
      "source": [
        "# Test, Validation, Train \n",
        "# This should be ordered in respect to date – not cross validation or random seed\n",
        "# We are going to divide our data based on date because the next data is always dependent on the previous data\n",
        "# 65% of the total length of my datadrame\n",
        "# 35% test size/ validation\n",
        "training_size = int(len(new_dataset)*0.65)\n",
        "test_size = (len(new_dataset)-training_size)//2 # // Rounds down\n",
        "train_data, valset_data, test_data = new_dataset[0:training_size], new_dataset[training_size:(training_size + test_size)],new_dataset[(training_size + test_size):]\n",
        "print(train_data.shape)\n",
        "print(valset_data.shape)\n",
        "print(test_data.shape)"
      ],
      "execution_count": 303,
      "outputs": [
        {
          "output_type": "stream",
          "text": [
            "(100, 2)\n",
            "(27, 2)\n",
            "(27, 2)\n"
          ],
          "name": "stdout"
        }
      ]
    },
    {
      "cell_type": "code",
      "metadata": {
        "id": "P1CkWzUfVwxO",
        "colab_type": "code",
        "colab": {
          "base_uri": "https://localhost:8080/",
          "height": 82
        },
        "outputId": "44048421-7418-4724-94d3-75bafd27a599"
      },
      "source": [
        "print(valset_data[:4])"
      ],
      "execution_count": 304,
      "outputs": [
        {
          "output_type": "stream",
          "text": [
            "[[0.20692559 0.44532131]\n",
            " [0.21814829 0.61217587]\n",
            " [0.22955632 0.75253664]\n",
            " [0.24111855 0.80101466]]\n"
          ],
          "name": "stdout"
        }
      ]
    },
    {
      "cell_type": "code",
      "metadata": {
        "id": "ldKERrxeA1sD",
        "colab_type": "code",
        "colab": {
          "base_uri": "https://localhost:8080/",
          "height": 33
        },
        "outputId": "82d7cd19-13cd-402e-8153-ea9c76e1fb56"
      },
      "source": [
        "training_size, test_size"
      ],
      "execution_count": 305,
      "outputs": [
        {
          "output_type": "execute_result",
          "data": {
            "text/plain": [
              "(100, 27)"
            ]
          },
          "metadata": {
            "tags": []
          },
          "execution_count": 305
        }
      ]
    },
    {
      "cell_type": "code",
      "metadata": {
        "id": "llongsG7BHW7",
        "colab_type": "code",
        "colab": {
          "base_uri": "https://localhost:8080/",
          "height": 33
        },
        "outputId": "be0b26a3-2739-47c1-f6a8-3472211796fe"
      },
      "source": [
        "len(train_data), len(test_data)"
      ],
      "execution_count": 306,
      "outputs": [
        {
          "output_type": "execute_result",
          "data": {
            "text/plain": [
              "(100, 27)"
            ]
          },
          "metadata": {
            "tags": []
          },
          "execution_count": 306
        }
      ]
    },
    {
      "cell_type": "code",
      "metadata": {
        "id": "nc0pElKOBO-4",
        "colab_type": "code",
        "colab": {}
      },
      "source": [
        "# train_data"
      ],
      "execution_count": 307,
      "outputs": []
    },
    {
      "cell_type": "code",
      "metadata": {
        "id": "7lcOjmoBARZm",
        "colab_type": "code",
        "colab": {}
      },
      "source": [
        "# Go over what this method does\n",
        "# Convert an array of values into a dataset matrix\n",
        "# time_step = how many previous days you have to consider before making a prediction. = 1 passing by ref\n",
        "def create_dataset(dataset, time_step=1):\n",
        "  dataX, dataY = [],[]\n",
        "  # len(dataset) = 154 - 7 = 147 -1 (guarentees 8th datapoint)\n",
        "  # for i(starting point of dataset), i in range 146\n",
        "  for i in range(len(dataset)-time_step-1):\n",
        "    a = dataset[i:(i+time_step)]  # i=0 : i + 7\n",
        "    dataX.append(a)\n",
        "    y = dataset[i + time_step][1] \n",
        "    dataY.append(y)\n",
        "  return np.array(dataX), np.array(dataY)\n"
      ],
      "execution_count": 308,
      "outputs": []
    },
    {
      "cell_type": "code",
      "metadata": {
        "id": "Xjbnyit_VZur",
        "colab_type": "code",
        "colab": {}
      },
      "source": [
        "# Weekly_timestep means taking in 7 days of features at a time \n",
        "weekly_timestep = 7\n",
        "X_train, Y_train = create_dataset(train_data, weekly_timestep)\n",
        "X_val, Y_val = create_dataset(valset_data, weekly_timestep)\n",
        "X_test, Y_test = create_dataset(test_data, weekly_timestep)\n",
        "\n"
      ],
      "execution_count": 309,
      "outputs": []
    },
    {
      "cell_type": "code",
      "metadata": {
        "id": "Bii3I74VfqRM",
        "colab_type": "code",
        "colab": {
          "base_uri": "https://localhost:8080/",
          "height": 66
        },
        "outputId": "2bb8c759-cab4-4253-a92c-7ca47c160bd9"
      },
      "source": [
        "print(X_test.shape), print(Y_test.shape)\n",
        "# Finished preprocessing the data"
      ],
      "execution_count": 310,
      "outputs": [
        {
          "output_type": "stream",
          "text": [
            "(19, 7, 2)\n",
            "(19,)\n"
          ],
          "name": "stdout"
        },
        {
          "output_type": "execute_result",
          "data": {
            "text/plain": [
              "(None, None)"
            ]
          },
          "metadata": {
            "tags": []
          },
          "execution_count": 310
        }
      ]
    },
    {
      "cell_type": "markdown",
      "metadata": {
        "id": "rQxS8R3VI2bP",
        "colab_type": "text"
      },
      "source": [
        "# Stacked LSTM Model"
      ]
    },
    {
      "cell_type": "code",
      "metadata": {
        "id": "fuLjcvVwM7Sc",
        "colab_type": "code",
        "colab": {}
      },
      "source": [
        "# Create the stacked LSTM model\n",
        "# One LSTM after the other\n",
        "from tensorflow.keras.models import Sequential\n",
        "from tensorflow.keras.layers import InputLayer\n",
        "from tensorflow.keras.layers import LSTM\n",
        "from tensorflow.keras.layers import Dense\n",
        "def lstm_model(lr_rate, hidden_layer, optimizer_one):\n",
        "  # we want input_tensor to be a single data point\n",
        "  model = Sequential()\n",
        "  opt = None\n",
        "  if optimizer_one == 'adam':\n",
        "   opt = keras.optimizers.Adam(learning_rate=lr_rate)\n",
        "  elif optimizer_one == 'sgd':\n",
        "   opt = keras.optimizers.SGD(learning_rate=lr_rate)\n",
        "  else:\n",
        "   opt = keras.optimizers.Adamax(learning_rate=lr_rate)\n",
        "  model.add(InputLayer(input_shape=(7,2)))\n",
        "  model.add(LSTM(hidden_layer,return_sequences=True))\n",
        "  model.add(LSTM(hidden_layer, return_sequences=True))\n",
        "  model.add(LSTM(hidden_layer))\n",
        "  model.add(Dense(1))\n",
        "  model.compile(loss = 'mean_squared_error', optimizer=opt)\n",
        "  return model\n",
        "\n",
        "  "
      ],
      "execution_count": 311,
      "outputs": []
    },
    {
      "cell_type": "markdown",
      "metadata": {
        "id": "tkkElpH-cy_h",
        "colab_type": "text"
      },
      "source": [
        "## Hyperparameter Tuning\n",
        "\n",
        "\n",
        "*   Optimizers:\n",
        "[Overview of different Optimizers for neural networks](https://medium.com/datadriveninvestor/overview-of-different-optimizers-for-neural-networks-e0ed119440c3#:~:text=Adagrad%20eliminates%20the%20need%20to,is%20no%20longer%20able%20learning.)\n",
        "*   [Conceptual Guide for HP Tuning](https://medium.com/@jackstalfort/hyperparameter-tuning-using-grid-search-and-random-search-f8750a464b35)\n",
        "*   [Consider this for Grid Search & Random Search](https://scikit-learn.org/stable/auto_examples/model_selection/plot_randomized_search.html)\n",
        "*   [And this](https://stackoverflow.com/questions/58137140/randomizedsearchcv-with-keras-lstm-regression)\n",
        "![Grid Search & Random Search](https://miro.medium.com/max/1200/1*ZTlQm_WRcrNqL-nLnx6GJA.png)\n",
        "\n"
      ]
    },
    {
      "cell_type": "markdown",
      "metadata": {
        "id": "VDbgWWCHLcdm",
        "colab_type": "text"
      },
      "source": [
        "## Grid Search\n",
        "\n",
        "*   We must choose candidates for good hidden layers and optimizers. Then plot a comparison.\n",
        "*   List of optimizers: \n",
        "*   optimizers = ['SGD', 'RMSprop','adam','adagrad', 'adadelta', 'adamax','nadam', 'ftrl']\n",
        "*   Callbacks: Restores best weights that is going to give u best model \n",
        "*   Consider changing batch size: slower the batch_size better training, because small dataset\n",
        "\n",
        "\n"
      ]
    },
    {
      "cell_type": "code",
      "metadata": {
        "id": "eA11PFS2lemX",
        "colab_type": "code",
        "colab": {
          "base_uri": "https://localhost:8080/",
          "height": 1000
        },
        "outputId": "8d87d4fb-f62e-48b4-876d-088b9aba1569"
      },
      "source": [
        "hidden_layer_list = [15, 30]\n",
        "best_hidden_layer = 1\n",
        "optimizer_list = ['adam', 'adamax']\n",
        "best_optimizer = 'adam'\n",
        "learning_rate_list = [3e-3, 3e-4]\n",
        "best_learning_rate = 3e-3\n",
        "least_loss = 1\n",
        "\n",
        "for each_hidden_layer in hidden_layer_list:\n",
        "  for each_optimizer in optimizer_list:\n",
        "    for each_learning_rate in learning_rate_list:\n",
        "      our_model = lstm_model(each_learning_rate, each_hidden_layer, each_optimizer)\n",
        "      our_model.fit(X_train, Y_train, \n",
        "                validation_data= \n",
        "                (X_val, Y_val)\n",
        "                , epochs=100,batch_size=10,verbose=1,\n",
        "                callbacks=[tf.keras.callbacks.EarlyStopping(patience=3, restore_best_weights=True)])\n",
        "      loss = our_model.evaluate(X_test, Y_test)\n",
        "      if loss < least_loss:\n",
        "          least_loss = loss\n",
        "          best_learning_rate = each_learning_rate\n",
        "          best_optimizer = each_optimizer\n",
        "          best_hidden_layer = each_hidden_layer\n",
        "  print(least_loss, best_learning_rate, best_optimizer, best_hidden_layer)"
      ],
      "execution_count": 312,
      "outputs": [
        {
          "output_type": "stream",
          "text": [
            "Epoch 1/100\n",
            "10/10 [==============================] - 1s 90ms/step - loss: 0.1638 - val_loss: 0.0387\n",
            "Epoch 2/100\n",
            "10/10 [==============================] - 0s 8ms/step - loss: 0.0320 - val_loss: 0.0538\n",
            "Epoch 3/100\n",
            "10/10 [==============================] - 0s 9ms/step - loss: 0.0223 - val_loss: 0.0768\n",
            "Epoch 4/100\n",
            "10/10 [==============================] - 0s 8ms/step - loss: 0.0185 - val_loss: 0.0347\n",
            "Epoch 5/100\n",
            "10/10 [==============================] - 0s 9ms/step - loss: 0.0154 - val_loss: 0.0702\n",
            "Epoch 6/100\n",
            "10/10 [==============================] - 0s 8ms/step - loss: 0.0157 - val_loss: 0.0583\n",
            "Epoch 7/100\n",
            "10/10 [==============================] - 0s 8ms/step - loss: 0.0148 - val_loss: 0.0771\n",
            "1/1 [==============================] - 0s 1ms/step - loss: 0.0619\n",
            "Epoch 1/100\n",
            "10/10 [==============================] - 1s 92ms/step - loss: 0.2480 - val_loss: 0.6006\n",
            "Epoch 2/100\n",
            "10/10 [==============================] - 0s 8ms/step - loss: 0.2202 - val_loss: 0.5515\n",
            "Epoch 3/100\n",
            "10/10 [==============================] - 0s 8ms/step - loss: 0.1913 - val_loss: 0.4991\n",
            "Epoch 4/100\n",
            "10/10 [==============================] - 0s 8ms/step - loss: 0.1618 - val_loss: 0.4406\n",
            "Epoch 5/100\n",
            "10/10 [==============================] - 0s 9ms/step - loss: 0.1291 - val_loss: 0.3742\n",
            "Epoch 6/100\n",
            "10/10 [==============================] - 0s 8ms/step - loss: 0.0951 - val_loss: 0.2997\n",
            "Epoch 7/100\n",
            "10/10 [==============================] - 0s 9ms/step - loss: 0.0623 - val_loss: 0.2239\n",
            "Epoch 8/100\n",
            "10/10 [==============================] - 0s 8ms/step - loss: 0.0343 - val_loss: 0.1500\n",
            "Epoch 9/100\n",
            "10/10 [==============================] - 0s 9ms/step - loss: 0.0181 - val_loss: 0.0954\n",
            "Epoch 10/100\n",
            "10/10 [==============================] - 0s 9ms/step - loss: 0.0127 - val_loss: 0.0789\n",
            "Epoch 11/100\n",
            "10/10 [==============================] - 0s 9ms/step - loss: 0.0131 - val_loss: 0.0757\n",
            "Epoch 12/100\n",
            "10/10 [==============================] - 0s 8ms/step - loss: 0.0128 - val_loss: 0.0864\n",
            "Epoch 13/100\n",
            "10/10 [==============================] - 0s 8ms/step - loss: 0.0126 - val_loss: 0.0956\n",
            "Epoch 14/100\n",
            "10/10 [==============================] - 0s 9ms/step - loss: 0.0125 - val_loss: 0.1010\n",
            "1/1 [==============================] - 0s 1ms/step - loss: 0.2038\n",
            "Epoch 1/100\n",
            "10/10 [==============================] - 1s 95ms/step - loss: 0.1413 - val_loss: 0.0403\n",
            "Epoch 2/100\n",
            "10/10 [==============================] - 0s 8ms/step - loss: 0.0292 - val_loss: 0.0102\n",
            "Epoch 3/100\n",
            "10/10 [==============================] - 0s 8ms/step - loss: 0.0181 - val_loss: 0.0588\n",
            "Epoch 4/100\n",
            "10/10 [==============================] - 0s 10ms/step - loss: 0.0179 - val_loss: 0.0368\n",
            "Epoch 5/100\n",
            "10/10 [==============================] - 0s 9ms/step - loss: 0.0158 - val_loss: 0.0280\n",
            "1/1 [==============================] - 0s 2ms/step - loss: 0.0129\n",
            "Epoch 1/100\n",
            "10/10 [==============================] - 1s 92ms/step - loss: 0.2608 - val_loss: 0.5995\n",
            "Epoch 2/100\n",
            "10/10 [==============================] - 0s 9ms/step - loss: 0.2355 - val_loss: 0.5531\n",
            "Epoch 3/100\n",
            "10/10 [==============================] - 0s 8ms/step - loss: 0.2121 - val_loss: 0.5085\n",
            "Epoch 4/100\n",
            "10/10 [==============================] - 0s 8ms/step - loss: 0.1901 - val_loss: 0.4637\n",
            "Epoch 5/100\n",
            "10/10 [==============================] - 0s 8ms/step - loss: 0.1673 - val_loss: 0.4184\n",
            "Epoch 6/100\n",
            "10/10 [==============================] - 0s 8ms/step - loss: 0.1452 - val_loss: 0.3739\n",
            "Epoch 7/100\n",
            "10/10 [==============================] - 0s 11ms/step - loss: 0.1235 - val_loss: 0.3287\n",
            "Epoch 8/100\n",
            "10/10 [==============================] - 0s 8ms/step - loss: 0.1023 - val_loss: 0.2839\n",
            "Epoch 9/100\n",
            "10/10 [==============================] - 0s 8ms/step - loss: 0.0824 - val_loss: 0.2373\n",
            "Epoch 10/100\n",
            "10/10 [==============================] - 0s 8ms/step - loss: 0.0629 - val_loss: 0.1947\n",
            "Epoch 11/100\n",
            "10/10 [==============================] - 0s 8ms/step - loss: 0.0469 - val_loss: 0.1514\n",
            "Epoch 12/100\n",
            "10/10 [==============================] - 0s 8ms/step - loss: 0.0328 - val_loss: 0.1141\n",
            "Epoch 13/100\n",
            "10/10 [==============================] - 0s 8ms/step - loss: 0.0233 - val_loss: 0.0848\n",
            "Epoch 14/100\n",
            "10/10 [==============================] - 0s 8ms/step - loss: 0.0188 - val_loss: 0.0675\n",
            "Epoch 15/100\n",
            "10/10 [==============================] - 0s 8ms/step - loss: 0.0163 - val_loss: 0.0578\n",
            "Epoch 16/100\n",
            "10/10 [==============================] - 0s 8ms/step - loss: 0.0158 - val_loss: 0.0503\n",
            "Epoch 17/100\n",
            "10/10 [==============================] - 0s 9ms/step - loss: 0.0156 - val_loss: 0.0465\n",
            "Epoch 18/100\n",
            "10/10 [==============================] - 0s 10ms/step - loss: 0.0156 - val_loss: 0.0458\n",
            "Epoch 19/100\n",
            "10/10 [==============================] - 0s 8ms/step - loss: 0.0156 - val_loss: 0.0478\n",
            "Epoch 20/100\n",
            "10/10 [==============================] - 0s 9ms/step - loss: 0.0155 - val_loss: 0.0492\n",
            "Epoch 21/100\n",
            "10/10 [==============================] - 0s 8ms/step - loss: 0.0155 - val_loss: 0.0520\n",
            "1/1 [==============================] - 0s 1ms/step - loss: 0.0776\n",
            "0.012949294410645962 0.003 adamax 15\n",
            "Epoch 1/100\n",
            "10/10 [==============================] - 1s 94ms/step - loss: 0.1332 - val_loss: 0.0025\n",
            "Epoch 2/100\n",
            "10/10 [==============================] - 0s 8ms/step - loss: 0.0191 - val_loss: 0.0884\n",
            "Epoch 3/100\n",
            "10/10 [==============================] - 0s 9ms/step - loss: 0.0155 - val_loss: 0.0462\n",
            "Epoch 4/100\n",
            "10/10 [==============================] - 0s 8ms/step - loss: 0.0135 - val_loss: 0.0887\n",
            "1/1 [==============================] - 0s 1ms/step - loss: 0.0042\n",
            "Epoch 1/100\n",
            "10/10 [==============================] - 1s 91ms/step - loss: 0.2461 - val_loss: 0.5502\n",
            "Epoch 2/100\n",
            "10/10 [==============================] - 0s 9ms/step - loss: 0.1982 - val_loss: 0.4517\n",
            "Epoch 3/100\n",
            "10/10 [==============================] - 0s 8ms/step - loss: 0.1448 - val_loss: 0.3293\n",
            "Epoch 4/100\n",
            "10/10 [==============================] - 0s 8ms/step - loss: 0.0875 - val_loss: 0.1829\n",
            "Epoch 5/100\n",
            "10/10 [==============================] - 0s 8ms/step - loss: 0.0336 - val_loss: 0.0531\n",
            "Epoch 6/100\n",
            "10/10 [==============================] - 0s 9ms/step - loss: 0.0160 - val_loss: 0.0121\n",
            "Epoch 7/100\n",
            "10/10 [==============================] - 0s 8ms/step - loss: 0.0154 - val_loss: 0.0344\n",
            "Epoch 8/100\n",
            "10/10 [==============================] - 0s 7ms/step - loss: 0.0134 - val_loss: 0.0493\n",
            "Epoch 9/100\n",
            "10/10 [==============================] - 0s 8ms/step - loss: 0.0136 - val_loss: 0.0470\n",
            "1/1 [==============================] - 0s 1ms/step - loss: 0.0308\n",
            "Epoch 1/100\n",
            "10/10 [==============================] - 2s 162ms/step - loss: 0.1220 - val_loss: 0.0071\n",
            "Epoch 2/100\n",
            "10/10 [==============================] - 0s 9ms/step - loss: 0.0189 - val_loss: 0.1224\n",
            "Epoch 3/100\n",
            "10/10 [==============================] - 0s 8ms/step - loss: 0.0161 - val_loss: 0.0639\n",
            "Epoch 4/100\n",
            "10/10 [==============================] - 0s 8ms/step - loss: 0.0145 - val_loss: 0.0785\n",
            "1/1 [==============================] - 0s 2ms/step - loss: 0.0414\n",
            "Epoch 1/100\n",
            "10/10 [==============================] - 1s 94ms/step - loss: 0.2256 - val_loss: 0.5039\n",
            "Epoch 2/100\n",
            "10/10 [==============================] - 0s 9ms/step - loss: 0.1736 - val_loss: 0.4019\n",
            "Epoch 3/100\n",
            "10/10 [==============================] - 0s 8ms/step - loss: 0.1235 - val_loss: 0.2969\n",
            "Epoch 4/100\n",
            "10/10 [==============================] - 0s 8ms/step - loss: 0.0786 - val_loss: 0.1924\n",
            "Epoch 5/100\n",
            "10/10 [==============================] - 0s 8ms/step - loss: 0.0400 - val_loss: 0.1023\n",
            "Epoch 6/100\n",
            "10/10 [==============================] - 0s 9ms/step - loss: 0.0186 - val_loss: 0.0476\n",
            "Epoch 7/100\n",
            "10/10 [==============================] - 0s 9ms/step - loss: 0.0138 - val_loss: 0.0332\n",
            "Epoch 8/100\n",
            "10/10 [==============================] - 0s 9ms/step - loss: 0.0138 - val_loss: 0.0316\n",
            "Epoch 9/100\n",
            "10/10 [==============================] - 0s 8ms/step - loss: 0.0137 - val_loss: 0.0361\n",
            "Epoch 10/100\n",
            "10/10 [==============================] - 0s 7ms/step - loss: 0.0136 - val_loss: 0.0454\n",
            "Epoch 11/100\n",
            "10/10 [==============================] - 0s 8ms/step - loss: 0.0134 - val_loss: 0.0452\n",
            "1/1 [==============================] - 0s 1ms/step - loss: 0.0661\n",
            "0.004187628626823425 0.003 adam 30\n"
          ],
          "name": "stdout"
        }
      ]
    },
    {
      "cell_type": "markdown",
      "metadata": {
        "id": "ne1FGIRhCBx3",
        "colab_type": "text"
      },
      "source": [
        "# Best Model Prediction"
      ]
    },
    {
      "cell_type": "code",
      "metadata": {
        "id": "yBxAVM4I3NJ2",
        "colab_type": "code",
        "colab": {
          "base_uri": "https://localhost:8080/",
          "height": 1000
        },
        "outputId": "f0162aab-612e-4eea-f60b-1f926ca3bf19"
      },
      "source": [
        "best_param_model = lstm_model(best_learning_rate, best_hidden_layer, best_optimizer)\n",
        "best_param_model.fit(X_train, Y_train, epochs=160,batch_size=10,verbose=1)\n",
        "loss = best_param_model.evaluate(X_test, Y_test) # all results from dictionary\n"
      ],
      "execution_count": 313,
      "outputs": [
        {
          "output_type": "stream",
          "text": [
            "Epoch 1/160\n",
            "10/10 [==============================] - 0s 6ms/step - loss: 0.1076\n",
            "Epoch 2/160\n",
            "10/10 [==============================] - 0s 5ms/step - loss: 0.0242\n",
            "Epoch 3/160\n",
            "10/10 [==============================] - 0s 6ms/step - loss: 0.0157\n",
            "Epoch 4/160\n",
            "10/10 [==============================] - 0s 6ms/step - loss: 0.0130\n",
            "Epoch 5/160\n",
            "10/10 [==============================] - 0s 5ms/step - loss: 0.0132\n",
            "Epoch 6/160\n",
            "10/10 [==============================] - 0s 6ms/step - loss: 0.0119\n",
            "Epoch 7/160\n",
            "10/10 [==============================] - 0s 6ms/step - loss: 0.0130\n",
            "Epoch 8/160\n",
            "10/10 [==============================] - 0s 8ms/step - loss: 0.0115\n",
            "Epoch 9/160\n",
            "10/10 [==============================] - 0s 5ms/step - loss: 0.0121\n",
            "Epoch 10/160\n",
            "10/10 [==============================] - 0s 5ms/step - loss: 0.0144\n",
            "Epoch 11/160\n",
            "10/10 [==============================] - 0s 6ms/step - loss: 0.0098\n",
            "Epoch 12/160\n",
            "10/10 [==============================] - 0s 7ms/step - loss: 0.0099\n",
            "Epoch 13/160\n",
            "10/10 [==============================] - 0s 5ms/step - loss: 0.0097\n",
            "Epoch 14/160\n",
            "10/10 [==============================] - 0s 5ms/step - loss: 0.0076\n",
            "Epoch 15/160\n",
            "10/10 [==============================] - 0s 6ms/step - loss: 0.0082\n",
            "Epoch 16/160\n",
            "10/10 [==============================] - 0s 6ms/step - loss: 0.0079\n",
            "Epoch 17/160\n",
            "10/10 [==============================] - 0s 6ms/step - loss: 0.0078\n",
            "Epoch 18/160\n",
            "10/10 [==============================] - 0s 6ms/step - loss: 0.0077\n",
            "Epoch 19/160\n",
            "10/10 [==============================] - 0s 6ms/step - loss: 0.0088\n",
            "Epoch 20/160\n",
            "10/10 [==============================] - 0s 6ms/step - loss: 0.0088\n",
            "Epoch 21/160\n",
            "10/10 [==============================] - 0s 6ms/step - loss: 0.0086\n",
            "Epoch 22/160\n",
            "10/10 [==============================] - 0s 6ms/step - loss: 0.0095\n",
            "Epoch 23/160\n",
            "10/10 [==============================] - 0s 6ms/step - loss: 0.0093\n",
            "Epoch 24/160\n",
            "10/10 [==============================] - 0s 7ms/step - loss: 0.0079\n",
            "Epoch 25/160\n",
            "10/10 [==============================] - 0s 6ms/step - loss: 0.0077\n",
            "Epoch 26/160\n",
            "10/10 [==============================] - 0s 6ms/step - loss: 0.0074\n",
            "Epoch 27/160\n",
            "10/10 [==============================] - 0s 6ms/step - loss: 0.0077\n",
            "Epoch 28/160\n",
            "10/10 [==============================] - 0s 5ms/step - loss: 0.0100\n",
            "Epoch 29/160\n",
            "10/10 [==============================] - 0s 5ms/step - loss: 0.0089\n",
            "Epoch 30/160\n",
            "10/10 [==============================] - 0s 6ms/step - loss: 0.0082\n",
            "Epoch 31/160\n",
            "10/10 [==============================] - 0s 6ms/step - loss: 0.0068\n",
            "Epoch 32/160\n",
            "10/10 [==============================] - 0s 6ms/step - loss: 0.0072\n",
            "Epoch 33/160\n",
            "10/10 [==============================] - 0s 7ms/step - loss: 0.0081\n",
            "Epoch 34/160\n",
            "10/10 [==============================] - 0s 6ms/step - loss: 0.0068\n",
            "Epoch 35/160\n",
            "10/10 [==============================] - 0s 6ms/step - loss: 0.0079\n",
            "Epoch 36/160\n",
            "10/10 [==============================] - 0s 5ms/step - loss: 0.0071\n",
            "Epoch 37/160\n",
            "10/10 [==============================] - 0s 7ms/step - loss: 0.0071\n",
            "Epoch 38/160\n",
            "10/10 [==============================] - 0s 5ms/step - loss: 0.0072\n",
            "Epoch 39/160\n",
            "10/10 [==============================] - 0s 6ms/step - loss: 0.0075\n",
            "Epoch 40/160\n",
            "10/10 [==============================] - 0s 6ms/step - loss: 0.0071\n",
            "Epoch 41/160\n",
            "10/10 [==============================] - 0s 7ms/step - loss: 0.0073\n",
            "Epoch 42/160\n",
            "10/10 [==============================] - 0s 5ms/step - loss: 0.0068\n",
            "Epoch 43/160\n",
            "10/10 [==============================] - 0s 6ms/step - loss: 0.0075\n",
            "Epoch 44/160\n",
            "10/10 [==============================] - 0s 7ms/step - loss: 0.0071\n",
            "Epoch 45/160\n",
            "10/10 [==============================] - 0s 6ms/step - loss: 0.0068\n",
            "Epoch 46/160\n",
            "10/10 [==============================] - 0s 7ms/step - loss: 0.0065\n",
            "Epoch 47/160\n",
            "10/10 [==============================] - 0s 6ms/step - loss: 0.0082\n",
            "Epoch 48/160\n",
            "10/10 [==============================] - 0s 7ms/step - loss: 0.0072\n",
            "Epoch 49/160\n",
            "10/10 [==============================] - 0s 6ms/step - loss: 0.0066\n",
            "Epoch 50/160\n",
            "10/10 [==============================] - 0s 6ms/step - loss: 0.0070\n",
            "Epoch 51/160\n",
            "10/10 [==============================] - 0s 7ms/step - loss: 0.0068\n",
            "Epoch 52/160\n",
            "10/10 [==============================] - 0s 5ms/step - loss: 0.0056\n",
            "Epoch 53/160\n",
            "10/10 [==============================] - 0s 6ms/step - loss: 0.0072\n",
            "Epoch 54/160\n",
            "10/10 [==============================] - 0s 6ms/step - loss: 0.0063\n",
            "Epoch 55/160\n",
            "10/10 [==============================] - 0s 7ms/step - loss: 0.0067\n",
            "Epoch 56/160\n",
            "10/10 [==============================] - 0s 6ms/step - loss: 0.0061\n",
            "Epoch 57/160\n",
            "10/10 [==============================] - 0s 6ms/step - loss: 0.0073\n",
            "Epoch 58/160\n",
            "10/10 [==============================] - 0s 6ms/step - loss: 0.0073\n",
            "Epoch 59/160\n",
            "10/10 [==============================] - 0s 7ms/step - loss: 0.0065\n",
            "Epoch 60/160\n",
            "10/10 [==============================] - 0s 6ms/step - loss: 0.0051\n",
            "Epoch 61/160\n",
            "10/10 [==============================] - 0s 6ms/step - loss: 0.0049\n",
            "Epoch 62/160\n",
            "10/10 [==============================] - 0s 6ms/step - loss: 0.0052\n",
            "Epoch 63/160\n",
            "10/10 [==============================] - 0s 6ms/step - loss: 0.0051\n",
            "Epoch 64/160\n",
            "10/10 [==============================] - 0s 5ms/step - loss: 0.0046\n",
            "Epoch 65/160\n",
            "10/10 [==============================] - 0s 5ms/step - loss: 0.0062\n",
            "Epoch 66/160\n",
            "10/10 [==============================] - 0s 7ms/step - loss: 0.0059\n",
            "Epoch 67/160\n",
            "10/10 [==============================] - 0s 5ms/step - loss: 0.0052\n",
            "Epoch 68/160\n",
            "10/10 [==============================] - 0s 5ms/step - loss: 0.0044\n",
            "Epoch 69/160\n",
            "10/10 [==============================] - 0s 7ms/step - loss: 0.0050\n",
            "Epoch 70/160\n",
            "10/10 [==============================] - 0s 6ms/step - loss: 0.0046\n",
            "Epoch 71/160\n",
            "10/10 [==============================] - 0s 5ms/step - loss: 0.0037\n",
            "Epoch 72/160\n",
            "10/10 [==============================] - 0s 6ms/step - loss: 0.0043\n",
            "Epoch 73/160\n",
            "10/10 [==============================] - 0s 7ms/step - loss: 0.0038\n",
            "Epoch 74/160\n",
            "10/10 [==============================] - 0s 6ms/step - loss: 0.0036\n",
            "Epoch 75/160\n",
            "10/10 [==============================] - 0s 6ms/step - loss: 0.0034\n",
            "Epoch 76/160\n",
            "10/10 [==============================] - 0s 6ms/step - loss: 0.0033\n",
            "Epoch 77/160\n",
            "10/10 [==============================] - 0s 7ms/step - loss: 0.0046\n",
            "Epoch 78/160\n",
            "10/10 [==============================] - 0s 6ms/step - loss: 0.0044\n",
            "Epoch 79/160\n",
            "10/10 [==============================] - 0s 6ms/step - loss: 0.0047\n",
            "Epoch 80/160\n",
            "10/10 [==============================] - 0s 6ms/step - loss: 0.0034\n",
            "Epoch 81/160\n",
            "10/10 [==============================] - 0s 7ms/step - loss: 0.0042\n",
            "Epoch 82/160\n",
            "10/10 [==============================] - 0s 6ms/step - loss: 0.0036\n",
            "Epoch 83/160\n",
            "10/10 [==============================] - 0s 7ms/step - loss: 0.0036\n",
            "Epoch 84/160\n",
            "10/10 [==============================] - 0s 6ms/step - loss: 0.0039\n",
            "Epoch 85/160\n",
            "10/10 [==============================] - 0s 7ms/step - loss: 0.0029\n",
            "Epoch 86/160\n",
            "10/10 [==============================] - 0s 6ms/step - loss: 0.0050\n",
            "Epoch 87/160\n",
            "10/10 [==============================] - 0s 5ms/step - loss: 0.0030\n",
            "Epoch 88/160\n",
            "10/10 [==============================] - 0s 5ms/step - loss: 0.0027\n",
            "Epoch 89/160\n",
            "10/10 [==============================] - 0s 5ms/step - loss: 0.0026\n",
            "Epoch 90/160\n",
            "10/10 [==============================] - 0s 6ms/step - loss: 0.0027\n",
            "Epoch 91/160\n",
            "10/10 [==============================] - 0s 6ms/step - loss: 0.0026\n",
            "Epoch 92/160\n",
            "10/10 [==============================] - 0s 6ms/step - loss: 0.0026\n",
            "Epoch 93/160\n",
            "10/10 [==============================] - 0s 5ms/step - loss: 0.0029\n",
            "Epoch 94/160\n",
            "10/10 [==============================] - 0s 7ms/step - loss: 0.0032\n",
            "Epoch 95/160\n",
            "10/10 [==============================] - 0s 6ms/step - loss: 0.0024\n",
            "Epoch 96/160\n",
            "10/10 [==============================] - 0s 6ms/step - loss: 0.0023\n",
            "Epoch 97/160\n",
            "10/10 [==============================] - 0s 7ms/step - loss: 0.0025\n",
            "Epoch 98/160\n",
            "10/10 [==============================] - 0s 6ms/step - loss: 0.0028\n",
            "Epoch 99/160\n",
            "10/10 [==============================] - 0s 6ms/step - loss: 0.0024\n",
            "Epoch 100/160\n",
            "10/10 [==============================] - 0s 6ms/step - loss: 0.0025\n",
            "Epoch 101/160\n",
            "10/10 [==============================] - 0s 5ms/step - loss: 0.0028\n",
            "Epoch 102/160\n",
            "10/10 [==============================] - 0s 5ms/step - loss: 0.0030\n",
            "Epoch 103/160\n",
            "10/10 [==============================] - 0s 7ms/step - loss: 0.0025\n",
            "Epoch 104/160\n",
            "10/10 [==============================] - 0s 5ms/step - loss: 0.0023\n",
            "Epoch 105/160\n",
            "10/10 [==============================] - 0s 6ms/step - loss: 0.0022\n",
            "Epoch 106/160\n",
            "10/10 [==============================] - 0s 6ms/step - loss: 0.0025\n",
            "Epoch 107/160\n",
            "10/10 [==============================] - 0s 5ms/step - loss: 0.0033\n",
            "Epoch 108/160\n",
            "10/10 [==============================] - 0s 5ms/step - loss: 0.0026\n",
            "Epoch 109/160\n",
            "10/10 [==============================] - 0s 6ms/step - loss: 0.0024\n",
            "Epoch 110/160\n",
            "10/10 [==============================] - 0s 7ms/step - loss: 0.0026\n",
            "Epoch 111/160\n",
            "10/10 [==============================] - 0s 7ms/step - loss: 0.0024\n",
            "Epoch 112/160\n",
            "10/10 [==============================] - 0s 7ms/step - loss: 0.0024\n",
            "Epoch 113/160\n",
            "10/10 [==============================] - 0s 5ms/step - loss: 0.0034\n",
            "Epoch 114/160\n",
            "10/10 [==============================] - 0s 5ms/step - loss: 0.0024\n",
            "Epoch 115/160\n",
            "10/10 [==============================] - 0s 6ms/step - loss: 0.0025\n",
            "Epoch 116/160\n",
            "10/10 [==============================] - 0s 6ms/step - loss: 0.0026\n",
            "Epoch 117/160\n",
            "10/10 [==============================] - 0s 6ms/step - loss: 0.0033\n",
            "Epoch 118/160\n",
            "10/10 [==============================] - 0s 6ms/step - loss: 0.0030\n",
            "Epoch 119/160\n",
            "10/10 [==============================] - 0s 6ms/step - loss: 0.0033\n",
            "Epoch 120/160\n",
            "10/10 [==============================] - 0s 5ms/step - loss: 0.0023\n",
            "Epoch 121/160\n",
            "10/10 [==============================] - 0s 5ms/step - loss: 0.0026\n",
            "Epoch 122/160\n",
            "10/10 [==============================] - 0s 6ms/step - loss: 0.0022\n",
            "Epoch 123/160\n",
            "10/10 [==============================] - 0s 5ms/step - loss: 0.0026\n",
            "Epoch 124/160\n",
            "10/10 [==============================] - 0s 6ms/step - loss: 0.0026\n",
            "Epoch 125/160\n",
            "10/10 [==============================] - 0s 6ms/step - loss: 0.0029\n",
            "Epoch 126/160\n",
            "10/10 [==============================] - 0s 6ms/step - loss: 0.0025\n",
            "Epoch 127/160\n",
            "10/10 [==============================] - 0s 6ms/step - loss: 0.0028\n",
            "Epoch 128/160\n",
            "10/10 [==============================] - 0s 7ms/step - loss: 0.0023\n",
            "Epoch 129/160\n",
            "10/10 [==============================] - 0s 6ms/step - loss: 0.0022\n",
            "Epoch 130/160\n",
            "10/10 [==============================] - 0s 5ms/step - loss: 0.0030\n",
            "Epoch 131/160\n",
            "10/10 [==============================] - 0s 6ms/step - loss: 0.0020\n",
            "Epoch 132/160\n",
            "10/10 [==============================] - 0s 5ms/step - loss: 0.0021\n",
            "Epoch 133/160\n",
            "10/10 [==============================] - 0s 5ms/step - loss: 0.0034\n",
            "Epoch 134/160\n",
            "10/10 [==============================] - 0s 6ms/step - loss: 0.0025\n",
            "Epoch 135/160\n",
            "10/10 [==============================] - 0s 6ms/step - loss: 0.0023\n",
            "Epoch 136/160\n",
            "10/10 [==============================] - 0s 6ms/step - loss: 0.0018\n",
            "Epoch 137/160\n",
            "10/10 [==============================] - 0s 6ms/step - loss: 0.0020\n",
            "Epoch 138/160\n",
            "10/10 [==============================] - 0s 6ms/step - loss: 0.0018\n",
            "Epoch 139/160\n",
            "10/10 [==============================] - 0s 6ms/step - loss: 0.0020\n",
            "Epoch 140/160\n",
            "10/10 [==============================] - 0s 7ms/step - loss: 0.0022\n",
            "Epoch 141/160\n",
            "10/10 [==============================] - 0s 5ms/step - loss: 0.0021\n",
            "Epoch 142/160\n",
            "10/10 [==============================] - 0s 5ms/step - loss: 0.0024\n",
            "Epoch 143/160\n",
            "10/10 [==============================] - 0s 6ms/step - loss: 0.0021\n",
            "Epoch 144/160\n",
            "10/10 [==============================] - 0s 5ms/step - loss: 0.0021\n",
            "Epoch 145/160\n",
            "10/10 [==============================] - 0s 6ms/step - loss: 0.0019\n",
            "Epoch 146/160\n",
            "10/10 [==============================] - 0s 7ms/step - loss: 0.0023\n",
            "Epoch 147/160\n",
            "10/10 [==============================] - 0s 5ms/step - loss: 0.0021\n",
            "Epoch 148/160\n",
            "10/10 [==============================] - 0s 6ms/step - loss: 0.0030\n",
            "Epoch 149/160\n",
            "10/10 [==============================] - 0s 6ms/step - loss: 0.0025\n",
            "Epoch 150/160\n",
            "10/10 [==============================] - 0s 6ms/step - loss: 0.0023\n",
            "Epoch 151/160\n",
            "10/10 [==============================] - 0s 6ms/step - loss: 0.0018\n",
            "Epoch 152/160\n",
            "10/10 [==============================] - 0s 6ms/step - loss: 0.0023\n",
            "Epoch 153/160\n",
            "10/10 [==============================] - 0s 5ms/step - loss: 0.0022\n",
            "Epoch 154/160\n",
            "10/10 [==============================] - 0s 6ms/step - loss: 0.0018\n",
            "Epoch 155/160\n",
            "10/10 [==============================] - 0s 5ms/step - loss: 0.0019\n",
            "Epoch 156/160\n",
            "10/10 [==============================] - 0s 6ms/step - loss: 0.0018\n",
            "Epoch 157/160\n",
            "10/10 [==============================] - 0s 7ms/step - loss: 0.0018\n",
            "Epoch 158/160\n",
            "10/10 [==============================] - 0s 6ms/step - loss: 0.0018\n",
            "Epoch 159/160\n",
            "10/10 [==============================] - 0s 6ms/step - loss: 0.0018\n",
            "Epoch 160/160\n",
            "10/10 [==============================] - 0s 5ms/step - loss: 0.0018\n",
            "1/1 [==============================] - 0s 1ms/step - loss: 3.1130\n"
          ],
          "name": "stdout"
        }
      ]
    },
    {
      "cell_type": "code",
      "metadata": {
        "id": "aBny6cUkO4xC",
        "colab_type": "code",
        "colab": {
          "base_uri": "https://localhost:8080/",
          "height": 33
        },
        "outputId": "50c2d8a1-cc01-4279-8d6f-a9ed5de44bed"
      },
      "source": [
        "# Prediction and check performance metric\n",
        "train_predict = best_param_model.predict(X_train)\n",
        "test_predict = best_param_model.predict(X_test)\n",
        "train_predict.shape\n",
        "train_predict.shape"
      ],
      "execution_count": 314,
      "outputs": [
        {
          "output_type": "execute_result",
          "data": {
            "text/plain": [
              "(92, 1)"
            ]
          },
          "metadata": {
            "tags": []
          },
          "execution_count": 314
        }
      ]
    },
    {
      "cell_type": "code",
      "metadata": {
        "id": "b7ocuWlpPIEA",
        "colab_type": "code",
        "colab": {}
      },
      "source": [
        "# Transform back to original form\n",
        "train_predict=scaler.inverse_transform(train_predict)\n",
        "test_predict=scaler.inverse_transform(test_predict)\n",
        "# print(train_predict, test_predict)"
      ],
      "execution_count": 315,
      "outputs": []
    },
    {
      "cell_type": "code",
      "metadata": {
        "id": "zenaz-fCcL0E",
        "colab_type": "code",
        "colab": {
          "base_uri": "https://localhost:8080/",
          "height": 326
        },
        "outputId": "4017fc8d-ba28-43c2-aa5d-078c58e265a3"
      },
      "source": [
        "test_predict"
      ],
      "execution_count": 316,
      "outputs": [
        {
          "output_type": "execute_result",
          "data": {
            "text/plain": [
              "array([[1.0074418 ],\n",
              "       [1.0035846 ],\n",
              "       [1.0051701 ],\n",
              "       [1.0042672 ],\n",
              "       [1.0035353 ],\n",
              "       [1.0020782 ],\n",
              "       [0.9991992 ],\n",
              "       [0.9957014 ],\n",
              "       [0.9940499 ],\n",
              "       [0.99437803],\n",
              "       [0.99413836],\n",
              "       [0.9926762 ],\n",
              "       [0.99044675],\n",
              "       [0.9896539 ],\n",
              "       [0.98956215],\n",
              "       [0.98941267],\n",
              "       [0.98839456],\n",
              "       [0.9872806 ],\n",
              "       [0.9859503 ]], dtype=float32)"
            ]
          },
          "metadata": {
            "tags": []
          },
          "execution_count": 316
        }
      ]
    },
    {
      "cell_type": "markdown",
      "metadata": {
        "id": "k4ocL2CLJLXg",
        "colab_type": "text"
      },
      "source": [
        "# Performance Metric\n",
        "\n",
        "\n",
        "*   Mean square error: Measures the average of the squares of the errors—that is, the average squared difference between the estimated values and the actual value\n",
        "*   Kullback-Leibler divergence, which is also called relative entropy, is a measure of the difference between two probability distributions P and Q where P is the distribution of the observation that we want to see how much it differs from the average prior distribution Q.\n",
        "\n",
        "\n"
      ]
    },
    {
      "cell_type": "code",
      "metadata": {
        "id": "DHXXILzqPUHQ",
        "colab_type": "code",
        "colab": {
          "base_uri": "https://localhost:8080/",
          "height": 33
        },
        "outputId": "25089b45-9885-4352-917e-81c8c9c76f11"
      },
      "source": [
        "# Calculate the RMSE performance metrics\n",
        "# Output for the train dataset\n",
        "import math\n",
        "from sklearn.metrics import mean_squared_error\n",
        "math.sqrt(mean_squared_error(Y_train, train_predict))"
      ],
      "execution_count": 317,
      "outputs": [
        {
          "output_type": "execute_result",
          "data": {
            "text/plain": [
              "0.7389332933975417"
            ]
          },
          "metadata": {
            "tags": []
          },
          "execution_count": 317
        }
      ]
    },
    {
      "cell_type": "code",
      "metadata": {
        "id": "fFNm7l86Pt_7",
        "colab_type": "code",
        "colab": {
          "base_uri": "https://localhost:8080/",
          "height": 33
        },
        "outputId": "2057313c-e891-4786-bab0-bb63003c9283"
      },
      "source": [
        "# Use testing\n",
        "math.sqrt(mean_squared_error(Y_test, test_predict))"
      ],
      "execution_count": 318,
      "outputs": [
        {
          "output_type": "execute_result",
          "data": {
            "text/plain": [
              "0.10278195189328905"
            ]
          },
          "metadata": {
            "tags": []
          },
          "execution_count": 318
        }
      ]
    },
    {
      "cell_type": "code",
      "metadata": {
        "id": "gZc_4QJmZugn",
        "colab_type": "code",
        "colab": {}
      },
      "source": [
        "# Evaluating: How well is model performing \n",
        "# Probability distribution rather than time series\n",
        "# Tensorflow??\n",
        "# KL Divergence\n",
        "# Consider this for evaluation: https://www.tensorflow.org/api_docs/python/tf/keras/losses/KLDivergence\n",
        "# kl divergence measures difference between 2 probability distributions, \n",
        "# measure of what i am predicting and what should have been predicting"
      ],
      "execution_count": 319,
      "outputs": []
    },
    {
      "cell_type": "markdown",
      "metadata": {
        "id": "-nSW23ryI8RU",
        "colab_type": "text"
      },
      "source": [
        "# Actual Data, Train Prediction & Test Prediction data"
      ]
    },
    {
      "cell_type": "code",
      "metadata": {
        "id": "wIaC4DB2UV6P",
        "colab_type": "code",
        "colab": {
          "base_uri": "https://localhost:8080/",
          "height": 435
        },
        "outputId": "10b13747-5073-43bd-e016-8c18e3ec0584"
      },
      "source": [
        "# Problem: testPredictPlot[len(train_predict)+(look_back*2)+2: (training_size + test_size)] = test_predict\n",
        "\n",
        "# Taking in the 7 \n",
        "\n",
        "look_back = 7\n",
        "\n",
        "# empty_like: Return a new array with the same shape and type as a given array.\n",
        "# np.nan: Replect all with nan? What does this mean?\n",
        "# What does this do?? 7: predict.length() + 7, :\n",
        "\n",
        "trainPredictPlot = np.empty_like(new_dataset)\n",
        "trainPredictPlot[:,:]= np.nan\n",
        "trainPredictPlot[look_back:len(train_predict)+look_back, :] = train_predict\n",
        "print(trainPredictPlot.shape)\n",
        "\n",
        "# empty_like: Return a new array with the same shape and type as a given array.\n",
        "# np.nan: Replect all with nan? What does this mean?\n",
        "# Dont understand what this is doing\n",
        "# What does this do?? predict.length() + (7*2) +2 :(training_size + test_size)] = test_predict\n",
        "\n",
        "testPredictPlot = np.empty_like(new_dataset)\n",
        "testPredictPlot[:,:]= np.nan\n",
        "\n",
        "testPredictPlot[len(train_predict)+(look_back*2)+2: (training_size + test_size)] = test_predict\n",
        "# new_dataset[training_size:(training_size + test_size)]\n",
        "print(testPredictPlot.shape)\n",
        "\n",
        "# Plot baseline and predictions\n",
        "plt.title('Analysis of train, test and actual')\n",
        "plt.plot(scaler.inverse_transform(new_dataset), label=\"actual dataset\")\n",
        "\n",
        "trainPredictPlot = [item[1] for item in trainPredictPlot] \n",
        "plt.plot(trainPredictPlot, label=\"train_predict\")\n",
        "\n",
        "testPredictPlot = [item[1] for item in testPredictPlot] \n",
        "plt.plot(testPredictPlot, label=\"test_predict\")\n",
        "\n",
        "# as you can see th test data and train is divided because we want to test after a specific day\n",
        "plt.ylabel('Forex price & US Death Rates')\n",
        "plt.xlabel('Date')\n",
        "plt.legend()\n",
        "plt.show()\n",
        "# Printing 2 actual_dataset, train_predict, test_predict because 2 input layers"
      ],
      "execution_count": 320,
      "outputs": [
        {
          "output_type": "stream",
          "text": [
            "(154, 2)\n",
            "(154, 2)\n"
          ],
          "name": "stdout"
        },
        {
          "output_type": "display_data",
          "data": {
            "image/png": "[encoded data removed]",
            "text/plain": [
              "<Figure size 1080x432 with 1 Axes>"
            ]
          },
          "metadata": {
            "tags": []
          }
        }
      ]
    },
    {
      "cell_type": "markdown",
      "metadata": {
        "id": "Fc6YFJvQjBGu",
        "colab_type": "text"
      },
      "source": [
        "# Custom 4 day prediction\n",
        "\n",
        "*   Training train data to predict future days and evaluating the accuracy on validation data.\n",
        "*   Training train data to predict future days, no way of evaluating however this can tell us what is likely to occur.\n",
        "*   Using last 7 days of training data to predict the future custom days(4). \n",
        "\n"
      ]
    },
    {
      "cell_type": "code",
      "metadata": {
        "id": "yws-gX7RTB3Z",
        "colab_type": "code",
        "colab": {
          "base_uri": "https://localhost:8080/",
          "height": 147
        },
        "outputId": "20f7cd3a-5261-4849-84ba-7dcb2819ad85"
      },
      "source": [
        "# Taking the last 7 days of test\n",
        "# print(test_data[80:])\n",
        "# is this supposed to be test or train_data\n",
        "X_input=test_data[100:].reshape(1,-1)\n",
        "print(X_input)\n",
        "X_input.shape\n",
        "\n",
        "temp_input = train_data[-7:]\n",
        "temp_input\n",
        "\n"
      ],
      "execution_count": 321,
      "outputs": [
        {
          "output_type": "stream",
          "text": [
            "[]\n"
          ],
          "name": "stdout"
        },
        {
          "output_type": "execute_result",
          "data": {
            "text/plain": [
              "array([[0.13458041, 0.15332582],\n",
              "       [0.14429003, 0.03551297],\n",
              "       [0.1541408 , 0.08793687],\n",
              "       [0.16419948, 0.        ],\n",
              "       [0.17447133, 0.06820744],\n",
              "       [0.18495965, 0.31848929],\n",
              "       [0.19589434, 0.44024803]])"
            ]
          },
          "metadata": {
            "tags": []
          },
          "execution_count": 321
        }
      ]
    },
    {
      "cell_type": "code",
      "metadata": {
        "id": "CHAxzKyuTp5-",
        "colab_type": "code",
        "colab": {
          "base_uri": "https://localhost:8080/",
          "height": 488
        },
        "outputId": "2e244b7d-1d9d-4507-8cdd-ab7b58991594"
      },
      "source": [
        "# Demonstrate prediction for the next 4 days:\n",
        "\n",
        "# Step 1. 7 days of feature = temp_input taken from the last 7 days of the training set\n",
        "# Step 2  i is the day you are on and we want to predict 4 days: 0,1,2,3 (4 days)\n",
        "# Step 3. Predict the 8th day on each of the 7 days,\n",
        "# Step 4. Add this new predicted day to the list\n",
        "# Step 5. Because we are now taking in the last 7 days + the new predicted value, the list is now size 8  \n",
        "# Step 6. In order to take in 7 days at a time, we shift 1 to the right.\n",
        "# Step 7. We reassign the X_train to the new 7 days\n",
        "# Step 8. We predict the 8th day of the 7 days and continue the process\n",
        "# Step 9. We then add the 8th day to the output list\n",
        "# Step 10. We keep track of the 4 days by incrementing by i at the end-> i = i+1\n",
        "# Step 11. Once we have predicted the 4 days, we return the list of 4 day values.\n",
        "\n",
        "from numpy import array\n",
        "custom_day = 4\n",
        "lst_output=[]\n",
        "n_steps=7\n",
        "i=0\n",
        "X_input = temp_input\n",
        "# print(X_input)\n",
        "while(i<custom_day):\n",
        "  if(len(temp_input)>7):\n",
        "    # print(temp_input)  \n",
        "    X_input=array(temp_input[1:])\n",
        "    # print(\"{} day input {}\".format(i,X_input))\n",
        "    # Correct input shape (1,7,2)\n",
        "    X_input=X_input.reshape((1,n_steps,2))\n",
        "    # Prediction of X_input\n",
        "    print(X_input)\n",
        "    Y_hat = best_param_model.predict(X_input)\n",
        "    # print(Y_hat)\n",
        "    temp_input = np.append(temp_input, Y_hat)\n",
        "    temp_input=temp_input[1:]\n",
        "    lst_output.append(Y_hat[0][0])\n",
        "    i=i+1\n",
        "  else:\n",
        "    X_input=X_input.reshape((1,n_steps,2))\n",
        "    print(X_input)\n",
        "    Y_hat = best_param_model.predict(X_input, verbose=0)\n",
        "    # print(Y_hat)\n",
        "    temp_input = np.append(temp_input, Y_hat)\n",
        "    lst_output.append(Y_hat[0][0])\n",
        "    i=i+1\n",
        "# [0.039997526, 0.035484765, 0.029113937, 0.025276443]\n",
        "# Print the predicted forex price for the next 4 days \n",
        "print(lst_output)"
      ],
      "execution_count": 322,
      "outputs": [
        {
          "output_type": "stream",
          "text": [
            "[[[0.13458041 0.15332582]\n",
            "  [0.14429003 0.03551297]\n",
            "  [0.1541408  0.08793687]\n",
            "  [0.16419948 0.        ]\n",
            "  [0.17447133 0.06820744]\n",
            "  [0.18495965 0.31848929]\n",
            "  [0.19589434 0.44024803]]]\n",
            "[[[0.15332582 0.14429003]\n",
            "  [0.03551297 0.1541408 ]\n",
            "  [0.08793687 0.16419948]\n",
            "  [0.         0.17447133]\n",
            "  [0.06820744 0.18495965]\n",
            "  [0.31848929 0.19589434]\n",
            "  [0.44024803 0.61672008]]]\n",
            "[[[0.14429003 0.03551297]\n",
            "  [0.1541408  0.08793687]\n",
            "  [0.16419948 0.        ]\n",
            "  [0.17447133 0.06820744]\n",
            "  [0.18495965 0.31848929]\n",
            "  [0.19589434 0.44024803]\n",
            "  [0.61672008 0.71685249]]]\n",
            "[[[0.03551297 0.1541408 ]\n",
            "  [0.08793687 0.16419948]\n",
            "  [0.         0.17447133]\n",
            "  [0.06820744 0.18495965]\n",
            "  [0.31848929 0.19589434]\n",
            "  [0.44024803 0.61672008]\n",
            "  [0.71685249 0.78738189]]]\n",
            "[0.6167201, 0.7168525, 0.7873819, 0.68703246]\n"
          ],
          "name": "stdout"
        }
      ]
    },
    {
      "cell_type": "markdown",
      "metadata": {
        "id": "-0DCdCn2jwxO",
        "colab_type": "text"
      },
      "source": [
        "### Plotting evaluation on graph. Training output versus first 4 days of the validation data."
      ]
    },
    {
      "cell_type": "code",
      "metadata": {
        "id": "z_5opaqHfcZt",
        "colab_type": "code",
        "colab": {
          "base_uri": "https://localhost:8080/",
          "height": 435
        },
        "outputId": "aec98685-d553-441e-e093-bbf0a85a3652"
      },
      "source": [
        "# Custom day plotted\n",
        "day_new = custom_day-1\n",
        "\n",
        "# Predicted 4 days from training\n",
        "# Plot and label\n",
        "# Transform back to original value before normalised\n",
        "custom_day_prediction = np.array(lst_output)\n",
        "print(custom_day_prediction)\n",
        "plt.plot(custom_day_prediction, label=\"Predicted\")\n",
        "# plt.plot(day_new, scaler.inverse_transform([custom_day_prediction]))\n",
        "\n",
        "# Actual 4 days from validation\n",
        "# Plot and label\n",
        "# Transform back to original value before normalised\n",
        "val_data = [item[1] for item in valset_data] \n",
        "custom_day_validation = val_data[:custom_day]\n",
        "print(custom_day_validation)\n",
        "plt.plot(custom_day_validation, label=\"Actual\")\n",
        "# plt.plot(day_new, scaler.inverse_transform([custom_day_validation]))\n",
        "\n",
        "# Information\n",
        "plt.title('Predicted custom day from training data versus actual custom day from validation data')\n",
        "plt.xlabel('Number of custom days')\n",
        "plt.ylabel('Price')\n",
        "plt.legend()\n",
        "plt.show()\n",
        "\n",
        "\n",
        "# our_model = [0.74404275 0.8052977  0.7691769  0.89058316] \n",
        "# [0.6725929 0.6040678 0.6569952 0.6451826]\n",
        "# [0.6725929 0.6040678 0.6569952 0.6451826]"
      ],
      "execution_count": 323,
      "outputs": [
        {
          "output_type": "stream",
          "text": [
            "[0.6167201  0.7168525  0.7873819  0.68703246]\n",
            "[0.4453213077790297, 0.6121758737316796, 0.7525366403607663, 0.8010146561443054]\n"
          ],
          "name": "stdout"
        },
        {
          "output_type": "display_data",
          "data": {
            "image/png": "[encoded data removed]",
            "text/plain": [
              "<Figure size 1080x432 with 1 Axes>"
            ]
          },
          "metadata": {
            "tags": []
          }
        }
      ]
    },
    {
      "cell_type": "code",
      "metadata": {
        "id": "9X1xZG9bWNx_",
        "colab_type": "code",
        "colab": {
          "base_uri": "https://localhost:8080/",
          "height": 418
        },
        "outputId": "9880e3d5-2d7a-47da-e994-b357db9e8f7b"
      },
      "source": [
        "# Connect what we got as a result to the future\n",
        "day_new = custom_day-1\n",
        "\n",
        "# Predicted 4 days from training\n",
        "# Plot and label\n",
        "# Transform back to original value before normalised\n",
        "custom_day_prediction = np.array(lst_output)\n",
        "print(custom_day_prediction)\n",
        "plt.plot(custom_day_prediction, label=\"Predicted\")\n",
        "plt.plot(day_new, scaler.inverse_transform([custom_day_prediction]))\n",
        "\n",
        "# Actual 4 days from validation\n",
        "# Plot and label\n",
        "# Transform back to original value before normalised\n",
        "# Start on 4 instead\n",
        "val_data = [item[1] for item in valset_data] \n",
        "custom_day_validation = val_data[custom_day:]\n",
        "plt.plot(custom_day_validation, label=\"Actual\")\n",
        "plt.plot(day_new, scaler.inverse_transform([custom_day_validation]))\n",
        "\n",
        "# Information\n",
        "plt.title('Predicted custom day from training data versus actual custom day from validation data')\n",
        "plt.xlabel('Number of custom days')\n",
        "plt.ylabel('Price')\n",
        "plt.legend()\n",
        "plt.show()\n",
        "\n"
      ],
      "execution_count": 324,
      "outputs": [
        {
          "output_type": "stream",
          "text": [
            "[0.6167201  0.7168525  0.7873819  0.68703246]\n"
          ],
          "name": "stdout"
        },
        {
          "output_type": "display_data",
          "data": {
            "image/png": "[encoded data removed]",
            "text/plain": [
              "<Figure size 1080x432 with 1 Axes>"
            ]
          },
          "metadata": {
            "tags": []
          }
        }
      ]
    },
    {
      "cell_type": "code",
      "metadata": {
        "id": "d-JX2Sw3-2k4",
        "colab_type": "code",
        "colab": {
          "base_uri": "https://localhost:8080/",
          "height": 435
        },
        "outputId": "df92e34b-265a-4950-97f7-c6f3dc41edcd"
      },
      "source": [
        "# Custom day plotted\n",
        "day_new = custom_day-1\n",
        "\n",
        "# Predicted 4 days from training\n",
        "# Plot and label\n",
        "# Transform back to original value before normalised\n",
        "custom_day_prediction = np.array(lst_output)\n",
        "print(custom_day_prediction)\n",
        "plt.plot(custom_day_prediction, label=\"Predicted\")\n",
        "# plt.plot(day_new, scaler.inverse_transform([custom_day_prediction]))\n",
        "\n",
        "# Actual 4 days from validation\n",
        "# Plot and label\n",
        "# Transform back to original value before normalised\n",
        "val_data = [item[1] for item in valset_data] \n",
        "custom_day_validation = val_data[:custom_day]\n",
        "print(custom_day_validation)\n",
        "plt.plot(custom_day_validation, label=\"Actual\")\n",
        "# plt.plot(day_new, scaler.inverse_transform([custom_day_validation]))\n",
        "\n",
        "# Information\n",
        "plt.title('Predicted custom day from training data versus actual custom day from validation data')\n",
        "plt.xlabel('Number of custom days')\n",
        "plt.ylabel('Price')\n",
        "plt.legend()\n",
        "plt.show()"
      ],
      "execution_count": 325,
      "outputs": [
        {
          "output_type": "stream",
          "text": [
            "[0.6167201  0.7168525  0.7873819  0.68703246]\n",
            "[0.4453213077790297, 0.6121758737316796, 0.7525366403607663, 0.8010146561443054]\n"
          ],
          "name": "stdout"
        },
        {
          "output_type": "display_data",
          "data": {
            "image/png": "[encoded data removed]",
            "text/plain": [
              "<Figure size 1080x432 with 1 Axes>"
            ]
          },
          "metadata": {
            "tags": []
          }
        }
      ]
    },
    {
      "cell_type": "code",
      "metadata": {
        "id": "IeOGd1UPV8jG",
        "colab_type": "code",
        "colab": {}
      },
      "source": [
        "# What we have:\n",
        "# day_new=np.arange(1,8)\n",
        "# print(day_new)\n",
        "# What we want to predict:\n",
        "# day_pred=np.arange(8,12)\n",
        "# print(day_pred)"
      ],
      "execution_count": 326,
      "outputs": []
    },
    {
      "cell_type": "markdown",
      "metadata": {
        "id": "7o0GfssHMvIL",
        "colab_type": "text"
      },
      "source": [
        "# Conclusion and next steps\n",
        "We explored the LSTM algorithms:\n",
        "\n",
        "*   List item\n",
        "*   List item\n",
        "\n",
        "\n",
        "In conclusion it seems that .."
      ]
    }
  ]
}