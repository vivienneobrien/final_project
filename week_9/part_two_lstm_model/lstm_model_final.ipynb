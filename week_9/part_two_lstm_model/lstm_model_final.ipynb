{
  "nbformat": 4,
  "nbformat_minor": 0,
  "metadata": {
    "colab": {
      "name": "lstm_model_final.ipynb",
      "provenance": [],
      "collapsed_sections": [],
      "toc_visible": true
    },
    "kernelspec": {
      "name": "python3",
      "display_name": "Python 3"
    },
    "accelerator": "GPU"
  },
  "cells": [
    {
      "cell_type": "markdown",
      "metadata": {
        "id": "NpLCBrS0DoTl",
        "colab_type": "text"
      },
      "source": [
        "# Notes for user:\n",
        "\n",
        "*   This notebook will use the dataset COVID-19 (positive cases and death rates) and forex to predict the forex spot price of a currency pair.\n",
        "*   What to ask user before using this application:\n",
        "*   What currency pair are you interested in? GBP/USD (This layout means that the base currency is USD)\n",
        "*   The currency the user wants to look at is how much the USD is worth to the GBP.\n",
        "*   Therefore, we look at the death rates & positive cases in the US.\n",
        "*   We are looking at dates: 31st Dec 2019 - 31st July 2020.\n",
        "*   LSTMs are good at looking at changed over time. \n"
      ]
    },
    {
      "cell_type": "markdown",
      "metadata": {
        "id": "JgdK1L0bjQsY",
        "colab_type": "text"
      },
      "source": [
        "# Part 2: LSTM to predict Forex Spot Price"
      ]
    },
    {
      "cell_type": "markdown",
      "metadata": {
        "id": "hj06VW8PjHI3",
        "colab_type": "text"
      },
      "source": [
        "# Imports"
      ]
    },
    {
      "cell_type": "code",
      "metadata": {
        "id": "GDBxlQkCD7Mj",
        "colab_type": "code",
        "colab": {
          "base_uri": "https://localhost:8080/",
          "height": 325
        },
        "outputId": "df673f86-2e9f-4f7a-efff-582765b5fdd9"
      },
      "source": [
        "# Imports\n",
        "!pip install git+https://github.com/tensorflow/docs\n",
        "import pathlib\n",
        "import numpy as np\n",
        "import pandas as pd\n",
        "import tensorflow as tf\n",
        "from tensorflow import keras\n",
        "from tensorflow.keras import layers\n",
        "print(tf.__version__)\n",
        "import tensorflow_docs as tfdocs\n",
        "import tensorflow_docs.plots\n",
        "import tensorflow_docs.modeling\n",
        "#plotting\n",
        "from datetime import datetime, timedelta\n",
        "from matplotlib import pyplot as plt\n",
        "from matplotlib import dates as mpl_dates\n",
        "plt.style.use('seaborn')\n",
        "from matplotlib import rcParams\n",
        "# metrics\n",
        "import math\n",
        "# to create model\n",
        "from tensorflow.keras.models import Sequential\n",
        "from tensorflow.keras.layers import Dense\n",
        "from tensorflow.keras.layers import InputLayer, Dense, LSTM, Dropout"
      ],
      "execution_count": null,
      "outputs": [
        {
          "output_type": "stream",
          "text": [
            "Collecting git+https://github.com/tensorflow/docs\n",
            "  Cloning https://github.com/tensorflow/docs to /tmp/pip-req-build-3jzc5pej\n",
            "  Running command git clone -q https://github.com/tensorflow/docs /tmp/pip-req-build-3jzc5pej\n",
            "Requirement already satisfied (use --upgrade to upgrade): tensorflow-docs===0.0.05c4bd64cc6466af361dfd1f7e19625e7de52fc37- from git+https://github.com/tensorflow/docs in /usr/local/lib/python3.6/dist-packages\n",
            "Requirement already satisfied: astor in /usr/local/lib/python3.6/dist-packages (from tensorflow-docs===0.0.05c4bd64cc6466af361dfd1f7e19625e7de52fc37-) (0.8.1)\n",
            "Requirement already satisfied: absl-py in /usr/local/lib/python3.6/dist-packages (from tensorflow-docs===0.0.05c4bd64cc6466af361dfd1f7e19625e7de52fc37-) (0.9.0)\n",
            "Requirement already satisfied: protobuf in /usr/local/lib/python3.6/dist-packages (from tensorflow-docs===0.0.05c4bd64cc6466af361dfd1f7e19625e7de52fc37-) (3.12.4)\n",
            "Requirement already satisfied: pyyaml in /usr/local/lib/python3.6/dist-packages (from tensorflow-docs===0.0.05c4bd64cc6466af361dfd1f7e19625e7de52fc37-) (3.13)\n",
            "Requirement already satisfied: six in /usr/local/lib/python3.6/dist-packages (from absl-py->tensorflow-docs===0.0.05c4bd64cc6466af361dfd1f7e19625e7de52fc37-) (1.15.0)\n",
            "Requirement already satisfied: setuptools in /usr/local/lib/python3.6/dist-packages (from protobuf->tensorflow-docs===0.0.05c4bd64cc6466af361dfd1f7e19625e7de52fc37-) (49.2.0)\n",
            "Building wheels for collected packages: tensorflow-docs\n",
            "  Building wheel for tensorflow-docs (setup.py) ... \u001b[?25l\u001b[?25hdone\n",
            "  Created wheel for tensorflow-docs: filename=tensorflow_docs-0.0.05c4bd64cc6466af361dfd1f7e19625e7de52fc37_-cp36-none-any.whl size=126759 sha256=dc90dc59a52bec8bef64b13270da5746ed9f6abefc7a1c8e8358bf113401d598\n",
            "  Stored in directory: /tmp/pip-ephem-wheel-cache-_y_x_p9u/wheels/eb/1b/35/fce87697be00d2fc63e0b4b395b0d9c7e391a10e98d9a0d97f\n",
            "Successfully built tensorflow-docs\n",
            "2.3.0\n"
          ],
          "name": "stdout"
        }
      ]
    },
    {
      "cell_type": "code",
      "metadata": {
        "id": "U7zLL7tQm3eq",
        "colab_type": "code",
        "colab": {}
      },
      "source": [
        "from numpy.random import seed\n",
        "seed(1)\n",
        "tf.random.set_seed(2)"
      ],
      "execution_count": null,
      "outputs": []
    },
    {
      "cell_type": "markdown",
      "metadata": {
        "id": "QzadtzC3Hniw",
        "colab_type": "text"
      },
      "source": [
        "# Data Collection\n"
      ]
    },
    {
      "cell_type": "code",
      "metadata": {
        "id": "7GjIgZ7kJhjo",
        "colab_type": "code",
        "colab": {
          "base_uri": "https://localhost:8080/",
          "height": 309
        },
        "outputId": "b0c912ee-3dd1-45f1-aaff-6d62fd35ec32"
      },
      "source": [
        "# Importing covid_dataset using pandas. Droping null values.\n",
        "covid_dataset_data= pd.read_csv('owid_covid_data.csv', na_values = \"?\", comment='\\t', skipinitialspace=True)\n",
        "covid_dataset = covid_dataset_data.copy()\n",
        "# covid_dataset = covid_dataset.dropna()  \n",
        "# We do not want to drop empty tables as this is null values are part of our dataset\n",
        "covid_dataset.head()"
      ],
      "execution_count": null,
      "outputs": [
        {
          "output_type": "execute_result",
          "data": {
            "text/html": [
              "<div>\n",
              "<style scoped>\n",
              "    .dataframe tbody tr th:only-of-type {\n",
              "        vertical-align: middle;\n",
              "    }\n",
              "\n",
              "    .dataframe tbody tr th {\n",
              "        vertical-align: top;\n",
              "    }\n",
              "\n",
              "    .dataframe thead th {\n",
              "        text-align: right;\n",
              "    }\n",
              "</style>\n",
              "<table border=\"1\" class=\"dataframe\">\n",
              "  <thead>\n",
              "    <tr style=\"text-align: right;\">\n",
              "      <th></th>\n",
              "      <th>iso_code</th>\n",
              "      <th>continent</th>\n",
              "      <th>location</th>\n",
              "      <th>date</th>\n",
              "      <th>total_cases</th>\n",
              "      <th>new_cases</th>\n",
              "      <th>total_deaths</th>\n",
              "      <th>new_deaths</th>\n",
              "      <th>total_cases_per_million</th>\n",
              "      <th>new_cases_per_million</th>\n",
              "      <th>total_deaths_per_million</th>\n",
              "      <th>new_deaths_per_million</th>\n",
              "      <th>new_tests</th>\n",
              "      <th>total_tests</th>\n",
              "      <th>total_tests_per_thousand</th>\n",
              "      <th>new_tests_per_thousand</th>\n",
              "      <th>new_tests_smoothed</th>\n",
              "      <th>new_tests_smoothed_per_thousand</th>\n",
              "      <th>tests_per_case</th>\n",
              "      <th>positive_rate</th>\n",
              "      <th>tests_units</th>\n",
              "      <th>stringency_index</th>\n",
              "      <th>population</th>\n",
              "      <th>population_density</th>\n",
              "      <th>median_age</th>\n",
              "      <th>aged_65_older</th>\n",
              "      <th>aged_70_older</th>\n",
              "      <th>gdp_per_capita</th>\n",
              "      <th>extreme_poverty</th>\n",
              "      <th>cardiovasc_death_rate</th>\n",
              "      <th>diabetes_prevalence</th>\n",
              "      <th>female_smokers</th>\n",
              "      <th>male_smokers</th>\n",
              "      <th>handwashing_facilities</th>\n",
              "      <th>hospital_beds_per_thousand</th>\n",
              "      <th>life_expectancy</th>\n",
              "    </tr>\n",
              "  </thead>\n",
              "  <tbody>\n",
              "    <tr>\n",
              "      <th>0</th>\n",
              "      <td>ABW</td>\n",
              "      <td>North America</td>\n",
              "      <td>Aruba</td>\n",
              "      <td>2020-03-13</td>\n",
              "      <td>2.0</td>\n",
              "      <td>2.0</td>\n",
              "      <td>0.0</td>\n",
              "      <td>0.0</td>\n",
              "      <td>18.733</td>\n",
              "      <td>18.733</td>\n",
              "      <td>0.0</td>\n",
              "      <td>0.0</td>\n",
              "      <td>NaN</td>\n",
              "      <td>NaN</td>\n",
              "      <td>NaN</td>\n",
              "      <td>NaN</td>\n",
              "      <td>NaN</td>\n",
              "      <td>NaN</td>\n",
              "      <td>NaN</td>\n",
              "      <td>NaN</td>\n",
              "      <td>NaN</td>\n",
              "      <td>0.00</td>\n",
              "      <td>106766.0</td>\n",
              "      <td>584.8</td>\n",
              "      <td>41.2</td>\n",
              "      <td>13.085</td>\n",
              "      <td>7.452</td>\n",
              "      <td>35973.781</td>\n",
              "      <td>NaN</td>\n",
              "      <td>NaN</td>\n",
              "      <td>11.62</td>\n",
              "      <td>NaN</td>\n",
              "      <td>NaN</td>\n",
              "      <td>NaN</td>\n",
              "      <td>NaN</td>\n",
              "      <td>76.29</td>\n",
              "    </tr>\n",
              "    <tr>\n",
              "      <th>1</th>\n",
              "      <td>ABW</td>\n",
              "      <td>North America</td>\n",
              "      <td>Aruba</td>\n",
              "      <td>2020-03-20</td>\n",
              "      <td>4.0</td>\n",
              "      <td>2.0</td>\n",
              "      <td>0.0</td>\n",
              "      <td>0.0</td>\n",
              "      <td>37.465</td>\n",
              "      <td>18.733</td>\n",
              "      <td>0.0</td>\n",
              "      <td>0.0</td>\n",
              "      <td>NaN</td>\n",
              "      <td>NaN</td>\n",
              "      <td>NaN</td>\n",
              "      <td>NaN</td>\n",
              "      <td>NaN</td>\n",
              "      <td>NaN</td>\n",
              "      <td>NaN</td>\n",
              "      <td>NaN</td>\n",
              "      <td>NaN</td>\n",
              "      <td>33.33</td>\n",
              "      <td>106766.0</td>\n",
              "      <td>584.8</td>\n",
              "      <td>41.2</td>\n",
              "      <td>13.085</td>\n",
              "      <td>7.452</td>\n",
              "      <td>35973.781</td>\n",
              "      <td>NaN</td>\n",
              "      <td>NaN</td>\n",
              "      <td>11.62</td>\n",
              "      <td>NaN</td>\n",
              "      <td>NaN</td>\n",
              "      <td>NaN</td>\n",
              "      <td>NaN</td>\n",
              "      <td>76.29</td>\n",
              "    </tr>\n",
              "    <tr>\n",
              "      <th>2</th>\n",
              "      <td>ABW</td>\n",
              "      <td>North America</td>\n",
              "      <td>Aruba</td>\n",
              "      <td>2020-03-24</td>\n",
              "      <td>12.0</td>\n",
              "      <td>8.0</td>\n",
              "      <td>0.0</td>\n",
              "      <td>0.0</td>\n",
              "      <td>112.395</td>\n",
              "      <td>74.930</td>\n",
              "      <td>0.0</td>\n",
              "      <td>0.0</td>\n",
              "      <td>NaN</td>\n",
              "      <td>NaN</td>\n",
              "      <td>NaN</td>\n",
              "      <td>NaN</td>\n",
              "      <td>NaN</td>\n",
              "      <td>NaN</td>\n",
              "      <td>NaN</td>\n",
              "      <td>NaN</td>\n",
              "      <td>NaN</td>\n",
              "      <td>44.44</td>\n",
              "      <td>106766.0</td>\n",
              "      <td>584.8</td>\n",
              "      <td>41.2</td>\n",
              "      <td>13.085</td>\n",
              "      <td>7.452</td>\n",
              "      <td>35973.781</td>\n",
              "      <td>NaN</td>\n",
              "      <td>NaN</td>\n",
              "      <td>11.62</td>\n",
              "      <td>NaN</td>\n",
              "      <td>NaN</td>\n",
              "      <td>NaN</td>\n",
              "      <td>NaN</td>\n",
              "      <td>76.29</td>\n",
              "    </tr>\n",
              "    <tr>\n",
              "      <th>3</th>\n",
              "      <td>ABW</td>\n",
              "      <td>North America</td>\n",
              "      <td>Aruba</td>\n",
              "      <td>2020-03-25</td>\n",
              "      <td>17.0</td>\n",
              "      <td>5.0</td>\n",
              "      <td>0.0</td>\n",
              "      <td>0.0</td>\n",
              "      <td>159.227</td>\n",
              "      <td>46.831</td>\n",
              "      <td>0.0</td>\n",
              "      <td>0.0</td>\n",
              "      <td>NaN</td>\n",
              "      <td>NaN</td>\n",
              "      <td>NaN</td>\n",
              "      <td>NaN</td>\n",
              "      <td>NaN</td>\n",
              "      <td>NaN</td>\n",
              "      <td>NaN</td>\n",
              "      <td>NaN</td>\n",
              "      <td>NaN</td>\n",
              "      <td>44.44</td>\n",
              "      <td>106766.0</td>\n",
              "      <td>584.8</td>\n",
              "      <td>41.2</td>\n",
              "      <td>13.085</td>\n",
              "      <td>7.452</td>\n",
              "      <td>35973.781</td>\n",
              "      <td>NaN</td>\n",
              "      <td>NaN</td>\n",
              "      <td>11.62</td>\n",
              "      <td>NaN</td>\n",
              "      <td>NaN</td>\n",
              "      <td>NaN</td>\n",
              "      <td>NaN</td>\n",
              "      <td>76.29</td>\n",
              "    </tr>\n",
              "    <tr>\n",
              "      <th>4</th>\n",
              "      <td>ABW</td>\n",
              "      <td>North America</td>\n",
              "      <td>Aruba</td>\n",
              "      <td>2020-03-26</td>\n",
              "      <td>19.0</td>\n",
              "      <td>2.0</td>\n",
              "      <td>0.0</td>\n",
              "      <td>0.0</td>\n",
              "      <td>177.959</td>\n",
              "      <td>18.733</td>\n",
              "      <td>0.0</td>\n",
              "      <td>0.0</td>\n",
              "      <td>NaN</td>\n",
              "      <td>NaN</td>\n",
              "      <td>NaN</td>\n",
              "      <td>NaN</td>\n",
              "      <td>NaN</td>\n",
              "      <td>NaN</td>\n",
              "      <td>NaN</td>\n",
              "      <td>NaN</td>\n",
              "      <td>NaN</td>\n",
              "      <td>44.44</td>\n",
              "      <td>106766.0</td>\n",
              "      <td>584.8</td>\n",
              "      <td>41.2</td>\n",
              "      <td>13.085</td>\n",
              "      <td>7.452</td>\n",
              "      <td>35973.781</td>\n",
              "      <td>NaN</td>\n",
              "      <td>NaN</td>\n",
              "      <td>11.62</td>\n",
              "      <td>NaN</td>\n",
              "      <td>NaN</td>\n",
              "      <td>NaN</td>\n",
              "      <td>NaN</td>\n",
              "      <td>76.29</td>\n",
              "    </tr>\n",
              "  </tbody>\n",
              "</table>\n",
              "</div>"
            ],
            "text/plain": [
              "  iso_code      continent  ... hospital_beds_per_thousand life_expectancy\n",
              "0      ABW  North America  ...                        NaN           76.29\n",
              "1      ABW  North America  ...                        NaN           76.29\n",
              "2      ABW  North America  ...                        NaN           76.29\n",
              "3      ABW  North America  ...                        NaN           76.29\n",
              "4      ABW  North America  ...                        NaN           76.29\n",
              "\n",
              "[5 rows x 36 columns]"
            ]
          },
          "metadata": {
            "tags": []
          },
          "execution_count": 248
        }
      ]
    },
    {
      "cell_type": "code",
      "metadata": {
        "id": "aYBFYnKtiIkQ",
        "colab_type": "code",
        "colab": {
          "base_uri": "https://localhost:8080/",
          "height": 204
        },
        "outputId": "d2906b0a-5945-43dc-9351-89f0a8693c55"
      },
      "source": [
        "# Trying to isolate location based on currency in question\n",
        "us_death_rates = covid_dataset.loc[covid_dataset.location=='United States', ['location', 'date', 'total_cases', 'total_deaths']]\n",
        "us_death_rates.head()"
      ],
      "execution_count": null,
      "outputs": [
        {
          "output_type": "execute_result",
          "data": {
            "text/html": [
              "<div>\n",
              "<style scoped>\n",
              "    .dataframe tbody tr th:only-of-type {\n",
              "        vertical-align: middle;\n",
              "    }\n",
              "\n",
              "    .dataframe tbody tr th {\n",
              "        vertical-align: top;\n",
              "    }\n",
              "\n",
              "    .dataframe thead th {\n",
              "        text-align: right;\n",
              "    }\n",
              "</style>\n",
              "<table border=\"1\" class=\"dataframe\">\n",
              "  <thead>\n",
              "    <tr style=\"text-align: right;\">\n",
              "      <th></th>\n",
              "      <th>location</th>\n",
              "      <th>date</th>\n",
              "      <th>total_cases</th>\n",
              "      <th>total_deaths</th>\n",
              "    </tr>\n",
              "  </thead>\n",
              "  <tbody>\n",
              "    <tr>\n",
              "      <th>32403</th>\n",
              "      <td>United States</td>\n",
              "      <td>2019-12-31</td>\n",
              "      <td>0.0</td>\n",
              "      <td>0.0</td>\n",
              "    </tr>\n",
              "    <tr>\n",
              "      <th>32404</th>\n",
              "      <td>United States</td>\n",
              "      <td>2020-01-01</td>\n",
              "      <td>0.0</td>\n",
              "      <td>0.0</td>\n",
              "    </tr>\n",
              "    <tr>\n",
              "      <th>32405</th>\n",
              "      <td>United States</td>\n",
              "      <td>2020-01-02</td>\n",
              "      <td>0.0</td>\n",
              "      <td>0.0</td>\n",
              "    </tr>\n",
              "    <tr>\n",
              "      <th>32406</th>\n",
              "      <td>United States</td>\n",
              "      <td>2020-01-03</td>\n",
              "      <td>0.0</td>\n",
              "      <td>0.0</td>\n",
              "    </tr>\n",
              "    <tr>\n",
              "      <th>32407</th>\n",
              "      <td>United States</td>\n",
              "      <td>2020-01-04</td>\n",
              "      <td>0.0</td>\n",
              "      <td>0.0</td>\n",
              "    </tr>\n",
              "  </tbody>\n",
              "</table>\n",
              "</div>"
            ],
            "text/plain": [
              "            location        date  total_cases  total_deaths\n",
              "32403  United States  2019-12-31          0.0           0.0\n",
              "32404  United States  2020-01-01          0.0           0.0\n",
              "32405  United States  2020-01-02          0.0           0.0\n",
              "32406  United States  2020-01-03          0.0           0.0\n",
              "32407  United States  2020-01-04          0.0           0.0"
            ]
          },
          "metadata": {
            "tags": []
          },
          "execution_count": 249
        }
      ]
    },
    {
      "cell_type": "code",
      "metadata": {
        "id": "kIDXEXFDf4N5",
        "colab_type": "code",
        "colab": {}
      },
      "source": [
        "# Import forex\n",
        "forex_dataset_data= pd.read_csv('investing_with_doubles.csv', na_values = \"?\", comment='\\t', skipinitialspace=True)\n",
        "forex_dataset = forex_dataset_data.copy()\n",
        "# forex_dataset = forex_dataset_data.dropna()"
      ],
      "execution_count": null,
      "outputs": []
    },
    {
      "cell_type": "code",
      "metadata": {
        "id": "qPnqCkJRbboH",
        "colab_type": "code",
        "colab": {
          "base_uri": "https://localhost:8080/",
          "height": 71
        },
        "outputId": "bd25efa2-a052-452e-e4dc-dbf597fad9a8"
      },
      "source": [
        "# Why are these different?\n",
        "print(us_death_rates.shape), print(forex_dataset.shape)"
      ],
      "execution_count": null,
      "outputs": [
        {
          "output_type": "stream",
          "text": [
            "(218, 4)\n",
            "(213, 6)\n"
          ],
          "name": "stdout"
        },
        {
          "output_type": "execute_result",
          "data": {
            "text/plain": [
              "(None, None)"
            ]
          },
          "metadata": {
            "tags": []
          },
          "execution_count": 251
        }
      ]
    },
    {
      "cell_type": "markdown",
      "metadata": {
        "id": "C53hVpItH0az",
        "colab_type": "text"
      },
      "source": [
        "# Data Preprocessing / Data Cleaning & Collating\n",
        "*   Eliminating columns we dont want\n",
        "*   Merging tables based on 'Date' column\n",
        "*   Dates in question: Dec 31 2019 - Jul 31, 2020\n",
        "*   Once complete we pop the 'date' we merged on "
      ]
    },
    {
      "cell_type": "code",
      "metadata": {
        "id": "jIpYbWz2HxyG",
        "colab_type": "code",
        "colab": {
          "base_uri": "https://localhost:8080/",
          "height": 233
        },
        "outputId": "f0d96b85-70e1-4b93-ac4a-850c7c6b2147"
      },
      "source": [
        "# Filter dataset\n",
        "forex_dataset.pop('Open')\n",
        "forex_dataset.pop('High')\n",
        "forex_dataset.pop('Low')\n",
        "forex_dataset.pop('Change %')"
      ],
      "execution_count": null,
      "outputs": [
        {
          "output_type": "execute_result",
          "data": {
            "text/plain": [
              "0      -0.04%\n",
              "1       0.76%\n",
              "2       0.49%\n",
              "3       0.38%\n",
              "4       0.72%\n",
              "        ...  \n",
              "208     0.62%\n",
              "209    -0.44%\n",
              "210    -0.82%\n",
              "211    -0.05%\n",
              "212     1.11%\n",
              "Name: Change %, Length: 213, dtype: object"
            ]
          },
          "metadata": {
            "tags": []
          },
          "execution_count": 252
        }
      ]
    },
    {
      "cell_type": "code",
      "metadata": {
        "id": "vrVetfeGgSm7",
        "colab_type": "code",
        "colab": {
          "base_uri": "https://localhost:8080/",
          "height": 204
        },
        "outputId": "5db99735-52f6-4a3c-fd6b-ee2508ac2c01"
      },
      "source": [
        "# Isolate covid_date\n",
        "import time \n",
        "us_date = us_death_rates['date']\n",
        "new_us_dates = [time.strptime(x.replace(\"-\",\" \"), '%Y %m %d')for x in us_date]\n",
        "us_death_rates['date'] = new_us_dates\n",
        "us_death_rates.head()\n"
      ],
      "execution_count": null,
      "outputs": [
        {
          "output_type": "execute_result",
          "data": {
            "text/html": [
              "<div>\n",
              "<style scoped>\n",
              "    .dataframe tbody tr th:only-of-type {\n",
              "        vertical-align: middle;\n",
              "    }\n",
              "\n",
              "    .dataframe tbody tr th {\n",
              "        vertical-align: top;\n",
              "    }\n",
              "\n",
              "    .dataframe thead th {\n",
              "        text-align: right;\n",
              "    }\n",
              "</style>\n",
              "<table border=\"1\" class=\"dataframe\">\n",
              "  <thead>\n",
              "    <tr style=\"text-align: right;\">\n",
              "      <th></th>\n",
              "      <th>location</th>\n",
              "      <th>date</th>\n",
              "      <th>total_cases</th>\n",
              "      <th>total_deaths</th>\n",
              "    </tr>\n",
              "  </thead>\n",
              "  <tbody>\n",
              "    <tr>\n",
              "      <th>32403</th>\n",
              "      <td>United States</td>\n",
              "      <td>(2019, 12, 31, 0, 0, 0, 1, 365, -1)</td>\n",
              "      <td>0.0</td>\n",
              "      <td>0.0</td>\n",
              "    </tr>\n",
              "    <tr>\n",
              "      <th>32404</th>\n",
              "      <td>United States</td>\n",
              "      <td>(2020, 1, 1, 0, 0, 0, 2, 1, -1)</td>\n",
              "      <td>0.0</td>\n",
              "      <td>0.0</td>\n",
              "    </tr>\n",
              "    <tr>\n",
              "      <th>32405</th>\n",
              "      <td>United States</td>\n",
              "      <td>(2020, 1, 2, 0, 0, 0, 3, 2, -1)</td>\n",
              "      <td>0.0</td>\n",
              "      <td>0.0</td>\n",
              "    </tr>\n",
              "    <tr>\n",
              "      <th>32406</th>\n",
              "      <td>United States</td>\n",
              "      <td>(2020, 1, 3, 0, 0, 0, 4, 3, -1)</td>\n",
              "      <td>0.0</td>\n",
              "      <td>0.0</td>\n",
              "    </tr>\n",
              "    <tr>\n",
              "      <th>32407</th>\n",
              "      <td>United States</td>\n",
              "      <td>(2020, 1, 4, 0, 0, 0, 5, 4, -1)</td>\n",
              "      <td>0.0</td>\n",
              "      <td>0.0</td>\n",
              "    </tr>\n",
              "  </tbody>\n",
              "</table>\n",
              "</div>"
            ],
            "text/plain": [
              "            location  ... total_deaths\n",
              "32403  United States  ...          0.0\n",
              "32404  United States  ...          0.0\n",
              "32405  United States  ...          0.0\n",
              "32406  United States  ...          0.0\n",
              "32407  United States  ...          0.0\n",
              "\n",
              "[5 rows x 4 columns]"
            ]
          },
          "metadata": {
            "tags": []
          },
          "execution_count": 253
        }
      ]
    },
    {
      "cell_type": "code",
      "metadata": {
        "id": "IGR0p0YWh9jH",
        "colab_type": "code",
        "colab": {
          "base_uri": "https://localhost:8080/",
          "height": 204
        },
        "outputId": "c7f11af8-47a3-43cb-e9f1-ef60a0cd7f18"
      },
      "source": [
        "# Isolate forex_date\n",
        "import time \n",
        "forex_date = forex_dataset['Date']\n",
        "new_forex_dates = [time.strptime(x.replace(',', \"\"), '%b %d %Y')for x in forex_date]\n",
        "forex_dataset['Date'] = new_forex_dates\n",
        "forex_dataset.tail()\n"
      ],
      "execution_count": null,
      "outputs": [
        {
          "output_type": "execute_result",
          "data": {
            "text/html": [
              "<div>\n",
              "<style scoped>\n",
              "    .dataframe tbody tr th:only-of-type {\n",
              "        vertical-align: middle;\n",
              "    }\n",
              "\n",
              "    .dataframe tbody tr th {\n",
              "        vertical-align: top;\n",
              "    }\n",
              "\n",
              "    .dataframe thead th {\n",
              "        text-align: right;\n",
              "    }\n",
              "</style>\n",
              "<table border=\"1\" class=\"dataframe\">\n",
              "  <thead>\n",
              "    <tr style=\"text-align: right;\">\n",
              "      <th></th>\n",
              "      <th>Date</th>\n",
              "      <th>Price</th>\n",
              "    </tr>\n",
              "  </thead>\n",
              "  <tbody>\n",
              "    <tr>\n",
              "      <th>208</th>\n",
              "      <td>(2020, 1, 4, 0, 0, 0, 5, 4, -1)</td>\n",
              "      <td>1.3169</td>\n",
              "    </tr>\n",
              "    <tr>\n",
              "      <th>209</th>\n",
              "      <td>(2020, 1, 3, 0, 0, 0, 4, 3, -1)</td>\n",
              "      <td>1.3088</td>\n",
              "    </tr>\n",
              "    <tr>\n",
              "      <th>210</th>\n",
              "      <td>(2020, 1, 2, 0, 0, 0, 3, 2, -1)</td>\n",
              "      <td>1.3146</td>\n",
              "    </tr>\n",
              "    <tr>\n",
              "      <th>211</th>\n",
              "      <td>(2020, 1, 1, 0, 0, 0, 2, 1, -1)</td>\n",
              "      <td>1.3255</td>\n",
              "    </tr>\n",
              "    <tr>\n",
              "      <th>212</th>\n",
              "      <td>(2019, 12, 31, 0, 0, 0, 1, 365, -1)</td>\n",
              "      <td>1.3261</td>\n",
              "    </tr>\n",
              "  </tbody>\n",
              "</table>\n",
              "</div>"
            ],
            "text/plain": [
              "                                    Date   Price\n",
              "208      (2020, 1, 4, 0, 0, 0, 5, 4, -1)  1.3169\n",
              "209      (2020, 1, 3, 0, 0, 0, 4, 3, -1)  1.3088\n",
              "210      (2020, 1, 2, 0, 0, 0, 3, 2, -1)  1.3146\n",
              "211      (2020, 1, 1, 0, 0, 0, 2, 1, -1)  1.3255\n",
              "212  (2019, 12, 31, 0, 0, 0, 1, 365, -1)  1.3261"
            ]
          },
          "metadata": {
            "tags": []
          },
          "execution_count": 254
        }
      ]
    },
    {
      "cell_type": "code",
      "metadata": {
        "id": "OiFVDAF0ngrx",
        "colab_type": "code",
        "colab": {
          "base_uri": "https://localhost:8080/",
          "height": 287
        },
        "outputId": "01cac843-aee9-48c2-faa0-0779c3be5087"
      },
      "source": [
        "# Merging dates from two tables\n",
        "dataset = pd.merge(left=forex_dataset, left_on='Date',\n",
        "         right=us_death_rates, right_on='date')\n",
        "dataset.tail()\n",
        "print(dataset)\n",
        "len(dataset)"
      ],
      "execution_count": null,
      "outputs": [
        {
          "output_type": "stream",
          "text": [
            "                                    Date   Price  ... total_cases total_deaths\n",
            "0     (2020, 7, 31, 0, 0, 0, 4, 213, -1)  1.3090  ...   4495014.0     152070.0\n",
            "1     (2020, 7, 30, 0, 0, 0, 3, 212, -1)  1.3095  ...   4426982.0     150713.0\n",
            "2     (2020, 7, 29, 0, 0, 0, 2, 211, -1)  1.2996  ...   4351997.0     149256.0\n",
            "3     (2020, 7, 28, 0, 0, 0, 1, 210, -1)  1.2932  ...   4290263.0     148011.0\n",
            "4     (2020, 7, 27, 0, 0, 0, 0, 209, -1)  1.2882  ...   4234020.0     146935.0\n",
            "..                                   ...     ...  ...         ...          ...\n",
            "208      (2020, 1, 4, 0, 0, 0, 5, 4, -1)  1.3169  ...         0.0          0.0\n",
            "209      (2020, 1, 3, 0, 0, 0, 4, 3, -1)  1.3088  ...         0.0          0.0\n",
            "210      (2020, 1, 2, 0, 0, 0, 3, 2, -1)  1.3146  ...         0.0          0.0\n",
            "211      (2020, 1, 1, 0, 0, 0, 2, 1, -1)  1.3255  ...         0.0          0.0\n",
            "212  (2019, 12, 31, 0, 0, 0, 1, 365, -1)  1.3261  ...         0.0          0.0\n",
            "\n",
            "[213 rows x 6 columns]\n"
          ],
          "name": "stdout"
        },
        {
          "output_type": "execute_result",
          "data": {
            "text/plain": [
              "213"
            ]
          },
          "metadata": {
            "tags": []
          },
          "execution_count": 255
        }
      ]
    },
    {
      "cell_type": "code",
      "metadata": {
        "id": "a9A_G1s9ETvi",
        "colab_type": "code",
        "colab": {
          "base_uri": "https://localhost:8080/",
          "height": 233
        },
        "outputId": "a64f199e-c27a-45d5-9ac4-8b0445b468a6"
      },
      "source": [
        "# We pop the 'date' from the covid_dataset because this column starts later than the forex column\n",
        "# We want to see the forex price before covid happened\n",
        "dataset.pop('date')"
      ],
      "execution_count": null,
      "outputs": [
        {
          "output_type": "execute_result",
          "data": {
            "text/plain": [
              "0       (2020, 7, 31, 0, 0, 0, 4, 213, -1)\n",
              "1       (2020, 7, 30, 0, 0, 0, 3, 212, -1)\n",
              "2       (2020, 7, 29, 0, 0, 0, 2, 211, -1)\n",
              "3       (2020, 7, 28, 0, 0, 0, 1, 210, -1)\n",
              "4       (2020, 7, 27, 0, 0, 0, 0, 209, -1)\n",
              "                      ...                 \n",
              "208        (2020, 1, 4, 0, 0, 0, 5, 4, -1)\n",
              "209        (2020, 1, 3, 0, 0, 0, 4, 3, -1)\n",
              "210        (2020, 1, 2, 0, 0, 0, 3, 2, -1)\n",
              "211        (2020, 1, 1, 0, 0, 0, 2, 1, -1)\n",
              "212    (2019, 12, 31, 0, 0, 0, 1, 365, -1)\n",
              "Name: date, Length: 213, dtype: object"
            ]
          },
          "metadata": {
            "tags": []
          },
          "execution_count": 256
        }
      ]
    },
    {
      "cell_type": "code",
      "metadata": {
        "id": "Rz0-4V24EY65",
        "colab_type": "code",
        "colab": {
          "base_uri": "https://localhost:8080/",
          "height": 204
        },
        "outputId": "5bf6af18-bae7-44e9-80b5-03775589ff17"
      },
      "source": [
        "dataset.head()"
      ],
      "execution_count": null,
      "outputs": [
        {
          "output_type": "execute_result",
          "data": {
            "text/html": [
              "<div>\n",
              "<style scoped>\n",
              "    .dataframe tbody tr th:only-of-type {\n",
              "        vertical-align: middle;\n",
              "    }\n",
              "\n",
              "    .dataframe tbody tr th {\n",
              "        vertical-align: top;\n",
              "    }\n",
              "\n",
              "    .dataframe thead th {\n",
              "        text-align: right;\n",
              "    }\n",
              "</style>\n",
              "<table border=\"1\" class=\"dataframe\">\n",
              "  <thead>\n",
              "    <tr style=\"text-align: right;\">\n",
              "      <th></th>\n",
              "      <th>Date</th>\n",
              "      <th>Price</th>\n",
              "      <th>location</th>\n",
              "      <th>total_cases</th>\n",
              "      <th>total_deaths</th>\n",
              "    </tr>\n",
              "  </thead>\n",
              "  <tbody>\n",
              "    <tr>\n",
              "      <th>0</th>\n",
              "      <td>(2020, 7, 31, 0, 0, 0, 4, 213, -1)</td>\n",
              "      <td>1.3090</td>\n",
              "      <td>United States</td>\n",
              "      <td>4495014.0</td>\n",
              "      <td>152070.0</td>\n",
              "    </tr>\n",
              "    <tr>\n",
              "      <th>1</th>\n",
              "      <td>(2020, 7, 30, 0, 0, 0, 3, 212, -1)</td>\n",
              "      <td>1.3095</td>\n",
              "      <td>United States</td>\n",
              "      <td>4426982.0</td>\n",
              "      <td>150713.0</td>\n",
              "    </tr>\n",
              "    <tr>\n",
              "      <th>2</th>\n",
              "      <td>(2020, 7, 29, 0, 0, 0, 2, 211, -1)</td>\n",
              "      <td>1.2996</td>\n",
              "      <td>United States</td>\n",
              "      <td>4351997.0</td>\n",
              "      <td>149256.0</td>\n",
              "    </tr>\n",
              "    <tr>\n",
              "      <th>3</th>\n",
              "      <td>(2020, 7, 28, 0, 0, 0, 1, 210, -1)</td>\n",
              "      <td>1.2932</td>\n",
              "      <td>United States</td>\n",
              "      <td>4290263.0</td>\n",
              "      <td>148011.0</td>\n",
              "    </tr>\n",
              "    <tr>\n",
              "      <th>4</th>\n",
              "      <td>(2020, 7, 27, 0, 0, 0, 0, 209, -1)</td>\n",
              "      <td>1.2882</td>\n",
              "      <td>United States</td>\n",
              "      <td>4234020.0</td>\n",
              "      <td>146935.0</td>\n",
              "    </tr>\n",
              "  </tbody>\n",
              "</table>\n",
              "</div>"
            ],
            "text/plain": [
              "                                 Date   Price  ... total_cases  total_deaths\n",
              "0  (2020, 7, 31, 0, 0, 0, 4, 213, -1)  1.3090  ...   4495014.0      152070.0\n",
              "1  (2020, 7, 30, 0, 0, 0, 3, 212, -1)  1.3095  ...   4426982.0      150713.0\n",
              "2  (2020, 7, 29, 0, 0, 0, 2, 211, -1)  1.2996  ...   4351997.0      149256.0\n",
              "3  (2020, 7, 28, 0, 0, 0, 1, 210, -1)  1.2932  ...   4290263.0      148011.0\n",
              "4  (2020, 7, 27, 0, 0, 0, 0, 209, -1)  1.2882  ...   4234020.0      146935.0\n",
              "\n",
              "[5 rows x 5 columns]"
            ]
          },
          "metadata": {
            "tags": []
          },
          "execution_count": 257
        }
      ]
    },
    {
      "cell_type": "markdown",
      "metadata": {
        "id": "wvb8c8CBIOqM",
        "colab_type": "text"
      },
      "source": [
        "# Plotting Features before Normalisation"
      ]
    },
    {
      "cell_type": "markdown",
      "metadata": {
        "id": "sUHm8QrsbzcG",
        "colab_type": "text"
      },
      "source": [
        "## Organising date for plotting"
      ]
    },
    {
      "cell_type": "code",
      "metadata": {
        "id": "I9kHcA_4tAqL",
        "colab_type": "code",
        "colab": {
          "base_uri": "https://localhost:8080/",
          "height": 269
        },
        "outputId": "b3b46085-0506-4337-ac2a-40e6eda43460"
      },
      "source": [
        "# View what date looks like\n",
        "# Splitting timestamp and isolating the date\n",
        "date = dataset['Date']\n",
        "dateFormatting = pd.DataFrame({'new_date': pd.date_range('2019-12-31', '2020-07-31', periods=len(date))})\n",
        "print(dateFormatting)"
      ],
      "execution_count": null,
      "outputs": [
        {
          "output_type": "stream",
          "text": [
            "                         new_date\n",
            "0   2019-12-31 00:00:00.000000000\n",
            "1   2020-01-01 00:06:47.547169811\n",
            "2   2020-01-02 00:13:35.094339622\n",
            "3   2020-01-03 00:20:22.641509434\n",
            "4   2020-01-04 00:27:10.188679245\n",
            "..                            ...\n",
            "208 2020-07-26 23:32:49.811320756\n",
            "209 2020-07-27 23:39:37.358490568\n",
            "210 2020-07-28 23:46:24.905660380\n",
            "211 2020-07-29 23:53:12.452830192\n",
            "212 2020-07-31 00:00:00.000000000\n",
            "\n",
            "[213 rows x 1 columns]\n"
          ],
          "name": "stdout"
        }
      ]
    },
    {
      "cell_type": "code",
      "metadata": {
        "id": "Tav3LALn4KN2",
        "colab_type": "code",
        "colab": {
          "base_uri": "https://localhost:8080/",
          "height": 55
        },
        "outputId": "8f8c380b-f099-466b-b614-139de57936ef"
      },
      "source": [
        "# Convert date to list so that we can use the dates to plot on graph\n",
        "my_xticks = dateFormatting['new_date'].tolist()\n",
        "print(my_xticks)"
      ],
      "execution_count": null,
      "outputs": [
        {
          "output_type": "stream",
          "text": [
            "[Timestamp('2019-12-31 00:00:00'), Timestamp('2020-01-01 00:06:47.547169811'), Timestamp('2020-01-02 00:13:35.094339622'), Timestamp('2020-01-03 00:20:22.641509434'), Timestamp('2020-01-04 00:27:10.188679245'), Timestamp('2020-01-05 00:33:57.735849056'), Timestamp('2020-01-06 00:40:45.283018868'), Timestamp('2020-01-07 00:47:32.830188679'), Timestamp('2020-01-08 00:54:20.377358490'), Timestamp('2020-01-09 01:01:07.924528302'), Timestamp('2020-01-10 01:07:55.471698113'), Timestamp('2020-01-11 01:14:43.018867924'), Timestamp('2020-01-12 01:21:30.566037736'), Timestamp('2020-01-13 01:28:18.113207547'), Timestamp('2020-01-14 01:35:05.660377358'), Timestamp('2020-01-15 01:41:53.207547170'), Timestamp('2020-01-16 01:48:40.754716981'), Timestamp('2020-01-17 01:55:28.301886792'), Timestamp('2020-01-18 02:02:15.849056604'), Timestamp('2020-01-19 02:09:03.396226415'), Timestamp('2020-01-20 02:15:50.943396226'), Timestamp('2020-01-21 02:22:38.490566038'), Timestamp('2020-01-22 02:29:26.037735849'), Timestamp('2020-01-23 02:36:13.584905660'), Timestamp('2020-01-24 02:43:01.132075472'), Timestamp('2020-01-25 02:49:48.679245283'), Timestamp('2020-01-26 02:56:36.226415094'), Timestamp('2020-01-27 03:03:23.773584906'), Timestamp('2020-01-28 03:10:11.320754717'), Timestamp('2020-01-29 03:16:58.867924528'), Timestamp('2020-01-30 03:23:46.415094340'), Timestamp('2020-01-31 03:30:33.962264151'), Timestamp('2020-02-01 03:37:21.509433962'), Timestamp('2020-02-02 03:44:09.056603774'), Timestamp('2020-02-03 03:50:56.603773585'), Timestamp('2020-02-04 03:57:44.150943396'), Timestamp('2020-02-05 04:04:31.698113208'), Timestamp('2020-02-06 04:11:19.245283019'), Timestamp('2020-02-07 04:18:06.792452830'), Timestamp('2020-02-08 04:24:54.339622642'), Timestamp('2020-02-09 04:31:41.886792453'), Timestamp('2020-02-10 04:38:29.433962264'), Timestamp('2020-02-11 04:45:16.981132076'), Timestamp('2020-02-12 04:52:04.528301887'), Timestamp('2020-02-13 04:58:52.075471698'), Timestamp('2020-02-14 05:05:39.622641510'), Timestamp('2020-02-15 05:12:27.169811321'), Timestamp('2020-02-16 05:19:14.716981132'), Timestamp('2020-02-17 05:26:02.264150944'), Timestamp('2020-02-18 05:32:49.811320755'), Timestamp('2020-02-19 05:39:37.358490566'), Timestamp('2020-02-20 05:46:24.905660377'), Timestamp('2020-02-21 05:53:12.452830189'), Timestamp('2020-02-22 06:00:00'), Timestamp('2020-02-23 06:06:47.547169812'), Timestamp('2020-02-24 06:13:35.094339623'), Timestamp('2020-02-25 06:20:22.641509434'), Timestamp('2020-02-26 06:27:10.188679246'), Timestamp('2020-02-27 06:33:57.735849057'), Timestamp('2020-02-28 06:40:45.283018868'), Timestamp('2020-02-29 06:47:32.830188680'), Timestamp('2020-03-01 06:54:20.377358491'), Timestamp('2020-03-02 07:01:07.924528302'), Timestamp('2020-03-03 07:07:55.471698114'), Timestamp('2020-03-04 07:14:43.018867925'), Timestamp('2020-03-05 07:21:30.566037736'), Timestamp('2020-03-06 07:28:18.113207548'), Timestamp('2020-03-07 07:35:05.660377359'), Timestamp('2020-03-08 07:41:53.207547170'), Timestamp('2020-03-09 07:48:40.754716982'), Timestamp('2020-03-10 07:55:28.301886793'), Timestamp('2020-03-11 08:02:15.849056604'), Timestamp('2020-03-12 08:09:03.396226416'), Timestamp('2020-03-13 08:15:50.943396227'), Timestamp('2020-03-14 08:22:38.490566038'), Timestamp('2020-03-15 08:29:26.037735850'), Timestamp('2020-03-16 08:36:13.584905661'), Timestamp('2020-03-17 08:43:01.132075472'), Timestamp('2020-03-18 08:49:48.679245284'), Timestamp('2020-03-19 08:56:36.226415095'), Timestamp('2020-03-20 09:03:23.773584906'), Timestamp('2020-03-21 09:10:11.320754718'), Timestamp('2020-03-22 09:16:58.867924529'), Timestamp('2020-03-23 09:23:46.415094340'), Timestamp('2020-03-24 09:30:33.962264152'), Timestamp('2020-03-25 09:37:21.509433963'), Timestamp('2020-03-26 09:44:09.056603774'), Timestamp('2020-03-27 09:50:56.603773586'), Timestamp('2020-03-28 09:57:44.150943397'), Timestamp('2020-03-29 10:04:31.698113208'), Timestamp('2020-03-30 10:11:19.245283020'), Timestamp('2020-03-31 10:18:06.792452831'), Timestamp('2020-04-01 10:24:54.339622642'), Timestamp('2020-04-02 10:31:41.886792454'), Timestamp('2020-04-03 10:38:29.433962265'), Timestamp('2020-04-04 10:45:16.981132076'), Timestamp('2020-04-05 10:52:04.528301888'), Timestamp('2020-04-06 10:58:52.075471699'), Timestamp('2020-04-07 11:05:39.622641510'), Timestamp('2020-04-08 11:12:27.169811321'), Timestamp('2020-04-09 11:19:14.716981133'), Timestamp('2020-04-10 11:26:02.264150944'), Timestamp('2020-04-11 11:32:49.811320755'), Timestamp('2020-04-12 11:39:37.358490567'), Timestamp('2020-04-13 11:46:24.905660378'), Timestamp('2020-04-14 11:53:12.452830190'), Timestamp('2020-04-15 12:00:00'), Timestamp('2020-04-16 12:06:47.547169812'), Timestamp('2020-04-17 12:13:35.094339624'), Timestamp('2020-04-18 12:20:22.641509434'), Timestamp('2020-04-19 12:27:10.188679246'), Timestamp('2020-04-20 12:33:57.735849058'), Timestamp('2020-04-21 12:40:45.283018868'), Timestamp('2020-04-22 12:47:32.830188680'), Timestamp('2020-04-23 12:54:20.377358492'), Timestamp('2020-04-24 13:01:07.924528302'), Timestamp('2020-04-25 13:07:55.471698114'), Timestamp('2020-04-26 13:14:43.018867926'), Timestamp('2020-04-27 13:21:30.566037736'), Timestamp('2020-04-28 13:28:18.113207548'), Timestamp('2020-04-29 13:35:05.660377360'), Timestamp('2020-04-30 13:41:53.207547170'), Timestamp('2020-05-01 13:48:40.754716982'), Timestamp('2020-05-02 13:55:28.301886794'), Timestamp('2020-05-03 14:02:15.849056604'), Timestamp('2020-05-04 14:09:03.396226416'), Timestamp('2020-05-05 14:15:50.943396228'), Timestamp('2020-05-06 14:22:38.490566038'), Timestamp('2020-05-07 14:29:26.037735850'), Timestamp('2020-05-08 14:36:13.584905662'), Timestamp('2020-05-09 14:43:01.132075472'), Timestamp('2020-05-10 14:49:48.679245284'), Timestamp('2020-05-11 14:56:36.226415096'), Timestamp('2020-05-12 15:03:23.773584906'), Timestamp('2020-05-13 15:10:11.320754718'), Timestamp('2020-05-14 15:16:58.867924530'), Timestamp('2020-05-15 15:23:46.415094340'), Timestamp('2020-05-16 15:30:33.962264152'), Timestamp('2020-05-17 15:37:21.509433964'), Timestamp('2020-05-18 15:44:09.056603774'), Timestamp('2020-05-19 15:50:56.603773586'), Timestamp('2020-05-20 15:57:44.150943398'), Timestamp('2020-05-21 16:04:31.698113208'), Timestamp('2020-05-22 16:11:19.245283020'), Timestamp('2020-05-23 16:18:06.792452832'), Timestamp('2020-05-24 16:24:54.339622642'), Timestamp('2020-05-25 16:31:41.886792454'), Timestamp('2020-05-26 16:38:29.433962266'), Timestamp('2020-05-27 16:45:16.981132076'), Timestamp('2020-05-28 16:52:04.528301888'), Timestamp('2020-05-29 16:58:52.075471700'), Timestamp('2020-05-30 17:05:39.622641510'), Timestamp('2020-05-31 17:12:27.169811322'), Timestamp('2020-06-01 17:19:14.716981134'), Timestamp('2020-06-02 17:26:02.264150944'), Timestamp('2020-06-03 17:32:49.811320756'), Timestamp('2020-06-04 17:39:37.358490568'), Timestamp('2020-06-05 17:46:24.905660378'), Timestamp('2020-06-06 17:53:12.452830190'), Timestamp('2020-06-07 18:00:00.000000002'), Timestamp('2020-06-08 18:06:47.547169812'), Timestamp('2020-06-09 18:13:35.094339624'), Timestamp('2020-06-10 18:20:22.641509436'), Timestamp('2020-06-11 18:27:10.188679246'), Timestamp('2020-06-12 18:33:57.735849058'), Timestamp('2020-06-13 18:40:45.283018870'), Timestamp('2020-06-14 18:47:32.830188680'), Timestamp('2020-06-15 18:54:20.377358492'), Timestamp('2020-06-16 19:01:07.924528304'), Timestamp('2020-06-17 19:07:55.471698114'), Timestamp('2020-06-18 19:14:43.018867926'), Timestamp('2020-06-19 19:21:30.566037738'), Timestamp('2020-06-20 19:28:18.113207548'), Timestamp('2020-06-21 19:35:05.660377360'), Timestamp('2020-06-22 19:41:53.207547172'), Timestamp('2020-06-23 19:48:40.754716982'), Timestamp('2020-06-24 19:55:28.301886794'), Timestamp('2020-06-25 20:02:15.849056606'), Timestamp('2020-06-26 20:09:03.396226416'), Timestamp('2020-06-27 20:15:50.943396228'), Timestamp('2020-06-28 20:22:38.490566040'), Timestamp('2020-06-29 20:29:26.037735850'), Timestamp('2020-06-30 20:36:13.584905662'), Timestamp('2020-07-01 20:43:01.132075474'), Timestamp('2020-07-02 20:49:48.679245284'), Timestamp('2020-07-03 20:56:36.226415096'), Timestamp('2020-07-04 21:03:23.773584908'), Timestamp('2020-07-05 21:10:11.320754718'), Timestamp('2020-07-06 21:16:58.867924530'), Timestamp('2020-07-07 21:23:46.415094342'), Timestamp('2020-07-08 21:30:33.962264152'), Timestamp('2020-07-09 21:37:21.509433964'), Timestamp('2020-07-10 21:44:09.056603776'), Timestamp('2020-07-11 21:50:56.603773586'), Timestamp('2020-07-12 21:57:44.150943398'), Timestamp('2020-07-13 22:04:31.698113208'), Timestamp('2020-07-14 22:11:19.245283020'), Timestamp('2020-07-15 22:18:06.792452832'), Timestamp('2020-07-16 22:24:54.339622642'), Timestamp('2020-07-17 22:31:41.886792454'), Timestamp('2020-07-18 22:38:29.433962266'), Timestamp('2020-07-19 22:45:16.981132076'), Timestamp('2020-07-20 22:52:04.528301888'), Timestamp('2020-07-21 22:58:52.075471700'), Timestamp('2020-07-22 23:05:39.622641510'), Timestamp('2020-07-23 23:12:27.169811322'), Timestamp('2020-07-24 23:19:14.716981134'), Timestamp('2020-07-25 23:26:02.264150944'), Timestamp('2020-07-26 23:32:49.811320756'), Timestamp('2020-07-27 23:39:37.358490568'), Timestamp('2020-07-28 23:46:24.905660380'), Timestamp('2020-07-29 23:53:12.452830192'), Timestamp('2020-07-31 00:00:00')]\n"
          ],
          "name": "stdout"
        }
      ]
    },
    {
      "cell_type": "markdown",
      "metadata": {
        "id": "jSj8rJl-b-N4",
        "colab_type": "text"
      },
      "source": [
        "## Plotting Forex Spot Price"
      ]
    },
    {
      "cell_type": "code",
      "metadata": {
        "id": "eDGMN3GG6wOL",
        "colab_type": "code",
        "colab": {
          "base_uri": "https://localhost:8080/",
          "height": 398
        },
        "outputId": "e5884cec-7732-447a-c1f3-8e930fec2a45"
      },
      "source": [
        "# Plotted prices and dates\n",
        "# Notice how the dates start and end\n",
        "\n",
        "rcParams['figure.figsize'] = 15,6\n",
        "dates = np.array(dateFormatting['new_date'])\n",
        "price = np.array(dataset['Price'])\n",
        "plt.plot_date(dates,price, linestyle ='solid')\n",
        "plt.gcf().autofmt_xdate()\n",
        "date_format = mpl_dates.DateFormatter('%b,%d,%Y')\n",
        "plt.title('Time Series Price of USD compare to GBP')\n",
        "plt.xlabel('Date')\n",
        "plt.ylabel('Price')\n",
        "plt.gca().xaxis.set_major_formatter(date_format)"
      ],
      "execution_count": null,
      "outputs": [
        {
          "output_type": "display_data",
          "data": {
            "image/png": "[encoded data removed]",
            "text/plain": [
              "<Figure size 1080x432 with 1 Axes>"
            ]
          },
          "metadata": {
            "tags": []
          }
        }
      ]
    },
    {
      "cell_type": "markdown",
      "metadata": {
        "id": "eLq3ETL8cKut",
        "colab_type": "text"
      },
      "source": [
        "## Plotting Accumulative Covid Deaths"
      ]
    },
    {
      "cell_type": "code",
      "metadata": {
        "id": "T30FJ5ONMRsa",
        "colab_type": "code",
        "colab": {}
      },
      "source": [
        "# Adds the accumulative deaths every day of a country\n",
        "# Problem – This needs to be sorted from the end since the way out data is set up - can this be made more efficient?\n",
        "total_us_deaths = dataset['total_deaths']\n",
        "list_arr = np.array(total_us_deaths)\n",
        "reversed_arr = list_arr[::-1]\n",
        "newDayDeaths = 0\n",
        "dayDeaths = []\n",
        "for currentday in reversed_arr:\n",
        "   newDayDeaths = currentday + newDayDeaths\n",
        "   dayDeaths.append(newDayDeaths)\n"
      ],
      "execution_count": null,
      "outputs": []
    },
    {
      "cell_type": "code",
      "metadata": {
        "id": "oivvoebSMpRV",
        "colab_type": "code",
        "colab": {
          "base_uri": "https://localhost:8080/",
          "height": 398
        },
        "outputId": "76c9d7a0-e53f-4d40-d8c8-ac42da4e3c42"
      },
      "source": [
        "# Plots the accumulative daily death rates of a country\n",
        "dates = np.array(dateFormatting['new_date'])\n",
        "us_deaths = np.array(dayDeaths)\n",
        "plt.plot_date(dates, us_deaths, linestyle ='solid')\n",
        "plt.gcf().autofmt_xdate()\n",
        "date_format = mpl_dates.DateFormatter('%b,%d,%Y')\n",
        "plt.title('Time Series of Total Deaths of US')\n",
        "plt.xlabel('Date')\n",
        "plt.ylabel('Total Deaths')\n",
        "plt.gca().xaxis.set_major_formatter(date_format)\n",
        "\n"
      ],
      "execution_count": null,
      "outputs": [
        {
          "output_type": "display_data",
          "data": {
            "image/png": "[encoded data removed]",
            "text/plain": [
              "<Figure size 1080x432 with 1 Axes>"
            ]
          },
          "metadata": {
            "tags": []
          }
        }
      ]
    },
    {
      "cell_type": "markdown",
      "metadata": {
        "id": "oVbZeRPucT7P",
        "colab_type": "text"
      },
      "source": [
        "## Plotting Accumulative Positive Cases"
      ]
    },
    {
      "cell_type": "code",
      "metadata": {
        "id": "QyFwYb-WyPHq",
        "colab_type": "code",
        "colab": {}
      },
      "source": [
        "# Adds accumulative positive cases everyday\n",
        "total_us_cases = dataset['total_cases']\n",
        "list_arr = np.array(total_us_cases)\n",
        "reversed_arr = list_arr[::-1]\n",
        "newDayCases = 0\n",
        "dayCases = []\n",
        "for currentday in reversed_arr:\n",
        "   newDayCases = currentday + newDayCases\n",
        "   dayCases.append(newDayCases)"
      ],
      "execution_count": null,
      "outputs": []
    },
    {
      "cell_type": "code",
      "metadata": {
        "id": "niRyurkWykGi",
        "colab_type": "code",
        "colab": {
          "base_uri": "https://localhost:8080/",
          "height": 398
        },
        "outputId": "e41237d1-2f6d-4ea7-a3e7-30afbf554393"
      },
      "source": [
        "# Plots the accumulative daily death rates of a country\n",
        "dates = np.array(dateFormatting['new_date'])\n",
        "us_cases = np.array(dayCases)\n",
        "plt.plot_date(dates, us_cases, linestyle ='solid')\n",
        "plt.gcf().autofmt_xdate()\n",
        "date_format = mpl_dates.DateFormatter('%b,%d,%Y')\n",
        "plt.title('Time Series of Total Deaths of US')\n",
        "plt.xlabel('Date')\n",
        "plt.ylabel('Total Deaths')\n",
        "plt.gca().xaxis.set_major_formatter(date_format)"
      ],
      "execution_count": null,
      "outputs": [
        {
          "output_type": "display_data",
          "data": {
            "image/png": "[encoded data removed]",
            "text/plain": [
              "<Figure size 1080x432 with 1 Axes>"
            ]
          },
          "metadata": {
            "tags": []
          }
        }
      ]
    },
    {
      "cell_type": "markdown",
      "metadata": {
        "id": "SWTJypnsv5R3",
        "colab_type": "text"
      },
      "source": [
        ""
      ]
    },
    {
      "cell_type": "markdown",
      "metadata": {
        "id": "kkWFQ8HeIerS",
        "colab_type": "text"
      },
      "source": [
        "# Plotting Features after Normalisation"
      ]
    },
    {
      "cell_type": "code",
      "metadata": {
        "id": "v6NykB3TSJxe",
        "colab_type": "code",
        "colab": {}
      },
      "source": [
        "price_frame = pd.DataFrame(np.concatenate([price]), columns= [\"Price\"])\n",
        "death_frame = pd.DataFrame(np.concatenate([dayDeaths]), columns= [\"Total_Deaths_US\"])\n",
        "cases_frame = pd.DataFrame(np.concatenate([dayCases]), columns= [\"Total_Cases_US\"])\n",
        "# price_frame.append(death_frame)"
      ],
      "execution_count": null,
      "outputs": []
    },
    {
      "cell_type": "code",
      "metadata": {
        "id": "GUr5EmIHITzq",
        "colab_type": "code",
        "colab": {}
      },
      "source": [
        "from sklearn.preprocessing import MinMaxScaler\n",
        "scaler = MinMaxScaler(feature_range=(0,1))\n",
        "normalisation_us_deaths = scaler.fit_transform(death_frame).reshape(-1,1)\n",
        "normalisation_price = scaler.fit_transform(price_frame).reshape(-1,1)\n",
        "normalisation_us_cases = scaler.fit_transform(cases_frame).reshape(-1,1)\n",
        "# 8 decimal: readable formate:\n",
        "# val = [print(\"{:.8f}\".format(float(x)))for x in normalisation_us_deaths]"
      ],
      "execution_count": null,
      "outputs": []
    },
    {
      "cell_type": "code",
      "metadata": {
        "id": "jG6Frxvpw_YL",
        "colab_type": "code",
        "colab": {
          "base_uri": "https://localhost:8080/",
          "height": 403
        },
        "outputId": "1e5cc16c-d36c-4195-f280-16ae6ea45173"
      },
      "source": [
        "plt.plot(normalisation_us_deaths,label=\"USA Covid Death Rates\")\n",
        "plt.plot(normalisation_price, label=\"Price of Dollar\")\n",
        "plt.plot(normalisation_us_cases, label=\"USA Positive Cases\")\n",
        "\n",
        "# dates\n",
        "# dates = np.array(dateFormatting['new_date'])\n",
        "# plt.plot_date(dates, linestyle ='solid')\n",
        "# plt.gcf().autofmt_xdate()\n",
        "# date_format = mpl_dates.DateFormatter('%b,%d,%Y')\n",
        "# plt.gca().xaxis.set_major_formatter(date_format)\n",
        "\n",
        "plt.title('Time Series of Total Deaths of US & USD/GBP')\n",
        "plt.ylabel('Normalisation between 0 and 1')\n",
        "plt.xlabel('Date')\n",
        "plt.legend() \n",
        "plt.show()\n"
      ],
      "execution_count": null,
      "outputs": [
        {
          "output_type": "display_data",
          "data": {
            "image/png": "[encoded data removed]",
            "text/plain": [
              "<Figure size 1080x432 with 1 Axes>"
            ]
          },
          "metadata": {
            "tags": []
          }
        }
      ]
    },
    {
      "cell_type": "markdown",
      "metadata": {
        "id": "FrNnj6gGIkmf",
        "colab_type": "text"
      },
      "source": [
        "# Splitting Data into Train, Validation & Test\n"
      ]
    },
    {
      "cell_type": "code",
      "metadata": {
        "id": "yJTAF3KWyKwR",
        "colab_type": "code",
        "colab": {}
      },
      "source": [
        "# Creating normalised dataset\n",
        "# Positive Cases | Death Rates | Price of dollar\n",
        "new_dataset = np.hstack((normalisation_us_cases, normalisation_us_deaths, normalisation_price))"
      ],
      "execution_count": null,
      "outputs": []
    },
    {
      "cell_type": "code",
      "metadata": {
        "id": "Sx35yrWb1MIz",
        "colab_type": "code",
        "colab": {
          "base_uri": "https://localhost:8080/",
          "height": 71
        },
        "outputId": "8b455b9c-5e15-4ab6-9683-0b9b85e0050d"
      },
      "source": [
        "# Test, Validation, Train \n",
        "# This should be ordered in respect to date – not cross validation or random seed\n",
        "# We are going to divide our data based on date because the next data is always dependent on the previous data\n",
        "# 65% of the total length of my datadrame\n",
        "# 35% validation/test size/ \n",
        "training_size = int(len(new_dataset)*0.80)\n",
        "test_size = (len(new_dataset)-training_size)//2 # // Rounds down\n",
        "train_data, valset_data, test_data = new_dataset[0:training_size], new_dataset[training_size:(training_size + test_size)],new_dataset[(training_size + test_size):]\n",
        "print(train_data.shape)\n",
        "print(valset_data.shape)\n",
        "print(test_data.shape)"
      ],
      "execution_count": null,
      "outputs": [
        {
          "output_type": "stream",
          "text": [
            "(170, 3)\n",
            "(21, 3)\n",
            "(22, 3)\n"
          ],
          "name": "stdout"
        }
      ]
    },
    {
      "cell_type": "code",
      "metadata": {
        "id": "P1CkWzUfVwxO",
        "colab_type": "code",
        "colab": {
          "base_uri": "https://localhost:8080/",
          "height": 89
        },
        "outputId": "488c9fea-156b-4d51-ad84-ca690fa16ebb"
      },
      "source": [
        "# Looking at first 4 days i.e. index 4 does not count\n",
        "print(valset_data[:4])"
      ],
      "execution_count": null,
      "outputs": [
        {
          "output_type": "stream",
          "text": [
            "[[0.42888805 0.50305516 0.82638106]\n",
            " [0.43824254 0.51356645 0.80496054]\n",
            " [0.44774091 0.52413131 0.80496054]\n",
            " [0.45734791 0.53471876 0.80496054]]\n"
          ],
          "name": "stdout"
        }
      ]
    },
    {
      "cell_type": "code",
      "metadata": {
        "id": "ldKERrxeA1sD",
        "colab_type": "code",
        "colab": {
          "base_uri": "https://localhost:8080/",
          "height": 53
        },
        "outputId": "68f2cf9f-7f72-4a94-f22c-47f3ff4c09ec"
      },
      "source": [
        "print(training_size, test_size)\n",
        "# why are these different?\n",
        "print(len(train_data), len(test_data))"
      ],
      "execution_count": null,
      "outputs": [
        {
          "output_type": "stream",
          "text": [
            "170 21\n",
            "170 22\n"
          ],
          "name": "stdout"
        }
      ]
    },
    {
      "cell_type": "markdown",
      "metadata": {
        "id": "MYg8cy2X5opG",
        "colab_type": "text"
      },
      "source": [
        "# X_train, Y_train, X_test, Y_test"
      ]
    },
    {
      "cell_type": "code",
      "metadata": {
        "id": "7lcOjmoBARZm",
        "colab_type": "code",
        "colab": {}
      },
      "source": [
        "# Convert an array of values into a dataset matrix\n",
        "# time_step = how many previous days you have to consider before making a prediction. = 1 passing by ref\n",
        "def create_dataset(dataset, time_step=1):\n",
        "  dataX, dataY = [],[]\n",
        "  # len(dataset) = 154 - 7 = 147 -1 (guarentees 8th datapoint)\n",
        "  # for i(starting point of dataset), i in range 146\n",
        "  for i in range(len(dataset)-time_step-1):\n",
        "    a = dataset[i:(i+time_step)]  # from i: until i + 7\n",
        "    dataX.append(a) # then attach it to dataX\n",
        "    y = dataset[i + time_step][2]  # attach the feature index 2 which is forex of 3 data predictions to y\n",
        "    dataY.append(y)\n",
        "  return np.array(dataX), np.array(dataY)\n"
      ],
      "execution_count": null,
      "outputs": []
    },
    {
      "cell_type": "code",
      "metadata": {
        "id": "Xjbnyit_VZur",
        "colab_type": "code",
        "colab": {}
      },
      "source": [
        "# Weekly_timestep means taking in 7 days of features at a time \n",
        "weekly_timestep = 7\n",
        "X_train, Y_train = create_dataset(train_data, weekly_timestep)\n",
        "X_val, Y_val = create_dataset(valset_data, weekly_timestep)\n",
        "X_test, Y_test = create_dataset(test_data, weekly_timestep)\n",
        "\n"
      ],
      "execution_count": null,
      "outputs": []
    },
    {
      "cell_type": "code",
      "metadata": {
        "id": "Bii3I74VfqRM",
        "colab_type": "code",
        "colab": {
          "base_uri": "https://localhost:8080/",
          "height": 71
        },
        "outputId": "1eda5093-870f-45c7-c42c-9bfbc641dfed"
      },
      "source": [
        "print(X_test.shape), print(Y_test.shape)\n",
        "# Finished preprocessing the data"
      ],
      "execution_count": null,
      "outputs": [
        {
          "output_type": "stream",
          "text": [
            "(14, 7, 3)\n",
            "(14,)\n"
          ],
          "name": "stdout"
        },
        {
          "output_type": "execute_result",
          "data": {
            "text/plain": [
              "(None, None)"
            ]
          },
          "metadata": {
            "tags": []
          },
          "execution_count": 274
        }
      ]
    },
    {
      "cell_type": "markdown",
      "metadata": {
        "id": "rQxS8R3VI2bP",
        "colab_type": "text"
      },
      "source": [
        "# Stacked LSTM Model"
      ]
    },
    {
      "cell_type": "code",
      "metadata": {
        "id": "fuLjcvVwM7Sc",
        "colab_type": "code",
        "colab": {}
      },
      "source": [
        "# Create the stacked LSTM model\n",
        "\n",
        "def lstm_model(lr_rate, hidden_layer, optimizer_one):\n",
        "  # we want input_tensor to be a single data point\n",
        "  model = Sequential()\n",
        "  opt = None\n",
        "  if optimizer_one == 'adam':\n",
        "   opt = keras.optimizers.Adam(learning_rate=lr_rate)\n",
        "  elif optimizer_one == 'sgd':\n",
        "   opt = keras.optimizers.SGD(learning_rate=lr_rate)\n",
        "  else:\n",
        "   opt = keras.optimizers.Adamax(learning_rate=lr_rate)\n",
        "  model.add(InputLayer(input_shape=(7,3)))\n",
        "  # model.add(LSTM(hidden_layer,return_sequences=True))\n",
        "  model.add(LSTM(hidden_layer, return_sequences=True))\n",
        "  model.add(Dense(5))\n",
        "  model.add(LSTM(hidden_layer))\n",
        "  model.add(Dense(1))\n",
        "  model.compile(loss = 'mean_squared_error', optimizer=opt)\n",
        "  return model\n",
        "\n",
        "  "
      ],
      "execution_count": null,
      "outputs": []
    },
    {
      "cell_type": "markdown",
      "metadata": {
        "id": "tkkElpH-cy_h",
        "colab_type": "text"
      },
      "source": [
        "## Hyperparameter Tuning\n",
        "\n",
        "\n",
        "*   Optimizers:\n",
        "[Overview of different Optimizers for neural networks](https://medium.com/datadriveninvestor/overview-of-different-optimizers-for-neural-networks-e0ed119440c3#:~:text=Adagrad%20eliminates%20the%20need%20to,is%20no%20longer%20able%20learning.)\n",
        "*   [Conceptual Guide for HP Tuning](https://medium.com/@jackstalfort/hyperparameter-tuning-using-grid-search-and-random-search-f8750a464b35)\n",
        "*   [Consider this for Grid Search & Random Search](https://scikit-learn.org/stable/auto_examples/model_selection/plot_randomized_search.html)\n",
        "*   [And this](https://stackoverflow.com/questions/58137140/randomizedsearchcv-with-keras-lstm-regression)\n",
        "![Grid Search & Random Search](https://miro.medium.com/max/1200/1*ZTlQm_WRcrNqL-nLnx6GJA.png)\n",
        "\n"
      ]
    },
    {
      "cell_type": "code",
      "metadata": {
        "id": "m_qE17TCQfOg",
        "colab_type": "code",
        "colab": {}
      },
      "source": [
        "# Function to create the best model for hyperparameters method\n",
        "def bestModel(neuron_list, optimizer_list, learning_rate_list, least_loss):\n",
        "  for each_neuron in neuron_list:\n",
        "    for each_optimizer in optimizer_list:\n",
        "      for each_learning_rate in learning_rate_list:\n",
        "        our_model = lstm_model(each_learning_rate, each_neuron, each_optimizer)\n",
        "        our_model.fit(X_train, Y_train, \n",
        "                validation_data= \n",
        "                (X_val, Y_val)\n",
        "                , epochs=100,batch_size=10,verbose=1,\n",
        "                callbacks=[tf.keras.callbacks.EarlyStopping(patience=3, restore_best_weights=True)])\n",
        "        loss = our_model.evaluate(X_test, Y_test)\n",
        "        if loss < least_loss:\n",
        "          least_loss = loss\n",
        "          best_learning_rate = each_learning_rate\n",
        "          best_optimizer = each_optimizer\n",
        "          best_neuron = each_neuron\n",
        "    return least_loss, best_learning_rate, best_optimizer, best_neuron"
      ],
      "execution_count": null,
      "outputs": []
    },
    {
      "cell_type": "markdown",
      "metadata": {
        "id": "VDbgWWCHLcdm",
        "colab_type": "text"
      },
      "source": [
        "## Grid Search\n",
        "\n",
        "*   We must choose candidates for good hidden layers and optimizers. Then plot a comparison.\n",
        "*   List of optimizers: \n",
        "*   optimizers = ['SGD', 'RMSprop','adam','adagrad', 'adadelta', 'adamax','nadam', 'ftrl']\n",
        "*   Callbacks: Restores best weights that is going to give u best model \n",
        "*   Consider changing batch size: slower the batch_size better training, because small dataset\n",
        "\n",
        "\n"
      ]
    },
    {
      "cell_type": "code",
      "metadata": {
        "id": "eA11PFS2lemX",
        "colab_type": "code",
        "colab": {
          "base_uri": "https://localhost:8080/",
          "height": 1000
        },
        "outputId": "32f8ea13-67c9-406b-def0-b33c0df3216e"
      },
      "source": [
        "neuron_list = [15,30]\n",
        "optimizer_list = ['adam', 'adamax']\n",
        "learning_rate_list = [3e-3,3e-4]\n",
        "least_loss_grid_search = 1\n",
        "\n",
        "best_grid_search_model = bestModel(neuron_list, optimizer_list, learning_rate_list, least_loss_grid_search)\n",
        "print(best_grid_search_model)\n"
      ],
      "execution_count": null,
      "outputs": [
        {
          "output_type": "stream",
          "text": [
            "Epoch 1/100\n",
            "17/17 [==============================] - 1s 54ms/step - loss: 0.1380 - val_loss: 0.0011\n",
            "Epoch 2/100\n",
            "17/17 [==============================] - 0s 8ms/step - loss: 0.0253 - val_loss: 0.0214\n",
            "Epoch 3/100\n",
            "17/17 [==============================] - 0s 8ms/step - loss: 0.0156 - val_loss: 0.0017\n",
            "Epoch 4/100\n",
            "17/17 [==============================] - 0s 9ms/step - loss: 0.0150 - val_loss: 0.0041\n",
            "1/1 [==============================] - 0s 2ms/step - loss: 0.0019\n",
            "Epoch 1/100\n",
            "17/17 [==============================] - 1s 84ms/step - loss: 0.2234 - val_loss: 0.4782\n",
            "Epoch 2/100\n",
            "17/17 [==============================] - 0s 9ms/step - loss: 0.1550 - val_loss: 0.3517\n",
            "Epoch 3/100\n",
            "17/17 [==============================] - 0s 8ms/step - loss: 0.0925 - val_loss: 0.2201\n",
            "Epoch 4/100\n",
            "17/17 [==============================] - 0s 8ms/step - loss: 0.0438 - val_loss: 0.1092\n",
            "Epoch 5/100\n",
            "17/17 [==============================] - 0s 8ms/step - loss: 0.0194 - val_loss: 0.0465\n",
            "Epoch 6/100\n",
            "17/17 [==============================] - 0s 8ms/step - loss: 0.0158 - val_loss: 0.0296\n",
            "Epoch 7/100\n",
            "17/17 [==============================] - 0s 9ms/step - loss: 0.0156 - val_loss: 0.0326\n",
            "Epoch 8/100\n",
            "17/17 [==============================] - 0s 9ms/step - loss: 0.0153 - val_loss: 0.0322\n",
            "Epoch 9/100\n",
            "17/17 [==============================] - 0s 10ms/step - loss: 0.0147 - val_loss: 0.0245\n",
            "Epoch 10/100\n",
            "17/17 [==============================] - 0s 9ms/step - loss: 0.0146 - val_loss: 0.0211\n",
            "Epoch 11/100\n",
            "17/17 [==============================] - 0s 9ms/step - loss: 0.0143 - val_loss: 0.0176\n",
            "Epoch 12/100\n",
            "17/17 [==============================] - 0s 9ms/step - loss: 0.0140 - val_loss: 0.0144\n",
            "Epoch 13/100\n",
            "17/17 [==============================] - 0s 9ms/step - loss: 0.0137 - val_loss: 0.0138\n",
            "Epoch 14/100\n",
            "17/17 [==============================] - 0s 8ms/step - loss: 0.0135 - val_loss: 0.0126\n",
            "Epoch 15/100\n",
            "17/17 [==============================] - 0s 9ms/step - loss: 0.0134 - val_loss: 0.0100\n",
            "Epoch 16/100\n",
            "17/17 [==============================] - 0s 9ms/step - loss: 0.0131 - val_loss: 0.0074\n",
            "Epoch 17/100\n",
            "17/17 [==============================] - 0s 8ms/step - loss: 0.0130 - val_loss: 0.0056\n",
            "Epoch 18/100\n",
            "17/17 [==============================] - 0s 8ms/step - loss: 0.0128 - val_loss: 0.0046\n",
            "Epoch 19/100\n",
            "17/17 [==============================] - 0s 8ms/step - loss: 0.0127 - val_loss: 0.0031\n",
            "Epoch 20/100\n",
            "17/17 [==============================] - 0s 9ms/step - loss: 0.0126 - val_loss: 0.0031\n",
            "Epoch 21/100\n",
            "17/17 [==============================] - 0s 8ms/step - loss: 0.0125 - val_loss: 0.0020\n",
            "Epoch 22/100\n",
            "17/17 [==============================] - 0s 8ms/step - loss: 0.0124 - val_loss: 0.0021\n",
            "Epoch 23/100\n",
            "17/17 [==============================] - 0s 8ms/step - loss: 0.0123 - val_loss: 0.0012\n",
            "Epoch 24/100\n",
            "17/17 [==============================] - 0s 8ms/step - loss: 0.0122 - val_loss: 0.0012\n",
            "Epoch 25/100\n",
            "17/17 [==============================] - 0s 8ms/step - loss: 0.0121 - val_loss: 0.0011\n",
            "Epoch 26/100\n",
            "17/17 [==============================] - 0s 8ms/step - loss: 0.0121 - val_loss: 0.0013\n",
            "Epoch 27/100\n",
            "17/17 [==============================] - 0s 8ms/step - loss: 0.0121 - val_loss: 0.0014\n",
            "Epoch 28/100\n",
            "17/17 [==============================] - 0s 8ms/step - loss: 0.0120 - val_loss: 0.0013\n",
            "1/1 [==============================] - 0s 3ms/step - loss: 0.0011\n",
            "Epoch 1/100\n",
            "17/17 [==============================] - 1s 54ms/step - loss: 0.1386 - val_loss: 0.0011\n",
            "Epoch 2/100\n",
            "17/17 [==============================] - 0s 9ms/step - loss: 0.0256 - val_loss: 0.0290\n",
            "Epoch 3/100\n",
            "17/17 [==============================] - 0s 8ms/step - loss: 0.0179 - val_loss: 0.0028\n",
            "Epoch 4/100\n",
            "17/17 [==============================] - 0s 9ms/step - loss: 0.0172 - val_loss: 0.0041\n",
            "1/1 [==============================] - 0s 1ms/step - loss: 0.0025\n",
            "Epoch 1/100\n",
            "17/17 [==============================] - 1s 52ms/step - loss: 0.3235 - val_loss: 0.6697\n",
            "Epoch 2/100\n",
            "17/17 [==============================] - 0s 9ms/step - loss: 0.2742 - val_loss: 0.5835\n",
            "Epoch 3/100\n",
            "17/17 [==============================] - 0s 9ms/step - loss: 0.2295 - val_loss: 0.4957\n",
            "Epoch 4/100\n",
            "17/17 [==============================] - 0s 8ms/step - loss: 0.1853 - val_loss: 0.4044\n",
            "Epoch 5/100\n",
            "17/17 [==============================] - 0s 8ms/step - loss: 0.1420 - val_loss: 0.3164\n",
            "Epoch 6/100\n",
            "17/17 [==============================] - 0s 9ms/step - loss: 0.1030 - val_loss: 0.2338\n",
            "Epoch 7/100\n",
            "17/17 [==============================] - 0s 8ms/step - loss: 0.0697 - val_loss: 0.1622\n",
            "Epoch 8/100\n",
            "17/17 [==============================] - 0s 8ms/step - loss: 0.0441 - val_loss: 0.1035\n",
            "Epoch 9/100\n",
            "17/17 [==============================] - 0s 9ms/step - loss: 0.0280 - val_loss: 0.0627\n",
            "Epoch 10/100\n",
            "17/17 [==============================] - 0s 8ms/step - loss: 0.0211 - val_loss: 0.0395\n",
            "Epoch 11/100\n",
            "17/17 [==============================] - 0s 8ms/step - loss: 0.0188 - val_loss: 0.0287\n",
            "Epoch 12/100\n",
            "17/17 [==============================] - 0s 9ms/step - loss: 0.0185 - val_loss: 0.0238\n",
            "Epoch 13/100\n",
            "17/17 [==============================] - 0s 8ms/step - loss: 0.0184 - val_loss: 0.0231\n",
            "Epoch 14/100\n",
            "17/17 [==============================] - 0s 8ms/step - loss: 0.0182 - val_loss: 0.0236\n",
            "Epoch 15/100\n",
            "17/17 [==============================] - 0s 8ms/step - loss: 0.0181 - val_loss: 0.0233\n",
            "Epoch 16/100\n",
            "17/17 [==============================] - 0s 9ms/step - loss: 0.0180 - val_loss: 0.0221\n",
            "Epoch 17/100\n",
            "17/17 [==============================] - 0s 8ms/step - loss: 0.0178 - val_loss: 0.0205\n",
            "Epoch 18/100\n",
            "17/17 [==============================] - 0s 8ms/step - loss: 0.0177 - val_loss: 0.0189\n",
            "Epoch 19/100\n",
            "17/17 [==============================] - 0s 9ms/step - loss: 0.0176 - val_loss: 0.0169\n",
            "Epoch 20/100\n",
            "17/17 [==============================] - 0s 8ms/step - loss: 0.0175 - val_loss: 0.0163\n",
            "Epoch 21/100\n",
            "17/17 [==============================] - 0s 8ms/step - loss: 0.0173 - val_loss: 0.0153\n",
            "Epoch 22/100\n",
            "17/17 [==============================] - 0s 8ms/step - loss: 0.0172 - val_loss: 0.0156\n",
            "Epoch 23/100\n",
            "17/17 [==============================] - 0s 8ms/step - loss: 0.0171 - val_loss: 0.0141\n",
            "Epoch 24/100\n",
            "17/17 [==============================] - 0s 8ms/step - loss: 0.0170 - val_loss: 0.0127\n",
            "Epoch 25/100\n",
            "17/17 [==============================] - 0s 8ms/step - loss: 0.0168 - val_loss: 0.0119\n",
            "Epoch 26/100\n",
            "17/17 [==============================] - 0s 8ms/step - loss: 0.0168 - val_loss: 0.0133\n",
            "Epoch 27/100\n",
            "17/17 [==============================] - 0s 9ms/step - loss: 0.0167 - val_loss: 0.0112\n",
            "Epoch 28/100\n",
            "17/17 [==============================] - 0s 9ms/step - loss: 0.0165 - val_loss: 0.0102\n",
            "Epoch 29/100\n",
            "17/17 [==============================] - 0s 9ms/step - loss: 0.0164 - val_loss: 0.0088\n",
            "Epoch 30/100\n",
            "17/17 [==============================] - 0s 8ms/step - loss: 0.0163 - val_loss: 0.0094\n",
            "Epoch 31/100\n",
            "17/17 [==============================] - 0s 8ms/step - loss: 0.0162 - val_loss: 0.0082\n",
            "Epoch 32/100\n",
            "17/17 [==============================] - 0s 9ms/step - loss: 0.0161 - val_loss: 0.0085\n",
            "Epoch 33/100\n",
            "17/17 [==============================] - 0s 10ms/step - loss: 0.0161 - val_loss: 0.0076\n",
            "Epoch 34/100\n",
            "17/17 [==============================] - 0s 9ms/step - loss: 0.0159 - val_loss: 0.0072\n",
            "Epoch 35/100\n",
            "17/17 [==============================] - 0s 9ms/step - loss: 0.0159 - val_loss: 0.0060\n",
            "Epoch 36/100\n",
            "17/17 [==============================] - 0s 8ms/step - loss: 0.0158 - val_loss: 0.0054\n",
            "Epoch 37/100\n",
            "17/17 [==============================] - 0s 8ms/step - loss: 0.0157 - val_loss: 0.0047\n",
            "Epoch 38/100\n",
            "17/17 [==============================] - 0s 9ms/step - loss: 0.0157 - val_loss: 0.0054\n",
            "Epoch 39/100\n",
            "17/17 [==============================] - 0s 8ms/step - loss: 0.0155 - val_loss: 0.0039\n",
            "Epoch 40/100\n",
            "17/17 [==============================] - 0s 8ms/step - loss: 0.0154 - val_loss: 0.0038\n",
            "Epoch 41/100\n",
            "17/17 [==============================] - 0s 9ms/step - loss: 0.0154 - val_loss: 0.0032\n",
            "Epoch 42/100\n",
            "17/17 [==============================] - 0s 9ms/step - loss: 0.0153 - val_loss: 0.0029\n",
            "Epoch 43/100\n",
            "17/17 [==============================] - 0s 8ms/step - loss: 0.0152 - val_loss: 0.0027\n",
            "Epoch 44/100\n",
            "17/17 [==============================] - 0s 8ms/step - loss: 0.0151 - val_loss: 0.0020\n",
            "Epoch 45/100\n",
            "17/17 [==============================] - 0s 9ms/step - loss: 0.0151 - val_loss: 0.0019\n",
            "Epoch 46/100\n",
            "17/17 [==============================] - 0s 8ms/step - loss: 0.0151 - val_loss: 0.0016\n",
            "Epoch 47/100\n",
            "17/17 [==============================] - 0s 9ms/step - loss: 0.0150 - val_loss: 0.0017\n",
            "Epoch 48/100\n",
            "17/17 [==============================] - 0s 9ms/step - loss: 0.0149 - val_loss: 0.0013\n",
            "Epoch 49/100\n",
            "17/17 [==============================] - 0s 8ms/step - loss: 0.0148 - val_loss: 0.0015\n",
            "Epoch 50/100\n",
            "17/17 [==============================] - 0s 8ms/step - loss: 0.0148 - val_loss: 0.0014\n",
            "Epoch 51/100\n",
            "17/17 [==============================] - 0s 9ms/step - loss: 0.0147 - val_loss: 0.0013\n",
            "1/1 [==============================] - 0s 3ms/step - loss: 9.8121e-04\n",
            "(0.0009812107309699059, 0.0003, 'adamax', 15)\n"
          ],
          "name": "stdout"
        }
      ]
    },
    {
      "cell_type": "markdown",
      "metadata": {
        "id": "pxhrP1uEaTkz",
        "colab_type": "text"
      },
      "source": [
        "## Random Search\n",
        "\n",
        "\n",
        "*   Why do we get different values here then we do for grid search? Shouldnt they be the same?\n",
        "\n"
      ]
    },
    {
      "cell_type": "code",
      "metadata": {
        "id": "gSKXTwZHk0it",
        "colab_type": "code",
        "colab": {}
      },
      "source": [
        "# Shuffle hidden_layer list\n",
        "from random import seed\n",
        "from random import shuffle\n"
      ],
      "execution_count": null,
      "outputs": []
    },
    {
      "cell_type": "code",
      "metadata": {
        "id": "sj-ccR8Ek_rb",
        "colab_type": "code",
        "colab": {
          "base_uri": "https://localhost:8080/",
          "height": 1000
        },
        "outputId": "cfe28f61-a8de-4789-f9c5-2ef6ae7ce7be"
      },
      "source": [
        "# Shuffling neuron layers\n",
        "\n",
        "neuron_list = [15,30]\n",
        "# Seed random number generator\n",
        "seed(len(neuron_list))\n",
        "# Prepare a sequence\n",
        "neuron_sequence = neuron_list\n",
        "print(neuron_sequence) # Before Shuffle\n",
        "# Randomly shuffle the sequence hidden layers\n",
        "shuffle(neuron_sequence) \n",
        "print(neuron_sequence) # After Shuffle\n",
        "\n",
        "# Shuffling optimizers\n",
        "\n",
        "optimizer_list = ['adam', 'adamax']\n",
        "# Seed random number generator\n",
        "seed(len(hl_sequence))\n",
        "# Prepare a sequence\n",
        "op_sequence = optimizer_list\n",
        "print(op_sequence) # Before Shuffle\n",
        "# Randomly shuffle the sequence\n",
        "shuffle(op_sequence)\n",
        "print(op_sequence) # After Shuffle\n",
        "\n",
        "# Shuffling learning rate\n",
        "\n",
        "learning_rate_list = [3e-3,3e-4]\n",
        "# Seed random number generator\n",
        "seed(len(hl_sequence))\n",
        "# Prepare a sequence\n",
        "lr_sequence = learning_rate_list\n",
        "print(lr_sequence) # Before Shuffle\n",
        "# Randomly shuffle the sequence\n",
        "shuffle(lr_sequence)\n",
        "print(lr_sequence) # After Shuffle\n",
        "\n",
        "# Assigning least_loss\n",
        "least_loss_random_search = 1\n",
        "best_random_grid_model = bestModel(neuron_sequence, op_sequence, lr_sequence, least_loss_random_search)\n",
        "print(best_random_grid_model)\n",
        "\n",
        "# random search = (0.0006903847679495811, 0.003, 'adam', 30)"
      ],
      "execution_count": null,
      "outputs": [
        {
          "output_type": "stream",
          "text": [
            "[15, 30]\n",
            "[30, 15]\n",
            "['adam', 'adamax']\n",
            "['adamax', 'adam']\n",
            "[0.003, 0.0003]\n",
            "[0.0003, 0.003]\n",
            "Epoch 1/100\n",
            "17/17 [==============================] - 1s 54ms/step - loss: 0.2985 - val_loss: 0.5151\n",
            "Epoch 2/100\n",
            "17/17 [==============================] - 0s 8ms/step - loss: 0.2122 - val_loss: 0.3475\n",
            "Epoch 3/100\n",
            "17/17 [==============================] - 0s 8ms/step - loss: 0.1375 - val_loss: 0.1984\n",
            "Epoch 4/100\n",
            "17/17 [==============================] - 0s 8ms/step - loss: 0.0748 - val_loss: 0.0772\n",
            "Epoch 5/100\n",
            "17/17 [==============================] - 0s 9ms/step - loss: 0.0327 - val_loss: 0.0166\n",
            "Epoch 6/100\n",
            "17/17 [==============================] - 0s 8ms/step - loss: 0.0172 - val_loss: 0.0015\n",
            "Epoch 7/100\n",
            "17/17 [==============================] - 0s 9ms/step - loss: 0.0151 - val_loss: 0.0011\n",
            "Epoch 8/100\n",
            "17/17 [==============================] - 0s 9ms/step - loss: 0.0151 - val_loss: 0.0011\n",
            "Epoch 9/100\n",
            "17/17 [==============================] - 0s 9ms/step - loss: 0.0150 - val_loss: 0.0013\n",
            "Epoch 10/100\n",
            "17/17 [==============================] - 0s 9ms/step - loss: 0.0150 - val_loss: 0.0012\n",
            "Epoch 11/100\n",
            "17/17 [==============================] - 0s 9ms/step - loss: 0.0149 - val_loss: 0.0012\n",
            "1/1 [==============================] - 0s 1ms/step - loss: 0.0039\n",
            "Epoch 1/100\n",
            "17/17 [==============================] - 1s 54ms/step - loss: 0.1282 - val_loss: 0.0011\n",
            "Epoch 2/100\n",
            "17/17 [==============================] - 0s 9ms/step - loss: 0.0233 - val_loss: 0.0246\n",
            "Epoch 3/100\n",
            "17/17 [==============================] - 0s 8ms/step - loss: 0.0166 - val_loss: 0.0027\n",
            "Epoch 4/100\n",
            "17/17 [==============================] - 0s 9ms/step - loss: 0.0159 - val_loss: 0.0014\n",
            "1/1 [==============================] - 0s 2ms/step - loss: 0.0011\n",
            "Epoch 1/100\n",
            "17/17 [==============================] - 1s 52ms/step - loss: 0.2892 - val_loss: 0.5108\n",
            "Epoch 2/100\n",
            "17/17 [==============================] - 0s 9ms/step - loss: 0.2040 - val_loss: 0.3017\n",
            "Epoch 3/100\n",
            "17/17 [==============================] - 0s 8ms/step - loss: 0.1119 - val_loss: 0.0890\n",
            "Epoch 4/100\n",
            "17/17 [==============================] - 0s 10ms/step - loss: 0.0361 - val_loss: 0.0015\n",
            "Epoch 5/100\n",
            "17/17 [==============================] - 0s 8ms/step - loss: 0.0153 - val_loss: 0.0218\n",
            "Epoch 6/100\n",
            "17/17 [==============================] - 0s 9ms/step - loss: 0.0158 - val_loss: 0.0072\n",
            "Epoch 7/100\n",
            "17/17 [==============================] - 0s 9ms/step - loss: 0.0148 - val_loss: 0.0033\n",
            "1/1 [==============================] - 0s 1ms/step - loss: 0.0108\n",
            "Epoch 1/100\n",
            "17/17 [==============================] - 1s 55ms/step - loss: 0.1379 - val_loss: 0.0055\n",
            "Epoch 2/100\n",
            "17/17 [==============================] - 0s 10ms/step - loss: 0.0244 - val_loss: 0.0029\n",
            "Epoch 3/100\n",
            "17/17 [==============================] - 0s 10ms/step - loss: 0.0205 - val_loss: 0.0046\n",
            "Epoch 4/100\n",
            "17/17 [==============================] - 0s 9ms/step - loss: 0.0157 - val_loss: 0.0061\n",
            "Epoch 5/100\n",
            "17/17 [==============================] - 0s 10ms/step - loss: 0.0152 - val_loss: 0.0189\n",
            "1/1 [==============================] - 0s 1ms/step - loss: 6.9038e-04\n",
            "(0.0006903847679495811, 0.003, 'adam', 30)\n"
          ],
          "name": "stdout"
        }
      ]
    },
    {
      "cell_type": "code",
      "metadata": {
        "id": "mm_AqgpTO9EQ",
        "colab_type": "code",
        "colab": {
          "base_uri": "https://localhost:8080/",
          "height": 71
        },
        "outputId": "8d3880ed-2afa-4d62-c538-4544987337b4"
      },
      "source": [
        "# We want the smallest loss\n",
        "# Therefore if random_search least loss is greater than grid search, make grid search best model the best model.\n",
        "# 0 = least loss, 1 = learning rate, 2 = optimizer, 3 = neurons\n",
        "if best_grid_search_model[0] > best_random_grid_model[0]:\n",
        "  best_learning_rate = best_random_grid_model[1]\n",
        "  best_optimizer = best_random_grid_model[2]\n",
        "  best_neuron = best_random_grid_model[3]\n",
        "else:\n",
        "  best_learning_rate = best_grid_search_model[1]\n",
        "  best_optimizer = best_grid_search_model[2]\n",
        "  best_neuron = best_grid_search_model[3]\n",
        "print(best_learning_rate)\n",
        "print(best_optimizer)\n",
        "print(best_neuron)"
      ],
      "execution_count": null,
      "outputs": [
        {
          "output_type": "stream",
          "text": [
            "0.003\n",
            "adam\n",
            "30\n"
          ],
          "name": "stdout"
        }
      ]
    },
    {
      "cell_type": "markdown",
      "metadata": {
        "id": "ne1FGIRhCBx3",
        "colab_type": "text"
      },
      "source": [
        "# Best Model Prediction"
      ]
    },
    {
      "cell_type": "code",
      "metadata": {
        "id": "yBxAVM4I3NJ2",
        "colab_type": "code",
        "colab": {
          "base_uri": "https://localhost:8080/",
          "height": 1000
        },
        "outputId": "668cf1bc-22eb-474d-fcaa-4fed62cf20fe"
      },
      "source": [
        "best_param_model = lstm_model(best_learning_rate, best_neuron, best_optimizer)\n",
        "best_param_model.fit(X_train, Y_train, epochs=160,batch_size=10,verbose=1)\n",
        "loss = best_param_model.evaluate(X_test, Y_test) # all results from dictionary\n"
      ],
      "execution_count": null,
      "outputs": [
        {
          "output_type": "stream",
          "text": [
            "Epoch 1/160\n",
            "17/17 [==============================] - 0s 7ms/step - loss: 0.1084\n",
            "Epoch 2/160\n",
            "17/17 [==============================] - 0s 7ms/step - loss: 0.0241\n",
            "Epoch 3/160\n",
            "17/17 [==============================] - 0s 7ms/step - loss: 0.0195\n",
            "Epoch 4/160\n",
            "17/17 [==============================] - 0s 7ms/step - loss: 0.0149\n",
            "Epoch 5/160\n",
            "17/17 [==============================] - 0s 7ms/step - loss: 0.0151\n",
            "Epoch 6/160\n",
            "17/17 [==============================] - 0s 7ms/step - loss: 0.0144\n",
            "Epoch 7/160\n",
            "17/17 [==============================] - 0s 7ms/step - loss: 0.0128\n",
            "Epoch 8/160\n",
            "17/17 [==============================] - 0s 7ms/step - loss: 0.0140\n",
            "Epoch 9/160\n",
            "17/17 [==============================] - 0s 7ms/step - loss: 0.0127\n",
            "Epoch 10/160\n",
            "17/17 [==============================] - 0s 7ms/step - loss: 0.0117\n",
            "Epoch 11/160\n",
            "17/17 [==============================] - 0s 7ms/step - loss: 0.0120\n",
            "Epoch 12/160\n",
            "17/17 [==============================] - 0s 7ms/step - loss: 0.0130\n",
            "Epoch 13/160\n",
            "17/17 [==============================] - 0s 7ms/step - loss: 0.0111\n",
            "Epoch 14/160\n",
            "17/17 [==============================] - 0s 7ms/step - loss: 0.0108\n",
            "Epoch 15/160\n",
            "17/17 [==============================] - 0s 7ms/step - loss: 0.0097\n",
            "Epoch 16/160\n",
            "17/17 [==============================] - 0s 7ms/step - loss: 0.0088\n",
            "Epoch 17/160\n",
            "17/17 [==============================] - 0s 7ms/step - loss: 0.0085\n",
            "Epoch 18/160\n",
            "17/17 [==============================] - 0s 7ms/step - loss: 0.0087\n",
            "Epoch 19/160\n",
            "17/17 [==============================] - 0s 7ms/step - loss: 0.0081\n",
            "Epoch 20/160\n",
            "17/17 [==============================] - 0s 7ms/step - loss: 0.0064\n",
            "Epoch 21/160\n",
            "17/17 [==============================] - 0s 7ms/step - loss: 0.0066\n",
            "Epoch 22/160\n",
            "17/17 [==============================] - 0s 7ms/step - loss: 0.0051\n",
            "Epoch 23/160\n",
            "17/17 [==============================] - 0s 7ms/step - loss: 0.0049\n",
            "Epoch 24/160\n",
            "17/17 [==============================] - 0s 7ms/step - loss: 0.0056\n",
            "Epoch 25/160\n",
            "17/17 [==============================] - 0s 7ms/step - loss: 0.0057\n",
            "Epoch 26/160\n",
            "17/17 [==============================] - 0s 7ms/step - loss: 0.0078\n",
            "Epoch 27/160\n",
            "17/17 [==============================] - 0s 7ms/step - loss: 0.0072\n",
            "Epoch 28/160\n",
            "17/17 [==============================] - 0s 7ms/step - loss: 0.0050\n",
            "Epoch 29/160\n",
            "17/17 [==============================] - 0s 7ms/step - loss: 0.0045\n",
            "Epoch 30/160\n",
            "17/17 [==============================] - 0s 7ms/step - loss: 0.0041\n",
            "Epoch 31/160\n",
            "17/17 [==============================] - 0s 7ms/step - loss: 0.0035\n",
            "Epoch 32/160\n",
            "17/17 [==============================] - 0s 7ms/step - loss: 0.0045\n",
            "Epoch 33/160\n",
            "17/17 [==============================] - 0s 7ms/step - loss: 0.0038\n",
            "Epoch 34/160\n",
            "17/17 [==============================] - 0s 7ms/step - loss: 0.0031\n",
            "Epoch 35/160\n",
            "17/17 [==============================] - 0s 7ms/step - loss: 0.0029\n",
            "Epoch 36/160\n",
            "17/17 [==============================] - 0s 7ms/step - loss: 0.0028\n",
            "Epoch 37/160\n",
            "17/17 [==============================] - 0s 7ms/step - loss: 0.0027\n",
            "Epoch 38/160\n",
            "17/17 [==============================] - 0s 7ms/step - loss: 0.0031\n",
            "Epoch 39/160\n",
            "17/17 [==============================] - 0s 7ms/step - loss: 0.0025\n",
            "Epoch 40/160\n",
            "17/17 [==============================] - 0s 7ms/step - loss: 0.0026\n",
            "Epoch 41/160\n",
            "17/17 [==============================] - 0s 7ms/step - loss: 0.0024\n",
            "Epoch 42/160\n",
            "17/17 [==============================] - 0s 7ms/step - loss: 0.0025\n",
            "Epoch 43/160\n",
            "17/17 [==============================] - 0s 7ms/step - loss: 0.0029\n",
            "Epoch 44/160\n",
            "17/17 [==============================] - 0s 7ms/step - loss: 0.0025\n",
            "Epoch 45/160\n",
            "17/17 [==============================] - 0s 7ms/step - loss: 0.0023\n",
            "Epoch 46/160\n",
            "17/17 [==============================] - 0s 8ms/step - loss: 0.0024\n",
            "Epoch 47/160\n",
            "17/17 [==============================] - 0s 7ms/step - loss: 0.0025\n",
            "Epoch 48/160\n",
            "17/17 [==============================] - 0s 8ms/step - loss: 0.0030\n",
            "Epoch 49/160\n",
            "17/17 [==============================] - 0s 7ms/step - loss: 0.0027\n",
            "Epoch 50/160\n",
            "17/17 [==============================] - 0s 8ms/step - loss: 0.0021\n",
            "Epoch 51/160\n",
            "17/17 [==============================] - 0s 8ms/step - loss: 0.0026\n",
            "Epoch 52/160\n",
            "17/17 [==============================] - 0s 8ms/step - loss: 0.0026\n",
            "Epoch 53/160\n",
            "17/17 [==============================] - 0s 7ms/step - loss: 0.0020\n",
            "Epoch 54/160\n",
            "17/17 [==============================] - 0s 8ms/step - loss: 0.0022\n",
            "Epoch 55/160\n",
            "17/17 [==============================] - 0s 7ms/step - loss: 0.0024\n",
            "Epoch 56/160\n",
            "17/17 [==============================] - 0s 7ms/step - loss: 0.0023\n",
            "Epoch 57/160\n",
            "17/17 [==============================] - 0s 7ms/step - loss: 0.0023\n",
            "Epoch 58/160\n",
            "17/17 [==============================] - 0s 8ms/step - loss: 0.0027\n",
            "Epoch 59/160\n",
            "17/17 [==============================] - 0s 7ms/step - loss: 0.0025\n",
            "Epoch 60/160\n",
            "17/17 [==============================] - 0s 8ms/step - loss: 0.0026\n",
            "Epoch 61/160\n",
            "17/17 [==============================] - 0s 7ms/step - loss: 0.0024\n",
            "Epoch 62/160\n",
            "17/17 [==============================] - 0s 7ms/step - loss: 0.0021\n",
            "Epoch 63/160\n",
            "17/17 [==============================] - 0s 8ms/step - loss: 0.0023\n",
            "Epoch 64/160\n",
            "17/17 [==============================] - 0s 7ms/step - loss: 0.0024\n",
            "Epoch 65/160\n",
            "17/17 [==============================] - 0s 7ms/step - loss: 0.0021\n",
            "Epoch 66/160\n",
            "17/17 [==============================] - 0s 8ms/step - loss: 0.0021\n",
            "Epoch 67/160\n",
            "17/17 [==============================] - 0s 7ms/step - loss: 0.0020\n",
            "Epoch 68/160\n",
            "17/17 [==============================] - 0s 8ms/step - loss: 0.0022\n",
            "Epoch 69/160\n",
            "17/17 [==============================] - 0s 8ms/step - loss: 0.0020\n",
            "Epoch 70/160\n",
            "17/17 [==============================] - 0s 7ms/step - loss: 0.0021\n",
            "Epoch 71/160\n",
            "17/17 [==============================] - 0s 7ms/step - loss: 0.0021\n",
            "Epoch 72/160\n",
            "17/17 [==============================] - 0s 8ms/step - loss: 0.0020\n",
            "Epoch 73/160\n",
            "17/17 [==============================] - 0s 7ms/step - loss: 0.0019\n",
            "Epoch 74/160\n",
            "17/17 [==============================] - 0s 8ms/step - loss: 0.0020\n",
            "Epoch 75/160\n",
            "17/17 [==============================] - 0s 8ms/step - loss: 0.0023\n",
            "Epoch 76/160\n",
            "17/17 [==============================] - 0s 8ms/step - loss: 0.0024\n",
            "Epoch 77/160\n",
            "17/17 [==============================] - 0s 8ms/step - loss: 0.0025\n",
            "Epoch 78/160\n",
            "17/17 [==============================] - 0s 7ms/step - loss: 0.0019\n",
            "Epoch 79/160\n",
            "17/17 [==============================] - 0s 7ms/step - loss: 0.0019\n",
            "Epoch 80/160\n",
            "17/17 [==============================] - 0s 7ms/step - loss: 0.0020\n",
            "Epoch 81/160\n",
            "17/17 [==============================] - 0s 7ms/step - loss: 0.0023\n",
            "Epoch 82/160\n",
            "17/17 [==============================] - 0s 7ms/step - loss: 0.0025\n",
            "Epoch 83/160\n",
            "17/17 [==============================] - 0s 8ms/step - loss: 0.0021\n",
            "Epoch 84/160\n",
            "17/17 [==============================] - 0s 7ms/step - loss: 0.0026\n",
            "Epoch 85/160\n",
            "17/17 [==============================] - 0s 7ms/step - loss: 0.0029\n",
            "Epoch 86/160\n",
            "17/17 [==============================] - 0s 7ms/step - loss: 0.0024\n",
            "Epoch 87/160\n",
            "17/17 [==============================] - 0s 7ms/step - loss: 0.0021\n",
            "Epoch 88/160\n",
            "17/17 [==============================] - 0s 7ms/step - loss: 0.0020\n",
            "Epoch 89/160\n",
            "17/17 [==============================] - 0s 7ms/step - loss: 0.0022\n",
            "Epoch 90/160\n",
            "17/17 [==============================] - 0s 7ms/step - loss: 0.0022\n",
            "Epoch 91/160\n",
            "17/17 [==============================] - 0s 7ms/step - loss: 0.0019\n",
            "Epoch 92/160\n",
            "17/17 [==============================] - 0s 7ms/step - loss: 0.0021\n",
            "Epoch 93/160\n",
            "17/17 [==============================] - 0s 8ms/step - loss: 0.0019\n",
            "Epoch 94/160\n",
            "17/17 [==============================] - 0s 7ms/step - loss: 0.0019\n",
            "Epoch 95/160\n",
            "17/17 [==============================] - 0s 7ms/step - loss: 0.0018\n",
            "Epoch 96/160\n",
            "17/17 [==============================] - 0s 7ms/step - loss: 0.0019\n",
            "Epoch 97/160\n",
            "17/17 [==============================] - 0s 7ms/step - loss: 0.0018\n",
            "Epoch 98/160\n",
            "17/17 [==============================] - 0s 7ms/step - loss: 0.0026\n",
            "Epoch 99/160\n",
            "17/17 [==============================] - 0s 7ms/step - loss: 0.0022\n",
            "Epoch 100/160\n",
            "17/17 [==============================] - 0s 7ms/step - loss: 0.0019\n",
            "Epoch 101/160\n",
            "17/17 [==============================] - 0s 7ms/step - loss: 0.0022\n",
            "Epoch 102/160\n",
            "17/17 [==============================] - 0s 7ms/step - loss: 0.0021\n",
            "Epoch 103/160\n",
            "17/17 [==============================] - 0s 7ms/step - loss: 0.0019\n",
            "Epoch 104/160\n",
            "17/17 [==============================] - 0s 7ms/step - loss: 0.0019\n",
            "Epoch 105/160\n",
            "17/17 [==============================] - 0s 7ms/step - loss: 0.0020\n",
            "Epoch 106/160\n",
            "17/17 [==============================] - 0s 7ms/step - loss: 0.0018\n",
            "Epoch 107/160\n",
            "17/17 [==============================] - 0s 8ms/step - loss: 0.0021\n",
            "Epoch 108/160\n",
            "17/17 [==============================] - 0s 8ms/step - loss: 0.0022\n",
            "Epoch 109/160\n",
            "17/17 [==============================] - 0s 7ms/step - loss: 0.0018\n",
            "Epoch 110/160\n",
            "17/17 [==============================] - 0s 8ms/step - loss: 0.0017\n",
            "Epoch 111/160\n",
            "17/17 [==============================] - 0s 7ms/step - loss: 0.0018\n",
            "Epoch 112/160\n",
            "17/17 [==============================] - 0s 7ms/step - loss: 0.0024\n",
            "Epoch 113/160\n",
            "17/17 [==============================] - 0s 7ms/step - loss: 0.0017\n",
            "Epoch 114/160\n",
            "17/17 [==============================] - 0s 7ms/step - loss: 0.0019\n",
            "Epoch 115/160\n",
            "17/17 [==============================] - 0s 7ms/step - loss: 0.0018\n",
            "Epoch 116/160\n",
            "17/17 [==============================] - 0s 8ms/step - loss: 0.0017\n",
            "Epoch 117/160\n",
            "17/17 [==============================] - 0s 7ms/step - loss: 0.0017\n",
            "Epoch 118/160\n",
            "17/17 [==============================] - 0s 7ms/step - loss: 0.0020\n",
            "Epoch 119/160\n",
            "17/17 [==============================] - 0s 7ms/step - loss: 0.0024\n",
            "Epoch 120/160\n",
            "17/17 [==============================] - 0s 7ms/step - loss: 0.0019\n",
            "Epoch 121/160\n",
            "17/17 [==============================] - 0s 7ms/step - loss: 0.0018\n",
            "Epoch 122/160\n",
            "17/17 [==============================] - 0s 7ms/step - loss: 0.0019\n",
            "Epoch 123/160\n",
            "17/17 [==============================] - 0s 7ms/step - loss: 0.0018\n",
            "Epoch 124/160\n",
            "17/17 [==============================] - 0s 8ms/step - loss: 0.0018\n",
            "Epoch 125/160\n",
            "17/17 [==============================] - 0s 7ms/step - loss: 0.0017\n",
            "Epoch 126/160\n",
            "17/17 [==============================] - 0s 7ms/step - loss: 0.0018\n",
            "Epoch 127/160\n",
            "17/17 [==============================] - 0s 7ms/step - loss: 0.0017\n",
            "Epoch 128/160\n",
            "17/17 [==============================] - 0s 7ms/step - loss: 0.0018\n",
            "Epoch 129/160\n",
            "17/17 [==============================] - 0s 7ms/step - loss: 0.0018\n",
            "Epoch 130/160\n",
            "17/17 [==============================] - 0s 7ms/step - loss: 0.0017\n",
            "Epoch 131/160\n",
            "17/17 [==============================] - 0s 7ms/step - loss: 0.0019\n",
            "Epoch 132/160\n",
            "17/17 [==============================] - 0s 7ms/step - loss: 0.0020\n",
            "Epoch 133/160\n",
            "17/17 [==============================] - 0s 7ms/step - loss: 0.0021\n",
            "Epoch 134/160\n",
            "17/17 [==============================] - 0s 7ms/step - loss: 0.0022\n",
            "Epoch 135/160\n",
            "17/17 [==============================] - 0s 7ms/step - loss: 0.0021\n",
            "Epoch 136/160\n",
            "17/17 [==============================] - 0s 7ms/step - loss: 0.0019\n",
            "Epoch 137/160\n",
            "17/17 [==============================] - 0s 7ms/step - loss: 0.0016\n",
            "Epoch 138/160\n",
            "17/17 [==============================] - 0s 7ms/step - loss: 0.0020\n",
            "Epoch 139/160\n",
            "17/17 [==============================] - 0s 7ms/step - loss: 0.0019\n",
            "Epoch 140/160\n",
            "17/17 [==============================] - 0s 7ms/step - loss: 0.0018\n",
            "Epoch 141/160\n",
            "17/17 [==============================] - 0s 7ms/step - loss: 0.0023\n",
            "Epoch 142/160\n",
            "17/17 [==============================] - 0s 7ms/step - loss: 0.0016\n",
            "Epoch 143/160\n",
            "17/17 [==============================] - 0s 7ms/step - loss: 0.0017\n",
            "Epoch 144/160\n",
            "17/17 [==============================] - 0s 7ms/step - loss: 0.0017\n",
            "Epoch 145/160\n",
            "17/17 [==============================] - 0s 7ms/step - loss: 0.0017\n",
            "Epoch 146/160\n",
            "17/17 [==============================] - 0s 7ms/step - loss: 0.0023\n",
            "Epoch 147/160\n",
            "17/17 [==============================] - 0s 8ms/step - loss: 0.0019\n",
            "Epoch 148/160\n",
            "17/17 [==============================] - 0s 7ms/step - loss: 0.0021\n",
            "Epoch 149/160\n",
            "17/17 [==============================] - 0s 7ms/step - loss: 0.0020\n",
            "Epoch 150/160\n",
            "17/17 [==============================] - 0s 7ms/step - loss: 0.0024\n",
            "Epoch 151/160\n",
            "17/17 [==============================] - 0s 7ms/step - loss: 0.0022\n",
            "Epoch 152/160\n",
            "17/17 [==============================] - 0s 7ms/step - loss: 0.0019\n",
            "Epoch 153/160\n",
            "17/17 [==============================] - 0s 8ms/step - loss: 0.0017\n",
            "Epoch 154/160\n",
            "17/17 [==============================] - 0s 7ms/step - loss: 0.0017\n",
            "Epoch 155/160\n",
            "17/17 [==============================] - 0s 7ms/step - loss: 0.0018\n",
            "Epoch 156/160\n",
            "17/17 [==============================] - 0s 7ms/step - loss: 0.0018\n",
            "Epoch 157/160\n",
            "17/17 [==============================] - 0s 7ms/step - loss: 0.0019\n",
            "Epoch 158/160\n",
            "17/17 [==============================] - 0s 7ms/step - loss: 0.0019\n",
            "Epoch 159/160\n",
            "17/17 [==============================] - 0s 7ms/step - loss: 0.0021\n",
            "Epoch 160/160\n",
            "17/17 [==============================] - 0s 7ms/step - loss: 0.0015\n",
            "1/1 [==============================] - 0s 2ms/step - loss: 0.0398\n"
          ],
          "name": "stdout"
        }
      ]
    },
    {
      "cell_type": "markdown",
      "metadata": {
        "id": "Y9PSkVSA50OG",
        "colab_type": "text"
      },
      "source": [
        "# Using best model to predict on X_train & X_test"
      ]
    },
    {
      "cell_type": "code",
      "metadata": {
        "id": "aBny6cUkO4xC",
        "colab_type": "code",
        "colab": {
          "base_uri": "https://localhost:8080/",
          "height": 35
        },
        "outputId": "8a2bb4ef-2006-4eb1-bcdb-9fc921be5493"
      },
      "source": [
        "# Prediction and check performance metric\n",
        "train_predict = best_param_model.predict(X_train)\n",
        "test_predict = best_param_model.predict(X_test)\n",
        "train_predict.shape\n",
        "train_predict.shape"
      ],
      "execution_count": null,
      "outputs": [
        {
          "output_type": "execute_result",
          "data": {
            "text/plain": [
              "(162, 1)"
            ]
          },
          "metadata": {
            "tags": []
          },
          "execution_count": 282
        }
      ]
    },
    {
      "cell_type": "code",
      "metadata": {
        "id": "b7ocuWlpPIEA",
        "colab_type": "code",
        "colab": {}
      },
      "source": [
        "# Transform back to original form\n",
        "train_predict=scaler.inverse_transform(train_predict)\n",
        "test_predict=scaler.inverse_transform(test_predict)\n",
        "# print(train_predict, test_predict)"
      ],
      "execution_count": null,
      "outputs": []
    },
    {
      "cell_type": "code",
      "metadata": {
        "id": "zenaz-fCcL0E",
        "colab_type": "code",
        "colab": {}
      },
      "source": [
        "# print(train_predict,test_predict)"
      ],
      "execution_count": null,
      "outputs": []
    },
    {
      "cell_type": "markdown",
      "metadata": {
        "id": "k4ocL2CLJLXg",
        "colab_type": "text"
      },
      "source": [
        "# Performance Metric\n",
        "\n",
        "*   How well is model performing? A measure of what i am predicting and what should have been predicting.\n",
        "*  **Mean Absolute Error**: MAE measures the average magnitude of the errors in a set of predictions, without considering their direction. It’s the average over the test sample of the absolute differences between prediction and actual observation where all individual differences have equal weight. \n",
        "*   **Mean Squared Error**: Measures the average of the squares of the errors—that is, the average squared difference between the estimated values and the actual value.\n",
        "*   **Kullback-Leibler divergence**, which is also called relative entropy, is a measure of the difference between two probability distributions P and Q where P is the distribution of the observation that we want to see how much it differs from the average prior distribution Q. In statistics, an approximate entropy (ApEn) is a technique used to quantify the amount of regularity and the unpredictability of fluctuations over time-series data.[1]\n",
        "* [MAE Versus RMSE](https://medium.com/human-in-a-machine-world/mae-and-rmse-which-metric-is-better-e60ac3bde13d)\n",
        "\n",
        "\n",
        "\n"
      ]
    },
    {
      "cell_type": "code",
      "metadata": {
        "id": "DHXXILzqPUHQ",
        "colab_type": "code",
        "colab": {
          "base_uri": "https://localhost:8080/",
          "height": 53
        },
        "outputId": "d5f3339d-ca5c-4d62-df8b-e75cd1cbf4a5"
      },
      "source": [
        "from sklearn.metrics import mean_absolute_error\n",
        "print(mean_absolute_error(Y_train, train_predict))\n",
        "print(mean_absolute_error(Y_test, test_predict))"
      ],
      "execution_count": null,
      "outputs": [
        {
          "output_type": "stream",
          "text": [
            "133429103.03354698\n",
            "263718064.23051217\n"
          ],
          "name": "stdout"
        }
      ]
    },
    {
      "cell_type": "code",
      "metadata": {
        "id": "fFNm7l86Pt_7",
        "colab_type": "code",
        "colab": {
          "base_uri": "https://localhost:8080/",
          "height": 53
        },
        "outputId": "9fb31d0b-36a4-455e-e5de-acc2a31fcca3"
      },
      "source": [
        "from sklearn.metrics import mean_squared_error\n",
        "print(math.sqrt(mean_squared_error(Y_train, train_predict)))\n",
        "print(math.sqrt(mean_squared_error(Y_test, test_predict)))"
      ],
      "execution_count": null,
      "outputs": [
        {
          "output_type": "stream",
          "text": [
            "139320084.99041232\n",
            "263837545.73021248\n"
          ],
          "name": "stdout"
        }
      ]
    },
    {
      "cell_type": "code",
      "metadata": {
        "id": "gZc_4QJmZugn",
        "colab_type": "code",
        "colab": {
          "base_uri": "https://localhost:8080/",
          "height": 89
        },
        "outputId": "bd59a85a-b69f-475a-9bc7-d6f39bfca75a"
      },
      "source": [
        "# Problem: Y_train, train_predict need to be normalised in order to produce a non negative value?\n",
        "# Confused on when to normalise and not normalise as I had to transform back for MAE & MSE\n",
        "# KL Divergence: Probability distribution rather than time series\n",
        "# Consider this for evaluation: https://www.tensorflow.org/api_docs/python/tf/keras/losses/KLDivergence\n",
        "# Kl divergence measures difference between 2 probability distributions\n",
        "# Implementing KL from scratch\n",
        "\n",
        "def kl_divergence(P,Q):\n",
        " epsilon = 0.00001      # Epsilon is used here to avoid conditional code for checking that neither P nor Q is equal to 0.\n",
        " P = P+epsilon          #  Made copies to avoid changing the np arrays.\n",
        " Q = Q+epsilon\n",
        " divergence = np.sum(P*np.log(P/Q))\n",
        " return divergence\n",
        "\n",
        "print(kl_divergence(Y_train, train_predict)) \n",
        "print(kl_divergence(Y_test, test_predict))   # Values should be normalized though and they are not currently normalised.\n"
      ],
      "execution_count": null,
      "outputs": [
        {
          "output_type": "stream",
          "text": [
            "nan\n",
            "-3483.58306902843\n"
          ],
          "name": "stdout"
        },
        {
          "output_type": "stream",
          "text": [
            "/usr/local/lib/python3.6/dist-packages/ipykernel_launcher.py:12: RuntimeWarning: invalid value encountered in log\n",
            "  if sys.path[0] == '':\n"
          ],
          "name": "stderr"
        }
      ]
    },
    {
      "cell_type": "code",
      "metadata": {
        "id": "ChFdlWNgTueE",
        "colab_type": "code",
        "colab": {
          "base_uri": "https://localhost:8080/",
          "height": 179
        },
        "outputId": "25631519-4835-4f5a-ad7f-e54bfc96eafe"
      },
      "source": [
        "# Implementing KL using scipy.stats\n",
        "from scipy.stats import entropy\n",
        "print(\"\\nIndividual Entropy\\n\")\n",
        "print(entropy(Y_train))\n",
        "print(entropy(train_predict))\n",
        "Y_train_kl = Y_train.reshape(162, 1) # Needed to shape if I wanted to do entropy(_, _)\n",
        "print(\"\\nPairwise Kullback Leibler divergence\\n\")\n",
        "print(entropy(Y_train_kl, qk=train_predict))"
      ],
      "execution_count": null,
      "outputs": [
        {
          "output_type": "stream",
          "text": [
            "\n",
            "Individual Entropy\n",
            "\n",
            "5.0289937798554565\n",
            "[-inf]\n",
            "\n",
            "Pairwise Kullback Leibler divergence\n",
            "\n",
            "[inf]\n"
          ],
          "name": "stdout"
        }
      ]
    },
    {
      "cell_type": "markdown",
      "metadata": {
        "id": "-nSW23ryI8RU",
        "colab_type": "text"
      },
      "source": [
        "# Actual Data, Train Prediction & Test Prediction data"
      ]
    },
    {
      "cell_type": "code",
      "metadata": {
        "id": "wIaC4DB2UV6P",
        "colab_type": "code",
        "colab": {
          "base_uri": "https://localhost:8080/",
          "height": 439
        },
        "outputId": "0a7e05e9-2c73-4786-82b4-6886a826286b"
      },
      "source": [
        "# Problem: testPredictPlot[len(train_predict)+(look_back*2)+2: (training_size + test_size)] = test_predict\n",
        "# What does this do eactly other than populate the train predict\n",
        "\n",
        "# Taking in the 7 \n",
        "\n",
        "look_back = 7\n",
        "\n",
        "# empty_like: Return a new array with the same shape and type as a given array.\n",
        "# np.nan: Make all 0 values\n",
        "# Populates\n",
        "# What does this do?? 7: predict.length() + 7, :\n",
        "\n",
        "trainPredictPlot = np.empty_like(new_dataset)\n",
        "trainPredictPlot[:,:]= np.nan\n",
        "trainPredictPlot[look_back:len(train_predict)+look_back, :] = train_predict\n",
        "print(trainPredictPlot.shape)\n",
        "\n",
        "# What does this do exactly? Is there an easier way to implement? predict.length() + (7*2) +1 :(training_size + test_size)] = test_predict\n",
        "\n",
        "testPredictPlot = np.empty_like(new_dataset)\n",
        "testPredictPlot[:,:]= np.nan\n",
        "testPredictPlot[len(train_predict)+(look_back*2)+1: (training_size + test_size)] = test_predict\n",
        "# new_dataset[training_size:(training_size + test_size)]\n",
        "print(testPredictPlot.shape)\n",
        "\n",
        "# Plot baseline and predictions\n",
        "plt.title('Analysis of train, test and actual')\n",
        "plt.plot(scaler.inverse_transform(new_dataset), label=\"actual dataset\")\n",
        "\n",
        "trainPredictPlot = [item[2] for item in trainPredictPlot] \n",
        "plt.plot(trainPredictPlot, label=\"train_predict\")\n",
        "\n",
        "testPredictPlot = [item[2] for item in testPredictPlot] \n",
        "plt.plot(testPredictPlot, label=\"test_predict\")\n",
        "\n",
        "# as you can see th test data and train is divided because we want to test after a specific day\n",
        "plt.ylabel('Forex price & US Death Rates')\n",
        "plt.xlabel('Date')\n",
        "plt.legend()\n",
        "plt.show()\n",
        "# Printing 2 actual_dataset, train_predict, test_predict because 2 input layers"
      ],
      "execution_count": null,
      "outputs": [
        {
          "output_type": "stream",
          "text": [
            "(213, 3)\n",
            "(213, 3)\n"
          ],
          "name": "stdout"
        },
        {
          "output_type": "display_data",
          "data": {
            "image/png": "[encoded data removed]",
            "text/plain": [
              "<Figure size 1080x432 with 1 Axes>"
            ]
          },
          "metadata": {
            "tags": []
          }
        }
      ]
    },
    {
      "cell_type": "markdown",
      "metadata": {
        "id": "Fc6YFJvQjBGu",
        "colab_type": "text"
      },
      "source": [
        "# Custom 4 day prediction\n",
        "\n",
        "*   Training train data to predict future days and evaluating the accuracy on validation data.\n",
        "*   Training train data to predict future days, no way of evaluating however this can tell us what is likely to occur.\n",
        "*   Using last 7 days of training data to predict the future custom days(4). \n",
        "\n"
      ]
    },
    {
      "cell_type": "code",
      "metadata": {
        "id": "yws-gX7RTB3Z",
        "colab_type": "code",
        "colab": {
          "base_uri": "https://localhost:8080/",
          "height": 161
        },
        "outputId": "9ce41180-e8a4-4d83-8de4-95b4c14711b4"
      },
      "source": [
        "# Taking the last 7 days of test\n",
        "# print(test_data[80:])\n",
        "# is this supposed to be test or train_data\n",
        "X_input=test_data[100:].reshape(1,-1)\n",
        "print(X_input)\n",
        "X_input.shape\n",
        "\n",
        "temp_input = train_data[-7:]\n",
        "temp_input\n",
        "\n"
      ],
      "execution_count": null,
      "outputs": [
        {
          "output_type": "stream",
          "text": [
            "[]\n"
          ],
          "name": "stdout"
        },
        {
          "output_type": "execute_result",
          "data": {
            "text/plain": [
              "array([[0.36645202, 0.43112686, 0.85231116],\n",
              "       [0.37508216, 0.44124607, 0.85794814],\n",
              "       [0.38381989, 0.45143297, 0.85794814],\n",
              "       [0.39263992, 0.46164599, 0.85794814],\n",
              "       [0.40154401, 0.47189386, 0.87936866],\n",
              "       [0.41054795, 0.48221551, 0.87936866],\n",
              "       [0.41965953, 0.4926037 , 0.83089064]])"
            ]
          },
          "metadata": {
            "tags": []
          },
          "execution_count": 290
        }
      ]
    },
    {
      "cell_type": "code",
      "metadata": {
        "id": "CHAxzKyuTp5-",
        "colab_type": "code",
        "colab": {
          "base_uri": "https://localhost:8080/",
          "height": 539
        },
        "outputId": "c7b089b1-60fe-43f7-c949-76ff30044004"
      },
      "source": [
        "# Demonstrate prediction for the next 4 days:\n",
        "\n",
        "# Step 1. 7 days of feature = temp_input taken from the last 7 days of the training set\n",
        "# Step 2  i is the day you are on and we want to predict 4 days: 0,1,2,3 (4 days)\n",
        "# Step 3. Predict the 8th day on each of the 7 days,\n",
        "# Step 4. Add this new predicted day to the list\n",
        "# Step 5. Because we are now taking in the last 7 days + the new predicted value, the list is now size 8  \n",
        "# Step 6. In order to take in 7 days at a time, we shift 1 to the right.\n",
        "# Step 7. We reassign the X_train to the new 7 days\n",
        "# Step 8. We predict the 8th day of the 7 days and continue the process\n",
        "# Step 9. We then add the 8th day to the output list\n",
        "# Step 10. We keep track of the 4 days by incrementing by i at the end-> i = i+1\n",
        "# Step 11. Once we have predicted the 4 days, we return the list of 4 day values.\n",
        "\n",
        "from numpy import array\n",
        "custom_day = 4\n",
        "lst_output=[]\n",
        "n_steps=7\n",
        "i=0\n",
        "X_input = temp_input\n",
        "# print(X_input)\n",
        "while(i<custom_day):\n",
        "  if(len(temp_input)>7):\n",
        "    # print(temp_input)  \n",
        "    X_input=array(temp_input[1:])\n",
        "    # print(\"{} day input {}\".format(i,X_input))\n",
        "    # Correct input shape (1,7,3)\n",
        "    X_input=X_input.reshape((1,n_steps,3))\n",
        "    # Prediction of X_input\n",
        "    print(X_input)\n",
        "    Y_hat = best_param_model.predict(X_input)\n",
        "    # print(Y_hat)\n",
        "    temp_input = np.append(temp_input, Y_hat)\n",
        "    temp_input=temp_input[1:]\n",
        "    lst_output.append(Y_hat[0][0])\n",
        "    i=i+1\n",
        "  else:\n",
        "    X_input=X_input.reshape((1,n_steps,3))\n",
        "    print(X_input)\n",
        "    Y_hat = best_param_model.predict(X_input, verbose=0)\n",
        "    # print(Y_hat)\n",
        "    temp_input = np.append(temp_input, Y_hat)\n",
        "    lst_output.append(Y_hat[0][0])\n",
        "    i=i+1\n",
        "# [0.039997526, 0.035484765, 0.029113937, 0.025276443]\n",
        "# Print the predicted forex price for the next 4 days \n",
        "print(lst_output)"
      ],
      "execution_count": null,
      "outputs": [
        {
          "output_type": "stream",
          "text": [
            "[[[0.36645202 0.43112686 0.85231116]\n",
            "  [0.37508216 0.44124607 0.85794814]\n",
            "  [0.38381989 0.45143297 0.85794814]\n",
            "  [0.39263992 0.46164599 0.85794814]\n",
            "  [0.40154401 0.47189386 0.87936866]\n",
            "  [0.41054795 0.48221551 0.87936866]\n",
            "  [0.41965953 0.4926037  0.83089064]]]\n",
            "[[[0.43112686 0.85231116 0.37508216]\n",
            "  [0.44124607 0.85794814 0.38381989]\n",
            "  [0.45143297 0.85794814 0.39263992]\n",
            "  [0.46164599 0.85794814 0.40154401]\n",
            "  [0.47189386 0.87936866 0.41054795]\n",
            "  [0.48221551 0.87936866 0.41965953]\n",
            "  [0.4926037  0.83089064 0.86340642]]]\n",
            "[[[0.85231116 0.37508216 0.44124607]\n",
            "  [0.85794814 0.38381989 0.45143297]\n",
            "  [0.85794814 0.39263992 0.46164599]\n",
            "  [0.85794814 0.40154401 0.47189386]\n",
            "  [0.87936866 0.41054795 0.48221551]\n",
            "  [0.87936866 0.41965953 0.4926037 ]\n",
            "  [0.83089064 0.86340642 1.19705093]]]\n",
            "[[[0.37508216 0.44124607 0.85794814]\n",
            "  [0.38381989 0.45143297 0.85794814]\n",
            "  [0.39263992 0.46164599 0.85794814]\n",
            "  [0.40154401 0.47189386 0.87936866]\n",
            "  [0.41054795 0.48221551 0.87936866]\n",
            "  [0.41965953 0.4926037  0.83089064]\n",
            "  [0.86340642 1.19705093 1.407619  ]]]\n",
            "[0.8634064, 1.1970509, 1.407619, 1.2000341]\n"
          ],
          "name": "stdout"
        }
      ]
    },
    {
      "cell_type": "markdown",
      "metadata": {
        "id": "-0DCdCn2jwxO",
        "colab_type": "text"
      },
      "source": [
        "### Plotting evaluation on graph. Training output versus first 4 days of the validation data."
      ]
    },
    {
      "cell_type": "code",
      "metadata": {
        "id": "z_5opaqHfcZt",
        "colab_type": "code",
        "colab": {
          "base_uri": "https://localhost:8080/",
          "height": 439
        },
        "outputId": "89725665-43a7-4647-cccd-09468428f127"
      },
      "source": [
        "# Custom day plotted\n",
        "day_new = custom_day-1\n",
        "\n",
        "# Predicted 4 days from training\n",
        "# Plot and label\n",
        "# Transform back to original value before normalised\n",
        "custom_day_prediction = np.array(lst_output)\n",
        "print(custom_day_prediction)\n",
        "plt.plot(custom_day_prediction, label=\"Predicted\")\n",
        "# plt.plot(day_new, scaler.inverse_transform([custom_day_prediction]))\n",
        "\n",
        "# Actual 4 days from validation\n",
        "# Plot and label\n",
        "# Transform back to original value before normalised\n",
        "val_data = [item[2] for item in valset_data] \n",
        "custom_day_validation = val_data[:custom_day]\n",
        "print(custom_day_validation)\n",
        "plt.plot(custom_day_validation, label=\"Actual\")\n",
        "# plt.plot(day_new, scaler.inverse_transform([custom_day_validation]))\n",
        "\n",
        "# Information\n",
        "plt.title('Predicted custom day from training data versus actual custom day from validation data')\n",
        "plt.xlabel('Number of custom days')\n",
        "plt.ylabel('Price')\n",
        "plt.legend()\n",
        "plt.show()\n"
      ],
      "execution_count": null,
      "outputs": [
        {
          "output_type": "stream",
          "text": [
            "[0.8634064 1.1970509 1.407619  1.2000341]\n",
            "[0.8263810597519718, 0.8049605411499439, 0.8049605411499439, 0.8049605411499439]\n"
          ],
          "name": "stdout"
        },
        {
          "output_type": "display_data",
          "data": {
            "image/png": "[encoded data removed]",
            "text/plain": [
              "<Figure size 1080x432 with 1 Axes>"
            ]
          },
          "metadata": {
            "tags": []
          }
        }
      ]
    },
    {
      "cell_type": "markdown",
      "metadata": {
        "id": "oechzTG13Efi",
        "colab_type": "text"
      },
      "source": [
        "# Outcome of training test data on best model\n",
        "* Is this correctly implements? Only difference is X_input\n",
        "* Strange results\n",
        "* How can we evaluate? \n",
        "* Currently validating against validation data\n",
        "* What should I be validating it against?"
      ]
    },
    {
      "cell_type": "code",
      "metadata": {
        "id": "d-JX2Sw3-2k4",
        "colab_type": "code",
        "colab": {
          "base_uri": "https://localhost:8080/",
          "height": 35
        },
        "outputId": "32d8dd5d-9db7-4c7b-9888-5ed0f6186bae"
      },
      "source": [
        "from numpy import array\n",
        "custom_day = 4\n",
        "lst_output=[]\n",
        "n_steps=7\n",
        "i=0\n",
        "X_input = X_test\n",
        "while(i<custom_day):\n",
        "  if(len(temp_input)>7):\n",
        "    X_input=array(temp_input[1:])\n",
        "    X_input=X_input.reshape((1,n_steps,3))\n",
        "    # Prediction of X_input\n",
        "    # print(X_input)\n",
        "    Y_hat = best_param_model.predict(X_input)\n",
        "    # print(Y_hat)\n",
        "    temp_input = np.append(temp_input, Y_hat)\n",
        "    temp_input=temp_input[1:]\n",
        "    lst_output.append(Y_hat[0][0])\n",
        "    i=i+1\n",
        "  else:\n",
        "    X_input=X_input.reshape((1,n_steps,3))\n",
        "    # print(Y_hat)\n",
        "    Y_hat = best_param_model.predict(X_input, verbose=0)\n",
        "    # print(Y_hat)\n",
        "    temp_input = np.append(temp_input, Y_hat)\n",
        "    lst_output.append(Y_hat[0][0])\n",
        "    i=i+1\n",
        "# Print the predicted forex price for the next 4 days \n",
        "print(lst_output)"
      ],
      "execution_count": null,
      "outputs": [
        {
          "output_type": "stream",
          "text": [
            "[1.2918777, 1.3053498, 1.2012616, 1.3157445]\n"
          ],
          "name": "stdout"
        }
      ]
    },
    {
      "cell_type": "code",
      "metadata": {
        "id": "UBktK72bgkZp",
        "colab_type": "code",
        "colab": {
          "base_uri": "https://localhost:8080/",
          "height": 439
        },
        "outputId": "55ca8fce-d49a-4951-92a8-5e89e175bdc6"
      },
      "source": [
        "# Need to implement\n",
        "day_new = custom_day-1\n",
        "\n",
        "# Predicted 4 days from training\n",
        "# Plot and label\n",
        "# Transform back to original value before normalised\n",
        "custom_day_prediction = np.array(lst_output)\n",
        "print(custom_day_prediction)\n",
        "plt.plot(custom_day_prediction, label=\"Predicted\")\n",
        "# plt.plot(day_new, scaler.inverse_transform([custom_day_prediction]))\n",
        "\n",
        "# Actual 4 days from validation\n",
        "# Plot and label\n",
        "# Transform back to original value before normalised\n",
        "val_data = [item[1] for item in valset_data] \n",
        "custom_day_validation = val_data[:custom_day]\n",
        "print(custom_day_validation)\n",
        "plt.plot(custom_day_validation, label=\"Actual\")\n",
        "# plt.plot(day_new, scaler.inverse_transform([custom_day_validation]))\n",
        "\n",
        "# Information\n",
        "plt.title('Predicted custom day from testing data versus actual custom day from validation data')\n",
        "plt.xlabel('Number of custom days')\n",
        "plt.ylabel('Price')\n",
        "plt.legend()\n",
        "plt.show()"
      ],
      "execution_count": null,
      "outputs": [
        {
          "output_type": "stream",
          "text": [
            "[1.2918777 1.3053498 1.2012616 1.3157445]\n",
            "[0.5030551598407069, 0.5135664522526096, 0.5241313106737642, 0.5347187603607648]\n"
          ],
          "name": "stdout"
        },
        {
          "output_type": "display_data",
          "data": {
            "image/png": "[encoded data removed]",
            "text/plain": [
              "<Figure size 1080x432 with 1 Axes>"
            ]
          },
          "metadata": {
            "tags": []
          }
        }
      ]
    },
    {
      "cell_type": "markdown",
      "metadata": {
        "id": "7o0GfssHMvIL",
        "colab_type": "text"
      },
      "source": [
        "# Conclusion and next steps\n",
        "\n",
        "After exploring the LSTM algorithm:\n",
        "*   Notes on working with LSTM & Small Dataset\n",
        "*   Notes on overfitting\n",
        "\n",
        "In conclusion it seems that .."
      ]
    }
  ]
}