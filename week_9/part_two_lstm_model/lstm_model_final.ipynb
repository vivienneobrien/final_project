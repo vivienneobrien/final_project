{
  "nbformat": 4,
  "nbformat_minor": 0,
  "metadata": {
    "colab": {
      "name": "lstm_model_final.ipynb",
      "provenance": [],
      "collapsed_sections": [],
      "toc_visible": true
    },
    "kernelspec": {
      "name": "python3",
      "display_name": "Python 3"
    },
    "accelerator": "GPU"
  },
  "cells": [
    {
      "cell_type": "markdown",
      "metadata": {
        "id": "NpLCBrS0DoTl",
        "colab_type": "text"
      },
      "source": [
        "# Notes for user:\n",
        "\n",
        "*   This notebook will use the dataset COVID-19 (positive cases and death rates) and forex to predict the forex spot price of a currency pair.\n",
        "*   What to ask user before using this application:\n",
        "*   What currency pair are you interested in? GBP/USD (This layout means that the base currency is USD)\n",
        "*   The currency the user wants to look at is how much the USD is worth to the GBP.\n",
        "*   Therefore, we look at the death rates & positive cases in the US.\n",
        "*   We are looking at dates: 31st Dec 2019 - 31st July 2020.\n",
        "*   LSTMs are good at looking at changed over time. \n"
      ]
    },
    {
      "cell_type": "markdown",
      "metadata": {
        "id": "JgdK1L0bjQsY",
        "colab_type": "text"
      },
      "source": [
        "# Part 2: LSTM to predict Forex Spot Price"
      ]
    },
    {
      "cell_type": "markdown",
      "metadata": {
        "id": "hj06VW8PjHI3",
        "colab_type": "text"
      },
      "source": [
        "# Imports"
      ]
    },
    {
      "cell_type": "code",
      "metadata": {
        "id": "GDBxlQkCD7Mj",
        "colab_type": "code",
        "colab": {
          "base_uri": "https://localhost:8080/",
          "height": 313
        },
        "outputId": "35e152ff-0d25-4577-bb99-a6b54950b113"
      },
      "source": [
        "# Imports\n",
        "!pip install git+https://github.com/tensorflow/docs\n",
        "import pathlib\n",
        "import numpy as np\n",
        "import pandas as pd\n",
        "import tensorflow as tf\n",
        "from tensorflow import keras\n",
        "from tensorflow.keras import layers\n",
        "print(tf.__version__)\n",
        "import tensorflow_docs as tfdocs\n",
        "import tensorflow_docs.plots\n",
        "import tensorflow_docs.modeling\n",
        "#plotting\n",
        "from datetime import datetime, timedelta\n",
        "from matplotlib import pyplot as plt\n",
        "from matplotlib import dates as mpl_dates\n",
        "plt.style.use('seaborn')\n",
        "from matplotlib import rcParams\n",
        "# metrics\n",
        "import math\n",
        "# to create model\n",
        "from tensorflow.keras.models import Sequential\n",
        "from tensorflow.keras.layers import Dense\n",
        "from tensorflow.keras.layers import InputLayer, Dense, LSTM, Dropout"
      ],
      "execution_count": 1,
      "outputs": [
        {
          "output_type": "stream",
          "text": [
            "Collecting git+https://github.com/tensorflow/docs\n",
            "  Cloning https://github.com/tensorflow/docs to /tmp/pip-req-build-_x6ngida\n",
            "  Running command git clone -q https://github.com/tensorflow/docs /tmp/pip-req-build-_x6ngida\n",
            "Requirement already satisfied: astor in /usr/local/lib/python3.6/dist-packages (from tensorflow-docs===0.0.05c4bd64cc6466af361dfd1f7e19625e7de52fc37-) (0.8.1)\n",
            "Requirement already satisfied: absl-py in /usr/local/lib/python3.6/dist-packages (from tensorflow-docs===0.0.05c4bd64cc6466af361dfd1f7e19625e7de52fc37-) (0.9.0)\n",
            "Requirement already satisfied: protobuf in /usr/local/lib/python3.6/dist-packages (from tensorflow-docs===0.0.05c4bd64cc6466af361dfd1f7e19625e7de52fc37-) (3.12.4)\n",
            "Requirement already satisfied: pyyaml in /usr/local/lib/python3.6/dist-packages (from tensorflow-docs===0.0.05c4bd64cc6466af361dfd1f7e19625e7de52fc37-) (3.13)\n",
            "Requirement already satisfied: six in /usr/local/lib/python3.6/dist-packages (from absl-py->tensorflow-docs===0.0.05c4bd64cc6466af361dfd1f7e19625e7de52fc37-) (1.15.0)\n",
            "Requirement already satisfied: setuptools in /usr/local/lib/python3.6/dist-packages (from protobuf->tensorflow-docs===0.0.05c4bd64cc6466af361dfd1f7e19625e7de52fc37-) (49.2.0)\n",
            "Building wheels for collected packages: tensorflow-docs\n",
            "  Building wheel for tensorflow-docs (setup.py) ... \u001b[?25l\u001b[?25hdone\n",
            "  Created wheel for tensorflow-docs: filename=tensorflow_docs-0.0.05c4bd64cc6466af361dfd1f7e19625e7de52fc37_-cp36-none-any.whl size=126759 sha256=88d5b7aaed91c3df3fcbfc96b79191f12eb0b6e9128cdbf1ce4ee6469fe8d82f\n",
            "  Stored in directory: /tmp/pip-ephem-wheel-cache-4hamzty6/wheels/eb/1b/35/fce87697be00d2fc63e0b4b395b0d9c7e391a10e98d9a0d97f\n",
            "Successfully built tensorflow-docs\n",
            "Installing collected packages: tensorflow-docs\n",
            "Successfully installed tensorflow-docs-0.0.05c4bd64cc6466af361dfd1f7e19625e7de52fc37-\n",
            "2.3.0\n"
          ],
          "name": "stdout"
        }
      ]
    },
    {
      "cell_type": "code",
      "metadata": {
        "id": "U7zLL7tQm3eq",
        "colab_type": "code",
        "colab": {}
      },
      "source": [
        "from numpy.random import seed\n",
        "seed(1)\n",
        "tf.random.set_seed(2)"
      ],
      "execution_count": 2,
      "outputs": []
    },
    {
      "cell_type": "markdown",
      "metadata": {
        "id": "QzadtzC3Hniw",
        "colab_type": "text"
      },
      "source": [
        "# Data Collection\n"
      ]
    },
    {
      "cell_type": "code",
      "metadata": {
        "id": "7GjIgZ7kJhjo",
        "colab_type": "code",
        "colab": {
          "base_uri": "https://localhost:8080/",
          "height": 292
        },
        "outputId": "944892e4-fafc-4249-f44b-3f24db4e2ebe"
      },
      "source": [
        "# Importing covid_dataset using pandas. Droping null values.\n",
        "covid_dataset_data= pd.read_csv('owid_covid_data.csv', na_values = \"?\", comment='\\t', skipinitialspace=True)\n",
        "covid_dataset = covid_dataset_data.copy()\n",
        "# covid_dataset = covid_dataset.dropna()  \n",
        "# We do not want to drop empty tables as this is null values are part of our dataset\n",
        "covid_dataset.head()"
      ],
      "execution_count": 3,
      "outputs": [
        {
          "output_type": "execute_result",
          "data": {
            "text/html": [
              "<div>\n",
              "<style scoped>\n",
              "    .dataframe tbody tr th:only-of-type {\n",
              "        vertical-align: middle;\n",
              "    }\n",
              "\n",
              "    .dataframe tbody tr th {\n",
              "        vertical-align: top;\n",
              "    }\n",
              "\n",
              "    .dataframe thead th {\n",
              "        text-align: right;\n",
              "    }\n",
              "</style>\n",
              "<table border=\"1\" class=\"dataframe\">\n",
              "  <thead>\n",
              "    <tr style=\"text-align: right;\">\n",
              "      <th></th>\n",
              "      <th>iso_code</th>\n",
              "      <th>continent</th>\n",
              "      <th>location</th>\n",
              "      <th>date</th>\n",
              "      <th>total_cases</th>\n",
              "      <th>new_cases</th>\n",
              "      <th>total_deaths</th>\n",
              "      <th>new_deaths</th>\n",
              "      <th>total_cases_per_million</th>\n",
              "      <th>new_cases_per_million</th>\n",
              "      <th>total_deaths_per_million</th>\n",
              "      <th>new_deaths_per_million</th>\n",
              "      <th>new_tests</th>\n",
              "      <th>total_tests</th>\n",
              "      <th>total_tests_per_thousand</th>\n",
              "      <th>new_tests_per_thousand</th>\n",
              "      <th>new_tests_smoothed</th>\n",
              "      <th>new_tests_smoothed_per_thousand</th>\n",
              "      <th>tests_per_case</th>\n",
              "      <th>positive_rate</th>\n",
              "      <th>tests_units</th>\n",
              "      <th>stringency_index</th>\n",
              "      <th>population</th>\n",
              "      <th>population_density</th>\n",
              "      <th>median_age</th>\n",
              "      <th>aged_65_older</th>\n",
              "      <th>aged_70_older</th>\n",
              "      <th>gdp_per_capita</th>\n",
              "      <th>extreme_poverty</th>\n",
              "      <th>cardiovasc_death_rate</th>\n",
              "      <th>diabetes_prevalence</th>\n",
              "      <th>female_smokers</th>\n",
              "      <th>male_smokers</th>\n",
              "      <th>handwashing_facilities</th>\n",
              "      <th>hospital_beds_per_thousand</th>\n",
              "      <th>life_expectancy</th>\n",
              "    </tr>\n",
              "  </thead>\n",
              "  <tbody>\n",
              "    <tr>\n",
              "      <th>0</th>\n",
              "      <td>ABW</td>\n",
              "      <td>North America</td>\n",
              "      <td>Aruba</td>\n",
              "      <td>2020-03-13</td>\n",
              "      <td>2.0</td>\n",
              "      <td>2.0</td>\n",
              "      <td>0.0</td>\n",
              "      <td>0.0</td>\n",
              "      <td>18.733</td>\n",
              "      <td>18.733</td>\n",
              "      <td>0.0</td>\n",
              "      <td>0.0</td>\n",
              "      <td>NaN</td>\n",
              "      <td>NaN</td>\n",
              "      <td>NaN</td>\n",
              "      <td>NaN</td>\n",
              "      <td>NaN</td>\n",
              "      <td>NaN</td>\n",
              "      <td>NaN</td>\n",
              "      <td>NaN</td>\n",
              "      <td>NaN</td>\n",
              "      <td>0.00</td>\n",
              "      <td>106766.0</td>\n",
              "      <td>584.8</td>\n",
              "      <td>41.2</td>\n",
              "      <td>13.085</td>\n",
              "      <td>7.452</td>\n",
              "      <td>35973.781</td>\n",
              "      <td>NaN</td>\n",
              "      <td>NaN</td>\n",
              "      <td>11.62</td>\n",
              "      <td>NaN</td>\n",
              "      <td>NaN</td>\n",
              "      <td>NaN</td>\n",
              "      <td>NaN</td>\n",
              "      <td>76.29</td>\n",
              "    </tr>\n",
              "    <tr>\n",
              "      <th>1</th>\n",
              "      <td>ABW</td>\n",
              "      <td>North America</td>\n",
              "      <td>Aruba</td>\n",
              "      <td>2020-03-20</td>\n",
              "      <td>4.0</td>\n",
              "      <td>2.0</td>\n",
              "      <td>0.0</td>\n",
              "      <td>0.0</td>\n",
              "      <td>37.465</td>\n",
              "      <td>18.733</td>\n",
              "      <td>0.0</td>\n",
              "      <td>0.0</td>\n",
              "      <td>NaN</td>\n",
              "      <td>NaN</td>\n",
              "      <td>NaN</td>\n",
              "      <td>NaN</td>\n",
              "      <td>NaN</td>\n",
              "      <td>NaN</td>\n",
              "      <td>NaN</td>\n",
              "      <td>NaN</td>\n",
              "      <td>NaN</td>\n",
              "      <td>33.33</td>\n",
              "      <td>106766.0</td>\n",
              "      <td>584.8</td>\n",
              "      <td>41.2</td>\n",
              "      <td>13.085</td>\n",
              "      <td>7.452</td>\n",
              "      <td>35973.781</td>\n",
              "      <td>NaN</td>\n",
              "      <td>NaN</td>\n",
              "      <td>11.62</td>\n",
              "      <td>NaN</td>\n",
              "      <td>NaN</td>\n",
              "      <td>NaN</td>\n",
              "      <td>NaN</td>\n",
              "      <td>76.29</td>\n",
              "    </tr>\n",
              "    <tr>\n",
              "      <th>2</th>\n",
              "      <td>ABW</td>\n",
              "      <td>North America</td>\n",
              "      <td>Aruba</td>\n",
              "      <td>2020-03-24</td>\n",
              "      <td>12.0</td>\n",
              "      <td>8.0</td>\n",
              "      <td>0.0</td>\n",
              "      <td>0.0</td>\n",
              "      <td>112.395</td>\n",
              "      <td>74.930</td>\n",
              "      <td>0.0</td>\n",
              "      <td>0.0</td>\n",
              "      <td>NaN</td>\n",
              "      <td>NaN</td>\n",
              "      <td>NaN</td>\n",
              "      <td>NaN</td>\n",
              "      <td>NaN</td>\n",
              "      <td>NaN</td>\n",
              "      <td>NaN</td>\n",
              "      <td>NaN</td>\n",
              "      <td>NaN</td>\n",
              "      <td>44.44</td>\n",
              "      <td>106766.0</td>\n",
              "      <td>584.8</td>\n",
              "      <td>41.2</td>\n",
              "      <td>13.085</td>\n",
              "      <td>7.452</td>\n",
              "      <td>35973.781</td>\n",
              "      <td>NaN</td>\n",
              "      <td>NaN</td>\n",
              "      <td>11.62</td>\n",
              "      <td>NaN</td>\n",
              "      <td>NaN</td>\n",
              "      <td>NaN</td>\n",
              "      <td>NaN</td>\n",
              "      <td>76.29</td>\n",
              "    </tr>\n",
              "    <tr>\n",
              "      <th>3</th>\n",
              "      <td>ABW</td>\n",
              "      <td>North America</td>\n",
              "      <td>Aruba</td>\n",
              "      <td>2020-03-25</td>\n",
              "      <td>17.0</td>\n",
              "      <td>5.0</td>\n",
              "      <td>0.0</td>\n",
              "      <td>0.0</td>\n",
              "      <td>159.227</td>\n",
              "      <td>46.831</td>\n",
              "      <td>0.0</td>\n",
              "      <td>0.0</td>\n",
              "      <td>NaN</td>\n",
              "      <td>NaN</td>\n",
              "      <td>NaN</td>\n",
              "      <td>NaN</td>\n",
              "      <td>NaN</td>\n",
              "      <td>NaN</td>\n",
              "      <td>NaN</td>\n",
              "      <td>NaN</td>\n",
              "      <td>NaN</td>\n",
              "      <td>44.44</td>\n",
              "      <td>106766.0</td>\n",
              "      <td>584.8</td>\n",
              "      <td>41.2</td>\n",
              "      <td>13.085</td>\n",
              "      <td>7.452</td>\n",
              "      <td>35973.781</td>\n",
              "      <td>NaN</td>\n",
              "      <td>NaN</td>\n",
              "      <td>11.62</td>\n",
              "      <td>NaN</td>\n",
              "      <td>NaN</td>\n",
              "      <td>NaN</td>\n",
              "      <td>NaN</td>\n",
              "      <td>76.29</td>\n",
              "    </tr>\n",
              "    <tr>\n",
              "      <th>4</th>\n",
              "      <td>ABW</td>\n",
              "      <td>North America</td>\n",
              "      <td>Aruba</td>\n",
              "      <td>2020-03-26</td>\n",
              "      <td>19.0</td>\n",
              "      <td>2.0</td>\n",
              "      <td>0.0</td>\n",
              "      <td>0.0</td>\n",
              "      <td>177.959</td>\n",
              "      <td>18.733</td>\n",
              "      <td>0.0</td>\n",
              "      <td>0.0</td>\n",
              "      <td>NaN</td>\n",
              "      <td>NaN</td>\n",
              "      <td>NaN</td>\n",
              "      <td>NaN</td>\n",
              "      <td>NaN</td>\n",
              "      <td>NaN</td>\n",
              "      <td>NaN</td>\n",
              "      <td>NaN</td>\n",
              "      <td>NaN</td>\n",
              "      <td>44.44</td>\n",
              "      <td>106766.0</td>\n",
              "      <td>584.8</td>\n",
              "      <td>41.2</td>\n",
              "      <td>13.085</td>\n",
              "      <td>7.452</td>\n",
              "      <td>35973.781</td>\n",
              "      <td>NaN</td>\n",
              "      <td>NaN</td>\n",
              "      <td>11.62</td>\n",
              "      <td>NaN</td>\n",
              "      <td>NaN</td>\n",
              "      <td>NaN</td>\n",
              "      <td>NaN</td>\n",
              "      <td>76.29</td>\n",
              "    </tr>\n",
              "  </tbody>\n",
              "</table>\n",
              "</div>"
            ],
            "text/plain": [
              "  iso_code      continent  ... hospital_beds_per_thousand life_expectancy\n",
              "0      ABW  North America  ...                        NaN           76.29\n",
              "1      ABW  North America  ...                        NaN           76.29\n",
              "2      ABW  North America  ...                        NaN           76.29\n",
              "3      ABW  North America  ...                        NaN           76.29\n",
              "4      ABW  North America  ...                        NaN           76.29\n",
              "\n",
              "[5 rows x 36 columns]"
            ]
          },
          "metadata": {
            "tags": []
          },
          "execution_count": 3
        }
      ]
    },
    {
      "cell_type": "code",
      "metadata": {
        "id": "aYBFYnKtiIkQ",
        "colab_type": "code",
        "colab": {
          "base_uri": "https://localhost:8080/",
          "height": 191
        },
        "outputId": "101fe3ea-401a-4840-81e0-93c1e23b7137"
      },
      "source": [
        "# Trying to isolate location based on currency in question\n",
        "us_death_rates = covid_dataset.loc[covid_dataset.location=='United States', ['location', 'date', 'total_cases', 'total_deaths']]\n",
        "us_death_rates.head()"
      ],
      "execution_count": 4,
      "outputs": [
        {
          "output_type": "execute_result",
          "data": {
            "text/html": [
              "<div>\n",
              "<style scoped>\n",
              "    .dataframe tbody tr th:only-of-type {\n",
              "        vertical-align: middle;\n",
              "    }\n",
              "\n",
              "    .dataframe tbody tr th {\n",
              "        vertical-align: top;\n",
              "    }\n",
              "\n",
              "    .dataframe thead th {\n",
              "        text-align: right;\n",
              "    }\n",
              "</style>\n",
              "<table border=\"1\" class=\"dataframe\">\n",
              "  <thead>\n",
              "    <tr style=\"text-align: right;\">\n",
              "      <th></th>\n",
              "      <th>location</th>\n",
              "      <th>date</th>\n",
              "      <th>total_cases</th>\n",
              "      <th>total_deaths</th>\n",
              "    </tr>\n",
              "  </thead>\n",
              "  <tbody>\n",
              "    <tr>\n",
              "      <th>32403</th>\n",
              "      <td>United States</td>\n",
              "      <td>2019-12-31</td>\n",
              "      <td>0.0</td>\n",
              "      <td>0.0</td>\n",
              "    </tr>\n",
              "    <tr>\n",
              "      <th>32404</th>\n",
              "      <td>United States</td>\n",
              "      <td>2020-01-01</td>\n",
              "      <td>0.0</td>\n",
              "      <td>0.0</td>\n",
              "    </tr>\n",
              "    <tr>\n",
              "      <th>32405</th>\n",
              "      <td>United States</td>\n",
              "      <td>2020-01-02</td>\n",
              "      <td>0.0</td>\n",
              "      <td>0.0</td>\n",
              "    </tr>\n",
              "    <tr>\n",
              "      <th>32406</th>\n",
              "      <td>United States</td>\n",
              "      <td>2020-01-03</td>\n",
              "      <td>0.0</td>\n",
              "      <td>0.0</td>\n",
              "    </tr>\n",
              "    <tr>\n",
              "      <th>32407</th>\n",
              "      <td>United States</td>\n",
              "      <td>2020-01-04</td>\n",
              "      <td>0.0</td>\n",
              "      <td>0.0</td>\n",
              "    </tr>\n",
              "  </tbody>\n",
              "</table>\n",
              "</div>"
            ],
            "text/plain": [
              "            location        date  total_cases  total_deaths\n",
              "32403  United States  2019-12-31          0.0           0.0\n",
              "32404  United States  2020-01-01          0.0           0.0\n",
              "32405  United States  2020-01-02          0.0           0.0\n",
              "32406  United States  2020-01-03          0.0           0.0\n",
              "32407  United States  2020-01-04          0.0           0.0"
            ]
          },
          "metadata": {
            "tags": []
          },
          "execution_count": 4
        }
      ]
    },
    {
      "cell_type": "code",
      "metadata": {
        "id": "kIDXEXFDf4N5",
        "colab_type": "code",
        "colab": {}
      },
      "source": [
        "# Import forex\n",
        "forex_dataset_data= pd.read_csv('dollar_pound.csv', na_values = \"?\", comment='\\t', skipinitialspace=True)\n",
        "forex_dataset = forex_dataset_data.copy()\n",
        "forex_dataset = forex_dataset.fillna(method='ffill')\n",
        "# forex_dataset = forex_dataset_data.dropna()"
      ],
      "execution_count": 5,
      "outputs": []
    },
    {
      "cell_type": "code",
      "metadata": {
        "id": "qPnqCkJRbboH",
        "colab_type": "code",
        "colab": {
          "base_uri": "https://localhost:8080/",
          "height": 66
        },
        "outputId": "1b0cfb09-98bb-4f77-acf0-fd49facc2e21"
      },
      "source": [
        "# Why are these different?\n",
        "print(us_death_rates.shape), print(forex_dataset.shape)"
      ],
      "execution_count": 6,
      "outputs": [
        {
          "output_type": "stream",
          "text": [
            "(218, 4)\n",
            "(214, 6)\n"
          ],
          "name": "stdout"
        },
        {
          "output_type": "execute_result",
          "data": {
            "text/plain": [
              "(None, None)"
            ]
          },
          "metadata": {
            "tags": []
          },
          "execution_count": 6
        }
      ]
    },
    {
      "cell_type": "markdown",
      "metadata": {
        "id": "C53hVpItH0az",
        "colab_type": "text"
      },
      "source": [
        "# Data Preprocessing / Data Cleaning & Collating\n",
        "*   Eliminating columns we dont want\n",
        "*   Merging tables based on 'Date' column\n",
        "*   Dates in question: Dec 31 2019 - Jul 31, 2020\n",
        "*   Once complete we pop the 'date' we merged on "
      ]
    },
    {
      "cell_type": "code",
      "metadata": {
        "id": "jIpYbWz2HxyG",
        "colab_type": "code",
        "colab": {
          "base_uri": "https://localhost:8080/",
          "height": 212
        },
        "outputId": "807e444c-8a8a-4b4f-9c73-abdbf790d27f"
      },
      "source": [
        "# Filter dataset\n",
        "forex_dataset.pop('Open')\n",
        "forex_dataset.pop('High')\n",
        "forex_dataset.pop('Low')\n",
        "forex_dataset.pop('Change %')"
      ],
      "execution_count": 7,
      "outputs": [
        {
          "output_type": "execute_result",
          "data": {
            "text/plain": [
              "0      -0.04%\n",
              "1       0.76%\n",
              "2       0.49%\n",
              "3       0.38%\n",
              "4       0.72%\n",
              "        ...  \n",
              "209     0.62%\n",
              "210    -0.44%\n",
              "211    -0.82%\n",
              "212    -0.05%\n",
              "213     1.11%\n",
              "Name: Change %, Length: 214, dtype: object"
            ]
          },
          "metadata": {
            "tags": []
          },
          "execution_count": 7
        }
      ]
    },
    {
      "cell_type": "code",
      "metadata": {
        "id": "vrVetfeGgSm7",
        "colab_type": "code",
        "colab": {
          "base_uri": "https://localhost:8080/",
          "height": 191
        },
        "outputId": "409e176f-0de6-4648-edc6-a7ddc636d91d"
      },
      "source": [
        "# Isolate covid_date\n",
        "import time \n",
        "us_date = us_death_rates['date']\n",
        "new_us_dates = [time.strptime(x.replace(\"-\",\" \"), '%Y %m %d')for x in us_date]\n",
        "us_death_rates['date'] = new_us_dates\n",
        "us_death_rates.head()\n"
      ],
      "execution_count": 8,
      "outputs": [
        {
          "output_type": "execute_result",
          "data": {
            "text/html": [
              "<div>\n",
              "<style scoped>\n",
              "    .dataframe tbody tr th:only-of-type {\n",
              "        vertical-align: middle;\n",
              "    }\n",
              "\n",
              "    .dataframe tbody tr th {\n",
              "        vertical-align: top;\n",
              "    }\n",
              "\n",
              "    .dataframe thead th {\n",
              "        text-align: right;\n",
              "    }\n",
              "</style>\n",
              "<table border=\"1\" class=\"dataframe\">\n",
              "  <thead>\n",
              "    <tr style=\"text-align: right;\">\n",
              "      <th></th>\n",
              "      <th>location</th>\n",
              "      <th>date</th>\n",
              "      <th>total_cases</th>\n",
              "      <th>total_deaths</th>\n",
              "    </tr>\n",
              "  </thead>\n",
              "  <tbody>\n",
              "    <tr>\n",
              "      <th>32403</th>\n",
              "      <td>United States</td>\n",
              "      <td>(2019, 12, 31, 0, 0, 0, 1, 365, -1)</td>\n",
              "      <td>0.0</td>\n",
              "      <td>0.0</td>\n",
              "    </tr>\n",
              "    <tr>\n",
              "      <th>32404</th>\n",
              "      <td>United States</td>\n",
              "      <td>(2020, 1, 1, 0, 0, 0, 2, 1, -1)</td>\n",
              "      <td>0.0</td>\n",
              "      <td>0.0</td>\n",
              "    </tr>\n",
              "    <tr>\n",
              "      <th>32405</th>\n",
              "      <td>United States</td>\n",
              "      <td>(2020, 1, 2, 0, 0, 0, 3, 2, -1)</td>\n",
              "      <td>0.0</td>\n",
              "      <td>0.0</td>\n",
              "    </tr>\n",
              "    <tr>\n",
              "      <th>32406</th>\n",
              "      <td>United States</td>\n",
              "      <td>(2020, 1, 3, 0, 0, 0, 4, 3, -1)</td>\n",
              "      <td>0.0</td>\n",
              "      <td>0.0</td>\n",
              "    </tr>\n",
              "    <tr>\n",
              "      <th>32407</th>\n",
              "      <td>United States</td>\n",
              "      <td>(2020, 1, 4, 0, 0, 0, 5, 4, -1)</td>\n",
              "      <td>0.0</td>\n",
              "      <td>0.0</td>\n",
              "    </tr>\n",
              "  </tbody>\n",
              "</table>\n",
              "</div>"
            ],
            "text/plain": [
              "            location  ... total_deaths\n",
              "32403  United States  ...          0.0\n",
              "32404  United States  ...          0.0\n",
              "32405  United States  ...          0.0\n",
              "32406  United States  ...          0.0\n",
              "32407  United States  ...          0.0\n",
              "\n",
              "[5 rows x 4 columns]"
            ]
          },
          "metadata": {
            "tags": []
          },
          "execution_count": 8
        }
      ]
    },
    {
      "cell_type": "code",
      "metadata": {
        "id": "IGR0p0YWh9jH",
        "colab_type": "code",
        "colab": {
          "base_uri": "https://localhost:8080/",
          "height": 191
        },
        "outputId": "ca3b5219-a932-467b-bf57-3be062a3e33e"
      },
      "source": [
        "# Isolate forex_date\n",
        "import time \n",
        "forex_date = forex_dataset['Date']\n",
        "new_forex_dates = [time.strptime(x.replace(',', \"\"), '%b %d %Y')for x in forex_date]\n",
        "forex_dataset['Date'] = new_forex_dates\n",
        "forex_dataset.tail()\n"
      ],
      "execution_count": 9,
      "outputs": [
        {
          "output_type": "execute_result",
          "data": {
            "text/html": [
              "<div>\n",
              "<style scoped>\n",
              "    .dataframe tbody tr th:only-of-type {\n",
              "        vertical-align: middle;\n",
              "    }\n",
              "\n",
              "    .dataframe tbody tr th {\n",
              "        vertical-align: top;\n",
              "    }\n",
              "\n",
              "    .dataframe thead th {\n",
              "        text-align: right;\n",
              "    }\n",
              "</style>\n",
              "<table border=\"1\" class=\"dataframe\">\n",
              "  <thead>\n",
              "    <tr style=\"text-align: right;\">\n",
              "      <th></th>\n",
              "      <th>Date</th>\n",
              "      <th>Price</th>\n",
              "    </tr>\n",
              "  </thead>\n",
              "  <tbody>\n",
              "    <tr>\n",
              "      <th>209</th>\n",
              "      <td>(2020, 1, 4, 0, 0, 0, 5, 4, -1)</td>\n",
              "      <td>1.3169</td>\n",
              "    </tr>\n",
              "    <tr>\n",
              "      <th>210</th>\n",
              "      <td>(2020, 1, 3, 0, 0, 0, 4, 3, -1)</td>\n",
              "      <td>1.3088</td>\n",
              "    </tr>\n",
              "    <tr>\n",
              "      <th>211</th>\n",
              "      <td>(2020, 1, 2, 0, 0, 0, 3, 2, -1)</td>\n",
              "      <td>1.3146</td>\n",
              "    </tr>\n",
              "    <tr>\n",
              "      <th>212</th>\n",
              "      <td>(2020, 1, 1, 0, 0, 0, 2, 1, -1)</td>\n",
              "      <td>1.3255</td>\n",
              "    </tr>\n",
              "    <tr>\n",
              "      <th>213</th>\n",
              "      <td>(2019, 12, 31, 0, 0, 0, 1, 365, -1)</td>\n",
              "      <td>1.3261</td>\n",
              "    </tr>\n",
              "  </tbody>\n",
              "</table>\n",
              "</div>"
            ],
            "text/plain": [
              "                                    Date   Price\n",
              "209      (2020, 1, 4, 0, 0, 0, 5, 4, -1)  1.3169\n",
              "210      (2020, 1, 3, 0, 0, 0, 4, 3, -1)  1.3088\n",
              "211      (2020, 1, 2, 0, 0, 0, 3, 2, -1)  1.3146\n",
              "212      (2020, 1, 1, 0, 0, 0, 2, 1, -1)  1.3255\n",
              "213  (2019, 12, 31, 0, 0, 0, 1, 365, -1)  1.3261"
            ]
          },
          "metadata": {
            "tags": []
          },
          "execution_count": 9
        }
      ]
    },
    {
      "cell_type": "code",
      "metadata": {
        "id": "OiFVDAF0ngrx",
        "colab_type": "code",
        "colab": {
          "base_uri": "https://localhost:8080/",
          "height": 261
        },
        "outputId": "d62bbe5d-a0ea-4878-a279-8c218eefb614"
      },
      "source": [
        "# Merging dates from two tables\n",
        "dataset = pd.merge(left=forex_dataset, left_on='Date',\n",
        "         right=us_death_rates, right_on='date')\n",
        "dataset.tail()\n",
        "print(dataset)\n",
        "len(dataset)"
      ],
      "execution_count": 10,
      "outputs": [
        {
          "output_type": "stream",
          "text": [
            "                                    Date   Price  ... total_cases total_deaths\n",
            "0     (2020, 7, 31, 0, 0, 0, 4, 213, -1)  1.3090  ...   4495014.0     152070.0\n",
            "1     (2020, 7, 30, 0, 0, 0, 3, 212, -1)  1.3095  ...   4426982.0     150713.0\n",
            "2     (2020, 7, 29, 0, 0, 0, 2, 211, -1)  1.2996  ...   4351997.0     149256.0\n",
            "3     (2020, 7, 28, 0, 0, 0, 1, 210, -1)  1.2932  ...   4290263.0     148011.0\n",
            "4     (2020, 7, 27, 0, 0, 0, 0, 209, -1)  1.2882  ...   4234020.0     146935.0\n",
            "..                                   ...     ...  ...         ...          ...\n",
            "209      (2020, 1, 4, 0, 0, 0, 5, 4, -1)  1.3169  ...         0.0          0.0\n",
            "210      (2020, 1, 3, 0, 0, 0, 4, 3, -1)  1.3088  ...         0.0          0.0\n",
            "211      (2020, 1, 2, 0, 0, 0, 3, 2, -1)  1.3146  ...         0.0          0.0\n",
            "212      (2020, 1, 1, 0, 0, 0, 2, 1, -1)  1.3255  ...         0.0          0.0\n",
            "213  (2019, 12, 31, 0, 0, 0, 1, 365, -1)  1.3261  ...         0.0          0.0\n",
            "\n",
            "[214 rows x 6 columns]\n"
          ],
          "name": "stdout"
        },
        {
          "output_type": "execute_result",
          "data": {
            "text/plain": [
              "214"
            ]
          },
          "metadata": {
            "tags": []
          },
          "execution_count": 10
        }
      ]
    },
    {
      "cell_type": "code",
      "metadata": {
        "id": "a9A_G1s9ETvi",
        "colab_type": "code",
        "colab": {
          "base_uri": "https://localhost:8080/",
          "height": 212
        },
        "outputId": "ff180a96-76d6-4613-ea8f-3757e087364f"
      },
      "source": [
        "# We pop the 'date' from the covid_dataset because this column starts later than the forex column\n",
        "# We want to see the forex price before covid happened\n",
        "dataset.pop('date')"
      ],
      "execution_count": 11,
      "outputs": [
        {
          "output_type": "execute_result",
          "data": {
            "text/plain": [
              "0       (2020, 7, 31, 0, 0, 0, 4, 213, -1)\n",
              "1       (2020, 7, 30, 0, 0, 0, 3, 212, -1)\n",
              "2       (2020, 7, 29, 0, 0, 0, 2, 211, -1)\n",
              "3       (2020, 7, 28, 0, 0, 0, 1, 210, -1)\n",
              "4       (2020, 7, 27, 0, 0, 0, 0, 209, -1)\n",
              "                      ...                 \n",
              "209        (2020, 1, 4, 0, 0, 0, 5, 4, -1)\n",
              "210        (2020, 1, 3, 0, 0, 0, 4, 3, -1)\n",
              "211        (2020, 1, 2, 0, 0, 0, 3, 2, -1)\n",
              "212        (2020, 1, 1, 0, 0, 0, 2, 1, -1)\n",
              "213    (2019, 12, 31, 0, 0, 0, 1, 365, -1)\n",
              "Name: date, Length: 214, dtype: object"
            ]
          },
          "metadata": {
            "tags": []
          },
          "execution_count": 11
        }
      ]
    },
    {
      "cell_type": "code",
      "metadata": {
        "id": "Rz0-4V24EY65",
        "colab_type": "code",
        "colab": {
          "base_uri": "https://localhost:8080/",
          "height": 191
        },
        "outputId": "22dbe7b3-2a69-4686-e26e-0b424a8d90ba"
      },
      "source": [
        "dataset.head()"
      ],
      "execution_count": 12,
      "outputs": [
        {
          "output_type": "execute_result",
          "data": {
            "text/html": [
              "<div>\n",
              "<style scoped>\n",
              "    .dataframe tbody tr th:only-of-type {\n",
              "        vertical-align: middle;\n",
              "    }\n",
              "\n",
              "    .dataframe tbody tr th {\n",
              "        vertical-align: top;\n",
              "    }\n",
              "\n",
              "    .dataframe thead th {\n",
              "        text-align: right;\n",
              "    }\n",
              "</style>\n",
              "<table border=\"1\" class=\"dataframe\">\n",
              "  <thead>\n",
              "    <tr style=\"text-align: right;\">\n",
              "      <th></th>\n",
              "      <th>Date</th>\n",
              "      <th>Price</th>\n",
              "      <th>location</th>\n",
              "      <th>total_cases</th>\n",
              "      <th>total_deaths</th>\n",
              "    </tr>\n",
              "  </thead>\n",
              "  <tbody>\n",
              "    <tr>\n",
              "      <th>0</th>\n",
              "      <td>(2020, 7, 31, 0, 0, 0, 4, 213, -1)</td>\n",
              "      <td>1.3090</td>\n",
              "      <td>United States</td>\n",
              "      <td>4495014.0</td>\n",
              "      <td>152070.0</td>\n",
              "    </tr>\n",
              "    <tr>\n",
              "      <th>1</th>\n",
              "      <td>(2020, 7, 30, 0, 0, 0, 3, 212, -1)</td>\n",
              "      <td>1.3095</td>\n",
              "      <td>United States</td>\n",
              "      <td>4426982.0</td>\n",
              "      <td>150713.0</td>\n",
              "    </tr>\n",
              "    <tr>\n",
              "      <th>2</th>\n",
              "      <td>(2020, 7, 29, 0, 0, 0, 2, 211, -1)</td>\n",
              "      <td>1.2996</td>\n",
              "      <td>United States</td>\n",
              "      <td>4351997.0</td>\n",
              "      <td>149256.0</td>\n",
              "    </tr>\n",
              "    <tr>\n",
              "      <th>3</th>\n",
              "      <td>(2020, 7, 28, 0, 0, 0, 1, 210, -1)</td>\n",
              "      <td>1.2932</td>\n",
              "      <td>United States</td>\n",
              "      <td>4290263.0</td>\n",
              "      <td>148011.0</td>\n",
              "    </tr>\n",
              "    <tr>\n",
              "      <th>4</th>\n",
              "      <td>(2020, 7, 27, 0, 0, 0, 0, 209, -1)</td>\n",
              "      <td>1.2882</td>\n",
              "      <td>United States</td>\n",
              "      <td>4234020.0</td>\n",
              "      <td>146935.0</td>\n",
              "    </tr>\n",
              "  </tbody>\n",
              "</table>\n",
              "</div>"
            ],
            "text/plain": [
              "                                 Date   Price  ... total_cases  total_deaths\n",
              "0  (2020, 7, 31, 0, 0, 0, 4, 213, -1)  1.3090  ...   4495014.0      152070.0\n",
              "1  (2020, 7, 30, 0, 0, 0, 3, 212, -1)  1.3095  ...   4426982.0      150713.0\n",
              "2  (2020, 7, 29, 0, 0, 0, 2, 211, -1)  1.2996  ...   4351997.0      149256.0\n",
              "3  (2020, 7, 28, 0, 0, 0, 1, 210, -1)  1.2932  ...   4290263.0      148011.0\n",
              "4  (2020, 7, 27, 0, 0, 0, 0, 209, -1)  1.2882  ...   4234020.0      146935.0\n",
              "\n",
              "[5 rows x 5 columns]"
            ]
          },
          "metadata": {
            "tags": []
          },
          "execution_count": 12
        }
      ]
    },
    {
      "cell_type": "markdown",
      "metadata": {
        "id": "wvb8c8CBIOqM",
        "colab_type": "text"
      },
      "source": [
        "# Plotting Features before Normalisation"
      ]
    },
    {
      "cell_type": "markdown",
      "metadata": {
        "id": "sUHm8QrsbzcG",
        "colab_type": "text"
      },
      "source": [
        "## Organising date for plotting"
      ]
    },
    {
      "cell_type": "code",
      "metadata": {
        "id": "I9kHcA_4tAqL",
        "colab_type": "code",
        "colab": {
          "base_uri": "https://localhost:8080/",
          "height": 245
        },
        "outputId": "4d77bdc1-2edf-4bb3-9a86-a49c76915847"
      },
      "source": [
        "# View what date looks like\n",
        "# Splitting timestamp and isolating the date\n",
        "date = dataset['Date']\n",
        "dateFormatting = pd.DataFrame({'new_date': pd.date_range('2019-12-31', '2020-07-31', periods=len(date))})\n",
        "print(dateFormatting)"
      ],
      "execution_count": 13,
      "outputs": [
        {
          "output_type": "stream",
          "text": [
            "      new_date\n",
            "0   2019-12-31\n",
            "1   2020-01-01\n",
            "2   2020-01-02\n",
            "3   2020-01-03\n",
            "4   2020-01-04\n",
            "..         ...\n",
            "209 2020-07-27\n",
            "210 2020-07-28\n",
            "211 2020-07-29\n",
            "212 2020-07-30\n",
            "213 2020-07-31\n",
            "\n",
            "[214 rows x 1 columns]\n"
          ],
          "name": "stdout"
        }
      ]
    },
    {
      "cell_type": "code",
      "metadata": {
        "id": "Tav3LALn4KN2",
        "colab_type": "code",
        "colab": {
          "base_uri": "https://localhost:8080/",
          "height": 53
        },
        "outputId": "8dac36d6-7c00-41a4-e088-066f9018313a"
      },
      "source": [
        "# Convert date to list so that we can use the dates to plot on graph\n",
        "my_xticks = dateFormatting['new_date'].tolist()\n",
        "print(my_xticks)"
      ],
      "execution_count": 14,
      "outputs": [
        {
          "output_type": "stream",
          "text": [
            "[Timestamp('2019-12-31 00:00:00'), Timestamp('2020-01-01 00:00:00'), Timestamp('2020-01-02 00:00:00'), Timestamp('2020-01-03 00:00:00'), Timestamp('2020-01-04 00:00:00'), Timestamp('2020-01-05 00:00:00'), Timestamp('2020-01-06 00:00:00'), Timestamp('2020-01-07 00:00:00'), Timestamp('2020-01-08 00:00:00'), Timestamp('2020-01-09 00:00:00'), Timestamp('2020-01-10 00:00:00'), Timestamp('2020-01-11 00:00:00'), Timestamp('2020-01-12 00:00:00'), Timestamp('2020-01-13 00:00:00'), Timestamp('2020-01-14 00:00:00'), Timestamp('2020-01-15 00:00:00'), Timestamp('2020-01-16 00:00:00'), Timestamp('2020-01-17 00:00:00'), Timestamp('2020-01-18 00:00:00'), Timestamp('2020-01-19 00:00:00'), Timestamp('2020-01-20 00:00:00'), Timestamp('2020-01-21 00:00:00'), Timestamp('2020-01-22 00:00:00'), Timestamp('2020-01-23 00:00:00'), Timestamp('2020-01-24 00:00:00'), Timestamp('2020-01-25 00:00:00'), Timestamp('2020-01-26 00:00:00'), Timestamp('2020-01-27 00:00:00'), Timestamp('2020-01-28 00:00:00'), Timestamp('2020-01-29 00:00:00'), Timestamp('2020-01-30 00:00:00'), Timestamp('2020-01-31 00:00:00'), Timestamp('2020-02-01 00:00:00'), Timestamp('2020-02-02 00:00:00'), Timestamp('2020-02-03 00:00:00'), Timestamp('2020-02-04 00:00:00'), Timestamp('2020-02-05 00:00:00'), Timestamp('2020-02-06 00:00:00'), Timestamp('2020-02-07 00:00:00'), Timestamp('2020-02-08 00:00:00'), Timestamp('2020-02-09 00:00:00'), Timestamp('2020-02-10 00:00:00'), Timestamp('2020-02-11 00:00:00'), Timestamp('2020-02-12 00:00:00'), Timestamp('2020-02-13 00:00:00'), Timestamp('2020-02-14 00:00:00'), Timestamp('2020-02-15 00:00:00'), Timestamp('2020-02-16 00:00:00'), Timestamp('2020-02-17 00:00:00'), Timestamp('2020-02-18 00:00:00'), Timestamp('2020-02-19 00:00:00'), Timestamp('2020-02-20 00:00:00'), Timestamp('2020-02-21 00:00:00'), Timestamp('2020-02-22 00:00:00'), Timestamp('2020-02-23 00:00:00'), Timestamp('2020-02-24 00:00:00'), Timestamp('2020-02-25 00:00:00'), Timestamp('2020-02-26 00:00:00'), Timestamp('2020-02-27 00:00:00'), Timestamp('2020-02-28 00:00:00'), Timestamp('2020-02-29 00:00:00'), Timestamp('2020-03-01 00:00:00'), Timestamp('2020-03-02 00:00:00'), Timestamp('2020-03-03 00:00:00'), Timestamp('2020-03-04 00:00:00'), Timestamp('2020-03-05 00:00:00'), Timestamp('2020-03-06 00:00:00'), Timestamp('2020-03-07 00:00:00'), Timestamp('2020-03-08 00:00:00'), Timestamp('2020-03-09 00:00:00'), Timestamp('2020-03-10 00:00:00'), Timestamp('2020-03-11 00:00:00'), Timestamp('2020-03-12 00:00:00'), Timestamp('2020-03-13 00:00:00'), Timestamp('2020-03-14 00:00:00'), Timestamp('2020-03-15 00:00:00'), Timestamp('2020-03-16 00:00:00'), Timestamp('2020-03-17 00:00:00'), Timestamp('2020-03-18 00:00:00'), Timestamp('2020-03-19 00:00:00'), Timestamp('2020-03-20 00:00:00'), Timestamp('2020-03-21 00:00:00'), Timestamp('2020-03-22 00:00:00'), Timestamp('2020-03-23 00:00:00'), Timestamp('2020-03-24 00:00:00'), Timestamp('2020-03-25 00:00:00'), Timestamp('2020-03-26 00:00:00'), Timestamp('2020-03-27 00:00:00'), Timestamp('2020-03-28 00:00:00'), Timestamp('2020-03-29 00:00:00'), Timestamp('2020-03-30 00:00:00'), Timestamp('2020-03-31 00:00:00'), Timestamp('2020-04-01 00:00:00'), Timestamp('2020-04-02 00:00:00'), Timestamp('2020-04-03 00:00:00'), Timestamp('2020-04-04 00:00:00'), Timestamp('2020-04-05 00:00:00'), Timestamp('2020-04-06 00:00:00'), Timestamp('2020-04-07 00:00:00'), Timestamp('2020-04-08 00:00:00'), Timestamp('2020-04-09 00:00:00'), Timestamp('2020-04-10 00:00:00'), Timestamp('2020-04-11 00:00:00'), Timestamp('2020-04-12 00:00:00'), Timestamp('2020-04-13 00:00:00'), Timestamp('2020-04-14 00:00:00'), Timestamp('2020-04-15 00:00:00'), Timestamp('2020-04-16 00:00:00'), Timestamp('2020-04-17 00:00:00'), Timestamp('2020-04-18 00:00:00'), Timestamp('2020-04-19 00:00:00'), Timestamp('2020-04-20 00:00:00'), Timestamp('2020-04-21 00:00:00'), Timestamp('2020-04-22 00:00:00'), Timestamp('2020-04-23 00:00:00'), Timestamp('2020-04-24 00:00:00'), Timestamp('2020-04-25 00:00:00'), Timestamp('2020-04-26 00:00:00'), Timestamp('2020-04-27 00:00:00'), Timestamp('2020-04-28 00:00:00'), Timestamp('2020-04-29 00:00:00'), Timestamp('2020-04-30 00:00:00'), Timestamp('2020-05-01 00:00:00'), Timestamp('2020-05-02 00:00:00'), Timestamp('2020-05-03 00:00:00'), Timestamp('2020-05-04 00:00:00'), Timestamp('2020-05-05 00:00:00'), Timestamp('2020-05-06 00:00:00'), Timestamp('2020-05-07 00:00:00'), Timestamp('2020-05-08 00:00:00'), Timestamp('2020-05-09 00:00:00'), Timestamp('2020-05-10 00:00:00'), Timestamp('2020-05-11 00:00:00'), Timestamp('2020-05-12 00:00:00'), Timestamp('2020-05-13 00:00:00'), Timestamp('2020-05-14 00:00:00'), Timestamp('2020-05-15 00:00:00'), Timestamp('2020-05-16 00:00:00'), Timestamp('2020-05-17 00:00:00'), Timestamp('2020-05-18 00:00:00'), Timestamp('2020-05-19 00:00:00'), Timestamp('2020-05-20 00:00:00'), Timestamp('2020-05-21 00:00:00'), Timestamp('2020-05-22 00:00:00'), Timestamp('2020-05-23 00:00:00'), Timestamp('2020-05-24 00:00:00'), Timestamp('2020-05-25 00:00:00'), Timestamp('2020-05-26 00:00:00'), Timestamp('2020-05-27 00:00:00'), Timestamp('2020-05-28 00:00:00'), Timestamp('2020-05-29 00:00:00'), Timestamp('2020-05-30 00:00:00'), Timestamp('2020-05-31 00:00:00'), Timestamp('2020-06-01 00:00:00'), Timestamp('2020-06-02 00:00:00'), Timestamp('2020-06-03 00:00:00'), Timestamp('2020-06-04 00:00:00'), Timestamp('2020-06-05 00:00:00'), Timestamp('2020-06-06 00:00:00'), Timestamp('2020-06-07 00:00:00'), Timestamp('2020-06-08 00:00:00'), Timestamp('2020-06-09 00:00:00'), Timestamp('2020-06-10 00:00:00'), Timestamp('2020-06-11 00:00:00'), Timestamp('2020-06-12 00:00:00'), Timestamp('2020-06-13 00:00:00'), Timestamp('2020-06-14 00:00:00'), Timestamp('2020-06-15 00:00:00'), Timestamp('2020-06-16 00:00:00'), Timestamp('2020-06-17 00:00:00'), Timestamp('2020-06-18 00:00:00'), Timestamp('2020-06-19 00:00:00'), Timestamp('2020-06-20 00:00:00'), Timestamp('2020-06-21 00:00:00'), Timestamp('2020-06-22 00:00:00'), Timestamp('2020-06-23 00:00:00'), Timestamp('2020-06-24 00:00:00'), Timestamp('2020-06-25 00:00:00'), Timestamp('2020-06-26 00:00:00'), Timestamp('2020-06-27 00:00:00'), Timestamp('2020-06-28 00:00:00'), Timestamp('2020-06-29 00:00:00'), Timestamp('2020-06-30 00:00:00'), Timestamp('2020-07-01 00:00:00'), Timestamp('2020-07-02 00:00:00'), Timestamp('2020-07-03 00:00:00'), Timestamp('2020-07-04 00:00:00'), Timestamp('2020-07-05 00:00:00'), Timestamp('2020-07-06 00:00:00'), Timestamp('2020-07-07 00:00:00'), Timestamp('2020-07-08 00:00:00'), Timestamp('2020-07-09 00:00:00'), Timestamp('2020-07-10 00:00:00'), Timestamp('2020-07-11 00:00:00'), Timestamp('2020-07-12 00:00:00'), Timestamp('2020-07-13 00:00:00'), Timestamp('2020-07-14 00:00:00'), Timestamp('2020-07-15 00:00:00'), Timestamp('2020-07-16 00:00:00'), Timestamp('2020-07-17 00:00:00'), Timestamp('2020-07-18 00:00:00'), Timestamp('2020-07-19 00:00:00'), Timestamp('2020-07-20 00:00:00'), Timestamp('2020-07-21 00:00:00'), Timestamp('2020-07-22 00:00:00'), Timestamp('2020-07-23 00:00:00'), Timestamp('2020-07-24 00:00:00'), Timestamp('2020-07-25 00:00:00'), Timestamp('2020-07-26 00:00:00'), Timestamp('2020-07-27 00:00:00'), Timestamp('2020-07-28 00:00:00'), Timestamp('2020-07-29 00:00:00'), Timestamp('2020-07-30 00:00:00'), Timestamp('2020-07-31 00:00:00')]\n"
          ],
          "name": "stdout"
        }
      ]
    },
    {
      "cell_type": "markdown",
      "metadata": {
        "id": "jSj8rJl-b-N4",
        "colab_type": "text"
      },
      "source": [
        "## Plotting Forex Spot Price"
      ]
    },
    {
      "cell_type": "code",
      "metadata": {
        "id": "eDGMN3GG6wOL",
        "colab_type": "code",
        "colab": {
          "base_uri": "https://localhost:8080/",
          "height": 397
        },
        "outputId": "c55a7248-529e-4d74-b741-515159ccf069"
      },
      "source": [
        "# Plotted prices and dates\n",
        "# Notice how the dates start and end\n",
        "\n",
        "rcParams['figure.figsize'] = 15,6\n",
        "dates = np.array(dateFormatting['new_date'])\n",
        "price = np.array(dataset['Price'])\n",
        "plt.plot_date(dates,price, linestyle ='solid')\n",
        "plt.gcf().autofmt_xdate()\n",
        "date_format = mpl_dates.DateFormatter('%b,%d,%Y')\n",
        "plt.title('Time Series Price of USD compare to GBP')\n",
        "plt.xlabel('Date')\n",
        "plt.ylabel('Price')\n",
        "plt.gca().xaxis.set_major_formatter(date_format)"
      ],
      "execution_count": 15,
      "outputs": [
        {
          "output_type": "display_data",
          "data": {
            "image/png": "[encoded data removed]",
            "text/plain": [
              "<Figure size 1080x432 with 1 Axes>"
            ]
          },
          "metadata": {
            "tags": [],
            "needs_background": "light"
          }
        }
      ]
    },
    {
      "cell_type": "markdown",
      "metadata": {
        "id": "eLq3ETL8cKut",
        "colab_type": "text"
      },
      "source": [
        "## Plotting Accumulative Covid Deaths"
      ]
    },
    {
      "cell_type": "code",
      "metadata": {
        "id": "T30FJ5ONMRsa",
        "colab_type": "code",
        "colab": {}
      },
      "source": [
        "# Adds the accumulative deaths every day of a country\n",
        "# Problem – This needs to be sorted from the end since the way out data is set up - can this be made more efficient?\n",
        "total_us_deaths = dataset['total_deaths']\n",
        "list_arr = np.array(total_us_deaths)\n",
        "reversed_arr = list_arr[::-1]\n",
        "newDayDeaths = 0\n",
        "dayDeaths = []\n",
        "for currentday in reversed_arr:\n",
        "   newDayDeaths = currentday + newDayDeaths\n",
        "   dayDeaths.append(newDayDeaths)\n"
      ],
      "execution_count": 16,
      "outputs": []
    },
    {
      "cell_type": "code",
      "metadata": {
        "id": "oivvoebSMpRV",
        "colab_type": "code",
        "colab": {
          "base_uri": "https://localhost:8080/",
          "height": 397
        },
        "outputId": "e217fa3d-d24a-4bc3-9fa2-84b97914f069"
      },
      "source": [
        "# Plots the accumulative daily death rates of a country\n",
        "dates = np.array(dateFormatting['new_date'])\n",
        "us_deaths = np.array(dayDeaths)\n",
        "plt.plot_date(dates, us_deaths, linestyle ='solid')\n",
        "plt.gcf().autofmt_xdate()\n",
        "date_format = mpl_dates.DateFormatter('%b,%d,%Y')\n",
        "plt.title('Time Series of Total Deaths of US')\n",
        "plt.xlabel('Date')\n",
        "plt.ylabel('Total Deaths')\n",
        "plt.gca().xaxis.set_major_formatter(date_format)\n",
        "\n"
      ],
      "execution_count": 17,
      "outputs": [
        {
          "output_type": "display_data",
          "data": {
            "image/png": "[encoded data removed]",
            "text/plain": [
              "<Figure size 1080x432 with 1 Axes>"
            ]
          },
          "metadata": {
            "tags": [],
            "needs_background": "light"
          }
        }
      ]
    },
    {
      "cell_type": "markdown",
      "metadata": {
        "id": "oVbZeRPucT7P",
        "colab_type": "text"
      },
      "source": [
        "## Plotting Accumulative Positive Cases"
      ]
    },
    {
      "cell_type": "code",
      "metadata": {
        "id": "QyFwYb-WyPHq",
        "colab_type": "code",
        "colab": {}
      },
      "source": [
        "# Adds accumulative positive cases everyday\n",
        "total_us_cases = dataset['total_cases']\n",
        "list_arr = np.array(total_us_cases)\n",
        "reversed_arr = list_arr[::-1]\n",
        "newDayCases = 0\n",
        "dayCases = []\n",
        "for currentday in reversed_arr:\n",
        "   newDayCases = currentday + newDayCases\n",
        "   dayCases.append(newDayCases)"
      ],
      "execution_count": 18,
      "outputs": []
    },
    {
      "cell_type": "code",
      "metadata": {
        "id": "niRyurkWykGi",
        "colab_type": "code",
        "colab": {
          "base_uri": "https://localhost:8080/",
          "height": 397
        },
        "outputId": "1e595ccc-14d9-45f0-f273-a081069a0318"
      },
      "source": [
        "# Plots the accumulative daily death rates of a country\n",
        "dates = np.array(dateFormatting['new_date'])\n",
        "us_cases = np.array(dayCases)\n",
        "plt.plot_date(dates, us_cases, linestyle ='solid')\n",
        "plt.gcf().autofmt_xdate()\n",
        "date_format = mpl_dates.DateFormatter('%b,%d,%Y')\n",
        "plt.title('Time Series of Total Deaths of US')\n",
        "plt.xlabel('Date')\n",
        "plt.ylabel('Total Deaths')\n",
        "plt.gca().xaxis.set_major_formatter(date_format)"
      ],
      "execution_count": 19,
      "outputs": [
        {
          "output_type": "display_data",
          "data": {
            "image/png": "[encoded data removed]",
            "text/plain": [
              "<Figure size 1080x432 with 1 Axes>"
            ]
          },
          "metadata": {
            "tags": [],
            "needs_background": "light"
          }
        }
      ]
    },
    {
      "cell_type": "markdown",
      "metadata": {
        "id": "SWTJypnsv5R3",
        "colab_type": "text"
      },
      "source": [
        ""
      ]
    },
    {
      "cell_type": "markdown",
      "metadata": {
        "id": "kkWFQ8HeIerS",
        "colab_type": "text"
      },
      "source": [
        "# Plotting Features after Normalisation"
      ]
    },
    {
      "cell_type": "code",
      "metadata": {
        "id": "v6NykB3TSJxe",
        "colab_type": "code",
        "colab": {}
      },
      "source": [
        "price_frame = pd.DataFrame(np.concatenate([price]), columns= [\"Price\"])\n",
        "death_frame = pd.DataFrame(np.concatenate([dayDeaths]), columns= [\"Total_Deaths_US\"])\n",
        "cases_frame = pd.DataFrame(np.concatenate([dayCases]), columns= [\"Total_Cases_US\"])\n",
        "# price_frame.append(death_frame)"
      ],
      "execution_count": 20,
      "outputs": []
    },
    {
      "cell_type": "code",
      "metadata": {
        "id": "GUr5EmIHITzq",
        "colab_type": "code",
        "colab": {}
      },
      "source": [
        "from sklearn.preprocessing import MinMaxScaler\n",
        "scaler = MinMaxScaler(feature_range=(0,1))\n",
        "normalisation_us_deaths = scaler.fit_transform(death_frame).reshape(-1,1)\n",
        "normalisation_price = scaler.fit_transform(price_frame).reshape(-1,1)\n",
        "normalisation_us_cases = scaler.fit_transform(cases_frame).reshape(-1,1)\n",
        "# 8 decimal: readable formate:\n",
        "# val = [print(\"{:.8f}\".format(float(x)))for x in normalisation_us_deaths]"
      ],
      "execution_count": 21,
      "outputs": []
    },
    {
      "cell_type": "code",
      "metadata": {
        "id": "jG6Frxvpw_YL",
        "colab_type": "code",
        "colab": {
          "base_uri": "https://localhost:8080/",
          "height": 402
        },
        "outputId": "4615446d-6444-4030-824a-83b3b2f1ed77"
      },
      "source": [
        "plt.plot(normalisation_us_deaths,label=\"USA Covid Death Rates\")\n",
        "plt.plot(normalisation_price, label=\"Price of Dollar\")\n",
        "plt.plot(normalisation_us_cases, label=\"USA Positive Cases\")\n",
        "\n",
        "# dates\n",
        "# dates = np.array(dateFormatting['new_date'])\n",
        "# plt.plot_date(dates, linestyle ='solid')\n",
        "# plt.gcf().autofmt_xdate()\n",
        "# date_format = mpl_dates.DateFormatter('%b,%d,%Y')\n",
        "# plt.gca().xaxis.set_major_formatter(date_format)\n",
        "\n",
        "plt.title('Time Series of Total Deaths of US & USD/GBP')\n",
        "plt.ylabel('Normalisation between 0 and 1')\n",
        "plt.xlabel('Date')\n",
        "plt.legend() \n",
        "plt.show()\n"
      ],
      "execution_count": 22,
      "outputs": [
        {
          "output_type": "display_data",
          "data": {
            "image/png": "[encoded data removed]",
            "text/plain": [
              "<Figure size 1080x432 with 1 Axes>"
            ]
          },
          "metadata": {
            "tags": [],
            "needs_background": "light"
          }
        }
      ]
    },
    {
      "cell_type": "markdown",
      "metadata": {
        "id": "FrNnj6gGIkmf",
        "colab_type": "text"
      },
      "source": [
        "# Splitting Data into Train, Validation & Test\n"
      ]
    },
    {
      "cell_type": "code",
      "metadata": {
        "id": "yJTAF3KWyKwR",
        "colab_type": "code",
        "colab": {}
      },
      "source": [
        "# Creating normalised dataset\n",
        "# Positive Cases | Death Rates | Price of dollar\n",
        "new_dataset = np.hstack((normalisation_us_cases, normalisation_us_deaths, normalisation_price))"
      ],
      "execution_count": 23,
      "outputs": []
    },
    {
      "cell_type": "code",
      "metadata": {
        "id": "Sx35yrWb1MIz",
        "colab_type": "code",
        "colab": {
          "base_uri": "https://localhost:8080/",
          "height": 66
        },
        "outputId": "697c9b9f-237c-4711-bcb9-20c854e64db9"
      },
      "source": [
        "# Test, Validation, Train \n",
        "# This should be ordered in respect to date – not cross validation or random seed\n",
        "# We are going to divide our data based on date because the next data is always dependent on the previous data\n",
        "# 65% of the total length of my datadrame\n",
        "# 35% validation/test size/ \n",
        "training_size = int(len(new_dataset)*0.80)\n",
        "test_size = (len(new_dataset)-training_size)//2 # // Rounds down\n",
        "train_data, valset_data, test_data = new_dataset[0:training_size], new_dataset[training_size:(training_size + test_size)],new_dataset[(training_size + test_size):]\n",
        "print(train_data.shape)\n",
        "print(valset_data.shape)\n",
        "print(test_data.shape)"
      ],
      "execution_count": 24,
      "outputs": [
        {
          "output_type": "stream",
          "text": [
            "(171, 3)\n",
            "(21, 3)\n",
            "(22, 3)\n"
          ],
          "name": "stdout"
        }
      ]
    },
    {
      "cell_type": "code",
      "metadata": {
        "id": "WqC6uB9JuvAA",
        "colab_type": "code",
        "colab": {
          "base_uri": "https://localhost:8080/",
          "height": 402
        },
        "outputId": "22601500-7b3b-4832-90d4-a2e192fabfa9"
      },
      "source": [
        "# Start\n",
        "plt.plot(train_data, label=\"actual death train dataset\")\n",
        "\n",
        "# Middle\n",
        "plt.plot(valset_data, label=\"actual validation dataset\")\n",
        "\n",
        "# End\n",
        "plt.plot(test_data, label=\"actual test dataset\")\n",
        "\n",
        "# as you can see th test data and train is divided because we want to test after a specific day\n",
        "plt.title('Train, Val & Test Dataset')\n",
        "plt.ylabel('Forex price, US Death Rates, Positive Cases')\n",
        "plt.xlabel('Date')\n",
        "plt.legend()\n",
        "plt.show()"
      ],
      "execution_count": 25,
      "outputs": [
        {
          "output_type": "display_data",
          "data": {
            "image/png": "[encoded data removed]",
            "text/plain": [
              "<Figure size 1080x432 with 1 Axes>"
            ]
          },
          "metadata": {
            "tags": [],
            "needs_background": "light"
          }
        }
      ]
    },
    {
      "cell_type": "code",
      "metadata": {
        "id": "P1CkWzUfVwxO",
        "colab_type": "code",
        "colab": {
          "base_uri": "https://localhost:8080/",
          "height": 82
        },
        "outputId": "fe39cf2b-71ae-432c-d092-76f2c99e1d85"
      },
      "source": [
        "# Looking at first 4 days i.e. index 4 does not count\n",
        "print(valset_data[:4])"
      ],
      "execution_count": 26,
      "outputs": [
        {
          "output_type": "stream",
          "text": [
            "[[0.42888821 0.50305516 0.82638106]\n",
            " [0.4382427  0.51356645 0.80496054]\n",
            " [0.44774106 0.52413131 0.80496054]\n",
            " [0.45734806 0.53471876 0.80496054]]\n"
          ],
          "name": "stdout"
        }
      ]
    },
    {
      "cell_type": "code",
      "metadata": {
        "id": "ldKERrxeA1sD",
        "colab_type": "code",
        "colab": {
          "base_uri": "https://localhost:8080/",
          "height": 50
        },
        "outputId": "f62d67e3-09ff-4982-c8ac-bc311e648525"
      },
      "source": [
        "print(training_size, test_size)\n",
        "# why are these different?\n",
        "print(len(train_data), len(test_data))"
      ],
      "execution_count": 27,
      "outputs": [
        {
          "output_type": "stream",
          "text": [
            "171 21\n",
            "171 22\n"
          ],
          "name": "stdout"
        }
      ]
    },
    {
      "cell_type": "markdown",
      "metadata": {
        "id": "MYg8cy2X5opG",
        "colab_type": "text"
      },
      "source": [
        "# X_train, Y_train, X_test, Y_test"
      ]
    },
    {
      "cell_type": "code",
      "metadata": {
        "id": "7lcOjmoBARZm",
        "colab_type": "code",
        "colab": {}
      },
      "source": [
        "# Convert an array of values into a dataset matrix\n",
        "# time_step = how many previous days you have to consider before making a prediction. = 1 passing by ref\n",
        "def create_dataset(dataset, time_step=1):\n",
        "  dataX, dataY = [],[]\n",
        "  # len(dataset) = 154 - 7 = 147 -1 (guarentees 8th datapoint)\n",
        "  # for i(starting point of dataset), i in range 146\n",
        "  for i in range(len(dataset)-time_step-1):\n",
        "    a = dataset[i:(i+time_step)]  # from i: until i + 7\n",
        "    dataX.append(a) # then attach it to dataX\n",
        "    y = dataset[i + time_step][2]  # attach the feature index 2 which is forex of 3 data predictions to y\n",
        "    dataY.append(y)\n",
        "  return np.array(dataX), np.array(dataY)\n"
      ],
      "execution_count": 28,
      "outputs": []
    },
    {
      "cell_type": "code",
      "metadata": {
        "id": "Xjbnyit_VZur",
        "colab_type": "code",
        "colab": {}
      },
      "source": [
        "# Weekly_timestep means taking in 7 days of features at a time \n",
        "weekly_timestep = 7\n",
        "X_train, Y_train = create_dataset(train_data, weekly_timestep)\n",
        "X_val, Y_val = create_dataset(valset_data, weekly_timestep)\n",
        "X_test, Y_test = create_dataset(test_data, weekly_timestep)\n",
        "\n"
      ],
      "execution_count": 29,
      "outputs": []
    },
    {
      "cell_type": "code",
      "metadata": {
        "id": "Bii3I74VfqRM",
        "colab_type": "code",
        "colab": {
          "base_uri": "https://localhost:8080/",
          "height": 66
        },
        "outputId": "6a3d9352-90fe-41c7-c3f3-8535ed51f939"
      },
      "source": [
        "print(X_test.shape), print(Y_test.shape)\n",
        "# Finished preprocessing the data"
      ],
      "execution_count": 30,
      "outputs": [
        {
          "output_type": "stream",
          "text": [
            "(14, 7, 3)\n",
            "(14,)\n"
          ],
          "name": "stdout"
        },
        {
          "output_type": "execute_result",
          "data": {
            "text/plain": [
              "(None, None)"
            ]
          },
          "metadata": {
            "tags": []
          },
          "execution_count": 30
        }
      ]
    },
    {
      "cell_type": "markdown",
      "metadata": {
        "id": "rQxS8R3VI2bP",
        "colab_type": "text"
      },
      "source": [
        "# Stacked LSTM Model"
      ]
    },
    {
      "cell_type": "code",
      "metadata": {
        "id": "fuLjcvVwM7Sc",
        "colab_type": "code",
        "colab": {}
      },
      "source": [
        "# Create the stacked LSTM model\n",
        "\n",
        "def lstm_model(lr_rate, neuron_layer, optimizer_one):\n",
        "  # we want input_tensor to be a single data point\n",
        "  model = Sequential()\n",
        "  opt = None\n",
        "  if optimizer_one == 'adam':\n",
        "   opt = keras.optimizers.Adam(learning_rate=lr_rate)\n",
        "  elif optimizer_one == 'sgd':\n",
        "   opt = keras.optimizers.SGD(learning_rate=lr_rate)\n",
        "  else:\n",
        "   opt = keras.optimizers.Adamax(learning_rate=lr_rate)\n",
        "  model.add(InputLayer(input_shape=(7,3)))\n",
        "  # model.add(LSTM(neuron_layer,return_sequences=True))\n",
        "  model.add(LSTM(neuron_layer, return_sequences=True))\n",
        "  model.add(Dense(10))\n",
        "  model.add(LSTM(neuron_layer))\n",
        "  model.add(Dense(1))\n",
        "  model.compile(loss = 'mean_squared_error', optimizer=opt)\n",
        "  return model\n",
        "\n",
        "  "
      ],
      "execution_count": 31,
      "outputs": []
    },
    {
      "cell_type": "markdown",
      "metadata": {
        "id": "tkkElpH-cy_h",
        "colab_type": "text"
      },
      "source": [
        "## Hyperparameter Tuning\n",
        "\n",
        "\n",
        "*   Optimizers:\n",
        "[Overview of different Optimizers for neural networks](https://medium.com/datadriveninvestor/overview-of-different-optimizers-for-neural-networks-e0ed119440c3#:~:text=Adagrad%20eliminates%20the%20need%20to,is%20no%20longer%20able%20learning.)\n",
        "*   [Conceptual Guide for HP Tuning](https://medium.com/@jackstalfort/hyperparameter-tuning-using-grid-search-and-random-search-f8750a464b35)\n",
        "*   [Consider this for Grid Search & Random Search](https://scikit-learn.org/stable/auto_examples/model_selection/plot_randomized_search.html)\n",
        "*   [And this](https://stackoverflow.com/questions/58137140/randomizedsearchcv-with-keras-lstm-regression)\n",
        "![Grid Search & Random Search](https://miro.medium.com/max/1200/1*ZTlQm_WRcrNqL-nLnx6GJA.png)\n",
        "\n"
      ]
    },
    {
      "cell_type": "code",
      "metadata": {
        "id": "m_qE17TCQfOg",
        "colab_type": "code",
        "colab": {}
      },
      "source": [
        "# Function to create the best model for hyperparameters method\n",
        "def bestModel(least_loss, learning_rate_list, optimizer_list, neuron_list):\n",
        "  for each_neuron in neuron_list:\n",
        "    for each_optimizer in optimizer_list:\n",
        "      for each_learning_rate in learning_rate_list:\n",
        "        our_model = lstm_model(each_learning_rate, each_neuron, each_optimizer)\n",
        "        our_model.fit(X_train, Y_train, \n",
        "                validation_data= \n",
        "                (X_val, Y_val)\n",
        "                , epochs=100,batch_size=10,verbose=1,\n",
        "                callbacks=[tf.keras.callbacks.EarlyStopping(patience=3, restore_best_weights=True)])\n",
        "        loss = our_model.evaluate(X_test, Y_test)\n",
        "        if loss < least_loss:\n",
        "          least_loss = loss\n",
        "          best_learning_rate = each_learning_rate\n",
        "          best_optimizer = each_optimizer\n",
        "          best_neuron = each_neuron\n",
        "    return least_loss, best_learning_rate, best_optimizer, best_neuron"
      ],
      "execution_count": 32,
      "outputs": []
    },
    {
      "cell_type": "markdown",
      "metadata": {
        "id": "VDbgWWCHLcdm",
        "colab_type": "text"
      },
      "source": [
        "## Grid Search\n",
        "\n",
        "*   We must choose candidates for good hidden layers and optimizers. Then plot a comparison.\n",
        "*   List of optimizers: \n",
        "*   optimizers = ['SGD', 'RMSprop','adam','adagrad', 'adadelta', 'adamax','nadam', 'ftrl']\n",
        "*   Callbacks: Restores best weights that is going to give u best model \n",
        "*   Consider changing batch size: slower the batch_size better training, because small dataset\n",
        "\n",
        "\n"
      ]
    },
    {
      "cell_type": "code",
      "metadata": {
        "id": "eA11PFS2lemX",
        "colab_type": "code",
        "colab": {
          "base_uri": "https://localhost:8080/",
          "height": 1000
        },
        "outputId": "34810284-1d0c-4c0e-e3e7-35eda89cab97"
      },
      "source": [
        "neuron_list = [15,30,10]\n",
        "optimizer_list = ['adam', 'adamax']\n",
        "learning_rate_list = [3e-3,3e-4]\n",
        "least_loss_grid_search = 1\n",
        "\n",
        "best_grid_search_model = bestModel(least_loss_grid_search, learning_rate_list, optimizer_list, neuron_list)\n",
        "print(best_grid_search_model)\n"
      ],
      "execution_count": 33,
      "outputs": [
        {
          "output_type": "stream",
          "text": [
            "Epoch 1/100\n",
            "17/17 [==============================] - 1s 39ms/step - loss: 0.1050 - val_loss: 0.0011\n",
            "Epoch 2/100\n",
            "17/17 [==============================] - 0s 5ms/step - loss: 0.0201 - val_loss: 0.0028\n",
            "Epoch 3/100\n",
            "17/17 [==============================] - 0s 6ms/step - loss: 0.0153 - val_loss: 0.0031\n",
            "Epoch 4/100\n",
            "17/17 [==============================] - 0s 6ms/step - loss: 0.0137 - val_loss: 0.0019\n",
            "1/1 [==============================] - 0s 1ms/step - loss: 0.0019\n",
            "Epoch 1/100\n",
            "17/17 [==============================] - 1s 37ms/step - loss: 0.4162 - val_loss: 0.7972\n",
            "Epoch 2/100\n",
            "17/17 [==============================] - 0s 6ms/step - loss: 0.3327 - val_loss: 0.6510\n",
            "Epoch 3/100\n",
            "17/17 [==============================] - 0s 6ms/step - loss: 0.2618 - val_loss: 0.5163\n",
            "Epoch 4/100\n",
            "17/17 [==============================] - 0s 6ms/step - loss: 0.1959 - val_loss: 0.3730\n",
            "Epoch 5/100\n",
            "17/17 [==============================] - 0s 5ms/step - loss: 0.1273 - val_loss: 0.2292\n",
            "Epoch 6/100\n",
            "17/17 [==============================] - 0s 5ms/step - loss: 0.0650 - val_loss: 0.0957\n",
            "Epoch 7/100\n",
            "17/17 [==============================] - 0s 6ms/step - loss: 0.0249 - val_loss: 0.0219\n",
            "Epoch 8/100\n",
            "17/17 [==============================] - 0s 5ms/step - loss: 0.0163 - val_loss: 0.0069\n",
            "Epoch 9/100\n",
            "17/17 [==============================] - 0s 5ms/step - loss: 0.0162 - val_loss: 0.0073\n",
            "Epoch 10/100\n",
            "17/17 [==============================] - 0s 5ms/step - loss: 0.0157 - val_loss: 0.0074\n",
            "Epoch 11/100\n",
            "17/17 [==============================] - 0s 5ms/step - loss: 0.0154 - val_loss: 0.0057\n",
            "Epoch 12/100\n",
            "17/17 [==============================] - 0s 6ms/step - loss: 0.0152 - val_loss: 0.0041\n",
            "Epoch 13/100\n",
            "17/17 [==============================] - 0s 6ms/step - loss: 0.0150 - val_loss: 0.0028\n",
            "Epoch 14/100\n",
            "17/17 [==============================] - 0s 6ms/step - loss: 0.0147 - val_loss: 0.0021\n",
            "Epoch 15/100\n",
            "17/17 [==============================] - 0s 5ms/step - loss: 0.0147 - val_loss: 0.0017\n",
            "Epoch 16/100\n",
            "17/17 [==============================] - 0s 6ms/step - loss: 0.0143 - val_loss: 0.0011\n",
            "Epoch 17/100\n",
            "17/17 [==============================] - 0s 6ms/step - loss: 0.0143 - val_loss: 0.0011\n",
            "Epoch 18/100\n",
            "17/17 [==============================] - 0s 5ms/step - loss: 0.0143 - val_loss: 0.0012\n",
            "Epoch 19/100\n",
            "17/17 [==============================] - 0s 5ms/step - loss: 0.0141 - val_loss: 0.0012\n",
            "Epoch 20/100\n",
            "17/17 [==============================] - 0s 6ms/step - loss: 0.0139 - val_loss: 0.0015\n",
            "1/1 [==============================] - 0s 935us/step - loss: 0.0047\n",
            "Epoch 1/100\n",
            "17/17 [==============================] - 1s 38ms/step - loss: 0.2149 - val_loss: 0.2033\n",
            "Epoch 2/100\n",
            "17/17 [==============================] - 0s 6ms/step - loss: 0.0309 - val_loss: 0.0753\n",
            "Epoch 3/100\n",
            "17/17 [==============================] - 0s 5ms/step - loss: 0.0250 - val_loss: 0.1052\n",
            "Epoch 4/100\n",
            "17/17 [==============================] - 0s 6ms/step - loss: 0.0221 - val_loss: 0.0519\n",
            "Epoch 5/100\n",
            "17/17 [==============================] - 0s 6ms/step - loss: 0.0199 - val_loss: 0.0492\n",
            "Epoch 6/100\n",
            "17/17 [==============================] - 0s 6ms/step - loss: 0.0183 - val_loss: 0.0231\n",
            "Epoch 7/100\n",
            "17/17 [==============================] - 0s 5ms/step - loss: 0.0166 - val_loss: 0.0134\n",
            "Epoch 8/100\n",
            "17/17 [==============================] - 0s 6ms/step - loss: 0.0153 - val_loss: 0.0041\n",
            "Epoch 9/100\n",
            "17/17 [==============================] - 0s 6ms/step - loss: 0.0142 - val_loss: 0.0012\n",
            "Epoch 10/100\n",
            "17/17 [==============================] - 0s 5ms/step - loss: 0.0138 - val_loss: 0.0017\n",
            "Epoch 11/100\n",
            "17/17 [==============================] - 0s 6ms/step - loss: 0.0131 - val_loss: 0.0044\n",
            "Epoch 12/100\n",
            "17/17 [==============================] - 0s 6ms/step - loss: 0.0128 - val_loss: 0.0133\n",
            "1/1 [==============================] - 0s 1ms/step - loss: 0.0039\n",
            "Epoch 1/100\n",
            "17/17 [==============================] - 1s 39ms/step - loss: 0.3683 - val_loss: 0.6885\n",
            "Epoch 2/100\n",
            "17/17 [==============================] - 0s 6ms/step - loss: 0.2794 - val_loss: 0.5428\n",
            "Epoch 3/100\n",
            "17/17 [==============================] - 0s 6ms/step - loss: 0.2049 - val_loss: 0.4115\n",
            "Epoch 4/100\n",
            "17/17 [==============================] - 0s 6ms/step - loss: 0.1422 - val_loss: 0.2848\n",
            "Epoch 5/100\n",
            "17/17 [==============================] - 0s 6ms/step - loss: 0.0870 - val_loss: 0.1766\n",
            "Epoch 6/100\n",
            "17/17 [==============================] - 0s 6ms/step - loss: 0.0475 - val_loss: 0.0944\n",
            "Epoch 7/100\n",
            "17/17 [==============================] - 0s 6ms/step - loss: 0.0252 - val_loss: 0.0458\n",
            "Epoch 8/100\n",
            "17/17 [==============================] - 0s 6ms/step - loss: 0.0173 - val_loss: 0.0247\n",
            "Epoch 9/100\n",
            "17/17 [==============================] - 0s 6ms/step - loss: 0.0159 - val_loss: 0.0172\n",
            "Epoch 10/100\n",
            "17/17 [==============================] - 0s 6ms/step - loss: 0.0158 - val_loss: 0.0149\n",
            "Epoch 11/100\n",
            "17/17 [==============================] - 0s 6ms/step - loss: 0.0157 - val_loss: 0.0143\n",
            "Epoch 12/100\n",
            "17/17 [==============================] - 0s 6ms/step - loss: 0.0155 - val_loss: 0.0139\n",
            "Epoch 13/100\n",
            "17/17 [==============================] - 0s 6ms/step - loss: 0.0154 - val_loss: 0.0130\n",
            "Epoch 14/100\n",
            "17/17 [==============================] - 0s 7ms/step - loss: 0.0153 - val_loss: 0.0118\n",
            "Epoch 15/100\n",
            "17/17 [==============================] - 0s 6ms/step - loss: 0.0152 - val_loss: 0.0109\n",
            "Epoch 16/100\n",
            "17/17 [==============================] - 0s 6ms/step - loss: 0.0151 - val_loss: 0.0091\n",
            "Epoch 17/100\n",
            "17/17 [==============================] - 0s 6ms/step - loss: 0.0150 - val_loss: 0.0082\n",
            "Epoch 18/100\n",
            "17/17 [==============================] - 0s 6ms/step - loss: 0.0151 - val_loss: 0.0066\n",
            "Epoch 19/100\n",
            "17/17 [==============================] - 0s 6ms/step - loss: 0.0149 - val_loss: 0.0069\n",
            "Epoch 20/100\n",
            "17/17 [==============================] - 0s 5ms/step - loss: 0.0147 - val_loss: 0.0067\n",
            "Epoch 21/100\n",
            "17/17 [==============================] - 0s 6ms/step - loss: 0.0146 - val_loss: 0.0061\n",
            "Epoch 22/100\n",
            "17/17 [==============================] - 0s 6ms/step - loss: 0.0146 - val_loss: 0.0054\n",
            "Epoch 23/100\n",
            "17/17 [==============================] - 0s 6ms/step - loss: 0.0145 - val_loss: 0.0055\n",
            "Epoch 24/100\n",
            "17/17 [==============================] - 0s 6ms/step - loss: 0.0144 - val_loss: 0.0044\n",
            "Epoch 25/100\n",
            "17/17 [==============================] - 0s 6ms/step - loss: 0.0145 - val_loss: 0.0042\n",
            "Epoch 26/100\n",
            "17/17 [==============================] - 0s 6ms/step - loss: 0.0143 - val_loss: 0.0035\n",
            "Epoch 27/100\n",
            "17/17 [==============================] - 0s 6ms/step - loss: 0.0142 - val_loss: 0.0034\n",
            "Epoch 28/100\n",
            "17/17 [==============================] - 0s 6ms/step - loss: 0.0141 - val_loss: 0.0031\n",
            "Epoch 29/100\n",
            "17/17 [==============================] - 0s 6ms/step - loss: 0.0141 - val_loss: 0.0025\n",
            "Epoch 30/100\n",
            "17/17 [==============================] - 0s 6ms/step - loss: 0.0140 - val_loss: 0.0021\n",
            "Epoch 31/100\n",
            "17/17 [==============================] - 0s 6ms/step - loss: 0.0140 - val_loss: 0.0019\n",
            "Epoch 32/100\n",
            "17/17 [==============================] - 0s 6ms/step - loss: 0.0139 - val_loss: 0.0019\n",
            "Epoch 33/100\n",
            "17/17 [==============================] - 0s 7ms/step - loss: 0.0139 - val_loss: 0.0015\n",
            "Epoch 34/100\n",
            "17/17 [==============================] - 0s 5ms/step - loss: 0.0138 - val_loss: 0.0014\n",
            "Epoch 35/100\n",
            "17/17 [==============================] - 0s 6ms/step - loss: 0.0138 - val_loss: 0.0013\n",
            "Epoch 36/100\n",
            "17/17 [==============================] - 0s 6ms/step - loss: 0.0137 - val_loss: 0.0013\n",
            "Epoch 37/100\n",
            "17/17 [==============================] - 0s 5ms/step - loss: 0.0137 - val_loss: 0.0013\n",
            "Epoch 38/100\n",
            "17/17 [==============================] - 0s 6ms/step - loss: 0.0137 - val_loss: 0.0011\n",
            "Epoch 39/100\n",
            "17/17 [==============================] - 0s 5ms/step - loss: 0.0136 - val_loss: 0.0011\n",
            "Epoch 40/100\n",
            "17/17 [==============================] - 0s 5ms/step - loss: 0.0136 - val_loss: 0.0011\n",
            "Epoch 41/100\n",
            "17/17 [==============================] - 0s 5ms/step - loss: 0.0135 - val_loss: 0.0011\n",
            "Epoch 42/100\n",
            "17/17 [==============================] - 0s 5ms/step - loss: 0.0135 - val_loss: 0.0011\n",
            "Epoch 43/100\n",
            "17/17 [==============================] - 0s 6ms/step - loss: 0.0135 - val_loss: 0.0011\n",
            "1/1 [==============================] - 0s 854us/step - loss: 0.0024\n",
            "(0.0018512401729822159, 0.003, 'adam', 15)\n"
          ],
          "name": "stdout"
        }
      ]
    },
    {
      "cell_type": "markdown",
      "metadata": {
        "id": "pxhrP1uEaTkz",
        "colab_type": "text"
      },
      "source": [
        "## Random Search\n",
        "\n",
        "\n",
        "*   Why do we get different values here then we do for grid search? Shouldnt they be the same?\n",
        "\n"
      ]
    },
    {
      "cell_type": "code",
      "metadata": {
        "id": "gSKXTwZHk0it",
        "colab_type": "code",
        "colab": {}
      },
      "source": [
        "# Shuffle hidden_layer list\n",
        "from random import seed\n",
        "from random import shuffle\n"
      ],
      "execution_count": 34,
      "outputs": []
    },
    {
      "cell_type": "code",
      "metadata": {
        "id": "sj-ccR8Ek_rb",
        "colab_type": "code",
        "colab": {
          "base_uri": "https://localhost:8080/",
          "height": 1000
        },
        "outputId": "9c688613-95e5-46b7-df11-c57fb660612a"
      },
      "source": [
        "# Shuffling neuron layers\n",
        "\n",
        "neuron_list = [15,30,10]\n",
        "# Seed random number generator\n",
        "seed(len(neuron_list))\n",
        "# Prepare a sequence\n",
        "neuron_sequence = neuron_list\n",
        "print(neuron_sequence) # Before Shuffle\n",
        "# Randomly shuffle the sequence hidden layers\n",
        "shuffle(neuron_sequence) \n",
        "print(neuron_sequence) # After Shuffle\n",
        "\n",
        "# Shuffling optimizers\n",
        "\n",
        "optimizer_list = ['adam', 'adamax']\n",
        "# Seed random number generator\n",
        "seed(len(neuron_sequence))\n",
        "# Prepare a sequence\n",
        "op_sequence = optimizer_list\n",
        "print(op_sequence) # Before Shuffle\n",
        "# Randomly shuffle the sequence\n",
        "shuffle(op_sequence)\n",
        "print(op_sequence) # After Shuffle\n",
        "\n",
        "# Shuffling learning rate\n",
        "\n",
        "learning_rate_list = [3e-3,3e-4]\n",
        "# Seed random number generator\n",
        "seed(len(neuron_sequence))\n",
        "# Prepare a sequence\n",
        "lr_sequence = learning_rate_list\n",
        "print(lr_sequence) # Before Shuffle\n",
        "# Randomly shuffle the sequence\n",
        "shuffle(lr_sequence)\n",
        "print(lr_sequence) # After Shuffle\n",
        "\n",
        "# Assigning least_loss\n",
        "least_loss_random_search = 1\n",
        "best_random_grid_model = bestModel(least_loss_random_search, lr_sequence, op_sequence, neuron_sequence)\n",
        "print(best_random_grid_model)\n",
        "\n",
        "# random search = (0.0006903847679495811, 0.003, 'adam', 30)"
      ],
      "execution_count": 35,
      "outputs": [
        {
          "output_type": "stream",
          "text": [
            "[15, 30, 10]\n",
            "[30, 10, 15]\n",
            "['adam', 'adamax']\n",
            "['adamax', 'adam']\n",
            "[0.003, 0.0003]\n",
            "[0.0003, 0.003]\n",
            "Epoch 1/100\n",
            "17/17 [==============================] - 1s 39ms/step - loss: 0.3152 - val_loss: 0.6599\n",
            "Epoch 2/100\n",
            "17/17 [==============================] - 0s 6ms/step - loss: 0.2317 - val_loss: 0.5027\n",
            "Epoch 3/100\n",
            "17/17 [==============================] - 0s 6ms/step - loss: 0.1551 - val_loss: 0.3483\n",
            "Epoch 4/100\n",
            "17/17 [==============================] - 0s 6ms/step - loss: 0.0888 - val_loss: 0.1958\n",
            "Epoch 5/100\n",
            "17/17 [==============================] - 0s 6ms/step - loss: 0.0387 - val_loss: 0.0864\n",
            "Epoch 6/100\n",
            "17/17 [==============================] - 0s 7ms/step - loss: 0.0195 - val_loss: 0.0348\n",
            "Epoch 7/100\n",
            "17/17 [==============================] - 0s 6ms/step - loss: 0.0178 - val_loss: 0.0242\n",
            "Epoch 8/100\n",
            "17/17 [==============================] - 0s 6ms/step - loss: 0.0175 - val_loss: 0.0256\n",
            "Epoch 9/100\n",
            "17/17 [==============================] - 0s 6ms/step - loss: 0.0170 - val_loss: 0.0234\n",
            "Epoch 10/100\n",
            "17/17 [==============================] - 0s 6ms/step - loss: 0.0167 - val_loss: 0.0196\n",
            "Epoch 11/100\n",
            "17/17 [==============================] - 0s 6ms/step - loss: 0.0165 - val_loss: 0.0167\n",
            "Epoch 12/100\n",
            "17/17 [==============================] - 0s 6ms/step - loss: 0.0162 - val_loss: 0.0142\n",
            "Epoch 13/100\n",
            "17/17 [==============================] - 0s 6ms/step - loss: 0.0160 - val_loss: 0.0118\n",
            "Epoch 14/100\n",
            "17/17 [==============================] - 0s 6ms/step - loss: 0.0158 - val_loss: 0.0094\n",
            "Epoch 15/100\n",
            "17/17 [==============================] - 0s 6ms/step - loss: 0.0157 - val_loss: 0.0082\n",
            "Epoch 16/100\n",
            "17/17 [==============================] - 0s 6ms/step - loss: 0.0154 - val_loss: 0.0055\n",
            "Epoch 17/100\n",
            "17/17 [==============================] - 0s 6ms/step - loss: 0.0153 - val_loss: 0.0044\n",
            "Epoch 18/100\n",
            "17/17 [==============================] - 0s 6ms/step - loss: 0.0153 - val_loss: 0.0030\n",
            "Epoch 19/100\n",
            "17/17 [==============================] - 0s 5ms/step - loss: 0.0151 - val_loss: 0.0032\n",
            "Epoch 20/100\n",
            "17/17 [==============================] - 0s 5ms/step - loss: 0.0149 - val_loss: 0.0026\n",
            "Epoch 21/100\n",
            "17/17 [==============================] - 0s 5ms/step - loss: 0.0147 - val_loss: 0.0020\n",
            "Epoch 22/100\n",
            "17/17 [==============================] - 0s 6ms/step - loss: 0.0147 - val_loss: 0.0016\n",
            "Epoch 23/100\n",
            "17/17 [==============================] - 0s 5ms/step - loss: 0.0146 - val_loss: 0.0017\n",
            "Epoch 24/100\n",
            "17/17 [==============================] - 0s 6ms/step - loss: 0.0145 - val_loss: 0.0012\n",
            "Epoch 25/100\n",
            "17/17 [==============================] - 0s 6ms/step - loss: 0.0146 - val_loss: 0.0012\n",
            "Epoch 26/100\n",
            "17/17 [==============================] - 0s 6ms/step - loss: 0.0143 - val_loss: 0.0011\n",
            "Epoch 27/100\n",
            "17/17 [==============================] - 0s 5ms/step - loss: 0.0143 - val_loss: 0.0011\n",
            "Epoch 28/100\n",
            "17/17 [==============================] - 0s 5ms/step - loss: 0.0142 - val_loss: 0.0012\n",
            "Epoch 29/100\n",
            "17/17 [==============================] - 0s 6ms/step - loss: 0.0141 - val_loss: 0.0013\n",
            "1/1 [==============================] - 0s 972us/step - loss: 0.0028\n",
            "Epoch 1/100\n",
            "17/17 [==============================] - 1s 50ms/step - loss: 0.0948 - val_loss: 0.0151\n",
            "Epoch 2/100\n",
            "17/17 [==============================] - 0s 6ms/step - loss: 0.0201 - val_loss: 0.0126\n",
            "Epoch 3/100\n",
            "17/17 [==============================] - 0s 7ms/step - loss: 0.0158 - val_loss: 0.0087\n",
            "Epoch 4/100\n",
            "17/17 [==============================] - 0s 6ms/step - loss: 0.0147 - val_loss: 0.0012\n",
            "Epoch 5/100\n",
            "17/17 [==============================] - 0s 6ms/step - loss: 0.0141 - val_loss: 0.0023\n",
            "Epoch 6/100\n",
            "17/17 [==============================] - 0s 5ms/step - loss: 0.0140 - val_loss: 0.0020\n",
            "Epoch 7/100\n",
            "17/17 [==============================] - 0s 6ms/step - loss: 0.0137 - val_loss: 0.0014\n",
            "1/1 [==============================] - 0s 961us/step - loss: 0.0020\n",
            "Epoch 1/100\n",
            "17/17 [==============================] - 1s 38ms/step - loss: 0.3426 - val_loss: 0.6151\n",
            "Epoch 2/100\n",
            "17/17 [==============================] - 0s 5ms/step - loss: 0.2302 - val_loss: 0.3672\n",
            "Epoch 3/100\n",
            "17/17 [==============================] - 0s 5ms/step - loss: 0.1225 - val_loss: 0.1343\n",
            "Epoch 4/100\n",
            "17/17 [==============================] - 0s 5ms/step - loss: 0.0391 - val_loss: 0.0047\n",
            "Epoch 5/100\n",
            "17/17 [==============================] - 0s 6ms/step - loss: 0.0148 - val_loss: 0.0032\n",
            "Epoch 6/100\n",
            "17/17 [==============================] - 0s 6ms/step - loss: 0.0149 - val_loss: 0.0011\n",
            "Epoch 7/100\n",
            "17/17 [==============================] - 0s 6ms/step - loss: 0.0141 - val_loss: 0.0011\n",
            "Epoch 8/100\n",
            "17/17 [==============================] - 0s 6ms/step - loss: 0.0141 - val_loss: 0.0011\n",
            "Epoch 9/100\n",
            "17/17 [==============================] - 0s 5ms/step - loss: 0.0140 - val_loss: 0.0014\n",
            "Epoch 10/100\n",
            "17/17 [==============================] - 0s 5ms/step - loss: 0.0141 - val_loss: 0.0014\n",
            "Epoch 11/100\n",
            "17/17 [==============================] - 0s 6ms/step - loss: 0.0139 - val_loss: 0.0015\n",
            "1/1 [==============================] - 0s 1ms/step - loss: 0.0030\n",
            "Epoch 1/100\n",
            "17/17 [==============================] - 1s 38ms/step - loss: 0.0886 - val_loss: 0.0389\n",
            "Epoch 2/100\n",
            "17/17 [==============================] - 0s 6ms/step - loss: 0.0180 - val_loss: 0.0037\n",
            "Epoch 3/100\n",
            "17/17 [==============================] - 0s 5ms/step - loss: 0.0147 - val_loss: 0.0035\n",
            "Epoch 4/100\n",
            "17/17 [==============================] - 0s 5ms/step - loss: 0.0135 - val_loss: 0.0095\n",
            "Epoch 5/100\n",
            "17/17 [==============================] - 0s 5ms/step - loss: 0.0132 - val_loss: 0.0078\n",
            "Epoch 6/100\n",
            "17/17 [==============================] - 0s 6ms/step - loss: 0.0123 - val_loss: 0.0142\n",
            "1/1 [==============================] - 0s 943us/step - loss: 0.0135\n",
            "(0.002038294915109873, 0.003, 'adamax', 30)\n"
          ],
          "name": "stdout"
        }
      ]
    },
    {
      "cell_type": "code",
      "metadata": {
        "id": "mm_AqgpTO9EQ",
        "colab_type": "code",
        "colab": {
          "base_uri": "https://localhost:8080/",
          "height": 66
        },
        "outputId": "a19a096f-3817-4cc6-cb2d-26154777d141"
      },
      "source": [
        "# We want the smallest loss\n",
        "# Therefore if random_search least loss is greater than grid search, make grid search best model the best model.\n",
        "# 0 = least loss, 1 = learning rate, 2 = optimizer, 3 = neurons\n",
        "if best_grid_search_model[0] > best_random_grid_model[0]:\n",
        "  best_learning_rate = best_random_grid_model[1]\n",
        "  best_optimizer = best_random_grid_model[2]\n",
        "  best_neuron = best_random_grid_model[3]\n",
        "else:\n",
        "  best_learning_rate = best_grid_search_model[1]\n",
        "  best_optimizer = best_grid_search_model[2]\n",
        "  best_neuron = best_grid_search_model[3]\n",
        "print(best_learning_rate)\n",
        "print(best_optimizer)\n",
        "print(best_neuron)"
      ],
      "execution_count": 36,
      "outputs": [
        {
          "output_type": "stream",
          "text": [
            "0.003\n",
            "adam\n",
            "15\n"
          ],
          "name": "stdout"
        }
      ]
    },
    {
      "cell_type": "markdown",
      "metadata": {
        "id": "ne1FGIRhCBx3",
        "colab_type": "text"
      },
      "source": [
        "# Best Model Prediction"
      ]
    },
    {
      "cell_type": "code",
      "metadata": {
        "id": "yBxAVM4I3NJ2",
        "colab_type": "code",
        "colab": {
          "base_uri": "https://localhost:8080/",
          "height": 1000
        },
        "outputId": "7709952d-036d-408d-9377-db13675ea43a"
      },
      "source": [
        "best_param_model = lstm_model(best_learning_rate, best_neuron, best_optimizer)\n",
        "best_param_model.fit(X_train, Y_train, epochs=150,batch_size=10,verbose=1)\n",
        "loss = best_param_model.evaluate(X_test, Y_test) "
      ],
      "execution_count": 37,
      "outputs": [
        {
          "output_type": "stream",
          "text": [
            "Epoch 1/150\n",
            "17/17 [==============================] - 0s 5ms/step - loss: 0.1262\n",
            "Epoch 2/150\n",
            "17/17 [==============================] - 0s 4ms/step - loss: 0.0218\n",
            "Epoch 3/150\n",
            "17/17 [==============================] - 0s 4ms/step - loss: 0.0148\n",
            "Epoch 4/150\n",
            "17/17 [==============================] - 0s 4ms/step - loss: 0.0131\n",
            "Epoch 5/150\n",
            "17/17 [==============================] - 0s 4ms/step - loss: 0.0129\n",
            "Epoch 6/150\n",
            "17/17 [==============================] - 0s 5ms/step - loss: 0.0124\n",
            "Epoch 7/150\n",
            "17/17 [==============================] - 0s 4ms/step - loss: 0.0126\n",
            "Epoch 8/150\n",
            "17/17 [==============================] - 0s 5ms/step - loss: 0.0120\n",
            "Epoch 9/150\n",
            "17/17 [==============================] - 0s 5ms/step - loss: 0.0117\n",
            "Epoch 10/150\n",
            "17/17 [==============================] - 0s 5ms/step - loss: 0.0133\n",
            "Epoch 11/150\n",
            "17/17 [==============================] - 0s 5ms/step - loss: 0.0137\n",
            "Epoch 12/150\n",
            "17/17 [==============================] - 0s 4ms/step - loss: 0.0116\n",
            "Epoch 13/150\n",
            "17/17 [==============================] - 0s 4ms/step - loss: 0.0112\n",
            "Epoch 14/150\n",
            "17/17 [==============================] - 0s 4ms/step - loss: 0.0102\n",
            "Epoch 15/150\n",
            "17/17 [==============================] - 0s 5ms/step - loss: 0.0103\n",
            "Epoch 16/150\n",
            "17/17 [==============================] - 0s 5ms/step - loss: 0.0115\n",
            "Epoch 17/150\n",
            "17/17 [==============================] - 0s 4ms/step - loss: 0.0105\n",
            "Epoch 18/150\n",
            "17/17 [==============================] - 0s 4ms/step - loss: 0.0091\n",
            "Epoch 19/150\n",
            "17/17 [==============================] - 0s 5ms/step - loss: 0.0089\n",
            "Epoch 20/150\n",
            "17/17 [==============================] - 0s 6ms/step - loss: 0.0082\n",
            "Epoch 21/150\n",
            "17/17 [==============================] - 0s 5ms/step - loss: 0.0079\n",
            "Epoch 22/150\n",
            "17/17 [==============================] - 0s 5ms/step - loss: 0.0083\n",
            "Epoch 23/150\n",
            "17/17 [==============================] - 0s 5ms/step - loss: 0.0073\n",
            "Epoch 24/150\n",
            "17/17 [==============================] - 0s 4ms/step - loss: 0.0071\n",
            "Epoch 25/150\n",
            "17/17 [==============================] - 0s 5ms/step - loss: 0.0055\n",
            "Epoch 26/150\n",
            "17/17 [==============================] - 0s 4ms/step - loss: 0.0055\n",
            "Epoch 27/150\n",
            "17/17 [==============================] - 0s 4ms/step - loss: 0.0057\n",
            "Epoch 28/150\n",
            "17/17 [==============================] - 0s 4ms/step - loss: 0.0042\n",
            "Epoch 29/150\n",
            "17/17 [==============================] - 0s 4ms/step - loss: 0.0043\n",
            "Epoch 30/150\n",
            "17/17 [==============================] - 0s 5ms/step - loss: 0.0055\n",
            "Epoch 31/150\n",
            "17/17 [==============================] - 0s 5ms/step - loss: 0.0042\n",
            "Epoch 32/150\n",
            "17/17 [==============================] - 0s 5ms/step - loss: 0.0041\n",
            "Epoch 33/150\n",
            "17/17 [==============================] - 0s 5ms/step - loss: 0.0039\n",
            "Epoch 34/150\n",
            "17/17 [==============================] - 0s 5ms/step - loss: 0.0040\n",
            "Epoch 35/150\n",
            "17/17 [==============================] - 0s 5ms/step - loss: 0.0035\n",
            "Epoch 36/150\n",
            "17/17 [==============================] - 0s 4ms/step - loss: 0.0033\n",
            "Epoch 37/150\n",
            "17/17 [==============================] - 0s 5ms/step - loss: 0.0037\n",
            "Epoch 38/150\n",
            "17/17 [==============================] - 0s 5ms/step - loss: 0.0042\n",
            "Epoch 39/150\n",
            "17/17 [==============================] - 0s 4ms/step - loss: 0.0040\n",
            "Epoch 40/150\n",
            "17/17 [==============================] - 0s 5ms/step - loss: 0.0033\n",
            "Epoch 41/150\n",
            "17/17 [==============================] - 0s 4ms/step - loss: 0.0032\n",
            "Epoch 42/150\n",
            "17/17 [==============================] - 0s 5ms/step - loss: 0.0031\n",
            "Epoch 43/150\n",
            "17/17 [==============================] - 0s 5ms/step - loss: 0.0030\n",
            "Epoch 44/150\n",
            "17/17 [==============================] - 0s 5ms/step - loss: 0.0029\n",
            "Epoch 45/150\n",
            "17/17 [==============================] - 0s 4ms/step - loss: 0.0031\n",
            "Epoch 46/150\n",
            "17/17 [==============================] - 0s 5ms/step - loss: 0.0030\n",
            "Epoch 47/150\n",
            "17/17 [==============================] - 0s 5ms/step - loss: 0.0029\n",
            "Epoch 48/150\n",
            "17/17 [==============================] - 0s 4ms/step - loss: 0.0027\n",
            "Epoch 49/150\n",
            "17/17 [==============================] - 0s 4ms/step - loss: 0.0032\n",
            "Epoch 50/150\n",
            "17/17 [==============================] - 0s 4ms/step - loss: 0.0026\n",
            "Epoch 51/150\n",
            "17/17 [==============================] - 0s 4ms/step - loss: 0.0026\n",
            "Epoch 52/150\n",
            "17/17 [==============================] - 0s 5ms/step - loss: 0.0028\n",
            "Epoch 53/150\n",
            "17/17 [==============================] - 0s 5ms/step - loss: 0.0034\n",
            "Epoch 54/150\n",
            "17/17 [==============================] - 0s 5ms/step - loss: 0.0027\n",
            "Epoch 55/150\n",
            "17/17 [==============================] - 0s 4ms/step - loss: 0.0035\n",
            "Epoch 56/150\n",
            "17/17 [==============================] - 0s 5ms/step - loss: 0.0029\n",
            "Epoch 57/150\n",
            "17/17 [==============================] - 0s 5ms/step - loss: 0.0031\n",
            "Epoch 58/150\n",
            "17/17 [==============================] - 0s 5ms/step - loss: 0.0027\n",
            "Epoch 59/150\n",
            "17/17 [==============================] - 0s 4ms/step - loss: 0.0025\n",
            "Epoch 60/150\n",
            "17/17 [==============================] - 0s 4ms/step - loss: 0.0024\n",
            "Epoch 61/150\n",
            "17/17 [==============================] - 0s 5ms/step - loss: 0.0023\n",
            "Epoch 62/150\n",
            "17/17 [==============================] - 0s 4ms/step - loss: 0.0026\n",
            "Epoch 63/150\n",
            "17/17 [==============================] - 0s 5ms/step - loss: 0.0026\n",
            "Epoch 64/150\n",
            "17/17 [==============================] - 0s 5ms/step - loss: 0.0025\n",
            "Epoch 65/150\n",
            "17/17 [==============================] - 0s 5ms/step - loss: 0.0025\n",
            "Epoch 66/150\n",
            "17/17 [==============================] - 0s 5ms/step - loss: 0.0023\n",
            "Epoch 67/150\n",
            "17/17 [==============================] - 0s 5ms/step - loss: 0.0025\n",
            "Epoch 68/150\n",
            "17/17 [==============================] - 0s 5ms/step - loss: 0.0029\n",
            "Epoch 69/150\n",
            "17/17 [==============================] - 0s 5ms/step - loss: 0.0025\n",
            "Epoch 70/150\n",
            "17/17 [==============================] - 0s 5ms/step - loss: 0.0024\n",
            "Epoch 71/150\n",
            "17/17 [==============================] - 0s 4ms/step - loss: 0.0025\n",
            "Epoch 72/150\n",
            "17/17 [==============================] - 0s 5ms/step - loss: 0.0023\n",
            "Epoch 73/150\n",
            "17/17 [==============================] - 0s 4ms/step - loss: 0.0023\n",
            "Epoch 74/150\n",
            "17/17 [==============================] - 0s 5ms/step - loss: 0.0022\n",
            "Epoch 75/150\n",
            "17/17 [==============================] - 0s 4ms/step - loss: 0.0025\n",
            "Epoch 76/150\n",
            "17/17 [==============================] - 0s 5ms/step - loss: 0.0024\n",
            "Epoch 77/150\n",
            "17/17 [==============================] - 0s 5ms/step - loss: 0.0021\n",
            "Epoch 78/150\n",
            "17/17 [==============================] - 0s 5ms/step - loss: 0.0023\n",
            "Epoch 79/150\n",
            "17/17 [==============================] - 0s 5ms/step - loss: 0.0021\n",
            "Epoch 80/150\n",
            "17/17 [==============================] - 0s 5ms/step - loss: 0.0022\n",
            "Epoch 81/150\n",
            "17/17 [==============================] - 0s 5ms/step - loss: 0.0023\n",
            "Epoch 82/150\n",
            "17/17 [==============================] - 0s 4ms/step - loss: 0.0021\n",
            "Epoch 83/150\n",
            "17/17 [==============================] - 0s 5ms/step - loss: 0.0021\n",
            "Epoch 84/150\n",
            "17/17 [==============================] - 0s 5ms/step - loss: 0.0023\n",
            "Epoch 85/150\n",
            "17/17 [==============================] - 0s 4ms/step - loss: 0.0022\n",
            "Epoch 86/150\n",
            "17/17 [==============================] - 0s 5ms/step - loss: 0.0022\n",
            "Epoch 87/150\n",
            "17/17 [==============================] - 0s 4ms/step - loss: 0.0023\n",
            "Epoch 88/150\n",
            "17/17 [==============================] - 0s 5ms/step - loss: 0.0028\n",
            "Epoch 89/150\n",
            "17/17 [==============================] - 0s 4ms/step - loss: 0.0021\n",
            "Epoch 90/150\n",
            "17/17 [==============================] - 0s 4ms/step - loss: 0.0023\n",
            "Epoch 91/150\n",
            "17/17 [==============================] - 0s 4ms/step - loss: 0.0024\n",
            "Epoch 92/150\n",
            "17/17 [==============================] - 0s 4ms/step - loss: 0.0021\n",
            "Epoch 93/150\n",
            "17/17 [==============================] - 0s 5ms/step - loss: 0.0020\n",
            "Epoch 94/150\n",
            "17/17 [==============================] - 0s 4ms/step - loss: 0.0020\n",
            "Epoch 95/150\n",
            "17/17 [==============================] - 0s 4ms/step - loss: 0.0022\n",
            "Epoch 96/150\n",
            "17/17 [==============================] - 0s 4ms/step - loss: 0.0022\n",
            "Epoch 97/150\n",
            "17/17 [==============================] - 0s 4ms/step - loss: 0.0021\n",
            "Epoch 98/150\n",
            "17/17 [==============================] - 0s 5ms/step - loss: 0.0021\n",
            "Epoch 99/150\n",
            "17/17 [==============================] - 0s 5ms/step - loss: 0.0020\n",
            "Epoch 100/150\n",
            "17/17 [==============================] - 0s 5ms/step - loss: 0.0023\n",
            "Epoch 101/150\n",
            "17/17 [==============================] - 0s 4ms/step - loss: 0.0029\n",
            "Epoch 102/150\n",
            "17/17 [==============================] - 0s 5ms/step - loss: 0.0022\n",
            "Epoch 103/150\n",
            "17/17 [==============================] - 0s 5ms/step - loss: 0.0023\n",
            "Epoch 104/150\n",
            "17/17 [==============================] - 0s 4ms/step - loss: 0.0024\n",
            "Epoch 105/150\n",
            "17/17 [==============================] - 0s 5ms/step - loss: 0.0021\n",
            "Epoch 106/150\n",
            "17/17 [==============================] - 0s 4ms/step - loss: 0.0022\n",
            "Epoch 107/150\n",
            "17/17 [==============================] - 0s 5ms/step - loss: 0.0023\n",
            "Epoch 108/150\n",
            "17/17 [==============================] - 0s 4ms/step - loss: 0.0021\n",
            "Epoch 109/150\n",
            "17/17 [==============================] - 0s 5ms/step - loss: 0.0022\n",
            "Epoch 110/150\n",
            "17/17 [==============================] - 0s 5ms/step - loss: 0.0026\n",
            "Epoch 111/150\n",
            "17/17 [==============================] - 0s 4ms/step - loss: 0.0022\n",
            "Epoch 112/150\n",
            "17/17 [==============================] - 0s 4ms/step - loss: 0.0019\n",
            "Epoch 113/150\n",
            "17/17 [==============================] - 0s 4ms/step - loss: 0.0020\n",
            "Epoch 114/150\n",
            "17/17 [==============================] - 0s 5ms/step - loss: 0.0025\n",
            "Epoch 115/150\n",
            "17/17 [==============================] - 0s 4ms/step - loss: 0.0023\n",
            "Epoch 116/150\n",
            "17/17 [==============================] - 0s 5ms/step - loss: 0.0022\n",
            "Epoch 117/150\n",
            "17/17 [==============================] - 0s 4ms/step - loss: 0.0020\n",
            "Epoch 118/150\n",
            "17/17 [==============================] - 0s 4ms/step - loss: 0.0019\n",
            "Epoch 119/150\n",
            "17/17 [==============================] - 0s 4ms/step - loss: 0.0020\n",
            "Epoch 120/150\n",
            "17/17 [==============================] - 0s 5ms/step - loss: 0.0022\n",
            "Epoch 121/150\n",
            "17/17 [==============================] - 0s 5ms/step - loss: 0.0020\n",
            "Epoch 122/150\n",
            "17/17 [==============================] - 0s 4ms/step - loss: 0.0020\n",
            "Epoch 123/150\n",
            "17/17 [==============================] - 0s 5ms/step - loss: 0.0023\n",
            "Epoch 124/150\n",
            "17/17 [==============================] - 0s 5ms/step - loss: 0.0021\n",
            "Epoch 125/150\n",
            "17/17 [==============================] - 0s 4ms/step - loss: 0.0024\n",
            "Epoch 126/150\n",
            "17/17 [==============================] - 0s 5ms/step - loss: 0.0022\n",
            "Epoch 127/150\n",
            "17/17 [==============================] - 0s 4ms/step - loss: 0.0023\n",
            "Epoch 128/150\n",
            "17/17 [==============================] - 0s 5ms/step - loss: 0.0025\n",
            "Epoch 129/150\n",
            "17/17 [==============================] - 0s 4ms/step - loss: 0.0021\n",
            "Epoch 130/150\n",
            "17/17 [==============================] - 0s 4ms/step - loss: 0.0019\n",
            "Epoch 131/150\n",
            "17/17 [==============================] - 0s 4ms/step - loss: 0.0019\n",
            "Epoch 132/150\n",
            "17/17 [==============================] - 0s 4ms/step - loss: 0.0020\n",
            "Epoch 133/150\n",
            "17/17 [==============================] - 0s 5ms/step - loss: 0.0021\n",
            "Epoch 134/150\n",
            "17/17 [==============================] - 0s 4ms/step - loss: 0.0020\n",
            "Epoch 135/150\n",
            "17/17 [==============================] - 0s 5ms/step - loss: 0.0020\n",
            "Epoch 136/150\n",
            "17/17 [==============================] - 0s 4ms/step - loss: 0.0022\n",
            "Epoch 137/150\n",
            "17/17 [==============================] - 0s 4ms/step - loss: 0.0020\n",
            "Epoch 138/150\n",
            "17/17 [==============================] - 0s 5ms/step - loss: 0.0020\n",
            "Epoch 139/150\n",
            "17/17 [==============================] - 0s 4ms/step - loss: 0.0021\n",
            "Epoch 140/150\n",
            "17/17 [==============================] - 0s 5ms/step - loss: 0.0019\n",
            "Epoch 141/150\n",
            "17/17 [==============================] - 0s 4ms/step - loss: 0.0021\n",
            "Epoch 142/150\n",
            "17/17 [==============================] - 0s 5ms/step - loss: 0.0023\n",
            "Epoch 143/150\n",
            "17/17 [==============================] - 0s 4ms/step - loss: 0.0019\n",
            "Epoch 144/150\n",
            "17/17 [==============================] - 0s 5ms/step - loss: 0.0022\n",
            "Epoch 145/150\n",
            "17/17 [==============================] - 0s 4ms/step - loss: 0.0020\n",
            "Epoch 146/150\n",
            "17/17 [==============================] - 0s 4ms/step - loss: 0.0019\n",
            "Epoch 147/150\n",
            "17/17 [==============================] - 0s 5ms/step - loss: 0.0019\n",
            "Epoch 148/150\n",
            "17/17 [==============================] - 0s 5ms/step - loss: 0.0020\n",
            "Epoch 149/150\n",
            "17/17 [==============================] - 0s 5ms/step - loss: 0.0020\n",
            "Epoch 150/150\n",
            "17/17 [==============================] - 0s 4ms/step - loss: 0.0019\n",
            "1/1 [==============================] - 0s 2ms/step - loss: 0.0014\n"
          ],
          "name": "stdout"
        }
      ]
    },
    {
      "cell_type": "markdown",
      "metadata": {
        "id": "Y9PSkVSA50OG",
        "colab_type": "text"
      },
      "source": [
        "# Using best model to predict on X_train & X_test"
      ]
    },
    {
      "cell_type": "code",
      "metadata": {
        "id": "aBny6cUkO4xC",
        "colab_type": "code",
        "colab": {
          "base_uri": "https://localhost:8080/",
          "height": 50
        },
        "outputId": "27aba97f-fe2c-4d6d-d447-e9705b75a227"
      },
      "source": [
        "# Prediction and check performance metric\n",
        "train_predict = best_param_model.predict(X_train)\n",
        "test_predict = best_param_model.predict(X_test)\n",
        "print(train_predict.shape)\n",
        "print(test_predict.shape)"
      ],
      "execution_count": 38,
      "outputs": [
        {
          "output_type": "stream",
          "text": [
            "(163, 1)\n",
            "(14, 1)\n"
          ],
          "name": "stdout"
        }
      ]
    },
    {
      "cell_type": "code",
      "metadata": {
        "id": "b7ocuWlpPIEA",
        "colab_type": "code",
        "colab": {}
      },
      "source": [
        "# Make sure in same normal\n",
        "# print(train_predict,Y_train)\n",
        "# test_predict has too large values - work on hyperparas\n",
        "# print(test_predict, Y_test)\n"
      ],
      "execution_count": 39,
      "outputs": []
    },
    {
      "cell_type": "code",
      "metadata": {
        "id": "zenaz-fCcL0E",
        "colab_type": "code",
        "colab": {}
      },
      "source": [
        "# print(train_predict,test_predict)"
      ],
      "execution_count": 40,
      "outputs": []
    },
    {
      "cell_type": "markdown",
      "metadata": {
        "id": "k4ocL2CLJLXg",
        "colab_type": "text"
      },
      "source": [
        "# Performance Metric\n",
        "\n",
        "*   How well is model performing? A measure of what i am predicting and what should have been predicting.\n",
        "*  **Mean Absolute Error**: MAE measures the average magnitude of the errors in a set of predictions, without considering their direction. It’s the average over the test sample of the absolute differences between prediction and actual observation where all individual differences have equal weight. \n",
        "*   **Mean Squared Error**: Measures the average of the squares of the errors—that is, the average squared difference between the estimated values and the actual value.\n",
        "*   **Kullback-Leibler divergence**, which is also called relative entropy, is a measure of the difference between two probability distributions P and Q where P is the distribution of the observation that we want to see how much it differs from the average prior distribution Q. In statistics, an approximate entropy (ApEn) is a technique used to quantify the amount of regularity and the unpredictability of fluctuations over time-series data.[1]\n",
        "* [MAE Versus RMSE](https://medium.com/human-in-a-machine-world/mae-and-rmse-which-metric-is-better-e60ac3bde13d)\n",
        "\n",
        "\n",
        "\n"
      ]
    },
    {
      "cell_type": "code",
      "metadata": {
        "id": "DHXXILzqPUHQ",
        "colab_type": "code",
        "colab": {
          "base_uri": "https://localhost:8080/",
          "height": 50
        },
        "outputId": "aa7c756a-507f-4c0d-ec90-b12cadd53afd"
      },
      "source": [
        "from sklearn.metrics import mean_absolute_error\n",
        "print(mean_absolute_error(Y_train, train_predict))\n",
        "print(mean_absolute_error(Y_test, test_predict))"
      ],
      "execution_count": 41,
      "outputs": [
        {
          "output_type": "stream",
          "text": [
            "0.03886828431743301\n",
            "0.03311105736078795\n"
          ],
          "name": "stdout"
        }
      ]
    },
    {
      "cell_type": "code",
      "metadata": {
        "id": "fFNm7l86Pt_7",
        "colab_type": "code",
        "colab": {
          "base_uri": "https://localhost:8080/",
          "height": 50
        },
        "outputId": "d3afc1e4-f43e-4f05-c5d4-786b908a067a"
      },
      "source": [
        "from sklearn.metrics import mean_squared_error\n",
        "print(math.sqrt(mean_squared_error(Y_train, train_predict)))\n",
        "print(math.sqrt(mean_squared_error(Y_test, test_predict)))"
      ],
      "execution_count": 42,
      "outputs": [
        {
          "output_type": "stream",
          "text": [
            "0.04866416085371675\n",
            "0.03775184741473216\n"
          ],
          "name": "stdout"
        }
      ]
    },
    {
      "cell_type": "code",
      "metadata": {
        "id": "gZc_4QJmZugn",
        "colab_type": "code",
        "colab": {
          "base_uri": "https://localhost:8080/",
          "height": 82
        },
        "outputId": "d46c4c94-d472-4e63-f28e-0169a7d46202"
      },
      "source": [
        "# Problem: Y_train, train_predict need to be normalised in order to produce a non negative value?\n",
        "# Confused on when to normalise and not normalise as I had to transform back for MAE & MSE\n",
        "# KL Divergence: Probability distribution rather than time series\n",
        "# Consider this for evaluation: https://www.tensorflow.org/api_docs/python/tf/keras/losses/KLDivergence\n",
        "# Kl divergence measures difference between 2 probability distributions\n",
        "# Implementing KL from scratch\n",
        "\n",
        "def kl_divergence(P,Q):\n",
        " epsilon = 0.00001      # Epsilon is used here to avoid conditional code for checking that neither P nor Q is equal to 0.\n",
        " P = P+epsilon          #  Made copies to avoid changing the np arrays.\n",
        " Q = Q+epsilon\n",
        " divergence = np.sum(P*np.log(P/Q))\n",
        " return divergence\n",
        "\n",
        "print(kl_divergence(Y_train, train_predict)) \n",
        "print(kl_divergence(Y_test, test_predict))   # Values should be normalized though and they are not currently normalised.\n"
      ],
      "execution_count": 43,
      "outputs": [
        {
          "output_type": "stream",
          "text": [
            "nan\n",
            "-5.133895815700752\n"
          ],
          "name": "stdout"
        },
        {
          "output_type": "stream",
          "text": [
            "/usr/local/lib/python3.6/dist-packages/ipykernel_launcher.py:12: RuntimeWarning: invalid value encountered in log\n",
            "  if sys.path[0] == '':\n"
          ],
          "name": "stderr"
        }
      ]
    },
    {
      "cell_type": "code",
      "metadata": {
        "id": "ChFdlWNgTueE",
        "colab_type": "code",
        "colab": {
          "base_uri": "https://localhost:8080/",
          "height": 163
        },
        "outputId": "36a9816a-2e3e-4166-db2e-ff516e6df144"
      },
      "source": [
        "# Implementing KL using scipy.stats\n",
        "from scipy.stats import entropy\n",
        "print(\"\\nIndividual Entropy\\n\")\n",
        "print(entropy(Y_train))\n",
        "print(entropy(train_predict))\n",
        "Y_train_kl = Y_train.reshape(163, 1) # Needed to shape if I wanted to do entropy(_, _)\n",
        "print(\"\\nPairwise Kullback Leibler divergence\\n\")\n",
        "print(entropy(Y_train_kl, qk=train_predict))"
      ],
      "execution_count": 45,
      "outputs": [
        {
          "output_type": "stream",
          "text": [
            "\n",
            "Individual Entropy\n",
            "\n",
            "5.035402047090443\n",
            "[-inf]\n",
            "\n",
            "Pairwise Kullback Leibler divergence\n",
            "\n",
            "[inf]\n"
          ],
          "name": "stdout"
        }
      ]
    },
    {
      "cell_type": "code",
      "metadata": {
        "id": "zBvajm_B_Flw",
        "colab_type": "code",
        "colab": {
          "base_uri": "https://localhost:8080/",
          "height": 472
        },
        "outputId": "07bdcc9e-689d-41ab-852d-e8a19e6d26c5"
      },
      "source": [
        "# Converted train_predict from a numpy array to a normal array\n",
        "print(Y_train) \n",
        "train_predict_array = []\n",
        "for i in train_predict:\n",
        "  train_predict_array.append(i[0])\n"
      ],
      "execution_count": 46,
      "outputs": [
        {
          "output_type": "stream",
          "text": [
            "[0.73506201 0.70744081 0.70293123 0.70124014 0.66234498 0.66234498\n",
            " 0.66234498 0.60879369 0.59921082 0.61724915 0.59977452 0.60146561\n",
            " 0.60146561 0.60146561 0.63979707 0.6313416  0.63359639 0.59470124\n",
            " 0.56708005 0.56708005 0.56708005 0.56257046 0.5524239  0.55636979\n",
            " 0.51521984 0.45772266 0.45772266 0.45772266 0.47801578 0.52480271\n",
            " 0.5259301  0.58229989 0.55016911 0.55016911 0.55016911 0.49098083\n",
            " 0.52931229 0.60315671 0.61443067 0.62965051 0.62965051 0.62965051\n",
            " 0.59470124 0.62852311 0.7102593  0.70124014 0.69673055 0.69673055\n",
            " 0.69673055 0.66403608 0.62457723 0.61273957 0.59921082 0.56764374\n",
            " 0.56764374 0.56764374 0.48421646 0.46956032 0.43122886 0.47688839\n",
            " 0.39627959 0.39627959 0.39627959 0.38275085 0.41544532 0.42502818\n",
            " 0.43179256 0.39797069 0.39797069 0.39797069 0.34892897 0.41770011\n",
            " 0.41882751 0.43630214 0.47857948 0.47857948 0.47857948 0.51972943\n",
            " 0.49379932 0.48252537 0.53494927 0.53945885 0.53945885 0.53945885\n",
            " 0.57328072 0.62401353 0.5529876  0.52874859 0.53100338 0.53100338\n",
            " 0.53100338 0.49718151 0.48308906 0.47745209 0.45490417 0.53551297\n",
            " 0.53551297 0.53551297 0.57158963 0.54678692 0.5800451  0.64092446\n",
            " 0.5777903  0.5777903  0.5777903  0.54565953 0.54678692 0.50732807\n",
            " 0.48027057 0.41882751 0.41882751 0.41882751 0.43686584 0.51127396\n",
            " 0.50225479 0.5259301  0.52480271 0.52480271 0.52480271 0.54678692\n",
            " 0.40360767 0.22547914 0.15332582 0.03551297 0.03551297 0.03551297\n",
            " 0.08793687 0.         0.06820744 0.31848929 0.44024803 0.44024803\n",
            " 0.44024803 0.44532131 0.61217587 0.75253664 0.80101466 0.92784667\n",
            " 0.92784667 0.92784667 0.88105975 0.82750846 0.78072153 0.74689966\n",
            " 0.71307779 0.71307779 0.71307779 0.75197294 0.7886133  0.79932356\n",
            " 0.85625705 0.81285231 0.81285231 0.81285231 0.83652762 0.78579481\n",
            " 0.80834273 0.85231116 0.85794814 0.85794814 0.85794814 0.87936866\n",
            " 0.87936866]\n"
          ],
          "name": "stdout"
        }
      ]
    },
    {
      "cell_type": "code",
      "metadata": {
        "id": "c9oCHWLA-c6i",
        "colab_type": "code",
        "colab": {
          "base_uri": "https://localhost:8080/",
          "height": 50
        },
        "outputId": "2ec1f026-7774-4962-902a-ce6a3884577e"
      },
      "source": [
        "from scipy.special import rel_entr\n",
        "# measures the distance by two distributions\n",
        "# look up expected inputs, check data and print above etc..\n",
        "p = Y_train\n",
        "q = train_predict_array\n",
        "KL_PQ = rel_entr(p,q)\n",
        "KL_QP = rel_entr(q,p)\n",
        "print(\"KL(P||Q): %.3f\" % sum(KL_PQ))\n",
        "print(\"KL(Q||P): %.3f\" % sum(KL_QP)) # inifinity?\n"
      ],
      "execution_count": 47,
      "outputs": [
        {
          "output_type": "stream",
          "text": [
            "KL(P||Q): inf\n",
            "KL(Q||P): inf\n"
          ],
          "name": "stdout"
        }
      ]
    },
    {
      "cell_type": "markdown",
      "metadata": {
        "id": "-nSW23ryI8RU",
        "colab_type": "text"
      },
      "source": [
        "# Actual Data, Train Prediction & Test Prediction data"
      ]
    },
    {
      "cell_type": "code",
      "metadata": {
        "id": "WBscxGKwZVET",
        "colab_type": "code",
        "colab": {}
      },
      "source": [
        "# Transform back to original form\n",
        "train_predict=scaler.inverse_transform(train_predict)\n",
        "test_predict =scaler.inverse_transform(test_predict)\n"
      ],
      "execution_count": 48,
      "outputs": []
    },
    {
      "cell_type": "code",
      "metadata": {
        "id": "wIaC4DB2UV6P",
        "colab_type": "code",
        "colab": {
          "base_uri": "https://localhost:8080/",
          "height": 435
        },
        "outputId": "a80b5716-59cb-40b3-ea4e-ad3b4f9c28db"
      },
      "source": [
        "# Problem: testPredictPlot[len(train_predict)+(look_back*2)+2: (training_size + test_size)] = test_predict\n",
        "# What does this do eactly other than populate the train predict\n",
        "\n",
        "# Taking in the 7 \n",
        "\n",
        "look_back = 7\n",
        "\n",
        "# empty_like: Return a new array with the same shape and type as a given array.\n",
        "# np.nan: Make all 0 values\n",
        "# Populates\n",
        "# What does this do?? 7: predict.length() + 7, :\n",
        "# 7 until 162 + 7 = 169\n",
        "\n",
        "trainPredictPlot = np.empty_like(new_dataset)\n",
        "trainPredictPlot[:,:]= np.nan\n",
        "trainPredictPlot[look_back:len(train_predict)+look_back, :] = train_predict\n",
        "print(trainPredictPlot.shape)\n",
        "\n",
        "# What does this do exactly? Is there an easier way to implement? predict.length() + (7*2) +1 :(training_size + test_size)] = test_predict\n",
        "\n",
        "testPredictPlot = np.empty_like(new_dataset)\n",
        "testPredictPlot[:,:]= np.nan\n",
        "testPredictPlot[len(train_predict)+(look_back*2)+1: (training_size + test_size)] = test_predict\n",
        "# new_dataset[training_size:(training_size + test_size)]\n",
        "print(testPredictPlot.shape)\n",
        "\n",
        "# Plot baseline and predictions\n",
        "plt.title('Analysis of train, test and actual')\n",
        "plt.plot(scaler.inverse_transform(new_dataset), label=\"actual dataset\")\n",
        "\n",
        "trainPredictPlot = [item[2] for item in trainPredictPlot] \n",
        "plt.plot(trainPredictPlot, label=\"train_predict\")\n",
        "\n",
        "testPredictPlot = [item[2] for item in testPredictPlot] \n",
        "plt.plot(testPredictPlot, label=\"test_predict\")\n",
        "\n",
        "# as you can see th test data and train is divided because we want to test after a specific day\n",
        "plt.ylabel('Forex price & US Death Rates')\n",
        "plt.xlabel('Date')\n",
        "plt.legend()\n",
        "plt.show()\n",
        "# Printing 2 actual_dataset, train_predict, test_predict because 2 input layers"
      ],
      "execution_count": 49,
      "outputs": [
        {
          "output_type": "stream",
          "text": [
            "(214, 3)\n",
            "(214, 3)\n"
          ],
          "name": "stdout"
        },
        {
          "output_type": "display_data",
          "data": {
            "image/png": "[encoded data removed]",
            "text/plain": [
              "<Figure size 1080x432 with 1 Axes>"
            ]
          },
          "metadata": {
            "tags": [],
            "needs_background": "light"
          }
        }
      ]
    },
    {
      "cell_type": "markdown",
      "metadata": {
        "id": "Fc6YFJvQjBGu",
        "colab_type": "text"
      },
      "source": [
        "# Custom 21 day prediction (21 is the length of our validation dataset)\n",
        "\n",
        "*   Training train data to predict future days and evaluating the accuracy on validation data.\n",
        "*   Training train data to predict future days, no way of evaluating however this can tell us what is likely to occur.\n",
        "*   Using last 7 days of training data to predict the future custom days(21). \n",
        "\n"
      ]
    },
    {
      "cell_type": "code",
      "metadata": {
        "id": "HxvvN9lZgGMm",
        "colab_type": "code",
        "colab": {}
      },
      "source": [
        "# train_data"
      ],
      "execution_count": 50,
      "outputs": []
    },
    {
      "cell_type": "code",
      "metadata": {
        "id": "yws-gX7RTB3Z",
        "colab_type": "code",
        "colab": {
          "base_uri": "https://localhost:8080/",
          "height": 147
        },
        "outputId": "2d8ed90b-06bf-4d6d-bc47-4fc67f569d63"
      },
      "source": [
        "# Taking the last 7 days of test\n",
        "# print(test_data[80:])\n",
        "# is this supposed to be test or train_data\n",
        "X_input=test_data[100:].reshape(1,-1)\n",
        "print(X_input)\n",
        "X_input.shape\n",
        "temp_input = train_data[-7:] # start, end \n",
        "temp_input\n",
        "\n"
      ],
      "execution_count": 51,
      "outputs": [
        {
          "output_type": "stream",
          "text": [
            "[]\n"
          ],
          "name": "stdout"
        },
        {
          "output_type": "execute_result",
          "data": {
            "text/plain": [
              "array([[0.36645219, 0.43112686, 0.85231116],\n",
              "       [0.37508234, 0.44124607, 0.85794814],\n",
              "       [0.38382006, 0.45143297, 0.85794814],\n",
              "       [0.39264009, 0.46164599, 0.85794814],\n",
              "       [0.40154418, 0.47189386, 0.87936866],\n",
              "       [0.41054811, 0.48221551, 0.87936866],\n",
              "       [0.41965969, 0.4926037 , 0.83089064]])"
            ]
          },
          "metadata": {
            "tags": []
          },
          "execution_count": 51
        }
      ]
    },
    {
      "cell_type": "code",
      "metadata": {
        "id": "iwwiVvDgg_-s",
        "colab_type": "code",
        "colab": {
          "base_uri": "https://localhost:8080/",
          "height": 33
        },
        "outputId": "e0ba87e0-0704-47a0-9b15-912f414aaa2f"
      },
      "source": [
        "print(len(valset_data))"
      ],
      "execution_count": 52,
      "outputs": [
        {
          "output_type": "stream",
          "text": [
            "21\n"
          ],
          "name": "stdout"
        }
      ]
    },
    {
      "cell_type": "code",
      "metadata": {
        "id": "CHAxzKyuTp5-",
        "colab_type": "code",
        "colab": {
          "base_uri": "https://localhost:8080/",
          "height": 53
        },
        "outputId": "debdfa93-55a0-45eb-a689-bf0e11ec3512"
      },
      "source": [
        "# Demonstrate prediction for the next 4 days:\n",
        "\n",
        "# Step 1. 7 days of feature = temp_input taken from the last 7 days of the training set\n",
        "# Step 2  i is the day you are on and we want to predict 4 days: 0,1,2,3 (4 days)\n",
        "# Step 3. Predict the 8th day on each of the 7 days,\n",
        "# Step 4. Add this new predicted day to the list\n",
        "# Step 5. Because we are now taking in the last 7 days + the new predicted value, the list is now size 8  \n",
        "# Step 6. In order to take in 7 days at a time, we shift 1 to the right.\n",
        "# Step 7. We reassign the X_train to the new 7 days\n",
        "# Step 8. We predict the 8th day of the 7 days and continue the process\n",
        "# Step 9. We then add the 8th day to the output list\n",
        "# Step 10. We keep track of the 4 days by incrementing by i at the end-> i = i+1\n",
        "# Step 11. Once we have predicted the 4 days, we return the list of 4 day values.\n",
        "\n",
        "from numpy import array\n",
        "custom_day = len(valset_data)\n",
        "lst_output=[]\n",
        "n_steps=7\n",
        "i=0\n",
        "X_input = temp_input\n",
        "# print(X_input)\n",
        "while(i<custom_day):\n",
        "  if(len(temp_input)>7):\n",
        "    # print(temp_input)  \n",
        "    X_input=array(temp_input[1:])\n",
        "    # print(\"{} day input {}\".format(i,X_input))\n",
        "    # Correct input shape (1,7,3)\n",
        "    X_input=X_input.reshape((1,n_steps,3))\n",
        "    # Prediction of X_input\n",
        "    # print(X_input)\n",
        "    Y_hat = best_param_model.predict(X_input)\n",
        "    # print(Y_hat)\n",
        "    temp_input = np.append(temp_input, Y_hat)\n",
        "    temp_input=temp_input[1:]\n",
        "    lst_output.append(Y_hat[0][0])\n",
        "    i=i+1\n",
        "  else:\n",
        "    X_input=X_input.reshape((1,n_steps,3))\n",
        "    Y_hat = best_param_model.predict(X_input, verbose=0)\n",
        "    # print(Y_hat)\n",
        "    temp_input = np.append(temp_input, Y_hat)\n",
        "    lst_output.append(Y_hat[0][0])\n",
        "    i=i+1\n",
        "# [0.039997526, 0.035484765, 0.029113937, 0.025276443]\n",
        "# Print the predicted forex price for the next 4 days \n",
        "print(lst_output)"
      ],
      "execution_count": 53,
      "outputs": [
        {
          "output_type": "stream",
          "text": [
            "[0.80725765, 1.0357807, 1.1585228, 1.0958987, 1.146806, 1.0624179, 0.92136234, 0.94751734, 0.9524232, 0.9796129, 1.0718285, 1.1002744, 1.0885884, 1.0706927, 1.0103356, 0.96021557, 0.9481791, 0.9504899, 0.97763956, 1.0113035, 1.0267384]\n"
          ],
          "name": "stdout"
        }
      ]
    },
    {
      "cell_type": "markdown",
      "metadata": {
        "id": "-0DCdCn2jwxO",
        "colab_type": "text"
      },
      "source": [
        "### Plotting evaluation: Training Prediction of 21 days Versus 21 days of Validation Data."
      ]
    },
    {
      "cell_type": "code",
      "metadata": {
        "id": "z_5opaqHfcZt",
        "colab_type": "code",
        "colab": {
          "base_uri": "https://localhost:8080/",
          "height": 536
        },
        "outputId": "fac0178f-e376-49b7-a780-c3de6db800c6"
      },
      "source": [
        "# Custom day plotted\n",
        "day_new = custom_day-1\n",
        "\n",
        "# Predicted 21 days from training\n",
        "# Plot and label\n",
        "# Transform back to original value before normalised\n",
        "custom_day_prediction = np.array(lst_output)\n",
        "print(\"Predicted validation:\")\n",
        "print(custom_day_prediction)\n",
        "plt.plot(custom_day_prediction, label=\"Predicted Validation Data\")\n",
        "# plt.plot(day_new, scaler.inverse_transform([custom_day_prediction]))\n",
        "\n",
        "# Actual 4 days from validation\n",
        "# Plot and label\n",
        "# Transform back to original value before normalised\n",
        "val_data = [item[2] for item in valset_data] \n",
        "custom_day_validation = val_data[:custom_day]\n",
        "print(\"Actual validation:\")\n",
        "print(custom_day_validation)\n",
        "plt.plot(custom_day_validation, label=\"Actual Validation Data\")\n",
        "# plt.plot(day_new, scaler.inverse_transform([custom_day_validation]))\n",
        "\n",
        "# Information\n",
        "plt.title('Predicted 21 days from training data versus actual 21 days from validation data')\n",
        "plt.xlabel('Number of days predicted')\n",
        "plt.ylabel('Price')\n",
        "plt.legend()\n",
        "plt.show()\n"
      ],
      "execution_count": 54,
      "outputs": [
        {
          "output_type": "stream",
          "text": [
            "Predicted validation:\n",
            "[0.80725765 1.0357807  1.1585228  1.0958987  1.146806   1.0624179\n",
            " 0.92136234 0.94751734 0.9524232  0.9796129  1.0718285  1.1002744\n",
            " 1.0885884  1.0706927  1.0103356  0.96021557 0.9481791  0.9504899\n",
            " 0.97763956 1.0113035  1.0267384 ]\n",
            "Actual validation:\n",
            "[0.8263810597519718, 0.8049605411499439, 0.8049605411499439, 0.8049605411499439, 0.7925591882750833, 0.813416009019166, 0.854002254791431, 0.8703494926719273, 0.8500563697857952, 0.8500563697857952, 0.8500563697857952, 0.9661781285231115, 0.9064261555806086, 0.8647125140924459, 0.8686583990980825, 0.8838782412626829, 0.8838782412626829, 0.8838782412626829, 0.8962795941375425, 0.922209695603156, 0.9329199549041709]\n"
          ],
          "name": "stdout"
        },
        {
          "output_type": "display_data",
          "data": {
            "image/png": "[encoded data removed]",
            "text/plain": [
              "<Figure size 1080x432 with 1 Axes>"
            ]
          },
          "metadata": {
            "tags": [],
            "needs_background": "light"
          }
        }
      ]
    },
    {
      "cell_type": "markdown",
      "metadata": {
        "id": "QyPpxk3SjmgC",
        "colab_type": "text"
      },
      "source": [
        "# Plotting Prediction of Train, Val 21 days and Test "
      ]
    },
    {
      "cell_type": "code",
      "metadata": {
        "id": "TXuyMvAqjrFB",
        "colab_type": "code",
        "colab": {
          "base_uri": "https://localhost:8080/",
          "height": 435
        },
        "outputId": "27f76cb0-e963-40a1-ec41-04c2bdf04c83"
      },
      "source": [
        "# Problem: Combine both on a graph\n",
        "# Why validation prediction not on graph?\n",
        "\n",
        "look_back = 7\n",
        "\n",
        "# Populate trainPredict\n",
        "trainPredictPlot = np.empty_like(new_dataset)\n",
        "trainPredictPlot[:,:]= np.nan\n",
        "trainPredictPlot[look_back:len(train_predict)+look_back, :] = train_predict\n",
        "print(trainPredictPlot.shape)\n",
        "\n",
        "# Populate testPredict\n",
        "testPredictPlot = np.empty_like(new_dataset)\n",
        "testPredictPlot[:,:]= np.nan\n",
        "testPredictPlot[len(train_predict)+(look_back*2)+1: (training_size + test_size)] = test_predict\n",
        "# new_dataset[training_size:(training_size + test_size)]\n",
        "print(testPredictPlot.shape)\n",
        "\n",
        "# Plot train data\n",
        "trainPredictPlot = [item[2] for item in trainPredictPlot] \n",
        "plt.plot(trainPredictPlot, label=\"train_predict\")\n",
        "\n",
        "#Plot test data\n",
        "testPredictPlot = [item[2] for item in testPredictPlot] \n",
        "plt.plot(testPredictPlot, label=\"test_predict\")\n",
        "\n",
        "# Plot predicted validation set from up above\n",
        "# only one not working?\n",
        "custom_day_prediction = np.array(lst_output)\n",
        "plt.plot(custom_day_prediction, label=\"Predicted Validation Data\")\n",
        "\n",
        "# as you can see th test data and train is divided because we want to test after a specific day\n",
        "plt.title('Analysis of train prediction, validation prediction based on train data, and test prediction.')\n",
        "plt.ylabel('Forex price & US Death Rates')\n",
        "plt.xlabel('Date')\n",
        "plt.legend()\n",
        "plt.show()\n",
        "\n"
      ],
      "execution_count": 55,
      "outputs": [
        {
          "output_type": "stream",
          "text": [
            "(214, 3)\n",
            "(214, 3)\n"
          ],
          "name": "stdout"
        },
        {
          "output_type": "display_data",
          "data": {
            "image/png": "[encoded data removed]",
            "text/plain": [
              "<Figure size 1080x432 with 1 Axes>"
            ]
          },
          "metadata": {
            "tags": [],
            "needs_background": "light"
          }
        }
      ]
    },
    {
      "cell_type": "markdown",
      "metadata": {
        "id": "SC2b_7hPo99n",
        "colab_type": "text"
      },
      "source": [
        "# Plotting Predicted Train, Test, Validation on Graph as well as Actual Dataset"
      ]
    },
    {
      "cell_type": "code",
      "metadata": {
        "id": "-XbeMlp9pMdH",
        "colab_type": "code",
        "colab": {
          "base_uri": "https://localhost:8080/",
          "height": 402
        },
        "outputId": "f03b87c2-3290-4c61-b11f-a3b186db3e4d"
      },
      "source": [
        "# All of the above + actual data\n",
        "# Problem why is this not printing out right?\n",
        "# How can I make my legends tidier?\n",
        "\n",
        "# Start\n",
        "plt.plot(train_data, label=\"actual train dataset\")\n",
        "# Predicted Train\n",
        "trainPredictPlot = np.empty_like(new_dataset)\n",
        "trainPredictPlot[:,:]= np.nan\n",
        "trainPredictPlot[look_back:len(train_predict)+look_back, :] = train_predict\n",
        "trainPredictPlot = [item[2] for item in trainPredictPlot] \n",
        "plt.plot(trainPredictPlot, label=\"train_predict\")\n",
        "\n",
        "# Middle\n",
        "plt.plot(valset_data, label=\"actual validation dataset\")\n",
        "# insert predicted val\n",
        "\n",
        "# End\n",
        "plt.plot(test_data, label=\"actual_test_dataset\")\n",
        "# Predicted\n",
        "testPredictPlot = np.empty_like(new_dataset)\n",
        "testPredictPlot[:,:]= np.nan\n",
        "testPredictPlot[len(train_predict)+(look_back*2)+1: (training_size + test_size)] = test_predict\n",
        "testPredictPlot = [item[2] for item in testPredictPlot] \n",
        "plt.plot(testPredictPlot, label=\"test_predict\")\n",
        "# insert predict test\n",
        "\n",
        "# as you can see th test data and train is divided because we want to test after a specific day\n",
        "plt.title('Train, Val & Test Dataset')\n",
        "plt.ylabel('Forex price, US Death Rates, Positive Cases')\n",
        "plt.xlabel('Date')\n",
        "plt.legend()\n",
        "plt.show()"
      ],
      "execution_count": 56,
      "outputs": [
        {
          "output_type": "display_data",
          "data": {
            "image/png": "[encoded data removed]",
            "text/plain": [
              "<Figure size 1080x432 with 1 Axes>"
            ]
          },
          "metadata": {
            "tags": [],
            "needs_background": "light"
          }
        }
      ]
    },
    {
      "cell_type": "markdown",
      "metadata": {
        "id": "7o0GfssHMvIL",
        "colab_type": "text"
      },
      "source": [
        "# Conclusion and next steps\n",
        "\n",
        "After exploring the LSTM algorithm:\n",
        "*   Notes on working with LSTM & Small Dataset\n",
        "*   Notes on overfitting\n",
        "\n",
        "In conclusion it seems that .."
      ]
    }
  ]
}