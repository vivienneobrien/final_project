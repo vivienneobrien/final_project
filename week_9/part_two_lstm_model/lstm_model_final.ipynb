{
  "nbformat": 4,
  "nbformat_minor": 0,
  "metadata": {
    "colab": {
      "name": "lstm_model_final.ipynb",
      "provenance": [],
      "collapsed_sections": []
    },
    "kernelspec": {
      "name": "python3",
      "display_name": "Python 3"
    },
    "accelerator": "GPU"
  },
  "cells": [
    {
      "cell_type": "markdown",
      "metadata": {
        "id": "NpLCBrS0DoTl",
        "colab_type": "text"
      },
      "source": [
        "# Notes for user:\n",
        "\n",
        "*   This notebook will use the dataset COVID-19 (positive cases and death rates) and forex to predict the forex spot price of a currency pair.\n",
        "*   What to ask user before using this application:\n",
        "*   What currency pair are you interested in? GBP/USD (This layout means that the base currency is USD)\n",
        "*   The currency the user wants to look at is how much the USD is worth to the GBP.\n",
        "*   Therefore, we look at the death rates & positive cases in the US.\n",
        "*   We are looking at dates: 31st Dec 2019 - 31st July 2020.\n",
        "*   LSTMs are good at looking at changed over time. \n"
      ]
    },
    {
      "cell_type": "markdown",
      "metadata": {
        "id": "JgdK1L0bjQsY",
        "colab_type": "text"
      },
      "source": [
        "# Part 2: LSTM to prediction Forex Spot Price"
      ]
    },
    {
      "cell_type": "markdown",
      "metadata": {
        "id": "hj06VW8PjHI3",
        "colab_type": "text"
      },
      "source": [
        "# Imports"
      ]
    },
    {
      "cell_type": "code",
      "metadata": {
        "id": "GDBxlQkCD7Mj",
        "colab_type": "code",
        "colab": {
          "base_uri": "https://localhost:8080/",
          "height": 297
        },
        "outputId": "8936a78c-c659-4ed2-edcd-20a9070deb86"
      },
      "source": [
        "# Imports\n",
        "!pip install git+https://github.com/tensorflow/docs\n",
        "import pathlib\n",
        "import numpy as np\n",
        "import pandas as pd\n",
        "import tensorflow as tf\n",
        "from tensorflow import keras\n",
        "from tensorflow.keras import layers\n",
        "print(tf.__version__)\n",
        "import tensorflow_docs as tfdocs\n",
        "import tensorflow_docs.plots\n",
        "import tensorflow_docs.modeling\n",
        "#plotting\n",
        "from datetime import datetime, timedelta\n",
        "from matplotlib import pyplot as plt\n",
        "from matplotlib import dates as mpl_dates\n",
        "plt.style.use('seaborn')\n",
        "from matplotlib import rcParams\n",
        "# metrics\n",
        "import math\n",
        "# to create model\n",
        "from tensorflow.keras.models import Sequential\n",
        "from tensorflow.keras.layers import InputLayer\n",
        "from tensorflow.keras.layers import LSTM\n",
        "from tensorflow.keras.layers import Dense"
      ],
      "execution_count": 196,
      "outputs": [
        {
          "output_type": "stream",
          "text": [
            "Collecting git+https://github.com/tensorflow/docs\n",
            "  Cloning https://github.com/tensorflow/docs to /tmp/pip-req-build-kufe4l08\n",
            "  Running command git clone -q https://github.com/tensorflow/docs /tmp/pip-req-build-kufe4l08\n",
            "Requirement already satisfied (use --upgrade to upgrade): tensorflow-docs===0.0.05c4bd64cc6466af361dfd1f7e19625e7de52fc37- from git+https://github.com/tensorflow/docs in /usr/local/lib/python3.6/dist-packages\n",
            "Requirement already satisfied: astor in /usr/local/lib/python3.6/dist-packages (from tensorflow-docs===0.0.05c4bd64cc6466af361dfd1f7e19625e7de52fc37-) (0.8.1)\n",
            "Requirement already satisfied: absl-py in /usr/local/lib/python3.6/dist-packages (from tensorflow-docs===0.0.05c4bd64cc6466af361dfd1f7e19625e7de52fc37-) (0.9.0)\n",
            "Requirement already satisfied: protobuf in /usr/local/lib/python3.6/dist-packages (from tensorflow-docs===0.0.05c4bd64cc6466af361dfd1f7e19625e7de52fc37-) (3.12.4)\n",
            "Requirement already satisfied: pyyaml in /usr/local/lib/python3.6/dist-packages (from tensorflow-docs===0.0.05c4bd64cc6466af361dfd1f7e19625e7de52fc37-) (3.13)\n",
            "Requirement already satisfied: six in /usr/local/lib/python3.6/dist-packages (from absl-py->tensorflow-docs===0.0.05c4bd64cc6466af361dfd1f7e19625e7de52fc37-) (1.15.0)\n",
            "Requirement already satisfied: setuptools in /usr/local/lib/python3.6/dist-packages (from protobuf->tensorflow-docs===0.0.05c4bd64cc6466af361dfd1f7e19625e7de52fc37-) (49.2.0)\n",
            "Building wheels for collected packages: tensorflow-docs\n",
            "  Building wheel for tensorflow-docs (setup.py) ... \u001b[?25l\u001b[?25hdone\n",
            "  Created wheel for tensorflow-docs: filename=tensorflow_docs-0.0.05c4bd64cc6466af361dfd1f7e19625e7de52fc37_-cp36-none-any.whl size=126759 sha256=844555ad9ef3a75da02c521532aabba16119ef71c2624bcf8173120488fcb52f\n",
            "  Stored in directory: /tmp/pip-ephem-wheel-cache-sq91at1x/wheels/eb/1b/35/fce87697be00d2fc63e0b4b395b0d9c7e391a10e98d9a0d97f\n",
            "Successfully built tensorflow-docs\n",
            "2.3.0\n"
          ],
          "name": "stdout"
        }
      ]
    },
    {
      "cell_type": "code",
      "metadata": {
        "id": "U7zLL7tQm3eq",
        "colab_type": "code",
        "colab": {}
      },
      "source": [
        "from numpy.random import seed\n",
        "seed(1)\n",
        "tf.random.set_seed(2)"
      ],
      "execution_count": 197,
      "outputs": []
    },
    {
      "cell_type": "markdown",
      "metadata": {
        "id": "QzadtzC3Hniw",
        "colab_type": "text"
      },
      "source": [
        "# Data Collection\n"
      ]
    },
    {
      "cell_type": "code",
      "metadata": {
        "id": "7GjIgZ7kJhjo",
        "colab_type": "code",
        "colab": {
          "base_uri": "https://localhost:8080/",
          "height": 292
        },
        "outputId": "769bcbb4-288b-4295-a875-6e2df5d7aa79"
      },
      "source": [
        "# Importing covid_dataset using pandas. Droping null values.\n",
        "covid_dataset_data= pd.read_csv('owid_covid_data.csv', na_values = \"?\", comment='\\t', skipinitialspace=True)\n",
        "covid_dataset = covid_dataset_data.copy()\n",
        "# covid_dataset = covid_dataset.dropna()  # We do not want to drop empty tables as this is null values are part of our dataset\n",
        "covid_dataset.head()"
      ],
      "execution_count": 198,
      "outputs": [
        {
          "output_type": "execute_result",
          "data": {
            "text/html": [
              "<div>\n",
              "<style scoped>\n",
              "    .dataframe tbody tr th:only-of-type {\n",
              "        vertical-align: middle;\n",
              "    }\n",
              "\n",
              "    .dataframe tbody tr th {\n",
              "        vertical-align: top;\n",
              "    }\n",
              "\n",
              "    .dataframe thead th {\n",
              "        text-align: right;\n",
              "    }\n",
              "</style>\n",
              "<table border=\"1\" class=\"dataframe\">\n",
              "  <thead>\n",
              "    <tr style=\"text-align: right;\">\n",
              "      <th></th>\n",
              "      <th>iso_code</th>\n",
              "      <th>continent</th>\n",
              "      <th>location</th>\n",
              "      <th>date</th>\n",
              "      <th>total_cases</th>\n",
              "      <th>new_cases</th>\n",
              "      <th>total_deaths</th>\n",
              "      <th>new_deaths</th>\n",
              "      <th>total_cases_per_million</th>\n",
              "      <th>new_cases_per_million</th>\n",
              "      <th>total_deaths_per_million</th>\n",
              "      <th>new_deaths_per_million</th>\n",
              "      <th>new_tests</th>\n",
              "      <th>total_tests</th>\n",
              "      <th>total_tests_per_thousand</th>\n",
              "      <th>new_tests_per_thousand</th>\n",
              "      <th>new_tests_smoothed</th>\n",
              "      <th>new_tests_smoothed_per_thousand</th>\n",
              "      <th>tests_per_case</th>\n",
              "      <th>positive_rate</th>\n",
              "      <th>tests_units</th>\n",
              "      <th>stringency_index</th>\n",
              "      <th>population</th>\n",
              "      <th>population_density</th>\n",
              "      <th>median_age</th>\n",
              "      <th>aged_65_older</th>\n",
              "      <th>aged_70_older</th>\n",
              "      <th>gdp_per_capita</th>\n",
              "      <th>extreme_poverty</th>\n",
              "      <th>cardiovasc_death_rate</th>\n",
              "      <th>diabetes_prevalence</th>\n",
              "      <th>female_smokers</th>\n",
              "      <th>male_smokers</th>\n",
              "      <th>handwashing_facilities</th>\n",
              "      <th>hospital_beds_per_thousand</th>\n",
              "      <th>life_expectancy</th>\n",
              "    </tr>\n",
              "  </thead>\n",
              "  <tbody>\n",
              "    <tr>\n",
              "      <th>0</th>\n",
              "      <td>ABW</td>\n",
              "      <td>North America</td>\n",
              "      <td>Aruba</td>\n",
              "      <td>2020-03-13</td>\n",
              "      <td>2.0</td>\n",
              "      <td>2.0</td>\n",
              "      <td>0.0</td>\n",
              "      <td>0.0</td>\n",
              "      <td>18.733</td>\n",
              "      <td>18.733</td>\n",
              "      <td>0.0</td>\n",
              "      <td>0.0</td>\n",
              "      <td>NaN</td>\n",
              "      <td>NaN</td>\n",
              "      <td>NaN</td>\n",
              "      <td>NaN</td>\n",
              "      <td>NaN</td>\n",
              "      <td>NaN</td>\n",
              "      <td>NaN</td>\n",
              "      <td>NaN</td>\n",
              "      <td>NaN</td>\n",
              "      <td>0.00</td>\n",
              "      <td>106766.0</td>\n",
              "      <td>584.8</td>\n",
              "      <td>41.2</td>\n",
              "      <td>13.085</td>\n",
              "      <td>7.452</td>\n",
              "      <td>35973.781</td>\n",
              "      <td>NaN</td>\n",
              "      <td>NaN</td>\n",
              "      <td>11.62</td>\n",
              "      <td>NaN</td>\n",
              "      <td>NaN</td>\n",
              "      <td>NaN</td>\n",
              "      <td>NaN</td>\n",
              "      <td>76.29</td>\n",
              "    </tr>\n",
              "    <tr>\n",
              "      <th>1</th>\n",
              "      <td>ABW</td>\n",
              "      <td>North America</td>\n",
              "      <td>Aruba</td>\n",
              "      <td>2020-03-20</td>\n",
              "      <td>4.0</td>\n",
              "      <td>2.0</td>\n",
              "      <td>0.0</td>\n",
              "      <td>0.0</td>\n",
              "      <td>37.465</td>\n",
              "      <td>18.733</td>\n",
              "      <td>0.0</td>\n",
              "      <td>0.0</td>\n",
              "      <td>NaN</td>\n",
              "      <td>NaN</td>\n",
              "      <td>NaN</td>\n",
              "      <td>NaN</td>\n",
              "      <td>NaN</td>\n",
              "      <td>NaN</td>\n",
              "      <td>NaN</td>\n",
              "      <td>NaN</td>\n",
              "      <td>NaN</td>\n",
              "      <td>33.33</td>\n",
              "      <td>106766.0</td>\n",
              "      <td>584.8</td>\n",
              "      <td>41.2</td>\n",
              "      <td>13.085</td>\n",
              "      <td>7.452</td>\n",
              "      <td>35973.781</td>\n",
              "      <td>NaN</td>\n",
              "      <td>NaN</td>\n",
              "      <td>11.62</td>\n",
              "      <td>NaN</td>\n",
              "      <td>NaN</td>\n",
              "      <td>NaN</td>\n",
              "      <td>NaN</td>\n",
              "      <td>76.29</td>\n",
              "    </tr>\n",
              "    <tr>\n",
              "      <th>2</th>\n",
              "      <td>ABW</td>\n",
              "      <td>North America</td>\n",
              "      <td>Aruba</td>\n",
              "      <td>2020-03-24</td>\n",
              "      <td>12.0</td>\n",
              "      <td>8.0</td>\n",
              "      <td>0.0</td>\n",
              "      <td>0.0</td>\n",
              "      <td>112.395</td>\n",
              "      <td>74.930</td>\n",
              "      <td>0.0</td>\n",
              "      <td>0.0</td>\n",
              "      <td>NaN</td>\n",
              "      <td>NaN</td>\n",
              "      <td>NaN</td>\n",
              "      <td>NaN</td>\n",
              "      <td>NaN</td>\n",
              "      <td>NaN</td>\n",
              "      <td>NaN</td>\n",
              "      <td>NaN</td>\n",
              "      <td>NaN</td>\n",
              "      <td>44.44</td>\n",
              "      <td>106766.0</td>\n",
              "      <td>584.8</td>\n",
              "      <td>41.2</td>\n",
              "      <td>13.085</td>\n",
              "      <td>7.452</td>\n",
              "      <td>35973.781</td>\n",
              "      <td>NaN</td>\n",
              "      <td>NaN</td>\n",
              "      <td>11.62</td>\n",
              "      <td>NaN</td>\n",
              "      <td>NaN</td>\n",
              "      <td>NaN</td>\n",
              "      <td>NaN</td>\n",
              "      <td>76.29</td>\n",
              "    </tr>\n",
              "    <tr>\n",
              "      <th>3</th>\n",
              "      <td>ABW</td>\n",
              "      <td>North America</td>\n",
              "      <td>Aruba</td>\n",
              "      <td>2020-03-25</td>\n",
              "      <td>17.0</td>\n",
              "      <td>5.0</td>\n",
              "      <td>0.0</td>\n",
              "      <td>0.0</td>\n",
              "      <td>159.227</td>\n",
              "      <td>46.831</td>\n",
              "      <td>0.0</td>\n",
              "      <td>0.0</td>\n",
              "      <td>NaN</td>\n",
              "      <td>NaN</td>\n",
              "      <td>NaN</td>\n",
              "      <td>NaN</td>\n",
              "      <td>NaN</td>\n",
              "      <td>NaN</td>\n",
              "      <td>NaN</td>\n",
              "      <td>NaN</td>\n",
              "      <td>NaN</td>\n",
              "      <td>44.44</td>\n",
              "      <td>106766.0</td>\n",
              "      <td>584.8</td>\n",
              "      <td>41.2</td>\n",
              "      <td>13.085</td>\n",
              "      <td>7.452</td>\n",
              "      <td>35973.781</td>\n",
              "      <td>NaN</td>\n",
              "      <td>NaN</td>\n",
              "      <td>11.62</td>\n",
              "      <td>NaN</td>\n",
              "      <td>NaN</td>\n",
              "      <td>NaN</td>\n",
              "      <td>NaN</td>\n",
              "      <td>76.29</td>\n",
              "    </tr>\n",
              "    <tr>\n",
              "      <th>4</th>\n",
              "      <td>ABW</td>\n",
              "      <td>North America</td>\n",
              "      <td>Aruba</td>\n",
              "      <td>2020-03-26</td>\n",
              "      <td>19.0</td>\n",
              "      <td>2.0</td>\n",
              "      <td>0.0</td>\n",
              "      <td>0.0</td>\n",
              "      <td>177.959</td>\n",
              "      <td>18.733</td>\n",
              "      <td>0.0</td>\n",
              "      <td>0.0</td>\n",
              "      <td>NaN</td>\n",
              "      <td>NaN</td>\n",
              "      <td>NaN</td>\n",
              "      <td>NaN</td>\n",
              "      <td>NaN</td>\n",
              "      <td>NaN</td>\n",
              "      <td>NaN</td>\n",
              "      <td>NaN</td>\n",
              "      <td>NaN</td>\n",
              "      <td>44.44</td>\n",
              "      <td>106766.0</td>\n",
              "      <td>584.8</td>\n",
              "      <td>41.2</td>\n",
              "      <td>13.085</td>\n",
              "      <td>7.452</td>\n",
              "      <td>35973.781</td>\n",
              "      <td>NaN</td>\n",
              "      <td>NaN</td>\n",
              "      <td>11.62</td>\n",
              "      <td>NaN</td>\n",
              "      <td>NaN</td>\n",
              "      <td>NaN</td>\n",
              "      <td>NaN</td>\n",
              "      <td>76.29</td>\n",
              "    </tr>\n",
              "  </tbody>\n",
              "</table>\n",
              "</div>"
            ],
            "text/plain": [
              "  iso_code      continent  ... hospital_beds_per_thousand life_expectancy\n",
              "0      ABW  North America  ...                        NaN           76.29\n",
              "1      ABW  North America  ...                        NaN           76.29\n",
              "2      ABW  North America  ...                        NaN           76.29\n",
              "3      ABW  North America  ...                        NaN           76.29\n",
              "4      ABW  North America  ...                        NaN           76.29\n",
              "\n",
              "[5 rows x 36 columns]"
            ]
          },
          "metadata": {
            "tags": []
          },
          "execution_count": 198
        }
      ]
    },
    {
      "cell_type": "code",
      "metadata": {
        "id": "aYBFYnKtiIkQ",
        "colab_type": "code",
        "colab": {
          "base_uri": "https://localhost:8080/",
          "height": 191
        },
        "outputId": "344c8472-cd91-4f3d-f3cb-a2ad002d1208"
      },
      "source": [
        "# Trying to isolate location based on currency in question\n",
        "us_death_rates = covid_dataset.loc[covid_dataset.location=='United States', ['location', 'date', 'total_cases', 'total_deaths']]\n",
        "us_death_rates.head()"
      ],
      "execution_count": 199,
      "outputs": [
        {
          "output_type": "execute_result",
          "data": {
            "text/html": [
              "<div>\n",
              "<style scoped>\n",
              "    .dataframe tbody tr th:only-of-type {\n",
              "        vertical-align: middle;\n",
              "    }\n",
              "\n",
              "    .dataframe tbody tr th {\n",
              "        vertical-align: top;\n",
              "    }\n",
              "\n",
              "    .dataframe thead th {\n",
              "        text-align: right;\n",
              "    }\n",
              "</style>\n",
              "<table border=\"1\" class=\"dataframe\">\n",
              "  <thead>\n",
              "    <tr style=\"text-align: right;\">\n",
              "      <th></th>\n",
              "      <th>location</th>\n",
              "      <th>date</th>\n",
              "      <th>total_cases</th>\n",
              "      <th>total_deaths</th>\n",
              "    </tr>\n",
              "  </thead>\n",
              "  <tbody>\n",
              "    <tr>\n",
              "      <th>32403</th>\n",
              "      <td>United States</td>\n",
              "      <td>2019-12-31</td>\n",
              "      <td>0.0</td>\n",
              "      <td>0.0</td>\n",
              "    </tr>\n",
              "    <tr>\n",
              "      <th>32404</th>\n",
              "      <td>United States</td>\n",
              "      <td>2020-01-01</td>\n",
              "      <td>0.0</td>\n",
              "      <td>0.0</td>\n",
              "    </tr>\n",
              "    <tr>\n",
              "      <th>32405</th>\n",
              "      <td>United States</td>\n",
              "      <td>2020-01-02</td>\n",
              "      <td>0.0</td>\n",
              "      <td>0.0</td>\n",
              "    </tr>\n",
              "    <tr>\n",
              "      <th>32406</th>\n",
              "      <td>United States</td>\n",
              "      <td>2020-01-03</td>\n",
              "      <td>0.0</td>\n",
              "      <td>0.0</td>\n",
              "    </tr>\n",
              "    <tr>\n",
              "      <th>32407</th>\n",
              "      <td>United States</td>\n",
              "      <td>2020-01-04</td>\n",
              "      <td>0.0</td>\n",
              "      <td>0.0</td>\n",
              "    </tr>\n",
              "  </tbody>\n",
              "</table>\n",
              "</div>"
            ],
            "text/plain": [
              "            location        date  total_cases  total_deaths\n",
              "32403  United States  2019-12-31          0.0           0.0\n",
              "32404  United States  2020-01-01          0.0           0.0\n",
              "32405  United States  2020-01-02          0.0           0.0\n",
              "32406  United States  2020-01-03          0.0           0.0\n",
              "32407  United States  2020-01-04          0.0           0.0"
            ]
          },
          "metadata": {
            "tags": []
          },
          "execution_count": 199
        }
      ]
    },
    {
      "cell_type": "code",
      "metadata": {
        "id": "kIDXEXFDf4N5",
        "colab_type": "code",
        "colab": {}
      },
      "source": [
        "# Import forex\n",
        "forex_dataset_data= pd.read_csv('investing_with_doubles.csv', na_values = \"?\", comment='\\t', skipinitialspace=True)\n",
        "forex_dataset = forex_dataset_data.copy()\n",
        "# forex_dataset = forex_dataset_data.dropna()"
      ],
      "execution_count": 200,
      "outputs": []
    },
    {
      "cell_type": "code",
      "metadata": {
        "id": "qPnqCkJRbboH",
        "colab_type": "code",
        "colab": {
          "base_uri": "https://localhost:8080/",
          "height": 66
        },
        "outputId": "460d373c-8269-49d6-fc2c-7766bab6a236"
      },
      "source": [
        "# Why are these different?\n",
        "print(us_death_rates.shape), print(forex_dataset.shape)"
      ],
      "execution_count": 201,
      "outputs": [
        {
          "output_type": "stream",
          "text": [
            "(218, 4)\n",
            "(213, 6)\n"
          ],
          "name": "stdout"
        },
        {
          "output_type": "execute_result",
          "data": {
            "text/plain": [
              "(None, None)"
            ]
          },
          "metadata": {
            "tags": []
          },
          "execution_count": 201
        }
      ]
    },
    {
      "cell_type": "markdown",
      "metadata": {
        "id": "C53hVpItH0az",
        "colab_type": "text"
      },
      "source": [
        "# Data Preprocessing / Data Cleaning & Collating\n",
        "*   Eliminating columns we dont want\n",
        "*   Merging tables based on 'Date' column\n",
        "*   Dates in question: Dec 31 2019 - Jul 31, 2020\n",
        "*   Once complete we pop the 'date' we merged on "
      ]
    },
    {
      "cell_type": "code",
      "metadata": {
        "id": "jIpYbWz2HxyG",
        "colab_type": "code",
        "colab": {
          "base_uri": "https://localhost:8080/",
          "height": 212
        },
        "outputId": "166c0575-2ea2-47e6-9af9-d4fc1be96293"
      },
      "source": [
        "# Filter dataset\n",
        "forex_dataset.pop('Open')\n",
        "forex_dataset.pop('High')\n",
        "forex_dataset.pop('Low')\n",
        "forex_dataset.pop('Change %')"
      ],
      "execution_count": 202,
      "outputs": [
        {
          "output_type": "execute_result",
          "data": {
            "text/plain": [
              "0      -0.04%\n",
              "1       0.76%\n",
              "2       0.49%\n",
              "3       0.38%\n",
              "4       0.72%\n",
              "        ...  \n",
              "208     0.62%\n",
              "209    -0.44%\n",
              "210    -0.82%\n",
              "211    -0.05%\n",
              "212     1.11%\n",
              "Name: Change %, Length: 213, dtype: object"
            ]
          },
          "metadata": {
            "tags": []
          },
          "execution_count": 202
        }
      ]
    },
    {
      "cell_type": "code",
      "metadata": {
        "id": "vrVetfeGgSm7",
        "colab_type": "code",
        "colab": {
          "base_uri": "https://localhost:8080/",
          "height": 191
        },
        "outputId": "7711a956-7816-47df-d760-9fb6e7f30120"
      },
      "source": [
        "# Isolate covid_date\n",
        "import time \n",
        "us_date = us_death_rates['date']\n",
        "new_us_dates = [time.strptime(x.replace(\"-\",\" \"), '%Y %m %d')for x in us_date]\n",
        "us_death_rates['date'] = new_us_dates\n",
        "us_death_rates.head()\n"
      ],
      "execution_count": 203,
      "outputs": [
        {
          "output_type": "execute_result",
          "data": {
            "text/html": [
              "<div>\n",
              "<style scoped>\n",
              "    .dataframe tbody tr th:only-of-type {\n",
              "        vertical-align: middle;\n",
              "    }\n",
              "\n",
              "    .dataframe tbody tr th {\n",
              "        vertical-align: top;\n",
              "    }\n",
              "\n",
              "    .dataframe thead th {\n",
              "        text-align: right;\n",
              "    }\n",
              "</style>\n",
              "<table border=\"1\" class=\"dataframe\">\n",
              "  <thead>\n",
              "    <tr style=\"text-align: right;\">\n",
              "      <th></th>\n",
              "      <th>location</th>\n",
              "      <th>date</th>\n",
              "      <th>total_cases</th>\n",
              "      <th>total_deaths</th>\n",
              "    </tr>\n",
              "  </thead>\n",
              "  <tbody>\n",
              "    <tr>\n",
              "      <th>32403</th>\n",
              "      <td>United States</td>\n",
              "      <td>(2019, 12, 31, 0, 0, 0, 1, 365, -1)</td>\n",
              "      <td>0.0</td>\n",
              "      <td>0.0</td>\n",
              "    </tr>\n",
              "    <tr>\n",
              "      <th>32404</th>\n",
              "      <td>United States</td>\n",
              "      <td>(2020, 1, 1, 0, 0, 0, 2, 1, -1)</td>\n",
              "      <td>0.0</td>\n",
              "      <td>0.0</td>\n",
              "    </tr>\n",
              "    <tr>\n",
              "      <th>32405</th>\n",
              "      <td>United States</td>\n",
              "      <td>(2020, 1, 2, 0, 0, 0, 3, 2, -1)</td>\n",
              "      <td>0.0</td>\n",
              "      <td>0.0</td>\n",
              "    </tr>\n",
              "    <tr>\n",
              "      <th>32406</th>\n",
              "      <td>United States</td>\n",
              "      <td>(2020, 1, 3, 0, 0, 0, 4, 3, -1)</td>\n",
              "      <td>0.0</td>\n",
              "      <td>0.0</td>\n",
              "    </tr>\n",
              "    <tr>\n",
              "      <th>32407</th>\n",
              "      <td>United States</td>\n",
              "      <td>(2020, 1, 4, 0, 0, 0, 5, 4, -1)</td>\n",
              "      <td>0.0</td>\n",
              "      <td>0.0</td>\n",
              "    </tr>\n",
              "  </tbody>\n",
              "</table>\n",
              "</div>"
            ],
            "text/plain": [
              "            location  ... total_deaths\n",
              "32403  United States  ...          0.0\n",
              "32404  United States  ...          0.0\n",
              "32405  United States  ...          0.0\n",
              "32406  United States  ...          0.0\n",
              "32407  United States  ...          0.0\n",
              "\n",
              "[5 rows x 4 columns]"
            ]
          },
          "metadata": {
            "tags": []
          },
          "execution_count": 203
        }
      ]
    },
    {
      "cell_type": "code",
      "metadata": {
        "id": "IGR0p0YWh9jH",
        "colab_type": "code",
        "colab": {
          "base_uri": "https://localhost:8080/",
          "height": 191
        },
        "outputId": "1ab4f08f-e398-4566-a257-9da461fd18c8"
      },
      "source": [
        "# Isolate forex_date\n",
        "import time \n",
        "forex_date = forex_dataset['Date']\n",
        "new_forex_dates = [time.strptime(x.replace(',', \"\"), '%b %d %Y')for x in forex_date]\n",
        "forex_dataset['Date'] = new_forex_dates\n",
        "forex_dataset.tail()\n"
      ],
      "execution_count": 204,
      "outputs": [
        {
          "output_type": "execute_result",
          "data": {
            "text/html": [
              "<div>\n",
              "<style scoped>\n",
              "    .dataframe tbody tr th:only-of-type {\n",
              "        vertical-align: middle;\n",
              "    }\n",
              "\n",
              "    .dataframe tbody tr th {\n",
              "        vertical-align: top;\n",
              "    }\n",
              "\n",
              "    .dataframe thead th {\n",
              "        text-align: right;\n",
              "    }\n",
              "</style>\n",
              "<table border=\"1\" class=\"dataframe\">\n",
              "  <thead>\n",
              "    <tr style=\"text-align: right;\">\n",
              "      <th></th>\n",
              "      <th>Date</th>\n",
              "      <th>Price</th>\n",
              "    </tr>\n",
              "  </thead>\n",
              "  <tbody>\n",
              "    <tr>\n",
              "      <th>208</th>\n",
              "      <td>(2020, 1, 4, 0, 0, 0, 5, 4, -1)</td>\n",
              "      <td>1.3169</td>\n",
              "    </tr>\n",
              "    <tr>\n",
              "      <th>209</th>\n",
              "      <td>(2020, 1, 3, 0, 0, 0, 4, 3, -1)</td>\n",
              "      <td>1.3088</td>\n",
              "    </tr>\n",
              "    <tr>\n",
              "      <th>210</th>\n",
              "      <td>(2020, 1, 2, 0, 0, 0, 3, 2, -1)</td>\n",
              "      <td>1.3146</td>\n",
              "    </tr>\n",
              "    <tr>\n",
              "      <th>211</th>\n",
              "      <td>(2020, 1, 1, 0, 0, 0, 2, 1, -1)</td>\n",
              "      <td>1.3255</td>\n",
              "    </tr>\n",
              "    <tr>\n",
              "      <th>212</th>\n",
              "      <td>(2019, 12, 31, 0, 0, 0, 1, 365, -1)</td>\n",
              "      <td>1.3261</td>\n",
              "    </tr>\n",
              "  </tbody>\n",
              "</table>\n",
              "</div>"
            ],
            "text/plain": [
              "                                    Date   Price\n",
              "208      (2020, 1, 4, 0, 0, 0, 5, 4, -1)  1.3169\n",
              "209      (2020, 1, 3, 0, 0, 0, 4, 3, -1)  1.3088\n",
              "210      (2020, 1, 2, 0, 0, 0, 3, 2, -1)  1.3146\n",
              "211      (2020, 1, 1, 0, 0, 0, 2, 1, -1)  1.3255\n",
              "212  (2019, 12, 31, 0, 0, 0, 1, 365, -1)  1.3261"
            ]
          },
          "metadata": {
            "tags": []
          },
          "execution_count": 204
        }
      ]
    },
    {
      "cell_type": "code",
      "metadata": {
        "id": "OiFVDAF0ngrx",
        "colab_type": "code",
        "colab": {
          "base_uri": "https://localhost:8080/",
          "height": 33
        },
        "outputId": "8879c270-a22f-4b03-ec84-d66bbd3755f1"
      },
      "source": [
        "# Merging dates from two tables\n",
        "dataset = pd.merge(left=forex_dataset, left_on='Date',\n",
        "         right=us_death_rates, right_on='date')\n",
        "dataset.tail()\n",
        "len(dataset)"
      ],
      "execution_count": 205,
      "outputs": [
        {
          "output_type": "execute_result",
          "data": {
            "text/plain": [
              "213"
            ]
          },
          "metadata": {
            "tags": []
          },
          "execution_count": 205
        }
      ]
    },
    {
      "cell_type": "code",
      "metadata": {
        "id": "a9A_G1s9ETvi",
        "colab_type": "code",
        "colab": {
          "base_uri": "https://localhost:8080/",
          "height": 212
        },
        "outputId": "3942e5b8-fd8c-47c3-e1d7-3a367f0dbac0"
      },
      "source": [
        "# We pop the 'date' from the covid_dataset because this column starts later than the forex column\n",
        "# We want to see the forex price before covid happened\n",
        "dataset.pop('date')"
      ],
      "execution_count": 206,
      "outputs": [
        {
          "output_type": "execute_result",
          "data": {
            "text/plain": [
              "0       (2020, 7, 31, 0, 0, 0, 4, 213, -1)\n",
              "1       (2020, 7, 30, 0, 0, 0, 3, 212, -1)\n",
              "2       (2020, 7, 29, 0, 0, 0, 2, 211, -1)\n",
              "3       (2020, 7, 28, 0, 0, 0, 1, 210, -1)\n",
              "4       (2020, 7, 27, 0, 0, 0, 0, 209, -1)\n",
              "                      ...                 \n",
              "208        (2020, 1, 4, 0, 0, 0, 5, 4, -1)\n",
              "209        (2020, 1, 3, 0, 0, 0, 4, 3, -1)\n",
              "210        (2020, 1, 2, 0, 0, 0, 3, 2, -1)\n",
              "211        (2020, 1, 1, 0, 0, 0, 2, 1, -1)\n",
              "212    (2019, 12, 31, 0, 0, 0, 1, 365, -1)\n",
              "Name: date, Length: 213, dtype: object"
            ]
          },
          "metadata": {
            "tags": []
          },
          "execution_count": 206
        }
      ]
    },
    {
      "cell_type": "code",
      "metadata": {
        "id": "Rz0-4V24EY65",
        "colab_type": "code",
        "colab": {
          "base_uri": "https://localhost:8080/",
          "height": 191
        },
        "outputId": "34482b46-bf4d-4f2c-8965-1b6d123a0ddd"
      },
      "source": [
        "dataset.head()"
      ],
      "execution_count": 207,
      "outputs": [
        {
          "output_type": "execute_result",
          "data": {
            "text/html": [
              "<div>\n",
              "<style scoped>\n",
              "    .dataframe tbody tr th:only-of-type {\n",
              "        vertical-align: middle;\n",
              "    }\n",
              "\n",
              "    .dataframe tbody tr th {\n",
              "        vertical-align: top;\n",
              "    }\n",
              "\n",
              "    .dataframe thead th {\n",
              "        text-align: right;\n",
              "    }\n",
              "</style>\n",
              "<table border=\"1\" class=\"dataframe\">\n",
              "  <thead>\n",
              "    <tr style=\"text-align: right;\">\n",
              "      <th></th>\n",
              "      <th>Date</th>\n",
              "      <th>Price</th>\n",
              "      <th>location</th>\n",
              "      <th>total_cases</th>\n",
              "      <th>total_deaths</th>\n",
              "    </tr>\n",
              "  </thead>\n",
              "  <tbody>\n",
              "    <tr>\n",
              "      <th>0</th>\n",
              "      <td>(2020, 7, 31, 0, 0, 0, 4, 213, -1)</td>\n",
              "      <td>1.3090</td>\n",
              "      <td>United States</td>\n",
              "      <td>4495014.0</td>\n",
              "      <td>152070.0</td>\n",
              "    </tr>\n",
              "    <tr>\n",
              "      <th>1</th>\n",
              "      <td>(2020, 7, 30, 0, 0, 0, 3, 212, -1)</td>\n",
              "      <td>1.3095</td>\n",
              "      <td>United States</td>\n",
              "      <td>4426982.0</td>\n",
              "      <td>150713.0</td>\n",
              "    </tr>\n",
              "    <tr>\n",
              "      <th>2</th>\n",
              "      <td>(2020, 7, 29, 0, 0, 0, 2, 211, -1)</td>\n",
              "      <td>1.2996</td>\n",
              "      <td>United States</td>\n",
              "      <td>4351997.0</td>\n",
              "      <td>149256.0</td>\n",
              "    </tr>\n",
              "    <tr>\n",
              "      <th>3</th>\n",
              "      <td>(2020, 7, 28, 0, 0, 0, 1, 210, -1)</td>\n",
              "      <td>1.2932</td>\n",
              "      <td>United States</td>\n",
              "      <td>4290263.0</td>\n",
              "      <td>148011.0</td>\n",
              "    </tr>\n",
              "    <tr>\n",
              "      <th>4</th>\n",
              "      <td>(2020, 7, 27, 0, 0, 0, 0, 209, -1)</td>\n",
              "      <td>1.2882</td>\n",
              "      <td>United States</td>\n",
              "      <td>4234020.0</td>\n",
              "      <td>146935.0</td>\n",
              "    </tr>\n",
              "  </tbody>\n",
              "</table>\n",
              "</div>"
            ],
            "text/plain": [
              "                                 Date   Price  ... total_cases  total_deaths\n",
              "0  (2020, 7, 31, 0, 0, 0, 4, 213, -1)  1.3090  ...   4495014.0      152070.0\n",
              "1  (2020, 7, 30, 0, 0, 0, 3, 212, -1)  1.3095  ...   4426982.0      150713.0\n",
              "2  (2020, 7, 29, 0, 0, 0, 2, 211, -1)  1.2996  ...   4351997.0      149256.0\n",
              "3  (2020, 7, 28, 0, 0, 0, 1, 210, -1)  1.2932  ...   4290263.0      148011.0\n",
              "4  (2020, 7, 27, 0, 0, 0, 0, 209, -1)  1.2882  ...   4234020.0      146935.0\n",
              "\n",
              "[5 rows x 5 columns]"
            ]
          },
          "metadata": {
            "tags": []
          },
          "execution_count": 207
        }
      ]
    },
    {
      "cell_type": "markdown",
      "metadata": {
        "id": "wvb8c8CBIOqM",
        "colab_type": "text"
      },
      "source": [
        "# Plotting Features before Normalisation"
      ]
    },
    {
      "cell_type": "markdown",
      "metadata": {
        "id": "sUHm8QrsbzcG",
        "colab_type": "text"
      },
      "source": [
        "## Organising date for plotting"
      ]
    },
    {
      "cell_type": "code",
      "metadata": {
        "id": "I9kHcA_4tAqL",
        "colab_type": "code",
        "colab": {
          "base_uri": "https://localhost:8080/",
          "height": 245
        },
        "outputId": "be97e9c7-6990-4e39-f1ee-9f23d9a3d949"
      },
      "source": [
        "# View what date looks like\n",
        "# Splitting timestamp and isolating the date\n",
        "date = dataset['Date']\n",
        "dateFormatting = pd.DataFrame({'new_date': pd.date_range('2019-12-31', '2020-07-31', periods=len(date))})\n",
        "print(dateFormatting)"
      ],
      "execution_count": 208,
      "outputs": [
        {
          "output_type": "stream",
          "text": [
            "                         new_date\n",
            "0   2019-12-31 00:00:00.000000000\n",
            "1   2020-01-01 00:06:47.547169811\n",
            "2   2020-01-02 00:13:35.094339622\n",
            "3   2020-01-03 00:20:22.641509434\n",
            "4   2020-01-04 00:27:10.188679245\n",
            "..                            ...\n",
            "208 2020-07-26 23:32:49.811320756\n",
            "209 2020-07-27 23:39:37.358490568\n",
            "210 2020-07-28 23:46:24.905660380\n",
            "211 2020-07-29 23:53:12.452830192\n",
            "212 2020-07-31 00:00:00.000000000\n",
            "\n",
            "[213 rows x 1 columns]\n"
          ],
          "name": "stdout"
        }
      ]
    },
    {
      "cell_type": "code",
      "metadata": {
        "id": "Tav3LALn4KN2",
        "colab_type": "code",
        "colab": {
          "base_uri": "https://localhost:8080/",
          "height": 53
        },
        "outputId": "99e62e15-b81e-4205-9367-54cc2d1fa9ad"
      },
      "source": [
        "# Convert date to list so that we can use the dates to plot on graph\n",
        "my_xticks = dateFormatting['new_date'].tolist()\n",
        "print(my_xticks)"
      ],
      "execution_count": 209,
      "outputs": [
        {
          "output_type": "stream",
          "text": [
            "[Timestamp('2019-12-31 00:00:00'), Timestamp('2020-01-01 00:06:47.547169811'), Timestamp('2020-01-02 00:13:35.094339622'), Timestamp('2020-01-03 00:20:22.641509434'), Timestamp('2020-01-04 00:27:10.188679245'), Timestamp('2020-01-05 00:33:57.735849056'), Timestamp('2020-01-06 00:40:45.283018868'), Timestamp('2020-01-07 00:47:32.830188679'), Timestamp('2020-01-08 00:54:20.377358490'), Timestamp('2020-01-09 01:01:07.924528302'), Timestamp('2020-01-10 01:07:55.471698113'), Timestamp('2020-01-11 01:14:43.018867924'), Timestamp('2020-01-12 01:21:30.566037736'), Timestamp('2020-01-13 01:28:18.113207547'), Timestamp('2020-01-14 01:35:05.660377358'), Timestamp('2020-01-15 01:41:53.207547170'), Timestamp('2020-01-16 01:48:40.754716981'), Timestamp('2020-01-17 01:55:28.301886792'), Timestamp('2020-01-18 02:02:15.849056604'), Timestamp('2020-01-19 02:09:03.396226415'), Timestamp('2020-01-20 02:15:50.943396226'), Timestamp('2020-01-21 02:22:38.490566038'), Timestamp('2020-01-22 02:29:26.037735849'), Timestamp('2020-01-23 02:36:13.584905660'), Timestamp('2020-01-24 02:43:01.132075472'), Timestamp('2020-01-25 02:49:48.679245283'), Timestamp('2020-01-26 02:56:36.226415094'), Timestamp('2020-01-27 03:03:23.773584906'), Timestamp('2020-01-28 03:10:11.320754717'), Timestamp('2020-01-29 03:16:58.867924528'), Timestamp('2020-01-30 03:23:46.415094340'), Timestamp('2020-01-31 03:30:33.962264151'), Timestamp('2020-02-01 03:37:21.509433962'), Timestamp('2020-02-02 03:44:09.056603774'), Timestamp('2020-02-03 03:50:56.603773585'), Timestamp('2020-02-04 03:57:44.150943396'), Timestamp('2020-02-05 04:04:31.698113208'), Timestamp('2020-02-06 04:11:19.245283019'), Timestamp('2020-02-07 04:18:06.792452830'), Timestamp('2020-02-08 04:24:54.339622642'), Timestamp('2020-02-09 04:31:41.886792453'), Timestamp('2020-02-10 04:38:29.433962264'), Timestamp('2020-02-11 04:45:16.981132076'), Timestamp('2020-02-12 04:52:04.528301887'), Timestamp('2020-02-13 04:58:52.075471698'), Timestamp('2020-02-14 05:05:39.622641510'), Timestamp('2020-02-15 05:12:27.169811321'), Timestamp('2020-02-16 05:19:14.716981132'), Timestamp('2020-02-17 05:26:02.264150944'), Timestamp('2020-02-18 05:32:49.811320755'), Timestamp('2020-02-19 05:39:37.358490566'), Timestamp('2020-02-20 05:46:24.905660377'), Timestamp('2020-02-21 05:53:12.452830189'), Timestamp('2020-02-22 06:00:00'), Timestamp('2020-02-23 06:06:47.547169812'), Timestamp('2020-02-24 06:13:35.094339623'), Timestamp('2020-02-25 06:20:22.641509434'), Timestamp('2020-02-26 06:27:10.188679246'), Timestamp('2020-02-27 06:33:57.735849057'), Timestamp('2020-02-28 06:40:45.283018868'), Timestamp('2020-02-29 06:47:32.830188680'), Timestamp('2020-03-01 06:54:20.377358491'), Timestamp('2020-03-02 07:01:07.924528302'), Timestamp('2020-03-03 07:07:55.471698114'), Timestamp('2020-03-04 07:14:43.018867925'), Timestamp('2020-03-05 07:21:30.566037736'), Timestamp('2020-03-06 07:28:18.113207548'), Timestamp('2020-03-07 07:35:05.660377359'), Timestamp('2020-03-08 07:41:53.207547170'), Timestamp('2020-03-09 07:48:40.754716982'), Timestamp('2020-03-10 07:55:28.301886793'), Timestamp('2020-03-11 08:02:15.849056604'), Timestamp('2020-03-12 08:09:03.396226416'), Timestamp('2020-03-13 08:15:50.943396227'), Timestamp('2020-03-14 08:22:38.490566038'), Timestamp('2020-03-15 08:29:26.037735850'), Timestamp('2020-03-16 08:36:13.584905661'), Timestamp('2020-03-17 08:43:01.132075472'), Timestamp('2020-03-18 08:49:48.679245284'), Timestamp('2020-03-19 08:56:36.226415095'), Timestamp('2020-03-20 09:03:23.773584906'), Timestamp('2020-03-21 09:10:11.320754718'), Timestamp('2020-03-22 09:16:58.867924529'), Timestamp('2020-03-23 09:23:46.415094340'), Timestamp('2020-03-24 09:30:33.962264152'), Timestamp('2020-03-25 09:37:21.509433963'), Timestamp('2020-03-26 09:44:09.056603774'), Timestamp('2020-03-27 09:50:56.603773586'), Timestamp('2020-03-28 09:57:44.150943397'), Timestamp('2020-03-29 10:04:31.698113208'), Timestamp('2020-03-30 10:11:19.245283020'), Timestamp('2020-03-31 10:18:06.792452831'), Timestamp('2020-04-01 10:24:54.339622642'), Timestamp('2020-04-02 10:31:41.886792454'), Timestamp('2020-04-03 10:38:29.433962265'), Timestamp('2020-04-04 10:45:16.981132076'), Timestamp('2020-04-05 10:52:04.528301888'), Timestamp('2020-04-06 10:58:52.075471699'), Timestamp('2020-04-07 11:05:39.622641510'), Timestamp('2020-04-08 11:12:27.169811321'), Timestamp('2020-04-09 11:19:14.716981133'), Timestamp('2020-04-10 11:26:02.264150944'), Timestamp('2020-04-11 11:32:49.811320755'), Timestamp('2020-04-12 11:39:37.358490567'), Timestamp('2020-04-13 11:46:24.905660378'), Timestamp('2020-04-14 11:53:12.452830190'), Timestamp('2020-04-15 12:00:00'), Timestamp('2020-04-16 12:06:47.547169812'), Timestamp('2020-04-17 12:13:35.094339624'), Timestamp('2020-04-18 12:20:22.641509434'), Timestamp('2020-04-19 12:27:10.188679246'), Timestamp('2020-04-20 12:33:57.735849058'), Timestamp('2020-04-21 12:40:45.283018868'), Timestamp('2020-04-22 12:47:32.830188680'), Timestamp('2020-04-23 12:54:20.377358492'), Timestamp('2020-04-24 13:01:07.924528302'), Timestamp('2020-04-25 13:07:55.471698114'), Timestamp('2020-04-26 13:14:43.018867926'), Timestamp('2020-04-27 13:21:30.566037736'), Timestamp('2020-04-28 13:28:18.113207548'), Timestamp('2020-04-29 13:35:05.660377360'), Timestamp('2020-04-30 13:41:53.207547170'), Timestamp('2020-05-01 13:48:40.754716982'), Timestamp('2020-05-02 13:55:28.301886794'), Timestamp('2020-05-03 14:02:15.849056604'), Timestamp('2020-05-04 14:09:03.396226416'), Timestamp('2020-05-05 14:15:50.943396228'), Timestamp('2020-05-06 14:22:38.490566038'), Timestamp('2020-05-07 14:29:26.037735850'), Timestamp('2020-05-08 14:36:13.584905662'), Timestamp('2020-05-09 14:43:01.132075472'), Timestamp('2020-05-10 14:49:48.679245284'), Timestamp('2020-05-11 14:56:36.226415096'), Timestamp('2020-05-12 15:03:23.773584906'), Timestamp('2020-05-13 15:10:11.320754718'), Timestamp('2020-05-14 15:16:58.867924530'), Timestamp('2020-05-15 15:23:46.415094340'), Timestamp('2020-05-16 15:30:33.962264152'), Timestamp('2020-05-17 15:37:21.509433964'), Timestamp('2020-05-18 15:44:09.056603774'), Timestamp('2020-05-19 15:50:56.603773586'), Timestamp('2020-05-20 15:57:44.150943398'), Timestamp('2020-05-21 16:04:31.698113208'), Timestamp('2020-05-22 16:11:19.245283020'), Timestamp('2020-05-23 16:18:06.792452832'), Timestamp('2020-05-24 16:24:54.339622642'), Timestamp('2020-05-25 16:31:41.886792454'), Timestamp('2020-05-26 16:38:29.433962266'), Timestamp('2020-05-27 16:45:16.981132076'), Timestamp('2020-05-28 16:52:04.528301888'), Timestamp('2020-05-29 16:58:52.075471700'), Timestamp('2020-05-30 17:05:39.622641510'), Timestamp('2020-05-31 17:12:27.169811322'), Timestamp('2020-06-01 17:19:14.716981134'), Timestamp('2020-06-02 17:26:02.264150944'), Timestamp('2020-06-03 17:32:49.811320756'), Timestamp('2020-06-04 17:39:37.358490568'), Timestamp('2020-06-05 17:46:24.905660378'), Timestamp('2020-06-06 17:53:12.452830190'), Timestamp('2020-06-07 18:00:00.000000002'), Timestamp('2020-06-08 18:06:47.547169812'), Timestamp('2020-06-09 18:13:35.094339624'), Timestamp('2020-06-10 18:20:22.641509436'), Timestamp('2020-06-11 18:27:10.188679246'), Timestamp('2020-06-12 18:33:57.735849058'), Timestamp('2020-06-13 18:40:45.283018870'), Timestamp('2020-06-14 18:47:32.830188680'), Timestamp('2020-06-15 18:54:20.377358492'), Timestamp('2020-06-16 19:01:07.924528304'), Timestamp('2020-06-17 19:07:55.471698114'), Timestamp('2020-06-18 19:14:43.018867926'), Timestamp('2020-06-19 19:21:30.566037738'), Timestamp('2020-06-20 19:28:18.113207548'), Timestamp('2020-06-21 19:35:05.660377360'), Timestamp('2020-06-22 19:41:53.207547172'), Timestamp('2020-06-23 19:48:40.754716982'), Timestamp('2020-06-24 19:55:28.301886794'), Timestamp('2020-06-25 20:02:15.849056606'), Timestamp('2020-06-26 20:09:03.396226416'), Timestamp('2020-06-27 20:15:50.943396228'), Timestamp('2020-06-28 20:22:38.490566040'), Timestamp('2020-06-29 20:29:26.037735850'), Timestamp('2020-06-30 20:36:13.584905662'), Timestamp('2020-07-01 20:43:01.132075474'), Timestamp('2020-07-02 20:49:48.679245284'), Timestamp('2020-07-03 20:56:36.226415096'), Timestamp('2020-07-04 21:03:23.773584908'), Timestamp('2020-07-05 21:10:11.320754718'), Timestamp('2020-07-06 21:16:58.867924530'), Timestamp('2020-07-07 21:23:46.415094342'), Timestamp('2020-07-08 21:30:33.962264152'), Timestamp('2020-07-09 21:37:21.509433964'), Timestamp('2020-07-10 21:44:09.056603776'), Timestamp('2020-07-11 21:50:56.603773586'), Timestamp('2020-07-12 21:57:44.150943398'), Timestamp('2020-07-13 22:04:31.698113208'), Timestamp('2020-07-14 22:11:19.245283020'), Timestamp('2020-07-15 22:18:06.792452832'), Timestamp('2020-07-16 22:24:54.339622642'), Timestamp('2020-07-17 22:31:41.886792454'), Timestamp('2020-07-18 22:38:29.433962266'), Timestamp('2020-07-19 22:45:16.981132076'), Timestamp('2020-07-20 22:52:04.528301888'), Timestamp('2020-07-21 22:58:52.075471700'), Timestamp('2020-07-22 23:05:39.622641510'), Timestamp('2020-07-23 23:12:27.169811322'), Timestamp('2020-07-24 23:19:14.716981134'), Timestamp('2020-07-25 23:26:02.264150944'), Timestamp('2020-07-26 23:32:49.811320756'), Timestamp('2020-07-27 23:39:37.358490568'), Timestamp('2020-07-28 23:46:24.905660380'), Timestamp('2020-07-29 23:53:12.452830192'), Timestamp('2020-07-31 00:00:00')]\n"
          ],
          "name": "stdout"
        }
      ]
    },
    {
      "cell_type": "markdown",
      "metadata": {
        "id": "jSj8rJl-b-N4",
        "colab_type": "text"
      },
      "source": [
        "## Plotting Forex Spot Price"
      ]
    },
    {
      "cell_type": "code",
      "metadata": {
        "id": "eDGMN3GG6wOL",
        "colab_type": "code",
        "colab": {
          "base_uri": "https://localhost:8080/",
          "height": 397
        },
        "outputId": "c960c8cf-ef44-4693-b523-47c62eb45798"
      },
      "source": [
        "# Plotted prices and dates\n",
        "# Notice how the dates start and end\n",
        "\n",
        "rcParams['figure.figsize'] = 15,6\n",
        "dates = np.array(dateFormatting['new_date'])\n",
        "price = np.array(dataset['Price'])\n",
        "plt.plot_date(dates,price, linestyle ='solid')\n",
        "plt.gcf().autofmt_xdate()\n",
        "date_format = mpl_dates.DateFormatter('%b,%d,%Y')\n",
        "plt.title('Time Series Price of USD compare to GBP')\n",
        "plt.xlabel('Date')\n",
        "plt.ylabel('Price')\n",
        "plt.gca().xaxis.set_major_formatter(date_format)"
      ],
      "execution_count": 210,
      "outputs": [
        {
          "output_type": "display_data",
          "data": {
            "image/png": "[encoded data removed]",
            "text/plain": [
              "<Figure size 1080x432 with 1 Axes>"
            ]
          },
          "metadata": {
            "tags": []
          }
        }
      ]
    },
    {
      "cell_type": "markdown",
      "metadata": {
        "id": "eLq3ETL8cKut",
        "colab_type": "text"
      },
      "source": [
        "## Plotting Accumulative Covid Deaths"
      ]
    },
    {
      "cell_type": "code",
      "metadata": {
        "id": "T30FJ5ONMRsa",
        "colab_type": "code",
        "colab": {}
      },
      "source": [
        "# Adds the accumulative deaths every day of a country\n",
        "# Problem – This needs to be sorted from the end since the way out data is set up - can this be made more efficient?\n",
        "total_us_deaths = dataset['total_deaths']\n",
        "list_arr = np.array(total_us_deaths)\n",
        "reversed_arr = list_arr[::-1]\n",
        "newDayDeaths = 0\n",
        "dayDeaths = []\n",
        "for currentday in reversed_arr:\n",
        "   newDayDeaths = currentday + newDayDeaths\n",
        "   dayDeaths.append(newDayDeaths)\n"
      ],
      "execution_count": 211,
      "outputs": []
    },
    {
      "cell_type": "code",
      "metadata": {
        "id": "oivvoebSMpRV",
        "colab_type": "code",
        "colab": {
          "base_uri": "https://localhost:8080/",
          "height": 397
        },
        "outputId": "2838d2f0-78b5-4fe0-ff1a-c1ab2c7f91bb"
      },
      "source": [
        "# Plots the accumulative daily death rates of a country\n",
        "dates = np.array(dateFormatting['new_date'])\n",
        "us_deaths = np.array(dayDeaths)\n",
        "plt.plot_date(dates, us_deaths, linestyle ='solid')\n",
        "plt.gcf().autofmt_xdate()\n",
        "date_format = mpl_dates.DateFormatter('%b,%d,%Y')\n",
        "plt.title('Time Series of Total Deaths of US')\n",
        "plt.xlabel('Date')\n",
        "plt.ylabel('Total Deaths')\n",
        "plt.gca().xaxis.set_major_formatter(date_format)\n",
        "\n"
      ],
      "execution_count": 212,
      "outputs": [
        {
          "output_type": "display_data",
          "data": {
            "image/png": "[encoded data removed]",
            "text/plain": [
              "<Figure size 1080x432 with 1 Axes>"
            ]
          },
          "metadata": {
            "tags": []
          }
        }
      ]
    },
    {
      "cell_type": "markdown",
      "metadata": {
        "id": "oVbZeRPucT7P",
        "colab_type": "text"
      },
      "source": [
        "## Plotting Accumulative Positive Cases"
      ]
    },
    {
      "cell_type": "code",
      "metadata": {
        "id": "QyFwYb-WyPHq",
        "colab_type": "code",
        "colab": {}
      },
      "source": [
        "# Adds accumulative positive cases everyday\n",
        "total_us_cases = dataset['total_cases']\n",
        "list_arr = np.array(total_us_cases)\n",
        "reversed_arr = list_arr[::-1]\n",
        "newDayCases = 0\n",
        "dayCases = []\n",
        "for currentday in reversed_arr:\n",
        "   newDayCases = currentday + newDayCases\n",
        "   dayCases.append(newDayCases)"
      ],
      "execution_count": 213,
      "outputs": []
    },
    {
      "cell_type": "code",
      "metadata": {
        "id": "niRyurkWykGi",
        "colab_type": "code",
        "colab": {
          "base_uri": "https://localhost:8080/",
          "height": 397
        },
        "outputId": "f753101e-92c8-4754-9160-51e929022717"
      },
      "source": [
        "# Plots the accumulative daily death rates of a country\n",
        "dates = np.array(dateFormatting['new_date'])\n",
        "us_cases = np.array(dayCases)\n",
        "plt.plot_date(dates, us_cases, linestyle ='solid')\n",
        "plt.gcf().autofmt_xdate()\n",
        "date_format = mpl_dates.DateFormatter('%b,%d,%Y')\n",
        "plt.title('Time Series of Total Deaths of US')\n",
        "plt.xlabel('Date')\n",
        "plt.ylabel('Total Deaths')\n",
        "plt.gca().xaxis.set_major_formatter(date_format)"
      ],
      "execution_count": 214,
      "outputs": [
        {
          "output_type": "display_data",
          "data": {
            "image/png": "[encoded data removed]",
            "text/plain": [
              "<Figure size 1080x432 with 1 Axes>"
            ]
          },
          "metadata": {
            "tags": []
          }
        }
      ]
    },
    {
      "cell_type": "markdown",
      "metadata": {
        "id": "SWTJypnsv5R3",
        "colab_type": "text"
      },
      "source": [
        ""
      ]
    },
    {
      "cell_type": "markdown",
      "metadata": {
        "id": "kkWFQ8HeIerS",
        "colab_type": "text"
      },
      "source": [
        "# Plotting Feature after Normalisation"
      ]
    },
    {
      "cell_type": "code",
      "metadata": {
        "id": "v6NykB3TSJxe",
        "colab_type": "code",
        "colab": {}
      },
      "source": [
        "price_frame = pd.DataFrame(np.concatenate([price]), columns= [\"Price\"])\n",
        "death_frame = pd.DataFrame(np.concatenate([dayDeaths]), columns= [\"Total_Deaths_US\"])\n",
        "cases_frame = pd.DataFrame(np.concatenate([dayCases]), columns= [\"Total_Cases_US\"])\n",
        "# price_frame.append(death_frame)"
      ],
      "execution_count": 215,
      "outputs": []
    },
    {
      "cell_type": "code",
      "metadata": {
        "id": "GUr5EmIHITzq",
        "colab_type": "code",
        "colab": {}
      },
      "source": [
        "from sklearn.preprocessing import MinMaxScaler\n",
        "scaler = MinMaxScaler(feature_range=(0,1))\n",
        "normalisation_us_deaths = scaler.fit_transform(death_frame).reshape(-1,1)\n",
        "normalisation_price = scaler.fit_transform(price_frame).reshape(-1,1)\n",
        "normalisation_us_cases = scaler.fit_transform(cases_frame).reshape(-1,1)\n",
        "# 8 decimal: readable formate:\n",
        "# val = [print(\"{:.8f}\".format(float(x)))for x in normalisation_us_deaths]"
      ],
      "execution_count": 216,
      "outputs": []
    },
    {
      "cell_type": "code",
      "metadata": {
        "id": "jG6Frxvpw_YL",
        "colab_type": "code",
        "colab": {
          "base_uri": "https://localhost:8080/",
          "height": 402
        },
        "outputId": "5d1e3202-cb3e-4974-a3e0-142a1eb05294"
      },
      "source": [
        "plt.plot(normalisation_us_deaths,label=\"USA Covid Death Rates\")\n",
        "plt.plot(normalisation_price, label=\"Price of Dollar\")\n",
        "plt.plot(normalisation_us_cases, label=\"USA Positive Cases\")\n",
        "\n",
        "# dates\n",
        "# dates = np.array(dateFormatting['new_date'])\n",
        "# plt.plot_date(dates, linestyle ='solid')\n",
        "# plt.gcf().autofmt_xdate()\n",
        "# date_format = mpl_dates.DateFormatter('%b,%d,%Y')\n",
        "# plt.gca().xaxis.set_major_formatter(date_format)\n",
        "\n",
        "plt.title('Time Series of Total Deaths of US & USD/GBP')\n",
        "plt.ylabel('Normalisation between 0 and 1')\n",
        "plt.xlabel('Date')\n",
        "plt.legend() \n",
        "plt.show()\n"
      ],
      "execution_count": 217,
      "outputs": [
        {
          "output_type": "display_data",
          "data": {
            "image/png": "[encoded data removed]",
            "text/plain": [
              "<Figure size 1080x432 with 1 Axes>"
            ]
          },
          "metadata": {
            "tags": []
          }
        }
      ]
    },
    {
      "cell_type": "markdown",
      "metadata": {
        "id": "FrNnj6gGIkmf",
        "colab_type": "text"
      },
      "source": [
        "# Splitting Data into Train, Validation & Test\n"
      ]
    },
    {
      "cell_type": "code",
      "metadata": {
        "id": "yJTAF3KWyKwR",
        "colab_type": "code",
        "colab": {}
      },
      "source": [
        "# Creating normalised dataset\n",
        "# Positive Cases | Death Rates | Price of dollar\n",
        "new_dataset = np.hstack((normalisation_us_cases, normalisation_us_deaths, normalisation_price))"
      ],
      "execution_count": 218,
      "outputs": []
    },
    {
      "cell_type": "code",
      "metadata": {
        "id": "Sx35yrWb1MIz",
        "colab_type": "code",
        "colab": {
          "base_uri": "https://localhost:8080/",
          "height": 66
        },
        "outputId": "f3ef6a48-f98e-4ed4-9bf3-de4bb68cff18"
      },
      "source": [
        "# Test, Validation, Train \n",
        "# This should be ordered in respect to date – not cross validation or random seed\n",
        "# We are going to divide our data based on date because the next data is always dependent on the previous data\n",
        "# 65% of the total length of my datadrame\n",
        "# 35% validation/test size/ \n",
        "training_size = int(len(new_dataset)*0.80)\n",
        "test_size = (len(new_dataset)-training_size)//2 # // Rounds down\n",
        "train_data, valset_data, test_data = new_dataset[0:training_size], new_dataset[training_size:(training_size + test_size)],new_dataset[(training_size + test_size):]\n",
        "print(train_data.shape)\n",
        "print(valset_data.shape)\n",
        "print(test_data.shape)"
      ],
      "execution_count": 219,
      "outputs": [
        {
          "output_type": "stream",
          "text": [
            "(170, 3)\n",
            "(21, 3)\n",
            "(22, 3)\n"
          ],
          "name": "stdout"
        }
      ]
    },
    {
      "cell_type": "code",
      "metadata": {
        "id": "P1CkWzUfVwxO",
        "colab_type": "code",
        "colab": {
          "base_uri": "https://localhost:8080/",
          "height": 82
        },
        "outputId": "0ed93b09-92f2-403d-af42-c30faa3ae41b"
      },
      "source": [
        "# Looking at first 4 days i.e. index 4 does not count\n",
        "print(valset_data[:4])"
      ],
      "execution_count": 220,
      "outputs": [
        {
          "output_type": "stream",
          "text": [
            "[[0.42888805 0.50305516 0.82638106]\n",
            " [0.43824254 0.51356645 0.80496054]\n",
            " [0.44774091 0.52413131 0.80496054]\n",
            " [0.45734791 0.53471876 0.80496054]]\n"
          ],
          "name": "stdout"
        }
      ]
    },
    {
      "cell_type": "code",
      "metadata": {
        "id": "ldKERrxeA1sD",
        "colab_type": "code",
        "colab": {
          "base_uri": "https://localhost:8080/",
          "height": 50
        },
        "outputId": "9f05d5d8-69de-47b9-d55b-92cf1fab40c6"
      },
      "source": [
        "print(training_size, test_size)\n",
        "print(len(train_data), len(test_data))"
      ],
      "execution_count": 221,
      "outputs": [
        {
          "output_type": "stream",
          "text": [
            "170 21\n",
            "170 22\n"
          ],
          "name": "stdout"
        }
      ]
    },
    {
      "cell_type": "markdown",
      "metadata": {
        "id": "MYg8cy2X5opG",
        "colab_type": "text"
      },
      "source": [
        "# X_train, Y_train, X_test, Y_test"
      ]
    },
    {
      "cell_type": "code",
      "metadata": {
        "id": "7lcOjmoBARZm",
        "colab_type": "code",
        "colab": {}
      },
      "source": [
        "# Convert an array of values into a dataset matrix\n",
        "# time_step = how many previous days you have to consider before making a prediction. = 1 passing by ref\n",
        "def create_dataset(dataset, time_step=1):\n",
        "  dataX, dataY = [],[]\n",
        "  # len(dataset) = 154 - 7 = 147 -1 (guarentees 8th datapoint)\n",
        "  # for i(starting point of dataset), i in range 146\n",
        "  for i in range(len(dataset)-time_step-1):\n",
        "    a = dataset[i:(i+time_step)]  # from i: until i + 7\n",
        "    dataX.append(a) # then attach it to dataX\n",
        "    y = dataset[i + time_step][2]  # attach the feature index 2 which is forex of 3 data predictions to y\n",
        "    dataY.append(y)\n",
        "  return np.array(dataX), np.array(dataY)\n"
      ],
      "execution_count": 222,
      "outputs": []
    },
    {
      "cell_type": "code",
      "metadata": {
        "id": "Xjbnyit_VZur",
        "colab_type": "code",
        "colab": {}
      },
      "source": [
        "# Weekly_timestep means taking in 7 days of features at a time \n",
        "weekly_timestep = 7\n",
        "X_train, Y_train = create_dataset(train_data, weekly_timestep)\n",
        "X_val, Y_val = create_dataset(valset_data, weekly_timestep)\n",
        "X_test, Y_test = create_dataset(test_data, weekly_timestep)\n",
        "\n"
      ],
      "execution_count": 223,
      "outputs": []
    },
    {
      "cell_type": "code",
      "metadata": {
        "id": "Bii3I74VfqRM",
        "colab_type": "code",
        "colab": {
          "base_uri": "https://localhost:8080/",
          "height": 66
        },
        "outputId": "ff215650-f7e5-4ea9-fc00-d161ca5dd1c8"
      },
      "source": [
        "print(X_test.shape), print(Y_test.shape)\n",
        "# Finished preprocessing the data"
      ],
      "execution_count": 224,
      "outputs": [
        {
          "output_type": "stream",
          "text": [
            "(14, 7, 3)\n",
            "(14,)\n"
          ],
          "name": "stdout"
        },
        {
          "output_type": "execute_result",
          "data": {
            "text/plain": [
              "(None, None)"
            ]
          },
          "metadata": {
            "tags": []
          },
          "execution_count": 224
        }
      ]
    },
    {
      "cell_type": "markdown",
      "metadata": {
        "id": "rQxS8R3VI2bP",
        "colab_type": "text"
      },
      "source": [
        "# Stacked LSTM Model"
      ]
    },
    {
      "cell_type": "code",
      "metadata": {
        "id": "fuLjcvVwM7Sc",
        "colab_type": "code",
        "colab": {}
      },
      "source": [
        "# Create the stacked LSTM model\n",
        "\n",
        "def lstm_model(lr_rate, hidden_layer, optimizer_one):\n",
        "  # we want input_tensor to be a single data point\n",
        "  model = Sequential()\n",
        "  opt = None\n",
        "  if optimizer_one == 'adam':\n",
        "   opt = keras.optimizers.Adam(learning_rate=lr_rate)\n",
        "  elif optimizer_one == 'sgd':\n",
        "   opt = keras.optimizers.SGD(learning_rate=lr_rate)\n",
        "  else:\n",
        "   opt = keras.optimizers.Adamax(learning_rate=lr_rate)\n",
        "  model.add(InputLayer(input_shape=(7,3)))\n",
        "  # model.add(LSTM(hidden_layer,return_sequences=True))\n",
        "  model.add(LSTM(hidden_layer, return_sequences=True))\n",
        "  model.add(LSTM(hidden_layer))\n",
        "  model.add(Dense(1))\n",
        "  model.compile(loss = 'mean_squared_error', optimizer=opt)\n",
        "  return model\n",
        "\n",
        "  "
      ],
      "execution_count": 225,
      "outputs": []
    },
    {
      "cell_type": "markdown",
      "metadata": {
        "id": "tkkElpH-cy_h",
        "colab_type": "text"
      },
      "source": [
        "## Hyperparameter Tuning\n",
        "\n",
        "\n",
        "*   Optimizers:\n",
        "[Overview of different Optimizers for neural networks](https://medium.com/datadriveninvestor/overview-of-different-optimizers-for-neural-networks-e0ed119440c3#:~:text=Adagrad%20eliminates%20the%20need%20to,is%20no%20longer%20able%20learning.)\n",
        "*   [Conceptual Guide for HP Tuning](https://medium.com/@jackstalfort/hyperparameter-tuning-using-grid-search-and-random-search-f8750a464b35)\n",
        "*   [Consider this for Grid Search & Random Search](https://scikit-learn.org/stable/auto_examples/model_selection/plot_randomized_search.html)\n",
        "*   [And this](https://stackoverflow.com/questions/58137140/randomizedsearchcv-with-keras-lstm-regression)\n",
        "![Grid Search & Random Search](https://miro.medium.com/max/1200/1*ZTlQm_WRcrNqL-nLnx6GJA.png)\n",
        "\n"
      ]
    },
    {
      "cell_type": "markdown",
      "metadata": {
        "id": "VDbgWWCHLcdm",
        "colab_type": "text"
      },
      "source": [
        "## Grid Search\n",
        "\n",
        "*   We must choose candidates for good hidden layers and optimizers. Then plot a comparison.\n",
        "*   List of optimizers: \n",
        "*   optimizers = ['SGD', 'RMSprop','adam','adagrad', 'adadelta', 'adamax','nadam', 'ftrl']\n",
        "*   Callbacks: Restores best weights that is going to give u best model \n",
        "*   Consider changing batch size: slower the batch_size better training, because small dataset\n",
        "\n",
        "\n"
      ]
    },
    {
      "cell_type": "code",
      "metadata": {
        "id": "eA11PFS2lemX",
        "colab_type": "code",
        "colab": {
          "base_uri": "https://localhost:8080/",
          "height": 1000
        },
        "outputId": "d7de03ee-9450-4fa1-e08d-de947d73f86c"
      },
      "source": [
        "hidden_layer_list = [15,30]\n",
        "best_hidden_layer = 1\n",
        "optimizer_list = ['adam', 'adamax']\n",
        "best_optimizer = 'adam'\n",
        "learning_rate_list = [3e-3,3e-4]\n",
        "best_learning_rate = 3e-3\n",
        "least_loss = 1\n",
        "\n",
        "for each_hidden_layer in hidden_layer_list:\n",
        "  for each_optimizer in optimizer_list:\n",
        "    for each_learning_rate in learning_rate_list:\n",
        "      our_model = lstm_model(each_learning_rate, each_hidden_layer, each_optimizer)\n",
        "      our_model.fit(X_train, Y_train, \n",
        "                validation_data= \n",
        "                (X_val, Y_val)\n",
        "                , epochs=100,batch_size=10,verbose=1,\n",
        "                callbacks=[tf.keras.callbacks.EarlyStopping(patience=3, restore_best_weights=True)])\n",
        "      loss = our_model.evaluate(X_test, Y_test)\n",
        "      if loss < least_loss:\n",
        "          least_loss = loss\n",
        "          best_learning_rate = each_learning_rate\n",
        "          best_optimizer = each_optimizer\n",
        "          best_hidden_layer = each_hidden_layer\n",
        "  print(least_loss, best_learning_rate, best_optimizer, best_hidden_layer)"
      ],
      "execution_count": 226,
      "outputs": [
        {
          "output_type": "stream",
          "text": [
            "Epoch 1/100\n",
            "17/17 [==============================] - 1s 51ms/step - loss: 0.1147 - val_loss: 0.0389\n",
            "Epoch 2/100\n",
            "17/17 [==============================] - 0s 8ms/step - loss: 0.0200 - val_loss: 0.0082\n",
            "Epoch 3/100\n",
            "17/17 [==============================] - 0s 8ms/step - loss: 0.0139 - val_loss: 9.6683e-04\n",
            "Epoch 4/100\n",
            "17/17 [==============================] - 0s 8ms/step - loss: 0.0137 - val_loss: 0.0036\n",
            "Epoch 5/100\n",
            "17/17 [==============================] - 0s 9ms/step - loss: 0.0138 - val_loss: 0.0017\n",
            "Epoch 6/100\n",
            "17/17 [==============================] - 0s 8ms/step - loss: 0.0124 - val_loss: 0.0023\n",
            "1/1 [==============================] - 0s 1ms/step - loss: 0.0011\n",
            "Epoch 1/100\n",
            "17/17 [==============================] - 1s 47ms/step - loss: 0.3109 - val_loss: 0.6482\n",
            "Epoch 2/100\n",
            "17/17 [==============================] - 0s 7ms/step - loss: 0.2360 - val_loss: 0.5143\n",
            "Epoch 3/100\n",
            "17/17 [==============================] - 0s 7ms/step - loss: 0.1686 - val_loss: 0.3798\n",
            "Epoch 4/100\n",
            "17/17 [==============================] - 0s 8ms/step - loss: 0.1072 - val_loss: 0.2483\n",
            "Epoch 5/100\n",
            "17/17 [==============================] - 0s 7ms/step - loss: 0.0562 - val_loss: 0.1338\n",
            "Epoch 6/100\n",
            "17/17 [==============================] - 0s 8ms/step - loss: 0.0257 - val_loss: 0.0590\n",
            "Epoch 7/100\n",
            "17/17 [==============================] - 0s 9ms/step - loss: 0.0171 - val_loss: 0.0331\n",
            "Epoch 8/100\n",
            "17/17 [==============================] - 0s 9ms/step - loss: 0.0166 - val_loss: 0.0291\n",
            "Epoch 9/100\n",
            "17/17 [==============================] - 0s 9ms/step - loss: 0.0163 - val_loss: 0.0260\n",
            "Epoch 10/100\n",
            "17/17 [==============================] - 0s 8ms/step - loss: 0.0160 - val_loss: 0.0240\n",
            "Epoch 11/100\n",
            "17/17 [==============================] - 0s 8ms/step - loss: 0.0157 - val_loss: 0.0206\n",
            "Epoch 12/100\n",
            "17/17 [==============================] - 0s 10ms/step - loss: 0.0155 - val_loss: 0.0174\n",
            "Epoch 13/100\n",
            "17/17 [==============================] - 0s 9ms/step - loss: 0.0152 - val_loss: 0.0170\n",
            "Epoch 14/100\n",
            "17/17 [==============================] - 0s 8ms/step - loss: 0.0149 - val_loss: 0.0162\n",
            "Epoch 15/100\n",
            "17/17 [==============================] - 0s 9ms/step - loss: 0.0148 - val_loss: 0.0137\n",
            "Epoch 16/100\n",
            "17/17 [==============================] - 0s 9ms/step - loss: 0.0145 - val_loss: 0.0107\n",
            "Epoch 17/100\n",
            "17/17 [==============================] - 0s 8ms/step - loss: 0.0143 - val_loss: 0.0085\n",
            "Epoch 18/100\n",
            "17/17 [==============================] - 0s 8ms/step - loss: 0.0141 - val_loss: 0.0071\n",
            "Epoch 19/100\n",
            "17/17 [==============================] - 0s 8ms/step - loss: 0.0140 - val_loss: 0.0052\n",
            "Epoch 20/100\n",
            "17/17 [==============================] - 0s 8ms/step - loss: 0.0138 - val_loss: 0.0050\n",
            "Epoch 21/100\n",
            "17/17 [==============================] - 0s 8ms/step - loss: 0.0136 - val_loss: 0.0036\n",
            "Epoch 22/100\n",
            "17/17 [==============================] - 0s 7ms/step - loss: 0.0135 - val_loss: 0.0037\n",
            "Epoch 23/100\n",
            "17/17 [==============================] - 0s 8ms/step - loss: 0.0133 - val_loss: 0.0020\n",
            "Epoch 24/100\n",
            "17/17 [==============================] - 0s 7ms/step - loss: 0.0133 - val_loss: 0.0018\n",
            "Epoch 25/100\n",
            "17/17 [==============================] - 0s 7ms/step - loss: 0.0131 - val_loss: 0.0014\n",
            "Epoch 26/100\n",
            "17/17 [==============================] - 0s 7ms/step - loss: 0.0131 - val_loss: 0.0020\n",
            "Epoch 27/100\n",
            "17/17 [==============================] - 0s 7ms/step - loss: 0.0130 - val_loss: 0.0012\n",
            "Epoch 28/100\n",
            "17/17 [==============================] - 0s 7ms/step - loss: 0.0128 - val_loss: 0.0012\n",
            "Epoch 29/100\n",
            "17/17 [==============================] - 0s 8ms/step - loss: 0.0128 - val_loss: 0.0013\n",
            "Epoch 30/100\n",
            "17/17 [==============================] - 0s 8ms/step - loss: 0.0127 - val_loss: 0.0012\n",
            "1/1 [==============================] - 0s 1ms/step - loss: 0.0041\n",
            "Epoch 1/100\n",
            "17/17 [==============================] - 1s 50ms/step - loss: 0.1761 - val_loss: 0.0406\n",
            "Epoch 2/100\n",
            "17/17 [==============================] - 0s 8ms/step - loss: 0.0234 - val_loss: 0.0196\n",
            "Epoch 3/100\n",
            "17/17 [==============================] - 0s 8ms/step - loss: 0.0172 - val_loss: 0.0162\n",
            "Epoch 4/100\n",
            "17/17 [==============================] - 0s 8ms/step - loss: 0.0154 - val_loss: 0.0046\n",
            "Epoch 5/100\n",
            "17/17 [==============================] - 0s 8ms/step - loss: 0.0147 - val_loss: 0.0025\n",
            "Epoch 6/100\n",
            "17/17 [==============================] - 0s 8ms/step - loss: 0.0139 - val_loss: 0.0010\n",
            "Epoch 7/100\n",
            "17/17 [==============================] - 0s 8ms/step - loss: 0.0136 - val_loss: 0.0011\n",
            "Epoch 8/100\n",
            "17/17 [==============================] - 0s 8ms/step - loss: 0.0132 - val_loss: 0.0033\n",
            "Epoch 9/100\n",
            "17/17 [==============================] - 0s 9ms/step - loss: 0.0133 - val_loss: 0.0032\n",
            "1/1 [==============================] - 0s 5ms/step - loss: 0.0028\n",
            "Epoch 1/100\n",
            "17/17 [==============================] - 2s 98ms/step - loss: 0.3110 - val_loss: 0.6910\n",
            "Epoch 2/100\n",
            "17/17 [==============================] - 0s 7ms/step - loss: 0.2563 - val_loss: 0.5916\n",
            "Epoch 3/100\n",
            "17/17 [==============================] - 0s 6ms/step - loss: 0.2085 - val_loss: 0.4984\n",
            "Epoch 4/100\n",
            "17/17 [==============================] - 0s 7ms/step - loss: 0.1644 - val_loss: 0.4051\n",
            "Epoch 5/100\n",
            "17/17 [==============================] - 0s 7ms/step - loss: 0.1233 - val_loss: 0.3170\n",
            "Epoch 6/100\n",
            "17/17 [==============================] - 0s 7ms/step - loss: 0.0877 - val_loss: 0.2356\n",
            "Epoch 7/100\n",
            "17/17 [==============================] - 0s 7ms/step - loss: 0.0588 - val_loss: 0.1668\n",
            "Epoch 8/100\n",
            "17/17 [==============================] - 0s 7ms/step - loss: 0.0377 - val_loss: 0.1115\n",
            "Epoch 9/100\n",
            "17/17 [==============================] - 0s 7ms/step - loss: 0.0248 - val_loss: 0.0719\n",
            "Epoch 10/100\n",
            "17/17 [==============================] - 0s 7ms/step - loss: 0.0195 - val_loss: 0.0484\n",
            "Epoch 11/100\n",
            "17/17 [==============================] - 0s 7ms/step - loss: 0.0175 - val_loss: 0.0369\n",
            "Epoch 12/100\n",
            "17/17 [==============================] - 0s 7ms/step - loss: 0.0173 - val_loss: 0.0317\n",
            "Epoch 13/100\n",
            "17/17 [==============================] - 0s 7ms/step - loss: 0.0172 - val_loss: 0.0308\n",
            "Epoch 14/100\n",
            "17/17 [==============================] - 0s 7ms/step - loss: 0.0170 - val_loss: 0.0312\n",
            "Epoch 15/100\n",
            "17/17 [==============================] - 0s 8ms/step - loss: 0.0169 - val_loss: 0.0309\n",
            "Epoch 16/100\n",
            "17/17 [==============================] - 0s 8ms/step - loss: 0.0168 - val_loss: 0.0296\n",
            "Epoch 17/100\n",
            "17/17 [==============================] - 0s 8ms/step - loss: 0.0167 - val_loss: 0.0279\n",
            "Epoch 18/100\n",
            "17/17 [==============================] - 0s 8ms/step - loss: 0.0166 - val_loss: 0.0261\n",
            "Epoch 19/100\n",
            "17/17 [==============================] - 0s 8ms/step - loss: 0.0165 - val_loss: 0.0240\n",
            "Epoch 20/100\n",
            "17/17 [==============================] - 0s 8ms/step - loss: 0.0163 - val_loss: 0.0234\n",
            "Epoch 21/100\n",
            "17/17 [==============================] - 0s 7ms/step - loss: 0.0162 - val_loss: 0.0220\n",
            "Epoch 22/100\n",
            "17/17 [==============================] - 0s 7ms/step - loss: 0.0162 - val_loss: 0.0224\n",
            "Epoch 23/100\n",
            "17/17 [==============================] - 0s 7ms/step - loss: 0.0160 - val_loss: 0.0205\n",
            "Epoch 24/100\n",
            "17/17 [==============================] - 0s 7ms/step - loss: 0.0159 - val_loss: 0.0189\n",
            "Epoch 25/100\n",
            "17/17 [==============================] - 0s 6ms/step - loss: 0.0158 - val_loss: 0.0180\n",
            "Epoch 26/100\n",
            "17/17 [==============================] - 0s 7ms/step - loss: 0.0157 - val_loss: 0.0192\n",
            "Epoch 27/100\n",
            "17/17 [==============================] - 0s 7ms/step - loss: 0.0156 - val_loss: 0.0164\n",
            "Epoch 28/100\n",
            "17/17 [==============================] - 0s 7ms/step - loss: 0.0155 - val_loss: 0.0154\n",
            "Epoch 29/100\n",
            "17/17 [==============================] - 0s 6ms/step - loss: 0.0154 - val_loss: 0.0136\n",
            "Epoch 30/100\n",
            "17/17 [==============================] - 0s 8ms/step - loss: 0.0153 - val_loss: 0.0145\n",
            "Epoch 31/100\n",
            "17/17 [==============================] - 0s 7ms/step - loss: 0.0152 - val_loss: 0.0127\n",
            "Epoch 32/100\n",
            "17/17 [==============================] - 0s 9ms/step - loss: 0.0151 - val_loss: 0.0130\n",
            "Epoch 33/100\n",
            "17/17 [==============================] - 0s 9ms/step - loss: 0.0150 - val_loss: 0.0117\n",
            "Epoch 34/100\n",
            "17/17 [==============================] - 0s 9ms/step - loss: 0.0149 - val_loss: 0.0110\n",
            "Epoch 35/100\n",
            "17/17 [==============================] - 0s 9ms/step - loss: 0.0148 - val_loss: 0.0095\n",
            "Epoch 36/100\n",
            "17/17 [==============================] - 0s 8ms/step - loss: 0.0148 - val_loss: 0.0089\n",
            "Epoch 37/100\n",
            "17/17 [==============================] - 0s 7ms/step - loss: 0.0147 - val_loss: 0.0078\n",
            "Epoch 38/100\n",
            "17/17 [==============================] - 0s 6ms/step - loss: 0.0147 - val_loss: 0.0085\n",
            "Epoch 39/100\n",
            "17/17 [==============================] - 0s 7ms/step - loss: 0.0145 - val_loss: 0.0065\n",
            "Epoch 40/100\n",
            "17/17 [==============================] - 0s 7ms/step - loss: 0.0144 - val_loss: 0.0065\n",
            "Epoch 41/100\n",
            "17/17 [==============================] - 0s 7ms/step - loss: 0.0144 - val_loss: 0.0055\n",
            "Epoch 42/100\n",
            "17/17 [==============================] - 0s 6ms/step - loss: 0.0143 - val_loss: 0.0051\n",
            "Epoch 43/100\n",
            "17/17 [==============================] - 0s 7ms/step - loss: 0.0142 - val_loss: 0.0045\n",
            "Epoch 44/100\n",
            "17/17 [==============================] - 0s 8ms/step - loss: 0.0141 - val_loss: 0.0036\n",
            "Epoch 45/100\n",
            "17/17 [==============================] - 0s 8ms/step - loss: 0.0141 - val_loss: 0.0035\n",
            "Epoch 46/100\n",
            "17/17 [==============================] - 0s 7ms/step - loss: 0.0140 - val_loss: 0.0029\n",
            "Epoch 47/100\n",
            "17/17 [==============================] - 0s 7ms/step - loss: 0.0139 - val_loss: 0.0029\n",
            "Epoch 48/100\n",
            "17/17 [==============================] - 0s 7ms/step - loss: 0.0139 - val_loss: 0.0022\n",
            "Epoch 49/100\n",
            "17/17 [==============================] - 0s 7ms/step - loss: 0.0138 - val_loss: 0.0026\n",
            "Epoch 50/100\n",
            "17/17 [==============================] - 0s 7ms/step - loss: 0.0138 - val_loss: 0.0025\n",
            "Epoch 51/100\n",
            "17/17 [==============================] - 0s 7ms/step - loss: 0.0137 - val_loss: 0.0021\n",
            "Epoch 52/100\n",
            "17/17 [==============================] - 0s 7ms/step - loss: 0.0137 - val_loss: 0.0018\n",
            "Epoch 53/100\n",
            "17/17 [==============================] - 0s 8ms/step - loss: 0.0136 - val_loss: 0.0016\n",
            "Epoch 54/100\n",
            "17/17 [==============================] - 0s 7ms/step - loss: 0.0136 - val_loss: 0.0015\n",
            "Epoch 55/100\n",
            "17/17 [==============================] - 0s 7ms/step - loss: 0.0135 - val_loss: 0.0015\n",
            "Epoch 56/100\n",
            "17/17 [==============================] - 0s 7ms/step - loss: 0.0135 - val_loss: 0.0015\n",
            "Epoch 57/100\n",
            "17/17 [==============================] - 0s 6ms/step - loss: 0.0134 - val_loss: 0.0013\n",
            "Epoch 58/100\n",
            "17/17 [==============================] - 0s 7ms/step - loss: 0.0134 - val_loss: 0.0013\n",
            "Epoch 59/100\n",
            "17/17 [==============================] - 0s 7ms/step - loss: 0.0133 - val_loss: 0.0012\n",
            "Epoch 60/100\n",
            "17/17 [==============================] - 0s 8ms/step - loss: 0.0133 - val_loss: 0.0012\n",
            "Epoch 61/100\n",
            "17/17 [==============================] - 0s 7ms/step - loss: 0.0133 - val_loss: 0.0012\n",
            "Epoch 62/100\n",
            "17/17 [==============================] - 0s 7ms/step - loss: 0.0132 - val_loss: 0.0012\n",
            "Epoch 63/100\n",
            "17/17 [==============================] - 0s 7ms/step - loss: 0.0132 - val_loss: 0.0012\n",
            "1/1 [==============================] - 0s 1ms/step - loss: 0.0033\n",
            "0.0010831347899511456 0.003 adam 15\n",
            "Epoch 1/100\n",
            "17/17 [==============================] - 1s 47ms/step - loss: 0.1105 - val_loss: 0.0612\n",
            "Epoch 2/100\n",
            "17/17 [==============================] - 0s 7ms/step - loss: 0.0203 - val_loss: 0.0015\n",
            "Epoch 3/100\n",
            "17/17 [==============================] - 0s 7ms/step - loss: 0.0166 - val_loss: 0.0019\n",
            "Epoch 4/100\n",
            "17/17 [==============================] - 0s 7ms/step - loss: 0.0128 - val_loss: 0.0104\n",
            "Epoch 5/100\n",
            "17/17 [==============================] - 0s 7ms/step - loss: 0.0128 - val_loss: 0.0139\n",
            "1/1 [==============================] - 0s 1ms/step - loss: 0.0028\n",
            "Epoch 1/100\n",
            "17/17 [==============================] - 1s 48ms/step - loss: 0.2471 - val_loss: 0.3318\n",
            "Epoch 2/100\n",
            "17/17 [==============================] - 0s 8ms/step - loss: 0.1114 - val_loss: 0.0678\n",
            "Epoch 3/100\n",
            "17/17 [==============================] - 0s 8ms/step - loss: 0.0265 - val_loss: 0.0107\n",
            "Epoch 4/100\n",
            "17/17 [==============================] - 0s 8ms/step - loss: 0.0139 - val_loss: 0.0289\n",
            "Epoch 5/100\n",
            "17/17 [==============================] - 0s 8ms/step - loss: 0.0134 - val_loss: 0.0093\n",
            "Epoch 6/100\n",
            "17/17 [==============================] - 0s 8ms/step - loss: 0.0126 - val_loss: 0.0098\n",
            "Epoch 7/100\n",
            "17/17 [==============================] - 0s 9ms/step - loss: 0.0126 - val_loss: 0.0077\n",
            "Epoch 8/100\n",
            "17/17 [==============================] - 0s 8ms/step - loss: 0.0125 - val_loss: 0.0092\n",
            "Epoch 9/100\n",
            "17/17 [==============================] - 0s 8ms/step - loss: 0.0125 - val_loss: 0.0116\n",
            "Epoch 10/100\n",
            "17/17 [==============================] - 0s 8ms/step - loss: 0.0125 - val_loss: 0.0054\n",
            "Epoch 11/100\n",
            "17/17 [==============================] - 0s 7ms/step - loss: 0.0124 - val_loss: 0.0080\n",
            "Epoch 12/100\n",
            "17/17 [==============================] - 0s 8ms/step - loss: 0.0125 - val_loss: 0.0083\n",
            "Epoch 13/100\n",
            "17/17 [==============================] - 0s 8ms/step - loss: 0.0123 - val_loss: 0.0052\n",
            "Epoch 14/100\n",
            "17/17 [==============================] - 0s 10ms/step - loss: 0.0124 - val_loss: 0.0052\n",
            "Epoch 15/100\n",
            "17/17 [==============================] - 0s 7ms/step - loss: 0.0123 - val_loss: 0.0061\n",
            "Epoch 16/100\n",
            "17/17 [==============================] - 0s 7ms/step - loss: 0.0123 - val_loss: 0.0064\n",
            "1/1 [==============================] - 0s 1ms/step - loss: 0.0157\n",
            "Epoch 1/100\n",
            "17/17 [==============================] - 1s 49ms/step - loss: 0.1078 - val_loss: 0.0013\n",
            "Epoch 2/100\n",
            "17/17 [==============================] - 0s 8ms/step - loss: 0.0191 - val_loss: 0.0133\n",
            "Epoch 3/100\n",
            "17/17 [==============================] - 0s 8ms/step - loss: 0.0134 - val_loss: 0.0017\n",
            "Epoch 4/100\n",
            "17/17 [==============================] - 0s 8ms/step - loss: 0.0132 - val_loss: 0.0013\n",
            "Epoch 5/100\n",
            "17/17 [==============================] - 0s 8ms/step - loss: 0.0127 - val_loss: 0.0041\n",
            "Epoch 6/100\n",
            "17/17 [==============================] - 0s 8ms/step - loss: 0.0125 - val_loss: 0.0065\n",
            "Epoch 7/100\n",
            "17/17 [==============================] - 0s 9ms/step - loss: 0.0125 - val_loss: 0.0026\n",
            "1/1 [==============================] - 0s 2ms/step - loss: 0.0041\n",
            "Epoch 1/100\n",
            "17/17 [==============================] - 1s 53ms/step - loss: 0.2707 - val_loss: 0.4600\n",
            "Epoch 2/100\n",
            "17/17 [==============================] - 0s 8ms/step - loss: 0.1854 - val_loss: 0.2986\n",
            "Epoch 3/100\n",
            "17/17 [==============================] - 0s 9ms/step - loss: 0.1180 - val_loss: 0.1648\n",
            "Epoch 4/100\n",
            "17/17 [==============================] - 0s 8ms/step - loss: 0.0646 - val_loss: 0.0632\n",
            "Epoch 5/100\n",
            "17/17 [==============================] - 0s 8ms/step - loss: 0.0292 - val_loss: 0.0128\n",
            "Epoch 6/100\n",
            "17/17 [==============================] - 0s 8ms/step - loss: 0.0155 - val_loss: 0.0013\n",
            "Epoch 7/100\n",
            "17/17 [==============================] - 0s 8ms/step - loss: 0.0134 - val_loss: 0.0015\n",
            "Epoch 8/100\n",
            "17/17 [==============================] - 0s 8ms/step - loss: 0.0134 - val_loss: 0.0015\n",
            "Epoch 9/100\n",
            "17/17 [==============================] - 0s 9ms/step - loss: 0.0133 - val_loss: 0.0018\n",
            "1/1 [==============================] - 0s 2ms/step - loss: 0.0016\n",
            "0.0010831347899511456 0.003 adam 15\n"
          ],
          "name": "stdout"
        }
      ]
    },
    {
      "cell_type": "markdown",
      "metadata": {
        "id": "ne1FGIRhCBx3",
        "colab_type": "text"
      },
      "source": [
        "# Best Model Prediction"
      ]
    },
    {
      "cell_type": "code",
      "metadata": {
        "id": "yBxAVM4I3NJ2",
        "colab_type": "code",
        "colab": {
          "base_uri": "https://localhost:8080/",
          "height": 1000
        },
        "outputId": "c4caab97-7577-42f4-9f25-2af440227ac7"
      },
      "source": [
        "best_param_model = lstm_model(best_learning_rate, best_hidden_layer, best_optimizer)\n",
        "best_param_model.fit(X_train, Y_train, epochs=160,batch_size=10,verbose=1)\n",
        "loss = best_param_model.evaluate(X_test, Y_test) # all results from dictionary\n"
      ],
      "execution_count": 227,
      "outputs": [
        {
          "output_type": "stream",
          "text": [
            "Epoch 1/160\n",
            "17/17 [==============================] - 0s 6ms/step - loss: 0.1199\n",
            "Epoch 2/160\n",
            "17/17 [==============================] - 0s 6ms/step - loss: 0.0200\n",
            "Epoch 3/160\n",
            "17/17 [==============================] - 0s 6ms/step - loss: 0.0135\n",
            "Epoch 4/160\n",
            "17/17 [==============================] - 0s 6ms/step - loss: 0.0132\n",
            "Epoch 5/160\n",
            "17/17 [==============================] - 0s 6ms/step - loss: 0.0134\n",
            "Epoch 6/160\n",
            "17/17 [==============================] - 0s 6ms/step - loss: 0.0122\n",
            "Epoch 7/160\n",
            "17/17 [==============================] - 0s 6ms/step - loss: 0.0119\n",
            "Epoch 8/160\n",
            "17/17 [==============================] - 0s 6ms/step - loss: 0.0116\n",
            "Epoch 9/160\n",
            "17/17 [==============================] - 0s 6ms/step - loss: 0.0118\n",
            "Epoch 10/160\n",
            "17/17 [==============================] - 0s 6ms/step - loss: 0.0112\n",
            "Epoch 11/160\n",
            "17/17 [==============================] - 0s 6ms/step - loss: 0.0119\n",
            "Epoch 12/160\n",
            "17/17 [==============================] - 0s 6ms/step - loss: 0.0115\n",
            "Epoch 13/160\n",
            "17/17 [==============================] - 0s 6ms/step - loss: 0.0107\n",
            "Epoch 14/160\n",
            "17/17 [==============================] - 0s 6ms/step - loss: 0.0104\n",
            "Epoch 15/160\n",
            "17/17 [==============================] - 0s 7ms/step - loss: 0.0100\n",
            "Epoch 16/160\n",
            "17/17 [==============================] - 0s 6ms/step - loss: 0.0098\n",
            "Epoch 17/160\n",
            "17/17 [==============================] - 0s 6ms/step - loss: 0.0102\n",
            "Epoch 18/160\n",
            "17/17 [==============================] - 0s 6ms/step - loss: 0.0094\n",
            "Epoch 19/160\n",
            "17/17 [==============================] - 0s 6ms/step - loss: 0.0089\n",
            "Epoch 20/160\n",
            "17/17 [==============================] - 0s 6ms/step - loss: 0.0084\n",
            "Epoch 21/160\n",
            "17/17 [==============================] - 0s 6ms/step - loss: 0.0082\n",
            "Epoch 22/160\n",
            "17/17 [==============================] - 0s 6ms/step - loss: 0.0071\n",
            "Epoch 23/160\n",
            "17/17 [==============================] - 0s 6ms/step - loss: 0.0070\n",
            "Epoch 24/160\n",
            "17/17 [==============================] - 0s 6ms/step - loss: 0.0072\n",
            "Epoch 25/160\n",
            "17/17 [==============================] - 0s 6ms/step - loss: 0.0057\n",
            "Epoch 26/160\n",
            "17/17 [==============================] - 0s 6ms/step - loss: 0.0084\n",
            "Epoch 27/160\n",
            "17/17 [==============================] - 0s 6ms/step - loss: 0.0085\n",
            "Epoch 28/160\n",
            "17/17 [==============================] - 0s 7ms/step - loss: 0.0065\n",
            "Epoch 29/160\n",
            "17/17 [==============================] - 0s 6ms/step - loss: 0.0057\n",
            "Epoch 30/160\n",
            "17/17 [==============================] - 0s 7ms/step - loss: 0.0048\n",
            "Epoch 31/160\n",
            "17/17 [==============================] - 0s 7ms/step - loss: 0.0047\n",
            "Epoch 32/160\n",
            "17/17 [==============================] - 0s 7ms/step - loss: 0.0063\n",
            "Epoch 33/160\n",
            "17/17 [==============================] - 0s 8ms/step - loss: 0.0048\n",
            "Epoch 34/160\n",
            "17/17 [==============================] - 0s 7ms/step - loss: 0.0039\n",
            "Epoch 35/160\n",
            "17/17 [==============================] - 0s 7ms/step - loss: 0.0037\n",
            "Epoch 36/160\n",
            "17/17 [==============================] - 0s 6ms/step - loss: 0.0035\n",
            "Epoch 37/160\n",
            "17/17 [==============================] - 0s 6ms/step - loss: 0.0035\n",
            "Epoch 38/160\n",
            "17/17 [==============================] - 0s 6ms/step - loss: 0.0037\n",
            "Epoch 39/160\n",
            "17/17 [==============================] - 0s 6ms/step - loss: 0.0033\n",
            "Epoch 40/160\n",
            "17/17 [==============================] - 0s 6ms/step - loss: 0.0039\n",
            "Epoch 41/160\n",
            "17/17 [==============================] - 0s 6ms/step - loss: 0.0032\n",
            "Epoch 42/160\n",
            "17/17 [==============================] - 0s 6ms/step - loss: 0.0033\n",
            "Epoch 43/160\n",
            "17/17 [==============================] - 0s 7ms/step - loss: 0.0037\n",
            "Epoch 44/160\n",
            "17/17 [==============================] - 0s 6ms/step - loss: 0.0033\n",
            "Epoch 45/160\n",
            "17/17 [==============================] - 0s 6ms/step - loss: 0.0030\n",
            "Epoch 46/160\n",
            "17/17 [==============================] - 0s 6ms/step - loss: 0.0032\n",
            "Epoch 47/160\n",
            "17/17 [==============================] - 0s 6ms/step - loss: 0.0031\n",
            "Epoch 48/160\n",
            "17/17 [==============================] - 0s 6ms/step - loss: 0.0029\n",
            "Epoch 49/160\n",
            "17/17 [==============================] - 0s 6ms/step - loss: 0.0031\n",
            "Epoch 50/160\n",
            "17/17 [==============================] - 0s 6ms/step - loss: 0.0027\n",
            "Epoch 51/160\n",
            "17/17 [==============================] - 0s 6ms/step - loss: 0.0027\n",
            "Epoch 52/160\n",
            "17/17 [==============================] - 0s 6ms/step - loss: 0.0030\n",
            "Epoch 53/160\n",
            "17/17 [==============================] - 0s 6ms/step - loss: 0.0026\n",
            "Epoch 54/160\n",
            "17/17 [==============================] - 0s 6ms/step - loss: 0.0027\n",
            "Epoch 55/160\n",
            "17/17 [==============================] - 0s 6ms/step - loss: 0.0031\n",
            "Epoch 56/160\n",
            "17/17 [==============================] - 0s 6ms/step - loss: 0.0028\n",
            "Epoch 57/160\n",
            "17/17 [==============================] - 0s 6ms/step - loss: 0.0025\n",
            "Epoch 58/160\n",
            "17/17 [==============================] - 0s 6ms/step - loss: 0.0032\n",
            "Epoch 59/160\n",
            "17/17 [==============================] - 0s 7ms/step - loss: 0.0031\n",
            "Epoch 60/160\n",
            "17/17 [==============================] - 0s 6ms/step - loss: 0.0034\n",
            "Epoch 61/160\n",
            "17/17 [==============================] - 0s 6ms/step - loss: 0.0028\n",
            "Epoch 62/160\n",
            "17/17 [==============================] - 0s 7ms/step - loss: 0.0025\n",
            "Epoch 63/160\n",
            "17/17 [==============================] - 0s 7ms/step - loss: 0.0027\n",
            "Epoch 64/160\n",
            "17/17 [==============================] - 0s 8ms/step - loss: 0.0030\n",
            "Epoch 65/160\n",
            "17/17 [==============================] - 0s 8ms/step - loss: 0.0023\n",
            "Epoch 66/160\n",
            "17/17 [==============================] - 0s 8ms/step - loss: 0.0023\n",
            "Epoch 67/160\n",
            "17/17 [==============================] - 0s 8ms/step - loss: 0.0023\n",
            "Epoch 68/160\n",
            "17/17 [==============================] - 0s 6ms/step - loss: 0.0023\n",
            "Epoch 69/160\n",
            "17/17 [==============================] - 0s 6ms/step - loss: 0.0024\n",
            "Epoch 70/160\n",
            "17/17 [==============================] - 0s 6ms/step - loss: 0.0022\n",
            "Epoch 71/160\n",
            "17/17 [==============================] - 0s 6ms/step - loss: 0.0023\n",
            "Epoch 72/160\n",
            "17/17 [==============================] - 0s 6ms/step - loss: 0.0022\n",
            "Epoch 73/160\n",
            "17/17 [==============================] - 0s 6ms/step - loss: 0.0021\n",
            "Epoch 74/160\n",
            "17/17 [==============================] - 0s 7ms/step - loss: 0.0022\n",
            "Epoch 75/160\n",
            "17/17 [==============================] - 0s 6ms/step - loss: 0.0026\n",
            "Epoch 76/160\n",
            "17/17 [==============================] - 0s 6ms/step - loss: 0.0026\n",
            "Epoch 77/160\n",
            "17/17 [==============================] - 0s 6ms/step - loss: 0.0025\n",
            "Epoch 78/160\n",
            "17/17 [==============================] - 0s 6ms/step - loss: 0.0021\n",
            "Epoch 79/160\n",
            "17/17 [==============================] - 0s 6ms/step - loss: 0.0021\n",
            "Epoch 80/160\n",
            "17/17 [==============================] - 0s 8ms/step - loss: 0.0021\n",
            "Epoch 81/160\n",
            "17/17 [==============================] - 0s 8ms/step - loss: 0.0025\n",
            "Epoch 82/160\n",
            "17/17 [==============================] - 0s 6ms/step - loss: 0.0029\n",
            "Epoch 83/160\n",
            "17/17 [==============================] - 0s 6ms/step - loss: 0.0027\n",
            "Epoch 84/160\n",
            "17/17 [==============================] - 0s 6ms/step - loss: 0.0032\n",
            "Epoch 85/160\n",
            "17/17 [==============================] - 0s 6ms/step - loss: 0.0030\n",
            "Epoch 86/160\n",
            "17/17 [==============================] - 0s 6ms/step - loss: 0.0023\n",
            "Epoch 87/160\n",
            "17/17 [==============================] - 0s 6ms/step - loss: 0.0021\n",
            "Epoch 88/160\n",
            "17/17 [==============================] - 0s 6ms/step - loss: 0.0020\n",
            "Epoch 89/160\n",
            "17/17 [==============================] - 0s 6ms/step - loss: 0.0025\n",
            "Epoch 90/160\n",
            "17/17 [==============================] - 0s 6ms/step - loss: 0.0025\n",
            "Epoch 91/160\n",
            "17/17 [==============================] - 0s 6ms/step - loss: 0.0020\n",
            "Epoch 92/160\n",
            "17/17 [==============================] - 0s 6ms/step - loss: 0.0019\n",
            "Epoch 93/160\n",
            "17/17 [==============================] - 0s 6ms/step - loss: 0.0021\n",
            "Epoch 94/160\n",
            "17/17 [==============================] - 0s 6ms/step - loss: 0.0019\n",
            "Epoch 95/160\n",
            "17/17 [==============================] - 0s 6ms/step - loss: 0.0019\n",
            "Epoch 96/160\n",
            "17/17 [==============================] - 0s 7ms/step - loss: 0.0019\n",
            "Epoch 97/160\n",
            "17/17 [==============================] - 0s 6ms/step - loss: 0.0019\n",
            "Epoch 98/160\n",
            "17/17 [==============================] - 0s 6ms/step - loss: 0.0025\n",
            "Epoch 99/160\n",
            "17/17 [==============================] - 0s 6ms/step - loss: 0.0022\n",
            "Epoch 100/160\n",
            "17/17 [==============================] - 0s 6ms/step - loss: 0.0020\n",
            "Epoch 101/160\n",
            "17/17 [==============================] - 0s 6ms/step - loss: 0.0021\n",
            "Epoch 102/160\n",
            "17/17 [==============================] - 0s 6ms/step - loss: 0.0022\n",
            "Epoch 103/160\n",
            "17/17 [==============================] - 0s 6ms/step - loss: 0.0020\n",
            "Epoch 104/160\n",
            "17/17 [==============================] - 0s 7ms/step - loss: 0.0022\n",
            "Epoch 105/160\n",
            "17/17 [==============================] - 0s 6ms/step - loss: 0.0021\n",
            "Epoch 106/160\n",
            "17/17 [==============================] - 0s 6ms/step - loss: 0.0020\n",
            "Epoch 107/160\n",
            "17/17 [==============================] - 0s 6ms/step - loss: 0.0023\n",
            "Epoch 108/160\n",
            "17/17 [==============================] - 0s 6ms/step - loss: 0.0021\n",
            "Epoch 109/160\n",
            "17/17 [==============================] - 0s 7ms/step - loss: 0.0021\n",
            "Epoch 110/160\n",
            "17/17 [==============================] - 0s 6ms/step - loss: 0.0019\n",
            "Epoch 111/160\n",
            "17/17 [==============================] - 0s 6ms/step - loss: 0.0019\n",
            "Epoch 112/160\n",
            "17/17 [==============================] - 0s 6ms/step - loss: 0.0023\n",
            "Epoch 113/160\n",
            "17/17 [==============================] - 0s 6ms/step - loss: 0.0019\n",
            "Epoch 114/160\n",
            "17/17 [==============================] - 0s 6ms/step - loss: 0.0020\n",
            "Epoch 115/160\n",
            "17/17 [==============================] - 0s 6ms/step - loss: 0.0020\n",
            "Epoch 116/160\n",
            "17/17 [==============================] - 0s 6ms/step - loss: 0.0018\n",
            "Epoch 117/160\n",
            "17/17 [==============================] - 0s 6ms/step - loss: 0.0019\n",
            "Epoch 118/160\n",
            "17/17 [==============================] - 0s 6ms/step - loss: 0.0021\n",
            "Epoch 119/160\n",
            "17/17 [==============================] - 0s 6ms/step - loss: 0.0025\n",
            "Epoch 120/160\n",
            "17/17 [==============================] - 0s 6ms/step - loss: 0.0020\n",
            "Epoch 121/160\n",
            "17/17 [==============================] - 0s 6ms/step - loss: 0.0019\n",
            "Epoch 122/160\n",
            "17/17 [==============================] - 0s 6ms/step - loss: 0.0021\n",
            "Epoch 123/160\n",
            "17/17 [==============================] - 0s 7ms/step - loss: 0.0018\n",
            "Epoch 124/160\n",
            "17/17 [==============================] - 0s 6ms/step - loss: 0.0018\n",
            "Epoch 125/160\n",
            "17/17 [==============================] - 0s 6ms/step - loss: 0.0018\n",
            "Epoch 126/160\n",
            "17/17 [==============================] - 0s 6ms/step - loss: 0.0019\n",
            "Epoch 127/160\n",
            "17/17 [==============================] - 0s 6ms/step - loss: 0.0018\n",
            "Epoch 128/160\n",
            "17/17 [==============================] - 0s 6ms/step - loss: 0.0020\n",
            "Epoch 129/160\n",
            "17/17 [==============================] - 0s 6ms/step - loss: 0.0019\n",
            "Epoch 130/160\n",
            "17/17 [==============================] - 0s 6ms/step - loss: 0.0019\n",
            "Epoch 131/160\n",
            "17/17 [==============================] - 0s 6ms/step - loss: 0.0018\n",
            "Epoch 132/160\n",
            "17/17 [==============================] - 0s 6ms/step - loss: 0.0020\n",
            "Epoch 133/160\n",
            "17/17 [==============================] - 0s 6ms/step - loss: 0.0021\n",
            "Epoch 134/160\n",
            "17/17 [==============================] - 0s 6ms/step - loss: 0.0023\n",
            "Epoch 135/160\n",
            "17/17 [==============================] - 0s 6ms/step - loss: 0.0023\n",
            "Epoch 136/160\n",
            "17/17 [==============================] - 0s 6ms/step - loss: 0.0019\n",
            "Epoch 137/160\n",
            "17/17 [==============================] - 0s 6ms/step - loss: 0.0017\n",
            "Epoch 138/160\n",
            "17/17 [==============================] - 0s 6ms/step - loss: 0.0020\n",
            "Epoch 139/160\n",
            "17/17 [==============================] - 0s 6ms/step - loss: 0.0018\n",
            "Epoch 140/160\n",
            "17/17 [==============================] - 0s 6ms/step - loss: 0.0018\n",
            "Epoch 141/160\n",
            "17/17 [==============================] - 0s 6ms/step - loss: 0.0022\n",
            "Epoch 142/160\n",
            "17/17 [==============================] - 0s 6ms/step - loss: 0.0017\n",
            "Epoch 143/160\n",
            "17/17 [==============================] - 0s 6ms/step - loss: 0.0019\n",
            "Epoch 144/160\n",
            "17/17 [==============================] - 0s 6ms/step - loss: 0.0017\n",
            "Epoch 145/160\n",
            "17/17 [==============================] - 0s 7ms/step - loss: 0.0019\n",
            "Epoch 146/160\n",
            "17/17 [==============================] - 0s 8ms/step - loss: 0.0027\n",
            "Epoch 147/160\n",
            "17/17 [==============================] - 0s 6ms/step - loss: 0.0020\n",
            "Epoch 148/160\n",
            "17/17 [==============================] - 0s 6ms/step - loss: 0.0021\n",
            "Epoch 149/160\n",
            "17/17 [==============================] - 0s 6ms/step - loss: 0.0021\n",
            "Epoch 150/160\n",
            "17/17 [==============================] - 0s 6ms/step - loss: 0.0023\n",
            "Epoch 151/160\n",
            "17/17 [==============================] - 0s 6ms/step - loss: 0.0022\n",
            "Epoch 152/160\n",
            "17/17 [==============================] - 0s 6ms/step - loss: 0.0020\n",
            "Epoch 153/160\n",
            "17/17 [==============================] - 0s 6ms/step - loss: 0.0018\n",
            "Epoch 154/160\n",
            "17/17 [==============================] - 0s 7ms/step - loss: 0.0018\n",
            "Epoch 155/160\n",
            "17/17 [==============================] - 0s 6ms/step - loss: 0.0019\n",
            "Epoch 156/160\n",
            "17/17 [==============================] - 0s 7ms/step - loss: 0.0020\n",
            "Epoch 157/160\n",
            "17/17 [==============================] - 0s 6ms/step - loss: 0.0019\n",
            "Epoch 158/160\n",
            "17/17 [==============================] - 0s 6ms/step - loss: 0.0020\n",
            "Epoch 159/160\n",
            "17/17 [==============================] - 0s 7ms/step - loss: 0.0022\n",
            "Epoch 160/160\n",
            "17/17 [==============================] - 0s 6ms/step - loss: 0.0016\n",
            "1/1 [==============================] - 0s 1ms/step - loss: 0.0255\n"
          ],
          "name": "stdout"
        }
      ]
    },
    {
      "cell_type": "markdown",
      "metadata": {
        "id": "Y9PSkVSA50OG",
        "colab_type": "text"
      },
      "source": [
        "# Using best model to predict on X_train & X_test"
      ]
    },
    {
      "cell_type": "code",
      "metadata": {
        "id": "aBny6cUkO4xC",
        "colab_type": "code",
        "colab": {
          "base_uri": "https://localhost:8080/",
          "height": 33
        },
        "outputId": "39dbe479-aadd-4abf-9e40-511684df8ac6"
      },
      "source": [
        "# Prediction and check performance metric\n",
        "train_predict = best_param_model.predict(X_train)\n",
        "test_predict = best_param_model.predict(X_test)\n",
        "train_predict.shape\n",
        "train_predict.shape"
      ],
      "execution_count": 228,
      "outputs": [
        {
          "output_type": "execute_result",
          "data": {
            "text/plain": [
              "(162, 1)"
            ]
          },
          "metadata": {
            "tags": []
          },
          "execution_count": 228
        }
      ]
    },
    {
      "cell_type": "code",
      "metadata": {
        "id": "b7ocuWlpPIEA",
        "colab_type": "code",
        "colab": {}
      },
      "source": [
        "# Transform back to original form\n",
        "train_predict=scaler.inverse_transform(train_predict)\n",
        "test_predict=scaler.inverse_transform(test_predict)\n",
        "# print(train_predict, test_predict)"
      ],
      "execution_count": 229,
      "outputs": []
    },
    {
      "cell_type": "code",
      "metadata": {
        "id": "zenaz-fCcL0E",
        "colab_type": "code",
        "colab": {}
      },
      "source": [
        "# print(train_predict,test_predict)"
      ],
      "execution_count": 230,
      "outputs": []
    },
    {
      "cell_type": "markdown",
      "metadata": {
        "id": "k4ocL2CLJLXg",
        "colab_type": "text"
      },
      "source": [
        "# Performance Metric\n",
        "\n",
        "*   How well is model performing? A measure of what i am predicting and what should have been predicting.\n",
        "*  **Mean Absolute Error**: MAE measures the average magnitude of the errors in a set of predictions, without considering their direction. It’s the average over the test sample of the absolute differences between prediction and actual observation where all individual differences have equal weight. \n",
        "*   **Mean Squared Error**: Measures the average of the squares of the errors—that is, the average squared difference between the estimated values and the actual value.\n",
        "*   **Kullback-Leibler divergence**, which is also called relative entropy, is a measure of the difference between two probability distributions P and Q where P is the distribution of the observation that we want to see how much it differs from the average prior distribution Q. In statistics, an approximate entropy (ApEn) is a technique used to quantify the amount of regularity and the unpredictability of fluctuations over time-series data.[1]\n",
        "* [MAE Versus RMSE](https://medium.com/human-in-a-machine-world/mae-and-rmse-which-metric-is-better-e60ac3bde13d)\n",
        "\n",
        "\n",
        "\n"
      ]
    },
    {
      "cell_type": "code",
      "metadata": {
        "id": "DHXXILzqPUHQ",
        "colab_type": "code",
        "colab": {
          "base_uri": "https://localhost:8080/",
          "height": 50
        },
        "outputId": "44fe8965-39a2-4070-afc4-ca21d6d61047"
      },
      "source": [
        "from sklearn.metrics import mean_absolute_error\n",
        "print(mean_absolute_error(Y_train, train_predict))\n",
        "print(mean_absolute_error(Y_test, test_predict))"
      ],
      "execution_count": 231,
      "outputs": [
        {
          "output_type": "stream",
          "text": [
            "133154782.71520732\n",
            "254110157.9447979\n"
          ],
          "name": "stdout"
        }
      ]
    },
    {
      "cell_type": "code",
      "metadata": {
        "id": "fFNm7l86Pt_7",
        "colab_type": "code",
        "colab": {
          "base_uri": "https://localhost:8080/",
          "height": 50
        },
        "outputId": "a6a0e5ff-d56b-40db-9d1b-d6171f101a86"
      },
      "source": [
        "from sklearn.metrics import mean_squared_error\n",
        "print(math.sqrt(mean_squared_error(Y_train, train_predict)))\n",
        "print(math.sqrt(mean_squared_error(Y_test, test_predict)))"
      ],
      "execution_count": 232,
      "outputs": [
        {
          "output_type": "stream",
          "text": [
            "138943784.19905648\n",
            "254278364.32548666\n"
          ],
          "name": "stdout"
        }
      ]
    },
    {
      "cell_type": "code",
      "metadata": {
        "id": "gZc_4QJmZugn",
        "colab_type": "code",
        "colab": {
          "base_uri": "https://localhost:8080/",
          "height": 50
        },
        "outputId": "dd13be9c-a665-4276-fd28-6f08b3b89be9"
      },
      "source": [
        "# Problem: Y_train, train_predict need to be normalised in order to produce a non negative value?\n",
        "# Confused on when to normalise and not normalise as I had to transform back for MAE & MSE\n",
        "# KL Divergence: Probability distribution rather than time series\n",
        "# Consider this for evaluation: https://www.tensorflow.org/api_docs/python/tf/keras/losses/KLDivergence\n",
        "# Kl divergence measures difference between 2 probability distributions\n",
        "\n",
        "def kl_divergence(P,Q):\n",
        " epsilon = 0.00001      # Epsilon is used here to avoid conditional code for checking that neither P nor Q is equal to 0.\n",
        " P = P+epsilon          #  Made copies to avoid changing the np arrays.\n",
        " Q = Q+epsilon\n",
        " divergence = np.sum(P*np.log(P/Q))\n",
        " return divergence\n",
        "\n",
        "print(kl_divergence(Y_train, train_predict)) \n",
        "print(kl_divergence(Y_test, test_predict))   # Values should be normalized though and they are not currently normalised.\n"
      ],
      "execution_count": 233,
      "outputs": [
        {
          "output_type": "stream",
          "text": [
            "-282564.91323763947\n",
            "-3476.908690377373\n"
          ],
          "name": "stdout"
        }
      ]
    },
    {
      "cell_type": "code",
      "metadata": {
        "id": "ChFdlWNgTueE",
        "colab_type": "code",
        "colab": {
          "base_uri": "https://localhost:8080/",
          "height": 163
        },
        "outputId": "90f6c182-63c1-4c9f-cfcb-47bf18ae3baa"
      },
      "source": [
        "from scipy.stats import entropy\n",
        "print(\"\\nIndividual Entropy\\n\")\n",
        "print(entropy(Y_train))\n",
        "print(entropy(train_predict))\n",
        "Y_train_kl = Y_train.reshape(162, 1) # Needed to shape if I wanted to do entropy(_, _)\n",
        "print(\"\\nPairwise Kullback Leibler divergence\\n\")\n",
        "print(entropy(Y_train_kl, qk=train_predict))"
      ],
      "execution_count": 234,
      "outputs": [
        {
          "output_type": "stream",
          "text": [
            "\n",
            "Individual Entropy\n",
            "\n",
            "5.0289937798554565\n",
            "[5.0347347]\n",
            "\n",
            "Pairwise Kullback Leibler divergence\n",
            "\n",
            "[0.0046351]\n"
          ],
          "name": "stdout"
        }
      ]
    },
    {
      "cell_type": "markdown",
      "metadata": {
        "id": "-nSW23ryI8RU",
        "colab_type": "text"
      },
      "source": [
        "# Actual Data, Train Prediction & Test Prediction data"
      ]
    },
    {
      "cell_type": "code",
      "metadata": {
        "id": "wIaC4DB2UV6P",
        "colab_type": "code",
        "colab": {
          "base_uri": "https://localhost:8080/",
          "height": 435
        },
        "outputId": "4c2be956-6ad3-4d8b-809b-d3248ab48ed6"
      },
      "source": [
        "# Problem: testPredictPlot[len(train_predict)+(look_back*2)+2: (training_size + test_size)] = test_predict\n",
        "\n",
        "# Taking in the 7 \n",
        "\n",
        "look_back = 7\n",
        "\n",
        "# empty_like: Return a new array with the same shape and type as a given array.\n",
        "# np.nan: Replect all with nan? What does this mean?\n",
        "# What does this do?? 7: predict.length() + 7, :\n",
        "\n",
        "trainPredictPlot = np.empty_like(new_dataset)\n",
        "trainPredictPlot[:,:]= np.nan\n",
        "trainPredictPlot[look_back:len(train_predict)+look_back, :] = train_predict\n",
        "print(trainPredictPlot.shape)\n",
        "\n",
        "# empty_like: Return a new array with the same shape and type as a given array.\n",
        "# np.nan: Replect all with nan? What does this mean?\n",
        "# Dont understand what this is doing\n",
        "# What does this do?? predict.length() + (7*2) +2 :(training_size + test_size)] = test_predict\n",
        "\n",
        "testPredictPlot = np.empty_like(new_dataset)\n",
        "testPredictPlot[:,:]= np.nan\n",
        "\n",
        "# \n",
        "testPredictPlot[len(train_predict)+(look_back*2)+1: (training_size + test_size)] = test_predict\n",
        "# new_dataset[training_size:(training_size + test_size)]\n",
        "print(testPredictPlot.shape)\n",
        "\n",
        "# Plot baseline and predictions\n",
        "plt.title('Analysis of train, test and actual')\n",
        "plt.plot(scaler.inverse_transform(new_dataset), label=\"actual dataset\")\n",
        "\n",
        "trainPredictPlot = [item[2] for item in trainPredictPlot] \n",
        "plt.plot(trainPredictPlot, label=\"train_predict\")\n",
        "\n",
        "testPredictPlot = [item[2] for item in testPredictPlot] \n",
        "plt.plot(testPredictPlot, label=\"test_predict\")\n",
        "\n",
        "# as you can see th test data and train is divided because we want to test after a specific day\n",
        "plt.ylabel('Forex price & US Death Rates')\n",
        "plt.xlabel('Date')\n",
        "plt.legend()\n",
        "plt.show()\n",
        "# Printing 2 actual_dataset, train_predict, test_predict because 2 input layers"
      ],
      "execution_count": 235,
      "outputs": [
        {
          "output_type": "stream",
          "text": [
            "(213, 3)\n",
            "(213, 3)\n"
          ],
          "name": "stdout"
        },
        {
          "output_type": "display_data",
          "data": {
            "image/png": "[encoded data removed]",
            "text/plain": [
              "<Figure size 1080x432 with 1 Axes>"
            ]
          },
          "metadata": {
            "tags": []
          }
        }
      ]
    },
    {
      "cell_type": "markdown",
      "metadata": {
        "id": "Fc6YFJvQjBGu",
        "colab_type": "text"
      },
      "source": [
        "# Custom 4 day prediction\n",
        "\n",
        "*   Training train data to predict future days and evaluating the accuracy on validation data.\n",
        "*   Training train data to predict future days, no way of evaluating however this can tell us what is likely to occur.\n",
        "*   Using last 7 days of training data to predict the future custom days(4). \n",
        "\n"
      ]
    },
    {
      "cell_type": "code",
      "metadata": {
        "id": "yws-gX7RTB3Z",
        "colab_type": "code",
        "colab": {
          "base_uri": "https://localhost:8080/",
          "height": 147
        },
        "outputId": "fc2a8d27-3924-42f7-e693-a2cba7a289d0"
      },
      "source": [
        "# Taking the last 7 days of test\n",
        "# print(test_data[80:])\n",
        "# is this supposed to be test or train_data\n",
        "X_input=test_data[100:].reshape(1,-1)\n",
        "print(X_input)\n",
        "X_input.shape\n",
        "\n",
        "temp_input = train_data[-7:]\n",
        "temp_input\n",
        "\n"
      ],
      "execution_count": 236,
      "outputs": [
        {
          "output_type": "stream",
          "text": [
            "[]\n"
          ],
          "name": "stdout"
        },
        {
          "output_type": "execute_result",
          "data": {
            "text/plain": [
              "array([[0.36645202, 0.43112686, 0.85231116],\n",
              "       [0.37508216, 0.44124607, 0.85794814],\n",
              "       [0.38381989, 0.45143297, 0.85794814],\n",
              "       [0.39263992, 0.46164599, 0.85794814],\n",
              "       [0.40154401, 0.47189386, 0.87936866],\n",
              "       [0.41054795, 0.48221551, 0.87936866],\n",
              "       [0.41965953, 0.4926037 , 0.83089064]])"
            ]
          },
          "metadata": {
            "tags": []
          },
          "execution_count": 236
        }
      ]
    },
    {
      "cell_type": "code",
      "metadata": {
        "id": "CHAxzKyuTp5-",
        "colab_type": "code",
        "colab": {
          "base_uri": "https://localhost:8080/",
          "height": 488
        },
        "outputId": "169685e3-0cf4-43c3-8be8-1333a935c5cc"
      },
      "source": [
        "# Demonstrate prediction for the next 4 days:\n",
        "\n",
        "# Step 1. 7 days of feature = temp_input taken from the last 7 days of the training set\n",
        "# Step 2  i is the day you are on and we want to predict 4 days: 0,1,2,3 (4 days)\n",
        "# Step 3. Predict the 8th day on each of the 7 days,\n",
        "# Step 4. Add this new predicted day to the list\n",
        "# Step 5. Because we are now taking in the last 7 days + the new predicted value, the list is now size 8  \n",
        "# Step 6. In order to take in 7 days at a time, we shift 1 to the right.\n",
        "# Step 7. We reassign the X_train to the new 7 days\n",
        "# Step 8. We predict the 8th day of the 7 days and continue the process\n",
        "# Step 9. We then add the 8th day to the output list\n",
        "# Step 10. We keep track of the 4 days by incrementing by i at the end-> i = i+1\n",
        "# Step 11. Once we have predicted the 4 days, we return the list of 4 day values.\n",
        "\n",
        "from numpy import array\n",
        "custom_day = 4\n",
        "lst_output=[]\n",
        "n_steps=7\n",
        "i=0\n",
        "X_input = temp_input\n",
        "# print(X_input)\n",
        "while(i<custom_day):\n",
        "  if(len(temp_input)>7):\n",
        "    # print(temp_input)  \n",
        "    X_input=array(temp_input[1:])\n",
        "    # print(\"{} day input {}\".format(i,X_input))\n",
        "    # Correct input shape (1,7,3)\n",
        "    X_input=X_input.reshape((1,n_steps,3))\n",
        "    # Prediction of X_input\n",
        "    print(X_input)\n",
        "    Y_hat = best_param_model.predict(X_input)\n",
        "    # print(Y_hat)\n",
        "    temp_input = np.append(temp_input, Y_hat)\n",
        "    temp_input=temp_input[1:]\n",
        "    lst_output.append(Y_hat[0][0])\n",
        "    i=i+1\n",
        "  else:\n",
        "    X_input=X_input.reshape((1,n_steps,3))\n",
        "    print(X_input)\n",
        "    Y_hat = best_param_model.predict(X_input, verbose=0)\n",
        "    # print(Y_hat)\n",
        "    temp_input = np.append(temp_input, Y_hat)\n",
        "    lst_output.append(Y_hat[0][0])\n",
        "    i=i+1\n",
        "# [0.039997526, 0.035484765, 0.029113937, 0.025276443]\n",
        "# Print the predicted forex price for the next 4 days \n",
        "print(lst_output)"
      ],
      "execution_count": 237,
      "outputs": [
        {
          "output_type": "stream",
          "text": [
            "[[[0.36645202 0.43112686 0.85231116]\n",
            "  [0.37508216 0.44124607 0.85794814]\n",
            "  [0.38381989 0.45143297 0.85794814]\n",
            "  [0.39263992 0.46164599 0.85794814]\n",
            "  [0.40154401 0.47189386 0.87936866]\n",
            "  [0.41054795 0.48221551 0.87936866]\n",
            "  [0.41965953 0.4926037  0.83089064]]]\n",
            "[[[0.43112686 0.85231116 0.37508216]\n",
            "  [0.44124607 0.85794814 0.38381989]\n",
            "  [0.45143297 0.85794814 0.39263992]\n",
            "  [0.46164599 0.85794814 0.40154401]\n",
            "  [0.47189386 0.87936866 0.41054795]\n",
            "  [0.48221551 0.87936866 0.41965953]\n",
            "  [0.4926037  0.83089064 0.83773953]]]\n",
            "[[[0.85231116 0.37508216 0.44124607]\n",
            "  [0.85794814 0.38381989 0.45143297]\n",
            "  [0.85794814 0.39263992 0.46164599]\n",
            "  [0.85794814 0.40154401 0.47189386]\n",
            "  [0.87936866 0.41054795 0.48221551]\n",
            "  [0.87936866 0.41965953 0.4926037 ]\n",
            "  [0.83089064 0.83773953 1.09859622]]]\n",
            "[[[0.37508216 0.44124607 0.85794814]\n",
            "  [0.38381989 0.45143297 0.85794814]\n",
            "  [0.39263992 0.46164599 0.85794814]\n",
            "  [0.40154401 0.47189386 0.87936866]\n",
            "  [0.41054795 0.48221551 0.87936866]\n",
            "  [0.41965953 0.4926037  0.83089064]\n",
            "  [0.83773953 1.09859622 1.14188397]]]\n",
            "[0.8377395, 1.0985962, 1.141884, 1.018716]\n"
          ],
          "name": "stdout"
        }
      ]
    },
    {
      "cell_type": "markdown",
      "metadata": {
        "id": "-0DCdCn2jwxO",
        "colab_type": "text"
      },
      "source": [
        "### Plotting evaluation on graph. Training output versus first 4 days of the validation data."
      ]
    },
    {
      "cell_type": "code",
      "metadata": {
        "id": "z_5opaqHfcZt",
        "colab_type": "code",
        "colab": {
          "base_uri": "https://localhost:8080/",
          "height": 435
        },
        "outputId": "2ab4a925-2547-4877-c950-09e672b85da6"
      },
      "source": [
        "# Custom day plotted\n",
        "day_new = custom_day-1\n",
        "\n",
        "# Predicted 4 days from training\n",
        "# Plot and label\n",
        "# Transform back to original value before normalised\n",
        "custom_day_prediction = np.array(lst_output)\n",
        "print(custom_day_prediction)\n",
        "plt.plot(custom_day_prediction, label=\"Predicted\")\n",
        "# plt.plot(day_new, scaler.inverse_transform([custom_day_prediction]))\n",
        "\n",
        "# Actual 4 days from validation\n",
        "# Plot and label\n",
        "# Transform back to original value before normalised\n",
        "val_data = [item[2] for item in valset_data] \n",
        "custom_day_validation = val_data[:custom_day]\n",
        "print(custom_day_validation)\n",
        "plt.plot(custom_day_validation, label=\"Actual\")\n",
        "# plt.plot(day_new, scaler.inverse_transform([custom_day_validation]))\n",
        "\n",
        "# Information\n",
        "plt.title('Predicted custom day from training data versus actual custom day from validation data')\n",
        "plt.xlabel('Number of custom days')\n",
        "plt.ylabel('Price')\n",
        "plt.legend()\n",
        "plt.show()\n"
      ],
      "execution_count": 238,
      "outputs": [
        {
          "output_type": "stream",
          "text": [
            "[0.8377395 1.0985962 1.141884  1.018716 ]\n",
            "[0.8263810597519718, 0.8049605411499439, 0.8049605411499439, 0.8049605411499439]\n"
          ],
          "name": "stdout"
        },
        {
          "output_type": "display_data",
          "data": {
            "image/png": "[encoded data removed]",
            "text/plain": [
              "<Figure size 1080x432 with 1 Axes>"
            ]
          },
          "metadata": {
            "tags": []
          }
        }
      ]
    },
    {
      "cell_type": "markdown",
      "metadata": {
        "id": "oechzTG13Efi",
        "colab_type": "text"
      },
      "source": [
        "# Outcome of training test data on best model\n",
        "* Is this correctly implements? Only difference is X_input\n",
        "* Strange results\n",
        "* How can we evaluate? \n",
        "* Currently validating against validation data\n",
        "* What should I be validating it against?"
      ]
    },
    {
      "cell_type": "code",
      "metadata": {
        "id": "d-JX2Sw3-2k4",
        "colab_type": "code",
        "colab": {
          "base_uri": "https://localhost:8080/",
          "height": 33
        },
        "outputId": "90f32a3d-11c6-4fb3-f010-5e2bfa914c87"
      },
      "source": [
        "from numpy import array\n",
        "custom_day = 4\n",
        "lst_output=[]\n",
        "n_steps=7\n",
        "i=0\n",
        "X_input = X_test\n",
        "while(i<custom_day):\n",
        "  if(len(temp_input)>7):\n",
        "    X_input=array(temp_input[1:])\n",
        "    X_input=X_input.reshape((1,n_steps,3))\n",
        "    # Prediction of X_input\n",
        "    # print(X_input)\n",
        "    Y_hat = best_param_model.predict(X_input)\n",
        "    # print(Y_hat)\n",
        "    temp_input = np.append(temp_input, Y_hat)\n",
        "    temp_input=temp_input[1:]\n",
        "    lst_output.append(Y_hat[0][0])\n",
        "    i=i+1\n",
        "  else:\n",
        "    X_input=X_input.reshape((1,n_steps,3))\n",
        "    # print(Y_hat)\n",
        "    Y_hat = best_param_model.predict(X_input, verbose=0)\n",
        "    # print(Y_hat)\n",
        "    temp_input = np.append(temp_input, Y_hat)\n",
        "    lst_output.append(Y_hat[0][0])\n",
        "    i=i+1\n",
        "# Print the predicted forex price for the next 4 days \n",
        "print(lst_output)"
      ],
      "execution_count": 239,
      "outputs": [
        {
          "output_type": "stream",
          "text": [
            "[1.1478914, 1.1530855, 1.0079395, 1.1836553]\n"
          ],
          "name": "stdout"
        }
      ]
    },
    {
      "cell_type": "code",
      "metadata": {
        "id": "UBktK72bgkZp",
        "colab_type": "code",
        "colab": {
          "base_uri": "https://localhost:8080/",
          "height": 435
        },
        "outputId": "ae34c17d-5215-418e-e805-565683b67a37"
      },
      "source": [
        "# Need to implement\n",
        "day_new = custom_day-1\n",
        "\n",
        "# Predicted 4 days from training\n",
        "# Plot and label\n",
        "# Transform back to original value before normalised\n",
        "custom_day_prediction = np.array(lst_output)\n",
        "print(custom_day_prediction)\n",
        "plt.plot(custom_day_prediction, label=\"Predicted\")\n",
        "# plt.plot(day_new, scaler.inverse_transform([custom_day_prediction]))\n",
        "\n",
        "# Actual 4 days from validation\n",
        "# Plot and label\n",
        "# Transform back to original value before normalised\n",
        "val_data = [item[1] for item in valset_data] \n",
        "custom_day_validation = val_data[:custom_day]\n",
        "print(custom_day_validation)\n",
        "plt.plot(custom_day_validation, label=\"Actual\")\n",
        "# plt.plot(day_new, scaler.inverse_transform([custom_day_validation]))\n",
        "\n",
        "# Information\n",
        "plt.title('Predicted custom day from testing data versus actual custom day from validation data')\n",
        "plt.xlabel('Number of custom days')\n",
        "plt.ylabel('Price')\n",
        "plt.legend()\n",
        "plt.show()"
      ],
      "execution_count": 240,
      "outputs": [
        {
          "output_type": "stream",
          "text": [
            "[1.1478914 1.1530855 1.0079395 1.1836553]\n",
            "[0.5030551598407069, 0.5135664522526096, 0.5241313106737642, 0.5347187603607648]\n"
          ],
          "name": "stdout"
        },
        {
          "output_type": "display_data",
          "data": {
            "image/png": "[encoded data removed]",
            "text/plain": [
              "<Figure size 1080x432 with 1 Axes>"
            ]
          },
          "metadata": {
            "tags": []
          }
        }
      ]
    },
    {
      "cell_type": "markdown",
      "metadata": {
        "id": "7o0GfssHMvIL",
        "colab_type": "text"
      },
      "source": [
        "# Conclusion and next steps\n",
        "\n",
        "After exploring the LSTM algorithm:\n",
        "*   Notes on working with LSTM & Small Dataset\n",
        "*   Notes on overfitting\n",
        "\n",
        "In conclusion it seems that .."
      ]
    }
  ]
}