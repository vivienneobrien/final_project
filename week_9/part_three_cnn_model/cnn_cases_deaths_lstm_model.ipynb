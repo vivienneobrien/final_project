{
  "nbformat": 4,
  "nbformat_minor": 0,
  "metadata": {
    "colab": {
      "name": "cnn_cases_deaths_lstm_model.ipynb",
      "provenance": [],
      "collapsed_sections": [],
      "toc_visible": true
    },
    "kernelspec": {
      "name": "python3",
      "display_name": "Python 3"
    },
    "accelerator": "GPU"
  },
  "cells": [
    {
      "cell_type": "markdown",
      "metadata": {
        "id": "NpLCBrS0DoTl",
        "colab_type": "text"
      },
      "source": [
        "# Notes for user:\n",
        "\n",
        "*   This notebook will use the dataset COVID-19 (positive cases and death rates) and forex to predict the forex spot price of a currency pair.\n",
        "*   What to ask user before using this application:\n",
        "*   What currency pair are you interested in? GBP/USD (This layout means that the base currency is USD)\n",
        "*   The currency the user wants to look at is how much the USD is worth to the GBP.\n",
        "*   Therefore, we look at the death rates & positive cases in the US.\n",
        "*   We are looking at dates: 31st Dec 2019 - 31st July 2020.\n",
        "*   LSTMs are good at looking at changed over time. We need to also consider that what happen more recently is a better judgement than what happened a long time ago. This is why CNNs might be interesting to explore.\n"
      ]
    },
    {
      "cell_type": "code",
      "metadata": {
        "id": "GDBxlQkCD7Mj",
        "colab_type": "code",
        "colab": {
          "base_uri": "https://localhost:8080/",
          "height": 307
        },
        "outputId": "89b233b3-3411-45a6-ca9f-ea907c11febf"
      },
      "source": [
        "# Use some functions from tensorflow_docs\n",
        "!pip install git+https://github.com/tensorflow/docs"
      ],
      "execution_count": null,
      "outputs": [
        {
          "output_type": "stream",
          "text": [
            "Collecting git+https://github.com/tensorflow/docs\n",
            "  Cloning https://github.com/tensorflow/docs to /tmp/pip-req-build-de79vkfj\n",
            "  Running command git clone -q https://github.com/tensorflow/docs /tmp/pip-req-build-de79vkfj\n",
            "Requirement already satisfied (use --upgrade to upgrade): tensorflow-docs===0.0.0521ca8e4f8ec8dd060b02ec93e03916831687920- from git+https://github.com/tensorflow/docs in /usr/local/lib/python3.6/dist-packages\n",
            "Requirement already satisfied: astor in /usr/local/lib/python3.6/dist-packages (from tensorflow-docs===0.0.0521ca8e4f8ec8dd060b02ec93e03916831687920-) (0.8.1)\n",
            "Requirement already satisfied: absl-py in /usr/local/lib/python3.6/dist-packages (from tensorflow-docs===0.0.0521ca8e4f8ec8dd060b02ec93e03916831687920-) (0.9.0)\n",
            "Requirement already satisfied: protobuf in /usr/local/lib/python3.6/dist-packages (from tensorflow-docs===0.0.0521ca8e4f8ec8dd060b02ec93e03916831687920-) (3.12.4)\n",
            "Requirement already satisfied: pyyaml in /usr/local/lib/python3.6/dist-packages (from tensorflow-docs===0.0.0521ca8e4f8ec8dd060b02ec93e03916831687920-) (3.13)\n",
            "Requirement already satisfied: six in /usr/local/lib/python3.6/dist-packages (from absl-py->tensorflow-docs===0.0.0521ca8e4f8ec8dd060b02ec93e03916831687920-) (1.15.0)\n",
            "Requirement already satisfied: setuptools in /usr/local/lib/python3.6/dist-packages (from protobuf->tensorflow-docs===0.0.0521ca8e4f8ec8dd060b02ec93e03916831687920-) (49.2.0)\n",
            "Building wheels for collected packages: tensorflow-docs\n",
            "  Building wheel for tensorflow-docs (setup.py) ... \u001b[?25l\u001b[?25hdone\n",
            "  Created wheel for tensorflow-docs: filename=tensorflow_docs-0.0.0521ca8e4f8ec8dd060b02ec93e03916831687920_-cp36-none-any.whl size=126759 sha256=3222ab027e4f99e3a6c37b94059a8ecd7fa8285a5ba5b95b4c649a9819bf4ffa\n",
            "  Stored in directory: /tmp/pip-ephem-wheel-cache-flizn6ts/wheels/eb/1b/35/fce87697be00d2fc63e0b4b395b0d9c7e391a10e98d9a0d97f\n",
            "Successfully built tensorflow-docs\n"
          ],
          "name": "stdout"
        }
      ]
    },
    {
      "cell_type": "code",
      "metadata": {
        "id": "iJ6D0PrOJYeg",
        "colab_type": "code",
        "colab": {}
      },
      "source": [
        "import pathlib\n",
        "import matplotlib.pyplot as plt\n",
        "import numpy as np\n",
        "import pandas as pd"
      ],
      "execution_count": null,
      "outputs": []
    },
    {
      "cell_type": "code",
      "metadata": {
        "id": "AgIgQg1XJcP2",
        "colab_type": "code",
        "colab": {
          "base_uri": "https://localhost:8080/",
          "height": 35
        },
        "outputId": "b0a73cd6-5b19-4f68-f590-15341160ddb9"
      },
      "source": [
        "import tensorflow as tf\n",
        "from tensorflow import keras\n",
        "from tensorflow.keras import layers\n",
        "print(tf.__version__)"
      ],
      "execution_count": null,
      "outputs": [
        {
          "output_type": "stream",
          "text": [
            "2.3.0\n"
          ],
          "name": "stdout"
        }
      ]
    },
    {
      "cell_type": "code",
      "metadata": {
        "id": "m_F-7tgZJe2m",
        "colab_type": "code",
        "colab": {}
      },
      "source": [
        "import tensorflow_docs as tfdocs\n",
        "import tensorflow_docs.plots\n",
        "import tensorflow_docs.modeling\n",
        "\n"
      ],
      "execution_count": null,
      "outputs": []
    },
    {
      "cell_type": "code",
      "metadata": {
        "id": "U7zLL7tQm3eq",
        "colab_type": "code",
        "colab": {}
      },
      "source": [
        "from numpy.random import seed\n",
        "seed(1)\n",
        "tf.random.set_seed(2)"
      ],
      "execution_count": null,
      "outputs": []
    },
    {
      "cell_type": "markdown",
      "metadata": {
        "id": "QzadtzC3Hniw",
        "colab_type": "text"
      },
      "source": [
        "# Data Collection\n"
      ]
    },
    {
      "cell_type": "code",
      "metadata": {
        "id": "7GjIgZ7kJhjo",
        "colab_type": "code",
        "colab": {
          "base_uri": "https://localhost:8080/",
          "height": 309
        },
        "outputId": "3b5a9bef-0717-4fd7-97cf-a74abab86d45"
      },
      "source": [
        "# Importing covid_dataset using pandas. Droping null values.\n",
        "covid_dataset_data= pd.read_csv('owid_covid_data.csv', na_values = \"?\", comment='\\t', skipinitialspace=True)\n",
        "covid_dataset = covid_dataset_data.copy()\n",
        "# covid_dataset = covid_dataset.dropna()\n",
        "covid_dataset.head()\n",
        "\n"
      ],
      "execution_count": null,
      "outputs": [
        {
          "output_type": "execute_result",
          "data": {
            "text/html": [
              "<div>\n",
              "<style scoped>\n",
              "    .dataframe tbody tr th:only-of-type {\n",
              "        vertical-align: middle;\n",
              "    }\n",
              "\n",
              "    .dataframe tbody tr th {\n",
              "        vertical-align: top;\n",
              "    }\n",
              "\n",
              "    .dataframe thead th {\n",
              "        text-align: right;\n",
              "    }\n",
              "</style>\n",
              "<table border=\"1\" class=\"dataframe\">\n",
              "  <thead>\n",
              "    <tr style=\"text-align: right;\">\n",
              "      <th></th>\n",
              "      <th>iso_code</th>\n",
              "      <th>continent</th>\n",
              "      <th>location</th>\n",
              "      <th>date</th>\n",
              "      <th>total_cases</th>\n",
              "      <th>new_cases</th>\n",
              "      <th>total_deaths</th>\n",
              "      <th>new_deaths</th>\n",
              "      <th>total_cases_per_million</th>\n",
              "      <th>new_cases_per_million</th>\n",
              "      <th>total_deaths_per_million</th>\n",
              "      <th>new_deaths_per_million</th>\n",
              "      <th>new_tests</th>\n",
              "      <th>total_tests</th>\n",
              "      <th>total_tests_per_thousand</th>\n",
              "      <th>new_tests_per_thousand</th>\n",
              "      <th>new_tests_smoothed</th>\n",
              "      <th>new_tests_smoothed_per_thousand</th>\n",
              "      <th>tests_per_case</th>\n",
              "      <th>positive_rate</th>\n",
              "      <th>tests_units</th>\n",
              "      <th>stringency_index</th>\n",
              "      <th>population</th>\n",
              "      <th>population_density</th>\n",
              "      <th>median_age</th>\n",
              "      <th>aged_65_older</th>\n",
              "      <th>aged_70_older</th>\n",
              "      <th>gdp_per_capita</th>\n",
              "      <th>extreme_poverty</th>\n",
              "      <th>cardiovasc_death_rate</th>\n",
              "      <th>diabetes_prevalence</th>\n",
              "      <th>female_smokers</th>\n",
              "      <th>male_smokers</th>\n",
              "      <th>handwashing_facilities</th>\n",
              "      <th>hospital_beds_per_thousand</th>\n",
              "      <th>life_expectancy</th>\n",
              "    </tr>\n",
              "  </thead>\n",
              "  <tbody>\n",
              "    <tr>\n",
              "      <th>0</th>\n",
              "      <td>ABW</td>\n",
              "      <td>North America</td>\n",
              "      <td>Aruba</td>\n",
              "      <td>2020-03-13</td>\n",
              "      <td>2.0</td>\n",
              "      <td>2.0</td>\n",
              "      <td>0.0</td>\n",
              "      <td>0.0</td>\n",
              "      <td>18.733</td>\n",
              "      <td>18.733</td>\n",
              "      <td>0.0</td>\n",
              "      <td>0.0</td>\n",
              "      <td>NaN</td>\n",
              "      <td>NaN</td>\n",
              "      <td>NaN</td>\n",
              "      <td>NaN</td>\n",
              "      <td>NaN</td>\n",
              "      <td>NaN</td>\n",
              "      <td>NaN</td>\n",
              "      <td>NaN</td>\n",
              "      <td>NaN</td>\n",
              "      <td>0.00</td>\n",
              "      <td>106766.0</td>\n",
              "      <td>584.8</td>\n",
              "      <td>41.2</td>\n",
              "      <td>13.085</td>\n",
              "      <td>7.452</td>\n",
              "      <td>35973.781</td>\n",
              "      <td>NaN</td>\n",
              "      <td>NaN</td>\n",
              "      <td>11.62</td>\n",
              "      <td>NaN</td>\n",
              "      <td>NaN</td>\n",
              "      <td>NaN</td>\n",
              "      <td>NaN</td>\n",
              "      <td>76.29</td>\n",
              "    </tr>\n",
              "    <tr>\n",
              "      <th>1</th>\n",
              "      <td>ABW</td>\n",
              "      <td>North America</td>\n",
              "      <td>Aruba</td>\n",
              "      <td>2020-03-20</td>\n",
              "      <td>4.0</td>\n",
              "      <td>2.0</td>\n",
              "      <td>0.0</td>\n",
              "      <td>0.0</td>\n",
              "      <td>37.465</td>\n",
              "      <td>18.733</td>\n",
              "      <td>0.0</td>\n",
              "      <td>0.0</td>\n",
              "      <td>NaN</td>\n",
              "      <td>NaN</td>\n",
              "      <td>NaN</td>\n",
              "      <td>NaN</td>\n",
              "      <td>NaN</td>\n",
              "      <td>NaN</td>\n",
              "      <td>NaN</td>\n",
              "      <td>NaN</td>\n",
              "      <td>NaN</td>\n",
              "      <td>33.33</td>\n",
              "      <td>106766.0</td>\n",
              "      <td>584.8</td>\n",
              "      <td>41.2</td>\n",
              "      <td>13.085</td>\n",
              "      <td>7.452</td>\n",
              "      <td>35973.781</td>\n",
              "      <td>NaN</td>\n",
              "      <td>NaN</td>\n",
              "      <td>11.62</td>\n",
              "      <td>NaN</td>\n",
              "      <td>NaN</td>\n",
              "      <td>NaN</td>\n",
              "      <td>NaN</td>\n",
              "      <td>76.29</td>\n",
              "    </tr>\n",
              "    <tr>\n",
              "      <th>2</th>\n",
              "      <td>ABW</td>\n",
              "      <td>North America</td>\n",
              "      <td>Aruba</td>\n",
              "      <td>2020-03-24</td>\n",
              "      <td>12.0</td>\n",
              "      <td>8.0</td>\n",
              "      <td>0.0</td>\n",
              "      <td>0.0</td>\n",
              "      <td>112.395</td>\n",
              "      <td>74.930</td>\n",
              "      <td>0.0</td>\n",
              "      <td>0.0</td>\n",
              "      <td>NaN</td>\n",
              "      <td>NaN</td>\n",
              "      <td>NaN</td>\n",
              "      <td>NaN</td>\n",
              "      <td>NaN</td>\n",
              "      <td>NaN</td>\n",
              "      <td>NaN</td>\n",
              "      <td>NaN</td>\n",
              "      <td>NaN</td>\n",
              "      <td>44.44</td>\n",
              "      <td>106766.0</td>\n",
              "      <td>584.8</td>\n",
              "      <td>41.2</td>\n",
              "      <td>13.085</td>\n",
              "      <td>7.452</td>\n",
              "      <td>35973.781</td>\n",
              "      <td>NaN</td>\n",
              "      <td>NaN</td>\n",
              "      <td>11.62</td>\n",
              "      <td>NaN</td>\n",
              "      <td>NaN</td>\n",
              "      <td>NaN</td>\n",
              "      <td>NaN</td>\n",
              "      <td>76.29</td>\n",
              "    </tr>\n",
              "    <tr>\n",
              "      <th>3</th>\n",
              "      <td>ABW</td>\n",
              "      <td>North America</td>\n",
              "      <td>Aruba</td>\n",
              "      <td>2020-03-25</td>\n",
              "      <td>17.0</td>\n",
              "      <td>5.0</td>\n",
              "      <td>0.0</td>\n",
              "      <td>0.0</td>\n",
              "      <td>159.227</td>\n",
              "      <td>46.831</td>\n",
              "      <td>0.0</td>\n",
              "      <td>0.0</td>\n",
              "      <td>NaN</td>\n",
              "      <td>NaN</td>\n",
              "      <td>NaN</td>\n",
              "      <td>NaN</td>\n",
              "      <td>NaN</td>\n",
              "      <td>NaN</td>\n",
              "      <td>NaN</td>\n",
              "      <td>NaN</td>\n",
              "      <td>NaN</td>\n",
              "      <td>44.44</td>\n",
              "      <td>106766.0</td>\n",
              "      <td>584.8</td>\n",
              "      <td>41.2</td>\n",
              "      <td>13.085</td>\n",
              "      <td>7.452</td>\n",
              "      <td>35973.781</td>\n",
              "      <td>NaN</td>\n",
              "      <td>NaN</td>\n",
              "      <td>11.62</td>\n",
              "      <td>NaN</td>\n",
              "      <td>NaN</td>\n",
              "      <td>NaN</td>\n",
              "      <td>NaN</td>\n",
              "      <td>76.29</td>\n",
              "    </tr>\n",
              "    <tr>\n",
              "      <th>4</th>\n",
              "      <td>ABW</td>\n",
              "      <td>North America</td>\n",
              "      <td>Aruba</td>\n",
              "      <td>2020-03-26</td>\n",
              "      <td>19.0</td>\n",
              "      <td>2.0</td>\n",
              "      <td>0.0</td>\n",
              "      <td>0.0</td>\n",
              "      <td>177.959</td>\n",
              "      <td>18.733</td>\n",
              "      <td>0.0</td>\n",
              "      <td>0.0</td>\n",
              "      <td>NaN</td>\n",
              "      <td>NaN</td>\n",
              "      <td>NaN</td>\n",
              "      <td>NaN</td>\n",
              "      <td>NaN</td>\n",
              "      <td>NaN</td>\n",
              "      <td>NaN</td>\n",
              "      <td>NaN</td>\n",
              "      <td>NaN</td>\n",
              "      <td>44.44</td>\n",
              "      <td>106766.0</td>\n",
              "      <td>584.8</td>\n",
              "      <td>41.2</td>\n",
              "      <td>13.085</td>\n",
              "      <td>7.452</td>\n",
              "      <td>35973.781</td>\n",
              "      <td>NaN</td>\n",
              "      <td>NaN</td>\n",
              "      <td>11.62</td>\n",
              "      <td>NaN</td>\n",
              "      <td>NaN</td>\n",
              "      <td>NaN</td>\n",
              "      <td>NaN</td>\n",
              "      <td>76.29</td>\n",
              "    </tr>\n",
              "  </tbody>\n",
              "</table>\n",
              "</div>"
            ],
            "text/plain": [
              "  iso_code      continent  ... hospital_beds_per_thousand life_expectancy\n",
              "0      ABW  North America  ...                        NaN           76.29\n",
              "1      ABW  North America  ...                        NaN           76.29\n",
              "2      ABW  North America  ...                        NaN           76.29\n",
              "3      ABW  North America  ...                        NaN           76.29\n",
              "4      ABW  North America  ...                        NaN           76.29\n",
              "\n",
              "[5 rows x 36 columns]"
            ]
          },
          "metadata": {
            "tags": []
          },
          "execution_count": 84
        }
      ]
    },
    {
      "cell_type": "code",
      "metadata": {
        "id": "aYBFYnKtiIkQ",
        "colab_type": "code",
        "colab": {
          "base_uri": "https://localhost:8080/",
          "height": 204
        },
        "outputId": "bc7e36aa-baa8-4ed8-df70-a7c099f8e518"
      },
      "source": [
        "# Trying to isolate location/country based on currency in question\n",
        "us_death_rates = covid_dataset.loc[covid_dataset.location=='United States', ['location', 'date', 'total_cases', 'total_deaths']]\n",
        "us_death_rates.head()"
      ],
      "execution_count": null,
      "outputs": [
        {
          "output_type": "execute_result",
          "data": {
            "text/html": [
              "<div>\n",
              "<style scoped>\n",
              "    .dataframe tbody tr th:only-of-type {\n",
              "        vertical-align: middle;\n",
              "    }\n",
              "\n",
              "    .dataframe tbody tr th {\n",
              "        vertical-align: top;\n",
              "    }\n",
              "\n",
              "    .dataframe thead th {\n",
              "        text-align: right;\n",
              "    }\n",
              "</style>\n",
              "<table border=\"1\" class=\"dataframe\">\n",
              "  <thead>\n",
              "    <tr style=\"text-align: right;\">\n",
              "      <th></th>\n",
              "      <th>location</th>\n",
              "      <th>date</th>\n",
              "      <th>total_cases</th>\n",
              "      <th>total_deaths</th>\n",
              "    </tr>\n",
              "  </thead>\n",
              "  <tbody>\n",
              "    <tr>\n",
              "      <th>32403</th>\n",
              "      <td>United States</td>\n",
              "      <td>2019-12-31</td>\n",
              "      <td>0.0</td>\n",
              "      <td>0.0</td>\n",
              "    </tr>\n",
              "    <tr>\n",
              "      <th>32404</th>\n",
              "      <td>United States</td>\n",
              "      <td>2020-01-01</td>\n",
              "      <td>0.0</td>\n",
              "      <td>0.0</td>\n",
              "    </tr>\n",
              "    <tr>\n",
              "      <th>32405</th>\n",
              "      <td>United States</td>\n",
              "      <td>2020-01-02</td>\n",
              "      <td>0.0</td>\n",
              "      <td>0.0</td>\n",
              "    </tr>\n",
              "    <tr>\n",
              "      <th>32406</th>\n",
              "      <td>United States</td>\n",
              "      <td>2020-01-03</td>\n",
              "      <td>0.0</td>\n",
              "      <td>0.0</td>\n",
              "    </tr>\n",
              "    <tr>\n",
              "      <th>32407</th>\n",
              "      <td>United States</td>\n",
              "      <td>2020-01-04</td>\n",
              "      <td>0.0</td>\n",
              "      <td>0.0</td>\n",
              "    </tr>\n",
              "  </tbody>\n",
              "</table>\n",
              "</div>"
            ],
            "text/plain": [
              "            location        date  total_cases  total_deaths\n",
              "32403  United States  2019-12-31          0.0           0.0\n",
              "32404  United States  2020-01-01          0.0           0.0\n",
              "32405  United States  2020-01-02          0.0           0.0\n",
              "32406  United States  2020-01-03          0.0           0.0\n",
              "32407  United States  2020-01-04          0.0           0.0"
            ]
          },
          "metadata": {
            "tags": []
          },
          "execution_count": 85
        }
      ]
    },
    {
      "cell_type": "code",
      "metadata": {
        "id": "F3wvK4d2kvti",
        "colab_type": "code",
        "colab": {
          "base_uri": "https://localhost:8080/",
          "height": 35
        },
        "outputId": "3aa75e0a-9516-4185-cd80-aa0bd8337053"
      },
      "source": [
        "us_death_rates.shape"
      ],
      "execution_count": null,
      "outputs": [
        {
          "output_type": "execute_result",
          "data": {
            "text/plain": [
              "(218, 4)"
            ]
          },
          "metadata": {
            "tags": []
          },
          "execution_count": 86
        }
      ]
    },
    {
      "cell_type": "code",
      "metadata": {
        "id": "kIDXEXFDf4N5",
        "colab_type": "code",
        "colab": {
          "base_uri": "https://localhost:8080/",
          "height": 35
        },
        "outputId": "d2a7c658-e440-4268-be24-cadd846a0943"
      },
      "source": [
        "# Import forex\n",
        "forex_dataset_data= pd.read_csv('investing_with_doubles.csv', na_values = \"?\", comment='\\t', skipinitialspace=True)\n",
        "forex_dataset = forex_dataset_data.copy()\n",
        "# forex_dataset = forex_dataset_data.dropna()\n",
        "forex_dataset.shape"
      ],
      "execution_count": null,
      "outputs": [
        {
          "output_type": "execute_result",
          "data": {
            "text/plain": [
              "(213, 6)"
            ]
          },
          "metadata": {
            "tags": []
          },
          "execution_count": 87
        }
      ]
    },
    {
      "cell_type": "markdown",
      "metadata": {
        "id": "C53hVpItH0az",
        "colab_type": "text"
      },
      "source": [
        "# Data Preprocessing / Data Cleaning & Collating"
      ]
    },
    {
      "cell_type": "code",
      "metadata": {
        "id": "jIpYbWz2HxyG",
        "colab_type": "code",
        "colab": {
          "base_uri": "https://localhost:8080/",
          "height": 233
        },
        "outputId": "53a53240-730f-4e54-a2de-b7fe00c03e76"
      },
      "source": [
        "# Filter dataset\n",
        "forex_dataset.pop('Open')\n",
        "forex_dataset.pop('High')\n",
        "forex_dataset.pop('Low')\n",
        "forex_dataset.pop('Change %')"
      ],
      "execution_count": null,
      "outputs": [
        {
          "output_type": "execute_result",
          "data": {
            "text/plain": [
              "0      -0.04%\n",
              "1       0.76%\n",
              "2       0.49%\n",
              "3       0.38%\n",
              "4       0.72%\n",
              "        ...  \n",
              "208     0.62%\n",
              "209    -0.44%\n",
              "210    -0.82%\n",
              "211    -0.05%\n",
              "212     1.11%\n",
              "Name: Change %, Length: 213, dtype: object"
            ]
          },
          "metadata": {
            "tags": []
          },
          "execution_count": 88
        }
      ]
    },
    {
      "cell_type": "code",
      "metadata": {
        "id": "oSzzjHJxi5D4",
        "colab_type": "code",
        "colab": {
          "base_uri": "https://localhost:8080/",
          "height": 204
        },
        "outputId": "d8d5c706-e5dc-404f-b3a3-0a51cf9d816b"
      },
      "source": [
        "forex_dataset.tail() # Dec 31 2019 - Jul 31, 2020 = 153 Rows"
      ],
      "execution_count": null,
      "outputs": [
        {
          "output_type": "execute_result",
          "data": {
            "text/html": [
              "<div>\n",
              "<style scoped>\n",
              "    .dataframe tbody tr th:only-of-type {\n",
              "        vertical-align: middle;\n",
              "    }\n",
              "\n",
              "    .dataframe tbody tr th {\n",
              "        vertical-align: top;\n",
              "    }\n",
              "\n",
              "    .dataframe thead th {\n",
              "        text-align: right;\n",
              "    }\n",
              "</style>\n",
              "<table border=\"1\" class=\"dataframe\">\n",
              "  <thead>\n",
              "    <tr style=\"text-align: right;\">\n",
              "      <th></th>\n",
              "      <th>Date</th>\n",
              "      <th>Price</th>\n",
              "    </tr>\n",
              "  </thead>\n",
              "  <tbody>\n",
              "    <tr>\n",
              "      <th>208</th>\n",
              "      <td>Jan 04, 2020</td>\n",
              "      <td>1.3169</td>\n",
              "    </tr>\n",
              "    <tr>\n",
              "      <th>209</th>\n",
              "      <td>Jan 03, 2020</td>\n",
              "      <td>1.3088</td>\n",
              "    </tr>\n",
              "    <tr>\n",
              "      <th>210</th>\n",
              "      <td>Jan 02, 2020</td>\n",
              "      <td>1.3146</td>\n",
              "    </tr>\n",
              "    <tr>\n",
              "      <th>211</th>\n",
              "      <td>Jan 01, 2020</td>\n",
              "      <td>1.3255</td>\n",
              "    </tr>\n",
              "    <tr>\n",
              "      <th>212</th>\n",
              "      <td>Dec 31, 2019</td>\n",
              "      <td>1.3261</td>\n",
              "    </tr>\n",
              "  </tbody>\n",
              "</table>\n",
              "</div>"
            ],
            "text/plain": [
              "             Date   Price\n",
              "208  Jan 04, 2020  1.3169\n",
              "209  Jan 03, 2020  1.3088\n",
              "210  Jan 02, 2020  1.3146\n",
              "211  Jan 01, 2020  1.3255\n",
              "212  Dec 31, 2019  1.3261"
            ]
          },
          "metadata": {
            "tags": []
          },
          "execution_count": 89
        }
      ]
    },
    {
      "cell_type": "code",
      "metadata": {
        "id": "vrVetfeGgSm7",
        "colab_type": "code",
        "colab": {
          "base_uri": "https://localhost:8080/",
          "height": 204
        },
        "outputId": "b84f66de-2ee3-46a5-b221-2d37304cbb02"
      },
      "source": [
        "# Isolate covid_date\n",
        "import time \n",
        "us_date = us_death_rates['date']\n",
        "new_us_dates = [time.strptime(x.replace(\"-\",\" \"), '%Y %m %d')for x in us_date]\n",
        "us_death_rates['date'] = new_us_dates\n",
        "us_death_rates.head()\n"
      ],
      "execution_count": null,
      "outputs": [
        {
          "output_type": "execute_result",
          "data": {
            "text/html": [
              "<div>\n",
              "<style scoped>\n",
              "    .dataframe tbody tr th:only-of-type {\n",
              "        vertical-align: middle;\n",
              "    }\n",
              "\n",
              "    .dataframe tbody tr th {\n",
              "        vertical-align: top;\n",
              "    }\n",
              "\n",
              "    .dataframe thead th {\n",
              "        text-align: right;\n",
              "    }\n",
              "</style>\n",
              "<table border=\"1\" class=\"dataframe\">\n",
              "  <thead>\n",
              "    <tr style=\"text-align: right;\">\n",
              "      <th></th>\n",
              "      <th>location</th>\n",
              "      <th>date</th>\n",
              "      <th>total_cases</th>\n",
              "      <th>total_deaths</th>\n",
              "    </tr>\n",
              "  </thead>\n",
              "  <tbody>\n",
              "    <tr>\n",
              "      <th>32403</th>\n",
              "      <td>United States</td>\n",
              "      <td>(2019, 12, 31, 0, 0, 0, 1, 365, -1)</td>\n",
              "      <td>0.0</td>\n",
              "      <td>0.0</td>\n",
              "    </tr>\n",
              "    <tr>\n",
              "      <th>32404</th>\n",
              "      <td>United States</td>\n",
              "      <td>(2020, 1, 1, 0, 0, 0, 2, 1, -1)</td>\n",
              "      <td>0.0</td>\n",
              "      <td>0.0</td>\n",
              "    </tr>\n",
              "    <tr>\n",
              "      <th>32405</th>\n",
              "      <td>United States</td>\n",
              "      <td>(2020, 1, 2, 0, 0, 0, 3, 2, -1)</td>\n",
              "      <td>0.0</td>\n",
              "      <td>0.0</td>\n",
              "    </tr>\n",
              "    <tr>\n",
              "      <th>32406</th>\n",
              "      <td>United States</td>\n",
              "      <td>(2020, 1, 3, 0, 0, 0, 4, 3, -1)</td>\n",
              "      <td>0.0</td>\n",
              "      <td>0.0</td>\n",
              "    </tr>\n",
              "    <tr>\n",
              "      <th>32407</th>\n",
              "      <td>United States</td>\n",
              "      <td>(2020, 1, 4, 0, 0, 0, 5, 4, -1)</td>\n",
              "      <td>0.0</td>\n",
              "      <td>0.0</td>\n",
              "    </tr>\n",
              "  </tbody>\n",
              "</table>\n",
              "</div>"
            ],
            "text/plain": [
              "            location  ... total_deaths\n",
              "32403  United States  ...          0.0\n",
              "32404  United States  ...          0.0\n",
              "32405  United States  ...          0.0\n",
              "32406  United States  ...          0.0\n",
              "32407  United States  ...          0.0\n",
              "\n",
              "[5 rows x 4 columns]"
            ]
          },
          "metadata": {
            "tags": []
          },
          "execution_count": 90
        }
      ]
    },
    {
      "cell_type": "code",
      "metadata": {
        "id": "IGR0p0YWh9jH",
        "colab_type": "code",
        "colab": {
          "base_uri": "https://localhost:8080/",
          "height": 204
        },
        "outputId": "1fc9909e-5e95-4ffd-eb25-4f1403d94fef"
      },
      "source": [
        "# Isolate forex_date\n",
        "import time \n",
        "forex_date = forex_dataset['Date']\n",
        "new_forex_dates = [time.strptime(x.replace(',', \"\"), '%b %d %Y')for x in forex_date]\n",
        "forex_dataset['Date'] = new_forex_dates\n",
        "forex_dataset.tail()\n"
      ],
      "execution_count": null,
      "outputs": [
        {
          "output_type": "execute_result",
          "data": {
            "text/html": [
              "<div>\n",
              "<style scoped>\n",
              "    .dataframe tbody tr th:only-of-type {\n",
              "        vertical-align: middle;\n",
              "    }\n",
              "\n",
              "    .dataframe tbody tr th {\n",
              "        vertical-align: top;\n",
              "    }\n",
              "\n",
              "    .dataframe thead th {\n",
              "        text-align: right;\n",
              "    }\n",
              "</style>\n",
              "<table border=\"1\" class=\"dataframe\">\n",
              "  <thead>\n",
              "    <tr style=\"text-align: right;\">\n",
              "      <th></th>\n",
              "      <th>Date</th>\n",
              "      <th>Price</th>\n",
              "    </tr>\n",
              "  </thead>\n",
              "  <tbody>\n",
              "    <tr>\n",
              "      <th>208</th>\n",
              "      <td>(2020, 1, 4, 0, 0, 0, 5, 4, -1)</td>\n",
              "      <td>1.3169</td>\n",
              "    </tr>\n",
              "    <tr>\n",
              "      <th>209</th>\n",
              "      <td>(2020, 1, 3, 0, 0, 0, 4, 3, -1)</td>\n",
              "      <td>1.3088</td>\n",
              "    </tr>\n",
              "    <tr>\n",
              "      <th>210</th>\n",
              "      <td>(2020, 1, 2, 0, 0, 0, 3, 2, -1)</td>\n",
              "      <td>1.3146</td>\n",
              "    </tr>\n",
              "    <tr>\n",
              "      <th>211</th>\n",
              "      <td>(2020, 1, 1, 0, 0, 0, 2, 1, -1)</td>\n",
              "      <td>1.3255</td>\n",
              "    </tr>\n",
              "    <tr>\n",
              "      <th>212</th>\n",
              "      <td>(2019, 12, 31, 0, 0, 0, 1, 365, -1)</td>\n",
              "      <td>1.3261</td>\n",
              "    </tr>\n",
              "  </tbody>\n",
              "</table>\n",
              "</div>"
            ],
            "text/plain": [
              "                                    Date   Price\n",
              "208      (2020, 1, 4, 0, 0, 0, 5, 4, -1)  1.3169\n",
              "209      (2020, 1, 3, 0, 0, 0, 4, 3, -1)  1.3088\n",
              "210      (2020, 1, 2, 0, 0, 0, 3, 2, -1)  1.3146\n",
              "211      (2020, 1, 1, 0, 0, 0, 2, 1, -1)  1.3255\n",
              "212  (2019, 12, 31, 0, 0, 0, 1, 365, -1)  1.3261"
            ]
          },
          "metadata": {
            "tags": []
          },
          "execution_count": 91
        }
      ]
    },
    {
      "cell_type": "code",
      "metadata": {
        "id": "OiFVDAF0ngrx",
        "colab_type": "code",
        "colab": {
          "base_uri": "https://localhost:8080/",
          "height": 35
        },
        "outputId": "442ed1ec-992d-4ae6-e4ac-6f6c70d8d252"
      },
      "source": [
        "# Merging dates from two tables\n",
        "dataset = pd.merge(left=forex_dataset, left_on='Date',\n",
        "         right=us_death_rates, right_on='date')\n",
        "dataset.tail()\n",
        "len(dataset)"
      ],
      "execution_count": null,
      "outputs": [
        {
          "output_type": "execute_result",
          "data": {
            "text/plain": [
              "213"
            ]
          },
          "metadata": {
            "tags": []
          },
          "execution_count": 92
        }
      ]
    },
    {
      "cell_type": "code",
      "metadata": {
        "id": "a9A_G1s9ETvi",
        "colab_type": "code",
        "colab": {
          "base_uri": "https://localhost:8080/",
          "height": 233
        },
        "outputId": "a5f72c6b-7cf0-44c1-b776-2ac396c7d31c"
      },
      "source": [
        "# We pop the 'date' from the covid_dataset because this column starts later than the forex column\n",
        "# We want to see the forex price before covid happened\n",
        "dataset.pop('date')"
      ],
      "execution_count": null,
      "outputs": [
        {
          "output_type": "execute_result",
          "data": {
            "text/plain": [
              "0       (2020, 7, 31, 0, 0, 0, 4, 213, -1)\n",
              "1       (2020, 7, 30, 0, 0, 0, 3, 212, -1)\n",
              "2       (2020, 7, 29, 0, 0, 0, 2, 211, -1)\n",
              "3       (2020, 7, 28, 0, 0, 0, 1, 210, -1)\n",
              "4       (2020, 7, 27, 0, 0, 0, 0, 209, -1)\n",
              "                      ...                 \n",
              "208        (2020, 1, 4, 0, 0, 0, 5, 4, -1)\n",
              "209        (2020, 1, 3, 0, 0, 0, 4, 3, -1)\n",
              "210        (2020, 1, 2, 0, 0, 0, 3, 2, -1)\n",
              "211        (2020, 1, 1, 0, 0, 0, 2, 1, -1)\n",
              "212    (2019, 12, 31, 0, 0, 0, 1, 365, -1)\n",
              "Name: date, Length: 213, dtype: object"
            ]
          },
          "metadata": {
            "tags": []
          },
          "execution_count": 93
        }
      ]
    },
    {
      "cell_type": "code",
      "metadata": {
        "id": "Rz0-4V24EY65",
        "colab_type": "code",
        "colab": {
          "base_uri": "https://localhost:8080/",
          "height": 204
        },
        "outputId": "e1516021-dce7-4eac-9b16-172a73a1f805"
      },
      "source": [
        "# Problem: \t(2020, 7, 31) when head\n",
        "dataset.head()"
      ],
      "execution_count": null,
      "outputs": [
        {
          "output_type": "execute_result",
          "data": {
            "text/html": [
              "<div>\n",
              "<style scoped>\n",
              "    .dataframe tbody tr th:only-of-type {\n",
              "        vertical-align: middle;\n",
              "    }\n",
              "\n",
              "    .dataframe tbody tr th {\n",
              "        vertical-align: top;\n",
              "    }\n",
              "\n",
              "    .dataframe thead th {\n",
              "        text-align: right;\n",
              "    }\n",
              "</style>\n",
              "<table border=\"1\" class=\"dataframe\">\n",
              "  <thead>\n",
              "    <tr style=\"text-align: right;\">\n",
              "      <th></th>\n",
              "      <th>Date</th>\n",
              "      <th>Price</th>\n",
              "      <th>location</th>\n",
              "      <th>total_cases</th>\n",
              "      <th>total_deaths</th>\n",
              "    </tr>\n",
              "  </thead>\n",
              "  <tbody>\n",
              "    <tr>\n",
              "      <th>0</th>\n",
              "      <td>(2020, 7, 31, 0, 0, 0, 4, 213, -1)</td>\n",
              "      <td>1.3090</td>\n",
              "      <td>United States</td>\n",
              "      <td>4495014.0</td>\n",
              "      <td>152070.0</td>\n",
              "    </tr>\n",
              "    <tr>\n",
              "      <th>1</th>\n",
              "      <td>(2020, 7, 30, 0, 0, 0, 3, 212, -1)</td>\n",
              "      <td>1.3095</td>\n",
              "      <td>United States</td>\n",
              "      <td>4426982.0</td>\n",
              "      <td>150713.0</td>\n",
              "    </tr>\n",
              "    <tr>\n",
              "      <th>2</th>\n",
              "      <td>(2020, 7, 29, 0, 0, 0, 2, 211, -1)</td>\n",
              "      <td>1.2996</td>\n",
              "      <td>United States</td>\n",
              "      <td>4351997.0</td>\n",
              "      <td>149256.0</td>\n",
              "    </tr>\n",
              "    <tr>\n",
              "      <th>3</th>\n",
              "      <td>(2020, 7, 28, 0, 0, 0, 1, 210, -1)</td>\n",
              "      <td>1.2932</td>\n",
              "      <td>United States</td>\n",
              "      <td>4290263.0</td>\n",
              "      <td>148011.0</td>\n",
              "    </tr>\n",
              "    <tr>\n",
              "      <th>4</th>\n",
              "      <td>(2020, 7, 27, 0, 0, 0, 0, 209, -1)</td>\n",
              "      <td>1.2882</td>\n",
              "      <td>United States</td>\n",
              "      <td>4234020.0</td>\n",
              "      <td>146935.0</td>\n",
              "    </tr>\n",
              "  </tbody>\n",
              "</table>\n",
              "</div>"
            ],
            "text/plain": [
              "                                 Date   Price  ... total_cases  total_deaths\n",
              "0  (2020, 7, 31, 0, 0, 0, 4, 213, -1)  1.3090  ...   4495014.0      152070.0\n",
              "1  (2020, 7, 30, 0, 0, 0, 3, 212, -1)  1.3095  ...   4426982.0      150713.0\n",
              "2  (2020, 7, 29, 0, 0, 0, 2, 211, -1)  1.2996  ...   4351997.0      149256.0\n",
              "3  (2020, 7, 28, 0, 0, 0, 1, 210, -1)  1.2932  ...   4290263.0      148011.0\n",
              "4  (2020, 7, 27, 0, 0, 0, 0, 209, -1)  1.2882  ...   4234020.0      146935.0\n",
              "\n",
              "[5 rows x 5 columns]"
            ]
          },
          "metadata": {
            "tags": []
          },
          "execution_count": 94
        }
      ]
    },
    {
      "cell_type": "code",
      "metadata": {
        "id": "IQww6-B7ZfX0",
        "colab_type": "code",
        "colab": {
          "base_uri": "https://localhost:8080/",
          "height": 204
        },
        "outputId": "80bf0beb-44d1-4bae-f717-bd66291002b6"
      },
      "source": [
        "dataset.tail()"
      ],
      "execution_count": null,
      "outputs": [
        {
          "output_type": "execute_result",
          "data": {
            "text/html": [
              "<div>\n",
              "<style scoped>\n",
              "    .dataframe tbody tr th:only-of-type {\n",
              "        vertical-align: middle;\n",
              "    }\n",
              "\n",
              "    .dataframe tbody tr th {\n",
              "        vertical-align: top;\n",
              "    }\n",
              "\n",
              "    .dataframe thead th {\n",
              "        text-align: right;\n",
              "    }\n",
              "</style>\n",
              "<table border=\"1\" class=\"dataframe\">\n",
              "  <thead>\n",
              "    <tr style=\"text-align: right;\">\n",
              "      <th></th>\n",
              "      <th>Date</th>\n",
              "      <th>Price</th>\n",
              "      <th>location</th>\n",
              "      <th>total_cases</th>\n",
              "      <th>total_deaths</th>\n",
              "    </tr>\n",
              "  </thead>\n",
              "  <tbody>\n",
              "    <tr>\n",
              "      <th>208</th>\n",
              "      <td>(2020, 1, 4, 0, 0, 0, 5, 4, -1)</td>\n",
              "      <td>1.3169</td>\n",
              "      <td>United States</td>\n",
              "      <td>0.0</td>\n",
              "      <td>0.0</td>\n",
              "    </tr>\n",
              "    <tr>\n",
              "      <th>209</th>\n",
              "      <td>(2020, 1, 3, 0, 0, 0, 4, 3, -1)</td>\n",
              "      <td>1.3088</td>\n",
              "      <td>United States</td>\n",
              "      <td>0.0</td>\n",
              "      <td>0.0</td>\n",
              "    </tr>\n",
              "    <tr>\n",
              "      <th>210</th>\n",
              "      <td>(2020, 1, 2, 0, 0, 0, 3, 2, -1)</td>\n",
              "      <td>1.3146</td>\n",
              "      <td>United States</td>\n",
              "      <td>0.0</td>\n",
              "      <td>0.0</td>\n",
              "    </tr>\n",
              "    <tr>\n",
              "      <th>211</th>\n",
              "      <td>(2020, 1, 1, 0, 0, 0, 2, 1, -1)</td>\n",
              "      <td>1.3255</td>\n",
              "      <td>United States</td>\n",
              "      <td>0.0</td>\n",
              "      <td>0.0</td>\n",
              "    </tr>\n",
              "    <tr>\n",
              "      <th>212</th>\n",
              "      <td>(2019, 12, 31, 0, 0, 0, 1, 365, -1)</td>\n",
              "      <td>1.3261</td>\n",
              "      <td>United States</td>\n",
              "      <td>0.0</td>\n",
              "      <td>0.0</td>\n",
              "    </tr>\n",
              "  </tbody>\n",
              "</table>\n",
              "</div>"
            ],
            "text/plain": [
              "                                    Date   Price  ... total_cases  total_deaths\n",
              "208      (2020, 1, 4, 0, 0, 0, 5, 4, -1)  1.3169  ...         0.0           0.0\n",
              "209      (2020, 1, 3, 0, 0, 0, 4, 3, -1)  1.3088  ...         0.0           0.0\n",
              "210      (2020, 1, 2, 0, 0, 0, 3, 2, -1)  1.3146  ...         0.0           0.0\n",
              "211      (2020, 1, 1, 0, 0, 0, 2, 1, -1)  1.3255  ...         0.0           0.0\n",
              "212  (2019, 12, 31, 0, 0, 0, 1, 365, -1)  1.3261  ...         0.0           0.0\n",
              "\n",
              "[5 rows x 5 columns]"
            ]
          },
          "metadata": {
            "tags": []
          },
          "execution_count": 95
        }
      ]
    },
    {
      "cell_type": "code",
      "metadata": {
        "id": "I9kHcA_4tAqL",
        "colab_type": "code",
        "colab": {
          "base_uri": "https://localhost:8080/",
          "height": 125
        },
        "outputId": "8ee082b0-3899-459e-b11a-34c9c4a1fde2"
      },
      "source": [
        "# View what date looks like\n",
        "date = dataset['Date']\n",
        "date.head()"
      ],
      "execution_count": null,
      "outputs": [
        {
          "output_type": "execute_result",
          "data": {
            "text/plain": [
              "0    (2020, 7, 31, 0, 0, 0, 4, 213, -1)\n",
              "1    (2020, 7, 30, 0, 0, 0, 3, 212, -1)\n",
              "2    (2020, 7, 29, 0, 0, 0, 2, 211, -1)\n",
              "3    (2020, 7, 28, 0, 0, 0, 1, 210, -1)\n",
              "4    (2020, 7, 27, 0, 0, 0, 0, 209, -1)\n",
              "Name: Date, dtype: object"
            ]
          },
          "metadata": {
            "tags": []
          },
          "execution_count": 96
        }
      ]
    },
    {
      "cell_type": "code",
      "metadata": {
        "id": "uDcfZ05jYR2l",
        "colab_type": "code",
        "colab": {
          "base_uri": "https://localhost:8080/",
          "height": 269
        },
        "outputId": "14be7772-6030-4642-cfce-8f2294d7b855"
      },
      "source": [
        "# Splitting timestamp and isolating the date\n",
        "dateFormatting = pd.DataFrame({'new_date': pd.date_range('2019-12-31', '2020-07-31', periods=len(date))})\n",
        "print(dateFormatting)\n"
      ],
      "execution_count": null,
      "outputs": [
        {
          "output_type": "stream",
          "text": [
            "                         new_date\n",
            "0   2019-12-31 00:00:00.000000000\n",
            "1   2020-01-01 00:06:47.547169811\n",
            "2   2020-01-02 00:13:35.094339622\n",
            "3   2020-01-03 00:20:22.641509434\n",
            "4   2020-01-04 00:27:10.188679245\n",
            "..                            ...\n",
            "208 2020-07-26 23:32:49.811320756\n",
            "209 2020-07-27 23:39:37.358490568\n",
            "210 2020-07-28 23:46:24.905660380\n",
            "211 2020-07-29 23:53:12.452830192\n",
            "212 2020-07-31 00:00:00.000000000\n",
            "\n",
            "[213 rows x 1 columns]\n"
          ],
          "name": "stdout"
        }
      ]
    },
    {
      "cell_type": "code",
      "metadata": {
        "id": "Tav3LALn4KN2",
        "colab_type": "code",
        "colab": {
          "base_uri": "https://localhost:8080/",
          "height": 55
        },
        "outputId": "145376fb-102b-4566-f8bd-baf9e2c53c82"
      },
      "source": [
        "# Convert date to list so that we can use the dates to plot on graph\n",
        "my_xticks = dateFormatting['new_date'].tolist()\n",
        "print(my_xticks)"
      ],
      "execution_count": null,
      "outputs": [
        {
          "output_type": "stream",
          "text": [
            "[Timestamp('2019-12-31 00:00:00'), Timestamp('2020-01-01 00:06:47.547169811'), Timestamp('2020-01-02 00:13:35.094339622'), Timestamp('2020-01-03 00:20:22.641509434'), Timestamp('2020-01-04 00:27:10.188679245'), Timestamp('2020-01-05 00:33:57.735849056'), Timestamp('2020-01-06 00:40:45.283018868'), Timestamp('2020-01-07 00:47:32.830188679'), Timestamp('2020-01-08 00:54:20.377358490'), Timestamp('2020-01-09 01:01:07.924528302'), Timestamp('2020-01-10 01:07:55.471698113'), Timestamp('2020-01-11 01:14:43.018867924'), Timestamp('2020-01-12 01:21:30.566037736'), Timestamp('2020-01-13 01:28:18.113207547'), Timestamp('2020-01-14 01:35:05.660377358'), Timestamp('2020-01-15 01:41:53.207547170'), Timestamp('2020-01-16 01:48:40.754716981'), Timestamp('2020-01-17 01:55:28.301886792'), Timestamp('2020-01-18 02:02:15.849056604'), Timestamp('2020-01-19 02:09:03.396226415'), Timestamp('2020-01-20 02:15:50.943396226'), Timestamp('2020-01-21 02:22:38.490566038'), Timestamp('2020-01-22 02:29:26.037735849'), Timestamp('2020-01-23 02:36:13.584905660'), Timestamp('2020-01-24 02:43:01.132075472'), Timestamp('2020-01-25 02:49:48.679245283'), Timestamp('2020-01-26 02:56:36.226415094'), Timestamp('2020-01-27 03:03:23.773584906'), Timestamp('2020-01-28 03:10:11.320754717'), Timestamp('2020-01-29 03:16:58.867924528'), Timestamp('2020-01-30 03:23:46.415094340'), Timestamp('2020-01-31 03:30:33.962264151'), Timestamp('2020-02-01 03:37:21.509433962'), Timestamp('2020-02-02 03:44:09.056603774'), Timestamp('2020-02-03 03:50:56.603773585'), Timestamp('2020-02-04 03:57:44.150943396'), Timestamp('2020-02-05 04:04:31.698113208'), Timestamp('2020-02-06 04:11:19.245283019'), Timestamp('2020-02-07 04:18:06.792452830'), Timestamp('2020-02-08 04:24:54.339622642'), Timestamp('2020-02-09 04:31:41.886792453'), Timestamp('2020-02-10 04:38:29.433962264'), Timestamp('2020-02-11 04:45:16.981132076'), Timestamp('2020-02-12 04:52:04.528301887'), Timestamp('2020-02-13 04:58:52.075471698'), Timestamp('2020-02-14 05:05:39.622641510'), Timestamp('2020-02-15 05:12:27.169811321'), Timestamp('2020-02-16 05:19:14.716981132'), Timestamp('2020-02-17 05:26:02.264150944'), Timestamp('2020-02-18 05:32:49.811320755'), Timestamp('2020-02-19 05:39:37.358490566'), Timestamp('2020-02-20 05:46:24.905660377'), Timestamp('2020-02-21 05:53:12.452830189'), Timestamp('2020-02-22 06:00:00'), Timestamp('2020-02-23 06:06:47.547169812'), Timestamp('2020-02-24 06:13:35.094339623'), Timestamp('2020-02-25 06:20:22.641509434'), Timestamp('2020-02-26 06:27:10.188679246'), Timestamp('2020-02-27 06:33:57.735849057'), Timestamp('2020-02-28 06:40:45.283018868'), Timestamp('2020-02-29 06:47:32.830188680'), Timestamp('2020-03-01 06:54:20.377358491'), Timestamp('2020-03-02 07:01:07.924528302'), Timestamp('2020-03-03 07:07:55.471698114'), Timestamp('2020-03-04 07:14:43.018867925'), Timestamp('2020-03-05 07:21:30.566037736'), Timestamp('2020-03-06 07:28:18.113207548'), Timestamp('2020-03-07 07:35:05.660377359'), Timestamp('2020-03-08 07:41:53.207547170'), Timestamp('2020-03-09 07:48:40.754716982'), Timestamp('2020-03-10 07:55:28.301886793'), Timestamp('2020-03-11 08:02:15.849056604'), Timestamp('2020-03-12 08:09:03.396226416'), Timestamp('2020-03-13 08:15:50.943396227'), Timestamp('2020-03-14 08:22:38.490566038'), Timestamp('2020-03-15 08:29:26.037735850'), Timestamp('2020-03-16 08:36:13.584905661'), Timestamp('2020-03-17 08:43:01.132075472'), Timestamp('2020-03-18 08:49:48.679245284'), Timestamp('2020-03-19 08:56:36.226415095'), Timestamp('2020-03-20 09:03:23.773584906'), Timestamp('2020-03-21 09:10:11.320754718'), Timestamp('2020-03-22 09:16:58.867924529'), Timestamp('2020-03-23 09:23:46.415094340'), Timestamp('2020-03-24 09:30:33.962264152'), Timestamp('2020-03-25 09:37:21.509433963'), Timestamp('2020-03-26 09:44:09.056603774'), Timestamp('2020-03-27 09:50:56.603773586'), Timestamp('2020-03-28 09:57:44.150943397'), Timestamp('2020-03-29 10:04:31.698113208'), Timestamp('2020-03-30 10:11:19.245283020'), Timestamp('2020-03-31 10:18:06.792452831'), Timestamp('2020-04-01 10:24:54.339622642'), Timestamp('2020-04-02 10:31:41.886792454'), Timestamp('2020-04-03 10:38:29.433962265'), Timestamp('2020-04-04 10:45:16.981132076'), Timestamp('2020-04-05 10:52:04.528301888'), Timestamp('2020-04-06 10:58:52.075471699'), Timestamp('2020-04-07 11:05:39.622641510'), Timestamp('2020-04-08 11:12:27.169811321'), Timestamp('2020-04-09 11:19:14.716981133'), Timestamp('2020-04-10 11:26:02.264150944'), Timestamp('2020-04-11 11:32:49.811320755'), Timestamp('2020-04-12 11:39:37.358490567'), Timestamp('2020-04-13 11:46:24.905660378'), Timestamp('2020-04-14 11:53:12.452830190'), Timestamp('2020-04-15 12:00:00'), Timestamp('2020-04-16 12:06:47.547169812'), Timestamp('2020-04-17 12:13:35.094339624'), Timestamp('2020-04-18 12:20:22.641509434'), Timestamp('2020-04-19 12:27:10.188679246'), Timestamp('2020-04-20 12:33:57.735849058'), Timestamp('2020-04-21 12:40:45.283018868'), Timestamp('2020-04-22 12:47:32.830188680'), Timestamp('2020-04-23 12:54:20.377358492'), Timestamp('2020-04-24 13:01:07.924528302'), Timestamp('2020-04-25 13:07:55.471698114'), Timestamp('2020-04-26 13:14:43.018867926'), Timestamp('2020-04-27 13:21:30.566037736'), Timestamp('2020-04-28 13:28:18.113207548'), Timestamp('2020-04-29 13:35:05.660377360'), Timestamp('2020-04-30 13:41:53.207547170'), Timestamp('2020-05-01 13:48:40.754716982'), Timestamp('2020-05-02 13:55:28.301886794'), Timestamp('2020-05-03 14:02:15.849056604'), Timestamp('2020-05-04 14:09:03.396226416'), Timestamp('2020-05-05 14:15:50.943396228'), Timestamp('2020-05-06 14:22:38.490566038'), Timestamp('2020-05-07 14:29:26.037735850'), Timestamp('2020-05-08 14:36:13.584905662'), Timestamp('2020-05-09 14:43:01.132075472'), Timestamp('2020-05-10 14:49:48.679245284'), Timestamp('2020-05-11 14:56:36.226415096'), Timestamp('2020-05-12 15:03:23.773584906'), Timestamp('2020-05-13 15:10:11.320754718'), Timestamp('2020-05-14 15:16:58.867924530'), Timestamp('2020-05-15 15:23:46.415094340'), Timestamp('2020-05-16 15:30:33.962264152'), Timestamp('2020-05-17 15:37:21.509433964'), Timestamp('2020-05-18 15:44:09.056603774'), Timestamp('2020-05-19 15:50:56.603773586'), Timestamp('2020-05-20 15:57:44.150943398'), Timestamp('2020-05-21 16:04:31.698113208'), Timestamp('2020-05-22 16:11:19.245283020'), Timestamp('2020-05-23 16:18:06.792452832'), Timestamp('2020-05-24 16:24:54.339622642'), Timestamp('2020-05-25 16:31:41.886792454'), Timestamp('2020-05-26 16:38:29.433962266'), Timestamp('2020-05-27 16:45:16.981132076'), Timestamp('2020-05-28 16:52:04.528301888'), Timestamp('2020-05-29 16:58:52.075471700'), Timestamp('2020-05-30 17:05:39.622641510'), Timestamp('2020-05-31 17:12:27.169811322'), Timestamp('2020-06-01 17:19:14.716981134'), Timestamp('2020-06-02 17:26:02.264150944'), Timestamp('2020-06-03 17:32:49.811320756'), Timestamp('2020-06-04 17:39:37.358490568'), Timestamp('2020-06-05 17:46:24.905660378'), Timestamp('2020-06-06 17:53:12.452830190'), Timestamp('2020-06-07 18:00:00.000000002'), Timestamp('2020-06-08 18:06:47.547169812'), Timestamp('2020-06-09 18:13:35.094339624'), Timestamp('2020-06-10 18:20:22.641509436'), Timestamp('2020-06-11 18:27:10.188679246'), Timestamp('2020-06-12 18:33:57.735849058'), Timestamp('2020-06-13 18:40:45.283018870'), Timestamp('2020-06-14 18:47:32.830188680'), Timestamp('2020-06-15 18:54:20.377358492'), Timestamp('2020-06-16 19:01:07.924528304'), Timestamp('2020-06-17 19:07:55.471698114'), Timestamp('2020-06-18 19:14:43.018867926'), Timestamp('2020-06-19 19:21:30.566037738'), Timestamp('2020-06-20 19:28:18.113207548'), Timestamp('2020-06-21 19:35:05.660377360'), Timestamp('2020-06-22 19:41:53.207547172'), Timestamp('2020-06-23 19:48:40.754716982'), Timestamp('2020-06-24 19:55:28.301886794'), Timestamp('2020-06-25 20:02:15.849056606'), Timestamp('2020-06-26 20:09:03.396226416'), Timestamp('2020-06-27 20:15:50.943396228'), Timestamp('2020-06-28 20:22:38.490566040'), Timestamp('2020-06-29 20:29:26.037735850'), Timestamp('2020-06-30 20:36:13.584905662'), Timestamp('2020-07-01 20:43:01.132075474'), Timestamp('2020-07-02 20:49:48.679245284'), Timestamp('2020-07-03 20:56:36.226415096'), Timestamp('2020-07-04 21:03:23.773584908'), Timestamp('2020-07-05 21:10:11.320754718'), Timestamp('2020-07-06 21:16:58.867924530'), Timestamp('2020-07-07 21:23:46.415094342'), Timestamp('2020-07-08 21:30:33.962264152'), Timestamp('2020-07-09 21:37:21.509433964'), Timestamp('2020-07-10 21:44:09.056603776'), Timestamp('2020-07-11 21:50:56.603773586'), Timestamp('2020-07-12 21:57:44.150943398'), Timestamp('2020-07-13 22:04:31.698113208'), Timestamp('2020-07-14 22:11:19.245283020'), Timestamp('2020-07-15 22:18:06.792452832'), Timestamp('2020-07-16 22:24:54.339622642'), Timestamp('2020-07-17 22:31:41.886792454'), Timestamp('2020-07-18 22:38:29.433962266'), Timestamp('2020-07-19 22:45:16.981132076'), Timestamp('2020-07-20 22:52:04.528301888'), Timestamp('2020-07-21 22:58:52.075471700'), Timestamp('2020-07-22 23:05:39.622641510'), Timestamp('2020-07-23 23:12:27.169811322'), Timestamp('2020-07-24 23:19:14.716981134'), Timestamp('2020-07-25 23:26:02.264150944'), Timestamp('2020-07-26 23:32:49.811320756'), Timestamp('2020-07-27 23:39:37.358490568'), Timestamp('2020-07-28 23:46:24.905660380'), Timestamp('2020-07-29 23:53:12.452830192'), Timestamp('2020-07-31 00:00:00')]\n"
          ],
          "name": "stdout"
        }
      ]
    },
    {
      "cell_type": "code",
      "metadata": {
        "id": "DeyD3C8dm1DM",
        "colab_type": "code",
        "colab": {
          "base_uri": "https://localhost:8080/",
          "height": 233
        },
        "outputId": "03d162f6-06cb-43ef-cfcc-ab5d79ba8cde"
      },
      "source": [
        "dataset['Date'] # 2020, 7, 31"
      ],
      "execution_count": null,
      "outputs": [
        {
          "output_type": "execute_result",
          "data": {
            "text/plain": [
              "0       (2020, 7, 31, 0, 0, 0, 4, 213, -1)\n",
              "1       (2020, 7, 30, 0, 0, 0, 3, 212, -1)\n",
              "2       (2020, 7, 29, 0, 0, 0, 2, 211, -1)\n",
              "3       (2020, 7, 28, 0, 0, 0, 1, 210, -1)\n",
              "4       (2020, 7, 27, 0, 0, 0, 0, 209, -1)\n",
              "                      ...                 \n",
              "208        (2020, 1, 4, 0, 0, 0, 5, 4, -1)\n",
              "209        (2020, 1, 3, 0, 0, 0, 4, 3, -1)\n",
              "210        (2020, 1, 2, 0, 0, 0, 3, 2, -1)\n",
              "211        (2020, 1, 1, 0, 0, 0, 2, 1, -1)\n",
              "212    (2019, 12, 31, 0, 0, 0, 1, 365, -1)\n",
              "Name: Date, Length: 213, dtype: object"
            ]
          },
          "metadata": {
            "tags": []
          },
          "execution_count": 99
        }
      ]
    },
    {
      "cell_type": "markdown",
      "metadata": {
        "id": "wvb8c8CBIOqM",
        "colab_type": "text"
      },
      "source": [
        "# Plotting Features before Normalisation"
      ]
    },
    {
      "cell_type": "code",
      "metadata": {
        "id": "eDGMN3GG6wOL",
        "colab_type": "code",
        "colab": {
          "base_uri": "https://localhost:8080/",
          "height": 398
        },
        "outputId": "19b76d28-e4df-4b71-a584-868698d7289f"
      },
      "source": [
        "# Plotted prices and dates\n",
        "# Notice how the dates start and end\n",
        "\n",
        "from datetime import datetime, timedelta\n",
        "from matplotlib import pyplot as plt\n",
        "from matplotlib import dates as mpl_dates\n",
        "plt.style.use('seaborn')\n",
        "from matplotlib import rcParams\n",
        "rcParams['figure.figsize'] = 15,6\n",
        "\n",
        "dates = np.array(dateFormatting['new_date'])\n",
        "price = np.array(dataset['Price'])\n",
        "plt.plot_date(dates,price, linestyle ='solid')\n",
        "plt.gcf().autofmt_xdate()\n",
        "date_format = mpl_dates.DateFormatter('%b,%d,%Y')\n",
        "plt.title('Time Series Price of USD compare to GBP')\n",
        "plt.xlabel('Date')\n",
        "plt.ylabel('Price')\n",
        "plt.gca().xaxis.set_major_formatter(date_format)"
      ],
      "execution_count": null,
      "outputs": [
        {
          "output_type": "display_data",
          "data": {
            "image/png": "[encoded data removed]",
            "text/plain": [
              "<Figure size 1080x432 with 1 Axes>"
            ]
          },
          "metadata": {
            "tags": []
          }
        }
      ]
    },
    {
      "cell_type": "code",
      "metadata": {
        "id": "Dqj88upVOPC9",
        "colab_type": "code",
        "colab": {
          "base_uri": "https://localhost:8080/",
          "height": 35
        },
        "outputId": "0252c3fb-9818-4a6e-e2f6-1d5ceafd024d"
      },
      "source": [
        "# print(price)\n",
        "test = np.array(dataset['total_deaths'])\n",
        "# print(test)\n",
        "price.shape\n",
        "# test.shape\n",
        "test = np.array(dataset['total_deaths'])\n",
        "list_arr = np.array(test)\n",
        "reversed_arr = list_arr[::-1]\n",
        "reversed_arr.shape\n",
        "price.shape"
      ],
      "execution_count": null,
      "outputs": [
        {
          "output_type": "execute_result",
          "data": {
            "text/plain": [
              "(213,)"
            ]
          },
          "metadata": {
            "tags": []
          },
          "execution_count": 101
        }
      ]
    },
    {
      "cell_type": "code",
      "metadata": {
        "id": "T30FJ5ONMRsa",
        "colab_type": "code",
        "colab": {}
      },
      "source": [
        "# Adds the accumulative deaths every day of a country\n",
        "# Problem – This needs to be sorted from the end since the way out data is set up - can this be made more efficient?\n",
        "total_us_deaths = dataset['total_deaths']\n",
        "list_arr = np.array(total_us_deaths)\n",
        "reversed_arr = list_arr[::-1]\n",
        "newDayDeaths = 0\n",
        "dayDeaths = []\n",
        "for currentday in reversed_arr:\n",
        "   newDayDeaths = currentday + newDayDeaths\n",
        "   dayDeaths.append(newDayDeaths)\n"
      ],
      "execution_count": null,
      "outputs": []
    },
    {
      "cell_type": "code",
      "metadata": {
        "id": "QyFwYb-WyPHq",
        "colab_type": "code",
        "colab": {}
      },
      "source": [
        "# Addss accumulative positive cases everyday\n",
        "# Total Cases\n",
        "total_us_cases = dataset['total_cases']\n",
        "list_arr = np.array(total_us_cases)\n",
        "reversed_arr = list_arr[::-1]\n",
        "newDayCases = 0\n",
        "dayCases = []\n",
        "for currentday in reversed_arr:\n",
        "   newDayCases = currentday + newDayCases\n",
        "   dayCases.append(newDayCases)"
      ],
      "execution_count": null,
      "outputs": []
    },
    {
      "cell_type": "code",
      "metadata": {
        "id": "oivvoebSMpRV",
        "colab_type": "code",
        "colab": {
          "base_uri": "https://localhost:8080/",
          "height": 398
        },
        "outputId": "ed250429-f038-4764-d0f8-c3013110d567"
      },
      "source": [
        "# Plots the accumulative daily death rates of a country\n",
        "dates = np.array(dateFormatting['new_date'])\n",
        "us_deaths = np.array(dayDeaths)\n",
        "plt.plot_date(dates, us_deaths, linestyle ='solid')\n",
        "plt.gcf().autofmt_xdate()\n",
        "date_format = mpl_dates.DateFormatter('%b,%d,%Y')\n",
        "plt.title('Time Series of Total Deaths of US')\n",
        "plt.xlabel('Date')\n",
        "plt.ylabel('Total Deaths')\n",
        "plt.gca().xaxis.set_major_formatter(date_format)\n",
        "\n"
      ],
      "execution_count": null,
      "outputs": [
        {
          "output_type": "display_data",
          "data": {
            "image/png": "[encoded data removed]",
            "text/plain": [
              "<Figure size 1080x432 with 1 Axes>"
            ]
          },
          "metadata": {
            "tags": []
          }
        }
      ]
    },
    {
      "cell_type": "code",
      "metadata": {
        "id": "niRyurkWykGi",
        "colab_type": "code",
        "colab": {
          "base_uri": "https://localhost:8080/",
          "height": 398
        },
        "outputId": "3f441582-79e5-4959-ffe0-0cb583098b05"
      },
      "source": [
        "# Plots the accumulative daily death rates of a country\n",
        "dates = np.array(dateFormatting['new_date'])\n",
        "us_cases = np.array(dayCases)\n",
        "plt.plot_date(dates, us_cases, linestyle ='solid')\n",
        "plt.gcf().autofmt_xdate()\n",
        "date_format = mpl_dates.DateFormatter('%b,%d,%Y')\n",
        "plt.title('Time Series of Total Deaths of US')\n",
        "plt.xlabel('Date')\n",
        "plt.ylabel('Total Deaths')\n",
        "plt.gca().xaxis.set_major_formatter(date_format)"
      ],
      "execution_count": null,
      "outputs": [
        {
          "output_type": "display_data",
          "data": {
            "image/png": "[encoded data removed]",
            "text/plain": [
              "<Figure size 1080x432 with 1 Axes>"
            ]
          },
          "metadata": {
            "tags": []
          }
        }
      ]
    },
    {
      "cell_type": "code",
      "metadata": {
        "id": "1dCKLM-XSXt_",
        "colab_type": "code",
        "colab": {
          "base_uri": "https://localhost:8080/",
          "height": 35
        },
        "outputId": "41e40f3b-0e3f-4548-ab8f-c93eb73412c6"
      },
      "source": [
        "test.shape"
      ],
      "execution_count": null,
      "outputs": [
        {
          "output_type": "execute_result",
          "data": {
            "text/plain": [
              "(213,)"
            ]
          },
          "metadata": {
            "tags": []
          },
          "execution_count": 106
        }
      ]
    },
    {
      "cell_type": "code",
      "metadata": {
        "id": "aLvrpnjESZmR",
        "colab_type": "code",
        "colab": {
          "base_uri": "https://localhost:8080/",
          "height": 35
        },
        "outputId": "ed0aae2a-f0c4-4eb0-dc79-8feacd073a83"
      },
      "source": [
        "price.shape"
      ],
      "execution_count": null,
      "outputs": [
        {
          "output_type": "execute_result",
          "data": {
            "text/plain": [
              "(213,)"
            ]
          },
          "metadata": {
            "tags": []
          },
          "execution_count": 107
        }
      ]
    },
    {
      "cell_type": "markdown",
      "metadata": {
        "id": "SWTJypnsv5R3",
        "colab_type": "text"
      },
      "source": [
        ""
      ]
    },
    {
      "cell_type": "code",
      "metadata": {
        "id": "v6NykB3TSJxe",
        "colab_type": "code",
        "colab": {}
      },
      "source": [
        "# Problem: Why is it showing up NAN in index 149,150,151?\n",
        "price_frame = pd.DataFrame(np.concatenate([price]), columns= [\"Price\"])\n",
        "death_frame = pd.DataFrame(np.concatenate([dayDeaths]), columns= [\"Total_Deaths_US\"])\n",
        "cases_frame = pd.DataFrame(np.concatenate([dayCases]), columns= [\"Total_Cases_US\"])\n",
        "# price_frame.append(death_frame)"
      ],
      "execution_count": null,
      "outputs": []
    },
    {
      "cell_type": "markdown",
      "metadata": {
        "id": "kkWFQ8HeIerS",
        "colab_type": "text"
      },
      "source": [
        "# Plotting Feature after Normalisation"
      ]
    },
    {
      "cell_type": "code",
      "metadata": {
        "id": "GUr5EmIHITzq",
        "colab_type": "code",
        "colab": {}
      },
      "source": [
        "# Working Normalised method!!\n",
        "from sklearn.preprocessing import MinMaxScaler\n",
        "scaler = MinMaxScaler(feature_range=(0,1))\n",
        "normalisation_us_deaths = scaler.fit_transform(death_frame).reshape(-1,1)\n",
        "normalisation_price = scaler.fit_transform(price_frame).reshape(-1,1)\n",
        "normalisation_us_cases = scaler.fit_transform(cases_frame).reshape(-1,1)\n",
        "# 8 decimal: readable formate:\n",
        "# val = [print(\"{:.8f}\".format(float(x)))for x in normalisation_us_deaths]"
      ],
      "execution_count": null,
      "outputs": []
    },
    {
      "cell_type": "code",
      "metadata": {
        "id": "jG6Frxvpw_YL",
        "colab_type": "code",
        "colab": {
          "base_uri": "https://localhost:8080/",
          "height": 403
        },
        "outputId": "877973fc-112a-4b2e-c615-d65ca7ac0443"
      },
      "source": [
        "import matplotlib.pyplot as plt\n",
        "plt.title('Time Series of Total Deaths of US & USD/GBP')\n",
        "\n",
        "plt.plot(normalisation_us_deaths,label=\"USA Covid Death Rates\")\n",
        "plt.plot(normalisation_price, label=\"Price of Dollar\")\n",
        "plt.plot(normalisation_us_cases, label=\"USA Positive Cases\")\n",
        "\n",
        "# dates\n",
        "# dates = np.array(dateFormatting['new_date'])\n",
        "# plt.plot_date(dates, linestyle ='solid')\n",
        "# plt.gcf().autofmt_xdate()\n",
        "# date_format = mpl_dates.DateFormatter('%b,%d,%Y')\n",
        "# plt.gca().xaxis.set_major_formatter(date_format)\n",
        "\n",
        "plt.ylabel('Normalisation between 0 and 1')\n",
        "plt.xlabel('Date')\n",
        "plt.legend() \n",
        "plt.show()\n"
      ],
      "execution_count": null,
      "outputs": [
        {
          "output_type": "display_data",
          "data": {
            "image/png": "[encoded data removed]",
            "text/plain": [
              "<Figure size 1080x432 with 1 Axes>"
            ]
          },
          "metadata": {
            "tags": []
          }
        }
      ]
    },
    {
      "cell_type": "markdown",
      "metadata": {
        "id": "FrNnj6gGIkmf",
        "colab_type": "text"
      },
      "source": [
        "# Splitting Data into Train, Validation & Test\n"
      ]
    },
    {
      "cell_type": "code",
      "metadata": {
        "id": "yJTAF3KWyKwR",
        "colab_type": "code",
        "colab": {}
      },
      "source": [
        "# Creating normalised dataset\n",
        "# Positive Cases | Death Rates | Price of dollar\n",
        "new_dataset = np.hstack((normalisation_us_cases, normalisation_us_deaths, normalisation_price))"
      ],
      "execution_count": null,
      "outputs": []
    },
    {
      "cell_type": "code",
      "metadata": {
        "id": "Sx35yrWb1MIz",
        "colab_type": "code",
        "colab": {
          "base_uri": "https://localhost:8080/",
          "height": 71
        },
        "outputId": "16fee079-f795-4617-ab97-0f432ffbd49c"
      },
      "source": [
        "# Test, Validation, Train \n",
        "# This should be ordered in respect to date – not cross validation or random seed\n",
        "# We are going to divide our data based on date because the next data is always dependent on the previous data\n",
        "# 65% of the total length of my datadrame\n",
        "# 35% validation/test size/ \n",
        "training_size = int(len(new_dataset)*0.80)\n",
        "test_size = (len(new_dataset)-training_size)//2 # // Rounds down\n",
        "train_data, valset_data, test_data = new_dataset[0:training_size], new_dataset[training_size:(training_size + test_size)],new_dataset[(training_size + test_size):]\n",
        "print(train_data.shape)\n",
        "print(valset_data.shape)\n",
        "print(test_data.shape)"
      ],
      "execution_count": null,
      "outputs": [
        {
          "output_type": "stream",
          "text": [
            "(170, 3)\n",
            "(21, 3)\n",
            "(22, 3)\n"
          ],
          "name": "stdout"
        }
      ]
    },
    {
      "cell_type": "code",
      "metadata": {
        "id": "P1CkWzUfVwxO",
        "colab_type": "code",
        "colab": {
          "base_uri": "https://localhost:8080/",
          "height": 89
        },
        "outputId": "9fe9076e-2369-41cb-b117-ddaa61e662ae"
      },
      "source": [
        "# Looking at first 4 days i.e. index 4 does not count\n",
        "print(valset_data[:4])"
      ],
      "execution_count": null,
      "outputs": [
        {
          "output_type": "stream",
          "text": [
            "[[0.42888805 0.50305516 0.82638106]\n",
            " [0.43824254 0.51356645 0.80496054]\n",
            " [0.44774091 0.52413131 0.80496054]\n",
            " [0.45734791 0.53471876 0.80496054]]\n"
          ],
          "name": "stdout"
        }
      ]
    },
    {
      "cell_type": "code",
      "metadata": {
        "id": "ldKERrxeA1sD",
        "colab_type": "code",
        "colab": {
          "base_uri": "https://localhost:8080/",
          "height": 35
        },
        "outputId": "1fc76389-f118-4800-ba52-4b9f01c3d511"
      },
      "source": [
        "training_size, test_size"
      ],
      "execution_count": null,
      "outputs": [
        {
          "output_type": "execute_result",
          "data": {
            "text/plain": [
              "(170, 21)"
            ]
          },
          "metadata": {
            "tags": []
          },
          "execution_count": 114
        }
      ]
    },
    {
      "cell_type": "code",
      "metadata": {
        "id": "llongsG7BHW7",
        "colab_type": "code",
        "colab": {
          "base_uri": "https://localhost:8080/",
          "height": 35
        },
        "outputId": "19a291e1-490e-4f70-cbd7-3791ccd3ec04"
      },
      "source": [
        "len(train_data), len(test_data)"
      ],
      "execution_count": null,
      "outputs": [
        {
          "output_type": "execute_result",
          "data": {
            "text/plain": [
              "(170, 22)"
            ]
          },
          "metadata": {
            "tags": []
          },
          "execution_count": 115
        }
      ]
    },
    {
      "cell_type": "markdown",
      "metadata": {
        "id": "MYg8cy2X5opG",
        "colab_type": "text"
      },
      "source": [
        "# X_train, Y_train, X_test, Y_test"
      ]
    },
    {
      "cell_type": "code",
      "metadata": {
        "id": "7lcOjmoBARZm",
        "colab_type": "code",
        "colab": {}
      },
      "source": [
        "# Go over what this method does\n",
        "# Convert an array of values into a dataset matrix\n",
        "# time_step = how many previous days you have to consider before making a prediction. = 1 passing by ref\n",
        "def create_dataset(dataset, time_step=1):\n",
        "  dataX, dataY = [],[]\n",
        "  # len(dataset) = 154 - 7 = 147 -1 (guarentees 8th datapoint)\n",
        "  # for i(starting point of dataset), i in range 146\n",
        "  for i in range(len(dataset)-time_step-1):\n",
        "\n",
        "    a = dataset[i:(i+time_step)]  # from i: until i + 7\n",
        "    dataX.append(a) # then attach it to dataX\n",
        "\n",
        "    y = dataset[i + time_step][2]  # attach the feature index 2 which is forex of 3 data predictions to y\n",
        "    dataY.append(y)\n",
        "  return np.array(dataX), np.array(dataY)\n"
      ],
      "execution_count": null,
      "outputs": []
    },
    {
      "cell_type": "code",
      "metadata": {
        "id": "Xjbnyit_VZur",
        "colab_type": "code",
        "colab": {}
      },
      "source": [
        "# Weekly_timestep means taking in 7 days of features at a time \n",
        "weekly_timestep = 7\n",
        "X_train, Y_train = create_dataset(train_data, weekly_timestep)\n",
        "X_val, Y_val = create_dataset(valset_data, weekly_timestep)\n",
        "X_test, Y_test = create_dataset(test_data, weekly_timestep)\n",
        "\n"
      ],
      "execution_count": null,
      "outputs": []
    },
    {
      "cell_type": "code",
      "metadata": {
        "id": "Bii3I74VfqRM",
        "colab_type": "code",
        "colab": {
          "base_uri": "https://localhost:8080/",
          "height": 107
        },
        "outputId": "14a7d71f-5871-459f-eb9f-cfe3f6b6f2b9"
      },
      "source": [
        "print(X_train.shape), print(Y_train.shape)\n",
        "print(X_test.shape), print(Y_test.shape)\n",
        "\n",
        "# Finished preprocessing the data"
      ],
      "execution_count": null,
      "outputs": [
        {
          "output_type": "stream",
          "text": [
            "(162, 7, 3)\n",
            "(162,)\n",
            "(14, 7, 3)\n",
            "(14,)\n"
          ],
          "name": "stdout"
        },
        {
          "output_type": "execute_result",
          "data": {
            "text/plain": [
              "(None, None)"
            ]
          },
          "metadata": {
            "tags": []
          },
          "execution_count": 118
        }
      ]
    },
    {
      "cell_type": "code",
      "metadata": {
        "id": "cX2n1hmKxrGs",
        "colab_type": "code",
        "colab": {
          "base_uri": "https://localhost:8080/",
          "height": 107
        },
        "outputId": "a4295d7d-be41-43d2-b8ad-f8285493de17"
      },
      "source": [
        "# This version of noramlisation?\n",
        "from keras.utils import to_categorical\n",
        "num_classes = 10\n",
        "epochs = 10\n",
        "\n",
        "X_train = X_train.reshape(162,7,3,1)\n",
        "X_test = X_test.reshape(14,7,3,1)\n",
        "X_train = X_train.astype('float32')\n",
        "X_test = X_test.astype('float32')\n",
        "X_train /= 255.0\n",
        "X_test /= 255.0\n",
        "Y_train = to_categorical(Y_train, num_classes)\n",
        "Y_test = to_categorical(Y_test, num_classes)\n",
        "\n",
        "print(X_train.shape), print(Y_train.shape)\n",
        "print(X_test.shape), print(Y_test.shape)"
      ],
      "execution_count": null,
      "outputs": [
        {
          "output_type": "stream",
          "text": [
            "(162, 7, 3, 1)\n",
            "(162, 10, 10, 10)\n",
            "(14, 7, 3, 1)\n",
            "(14, 10, 10, 10)\n"
          ],
          "name": "stdout"
        },
        {
          "output_type": "execute_result",
          "data": {
            "text/plain": [
              "(None, None)"
            ]
          },
          "metadata": {
            "tags": []
          },
          "execution_count": 121
        }
      ]
    },
    {
      "cell_type": "code",
      "metadata": {
        "id": "0dZ_boHexzhS",
        "colab_type": "code",
        "colab": {
          "base_uri": "https://localhost:8080/",
          "height": 35
        },
        "outputId": "fbc6bc53-11ef-455c-e732-d696ed2dad66"
      },
      "source": [
        "# convert each matrix into a 3 x 3 image\n",
        "# first 7 days \n",
        "image1 = len(X_train)\n",
        "print(image1)"
      ],
      "execution_count": null,
      "outputs": [
        {
          "output_type": "stream",
          "text": [
            "162\n"
          ],
          "name": "stdout"
        }
      ]
    },
    {
      "cell_type": "code",
      "metadata": {
        "id": "iIuPO9KxhCoO",
        "colab_type": "code",
        "colab": {}
      },
      "source": [
        "# The idea is fairly simple: Calculate 3 indicators (cases, deaths and forex) with 3 different period \n",
        "# lengths (explained below) for each day in your trading data. Then convert the 6 (3*3) \n",
        "# new features into 6x6 images. Label the data as price/covid_cases/covid_deaths based the algorithm \n",
        "# provided in the paper. \n",
        "# Then train a Convolutional Neural Network like any other image classification problem."
      ],
      "execution_count": null,
      "outputs": []
    },
    {
      "cell_type": "markdown",
      "metadata": {
        "id": "rQxS8R3VI2bP",
        "colab_type": "text"
      },
      "source": [
        "# CNN Model"
      ]
    },
    {
      "cell_type": "code",
      "metadata": {
        "id": "fuLjcvVwM7Sc",
        "colab_type": "code",
        "colab": {}
      },
      "source": [
        "\n",
        "from tensorflow.keras.models import Sequential\n",
        "from tensorflow.keras.layers import Dense\n",
        "from tensorflow.keras.layers import InputLayer, Dense, Conv2D, Flatten\n",
        "\n",
        "  # stide/steps = 1 day at a time\n",
        "  # activation = none\n",
        "  # kernal side how mnay days you want to look at\n",
        "  # filter: number of nodes you can extract?\n",
        "  # a filter is a collection of kernels\n",
        "\n",
        "# 1. Matrix shape = 21,7,3\n",
        "# 2. 2D Matrix: \n",
        "# [[0.         0.         0.90360767]\n",
        "# [0.         0.         0.90360767]]\n",
        "\n",
        "# 3 x 7 => image, next we convolve this 3 X 7 matrix with a 1 x 1 filter:\n",
        "\n",
        "#. Input feature size = (1,7,3) ?? - 9 length by health by 3 columns\n",
        "# \n",
        "\n",
        "def cnn_model():\n",
        "\n",
        "  model = tf.keras.Sequential()\n",
        "  # \n",
        "  inp = tf.keras.Input(shape=(7, 3, 1))\n",
        "\n",
        "  x = tf.keras.layers.Conv2D(filters= 1, strides=1, kernel_size=1)(inp)\n",
        "\n",
        "  x = model.add(Flatten()) # to make 1D\n",
        "\n",
        "  # output feature map\n",
        "  out = tf.keras.layers.Dense(1)(x)\n",
        "  model.compile(loss = 'mean_squared_error', optimizer='adam')\n",
        "  return model\n",
        "\n",
        "  "
      ],
      "execution_count": null,
      "outputs": []
    },
    {
      "cell_type": "markdown",
      "metadata": {
        "id": "tkkElpH-cy_h",
        "colab_type": "text"
      },
      "source": [
        "## Hyperparameter Tuning\n",
        "\n",
        "\n",
        "*   Optimizers:\n",
        "[Overview of different Optimizers for neural networks](https://medium.com/datadriveninvestor/overview-of-different-optimizers-for-neural-networks-e0ed119440c3#:~:text=Adagrad%20eliminates%20the%20need%20to,is%20no%20longer%20able%20learning.)\n",
        "*   [Conceptual Guide for HP Tuning](https://medium.com/@jackstalfort/hyperparameter-tuning-using-grid-search-and-random-search-f8750a464b35)\n",
        "*   [Consider this for Grid Search & Random Search](https://scikit-learn.org/stable/auto_examples/model_selection/plot_randomized_search.html)\n",
        "*   [And this](https://stackoverflow.com/questions/58137140/randomizedsearchcv-with-keras-lstm-regression)\n",
        "![Grid Search & Random Search](https://miro.medium.com/max/1200/1*ZTlQm_WRcrNqL-nLnx6GJA.png)\n",
        "\n"
      ]
    },
    {
      "cell_type": "markdown",
      "metadata": {
        "id": "VDbgWWCHLcdm",
        "colab_type": "text"
      },
      "source": [
        "## Grid Search\n",
        "\n",
        "*   We must choose candidates for good hidden layers and optimizers. Then plot a comparison.\n",
        "*   List of optimizers: \n",
        "*   optimizers = ['SGD', 'RMSprop','adam','adagrad', 'adadelta', 'adamax','nadam', 'ftrl']\n",
        "*   Callbacks: Restores best weights that is going to give u best model \n",
        "*   Consider changing batch size: slower the batch_size better training, because small dataset\n",
        "\n",
        "\n"
      ]
    },
    {
      "cell_type": "code",
      "metadata": {
        "id": "eA11PFS2lemX",
        "colab_type": "code",
        "colab": {
          "base_uri": "https://localhost:8080/",
          "height": 412
        },
        "outputId": "b4f36dc5-d7c4-416c-f950-8d028c312568"
      },
      "source": [
        "\n",
        "our_model = cnn_model()\n",
        "our_model.fit(X_train, Y_train, validation_data= (X_val, Y_val), epochs=100,batch_size=10,verbose=1,\n",
        "                callbacks=[tf.keras.callbacks.EarlyStopping(patience=3, restore_best_weights=True)])\n",
        "# loss = our_model.evaluate(X_test, Y_test)\n"
      ],
      "execution_count": null,
      "outputs": [
        {
          "output_type": "error",
          "ename": "AttributeError",
          "evalue": "ignored",
          "traceback": [
            "\u001b[0;31m---------------------------------------------------------------------------\u001b[0m",
            "\u001b[0;31mAttributeError\u001b[0m                            Traceback (most recent call last)",
            "\u001b[0;32m<ipython-input-125-a135375b68bd>\u001b[0m in \u001b[0;36m<module>\u001b[0;34m()\u001b[0m\n\u001b[1;32m      1\u001b[0m \u001b[0;34m\u001b[0m\u001b[0m\n\u001b[0;32m----> 2\u001b[0;31m \u001b[0mour_model\u001b[0m \u001b[0;34m=\u001b[0m \u001b[0mcnn_model\u001b[0m\u001b[0;34m(\u001b[0m\u001b[0;34m)\u001b[0m\u001b[0;34m\u001b[0m\u001b[0;34m\u001b[0m\u001b[0m\n\u001b[0m\u001b[1;32m      3\u001b[0m our_model.fit(X_train, Y_train, validation_data= (X_val, Y_val), epochs=100,batch_size=10,verbose=1,\n\u001b[1;32m      4\u001b[0m                 callbacks=[tf.keras.callbacks.EarlyStopping(patience=3, restore_best_weights=True)])\n\u001b[1;32m      5\u001b[0m \u001b[0;31m# loss = our_model.evaluate(X_test, Y_test)\u001b[0m\u001b[0;34m\u001b[0m\u001b[0;34m\u001b[0m\u001b[0;34m\u001b[0m\u001b[0m\n",
            "\u001b[0;32m<ipython-input-124-3fe45665ce86>\u001b[0m in \u001b[0;36mcnn_model\u001b[0;34m()\u001b[0m\n\u001b[1;32m     31\u001b[0m \u001b[0;34m\u001b[0m\u001b[0m\n\u001b[1;32m     32\u001b[0m   \u001b[0;31m# output feature map\u001b[0m\u001b[0;34m\u001b[0m\u001b[0;34m\u001b[0m\u001b[0;34m\u001b[0m\u001b[0m\n\u001b[0;32m---> 33\u001b[0;31m   \u001b[0mout\u001b[0m \u001b[0;34m=\u001b[0m \u001b[0mtf\u001b[0m\u001b[0;34m.\u001b[0m\u001b[0mkeras\u001b[0m\u001b[0;34m.\u001b[0m\u001b[0mlayers\u001b[0m\u001b[0;34m.\u001b[0m\u001b[0mDense\u001b[0m\u001b[0;34m(\u001b[0m\u001b[0;36m1\u001b[0m\u001b[0;34m)\u001b[0m\u001b[0;34m(\u001b[0m\u001b[0mx\u001b[0m\u001b[0;34m)\u001b[0m\u001b[0;34m\u001b[0m\u001b[0;34m\u001b[0m\u001b[0m\n\u001b[0m\u001b[1;32m     34\u001b[0m   \u001b[0mmodel\u001b[0m\u001b[0;34m.\u001b[0m\u001b[0mcompile\u001b[0m\u001b[0;34m(\u001b[0m\u001b[0mloss\u001b[0m \u001b[0;34m=\u001b[0m \u001b[0;34m'mean_squared_error'\u001b[0m\u001b[0;34m,\u001b[0m \u001b[0moptimizer\u001b[0m\u001b[0;34m=\u001b[0m\u001b[0;34m'adam'\u001b[0m\u001b[0;34m)\u001b[0m\u001b[0;34m\u001b[0m\u001b[0;34m\u001b[0m\u001b[0m\n\u001b[1;32m     35\u001b[0m   \u001b[0;32mreturn\u001b[0m \u001b[0mmodel\u001b[0m\u001b[0;34m\u001b[0m\u001b[0;34m\u001b[0m\u001b[0m\n",
            "\u001b[0;32m/usr/local/lib/python3.6/dist-packages/tensorflow/python/keras/engine/base_layer.py\u001b[0m in \u001b[0;36m__call__\u001b[0;34m(self, *args, **kwargs)\u001b[0m\n\u001b[1;32m    980\u001b[0m       \u001b[0;32mwith\u001b[0m \u001b[0mops\u001b[0m\u001b[0;34m.\u001b[0m\u001b[0mname_scope_v2\u001b[0m\u001b[0;34m(\u001b[0m\u001b[0mname_scope\u001b[0m\u001b[0;34m)\u001b[0m\u001b[0;34m:\u001b[0m\u001b[0;34m\u001b[0m\u001b[0;34m\u001b[0m\u001b[0m\n\u001b[1;32m    981\u001b[0m         \u001b[0;32mif\u001b[0m \u001b[0;32mnot\u001b[0m \u001b[0mself\u001b[0m\u001b[0;34m.\u001b[0m\u001b[0mbuilt\u001b[0m\u001b[0;34m:\u001b[0m\u001b[0;34m\u001b[0m\u001b[0;34m\u001b[0m\u001b[0m\n\u001b[0;32m--> 982\u001b[0;31m           \u001b[0mself\u001b[0m\u001b[0;34m.\u001b[0m\u001b[0m_maybe_build\u001b[0m\u001b[0;34m(\u001b[0m\u001b[0minputs\u001b[0m\u001b[0;34m)\u001b[0m\u001b[0;34m\u001b[0m\u001b[0;34m\u001b[0m\u001b[0m\n\u001b[0m\u001b[1;32m    983\u001b[0m \u001b[0;34m\u001b[0m\u001b[0m\n\u001b[1;32m    984\u001b[0m         \u001b[0;32mwith\u001b[0m \u001b[0mops\u001b[0m\u001b[0;34m.\u001b[0m\u001b[0menable_auto_cast_variables\u001b[0m\u001b[0;34m(\u001b[0m\u001b[0mself\u001b[0m\u001b[0;34m.\u001b[0m\u001b[0m_compute_dtype_object\u001b[0m\u001b[0;34m)\u001b[0m\u001b[0;34m:\u001b[0m\u001b[0;34m\u001b[0m\u001b[0;34m\u001b[0m\u001b[0m\n",
            "\u001b[0;32m/usr/local/lib/python3.6/dist-packages/tensorflow/python/keras/engine/base_layer.py\u001b[0m in \u001b[0;36m_maybe_build\u001b[0;34m(self, inputs)\u001b[0m\n\u001b[1;32m   2616\u001b[0m     \u001b[0;32mif\u001b[0m \u001b[0;32mnot\u001b[0m \u001b[0mself\u001b[0m\u001b[0;34m.\u001b[0m\u001b[0mbuilt\u001b[0m\u001b[0;34m:\u001b[0m\u001b[0;34m\u001b[0m\u001b[0;34m\u001b[0m\u001b[0m\n\u001b[1;32m   2617\u001b[0m       input_spec.assert_input_compatibility(\n\u001b[0;32m-> 2618\u001b[0;31m           self.input_spec, inputs, self.name)\n\u001b[0m\u001b[1;32m   2619\u001b[0m       \u001b[0minput_list\u001b[0m \u001b[0;34m=\u001b[0m \u001b[0mnest\u001b[0m\u001b[0;34m.\u001b[0m\u001b[0mflatten\u001b[0m\u001b[0;34m(\u001b[0m\u001b[0minputs\u001b[0m\u001b[0;34m)\u001b[0m\u001b[0;34m\u001b[0m\u001b[0;34m\u001b[0m\u001b[0m\n\u001b[1;32m   2620\u001b[0m       \u001b[0;32mif\u001b[0m \u001b[0minput_list\u001b[0m \u001b[0;32mand\u001b[0m \u001b[0mself\u001b[0m\u001b[0;34m.\u001b[0m\u001b[0m_dtype_policy\u001b[0m\u001b[0;34m.\u001b[0m\u001b[0mcompute_dtype\u001b[0m \u001b[0;32mis\u001b[0m \u001b[0;32mNone\u001b[0m\u001b[0;34m:\u001b[0m\u001b[0;34m\u001b[0m\u001b[0;34m\u001b[0m\u001b[0m\n",
            "\u001b[0;32m/usr/local/lib/python3.6/dist-packages/tensorflow/python/keras/engine/input_spec.py\u001b[0m in \u001b[0;36massert_input_compatibility\u001b[0;34m(input_spec, inputs, layer_name)\u001b[0m\n\u001b[1;32m    164\u001b[0m         \u001b[0mspec\u001b[0m\u001b[0;34m.\u001b[0m\u001b[0mmin_ndim\u001b[0m \u001b[0;32mis\u001b[0m \u001b[0;32mnot\u001b[0m \u001b[0;32mNone\u001b[0m \u001b[0;32mor\u001b[0m\u001b[0;34m\u001b[0m\u001b[0;34m\u001b[0m\u001b[0m\n\u001b[1;32m    165\u001b[0m         spec.max_ndim is not None):\n\u001b[0;32m--> 166\u001b[0;31m       \u001b[0;32mif\u001b[0m \u001b[0mx\u001b[0m\u001b[0;34m.\u001b[0m\u001b[0mshape\u001b[0m\u001b[0;34m.\u001b[0m\u001b[0mndims\u001b[0m \u001b[0;32mis\u001b[0m \u001b[0;32mNone\u001b[0m\u001b[0;34m:\u001b[0m\u001b[0;34m\u001b[0m\u001b[0;34m\u001b[0m\u001b[0m\n\u001b[0m\u001b[1;32m    167\u001b[0m         raise ValueError('Input ' + str(input_index) + ' of layer ' +\n\u001b[1;32m    168\u001b[0m                          \u001b[0mlayer_name\u001b[0m \u001b[0;34m+\u001b[0m \u001b[0;34m' is incompatible with the layer: '\u001b[0m\u001b[0;34m\u001b[0m\u001b[0;34m\u001b[0m\u001b[0m\n",
            "\u001b[0;31mAttributeError\u001b[0m: 'NoneType' object has no attribute 'shape'"
          ]
        }
      ]
    },
    {
      "cell_type": "markdown",
      "metadata": {
        "id": "ne1FGIRhCBx3",
        "colab_type": "text"
      },
      "source": [
        "# Best Model Prediction"
      ]
    },
    {
      "cell_type": "code",
      "metadata": {
        "id": "yBxAVM4I3NJ2",
        "colab_type": "code",
        "colab": {}
      },
      "source": [
        "best_param_model = lstm_model(best_learning_rate, best_hidden_layer, best_optimizer)\n",
        "best_param_model.fit(X_train, Y_train, epochs=160,batch_size=10,verbose=1)\n",
        "loss = best_param_model.evaluate(X_test, Y_test) # all results from dictionary\n"
      ],
      "execution_count": null,
      "outputs": []
    },
    {
      "cell_type": "markdown",
      "metadata": {
        "id": "Y9PSkVSA50OG",
        "colab_type": "text"
      },
      "source": [
        "# Using best model to predict on X_train & X_test"
      ]
    },
    {
      "cell_type": "code",
      "metadata": {
        "id": "aBny6cUkO4xC",
        "colab_type": "code",
        "colab": {}
      },
      "source": [
        "# Prediction and check performance metric\n",
        "train_predict = best_param_model.predict(X_train)\n",
        "test_predict = best_param_model.predict(X_test)\n",
        "train_predict.shape\n",
        "train_predict.shape"
      ],
      "execution_count": null,
      "outputs": []
    },
    {
      "cell_type": "code",
      "metadata": {
        "id": "b7ocuWlpPIEA",
        "colab_type": "code",
        "colab": {}
      },
      "source": [
        "# Transform back to original form\n",
        "train_predict=scaler.inverse_transform(train_predict)\n",
        "test_predict=scaler.inverse_transform(test_predict)\n",
        "# print(train_predict, test_predict)"
      ],
      "execution_count": null,
      "outputs": []
    },
    {
      "cell_type": "code",
      "metadata": {
        "id": "zenaz-fCcL0E",
        "colab_type": "code",
        "colab": {}
      },
      "source": [
        "# Problem: Why are we getting negative values:\n",
        "print(train_predict,test_predict)"
      ],
      "execution_count": null,
      "outputs": []
    },
    {
      "cell_type": "markdown",
      "metadata": {
        "id": "k4ocL2CLJLXg",
        "colab_type": "text"
      },
      "source": [
        "# Performance Metric\n",
        "\n",
        "\n",
        "*   Mean square error: Measures the average of the squares of the errors—that is, the average squared difference between the estimated values and the actual value\n",
        "*   Kullback-Leibler divergence, which is also called relative entropy, is a measure of the difference between two probability distributions P and Q where P is the distribution of the observation that we want to see how much it differs from the average prior distribution Q.\n",
        "\n",
        "\n"
      ]
    },
    {
      "cell_type": "code",
      "metadata": {
        "id": "DHXXILzqPUHQ",
        "colab_type": "code",
        "colab": {}
      },
      "source": [
        "# Calculate the RMSE performance metrics\n",
        "# Output for the train dataset\n",
        "# mean absolute error\n",
        "import math\n",
        "from sklearn.metrics import mean_squared_error\n",
        "math.sqrt(mean_squared_error(Y_train, train_predict))"
      ],
      "execution_count": null,
      "outputs": []
    },
    {
      "cell_type": "code",
      "metadata": {
        "id": "fFNm7l86Pt_7",
        "colab_type": "code",
        "colab": {}
      },
      "source": [
        "# Use testing\n",
        "math.sqrt(mean_squared_error(Y_test, test_predict))"
      ],
      "execution_count": null,
      "outputs": []
    },
    {
      "cell_type": "code",
      "metadata": {
        "id": "gZc_4QJmZugn",
        "colab_type": "code",
        "colab": {}
      },
      "source": [
        "# Evaluating: How well is model performing \n",
        "# Probability distribution rather than time series\n",
        "# Tensorflow??\n",
        "# KL Divergence\n",
        "# Consider this for evaluation: https://www.tensorflow.org/api_docs/python/tf/keras/losses/KLDivergence\n",
        "# kl divergence measures difference between 2 probability distributions, \n",
        "# measure of what i am predicting and what should have been predicting"
      ],
      "execution_count": null,
      "outputs": []
    },
    {
      "cell_type": "markdown",
      "metadata": {
        "id": "-nSW23ryI8RU",
        "colab_type": "text"
      },
      "source": [
        "# Actual Data, Train Prediction & Test Prediction data"
      ]
    },
    {
      "cell_type": "code",
      "metadata": {
        "id": "wIaC4DB2UV6P",
        "colab_type": "code",
        "colab": {}
      },
      "source": [
        "# Problem: testPredictPlot[len(train_predict)+(look_back*2)+2: (training_size + test_size)] = test_predict\n",
        "\n",
        "# Taking in the 7 \n",
        "\n",
        "look_back = 7\n",
        "\n",
        "# empty_like: Return a new array with the same shape and type as a given array.\n",
        "# np.nan: Replect all with nan? What does this mean?\n",
        "# What does this do?? 7: predict.length() + 7, :\n",
        "\n",
        "trainPredictPlot = np.empty_like(new_dataset)\n",
        "trainPredictPlot[:,:]= np.nan\n",
        "trainPredictPlot[look_back:len(train_predict)+look_back, :] = train_predict\n",
        "print(trainPredictPlot.shape)\n",
        "\n",
        "# empty_like: Return a new array with the same shape and type as a given array.\n",
        "# np.nan: Replect all with nan? What does this mean?\n",
        "# Dont understand what this is doing\n",
        "# What does this do?? predict.length() + (7*2) +2 :(training_size + test_size)] = test_predict\n",
        "\n",
        "testPredictPlot = np.empty_like(new_dataset)\n",
        "testPredictPlot[:,:]= np.nan\n",
        "\n",
        "# \n",
        "testPredictPlot[len(train_predict)+(look_back*2)+1: (training_size + test_size)] = test_predict\n",
        "# new_dataset[training_size:(training_size + test_size)]\n",
        "print(testPredictPlot.shape)\n",
        "\n",
        "# Plot baseline and predictions\n",
        "plt.title('Analysis of train, test and actual')\n",
        "plt.plot(scaler.inverse_transform(new_dataset), label=\"actual dataset\")\n",
        "\n",
        "trainPredictPlot = [item[2] for item in trainPredictPlot] \n",
        "plt.plot(trainPredictPlot, label=\"train_predict\")\n",
        "\n",
        "testPredictPlot = [item[2] for item in testPredictPlot] \n",
        "plt.plot(testPredictPlot, label=\"test_predict\")\n",
        "\n",
        "# as you can see th test data and train is divided because we want to test after a specific day\n",
        "plt.ylabel('Forex price & US Death Rates')\n",
        "plt.xlabel('Date')\n",
        "plt.legend()\n",
        "plt.show()\n",
        "# Printing 2 actual_dataset, train_predict, test_predict because 2 input layers"
      ],
      "execution_count": null,
      "outputs": []
    },
    {
      "cell_type": "markdown",
      "metadata": {
        "id": "Fc6YFJvQjBGu",
        "colab_type": "text"
      },
      "source": [
        "# Custom 4 day prediction\n",
        "\n",
        "*   Training train data to predict future days and evaluating the accuracy on validation data.\n",
        "*   Training train data to predict future days, no way of evaluating however this can tell us what is likely to occur.\n",
        "*   Using last 7 days of training data to predict the future custom days(4). \n",
        "\n"
      ]
    },
    {
      "cell_type": "code",
      "metadata": {
        "id": "yws-gX7RTB3Z",
        "colab_type": "code",
        "colab": {}
      },
      "source": [
        "# Taking the last 7 days of test\n",
        "# print(test_data[80:])\n",
        "# is this supposed to be test or train_data\n",
        "X_input=test_data[100:].reshape(1,-1)\n",
        "print(X_input)\n",
        "X_input.shape\n",
        "\n",
        "temp_input = train_data[-7:]\n",
        "temp_input\n",
        "\n"
      ],
      "execution_count": null,
      "outputs": []
    },
    {
      "cell_type": "code",
      "metadata": {
        "id": "CHAxzKyuTp5-",
        "colab_type": "code",
        "colab": {}
      },
      "source": [
        "# Demonstrate prediction for the next 4 days:\n",
        "\n",
        "# Step 1. 7 days of feature = temp_input taken from the last 7 days of the training set\n",
        "# Step 2  i is the day you are on and we want to predict 4 days: 0,1,2,3 (4 days)\n",
        "# Step 3. Predict the 8th day on each of the 7 days,\n",
        "# Step 4. Add this new predicted day to the list\n",
        "# Step 5. Because we are now taking in the last 7 days + the new predicted value, the list is now size 8  \n",
        "# Step 6. In order to take in 7 days at a time, we shift 1 to the right.\n",
        "# Step 7. We reassign the X_train to the new 7 days\n",
        "# Step 8. We predict the 8th day of the 7 days and continue the process\n",
        "# Step 9. We then add the 8th day to the output list\n",
        "# Step 10. We keep track of the 4 days by incrementing by i at the end-> i = i+1\n",
        "# Step 11. Once we have predicted the 4 days, we return the list of 4 day values.\n",
        "\n",
        "from numpy import array\n",
        "custom_day = 4\n",
        "lst_output=[]\n",
        "n_steps=7\n",
        "i=0\n",
        "X_input = temp_input\n",
        "# print(X_input)\n",
        "while(i<custom_day):\n",
        "  if(len(temp_input)>7):\n",
        "    # print(temp_input)  \n",
        "    X_input=array(temp_input[1:])\n",
        "    # print(\"{} day input {}\".format(i,X_input))\n",
        "    # Correct input shape (1,7,3)\n",
        "    X_input=X_input.reshape((1,n_steps,3))\n",
        "    # Prediction of X_input\n",
        "    print(X_input)\n",
        "    Y_hat = best_param_model.predict(X_input)\n",
        "    # print(Y_hat)\n",
        "    temp_input = np.append(temp_input, Y_hat)\n",
        "    temp_input=temp_input[1:]\n",
        "    lst_output.append(Y_hat[0][0])\n",
        "    i=i+1\n",
        "  else:\n",
        "    X_input=X_input.reshape((1,n_steps,3))\n",
        "    print(X_input)\n",
        "    Y_hat = best_param_model.predict(X_input, verbose=0)\n",
        "    # print(Y_hat)\n",
        "    temp_input = np.append(temp_input, Y_hat)\n",
        "    lst_output.append(Y_hat[0][0])\n",
        "    i=i+1\n",
        "# [0.039997526, 0.035484765, 0.029113937, 0.025276443]\n",
        "# Print the predicted forex price for the next 4 days \n",
        "print(lst_output)"
      ],
      "execution_count": null,
      "outputs": []
    },
    {
      "cell_type": "markdown",
      "metadata": {
        "id": "-0DCdCn2jwxO",
        "colab_type": "text"
      },
      "source": [
        "### Plotting evaluation on graph. Training output versus first 4 days of the validation data."
      ]
    },
    {
      "cell_type": "code",
      "metadata": {
        "id": "z_5opaqHfcZt",
        "colab_type": "code",
        "colab": {}
      },
      "source": [
        "# Custom day plotted\n",
        "day_new = custom_day-1\n",
        "\n",
        "# Predicted 4 days from training\n",
        "# Plot and label\n",
        "# Transform back to original value before normalised\n",
        "custom_day_prediction = np.array(lst_output)\n",
        "print(custom_day_prediction)\n",
        "plt.plot(custom_day_prediction, label=\"Predicted\")\n",
        "# plt.plot(day_new, scaler.inverse_transform([custom_day_prediction]))\n",
        "\n",
        "# Actual 4 days from validation\n",
        "# Plot and label\n",
        "# Transform back to original value before normalised\n",
        "val_data = [item[2] for item in valset_data] \n",
        "custom_day_validation = val_data[:custom_day]\n",
        "print(custom_day_validation)\n",
        "plt.plot(custom_day_validation, label=\"Actual\")\n",
        "# plt.plot(day_new, scaler.inverse_transform([custom_day_validation]))\n",
        "\n",
        "# Information\n",
        "plt.title('Predicted custom day from training data versus actual custom day from validation data')\n",
        "plt.xlabel('Number of custom days')\n",
        "plt.ylabel('Price')\n",
        "plt.legend()\n",
        "plt.show()\n"
      ],
      "execution_count": null,
      "outputs": []
    },
    {
      "cell_type": "markdown",
      "metadata": {
        "id": "oechzTG13Efi",
        "colab_type": "text"
      },
      "source": [
        "# Outcome of training test data on best model\n",
        "* Not yet implemented"
      ]
    },
    {
      "cell_type": "code",
      "metadata": {
        "id": "d-JX2Sw3-2k4",
        "colab_type": "code",
        "colab": {}
      },
      "source": [
        "# Need to implement\n",
        "day_new = custom_day-1\n",
        "\n",
        "# Predicted 4 days from training\n",
        "# Plot and label\n",
        "# Transform back to original value before normalised\n",
        "custom_day_prediction = np.array(lst_output)\n",
        "print(custom_day_prediction)\n",
        "plt.plot(custom_day_prediction, label=\"Predicted\")\n",
        "# plt.plot(day_new, scaler.inverse_transform([custom_day_prediction]))\n",
        "\n",
        "# Actual 4 days from validation\n",
        "# Plot and label\n",
        "# Transform back to original value before normalised\n",
        "val_data = [item[1] for item in valset_data] \n",
        "custom_day_validation = val_data[:custom_day]\n",
        "print(custom_day_validation)\n",
        "plt.plot(custom_day_validation, label=\"Actual\")\n",
        "# plt.plot(day_new, scaler.inverse_transform([custom_day_validation]))\n",
        "\n",
        "# Information\n",
        "plt.title('Predicted custom day from training data versus actual custom day from validation data')\n",
        "plt.xlabel('Number of custom days')\n",
        "plt.ylabel('Price')\n",
        "plt.legend()\n",
        "plt.show()"
      ],
      "execution_count": null,
      "outputs": []
    },
    {
      "cell_type": "code",
      "metadata": {
        "id": "IeOGd1UPV8jG",
        "colab_type": "code",
        "colab": {}
      },
      "source": [
        "# What we have:\n",
        "# day_new=np.arange(1,8)\n",
        "# print(day_new)\n",
        "# What we want to predict:\n",
        "# day_pred=np.arange(8,12)\n",
        "# print(day_pred)"
      ],
      "execution_count": null,
      "outputs": []
    },
    {
      "cell_type": "markdown",
      "metadata": {
        "id": "7o0GfssHMvIL",
        "colab_type": "text"
      },
      "source": [
        "# Conclusion and next steps\n",
        "We explored the LSTM algorithms:\n",
        "\n",
        "*   List item\n",
        "*   List item\n",
        "\n",
        "\n",
        "In conclusion it seems that .."
      ]
    }
  ]
}