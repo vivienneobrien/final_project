{
  "nbformat": 4,
  "nbformat_minor": 0,
  "metadata": {
    "colab": {
      "name": "model_one_death_rates_slr.ipynb",
      "provenance": [],
      "collapsed_sections": [],
      "toc_visible": true
    },
    "kernelspec": {
      "display_name": "Python 3",
      "language": "python",
      "name": "python3"
    },
    "language_info": {
      "codemirror_mode": {
        "name": "ipython",
        "version": 3
      },
      "file_extension": ".py",
      "mimetype": "text/x-python",
      "name": "python",
      "nbconvert_exporter": "python",
      "pygments_lexer": "ipython3",
      "version": "3.6.9"
    }
  },
  "cells": [
    {
      "cell_type": "markdown",
      "metadata": {
        "id": "yC6FT5aHMCaG",
        "colab_type": "text"
      },
      "source": [
        "# Model #1 COVID-Death Rates Simple Linear Regression \n",
        "\n",
        "\n",
        "*   Import data>owid_covid_data.csv\n",
        "*   Taking the first 7 days as x and the 8th day as y."
      ]
    },
    {
      "cell_type": "markdown",
      "metadata": {
        "id": "tTCv8Xn8Jg-F",
        "colab_type": "text"
      },
      "source": [
        "# Imports\n"
      ]
    },
    {
      "cell_type": "code",
      "metadata": {
        "colab_type": "code",
        "id": "I5kOTYIa0Y5b",
        "colab": {}
      },
      "source": [
        "# Libraries\n",
        "import pathlib\n",
        "import numpy as np\n",
        "import pandas as pd\n",
        "# Graphs\n",
        "from datetime import datetime, timedelta\n",
        "from matplotlib import pyplot as plt\n",
        "from matplotlib import dates as mpl_dates\n",
        "plt.style.use('seaborn')\n",
        "from matplotlib import rcParams\n",
        "# Modelling\n",
        "from sklearn.model_selection import train_test_split\n",
        "from sklearn.linear_model import LinearRegression\n",
        "# Modeling metrics\n",
        "from sklearn import metrics\n",
        "from sklearn.metrics import mean_absolute_error\n",
        "from sklearn.metrics import mean_squared_error\n",
        "from sklearn.metrics import r2_score\n",
        "from math import sqrt\n",
        "\n"
      ],
      "execution_count": 1,
      "outputs": []
    },
    {
      "cell_type": "markdown",
      "metadata": {
        "id": "NPc9_ux-3Yxo",
        "colab_type": "text"
      },
      "source": [
        "# Import Data"
      ]
    },
    {
      "cell_type": "code",
      "metadata": {
        "colab_type": "code",
        "id": "BtxjR9q40f6X",
        "colab": {
          "base_uri": "https://localhost:8080/",
          "height": 204
        },
        "outputId": "37b9ee14-5d4f-48d4-81d2-48bb1120c706"
      },
      "source": [
        "# Importing covid_dataset using pandas. \n",
        "covid_dataset_data= pd.read_csv('owid_covid_data.csv', na_values = \"?\", comment='\\t', skipinitialspace=True)\n",
        "covid_dataset = covid_dataset_data.copy()\n",
        "dataset = covid_dataset.loc[covid_dataset.location=='United States', ['date', 'total_deaths']]\n",
        "dataset.head()"
      ],
      "execution_count": 6,
      "outputs": [
        {
          "output_type": "execute_result",
          "data": {
            "text/html": [
              "<div>\n",
              "<style scoped>\n",
              "    .dataframe tbody tr th:only-of-type {\n",
              "        vertical-align: middle;\n",
              "    }\n",
              "\n",
              "    .dataframe tbody tr th {\n",
              "        vertical-align: top;\n",
              "    }\n",
              "\n",
              "    .dataframe thead th {\n",
              "        text-align: right;\n",
              "    }\n",
              "</style>\n",
              "<table border=\"1\" class=\"dataframe\">\n",
              "  <thead>\n",
              "    <tr style=\"text-align: right;\">\n",
              "      <th></th>\n",
              "      <th>date</th>\n",
              "      <th>total_deaths</th>\n",
              "    </tr>\n",
              "  </thead>\n",
              "  <tbody>\n",
              "    <tr>\n",
              "      <th>32403</th>\n",
              "      <td>2019-12-31</td>\n",
              "      <td>0.0</td>\n",
              "    </tr>\n",
              "    <tr>\n",
              "      <th>32404</th>\n",
              "      <td>2020-01-01</td>\n",
              "      <td>0.0</td>\n",
              "    </tr>\n",
              "    <tr>\n",
              "      <th>32405</th>\n",
              "      <td>2020-01-02</td>\n",
              "      <td>0.0</td>\n",
              "    </tr>\n",
              "    <tr>\n",
              "      <th>32406</th>\n",
              "      <td>2020-01-03</td>\n",
              "      <td>0.0</td>\n",
              "    </tr>\n",
              "    <tr>\n",
              "      <th>32407</th>\n",
              "      <td>2020-01-04</td>\n",
              "      <td>0.0</td>\n",
              "    </tr>\n",
              "  </tbody>\n",
              "</table>\n",
              "</div>"
            ],
            "text/plain": [
              "             date  total_deaths\n",
              "32403  2019-12-31           0.0\n",
              "32404  2020-01-01           0.0\n",
              "32405  2020-01-02           0.0\n",
              "32406  2020-01-03           0.0\n",
              "32407  2020-01-04           0.0"
            ]
          },
          "metadata": {
            "tags": []
          },
          "execution_count": 6
        }
      ]
    },
    {
      "cell_type": "markdown",
      "metadata": {
        "colab_type": "text",
        "id": "FPIlGi7Y47Um"
      },
      "source": [
        "#### Plotting"
      ]
    },
    {
      "cell_type": "code",
      "metadata": {
        "id": "Xg-Xm2oP5x9V",
        "colab_type": "code",
        "colab": {}
      },
      "source": [
        "date = dataset['date']\n",
        "dateFormatting = pd.DataFrame({'new_date': pd.date_range('2019-12-31', '2020-07-31', periods=len(date))})\n",
        "my_xticks = dateFormatting['new_date'].tolist()\n"
      ],
      "execution_count": 7,
      "outputs": []
    },
    {
      "cell_type": "code",
      "metadata": {
        "colab_type": "code",
        "id": "4wgQQegwi5xI",
        "colab": {
          "base_uri": "https://localhost:8080/",
          "height": 340
        },
        "outputId": "95fdfe86-a872-492d-a9a1-3318df15411f"
      },
      "source": [
        "rcParams['figure.figsize'] = 15,6\n",
        "dates = np.array(dateFormatting['new_date'])\n",
        "deaths = np.array(dataset['total_deaths'])\n",
        "plt.plot_date(dates,deaths, linestyle ='solid')\n",
        "plt.gcf().autofmt_xdate()\n",
        "date_format = mpl_dates.DateFormatter('%b,%d,%Y')\n",
        "plt.title('Time Series of COVID-19 Daily Deaths')\n",
        "plt.xlabel('Date')\n",
        "plt.ylabel('Deaths')\n",
        "plt.gca().xaxis.set_major_formatter(date_format)"
      ],
      "execution_count": 9,
      "outputs": [
        {
          "output_type": "display_data",
          "data": {
            "image/png": "[encoded data removed]",
            "text/plain": [
              "<Figure size 1080x432 with 1 Axes>"
            ]
          },
          "metadata": {
            "tags": [],
            "needs_background": "light"
          }
        }
      ]
    },
    {
      "cell_type": "markdown",
      "metadata": {
        "colab_type": "text",
        "id": "gX_Z2YefK_b3"
      },
      "source": [
        "# Split train & test set\n"
      ]
    },
    {
      "cell_type": "code",
      "metadata": {
        "colab_type": "code",
        "id": "leiEwMP21QLr",
        "colab": {
          "base_uri": "https://localhost:8080/",
          "height": 34
        },
        "outputId": "e2b842c6-3b8e-4b65-edc2-7bee08c4d6b1"
      },
      "source": [
        "# Look back leading up to the 7 days before the day we care about\n",
        "look_back=7\n",
        "num_samples=len(dataset)-look_back\n",
        "print('Number of samples: ', num_samples)\n",
        "# Get indices for new dataset\n",
        "indices=np.arange(num_samples).astype(np.int)[:,None]+np.arange(look_back+1).astype(np.int)\n",
        "# Create the 2D matrix of training samples\n",
        "data = dataset[\"total_deaths\"].values[indices] \n",
        "# Each row represents 7 days in the past\n",
        "x = data[:,:-1] \n",
        "# Each output value represents the 8th day\n",
        "y = data[:,-1] "
      ],
      "execution_count": 10,
      "outputs": [
        {
          "output_type": "stream",
          "text": [
            "Number of samples:  211\n"
          ],
          "name": "stdout"
        }
      ]
    },
    {
      "cell_type": "code",
      "metadata": {
        "id": "O_jOBZFBCshX",
        "colab_type": "code",
        "colab": {}
      },
      "source": [
        "x_train, x_test, y_train, y_test = train_test_split(x, y, test_size=0.20, random_state=0, shuffle = False)"
      ],
      "execution_count": 11,
      "outputs": []
    },
    {
      "cell_type": "code",
      "metadata": {
        "colab_type": "code",
        "id": "dPXizeXk11xY",
        "colab": {
          "base_uri": "https://localhost:8080/",
          "height": 34
        },
        "outputId": "b6736ece-fa01-4bb6-a9f7-50e219d8d98a"
      },
      "source": [
        "x_train.shape, x_test.shape"
      ],
      "execution_count": 12,
      "outputs": [
        {
          "output_type": "execute_result",
          "data": {
            "text/plain": [
              "((168, 7), (43, 7))"
            ]
          },
          "metadata": {
            "tags": []
          },
          "execution_count": 12
        }
      ]
    },
    {
      "cell_type": "code",
      "metadata": {
        "colab_type": "code",
        "id": "r2J7iiG06vyF",
        "colab": {
          "base_uri": "https://localhost:8080/",
          "height": 34
        },
        "outputId": "4af84ebe-38c7-4dbc-80a2-9c15335d3b3f"
      },
      "source": [
        "x_test.shape, y_test.shape"
      ],
      "execution_count": 13,
      "outputs": [
        {
          "output_type": "execute_result",
          "data": {
            "text/plain": [
              "((43, 7), (43,))"
            ]
          },
          "metadata": {
            "tags": []
          },
          "execution_count": 13
        }
      ]
    },
    {
      "cell_type": "markdown",
      "metadata": {
        "colab_type": "text",
        "id": "KRk3b4DV13r1"
      },
      "source": [
        "# Modelling"
      ]
    },
    {
      "cell_type": "code",
      "metadata": {
        "colab_type": "code",
        "id": "PI4q811O16Ky",
        "colab": {}
      },
      "source": [
        "def get_plot_train (model_pred):\n",
        "  rcParams['figure.figsize'] = 15,6\n",
        "  plt.scatter(model_pred, y_train, color=\"gray\", label = 'predicted')\n",
        "  plt.plot(y_train, y_train, color='red', linewidth=2, label = 'actual')\n",
        "  plt.xlabel('Y_Pred')\n",
        "  plt.ylabel('Y_Train')\n",
        "  plt.legend()\n",
        "\n",
        "def get_plot_test (model_pred):\n",
        "  rcParams['figure.figsize'] = 15,6\n",
        "  plt.scatter(model_pred, y_test, color=\"gray\", label = 'predicted')\n",
        "  plt.plot(y_test, y_test, color='red', linewidth=2, label = 'actual')\n",
        "  plt.xlabel('Y_Pred')\n",
        "  plt.ylabel('Y_Test')\n",
        "  plt.legend()"
      ],
      "execution_count": 14,
      "outputs": []
    },
    {
      "cell_type": "markdown",
      "metadata": {
        "colab_type": "text",
        "id": "RLVFl_uE2HOy"
      },
      "source": [
        "# Simple Linear Regression"
      ]
    },
    {
      "cell_type": "code",
      "metadata": {
        "colab_type": "code",
        "id": "3Jh_KT032JJF",
        "colab": {
          "base_uri": "https://localhost:8080/",
          "height": 34
        },
        "outputId": "1dc4b265-c61a-47f3-ee7f-d2a216ba9902"
      },
      "source": [
        "# Assigning the linear regression model\n",
        "model=LinearRegression()\n",
        "model.fit(x_train, y_train)\n"
      ],
      "execution_count": 15,
      "outputs": [
        {
          "output_type": "execute_result",
          "data": {
            "text/plain": [
              "LinearRegression(copy_X=True, fit_intercept=True, n_jobs=None, normalize=False)"
            ]
          },
          "metadata": {
            "tags": []
          },
          "execution_count": 15
        }
      ]
    },
    {
      "cell_type": "code",
      "metadata": {
        "colab_type": "code",
        "id": "55kM7Tmt2Kxx",
        "colab": {}
      },
      "source": [
        "pred_train_lr= model.predict(x_train)\n",
        "pred_test_lr= model.predict(x_test)\n"
      ],
      "execution_count": 16,
      "outputs": []
    },
    {
      "cell_type": "code",
      "metadata": {
        "id": "qVqmJAz3Ll9b",
        "colab_type": "code",
        "colab": {
          "base_uri": "https://localhost:8080/",
          "height": 367
        },
        "outputId": "c8af1a21-5908-449a-d9b3-69a613bc0a2b"
      },
      "source": [
        "get_plot_train(pred_train_lr)\n",
        "plt.title('Where Linear Regression Model Train Results Fall on Actual Deaths', size = 20)"
      ],
      "execution_count": 17,
      "outputs": [
        {
          "output_type": "execute_result",
          "data": {
            "text/plain": [
              "Text(0.5, 1.0, 'Where Linear Regression Model Train Results Fall on Actual Deaths')"
            ]
          },
          "metadata": {
            "tags": []
          },
          "execution_count": 17
        },
        {
          "output_type": "display_data",
          "data": {
            "image/png": "[encoded data removed]",
            "text/plain": [
              "<Figure size 1080x432 with 1 Axes>"
            ]
          },
          "metadata": {
            "tags": [],
            "needs_background": "light"
          }
        }
      ]
    },
    {
      "cell_type": "code",
      "metadata": {
        "colab_type": "code",
        "id": "1GCELg5O2NR4",
        "colab": {
          "base_uri": "https://localhost:8080/",
          "height": 367
        },
        "outputId": "3e991c8b-040b-4bd0-cea9-e8143e5cdf54"
      },
      "source": [
        "get_plot_test(pred_test_lr)\n",
        "plt.title('Where Linear Regression Model Test Results Fall on Actual Deaths', size = 20)"
      ],
      "execution_count": 18,
      "outputs": [
        {
          "output_type": "execute_result",
          "data": {
            "text/plain": [
              "Text(0.5, 1.0, 'Where Linear Regression Model Test Results Fall on Actual Deaths')"
            ]
          },
          "metadata": {
            "tags": []
          },
          "execution_count": 18
        },
        {
          "output_type": "display_data",
          "data": {
            "image/png": "[encoded data removed]",
            "text/plain": [
              "<Figure size 1080x432 with 1 Axes>"
            ]
          },
          "metadata": {
            "tags": [],
            "needs_background": "light"
          }
        }
      ]
    },
    {
      "cell_type": "markdown",
      "metadata": {
        "id": "yBHWL0LT342b",
        "colab_type": "text"
      },
      "source": [
        "# Comparison Actual Versus Predicted"
      ]
    },
    {
      "cell_type": "markdown",
      "metadata": {
        "id": "Kqkp-zV53fPv",
        "colab_type": "text"
      },
      "source": [
        "### Performance Metrics"
      ]
    },
    {
      "cell_type": "code",
      "metadata": {
        "id": "OYafXVLP3hUP",
        "colab_type": "code",
        "colab": {}
      },
      "source": [
        "def get_performance_train (model_pred):\n",
        "  print('Mean Absolute Error:', mean_absolute_error(y_train, model_pred).round(4))  \n",
        "  print('Mean Squared Error:', mean_squared_error(y_train, model_pred).round(4))\n",
        "  print('R2_Score:',r2_score(y_train, model_pred)) \n",
        "  print('RMSE', np.sqrt(mean_squared_error(y_train,model_pred)))\n",
        "\n",
        "def get_performance_test (model_pred):\n",
        "  print('Mean Absolute Error:', mean_absolute_error(y_test, model_pred).round(4))  \n",
        "  print('Mean Squared Error:', mean_squared_error(y_test, model_pred).round(4))  \n",
        "  print('R2_Score:',r2_score(y_test, model_pred)) \n",
        "  print('RMSE', np.sqrt(mean_squared_error(y_test,model_pred))) "
      ],
      "execution_count": 19,
      "outputs": []
    },
    {
      "cell_type": "code",
      "metadata": {
        "id": "P6auViGx3nC0",
        "colab_type": "code",
        "colab": {
          "base_uri": "https://localhost:8080/",
          "height": 204
        },
        "outputId": "ddfaf687-c18b-4ca8-d499-033d3dd0245f"
      },
      "source": [
        "print('Train:')\n",
        "get_performance_train(pred_train_lr)\n",
        "print('\\nTest:')\n",
        "get_performance_test(pred_test_lr)"
      ],
      "execution_count": 20,
      "outputs": [
        {
          "output_type": "stream",
          "text": [
            "Train:\n",
            "Mean Absolute Error: 182.2456\n",
            "Mean Squared Error: 115692.7684\n",
            "R2_Score: 0.9999413802647064\n",
            "RMSE 340.1363967227172\n",
            "\n",
            "Test:\n",
            "Mean Absolute Error: 346.1153\n",
            "Mean Squared Error: 215327.5687\n",
            "R2_Score: 0.9978434340202478\n",
            "RMSE 464.03401678386575\n"
          ],
          "name": "stdout"
        }
      ]
    },
    {
      "cell_type": "markdown",
      "metadata": {
        "id": "uXnv_UN-LyWg",
        "colab_type": "text"
      },
      "source": [
        "### Visual Representation"
      ]
    },
    {
      "cell_type": "markdown",
      "metadata": {
        "id": "jfBtm_GT3vgL",
        "colab_type": "text"
      },
      "source": [
        "#### Train Actual Versus Predicted"
      ]
    },
    {
      "cell_type": "code",
      "metadata": {
        "id": "UDdOUDgqLvEa",
        "colab_type": "code",
        "colab": {
          "base_uri": "https://localhost:8080/",
          "height": 266
        },
        "outputId": "48f91c51-a2ec-474f-825b-b80a3746408f"
      },
      "source": [
        "comparison_train = pd.DataFrame({'Actual': y_train, 'Predicted': pred_train_lr})\n",
        "comparison_train = comparison_train.head(7)\n",
        "comparison_train.sort_index(inplace=True)\n",
        "comparison_train"
      ],
      "execution_count": 21,
      "outputs": [
        {
          "output_type": "execute_result",
          "data": {
            "text/html": [
              "<div>\n",
              "<style scoped>\n",
              "    .dataframe tbody tr th:only-of-type {\n",
              "        vertical-align: middle;\n",
              "    }\n",
              "\n",
              "    .dataframe tbody tr th {\n",
              "        vertical-align: top;\n",
              "    }\n",
              "\n",
              "    .dataframe thead th {\n",
              "        text-align: right;\n",
              "    }\n",
              "</style>\n",
              "<table border=\"1\" class=\"dataframe\">\n",
              "  <thead>\n",
              "    <tr style=\"text-align: right;\">\n",
              "      <th></th>\n",
              "      <th>Actual</th>\n",
              "      <th>Predicted</th>\n",
              "    </tr>\n",
              "  </thead>\n",
              "  <tbody>\n",
              "    <tr>\n",
              "      <th>0</th>\n",
              "      <td>0.0</td>\n",
              "      <td>59.70675</td>\n",
              "    </tr>\n",
              "    <tr>\n",
              "      <th>1</th>\n",
              "      <td>0.0</td>\n",
              "      <td>59.70675</td>\n",
              "    </tr>\n",
              "    <tr>\n",
              "      <th>2</th>\n",
              "      <td>0.0</td>\n",
              "      <td>59.70675</td>\n",
              "    </tr>\n",
              "    <tr>\n",
              "      <th>3</th>\n",
              "      <td>0.0</td>\n",
              "      <td>59.70675</td>\n",
              "    </tr>\n",
              "    <tr>\n",
              "      <th>4</th>\n",
              "      <td>0.0</td>\n",
              "      <td>59.70675</td>\n",
              "    </tr>\n",
              "    <tr>\n",
              "      <th>5</th>\n",
              "      <td>0.0</td>\n",
              "      <td>59.70675</td>\n",
              "    </tr>\n",
              "    <tr>\n",
              "      <th>6</th>\n",
              "      <td>0.0</td>\n",
              "      <td>59.70675</td>\n",
              "    </tr>\n",
              "  </tbody>\n",
              "</table>\n",
              "</div>"
            ],
            "text/plain": [
              "   Actual  Predicted\n",
              "0     0.0   59.70675\n",
              "1     0.0   59.70675\n",
              "2     0.0   59.70675\n",
              "3     0.0   59.70675\n",
              "4     0.0   59.70675\n",
              "5     0.0   59.70675\n",
              "6     0.0   59.70675"
            ]
          },
          "metadata": {
            "tags": []
          },
          "execution_count": 21
        }
      ]
    },
    {
      "cell_type": "code",
      "metadata": {
        "id": "it5NpupdLw-O",
        "colab_type": "code",
        "colab": {
          "base_uri": "https://localhost:8080/",
          "height": 355
        },
        "outputId": "5ee6158b-09f9-499f-9618-fa6c0692fd5c"
      },
      "source": [
        "rcParams['figure.figsize'] = 15,6\n",
        "comparison_train.plot(kind='bar')\n",
        "plt.title('Comparison of Actual Y and Predicted Y Train for the First 7 Y Values of Training Data', size=20)\n",
        "plt.grid(which='major', linestyle='-', linewidth='0.5', color='green')\n",
        "plt.grid(which='minor', linestyle=':', linewidth='0.5', color='black')\n",
        "plt.xlabel('Price')\n",
        "plt.ylabel('Days')\n",
        "plt.show()"
      ],
      "execution_count": 22,
      "outputs": [
        {
          "output_type": "display_data",
          "data": {
            "image/png": "[encoded data removed]",
            "text/plain": [
              "<Figure size 1080x432 with 1 Axes>"
            ]
          },
          "metadata": {
            "tags": [],
            "needs_background": "light"
          }
        }
      ]
    },
    {
      "cell_type": "markdown",
      "metadata": {
        "id": "OQINYfP2L24Q",
        "colab_type": "text"
      },
      "source": [
        "#### Test Actual Versus Predicted"
      ]
    },
    {
      "cell_type": "code",
      "metadata": {
        "id": "c2GJsldAhQ0f",
        "colab_type": "code",
        "colab": {
          "base_uri": "https://localhost:8080/",
          "height": 266
        },
        "outputId": "8184a9fe-b6bd-4c9d-cac2-071c6aaedc40"
      },
      "source": [
        "comparison_test = pd.DataFrame({'Actual': y_test, 'Predicted': pred_test_lr})\n",
        "comparison_test = comparison_test.tail(7)\n",
        "comparison_test.sort_index(inplace=True)\n",
        "comparison_test"
      ],
      "execution_count": 23,
      "outputs": [
        {
          "output_type": "execute_result",
          "data": {
            "text/html": [
              "<div>\n",
              "<style scoped>\n",
              "    .dataframe tbody tr th:only-of-type {\n",
              "        vertical-align: middle;\n",
              "    }\n",
              "\n",
              "    .dataframe tbody tr th {\n",
              "        vertical-align: top;\n",
              "    }\n",
              "\n",
              "    .dataframe thead th {\n",
              "        text-align: right;\n",
              "    }\n",
              "</style>\n",
              "<table border=\"1\" class=\"dataframe\">\n",
              "  <thead>\n",
              "    <tr style=\"text-align: right;\">\n",
              "      <th></th>\n",
              "      <th>Actual</th>\n",
              "      <th>Predicted</th>\n",
              "    </tr>\n",
              "  </thead>\n",
              "  <tbody>\n",
              "    <tr>\n",
              "      <th>36</th>\n",
              "      <td>149256.0</td>\n",
              "      <td>148647.065135</td>\n",
              "    </tr>\n",
              "    <tr>\n",
              "      <th>37</th>\n",
              "      <td>150713.0</td>\n",
              "      <td>150317.893614</td>\n",
              "    </tr>\n",
              "    <tr>\n",
              "      <th>38</th>\n",
              "      <td>152070.0</td>\n",
              "      <td>152021.949596</td>\n",
              "    </tr>\n",
              "    <tr>\n",
              "      <th>39</th>\n",
              "      <td>153314.0</td>\n",
              "      <td>153071.265463</td>\n",
              "    </tr>\n",
              "    <tr>\n",
              "      <th>40</th>\n",
              "      <td>154447.0</td>\n",
              "      <td>154017.014184</td>\n",
              "    </tr>\n",
              "    <tr>\n",
              "      <th>41</th>\n",
              "      <td>154860.0</td>\n",
              "      <td>155340.028526</td>\n",
              "    </tr>\n",
              "    <tr>\n",
              "      <th>42</th>\n",
              "      <td>155403.0</td>\n",
              "      <td>155611.120529</td>\n",
              "    </tr>\n",
              "  </tbody>\n",
              "</table>\n",
              "</div>"
            ],
            "text/plain": [
              "      Actual      Predicted\n",
              "36  149256.0  148647.065135\n",
              "37  150713.0  150317.893614\n",
              "38  152070.0  152021.949596\n",
              "39  153314.0  153071.265463\n",
              "40  154447.0  154017.014184\n",
              "41  154860.0  155340.028526\n",
              "42  155403.0  155611.120529"
            ]
          },
          "metadata": {
            "tags": []
          },
          "execution_count": 23
        }
      ]
    },
    {
      "cell_type": "code",
      "metadata": {
        "id": "e6W63b9HhZr6",
        "colab_type": "code",
        "colab": {
          "base_uri": "https://localhost:8080/",
          "height": 351
        },
        "outputId": "bc434625-f239-472c-f9aa-53acf362c27c"
      },
      "source": [
        "rcParams['figure.figsize'] = 15,6\n",
        "comparison_test.plot(kind='bar')\n",
        "plt.title('Comparison of Actual Y and Predicted Y Test Last for the Last 7 Y Values of Testing Data', size=20)\n",
        "plt.grid(which='major', linestyle='-', linewidth='0.5', color='green')\n",
        "plt.grid(which='minor', linestyle=':', linewidth='0.5', color='black')\n",
        "plt.xlabel('Price')\n",
        "plt.ylabel('Days')\n",
        "plt.show()"
      ],
      "execution_count": 24,
      "outputs": [
        {
          "output_type": "display_data",
          "data": {
            "image/png": "[encoded data removed]",
            "text/plain": [
              "<Figure size 1080x432 with 1 Axes>"
            ]
          },
          "metadata": {
            "tags": [],
            "needs_background": "light"
          }
        }
      ]
    },
    {
      "cell_type": "markdown",
      "metadata": {
        "id": "yfBGOsrQ4C_Q",
        "colab_type": "text"
      },
      "source": [
        "# Simple Linear Regression Formula"
      ]
    },
    {
      "cell_type": "code",
      "metadata": {
        "id": "XMBRrBfvi-Yc",
        "colab_type": "code",
        "colab": {
          "base_uri": "https://localhost:8080/",
          "height": 34
        },
        "outputId": "94763558-34b7-4cb0-e5ee-fdab8e474f90"
      },
      "source": [
        "slope = model.coef_[6]\n",
        "intercept = model.intercept_\n",
        "print(\"formula: y = {0} + {1}x\".format(intercept,slope))"
      ],
      "execution_count": 25,
      "outputs": [
        {
          "output_type": "stream",
          "text": [
            "formula: y = 59.70675006838428 + 1.3122482834560634x\n"
          ],
          "name": "stdout"
        }
      ]
    }
  ]
}