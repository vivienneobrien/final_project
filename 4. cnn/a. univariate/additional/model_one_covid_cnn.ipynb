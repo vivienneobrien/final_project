{
  "nbformat": 4,
  "nbformat_minor": 0,
  "metadata": {
    "colab": {
      "name": "model_one_covid_cnn.ipynb",
      "provenance": [],
      "collapsed_sections": [],
      "toc_visible": true
    },
    "kernelspec": {
      "name": "python3",
      "display_name": "Python 3"
    },
    "accelerator": "GPU"
  },
  "cells": [
    {
      "cell_type": "markdown",
      "metadata": {
        "id": "JgdK1L0bjQsY",
        "colab_type": "text"
      },
      "source": [
        "# Model #1 Univariate LSTM (Covid Deaths)\n",
        "\n",
        "* Import owid_covid_dataset.csv\n",
        "* Using COVID-19 Total Daily Deaths as input into an LSTM model to predict COVID-19 Total Daily Deaths."
      ]
    },
    {
      "cell_type": "markdown",
      "metadata": {
        "id": "hj06VW8PjHI3",
        "colab_type": "text"
      },
      "source": [
        "# Imports"
      ]
    },
    {
      "cell_type": "code",
      "metadata": {
        "id": "GDBxlQkCD7Mj",
        "colab_type": "code",
        "colab": {
          "base_uri": "https://localhost:8080/",
          "height": 326
        },
        "outputId": "6bab11a4-fa6f-45de-f524-a39bad91bc8d"
      },
      "source": [
        "# Imports\n",
        "!pip install git+https://github.com/tensorflow/docs\n",
        "import tensorflow as tf\n",
        "print(tf.__version__)\n",
        "\n",
        "# Libraries\n",
        "import pathlib\n",
        "import numpy as np\n",
        "import pandas as pd\n",
        "from numpy import array\n",
        "\n",
        "# Plotting\n",
        "from datetime import datetime, timedelta\n",
        "from matplotlib import pyplot as plt\n",
        "from matplotlib import dates as mpl_dates\n",
        "plt.style.use('seaborn')\n",
        "from matplotlib import rcParams\n",
        "\n",
        "# Model\n",
        "from sklearn.preprocessing import MinMaxScaler\n",
        "from tensorflow import keras\n",
        "from tensorflow.keras.models import Sequential\n",
        "from tensorflow.keras.layers import Dense\n",
        "from tensorflow.keras.layers import InputLayer, Dense, Conv2D, Flatten, Dropout\n",
        "from numpy.random import seed\n",
        "from random import shuffle\n",
        "\n",
        "# Metric\n",
        "from sklearn import metrics\n",
        "from sklearn.metrics import mean_absolute_error\n",
        "from sklearn.metrics import mean_squared_error\n",
        "from sklearn.metrics import r2_score\n",
        "from math import sqrt\n"
      ],
      "execution_count": 1,
      "outputs": [
        {
          "output_type": "stream",
          "text": [
            "Collecting git+https://github.com/tensorflow/docs\n",
            "  Cloning https://github.com/tensorflow/docs to /tmp/pip-req-build-v8un4u9m\n",
            "  Running command git clone -q https://github.com/tensorflow/docs /tmp/pip-req-build-v8un4u9m\n",
            "Requirement already satisfied: astor in /usr/local/lib/python3.6/dist-packages (from tensorflow-docs===0.0.0b6c19867d6ef4ef69f6ed5688eaf92c4a3145b79-) (0.8.1)\n",
            "Requirement already satisfied: absl-py in /usr/local/lib/python3.6/dist-packages (from tensorflow-docs===0.0.0b6c19867d6ef4ef69f6ed5688eaf92c4a3145b79-) (0.8.1)\n",
            "Requirement already satisfied: protobuf in /usr/local/lib/python3.6/dist-packages (from tensorflow-docs===0.0.0b6c19867d6ef4ef69f6ed5688eaf92c4a3145b79-) (3.12.4)\n",
            "Requirement already satisfied: pyyaml in /usr/local/lib/python3.6/dist-packages (from tensorflow-docs===0.0.0b6c19867d6ef4ef69f6ed5688eaf92c4a3145b79-) (3.13)\n",
            "Requirement already satisfied: six in /usr/local/lib/python3.6/dist-packages (from absl-py->tensorflow-docs===0.0.0b6c19867d6ef4ef69f6ed5688eaf92c4a3145b79-) (1.15.0)\n",
            "Requirement already satisfied: setuptools in /usr/local/lib/python3.6/dist-packages (from protobuf->tensorflow-docs===0.0.0b6c19867d6ef4ef69f6ed5688eaf92c4a3145b79-) (49.6.0)\n",
            "Building wheels for collected packages: tensorflow-docs\n",
            "  Building wheel for tensorflow-docs (setup.py) ... \u001b[?25l\u001b[?25hdone\n",
            "  Created wheel for tensorflow-docs: filename=tensorflow_docs-0.0.0b6c19867d6ef4ef69f6ed5688eaf92c4a3145b79_-cp36-none-any.whl size=139117 sha256=3b53eea0793c8c3cd4bcaa22c227422c74b34189f665357c7a2052d007e2a8d2\n",
            "  Stored in directory: /tmp/pip-ephem-wheel-cache-95bow7a_/wheels/eb/1b/35/fce87697be00d2fc63e0b4b395b0d9c7e391a10e98d9a0d97f\n",
            "Successfully built tensorflow-docs\n",
            "Installing collected packages: tensorflow-docs\n",
            "Successfully installed tensorflow-docs-0.0.0b6c19867d6ef4ef69f6ed5688eaf92c4a3145b79-\n",
            "2.3.0\n"
          ],
          "name": "stdout"
        }
      ]
    },
    {
      "cell_type": "code",
      "metadata": {
        "id": "U7zLL7tQm3eq",
        "colab_type": "code",
        "colab": {}
      },
      "source": [
        "seed(1)\n",
        "tf.random.set_seed(2)"
      ],
      "execution_count": 2,
      "outputs": []
    },
    {
      "cell_type": "markdown",
      "metadata": {
        "id": "QzadtzC3Hniw",
        "colab_type": "text"
      },
      "source": [
        "# Data Collection\n"
      ]
    },
    {
      "cell_type": "code",
      "metadata": {
        "id": "kIDXEXFDf4N5",
        "colab_type": "code",
        "colab": {
          "base_uri": "https://localhost:8080/",
          "height": 204
        },
        "outputId": "b003e1de-2655-464b-ab15-03dfb98fae22"
      },
      "source": [
        "# Importing covid_dataset\n",
        "covid_dataset_data= pd.read_csv('owid_covid_data.csv', na_values = \"?\", comment='\\t', skipinitialspace=True)\n",
        "covid_dataset = covid_dataset_data.copy()\n",
        "dataset = covid_dataset.loc[covid_dataset.location=='United States', ['date', 'total_cases', 'total_deaths']]\n",
        "dataset.head()\n"
      ],
      "execution_count": 3,
      "outputs": [
        {
          "output_type": "execute_result",
          "data": {
            "text/html": [
              "<div>\n",
              "<style scoped>\n",
              "    .dataframe tbody tr th:only-of-type {\n",
              "        vertical-align: middle;\n",
              "    }\n",
              "\n",
              "    .dataframe tbody tr th {\n",
              "        vertical-align: top;\n",
              "    }\n",
              "\n",
              "    .dataframe thead th {\n",
              "        text-align: right;\n",
              "    }\n",
              "</style>\n",
              "<table border=\"1\" class=\"dataframe\">\n",
              "  <thead>\n",
              "    <tr style=\"text-align: right;\">\n",
              "      <th></th>\n",
              "      <th>date</th>\n",
              "      <th>total_cases</th>\n",
              "      <th>total_deaths</th>\n",
              "    </tr>\n",
              "  </thead>\n",
              "  <tbody>\n",
              "    <tr>\n",
              "      <th>32403</th>\n",
              "      <td>2019-12-31</td>\n",
              "      <td>0.0</td>\n",
              "      <td>0.0</td>\n",
              "    </tr>\n",
              "    <tr>\n",
              "      <th>32404</th>\n",
              "      <td>2020-01-01</td>\n",
              "      <td>0.0</td>\n",
              "      <td>0.0</td>\n",
              "    </tr>\n",
              "    <tr>\n",
              "      <th>32405</th>\n",
              "      <td>2020-01-02</td>\n",
              "      <td>0.0</td>\n",
              "      <td>0.0</td>\n",
              "    </tr>\n",
              "    <tr>\n",
              "      <th>32406</th>\n",
              "      <td>2020-01-03</td>\n",
              "      <td>0.0</td>\n",
              "      <td>0.0</td>\n",
              "    </tr>\n",
              "    <tr>\n",
              "      <th>32407</th>\n",
              "      <td>2020-01-04</td>\n",
              "      <td>0.0</td>\n",
              "      <td>0.0</td>\n",
              "    </tr>\n",
              "  </tbody>\n",
              "</table>\n",
              "</div>"
            ],
            "text/plain": [
              "             date  total_cases  total_deaths\n",
              "32403  2019-12-31          0.0           0.0\n",
              "32404  2020-01-01          0.0           0.0\n",
              "32405  2020-01-02          0.0           0.0\n",
              "32406  2020-01-03          0.0           0.0\n",
              "32407  2020-01-04          0.0           0.0"
            ]
          },
          "metadata": {
            "tags": []
          },
          "execution_count": 3
        }
      ]
    },
    {
      "cell_type": "markdown",
      "metadata": {
        "id": "jSj8rJl-b-N4",
        "colab_type": "text"
      },
      "source": [
        "### Plotting Accumulative Daily Deaths before Normalisation\n"
      ]
    },
    {
      "cell_type": "code",
      "metadata": {
        "id": "O7oUSoarSoq5",
        "colab_type": "code",
        "colab": {}
      },
      "source": [
        "date = dataset['date']\n",
        "dateFormatting = pd.DataFrame({'new_date': pd.date_range('2019-12-31', '2020-07-31', periods=len(date))})\n",
        "my_xticks = dateFormatting['new_date'].tolist()"
      ],
      "execution_count": 4,
      "outputs": []
    },
    {
      "cell_type": "code",
      "metadata": {
        "id": "eDGMN3GG6wOL",
        "colab_type": "code",
        "colab": {}
      },
      "source": [
        "# Adds the accumulative deaths every day of a country\n",
        "total_deaths = dataset['total_deaths']\n",
        "newDayDeaths = 0\n",
        "daily_total_deaths = []\n",
        "for dailyDeaths in total_deaths:\n",
        "  newDayDeaths = dailyDeaths + newDayDeaths\n",
        "  daily_total_deaths.append(newDayDeaths)\n",
        "\n"
      ],
      "execution_count": 5,
      "outputs": []
    },
    {
      "cell_type": "code",
      "metadata": {
        "id": "U_xFL98v4wEo",
        "colab_type": "code",
        "colab": {
          "base_uri": "https://localhost:8080/",
          "height": 349
        },
        "outputId": "29e4cdc8-1a5b-42f1-a714-1c1afc9818ec"
      },
      "source": [
        "# Plots the accumulative daily death rates of a country\n",
        "rcParams['figure.figsize'] = 15,6\n",
        "dates = np.array(dateFormatting['new_date'])\n",
        "deaths = np.array(daily_total_deaths)\n",
        "plt.plot_date(dates, deaths, linestyle ='solid')\n",
        "plt.gcf().autofmt_xdate()\n",
        "date_format = mpl_dates.DateFormatter('%b,%d,%Y')\n",
        "plt.title('Time Series of Total Deaths Daily of Country', size = 20)\n",
        "plt.xlabel('Date')\n",
        "plt.ylabel('Total Deaths')\n",
        "plt.gca().xaxis.set_major_formatter(date_format)\n"
      ],
      "execution_count": 6,
      "outputs": [
        {
          "output_type": "display_data",
          "data": {
            "image/png": "[encoded data removed]",
            "text/plain": [
              "<Figure size 1080x432 with 1 Axes>"
            ]
          },
          "metadata": {
            "tags": [],
            "needs_background": "light"
          }
        }
      ]
    },
    {
      "cell_type": "markdown",
      "metadata": {
        "id": "kkWFQ8HeIerS",
        "colab_type": "text"
      },
      "source": [
        "### Plotting Features after Normalisation"
      ]
    },
    {
      "cell_type": "code",
      "metadata": {
        "id": "v6NykB3TSJxe",
        "colab_type": "code",
        "colab": {}
      },
      "source": [
        "deaths_frame = pd.DataFrame(np.concatenate([deaths]), columns= [\"total_deaths\"])\n",
        "scaler = MinMaxScaler(feature_range=(0,1))\n",
        "normalisation_deaths= scaler.fit_transform(deaths_frame).reshape(-1,1)"
      ],
      "execution_count": 7,
      "outputs": []
    },
    {
      "cell_type": "code",
      "metadata": {
        "id": "jG6Frxvpw_YL",
        "colab_type": "code",
        "colab": {
          "base_uri": "https://localhost:8080/",
          "height": 349
        },
        "outputId": "11769361-0c90-4d3c-9772-27f93eb1ca42"
      },
      "source": [
        "rcParams['figure.figsize'] = 15,6\n",
        "dates = np.array(dateFormatting['new_date'])\n",
        "plt.plot_date(dates, normalisation_deaths, linestyle ='solid')\n",
        "plt.gcf().autofmt_xdate()\n",
        "date_format = mpl_dates.DateFormatter('%b,%d,%Y')\n",
        "plt.gca().xaxis.set_major_formatter(date_format)\n",
        "plt.title('Time Series of Total Deaths Daily of Country', size = 20)\n",
        "plt.ylabel('Normalisation between 0 and 1')\n",
        "plt.xlabel('Date')\n",
        "plt.show()"
      ],
      "execution_count": 8,
      "outputs": [
        {
          "output_type": "display_data",
          "data": {
            "image/png": "[encoded data removed]",
            "text/plain": [
              "<Figure size 1080x432 with 1 Axes>"
            ]
          },
          "metadata": {
            "tags": [],
            "needs_background": "light"
          }
        }
      ]
    },
    {
      "cell_type": "markdown",
      "metadata": {
        "id": "FrNnj6gGIkmf",
        "colab_type": "text"
      },
      "source": [
        "# Splitting Data into Train, Validation & Test\n"
      ]
    },
    {
      "cell_type": "code",
      "metadata": {
        "id": "ohrplNEGeLIQ",
        "colab_type": "code",
        "colab": {}
      },
      "source": [
        "new_dataset = normalisation_deaths"
      ],
      "execution_count": 9,
      "outputs": []
    },
    {
      "cell_type": "code",
      "metadata": {
        "id": "Sx35yrWb1MIz",
        "colab_type": "code",
        "colab": {
          "base_uri": "https://localhost:8080/",
          "height": 68
        },
        "outputId": "25671048-cf23-4b37-a0a3-7e22b59f7a8b"
      },
      "source": [
        "# Test, Validation, Train \n",
        "training_size = int(len(new_dataset)*0.80)\n",
        "test_size = (len(new_dataset)-training_size)//2 # // Rounds down\n",
        "train_data, valset_data, test_data = new_dataset[0:training_size], new_dataset[training_size:(training_size + test_size)],new_dataset[(training_size + test_size):]\n",
        "print(train_data.shape)\n",
        "print(valset_data.shape)\n",
        "print(test_data.shape)"
      ],
      "execution_count": 10,
      "outputs": [
        {
          "output_type": "stream",
          "text": [
            "(174, 1)\n",
            "(22, 1)\n",
            "(22, 1)\n"
          ],
          "name": "stdout"
        }
      ]
    },
    {
      "cell_type": "code",
      "metadata": {
        "id": "nMI0whYYecFN",
        "colab_type": "code",
        "colab": {
          "base_uri": "https://localhost:8080/",
          "height": 354
        },
        "outputId": "ec987f34-15a1-4105-8998-baf903fe63c1"
      },
      "source": [
        "# Start – Train\n",
        "rcParams['figure.figsize'] = 15,6\n",
        "plt.plot(train_data, label=\"Actual Train Dataset\")\n",
        "plt.title('Normalised Train Dataset', size = 20)\n",
        "plt.ylabel('Normalised Data')\n",
        "plt.xlabel('Days')\n",
        "plt.legend()\n",
        "plt.show()"
      ],
      "execution_count": 11,
      "outputs": [
        {
          "output_type": "display_data",
          "data": {
            "image/png": "[encoded data removed]",
            "text/plain": [
              "<Figure size 1080x432 with 1 Axes>"
            ]
          },
          "metadata": {
            "tags": [],
            "needs_background": "light"
          }
        }
      ]
    },
    {
      "cell_type": "code",
      "metadata": {
        "id": "cOveayzhiTAX",
        "colab_type": "code",
        "colab": {
          "base_uri": "https://localhost:8080/",
          "height": 351
        },
        "outputId": "0730bb3e-cfda-447d-8e37-33db5c57d434"
      },
      "source": [
        "# Middle – Validation\n",
        "rcParams['figure.figsize'] = 15,6\n",
        "plt.plot(valset_data, label=\"Actual Validation Dataset\")\n",
        "plt.title('Normalised Validation Dataset', size = 20)\n",
        "plt.ylabel('Normalised Data')\n",
        "plt.xlabel('Days')\n",
        "plt.legend()\n",
        "plt.show()"
      ],
      "execution_count": 12,
      "outputs": [
        {
          "output_type": "display_data",
          "data": {
            "image/png": "[encoded data removed]",
            "text/plain": [
              "<Figure size 1080x432 with 1 Axes>"
            ]
          },
          "metadata": {
            "tags": [],
            "needs_background": "light"
          }
        }
      ]
    },
    {
      "cell_type": "code",
      "metadata": {
        "id": "q8kVa9tIiVrN",
        "colab_type": "code",
        "colab": {
          "base_uri": "https://localhost:8080/",
          "height": 351
        },
        "outputId": "5c6395e7-b619-4270-c2cb-b4d443d7d2d6"
      },
      "source": [
        "# End - Test\n",
        "rcParams['figure.figsize'] = 15,6\n",
        "plt.plot(test_data, label=\"Actual Test Dataset\")\n",
        "plt.title('Normalised Test Data', size =20)\n",
        "plt.ylabel('Normalised Data')\n",
        "plt.xlabel('Days')\n",
        "plt.legend()\n",
        "plt.show()"
      ],
      "execution_count": 13,
      "outputs": [
        {
          "output_type": "display_data",
          "data": {
            "image/png": "[encoded data removed]",
            "text/plain": [
              "<Figure size 1080x432 with 1 Axes>"
            ]
          },
          "metadata": {
            "tags": [],
            "needs_background": "light"
          }
        }
      ]
    },
    {
      "cell_type": "markdown",
      "metadata": {
        "id": "MYg8cy2X5opG",
        "colab_type": "text"
      },
      "source": [
        "# X_train, Y_train, X_test, Y_test\n",
        "\n",
        "*   time_step: previous days to consider before making prediction\n",
        "\n"
      ]
    },
    {
      "cell_type": "code",
      "metadata": {
        "id": "9-ztULPocZwz",
        "colab_type": "code",
        "colab": {}
      },
      "source": [
        "# Convert an array of values into a dataset matrix\n",
        "def create_dataset(dataset, time_step):\n",
        "  dataX, dataY = [],[]\n",
        "  # range: is the days in dataset - the days we need to consider - the 8th day\n",
        "  for i in range(len(dataset)-time_step-1):\n",
        "    a = dataset[i:(i+time_step)]  # from i -> 6th day\n",
        "    dataX.append(a) \n",
        "    y = dataset[i + time_step] # 7th day\n",
        "    dataY.append(y)\n",
        "  return np.array(dataX), np.array(dataY)"
      ],
      "execution_count": 14,
      "outputs": []
    },
    {
      "cell_type": "code",
      "metadata": {
        "id": "Px9IGCSscc0H",
        "colab_type": "code",
        "colab": {}
      },
      "source": [
        "# Weekly_timestep means taking in 7 days of features at a time \n",
        "weekly_timestep = 7\n",
        "X_train, Y_train = create_dataset(train_data, weekly_timestep)\n",
        "X_val, Y_val = create_dataset(valset_data, weekly_timestep)\n",
        "X_test, Y_test = create_dataset(test_data, weekly_timestep)"
      ],
      "execution_count": 15,
      "outputs": []
    },
    {
      "cell_type": "markdown",
      "metadata": {
        "id": "Mf6WX7xx310D",
        "colab_type": "text"
      },
      "source": [
        "# Reshape for CNN"
      ]
    },
    {
      "cell_type": "code",
      "metadata": {
        "id": "JFKUlGRP33H3",
        "colab_type": "code",
        "colab": {
          "base_uri": "https://localhost:8080/",
          "height": 272
        },
        "outputId": "37facd35-90a1-4a70-ba7e-d06ce94d6138"
      },
      "source": [
        "print('Before reshape')\n",
        "print(X_train.shape), print(Y_train.shape)\n",
        "print(X_val.shape), print(Y_val.shape)\n",
        "print(X_test.shape), print(Y_test.shape)\n",
        "\n",
        "X_train = X_train.reshape(166,7,1,1)\n",
        "X_val = X_val.reshape(14,7,1,1)\n",
        "X_test = X_test.reshape(14,7,1,1)\n",
        "\n",
        "print('After reshape')\n",
        "print(X_train.shape), print(Y_train.shape)\n",
        "print(X_val.shape), print(Y_val.shape)\n",
        "print(X_test.shape), print(Y_test.shape)"
      ],
      "execution_count": 17,
      "outputs": [
        {
          "output_type": "stream",
          "text": [
            "Before reshape\n",
            "(166, 7, 1)\n",
            "(166, 1)\n",
            "(14, 7, 1)\n",
            "(14, 1)\n",
            "(14, 7, 1)\n",
            "(14, 1)\n",
            "After reshape\n",
            "(166, 7, 1, 1)\n",
            "(166, 1)\n",
            "(14, 7, 1, 1)\n",
            "(14, 1)\n",
            "(14, 7, 1, 1)\n",
            "(14, 1)\n"
          ],
          "name": "stdout"
        },
        {
          "output_type": "execute_result",
          "data": {
            "text/plain": [
              "(None, None)"
            ]
          },
          "metadata": {
            "tags": []
          },
          "execution_count": 17
        }
      ]
    },
    {
      "cell_type": "markdown",
      "metadata": {
        "id": "rQxS8R3VI2bP",
        "colab_type": "text"
      },
      "source": [
        "# CNN Model"
      ]
    },
    {
      "cell_type": "code",
      "metadata": {
        "id": "fuLjcvVwM7Sc",
        "colab_type": "code",
        "colab": {}
      },
      "source": [
        "def cnn_model(lr_rate, filters_layers, optimizer_one):\n",
        "\n",
        "  opt = None\n",
        "  if optimizer_one == 'adam':\n",
        "   opt = keras.optimizers.Adam(learning_rate=lr_rate)\n",
        "  elif optimizer_one == 'sgd':\n",
        "   opt = keras.optimizers.SGD(learning_rate=lr_rate)\n",
        "  else:\n",
        "   opt = keras.optimizers.Adamax(learning_rate=lr_rate)\n",
        "\n",
        "  cnn = Sequential([\n",
        "    \n",
        "  Conv2D(filters= filters_layers, input_shape=(7, 1, 1), kernel_size=(7,1), strides=1),\n",
        "  Dropout(0.2),\n",
        "  # Dense(64),\n",
        "  Conv2D(filters= filters_layers, kernel_size=(1,1), strides=1),\n",
        "  # Dropout(0.2),\n",
        "  # Dense(10), #\n",
        "  Flatten(), # to make 1D\n",
        "  Dense(1) # output feature map\n",
        "  ])\n",
        "  cnn.compile(loss = 'mean_squared_error', optimizer= opt)\n",
        "  # print(cnn.summary())\n",
        "  return cnn\n",
        "  "
      ],
      "execution_count": 18,
      "outputs": []
    },
    {
      "cell_type": "markdown",
      "metadata": {
        "id": "tkkElpH-cy_h",
        "colab_type": "text"
      },
      "source": [
        "### Hyperparameter Tuning\n",
        "![Grid Search & Random Search](https://miro.medium.com/max/1200/1*ZTlQm_WRcrNqL-nLnx6GJA.png)\n",
        "\n",
        "\n"
      ]
    },
    {
      "cell_type": "code",
      "metadata": {
        "id": "m_qE17TCQfOg",
        "colab_type": "code",
        "colab": {}
      },
      "source": [
        "# Function to create the best model for hyperparameters method\n",
        "def bestModel(least_loss, learning_rate_list, optimizer_list, filter_list):\n",
        "  for each_filter in filter_list:\n",
        "    for each_optimizer in optimizer_list:\n",
        "      for each_learning_rate in learning_rate_list:\n",
        "        our_model = cnn_model(each_learning_rate, each_filter, each_optimizer)\n",
        "        our_model.fit(X_train, Y_train, \n",
        "                validation_data= \n",
        "                (X_val, Y_val)\n",
        "                , epochs=100,batch_size=10,verbose=1,\n",
        "                callbacks=[tf.keras.callbacks.EarlyStopping(patience=3, restore_best_weights=True)])\n",
        "        loss = our_model.evaluate(X_test, Y_test)\n",
        "        if loss < least_loss:\n",
        "          least_loss = loss\n",
        "          best_learning_rate = each_learning_rate\n",
        "          best_optimizer = each_optimizer\n",
        "          best_filter= each_filter\n",
        "    return least_loss, best_learning_rate, best_optimizer, best_filter"
      ],
      "execution_count": 19,
      "outputs": []
    },
    {
      "cell_type": "markdown",
      "metadata": {
        "id": "VDbgWWCHLcdm",
        "colab_type": "text"
      },
      "source": [
        "#### Grid Search\n",
        "\n"
      ]
    },
    {
      "cell_type": "code",
      "metadata": {
        "id": "eA11PFS2lemX",
        "colab_type": "code",
        "colab": {
          "base_uri": "https://localhost:8080/",
          "height": 1000
        },
        "outputId": "54937b60-74d1-4715-fa26-9b753bdb4700"
      },
      "source": [
        "filter_list = [15,30,10]\n",
        "optimizer_list = ['adam', 'adamax']\n",
        "learning_rate_list = [3e-3,3e-4]\n",
        "least_loss_grid_search = 1\n",
        "\n",
        "best_grid_search_model = bestModel(least_loss_grid_search, learning_rate_list, optimizer_list, filter_list)\n",
        "print(best_grid_search_model)"
      ],
      "execution_count": 20,
      "outputs": [
        {
          "output_type": "stream",
          "text": [
            "Epoch 1/100\n",
            "17/17 [==============================] - 0s 12ms/step - loss: 0.0036 - val_loss: 0.0028\n",
            "Epoch 2/100\n",
            "17/17 [==============================] - 0s 3ms/step - loss: 0.0015 - val_loss: 1.1057e-04\n",
            "Epoch 3/100\n",
            "17/17 [==============================] - 0s 3ms/step - loss: 7.3371e-04 - val_loss: 0.0040\n",
            "Epoch 4/100\n",
            "17/17 [==============================] - 0s 3ms/step - loss: 0.0011 - val_loss: 2.7550e-04\n",
            "Epoch 5/100\n",
            "17/17 [==============================] - 0s 3ms/step - loss: 7.8921e-04 - val_loss: 8.7077e-04\n",
            "1/1 [==============================] - 0s 1ms/step - loss: 1.5767e-05\n",
            "Epoch 1/100\n",
            "17/17 [==============================] - 0s 7ms/step - loss: 0.0274 - val_loss: 0.2579\n",
            "Epoch 2/100\n",
            "17/17 [==============================] - 0s 3ms/step - loss: 0.0115 - val_loss: 0.1304\n",
            "Epoch 3/100\n",
            "17/17 [==============================] - 0s 3ms/step - loss: 0.0084 - val_loss: 0.0734\n",
            "Epoch 4/100\n",
            "17/17 [==============================] - 0s 3ms/step - loss: 0.0062 - val_loss: 0.0423\n",
            "Epoch 5/100\n",
            "17/17 [==============================] - 0s 3ms/step - loss: 0.0041 - val_loss: 0.0216\n",
            "Epoch 6/100\n",
            "17/17 [==============================] - 0s 3ms/step - loss: 0.0032 - val_loss: 0.0098\n",
            "Epoch 7/100\n",
            "17/17 [==============================] - 0s 3ms/step - loss: 0.0039 - val_loss: 0.0025\n",
            "Epoch 8/100\n",
            "17/17 [==============================] - 0s 3ms/step - loss: 0.0021 - val_loss: 6.5921e-04\n",
            "Epoch 9/100\n",
            "17/17 [==============================] - 0s 3ms/step - loss: 0.0016 - val_loss: 0.0016\n",
            "Epoch 10/100\n",
            "17/17 [==============================] - 0s 3ms/step - loss: 0.0018 - val_loss: 3.9165e-04\n",
            "Epoch 11/100\n",
            "17/17 [==============================] - 0s 3ms/step - loss: 0.0021 - val_loss: 3.1732e-05\n",
            "Epoch 12/100\n",
            "17/17 [==============================] - 0s 3ms/step - loss: 0.0018 - val_loss: 0.0012\n",
            "Epoch 13/100\n",
            "17/17 [==============================] - 0s 3ms/step - loss: 0.0021 - val_loss: 7.3740e-04\n",
            "Epoch 14/100\n",
            "17/17 [==============================] - 0s 4ms/step - loss: 0.0015 - val_loss: 6.1543e-05\n",
            "1/1 [==============================] - 0s 942us/step - loss: 5.0331e-06\n",
            "Epoch 1/100\n",
            "17/17 [==============================] - 0s 7ms/step - loss: 0.0062 - val_loss: 7.0612e-04\n",
            "Epoch 2/100\n",
            "17/17 [==============================] - 0s 3ms/step - loss: 0.0022 - val_loss: 3.0991e-05\n",
            "Epoch 3/100\n",
            "17/17 [==============================] - 0s 3ms/step - loss: 0.0028 - val_loss: 0.0015\n",
            "Epoch 4/100\n",
            "17/17 [==============================] - 0s 3ms/step - loss: 9.0122e-04 - val_loss: 6.5635e-04\n",
            "Epoch 5/100\n",
            "17/17 [==============================] - 0s 3ms/step - loss: 0.0013 - val_loss: 1.0883e-05\n",
            "Epoch 6/100\n",
            "17/17 [==============================] - 0s 3ms/step - loss: 0.0010 - val_loss: 1.7158e-04\n",
            "Epoch 7/100\n",
            "17/17 [==============================] - 0s 3ms/step - loss: 7.9329e-04 - val_loss: 2.6288e-05\n",
            "Epoch 8/100\n",
            "17/17 [==============================] - 0s 3ms/step - loss: 0.0014 - val_loss: 6.8428e-05\n",
            "1/1 [==============================] - 0s 1ms/step - loss: 7.1318e-05\n",
            "Epoch 1/100\n",
            "17/17 [==============================] - 0s 7ms/step - loss: 0.0242 - val_loss: 0.3289\n",
            "Epoch 2/100\n",
            "17/17 [==============================] - 0s 3ms/step - loss: 0.0168 - val_loss: 0.2600\n",
            "Epoch 3/100\n",
            "17/17 [==============================] - 0s 3ms/step - loss: 0.0150 - val_loss: 0.2098\n",
            "Epoch 4/100\n",
            "17/17 [==============================] - 0s 3ms/step - loss: 0.0119 - val_loss: 0.1741\n",
            "Epoch 5/100\n",
            "17/17 [==============================] - 0s 3ms/step - loss: 0.0128 - val_loss: 0.1432\n",
            "Epoch 6/100\n",
            "17/17 [==============================] - 0s 3ms/step - loss: 0.0085 - val_loss: 0.1222\n",
            "Epoch 7/100\n",
            "17/17 [==============================] - 0s 3ms/step - loss: 0.0075 - val_loss: 0.1031\n",
            "Epoch 8/100\n",
            "17/17 [==============================] - 0s 3ms/step - loss: 0.0066 - val_loss: 0.0886\n",
            "Epoch 9/100\n",
            "17/17 [==============================] - 0s 3ms/step - loss: 0.0055 - val_loss: 0.0757\n",
            "Epoch 10/100\n",
            "17/17 [==============================] - 0s 3ms/step - loss: 0.0056 - val_loss: 0.0618\n",
            "Epoch 11/100\n",
            "17/17 [==============================] - 0s 3ms/step - loss: 0.0062 - val_loss: 0.0516\n",
            "Epoch 12/100\n",
            "17/17 [==============================] - 0s 3ms/step - loss: 0.0041 - val_loss: 0.0420\n",
            "Epoch 13/100\n",
            "17/17 [==============================] - 0s 3ms/step - loss: 0.0041 - val_loss: 0.0343\n",
            "Epoch 14/100\n",
            "17/17 [==============================] - 0s 3ms/step - loss: 0.0033 - val_loss: 0.0285\n",
            "Epoch 15/100\n",
            "17/17 [==============================] - 0s 3ms/step - loss: 0.0029 - val_loss: 0.0234\n",
            "Epoch 16/100\n",
            "17/17 [==============================] - 0s 3ms/step - loss: 0.0035 - val_loss: 0.0191\n",
            "Epoch 17/100\n",
            "17/17 [==============================] - 0s 3ms/step - loss: 0.0028 - val_loss: 0.0146\n",
            "Epoch 18/100\n",
            "17/17 [==============================] - 0s 3ms/step - loss: 0.0019 - val_loss: 0.0127\n",
            "Epoch 19/100\n",
            "17/17 [==============================] - 0s 3ms/step - loss: 0.0027 - val_loss: 0.0101\n",
            "Epoch 20/100\n",
            "17/17 [==============================] - 0s 3ms/step - loss: 0.0020 - val_loss: 0.0074\n",
            "Epoch 21/100\n",
            "17/17 [==============================] - 0s 3ms/step - loss: 0.0024 - val_loss: 0.0056\n",
            "Epoch 22/100\n",
            "17/17 [==============================] - 0s 3ms/step - loss: 0.0015 - val_loss: 0.0035\n",
            "Epoch 23/100\n",
            "17/17 [==============================] - 0s 3ms/step - loss: 0.0010 - val_loss: 0.0030\n",
            "Epoch 24/100\n",
            "17/17 [==============================] - 0s 3ms/step - loss: 0.0011 - val_loss: 0.0028\n",
            "Epoch 25/100\n",
            "17/17 [==============================] - 0s 3ms/step - loss: 0.0019 - val_loss: 0.0017\n",
            "Epoch 26/100\n",
            "17/17 [==============================] - 0s 3ms/step - loss: 0.0015 - val_loss: 0.0012\n",
            "Epoch 27/100\n",
            "17/17 [==============================] - 0s 3ms/step - loss: 0.0020 - val_loss: 7.9886e-04\n",
            "Epoch 28/100\n",
            "17/17 [==============================] - 0s 3ms/step - loss: 0.0022 - val_loss: 5.3116e-04\n",
            "Epoch 29/100\n",
            "17/17 [==============================] - 0s 3ms/step - loss: 0.0022 - val_loss: 1.5980e-04\n",
            "Epoch 30/100\n",
            "17/17 [==============================] - 0s 3ms/step - loss: 0.0013 - val_loss: 1.3527e-04\n",
            "Epoch 31/100\n",
            "17/17 [==============================] - 0s 3ms/step - loss: 8.4403e-04 - val_loss: 1.1500e-04\n",
            "Epoch 32/100\n",
            "17/17 [==============================] - 0s 3ms/step - loss: 0.0012 - val_loss: 6.3075e-05\n",
            "Epoch 33/100\n",
            "17/17 [==============================] - 0s 3ms/step - loss: 9.0625e-04 - val_loss: 1.8459e-05\n",
            "Epoch 34/100\n",
            "17/17 [==============================] - 0s 3ms/step - loss: 0.0011 - val_loss: 2.1168e-05\n",
            "Epoch 35/100\n",
            "17/17 [==============================] - 0s 3ms/step - loss: 0.0016 - val_loss: 8.5534e-06\n",
            "Epoch 36/100\n",
            "17/17 [==============================] - 0s 3ms/step - loss: 0.0015 - val_loss: 3.0875e-06\n",
            "Epoch 37/100\n",
            "17/17 [==============================] - 0s 3ms/step - loss: 0.0013 - val_loss: 3.7485e-05\n",
            "Epoch 38/100\n",
            "17/17 [==============================] - 0s 3ms/step - loss: 8.4695e-04 - val_loss: 8.3047e-05\n",
            "Epoch 39/100\n",
            "17/17 [==============================] - 0s 3ms/step - loss: 8.6216e-04 - val_loss: 1.7093e-05\n",
            "1/1 [==============================] - 0s 945us/step - loss: 9.4598e-05\n",
            "(5.03307455801405e-06, 0.0003, 'adam', 15)\n"
          ],
          "name": "stdout"
        }
      ]
    },
    {
      "cell_type": "markdown",
      "metadata": {
        "id": "pxhrP1uEaTkz",
        "colab_type": "text"
      },
      "source": [
        "#### Random Search\n"
      ]
    },
    {
      "cell_type": "code",
      "metadata": {
        "id": "F9Dr3sg7PyVO",
        "colab_type": "code",
        "colab": {
          "base_uri": "https://localhost:8080/",
          "height": 51
        },
        "outputId": "71cf808c-775d-4734-94b1-aca6ab29216f"
      },
      "source": [
        "filter_list = [15,30,10]\n",
        "# Seed random number generator\n",
        "seed(len(filter_list))\n",
        "# Prepare a sequence\n",
        "filter_sequence = filter_list\n",
        "print(filter_sequence) # Before Shuffle\n",
        "# Randomly shuffle the sequence hidden layers\n",
        "shuffle(filter_sequence) \n",
        "print(filter_sequence) # After Shuffle"
      ],
      "execution_count": 21,
      "outputs": [
        {
          "output_type": "stream",
          "text": [
            "[15, 30, 10]\n",
            "[10, 30, 15]\n"
          ],
          "name": "stdout"
        }
      ]
    },
    {
      "cell_type": "code",
      "metadata": {
        "id": "MdFXgBqgP0uj",
        "colab_type": "code",
        "colab": {
          "base_uri": "https://localhost:8080/",
          "height": 51
        },
        "outputId": "f3c54955-e52d-4e4c-b6da-9c114f3911b4"
      },
      "source": [
        "# Shuffling optimizers\n",
        "\n",
        "optimizer_list = ['adam', 'adamax']\n",
        "# Seed random number generator\n",
        "seed(len(filter_sequence))\n",
        "# Prepare a sequence\n",
        "op_sequence = optimizer_list\n",
        "print(op_sequence) # Before Shuffle\n",
        "# Randomly shuffle the sequence\n",
        "shuffle(op_sequence)\n",
        "print(op_sequence) # After Shuffle"
      ],
      "execution_count": 22,
      "outputs": [
        {
          "output_type": "stream",
          "text": [
            "['adam', 'adamax']\n",
            "['adamax', 'adam']\n"
          ],
          "name": "stdout"
        }
      ]
    },
    {
      "cell_type": "code",
      "metadata": {
        "id": "sj-ccR8Ek_rb",
        "colab_type": "code",
        "colab": {
          "base_uri": "https://localhost:8080/",
          "height": 51
        },
        "outputId": "9849c2cc-81c3-4931-b475-d0d087db6211"
      },
      "source": [
        "# Shuffling learning rate\n",
        "\n",
        "learning_rate_list = [3e-3,3e-4]\n",
        "# Seed random number generator\n",
        "seed(len(filter_sequence))\n",
        "# Prepare a sequence\n",
        "lr_sequence = learning_rate_list\n",
        "print(lr_sequence) # Before Shuffle\n",
        "# Randomly shuffle the sequence\n",
        "shuffle(lr_sequence)\n",
        "print(lr_sequence) # After Shuffle"
      ],
      "execution_count": 23,
      "outputs": [
        {
          "output_type": "stream",
          "text": [
            "[0.003, 0.0003]\n",
            "[0.0003, 0.003]\n"
          ],
          "name": "stdout"
        }
      ]
    },
    {
      "cell_type": "code",
      "metadata": {
        "id": "32hmzQdzP36o",
        "colab_type": "code",
        "colab": {}
      },
      "source": [
        "# Assigning least_loss\n",
        "least_loss_random_search = 1"
      ],
      "execution_count": 24,
      "outputs": []
    },
    {
      "cell_type": "code",
      "metadata": {
        "id": "o2MhAg2eP6xo",
        "colab_type": "code",
        "colab": {
          "base_uri": "https://localhost:8080/",
          "height": 1000
        },
        "outputId": "396e5f7c-fadc-4c17-942e-8d535e947bed"
      },
      "source": [
        "best_random_grid_model = bestModel(least_loss_random_search, lr_sequence, op_sequence, filter_sequence)\n",
        "print(best_random_grid_model)"
      ],
      "execution_count": 25,
      "outputs": [
        {
          "output_type": "stream",
          "text": [
            "Epoch 1/100\n",
            "17/17 [==============================] - 0s 18ms/step - loss: 0.0202 - val_loss: 0.2721\n",
            "Epoch 2/100\n",
            "17/17 [==============================] - 0s 3ms/step - loss: 0.0136 - val_loss: 0.2292\n",
            "Epoch 3/100\n",
            "17/17 [==============================] - 0s 3ms/step - loss: 0.0125 - val_loss: 0.1938\n",
            "Epoch 4/100\n",
            "17/17 [==============================] - 0s 3ms/step - loss: 0.0098 - val_loss: 0.1682\n",
            "Epoch 5/100\n",
            "17/17 [==============================] - 0s 3ms/step - loss: 0.0108 - val_loss: 0.1450\n",
            "Epoch 6/100\n",
            "17/17 [==============================] - 0s 3ms/step - loss: 0.0083 - val_loss: 0.1275\n",
            "Epoch 7/100\n",
            "17/17 [==============================] - 0s 3ms/step - loss: 0.0076 - val_loss: 0.1109\n",
            "Epoch 8/100\n",
            "17/17 [==============================] - 0s 3ms/step - loss: 0.0064 - val_loss: 0.0982\n",
            "Epoch 9/100\n",
            "17/17 [==============================] - 0s 3ms/step - loss: 0.0076 - val_loss: 0.0866\n",
            "Epoch 10/100\n",
            "17/17 [==============================] - 0s 3ms/step - loss: 0.0070 - val_loss: 0.0745\n",
            "Epoch 11/100\n",
            "17/17 [==============================] - 0s 3ms/step - loss: 0.0057 - val_loss: 0.0653\n",
            "Epoch 12/100\n",
            "17/17 [==============================] - 0s 3ms/step - loss: 0.0054 - val_loss: 0.0564\n",
            "Epoch 13/100\n",
            "17/17 [==============================] - 0s 3ms/step - loss: 0.0044 - val_loss: 0.0486\n",
            "Epoch 14/100\n",
            "17/17 [==============================] - 0s 3ms/step - loss: 0.0041 - val_loss: 0.0424\n",
            "Epoch 15/100\n",
            "17/17 [==============================] - 0s 3ms/step - loss: 0.0042 - val_loss: 0.0360\n",
            "Epoch 16/100\n",
            "17/17 [==============================] - 0s 3ms/step - loss: 0.0037 - val_loss: 0.0314\n",
            "Epoch 17/100\n",
            "17/17 [==============================] - 0s 3ms/step - loss: 0.0038 - val_loss: 0.0265\n",
            "Epoch 18/100\n",
            "17/17 [==============================] - 0s 3ms/step - loss: 0.0034 - val_loss: 0.0229\n",
            "Epoch 19/100\n",
            "17/17 [==============================] - 0s 3ms/step - loss: 0.0028 - val_loss: 0.0196\n",
            "Epoch 20/100\n",
            "17/17 [==============================] - 0s 3ms/step - loss: 0.0019 - val_loss: 0.0171\n",
            "Epoch 21/100\n",
            "17/17 [==============================] - 0s 3ms/step - loss: 0.0020 - val_loss: 0.0149\n",
            "Epoch 22/100\n",
            "17/17 [==============================] - 0s 3ms/step - loss: 0.0018 - val_loss: 0.0131\n",
            "Epoch 23/100\n",
            "17/17 [==============================] - 0s 3ms/step - loss: 0.0017 - val_loss: 0.0110\n",
            "Epoch 24/100\n",
            "17/17 [==============================] - 0s 3ms/step - loss: 0.0016 - val_loss: 0.0096\n",
            "Epoch 25/100\n",
            "17/17 [==============================] - 0s 3ms/step - loss: 0.0025 - val_loss: 0.0071\n",
            "Epoch 26/100\n",
            "17/17 [==============================] - 0s 3ms/step - loss: 0.0015 - val_loss: 0.0055\n",
            "Epoch 27/100\n",
            "17/17 [==============================] - 0s 3ms/step - loss: 0.0025 - val_loss: 0.0039\n",
            "Epoch 28/100\n",
            "17/17 [==============================] - 0s 3ms/step - loss: 0.0018 - val_loss: 0.0025\n",
            "Epoch 29/100\n",
            "17/17 [==============================] - 0s 3ms/step - loss: 0.0011 - val_loss: 0.0018\n",
            "Epoch 30/100\n",
            "17/17 [==============================] - 0s 3ms/step - loss: 0.0012 - val_loss: 0.0015\n",
            "Epoch 31/100\n",
            "17/17 [==============================] - 0s 3ms/step - loss: 8.4202e-04 - val_loss: 0.0016\n",
            "Epoch 32/100\n",
            "17/17 [==============================] - 0s 3ms/step - loss: 0.0022 - val_loss: 9.9461e-04\n",
            "Epoch 33/100\n",
            "17/17 [==============================] - 0s 3ms/step - loss: 0.0014 - val_loss: 5.7156e-04\n",
            "Epoch 34/100\n",
            "17/17 [==============================] - 0s 3ms/step - loss: 8.9384e-04 - val_loss: 5.4729e-04\n",
            "Epoch 35/100\n",
            "17/17 [==============================] - 0s 3ms/step - loss: 0.0012 - val_loss: 3.2483e-04\n",
            "Epoch 36/100\n",
            "17/17 [==============================] - 0s 3ms/step - loss: 0.0012 - val_loss: 1.5579e-04\n",
            "Epoch 37/100\n",
            "17/17 [==============================] - 0s 3ms/step - loss: 0.0012 - val_loss: 2.3741e-05\n",
            "Epoch 38/100\n",
            "17/17 [==============================] - 0s 3ms/step - loss: 0.0012 - val_loss: 4.1611e-05\n",
            "Epoch 39/100\n",
            "17/17 [==============================] - 0s 3ms/step - loss: 9.0368e-04 - val_loss: 9.7848e-05\n",
            "Epoch 40/100\n",
            "17/17 [==============================] - 0s 3ms/step - loss: 0.0012 - val_loss: 1.0053e-04\n",
            "1/1 [==============================] - 0s 1ms/step - loss: 1.7635e-06\n",
            "Epoch 1/100\n",
            "17/17 [==============================] - 0s 7ms/step - loss: 0.0081 - val_loss: 0.0095\n",
            "Epoch 2/100\n",
            "17/17 [==============================] - 0s 3ms/step - loss: 0.0050 - val_loss: 0.0073\n",
            "Epoch 3/100\n",
            "17/17 [==============================] - 0s 3ms/step - loss: 0.0031 - val_loss: 0.0012\n",
            "Epoch 4/100\n",
            "17/17 [==============================] - 0s 3ms/step - loss: 0.0027 - val_loss: 0.0059\n",
            "Epoch 5/100\n",
            "17/17 [==============================] - 0s 3ms/step - loss: 0.0067 - val_loss: 0.0017\n",
            "Epoch 6/100\n",
            "17/17 [==============================] - 0s 3ms/step - loss: 0.0042 - val_loss: 2.5461e-04\n",
            "Epoch 7/100\n",
            "17/17 [==============================] - 0s 3ms/step - loss: 0.0035 - val_loss: 5.0056e-05\n",
            "Epoch 8/100\n",
            "17/17 [==============================] - 0s 3ms/step - loss: 0.0021 - val_loss: 1.2282e-04\n",
            "Epoch 9/100\n",
            "17/17 [==============================] - 0s 3ms/step - loss: 0.0030 - val_loss: 9.9005e-04\n",
            "Epoch 10/100\n",
            "17/17 [==============================] - 0s 3ms/step - loss: 0.0024 - val_loss: 6.7836e-04\n",
            "1/1 [==============================] - 0s 977us/step - loss: 4.6491e-04\n",
            "Epoch 1/100\n",
            "17/17 [==============================] - 0s 7ms/step - loss: 0.0314 - val_loss: 0.3872\n",
            "Epoch 2/100\n",
            "17/17 [==============================] - 0s 3ms/step - loss: 0.0195 - val_loss: 0.2746\n",
            "Epoch 3/100\n",
            "17/17 [==============================] - 0s 3ms/step - loss: 0.0154 - val_loss: 0.1964\n",
            "Epoch 4/100\n",
            "17/17 [==============================] - 0s 3ms/step - loss: 0.0104 - val_loss: 0.1478\n",
            "Epoch 5/100\n",
            "17/17 [==============================] - 0s 3ms/step - loss: 0.0111 - val_loss: 0.1071\n",
            "Epoch 6/100\n",
            "17/17 [==============================] - 0s 3ms/step - loss: 0.0067 - val_loss: 0.0809\n",
            "Epoch 7/100\n",
            "17/17 [==============================] - 0s 3ms/step - loss: 0.0047 - val_loss: 0.0580\n",
            "Epoch 8/100\n",
            "17/17 [==============================] - 0s 3ms/step - loss: 0.0039 - val_loss: 0.0404\n",
            "Epoch 9/100\n",
            "17/17 [==============================] - 0s 3ms/step - loss: 0.0031 - val_loss: 0.0263\n",
            "Epoch 10/100\n",
            "17/17 [==============================] - 0s 3ms/step - loss: 0.0033 - val_loss: 0.0123\n",
            "Epoch 11/100\n",
            "17/17 [==============================] - 0s 3ms/step - loss: 0.0022 - val_loss: 0.0063\n",
            "Epoch 12/100\n",
            "17/17 [==============================] - 0s 3ms/step - loss: 0.0026 - val_loss: 0.0023\n",
            "Epoch 13/100\n",
            "17/17 [==============================] - 0s 3ms/step - loss: 0.0011 - val_loss: 0.0012\n",
            "Epoch 14/100\n",
            "17/17 [==============================] - 0s 3ms/step - loss: 0.0012 - val_loss: 7.2382e-04\n",
            "Epoch 15/100\n",
            "17/17 [==============================] - 0s 3ms/step - loss: 0.0016 - val_loss: 8.3664e-05\n",
            "Epoch 16/100\n",
            "17/17 [==============================] - 0s 3ms/step - loss: 0.0013 - val_loss: 5.8994e-05\n",
            "Epoch 17/100\n",
            "17/17 [==============================] - 0s 4ms/step - loss: 0.0013 - val_loss: 4.6873e-06\n",
            "Epoch 18/100\n",
            "17/17 [==============================] - 0s 3ms/step - loss: 8.8028e-04 - val_loss: 4.3692e-05\n",
            "Epoch 19/100\n",
            "17/17 [==============================] - 0s 3ms/step - loss: 0.0013 - val_loss: 3.0359e-05\n",
            "Epoch 20/100\n",
            "17/17 [==============================] - 0s 3ms/step - loss: 0.0012 - val_loss: 9.2851e-06\n",
            "1/1 [==============================] - 0s 882us/step - loss: 1.3204e-04\n",
            "Epoch 1/100\n",
            "17/17 [==============================] - 0s 7ms/step - loss: 0.0234 - val_loss: 0.0413\n",
            "Epoch 2/100\n",
            "17/17 [==============================] - 0s 3ms/step - loss: 0.0029 - val_loss: 2.1110e-04\n",
            "Epoch 3/100\n",
            "17/17 [==============================] - 0s 3ms/step - loss: 0.0015 - val_loss: 1.1666e-04\n",
            "Epoch 4/100\n",
            "17/17 [==============================] - 0s 3ms/step - loss: 0.0023 - val_loss: 4.6757e-06\n",
            "Epoch 5/100\n",
            "17/17 [==============================] - 0s 3ms/step - loss: 0.0015 - val_loss: 0.0012\n",
            "Epoch 6/100\n",
            "17/17 [==============================] - 0s 3ms/step - loss: 8.0435e-04 - val_loss: 2.1953e-04\n",
            "Epoch 7/100\n",
            "17/17 [==============================] - 0s 3ms/step - loss: 7.4254e-04 - val_loss: 6.8812e-04\n",
            "1/1 [==============================] - 0s 1ms/step - loss: 1.2887e-04\n",
            "(1.7634819187151152e-06, 0.0003, 'adamax', 10)\n"
          ],
          "name": "stdout"
        }
      ]
    },
    {
      "cell_type": "markdown",
      "metadata": {
        "id": "BhkCrZCSQBOw",
        "colab_type": "text"
      },
      "source": [
        "#### Deciding on best hyperparameter results"
      ]
    },
    {
      "cell_type": "code",
      "metadata": {
        "id": "mm_AqgpTO9EQ",
        "colab_type": "code",
        "colab": {
          "base_uri": "https://localhost:8080/",
          "height": 68
        },
        "outputId": "975e9565-8e5f-4f9d-d704-85c895518222"
      },
      "source": [
        "# We want the smallest loss\n",
        "# 0 = least loss, 1 = learning rate, 2 = optimizer, 3 = neurons\n",
        "if best_grid_search_model[0] > best_random_grid_model[0]:\n",
        "  best_learning_rate = best_random_grid_model[1]\n",
        "  best_optimizer = best_random_grid_model[2]\n",
        "  best_filter = best_random_grid_model[3]\n",
        "else:\n",
        "  best_learning_rate = best_grid_search_model[1]\n",
        "  best_optimizer = best_grid_search_model[2]\n",
        "  best_filter = best_grid_search_model[3]\n",
        "print(best_learning_rate)\n",
        "print(best_optimizer)\n",
        "print(best_filter)"
      ],
      "execution_count": 26,
      "outputs": [
        {
          "output_type": "stream",
          "text": [
            "0.0003\n",
            "adamax\n",
            "10\n"
          ],
          "name": "stdout"
        }
      ]
    },
    {
      "cell_type": "markdown",
      "metadata": {
        "id": "ne1FGIRhCBx3",
        "colab_type": "text"
      },
      "source": [
        "# Best Model Prediction"
      ]
    },
    {
      "cell_type": "code",
      "metadata": {
        "id": "yBxAVM4I3NJ2",
        "colab_type": "code",
        "colab": {
          "base_uri": "https://localhost:8080/",
          "height": 1000
        },
        "outputId": "2f467335-a11c-4cb6-b6b5-115c6ab02fe9"
      },
      "source": [
        "best_param_model = cnn_model(best_learning_rate, best_filter, best_optimizer)\n",
        "best_param_model.fit(X_train, Y_train, epochs=150,batch_size=10,verbose=1)\n",
        "loss = best_param_model.evaluate(X_test, Y_test) "
      ],
      "execution_count": 27,
      "outputs": [
        {
          "output_type": "stream",
          "text": [
            "Epoch 1/150\n",
            "17/17 [==============================] - 0s 2ms/step - loss: 0.0034\n",
            "Epoch 2/150\n",
            "17/17 [==============================] - 0s 2ms/step - loss: 0.0014\n",
            "Epoch 3/150\n",
            "17/17 [==============================] - 0s 2ms/step - loss: 0.0012\n",
            "Epoch 4/150\n",
            "17/17 [==============================] - 0s 2ms/step - loss: 0.0018\n",
            "Epoch 5/150\n",
            "17/17 [==============================] - 0s 2ms/step - loss: 0.0019\n",
            "Epoch 6/150\n",
            "17/17 [==============================] - 0s 2ms/step - loss: 0.0019\n",
            "Epoch 7/150\n",
            "17/17 [==============================] - 0s 2ms/step - loss: 0.0019\n",
            "Epoch 8/150\n",
            "17/17 [==============================] - 0s 2ms/step - loss: 0.0012\n",
            "Epoch 9/150\n",
            "17/17 [==============================] - 0s 3ms/step - loss: 0.0025\n",
            "Epoch 10/150\n",
            "17/17 [==============================] - 0s 2ms/step - loss: 0.0016\n",
            "Epoch 11/150\n",
            "17/17 [==============================] - 0s 2ms/step - loss: 0.0015\n",
            "Epoch 12/150\n",
            "17/17 [==============================] - 0s 2ms/step - loss: 0.0010\n",
            "Epoch 13/150\n",
            "17/17 [==============================] - 0s 2ms/step - loss: 0.0011\n",
            "Epoch 14/150\n",
            "17/17 [==============================] - 0s 3ms/step - loss: 0.0014\n",
            "Epoch 15/150\n",
            "17/17 [==============================] - 0s 2ms/step - loss: 0.0015\n",
            "Epoch 16/150\n",
            "17/17 [==============================] - 0s 2ms/step - loss: 0.0016\n",
            "Epoch 17/150\n",
            "17/17 [==============================] - 0s 2ms/step - loss: 0.0017\n",
            "Epoch 18/150\n",
            "17/17 [==============================] - 0s 2ms/step - loss: 0.0021\n",
            "Epoch 19/150\n",
            "17/17 [==============================] - 0s 2ms/step - loss: 0.0014\n",
            "Epoch 20/150\n",
            "17/17 [==============================] - 0s 2ms/step - loss: 9.4290e-04\n",
            "Epoch 21/150\n",
            "17/17 [==============================] - 0s 2ms/step - loss: 0.0014\n",
            "Epoch 22/150\n",
            "17/17 [==============================] - 0s 2ms/step - loss: 0.0015\n",
            "Epoch 23/150\n",
            "17/17 [==============================] - 0s 2ms/step - loss: 0.0013\n",
            "Epoch 24/150\n",
            "17/17 [==============================] - 0s 2ms/step - loss: 7.5711e-04\n",
            "Epoch 25/150\n",
            "17/17 [==============================] - 0s 2ms/step - loss: 0.0017\n",
            "Epoch 26/150\n",
            "17/17 [==============================] - 0s 2ms/step - loss: 0.0012\n",
            "Epoch 27/150\n",
            "17/17 [==============================] - 0s 2ms/step - loss: 0.0022\n",
            "Epoch 28/150\n",
            "17/17 [==============================] - 0s 2ms/step - loss: 0.0016\n",
            "Epoch 29/150\n",
            "17/17 [==============================] - 0s 2ms/step - loss: 0.0012\n",
            "Epoch 30/150\n",
            "17/17 [==============================] - 0s 2ms/step - loss: 0.0013\n",
            "Epoch 31/150\n",
            "17/17 [==============================] - 0s 2ms/step - loss: 9.3611e-04\n",
            "Epoch 32/150\n",
            "17/17 [==============================] - 0s 2ms/step - loss: 0.0019\n",
            "Epoch 33/150\n",
            "17/17 [==============================] - 0s 2ms/step - loss: 0.0010\n",
            "Epoch 34/150\n",
            "17/17 [==============================] - 0s 2ms/step - loss: 0.0017\n",
            "Epoch 35/150\n",
            "17/17 [==============================] - 0s 2ms/step - loss: 0.0012\n",
            "Epoch 36/150\n",
            "17/17 [==============================] - 0s 2ms/step - loss: 0.0013\n",
            "Epoch 37/150\n",
            "17/17 [==============================] - 0s 2ms/step - loss: 7.6391e-04\n",
            "Epoch 38/150\n",
            "17/17 [==============================] - 0s 2ms/step - loss: 0.0016\n",
            "Epoch 39/150\n",
            "17/17 [==============================] - 0s 3ms/step - loss: 8.9833e-04\n",
            "Epoch 40/150\n",
            "17/17 [==============================] - 0s 2ms/step - loss: 9.4914e-04\n",
            "Epoch 41/150\n",
            "17/17 [==============================] - 0s 2ms/step - loss: 0.0012\n",
            "Epoch 42/150\n",
            "17/17 [==============================] - 0s 2ms/step - loss: 9.0469e-04\n",
            "Epoch 43/150\n",
            "17/17 [==============================] - 0s 2ms/step - loss: 8.0345e-04\n",
            "Epoch 44/150\n",
            "17/17 [==============================] - 0s 2ms/step - loss: 0.0012\n",
            "Epoch 45/150\n",
            "17/17 [==============================] - 0s 2ms/step - loss: 0.0012\n",
            "Epoch 46/150\n",
            "17/17 [==============================] - 0s 2ms/step - loss: 9.4924e-04\n",
            "Epoch 47/150\n",
            "17/17 [==============================] - 0s 2ms/step - loss: 7.9807e-04\n",
            "Epoch 48/150\n",
            "17/17 [==============================] - 0s 2ms/step - loss: 8.2843e-04\n",
            "Epoch 49/150\n",
            "17/17 [==============================] - 0s 2ms/step - loss: 0.0013\n",
            "Epoch 50/150\n",
            "17/17 [==============================] - 0s 2ms/step - loss: 9.4154e-04\n",
            "Epoch 51/150\n",
            "17/17 [==============================] - 0s 2ms/step - loss: 8.8660e-04\n",
            "Epoch 52/150\n",
            "17/17 [==============================] - 0s 2ms/step - loss: 0.0012\n",
            "Epoch 53/150\n",
            "17/17 [==============================] - 0s 2ms/step - loss: 9.1735e-04\n",
            "Epoch 54/150\n",
            "17/17 [==============================] - 0s 2ms/step - loss: 6.3777e-04\n",
            "Epoch 55/150\n",
            "17/17 [==============================] - 0s 2ms/step - loss: 9.1163e-04\n",
            "Epoch 56/150\n",
            "17/17 [==============================] - 0s 2ms/step - loss: 9.7257e-04\n",
            "Epoch 57/150\n",
            "17/17 [==============================] - 0s 2ms/step - loss: 8.3303e-04\n",
            "Epoch 58/150\n",
            "17/17 [==============================] - 0s 2ms/step - loss: 6.7491e-04\n",
            "Epoch 59/150\n",
            "17/17 [==============================] - 0s 2ms/step - loss: 8.8460e-04\n",
            "Epoch 60/150\n",
            "17/17 [==============================] - 0s 2ms/step - loss: 8.9826e-04\n",
            "Epoch 61/150\n",
            "17/17 [==============================] - 0s 2ms/step - loss: 9.1685e-04\n",
            "Epoch 62/150\n",
            "17/17 [==============================] - 0s 2ms/step - loss: 9.1305e-04\n",
            "Epoch 63/150\n",
            "17/17 [==============================] - 0s 3ms/step - loss: 0.0010\n",
            "Epoch 64/150\n",
            "17/17 [==============================] - 0s 2ms/step - loss: 8.9391e-04\n",
            "Epoch 65/150\n",
            "17/17 [==============================] - 0s 2ms/step - loss: 0.0012\n",
            "Epoch 66/150\n",
            "17/17 [==============================] - 0s 2ms/step - loss: 8.0469e-04\n",
            "Epoch 67/150\n",
            "17/17 [==============================] - 0s 2ms/step - loss: 8.4851e-04\n",
            "Epoch 68/150\n",
            "17/17 [==============================] - 0s 2ms/step - loss: 8.6180e-04\n",
            "Epoch 69/150\n",
            "17/17 [==============================] - 0s 2ms/step - loss: 0.0012\n",
            "Epoch 70/150\n",
            "17/17 [==============================] - 0s 2ms/step - loss: 8.2689e-04\n",
            "Epoch 71/150\n",
            "17/17 [==============================] - 0s 2ms/step - loss: 8.0392e-04\n",
            "Epoch 72/150\n",
            "17/17 [==============================] - 0s 2ms/step - loss: 9.5563e-04\n",
            "Epoch 73/150\n",
            "17/17 [==============================] - 0s 2ms/step - loss: 0.0011\n",
            "Epoch 74/150\n",
            "17/17 [==============================] - 0s 2ms/step - loss: 8.2870e-04\n",
            "Epoch 75/150\n",
            "17/17 [==============================] - 0s 2ms/step - loss: 9.9564e-04\n",
            "Epoch 76/150\n",
            "17/17 [==============================] - 0s 2ms/step - loss: 7.6451e-04\n",
            "Epoch 77/150\n",
            "17/17 [==============================] - 0s 2ms/step - loss: 7.7694e-04\n",
            "Epoch 78/150\n",
            "17/17 [==============================] - 0s 2ms/step - loss: 6.0683e-04\n",
            "Epoch 79/150\n",
            "17/17 [==============================] - 0s 2ms/step - loss: 8.0279e-04\n",
            "Epoch 80/150\n",
            "17/17 [==============================] - 0s 2ms/step - loss: 9.0184e-04\n",
            "Epoch 81/150\n",
            "17/17 [==============================] - 0s 2ms/step - loss: 0.0010\n",
            "Epoch 82/150\n",
            "17/17 [==============================] - 0s 2ms/step - loss: 8.2953e-04\n",
            "Epoch 83/150\n",
            "17/17 [==============================] - 0s 2ms/step - loss: 0.0013\n",
            "Epoch 84/150\n",
            "17/17 [==============================] - 0s 2ms/step - loss: 8.5806e-04\n",
            "Epoch 85/150\n",
            "17/17 [==============================] - 0s 2ms/step - loss: 8.8903e-04\n",
            "Epoch 86/150\n",
            "17/17 [==============================] - 0s 2ms/step - loss: 0.0010\n",
            "Epoch 87/150\n",
            "17/17 [==============================] - 0s 2ms/step - loss: 6.9008e-04\n",
            "Epoch 88/150\n",
            "17/17 [==============================] - 0s 2ms/step - loss: 9.8165e-04\n",
            "Epoch 89/150\n",
            "17/17 [==============================] - 0s 2ms/step - loss: 0.0015\n",
            "Epoch 90/150\n",
            "17/17 [==============================] - 0s 2ms/step - loss: 8.0362e-04\n",
            "Epoch 91/150\n",
            "17/17 [==============================] - 0s 2ms/step - loss: 6.2196e-04\n",
            "Epoch 92/150\n",
            "17/17 [==============================] - 0s 2ms/step - loss: 6.8948e-04\n",
            "Epoch 93/150\n",
            "17/17 [==============================] - 0s 2ms/step - loss: 9.2155e-04\n",
            "Epoch 94/150\n",
            "17/17 [==============================] - 0s 2ms/step - loss: 7.0709e-04\n",
            "Epoch 95/150\n",
            "17/17 [==============================] - 0s 2ms/step - loss: 7.9367e-04\n",
            "Epoch 96/150\n",
            "17/17 [==============================] - 0s 2ms/step - loss: 5.7738e-04\n",
            "Epoch 97/150\n",
            "17/17 [==============================] - 0s 2ms/step - loss: 9.0610e-04\n",
            "Epoch 98/150\n",
            "17/17 [==============================] - 0s 2ms/step - loss: 7.3426e-04\n",
            "Epoch 99/150\n",
            "17/17 [==============================] - 0s 2ms/step - loss: 9.2655e-04\n",
            "Epoch 100/150\n",
            "17/17 [==============================] - 0s 2ms/step - loss: 7.3598e-04\n",
            "Epoch 101/150\n",
            "17/17 [==============================] - 0s 2ms/step - loss: 7.1557e-04\n",
            "Epoch 102/150\n",
            "17/17 [==============================] - 0s 2ms/step - loss: 9.4492e-04\n",
            "Epoch 103/150\n",
            "17/17 [==============================] - 0s 2ms/step - loss: 7.5998e-04\n",
            "Epoch 104/150\n",
            "17/17 [==============================] - 0s 2ms/step - loss: 9.8674e-04\n",
            "Epoch 105/150\n",
            "17/17 [==============================] - 0s 2ms/step - loss: 7.3477e-04\n",
            "Epoch 106/150\n",
            "17/17 [==============================] - 0s 2ms/step - loss: 9.2136e-04\n",
            "Epoch 107/150\n",
            "17/17 [==============================] - 0s 2ms/step - loss: 7.1077e-04\n",
            "Epoch 108/150\n",
            "17/17 [==============================] - 0s 2ms/step - loss: 0.0011\n",
            "Epoch 109/150\n",
            "17/17 [==============================] - 0s 2ms/step - loss: 9.4483e-04\n",
            "Epoch 110/150\n",
            "17/17 [==============================] - 0s 2ms/step - loss: 5.6036e-04\n",
            "Epoch 111/150\n",
            "17/17 [==============================] - 0s 2ms/step - loss: 4.9496e-04\n",
            "Epoch 112/150\n",
            "17/17 [==============================] - 0s 3ms/step - loss: 5.8216e-04\n",
            "Epoch 113/150\n",
            "17/17 [==============================] - 0s 2ms/step - loss: 7.0215e-04\n",
            "Epoch 114/150\n",
            "17/17 [==============================] - 0s 2ms/step - loss: 8.4168e-04\n",
            "Epoch 115/150\n",
            "17/17 [==============================] - 0s 2ms/step - loss: 7.6842e-04\n",
            "Epoch 116/150\n",
            "17/17 [==============================] - 0s 2ms/step - loss: 7.4002e-04\n",
            "Epoch 117/150\n",
            "17/17 [==============================] - 0s 2ms/step - loss: 7.5312e-04\n",
            "Epoch 118/150\n",
            "17/17 [==============================] - 0s 2ms/step - loss: 6.5027e-04\n",
            "Epoch 119/150\n",
            "17/17 [==============================] - 0s 2ms/step - loss: 9.6183e-04\n",
            "Epoch 120/150\n",
            "17/17 [==============================] - 0s 2ms/step - loss: 7.0366e-04\n",
            "Epoch 121/150\n",
            "17/17 [==============================] - 0s 2ms/step - loss: 5.3663e-04\n",
            "Epoch 122/150\n",
            "17/17 [==============================] - 0s 2ms/step - loss: 9.2750e-04\n",
            "Epoch 123/150\n",
            "17/17 [==============================] - 0s 2ms/step - loss: 6.3269e-04\n",
            "Epoch 124/150\n",
            "17/17 [==============================] - 0s 2ms/step - loss: 7.2858e-04\n",
            "Epoch 125/150\n",
            "17/17 [==============================] - 0s 2ms/step - loss: 9.3376e-04\n",
            "Epoch 126/150\n",
            "17/17 [==============================] - 0s 2ms/step - loss: 7.7659e-04\n",
            "Epoch 127/150\n",
            "17/17 [==============================] - 0s 2ms/step - loss: 5.8147e-04\n",
            "Epoch 128/150\n",
            "17/17 [==============================] - 0s 2ms/step - loss: 8.7503e-04\n",
            "Epoch 129/150\n",
            "17/17 [==============================] - 0s 2ms/step - loss: 5.5812e-04\n",
            "Epoch 130/150\n",
            "17/17 [==============================] - 0s 2ms/step - loss: 9.0008e-04\n",
            "Epoch 131/150\n",
            "17/17 [==============================] - 0s 2ms/step - loss: 5.3445e-04\n",
            "Epoch 132/150\n",
            "17/17 [==============================] - 0s 2ms/step - loss: 6.3517e-04\n",
            "Epoch 133/150\n",
            "17/17 [==============================] - 0s 2ms/step - loss: 7.0466e-04\n",
            "Epoch 134/150\n",
            "17/17 [==============================] - 0s 2ms/step - loss: 7.0654e-04\n",
            "Epoch 135/150\n",
            "17/17 [==============================] - 0s 2ms/step - loss: 6.0626e-04\n",
            "Epoch 136/150\n",
            "17/17 [==============================] - 0s 2ms/step - loss: 5.6975e-04\n",
            "Epoch 137/150\n",
            "17/17 [==============================] - 0s 3ms/step - loss: 6.7496e-04\n",
            "Epoch 138/150\n",
            "17/17 [==============================] - 0s 2ms/step - loss: 7.8772e-04\n",
            "Epoch 139/150\n",
            "17/17 [==============================] - 0s 2ms/step - loss: 6.5597e-04\n",
            "Epoch 140/150\n",
            "17/17 [==============================] - 0s 2ms/step - loss: 6.4946e-04\n",
            "Epoch 141/150\n",
            "17/17 [==============================] - 0s 2ms/step - loss: 6.5301e-04\n",
            "Epoch 142/150\n",
            "17/17 [==============================] - 0s 2ms/step - loss: 6.3409e-04\n",
            "Epoch 143/150\n",
            "17/17 [==============================] - 0s 2ms/step - loss: 7.4290e-04\n",
            "Epoch 144/150\n",
            "17/17 [==============================] - 0s 2ms/step - loss: 8.0530e-04\n",
            "Epoch 145/150\n",
            "17/17 [==============================] - 0s 2ms/step - loss: 7.1685e-04\n",
            "Epoch 146/150\n",
            "17/17 [==============================] - 0s 2ms/step - loss: 6.9574e-04\n",
            "Epoch 147/150\n",
            "17/17 [==============================] - 0s 2ms/step - loss: 6.2104e-04\n",
            "Epoch 148/150\n",
            "17/17 [==============================] - 0s 2ms/step - loss: 5.6094e-04\n",
            "Epoch 149/150\n",
            "17/17 [==============================] - 0s 2ms/step - loss: 9.4383e-04\n",
            "Epoch 150/150\n",
            "17/17 [==============================] - 0s 2ms/step - loss: 6.6585e-04\n",
            "1/1 [==============================] - 0s 1ms/step - loss: 9.9167e-04\n"
          ],
          "name": "stdout"
        }
      ]
    },
    {
      "cell_type": "markdown",
      "metadata": {
        "id": "Y9PSkVSA50OG",
        "colab_type": "text"
      },
      "source": [
        "# Using best model to predict on X_train & X_test"
      ]
    },
    {
      "cell_type": "code",
      "metadata": {
        "id": "aBny6cUkO4xC",
        "colab_type": "code",
        "colab": {
          "base_uri": "https://localhost:8080/",
          "height": 51
        },
        "outputId": "29ba743d-784a-45ae-a354-5f1c63163352"
      },
      "source": [
        "# Prediction and check performance metric\n",
        "train_predict = best_param_model.predict(X_train)\n",
        "test_predict = best_param_model.predict(X_test)\n",
        "print(train_predict.shape)\n",
        "print(test_predict.shape)"
      ],
      "execution_count": 28,
      "outputs": [
        {
          "output_type": "stream",
          "text": [
            "(166, 1)\n",
            "(14, 1)\n"
          ],
          "name": "stdout"
        }
      ]
    },
    {
      "cell_type": "markdown",
      "metadata": {
        "id": "k4ocL2CLJLXg",
        "colab_type": "text"
      },
      "source": [
        "# Performance Metric\n",
        "\n",
        "\n",
        "\n"
      ]
    },
    {
      "cell_type": "code",
      "metadata": {
        "id": "DHXXILzqPUHQ",
        "colab_type": "code",
        "colab": {
          "base_uri": "https://localhost:8080/",
          "height": 51
        },
        "outputId": "1dcad38c-43de-4780-b22a-bd4224e0a712"
      },
      "source": [
        "print(mean_absolute_error(Y_train, train_predict))\n",
        "print(mean_absolute_error(Y_test, test_predict))"
      ],
      "execution_count": 29,
      "outputs": [
        {
          "output_type": "stream",
          "text": [
            "0.006935668718804135\n",
            "0.031324077713397715\n"
          ],
          "name": "stdout"
        }
      ]
    },
    {
      "cell_type": "code",
      "metadata": {
        "id": "fFNm7l86Pt_7",
        "colab_type": "code",
        "colab": {
          "base_uri": "https://localhost:8080/",
          "height": 51
        },
        "outputId": "7d7bac1e-d8fb-4eb8-a852-b273af61cf4f"
      },
      "source": [
        "print(mean_squared_error(Y_train, train_predict))\n",
        "print(mean_squared_error(Y_test, test_predict))"
      ],
      "execution_count": 30,
      "outputs": [
        {
          "output_type": "stream",
          "text": [
            "6.130886962946058e-05\n",
            "0.0009916748214821266\n"
          ],
          "name": "stdout"
        }
      ]
    },
    {
      "cell_type": "markdown",
      "metadata": {
        "id": "-nSW23ryI8RU",
        "colab_type": "text"
      },
      "source": [
        "# Plotting Train Prediction, Validation & Test Prediction Versus Actual Data"
      ]
    },
    {
      "cell_type": "code",
      "metadata": {
        "id": "WBscxGKwZVET",
        "colab_type": "code",
        "colab": {}
      },
      "source": [
        "# Transform back to original form\n",
        "train_predict=scaler.inverse_transform(train_predict)\n",
        "test_predict =scaler.inverse_transform(test_predict)\n"
      ],
      "execution_count": 31,
      "outputs": []
    },
    {
      "cell_type": "markdown",
      "metadata": {
        "id": "BfZWLp_hwblV",
        "colab_type": "text"
      },
      "source": [
        "### Train Predicted"
      ]
    },
    {
      "cell_type": "code",
      "metadata": {
        "id": "d0Q71RT9waLL",
        "colab_type": "code",
        "colab": {
          "base_uri": "https://localhost:8080/",
          "height": 357
        },
        "outputId": "50d69784-d72f-4ad4-ac7b-f6a89eedf460"
      },
      "source": [
        "look_back = 7\n",
        "\n",
        "trainPredictPlot = np.empty_like(new_dataset) # shape\n",
        "trainPredictPlot[:,:]= np.nan # values at 0\n",
        "trainPredictPlot[look_back:len(train_predict)+look_back] = train_predict # Populates: 7 -> 162 + 7 = 169\n",
        "\n",
        "trainPredictPlot = [item[0] for item in trainPredictPlot] \n",
        "plt.plot(trainPredictPlot, label=\"train_predict_price\")\n",
        "\n",
        "train_panda = pd.DataFrame(train_data)\n",
        "plt.plot(scaler.inverse_transform(train_panda), label=\"actual_price\")\n",
        "\n",
        "rcParams['figure.figsize'] = 15,6\n",
        "plt.title('Analysis of train and actual', size = 20)\n",
        "plt.ylabel('Price')\n",
        "plt.xlabel('Days')\n",
        "plt.legend()\n",
        "plt.show()"
      ],
      "execution_count": 32,
      "outputs": [
        {
          "output_type": "display_data",
          "data": {
            "image/png": "[encoded data removed]",
            "text/plain": [
              "<Figure size 1080x432 with 1 Axes>"
            ]
          },
          "metadata": {
            "tags": [],
            "needs_background": "light"
          }
        }
      ]
    },
    {
      "cell_type": "markdown",
      "metadata": {
        "id": "Fc6YFJvQjBGu",
        "colab_type": "text"
      },
      "source": [
        "## Using last 7 days of training data to predict validation data. \n",
        "\n"
      ]
    },
    {
      "cell_type": "code",
      "metadata": {
        "id": "yws-gX7RTB3Z",
        "colab_type": "code",
        "colab": {
          "base_uri": "https://localhost:8080/",
          "height": 136
        },
        "outputId": "881f1f07-58fd-4d1b-ee86-407eb5e51470"
      },
      "source": [
        "# Taking the last 7 days of test\n",
        "temp_input = train_data[-7:] # start, end \n",
        "temp_input"
      ],
      "execution_count": 33,
      "outputs": [
        {
          "output_type": "execute_result",
          "data": {
            "text/plain": [
              "array([[0.43777049],\n",
              "       [0.44748836],\n",
              "       [0.4572762 ],\n",
              "       [0.46712712],\n",
              "       [0.47703805],\n",
              "       [0.48700572],\n",
              "       [0.49702419]])"
            ]
          },
          "metadata": {
            "tags": []
          },
          "execution_count": 33
        }
      ]
    },
    {
      "cell_type": "code",
      "metadata": {
        "id": "CHAxzKyuTp5-",
        "colab_type": "code",
        "colab": {
          "base_uri": "https://localhost:8080/",
          "height": 54
        },
        "outputId": "2dec8d71-dba2-41c1-8879-9fb289dc104d"
      },
      "source": [
        "# Demonstrate prediction for the next 4 as an example(but 21) days:\n",
        "\n",
        "# Step 1. 7 days of feature = temp_input taken from the last 7 days of the training set\n",
        "# Step 2  i is the day you are on and we want to predict 4 days: 0,1,2,3 (4 days)\n",
        "# Step 3. Predict the 8th day on each of the 7 days,\n",
        "# Step 4. Add this new predicted day to the list\n",
        "# Step 5. Because we are now taking in the last 7 days + the new predicted value, the list is now size 8  \n",
        "# Step 6. In order to take in 7 days at a time, we shift 1 to the right.\n",
        "# Step 7. We reassign the X_train to the new 7 days\n",
        "# Step 8. We predict the 8th day of the 7 days and continue the process\n",
        "# Step 9. We then add the 8th day to the output list\n",
        "# Step 10. We keep track of the 4 days by incrementing by i at the end-> i = i+1\n",
        "# Step 11. Once we have predicted the 4 days, we return the list of 4 day values.\n",
        "\n",
        "custom_day = len(valset_data)\n",
        "lst_output=[]\n",
        "n_steps=7\n",
        "i=0\n",
        "X_input = temp_input\n",
        "# print(X_input)\n",
        "while(i<custom_day):\n",
        "  if(len(temp_input)>7):\n",
        "    # print(temp_input)  \n",
        "    X_input=array(temp_input[1:])\n",
        "    # print(\"{} day input {}\".format(i,X_input))\n",
        "    # Correct input shape (1,7,3)\n",
        "    X_input=X_input.reshape((1,n_steps,1, 1))\n",
        "    # Prediction of X_input\n",
        "    # print(X_input)\n",
        "    Y_hat = best_param_model.predict(X_input)\n",
        "    # print(Y_hat)\n",
        "    temp_input = np.append(temp_input, Y_hat)\n",
        "    temp_input=temp_input[1:]\n",
        "    lst_output.append(Y_hat[0][0])\n",
        "    i=i+1\n",
        "  else:\n",
        "    X_input=X_input.reshape((1,n_steps,1, 1))\n",
        "    Y_hat = best_param_model.predict(X_input, verbose=0)\n",
        "    # print(Y_hat)\n",
        "    temp_input = np.append(temp_input, Y_hat)\n",
        "    lst_output.append(Y_hat[0][0])\n",
        "    i=i+1\n",
        "print(lst_output)"
      ],
      "execution_count": 34,
      "outputs": [
        {
          "output_type": "stream",
          "text": [
            "[0.5101451, 0.5212409, 0.53223926, 0.54396206, 0.5559718, 0.5676692, 0.58007294, 0.5934805, 0.6062131, 0.6191, 0.63268363, 0.64644206, 0.66015977, 0.67450523, 0.6893221, 0.70400417, 0.7190067, 0.7345596, 0.7502961, 0.7662128, 0.7826546, 0.7994475]\n"
          ],
          "name": "stdout"
        }
      ]
    },
    {
      "cell_type": "markdown",
      "metadata": {
        "id": "-0DCdCn2jwxO",
        "colab_type": "text"
      },
      "source": [
        "## Plotting evaluation: Training Prediction of Validation Data"
      ]
    },
    {
      "cell_type": "code",
      "metadata": {
        "id": "z_5opaqHfcZt",
        "colab_type": "code",
        "colab": {
          "base_uri": "https://localhost:8080/",
          "height": 351
        },
        "outputId": "4711ef10-c67d-401d-8557-34b62d69393f"
      },
      "source": [
        "# Custom day plotted\n",
        "day_new = custom_day-1\n",
        "\n",
        "# Transform back to original value before normalised\n",
        "custom_day_prediction = np.array(lst_output)\n",
        "# print(\"Predicted validation:\")\n",
        "# print(custom_day_prediction)\n",
        "plt.plot(custom_day_prediction, label=\"Predicted Validation Data\")\n",
        "\n",
        "# Transform back to original value before normalised\n",
        "val_data = [item[0] for item in valset_data] \n",
        "custom_day_validation = val_data[:custom_day]\n",
        "# print(\"Actual validation:\")\n",
        "# print(custom_day_validation)\n",
        "plt.plot(custom_day_validation, label=\"Actual Validation Data\")\n",
        "\n",
        "rcParams['figure.figsize'] = 15,6\n",
        "plt.title('Training Prediction of Validation Data', size = 20)\n",
        "plt.xlabel('Days')\n",
        "plt.ylabel('Price')\n",
        "plt.legend()\n",
        "plt.show()\n"
      ],
      "execution_count": 35,
      "outputs": [
        {
          "output_type": "display_data",
          "data": {
            "image/png": "[encoded data removed]",
            "text/plain": [
              "<Figure size 1080x432 with 1 Axes>"
            ]
          },
          "metadata": {
            "tags": [],
            "needs_background": "light"
          }
        }
      ]
    },
    {
      "cell_type": "markdown",
      "metadata": {
        "id": "DWChpu5Lxk4T",
        "colab_type": "text"
      },
      "source": [
        "## Test Plot"
      ]
    },
    {
      "cell_type": "code",
      "metadata": {
        "id": "u9R3pohwxoIH",
        "colab_type": "code",
        "colab": {
          "base_uri": "https://localhost:8080/",
          "height": 351
        },
        "outputId": "1239fb44-f624-4fc7-ecf5-b51e95e235e3"
      },
      "source": [
        "look_back = 7\n",
        "\n",
        "testPredictPlot = np.empty_like(new_dataset)\n",
        "testPredictPlot[:,:]= np.nan\n",
        "testPredictPlot[look_back:len(test_predict)+look_back] = test_predict\n",
        "# 14 + (7*2) + 1 : 163 + 14 = test_predict\n",
        "# 22:177 = test predict\n",
        "\n",
        "testPredictPlot = [item[0] for item in testPredictPlot] \n",
        "plt.plot(testPredictPlot, label=\"test_predict\")\n",
        "\n",
        "test_panda = pd.DataFrame(test_data)\n",
        "plt.plot(scaler.inverse_transform(test_panda), label=\"actual_price\")\n",
        "\n",
        "rcParams['figure.figsize'] = 15,6\n",
        "plt.title('Analysis of train, test and actual', size = 20)\n",
        "plt.ylabel('Price')\n",
        "plt.xlabel('Days')\n",
        "plt.legend()\n",
        "plt.show()\n"
      ],
      "execution_count": 36,
      "outputs": [
        {
          "output_type": "display_data",
          "data": {
            "image/png": "[encoded data removed]",
            "text/plain": [
              "<Figure size 1080x432 with 1 Axes>"
            ]
          },
          "metadata": {
            "tags": [],
            "needs_background": "light"
          }
        }
      ]
    }
  ]
}